{
 "cells": [
  {
   "cell_type": "markdown",
   "metadata": {},
   "source": [
    "# Forecast of the loss of clients in the Bank"
   ]
  },
  {
   "cell_type": "markdown",
   "metadata": {},
   "source": [
    "# Content\n",
    "\n",
    "1. [Project Description](#section1)\n",
    "2. [Data Preparation](#section2)\n",
    "3. [Models training](#section3)\n",
    "4. [Combat to imbalance](#section4)\n",
    "5. [Models testing](#section5)\n",
    "6. [General conclusion](#section6)"
   ]
  },
  {
   "cell_type": "markdown",
   "metadata": {},
   "source": [
    "<a name=\"section1\"></a>\n",
    "# Project Description"
   ]
  },
  {
   "cell_type": "markdown",
   "metadata": {},
   "source": [
    "Company \"Beta bank\" has fased the loss of the clients. The clients are started to terminate the contracts with the bank every month. The quantity of clients who terminated the contact with the bank is not sufficient compare to the total quantity of clients. Marketing department of bank calculated that keep the currents clients is cheaper than to pull the new one to come.\n",
    "\n",
    "It's required to make a prediction of the locc of clients in nearest time. The historical data provided and has the information on clients behavior and contract termination with bank.\n",
    "\n",
    "It's required to train the model and get the **\"F1** score as high as possible. \n",
    "The value of **F1** equal to 0.59 or higher should be achieved. \n",
    "\n",
    "Additionaly it's requied to chechk *AUC-ROC* scores of models and compare it.\n",
    "\n",
    "Data original source: [https://www.kaggle.com/barelydedicated/bank-customer-churn-modeling](https://www.kaggle.com/barelydedicated/bank-customer-churn-modeling)"
   ]
  },
  {
   "cell_type": "markdown",
   "metadata": {},
   "source": [
    "<a name=\"section2\"></a>\n",
    "# Data preparation"
   ]
  },
  {
   "cell_type": "markdown",
   "metadata": {},
   "source": [
    "**Libraries import**"
   ]
  },
  {
   "cell_type": "code",
   "execution_count": 1,
   "metadata": {},
   "outputs": [],
   "source": [
    "import pandas as pd\n",
    "from sklearn.linear_model import LogisticRegression\n",
    "from sklearn.ensemble import RandomForestClassifier\n",
    "from sklearn.tree import DecisionTreeClassifier\n",
    "from sklearn.ensemble import RandomForestRegressor\n",
    "from sklearn.model_selection import train_test_split\n",
    "from sklearn.metrics import confusion_matrix\n",
    "from sklearn.metrics import recall_score\n",
    "from sklearn.metrics import precision_score\n",
    "from sklearn.metrics import f1_score\n",
    "import matplotlib.pyplot as plt\n",
    "from sklearn.metrics import roc_curve\n",
    "from sklearn.metrics import roc_auc_score\n",
    "from sklearn.metrics import r2_score\n",
    "from sklearn.metrics import mean_absolute_error\n",
    "from sklearn.metrics import accuracy_score\n",
    "from sklearn.utils import shuffle\n",
    "\n",
    "from sklearn.model_selection import RandomizedSearchCV\n",
    "from sklearn.model_selection import GridSearchCV\n",
    "import numpy as np"
   ]
  },
  {
   "cell_type": "code",
   "execution_count": 2,
   "metadata": {},
   "outputs": [],
   "source": [
    "import warnings\n",
    "warnings.simplefilter(action='ignore', category=FutureWarning)\n",
    "warnings.simplefilter(action='ignore', category=DeprecationWarning)\n",
    "warnings.simplefilter(action='ignore', category=RuntimeWarning)"
   ]
  },
  {
   "cell_type": "markdown",
   "metadata": {},
   "source": [
    "**Data loading and overview**"
   ]
  },
  {
   "cell_type": "code",
   "execution_count": 3,
   "metadata": {},
   "outputs": [
    {
     "data": {
      "text/html": [
       "<div>\n",
       "<style scoped>\n",
       "    .dataframe tbody tr th:only-of-type {\n",
       "        vertical-align: middle;\n",
       "    }\n",
       "\n",
       "    .dataframe tbody tr th {\n",
       "        vertical-align: top;\n",
       "    }\n",
       "\n",
       "    .dataframe thead th {\n",
       "        text-align: right;\n",
       "    }\n",
       "</style>\n",
       "<table border=\"1\" class=\"dataframe\">\n",
       "  <thead>\n",
       "    <tr style=\"text-align: right;\">\n",
       "      <th></th>\n",
       "      <th>RowNumber</th>\n",
       "      <th>CustomerId</th>\n",
       "      <th>Surname</th>\n",
       "      <th>CreditScore</th>\n",
       "      <th>Geography</th>\n",
       "      <th>Gender</th>\n",
       "      <th>Age</th>\n",
       "      <th>Tenure</th>\n",
       "      <th>Balance</th>\n",
       "      <th>NumOfProducts</th>\n",
       "      <th>HasCrCard</th>\n",
       "      <th>IsActiveMember</th>\n",
       "      <th>EstimatedSalary</th>\n",
       "      <th>Exited</th>\n",
       "    </tr>\n",
       "  </thead>\n",
       "  <tbody>\n",
       "    <tr>\n",
       "      <th>0</th>\n",
       "      <td>1</td>\n",
       "      <td>15634602</td>\n",
       "      <td>Hargrave</td>\n",
       "      <td>619</td>\n",
       "      <td>France</td>\n",
       "      <td>Female</td>\n",
       "      <td>42</td>\n",
       "      <td>2.0</td>\n",
       "      <td>0.00</td>\n",
       "      <td>1</td>\n",
       "      <td>1</td>\n",
       "      <td>1</td>\n",
       "      <td>101348.88</td>\n",
       "      <td>1</td>\n",
       "    </tr>\n",
       "    <tr>\n",
       "      <th>1</th>\n",
       "      <td>2</td>\n",
       "      <td>15647311</td>\n",
       "      <td>Hill</td>\n",
       "      <td>608</td>\n",
       "      <td>Spain</td>\n",
       "      <td>Female</td>\n",
       "      <td>41</td>\n",
       "      <td>1.0</td>\n",
       "      <td>83807.86</td>\n",
       "      <td>1</td>\n",
       "      <td>0</td>\n",
       "      <td>1</td>\n",
       "      <td>112542.58</td>\n",
       "      <td>0</td>\n",
       "    </tr>\n",
       "    <tr>\n",
       "      <th>2</th>\n",
       "      <td>3</td>\n",
       "      <td>15619304</td>\n",
       "      <td>Onio</td>\n",
       "      <td>502</td>\n",
       "      <td>France</td>\n",
       "      <td>Female</td>\n",
       "      <td>42</td>\n",
       "      <td>8.0</td>\n",
       "      <td>159660.80</td>\n",
       "      <td>3</td>\n",
       "      <td>1</td>\n",
       "      <td>0</td>\n",
       "      <td>113931.57</td>\n",
       "      <td>1</td>\n",
       "    </tr>\n",
       "    <tr>\n",
       "      <th>3</th>\n",
       "      <td>4</td>\n",
       "      <td>15701354</td>\n",
       "      <td>Boni</td>\n",
       "      <td>699</td>\n",
       "      <td>France</td>\n",
       "      <td>Female</td>\n",
       "      <td>39</td>\n",
       "      <td>1.0</td>\n",
       "      <td>0.00</td>\n",
       "      <td>2</td>\n",
       "      <td>0</td>\n",
       "      <td>0</td>\n",
       "      <td>93826.63</td>\n",
       "      <td>0</td>\n",
       "    </tr>\n",
       "    <tr>\n",
       "      <th>4</th>\n",
       "      <td>5</td>\n",
       "      <td>15737888</td>\n",
       "      <td>Mitchell</td>\n",
       "      <td>850</td>\n",
       "      <td>Spain</td>\n",
       "      <td>Female</td>\n",
       "      <td>43</td>\n",
       "      <td>2.0</td>\n",
       "      <td>125510.82</td>\n",
       "      <td>1</td>\n",
       "      <td>1</td>\n",
       "      <td>1</td>\n",
       "      <td>79084.10</td>\n",
       "      <td>0</td>\n",
       "    </tr>\n",
       "    <tr>\n",
       "      <th>5</th>\n",
       "      <td>6</td>\n",
       "      <td>15574012</td>\n",
       "      <td>Chu</td>\n",
       "      <td>645</td>\n",
       "      <td>Spain</td>\n",
       "      <td>Male</td>\n",
       "      <td>44</td>\n",
       "      <td>8.0</td>\n",
       "      <td>113755.78</td>\n",
       "      <td>2</td>\n",
       "      <td>1</td>\n",
       "      <td>0</td>\n",
       "      <td>149756.71</td>\n",
       "      <td>1</td>\n",
       "    </tr>\n",
       "    <tr>\n",
       "      <th>6</th>\n",
       "      <td>7</td>\n",
       "      <td>15592531</td>\n",
       "      <td>Bartlett</td>\n",
       "      <td>822</td>\n",
       "      <td>France</td>\n",
       "      <td>Male</td>\n",
       "      <td>50</td>\n",
       "      <td>7.0</td>\n",
       "      <td>0.00</td>\n",
       "      <td>2</td>\n",
       "      <td>1</td>\n",
       "      <td>1</td>\n",
       "      <td>10062.80</td>\n",
       "      <td>0</td>\n",
       "    </tr>\n",
       "    <tr>\n",
       "      <th>7</th>\n",
       "      <td>8</td>\n",
       "      <td>15656148</td>\n",
       "      <td>Obinna</td>\n",
       "      <td>376</td>\n",
       "      <td>Germany</td>\n",
       "      <td>Female</td>\n",
       "      <td>29</td>\n",
       "      <td>4.0</td>\n",
       "      <td>115046.74</td>\n",
       "      <td>4</td>\n",
       "      <td>1</td>\n",
       "      <td>0</td>\n",
       "      <td>119346.88</td>\n",
       "      <td>1</td>\n",
       "    </tr>\n",
       "    <tr>\n",
       "      <th>8</th>\n",
       "      <td>9</td>\n",
       "      <td>15792365</td>\n",
       "      <td>He</td>\n",
       "      <td>501</td>\n",
       "      <td>France</td>\n",
       "      <td>Male</td>\n",
       "      <td>44</td>\n",
       "      <td>4.0</td>\n",
       "      <td>142051.07</td>\n",
       "      <td>2</td>\n",
       "      <td>0</td>\n",
       "      <td>1</td>\n",
       "      <td>74940.50</td>\n",
       "      <td>0</td>\n",
       "    </tr>\n",
       "    <tr>\n",
       "      <th>9</th>\n",
       "      <td>10</td>\n",
       "      <td>15592389</td>\n",
       "      <td>H?</td>\n",
       "      <td>684</td>\n",
       "      <td>France</td>\n",
       "      <td>Male</td>\n",
       "      <td>27</td>\n",
       "      <td>2.0</td>\n",
       "      <td>134603.88</td>\n",
       "      <td>1</td>\n",
       "      <td>1</td>\n",
       "      <td>1</td>\n",
       "      <td>71725.73</td>\n",
       "      <td>0</td>\n",
       "    </tr>\n",
       "    <tr>\n",
       "      <th>10</th>\n",
       "      <td>11</td>\n",
       "      <td>15767821</td>\n",
       "      <td>Bearce</td>\n",
       "      <td>528</td>\n",
       "      <td>France</td>\n",
       "      <td>Male</td>\n",
       "      <td>31</td>\n",
       "      <td>6.0</td>\n",
       "      <td>102016.72</td>\n",
       "      <td>2</td>\n",
       "      <td>0</td>\n",
       "      <td>0</td>\n",
       "      <td>80181.12</td>\n",
       "      <td>0</td>\n",
       "    </tr>\n",
       "    <tr>\n",
       "      <th>11</th>\n",
       "      <td>12</td>\n",
       "      <td>15737173</td>\n",
       "      <td>Andrews</td>\n",
       "      <td>497</td>\n",
       "      <td>Spain</td>\n",
       "      <td>Male</td>\n",
       "      <td>24</td>\n",
       "      <td>3.0</td>\n",
       "      <td>0.00</td>\n",
       "      <td>2</td>\n",
       "      <td>1</td>\n",
       "      <td>0</td>\n",
       "      <td>76390.01</td>\n",
       "      <td>0</td>\n",
       "    </tr>\n",
       "    <tr>\n",
       "      <th>12</th>\n",
       "      <td>13</td>\n",
       "      <td>15632264</td>\n",
       "      <td>Kay</td>\n",
       "      <td>476</td>\n",
       "      <td>France</td>\n",
       "      <td>Female</td>\n",
       "      <td>34</td>\n",
       "      <td>10.0</td>\n",
       "      <td>0.00</td>\n",
       "      <td>2</td>\n",
       "      <td>1</td>\n",
       "      <td>0</td>\n",
       "      <td>26260.98</td>\n",
       "      <td>0</td>\n",
       "    </tr>\n",
       "    <tr>\n",
       "      <th>13</th>\n",
       "      <td>14</td>\n",
       "      <td>15691483</td>\n",
       "      <td>Chin</td>\n",
       "      <td>549</td>\n",
       "      <td>France</td>\n",
       "      <td>Female</td>\n",
       "      <td>25</td>\n",
       "      <td>5.0</td>\n",
       "      <td>0.00</td>\n",
       "      <td>2</td>\n",
       "      <td>0</td>\n",
       "      <td>0</td>\n",
       "      <td>190857.79</td>\n",
       "      <td>0</td>\n",
       "    </tr>\n",
       "    <tr>\n",
       "      <th>14</th>\n",
       "      <td>15</td>\n",
       "      <td>15600882</td>\n",
       "      <td>Scott</td>\n",
       "      <td>635</td>\n",
       "      <td>Spain</td>\n",
       "      <td>Female</td>\n",
       "      <td>35</td>\n",
       "      <td>7.0</td>\n",
       "      <td>0.00</td>\n",
       "      <td>2</td>\n",
       "      <td>1</td>\n",
       "      <td>1</td>\n",
       "      <td>65951.65</td>\n",
       "      <td>0</td>\n",
       "    </tr>\n",
       "  </tbody>\n",
       "</table>\n",
       "</div>"
      ],
      "text/plain": [
       "    RowNumber  CustomerId   Surname  CreditScore Geography  Gender  Age  \\\n",
       "0           1    15634602  Hargrave          619    France  Female   42   \n",
       "1           2    15647311      Hill          608     Spain  Female   41   \n",
       "2           3    15619304      Onio          502    France  Female   42   \n",
       "3           4    15701354      Boni          699    France  Female   39   \n",
       "4           5    15737888  Mitchell          850     Spain  Female   43   \n",
       "5           6    15574012       Chu          645     Spain    Male   44   \n",
       "6           7    15592531  Bartlett          822    France    Male   50   \n",
       "7           8    15656148    Obinna          376   Germany  Female   29   \n",
       "8           9    15792365        He          501    France    Male   44   \n",
       "9          10    15592389        H?          684    France    Male   27   \n",
       "10         11    15767821    Bearce          528    France    Male   31   \n",
       "11         12    15737173   Andrews          497     Spain    Male   24   \n",
       "12         13    15632264       Kay          476    France  Female   34   \n",
       "13         14    15691483      Chin          549    France  Female   25   \n",
       "14         15    15600882     Scott          635     Spain  Female   35   \n",
       "\n",
       "    Tenure    Balance  NumOfProducts  HasCrCard  IsActiveMember  \\\n",
       "0      2.0       0.00              1          1               1   \n",
       "1      1.0   83807.86              1          0               1   \n",
       "2      8.0  159660.80              3          1               0   \n",
       "3      1.0       0.00              2          0               0   \n",
       "4      2.0  125510.82              1          1               1   \n",
       "5      8.0  113755.78              2          1               0   \n",
       "6      7.0       0.00              2          1               1   \n",
       "7      4.0  115046.74              4          1               0   \n",
       "8      4.0  142051.07              2          0               1   \n",
       "9      2.0  134603.88              1          1               1   \n",
       "10     6.0  102016.72              2          0               0   \n",
       "11     3.0       0.00              2          1               0   \n",
       "12    10.0       0.00              2          1               0   \n",
       "13     5.0       0.00              2          0               0   \n",
       "14     7.0       0.00              2          1               1   \n",
       "\n",
       "    EstimatedSalary  Exited  \n",
       "0         101348.88       1  \n",
       "1         112542.58       0  \n",
       "2         113931.57       1  \n",
       "3          93826.63       0  \n",
       "4          79084.10       0  \n",
       "5         149756.71       1  \n",
       "6          10062.80       0  \n",
       "7         119346.88       1  \n",
       "8          74940.50       0  \n",
       "9          71725.73       0  \n",
       "10         80181.12       0  \n",
       "11         76390.01       0  \n",
       "12         26260.98       0  \n",
       "13        190857.79       0  \n",
       "14         65951.65       0  "
      ]
     },
     "execution_count": 3,
     "metadata": {},
     "output_type": "execute_result"
    }
   ],
   "source": [
    "data = pd.read_csv('Churn.csv')\n",
    "data.head(15)"
   ]
  },
  {
   "cell_type": "code",
   "execution_count": 4,
   "metadata": {},
   "outputs": [
    {
     "name": "stdout",
     "output_type": "stream",
     "text": [
      "<class 'pandas.core.frame.DataFrame'>\n",
      "RangeIndex: 10000 entries, 0 to 9999\n",
      "Data columns (total 14 columns):\n",
      " #   Column           Non-Null Count  Dtype  \n",
      "---  ------           --------------  -----  \n",
      " 0   RowNumber        10000 non-null  int64  \n",
      " 1   CustomerId       10000 non-null  int64  \n",
      " 2   Surname          10000 non-null  object \n",
      " 3   CreditScore      10000 non-null  int64  \n",
      " 4   Geography        10000 non-null  object \n",
      " 5   Gender           10000 non-null  object \n",
      " 6   Age              10000 non-null  int64  \n",
      " 7   Tenure           9091 non-null   float64\n",
      " 8   Balance          10000 non-null  float64\n",
      " 9   NumOfProducts    10000 non-null  int64  \n",
      " 10  HasCrCard        10000 non-null  int64  \n",
      " 11  IsActiveMember   10000 non-null  int64  \n",
      " 12  EstimatedSalary  10000 non-null  float64\n",
      " 13  Exited           10000 non-null  int64  \n",
      "dtypes: float64(3), int64(8), object(3)\n",
      "memory usage: 1.1+ MB\n"
     ]
    }
   ],
   "source": [
    "data.info()"
   ]
  },
  {
   "cell_type": "code",
   "execution_count": 5,
   "metadata": {
    "scrolled": false
   },
   "outputs": [
    {
     "data": {
      "text/html": [
       "<div>\n",
       "<style scoped>\n",
       "    .dataframe tbody tr th:only-of-type {\n",
       "        vertical-align: middle;\n",
       "    }\n",
       "\n",
       "    .dataframe tbody tr th {\n",
       "        vertical-align: top;\n",
       "    }\n",
       "\n",
       "    .dataframe thead th {\n",
       "        text-align: right;\n",
       "    }\n",
       "</style>\n",
       "<table border=\"1\" class=\"dataframe\">\n",
       "  <thead>\n",
       "    <tr style=\"text-align: right;\">\n",
       "      <th></th>\n",
       "      <th>RowNumber</th>\n",
       "      <th>CustomerId</th>\n",
       "      <th>Surname</th>\n",
       "      <th>CreditScore</th>\n",
       "      <th>Geography</th>\n",
       "      <th>Gender</th>\n",
       "      <th>Age</th>\n",
       "      <th>Tenure</th>\n",
       "      <th>Balance</th>\n",
       "      <th>NumOfProducts</th>\n",
       "      <th>HasCrCard</th>\n",
       "      <th>IsActiveMember</th>\n",
       "      <th>EstimatedSalary</th>\n",
       "      <th>Exited</th>\n",
       "    </tr>\n",
       "  </thead>\n",
       "  <tbody>\n",
       "    <tr>\n",
       "      <th>6546</th>\n",
       "      <td>6547</td>\n",
       "      <td>15633840</td>\n",
       "      <td>Henderson</td>\n",
       "      <td>781</td>\n",
       "      <td>France</td>\n",
       "      <td>Male</td>\n",
       "      <td>20</td>\n",
       "      <td>0.0</td>\n",
       "      <td>125023.10</td>\n",
       "      <td>2</td>\n",
       "      <td>1</td>\n",
       "      <td>1</td>\n",
       "      <td>108301.45</td>\n",
       "      <td>0</td>\n",
       "    </tr>\n",
       "    <tr>\n",
       "      <th>2622</th>\n",
       "      <td>2623</td>\n",
       "      <td>15787026</td>\n",
       "      <td>Onwuatuegwu</td>\n",
       "      <td>627</td>\n",
       "      <td>Germany</td>\n",
       "      <td>Male</td>\n",
       "      <td>27</td>\n",
       "      <td>0.0</td>\n",
       "      <td>185267.45</td>\n",
       "      <td>2</td>\n",
       "      <td>1</td>\n",
       "      <td>1</td>\n",
       "      <td>77027.34</td>\n",
       "      <td>0</td>\n",
       "    </tr>\n",
       "    <tr>\n",
       "      <th>886</th>\n",
       "      <td>887</td>\n",
       "      <td>15591711</td>\n",
       "      <td>Sleeman</td>\n",
       "      <td>739</td>\n",
       "      <td>Spain</td>\n",
       "      <td>Male</td>\n",
       "      <td>38</td>\n",
       "      <td>0.0</td>\n",
       "      <td>128366.44</td>\n",
       "      <td>1</td>\n",
       "      <td>1</td>\n",
       "      <td>0</td>\n",
       "      <td>12796.43</td>\n",
       "      <td>0</td>\n",
       "    </tr>\n",
       "    <tr>\n",
       "      <th>4532</th>\n",
       "      <td>4533</td>\n",
       "      <td>15739194</td>\n",
       "      <td>Manfrin</td>\n",
       "      <td>548</td>\n",
       "      <td>Spain</td>\n",
       "      <td>Male</td>\n",
       "      <td>38</td>\n",
       "      <td>0.0</td>\n",
       "      <td>178056.54</td>\n",
       "      <td>2</td>\n",
       "      <td>1</td>\n",
       "      <td>0</td>\n",
       "      <td>38434.73</td>\n",
       "      <td>0</td>\n",
       "    </tr>\n",
       "    <tr>\n",
       "      <th>8213</th>\n",
       "      <td>8214</td>\n",
       "      <td>15748352</td>\n",
       "      <td>Endrizzi</td>\n",
       "      <td>598</td>\n",
       "      <td>Spain</td>\n",
       "      <td>Male</td>\n",
       "      <td>34</td>\n",
       "      <td>0.0</td>\n",
       "      <td>104488.17</td>\n",
       "      <td>1</td>\n",
       "      <td>0</td>\n",
       "      <td>1</td>\n",
       "      <td>43249.67</td>\n",
       "      <td>0</td>\n",
       "    </tr>\n",
       "    <tr>\n",
       "      <th>...</th>\n",
       "      <td>...</td>\n",
       "      <td>...</td>\n",
       "      <td>...</td>\n",
       "      <td>...</td>\n",
       "      <td>...</td>\n",
       "      <td>...</td>\n",
       "      <td>...</td>\n",
       "      <td>...</td>\n",
       "      <td>...</td>\n",
       "      <td>...</td>\n",
       "      <td>...</td>\n",
       "      <td>...</td>\n",
       "      <td>...</td>\n",
       "      <td>...</td>\n",
       "    </tr>\n",
       "    <tr>\n",
       "      <th>9944</th>\n",
       "      <td>9945</td>\n",
       "      <td>15703923</td>\n",
       "      <td>Cameron</td>\n",
       "      <td>744</td>\n",
       "      <td>Germany</td>\n",
       "      <td>Male</td>\n",
       "      <td>41</td>\n",
       "      <td>NaN</td>\n",
       "      <td>190409.34</td>\n",
       "      <td>2</td>\n",
       "      <td>1</td>\n",
       "      <td>1</td>\n",
       "      <td>138361.48</td>\n",
       "      <td>0</td>\n",
       "    </tr>\n",
       "    <tr>\n",
       "      <th>9956</th>\n",
       "      <td>9957</td>\n",
       "      <td>15707861</td>\n",
       "      <td>Nucci</td>\n",
       "      <td>520</td>\n",
       "      <td>France</td>\n",
       "      <td>Female</td>\n",
       "      <td>46</td>\n",
       "      <td>NaN</td>\n",
       "      <td>85216.61</td>\n",
       "      <td>1</td>\n",
       "      <td>1</td>\n",
       "      <td>0</td>\n",
       "      <td>117369.52</td>\n",
       "      <td>1</td>\n",
       "    </tr>\n",
       "    <tr>\n",
       "      <th>9964</th>\n",
       "      <td>9965</td>\n",
       "      <td>15642785</td>\n",
       "      <td>Douglas</td>\n",
       "      <td>479</td>\n",
       "      <td>France</td>\n",
       "      <td>Male</td>\n",
       "      <td>34</td>\n",
       "      <td>NaN</td>\n",
       "      <td>117593.48</td>\n",
       "      <td>2</td>\n",
       "      <td>0</td>\n",
       "      <td>0</td>\n",
       "      <td>113308.29</td>\n",
       "      <td>0</td>\n",
       "    </tr>\n",
       "    <tr>\n",
       "      <th>9985</th>\n",
       "      <td>9986</td>\n",
       "      <td>15586914</td>\n",
       "      <td>Nepean</td>\n",
       "      <td>659</td>\n",
       "      <td>France</td>\n",
       "      <td>Male</td>\n",
       "      <td>36</td>\n",
       "      <td>NaN</td>\n",
       "      <td>123841.49</td>\n",
       "      <td>2</td>\n",
       "      <td>1</td>\n",
       "      <td>0</td>\n",
       "      <td>96833.00</td>\n",
       "      <td>0</td>\n",
       "    </tr>\n",
       "    <tr>\n",
       "      <th>9999</th>\n",
       "      <td>10000</td>\n",
       "      <td>15628319</td>\n",
       "      <td>Walker</td>\n",
       "      <td>792</td>\n",
       "      <td>France</td>\n",
       "      <td>Female</td>\n",
       "      <td>28</td>\n",
       "      <td>NaN</td>\n",
       "      <td>130142.79</td>\n",
       "      <td>1</td>\n",
       "      <td>1</td>\n",
       "      <td>0</td>\n",
       "      <td>38190.78</td>\n",
       "      <td>0</td>\n",
       "    </tr>\n",
       "  </tbody>\n",
       "</table>\n",
       "<p>10000 rows × 14 columns</p>\n",
       "</div>"
      ],
      "text/plain": [
       "      RowNumber  CustomerId      Surname  CreditScore Geography  Gender  Age  \\\n",
       "6546       6547    15633840    Henderson          781    France    Male   20   \n",
       "2622       2623    15787026  Onwuatuegwu          627   Germany    Male   27   \n",
       "886         887    15591711      Sleeman          739     Spain    Male   38   \n",
       "4532       4533    15739194      Manfrin          548     Spain    Male   38   \n",
       "8213       8214    15748352     Endrizzi          598     Spain    Male   34   \n",
       "...         ...         ...          ...          ...       ...     ...  ...   \n",
       "9944       9945    15703923      Cameron          744   Germany    Male   41   \n",
       "9956       9957    15707861        Nucci          520    France  Female   46   \n",
       "9964       9965    15642785      Douglas          479    France    Male   34   \n",
       "9985       9986    15586914       Nepean          659    France    Male   36   \n",
       "9999      10000    15628319       Walker          792    France  Female   28   \n",
       "\n",
       "      Tenure    Balance  NumOfProducts  HasCrCard  IsActiveMember  \\\n",
       "6546     0.0  125023.10              2          1               1   \n",
       "2622     0.0  185267.45              2          1               1   \n",
       "886      0.0  128366.44              1          1               0   \n",
       "4532     0.0  178056.54              2          1               0   \n",
       "8213     0.0  104488.17              1          0               1   \n",
       "...      ...        ...            ...        ...             ...   \n",
       "9944     NaN  190409.34              2          1               1   \n",
       "9956     NaN   85216.61              1          1               0   \n",
       "9964     NaN  117593.48              2          0               0   \n",
       "9985     NaN  123841.49              2          1               0   \n",
       "9999     NaN  130142.79              1          1               0   \n",
       "\n",
       "      EstimatedSalary  Exited  \n",
       "6546        108301.45       0  \n",
       "2622         77027.34       0  \n",
       "886          12796.43       0  \n",
       "4532         38434.73       0  \n",
       "8213         43249.67       0  \n",
       "...               ...     ...  \n",
       "9944        138361.48       0  \n",
       "9956        117369.52       1  \n",
       "9964        113308.29       0  \n",
       "9985         96833.00       0  \n",
       "9999         38190.78       0  \n",
       "\n",
       "[10000 rows x 14 columns]"
      ]
     },
     "execution_count": 5,
     "metadata": {},
     "output_type": "execute_result"
    }
   ],
   "source": [
    "data.sort_values(by='Tenure')"
   ]
  },
  {
   "cell_type": "code",
   "execution_count": 6,
   "metadata": {},
   "outputs": [
    {
     "data": {
      "text/plain": [
       "0"
      ]
     },
     "execution_count": 6,
     "metadata": {},
     "output_type": "execute_result"
    }
   ],
   "source": [
    "data.query('Tenure == \"NaN\"')['RowNumber'].count()"
   ]
  },
  {
   "cell_type": "code",
   "execution_count": 7,
   "metadata": {},
   "outputs": [
    {
     "data": {
      "text/html": [
       "<div>\n",
       "<style scoped>\n",
       "    .dataframe tbody tr th:only-of-type {\n",
       "        vertical-align: middle;\n",
       "    }\n",
       "\n",
       "    .dataframe tbody tr th {\n",
       "        vertical-align: top;\n",
       "    }\n",
       "\n",
       "    .dataframe thead th {\n",
       "        text-align: right;\n",
       "    }\n",
       "</style>\n",
       "<table border=\"1\" class=\"dataframe\">\n",
       "  <thead>\n",
       "    <tr style=\"text-align: right;\">\n",
       "      <th></th>\n",
       "      <th>RowNumber</th>\n",
       "      <th>CustomerId</th>\n",
       "      <th>Surname</th>\n",
       "      <th>CreditScore</th>\n",
       "      <th>Geography</th>\n",
       "      <th>Gender</th>\n",
       "      <th>Age</th>\n",
       "      <th>Tenure</th>\n",
       "      <th>Balance</th>\n",
       "      <th>NumOfProducts</th>\n",
       "      <th>HasCrCard</th>\n",
       "      <th>IsActiveMember</th>\n",
       "      <th>EstimatedSalary</th>\n",
       "      <th>Exited</th>\n",
       "    </tr>\n",
       "  </thead>\n",
       "  <tbody>\n",
       "    <tr>\n",
       "      <th>9999</th>\n",
       "      <td>10000</td>\n",
       "      <td>15628319</td>\n",
       "      <td>Walker</td>\n",
       "      <td>792</td>\n",
       "      <td>France</td>\n",
       "      <td>Female</td>\n",
       "      <td>28</td>\n",
       "      <td>0.0</td>\n",
       "      <td>130142.79</td>\n",
       "      <td>1</td>\n",
       "      <td>1</td>\n",
       "      <td>0</td>\n",
       "      <td>38190.78</td>\n",
       "      <td>0</td>\n",
       "    </tr>\n",
       "    <tr>\n",
       "      <th>6220</th>\n",
       "      <td>6221</td>\n",
       "      <td>15716926</td>\n",
       "      <td>Macleod</td>\n",
       "      <td>807</td>\n",
       "      <td>France</td>\n",
       "      <td>Male</td>\n",
       "      <td>33</td>\n",
       "      <td>0.0</td>\n",
       "      <td>101952.97</td>\n",
       "      <td>2</td>\n",
       "      <td>1</td>\n",
       "      <td>0</td>\n",
       "      <td>178153.65</td>\n",
       "      <td>0</td>\n",
       "    </tr>\n",
       "    <tr>\n",
       "      <th>6221</th>\n",
       "      <td>6222</td>\n",
       "      <td>15603554</td>\n",
       "      <td>Berkeley</td>\n",
       "      <td>513</td>\n",
       "      <td>France</td>\n",
       "      <td>Female</td>\n",
       "      <td>45</td>\n",
       "      <td>0.0</td>\n",
       "      <td>164649.52</td>\n",
       "      <td>3</td>\n",
       "      <td>1</td>\n",
       "      <td>0</td>\n",
       "      <td>49915.52</td>\n",
       "      <td>1</td>\n",
       "    </tr>\n",
       "    <tr>\n",
       "      <th>6223</th>\n",
       "      <td>6224</td>\n",
       "      <td>15679429</td>\n",
       "      <td>Bell</td>\n",
       "      <td>694</td>\n",
       "      <td>France</td>\n",
       "      <td>Male</td>\n",
       "      <td>32</td>\n",
       "      <td>0.0</td>\n",
       "      <td>91956.49</td>\n",
       "      <td>1</td>\n",
       "      <td>1</td>\n",
       "      <td>1</td>\n",
       "      <td>59961.81</td>\n",
       "      <td>0</td>\n",
       "    </tr>\n",
       "    <tr>\n",
       "      <th>6225</th>\n",
       "      <td>6226</td>\n",
       "      <td>15742172</td>\n",
       "      <td>Williamson</td>\n",
       "      <td>598</td>\n",
       "      <td>Germany</td>\n",
       "      <td>Male</td>\n",
       "      <td>32</td>\n",
       "      <td>0.0</td>\n",
       "      <td>123938.60</td>\n",
       "      <td>2</td>\n",
       "      <td>1</td>\n",
       "      <td>0</td>\n",
       "      <td>198894.42</td>\n",
       "      <td>0</td>\n",
       "    </tr>\n",
       "    <tr>\n",
       "      <th>...</th>\n",
       "      <td>...</td>\n",
       "      <td>...</td>\n",
       "      <td>...</td>\n",
       "      <td>...</td>\n",
       "      <td>...</td>\n",
       "      <td>...</td>\n",
       "      <td>...</td>\n",
       "      <td>...</td>\n",
       "      <td>...</td>\n",
       "      <td>...</td>\n",
       "      <td>...</td>\n",
       "      <td>...</td>\n",
       "      <td>...</td>\n",
       "      <td>...</td>\n",
       "    </tr>\n",
       "    <tr>\n",
       "      <th>7579</th>\n",
       "      <td>7580</td>\n",
       "      <td>15649101</td>\n",
       "      <td>Reeves</td>\n",
       "      <td>601</td>\n",
       "      <td>France</td>\n",
       "      <td>Male</td>\n",
       "      <td>40</td>\n",
       "      <td>10.0</td>\n",
       "      <td>127847.86</td>\n",
       "      <td>1</td>\n",
       "      <td>0</td>\n",
       "      <td>0</td>\n",
       "      <td>173245.68</td>\n",
       "      <td>0</td>\n",
       "    </tr>\n",
       "    <tr>\n",
       "      <th>7565</th>\n",
       "      <td>7566</td>\n",
       "      <td>15623369</td>\n",
       "      <td>Clifton</td>\n",
       "      <td>708</td>\n",
       "      <td>France</td>\n",
       "      <td>Male</td>\n",
       "      <td>52</td>\n",
       "      <td>10.0</td>\n",
       "      <td>105355.81</td>\n",
       "      <td>1</td>\n",
       "      <td>1</td>\n",
       "      <td>0</td>\n",
       "      <td>123.07</td>\n",
       "      <td>1</td>\n",
       "    </tr>\n",
       "    <tr>\n",
       "      <th>1619</th>\n",
       "      <td>1620</td>\n",
       "      <td>15770309</td>\n",
       "      <td>McDonald</td>\n",
       "      <td>656</td>\n",
       "      <td>France</td>\n",
       "      <td>Male</td>\n",
       "      <td>18</td>\n",
       "      <td>10.0</td>\n",
       "      <td>151762.74</td>\n",
       "      <td>1</td>\n",
       "      <td>0</td>\n",
       "      <td>1</td>\n",
       "      <td>127014.32</td>\n",
       "      <td>0</td>\n",
       "    </tr>\n",
       "    <tr>\n",
       "      <th>3135</th>\n",
       "      <td>3136</td>\n",
       "      <td>15753874</td>\n",
       "      <td>Kent</td>\n",
       "      <td>694</td>\n",
       "      <td>France</td>\n",
       "      <td>Male</td>\n",
       "      <td>37</td>\n",
       "      <td>10.0</td>\n",
       "      <td>143835.47</td>\n",
       "      <td>1</td>\n",
       "      <td>0</td>\n",
       "      <td>1</td>\n",
       "      <td>33326.71</td>\n",
       "      <td>0</td>\n",
       "    </tr>\n",
       "    <tr>\n",
       "      <th>4863</th>\n",
       "      <td>4864</td>\n",
       "      <td>15640491</td>\n",
       "      <td>Raff</td>\n",
       "      <td>464</td>\n",
       "      <td>France</td>\n",
       "      <td>Female</td>\n",
       "      <td>33</td>\n",
       "      <td>10.0</td>\n",
       "      <td>147493.70</td>\n",
       "      <td>2</td>\n",
       "      <td>1</td>\n",
       "      <td>0</td>\n",
       "      <td>100447.53</td>\n",
       "      <td>0</td>\n",
       "    </tr>\n",
       "  </tbody>\n",
       "</table>\n",
       "<p>10000 rows × 14 columns</p>\n",
       "</div>"
      ],
      "text/plain": [
       "      RowNumber  CustomerId     Surname  CreditScore Geography  Gender  Age  \\\n",
       "9999      10000    15628319      Walker          792    France  Female   28   \n",
       "6220       6221    15716926     Macleod          807    France    Male   33   \n",
       "6221       6222    15603554    Berkeley          513    France  Female   45   \n",
       "6223       6224    15679429        Bell          694    France    Male   32   \n",
       "6225       6226    15742172  Williamson          598   Germany    Male   32   \n",
       "...         ...         ...         ...          ...       ...     ...  ...   \n",
       "7579       7580    15649101      Reeves          601    France    Male   40   \n",
       "7565       7566    15623369     Clifton          708    France    Male   52   \n",
       "1619       1620    15770309    McDonald          656    France    Male   18   \n",
       "3135       3136    15753874        Kent          694    France    Male   37   \n",
       "4863       4864    15640491        Raff          464    France  Female   33   \n",
       "\n",
       "      Tenure    Balance  NumOfProducts  HasCrCard  IsActiveMember  \\\n",
       "9999     0.0  130142.79              1          1               0   \n",
       "6220     0.0  101952.97              2          1               0   \n",
       "6221     0.0  164649.52              3          1               0   \n",
       "6223     0.0   91956.49              1          1               1   \n",
       "6225     0.0  123938.60              2          1               0   \n",
       "...      ...        ...            ...        ...             ...   \n",
       "7579    10.0  127847.86              1          0               0   \n",
       "7565    10.0  105355.81              1          1               0   \n",
       "1619    10.0  151762.74              1          0               1   \n",
       "3135    10.0  143835.47              1          0               1   \n",
       "4863    10.0  147493.70              2          1               0   \n",
       "\n",
       "      EstimatedSalary  Exited  \n",
       "9999         38190.78       0  \n",
       "6220        178153.65       0  \n",
       "6221         49915.52       1  \n",
       "6223         59961.81       0  \n",
       "6225        198894.42       0  \n",
       "...               ...     ...  \n",
       "7579        173245.68       0  \n",
       "7565           123.07       1  \n",
       "1619        127014.32       0  \n",
       "3135         33326.71       0  \n",
       "4863        100447.53       0  \n",
       "\n",
       "[10000 rows x 14 columns]"
      ]
     },
     "execution_count": 7,
     "metadata": {},
     "output_type": "execute_result"
    }
   ],
   "source": [
    "data['Tenure'] = data['Tenure'].fillna(0)\n",
    "data.sort_values(by='Tenure')"
   ]
  },
  {
   "cell_type": "code",
   "execution_count": 8,
   "metadata": {
    "scrolled": false
   },
   "outputs": [
    {
     "name": "stdout",
     "output_type": "stream",
     "text": [
      "<class 'pandas.core.frame.DataFrame'>\n",
      "RangeIndex: 10000 entries, 0 to 9999\n",
      "Data columns (total 14 columns):\n",
      " #   Column           Non-Null Count  Dtype  \n",
      "---  ------           --------------  -----  \n",
      " 0   RowNumber        10000 non-null  int64  \n",
      " 1   CustomerId       10000 non-null  int64  \n",
      " 2   Surname          10000 non-null  object \n",
      " 3   CreditScore      10000 non-null  int64  \n",
      " 4   Geography        10000 non-null  object \n",
      " 5   Gender           10000 non-null  object \n",
      " 6   Age              10000 non-null  int64  \n",
      " 7   Tenure           10000 non-null  float64\n",
      " 8   Balance          10000 non-null  float64\n",
      " 9   NumOfProducts    10000 non-null  int64  \n",
      " 10  HasCrCard        10000 non-null  int64  \n",
      " 11  IsActiveMember   10000 non-null  int64  \n",
      " 12  EstimatedSalary  10000 non-null  float64\n",
      " 13  Exited           10000 non-null  int64  \n",
      "dtypes: float64(3), int64(8), object(3)\n",
      "memory usage: 1.1+ MB\n"
     ]
    }
   ],
   "source": [
    "data.info()"
   ]
  },
  {
   "cell_type": "code",
   "execution_count": 9,
   "metadata": {},
   "outputs": [],
   "source": [
    "# deletion of useles columns\n",
    "data = data.drop(columns = ['RowNumber','CustomerId','Surname'])"
   ]
  },
  {
   "cell_type": "code",
   "execution_count": 10,
   "metadata": {},
   "outputs": [
    {
     "data": {
      "text/html": [
       "<div>\n",
       "<style scoped>\n",
       "    .dataframe tbody tr th:only-of-type {\n",
       "        vertical-align: middle;\n",
       "    }\n",
       "\n",
       "    .dataframe tbody tr th {\n",
       "        vertical-align: top;\n",
       "    }\n",
       "\n",
       "    .dataframe thead th {\n",
       "        text-align: right;\n",
       "    }\n",
       "</style>\n",
       "<table border=\"1\" class=\"dataframe\">\n",
       "  <thead>\n",
       "    <tr style=\"text-align: right;\">\n",
       "      <th></th>\n",
       "      <th>CreditScore</th>\n",
       "      <th>Geography</th>\n",
       "      <th>Gender</th>\n",
       "      <th>Age</th>\n",
       "      <th>Tenure</th>\n",
       "      <th>Balance</th>\n",
       "      <th>NumOfProducts</th>\n",
       "      <th>HasCrCard</th>\n",
       "      <th>IsActiveMember</th>\n",
       "      <th>EstimatedSalary</th>\n",
       "      <th>Exited</th>\n",
       "    </tr>\n",
       "  </thead>\n",
       "  <tbody>\n",
       "    <tr>\n",
       "      <th>0</th>\n",
       "      <td>619</td>\n",
       "      <td>France</td>\n",
       "      <td>Female</td>\n",
       "      <td>42</td>\n",
       "      <td>2.0</td>\n",
       "      <td>0.00</td>\n",
       "      <td>1</td>\n",
       "      <td>1</td>\n",
       "      <td>1</td>\n",
       "      <td>101348.88</td>\n",
       "      <td>1</td>\n",
       "    </tr>\n",
       "    <tr>\n",
       "      <th>1</th>\n",
       "      <td>608</td>\n",
       "      <td>Spain</td>\n",
       "      <td>Female</td>\n",
       "      <td>41</td>\n",
       "      <td>1.0</td>\n",
       "      <td>83807.86</td>\n",
       "      <td>1</td>\n",
       "      <td>0</td>\n",
       "      <td>1</td>\n",
       "      <td>112542.58</td>\n",
       "      <td>0</td>\n",
       "    </tr>\n",
       "    <tr>\n",
       "      <th>2</th>\n",
       "      <td>502</td>\n",
       "      <td>France</td>\n",
       "      <td>Female</td>\n",
       "      <td>42</td>\n",
       "      <td>8.0</td>\n",
       "      <td>159660.80</td>\n",
       "      <td>3</td>\n",
       "      <td>1</td>\n",
       "      <td>0</td>\n",
       "      <td>113931.57</td>\n",
       "      <td>1</td>\n",
       "    </tr>\n",
       "    <tr>\n",
       "      <th>3</th>\n",
       "      <td>699</td>\n",
       "      <td>France</td>\n",
       "      <td>Female</td>\n",
       "      <td>39</td>\n",
       "      <td>1.0</td>\n",
       "      <td>0.00</td>\n",
       "      <td>2</td>\n",
       "      <td>0</td>\n",
       "      <td>0</td>\n",
       "      <td>93826.63</td>\n",
       "      <td>0</td>\n",
       "    </tr>\n",
       "    <tr>\n",
       "      <th>4</th>\n",
       "      <td>850</td>\n",
       "      <td>Spain</td>\n",
       "      <td>Female</td>\n",
       "      <td>43</td>\n",
       "      <td>2.0</td>\n",
       "      <td>125510.82</td>\n",
       "      <td>1</td>\n",
       "      <td>1</td>\n",
       "      <td>1</td>\n",
       "      <td>79084.10</td>\n",
       "      <td>0</td>\n",
       "    </tr>\n",
       "  </tbody>\n",
       "</table>\n",
       "</div>"
      ],
      "text/plain": [
       "   CreditScore Geography  Gender  Age  Tenure    Balance  NumOfProducts  \\\n",
       "0          619    France  Female   42     2.0       0.00              1   \n",
       "1          608     Spain  Female   41     1.0   83807.86              1   \n",
       "2          502    France  Female   42     8.0  159660.80              3   \n",
       "3          699    France  Female   39     1.0       0.00              2   \n",
       "4          850     Spain  Female   43     2.0  125510.82              1   \n",
       "\n",
       "   HasCrCard  IsActiveMember  EstimatedSalary  Exited  \n",
       "0          1               1        101348.88       1  \n",
       "1          0               1        112542.58       0  \n",
       "2          1               0        113931.57       1  \n",
       "3          0               0         93826.63       0  \n",
       "4          1               1         79084.10       0  "
      ]
     },
     "execution_count": 10,
     "metadata": {},
     "output_type": "execute_result"
    }
   ],
   "source": [
    "data.head()"
   ]
  },
  {
   "cell_type": "markdown",
   "metadata": {},
   "source": [
    "**Conclusion**\n",
    "\n",
    "1) Data successfully imported;\n",
    "\n",
    "2) Useles columns were deleted;\n",
    "\n",
    "3) nulls filled with zeros;\n",
    "\n",
    "4) prepared dataset has 11 columns and 10000 rows."
   ]
  },
  {
   "cell_type": "markdown",
   "metadata": {},
   "source": [
    "<a name=\"section3\"></a>\n",
    "# Models training"
   ]
  },
  {
   "cell_type": "markdown",
   "metadata": {},
   "source": [
    "**Encoding of categorical data**"
   ]
  },
  {
   "cell_type": "code",
   "execution_count": 11,
   "metadata": {},
   "outputs": [],
   "source": [
    "data_s = data.copy()"
   ]
  },
  {
   "cell_type": "code",
   "execution_count": 12,
   "metadata": {},
   "outputs": [],
   "source": [
    "data_s = pd.get_dummies(data_s,drop_first=True)"
   ]
  },
  {
   "cell_type": "code",
   "execution_count": 13,
   "metadata": {},
   "outputs": [
    {
     "data": {
      "text/html": [
       "<div>\n",
       "<style scoped>\n",
       "    .dataframe tbody tr th:only-of-type {\n",
       "        vertical-align: middle;\n",
       "    }\n",
       "\n",
       "    .dataframe tbody tr th {\n",
       "        vertical-align: top;\n",
       "    }\n",
       "\n",
       "    .dataframe thead th {\n",
       "        text-align: right;\n",
       "    }\n",
       "</style>\n",
       "<table border=\"1\" class=\"dataframe\">\n",
       "  <thead>\n",
       "    <tr style=\"text-align: right;\">\n",
       "      <th></th>\n",
       "      <th>CreditScore</th>\n",
       "      <th>Age</th>\n",
       "      <th>Tenure</th>\n",
       "      <th>Balance</th>\n",
       "      <th>NumOfProducts</th>\n",
       "      <th>HasCrCard</th>\n",
       "      <th>IsActiveMember</th>\n",
       "      <th>EstimatedSalary</th>\n",
       "      <th>Exited</th>\n",
       "      <th>Geography_Germany</th>\n",
       "      <th>Geography_Spain</th>\n",
       "      <th>Gender_Male</th>\n",
       "    </tr>\n",
       "  </thead>\n",
       "  <tbody>\n",
       "    <tr>\n",
       "      <th>0</th>\n",
       "      <td>619</td>\n",
       "      <td>42</td>\n",
       "      <td>2.0</td>\n",
       "      <td>0.00</td>\n",
       "      <td>1</td>\n",
       "      <td>1</td>\n",
       "      <td>1</td>\n",
       "      <td>101348.88</td>\n",
       "      <td>1</td>\n",
       "      <td>0</td>\n",
       "      <td>0</td>\n",
       "      <td>0</td>\n",
       "    </tr>\n",
       "    <tr>\n",
       "      <th>1</th>\n",
       "      <td>608</td>\n",
       "      <td>41</td>\n",
       "      <td>1.0</td>\n",
       "      <td>83807.86</td>\n",
       "      <td>1</td>\n",
       "      <td>0</td>\n",
       "      <td>1</td>\n",
       "      <td>112542.58</td>\n",
       "      <td>0</td>\n",
       "      <td>0</td>\n",
       "      <td>1</td>\n",
       "      <td>0</td>\n",
       "    </tr>\n",
       "    <tr>\n",
       "      <th>2</th>\n",
       "      <td>502</td>\n",
       "      <td>42</td>\n",
       "      <td>8.0</td>\n",
       "      <td>159660.80</td>\n",
       "      <td>3</td>\n",
       "      <td>1</td>\n",
       "      <td>0</td>\n",
       "      <td>113931.57</td>\n",
       "      <td>1</td>\n",
       "      <td>0</td>\n",
       "      <td>0</td>\n",
       "      <td>0</td>\n",
       "    </tr>\n",
       "    <tr>\n",
       "      <th>3</th>\n",
       "      <td>699</td>\n",
       "      <td>39</td>\n",
       "      <td>1.0</td>\n",
       "      <td>0.00</td>\n",
       "      <td>2</td>\n",
       "      <td>0</td>\n",
       "      <td>0</td>\n",
       "      <td>93826.63</td>\n",
       "      <td>0</td>\n",
       "      <td>0</td>\n",
       "      <td>0</td>\n",
       "      <td>0</td>\n",
       "    </tr>\n",
       "    <tr>\n",
       "      <th>4</th>\n",
       "      <td>850</td>\n",
       "      <td>43</td>\n",
       "      <td>2.0</td>\n",
       "      <td>125510.82</td>\n",
       "      <td>1</td>\n",
       "      <td>1</td>\n",
       "      <td>1</td>\n",
       "      <td>79084.10</td>\n",
       "      <td>0</td>\n",
       "      <td>0</td>\n",
       "      <td>1</td>\n",
       "      <td>0</td>\n",
       "    </tr>\n",
       "    <tr>\n",
       "      <th>5</th>\n",
       "      <td>645</td>\n",
       "      <td>44</td>\n",
       "      <td>8.0</td>\n",
       "      <td>113755.78</td>\n",
       "      <td>2</td>\n",
       "      <td>1</td>\n",
       "      <td>0</td>\n",
       "      <td>149756.71</td>\n",
       "      <td>1</td>\n",
       "      <td>0</td>\n",
       "      <td>1</td>\n",
       "      <td>1</td>\n",
       "    </tr>\n",
       "    <tr>\n",
       "      <th>6</th>\n",
       "      <td>822</td>\n",
       "      <td>50</td>\n",
       "      <td>7.0</td>\n",
       "      <td>0.00</td>\n",
       "      <td>2</td>\n",
       "      <td>1</td>\n",
       "      <td>1</td>\n",
       "      <td>10062.80</td>\n",
       "      <td>0</td>\n",
       "      <td>0</td>\n",
       "      <td>0</td>\n",
       "      <td>1</td>\n",
       "    </tr>\n",
       "    <tr>\n",
       "      <th>7</th>\n",
       "      <td>376</td>\n",
       "      <td>29</td>\n",
       "      <td>4.0</td>\n",
       "      <td>115046.74</td>\n",
       "      <td>4</td>\n",
       "      <td>1</td>\n",
       "      <td>0</td>\n",
       "      <td>119346.88</td>\n",
       "      <td>1</td>\n",
       "      <td>1</td>\n",
       "      <td>0</td>\n",
       "      <td>0</td>\n",
       "    </tr>\n",
       "    <tr>\n",
       "      <th>8</th>\n",
       "      <td>501</td>\n",
       "      <td>44</td>\n",
       "      <td>4.0</td>\n",
       "      <td>142051.07</td>\n",
       "      <td>2</td>\n",
       "      <td>0</td>\n",
       "      <td>1</td>\n",
       "      <td>74940.50</td>\n",
       "      <td>0</td>\n",
       "      <td>0</td>\n",
       "      <td>0</td>\n",
       "      <td>1</td>\n",
       "    </tr>\n",
       "    <tr>\n",
       "      <th>9</th>\n",
       "      <td>684</td>\n",
       "      <td>27</td>\n",
       "      <td>2.0</td>\n",
       "      <td>134603.88</td>\n",
       "      <td>1</td>\n",
       "      <td>1</td>\n",
       "      <td>1</td>\n",
       "      <td>71725.73</td>\n",
       "      <td>0</td>\n",
       "      <td>0</td>\n",
       "      <td>0</td>\n",
       "      <td>1</td>\n",
       "    </tr>\n",
       "  </tbody>\n",
       "</table>\n",
       "</div>"
      ],
      "text/plain": [
       "   CreditScore  Age  Tenure    Balance  NumOfProducts  HasCrCard  \\\n",
       "0          619   42     2.0       0.00              1          1   \n",
       "1          608   41     1.0   83807.86              1          0   \n",
       "2          502   42     8.0  159660.80              3          1   \n",
       "3          699   39     1.0       0.00              2          0   \n",
       "4          850   43     2.0  125510.82              1          1   \n",
       "5          645   44     8.0  113755.78              2          1   \n",
       "6          822   50     7.0       0.00              2          1   \n",
       "7          376   29     4.0  115046.74              4          1   \n",
       "8          501   44     4.0  142051.07              2          0   \n",
       "9          684   27     2.0  134603.88              1          1   \n",
       "\n",
       "   IsActiveMember  EstimatedSalary  Exited  Geography_Germany  \\\n",
       "0               1        101348.88       1                  0   \n",
       "1               1        112542.58       0                  0   \n",
       "2               0        113931.57       1                  0   \n",
       "3               0         93826.63       0                  0   \n",
       "4               1         79084.10       0                  0   \n",
       "5               0        149756.71       1                  0   \n",
       "6               1         10062.80       0                  0   \n",
       "7               0        119346.88       1                  1   \n",
       "8               1         74940.50       0                  0   \n",
       "9               1         71725.73       0                  0   \n",
       "\n",
       "   Geography_Spain  Gender_Male  \n",
       "0                0            0  \n",
       "1                1            0  \n",
       "2                0            0  \n",
       "3                0            0  \n",
       "4                1            0  \n",
       "5                1            1  \n",
       "6                0            1  \n",
       "7                0            0  \n",
       "8                0            1  \n",
       "9                0            1  "
      ]
     },
     "execution_count": 13,
     "metadata": {},
     "output_type": "execute_result"
    }
   ],
   "source": [
    "data_s.head(10)"
   ]
  },
  {
   "cell_type": "code",
   "execution_count": 14,
   "metadata": {},
   "outputs": [],
   "source": [
    "features = data_s.drop(columns='Exited')\n",
    "target = data_s['Exited']"
   ]
  },
  {
   "cell_type": "markdown",
   "metadata": {},
   "source": [
    "**Dataset splitting on samples**"
   ]
  },
  {
   "cell_type": "code",
   "execution_count": 15,
   "metadata": {},
   "outputs": [],
   "source": [
    "features_train,features_valid_temp,target_train,target_valid_temp = train_test_split(\n",
    "    features,target,test_size=0.4, random_state=12345)"
   ]
  },
  {
   "cell_type": "code",
   "execution_count": 16,
   "metadata": {},
   "outputs": [],
   "source": [
    "features_valid,features_test,target_valid,target_test = train_test_split(features_valid_temp,target_valid_temp,test_size=0.5, random_state=12345)"
   ]
  },
  {
   "cell_type": "markdown",
   "metadata": {},
   "source": [
    "**Random forest Model training**"
   ]
  },
  {
   "cell_type": "code",
   "execution_count": 17,
   "metadata": {},
   "outputs": [],
   "source": [
    "rf_model = RandomForestClassifier(random_state=12345)\n",
    "rf_model.fit(features_train,target_train)\n",
    "rf_predictions= rf_model.predict(features_valid)"
   ]
  },
  {
   "cell_type": "code",
   "execution_count": 18,
   "metadata": {},
   "outputs": [
    {
     "data": {
      "text/plain": [
       "array([[1521,   61],\n",
       "       [ 222,  196]], dtype=int64)"
      ]
     },
     "execution_count": 18,
     "metadata": {},
     "output_type": "execute_result"
    }
   ],
   "source": [
    "confusion_matrix(target_valid,rf_predictions)"
   ]
  },
  {
   "cell_type": "code",
   "execution_count": 19,
   "metadata": {},
   "outputs": [
    {
     "data": {
      "text/plain": [
       "0.5807407407407408"
      ]
     },
     "execution_count": 19,
     "metadata": {},
     "output_type": "execute_result"
    }
   ],
   "source": [
    "rf_f1_score = f1_score(target_valid, rf_predictions)\n",
    "rf_f1_score"
   ]
  },
  {
   "cell_type": "code",
   "execution_count": 20,
   "metadata": {
    "scrolled": true
   },
   "outputs": [
    {
     "data": {
      "text/plain": [
       "0.4688995215311005"
      ]
     },
     "execution_count": 20,
     "metadata": {},
     "output_type": "execute_result"
    }
   ],
   "source": [
    "recall_score(target_valid, rf_predictions)"
   ]
  },
  {
   "cell_type": "code",
   "execution_count": 21,
   "metadata": {},
   "outputs": [
    {
     "data": {
      "text/plain": [
       "0.7626459143968871"
      ]
     },
     "execution_count": 21,
     "metadata": {},
     "output_type": "execute_result"
    }
   ],
   "source": [
    "precision_score(target_valid, rf_predictions)"
   ]
  },
  {
   "cell_type": "code",
   "execution_count": 22,
   "metadata": {},
   "outputs": [
    {
     "data": {
      "text/plain": [
       "0.8585"
      ]
     },
     "execution_count": 22,
     "metadata": {},
     "output_type": "execute_result"
    }
   ],
   "source": [
    "accuracy_score(target_valid, rf_predictions)"
   ]
  },
  {
   "cell_type": "markdown",
   "metadata": {},
   "source": [
    "**Plotting of random forest model auc roc curve**"
   ]
  },
  {
   "cell_type": "code",
   "execution_count": 23,
   "metadata": {},
   "outputs": [
    {
     "data": {
      "image/png": "[encoded data removed]",
      "text/plain": [
       "<Figure size 432x432 with 1 Axes>"
      ]
     },
     "metadata": {
      "needs_background": "light"
     },
     "output_type": "display_data"
    }
   ],
   "source": [
    "rf_probabilities_valid = rf_model.predict_proba(features_valid)\n",
    "precision, recall, thresholds = roc_curve(target_valid, rf_probabilities_valid[:, 1])\n",
    "\n",
    "plt.figure(figsize=(6, 6))\n",
    "plt.step( precision,recall, where='post')\n",
    "plt.plot([0.0,1.0],[0.0,1.0])\n",
    "plt.xlabel('FPR')\n",
    "plt.ylabel('TPR')\n",
    "plt.ylim([0.0, 1.05])\n",
    "plt.xlim([0.0, 1.0])\n",
    "plt.title('AUC ROC curve')\n",
    "plt.show() "
   ]
  },
  {
   "cell_type": "code",
   "execution_count": 24,
   "metadata": {},
   "outputs": [
    {
     "data": {
      "text/plain": [
       "0.8424114893025"
      ]
     },
     "execution_count": 24,
     "metadata": {},
     "output_type": "execute_result"
    }
   ],
   "source": [
    "roc_auc_score(target_valid,rf_probabilities_valid[:, 1])"
   ]
  },
  {
   "cell_type": "markdown",
   "metadata": {},
   "source": [
    "**Conclusions:**"
   ]
  },
  {
   "cell_type": "markdown",
   "metadata": {},
   "source": [
    "Random Forest model was successfully trained and has the following scores:\n",
    "1) F1 - 0.53\n",
    "\n",
    "2) AUC ROC - 0.81\n",
    "\n",
    "3) recall_score - 0.418\n",
    "\n",
    "4) precision_score - 0.73\n",
    "\n",
    "5) accuracy_score - 0.84"
   ]
  },
  {
   "cell_type": "markdown",
   "metadata": {},
   "source": [
    "<a name=\"section4\"></a>\n",
    "# Combat to imbalance"
   ]
  },
  {
   "cell_type": "markdown",
   "metadata": {},
   "source": [
    "**Logistic Regression model training with balanced weight**"
   ]
  },
  {
   "cell_type": "code",
   "execution_count": 25,
   "metadata": {},
   "outputs": [],
   "source": [
    "lr_model = LogisticRegression(random_state=12345, solver='liblinear',class_weight='balanced')\n",
    "lr_model.fit(features_train,target_train)\n",
    "lr_predictions= lr_model.predict(features_valid)"
   ]
  },
  {
   "cell_type": "code",
   "execution_count": 26,
   "metadata": {},
   "outputs": [
    {
     "data": {
      "text/plain": [
       "0.4514056224899599"
      ]
     },
     "execution_count": 26,
     "metadata": {},
     "output_type": "execute_result"
    }
   ],
   "source": [
    "lr_f1_score = f1_score(target_valid, lr_predictions)\n",
    "lr_f1_score"
   ]
  },
  {
   "cell_type": "code",
   "execution_count": 27,
   "metadata": {},
   "outputs": [
    {
     "data": {
      "text/plain": [
       "0.6722488038277512"
      ]
     },
     "execution_count": 27,
     "metadata": {},
     "output_type": "execute_result"
    }
   ],
   "source": [
    "recall_score(target_valid, lr_predictions)"
   ]
  },
  {
   "cell_type": "code",
   "execution_count": 28,
   "metadata": {},
   "outputs": [
    {
     "data": {
      "text/plain": [
       "0.33978234582829503"
      ]
     },
     "execution_count": 28,
     "metadata": {},
     "output_type": "execute_result"
    }
   ],
   "source": [
    "precision_score(target_valid, lr_predictions)"
   ]
  },
  {
   "cell_type": "code",
   "execution_count": 29,
   "metadata": {},
   "outputs": [
    {
     "data": {
      "text/plain": [
       "0.6585"
      ]
     },
     "execution_count": 29,
     "metadata": {},
     "output_type": "execute_result"
    }
   ],
   "source": [
    "accuracy_score(target_valid, lr_predictions)"
   ]
  },
  {
   "cell_type": "code",
   "execution_count": 30,
   "metadata": {},
   "outputs": [
    {
     "data": {
      "text/plain": [
       "array([[1036,  546],\n",
       "       [ 137,  281]], dtype=int64)"
      ]
     },
     "execution_count": 30,
     "metadata": {},
     "output_type": "execute_result"
    }
   ],
   "source": [
    "confusion_matrix(target_valid,lr_predictions)"
   ]
  },
  {
   "cell_type": "markdown",
   "metadata": {},
   "source": [
    "**Plotting of logistic regression model auc roc curve**"
   ]
  },
  {
   "cell_type": "code",
   "execution_count": 31,
   "metadata": {},
   "outputs": [
    {
     "data": {
      "image/png": "[encoded data removed]",
      "text/plain": [
       "<Figure size 432x432 with 1 Axes>"
      ]
     },
     "metadata": {
      "needs_background": "light"
     },
     "output_type": "display_data"
    }
   ],
   "source": [
    "lr_probabilities_valid = lr_model.predict_proba(features_valid)\n",
    "precision, recall, thresholds = roc_curve(target_valid, lr_probabilities_valid[:, 1])\n",
    "\n",
    "\n",
    "plt.figure(figsize=(6, 6))\n",
    "plt.step( precision,recall, where='post')\n",
    "plt.plot([0.0,1.0],[0.0,1.0])\n",
    "plt.xlabel('FPR')\n",
    "plt.ylabel('TPR')\n",
    "plt.ylim([0.0, 1.05])\n",
    "plt.xlim([0.0, 1.0])\n",
    "plt.title('Curve AUC ROC')\n",
    "plt.show() "
   ]
  },
  {
   "cell_type": "code",
   "execution_count": 32,
   "metadata": {},
   "outputs": [
    {
     "data": {
      "text/plain": [
       "0.7193909955903435"
      ]
     },
     "execution_count": 32,
     "metadata": {},
     "output_type": "execute_result"
    }
   ],
   "source": [
    "roc_auc_score(target_valid,lr_probabilities_valid[:, 1])"
   ]
  },
  {
   "cell_type": "markdown",
   "metadata": {},
   "source": [
    "**Conclusion**"
   ]
  },
  {
   "cell_type": "markdown",
   "metadata": {},
   "source": [
    "Logistic regression model with balanced class weight has the following scores:\n",
    "\n",
    "1) F1 - 0.48\n",
    "\n",
    "2) AUC ROC - 0.75\n",
    "\n",
    "3) recall_score - 0.37\n",
    "\n",
    "4) precision_score - 0.73\n",
    "\n",
    "5) accuracy_score - 0.69"
   ]
  },
  {
   "cell_type": "markdown",
   "metadata": {},
   "source": [
    "**Upsampling**"
   ]
  },
  {
   "cell_type": "code",
   "execution_count": 33,
   "metadata": {},
   "outputs": [],
   "source": [
    "features_zeros = features_train[target_train==0]\n",
    "features_ones = features_train[target_train==1]\n",
    "target_zeros = target_train[target_train==0]\n",
    "target_ones = target_train[target_train==1]\n",
    "n= 15"
   ]
  },
  {
   "cell_type": "code",
   "execution_count": 34,
   "metadata": {},
   "outputs": [],
   "source": [
    "features_upsampled = pd.concat([features_zeros]+[features_ones]*n)\n",
    "target_upsampled = pd.concat([target_zeros]+[target_ones]*n)"
   ]
  },
  {
   "cell_type": "code",
   "execution_count": 35,
   "metadata": {},
   "outputs": [],
   "source": [
    "features_upsampled,target_upsampled = shuffle(features_upsampled,target_upsampled,random_state=12345)"
   ]
  },
  {
   "cell_type": "markdown",
   "metadata": {},
   "source": [
    "**Random forest model training on upsampled data**"
   ]
  },
  {
   "cell_type": "code",
   "execution_count": 36,
   "metadata": {},
   "outputs": [
    {
     "data": {
      "text/plain": [
       "0.5932885906040269"
      ]
     },
     "execution_count": 36,
     "metadata": {},
     "output_type": "execute_result"
    }
   ],
   "source": [
    "rf_up_model = RandomForestClassifier(random_state=12345)\n",
    "rf_up_model.fit(features_upsampled,target_upsampled)\n",
    "rf_up_predictions= rf_up_model.predict(features_valid)\n",
    "rf_up_f1_score = f1_score(target_valid, rf_up_predictions)\n",
    "rf_up_f1_score"
   ]
  },
  {
   "cell_type": "code",
   "execution_count": 37,
   "metadata": {},
   "outputs": [
    {
     "data": {
      "text/plain": [
       "array([[1476,  106],\n",
       "       [ 197,  221]], dtype=int64)"
      ]
     },
     "execution_count": 37,
     "metadata": {},
     "output_type": "execute_result"
    }
   ],
   "source": [
    "confusion_matrix(target_valid,rf_up_predictions)"
   ]
  },
  {
   "cell_type": "code",
   "execution_count": 38,
   "metadata": {},
   "outputs": [
    {
     "data": {
      "text/plain": [
       "0.5287081339712919"
      ]
     },
     "execution_count": 38,
     "metadata": {},
     "output_type": "execute_result"
    }
   ],
   "source": [
    "recall_score(target_valid, rf_up_predictions)"
   ]
  },
  {
   "cell_type": "code",
   "execution_count": 39,
   "metadata": {},
   "outputs": [
    {
     "data": {
      "text/plain": [
       "0.6758409785932722"
      ]
     },
     "execution_count": 39,
     "metadata": {},
     "output_type": "execute_result"
    }
   ],
   "source": [
    "precision_score(target_valid, rf_up_predictions)"
   ]
  },
  {
   "cell_type": "markdown",
   "metadata": {},
   "source": [
    "**Plotting of upsampled rf model auc roc curve**"
   ]
  },
  {
   "cell_type": "code",
   "execution_count": 40,
   "metadata": {},
   "outputs": [
    {
     "data": {
      "image/png": "[encoded data removed]",
      "text/plain": [
       "<Figure size 432x432 with 1 Axes>"
      ]
     },
     "metadata": {
      "needs_background": "light"
     },
     "output_type": "display_data"
    }
   ],
   "source": [
    "rf_up_probabilities_valid = rf_up_model.predict_proba(features_valid)\n",
    "precision, recall, thresholds = roc_curve(target_valid, rf_up_probabilities_valid[:, 1])\n",
    "\n",
    "plt.figure(figsize=(6, 6))\n",
    "plt.step( precision,recall, where='post')\n",
    "plt.plot([0.0,1.0],[0.0,1.0])\n",
    "plt.xlabel('FPR')\n",
    "plt.ylabel('TPR')\n",
    "plt.ylim([0.0, 1.05])\n",
    "plt.xlim([0.0, 1.0])\n",
    "plt.title('Curve AUC ROC')\n",
    "plt.show() "
   ]
  },
  {
   "cell_type": "code",
   "execution_count": 41,
   "metadata": {},
   "outputs": [
    {
     "data": {
      "text/plain": [
       "0.8381833001651353"
      ]
     },
     "execution_count": 41,
     "metadata": {},
     "output_type": "execute_result"
    }
   ],
   "source": [
    "roc_auc_score(target_valid,rf_up_probabilities_valid[:, 1])"
   ]
  },
  {
   "cell_type": "code",
   "execution_count": 42,
   "metadata": {
    "scrolled": true
   },
   "outputs": [
    {
     "data": {
      "text/plain": [
       "0.8485"
      ]
     },
     "execution_count": 42,
     "metadata": {},
     "output_type": "execute_result"
    }
   ],
   "source": [
    "accuracy_score(target_valid, rf_up_predictions)"
   ]
  },
  {
   "cell_type": "markdown",
   "metadata": {},
   "source": [
    "**Conclusion**"
   ]
  },
  {
   "cell_type": "markdown",
   "metadata": {},
   "source": [
    "Random forest model on upsampled data has the following scores:\n",
    "\n",
    "1) F1 - 0.57\n",
    "\n",
    "2) AUC ROC - 0.808\n",
    "\n",
    "3) recall_score - 0.50\n",
    "\n",
    "4) precision_score - 0.65\n",
    "\n",
    "5) accuracy_score - 0.84"
   ]
  },
  {
   "cell_type": "markdown",
   "metadata": {},
   "source": [
    "**Downsampling**"
   ]
  },
  {
   "cell_type": "code",
   "execution_count": 43,
   "metadata": {},
   "outputs": [],
   "source": [
    "features_zeros = features_train[target_train==0]\n",
    "features_ones = features_train[target_train==1]\n",
    "target_zeros = target_train[target_train==0]\n",
    "target_ones = target_train[target_train==1]\n",
    "m= 0.02"
   ]
  },
  {
   "cell_type": "code",
   "execution_count": 44,
   "metadata": {},
   "outputs": [],
   "source": [
    "features_downsampled = pd.concat(\n",
    "        [features_zeros.sample(frac=m, random_state=12345)] + [features_ones])\n",
    "target_downsampled = pd.concat(\n",
    "        [target_zeros.sample(frac=m, random_state=12345)] + [target_ones])"
   ]
  },
  {
   "cell_type": "code",
   "execution_count": 45,
   "metadata": {},
   "outputs": [],
   "source": [
    "features_downsampled,target_downsampled = shuffle(features_upsampled,target_upsampled,random_state=12345)"
   ]
  },
  {
   "cell_type": "code",
   "execution_count": 46,
   "metadata": {},
   "outputs": [
    {
     "data": {
      "text/plain": [
       "0.5850340136054422"
      ]
     },
     "execution_count": 46,
     "metadata": {},
     "output_type": "execute_result"
    }
   ],
   "source": [
    "rf_dn_model = RandomForestClassifier(random_state=12345)\n",
    "rf_dn_model.fit(features_downsampled,target_downsampled)\n",
    "rf_dn_predictions= rf_dn_model.predict(features_valid)\n",
    "rf_dn_f1_score = f1_score(target_valid, rf_dn_predictions)\n",
    "rf_dn_f1_score"
   ]
  },
  {
   "cell_type": "code",
   "execution_count": 47,
   "metadata": {},
   "outputs": [
    {
     "data": {
      "text/plain": [
       "array([[1480,  102],\n",
       "       [ 203,  215]], dtype=int64)"
      ]
     },
     "execution_count": 47,
     "metadata": {},
     "output_type": "execute_result"
    }
   ],
   "source": [
    "confusion_matrix(target_valid,rf_dn_predictions)"
   ]
  },
  {
   "cell_type": "code",
   "execution_count": 48,
   "metadata": {},
   "outputs": [
    {
     "data": {
      "text/plain": [
       "0.6782334384858044"
      ]
     },
     "execution_count": 48,
     "metadata": {},
     "output_type": "execute_result"
    }
   ],
   "source": [
    "rf_dn_probabilities_valid = rf_dn_model.predict_proba(features_valid)\n",
    "precision_score(target_valid, rf_dn_predictions)"
   ]
  },
  {
   "cell_type": "code",
   "execution_count": 49,
   "metadata": {},
   "outputs": [
    {
     "data": {
      "text/plain": [
       "0.5143540669856459"
      ]
     },
     "execution_count": 49,
     "metadata": {},
     "output_type": "execute_result"
    }
   ],
   "source": [
    "recall_score(target_valid, rf_dn_predictions)"
   ]
  },
  {
   "cell_type": "code",
   "execution_count": 50,
   "metadata": {},
   "outputs": [
    {
     "data": {
      "text/plain": [
       "0.837675947713209"
      ]
     },
     "execution_count": 50,
     "metadata": {},
     "output_type": "execute_result"
    }
   ],
   "source": [
    "roc_auc_score(target_valid,rf_dn_probabilities_valid[:, 1])"
   ]
  },
  {
   "cell_type": "code",
   "execution_count": 51,
   "metadata": {},
   "outputs": [
    {
     "data": {
      "text/plain": [
       "0.8475"
      ]
     },
     "execution_count": 51,
     "metadata": {},
     "output_type": "execute_result"
    }
   ],
   "source": [
    "accuracy_score(target_valid, rf_dn_predictions)"
   ]
  },
  {
   "cell_type": "markdown",
   "metadata": {},
   "source": [
    "**Plotting of downsampled rf model auc roc curve**"
   ]
  },
  {
   "cell_type": "code",
   "execution_count": 52,
   "metadata": {},
   "outputs": [
    {
     "data": {
      "image/png": "[encoded data removed]",
      "text/plain": [
       "<Figure size 432x432 with 1 Axes>"
      ]
     },
     "metadata": {
      "needs_background": "light"
     },
     "output_type": "display_data"
    }
   ],
   "source": [
    "probabilities_valid = rf_dn_model.predict_proba(features_valid)\n",
    "precision, recall, thresholds = roc_curve(target_valid, probabilities_valid[:, 1])\n",
    "\n",
    "plt.figure(figsize=(6, 6))\n",
    "plt.step( precision,recall, where='post')\n",
    "plt.plot([0.0,1.0],[0.0,1.0])\n",
    "plt.xlabel('FPR')\n",
    "plt.ylabel('TPR')\n",
    "plt.ylim([0.0, 1.05])\n",
    "plt.xlim([0.0, 1.0])\n",
    "plt.title('Curve AUC ROC')\n",
    "plt.show() "
   ]
  },
  {
   "cell_type": "markdown",
   "metadata": {},
   "source": [
    "**Conclusion**"
   ]
  },
  {
   "cell_type": "markdown",
   "metadata": {},
   "source": [
    "Random forest model with downsampling has the follwoing scores:\n",
    "\n",
    "1) F1 - 0.55\n",
    "\n",
    "2) AUC ROC - 0.81\n",
    "\n",
    "3) recall_score - 0.47\n",
    "\n",
    "4) precision_score - 0.66\n",
    "\n",
    "5) accuracy_score - 0.84"
   ]
  },
  {
   "cell_type": "markdown",
   "metadata": {},
   "source": [
    "**Hyperparameters tuning**"
   ]
  },
  {
   "cell_type": "code",
   "execution_count": 53,
   "metadata": {},
   "outputs": [
    {
     "name": "stdout",
     "output_type": "stream",
     "text": [
      "0.6293103448275862 \n",
      " <class 'sklearn.ensemble._forest.RandomForestClassifier'> \n",
      " upsampled \n",
      " 10 \n",
      " 60\n",
      "CPU times: total: 41 s\n",
      "Wall time: 41.1 s\n"
     ]
    }
   ],
   "source": [
    "%%time\n",
    "\n",
    "models = [RandomForestClassifier,DecisionTreeClassifier]\n",
    "\n",
    "f1_best=0\n",
    "for c in models:\n",
    "        for d in range(2):\n",
    "            if d == 0:\n",
    "                e = features_downsampled\n",
    "                f = target_downsampled\n",
    "                g = 'downsampled'\n",
    "            elif d == 1:\n",
    "                e = features_upsampled\n",
    "                f = target_upsampled\n",
    "                g = 'upsampled'                \n",
    "            else:\n",
    "                e = features_train\n",
    "                f = target_train\n",
    "                g = 'train'\n",
    "            for depth in range (10,210,50):\n",
    "                if c == RandomForestClassifier:\n",
    "                    for estimators in range (10,210,50):\n",
    "                        tuned_model = c(n_estimators = estimators , max_depth = depth, random_state=12345,\n",
    "                                        class_weight ='balanced')\n",
    "                        tuned_model.fit(e,f)\n",
    "                        tuned_predictions= tuned_model.predict(features_valid)\n",
    "                        F1_temp = f1_score(target_valid, tuned_predictions)\n",
    "                        if f1_best < F1_temp:\n",
    "                            f1_best = F1_temp\n",
    "                            best_model = c\n",
    "                            best_features = g\n",
    "                            best_depth = depth\n",
    "                            best_estimators = estimators\n",
    "                elif c == DecisionTreeClassifier:\n",
    "                    tuned_model = c(max_depth = depth, random_state=12345,class_weight ='balanced')\n",
    "                    tuned_model.fit(e,f)\n",
    "                    tuned_predictions= tuned_model.predict(features_valid)\n",
    "                    F1_temp = f1_score(target_valid, tuned_predictions)\n",
    "                    if f1_best < F1_temp:\n",
    "                        f1_best = F1_temp\n",
    "                        best_model = c\n",
    "                        best_features = g\n",
    "                        best_depth = depth\n",
    "                        best_estimators = estimators\n",
    "print(f1_best,'\\n',best_model,'\\n',best_features,'\\n',best_depth,'\\n',best_estimators)"
   ]
  },
  {
   "cell_type": "code",
   "execution_count": 54,
   "metadata": {},
   "outputs": [],
   "source": [
    "tuned_model = best_model(n_estimators = best_estimators, max_depth =best_depth, random_state=12345, class_weight = 'balanced')\n",
    "tuned_model.fit(e, f)\n",
    "tuned_predictions = tuned_model.predict(features_valid)"
   ]
  },
  {
   "cell_type": "code",
   "execution_count": 55,
   "metadata": {},
   "outputs": [
    {
     "data": {
      "text/plain": [
       "0.6293103448275862"
      ]
     },
     "execution_count": 55,
     "metadata": {},
     "output_type": "execute_result"
    }
   ],
   "source": [
    "tuned_f1 = f1_score(target_valid, tuned_predictions)\n",
    "tuned_f1"
   ]
  },
  {
   "cell_type": "code",
   "execution_count": 56,
   "metadata": {},
   "outputs": [
    {
     "data": {
      "text/plain": [
       "0.828"
      ]
     },
     "execution_count": 56,
     "metadata": {},
     "output_type": "execute_result"
    }
   ],
   "source": [
    "accuracy_score(target_valid, tuned_predictions)"
   ]
  },
  {
   "cell_type": "code",
   "execution_count": 57,
   "metadata": {},
   "outputs": [
    {
     "data": {
      "text/plain": [
       "0.6985645933014354"
      ]
     },
     "execution_count": 57,
     "metadata": {},
     "output_type": "execute_result"
    }
   ],
   "source": [
    "recall_score(target_valid, tuned_predictions)"
   ]
  },
  {
   "cell_type": "code",
   "execution_count": 58,
   "metadata": {},
   "outputs": [
    {
     "data": {
      "text/plain": [
       "0.8502728059085768"
      ]
     },
     "execution_count": 58,
     "metadata": {},
     "output_type": "execute_result"
    }
   ],
   "source": [
    "tuned_probabilities_valid = tuned_model.predict_proba(features_valid)\n",
    "roc_auc_score(target_valid,tuned_probabilities_valid[:, 1])"
   ]
  },
  {
   "cell_type": "code",
   "execution_count": 59,
   "metadata": {},
   "outputs": [
    {
     "data": {
      "text/plain": [
       "0.5725490196078431"
      ]
     },
     "execution_count": 59,
     "metadata": {},
     "output_type": "execute_result"
    }
   ],
   "source": [
    "precision_score(target_valid, tuned_predictions)"
   ]
  },
  {
   "cell_type": "markdown",
   "metadata": {},
   "source": [
    "**Plotting of AUC ROC curve of tuned model**"
   ]
  },
  {
   "cell_type": "code",
   "execution_count": 60,
   "metadata": {},
   "outputs": [
    {
     "data": {
      "image/png": "[encoded data removed]",
      "text/plain": [
       "<Figure size 432x432 with 1 Axes>"
      ]
     },
     "metadata": {
      "needs_background": "light"
     },
     "output_type": "display_data"
    }
   ],
   "source": [
    "tuned_probabilities_valid = tuned_model.predict_proba(features_valid)\n",
    "precision, recall, thresholds = roc_curve(target_valid, tuned_probabilities_valid[:, 1])\n",
    "\n",
    "plt.figure(figsize=(6, 6))\n",
    "plt.step(precision,recall, where='post')\n",
    "plt.plot([0.0,1.0],[0.0,1.0])\n",
    "plt.xlabel('FPR')\n",
    "plt.ylabel('TPR')\n",
    "plt.ylim([0.0, 1.05])\n",
    "plt.xlim([0.0, 1.0])\n",
    "plt.title('Curve AUC ROC')\n",
    "plt.show()"
   ]
  },
  {
   "cell_type": "markdown",
   "metadata": {},
   "source": [
    "**Conclusions**"
   ]
  },
  {
   "cell_type": "markdown",
   "metadata": {},
   "source": [
    "Using hyperparamters tuning the model has the following scores: \n",
    "\n",
    "1) F1 ~ 0.629\n",
    "\n",
    "2) AUC ROC ~ 0.85\n",
    "\n",
    "3) recall_score ~ 0.44\n",
    "\n",
    "4) precision_score ~ 0.57\n",
    "\n",
    "5) accuracy_score ~ 0.828"
   ]
  },
  {
   "cell_type": "markdown",
   "metadata": {},
   "source": [
    "**Selection of best model**"
   ]
  },
  {
   "cell_type": "code",
   "execution_count": 61,
   "metadata": {},
   "outputs": [],
   "source": [
    "models_df = pd.DataFrame({'model_name': ['rf_model','lr_model','rf_up_model','rf_dn_model','tuned_model'],\n",
    "                          'model': [rf_model,lr_model,rf_up_model,rf_dn_model,tuned_model],\n",
    "                          'F1': [rf_f1_score,lr_f1_score,rf_up_f1_score,rf_dn_f1_score,tuned_f1] })"
   ]
  },
  {
   "cell_type": "code",
   "execution_count": 62,
   "metadata": {},
   "outputs": [
    {
     "data": {
      "text/html": [
       "<div>\n",
       "<style scoped>\n",
       "    .dataframe tbody tr th:only-of-type {\n",
       "        vertical-align: middle;\n",
       "    }\n",
       "\n",
       "    .dataframe tbody tr th {\n",
       "        vertical-align: top;\n",
       "    }\n",
       "\n",
       "    .dataframe thead th {\n",
       "        text-align: right;\n",
       "    }\n",
       "</style>\n",
       "<table border=\"1\" class=\"dataframe\">\n",
       "  <thead>\n",
       "    <tr style=\"text-align: right;\">\n",
       "      <th></th>\n",
       "      <th>model_name</th>\n",
       "      <th>model</th>\n",
       "      <th>F1</th>\n",
       "    </tr>\n",
       "  </thead>\n",
       "  <tbody>\n",
       "    <tr>\n",
       "      <th>0</th>\n",
       "      <td>tuned_model</td>\n",
       "      <td>(DecisionTreeClassifier(max_depth=10, max_feat...</td>\n",
       "      <td>0.629310</td>\n",
       "    </tr>\n",
       "    <tr>\n",
       "      <th>1</th>\n",
       "      <td>rf_up_model</td>\n",
       "      <td>(DecisionTreeClassifier(max_features='sqrt', r...</td>\n",
       "      <td>0.593289</td>\n",
       "    </tr>\n",
       "    <tr>\n",
       "      <th>2</th>\n",
       "      <td>rf_dn_model</td>\n",
       "      <td>(DecisionTreeClassifier(max_features='sqrt', r...</td>\n",
       "      <td>0.585034</td>\n",
       "    </tr>\n",
       "    <tr>\n",
       "      <th>3</th>\n",
       "      <td>rf_model</td>\n",
       "      <td>(DecisionTreeClassifier(max_features='sqrt', r...</td>\n",
       "      <td>0.580741</td>\n",
       "    </tr>\n",
       "    <tr>\n",
       "      <th>4</th>\n",
       "      <td>lr_model</td>\n",
       "      <td>LogisticRegression(class_weight='balanced', ra...</td>\n",
       "      <td>0.451406</td>\n",
       "    </tr>\n",
       "  </tbody>\n",
       "</table>\n",
       "</div>"
      ],
      "text/plain": [
       "    model_name                                              model        F1\n",
       "0  tuned_model  (DecisionTreeClassifier(max_depth=10, max_feat...  0.629310\n",
       "1  rf_up_model  (DecisionTreeClassifier(max_features='sqrt', r...  0.593289\n",
       "2  rf_dn_model  (DecisionTreeClassifier(max_features='sqrt', r...  0.585034\n",
       "3     rf_model  (DecisionTreeClassifier(max_features='sqrt', r...  0.580741\n",
       "4     lr_model  LogisticRegression(class_weight='balanced', ra...  0.451406"
      ]
     },
     "execution_count": 62,
     "metadata": {},
     "output_type": "execute_result"
    }
   ],
   "source": [
    "models_df = models_df.sort_values(by = 'F1', ascending = 0).reset_index(drop = True)\n",
    "models_df"
   ]
  },
  {
   "cell_type": "code",
   "execution_count": 63,
   "metadata": {},
   "outputs": [
    {
     "data": {
      "text/html": [
       "<style>#sk-container-id-1 {color: black;background-color: white;}#sk-container-id-1 pre{padding: 0;}#sk-container-id-1 div.sk-toggleable {background-color: white;}#sk-container-id-1 label.sk-toggleable__label {cursor: pointer;display: block;width: 100%;margin-bottom: 0;padding: 0.3em;box-sizing: border-box;text-align: center;}#sk-container-id-1 label.sk-toggleable__label-arrow:before {content: \"▸\";float: left;margin-right: 0.25em;color: #696969;}#sk-container-id-1 label.sk-toggleable__label-arrow:hover:before {color: black;}#sk-container-id-1 div.sk-estimator:hover label.sk-toggleable__label-arrow:before {color: black;}#sk-container-id-1 div.sk-toggleable__content {max-height: 0;max-width: 0;overflow: hidden;text-align: left;background-color: #f0f8ff;}#sk-container-id-1 div.sk-toggleable__content pre {margin: 0.2em;color: black;border-radius: 0.25em;background-color: #f0f8ff;}#sk-container-id-1 input.sk-toggleable__control:checked~div.sk-toggleable__content {max-height: 200px;max-width: 100%;overflow: auto;}#sk-container-id-1 input.sk-toggleable__control:checked~label.sk-toggleable__label-arrow:before {content: \"▾\";}#sk-container-id-1 div.sk-estimator input.sk-toggleable__control:checked~label.sk-toggleable__label {background-color: #d4ebff;}#sk-container-id-1 div.sk-label input.sk-toggleable__control:checked~label.sk-toggleable__label {background-color: #d4ebff;}#sk-container-id-1 input.sk-hidden--visually {border: 0;clip: rect(1px 1px 1px 1px);clip: rect(1px, 1px, 1px, 1px);height: 1px;margin: -1px;overflow: hidden;padding: 0;position: absolute;width: 1px;}#sk-container-id-1 div.sk-estimator {font-family: monospace;background-color: #f0f8ff;border: 1px dotted black;border-radius: 0.25em;box-sizing: border-box;margin-bottom: 0.5em;}#sk-container-id-1 div.sk-estimator:hover {background-color: #d4ebff;}#sk-container-id-1 div.sk-parallel-item::after {content: \"\";width: 100%;border-bottom: 1px solid gray;flex-grow: 1;}#sk-container-id-1 div.sk-label:hover label.sk-toggleable__label {background-color: #d4ebff;}#sk-container-id-1 div.sk-serial::before {content: \"\";position: absolute;border-left: 1px solid gray;box-sizing: border-box;top: 0;bottom: 0;left: 50%;z-index: 0;}#sk-container-id-1 div.sk-serial {display: flex;flex-direction: column;align-items: center;background-color: white;padding-right: 0.2em;padding-left: 0.2em;position: relative;}#sk-container-id-1 div.sk-item {position: relative;z-index: 1;}#sk-container-id-1 div.sk-parallel {display: flex;align-items: stretch;justify-content: center;background-color: white;position: relative;}#sk-container-id-1 div.sk-item::before, #sk-container-id-1 div.sk-parallel-item::before {content: \"\";position: absolute;border-left: 1px solid gray;box-sizing: border-box;top: 0;bottom: 0;left: 50%;z-index: -1;}#sk-container-id-1 div.sk-parallel-item {display: flex;flex-direction: column;z-index: 1;position: relative;background-color: white;}#sk-container-id-1 div.sk-parallel-item:first-child::after {align-self: flex-end;width: 50%;}#sk-container-id-1 div.sk-parallel-item:last-child::after {align-self: flex-start;width: 50%;}#sk-container-id-1 div.sk-parallel-item:only-child::after {width: 0;}#sk-container-id-1 div.sk-dashed-wrapped {border: 1px dashed gray;margin: 0 0.4em 0.5em 0.4em;box-sizing: border-box;padding-bottom: 0.4em;background-color: white;}#sk-container-id-1 div.sk-label label {font-family: monospace;font-weight: bold;display: inline-block;line-height: 1.2em;}#sk-container-id-1 div.sk-label-container {text-align: center;}#sk-container-id-1 div.sk-container {/* jupyter's `normalize.less` sets `[hidden] { display: none; }` but bootstrap.min.css set `[hidden] { display: none !important; }` so we also need the `!important` here to be able to override the default hidden behavior on the sphinx rendered scikit-learn.org. See: https://github.com/scikit-learn/scikit-learn/issues/21755 */display: inline-block !important;position: relative;}#sk-container-id-1 div.sk-text-repr-fallback {display: none;}</style><div id=\"sk-container-id-1\" class=\"sk-top-container\"><div class=\"sk-text-repr-fallback\"><pre>RandomForestClassifier(class_weight=&#x27;balanced&#x27;, max_depth=10, n_estimators=60,\n",
       "                       random_state=12345)</pre><b>In a Jupyter environment, please rerun this cell to show the HTML representation or trust the notebook. <br />On GitHub, the HTML representation is unable to render, please try loading this page with nbviewer.org.</b></div><div class=\"sk-container\" hidden><div class=\"sk-item\"><div class=\"sk-estimator sk-toggleable\"><input class=\"sk-toggleable__control sk-hidden--visually\" id=\"sk-estimator-id-1\" type=\"checkbox\" checked><label for=\"sk-estimator-id-1\" class=\"sk-toggleable__label sk-toggleable__label-arrow\">RandomForestClassifier</label><div class=\"sk-toggleable__content\"><pre>RandomForestClassifier(class_weight=&#x27;balanced&#x27;, max_depth=10, n_estimators=60,\n",
       "                       random_state=12345)</pre></div></div></div></div></div>"
      ],
      "text/plain": [
       "RandomForestClassifier(class_weight='balanced', max_depth=10, n_estimators=60,\n",
       "                       random_state=12345)"
      ]
     },
     "execution_count": 63,
     "metadata": {},
     "output_type": "execute_result"
    }
   ],
   "source": [
    "best_model = models_df['model'][0]\n",
    "best_model"
   ]
  },
  {
   "cell_type": "markdown",
   "metadata": {},
   "source": [
    "**Conclusion**\n",
    "\n",
    "1) Five models were trained and compared: \n",
    "- randomforest model;\n",
    "- linear regression with class balance;\n",
    "- random forest with class upsampling;\n",
    "- random forest with class downsampling;\n",
    "- random forest with hyperparamters tuning.\n",
    "\n",
    "2) Best F1 score was achieved using tuned model. The model was selected for testing."
   ]
  },
  {
   "cell_type": "markdown",
   "metadata": {},
   "source": [
    "<a name=\"section5\"></a>\n",
    "# Model testing"
   ]
  },
  {
   "cell_type": "code",
   "execution_count": 64,
   "metadata": {},
   "outputs": [
    {
     "name": "stdout",
     "output_type": "stream",
     "text": [
      "Test_f1: 0.5982905982905982\n"
     ]
    }
   ],
   "source": [
    "best_model.fit(features_upsampled, target_upsampled)\n",
    "test_predictions = best_model.predict(features_test)\n",
    "print( 'Test_f1:', f1_score(target_test,test_predictions))"
   ]
  },
  {
   "cell_type": "code",
   "execution_count": 65,
   "metadata": {},
   "outputs": [
    {
     "data": {
      "text/plain": [
       "0.812"
      ]
     },
     "execution_count": 65,
     "metadata": {},
     "output_type": "execute_result"
    }
   ],
   "source": [
    "accuracy_score(target_test, test_predictions)"
   ]
  },
  {
   "cell_type": "code",
   "execution_count": 66,
   "metadata": {},
   "outputs": [
    {
     "data": {
      "text/plain": [
       "0.6619385342789598"
      ]
     },
     "execution_count": 66,
     "metadata": {},
     "output_type": "execute_result"
    }
   ],
   "source": [
    "recall_score(target_test, test_predictions)"
   ]
  },
  {
   "cell_type": "code",
   "execution_count": 67,
   "metadata": {},
   "outputs": [
    {
     "data": {
      "text/plain": [
       "0.8544157968192292"
      ]
     },
     "execution_count": 67,
     "metadata": {},
     "output_type": "execute_result"
    }
   ],
   "source": [
    "test_probabilities = best_model.predict_proba(features_test)\n",
    "roc_auc_score(target_test,test_probabilities[:, 1])"
   ]
  },
  {
   "cell_type": "code",
   "execution_count": 68,
   "metadata": {},
   "outputs": [
    {
     "data": {
      "text/plain": [
       "0.5458089668615984"
      ]
     },
     "execution_count": 68,
     "metadata": {},
     "output_type": "execute_result"
    }
   ],
   "source": [
    "precision_score(target_test, test_predictions)"
   ]
  },
  {
   "cell_type": "code",
   "execution_count": 69,
   "metadata": {},
   "outputs": [
    {
     "data": {
      "image/png": "[encoded data removed]",
      "text/plain": [
       "<Figure size 432x432 with 1 Axes>"
      ]
     },
     "metadata": {
      "needs_background": "light"
     },
     "output_type": "display_data"
    }
   ],
   "source": [
    "test_probabilities = best_model.predict_proba(features_test)\n",
    "precision, recall, thresholds = roc_curve(target_test, test_probabilities[:, 1])\n",
    "\n",
    "plt.figure(figsize=(6, 6))\n",
    "plt.step(precision,recall, where='post')\n",
    "plt.plot([0.0,1.0],[0.0,1.0])\n",
    "plt.xlabel('FPR')\n",
    "plt.ylabel('TPR')\n",
    "plt.ylim([0.0, 1.05])\n",
    "plt.xlim([0.0, 1.0])\n",
    "plt.title('Curve AUC ROC')\n",
    "plt.show()"
   ]
  },
  {
   "cell_type": "markdown",
   "metadata": {},
   "source": [
    "**Conclusion**"
   ]
  },
  {
   "cell_type": "markdown",
   "metadata": {},
   "source": [
    "Testing of the model with highest F1 score on valid sample has the following scores:\n",
    "\n",
    "1) F1 ~ 0.598\n",
    "\n",
    "2) AUC ROC ~ 0.85\n",
    "\n",
    "3) recall_score ~ 0.67\n",
    "\n",
    "4) precision_score ~ 0.54\n",
    "\n",
    "5) accuracy_score ~ 0.81\n",
    "\n",
    "<a name=\"section6\"></a>\n",
    "# General conclusion"
   ]
  },
  {
   "cell_type": "markdown",
   "metadata": {},
   "source": [
    "1) Data was successfully imported, prepared and encoded.\n",
    "\n",
    "2) Dataset was splitted on train, valid and test samples.\n",
    "\n",
    "3) Five models were train, four of them were using the different tools for combat to imbalance of classes:\n",
    " - balancing of weight of classes;\n",
    " - upsampling;\n",
    " - down sampling;\n",
    "\n",
    "4) The best model was selected after comparison. The model has tuned hyperparameters and balanced class weight.\n",
    "\n",
    "5) The main goal was achieved - the F1 score is above 0.59."
   ]
  }
 ],
 "metadata": {
  "ExecuteTimeLog": [
   {
    "duration": 1071,
    "start_time": "2021-12-09T17:05:30.822Z"
   },
   {
    "duration": 65,
    "start_time": "2021-12-09T17:06:31.016Z"
   },
   {
    "duration": 444,
    "start_time": "2021-12-09T17:07:25.126Z"
   },
   {
    "duration": 17,
    "start_time": "2021-12-09T17:07:29.495Z"
   },
   {
    "duration": 58,
    "start_time": "2021-12-09T17:08:20.547Z"
   },
   {
    "duration": 33,
    "start_time": "2021-12-09T17:10:41.130Z"
   },
   {
    "duration": 38,
    "start_time": "2021-12-09T17:10:50.895Z"
   },
   {
    "duration": 35,
    "start_time": "2021-12-09T17:10:55.482Z"
   },
   {
    "duration": 309,
    "start_time": "2021-12-09T17:11:32.851Z"
   },
   {
    "duration": -652,
    "start_time": "2021-12-09T17:11:47.606Z"
   },
   {
    "duration": 8,
    "start_time": "2021-12-09T17:11:52.292Z"
   },
   {
    "duration": 10,
    "start_time": "2021-12-09T17:12:02.203Z"
   },
   {
    "duration": 8,
    "start_time": "2021-12-09T17:12:07.389Z"
   },
   {
    "duration": 8,
    "start_time": "2021-12-09T17:12:12.469Z"
   },
   {
    "duration": 8,
    "start_time": "2021-12-09T17:12:16.662Z"
   },
   {
    "duration": 11,
    "start_time": "2021-12-09T17:12:24.276Z"
   },
   {
    "duration": 9,
    "start_time": "2021-12-09T17:12:51.956Z"
   },
   {
    "duration": 8,
    "start_time": "2021-12-09T17:13:28.555Z"
   },
   {
    "duration": 7,
    "start_time": "2021-12-09T17:14:17.209Z"
   },
   {
    "duration": 12,
    "start_time": "2021-12-09T17:14:35.898Z"
   },
   {
    "duration": 319,
    "start_time": "2021-12-09T17:14:54.136Z"
   },
   {
    "duration": 11,
    "start_time": "2021-12-09T17:15:00.815Z"
   },
   {
    "duration": 285,
    "start_time": "2021-12-09T17:15:18.455Z"
   },
   {
    "duration": 379,
    "start_time": "2021-12-09T17:15:22.776Z"
   },
   {
    "duration": 37,
    "start_time": "2021-12-09T17:16:00.289Z"
   },
   {
    "duration": 55,
    "start_time": "2021-12-09T17:16:13.861Z"
   },
   {
    "duration": 411,
    "start_time": "2021-12-09T17:17:58.126Z"
   },
   {
    "duration": 107,
    "start_time": "2021-12-09T17:18:06.771Z"
   },
   {
    "duration": 40,
    "start_time": "2021-12-09T17:18:09.040Z"
   },
   {
    "duration": 14,
    "start_time": "2021-12-09T17:18:32.216Z"
   },
   {
    "duration": 353,
    "start_time": "2021-12-09T17:20:43.904Z"
   },
   {
    "duration": 38,
    "start_time": "2021-12-09T17:21:01.660Z"
   },
   {
    "duration": 771,
    "start_time": "2021-12-09T17:21:53.871Z"
   },
   {
    "duration": 62,
    "start_time": "2021-12-09T17:21:54.645Z"
   },
   {
    "duration": 12,
    "start_time": "2021-12-09T17:21:54.721Z"
   },
   {
    "duration": 33,
    "start_time": "2021-12-09T17:21:54.735Z"
   },
   {
    "duration": 76,
    "start_time": "2021-12-09T17:21:54.770Z"
   },
   {
    "duration": 887,
    "start_time": "2021-12-09T17:24:32.969Z"
   },
   {
    "duration": 22,
    "start_time": "2021-12-09T17:26:16.525Z"
   },
   {
    "duration": 643,
    "start_time": "2021-12-09T17:26:21.958Z"
   },
   {
    "duration": 13,
    "start_time": "2021-12-09T17:26:42.900Z"
   },
   {
    "duration": 20,
    "start_time": "2021-12-09T17:26:46.207Z"
   },
   {
    "duration": 1322,
    "start_time": "2021-12-09T17:27:18.040Z"
   },
   {
    "duration": 65,
    "start_time": "2021-12-09T17:27:19.366Z"
   },
   {
    "duration": 16,
    "start_time": "2021-12-09T17:27:19.439Z"
   },
   {
    "duration": 75,
    "start_time": "2021-12-09T17:27:19.458Z"
   },
   {
    "duration": 11,
    "start_time": "2021-12-09T17:27:19.535Z"
   },
   {
    "duration": 69,
    "start_time": "2021-12-09T17:27:19.549Z"
   },
   {
    "duration": 188,
    "start_time": "2021-12-09T17:27:19.622Z"
   },
   {
    "duration": 1374,
    "start_time": "2021-12-09T17:27:38.464Z"
   },
   {
    "duration": 65,
    "start_time": "2021-12-09T17:27:39.840Z"
   },
   {
    "duration": 15,
    "start_time": "2021-12-09T17:27:39.916Z"
   },
   {
    "duration": 35,
    "start_time": "2021-12-09T17:27:44.546Z"
   },
   {
    "duration": 18,
    "start_time": "2021-12-09T17:27:48.902Z"
   },
   {
    "duration": 12,
    "start_time": "2021-12-09T17:27:54.216Z"
   },
   {
    "duration": 36,
    "start_time": "2021-12-09T17:28:02.885Z"
   },
   {
    "duration": 10,
    "start_time": "2021-12-09T17:28:22.925Z"
   },
   {
    "duration": 34,
    "start_time": "2021-12-09T17:28:25.305Z"
   },
   {
    "duration": 11,
    "start_time": "2021-12-09T17:28:33.151Z"
   },
   {
    "duration": 6,
    "start_time": "2021-12-09T17:28:56.858Z"
   },
   {
    "duration": 29,
    "start_time": "2021-12-09T17:29:06.484Z"
   },
   {
    "duration": 10,
    "start_time": "2021-12-09T17:33:56.633Z"
   },
   {
    "duration": 4,
    "start_time": "2021-12-09T17:36:44.805Z"
   },
   {
    "duration": 4,
    "start_time": "2021-12-09T17:37:25.152Z"
   },
   {
    "duration": 444,
    "start_time": "2021-12-09T17:38:01.089Z"
   },
   {
    "duration": 312,
    "start_time": "2021-12-09T17:38:09.604Z"
   },
   {
    "duration": 5,
    "start_time": "2021-12-09T17:40:13.207Z"
   },
   {
    "duration": 23,
    "start_time": "2021-12-09T17:40:24.225Z"
   },
   {
    "duration": 6,
    "start_time": "2021-12-09T17:40:34.128Z"
   },
   {
    "duration": 9,
    "start_time": "2021-12-09T17:40:34.462Z"
   },
   {
    "duration": 316,
    "start_time": "2021-12-09T17:40:39.234Z"
   },
   {
    "duration": 5,
    "start_time": "2021-12-09T17:42:50.614Z"
   },
   {
    "duration": 20,
    "start_time": "2021-12-09T17:45:17.129Z"
   },
   {
    "duration": 7,
    "start_time": "2021-12-09T17:45:33.333Z"
   },
   {
    "duration": 9,
    "start_time": "2021-12-09T17:45:33.993Z"
   },
   {
    "duration": 143,
    "start_time": "2021-12-09T17:45:35.171Z"
   },
   {
    "duration": 660,
    "start_time": "2021-12-09T17:46:36.979Z"
   },
   {
    "duration": 8,
    "start_time": "2021-12-09T17:46:47.271Z"
   },
   {
    "duration": 123,
    "start_time": "2021-12-09T17:46:53.229Z"
   },
   {
    "duration": 333,
    "start_time": "2021-12-09T17:47:57.040Z"
   },
   {
    "duration": 9,
    "start_time": "2021-12-09T17:48:03.296Z"
   },
   {
    "duration": 121,
    "start_time": "2021-12-09T17:48:03.599Z"
   },
   {
    "duration": 11,
    "start_time": "2021-12-09T17:48:03.983Z"
   },
   {
    "duration": 28,
    "start_time": "2021-12-09T18:14:57.712Z"
   },
   {
    "duration": 7,
    "start_time": "2021-12-09T18:14:58.401Z"
   },
   {
    "duration": 9,
    "start_time": "2021-12-09T18:14:58.882Z"
   },
   {
    "duration": 123,
    "start_time": "2021-12-09T18:14:59.242Z"
   },
   {
    "duration": 12,
    "start_time": "2021-12-09T18:15:00.744Z"
   },
   {
    "duration": 4,
    "start_time": "2021-12-09T18:16:21.172Z"
   },
   {
    "duration": 122,
    "start_time": "2021-12-09T18:16:24.846Z"
   },
   {
    "duration": 9,
    "start_time": "2021-12-09T18:16:25.790Z"
   },
   {
    "duration": 2616,
    "start_time": "2021-12-09T18:16:34.575Z"
   },
   {
    "duration": -629,
    "start_time": "2021-12-09T18:16:37.824Z"
   },
   {
    "duration": -633,
    "start_time": "2021-12-09T18:16:37.829Z"
   },
   {
    "duration": -633,
    "start_time": "2021-12-09T18:16:37.831Z"
   },
   {
    "duration": -635,
    "start_time": "2021-12-09T18:16:37.834Z"
   },
   {
    "duration": -636,
    "start_time": "2021-12-09T18:16:37.836Z"
   },
   {
    "duration": -637,
    "start_time": "2021-12-09T18:16:37.839Z"
   },
   {
    "duration": -638,
    "start_time": "2021-12-09T18:16:37.841Z"
   },
   {
    "duration": -641,
    "start_time": "2021-12-09T18:16:37.845Z"
   },
   {
    "duration": -640,
    "start_time": "2021-12-09T18:16:37.846Z"
   },
   {
    "duration": -641,
    "start_time": "2021-12-09T18:16:37.848Z"
   },
   {
    "duration": -641,
    "start_time": "2021-12-09T18:16:37.849Z"
   },
   {
    "duration": -640,
    "start_time": "2021-12-09T18:16:37.850Z"
   },
   {
    "duration": -644,
    "start_time": "2021-12-09T18:16:37.855Z"
   },
   {
    "duration": -646,
    "start_time": "2021-12-09T18:16:37.858Z"
   },
   {
    "duration": -645,
    "start_time": "2021-12-09T18:16:37.859Z"
   },
   {
    "duration": 122,
    "start_time": "2021-12-09T18:17:19.218Z"
   },
   {
    "duration": 1543,
    "start_time": "2021-12-09T18:17:55.944Z"
   },
   {
    "duration": 4,
    "start_time": "2021-12-09T18:17:57.489Z"
   },
   {
    "duration": 62,
    "start_time": "2021-12-09T18:17:57.496Z"
   },
   {
    "duration": 12,
    "start_time": "2021-12-09T18:17:57.560Z"
   },
   {
    "duration": 57,
    "start_time": "2021-12-09T18:17:57.575Z"
   },
   {
    "duration": 12,
    "start_time": "2021-12-09T18:17:57.635Z"
   },
   {
    "duration": 64,
    "start_time": "2021-12-09T18:17:57.652Z"
   },
   {
    "duration": 15,
    "start_time": "2021-12-09T18:17:57.720Z"
   },
   {
    "duration": 7,
    "start_time": "2021-12-09T18:17:57.737Z"
   },
   {
    "duration": 19,
    "start_time": "2021-12-09T18:17:57.747Z"
   },
   {
    "duration": 5,
    "start_time": "2021-12-09T18:17:57.769Z"
   },
   {
    "duration": 32,
    "start_time": "2021-12-09T18:17:57.818Z"
   },
   {
    "duration": 8,
    "start_time": "2021-12-09T18:17:57.853Z"
   },
   {
    "duration": 11,
    "start_time": "2021-12-09T18:17:57.864Z"
   },
   {
    "duration": 223,
    "start_time": "2021-12-09T18:17:57.879Z"
   },
   {
    "duration": 20,
    "start_time": "2021-12-09T18:17:58.105Z"
   },
   {
    "duration": 154,
    "start_time": "2021-12-09T18:41:11.127Z"
   },
   {
    "duration": 459,
    "start_time": "2021-12-09T18:41:16.554Z"
   },
   {
    "duration": 6,
    "start_time": "2021-12-09T18:41:50.546Z"
   },
   {
    "duration": 94,
    "start_time": "2021-12-09T18:41:59.669Z"
   },
   {
    "duration": 10,
    "start_time": "2021-12-09T18:42:01.612Z"
   },
   {
    "duration": 291,
    "start_time": "2021-12-09T18:42:19.503Z"
   },
   {
    "duration": 8,
    "start_time": "2021-12-09T18:42:29.182Z"
   },
   {
    "duration": 128,
    "start_time": "2021-12-09T18:43:16.471Z"
   },
   {
    "duration": 9,
    "start_time": "2021-12-09T18:43:17.629Z"
   },
   {
    "duration": 8,
    "start_time": "2021-12-09T18:43:19.074Z"
   },
   {
    "duration": 27,
    "start_time": "2021-12-09T18:46:12.108Z"
   },
   {
    "duration": 22,
    "start_time": "2021-12-09T18:47:14.351Z"
   },
   {
    "duration": 1447,
    "start_time": "2021-12-09T18:49:27.134Z"
   },
   {
    "duration": 5,
    "start_time": "2021-12-09T18:49:28.585Z"
   },
   {
    "duration": 73,
    "start_time": "2021-12-09T18:49:28.598Z"
   },
   {
    "duration": 14,
    "start_time": "2021-12-09T18:49:28.674Z"
   },
   {
    "duration": 50,
    "start_time": "2021-12-09T18:49:28.691Z"
   },
   {
    "duration": 13,
    "start_time": "2021-12-09T18:49:28.744Z"
   },
   {
    "duration": 68,
    "start_time": "2021-12-09T18:49:28.762Z"
   },
   {
    "duration": 12,
    "start_time": "2021-12-09T18:49:28.833Z"
   },
   {
    "duration": 5,
    "start_time": "2021-12-09T18:49:28.847Z"
   },
   {
    "duration": 18,
    "start_time": "2021-12-09T18:49:28.854Z"
   },
   {
    "duration": 44,
    "start_time": "2021-12-09T18:49:28.874Z"
   },
   {
    "duration": 20,
    "start_time": "2021-12-09T18:49:28.920Z"
   },
   {
    "duration": 22,
    "start_time": "2021-12-09T18:49:28.942Z"
   },
   {
    "duration": 7,
    "start_time": "2021-12-09T18:49:28.966Z"
   },
   {
    "duration": 8,
    "start_time": "2021-12-09T18:49:28.975Z"
   },
   {
    "duration": 139,
    "start_time": "2021-12-09T18:49:29.017Z"
   },
   {
    "duration": 9,
    "start_time": "2021-12-09T18:49:29.158Z"
   },
   {
    "duration": 7,
    "start_time": "2021-12-09T18:49:29.170Z"
   },
   {
    "duration": 428,
    "start_time": "2021-12-09T18:49:29.180Z"
   },
   {
    "duration": 18,
    "start_time": "2021-12-09T18:56:40.712Z"
   },
   {
    "duration": 95,
    "start_time": "2021-12-09T18:57:11.331Z"
   },
   {
    "duration": 10,
    "start_time": "2021-12-09T18:57:23.955Z"
   },
   {
    "duration": 10,
    "start_time": "2021-12-09T19:07:01.989Z"
   },
   {
    "duration": 5,
    "start_time": "2021-12-09T19:08:19.179Z"
   },
   {
    "duration": 302,
    "start_time": "2021-12-09T19:18:56.393Z"
   },
   {
    "duration": 8,
    "start_time": "2021-12-09T19:19:14.988Z"
   },
   {
    "duration": 7,
    "start_time": "2021-12-09T19:19:33.075Z"
   },
   {
    "duration": 6,
    "start_time": "2021-12-09T19:23:06.578Z"
   },
   {
    "duration": 8,
    "start_time": "2021-12-09T19:23:07.124Z"
   },
   {
    "duration": 317,
    "start_time": "2021-12-09T19:23:07.610Z"
   },
   {
    "duration": 278,
    "start_time": "2021-12-09T19:23:20.417Z"
   },
   {
    "duration": 236,
    "start_time": "2021-12-09T19:24:05.841Z"
   },
   {
    "duration": 264,
    "start_time": "2021-12-09T19:24:12.697Z"
   },
   {
    "duration": 8,
    "start_time": "2021-12-09T19:25:48.182Z"
   },
   {
    "duration": 8,
    "start_time": "2021-12-09T19:25:53.013Z"
   },
   {
    "duration": 94,
    "start_time": "2021-12-09T19:28:50.580Z"
   },
   {
    "duration": 9050,
    "start_time": "2021-12-09T19:29:05.240Z"
   },
   {
    "duration": 11,
    "start_time": "2021-12-09T19:29:38.609Z"
   },
   {
    "duration": 142,
    "start_time": "2021-12-09T19:31:38.051Z"
   },
   {
    "duration": 10,
    "start_time": "2021-12-09T19:33:22.380Z"
   },
   {
    "duration": 342,
    "start_time": "2021-12-09T19:33:47.190Z"
   },
   {
    "duration": 310,
    "start_time": "2021-12-09T19:34:59.552Z"
   },
   {
    "duration": 8,
    "start_time": "2021-12-09T19:35:26.319Z"
   },
   {
    "duration": 283,
    "start_time": "2021-12-09T19:35:26.802Z"
   },
   {
    "duration": 12,
    "start_time": "2021-12-09T19:36:11.369Z"
   },
   {
    "duration": 298,
    "start_time": "2021-12-09T19:36:13.103Z"
   },
   {
    "duration": 12,
    "start_time": "2021-12-09T19:36:31.148Z"
   },
   {
    "duration": 10,
    "start_time": "2021-12-09T19:36:36.610Z"
   },
   {
    "duration": 289,
    "start_time": "2021-12-09T19:36:36.945Z"
   },
   {
    "duration": 11,
    "start_time": "2021-12-09T19:38:33.431Z"
   },
   {
    "duration": 12,
    "start_time": "2021-12-09T19:38:33.844Z"
   },
   {
    "duration": 9,
    "start_time": "2021-12-09T19:38:34.505Z"
   },
   {
    "duration": 79,
    "start_time": "2021-12-09T19:38:36.332Z"
   },
   {
    "duration": 86,
    "start_time": "2021-12-09T19:38:55.265Z"
   },
   {
    "duration": 135,
    "start_time": "2021-12-09T19:39:06.484Z"
   },
   {
    "duration": 176,
    "start_time": "2021-12-09T19:39:36.731Z"
   },
   {
    "duration": 11,
    "start_time": "2021-12-09T19:39:53.268Z"
   },
   {
    "duration": 9,
    "start_time": "2021-12-09T19:39:53.672Z"
   },
   {
    "duration": 206,
    "start_time": "2021-12-09T19:39:53.987Z"
   },
   {
    "duration": 10,
    "start_time": "2021-12-09T19:40:01.065Z"
   },
   {
    "duration": 8,
    "start_time": "2021-12-09T19:40:01.395Z"
   },
   {
    "duration": 178,
    "start_time": "2021-12-09T19:40:01.727Z"
   },
   {
    "duration": 203,
    "start_time": "2021-12-09T19:45:33.413Z"
   },
   {
    "duration": 5,
    "start_time": "2021-12-09T19:45:49.136Z"
   },
   {
    "duration": 9623,
    "start_time": "2021-12-09T19:45:53.862Z"
   },
   {
    "duration": 10873,
    "start_time": "2021-12-09T19:47:03.096Z"
   },
   {
    "duration": 10253,
    "start_time": "2021-12-09T19:47:52.887Z"
   },
   {
    "duration": 6,
    "start_time": "2021-12-09T19:48:15.086Z"
   },
   {
    "duration": 320,
    "start_time": "2021-12-09T19:48:27.701Z"
   },
   {
    "duration": 4,
    "start_time": "2021-12-09T19:48:48.902Z"
   },
   {
    "duration": 379,
    "start_time": "2021-12-09T19:48:50.391Z"
   },
   {
    "duration": 5,
    "start_time": "2021-12-09T19:49:07.579Z"
   },
   {
    "duration": 9561,
    "start_time": "2021-12-09T19:49:20.385Z"
   },
   {
    "duration": 5,
    "start_time": "2021-12-09T19:49:29.949Z"
   },
   {
    "duration": 9403,
    "start_time": "2021-12-09T19:49:48.166Z"
   },
   {
    "duration": 9613,
    "start_time": "2021-12-09T19:51:55.798Z"
   },
   {
    "duration": 10272,
    "start_time": "2021-12-09T19:53:05.201Z"
   },
   {
    "duration": 4809,
    "start_time": "2021-12-09T19:56:44.794Z"
   },
   {
    "duration": 7740,
    "start_time": "2021-12-09T19:56:50.835Z"
   },
   {
    "duration": 6831,
    "start_time": "2021-12-09T19:58:39.695Z"
   },
   {
    "duration": 7078,
    "start_time": "2021-12-09T19:59:22.500Z"
   },
   {
    "duration": 4,
    "start_time": "2021-12-09T19:59:37.523Z"
   },
   {
    "duration": 304,
    "start_time": "2021-12-09T19:59:41.056Z"
   },
   {
    "duration": 3,
    "start_time": "2021-12-09T19:59:50.412Z"
   },
   {
    "duration": 312,
    "start_time": "2021-12-09T19:59:52.015Z"
   },
   {
    "duration": 6,
    "start_time": "2021-12-09T20:00:04.605Z"
   },
   {
    "duration": 961,
    "start_time": "2021-12-09T20:00:07.779Z"
   },
   {
    "duration": 6,
    "start_time": "2021-12-09T20:00:11.165Z"
   },
   {
    "duration": 7550,
    "start_time": "2021-12-09T20:01:13.086Z"
   },
   {
    "duration": 25,
    "start_time": "2021-12-09T20:01:22.517Z"
   },
   {
    "duration": 6326,
    "start_time": "2021-12-09T20:01:27.618Z"
   },
   {
    "duration": 24,
    "start_time": "2021-12-09T20:01:33.947Z"
   },
   {
    "duration": 10,
    "start_time": "2021-12-09T20:02:40.515Z"
   },
   {
    "duration": 13,
    "start_time": "2021-12-09T20:03:16.832Z"
   },
   {
    "duration": 8,
    "start_time": "2021-12-09T20:03:27.306Z"
   },
   {
    "duration": 9,
    "start_time": "2021-12-09T20:03:32.923Z"
   },
   {
    "duration": 8,
    "start_time": "2021-12-09T20:03:43.263Z"
   },
   {
    "duration": 12,
    "start_time": "2021-12-09T20:03:47.250Z"
   },
   {
    "duration": 1485,
    "start_time": "2021-12-09T20:03:59.856Z"
   },
   {
    "duration": 4,
    "start_time": "2021-12-09T20:04:01.343Z"
   },
   {
    "duration": 62,
    "start_time": "2021-12-09T20:04:01.350Z"
   },
   {
    "duration": 12,
    "start_time": "2021-12-09T20:04:01.415Z"
   },
   {
    "duration": 38,
    "start_time": "2021-12-09T20:04:01.430Z"
   },
   {
    "duration": 11,
    "start_time": "2021-12-09T20:04:01.470Z"
   },
   {
    "duration": 69,
    "start_time": "2021-12-09T20:04:01.483Z"
   },
   {
    "duration": 11,
    "start_time": "2021-12-09T20:04:01.556Z"
   },
   {
    "duration": 13,
    "start_time": "2021-12-09T20:04:01.570Z"
   },
   {
    "duration": 44,
    "start_time": "2021-12-09T20:04:01.585Z"
   },
   {
    "duration": 13,
    "start_time": "2021-12-09T20:04:01.632Z"
   },
   {
    "duration": 36,
    "start_time": "2021-12-09T20:04:01.647Z"
   },
   {
    "duration": 33,
    "start_time": "2021-12-09T20:04:01.686Z"
   },
   {
    "duration": 28,
    "start_time": "2021-12-09T20:04:01.721Z"
   },
   {
    "duration": 14,
    "start_time": "2021-12-09T20:04:01.752Z"
   },
   {
    "duration": 144,
    "start_time": "2021-12-09T20:04:01.768Z"
   },
   {
    "duration": 9,
    "start_time": "2021-12-09T20:04:01.915Z"
   },
   {
    "duration": 9,
    "start_time": "2021-12-09T20:04:01.927Z"
   },
   {
    "duration": 11,
    "start_time": "2021-12-09T20:04:01.938Z"
   },
   {
    "duration": 8,
    "start_time": "2021-12-09T20:04:01.952Z"
   },
   {
    "duration": 163,
    "start_time": "2021-12-09T20:04:01.962Z"
   },
   {
    "duration": 9,
    "start_time": "2021-12-09T20:04:02.219Z"
   },
   {
    "duration": 9,
    "start_time": "2021-12-09T20:04:02.232Z"
   },
   {
    "duration": 74,
    "start_time": "2021-12-09T20:04:02.244Z"
   },
   {
    "duration": 9,
    "start_time": "2021-12-09T20:04:02.320Z"
   },
   {
    "duration": 9,
    "start_time": "2021-12-09T20:04:02.331Z"
   },
   {
    "duration": 205,
    "start_time": "2021-12-09T20:04:02.342Z"
   },
   {
    "duration": 8587,
    "start_time": "2021-12-09T20:04:02.549Z"
   },
   {
    "duration": 31,
    "start_time": "2021-12-09T20:04:11.139Z"
   },
   {
    "duration": 35,
    "start_time": "2021-12-09T20:04:11.172Z"
   },
   {
    "duration": 23,
    "start_time": "2021-12-09T20:04:11.210Z"
   },
   {
    "duration": 22,
    "start_time": "2021-12-09T20:04:11.236Z"
   },
   {
    "duration": 9,
    "start_time": "2021-12-09T20:07:28.932Z"
   },
   {
    "duration": 8,
    "start_time": "2021-12-09T20:07:29.595Z"
   },
   {
    "duration": 29,
    "start_time": "2021-12-09T20:07:39.335Z"
   },
   {
    "duration": 175,
    "start_time": "2021-12-09T20:07:57.987Z"
   },
   {
    "duration": 8445,
    "start_time": "2021-12-09T20:07:58.872Z"
   },
   {
    "duration": 8019,
    "start_time": "2021-12-09T20:08:24.003Z"
   },
   {
    "duration": 29,
    "start_time": "2021-12-09T20:08:34.712Z"
   },
   {
    "duration": 11,
    "start_time": "2021-12-09T20:08:36.497Z"
   },
   {
    "duration": 8,
    "start_time": "2021-12-09T20:08:38.030Z"
   },
   {
    "duration": 9,
    "start_time": "2021-12-09T20:08:38.716Z"
   },
   {
    "duration": 316,
    "start_time": "2021-12-16T17:45:28.936Z"
   },
   {
    "duration": 1986,
    "start_time": "2021-12-16T17:46:03.463Z"
   },
   {
    "duration": 7,
    "start_time": "2021-12-16T17:46:08.789Z"
   },
   {
    "duration": 6,
    "start_time": "2021-12-16T17:46:13.934Z"
   },
   {
    "duration": 1506,
    "start_time": "2021-12-16T17:46:37.544Z"
   },
   {
    "duration": 4,
    "start_time": "2021-12-16T17:46:39.053Z"
   },
   {
    "duration": 61,
    "start_time": "2021-12-16T17:46:39.069Z"
   },
   {
    "duration": 12,
    "start_time": "2021-12-16T17:46:39.133Z"
   },
   {
    "duration": 35,
    "start_time": "2021-12-16T17:46:39.281Z"
   },
   {
    "duration": 18,
    "start_time": "2021-12-16T17:46:40.060Z"
   },
   {
    "duration": 37,
    "start_time": "2021-12-16T17:46:40.630Z"
   },
   {
    "duration": 11,
    "start_time": "2021-12-16T17:46:40.992Z"
   },
   {
    "duration": 6,
    "start_time": "2021-12-16T17:46:41.536Z"
   },
   {
    "duration": 17,
    "start_time": "2021-12-16T17:46:41.882Z"
   },
   {
    "duration": 5,
    "start_time": "2021-12-16T17:46:45.206Z"
   },
   {
    "duration": 23,
    "start_time": "2021-12-16T17:46:45.541Z"
   },
   {
    "duration": 23,
    "start_time": "2021-12-16T17:46:45.860Z"
   },
   {
    "duration": 7,
    "start_time": "2021-12-16T17:46:46.138Z"
   },
   {
    "duration": 11,
    "start_time": "2021-12-16T17:46:46.739Z"
   },
   {
    "duration": 138,
    "start_time": "2021-12-16T17:46:47.093Z"
   },
   {
    "duration": 10,
    "start_time": "2021-12-16T17:46:47.602Z"
   },
   {
    "duration": 8,
    "start_time": "2021-12-16T17:46:48.086Z"
   },
   {
    "duration": 9,
    "start_time": "2021-12-16T17:46:48.573Z"
   },
   {
    "duration": 15,
    "start_time": "2021-12-16T17:46:49.067Z"
   },
   {
    "duration": 406,
    "start_time": "2021-12-16T17:46:51.622Z"
   },
   {
    "duration": 7,
    "start_time": "2021-12-16T17:47:26.908Z"
   },
   {
    "duration": 329,
    "start_time": "2021-12-16T17:53:00.852Z"
   },
   {
    "duration": 343,
    "start_time": "2021-12-16T17:53:17.119Z"
   },
   {
    "duration": 441,
    "start_time": "2021-12-16T17:53:26.846Z"
   },
   {
    "duration": 366,
    "start_time": "2021-12-16T17:54:01.937Z"
   },
   {
    "duration": 453,
    "start_time": "2021-12-16T17:54:16.420Z"
   },
   {
    "duration": 353,
    "start_time": "2021-12-16T17:54:38.671Z"
   },
   {
    "duration": 1510,
    "start_time": "2021-12-16T18:04:56.225Z"
   },
   {
    "duration": 5,
    "start_time": "2021-12-16T18:04:57.738Z"
   },
   {
    "duration": 88,
    "start_time": "2021-12-16T18:04:58.574Z"
   },
   {
    "duration": 15,
    "start_time": "2021-12-16T18:04:58.939Z"
   },
   {
    "duration": 35,
    "start_time": "2021-12-16T18:04:59.284Z"
   },
   {
    "duration": 17,
    "start_time": "2021-12-16T18:04:59.582Z"
   },
   {
    "duration": 37,
    "start_time": "2021-12-16T18:04:59.888Z"
   },
   {
    "duration": 16,
    "start_time": "2021-12-16T18:05:00.194Z"
   },
   {
    "duration": 7,
    "start_time": "2021-12-16T18:05:00.472Z"
   },
   {
    "duration": 19,
    "start_time": "2021-12-16T18:05:00.776Z"
   },
   {
    "duration": 5,
    "start_time": "2021-12-16T18:05:02.358Z"
   },
   {
    "duration": 20,
    "start_time": "2021-12-16T18:05:02.611Z"
   },
   {
    "duration": 23,
    "start_time": "2021-12-16T18:05:02.867Z"
   },
   {
    "duration": 9,
    "start_time": "2021-12-16T18:05:03.103Z"
   },
   {
    "duration": 9,
    "start_time": "2021-12-16T18:05:03.321Z"
   },
   {
    "duration": 149,
    "start_time": "2021-12-16T18:05:03.596Z"
   },
   {
    "duration": 12,
    "start_time": "2021-12-16T18:05:03.802Z"
   },
   {
    "duration": 10,
    "start_time": "2021-12-16T18:05:03.976Z"
   },
   {
    "duration": 11,
    "start_time": "2021-12-16T18:05:04.122Z"
   },
   {
    "duration": 11,
    "start_time": "2021-12-16T18:05:04.442Z"
   },
   {
    "duration": 9,
    "start_time": "2021-12-16T18:05:04.782Z"
   },
   {
    "duration": 310,
    "start_time": "2021-12-16T18:05:05.557Z"
   },
   {
    "duration": 327,
    "start_time": "2021-12-16T18:06:18.060Z"
   },
   {
    "duration": 326,
    "start_time": "2021-12-16T18:06:31.319Z"
   },
   {
    "duration": 121,
    "start_time": "2021-12-16T18:06:51.151Z"
   },
   {
    "duration": 8,
    "start_time": "2021-12-16T18:06:53.426Z"
   },
   {
    "duration": 11,
    "start_time": "2021-12-16T18:06:58.377Z"
   },
   {
    "duration": 593,
    "start_time": "2021-12-16T18:07:02.667Z"
   },
   {
    "duration": 11,
    "start_time": "2021-12-16T18:07:11.510Z"
   },
   {
    "duration": 9,
    "start_time": "2021-12-16T18:07:12.198Z"
   },
   {
    "duration": 9,
    "start_time": "2021-12-16T18:07:12.558Z"
   },
   {
    "duration": 199,
    "start_time": "2021-12-16T18:07:13.234Z"
   },
   {
    "duration": 8925,
    "start_time": "2021-12-16T18:07:14.360Z"
   },
   {
    "duration": 26,
    "start_time": "2021-12-16T18:07:23.288Z"
   },
   {
    "duration": 9,
    "start_time": "2021-12-16T18:07:23.317Z"
   },
   {
    "duration": 44,
    "start_time": "2021-12-16T18:07:23.328Z"
   },
   {
    "duration": 9,
    "start_time": "2021-12-16T18:07:28.654Z"
   },
   {
    "duration": 403,
    "start_time": "2021-12-16T18:07:29.002Z"
   },
   {
    "duration": 553,
    "start_time": "2021-12-16T18:08:54.031Z"
   },
   {
    "duration": 591,
    "start_time": "2021-12-16T18:20:01.182Z"
   },
   {
    "duration": 93,
    "start_time": "2021-12-16T18:21:03.243Z"
   },
   {
    "duration": 573,
    "start_time": "2021-12-16T18:21:09.317Z"
   },
   {
    "duration": 363,
    "start_time": "2021-12-16T18:21:20.904Z"
   },
   {
    "duration": 302,
    "start_time": "2021-12-16T18:21:32.132Z"
   },
   {
    "duration": 96,
    "start_time": "2021-12-16T18:21:38.905Z"
   },
   {
    "duration": 302,
    "start_time": "2021-12-16T18:21:54.468Z"
   },
   {
    "duration": 303,
    "start_time": "2021-12-16T18:22:01.288Z"
   },
   {
    "duration": 303,
    "start_time": "2021-12-16T18:22:13.593Z"
   },
   {
    "duration": 313,
    "start_time": "2021-12-16T18:22:19.957Z"
   },
   {
    "duration": 464,
    "start_time": "2021-12-16T18:22:27.306Z"
   },
   {
    "duration": 305,
    "start_time": "2021-12-16T18:22:32.723Z"
   },
   {
    "duration": 304,
    "start_time": "2021-12-16T18:22:38.832Z"
   },
   {
    "duration": 397,
    "start_time": "2021-12-16T18:22:43.122Z"
   },
   {
    "duration": 312,
    "start_time": "2021-12-16T18:22:48.059Z"
   },
   {
    "duration": 309,
    "start_time": "2021-12-16T18:22:51.360Z"
   },
   {
    "duration": 82,
    "start_time": "2021-12-16T18:23:53.980Z"
   },
   {
    "duration": 112,
    "start_time": "2021-12-16T18:24:01.420Z"
   },
   {
    "duration": 94,
    "start_time": "2021-12-16T18:24:04.872Z"
   },
   {
    "duration": 88,
    "start_time": "2021-12-16T18:24:08.677Z"
   },
   {
    "duration": 648,
    "start_time": "2021-12-16T18:24:12.580Z"
   },
   {
    "duration": 596,
    "start_time": "2021-12-16T18:24:48.153Z"
   },
   {
    "duration": 722,
    "start_time": "2021-12-16T18:24:53.033Z"
   },
   {
    "duration": 107,
    "start_time": "2021-12-16T18:25:21.601Z"
   },
   {
    "duration": 579,
    "start_time": "2021-12-16T18:25:24.649Z"
   },
   {
    "duration": 302,
    "start_time": "2021-12-16T18:25:49.718Z"
   },
   {
    "duration": 298,
    "start_time": "2021-12-16T18:26:06.989Z"
   },
   {
    "duration": 305,
    "start_time": "2021-12-16T18:26:20.537Z"
   },
   {
    "duration": 1505,
    "start_time": "2021-12-16T18:26:29.823Z"
   },
   {
    "duration": 4,
    "start_time": "2021-12-16T18:26:31.331Z"
   },
   {
    "duration": 70,
    "start_time": "2021-12-16T18:26:31.343Z"
   },
   {
    "duration": 13,
    "start_time": "2021-12-16T18:26:31.416Z"
   },
   {
    "duration": 59,
    "start_time": "2021-12-16T18:26:31.431Z"
   },
   {
    "duration": 13,
    "start_time": "2021-12-16T18:26:31.493Z"
   },
   {
    "duration": 70,
    "start_time": "2021-12-16T18:26:31.511Z"
   },
   {
    "duration": 14,
    "start_time": "2021-12-16T18:26:31.585Z"
   },
   {
    "duration": 12,
    "start_time": "2021-12-16T18:26:31.602Z"
   },
   {
    "duration": 30,
    "start_time": "2021-12-16T18:26:31.617Z"
   },
   {
    "duration": 6,
    "start_time": "2021-12-16T18:26:31.668Z"
   },
   {
    "duration": 47,
    "start_time": "2021-12-16T18:26:31.677Z"
   },
   {
    "duration": 24,
    "start_time": "2021-12-16T18:26:31.727Z"
   },
   {
    "duration": 15,
    "start_time": "2021-12-16T18:26:31.753Z"
   },
   {
    "duration": 21,
    "start_time": "2021-12-16T18:26:31.770Z"
   },
   {
    "duration": 148,
    "start_time": "2021-12-16T18:26:31.793Z"
   },
   {
    "duration": 23,
    "start_time": "2021-12-16T18:26:31.944Z"
   },
   {
    "duration": 10,
    "start_time": "2021-12-16T18:26:31.971Z"
   },
   {
    "duration": 23,
    "start_time": "2021-12-16T18:26:31.984Z"
   },
   {
    "duration": 31,
    "start_time": "2021-12-16T18:26:32.010Z"
   },
   {
    "duration": 32,
    "start_time": "2021-12-16T18:26:32.044Z"
   },
   {
    "duration": 317,
    "start_time": "2021-12-16T18:26:32.080Z"
   },
   {
    "duration": 109,
    "start_time": "2021-12-16T18:26:32.401Z"
   },
   {
    "duration": 62,
    "start_time": "2021-12-16T18:26:32.513Z"
   },
   {
    "duration": 100,
    "start_time": "2021-12-16T18:26:32.578Z"
   },
   {
    "duration": 473,
    "start_time": "2021-12-16T18:26:32.681Z"
   },
   {
    "duration": 16,
    "start_time": "2021-12-16T18:26:33.156Z"
   },
   {
    "duration": 11,
    "start_time": "2021-12-16T18:26:33.175Z"
   },
   {
    "duration": 14,
    "start_time": "2021-12-16T18:26:33.189Z"
   },
   {
    "duration": 222,
    "start_time": "2021-12-16T18:26:33.206Z"
   },
   {
    "duration": 8355,
    "start_time": "2021-12-16T18:26:33.430Z"
   },
   {
    "duration": 25,
    "start_time": "2021-12-16T18:26:41.788Z"
   },
   {
    "duration": 27,
    "start_time": "2021-12-16T18:26:41.816Z"
   },
   {
    "duration": 25,
    "start_time": "2021-12-16T18:26:41.845Z"
   },
   {
    "duration": 26,
    "start_time": "2021-12-16T18:26:41.873Z"
   },
   {
    "duration": 323,
    "start_time": "2021-12-16T18:26:41.902Z"
   },
   {
    "duration": 394,
    "start_time": "2021-12-16T18:28:33.542Z"
   },
   {
    "duration": 349,
    "start_time": "2021-12-16T18:28:46.866Z"
   },
   {
    "duration": 9,
    "start_time": "2021-12-16T18:29:07.126Z"
   },
   {
    "duration": 6,
    "start_time": "2021-12-16T18:29:15.366Z"
   },
   {
    "duration": 9,
    "start_time": "2021-12-16T18:29:37.361Z"
   },
   {
    "duration": 11,
    "start_time": "2021-12-16T18:29:42.579Z"
   },
   {
    "duration": 1452,
    "start_time": "2021-12-16T18:30:02.571Z"
   },
   {
    "duration": 5,
    "start_time": "2021-12-16T18:30:04.026Z"
   },
   {
    "duration": 66,
    "start_time": "2021-12-16T18:30:04.034Z"
   },
   {
    "duration": 13,
    "start_time": "2021-12-16T18:30:04.103Z"
   },
   {
    "duration": 55,
    "start_time": "2021-12-16T18:30:04.118Z"
   },
   {
    "duration": 10,
    "start_time": "2021-12-16T18:30:04.176Z"
   },
   {
    "duration": 35,
    "start_time": "2021-12-16T18:30:04.189Z"
   },
   {
    "duration": 39,
    "start_time": "2021-12-16T18:30:04.228Z"
   },
   {
    "duration": 7,
    "start_time": "2021-12-16T18:30:04.270Z"
   },
   {
    "duration": 20,
    "start_time": "2021-12-16T18:30:04.280Z"
   },
   {
    "duration": 5,
    "start_time": "2021-12-16T18:30:04.303Z"
   },
   {
    "duration": 63,
    "start_time": "2021-12-16T18:30:04.310Z"
   },
   {
    "duration": 20,
    "start_time": "2021-12-16T18:30:04.375Z"
   },
   {
    "duration": 8,
    "start_time": "2021-12-16T18:30:04.397Z"
   },
   {
    "duration": 9,
    "start_time": "2021-12-16T18:30:04.407Z"
   },
   {
    "duration": 170,
    "start_time": "2021-12-16T18:30:04.419Z"
   },
   {
    "duration": 24,
    "start_time": "2021-12-16T18:30:04.592Z"
   },
   {
    "duration": 21,
    "start_time": "2021-12-16T18:30:04.619Z"
   },
   {
    "duration": 21,
    "start_time": "2021-12-16T18:30:04.643Z"
   },
   {
    "duration": 24,
    "start_time": "2021-12-16T18:30:04.667Z"
   },
   {
    "duration": 23,
    "start_time": "2021-12-16T18:30:04.693Z"
   },
   {
    "duration": 330,
    "start_time": "2021-12-16T18:30:04.718Z"
   },
   {
    "duration": 18,
    "start_time": "2021-12-16T18:30:05.053Z"
   },
   {
    "duration": 117,
    "start_time": "2021-12-16T18:30:05.074Z"
   },
   {
    "duration": 92,
    "start_time": "2021-12-16T18:30:05.277Z"
   },
   {
    "duration": 29,
    "start_time": "2021-12-16T18:30:05.372Z"
   },
   {
    "duration": 441,
    "start_time": "2021-12-16T18:30:05.404Z"
   },
   {
    "duration": 19,
    "start_time": "2021-12-16T18:30:05.847Z"
   },
   {
    "duration": 10,
    "start_time": "2021-12-16T18:30:05.869Z"
   },
   {
    "duration": 13,
    "start_time": "2021-12-16T18:30:05.881Z"
   },
   {
    "duration": 8,
    "start_time": "2021-12-16T18:30:05.897Z"
   },
   {
    "duration": 212,
    "start_time": "2021-12-16T18:30:05.908Z"
   },
   {
    "duration": 6363,
    "start_time": "2021-12-16T18:30:06.122Z"
   },
   {
    "duration": 15,
    "start_time": "2021-12-16T18:30:12.487Z"
   },
   {
    "duration": 19,
    "start_time": "2021-12-16T18:30:12.505Z"
   },
   {
    "duration": 8,
    "start_time": "2021-12-16T18:30:12.526Z"
   },
   {
    "duration": 37,
    "start_time": "2021-12-16T18:30:12.537Z"
   },
   {
    "duration": 318,
    "start_time": "2021-12-16T18:30:12.577Z"
   },
   {
    "duration": 9,
    "start_time": "2021-12-16T18:30:12.897Z"
   },
   {
    "duration": 7,
    "start_time": "2021-12-16T18:31:15.791Z"
   },
   {
    "duration": 15,
    "start_time": "2021-12-16T18:46:56.697Z"
   },
   {
    "duration": 1536,
    "start_time": "2021-12-16T18:47:23.568Z"
   },
   {
    "duration": 4,
    "start_time": "2021-12-16T18:47:25.107Z"
   },
   {
    "duration": 66,
    "start_time": "2021-12-16T18:47:25.114Z"
   },
   {
    "duration": 13,
    "start_time": "2021-12-16T18:47:25.183Z"
   },
   {
    "duration": 36,
    "start_time": "2021-12-16T18:47:25.200Z"
   },
   {
    "duration": 39,
    "start_time": "2021-12-16T18:47:25.239Z"
   },
   {
    "duration": 40,
    "start_time": "2021-12-16T18:47:25.280Z"
   },
   {
    "duration": 48,
    "start_time": "2021-12-16T18:47:25.324Z"
   },
   {
    "duration": 6,
    "start_time": "2021-12-16T18:47:25.375Z"
   },
   {
    "duration": 18,
    "start_time": "2021-12-16T18:47:25.383Z"
   },
   {
    "duration": 10,
    "start_time": "2021-12-16T18:47:25.404Z"
   },
   {
    "duration": 51,
    "start_time": "2021-12-16T18:47:25.416Z"
   },
   {
    "duration": 20,
    "start_time": "2021-12-16T18:47:25.470Z"
   },
   {
    "duration": 9,
    "start_time": "2021-12-16T18:47:25.492Z"
   },
   {
    "duration": 9,
    "start_time": "2021-12-16T18:47:25.503Z"
   },
   {
    "duration": 171,
    "start_time": "2021-12-16T18:47:25.514Z"
   },
   {
    "duration": 11,
    "start_time": "2021-12-16T18:47:25.688Z"
   },
   {
    "duration": 8,
    "start_time": "2021-12-16T18:47:25.702Z"
   },
   {
    "duration": 9,
    "start_time": "2021-12-16T18:47:25.712Z"
   },
   {
    "duration": 44,
    "start_time": "2021-12-16T18:47:25.724Z"
   },
   {
    "duration": 7,
    "start_time": "2021-12-16T18:47:25.770Z"
   },
   {
    "duration": 336,
    "start_time": "2021-12-16T18:47:25.779Z"
   },
   {
    "duration": 8,
    "start_time": "2021-12-16T18:47:26.121Z"
   },
   {
    "duration": 142,
    "start_time": "2021-12-16T18:47:26.132Z"
   },
   {
    "duration": 94,
    "start_time": "2021-12-16T18:47:26.277Z"
   },
   {
    "duration": 98,
    "start_time": "2021-12-16T18:47:26.374Z"
   },
   {
    "duration": 9,
    "start_time": "2021-12-16T18:47:26.474Z"
   },
   {
    "duration": 6,
    "start_time": "2021-12-16T18:47:26.485Z"
   },
   {
    "duration": 12,
    "start_time": "2021-12-16T18:47:26.493Z"
   },
   {
    "duration": 446,
    "start_time": "2021-12-16T18:47:26.507Z"
   },
   {
    "duration": 13,
    "start_time": "2021-12-16T18:47:26.955Z"
   },
   {
    "duration": 11,
    "start_time": "2021-12-16T18:47:26.971Z"
   },
   {
    "duration": 12,
    "start_time": "2021-12-16T18:47:26.984Z"
   },
   {
    "duration": 8,
    "start_time": "2021-12-16T18:47:26.999Z"
   },
   {
    "duration": 258,
    "start_time": "2021-12-16T18:47:27.010Z"
   },
   {
    "duration": 9166,
    "start_time": "2021-12-16T18:47:27.271Z"
   },
   {
    "duration": 64,
    "start_time": "2021-12-16T18:47:36.440Z"
   },
   {
    "duration": 11,
    "start_time": "2021-12-16T18:47:36.507Z"
   },
   {
    "duration": 9,
    "start_time": "2021-12-16T18:47:36.521Z"
   },
   {
    "duration": 40,
    "start_time": "2021-12-16T18:47:36.533Z"
   },
   {
    "duration": 426,
    "start_time": "2021-12-16T18:47:36.576Z"
   },
   {
    "duration": 9,
    "start_time": "2021-12-16T18:47:37.005Z"
   },
   {
    "duration": 7,
    "start_time": "2021-12-16T18:47:37.016Z"
   },
   {
    "duration": 1487,
    "start_time": "2021-12-16T18:48:53.837Z"
   },
   {
    "duration": 4,
    "start_time": "2021-12-16T18:48:55.327Z"
   },
   {
    "duration": 61,
    "start_time": "2021-12-16T18:48:55.333Z"
   },
   {
    "duration": 14,
    "start_time": "2021-12-16T18:48:55.397Z"
   },
   {
    "duration": 58,
    "start_time": "2021-12-16T18:48:55.414Z"
   },
   {
    "duration": 11,
    "start_time": "2021-12-16T18:48:55.474Z"
   },
   {
    "duration": 56,
    "start_time": "2021-12-16T18:48:55.487Z"
   },
   {
    "duration": 23,
    "start_time": "2021-12-16T18:48:55.547Z"
   },
   {
    "duration": 11,
    "start_time": "2021-12-16T18:48:55.574Z"
   },
   {
    "duration": 31,
    "start_time": "2021-12-16T18:48:55.588Z"
   },
   {
    "duration": 25,
    "start_time": "2021-12-16T18:48:55.622Z"
   },
   {
    "duration": 50,
    "start_time": "2021-12-16T18:48:55.650Z"
   },
   {
    "duration": 34,
    "start_time": "2021-12-16T18:48:55.702Z"
   },
   {
    "duration": 6,
    "start_time": "2021-12-16T18:48:55.739Z"
   },
   {
    "duration": 18,
    "start_time": "2021-12-16T18:48:55.747Z"
   },
   {
    "duration": 148,
    "start_time": "2021-12-16T18:48:55.768Z"
   },
   {
    "duration": 9,
    "start_time": "2021-12-16T18:48:55.918Z"
   },
   {
    "duration": 19,
    "start_time": "2021-12-16T18:48:55.930Z"
   },
   {
    "duration": 30,
    "start_time": "2021-12-16T18:48:55.951Z"
   },
   {
    "duration": 27,
    "start_time": "2021-12-16T18:48:55.984Z"
   },
   {
    "duration": 17,
    "start_time": "2021-12-16T18:48:56.013Z"
   },
   {
    "duration": 304,
    "start_time": "2021-12-16T18:48:56.033Z"
   },
   {
    "duration": 8,
    "start_time": "2021-12-16T18:48:56.342Z"
   },
   {
    "duration": 119,
    "start_time": "2021-12-16T18:48:56.353Z"
   },
   {
    "duration": 95,
    "start_time": "2021-12-16T18:48:56.475Z"
   },
   {
    "duration": 100,
    "start_time": "2021-12-16T18:48:56.574Z"
   },
   {
    "duration": 16,
    "start_time": "2021-12-16T18:48:56.676Z"
   },
   {
    "duration": 10,
    "start_time": "2021-12-16T18:48:56.695Z"
   },
   {
    "duration": 23,
    "start_time": "2021-12-16T18:48:56.707Z"
   },
   {
    "duration": 505,
    "start_time": "2021-12-16T18:48:56.732Z"
   },
   {
    "duration": 9,
    "start_time": "2021-12-16T18:48:57.239Z"
   },
   {
    "duration": 24,
    "start_time": "2021-12-16T18:48:57.250Z"
   },
   {
    "duration": 26,
    "start_time": "2021-12-16T18:48:57.276Z"
   },
   {
    "duration": 21,
    "start_time": "2021-12-16T18:48:57.304Z"
   },
   {
    "duration": 220,
    "start_time": "2021-12-16T18:48:57.328Z"
   },
   {
    "duration": 17,
    "start_time": "2021-12-16T18:48:57.551Z"
   },
   {
    "duration": 18,
    "start_time": "2021-12-16T18:48:57.570Z"
   },
   {
    "duration": 18,
    "start_time": "2021-12-16T18:48:57.590Z"
   },
   {
    "duration": 300,
    "start_time": "2021-12-16T18:48:57.610Z"
   },
   {
    "duration": 8,
    "start_time": "2021-12-16T18:48:57.912Z"
   },
   {
    "duration": 20,
    "start_time": "2021-12-16T18:48:57.922Z"
   },
   {
    "duration": 10944,
    "start_time": "2021-12-16T18:48:57.945Z"
   },
   {
    "duration": 30,
    "start_time": "2021-12-16T18:49:08.892Z"
   },
   {
    "duration": 2642,
    "start_time": "2021-12-16T18:50:48.687Z"
   },
   {
    "duration": 6,
    "start_time": "2021-12-16T18:50:51.333Z"
   },
   {
    "duration": 92,
    "start_time": "2021-12-16T18:50:51.343Z"
   },
   {
    "duration": 31,
    "start_time": "2021-12-16T18:50:51.439Z"
   },
   {
    "duration": 55,
    "start_time": "2021-12-16T18:50:51.474Z"
   },
   {
    "duration": 43,
    "start_time": "2021-12-16T18:50:51.533Z"
   },
   {
    "duration": 56,
    "start_time": "2021-12-16T18:50:51.579Z"
   },
   {
    "duration": 40,
    "start_time": "2021-12-16T18:50:51.638Z"
   },
   {
    "duration": 10,
    "start_time": "2021-12-16T18:50:51.684Z"
   },
   {
    "duration": 32,
    "start_time": "2021-12-16T18:50:51.699Z"
   },
   {
    "duration": 7,
    "start_time": "2021-12-16T18:50:51.734Z"
   },
   {
    "duration": 21,
    "start_time": "2021-12-16T18:50:51.768Z"
   },
   {
    "duration": 21,
    "start_time": "2021-12-16T18:50:51.792Z"
   },
   {
    "duration": 52,
    "start_time": "2021-12-16T18:50:51.816Z"
   },
   {
    "duration": 11,
    "start_time": "2021-12-16T18:50:51.871Z"
   },
   {
    "duration": 157,
    "start_time": "2021-12-16T18:50:51.886Z"
   },
   {
    "duration": 24,
    "start_time": "2021-12-16T18:50:52.045Z"
   },
   {
    "duration": 11,
    "start_time": "2021-12-16T18:50:52.072Z"
   },
   {
    "duration": 11,
    "start_time": "2021-12-16T18:50:52.086Z"
   },
   {
    "duration": 11,
    "start_time": "2021-12-16T18:50:52.100Z"
   },
   {
    "duration": 55,
    "start_time": "2021-12-16T18:50:52.114Z"
   },
   {
    "duration": 467,
    "start_time": "2021-12-16T18:50:52.172Z"
   },
   {
    "duration": 11,
    "start_time": "2021-12-16T18:50:52.642Z"
   },
   {
    "duration": 112,
    "start_time": "2021-12-16T18:50:52.668Z"
   },
   {
    "duration": 102,
    "start_time": "2021-12-16T18:50:52.867Z"
   },
   {
    "duration": 12,
    "start_time": "2021-12-16T18:50:52.972Z"
   },
   {
    "duration": 9,
    "start_time": "2021-12-16T18:50:52.990Z"
   },
   {
    "duration": 7,
    "start_time": "2021-12-16T18:50:53.002Z"
   },
   {
    "duration": 58,
    "start_time": "2021-12-16T18:50:53.011Z"
   },
   {
    "duration": 469,
    "start_time": "2021-12-16T18:50:53.071Z"
   },
   {
    "duration": 27,
    "start_time": "2021-12-16T18:50:53.543Z"
   },
   {
    "duration": 13,
    "start_time": "2021-12-16T18:50:53.573Z"
   },
   {
    "duration": 13,
    "start_time": "2021-12-16T18:50:53.589Z"
   },
   {
    "duration": 11,
    "start_time": "2021-12-16T18:50:53.605Z"
   },
   {
    "duration": 272,
    "start_time": "2021-12-16T18:50:53.619Z"
   },
   {
    "duration": 12,
    "start_time": "2021-12-16T18:50:53.894Z"
   },
   {
    "duration": 11,
    "start_time": "2021-12-16T18:50:53.909Z"
   },
   {
    "duration": 46,
    "start_time": "2021-12-16T18:50:53.923Z"
   },
   {
    "duration": 305,
    "start_time": "2021-12-16T18:50:53.972Z"
   },
   {
    "duration": 8,
    "start_time": "2021-12-16T18:50:54.280Z"
   },
   {
    "duration": 7,
    "start_time": "2021-12-16T18:50:54.290Z"
   },
   {
    "duration": 8467,
    "start_time": "2021-12-16T18:50:54.300Z"
   },
   {
    "duration": 32,
    "start_time": "2021-12-16T18:51:02.770Z"
   },
   {
    "duration": 6,
    "start_time": "2021-12-16T18:51:02.804Z"
   },
   {
    "duration": 12,
    "start_time": "2021-12-16T18:51:02.812Z"
   },
   {
    "duration": 41,
    "start_time": "2021-12-16T18:51:02.827Z"
   },
   {
    "duration": 9,
    "start_time": "2021-12-16T18:51:02.870Z"
   },
   {
    "duration": 339,
    "start_time": "2021-12-16T18:51:02.882Z"
   },
   {
    "duration": 8621,
    "start_time": "2021-12-16T18:55:58.527Z"
   },
   {
    "duration": 47,
    "start_time": "2021-12-16T18:56:07.152Z"
   },
   {
    "duration": 7,
    "start_time": "2021-12-16T18:56:07.203Z"
   },
   {
    "duration": 9,
    "start_time": "2021-12-16T18:56:07.212Z"
   },
   {
    "duration": 45,
    "start_time": "2021-12-16T18:56:07.224Z"
   },
   {
    "duration": 12,
    "start_time": "2021-12-16T18:56:07.272Z"
   },
   {
    "duration": 525,
    "start_time": "2021-12-16T18:56:07.287Z"
   },
   {
    "duration": 108,
    "start_time": "2021-12-16T18:58:03.408Z"
   },
   {
    "duration": 86,
    "start_time": "2021-12-16T18:58:26.200Z"
   },
   {
    "duration": 417,
    "start_time": "2021-12-16T19:01:59.359Z"
   },
   {
    "duration": 140,
    "start_time": "2021-12-16T19:04:02.460Z"
   },
   {
    "duration": 1650,
    "start_time": "2021-12-16T19:04:27.423Z"
   },
   {
    "duration": 5,
    "start_time": "2021-12-16T19:04:29.077Z"
   },
   {
    "duration": 62,
    "start_time": "2021-12-16T19:04:29.085Z"
   },
   {
    "duration": 22,
    "start_time": "2021-12-16T19:04:29.150Z"
   },
   {
    "duration": 34,
    "start_time": "2021-12-16T19:04:29.175Z"
   },
   {
    "duration": 11,
    "start_time": "2021-12-16T19:04:29.211Z"
   },
   {
    "duration": 72,
    "start_time": "2021-12-16T19:04:29.225Z"
   },
   {
    "duration": 30,
    "start_time": "2021-12-16T19:04:29.300Z"
   },
   {
    "duration": 35,
    "start_time": "2021-12-16T19:04:29.333Z"
   },
   {
    "duration": 48,
    "start_time": "2021-12-16T19:04:29.371Z"
   },
   {
    "duration": 28,
    "start_time": "2021-12-16T19:04:29.422Z"
   },
   {
    "duration": 30,
    "start_time": "2021-12-16T19:04:29.453Z"
   },
   {
    "duration": 39,
    "start_time": "2021-12-16T19:04:29.486Z"
   },
   {
    "duration": 43,
    "start_time": "2021-12-16T19:04:29.528Z"
   },
   {
    "duration": 28,
    "start_time": "2021-12-16T19:04:29.574Z"
   },
   {
    "duration": 146,
    "start_time": "2021-12-16T19:04:29.604Z"
   },
   {
    "duration": 15,
    "start_time": "2021-12-16T19:04:29.752Z"
   },
   {
    "duration": 8,
    "start_time": "2021-12-16T19:04:29.770Z"
   },
   {
    "duration": 10,
    "start_time": "2021-12-16T19:04:29.780Z"
   },
   {
    "duration": 8,
    "start_time": "2021-12-16T19:04:29.793Z"
   },
   {
    "duration": 7,
    "start_time": "2021-12-16T19:04:29.804Z"
   },
   {
    "duration": 360,
    "start_time": "2021-12-16T19:04:29.814Z"
   },
   {
    "duration": 9,
    "start_time": "2021-12-16T19:04:30.179Z"
   },
   {
    "duration": 121,
    "start_time": "2021-12-16T19:04:30.192Z"
   },
   {
    "duration": 101,
    "start_time": "2021-12-16T19:04:30.368Z"
   },
   {
    "duration": 12,
    "start_time": "2021-12-16T19:04:30.472Z"
   },
   {
    "duration": 13,
    "start_time": "2021-12-16T19:04:30.486Z"
   },
   {
    "duration": 20,
    "start_time": "2021-12-16T19:04:30.502Z"
   },
   {
    "duration": 52,
    "start_time": "2021-12-16T19:04:30.524Z"
   },
   {
    "duration": 454,
    "start_time": "2021-12-16T19:04:30.579Z"
   },
   {
    "duration": 12,
    "start_time": "2021-12-16T19:04:31.036Z"
   },
   {
    "duration": 49,
    "start_time": "2021-12-16T19:04:31.050Z"
   },
   {
    "duration": 19,
    "start_time": "2021-12-16T19:04:31.102Z"
   },
   {
    "duration": 42,
    "start_time": "2021-12-16T19:04:31.124Z"
   },
   {
    "duration": 246,
    "start_time": "2021-12-16T19:04:31.168Z"
   },
   {
    "duration": 13,
    "start_time": "2021-12-16T19:04:31.417Z"
   },
   {
    "duration": 35,
    "start_time": "2021-12-16T19:04:31.434Z"
   },
   {
    "duration": 12,
    "start_time": "2021-12-16T19:04:31.472Z"
   },
   {
    "duration": 490,
    "start_time": "2021-12-16T19:04:31.487Z"
   },
   {
    "duration": 12,
    "start_time": "2021-12-16T19:04:31.980Z"
   },
   {
    "duration": 8,
    "start_time": "2021-12-16T19:04:31.995Z"
   },
   {
    "duration": 10986,
    "start_time": "2021-12-16T19:04:32.006Z"
   },
   {
    "duration": 74,
    "start_time": "2021-12-16T19:04:42.996Z"
   },
   {
    "duration": 9,
    "start_time": "2021-12-16T19:04:43.073Z"
   },
   {
    "duration": 20,
    "start_time": "2021-12-16T19:04:43.085Z"
   },
   {
    "duration": 11,
    "start_time": "2021-12-16T19:04:43.109Z"
   },
   {
    "duration": 44,
    "start_time": "2021-12-16T19:04:43.123Z"
   },
   {
    "duration": 518,
    "start_time": "2021-12-16T19:04:43.171Z"
   },
   {
    "duration": 42,
    "start_time": "2021-12-16T19:07:41.784Z"
   },
   {
    "duration": 45,
    "start_time": "2021-12-16T19:09:54.931Z"
   },
   {
    "duration": 4,
    "start_time": "2021-12-16T19:12:43.208Z"
   },
   {
    "duration": 1548,
    "start_time": "2021-12-16T19:20:28.725Z"
   },
   {
    "duration": 6,
    "start_time": "2021-12-16T19:20:30.277Z"
   },
   {
    "duration": 117,
    "start_time": "2021-12-16T19:20:30.288Z"
   },
   {
    "duration": 13,
    "start_time": "2021-12-16T19:20:30.408Z"
   },
   {
    "duration": 57,
    "start_time": "2021-12-16T19:20:30.423Z"
   },
   {
    "duration": 13,
    "start_time": "2021-12-16T19:20:30.483Z"
   },
   {
    "duration": 95,
    "start_time": "2021-12-16T19:20:30.499Z"
   },
   {
    "duration": 12,
    "start_time": "2021-12-16T19:20:30.598Z"
   },
   {
    "duration": 16,
    "start_time": "2021-12-16T19:20:30.613Z"
   },
   {
    "duration": 24,
    "start_time": "2021-12-16T19:20:30.632Z"
   },
   {
    "duration": 5,
    "start_time": "2021-12-16T19:20:30.668Z"
   },
   {
    "duration": 37,
    "start_time": "2021-12-16T19:20:30.677Z"
   },
   {
    "duration": 52,
    "start_time": "2021-12-16T19:20:30.717Z"
   },
   {
    "duration": 10,
    "start_time": "2021-12-16T19:20:30.772Z"
   },
   {
    "duration": 50,
    "start_time": "2021-12-16T19:20:30.785Z"
   },
   {
    "duration": 216,
    "start_time": "2021-12-16T19:20:30.839Z"
   },
   {
    "duration": 17,
    "start_time": "2021-12-16T19:20:31.059Z"
   },
   {
    "duration": 71,
    "start_time": "2021-12-16T19:20:31.079Z"
   },
   {
    "duration": 23,
    "start_time": "2021-12-16T19:20:31.153Z"
   },
   {
    "duration": 26,
    "start_time": "2021-12-16T19:20:31.178Z"
   },
   {
    "duration": 9,
    "start_time": "2021-12-16T19:20:31.207Z"
   },
   {
    "duration": 315,
    "start_time": "2021-12-16T19:20:31.219Z"
   },
   {
    "duration": 29,
    "start_time": "2021-12-16T19:20:31.541Z"
   },
   {
    "duration": 112,
    "start_time": "2021-12-16T19:20:31.574Z"
   },
   {
    "duration": 81,
    "start_time": "2021-12-16T19:20:31.689Z"
   },
   {
    "duration": 98,
    "start_time": "2021-12-16T19:20:31.773Z"
   },
   {
    "duration": 9,
    "start_time": "2021-12-16T19:20:31.874Z"
   },
   {
    "duration": 16,
    "start_time": "2021-12-16T19:20:31.885Z"
   },
   {
    "duration": 22,
    "start_time": "2021-12-16T19:20:31.904Z"
   },
   {
    "duration": 485,
    "start_time": "2021-12-16T19:20:31.930Z"
   },
   {
    "duration": 11,
    "start_time": "2021-12-16T19:20:32.418Z"
   },
   {
    "duration": 38,
    "start_time": "2021-12-16T19:20:32.432Z"
   },
   {
    "duration": 13,
    "start_time": "2021-12-16T19:20:32.473Z"
   },
   {
    "duration": 10,
    "start_time": "2021-12-16T19:20:32.489Z"
   },
   {
    "duration": 251,
    "start_time": "2021-12-16T19:20:32.502Z"
   },
   {
    "duration": 18,
    "start_time": "2021-12-16T19:20:32.755Z"
   },
   {
    "duration": 8,
    "start_time": "2021-12-16T19:20:32.776Z"
   },
   {
    "duration": 10,
    "start_time": "2021-12-16T19:20:32.787Z"
   },
   {
    "duration": 333,
    "start_time": "2021-12-16T19:20:32.800Z"
   },
   {
    "duration": 9,
    "start_time": "2021-12-16T19:20:33.136Z"
   },
   {
    "duration": 21,
    "start_time": "2021-12-16T19:20:33.148Z"
   },
   {
    "duration": 10323,
    "start_time": "2021-12-16T19:20:33.171Z"
   },
   {
    "duration": 38,
    "start_time": "2021-12-16T19:20:43.497Z"
   },
   {
    "duration": 34,
    "start_time": "2021-12-16T19:20:43.538Z"
   },
   {
    "duration": 42,
    "start_time": "2021-12-16T19:20:43.574Z"
   },
   {
    "duration": 47,
    "start_time": "2021-12-16T19:20:43.618Z"
   },
   {
    "duration": 37,
    "start_time": "2021-12-16T19:20:43.667Z"
   },
   {
    "duration": 523,
    "start_time": "2021-12-16T19:20:43.706Z"
   },
   {
    "duration": 259,
    "start_time": "2021-12-17T16:04:15.448Z"
   },
   {
    "duration": 1105,
    "start_time": "2021-12-17T16:04:24.983Z"
   },
   {
    "duration": 3,
    "start_time": "2021-12-17T16:04:26.089Z"
   },
   {
    "duration": 58,
    "start_time": "2021-12-17T16:04:26.094Z"
   },
   {
    "duration": 8,
    "start_time": "2021-12-17T16:04:26.154Z"
   },
   {
    "duration": 22,
    "start_time": "2021-12-17T16:04:26.335Z"
   },
   {
    "duration": 8,
    "start_time": "2021-12-17T16:04:26.815Z"
   },
   {
    "duration": 23,
    "start_time": "2021-12-17T16:04:27.034Z"
   },
   {
    "duration": 9,
    "start_time": "2021-12-17T16:04:27.240Z"
   },
   {
    "duration": 5,
    "start_time": "2021-12-17T16:04:27.614Z"
   },
   {
    "duration": 11,
    "start_time": "2021-12-17T16:04:27.804Z"
   },
   {
    "duration": 4,
    "start_time": "2021-12-17T16:04:28.588Z"
   },
   {
    "duration": 16,
    "start_time": "2021-12-17T16:04:28.774Z"
   },
   {
    "duration": 13,
    "start_time": "2021-12-17T16:04:28.961Z"
   },
   {
    "duration": 6,
    "start_time": "2021-12-17T16:04:29.355Z"
   },
   {
    "duration": 6,
    "start_time": "2021-12-17T16:04:29.847Z"
   },
   {
    "duration": 86,
    "start_time": "2021-12-17T16:04:30.334Z"
   },
   {
    "duration": 7,
    "start_time": "2021-12-17T16:04:30.605Z"
   },
   {
    "duration": 6,
    "start_time": "2021-12-17T16:04:30.899Z"
   },
   {
    "duration": 6,
    "start_time": "2021-12-17T16:04:31.266Z"
   },
   {
    "duration": 6,
    "start_time": "2021-12-17T16:04:31.547Z"
   },
   {
    "duration": 5,
    "start_time": "2021-12-17T16:04:31.730Z"
   },
   {
    "duration": 171,
    "start_time": "2021-12-17T16:04:31.958Z"
   },
   {
    "duration": 6,
    "start_time": "2021-12-17T16:04:32.632Z"
   },
   {
    "duration": 6,
    "start_time": "2021-12-17T16:04:54.801Z"
   },
   {
    "duration": 48,
    "start_time": "2021-12-17T16:04:56.304Z"
   },
   {
    "duration": 7,
    "start_time": "2021-12-17T16:04:56.712Z"
   },
   {
    "duration": 6,
    "start_time": "2021-12-17T16:04:57.109Z"
   },
   {
    "duration": 7,
    "start_time": "2021-12-17T16:04:57.456Z"
   },
   {
    "duration": 5,
    "start_time": "2021-12-17T16:04:58.067Z"
   },
   {
    "duration": 7,
    "start_time": "2021-12-17T16:04:58.491Z"
   },
   {
    "duration": 357,
    "start_time": "2021-12-17T16:04:59.263Z"
   },
   {
    "duration": 294,
    "start_time": "2021-12-17T16:05:07.622Z"
   },
   {
    "duration": 6,
    "start_time": "2021-12-17T16:05:21.822Z"
   },
   {
    "duration": 8,
    "start_time": "2021-12-17T16:05:23.003Z"
   },
   {
    "duration": 7,
    "start_time": "2021-12-17T16:05:23.470Z"
   },
   {
    "duration": 8,
    "start_time": "2021-12-17T16:05:24.114Z"
   },
   {
    "duration": 136,
    "start_time": "2021-12-17T16:05:24.394Z"
   },
   {
    "duration": 7,
    "start_time": "2021-12-17T16:05:24.783Z"
   },
   {
    "duration": 6,
    "start_time": "2021-12-17T16:05:25.206Z"
   },
   {
    "duration": 6,
    "start_time": "2021-12-17T16:05:25.662Z"
   },
   {
    "duration": 171,
    "start_time": "2021-12-17T16:05:34.506Z"
   },
   {
    "duration": 9,
    "start_time": "2021-12-17T16:05:37.620Z"
   },
   {
    "duration": 5,
    "start_time": "2021-12-17T16:05:37.878Z"
   },
   {
    "duration": 167,
    "start_time": "2021-12-17T16:08:59.677Z"
   },
   {
    "duration": 5724,
    "start_time": "2021-12-17T16:09:06.172Z"
   },
   {
    "duration": 32,
    "start_time": "2021-12-17T16:09:11.898Z"
   },
   {
    "duration": 6,
    "start_time": "2021-12-17T16:09:11.933Z"
   },
   {
    "duration": 7,
    "start_time": "2021-12-17T16:09:11.965Z"
   },
   {
    "duration": 7,
    "start_time": "2021-12-17T16:09:11.974Z"
   },
   {
    "duration": 8,
    "start_time": "2021-12-17T16:09:11.983Z"
   },
   {
    "duration": 207,
    "start_time": "2021-12-17T16:09:11.992Z"
   },
   {
    "duration": 4960,
    "start_time": "2021-12-17T17:10:13.748Z"
   },
   {
    "duration": 15,
    "start_time": "2021-12-17T17:10:18.710Z"
   },
   {
    "duration": 6,
    "start_time": "2021-12-17T17:10:18.727Z"
   },
   {
    "duration": 33,
    "start_time": "2021-12-17T17:10:18.735Z"
   },
   {
    "duration": 9,
    "start_time": "2021-12-17T17:10:18.771Z"
   },
   {
    "duration": 7,
    "start_time": "2021-12-17T17:10:18.782Z"
   },
   {
    "duration": 222,
    "start_time": "2021-12-17T17:10:18.791Z"
   },
   {
    "duration": 6680,
    "start_time": "2021-12-17T17:10:53.539Z"
   },
   {
    "duration": 27,
    "start_time": "2021-12-17T17:11:00.221Z"
   },
   {
    "duration": 5,
    "start_time": "2021-12-17T17:11:00.264Z"
   },
   {
    "duration": 19,
    "start_time": "2021-12-17T17:11:00.272Z"
   },
   {
    "duration": 14,
    "start_time": "2021-12-17T17:11:00.293Z"
   },
   {
    "duration": 14,
    "start_time": "2021-12-17T17:11:00.309Z"
   },
   {
    "duration": 184,
    "start_time": "2021-12-17T17:11:00.993Z"
   },
   {
    "duration": 5969,
    "start_time": "2021-12-17T17:11:14.734Z"
   },
   {
    "duration": 34,
    "start_time": "2021-12-17T17:11:23.661Z"
   },
   {
    "duration": 5,
    "start_time": "2021-12-17T17:11:24.588Z"
   },
   {
    "duration": 6,
    "start_time": "2021-12-17T17:11:24.944Z"
   },
   {
    "duration": 6,
    "start_time": "2021-12-17T17:11:25.247Z"
   },
   {
    "duration": 9,
    "start_time": "2021-12-17T17:11:25.551Z"
   },
   {
    "duration": 195,
    "start_time": "2021-12-17T17:11:25.874Z"
   },
   {
    "duration": 6,
    "start_time": "2021-12-17T17:15:02.382Z"
   },
   {
    "duration": 7,
    "start_time": "2021-12-17T17:15:22.054Z"
   },
   {
    "duration": 1115,
    "start_time": "2021-12-17T17:15:45.971Z"
   },
   {
    "duration": 3,
    "start_time": "2021-12-17T17:15:47.088Z"
   },
   {
    "duration": 51,
    "start_time": "2021-12-17T17:15:47.093Z"
   },
   {
    "duration": 8,
    "start_time": "2021-12-17T17:15:47.146Z"
   },
   {
    "duration": 35,
    "start_time": "2021-12-17T17:15:47.155Z"
   },
   {
    "duration": 7,
    "start_time": "2021-12-17T17:15:47.192Z"
   },
   {
    "duration": 22,
    "start_time": "2021-12-17T17:15:47.201Z"
   },
   {
    "duration": 7,
    "start_time": "2021-12-17T17:15:47.224Z"
   },
   {
    "duration": 4,
    "start_time": "2021-12-17T17:15:47.234Z"
   },
   {
    "duration": 32,
    "start_time": "2021-12-17T17:15:47.241Z"
   },
   {
    "duration": 7,
    "start_time": "2021-12-17T17:15:47.275Z"
   },
   {
    "duration": 14,
    "start_time": "2021-12-17T17:15:47.284Z"
   },
   {
    "duration": 12,
    "start_time": "2021-12-17T17:15:47.300Z"
   },
   {
    "duration": 5,
    "start_time": "2021-12-17T17:15:47.314Z"
   },
   {
    "duration": 11,
    "start_time": "2021-12-17T17:15:47.320Z"
   },
   {
    "duration": 33,
    "start_time": "2021-12-17T17:15:47.333Z"
   },
   {
    "duration": 77,
    "start_time": "2021-12-17T17:15:47.369Z"
   },
   {
    "duration": 23,
    "start_time": "2021-12-17T17:15:47.448Z"
   },
   {
    "duration": 8,
    "start_time": "2021-12-17T17:15:47.473Z"
   },
   {
    "duration": 7,
    "start_time": "2021-12-17T17:15:47.483Z"
   },
   {
    "duration": 6,
    "start_time": "2021-12-17T17:15:47.492Z"
   },
   {
    "duration": 4,
    "start_time": "2021-12-17T17:15:47.500Z"
   },
   {
    "duration": 205,
    "start_time": "2021-12-17T17:15:47.505Z"
   },
   {
    "duration": 6,
    "start_time": "2021-12-17T17:15:47.712Z"
   },
   {
    "duration": 55,
    "start_time": "2021-12-17T17:15:47.720Z"
   },
   {
    "duration": 91,
    "start_time": "2021-12-17T17:15:47.777Z"
   },
   {
    "duration": 91,
    "start_time": "2021-12-17T17:15:47.873Z"
   },
   {
    "duration": 15,
    "start_time": "2021-12-17T17:15:47.967Z"
   },
   {
    "duration": 10,
    "start_time": "2021-12-17T17:15:47.984Z"
   },
   {
    "duration": 13,
    "start_time": "2021-12-17T17:15:47.996Z"
   },
   {
    "duration": 322,
    "start_time": "2021-12-17T17:15:48.011Z"
   },
   {
    "duration": 6,
    "start_time": "2021-12-17T17:15:48.335Z"
   },
   {
    "duration": 32,
    "start_time": "2021-12-17T17:15:48.342Z"
   },
   {
    "duration": 16,
    "start_time": "2021-12-17T17:15:48.376Z"
   },
   {
    "duration": 33,
    "start_time": "2021-12-17T17:15:48.394Z"
   },
   {
    "duration": 120,
    "start_time": "2021-12-17T17:15:48.429Z"
   },
   {
    "duration": 13,
    "start_time": "2021-12-17T17:15:48.551Z"
   },
   {
    "duration": 26,
    "start_time": "2021-12-17T17:15:48.565Z"
   },
   {
    "duration": 10,
    "start_time": "2021-12-17T17:15:48.593Z"
   },
   {
    "duration": 191,
    "start_time": "2021-12-17T17:15:48.605Z"
   },
   {
    "duration": 6,
    "start_time": "2021-12-17T17:15:48.798Z"
   },
   {
    "duration": 20,
    "start_time": "2021-12-17T17:15:48.805Z"
   },
   {
    "duration": 6825,
    "start_time": "2021-12-17T17:15:48.826Z"
   },
   {
    "duration": 30,
    "start_time": "2021-12-17T17:15:55.653Z"
   },
   {
    "duration": 4,
    "start_time": "2021-12-17T17:15:55.685Z"
   },
   {
    "duration": 7,
    "start_time": "2021-12-17T17:15:55.691Z"
   },
   {
    "duration": 6,
    "start_time": "2021-12-17T17:15:55.699Z"
   },
   {
    "duration": 8,
    "start_time": "2021-12-17T17:15:55.707Z"
   },
   {
    "duration": 219,
    "start_time": "2021-12-17T17:15:55.716Z"
   },
   {
    "duration": 19,
    "start_time": "2021-12-17T17:20:14.015Z"
   },
   {
    "duration": 321,
    "start_time": "2021-12-17T17:20:39.459Z"
   },
   {
    "duration": 23,
    "start_time": "2021-12-17T17:20:53.584Z"
   },
   {
    "duration": 5888,
    "start_time": "2021-12-17T17:24:19.401Z"
   },
   {
    "duration": 21,
    "start_time": "2021-12-17T17:24:25.800Z"
   },
   {
    "duration": 5,
    "start_time": "2021-12-17T17:24:26.108Z"
   },
   {
    "duration": 7,
    "start_time": "2021-12-17T17:24:29.770Z"
   },
   {
    "duration": 11,
    "start_time": "2021-12-17T17:24:30.314Z"
   },
   {
    "duration": 7,
    "start_time": "2021-12-17T17:24:30.814Z"
   },
   {
    "duration": 248,
    "start_time": "2021-12-17T17:24:32.400Z"
   },
   {
    "duration": 141,
    "start_time": "2021-12-17T17:25:54.671Z"
   },
   {
    "duration": 146,
    "start_time": "2021-12-17T17:27:14.679Z"
   },
   {
    "duration": 991,
    "start_time": "2021-12-17T17:29:12.593Z"
   },
   {
    "duration": 207,
    "start_time": "2021-12-17T17:29:36.789Z"
   },
   {
    "duration": 4341,
    "start_time": "2021-12-17T17:29:47.069Z"
   },
   {
    "duration": 13,
    "start_time": "2021-12-17T17:29:55.606Z"
   },
   {
    "duration": 5,
    "start_time": "2021-12-17T17:29:57.572Z"
   },
   {
    "duration": 6,
    "start_time": "2021-12-17T17:29:58.584Z"
   },
   {
    "duration": 6,
    "start_time": "2021-12-17T17:29:59.112Z"
   },
   {
    "duration": 6,
    "start_time": "2021-12-17T17:29:59.665Z"
   },
   {
    "duration": 172,
    "start_time": "2021-12-17T17:30:00.708Z"
   },
   {
    "duration": 4249,
    "start_time": "2021-12-17T17:30:54.017Z"
   },
   {
    "duration": 21,
    "start_time": "2021-12-17T17:31:01.016Z"
   },
   {
    "duration": 4,
    "start_time": "2021-12-17T17:31:02.159Z"
   },
   {
    "duration": 5276,
    "start_time": "2021-12-17T17:31:09.048Z"
   },
   {
    "duration": 21,
    "start_time": "2021-12-17T17:31:19.067Z"
   },
   {
    "duration": 5,
    "start_time": "2021-12-17T17:31:20.141Z"
   },
   {
    "duration": 5213,
    "start_time": "2021-12-17T17:31:37.266Z"
   },
   {
    "duration": 20,
    "start_time": "2021-12-17T17:31:44.154Z"
   },
   {
    "duration": 14754,
    "start_time": "2021-12-17T17:32:10.592Z"
   },
   {
    "duration": 67,
    "start_time": "2021-12-17T17:32:25.348Z"
   },
   {
    "duration": 146,
    "start_time": "2021-12-17T17:33:16.264Z"
   },
   {
    "duration": 141,
    "start_time": "2021-12-17T17:33:29.266Z"
   },
   {
    "duration": 191,
    "start_time": "2021-12-17T17:33:55.178Z"
   },
   {
    "duration": 150,
    "start_time": "2021-12-17T17:34:05.836Z"
   },
   {
    "duration": 5784,
    "start_time": "2021-12-17T17:35:13.085Z"
   },
   {
    "duration": 27,
    "start_time": "2021-12-17T17:35:21.036Z"
   },
   {
    "duration": 5,
    "start_time": "2021-12-17T17:35:21.991Z"
   },
   {
    "duration": 7,
    "start_time": "2021-12-17T17:35:22.411Z"
   },
   {
    "duration": 7,
    "start_time": "2021-12-17T17:35:22.747Z"
   },
   {
    "duration": 5,
    "start_time": "2021-12-17T17:35:23.147Z"
   },
   {
    "duration": 184,
    "start_time": "2021-12-17T17:35:24.065Z"
   },
   {
    "duration": 8926,
    "start_time": "2021-12-17T17:35:53.024Z"
   },
   {
    "duration": 42,
    "start_time": "2021-12-17T17:36:01.952Z"
   },
   {
    "duration": 201,
    "start_time": "2021-12-17T17:37:26.965Z"
   },
   {
    "duration": 329,
    "start_time": "2021-12-17T20:00:32.584Z"
   },
   {
    "duration": 4,
    "start_time": "2021-12-17T20:01:10.271Z"
   },
   {
    "duration": 218,
    "start_time": "2021-12-17T20:01:19.476Z"
   },
   {
    "duration": 164,
    "start_time": "2021-12-17T20:01:45.307Z"
   },
   {
    "duration": 256,
    "start_time": "2021-12-17T20:02:04.341Z"
   },
   {
    "duration": 241,
    "start_time": "2021-12-17T20:02:13.247Z"
   },
   {
    "duration": 8,
    "start_time": "2021-12-17T20:06:10.684Z"
   },
   {
    "duration": 1159,
    "start_time": "2021-12-17T20:06:30.347Z"
   },
   {
    "duration": 8,
    "start_time": "2021-12-17T20:06:51.627Z"
   },
   {
    "duration": 7,
    "start_time": "2021-12-17T20:06:52.324Z"
   },
   {
    "duration": 7,
    "start_time": "2021-12-17T20:07:54.478Z"
   },
   {
    "duration": 108,
    "start_time": "2021-12-17T20:08:18.457Z"
   },
   {
    "duration": 6,
    "start_time": "2021-12-17T20:08:33.004Z"
   },
   {
    "duration": 6,
    "start_time": "2021-12-17T20:08:59.865Z"
   },
   {
    "duration": 7,
    "start_time": "2021-12-17T20:09:21.464Z"
   },
   {
    "duration": 7,
    "start_time": "2021-12-17T20:09:26.126Z"
   },
   {
    "duration": 9,
    "start_time": "2021-12-17T20:09:28.795Z"
   },
   {
    "duration": 133,
    "start_time": "2021-12-17T20:09:31.559Z"
   },
   {
    "duration": 6,
    "start_time": "2021-12-17T20:09:32.318Z"
   },
   {
    "duration": 7,
    "start_time": "2021-12-17T20:09:32.847Z"
   },
   {
    "duration": 6,
    "start_time": "2021-12-17T20:09:38.945Z"
   },
   {
    "duration": 156,
    "start_time": "2021-12-17T20:09:47.159Z"
   },
   {
    "duration": 9,
    "start_time": "2021-12-17T20:09:47.470Z"
   },
   {
    "duration": 6,
    "start_time": "2021-12-17T20:09:47.748Z"
   },
   {
    "duration": 6,
    "start_time": "2021-12-17T20:09:48.410Z"
   },
   {
    "duration": 168,
    "start_time": "2021-12-17T20:09:59.242Z"
   },
   {
    "duration": 6,
    "start_time": "2021-12-17T20:11:17.055Z"
   },
   {
    "duration": 5,
    "start_time": "2021-12-17T20:11:33.298Z"
   },
   {
    "duration": 1201,
    "start_time": "2021-12-17T20:12:27.070Z"
   },
   {
    "duration": 3,
    "start_time": "2021-12-17T20:12:28.273Z"
   },
   {
    "duration": 47,
    "start_time": "2021-12-17T20:12:28.278Z"
   },
   {
    "duration": 9,
    "start_time": "2021-12-17T20:12:28.327Z"
   },
   {
    "duration": 34,
    "start_time": "2021-12-17T20:12:28.338Z"
   },
   {
    "duration": 12,
    "start_time": "2021-12-17T20:12:28.374Z"
   },
   {
    "duration": 33,
    "start_time": "2021-12-17T20:12:28.387Z"
   },
   {
    "duration": 8,
    "start_time": "2021-12-17T20:12:28.423Z"
   },
   {
    "duration": 4,
    "start_time": "2021-12-17T20:12:28.434Z"
   },
   {
    "duration": 31,
    "start_time": "2021-12-17T20:12:28.440Z"
   },
   {
    "duration": 5,
    "start_time": "2021-12-17T20:12:28.473Z"
   },
   {
    "duration": 13,
    "start_time": "2021-12-17T20:12:28.480Z"
   },
   {
    "duration": 13,
    "start_time": "2021-12-17T20:12:28.495Z"
   },
   {
    "duration": 9,
    "start_time": "2021-12-17T20:12:28.510Z"
   },
   {
    "duration": 6,
    "start_time": "2021-12-17T20:12:28.521Z"
   },
   {
    "duration": 34,
    "start_time": "2021-12-17T20:12:28.529Z"
   },
   {
    "duration": 71,
    "start_time": "2021-12-17T20:12:28.565Z"
   },
   {
    "duration": 5,
    "start_time": "2021-12-17T20:12:28.638Z"
   },
   {
    "duration": 24,
    "start_time": "2021-12-17T20:12:28.645Z"
   },
   {
    "duration": 10,
    "start_time": "2021-12-17T20:12:28.671Z"
   },
   {
    "duration": 6,
    "start_time": "2021-12-17T20:12:28.684Z"
   },
   {
    "duration": 5,
    "start_time": "2021-12-17T20:12:28.692Z"
   },
   {
    "duration": 270,
    "start_time": "2021-12-17T20:12:28.702Z"
   },
   {
    "duration": 7,
    "start_time": "2021-12-17T20:12:28.976Z"
   },
   {
    "duration": 87,
    "start_time": "2021-12-17T20:12:28.985Z"
   },
   {
    "duration": 96,
    "start_time": "2021-12-17T20:12:29.073Z"
   },
   {
    "duration": 7,
    "start_time": "2021-12-17T20:12:29.171Z"
   },
   {
    "duration": 6,
    "start_time": "2021-12-17T20:12:29.180Z"
   },
   {
    "duration": 81,
    "start_time": "2021-12-17T20:12:29.188Z"
   },
   {
    "duration": 7,
    "start_time": "2021-12-17T20:12:29.271Z"
   },
   {
    "duration": 334,
    "start_time": "2021-12-17T20:12:29.280Z"
   },
   {
    "duration": 7,
    "start_time": "2021-12-17T20:12:29.616Z"
   },
   {
    "duration": 8,
    "start_time": "2021-12-17T20:12:29.625Z"
   },
   {
    "duration": 28,
    "start_time": "2021-12-17T20:12:29.635Z"
   },
   {
    "duration": 8,
    "start_time": "2021-12-17T20:12:29.682Z"
   },
   {
    "duration": 104,
    "start_time": "2021-12-17T20:12:29.691Z"
   },
   {
    "duration": 6,
    "start_time": "2021-12-17T20:12:29.797Z"
   },
   {
    "duration": 6,
    "start_time": "2021-12-17T20:12:29.805Z"
   },
   {
    "duration": 6,
    "start_time": "2021-12-17T20:12:29.812Z"
   },
   {
    "duration": 205,
    "start_time": "2021-12-17T20:12:29.819Z"
   },
   {
    "duration": 15,
    "start_time": "2021-12-17T20:12:30.026Z"
   },
   {
    "duration": 11,
    "start_time": "2021-12-17T20:12:30.044Z"
   },
   {
    "duration": 12,
    "start_time": "2021-12-17T20:12:30.057Z"
   },
   {
    "duration": 10,
    "start_time": "2021-12-17T20:12:30.071Z"
   },
   {
    "duration": 14,
    "start_time": "2021-12-17T20:12:30.083Z"
   },
   {
    "duration": 125,
    "start_time": "2021-12-17T20:12:30.099Z"
   },
   {
    "duration": 5,
    "start_time": "2021-12-17T20:12:30.226Z"
   },
   {
    "duration": 15,
    "start_time": "2021-12-17T20:12:30.233Z"
   },
   {
    "duration": 16,
    "start_time": "2021-12-17T20:12:30.249Z"
   },
   {
    "duration": 25,
    "start_time": "2021-12-17T20:12:30.266Z"
   },
   {
    "duration": 25,
    "start_time": "2021-12-17T20:12:30.293Z"
   },
   {
    "duration": 189,
    "start_time": "2021-12-17T20:12:30.320Z"
   },
   {
    "duration": 287,
    "start_time": "2021-12-17T20:12:30.511Z"
   },
   {
    "duration": 13,
    "start_time": "2021-12-17T20:12:30.800Z"
   },
   {
    "duration": 5,
    "start_time": "2021-12-17T20:12:30.815Z"
   },
   {
    "duration": 24,
    "start_time": "2021-12-17T20:12:30.822Z"
   },
   {
    "duration": 11,
    "start_time": "2021-12-17T20:12:30.848Z"
   },
   {
    "duration": 10,
    "start_time": "2021-12-17T20:12:30.861Z"
   },
   {
    "duration": 181,
    "start_time": "2021-12-17T20:12:30.873Z"
   },
   {
    "duration": 13,
    "start_time": "2021-12-17T20:12:31.063Z"
   },
   {
    "duration": 10,
    "start_time": "2021-12-17T20:13:12.553Z"
   },
   {
    "duration": 9,
    "start_time": "2021-12-17T20:13:12.958Z"
   },
   {
    "duration": 8,
    "start_time": "2021-12-17T20:13:13.343Z"
   },
   {
    "duration": 149,
    "start_time": "2021-12-17T20:13:13.750Z"
   },
   {
    "duration": 9,
    "start_time": "2021-12-17T20:13:15.024Z"
   },
   {
    "duration": 7,
    "start_time": "2021-12-17T20:13:15.692Z"
   },
   {
    "duration": 7,
    "start_time": "2021-12-17T20:13:16.280Z"
   },
   {
    "duration": 6,
    "start_time": "2021-12-17T20:13:17.016Z"
   },
   {
    "duration": 5,
    "start_time": "2021-12-17T20:13:17.691Z"
   },
   {
    "duration": 9,
    "start_time": "2021-12-17T20:13:28.192Z"
   },
   {
    "duration": 86,
    "start_time": "2021-12-17T20:13:28.522Z"
   },
   {
    "duration": 9,
    "start_time": "2021-12-17T20:13:29.099Z"
   },
   {
    "duration": 161,
    "start_time": "2021-12-17T20:13:29.509Z"
   },
   {
    "duration": 7,
    "start_time": "2021-12-17T20:13:30.395Z"
   },
   {
    "duration": 6,
    "start_time": "2021-12-17T20:13:31.103Z"
   },
   {
    "duration": 6,
    "start_time": "2021-12-17T20:13:31.565Z"
   },
   {
    "duration": 164,
    "start_time": "2021-12-17T20:13:32.451Z"
   },
   {
    "duration": 1222,
    "start_time": "2021-12-17T20:13:41.833Z"
   },
   {
    "duration": 5,
    "start_time": "2021-12-17T20:13:43.058Z"
   },
   {
    "duration": 49,
    "start_time": "2021-12-17T20:13:43.065Z"
   },
   {
    "duration": 8,
    "start_time": "2021-12-17T20:13:43.116Z"
   },
   {
    "duration": 25,
    "start_time": "2021-12-17T20:13:43.125Z"
   },
   {
    "duration": 21,
    "start_time": "2021-12-17T20:13:43.152Z"
   },
   {
    "duration": 22,
    "start_time": "2021-12-17T20:13:43.174Z"
   },
   {
    "duration": 8,
    "start_time": "2021-12-17T20:13:43.198Z"
   },
   {
    "duration": 5,
    "start_time": "2021-12-17T20:13:43.209Z"
   },
   {
    "duration": 17,
    "start_time": "2021-12-17T20:13:43.215Z"
   },
   {
    "duration": 31,
    "start_time": "2021-12-17T20:13:43.233Z"
   },
   {
    "duration": 21,
    "start_time": "2021-12-17T20:13:43.265Z"
   },
   {
    "duration": 13,
    "start_time": "2021-12-17T20:13:43.288Z"
   },
   {
    "duration": 4,
    "start_time": "2021-12-17T20:13:43.303Z"
   },
   {
    "duration": 12,
    "start_time": "2021-12-17T20:13:43.309Z"
   },
   {
    "duration": 11,
    "start_time": "2021-12-17T20:13:43.322Z"
   },
   {
    "duration": 92,
    "start_time": "2021-12-17T20:13:43.335Z"
   },
   {
    "duration": 7,
    "start_time": "2021-12-17T20:13:43.429Z"
   },
   {
    "duration": 8,
    "start_time": "2021-12-17T20:13:43.437Z"
   },
   {
    "duration": 19,
    "start_time": "2021-12-17T20:13:43.447Z"
   },
   {
    "duration": 6,
    "start_time": "2021-12-17T20:13:43.468Z"
   },
   {
    "duration": 10,
    "start_time": "2021-12-17T20:13:43.475Z"
   },
   {
    "duration": 192,
    "start_time": "2021-12-17T20:13:43.489Z"
   },
   {
    "duration": 6,
    "start_time": "2021-12-17T20:13:43.684Z"
   },
   {
    "duration": 79,
    "start_time": "2021-12-17T20:13:43.692Z"
   },
   {
    "duration": 93,
    "start_time": "2021-12-17T20:13:43.774Z"
   },
   {
    "duration": 6,
    "start_time": "2021-12-17T20:13:43.869Z"
   },
   {
    "duration": 7,
    "start_time": "2021-12-17T20:13:43.877Z"
   },
   {
    "duration": 7,
    "start_time": "2021-12-17T20:13:43.886Z"
   },
   {
    "duration": 9,
    "start_time": "2021-12-17T20:13:43.894Z"
   },
   {
    "duration": 322,
    "start_time": "2021-12-17T20:13:43.904Z"
   },
   {
    "duration": 5,
    "start_time": "2021-12-17T20:13:44.228Z"
   },
   {
    "duration": 8,
    "start_time": "2021-12-17T20:13:44.235Z"
   },
   {
    "duration": 25,
    "start_time": "2021-12-17T20:13:44.245Z"
   },
   {
    "duration": 10,
    "start_time": "2021-12-17T20:13:44.272Z"
   },
   {
    "duration": 181,
    "start_time": "2021-12-17T20:13:44.283Z"
   },
   {
    "duration": 7,
    "start_time": "2021-12-17T20:13:44.466Z"
   },
   {
    "duration": 17,
    "start_time": "2021-12-17T20:13:44.475Z"
   },
   {
    "duration": 16,
    "start_time": "2021-12-17T20:13:44.494Z"
   },
   {
    "duration": 186,
    "start_time": "2021-12-17T20:13:44.513Z"
   },
   {
    "duration": 5,
    "start_time": "2021-12-17T20:13:44.701Z"
   },
   {
    "duration": 8,
    "start_time": "2021-12-17T20:13:44.708Z"
   },
   {
    "duration": 11,
    "start_time": "2021-12-17T20:13:44.718Z"
   },
   {
    "duration": 9,
    "start_time": "2021-12-17T20:13:44.730Z"
   },
   {
    "duration": 22,
    "start_time": "2021-12-17T20:13:44.741Z"
   },
   {
    "duration": 172,
    "start_time": "2021-12-17T20:13:44.764Z"
   },
   {
    "duration": 6,
    "start_time": "2021-12-17T20:13:44.938Z"
   },
   {
    "duration": 19,
    "start_time": "2021-12-17T20:13:44.946Z"
   },
   {
    "duration": 8,
    "start_time": "2021-12-17T20:13:44.967Z"
   },
   {
    "duration": 12,
    "start_time": "2021-12-17T20:13:44.976Z"
   },
   {
    "duration": 8,
    "start_time": "2021-12-17T20:13:44.990Z"
   },
   {
    "duration": 298,
    "start_time": "2021-12-17T20:13:45.000Z"
   },
   {
    "duration": 233,
    "start_time": "2021-12-17T20:13:45.299Z"
   },
   {
    "duration": 15,
    "start_time": "2021-12-17T20:13:45.535Z"
   },
   {
    "duration": 5,
    "start_time": "2021-12-17T20:13:45.552Z"
   },
   {
    "duration": 8,
    "start_time": "2021-12-17T20:13:45.559Z"
   },
   {
    "duration": 9,
    "start_time": "2021-12-17T20:13:45.568Z"
   },
   {
    "duration": 6,
    "start_time": "2021-12-17T20:13:45.579Z"
   },
   {
    "duration": 189,
    "start_time": "2021-12-17T20:13:45.587Z"
   },
   {
    "duration": 12,
    "start_time": "2021-12-17T20:13:45.778Z"
   },
   {
    "duration": 267,
    "start_time": "2021-12-17T20:17:54.419Z"
   },
   {
    "duration": 7297,
    "start_time": "2021-12-17T20:18:03.002Z"
   },
   {
    "duration": 7514,
    "start_time": "2021-12-17T20:18:25.056Z"
   },
   {
    "duration": 7383,
    "start_time": "2021-12-17T20:18:52.558Z"
   },
   {
    "duration": 7122,
    "start_time": "2021-12-17T20:19:38.344Z"
   },
   {
    "duration": 161,
    "start_time": "2021-12-17T20:19:54.259Z"
   },
   {
    "duration": 152,
    "start_time": "2021-12-17T20:20:03.463Z"
   },
   {
    "duration": 189,
    "start_time": "2021-12-17T20:20:26.897Z"
   },
   {
    "duration": 7969,
    "start_time": "2021-12-17T20:21:18.937Z"
   },
   {
    "duration": 36,
    "start_time": "2021-12-17T20:21:33.658Z"
   },
   {
    "duration": 217,
    "start_time": "2021-12-17T20:22:00.691Z"
   },
   {
    "duration": 5,
    "start_time": "2021-12-17T20:22:55.631Z"
   },
   {
    "duration": 158,
    "start_time": "2021-12-17T20:23:08.091Z"
   },
   {
    "duration": 67656,
    "start_time": "2021-12-17T20:23:22.865Z"
   },
   {
    "duration": 112556,
    "start_time": "2021-12-17T20:24:35.870Z"
   },
   {
    "duration": 38,
    "start_time": "2021-12-17T20:26:34.565Z"
   },
   {
    "duration": 163,
    "start_time": "2021-12-17T20:29:07.526Z"
   },
   {
    "duration": 187,
    "start_time": "2021-12-17T20:29:12.871Z"
   },
   {
    "duration": 10946,
    "start_time": "2021-12-17T20:29:15.840Z"
   },
   {
    "duration": 44,
    "start_time": "2021-12-17T20:29:29.949Z"
   },
   {
    "duration": 7801,
    "start_time": "2021-12-17T20:29:58.306Z"
   },
   {
    "duration": 40,
    "start_time": "2021-12-17T20:30:10.051Z"
   },
   {
    "duration": 70053,
    "start_time": "2021-12-17T20:30:29.468Z"
   },
   {
    "duration": 225,
    "start_time": "2021-12-17T20:31:42.921Z"
   },
   {
    "duration": 14258,
    "start_time": "2021-12-17T20:31:57.805Z"
   },
   {
    "duration": 12269,
    "start_time": "2021-12-17T20:33:17.548Z"
   },
   {
    "duration": 51,
    "start_time": "2021-12-17T20:33:32.921Z"
   },
   {
    "duration": 47607,
    "start_time": "2021-12-17T20:34:08.267Z"
   },
   {
    "duration": 28,
    "start_time": "2021-12-17T20:35:01.711Z"
   },
   {
    "duration": 77522,
    "start_time": "2021-12-17T20:35:22.536Z"
   },
   {
    "duration": 72,
    "start_time": "2021-12-17T20:36:43.982Z"
   },
   {
    "duration": 141,
    "start_time": "2021-12-17T20:37:06.211Z"
   },
   {
    "duration": 135237,
    "start_time": "2021-12-17T20:37:42.350Z"
   },
   {
    "duration": 133761,
    "start_time": "2021-12-17T20:40:34.569Z"
   },
   {
    "duration": 143839,
    "start_time": "2021-12-17T20:42:57.906Z"
   },
   {
    "duration": 64717,
    "start_time": "2021-12-17T20:45:24.202Z"
   },
   {
    "duration": 53,
    "start_time": "2021-12-17T20:46:33.992Z"
   },
   {
    "duration": 34900,
    "start_time": "2021-12-17T20:47:02.258Z"
   },
   {
    "duration": 59,
    "start_time": "2021-12-17T20:47:39.970Z"
   },
   {
    "duration": 140151,
    "start_time": "2021-12-17T20:47:52.881Z"
   },
   {
    "duration": 350596,
    "start_time": "2021-12-17T20:51:22.091Z"
   },
   {
    "duration": 59,
    "start_time": "2021-12-17T20:57:43.839Z"
   },
   {
    "duration": 18710,
    "start_time": "2021-12-17T20:58:18.168Z"
   },
   {
    "duration": 55,
    "start_time": "2021-12-17T20:58:40.500Z"
   },
   {
    "duration": 457925,
    "start_time": "2021-12-17T20:59:39.956Z"
   },
   {
    "duration": 1125,
    "start_time": "2021-12-18T08:19:10.993Z"
   },
   {
    "duration": 3,
    "start_time": "2021-12-18T08:19:12.120Z"
   },
   {
    "duration": 47,
    "start_time": "2021-12-18T08:19:12.125Z"
   },
   {
    "duration": 9,
    "start_time": "2021-12-18T08:19:12.173Z"
   },
   {
    "duration": 22,
    "start_time": "2021-12-18T08:19:12.183Z"
   },
   {
    "duration": 12,
    "start_time": "2021-12-18T08:19:12.206Z"
   },
   {
    "duration": 22,
    "start_time": "2021-12-18T08:19:12.220Z"
   },
   {
    "duration": 25,
    "start_time": "2021-12-18T08:19:12.244Z"
   },
   {
    "duration": 13,
    "start_time": "2021-12-18T08:19:12.271Z"
   },
   {
    "duration": 29,
    "start_time": "2021-12-18T08:19:12.286Z"
   },
   {
    "duration": 16,
    "start_time": "2021-12-18T08:19:12.317Z"
   },
   {
    "duration": 30,
    "start_time": "2021-12-18T08:19:12.335Z"
   },
   {
    "duration": 23,
    "start_time": "2021-12-18T08:19:12.366Z"
   },
   {
    "duration": 33,
    "start_time": "2021-12-18T08:19:12.390Z"
   },
   {
    "duration": 11,
    "start_time": "2021-12-18T08:19:12.425Z"
   },
   {
    "duration": 36,
    "start_time": "2021-12-18T08:19:12.437Z"
   },
   {
    "duration": 86,
    "start_time": "2021-12-18T08:19:12.474Z"
   },
   {
    "duration": 6,
    "start_time": "2021-12-18T08:19:12.562Z"
   },
   {
    "duration": 23,
    "start_time": "2021-12-18T08:19:12.569Z"
   },
   {
    "duration": 30,
    "start_time": "2021-12-18T08:19:12.593Z"
   },
   {
    "duration": 29,
    "start_time": "2021-12-18T08:19:12.625Z"
   },
   {
    "duration": 18,
    "start_time": "2021-12-18T08:19:12.656Z"
   },
   {
    "duration": 186,
    "start_time": "2021-12-18T08:19:12.678Z"
   },
   {
    "duration": 6,
    "start_time": "2021-12-18T08:19:12.867Z"
   },
   {
    "duration": 92,
    "start_time": "2021-12-18T08:19:12.874Z"
   },
   {
    "duration": 97,
    "start_time": "2021-12-18T08:19:12.969Z"
   },
   {
    "duration": 15,
    "start_time": "2021-12-18T08:19:13.067Z"
   },
   {
    "duration": 13,
    "start_time": "2021-12-18T08:19:13.084Z"
   },
   {
    "duration": 17,
    "start_time": "2021-12-18T08:19:13.099Z"
   },
   {
    "duration": 15,
    "start_time": "2021-12-18T08:19:13.118Z"
   },
   {
    "duration": 377,
    "start_time": "2021-12-18T08:19:13.135Z"
   },
   {
    "duration": 6,
    "start_time": "2021-12-18T08:19:13.513Z"
   },
   {
    "duration": 28,
    "start_time": "2021-12-18T08:19:13.520Z"
   },
   {
    "duration": 31,
    "start_time": "2021-12-18T08:19:13.550Z"
   },
   {
    "duration": 17,
    "start_time": "2021-12-18T08:19:13.583Z"
   },
   {
    "duration": 188,
    "start_time": "2021-12-18T08:19:13.602Z"
   },
   {
    "duration": 5,
    "start_time": "2021-12-18T08:19:13.792Z"
   },
   {
    "duration": 5,
    "start_time": "2021-12-18T08:19:13.799Z"
   },
   {
    "duration": 7,
    "start_time": "2021-12-18T08:19:13.805Z"
   },
   {
    "duration": 189,
    "start_time": "2021-12-18T08:19:13.813Z"
   },
   {
    "duration": 6,
    "start_time": "2021-12-18T08:19:14.003Z"
   },
   {
    "duration": 6,
    "start_time": "2021-12-18T08:19:14.010Z"
   },
   {
    "duration": 12,
    "start_time": "2021-12-18T08:19:14.017Z"
   },
   {
    "duration": 8,
    "start_time": "2021-12-18T08:19:14.030Z"
   },
   {
    "duration": 29,
    "start_time": "2021-12-18T08:19:14.040Z"
   },
   {
    "duration": 173,
    "start_time": "2021-12-18T08:19:14.070Z"
   },
   {
    "duration": 6,
    "start_time": "2021-12-18T08:19:14.245Z"
   },
   {
    "duration": 12,
    "start_time": "2021-12-18T08:19:14.252Z"
   },
   {
    "duration": 5,
    "start_time": "2021-12-18T08:19:14.265Z"
   },
   {
    "duration": 8,
    "start_time": "2021-12-18T08:19:14.271Z"
   },
   {
    "duration": 4,
    "start_time": "2021-12-18T08:19:14.280Z"
   },
   {
    "duration": 190,
    "start_time": "2021-12-18T08:19:14.286Z"
   },
   {
    "duration": 19754,
    "start_time": "2021-12-18T08:19:14.478Z"
   },
   {
    "duration": 218,
    "start_time": "2021-12-18T08:19:34.234Z"
   },
   {
    "duration": 769,
    "start_time": "2021-12-18T08:19:33.684Z"
   },
   {
    "duration": 762,
    "start_time": "2021-12-18T08:19:33.692Z"
   },
   {
    "duration": 757,
    "start_time": "2021-12-18T08:19:33.698Z"
   },
   {
    "duration": 751,
    "start_time": "2021-12-18T08:19:33.705Z"
   },
   {
    "duration": 745,
    "start_time": "2021-12-18T08:19:33.712Z"
   },
   {
    "duration": 741,
    "start_time": "2021-12-18T08:19:33.717Z"
   },
   {
    "duration": 219505,
    "start_time": "2021-12-18T08:19:43.372Z"
   },
   {
    "duration": 53,
    "start_time": "2021-12-18T08:23:22.878Z"
   },
   {
    "duration": 36968,
    "start_time": "2021-12-18T08:25:51.939Z"
   },
   {
    "duration": 57,
    "start_time": "2021-12-18T08:27:05.182Z"
   },
   {
    "duration": 83,
    "start_time": "2021-12-18T08:28:39.245Z"
   },
   {
    "duration": 79,
    "start_time": "2021-12-18T08:29:19.068Z"
   },
   {
    "duration": 69,
    "start_time": "2021-12-18T08:29:32.222Z"
   },
   {
    "duration": 76,
    "start_time": "2021-12-18T08:29:44.219Z"
   },
   {
    "duration": 75,
    "start_time": "2021-12-18T08:29:57.548Z"
   },
   {
    "duration": 166,
    "start_time": "2021-12-18T08:30:04.986Z"
   },
   {
    "duration": 46470,
    "start_time": "2021-12-18T08:30:30.270Z"
   },
   {
    "duration": 220,
    "start_time": "2021-12-18T08:31:20.570Z"
   },
   {
    "duration": 423,
    "start_time": "2021-12-18T08:31:49.429Z"
   },
   {
    "duration": 324,
    "start_time": "2021-12-18T08:32:03.242Z"
   },
   {
    "duration": 60898,
    "start_time": "2021-12-18T08:32:56.527Z"
   },
   {
    "duration": 261,
    "start_time": "2021-12-18T08:34:00.792Z"
   },
   {
    "duration": 180938,
    "start_time": "2021-12-18T08:37:21.466Z"
   },
   {
    "duration": 85,
    "start_time": "2021-12-18T08:41:19.283Z"
   },
   {
    "duration": 160,
    "start_time": "2021-12-18T08:45:25.026Z"
   },
   {
    "duration": 4,
    "start_time": "2021-12-18T08:45:55.290Z"
   },
   {
    "duration": 166,
    "start_time": "2021-12-18T08:46:05.765Z"
   },
   {
    "duration": 150102,
    "start_time": "2021-12-18T08:46:11.618Z"
   },
   {
    "duration": 1217,
    "start_time": "2021-12-18T08:48:46.875Z"
   },
   {
    "duration": 416,
    "start_time": "2021-12-18T08:49:40.992Z"
   },
   {
    "duration": 103752,
    "start_time": "2021-12-18T08:51:00.187Z"
   },
   {
    "duration": 611,
    "start_time": "2021-12-18T08:52:52.884Z"
   },
   {
    "duration": 61682,
    "start_time": "2021-12-18T08:55:49.961Z"
   },
   {
    "duration": 222,
    "start_time": "2021-12-18T08:56:51.645Z"
   },
   {
    "duration": 63368,
    "start_time": "2021-12-18T08:56:52.295Z"
   },
   {
    "duration": 65014,
    "start_time": "2021-12-18T08:57:56.312Z"
   },
   {
    "duration": 115,
    "start_time": "2021-12-18T08:59:01.328Z"
   },
   {
    "duration": 7,
    "start_time": "2021-12-18T08:59:12.854Z"
   },
   {
    "duration": 8,
    "start_time": "2021-12-18T08:59:13.238Z"
   },
   {
    "duration": 8,
    "start_time": "2021-12-18T08:59:13.660Z"
   },
   {
    "duration": 7,
    "start_time": "2021-12-18T08:59:14.155Z"
   },
   {
    "duration": 388,
    "start_time": "2021-12-18T08:59:14.772Z"
   },
   {
    "duration": 166,
    "start_time": "2021-12-18T09:06:47.205Z"
   },
   {
    "duration": 6,
    "start_time": "2021-12-18T09:07:14.841Z"
   },
   {
    "duration": 6,
    "start_time": "2021-12-18T09:07:15.168Z"
   },
   {
    "duration": 7,
    "start_time": "2021-12-18T09:07:32.490Z"
   },
   {
    "duration": 7,
    "start_time": "2021-12-18T09:07:41.482Z"
   },
   {
    "duration": 267,
    "start_time": "2021-12-18T09:07:48.040Z"
   },
   {
    "duration": 248,
    "start_time": "2021-12-18T09:07:52.846Z"
   },
   {
    "duration": 99,
    "start_time": "2021-12-18T09:07:57.400Z"
   },
   {
    "duration": 7,
    "start_time": "2021-12-18T09:07:57.711Z"
   },
   {
    "duration": 7,
    "start_time": "2021-12-18T09:07:58.101Z"
   },
   {
    "duration": 6,
    "start_time": "2021-12-18T09:07:58.405Z"
   },
   {
    "duration": 7,
    "start_time": "2021-12-18T09:07:58.760Z"
   },
   {
    "duration": 251,
    "start_time": "2021-12-18T09:07:59.575Z"
   },
   {
    "duration": 161,
    "start_time": "2021-12-18T09:12:35.917Z"
   },
   {
    "duration": 7,
    "start_time": "2021-12-18T09:12:41.264Z"
   },
   {
    "duration": 248,
    "start_time": "2021-12-18T09:12:44.763Z"
   },
   {
    "duration": 97,
    "start_time": "2021-12-18T09:12:55.886Z"
   },
   {
    "duration": 5,
    "start_time": "2021-12-18T09:12:56.598Z"
   },
   {
    "duration": 1208,
    "start_time": "2021-12-18T09:13:35.797Z"
   },
   {
    "duration": 4,
    "start_time": "2021-12-18T09:13:37.007Z"
   },
   {
    "duration": 52,
    "start_time": "2021-12-18T09:13:37.013Z"
   },
   {
    "duration": 9,
    "start_time": "2021-12-18T09:13:37.066Z"
   },
   {
    "duration": 20,
    "start_time": "2021-12-18T09:13:37.077Z"
   },
   {
    "duration": 7,
    "start_time": "2021-12-18T09:13:37.099Z"
   },
   {
    "duration": 22,
    "start_time": "2021-12-18T09:13:37.108Z"
   },
   {
    "duration": 35,
    "start_time": "2021-12-18T09:13:37.133Z"
   },
   {
    "duration": 6,
    "start_time": "2021-12-18T09:13:37.170Z"
   },
   {
    "duration": 18,
    "start_time": "2021-12-18T09:13:37.178Z"
   },
   {
    "duration": 5,
    "start_time": "2021-12-18T09:13:37.198Z"
   },
   {
    "duration": 22,
    "start_time": "2021-12-18T09:13:37.205Z"
   },
   {
    "duration": 37,
    "start_time": "2021-12-18T09:13:37.229Z"
   },
   {
    "duration": 5,
    "start_time": "2021-12-18T09:13:37.268Z"
   },
   {
    "duration": 10,
    "start_time": "2021-12-18T09:13:37.275Z"
   },
   {
    "duration": 6,
    "start_time": "2021-12-18T09:13:37.287Z"
   },
   {
    "duration": 95,
    "start_time": "2021-12-18T09:13:37.294Z"
   },
   {
    "duration": 7,
    "start_time": "2021-12-18T09:13:37.391Z"
   },
   {
    "duration": 10,
    "start_time": "2021-12-18T09:13:37.399Z"
   },
   {
    "duration": 7,
    "start_time": "2021-12-18T09:13:37.411Z"
   },
   {
    "duration": 9,
    "start_time": "2021-12-18T09:13:37.419Z"
   },
   {
    "duration": 5,
    "start_time": "2021-12-18T09:13:37.430Z"
   },
   {
    "duration": 259,
    "start_time": "2021-12-18T09:13:37.465Z"
   },
   {
    "duration": 7,
    "start_time": "2021-12-18T09:13:37.728Z"
   },
   {
    "duration": 68,
    "start_time": "2021-12-18T09:13:37.737Z"
   },
   {
    "duration": 59,
    "start_time": "2021-12-18T09:13:37.808Z"
   },
   {
    "duration": 96,
    "start_time": "2021-12-18T09:13:37.870Z"
   },
   {
    "duration": 7,
    "start_time": "2021-12-18T09:13:37.968Z"
   },
   {
    "duration": 5,
    "start_time": "2021-12-18T09:13:37.977Z"
   },
   {
    "duration": 7,
    "start_time": "2021-12-18T09:13:37.984Z"
   },
   {
    "duration": 331,
    "start_time": "2021-12-18T09:13:37.993Z"
   },
   {
    "duration": 6,
    "start_time": "2021-12-18T09:13:38.326Z"
   },
   {
    "duration": 11,
    "start_time": "2021-12-18T09:13:38.334Z"
   },
   {
    "duration": 21,
    "start_time": "2021-12-18T09:13:38.346Z"
   },
   {
    "duration": 10,
    "start_time": "2021-12-18T09:13:38.369Z"
   },
   {
    "duration": 189,
    "start_time": "2021-12-18T09:13:38.381Z"
   },
   {
    "duration": 7,
    "start_time": "2021-12-18T09:13:38.573Z"
   },
   {
    "duration": 7,
    "start_time": "2021-12-18T09:13:38.581Z"
   },
   {
    "duration": 7,
    "start_time": "2021-12-18T09:13:38.589Z"
   },
   {
    "duration": 202,
    "start_time": "2021-12-18T09:13:38.598Z"
   },
   {
    "duration": 34,
    "start_time": "2021-12-18T09:13:38.802Z"
   },
   {
    "duration": 5,
    "start_time": "2021-12-18T09:13:38.839Z"
   },
   {
    "duration": 9,
    "start_time": "2021-12-18T09:13:38.846Z"
   },
   {
    "duration": 8,
    "start_time": "2021-12-18T09:13:38.857Z"
   },
   {
    "duration": 11,
    "start_time": "2021-12-18T09:13:38.867Z"
   },
   {
    "duration": 176,
    "start_time": "2021-12-18T09:13:38.879Z"
   },
   {
    "duration": 11,
    "start_time": "2021-12-18T09:13:39.057Z"
   },
   {
    "duration": 6,
    "start_time": "2021-12-18T09:13:39.070Z"
   },
   {
    "duration": 6,
    "start_time": "2021-12-18T09:13:39.077Z"
   },
   {
    "duration": 6,
    "start_time": "2021-12-18T09:13:39.085Z"
   },
   {
    "duration": 6,
    "start_time": "2021-12-18T09:13:39.092Z"
   },
   {
    "duration": 278,
    "start_time": "2021-12-18T09:13:39.100Z"
   },
   {
    "duration": 68441,
    "start_time": "2021-12-18T09:13:39.380Z"
   },
   {
    "duration": 101,
    "start_time": "2021-12-18T09:14:47.823Z"
   },
   {
    "duration": 6,
    "start_time": "2021-12-18T09:14:47.927Z"
   },
   {
    "duration": 5,
    "start_time": "2021-12-18T09:14:47.935Z"
   },
   {
    "duration": 22,
    "start_time": "2021-12-18T09:14:47.942Z"
   },
   {
    "duration": 5,
    "start_time": "2021-12-18T09:14:47.966Z"
   },
   {
    "duration": 400,
    "start_time": "2021-12-18T09:14:47.973Z"
   },
   {
    "duration": 102,
    "start_time": "2021-12-18T09:14:48.375Z"
   },
   {
    "duration": 7,
    "start_time": "2021-12-18T09:14:48.481Z"
   },
   {
    "duration": 10,
    "start_time": "2021-12-18T09:14:48.490Z"
   },
   {
    "duration": 8,
    "start_time": "2021-12-18T09:14:48.502Z"
   },
   {
    "duration": 5,
    "start_time": "2021-12-18T09:14:48.511Z"
   },
   {
    "duration": 383,
    "start_time": "2021-12-18T09:14:48.518Z"
   },
   {
    "duration": 307,
    "start_time": "2021-12-20T17:36:04.968Z"
   },
   {
    "duration": 1490,
    "start_time": "2021-12-20T17:36:22.351Z"
   },
   {
    "duration": 1602,
    "start_time": "2021-12-20T17:36:30.628Z"
   },
   {
    "duration": 4,
    "start_time": "2021-12-20T17:36:32.232Z"
   },
   {
    "duration": 379,
    "start_time": "2021-12-20T17:36:32.239Z"
   },
   {
    "duration": 93,
    "start_time": "2021-12-20T17:36:32.622Z"
   },
   {
    "duration": 211,
    "start_time": "2021-12-20T17:36:32.717Z"
   },
   {
    "duration": 143,
    "start_time": "2021-12-20T17:36:32.930Z"
   },
   {
    "duration": 212,
    "start_time": "2021-12-20T17:36:33.076Z"
   },
   {
    "duration": 172,
    "start_time": "2021-12-20T17:36:33.292Z"
   },
   {
    "duration": 187,
    "start_time": "2021-12-20T17:36:33.467Z"
   },
   {
    "duration": 223,
    "start_time": "2021-12-20T17:36:33.657Z"
   },
   {
    "duration": 268,
    "start_time": "2021-12-20T17:36:33.883Z"
   },
   {
    "duration": 217,
    "start_time": "2021-12-20T17:36:34.153Z"
   },
   {
    "duration": 204,
    "start_time": "2021-12-20T17:36:34.372Z"
   },
   {
    "duration": 197,
    "start_time": "2021-12-20T17:36:34.579Z"
   },
   {
    "duration": 197,
    "start_time": "2021-12-20T17:36:34.778Z"
   },
   {
    "duration": 187,
    "start_time": "2021-12-20T17:36:34.978Z"
   },
   {
    "duration": 277,
    "start_time": "2021-12-20T17:36:35.168Z"
   },
   {
    "duration": 86,
    "start_time": "2021-12-20T17:36:35.448Z"
   },
   {
    "duration": 214,
    "start_time": "2021-12-20T17:36:35.537Z"
   },
   {
    "duration": 175,
    "start_time": "2021-12-20T17:36:35.753Z"
   },
   {
    "duration": 177,
    "start_time": "2021-12-20T17:36:35.930Z"
   },
   {
    "duration": 173,
    "start_time": "2021-12-20T17:36:36.110Z"
   },
   {
    "duration": 456,
    "start_time": "2021-12-20T17:36:36.290Z"
   },
   {
    "duration": 19,
    "start_time": "2021-12-20T17:36:36.749Z"
   },
   {
    "duration": 298,
    "start_time": "2021-12-20T17:36:36.770Z"
   },
   {
    "duration": 212,
    "start_time": "2021-12-20T17:36:37.077Z"
   },
   {
    "duration": 215,
    "start_time": "2021-12-20T17:36:37.291Z"
   },
   {
    "duration": 237,
    "start_time": "2021-12-20T17:36:37.508Z"
   },
   {
    "duration": 236,
    "start_time": "2021-12-20T17:36:37.747Z"
   },
   {
    "duration": 170,
    "start_time": "2021-12-20T17:36:37.986Z"
   },
   {
    "duration": 739,
    "start_time": "2021-12-20T17:36:38.158Z"
   },
   {
    "duration": 9,
    "start_time": "2021-12-20T17:36:38.900Z"
   },
   {
    "duration": 250,
    "start_time": "2021-12-20T17:36:38.912Z"
   },
   {
    "duration": 184,
    "start_time": "2021-12-20T17:36:39.164Z"
   },
   {
    "duration": 241,
    "start_time": "2021-12-20T17:36:39.351Z"
   },
   {
    "duration": 538,
    "start_time": "2021-12-20T17:36:39.595Z"
   },
   {
    "duration": 11,
    "start_time": "2021-12-20T17:36:40.135Z"
   },
   {
    "duration": 234,
    "start_time": "2021-12-20T17:36:40.149Z"
   },
   {
    "duration": 198,
    "start_time": "2021-12-20T17:36:40.385Z"
   },
   {
    "duration": 508,
    "start_time": "2021-12-20T17:36:40.586Z"
   },
   {
    "duration": 9,
    "start_time": "2021-12-20T17:36:41.097Z"
   },
   {
    "duration": 194,
    "start_time": "2021-12-20T17:36:41.109Z"
   },
   {
    "duration": 305,
    "start_time": "2021-12-20T17:36:41.306Z"
   },
   {
    "duration": 262,
    "start_time": "2021-12-20T17:36:41.614Z"
   },
   {
    "duration": 229,
    "start_time": "2021-12-20T17:36:41.880Z"
   },
   {
    "duration": 476,
    "start_time": "2021-12-20T17:36:42.112Z"
   },
   {
    "duration": 7,
    "start_time": "2021-12-20T17:36:42.591Z"
   },
   {
    "duration": 186,
    "start_time": "2021-12-20T17:36:42.600Z"
   },
   {
    "duration": 141,
    "start_time": "2021-12-20T17:36:42.788Z"
   },
   {
    "duration": 168,
    "start_time": "2021-12-20T17:36:42.931Z"
   },
   {
    "duration": 177,
    "start_time": "2021-12-20T17:36:43.101Z"
   },
   {
    "duration": 459,
    "start_time": "2021-12-20T17:36:43.280Z"
   },
   {
    "duration": 367,
    "start_time": "2021-12-20T17:36:43.742Z"
   },
   {
    "duration": 18,
    "start_time": "2021-12-20T17:36:44.111Z"
   },
   {
    "duration": 150,
    "start_time": "2021-12-20T17:36:44.132Z"
   },
   {
    "duration": 171,
    "start_time": "2021-12-20T17:36:44.285Z"
   },
   {
    "duration": 180,
    "start_time": "2021-12-20T17:36:44.458Z"
   },
   {
    "duration": 239,
    "start_time": "2021-12-20T17:36:44.640Z"
   },
   {
    "duration": 565,
    "start_time": "2021-12-20T17:36:44.882Z"
   },
   {
    "duration": 41,
    "start_time": "2021-12-20T17:36:45.449Z"
   },
   {
    "duration": 204,
    "start_time": "2021-12-20T17:36:45.493Z"
   },
   {
    "duration": 169,
    "start_time": "2021-12-20T17:36:45.700Z"
   },
   {
    "duration": 182,
    "start_time": "2021-12-20T17:36:45.871Z"
   },
   {
    "duration": 238,
    "start_time": "2021-12-20T17:36:46.056Z"
   },
   {
    "duration": 593,
    "start_time": "2021-12-20T17:36:46.297Z"
   },
   {
    "duration": 318,
    "start_time": "2021-12-20T17:38:20.659Z"
   },
   {
    "duration": 181,
    "start_time": "2021-12-20T17:39:11.982Z"
   },
   {
    "duration": 204,
    "start_time": "2021-12-20T17:39:16.474Z"
   },
   {
    "duration": 100,
    "start_time": "2021-12-20T17:39:25.607Z"
   },
   {
    "duration": 206,
    "start_time": "2021-12-20T17:40:03.998Z"
   },
   {
    "duration": 289,
    "start_time": "2021-12-20T17:40:09.087Z"
   },
   {
    "duration": 214,
    "start_time": "2021-12-20T17:50:48.555Z"
   },
   {
    "duration": 255,
    "start_time": "2021-12-20T17:51:06.877Z"
   },
   {
    "duration": 243,
    "start_time": "2021-12-20T17:51:13.202Z"
   },
   {
    "duration": 233,
    "start_time": "2021-12-20T17:51:26.451Z"
   },
   {
    "duration": 14402,
    "start_time": "2021-12-20T17:53:17.252Z"
   },
   {
    "duration": 11112,
    "start_time": "2021-12-20T17:54:04.223Z"
   },
   {
    "duration": 4,
    "start_time": "2021-12-20T17:55:35.913Z"
   },
   {
    "duration": 6,
    "start_time": "2021-12-20T17:55:36.676Z"
   },
   {
    "duration": 8,
    "start_time": "2021-12-20T17:55:37.731Z"
   },
   {
    "duration": 10,
    "start_time": "2021-12-20T17:55:38.557Z"
   },
   {
    "duration": 7,
    "start_time": "2021-12-20T17:55:39.211Z"
   },
   {
    "duration": 295,
    "start_time": "2021-12-20T17:55:40.634Z"
   },
   {
    "duration": 127,
    "start_time": "2021-12-20T17:56:39.522Z"
   },
   {
    "duration": 7,
    "start_time": "2021-12-20T17:56:44.442Z"
   },
   {
    "duration": 8,
    "start_time": "2021-12-20T17:56:45.365Z"
   },
   {
    "duration": 8,
    "start_time": "2021-12-20T17:56:45.869Z"
   },
   {
    "duration": 9,
    "start_time": "2021-12-20T17:56:46.285Z"
   },
   {
    "duration": 296,
    "start_time": "2021-12-20T17:56:47.781Z"
   },
   {
    "duration": 1595,
    "start_time": "2021-12-20T17:57:04.247Z"
   },
   {
    "duration": 4,
    "start_time": "2021-12-20T17:57:05.844Z"
   },
   {
    "duration": 262,
    "start_time": "2021-12-20T17:57:05.851Z"
   },
   {
    "duration": 190,
    "start_time": "2021-12-20T17:57:06.116Z"
   },
   {
    "duration": 274,
    "start_time": "2021-12-20T17:57:06.309Z"
   },
   {
    "duration": 157,
    "start_time": "2021-12-20T17:57:06.586Z"
   },
   {
    "duration": 222,
    "start_time": "2021-12-20T17:57:06.746Z"
   },
   {
    "duration": 245,
    "start_time": "2021-12-20T17:57:06.974Z"
   },
   {
    "duration": 234,
    "start_time": "2021-12-20T17:57:07.221Z"
   },
   {
    "duration": 256,
    "start_time": "2021-12-20T17:57:07.457Z"
   },
   {
    "duration": 158,
    "start_time": "2021-12-20T17:57:07.715Z"
   },
   {
    "duration": 247,
    "start_time": "2021-12-20T17:57:07.876Z"
   },
   {
    "duration": 192,
    "start_time": "2021-12-20T17:57:08.125Z"
   },
   {
    "duration": 144,
    "start_time": "2021-12-20T17:57:08.320Z"
   },
   {
    "duration": 186,
    "start_time": "2021-12-20T17:57:08.467Z"
   },
   {
    "duration": 163,
    "start_time": "2021-12-20T17:57:08.655Z"
   },
   {
    "duration": 302,
    "start_time": "2021-12-20T17:57:08.820Z"
   },
   {
    "duration": 218,
    "start_time": "2021-12-20T17:57:09.124Z"
   },
   {
    "duration": 244,
    "start_time": "2021-12-20T17:57:09.344Z"
   },
   {
    "duration": 298,
    "start_time": "2021-12-20T17:57:09.591Z"
   },
   {
    "duration": 261,
    "start_time": "2021-12-20T17:57:09.892Z"
   },
   {
    "duration": 308,
    "start_time": "2021-12-20T17:57:10.156Z"
   },
   {
    "duration": 699,
    "start_time": "2021-12-20T17:57:10.472Z"
   },
   {
    "duration": 12,
    "start_time": "2021-12-20T17:57:11.176Z"
   },
   {
    "duration": 279,
    "start_time": "2021-12-20T17:57:11.192Z"
   },
   {
    "duration": 136,
    "start_time": "2021-12-20T17:57:11.474Z"
   },
   {
    "duration": 179,
    "start_time": "2021-12-20T17:57:11.612Z"
   },
   {
    "duration": 175,
    "start_time": "2021-12-20T17:57:11.795Z"
   },
   {
    "duration": 141,
    "start_time": "2021-12-20T17:57:11.972Z"
   },
   {
    "duration": 263,
    "start_time": "2021-12-20T17:57:12.116Z"
   },
   {
    "duration": 659,
    "start_time": "2021-12-20T17:57:12.382Z"
   },
   {
    "duration": 8,
    "start_time": "2021-12-20T17:57:13.044Z"
   },
   {
    "duration": 251,
    "start_time": "2021-12-20T17:57:13.067Z"
   },
   {
    "duration": 188,
    "start_time": "2021-12-20T17:57:13.321Z"
   },
   {
    "duration": 174,
    "start_time": "2021-12-20T17:57:13.512Z"
   },
   {
    "duration": 544,
    "start_time": "2021-12-20T17:57:13.688Z"
   },
   {
    "duration": 8,
    "start_time": "2021-12-20T17:57:14.235Z"
   },
   {
    "duration": 217,
    "start_time": "2021-12-20T17:57:14.245Z"
   },
   {
    "duration": 270,
    "start_time": "2021-12-20T17:57:14.464Z"
   },
   {
    "duration": 444,
    "start_time": "2021-12-20T17:57:14.737Z"
   },
   {
    "duration": 10,
    "start_time": "2021-12-20T17:57:15.184Z"
   },
   {
    "duration": 225,
    "start_time": "2021-12-20T17:57:15.197Z"
   },
   {
    "duration": 258,
    "start_time": "2021-12-20T17:57:15.425Z"
   },
   {
    "duration": 211,
    "start_time": "2021-12-20T17:57:15.686Z"
   },
   {
    "duration": 259,
    "start_time": "2021-12-20T17:57:15.899Z"
   },
   {
    "duration": 564,
    "start_time": "2021-12-20T17:57:16.160Z"
   },
   {
    "duration": 13,
    "start_time": "2021-12-20T17:57:16.728Z"
   },
   {
    "duration": 166,
    "start_time": "2021-12-20T17:57:16.743Z"
   },
   {
    "duration": 174,
    "start_time": "2021-12-20T17:57:16.911Z"
   },
   {
    "duration": 241,
    "start_time": "2021-12-20T17:57:17.087Z"
   },
   {
    "duration": 287,
    "start_time": "2021-12-20T17:57:17.330Z"
   },
   {
    "duration": 474,
    "start_time": "2021-12-20T17:57:17.619Z"
   },
   {
    "duration": 12277,
    "start_time": "2021-12-20T17:57:18.096Z"
   },
   {
    "duration": 7,
    "start_time": "2021-12-20T17:57:30.375Z"
   },
   {
    "duration": 309,
    "start_time": "2021-12-20T17:57:30.385Z"
   },
   {
    "duration": 298,
    "start_time": "2021-12-20T17:57:30.697Z"
   },
   {
    "duration": 271,
    "start_time": "2021-12-20T17:57:30.998Z"
   },
   {
    "duration": 610,
    "start_time": "2021-12-20T17:57:31.272Z"
   },
   {
    "duration": 149,
    "start_time": "2021-12-20T17:57:31.885Z"
   },
   {
    "duration": 182,
    "start_time": "2021-12-20T17:57:32.036Z"
   },
   {
    "duration": 265,
    "start_time": "2021-12-20T17:57:32.220Z"
   },
   {
    "duration": 364,
    "start_time": "2021-12-20T17:57:32.487Z"
   },
   {
    "duration": 252,
    "start_time": "2021-12-20T17:57:32.854Z"
   },
   {
    "duration": 659,
    "start_time": "2021-12-20T17:57:33.108Z"
   },
   {
    "duration": 364,
    "start_time": "2021-12-20T17:59:08.579Z"
   },
   {
    "duration": 11483,
    "start_time": "2021-12-20T18:00:30.923Z"
   },
   {
    "duration": 1627,
    "start_time": "2021-12-20T18:01:53.824Z"
   },
   {
    "duration": 4,
    "start_time": "2021-12-20T18:01:55.454Z"
   },
   {
    "duration": 396,
    "start_time": "2021-12-20T18:01:55.467Z"
   },
   {
    "duration": 276,
    "start_time": "2021-12-20T18:01:55.865Z"
   },
   {
    "duration": 244,
    "start_time": "2021-12-20T18:01:56.144Z"
   },
   {
    "duration": 310,
    "start_time": "2021-12-20T18:01:56.391Z"
   },
   {
    "duration": 267,
    "start_time": "2021-12-20T18:01:56.703Z"
   },
   {
    "duration": 231,
    "start_time": "2021-12-20T18:01:56.973Z"
   },
   {
    "duration": 302,
    "start_time": "2021-12-20T18:01:57.208Z"
   },
   {
    "duration": 190,
    "start_time": "2021-12-20T18:01:57.512Z"
   },
   {
    "duration": 168,
    "start_time": "2021-12-20T18:01:57.704Z"
   },
   {
    "duration": 275,
    "start_time": "2021-12-20T18:01:57.874Z"
   },
   {
    "duration": 321,
    "start_time": "2021-12-20T18:01:58.152Z"
   },
   {
    "duration": 221,
    "start_time": "2021-12-20T18:01:58.476Z"
   },
   {
    "duration": 307,
    "start_time": "2021-12-20T18:01:58.700Z"
   },
   {
    "duration": 216,
    "start_time": "2021-12-20T18:01:59.010Z"
   },
   {
    "duration": 385,
    "start_time": "2021-12-20T18:01:59.228Z"
   },
   {
    "duration": 256,
    "start_time": "2021-12-20T18:01:59.615Z"
   },
   {
    "duration": 347,
    "start_time": "2021-12-20T18:01:59.874Z"
   },
   {
    "duration": 298,
    "start_time": "2021-12-20T18:02:00.224Z"
   },
   {
    "duration": 283,
    "start_time": "2021-12-20T18:02:00.525Z"
   },
   {
    "duration": 326,
    "start_time": "2021-12-20T18:02:00.811Z"
   },
   {
    "duration": 558,
    "start_time": "2021-12-20T18:02:01.143Z"
   },
   {
    "duration": 8,
    "start_time": "2021-12-20T18:02:01.705Z"
   },
   {
    "duration": 354,
    "start_time": "2021-12-20T18:02:01.716Z"
   },
   {
    "duration": 240,
    "start_time": "2021-12-20T18:02:02.073Z"
   },
   {
    "duration": 329,
    "start_time": "2021-12-20T18:02:02.315Z"
   },
   {
    "duration": 299,
    "start_time": "2021-12-20T18:02:02.646Z"
   },
   {
    "duration": 264,
    "start_time": "2021-12-20T18:02:02.948Z"
   },
   {
    "duration": 317,
    "start_time": "2021-12-20T18:02:03.214Z"
   },
   {
    "duration": 615,
    "start_time": "2021-12-20T18:02:03.534Z"
   },
   {
    "duration": 20,
    "start_time": "2021-12-20T18:02:04.151Z"
   },
   {
    "duration": 312,
    "start_time": "2021-12-20T18:02:04.173Z"
   },
   {
    "duration": 309,
    "start_time": "2021-12-20T18:02:04.487Z"
   },
   {
    "duration": 231,
    "start_time": "2021-12-20T18:02:04.799Z"
   },
   {
    "duration": 698,
    "start_time": "2021-12-20T18:02:05.032Z"
   },
   {
    "duration": 12,
    "start_time": "2021-12-20T18:02:05.733Z"
   },
   {
    "duration": 343,
    "start_time": "2021-12-20T18:02:05.748Z"
   },
   {
    "duration": 280,
    "start_time": "2021-12-20T18:02:06.094Z"
   },
   {
    "duration": 543,
    "start_time": "2021-12-20T18:02:06.376Z"
   },
   {
    "duration": 9,
    "start_time": "2021-12-20T18:02:06.921Z"
   },
   {
    "duration": 213,
    "start_time": "2021-12-20T18:02:06.932Z"
   },
   {
    "duration": 226,
    "start_time": "2021-12-20T18:02:07.148Z"
   },
   {
    "duration": 295,
    "start_time": "2021-12-20T18:02:07.377Z"
   },
   {
    "duration": 344,
    "start_time": "2021-12-20T18:02:07.675Z"
   },
   {
    "duration": 546,
    "start_time": "2021-12-20T18:02:08.022Z"
   },
   {
    "duration": 28,
    "start_time": "2021-12-20T18:02:08.571Z"
   },
   {
    "duration": 217,
    "start_time": "2021-12-20T18:02:08.602Z"
   },
   {
    "duration": 339,
    "start_time": "2021-12-20T18:02:08.822Z"
   },
   {
    "duration": 213,
    "start_time": "2021-12-20T18:02:09.164Z"
   },
   {
    "duration": 190,
    "start_time": "2021-12-20T18:02:09.380Z"
   },
   {
    "duration": 486,
    "start_time": "2021-12-20T18:02:09.572Z"
   },
   {
    "duration": 11617,
    "start_time": "2021-12-20T18:02:10.068Z"
   },
   {
    "duration": 7,
    "start_time": "2021-12-20T18:02:21.687Z"
   },
   {
    "duration": 298,
    "start_time": "2021-12-20T18:02:21.696Z"
   },
   {
    "duration": 190,
    "start_time": "2021-12-20T18:02:21.996Z"
   },
   {
    "duration": 305,
    "start_time": "2021-12-20T18:02:22.189Z"
   },
   {
    "duration": 601,
    "start_time": "2021-12-20T18:02:22.496Z"
   },
   {
    "duration": 208,
    "start_time": "2021-12-20T18:02:23.100Z"
   },
   {
    "duration": 73,
    "start_time": "2021-12-20T18:02:23.310Z"
   },
   {
    "duration": 222,
    "start_time": "2021-12-20T18:02:23.385Z"
   },
   {
    "duration": 210,
    "start_time": "2021-12-20T18:02:23.610Z"
   },
   {
    "duration": 277,
    "start_time": "2021-12-20T18:02:23.823Z"
   },
   {
    "duration": 667,
    "start_time": "2021-12-20T18:02:24.102Z"
   },
   {
    "duration": 1910,
    "start_time": "2021-12-21T17:14:19.789Z"
   },
   {
    "duration": 5,
    "start_time": "2021-12-21T17:14:21.701Z"
   },
   {
    "duration": 91,
    "start_time": "2021-12-21T17:14:21.709Z"
   },
   {
    "duration": 18,
    "start_time": "2021-12-21T17:14:21.804Z"
   },
   {
    "duration": 75,
    "start_time": "2021-12-21T17:14:21.826Z"
   },
   {
    "duration": 19,
    "start_time": "2021-12-21T17:14:21.905Z"
   },
   {
    "duration": 74,
    "start_time": "2021-12-21T17:14:21.927Z"
   },
   {
    "duration": 14,
    "start_time": "2021-12-21T17:14:22.006Z"
   },
   {
    "duration": 7,
    "start_time": "2021-12-21T17:14:22.024Z"
   },
   {
    "duration": 45,
    "start_time": "2021-12-21T17:14:22.033Z"
   },
   {
    "duration": 5,
    "start_time": "2021-12-21T17:14:22.080Z"
   },
   {
    "duration": 21,
    "start_time": "2021-12-21T17:14:22.088Z"
   },
   {
    "duration": 66,
    "start_time": "2021-12-21T17:14:22.111Z"
   },
   {
    "duration": 7,
    "start_time": "2021-12-21T17:14:22.180Z"
   },
   {
    "duration": 10,
    "start_time": "2021-12-21T17:14:22.190Z"
   },
   {
    "duration": 8,
    "start_time": "2021-12-21T17:14:22.203Z"
   },
   {
    "duration": 195,
    "start_time": "2021-12-21T17:14:22.214Z"
   },
   {
    "duration": 13,
    "start_time": "2021-12-21T17:14:22.412Z"
   },
   {
    "duration": 25,
    "start_time": "2021-12-21T17:14:22.428Z"
   },
   {
    "duration": 9,
    "start_time": "2021-12-21T17:14:22.465Z"
   },
   {
    "duration": 10,
    "start_time": "2021-12-21T17:14:22.477Z"
   },
   {
    "duration": 8,
    "start_time": "2021-12-21T17:14:22.490Z"
   },
   {
    "duration": 361,
    "start_time": "2021-12-21T17:14:22.507Z"
   },
   {
    "duration": 9,
    "start_time": "2021-12-21T17:14:22.873Z"
   },
   {
    "duration": 101,
    "start_time": "2021-12-21T17:14:22.885Z"
   },
   {
    "duration": 80,
    "start_time": "2021-12-21T17:14:22.989Z"
   },
   {
    "duration": 93,
    "start_time": "2021-12-21T17:14:23.072Z"
   },
   {
    "duration": 11,
    "start_time": "2021-12-21T17:14:23.168Z"
   },
   {
    "duration": 20,
    "start_time": "2021-12-21T17:14:23.182Z"
   },
   {
    "duration": 23,
    "start_time": "2021-12-21T17:14:23.205Z"
   },
   {
    "duration": 581,
    "start_time": "2021-12-21T17:14:23.230Z"
   },
   {
    "duration": 9,
    "start_time": "2021-12-21T17:14:23.814Z"
   },
   {
    "duration": 37,
    "start_time": "2021-12-21T17:14:23.826Z"
   },
   {
    "duration": 23,
    "start_time": "2021-12-21T17:14:23.867Z"
   },
   {
    "duration": 15,
    "start_time": "2021-12-21T17:14:23.893Z"
   },
   {
    "duration": 334,
    "start_time": "2021-12-21T17:14:23.911Z"
   },
   {
    "duration": 37,
    "start_time": "2021-12-21T17:14:24.248Z"
   },
   {
    "duration": 10,
    "start_time": "2021-12-21T17:14:24.287Z"
   },
   {
    "duration": 10,
    "start_time": "2021-12-21T17:14:24.300Z"
   },
   {
    "duration": 318,
    "start_time": "2021-12-21T17:14:24.312Z"
   },
   {
    "duration": 11,
    "start_time": "2021-12-21T17:14:24.633Z"
   },
   {
    "duration": 7,
    "start_time": "2021-12-21T17:14:24.664Z"
   },
   {
    "duration": 11,
    "start_time": "2021-12-21T17:14:24.673Z"
   },
   {
    "duration": 11,
    "start_time": "2021-12-21T17:14:24.686Z"
   },
   {
    "duration": 11,
    "start_time": "2021-12-21T17:14:24.700Z"
   },
   {
    "duration": 350,
    "start_time": "2021-12-21T17:14:24.714Z"
   },
   {
    "duration": 9,
    "start_time": "2021-12-21T17:14:25.067Z"
   },
   {
    "duration": 8,
    "start_time": "2021-12-21T17:14:25.079Z"
   },
   {
    "duration": 8,
    "start_time": "2021-12-21T17:14:25.089Z"
   },
   {
    "duration": 9,
    "start_time": "2021-12-21T17:14:25.100Z"
   },
   {
    "duration": 7,
    "start_time": "2021-12-21T17:14:25.163Z"
   },
   {
    "duration": 307,
    "start_time": "2021-12-21T17:14:25.173Z"
   },
   {
    "duration": 10961,
    "start_time": "2021-12-21T17:14:25.482Z"
   },
   {
    "duration": 17,
    "start_time": "2021-12-21T17:14:36.446Z"
   },
   {
    "duration": 11,
    "start_time": "2021-12-21T17:14:36.466Z"
   },
   {
    "duration": 9,
    "start_time": "2021-12-21T17:14:36.480Z"
   },
   {
    "duration": 14,
    "start_time": "2021-12-21T17:14:36.492Z"
   },
   {
    "duration": 385,
    "start_time": "2021-12-21T17:14:36.510Z"
   },
   {
    "duration": 142,
    "start_time": "2021-12-21T17:14:36.897Z"
   },
   {
    "duration": 8,
    "start_time": "2021-12-21T17:14:37.042Z"
   },
   {
    "duration": 10,
    "start_time": "2021-12-21T17:14:37.064Z"
   },
   {
    "duration": 10,
    "start_time": "2021-12-21T17:14:37.076Z"
   },
   {
    "duration": 10,
    "start_time": "2021-12-21T17:14:37.089Z"
   },
   {
    "duration": 397,
    "start_time": "2021-12-21T17:14:37.101Z"
   },
   {
    "duration": 393,
    "start_time": "2021-12-21T17:26:27.837Z"
   },
   {
    "duration": 275,
    "start_time": "2021-12-21T17:26:48.228Z"
   },
   {
    "duration": 7,
    "start_time": "2021-12-21T17:26:59.038Z"
   },
   {
    "duration": 86,
    "start_time": "2021-12-21T17:29:02.518Z"
   },
   {
    "duration": 274,
    "start_time": "2021-12-21T17:29:15.208Z"
   },
   {
    "duration": 87,
    "start_time": "2021-12-21T17:30:00.092Z"
   },
   {
    "duration": 307,
    "start_time": "2021-12-21T17:30:07.814Z"
   },
   {
    "duration": 36,
    "start_time": "2021-12-21T17:31:59.208Z"
   },
   {
    "duration": 9,
    "start_time": "2021-12-21T17:33:04.613Z"
   },
   {
    "duration": 170,
    "start_time": "2021-12-21T17:34:40.867Z"
   },
   {
    "duration": 176,
    "start_time": "2021-12-21T17:35:23.164Z"
   },
   {
    "duration": 199,
    "start_time": "2021-12-21T17:36:50.255Z"
   },
   {
    "duration": 85,
    "start_time": "2021-12-21T17:37:50.265Z"
   },
   {
    "duration": 164,
    "start_time": "2021-12-21T17:37:58.026Z"
   },
   {
    "duration": 12435,
    "start_time": "2021-12-21T17:38:57.433Z"
   },
   {
    "duration": 12107,
    "start_time": "2021-12-21T17:40:35.130Z"
   },
   {
    "duration": 10,
    "start_time": "2021-12-21T17:42:58.650Z"
   },
   {
    "duration": 109756,
    "start_time": "2021-12-21T17:43:18.740Z"
   },
   {
    "duration": 394726,
    "start_time": "2021-12-21T17:50:19.658Z"
   },
   {
    "duration": 86,
    "start_time": "2021-12-21T17:57:36.283Z"
   },
   {
    "duration": 29176,
    "start_time": "2021-12-21T17:57:54.146Z"
   },
   {
    "duration": 95,
    "start_time": "2021-12-21T17:58:44.964Z"
   },
   {
    "duration": 368921,
    "start_time": "2021-12-21T17:58:54.461Z"
   },
   {
    "duration": 91724,
    "start_time": "2021-12-21T18:05:33.362Z"
   },
   {
    "duration": 84920,
    "start_time": "2021-12-21T18:07:24.265Z"
   },
   {
    "duration": 74916,
    "start_time": "2021-12-21T18:08:58.963Z"
   },
   {
    "duration": 90,
    "start_time": "2021-12-21T18:13:59.637Z"
   },
   {
    "duration": 74331,
    "start_time": "2021-12-21T18:14:24.235Z"
   },
   {
    "duration": 76521,
    "start_time": "2021-12-21T18:17:11.369Z"
   },
   {
    "duration": 395530,
    "start_time": "2021-12-21T18:18:51.134Z"
   },
   {
    "duration": 252858,
    "start_time": "2021-12-21T18:25:35.378Z"
   },
   {
    "duration": 75674,
    "start_time": "2021-12-21T18:30:02.027Z"
   },
   {
    "duration": 7,
    "start_time": "2021-12-21T18:33:43.922Z"
   },
   {
    "duration": 8,
    "start_time": "2021-12-21T18:33:44.597Z"
   },
   {
    "duration": 8,
    "start_time": "2021-12-21T18:33:45.230Z"
   },
   {
    "duration": 11,
    "start_time": "2021-12-21T18:33:45.859Z"
   },
   {
    "duration": 437,
    "start_time": "2021-12-21T18:33:46.763Z"
   },
   {
    "duration": 3937,
    "start_time": "2021-12-21T18:36:41.803Z"
   },
   {
    "duration": 8,
    "start_time": "2021-12-21T18:38:22.983Z"
   },
   {
    "duration": 11,
    "start_time": "2021-12-21T18:38:23.261Z"
   },
   {
    "duration": 11,
    "start_time": "2021-12-21T18:38:23.566Z"
   },
   {
    "duration": 11,
    "start_time": "2021-12-21T18:38:23.844Z"
   },
   {
    "duration": 370,
    "start_time": "2021-12-21T18:38:24.793Z"
   },
   {
    "duration": 1569,
    "start_time": "2021-12-21T18:38:40.356Z"
   },
   {
    "duration": 4,
    "start_time": "2021-12-21T18:38:41.928Z"
   },
   {
    "duration": 77,
    "start_time": "2021-12-21T18:38:41.935Z"
   },
   {
    "duration": 11,
    "start_time": "2021-12-21T18:38:42.015Z"
   },
   {
    "duration": 56,
    "start_time": "2021-12-21T18:38:42.029Z"
   },
   {
    "duration": 10,
    "start_time": "2021-12-21T18:38:42.088Z"
   },
   {
    "duration": 67,
    "start_time": "2021-12-21T18:38:42.101Z"
   },
   {
    "duration": 13,
    "start_time": "2021-12-21T18:38:42.174Z"
   },
   {
    "duration": 13,
    "start_time": "2021-12-21T18:38:42.190Z"
   },
   {
    "duration": 41,
    "start_time": "2021-12-21T18:38:42.206Z"
   },
   {
    "duration": 32,
    "start_time": "2021-12-21T18:38:42.249Z"
   },
   {
    "duration": 25,
    "start_time": "2021-12-21T18:38:42.284Z"
   },
   {
    "duration": 21,
    "start_time": "2021-12-21T18:38:42.312Z"
   },
   {
    "duration": 9,
    "start_time": "2021-12-21T18:38:42.335Z"
   },
   {
    "duration": 22,
    "start_time": "2021-12-21T18:38:42.347Z"
   },
   {
    "duration": 9,
    "start_time": "2021-12-21T18:38:42.372Z"
   },
   {
    "duration": 144,
    "start_time": "2021-12-21T18:38:42.384Z"
   },
   {
    "duration": 9,
    "start_time": "2021-12-21T18:38:42.531Z"
   },
   {
    "duration": 22,
    "start_time": "2021-12-21T18:38:42.542Z"
   },
   {
    "duration": 9,
    "start_time": "2021-12-21T18:38:42.568Z"
   },
   {
    "duration": 10,
    "start_time": "2021-12-21T18:38:42.580Z"
   },
   {
    "duration": 8,
    "start_time": "2021-12-21T18:38:42.592Z"
   },
   {
    "duration": 471,
    "start_time": "2021-12-21T18:38:42.608Z"
   },
   {
    "duration": 9,
    "start_time": "2021-12-21T18:38:43.083Z"
   },
   {
    "duration": 99,
    "start_time": "2021-12-21T18:38:43.095Z"
   },
   {
    "duration": 99,
    "start_time": "2021-12-21T18:38:43.266Z"
   },
   {
    "duration": 11,
    "start_time": "2021-12-21T18:38:43.368Z"
   },
   {
    "duration": 9,
    "start_time": "2021-12-21T18:38:43.382Z"
   },
   {
    "duration": 7,
    "start_time": "2021-12-21T18:38:43.393Z"
   },
   {
    "duration": 9,
    "start_time": "2021-12-21T18:38:43.402Z"
   },
   {
    "duration": 488,
    "start_time": "2021-12-21T18:38:43.464Z"
   },
   {
    "duration": 14,
    "start_time": "2021-12-21T18:38:43.955Z"
   },
   {
    "duration": 14,
    "start_time": "2021-12-21T18:38:43.972Z"
   },
   {
    "duration": 18,
    "start_time": "2021-12-21T18:38:43.990Z"
   },
   {
    "duration": 11,
    "start_time": "2021-12-21T18:38:44.011Z"
   },
   {
    "duration": 357,
    "start_time": "2021-12-21T18:38:44.024Z"
   },
   {
    "duration": 9,
    "start_time": "2021-12-21T18:38:44.383Z"
   },
   {
    "duration": 8,
    "start_time": "2021-12-21T18:38:44.394Z"
   },
   {
    "duration": 9,
    "start_time": "2021-12-21T18:38:44.405Z"
   },
   {
    "duration": 339,
    "start_time": "2021-12-21T18:38:44.417Z"
   },
   {
    "duration": 11,
    "start_time": "2021-12-21T18:38:44.759Z"
   },
   {
    "duration": 11,
    "start_time": "2021-12-21T18:38:44.773Z"
   },
   {
    "duration": 10,
    "start_time": "2021-12-21T18:38:44.787Z"
   },
   {
    "duration": 11,
    "start_time": "2021-12-21T18:38:44.799Z"
   },
   {
    "duration": 56,
    "start_time": "2021-12-21T18:38:44.812Z"
   },
   {
    "duration": 324,
    "start_time": "2021-12-21T18:38:44.871Z"
   },
   {
    "duration": 9,
    "start_time": "2021-12-21T18:38:45.197Z"
   },
   {
    "duration": 7,
    "start_time": "2021-12-21T18:38:45.208Z"
   },
   {
    "duration": 7,
    "start_time": "2021-12-21T18:38:45.218Z"
   },
   {
    "duration": 43,
    "start_time": "2021-12-21T18:38:45.228Z"
   },
   {
    "duration": 6,
    "start_time": "2021-12-21T18:38:45.275Z"
   },
   {
    "duration": 436,
    "start_time": "2021-12-21T18:38:45.283Z"
   },
   {
    "duration": 78989,
    "start_time": "2021-12-21T18:38:45.721Z"
   },
   {
    "duration": 10,
    "start_time": "2021-12-21T18:40:04.712Z"
   },
   {
    "duration": 17,
    "start_time": "2021-12-21T18:40:04.725Z"
   },
   {
    "duration": 37,
    "start_time": "2021-12-21T18:40:04.745Z"
   },
   {
    "duration": 25,
    "start_time": "2021-12-21T18:40:04.785Z"
   },
   {
    "duration": 461,
    "start_time": "2021-12-21T18:40:04.813Z"
   },
   {
    "duration": 4142,
    "start_time": "2021-12-21T18:40:05.277Z"
   },
   {
    "duration": 8,
    "start_time": "2021-12-21T18:40:09.422Z"
   },
   {
    "duration": 34,
    "start_time": "2021-12-21T18:40:09.432Z"
   },
   {
    "duration": 11,
    "start_time": "2021-12-21T18:40:09.469Z"
   },
   {
    "duration": 9,
    "start_time": "2021-12-21T18:40:09.482Z"
   },
   {
    "duration": 392,
    "start_time": "2021-12-21T18:40:09.493Z"
   },
   {
    "duration": 1660,
    "start_time": "2021-12-21T18:43:23.596Z"
   },
   {
    "duration": 4,
    "start_time": "2021-12-21T18:43:25.259Z"
   },
   {
    "duration": 64,
    "start_time": "2021-12-21T18:43:25.266Z"
   },
   {
    "duration": 30,
    "start_time": "2021-12-21T18:43:25.333Z"
   },
   {
    "duration": 35,
    "start_time": "2021-12-21T18:43:25.365Z"
   },
   {
    "duration": 10,
    "start_time": "2021-12-21T18:43:25.403Z"
   },
   {
    "duration": 69,
    "start_time": "2021-12-21T18:43:25.415Z"
   },
   {
    "duration": 14,
    "start_time": "2021-12-21T18:43:25.489Z"
   },
   {
    "duration": 5,
    "start_time": "2021-12-21T18:43:25.506Z"
   },
   {
    "duration": 51,
    "start_time": "2021-12-21T18:43:25.514Z"
   },
   {
    "duration": 5,
    "start_time": "2021-12-21T18:43:25.568Z"
   },
   {
    "duration": 28,
    "start_time": "2021-12-21T18:43:25.576Z"
   },
   {
    "duration": 60,
    "start_time": "2021-12-21T18:43:25.608Z"
   },
   {
    "duration": 7,
    "start_time": "2021-12-21T18:43:25.670Z"
   },
   {
    "duration": 8,
    "start_time": "2021-12-21T18:43:25.679Z"
   },
   {
    "duration": 8,
    "start_time": "2021-12-21T18:43:25.689Z"
   },
   {
    "duration": 153,
    "start_time": "2021-12-21T18:43:25.700Z"
   },
   {
    "duration": 13,
    "start_time": "2021-12-21T18:43:25.855Z"
   },
   {
    "duration": 8,
    "start_time": "2021-12-21T18:43:25.870Z"
   },
   {
    "duration": 9,
    "start_time": "2021-12-21T18:43:25.880Z"
   },
   {
    "duration": 8,
    "start_time": "2021-12-21T18:43:25.891Z"
   },
   {
    "duration": 10,
    "start_time": "2021-12-21T18:43:25.901Z"
   },
   {
    "duration": 348,
    "start_time": "2021-12-21T18:43:25.917Z"
   },
   {
    "duration": 9,
    "start_time": "2021-12-21T18:43:26.268Z"
   },
   {
    "duration": 115,
    "start_time": "2021-12-21T18:43:26.280Z"
   },
   {
    "duration": 100,
    "start_time": "2021-12-21T18:43:26.464Z"
   },
   {
    "duration": 9,
    "start_time": "2021-12-21T18:43:26.567Z"
   },
   {
    "duration": 9,
    "start_time": "2021-12-21T18:43:26.579Z"
   },
   {
    "duration": 8,
    "start_time": "2021-12-21T18:43:26.591Z"
   },
   {
    "duration": 11,
    "start_time": "2021-12-21T18:43:26.602Z"
   },
   {
    "duration": 622,
    "start_time": "2021-12-21T18:43:26.615Z"
   },
   {
    "duration": 9,
    "start_time": "2021-12-21T18:43:27.240Z"
   },
   {
    "duration": 12,
    "start_time": "2021-12-21T18:43:27.264Z"
   },
   {
    "duration": 24,
    "start_time": "2021-12-21T18:43:27.279Z"
   },
   {
    "duration": 13,
    "start_time": "2021-12-21T18:43:27.306Z"
   },
   {
    "duration": 337,
    "start_time": "2021-12-21T18:43:27.322Z"
   },
   {
    "duration": 11,
    "start_time": "2021-12-21T18:43:27.664Z"
   },
   {
    "duration": 10,
    "start_time": "2021-12-21T18:43:27.678Z"
   },
   {
    "duration": 10,
    "start_time": "2021-12-21T18:43:27.691Z"
   },
   {
    "duration": 338,
    "start_time": "2021-12-21T18:43:27.703Z"
   },
   {
    "duration": 22,
    "start_time": "2021-12-21T18:43:28.045Z"
   },
   {
    "duration": 7,
    "start_time": "2021-12-21T18:43:28.070Z"
   },
   {
    "duration": 10,
    "start_time": "2021-12-21T18:43:28.080Z"
   },
   {
    "duration": 11,
    "start_time": "2021-12-21T18:43:28.092Z"
   },
   {
    "duration": 12,
    "start_time": "2021-12-21T18:43:28.106Z"
   },
   {
    "duration": 442,
    "start_time": "2021-12-21T18:43:28.121Z"
   },
   {
    "duration": 11,
    "start_time": "2021-12-21T18:43:28.566Z"
   },
   {
    "duration": 9,
    "start_time": "2021-12-21T18:43:28.579Z"
   },
   {
    "duration": 9,
    "start_time": "2021-12-21T18:43:28.590Z"
   },
   {
    "duration": 9,
    "start_time": "2021-12-21T18:43:28.601Z"
   },
   {
    "duration": 57,
    "start_time": "2021-12-21T18:43:28.612Z"
   },
   {
    "duration": 312,
    "start_time": "2021-12-21T18:43:28.672Z"
   },
   {
    "duration": 83338,
    "start_time": "2021-12-21T18:43:28.986Z"
   },
   {
    "duration": 6,
    "start_time": "2021-12-21T18:44:52.326Z"
   },
   {
    "duration": 30,
    "start_time": "2021-12-21T18:44:52.335Z"
   },
   {
    "duration": 10,
    "start_time": "2021-12-21T18:44:52.368Z"
   },
   {
    "duration": 10,
    "start_time": "2021-12-21T18:44:52.381Z"
   },
   {
    "duration": 327,
    "start_time": "2021-12-21T18:44:52.393Z"
   },
   {
    "duration": 3934,
    "start_time": "2021-12-21T18:44:52.722Z"
   },
   {
    "duration": 5,
    "start_time": "2021-12-21T18:44:56.663Z"
   },
   {
    "duration": 20,
    "start_time": "2021-12-21T18:44:56.670Z"
   },
   {
    "duration": 11,
    "start_time": "2021-12-21T18:44:56.693Z"
   },
   {
    "duration": 11,
    "start_time": "2021-12-21T18:44:56.706Z"
   },
   {
    "duration": 372,
    "start_time": "2021-12-21T18:44:56.719Z"
   },
   {
    "duration": 1527,
    "start_time": "2021-12-21T18:46:52.016Z"
   },
   {
    "duration": 6,
    "start_time": "2021-12-21T18:46:53.546Z"
   },
   {
    "duration": 60,
    "start_time": "2021-12-21T18:46:53.561Z"
   },
   {
    "duration": 13,
    "start_time": "2021-12-21T18:46:53.625Z"
   },
   {
    "duration": 36,
    "start_time": "2021-12-21T18:46:53.664Z"
   },
   {
    "duration": 12,
    "start_time": "2021-12-21T18:46:53.703Z"
   },
   {
    "duration": 72,
    "start_time": "2021-12-21T18:46:53.718Z"
   },
   {
    "duration": 14,
    "start_time": "2021-12-21T18:46:53.796Z"
   },
   {
    "duration": 7,
    "start_time": "2021-12-21T18:46:53.814Z"
   },
   {
    "duration": 43,
    "start_time": "2021-12-21T18:46:53.824Z"
   },
   {
    "duration": 4,
    "start_time": "2021-12-21T18:46:53.870Z"
   },
   {
    "duration": 23,
    "start_time": "2021-12-21T18:46:53.877Z"
   },
   {
    "duration": 61,
    "start_time": "2021-12-21T18:46:53.903Z"
   },
   {
    "duration": 7,
    "start_time": "2021-12-21T18:46:53.967Z"
   },
   {
    "duration": 8,
    "start_time": "2021-12-21T18:46:53.977Z"
   },
   {
    "duration": 12,
    "start_time": "2021-12-21T18:46:53.987Z"
   },
   {
    "duration": 153,
    "start_time": "2021-12-21T18:46:54.002Z"
   },
   {
    "duration": 15,
    "start_time": "2021-12-21T18:46:54.158Z"
   },
   {
    "duration": 8,
    "start_time": "2021-12-21T18:46:54.182Z"
   },
   {
    "duration": 17,
    "start_time": "2021-12-21T18:46:54.194Z"
   },
   {
    "duration": 10,
    "start_time": "2021-12-21T18:46:54.214Z"
   },
   {
    "duration": 39,
    "start_time": "2021-12-21T18:46:54.227Z"
   },
   {
    "duration": 328,
    "start_time": "2021-12-21T18:46:54.272Z"
   },
   {
    "duration": 10,
    "start_time": "2021-12-21T18:46:54.605Z"
   },
   {
    "duration": 146,
    "start_time": "2021-12-21T18:46:54.618Z"
   },
   {
    "duration": 10,
    "start_time": "2021-12-21T18:46:54.767Z"
   },
   {
    "duration": 10,
    "start_time": "2021-12-21T18:46:54.866Z"
   },
   {
    "duration": 10,
    "start_time": "2021-12-21T18:46:54.879Z"
   },
   {
    "duration": 6,
    "start_time": "2021-12-21T18:46:54.891Z"
   },
   {
    "duration": 65,
    "start_time": "2021-12-21T18:46:54.899Z"
   },
   {
    "duration": 572,
    "start_time": "2021-12-21T18:46:54.967Z"
   },
   {
    "duration": 22,
    "start_time": "2021-12-21T18:46:55.542Z"
   },
   {
    "duration": 18,
    "start_time": "2021-12-21T18:46:55.567Z"
   },
   {
    "duration": 22,
    "start_time": "2021-12-21T18:46:55.587Z"
   },
   {
    "duration": 14,
    "start_time": "2021-12-21T18:46:55.612Z"
   },
   {
    "duration": 315,
    "start_time": "2021-12-21T18:46:55.629Z"
   },
   {
    "duration": 20,
    "start_time": "2021-12-21T18:46:55.946Z"
   },
   {
    "duration": 10,
    "start_time": "2021-12-21T18:46:55.969Z"
   },
   {
    "duration": 10,
    "start_time": "2021-12-21T18:46:55.982Z"
   },
   {
    "duration": 322,
    "start_time": "2021-12-21T18:46:55.995Z"
   },
   {
    "duration": 8,
    "start_time": "2021-12-21T18:46:56.319Z"
   },
   {
    "duration": 32,
    "start_time": "2021-12-21T18:46:56.330Z"
   },
   {
    "duration": 11,
    "start_time": "2021-12-21T18:46:56.365Z"
   },
   {
    "duration": 11,
    "start_time": "2021-12-21T18:46:56.378Z"
   },
   {
    "duration": 10,
    "start_time": "2021-12-21T18:46:56.392Z"
   },
   {
    "duration": 332,
    "start_time": "2021-12-21T18:46:56.405Z"
   },
   {
    "duration": 9,
    "start_time": "2021-12-21T18:46:56.739Z"
   },
   {
    "duration": 9,
    "start_time": "2021-12-21T18:46:56.763Z"
   },
   {
    "duration": 9,
    "start_time": "2021-12-21T18:46:56.775Z"
   },
   {
    "duration": 9,
    "start_time": "2021-12-21T18:46:56.786Z"
   },
   {
    "duration": 7,
    "start_time": "2021-12-21T18:46:56.798Z"
   },
   {
    "duration": 345,
    "start_time": "2021-12-21T18:46:56.808Z"
   },
   {
    "duration": 75728,
    "start_time": "2021-12-21T18:46:57.164Z"
   },
   {
    "duration": 6,
    "start_time": "2021-12-21T18:48:12.895Z"
   },
   {
    "duration": 9,
    "start_time": "2021-12-21T18:48:12.903Z"
   },
   {
    "duration": 11,
    "start_time": "2021-12-21T18:48:12.915Z"
   },
   {
    "duration": 41,
    "start_time": "2021-12-21T18:48:12.928Z"
   },
   {
    "duration": 300,
    "start_time": "2021-12-21T18:48:12.971Z"
   },
   {
    "duration": 3898,
    "start_time": "2021-12-21T18:48:13.274Z"
   },
   {
    "duration": 7,
    "start_time": "2021-12-21T18:48:17.175Z"
   },
   {
    "duration": 10,
    "start_time": "2021-12-21T18:48:17.185Z"
   },
   {
    "duration": 7,
    "start_time": "2021-12-21T18:48:17.198Z"
   },
   {
    "duration": 7,
    "start_time": "2021-12-21T18:48:17.208Z"
   },
   {
    "duration": 371,
    "start_time": "2021-12-21T18:48:17.264Z"
   },
   {
    "duration": 175,
    "start_time": "2021-12-22T17:38:18.430Z"
   },
   {
    "duration": 1092,
    "start_time": "2021-12-22T17:38:27.319Z"
   },
   {
    "duration": 3,
    "start_time": "2021-12-22T17:38:28.413Z"
   },
   {
    "duration": 50,
    "start_time": "2021-12-22T17:38:28.418Z"
   },
   {
    "duration": 8,
    "start_time": "2021-12-22T17:38:28.470Z"
   },
   {
    "duration": 29,
    "start_time": "2021-12-22T17:38:28.480Z"
   },
   {
    "duration": 7,
    "start_time": "2021-12-22T17:38:28.511Z"
   },
   {
    "duration": 25,
    "start_time": "2021-12-22T17:38:28.520Z"
   },
   {
    "duration": 8,
    "start_time": "2021-12-22T17:38:28.547Z"
   },
   {
    "duration": 5,
    "start_time": "2021-12-22T17:38:28.557Z"
   },
   {
    "duration": 37,
    "start_time": "2021-12-22T17:38:28.563Z"
   },
   {
    "duration": 6,
    "start_time": "2021-12-22T17:38:28.602Z"
   },
   {
    "duration": 15,
    "start_time": "2021-12-22T17:38:28.610Z"
   },
   {
    "duration": 15,
    "start_time": "2021-12-22T17:38:28.627Z"
   },
   {
    "duration": 5,
    "start_time": "2021-12-22T17:38:28.643Z"
   },
   {
    "duration": 7,
    "start_time": "2021-12-22T17:38:28.649Z"
   },
   {
    "duration": 6,
    "start_time": "2021-12-22T17:38:28.657Z"
   },
   {
    "duration": 102,
    "start_time": "2021-12-22T17:38:28.664Z"
   },
   {
    "duration": 9,
    "start_time": "2021-12-22T17:38:28.768Z"
   },
   {
    "duration": 7,
    "start_time": "2021-12-22T17:38:28.791Z"
   },
   {
    "duration": 7,
    "start_time": "2021-12-22T17:38:28.800Z"
   },
   {
    "duration": 6,
    "start_time": "2021-12-22T17:38:28.809Z"
   },
   {
    "duration": 8,
    "start_time": "2021-12-22T17:38:28.817Z"
   },
   {
    "duration": 222,
    "start_time": "2021-12-22T17:38:28.831Z"
   },
   {
    "duration": 6,
    "start_time": "2021-12-22T17:38:29.056Z"
   },
   {
    "duration": 55,
    "start_time": "2021-12-22T17:38:29.064Z"
   },
   {
    "duration": 72,
    "start_time": "2021-12-22T17:38:29.121Z"
   },
   {
    "duration": 95,
    "start_time": "2021-12-22T17:38:29.196Z"
   },
   {
    "duration": 5,
    "start_time": "2021-12-22T17:38:29.294Z"
   },
   {
    "duration": 9,
    "start_time": "2021-12-22T17:38:29.300Z"
   },
   {
    "duration": 9,
    "start_time": "2021-12-22T17:38:29.311Z"
   },
   {
    "duration": 335,
    "start_time": "2021-12-22T17:38:29.321Z"
   },
   {
    "duration": 6,
    "start_time": "2021-12-22T17:38:29.658Z"
   },
   {
    "duration": 7,
    "start_time": "2021-12-22T17:38:29.665Z"
   },
   {
    "duration": 23,
    "start_time": "2021-12-22T17:38:29.673Z"
   },
   {
    "duration": 9,
    "start_time": "2021-12-22T17:38:29.698Z"
   },
   {
    "duration": 178,
    "start_time": "2021-12-22T17:38:29.709Z"
   },
   {
    "duration": 8,
    "start_time": "2021-12-22T17:38:29.888Z"
   },
   {
    "duration": 6,
    "start_time": "2021-12-22T17:38:29.897Z"
   },
   {
    "duration": 5,
    "start_time": "2021-12-22T17:38:29.905Z"
   },
   {
    "duration": 219,
    "start_time": "2021-12-22T17:38:29.912Z"
   },
   {
    "duration": 6,
    "start_time": "2021-12-22T17:38:30.133Z"
   },
   {
    "duration": 7,
    "start_time": "2021-12-22T17:38:30.141Z"
   },
   {
    "duration": 12,
    "start_time": "2021-12-22T17:38:30.150Z"
   },
   {
    "duration": 15,
    "start_time": "2021-12-22T17:38:30.164Z"
   },
   {
    "duration": 8,
    "start_time": "2021-12-22T17:38:30.191Z"
   },
   {
    "duration": 181,
    "start_time": "2021-12-22T17:38:30.201Z"
   },
   {
    "duration": 13,
    "start_time": "2021-12-22T17:38:30.383Z"
   },
   {
    "duration": 19,
    "start_time": "2021-12-22T17:38:30.398Z"
   },
   {
    "duration": 9,
    "start_time": "2021-12-22T17:38:30.419Z"
   },
   {
    "duration": 32,
    "start_time": "2021-12-22T17:38:30.430Z"
   },
   {
    "duration": 9,
    "start_time": "2021-12-22T17:38:30.464Z"
   },
   {
    "duration": 213,
    "start_time": "2021-12-22T17:38:30.474Z"
   },
   {
    "duration": 40459,
    "start_time": "2021-12-22T17:38:30.691Z"
   },
   {
    "duration": 4,
    "start_time": "2021-12-22T17:39:11.152Z"
   },
   {
    "duration": 7,
    "start_time": "2021-12-22T17:39:11.158Z"
   },
   {
    "duration": 11,
    "start_time": "2021-12-22T17:39:11.167Z"
   },
   {
    "duration": 6,
    "start_time": "2021-12-22T17:39:11.191Z"
   },
   {
    "duration": 193,
    "start_time": "2021-12-22T17:39:11.198Z"
   },
   {
    "duration": 2124,
    "start_time": "2021-12-22T17:39:11.393Z"
   },
   {
    "duration": 4,
    "start_time": "2021-12-22T17:39:13.519Z"
   },
   {
    "duration": 9,
    "start_time": "2021-12-22T17:39:13.525Z"
   },
   {
    "duration": 6,
    "start_time": "2021-12-22T17:39:13.535Z"
   },
   {
    "duration": 8,
    "start_time": "2021-12-22T17:39:13.542Z"
   },
   {
    "duration": 257,
    "start_time": "2021-12-22T17:39:13.551Z"
   },
   {
    "duration": 4,
    "start_time": "2021-12-22T17:42:24.135Z"
   },
   {
    "duration": 4,
    "start_time": "2021-12-22T17:42:30.109Z"
   },
   {
    "duration": 1985,
    "start_time": "2021-12-22T17:42:41.537Z"
   },
   {
    "duration": 4,
    "start_time": "2021-12-22T17:43:25.002Z"
   },
   {
    "duration": 2247,
    "start_time": "2021-12-22T17:43:50.762Z"
   },
   {
    "duration": 5,
    "start_time": "2021-12-22T17:43:53.011Z"
   },
   {
    "duration": 7,
    "start_time": "2021-12-22T17:43:54.315Z"
   },
   {
    "duration": 54,
    "start_time": "2021-12-22T17:43:55.223Z"
   },
   {
    "duration": 5,
    "start_time": "2021-12-22T17:43:58.246Z"
   },
   {
    "duration": 229,
    "start_time": "2021-12-22T17:43:59.608Z"
   },
   {
    "duration": 1995,
    "start_time": "2021-12-22T17:46:44.013Z"
   },
   {
    "duration": 45,
    "start_time": "2021-12-22T17:47:30.309Z"
   },
   {
    "duration": 2088,
    "start_time": "2021-12-22T17:47:35.811Z"
   },
   {
    "duration": 1189,
    "start_time": "2021-12-22T17:48:15.610Z"
   },
   {
    "duration": 3,
    "start_time": "2021-12-22T17:48:16.801Z"
   },
   {
    "duration": 47,
    "start_time": "2021-12-22T17:48:16.806Z"
   },
   {
    "duration": 8,
    "start_time": "2021-12-22T17:48:16.856Z"
   },
   {
    "duration": 38,
    "start_time": "2021-12-22T17:48:16.866Z"
   },
   {
    "duration": 8,
    "start_time": "2021-12-22T17:48:16.906Z"
   },
   {
    "duration": 24,
    "start_time": "2021-12-22T17:48:16.916Z"
   },
   {
    "duration": 8,
    "start_time": "2021-12-22T17:48:16.943Z"
   },
   {
    "duration": 38,
    "start_time": "2021-12-22T17:48:16.954Z"
   },
   {
    "duration": 17,
    "start_time": "2021-12-22T17:48:16.994Z"
   },
   {
    "duration": 4,
    "start_time": "2021-12-22T17:48:17.013Z"
   },
   {
    "duration": 18,
    "start_time": "2021-12-22T17:48:17.019Z"
   },
   {
    "duration": 13,
    "start_time": "2021-12-22T17:48:17.038Z"
   },
   {
    "duration": 39,
    "start_time": "2021-12-22T17:48:17.053Z"
   },
   {
    "duration": 8,
    "start_time": "2021-12-22T17:48:17.094Z"
   },
   {
    "duration": 5,
    "start_time": "2021-12-22T17:48:17.104Z"
   },
   {
    "duration": 88,
    "start_time": "2021-12-22T17:48:17.111Z"
   },
   {
    "duration": 9,
    "start_time": "2021-12-22T17:48:17.201Z"
   },
   {
    "duration": 7,
    "start_time": "2021-12-22T17:48:17.212Z"
   },
   {
    "duration": 8,
    "start_time": "2021-12-22T17:48:17.221Z"
   },
   {
    "duration": 8,
    "start_time": "2021-12-22T17:48:17.231Z"
   },
   {
    "duration": 5,
    "start_time": "2021-12-22T17:48:17.241Z"
   },
   {
    "duration": 249,
    "start_time": "2021-12-22T17:48:17.250Z"
   },
   {
    "duration": 9,
    "start_time": "2021-12-22T17:48:17.502Z"
   },
   {
    "duration": 79,
    "start_time": "2021-12-22T17:48:17.513Z"
   },
   {
    "duration": 11,
    "start_time": "2021-12-22T17:48:17.595Z"
   },
   {
    "duration": 86,
    "start_time": "2021-12-22T17:48:17.611Z"
   },
   {
    "duration": 5,
    "start_time": "2021-12-22T17:48:17.699Z"
   },
   {
    "duration": 4,
    "start_time": "2021-12-22T17:48:17.706Z"
   },
   {
    "duration": 7,
    "start_time": "2021-12-22T17:48:17.712Z"
   },
   {
    "duration": 359,
    "start_time": "2021-12-22T17:48:17.721Z"
   },
   {
    "duration": 14,
    "start_time": "2021-12-22T17:48:18.082Z"
   },
   {
    "duration": 13,
    "start_time": "2021-12-22T17:48:18.098Z"
   },
   {
    "duration": 30,
    "start_time": "2021-12-22T17:48:18.113Z"
   },
   {
    "duration": 35,
    "start_time": "2021-12-22T17:48:18.145Z"
   },
   {
    "duration": 202,
    "start_time": "2021-12-22T17:48:18.182Z"
   },
   {
    "duration": 8,
    "start_time": "2021-12-22T17:48:18.386Z"
   },
   {
    "duration": 28,
    "start_time": "2021-12-22T17:48:18.396Z"
   },
   {
    "duration": 12,
    "start_time": "2021-12-22T17:48:18.425Z"
   },
   {
    "duration": 201,
    "start_time": "2021-12-22T17:48:18.438Z"
   },
   {
    "duration": 6,
    "start_time": "2021-12-22T17:48:18.640Z"
   },
   {
    "duration": 4,
    "start_time": "2021-12-22T17:48:18.648Z"
   },
   {
    "duration": 8,
    "start_time": "2021-12-22T17:48:18.654Z"
   },
   {
    "duration": 29,
    "start_time": "2021-12-22T17:48:18.664Z"
   },
   {
    "duration": 9,
    "start_time": "2021-12-22T17:48:18.695Z"
   },
   {
    "duration": 176,
    "start_time": "2021-12-22T17:48:18.705Z"
   },
   {
    "duration": 11,
    "start_time": "2021-12-22T17:48:18.883Z"
   },
   {
    "duration": 10,
    "start_time": "2021-12-22T17:48:18.896Z"
   },
   {
    "duration": 4,
    "start_time": "2021-12-22T17:48:18.908Z"
   },
   {
    "duration": 6,
    "start_time": "2021-12-22T17:48:18.914Z"
   },
   {
    "duration": 5,
    "start_time": "2021-12-22T17:48:18.921Z"
   },
   {
    "duration": 229,
    "start_time": "2021-12-22T17:48:18.927Z"
   },
   {
    "duration": 40133,
    "start_time": "2021-12-22T17:48:19.158Z"
   },
   {
    "duration": 5,
    "start_time": "2021-12-22T17:48:59.293Z"
   },
   {
    "duration": 6,
    "start_time": "2021-12-22T17:48:59.300Z"
   },
   {
    "duration": 8,
    "start_time": "2021-12-22T17:48:59.308Z"
   },
   {
    "duration": 5,
    "start_time": "2021-12-22T17:48:59.317Z"
   },
   {
    "duration": 252,
    "start_time": "2021-12-22T17:48:59.324Z"
   },
   {
    "duration": 2237,
    "start_time": "2021-12-22T17:48:59.578Z"
   },
   {
    "duration": 6,
    "start_time": "2021-12-22T17:49:01.817Z"
   },
   {
    "duration": 11,
    "start_time": "2021-12-22T17:49:01.824Z"
   },
   {
    "duration": 74,
    "start_time": "2021-12-22T17:49:01.837Z"
   },
   {
    "duration": 5,
    "start_time": "2021-12-22T17:49:01.913Z"
   },
   {
    "duration": 239,
    "start_time": "2021-12-22T17:49:01.920Z"
   },
   {
    "duration": 1136,
    "start_time": "2021-12-22T17:54:01.972Z"
   },
   {
    "duration": 4,
    "start_time": "2021-12-22T17:54:03.110Z"
   },
   {
    "duration": 47,
    "start_time": "2021-12-22T17:54:03.116Z"
   },
   {
    "duration": 8,
    "start_time": "2021-12-22T17:54:03.165Z"
   },
   {
    "duration": 29,
    "start_time": "2021-12-22T17:54:03.174Z"
   },
   {
    "duration": 7,
    "start_time": "2021-12-22T17:54:03.205Z"
   },
   {
    "duration": 22,
    "start_time": "2021-12-22T17:54:03.213Z"
   },
   {
    "duration": 7,
    "start_time": "2021-12-22T17:54:03.238Z"
   },
   {
    "duration": 4,
    "start_time": "2021-12-22T17:54:03.246Z"
   },
   {
    "duration": 40,
    "start_time": "2021-12-22T17:54:03.252Z"
   },
   {
    "duration": 3,
    "start_time": "2021-12-22T17:54:03.294Z"
   },
   {
    "duration": 15,
    "start_time": "2021-12-22T17:54:03.298Z"
   },
   {
    "duration": 12,
    "start_time": "2021-12-22T17:54:03.315Z"
   },
   {
    "duration": 5,
    "start_time": "2021-12-22T17:54:03.328Z"
   },
   {
    "duration": 12,
    "start_time": "2021-12-22T17:54:03.334Z"
   },
   {
    "duration": 7,
    "start_time": "2021-12-22T17:54:03.347Z"
   },
   {
    "duration": 101,
    "start_time": "2021-12-22T17:54:03.356Z"
   },
   {
    "duration": 6,
    "start_time": "2021-12-22T17:54:03.459Z"
   },
   {
    "duration": 5,
    "start_time": "2021-12-22T17:54:03.467Z"
   },
   {
    "duration": 18,
    "start_time": "2021-12-22T17:54:03.474Z"
   },
   {
    "duration": 5,
    "start_time": "2021-12-22T17:54:03.494Z"
   },
   {
    "duration": 5,
    "start_time": "2021-12-22T17:54:03.500Z"
   },
   {
    "duration": 210,
    "start_time": "2021-12-22T17:54:03.509Z"
   },
   {
    "duration": 6,
    "start_time": "2021-12-22T17:54:03.721Z"
   },
   {
    "duration": 64,
    "start_time": "2021-12-22T17:54:03.728Z"
   },
   {
    "duration": 98,
    "start_time": "2021-12-22T17:54:03.794Z"
   },
   {
    "duration": 14,
    "start_time": "2021-12-22T17:54:03.894Z"
   },
   {
    "duration": 84,
    "start_time": "2021-12-22T17:54:03.909Z"
   },
   {
    "duration": 6,
    "start_time": "2021-12-22T17:54:03.994Z"
   },
   {
    "duration": 21,
    "start_time": "2021-12-22T17:54:04.001Z"
   },
   {
    "duration": 338,
    "start_time": "2021-12-22T17:54:04.024Z"
   },
   {
    "duration": 7,
    "start_time": "2021-12-22T17:54:04.364Z"
   },
   {
    "duration": 22,
    "start_time": "2021-12-22T17:54:04.372Z"
   },
   {
    "duration": 12,
    "start_time": "2021-12-22T17:54:04.395Z"
   },
   {
    "duration": 32,
    "start_time": "2021-12-22T17:54:04.408Z"
   },
   {
    "duration": 178,
    "start_time": "2021-12-22T17:54:04.441Z"
   },
   {
    "duration": 7,
    "start_time": "2021-12-22T17:54:04.620Z"
   },
   {
    "duration": 28,
    "start_time": "2021-12-22T17:54:04.629Z"
   },
   {
    "duration": 16,
    "start_time": "2021-12-22T17:54:04.659Z"
   },
   {
    "duration": 202,
    "start_time": "2021-12-22T17:54:04.677Z"
   },
   {
    "duration": 14,
    "start_time": "2021-12-22T17:54:04.880Z"
   },
   {
    "duration": 5,
    "start_time": "2021-12-22T17:54:04.896Z"
   },
   {
    "duration": 7,
    "start_time": "2021-12-22T17:54:04.902Z"
   },
   {
    "duration": 9,
    "start_time": "2021-12-22T17:54:04.911Z"
   },
   {
    "duration": 9,
    "start_time": "2021-12-22T17:54:04.921Z"
   },
   {
    "duration": 194,
    "start_time": "2021-12-22T17:54:04.932Z"
   },
   {
    "duration": 6,
    "start_time": "2021-12-22T17:54:05.128Z"
   },
   {
    "duration": 11,
    "start_time": "2021-12-22T17:54:05.135Z"
   },
   {
    "duration": 6,
    "start_time": "2021-12-22T17:54:05.147Z"
   },
   {
    "duration": 5,
    "start_time": "2021-12-22T17:54:05.154Z"
   },
   {
    "duration": 31,
    "start_time": "2021-12-22T17:54:05.161Z"
   },
   {
    "duration": 201,
    "start_time": "2021-12-22T17:54:05.194Z"
   },
   {
    "duration": 39557,
    "start_time": "2021-12-22T17:54:05.397Z"
   },
   {
    "duration": 5,
    "start_time": "2021-12-22T17:54:44.956Z"
   },
   {
    "duration": 6,
    "start_time": "2021-12-22T17:54:44.963Z"
   },
   {
    "duration": 24,
    "start_time": "2021-12-22T17:54:44.971Z"
   },
   {
    "duration": 6,
    "start_time": "2021-12-22T17:54:44.996Z"
   },
   {
    "duration": 198,
    "start_time": "2021-12-22T17:54:45.004Z"
   },
   {
    "duration": 2105,
    "start_time": "2021-12-22T17:54:45.204Z"
   },
   {
    "duration": 5,
    "start_time": "2021-12-22T17:54:47.311Z"
   },
   {
    "duration": 10,
    "start_time": "2021-12-22T17:54:47.318Z"
   },
   {
    "duration": 74,
    "start_time": "2021-12-22T17:54:47.330Z"
   },
   {
    "duration": 8,
    "start_time": "2021-12-22T17:54:47.405Z"
   },
   {
    "duration": 240,
    "start_time": "2021-12-22T17:54:47.415Z"
   }
  ],
  "kernelspec": {
   "display_name": "Python 3 (ipykernel)",
   "language": "python",
   "name": "python3"
  },
  "language_info": {
   "codemirror_mode": {
    "name": "ipython",
    "version": 3
   },
   "file_extension": ".py",
   "mimetype": "text/x-python",
   "name": "python",
   "nbconvert_exporter": "python",
   "pygments_lexer": "ipython3",
   "version": "3.10.4"
  },
  "toc": {
   "base_numbering": 1,
   "nav_menu": {},
   "number_sections": true,
   "sideBar": true,
   "skip_h1_title": true,
   "title_cell": "Содержание",
   "title_sidebar": "Contents",
   "toc_cell": true,
   "toc_position": {
    "height": "calc(100% - 180px)",
    "left": "10px",
    "top": "150px",
    "width": "366.391px"
   },
   "toc_section_display": true,
   "toc_window_display": false
  }
 },
 "nbformat": 4,
 "nbformat_minor": 2
}
