{
 "cells": [
  {
   "cell_type": "markdown",
   "metadata": {},
   "source": [
    "# Selection of the optimal location of the drilling for the oil company"
   ]
  },
  {
   "cell_type": "markdown",
   "metadata": {},
   "source": [
    "# Content\n",
    "\n",
    " 1. [Project Description](#section0)\n",
    " 2. [Data import and preparation](#section1)\n",
    " 3. [Models training and testing](#section2)\n",
    " 4. [Preparation to revenue calculation](#section3)\n",
    " 5. [Revenue and risks calculation](#section4)\n",
    " 6. [General Conclusion](#section5)\n"
   ]
  },
  {
   "cell_type": "markdown",
   "metadata": {},
   "source": [
    "<a name=\"section0\"></a>\n",
    "# Project Description"
   ]
  },
  {
   "cell_type": "markdown",
   "metadata": {},
   "source": [
    "Project 8  - Selection of the optimal location of the drilling for the oil company\n",
    "\n",
    "Oil company \"GlavGovNeft\" would like to drill new hole for oil production. \n",
    "\n",
    "The provided data has information on three regions with 10 000 potential oil boreholes each, with information on quality and quantity of oil.  \n",
    "\n",
    "Based on the provided information from company it's required to analyze the data and train the model for the prediction of estimated volume of oil in new boreholes and recommend the location of the hole to the oil company where company will get the higher profit. Conduct the analyzis of potential profit ans risks using *Bootstrap.*\n",
    "\n",
    "To recommend the region it's required to complete the following steps:\n",
    "- Every region to be studied for potential boreholes, and features of it to be defined;\n",
    "- The model to be built and quantity of oil products evaluated;\n",
    "- The bore holes with highest quantity to be selected. Quantity depends on the investment budget and cost of construction of one borehole.\n",
    "- Reveun of the region is equal to sum of revenue of selected boreholes."
   ]
  },
  {
   "cell_type": "markdown",
   "metadata": {},
   "source": [
    "<a name=\"section1\"></a>\n",
    "# Data import and preparation"
   ]
  },
  {
   "cell_type": "code",
   "execution_count": 1,
   "metadata": {},
   "outputs": [],
   "source": [
    "# libraies import\n",
    "import pandas as pd\n",
    "import numpy as np\n",
    "from sklearn.linear_model import LinearRegression\n",
    "from sklearn.model_selection import train_test_split\n",
    "from sklearn.metrics import mean_squared_error\n",
    "import math"
   ]
  },
  {
   "cell_type": "code",
   "execution_count": 2,
   "metadata": {},
   "outputs": [],
   "source": [
    "# data loading\n",
    "try:\n",
    "    df_1 = pd.read_csv('geo_data_0.csv')\n",
    "    df_2 = pd.read_csv('geo_data_1.csv')\n",
    "    df_3 = pd.read_csv('geo_data_2.csv')\n",
    "except:\n",
    "    df_1 = pd.read_csv('/datasets/geo_data_0.csv')\n",
    "    df_1 = pd.read_csv('/datasets/geo_data_1.csv')\n",
    "    df_1 = pd.read_csv('/datasets/geo_data_2.csv')\n"
   ]
  },
  {
   "cell_type": "markdown",
   "metadata": {},
   "source": [
    "data overview"
   ]
  },
  {
   "cell_type": "code",
   "execution_count": 3,
   "metadata": {},
   "outputs": [
    {
     "name": "stdout",
     "output_type": "stream",
     "text": [
      "<class 'pandas.core.frame.DataFrame'>\n",
      "RangeIndex: 100000 entries, 0 to 99999\n",
      "Data columns (total 5 columns):\n",
      " #   Column   Non-Null Count   Dtype  \n",
      "---  ------   --------------   -----  \n",
      " 0   id       100000 non-null  object \n",
      " 1   f0       100000 non-null  float64\n",
      " 2   f1       100000 non-null  float64\n",
      " 3   f2       100000 non-null  float64\n",
      " 4   product  100000 non-null  float64\n",
      "dtypes: float64(4), object(1)\n",
      "memory usage: 3.8+ MB\n"
     ]
    }
   ],
   "source": [
    "df_1.info()"
   ]
  },
  {
   "cell_type": "code",
   "execution_count": 4,
   "metadata": {
    "scrolled": true
   },
   "outputs": [
    {
     "data": {
      "text/html": [
       "<div>\n",
       "<style scoped>\n",
       "    .dataframe tbody tr th:only-of-type {\n",
       "        vertical-align: middle;\n",
       "    }\n",
       "\n",
       "    .dataframe tbody tr th {\n",
       "        vertical-align: top;\n",
       "    }\n",
       "\n",
       "    .dataframe thead th {\n",
       "        text-align: right;\n",
       "    }\n",
       "</style>\n",
       "<table border=\"1\" class=\"dataframe\">\n",
       "  <thead>\n",
       "    <tr style=\"text-align: right;\">\n",
       "      <th></th>\n",
       "      <th>id</th>\n",
       "      <th>f0</th>\n",
       "      <th>f1</th>\n",
       "      <th>f2</th>\n",
       "      <th>product</th>\n",
       "    </tr>\n",
       "  </thead>\n",
       "  <tbody>\n",
       "    <tr>\n",
       "      <th>0</th>\n",
       "      <td>txEyH</td>\n",
       "      <td>0.705745</td>\n",
       "      <td>-0.497823</td>\n",
       "      <td>1.221170</td>\n",
       "      <td>105.280062</td>\n",
       "    </tr>\n",
       "    <tr>\n",
       "      <th>1</th>\n",
       "      <td>2acmU</td>\n",
       "      <td>1.334711</td>\n",
       "      <td>-0.340164</td>\n",
       "      <td>4.365080</td>\n",
       "      <td>73.037750</td>\n",
       "    </tr>\n",
       "    <tr>\n",
       "      <th>2</th>\n",
       "      <td>409Wp</td>\n",
       "      <td>1.022732</td>\n",
       "      <td>0.151990</td>\n",
       "      <td>1.419926</td>\n",
       "      <td>85.265647</td>\n",
       "    </tr>\n",
       "    <tr>\n",
       "      <th>3</th>\n",
       "      <td>iJLyR</td>\n",
       "      <td>-0.032172</td>\n",
       "      <td>0.139033</td>\n",
       "      <td>2.978566</td>\n",
       "      <td>168.620776</td>\n",
       "    </tr>\n",
       "    <tr>\n",
       "      <th>4</th>\n",
       "      <td>Xdl7t</td>\n",
       "      <td>1.988431</td>\n",
       "      <td>0.155413</td>\n",
       "      <td>4.751769</td>\n",
       "      <td>154.036647</td>\n",
       "    </tr>\n",
       "  </tbody>\n",
       "</table>\n",
       "</div>"
      ],
      "text/plain": [
       "      id        f0        f1        f2     product\n",
       "0  txEyH  0.705745 -0.497823  1.221170  105.280062\n",
       "1  2acmU  1.334711 -0.340164  4.365080   73.037750\n",
       "2  409Wp  1.022732  0.151990  1.419926   85.265647\n",
       "3  iJLyR -0.032172  0.139033  2.978566  168.620776\n",
       "4  Xdl7t  1.988431  0.155413  4.751769  154.036647"
      ]
     },
     "execution_count": 4,
     "metadata": {},
     "output_type": "execute_result"
    }
   ],
   "source": [
    "df_1.head()"
   ]
  },
  {
   "cell_type": "code",
   "execution_count": 5,
   "metadata": {},
   "outputs": [],
   "source": [
    "# selection of target and features\n",
    "features_1, target_1 = df_1[['f0','f1','f2']],df_1['product']"
   ]
  },
  {
   "cell_type": "code",
   "execution_count": 6,
   "metadata": {},
   "outputs": [
    {
     "name": "stdout",
     "output_type": "stream",
     "text": [
      "<class 'pandas.core.frame.DataFrame'>\n",
      "RangeIndex: 100000 entries, 0 to 99999\n",
      "Data columns (total 5 columns):\n",
      " #   Column   Non-Null Count   Dtype  \n",
      "---  ------   --------------   -----  \n",
      " 0   id       100000 non-null  object \n",
      " 1   f0       100000 non-null  float64\n",
      " 2   f1       100000 non-null  float64\n",
      " 3   f2       100000 non-null  float64\n",
      " 4   product  100000 non-null  float64\n",
      "dtypes: float64(4), object(1)\n",
      "memory usage: 3.8+ MB\n"
     ]
    }
   ],
   "source": [
    "df_2.info()"
   ]
  },
  {
   "cell_type": "code",
   "execution_count": 7,
   "metadata": {
    "scrolled": true
   },
   "outputs": [
    {
     "data": {
      "text/html": [
       "<div>\n",
       "<style scoped>\n",
       "    .dataframe tbody tr th:only-of-type {\n",
       "        vertical-align: middle;\n",
       "    }\n",
       "\n",
       "    .dataframe tbody tr th {\n",
       "        vertical-align: top;\n",
       "    }\n",
       "\n",
       "    .dataframe thead th {\n",
       "        text-align: right;\n",
       "    }\n",
       "</style>\n",
       "<table border=\"1\" class=\"dataframe\">\n",
       "  <thead>\n",
       "    <tr style=\"text-align: right;\">\n",
       "      <th></th>\n",
       "      <th>id</th>\n",
       "      <th>f0</th>\n",
       "      <th>f1</th>\n",
       "      <th>f2</th>\n",
       "      <th>product</th>\n",
       "    </tr>\n",
       "  </thead>\n",
       "  <tbody>\n",
       "    <tr>\n",
       "      <th>0</th>\n",
       "      <td>kBEdx</td>\n",
       "      <td>-15.001348</td>\n",
       "      <td>-8.276000</td>\n",
       "      <td>-0.005876</td>\n",
       "      <td>3.179103</td>\n",
       "    </tr>\n",
       "    <tr>\n",
       "      <th>1</th>\n",
       "      <td>62mP7</td>\n",
       "      <td>14.272088</td>\n",
       "      <td>-3.475083</td>\n",
       "      <td>0.999183</td>\n",
       "      <td>26.953261</td>\n",
       "    </tr>\n",
       "    <tr>\n",
       "      <th>2</th>\n",
       "      <td>vyE1P</td>\n",
       "      <td>6.263187</td>\n",
       "      <td>-5.948386</td>\n",
       "      <td>5.001160</td>\n",
       "      <td>134.766305</td>\n",
       "    </tr>\n",
       "    <tr>\n",
       "      <th>3</th>\n",
       "      <td>KcrkZ</td>\n",
       "      <td>-13.081196</td>\n",
       "      <td>-11.506057</td>\n",
       "      <td>4.999415</td>\n",
       "      <td>137.945408</td>\n",
       "    </tr>\n",
       "    <tr>\n",
       "      <th>4</th>\n",
       "      <td>AHL4O</td>\n",
       "      <td>12.702195</td>\n",
       "      <td>-8.147433</td>\n",
       "      <td>5.004363</td>\n",
       "      <td>134.766305</td>\n",
       "    </tr>\n",
       "  </tbody>\n",
       "</table>\n",
       "</div>"
      ],
      "text/plain": [
       "      id         f0         f1        f2     product\n",
       "0  kBEdx -15.001348  -8.276000 -0.005876    3.179103\n",
       "1  62mP7  14.272088  -3.475083  0.999183   26.953261\n",
       "2  vyE1P   6.263187  -5.948386  5.001160  134.766305\n",
       "3  KcrkZ -13.081196 -11.506057  4.999415  137.945408\n",
       "4  AHL4O  12.702195  -8.147433  5.004363  134.766305"
      ]
     },
     "execution_count": 7,
     "metadata": {},
     "output_type": "execute_result"
    }
   ],
   "source": [
    "df_2.head()"
   ]
  },
  {
   "cell_type": "code",
   "execution_count": 8,
   "metadata": {},
   "outputs": [],
   "source": [
    "# selection of target and features\n",
    "features_2, target_2 = df_2[['f0','f1','f2']],df_2['product']"
   ]
  },
  {
   "cell_type": "code",
   "execution_count": 9,
   "metadata": {
    "scrolled": true
   },
   "outputs": [
    {
     "name": "stdout",
     "output_type": "stream",
     "text": [
      "<class 'pandas.core.frame.DataFrame'>\n",
      "RangeIndex: 100000 entries, 0 to 99999\n",
      "Data columns (total 5 columns):\n",
      " #   Column   Non-Null Count   Dtype  \n",
      "---  ------   --------------   -----  \n",
      " 0   id       100000 non-null  object \n",
      " 1   f0       100000 non-null  float64\n",
      " 2   f1       100000 non-null  float64\n",
      " 3   f2       100000 non-null  float64\n",
      " 4   product  100000 non-null  float64\n",
      "dtypes: float64(4), object(1)\n",
      "memory usage: 3.8+ MB\n"
     ]
    }
   ],
   "source": [
    "df_3.info()"
   ]
  },
  {
   "cell_type": "code",
   "execution_count": 10,
   "metadata": {
    "scrolled": true
   },
   "outputs": [
    {
     "data": {
      "text/html": [
       "<div>\n",
       "<style scoped>\n",
       "    .dataframe tbody tr th:only-of-type {\n",
       "        vertical-align: middle;\n",
       "    }\n",
       "\n",
       "    .dataframe tbody tr th {\n",
       "        vertical-align: top;\n",
       "    }\n",
       "\n",
       "    .dataframe thead th {\n",
       "        text-align: right;\n",
       "    }\n",
       "</style>\n",
       "<table border=\"1\" class=\"dataframe\">\n",
       "  <thead>\n",
       "    <tr style=\"text-align: right;\">\n",
       "      <th></th>\n",
       "      <th>id</th>\n",
       "      <th>f0</th>\n",
       "      <th>f1</th>\n",
       "      <th>f2</th>\n",
       "      <th>product</th>\n",
       "    </tr>\n",
       "  </thead>\n",
       "  <tbody>\n",
       "    <tr>\n",
       "      <th>0</th>\n",
       "      <td>fwXo0</td>\n",
       "      <td>-1.146987</td>\n",
       "      <td>0.963328</td>\n",
       "      <td>-0.828965</td>\n",
       "      <td>27.758673</td>\n",
       "    </tr>\n",
       "    <tr>\n",
       "      <th>1</th>\n",
       "      <td>WJtFt</td>\n",
       "      <td>0.262778</td>\n",
       "      <td>0.269839</td>\n",
       "      <td>-2.530187</td>\n",
       "      <td>56.069697</td>\n",
       "    </tr>\n",
       "    <tr>\n",
       "      <th>2</th>\n",
       "      <td>ovLUW</td>\n",
       "      <td>0.194587</td>\n",
       "      <td>0.289035</td>\n",
       "      <td>-5.586433</td>\n",
       "      <td>62.871910</td>\n",
       "    </tr>\n",
       "    <tr>\n",
       "      <th>3</th>\n",
       "      <td>q6cA6</td>\n",
       "      <td>2.236060</td>\n",
       "      <td>-0.553760</td>\n",
       "      <td>0.930038</td>\n",
       "      <td>114.572842</td>\n",
       "    </tr>\n",
       "    <tr>\n",
       "      <th>4</th>\n",
       "      <td>WPMUX</td>\n",
       "      <td>-0.515993</td>\n",
       "      <td>1.716266</td>\n",
       "      <td>5.899011</td>\n",
       "      <td>149.600746</td>\n",
       "    </tr>\n",
       "  </tbody>\n",
       "</table>\n",
       "</div>"
      ],
      "text/plain": [
       "      id        f0        f1        f2     product\n",
       "0  fwXo0 -1.146987  0.963328 -0.828965   27.758673\n",
       "1  WJtFt  0.262778  0.269839 -2.530187   56.069697\n",
       "2  ovLUW  0.194587  0.289035 -5.586433   62.871910\n",
       "3  q6cA6  2.236060 -0.553760  0.930038  114.572842\n",
       "4  WPMUX -0.515993  1.716266  5.899011  149.600746"
      ]
     },
     "execution_count": 10,
     "metadata": {},
     "output_type": "execute_result"
    }
   ],
   "source": [
    "df_3.head()"
   ]
  },
  {
   "cell_type": "code",
   "execution_count": 11,
   "metadata": {},
   "outputs": [],
   "source": [
    "# selection of target and features\n",
    "features_3, target_3 = df_3[['f0','f1','f2']],df_3['product']"
   ]
  },
  {
   "cell_type": "markdown",
   "metadata": {},
   "source": [
    "**Conclusions**\n",
    "\n",
    "1) Three datasets were imported;\n",
    "\n",
    "2) all datasets has 10000 rows 5 columns:\n",
    "- id of borehole;\n",
    "- quantity of product in it;\n",
    "- f0,f1, f2 - features of boreholes"
   ]
  },
  {
   "cell_type": "markdown",
   "metadata": {},
   "source": [
    "<a name=\"section2\"></a>\n",
    "# Models training and testing"
   ]
  },
  {
   "cell_type": "code",
   "execution_count": 12,
   "metadata": {},
   "outputs": [],
   "source": [
    "# function declaration for prediction of remaining acerage quantity of product in area\n",
    "def split (features,target):\n",
    "    model = LinearRegression()\n",
    "    features_train,features_valid,target_train,target_valid = train_test_split(\n",
    "        features,target,test_size=0.25,random_state = 12345)\n",
    "    model.fit(features_train,target_train)\n",
    "    model.predict(features_valid)\n",
    "    prediction = model.predict(features_valid)\n",
    "    rmse = math.sqrt(mean_squared_error(target_valid,prediction))\n",
    "    return(prediction, target_valid,prediction.mean(),rmse)"
   ]
  },
  {
   "cell_type": "code",
   "execution_count": 13,
   "metadata": {},
   "outputs": [],
   "source": [
    "prediction_1, target_valid_1,prediction_mean_1,rmse_1 = split(features_1,target_1)"
   ]
  },
  {
   "cell_type": "code",
   "execution_count": 14,
   "metadata": {},
   "outputs": [
    {
     "name": "stdout",
     "output_type": "stream",
     "text": [
      "92.59256778438035 \n",
      " 37.5794217150813\n"
     ]
    }
   ],
   "source": [
    "print(prediction_mean_1,'\\n',rmse_1)"
   ]
  },
  {
   "cell_type": "markdown",
   "metadata": {},
   "source": [
    "**Conclusion on 1 region:**\n",
    "\n",
    "1) Average remaining quantity of product is 92.6\n",
    "\n",
    "2) rmse - 37,5\n"
   ]
  },
  {
   "cell_type": "code",
   "execution_count": 15,
   "metadata": {},
   "outputs": [],
   "source": [
    "prediction_2, target_valid_2,prediction_mean_2,rmse_2 = split(features_2,target_2)"
   ]
  },
  {
   "cell_type": "code",
   "execution_count": 16,
   "metadata": {
    "scrolled": true
   },
   "outputs": [
    {
     "name": "stdout",
     "output_type": "stream",
     "text": [
      "68.72854689544602 \n",
      " 0.8930992867756165\n"
     ]
    }
   ],
   "source": [
    "print(prediction_mean_2,'\\n',rmse_2)"
   ]
  },
  {
   "cell_type": "markdown",
   "metadata": {},
   "source": [
    "**Conclusion on 2 region:**\n",
    "\n",
    "1) Average remaining quantity of product is 68.7\n",
    "\n",
    "2) rmse - 0.89\n"
   ]
  },
  {
   "cell_type": "code",
   "execution_count": 17,
   "metadata": {},
   "outputs": [],
   "source": [
    "prediction_3, target_valid_3,prediction_mean_3,rmse_3 = split(features_3,target_3)"
   ]
  },
  {
   "cell_type": "code",
   "execution_count": 18,
   "metadata": {},
   "outputs": [
    {
     "name": "stdout",
     "output_type": "stream",
     "text": [
      "94.96504596800489 \n",
      " 40.02970873393434\n"
     ]
    }
   ],
   "source": [
    "print(prediction_mean_3,'\\n',rmse_3)"
   ]
  },
  {
   "cell_type": "markdown",
   "metadata": {},
   "source": [
    "**Conclusion on 1 region:**\n",
    "\n",
    "1) Average remaining quantity of product is 94.9\n",
    "\n",
    "2) rmse - 40"
   ]
  },
  {
   "cell_type": "markdown",
   "metadata": {},
   "source": [
    "<a name=\"section3\"></a>\n",
    "# Preparation to revenue calculation"
   ]
  },
  {
   "cell_type": "code",
   "execution_count": 19,
   "metadata": {},
   "outputs": [],
   "source": [
    "PRICE_PER_UNIT = 450000"
   ]
  },
  {
   "cell_type": "code",
   "execution_count": 20,
   "metadata": {},
   "outputs": [],
   "source": [
    "TOTAL_BUDGET = 10000000000"
   ]
  },
  {
   "cell_type": "code",
   "execution_count": 21,
   "metadata": {},
   "outputs": [],
   "source": [
    "required_qty_of_units = round(TOTAL_BUDGET / PRICE_PER_UNIT,2)"
   ]
  },
  {
   "cell_type": "code",
   "execution_count": 22,
   "metadata": {},
   "outputs": [
    {
     "data": {
      "text/plain": [
       "22222.22"
      ]
     },
     "execution_count": 22,
     "metadata": {},
     "output_type": "execute_result"
    }
   ],
   "source": [
    "required_qty_of_units"
   ]
  },
  {
   "cell_type": "markdown",
   "metadata": {},
   "source": [
    "**Revenue calculation conclusions:**\n",
    "\n",
    "- the required minimal quantity of products for achieving of breakeven point is 22222,22 k barrels"
   ]
  },
  {
   "cell_type": "markdown",
   "metadata": {},
   "source": [
    "<a name=\"section4\"></a>\n",
    "# Revenue and risks calculation"
   ]
  },
  {
   "cell_type": "code",
   "execution_count": 23,
   "metadata": {},
   "outputs": [],
   "source": [
    "# function for calculaarion of maximum qty of product\n",
    "def max_qty (prediction):\n",
    "    prediction = pd.Series(prediction)\n",
    "    prediction = prediction.sort_values(ascending=False)\n",
    "    best = prediction[:199]\n",
    "    return(best.sum())"
   ]
  },
  {
   "cell_type": "code",
   "execution_count": 24,
   "metadata": {},
   "outputs": [],
   "source": [
    "region_list = [target_1,target_2,target_3]"
   ]
  },
  {
   "cell_type": "code",
   "execution_count": 25,
   "metadata": {},
   "outputs": [],
   "source": [
    "qty_region = []\n",
    "for i in range(3):\n",
    "    qty_region.append(round(max_qty(region_list[i]),2))"
   ]
  },
  {
   "cell_type": "code",
   "execution_count": 26,
   "metadata": {
    "scrolled": true
   },
   "outputs": [
    {
     "data": {
      "text/plain": [
       "[36782.39, 27451.14, 37721.27]"
      ]
     },
     "execution_count": 26,
     "metadata": {},
     "output_type": "execute_result"
    }
   ],
   "source": [
    "qty_region"
   ]
  },
  {
   "cell_type": "markdown",
   "metadata": {},
   "source": [
    "revenue calculation"
   ]
  },
  {
   "cell_type": "code",
   "execution_count": 27,
   "metadata": {},
   "outputs": [],
   "source": [
    "qty_region=pd.Series(qty_region)\n",
    "income_region = round(qty_region*PRICE_PER_UNIT,2)"
   ]
  },
  {
   "cell_type": "code",
   "execution_count": 28,
   "metadata": {},
   "outputs": [
    {
     "name": "stdout",
     "output_type": "stream",
     "text": [
      "0    1.655208e+10\n",
      "1    1.235301e+10\n",
      "2    1.697457e+10\n",
      "dtype: float64:\n"
     ]
    }
   ],
   "source": [
    "print('{}:'.format(round(income_region,2)))"
   ]
  },
  {
   "cell_type": "markdown",
   "metadata": {},
   "source": [
    "**Conclusions**\n",
    "\n",
    "1) Predictied  revenue for the 1 region is 16.55 billion rubles.\n",
    "\n",
    "2) Predictied  revenue for the 2 region is 12.23 billion rubles.\n",
    "\n",
    "2) Predictied  revenue for the 3 region is 16.97 billion rubles."
   ]
  },
  {
   "cell_type": "markdown",
   "metadata": {},
   "source": [
    "**Risks calculation**"
   ]
  },
  {
   "cell_type": "code",
   "execution_count": 29,
   "metadata": {},
   "outputs": [],
   "source": [
    "state = np.random.RandomState(12345)"
   ]
  },
  {
   "cell_type": "code",
   "execution_count": 30,
   "metadata": {},
   "outputs": [],
   "source": [
    "# function for calculation risk, average value and lower and upper quantilies of revenue\n",
    "def bootstrap (data):\n",
    "    values = []\n",
    "    for i in range(1000):\n",
    "        data = pd.Series(data)\n",
    "        subsample = data.sample(n=500, replace=True, random_state=state)\n",
    "        quantity = pd.Series(subsample)\n",
    "        max_quantity = max_qty(quantity)\n",
    "        income = round(max_quantity*PRICE_PER_UNIT,2)\n",
    "        values.append(income)\n",
    "    values = pd.Series(values)\n",
    "    average = round(values.mean(),2)\n",
    "    upper = round(values.quantile(0.975),2)\n",
    "    lower = round(values.quantile(0.025),2)\n",
    "    risk = (values.where(values<TOTAL_BUDGET).count())/values.count()\n",
    "    return(lower,upper,average,risk)"
   ]
  },
  {
   "cell_type": "markdown",
   "metadata": {},
   "source": [
    "**Calculation of required indecies for region 1**"
   ]
  },
  {
   "cell_type": "code",
   "execution_count": 31,
   "metadata": {},
   "outputs": [],
   "source": [
    "lower_1,upper_1,average_1,risk_1 = bootstrap(prediction_1)"
   ]
  },
  {
   "cell_type": "code",
   "execution_count": 32,
   "metadata": {},
   "outputs": [
    {
     "name": "stdout",
     "output_type": "stream",
     "text": [
      "\n",
      " average: 10313636100.97 \n",
      " lower of 95% quantile: 10096323298.45 \n",
      " upper of 95% quantile: 10553895508.1 \n",
      " risk: 0.1:%\n"
     ]
    }
   ],
   "source": [
    "print('\\n','average:',average_1,'\\n','lower of 95% quantile:',\n",
    "      lower_1,'\\n','upper of 95% quantile:',upper_1,'\\n', 'risk:','{}:%'.format(round(risk_1*100,2)))"
   ]
  },
  {
   "cell_type": "code",
   "execution_count": 33,
   "metadata": {},
   "outputs": [
    {
     "name": "stdout",
     "output_type": "stream",
     "text": [
      "3.14:%\n"
     ]
    }
   ],
   "source": [
    "profit_1 = (average_1/TOTAL_BUDGET)-1\n",
    "print('{}:%'.format(round(profit_1*100,2)))"
   ]
  },
  {
   "cell_type": "markdown",
   "metadata": {},
   "source": [
    "**Calculation of required indecies for region 2**"
   ]
  },
  {
   "cell_type": "code",
   "execution_count": 34,
   "metadata": {},
   "outputs": [],
   "source": [
    "lower_2,upper_2,average_2,risk_2 = bootstrap(prediction_2)"
   ]
  },
  {
   "cell_type": "code",
   "execution_count": 35,
   "metadata": {},
   "outputs": [
    {
     "name": "stdout",
     "output_type": "stream",
     "text": [
      "\n",
      " average: 10421880341.14 \n",
      " lower of 95% quantile: 10039403649.91 \n",
      " upper of 95% quantile: 10823999937.42 \n",
      " risk: 1.3:%\n"
     ]
    }
   ],
   "source": [
    "print('\\n','average:',average_2,'\\n','lower of 95% quantile:',\n",
    "      lower_2,'\\n','upper of 95% quantile:',upper_2,'\\n', 'risk:','{}:%'.format(round(risk_2*100,2)))"
   ]
  },
  {
   "cell_type": "code",
   "execution_count": 36,
   "metadata": {},
   "outputs": [
    {
     "name": "stdout",
     "output_type": "stream",
     "text": [
      "4.22:%\n"
     ]
    }
   ],
   "source": [
    "profit_2 = (average_2/TOTAL_BUDGET)-1\n",
    "print('{}:%'.format(round(profit_2*100,2)))"
   ]
  },
  {
   "cell_type": "markdown",
   "metadata": {},
   "source": [
    "**Calculation of required indecies for region 2**"
   ]
  },
  {
   "cell_type": "code",
   "execution_count": 37,
   "metadata": {},
   "outputs": [],
   "source": [
    "lower_3,upper_3,average_3,risk_3 = bootstrap(prediction_3)"
   ]
  },
  {
   "cell_type": "code",
   "execution_count": 38,
   "metadata": {},
   "outputs": [
    {
     "name": "stdout",
     "output_type": "stream",
     "text": [
      "\n",
      " average: 10226693504.68 \n",
      " lower of 95% quantile: 10047320893.18 \n",
      " upper of 95% quantile: 10406967032.7 \n",
      " risk: 1.0:%\n"
     ]
    }
   ],
   "source": [
    "print('\\n','average:',average_3,'\\n','lower of 95% quantile:',lower_3,\n",
    "      '\\n','upper of 95% quantile:',upper_3,'\\n', 'risk:','{}:%'.format(round(risk_3*100,2)))"
   ]
  },
  {
   "cell_type": "code",
   "execution_count": 39,
   "metadata": {
    "scrolled": true
   },
   "outputs": [
    {
     "name": "stdout",
     "output_type": "stream",
     "text": [
      "2.27:%\n"
     ]
    }
   ],
   "source": [
    "profit_3 = (average_3/TOTAL_BUDGET)-1\n",
    "print('{}:%'.format(round(profit_3*100,2)))"
   ]
  },
  {
   "cell_type": "markdown",
   "metadata": {},
   "source": [
    "**Selection of best region for investments**"
   ]
  },
  {
   "cell_type": "code",
   "execution_count": 40,
   "metadata": {},
   "outputs": [
    {
     "name": "stdout",
     "output_type": "stream",
     "text": [
      "best region: 2 best profit: 10421880341.14\n"
     ]
    }
   ],
   "source": [
    "best_region_list = []\n",
    "profit = [average_1,average_2,average_3]\n",
    "risks = [risk_1,risk_2,risk_3]\n",
    "region_number = [1,2,3]\n",
    "for i in range(len(risks)):\n",
    "    if risks[i] < 0.025:\n",
    "        best_region_list.append(region_number[i])\n",
    "\n",
    "best_profit = profit[1]\n",
    "for l in range(len(best_region_list)):\n",
    "    if profit[l] > best_profit:\n",
    "        best_region = best_region_list[l]\n",
    "        best_profit = profit[l]\n",
    "    else:\n",
    "        best_region = best_region_list[1]\n",
    "        best_profit = profit[1]\n",
    "print('best region:',best_region, 'best profit:',best_profit )"
   ]
  },
  {
   "cell_type": "markdown",
   "metadata": {},
   "source": [
    "**Conclusion**\n",
    "\n",
    "1) Region No 1\n",
    " - predicted quantity of barrels in region is 36872.39;\n",
    " - predicted revenue is 16.55 billion rubles; \n",
    " - average revenue is 10.3 billion rubles; \n",
    " - lower of 95% quantile: 10 billion rubles; \n",
    " - upper of 95% quantile: 10.5 billion rubles;  \n",
    " - risk is 0.1:%\n",
    " - profit is 3.14%\n",
    "\n",
    "2) Region No 2\n",
    " - predicted quantity of barrels in region is 27541.14;\n",
    " - Predictied revenue for the 2 region is 12.23 billion rubles;\n",
    " - average revenue is 10.4 billion rubles; \n",
    " - lower of 95% quantile: 10.03 billion rubles; \n",
    " - upper of 95% quantile: 10.8 billion rubles;  \n",
    " - risk is 1.3:%\n",
    " - profit is 4.22%\n",
    " \n",
    "3) Region No 3\n",
    " - predicted quantity of barrels in region is 37721.21;\n",
    " - Predictied revenue for the 3 region is 16.97 billion rubles;\n",
    " - average revenue is 10.2 billion rubles; \n",
    " - lower of 95% quantile: 10.04 billion rubles; \n",
    " - upper of 95% quantile: 10.4 billion rubles;  \n",
    " - risk is 1.0:%\n",
    " - profit is 2.27%"
   ]
  },
  {
   "cell_type": "markdown",
   "metadata": {},
   "source": [
    "<a name=\"section5\"></a>\n",
    "# General Conclusion"
   ]
  },
  {
   "cell_type": "markdown",
   "metadata": {},
   "source": [
    "1) data was successfully imported and prepared;\n",
    "\n",
    "2) models for every region was trained and quantity of product predicted.\n",
    "\n",
    "3) breakeven poin was calculated and is 22222,22 k barrels of oil products.\n",
    "\n",
    "4) revenue for each region is calculated and are:\n",
    "- Predictied revenue for the 1 region is 16.55 billion rubles.\n",
    "- Predictied revenue for the 2 region is 12.23 billion rubles.\n",
    "- Predictied revenue for the 3 region is 16.97 billion rubles.\n",
    "\n",
    "5) Using bootstrap function the risk and average revenue were calculated:\n",
    "- Region 1 risk is 0.1:% , average revenue is 10.3 billion rubles;\n",
    "- Region 2 risk is 1.3:% , average revenue is 10.4 billion rubles;\n",
    "- Region 3 risk is 1.0:% , average revenue is 10.2 billion rubles;"
   ]
  },
  {
   "cell_type": "markdown",
   "metadata": {},
   "source": [
    "6) **Recommendation on selection of region**\n",
    "\n",
    "- Best region for the future oil production is region No 2;\n",
    "\n",
    "- Acerage predicted revenue on this region is 10,4 billion rubles;\n",
    "\n",
    "- Level of risk in this region is less than 2,5%, and profit index is higher than in other regions."
   ]
  }
 ],
 "metadata": {
  "kernelspec": {
   "display_name": "Python 3 (ipykernel)",
   "language": "python",
   "name": "python3"
  },
  "language_info": {
   "codemirror_mode": {
    "name": "ipython",
    "version": 3
   },
   "file_extension": ".py",
   "mimetype": "text/x-python",
   "name": "python",
   "nbconvert_exporter": "python",
   "pygments_lexer": "ipython3",
   "version": "3.10.4"
  },
  "toc": {
   "base_numbering": 1,
   "nav_menu": {},
   "number_sections": true,
   "sideBar": true,
   "skip_h1_title": true,
   "title_cell": "Table of Contents",
   "title_sidebar": "Contents",
   "toc_cell": false,
   "toc_position": {},
   "toc_section_display": true,
   "toc_window_display": false
  }
 },
 "nbformat": 4,
 "nbformat_minor": 2
}
