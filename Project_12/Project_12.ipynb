{
 "cells": [
  {
   "cell_type": "markdown",
   "metadata": {},
   "source": [
    "#  Definition of the prices of the cars"
   ]
  },
  {
   "cell_type": "markdown",
   "metadata": {},
   "source": [
    "# Content\n",
    "\n",
    "1. [Project Description](#section_0)\n",
    "2. [Data preparation](#section_1)\n",
    "3. [Models training](#section_2)\n",
    "4. [Models comparison](#section_3)\n",
    "5. [General Conclusion](#section_4)"
   ]
  },
  {
   "cell_type": "markdown",
   "metadata": {},
   "source": [
    "<a name = 'section_0'></a>\n",
    "# Project Description"
   ]
  },
  {
   "attachments": {},
   "cell_type": "markdown",
   "metadata": {},
   "source": [
    "Car sales company would like to develop an app for the attraction of new clients, in which clients could get the market price of the car based on it's parameters. For that purpose it's required to train a model for the prediction of the car price based on the data provided from company. It's required to train several model, compare it by quality, training time, prediction time and select the best model."
   ]
  },
  {
   "cell_type": "markdown",
   "metadata": {},
   "source": [
    "Important parameters of the model for client is:\n",
    "\n",
    "- quality of prediction;\n",
    "- prediction time;\n",
    "- training time."
   ]
  },
  {
   "cell_type": "markdown",
   "metadata": {},
   "source": [
    "<a name = \"section_1\"> </a>\n",
    "# Data preparation"
   ]
  },
  {
   "cell_type": "code",
   "execution_count": 1,
   "metadata": {},
   "outputs": [],
   "source": [
    "import numpy as np\n",
    "import pandas as pd\n",
    "import lightgbm as lgb\n",
    "from sklearn.metrics import mean_squared_error as mse\n",
    "from sklearn.preprocessing import OrdinalEncoder\n",
    "from sklearn.model_selection import train_test_split\n",
    "from sklearn.linear_model import LinearRegression\n",
    "from sklearn.metrics import mean_squared_error\n",
    "from math import sqrt\n",
    "from sklearn.metrics import accuracy_score\n",
    "from sklearn.ensemble import RandomForestRegressor"
   ]
  },
  {
   "cell_type": "markdown",
   "metadata": {},
   "source": [
    "### Data import and overview"
   ]
  },
  {
   "cell_type": "code",
   "execution_count": 2,
   "metadata": {},
   "outputs": [],
   "source": [
    "DF_cars = pd.read_csv('autos.csv')"
   ]
  },
  {
   "cell_type": "code",
   "execution_count": 3,
   "metadata": {},
   "outputs": [
    {
     "data": {
      "text/html": [
       "<div>\n",
       "<style scoped>\n",
       "    .dataframe tbody tr th:only-of-type {\n",
       "        vertical-align: middle;\n",
       "    }\n",
       "\n",
       "    .dataframe tbody tr th {\n",
       "        vertical-align: top;\n",
       "    }\n",
       "\n",
       "    .dataframe thead th {\n",
       "        text-align: right;\n",
       "    }\n",
       "</style>\n",
       "<table border=\"1\" class=\"dataframe\">\n",
       "  <thead>\n",
       "    <tr style=\"text-align: right;\">\n",
       "      <th></th>\n",
       "      <th>DateCrawled</th>\n",
       "      <th>Price</th>\n",
       "      <th>VehicleType</th>\n",
       "      <th>RegistrationYear</th>\n",
       "      <th>Gearbox</th>\n",
       "      <th>Power</th>\n",
       "      <th>Model</th>\n",
       "      <th>Kilometer</th>\n",
       "      <th>RegistrationMonth</th>\n",
       "      <th>FuelType</th>\n",
       "      <th>Brand</th>\n",
       "      <th>NotRepaired</th>\n",
       "      <th>DateCreated</th>\n",
       "      <th>NumberOfPictures</th>\n",
       "      <th>PostalCode</th>\n",
       "      <th>LastSeen</th>\n",
       "    </tr>\n",
       "  </thead>\n",
       "  <tbody>\n",
       "    <tr>\n",
       "      <th>0</th>\n",
       "      <td>2016-03-24 11:52:17</td>\n",
       "      <td>480</td>\n",
       "      <td>NaN</td>\n",
       "      <td>1993</td>\n",
       "      <td>manual</td>\n",
       "      <td>0</td>\n",
       "      <td>golf</td>\n",
       "      <td>150000</td>\n",
       "      <td>0</td>\n",
       "      <td>petrol</td>\n",
       "      <td>volkswagen</td>\n",
       "      <td>NaN</td>\n",
       "      <td>2016-03-24 00:00:00</td>\n",
       "      <td>0</td>\n",
       "      <td>70435</td>\n",
       "      <td>2016-04-07 03:16:57</td>\n",
       "    </tr>\n",
       "    <tr>\n",
       "      <th>1</th>\n",
       "      <td>2016-03-24 10:58:45</td>\n",
       "      <td>18300</td>\n",
       "      <td>coupe</td>\n",
       "      <td>2011</td>\n",
       "      <td>manual</td>\n",
       "      <td>190</td>\n",
       "      <td>NaN</td>\n",
       "      <td>125000</td>\n",
       "      <td>5</td>\n",
       "      <td>gasoline</td>\n",
       "      <td>audi</td>\n",
       "      <td>yes</td>\n",
       "      <td>2016-03-24 00:00:00</td>\n",
       "      <td>0</td>\n",
       "      <td>66954</td>\n",
       "      <td>2016-04-07 01:46:50</td>\n",
       "    </tr>\n",
       "    <tr>\n",
       "      <th>2</th>\n",
       "      <td>2016-03-14 12:52:21</td>\n",
       "      <td>9800</td>\n",
       "      <td>suv</td>\n",
       "      <td>2004</td>\n",
       "      <td>auto</td>\n",
       "      <td>163</td>\n",
       "      <td>grand</td>\n",
       "      <td>125000</td>\n",
       "      <td>8</td>\n",
       "      <td>gasoline</td>\n",
       "      <td>jeep</td>\n",
       "      <td>NaN</td>\n",
       "      <td>2016-03-14 00:00:00</td>\n",
       "      <td>0</td>\n",
       "      <td>90480</td>\n",
       "      <td>2016-04-05 12:47:46</td>\n",
       "    </tr>\n",
       "    <tr>\n",
       "      <th>3</th>\n",
       "      <td>2016-03-17 16:54:04</td>\n",
       "      <td>1500</td>\n",
       "      <td>small</td>\n",
       "      <td>2001</td>\n",
       "      <td>manual</td>\n",
       "      <td>75</td>\n",
       "      <td>golf</td>\n",
       "      <td>150000</td>\n",
       "      <td>6</td>\n",
       "      <td>petrol</td>\n",
       "      <td>volkswagen</td>\n",
       "      <td>no</td>\n",
       "      <td>2016-03-17 00:00:00</td>\n",
       "      <td>0</td>\n",
       "      <td>91074</td>\n",
       "      <td>2016-03-17 17:40:17</td>\n",
       "    </tr>\n",
       "    <tr>\n",
       "      <th>4</th>\n",
       "      <td>2016-03-31 17:25:20</td>\n",
       "      <td>3600</td>\n",
       "      <td>small</td>\n",
       "      <td>2008</td>\n",
       "      <td>manual</td>\n",
       "      <td>69</td>\n",
       "      <td>fabia</td>\n",
       "      <td>90000</td>\n",
       "      <td>7</td>\n",
       "      <td>gasoline</td>\n",
       "      <td>skoda</td>\n",
       "      <td>no</td>\n",
       "      <td>2016-03-31 00:00:00</td>\n",
       "      <td>0</td>\n",
       "      <td>60437</td>\n",
       "      <td>2016-04-06 10:17:21</td>\n",
       "    </tr>\n",
       "  </tbody>\n",
       "</table>\n",
       "</div>"
      ],
      "text/plain": [
       "           DateCrawled  Price VehicleType  RegistrationYear Gearbox  Power  \\\n",
       "0  2016-03-24 11:52:17    480         NaN              1993  manual      0   \n",
       "1  2016-03-24 10:58:45  18300       coupe              2011  manual    190   \n",
       "2  2016-03-14 12:52:21   9800         suv              2004    auto    163   \n",
       "3  2016-03-17 16:54:04   1500       small              2001  manual     75   \n",
       "4  2016-03-31 17:25:20   3600       small              2008  manual     69   \n",
       "\n",
       "   Model  Kilometer  RegistrationMonth  FuelType       Brand NotRepaired  \\\n",
       "0   golf     150000                  0    petrol  volkswagen         NaN   \n",
       "1    NaN     125000                  5  gasoline        audi         yes   \n",
       "2  grand     125000                  8  gasoline        jeep         NaN   \n",
       "3   golf     150000                  6    petrol  volkswagen          no   \n",
       "4  fabia      90000                  7  gasoline       skoda          no   \n",
       "\n",
       "           DateCreated  NumberOfPictures  PostalCode             LastSeen  \n",
       "0  2016-03-24 00:00:00                 0       70435  2016-04-07 03:16:57  \n",
       "1  2016-03-24 00:00:00                 0       66954  2016-04-07 01:46:50  \n",
       "2  2016-03-14 00:00:00                 0       90480  2016-04-05 12:47:46  \n",
       "3  2016-03-17 00:00:00                 0       91074  2016-03-17 17:40:17  \n",
       "4  2016-03-31 00:00:00                 0       60437  2016-04-06 10:17:21  "
      ]
     },
     "execution_count": 3,
     "metadata": {},
     "output_type": "execute_result"
    }
   ],
   "source": [
    "DF_cars.head()"
   ]
  },
  {
   "cell_type": "code",
   "execution_count": 4,
   "metadata": {},
   "outputs": [
    {
     "name": "stdout",
     "output_type": "stream",
     "text": [
      "<class 'pandas.core.frame.DataFrame'>\n",
      "RangeIndex: 354369 entries, 0 to 354368\n",
      "Data columns (total 16 columns):\n",
      " #   Column             Non-Null Count   Dtype \n",
      "---  ------             --------------   ----- \n",
      " 0   DateCrawled        354369 non-null  object\n",
      " 1   Price              354369 non-null  int64 \n",
      " 2   VehicleType        316879 non-null  object\n",
      " 3   RegistrationYear   354369 non-null  int64 \n",
      " 4   Gearbox            334536 non-null  object\n",
      " 5   Power              354369 non-null  int64 \n",
      " 6   Model              334664 non-null  object\n",
      " 7   Kilometer          354369 non-null  int64 \n",
      " 8   RegistrationMonth  354369 non-null  int64 \n",
      " 9   FuelType           321474 non-null  object\n",
      " 10  Brand              354369 non-null  object\n",
      " 11  NotRepaired        283215 non-null  object\n",
      " 12  DateCreated        354369 non-null  object\n",
      " 13  NumberOfPictures   354369 non-null  int64 \n",
      " 14  PostalCode         354369 non-null  int64 \n",
      " 15  LastSeen           354369 non-null  object\n",
      "dtypes: int64(7), object(9)\n",
      "memory usage: 43.3+ MB\n"
     ]
    }
   ],
   "source": [
    "DF_cars.info()"
   ]
  },
  {
   "cell_type": "code",
   "execution_count": 5,
   "metadata": {},
   "outputs": [
    {
     "data": {
      "text/html": [
       "<div>\n",
       "<style scoped>\n",
       "    .dataframe tbody tr th:only-of-type {\n",
       "        vertical-align: middle;\n",
       "    }\n",
       "\n",
       "    .dataframe tbody tr th {\n",
       "        vertical-align: top;\n",
       "    }\n",
       "\n",
       "    .dataframe thead th {\n",
       "        text-align: right;\n",
       "    }\n",
       "</style>\n",
       "<table border=\"1\" class=\"dataframe\">\n",
       "  <thead>\n",
       "    <tr style=\"text-align: right;\">\n",
       "      <th></th>\n",
       "      <th>Price</th>\n",
       "      <th>RegistrationYear</th>\n",
       "      <th>Power</th>\n",
       "      <th>Kilometer</th>\n",
       "      <th>RegistrationMonth</th>\n",
       "      <th>NumberOfPictures</th>\n",
       "      <th>PostalCode</th>\n",
       "    </tr>\n",
       "  </thead>\n",
       "  <tbody>\n",
       "    <tr>\n",
       "      <th>count</th>\n",
       "      <td>354369.000000</td>\n",
       "      <td>354369.000000</td>\n",
       "      <td>354369.000000</td>\n",
       "      <td>354369.000000</td>\n",
       "      <td>354369.000000</td>\n",
       "      <td>354369.0</td>\n",
       "      <td>354369.000000</td>\n",
       "    </tr>\n",
       "    <tr>\n",
       "      <th>mean</th>\n",
       "      <td>4416.656776</td>\n",
       "      <td>2004.234448</td>\n",
       "      <td>110.094337</td>\n",
       "      <td>128211.172535</td>\n",
       "      <td>5.714645</td>\n",
       "      <td>0.0</td>\n",
       "      <td>50508.689087</td>\n",
       "    </tr>\n",
       "    <tr>\n",
       "      <th>std</th>\n",
       "      <td>4514.158514</td>\n",
       "      <td>90.227958</td>\n",
       "      <td>189.850405</td>\n",
       "      <td>37905.341530</td>\n",
       "      <td>3.726421</td>\n",
       "      <td>0.0</td>\n",
       "      <td>25783.096248</td>\n",
       "    </tr>\n",
       "    <tr>\n",
       "      <th>min</th>\n",
       "      <td>0.000000</td>\n",
       "      <td>1000.000000</td>\n",
       "      <td>0.000000</td>\n",
       "      <td>5000.000000</td>\n",
       "      <td>0.000000</td>\n",
       "      <td>0.0</td>\n",
       "      <td>1067.000000</td>\n",
       "    </tr>\n",
       "    <tr>\n",
       "      <th>25%</th>\n",
       "      <td>1050.000000</td>\n",
       "      <td>1999.000000</td>\n",
       "      <td>69.000000</td>\n",
       "      <td>125000.000000</td>\n",
       "      <td>3.000000</td>\n",
       "      <td>0.0</td>\n",
       "      <td>30165.000000</td>\n",
       "    </tr>\n",
       "    <tr>\n",
       "      <th>50%</th>\n",
       "      <td>2700.000000</td>\n",
       "      <td>2003.000000</td>\n",
       "      <td>105.000000</td>\n",
       "      <td>150000.000000</td>\n",
       "      <td>6.000000</td>\n",
       "      <td>0.0</td>\n",
       "      <td>49413.000000</td>\n",
       "    </tr>\n",
       "    <tr>\n",
       "      <th>75%</th>\n",
       "      <td>6400.000000</td>\n",
       "      <td>2008.000000</td>\n",
       "      <td>143.000000</td>\n",
       "      <td>150000.000000</td>\n",
       "      <td>9.000000</td>\n",
       "      <td>0.0</td>\n",
       "      <td>71083.000000</td>\n",
       "    </tr>\n",
       "    <tr>\n",
       "      <th>max</th>\n",
       "      <td>20000.000000</td>\n",
       "      <td>9999.000000</td>\n",
       "      <td>20000.000000</td>\n",
       "      <td>150000.000000</td>\n",
       "      <td>12.000000</td>\n",
       "      <td>0.0</td>\n",
       "      <td>99998.000000</td>\n",
       "    </tr>\n",
       "  </tbody>\n",
       "</table>\n",
       "</div>"
      ],
      "text/plain": [
       "               Price  RegistrationYear          Power      Kilometer  \\\n",
       "count  354369.000000     354369.000000  354369.000000  354369.000000   \n",
       "mean     4416.656776       2004.234448     110.094337  128211.172535   \n",
       "std      4514.158514         90.227958     189.850405   37905.341530   \n",
       "min         0.000000       1000.000000       0.000000    5000.000000   \n",
       "25%      1050.000000       1999.000000      69.000000  125000.000000   \n",
       "50%      2700.000000       2003.000000     105.000000  150000.000000   \n",
       "75%      6400.000000       2008.000000     143.000000  150000.000000   \n",
       "max     20000.000000       9999.000000   20000.000000  150000.000000   \n",
       "\n",
       "       RegistrationMonth  NumberOfPictures     PostalCode  \n",
       "count      354369.000000          354369.0  354369.000000  \n",
       "mean            5.714645               0.0   50508.689087  \n",
       "std             3.726421               0.0   25783.096248  \n",
       "min             0.000000               0.0    1067.000000  \n",
       "25%             3.000000               0.0   30165.000000  \n",
       "50%             6.000000               0.0   49413.000000  \n",
       "75%             9.000000               0.0   71083.000000  \n",
       "max            12.000000               0.0   99998.000000  "
      ]
     },
     "execution_count": 5,
     "metadata": {},
     "output_type": "execute_result"
    }
   ],
   "source": [
    "DF_cars.describe()"
   ]
  },
  {
   "attachments": {},
   "cell_type": "markdown",
   "metadata": {},
   "source": [
    "**Conclusion**\n",
    "- Dataset has 354369 rows and 15 columns;\n",
    "- Target column - 'price'\n",
    "- Numeric features are - 'registration year','power','kilometer','registration month','postal code'\n",
    "- Categorical features are - 'VehicleType','Gearbox','Model','FuelType','Brand','NotRepaired','DateCreated'\n",
    "- Data set has useless columns and null values, its required to perform data preparation prior to model training"
   ]
  },
  {
   "cell_type": "markdown",
   "metadata": {},
   "source": [
    "### Data preparation"
   ]
  },
  {
   "cell_type": "code",
   "execution_count": 6,
   "metadata": {},
   "outputs": [],
   "source": [
    "# deletion of useless columns\n",
    "DF_cars = DF_cars.drop(columns = ['DateCrawled','LastSeen'])"
   ]
  },
  {
   "cell_type": "code",
   "execution_count": 7,
   "metadata": {},
   "outputs": [
    {
     "data": {
      "text/html": [
       "<div>\n",
       "<style scoped>\n",
       "    .dataframe tbody tr th:only-of-type {\n",
       "        vertical-align: middle;\n",
       "    }\n",
       "\n",
       "    .dataframe tbody tr th {\n",
       "        vertical-align: top;\n",
       "    }\n",
       "\n",
       "    .dataframe thead th {\n",
       "        text-align: right;\n",
       "    }\n",
       "</style>\n",
       "<table border=\"1\" class=\"dataframe\">\n",
       "  <thead>\n",
       "    <tr style=\"text-align: right;\">\n",
       "      <th></th>\n",
       "      <th>Price</th>\n",
       "      <th>VehicleType</th>\n",
       "      <th>RegistrationYear</th>\n",
       "      <th>Gearbox</th>\n",
       "      <th>Power</th>\n",
       "      <th>Model</th>\n",
       "      <th>Kilometer</th>\n",
       "      <th>RegistrationMonth</th>\n",
       "      <th>FuelType</th>\n",
       "      <th>Brand</th>\n",
       "      <th>NotRepaired</th>\n",
       "      <th>DateCreated</th>\n",
       "      <th>NumberOfPictures</th>\n",
       "      <th>PostalCode</th>\n",
       "    </tr>\n",
       "  </thead>\n",
       "  <tbody>\n",
       "    <tr>\n",
       "      <th>0</th>\n",
       "      <td>480</td>\n",
       "      <td>NaN</td>\n",
       "      <td>1993</td>\n",
       "      <td>manual</td>\n",
       "      <td>0</td>\n",
       "      <td>golf</td>\n",
       "      <td>150000</td>\n",
       "      <td>0</td>\n",
       "      <td>petrol</td>\n",
       "      <td>volkswagen</td>\n",
       "      <td>NaN</td>\n",
       "      <td>2016-03-24 00:00:00</td>\n",
       "      <td>0</td>\n",
       "      <td>70435</td>\n",
       "    </tr>\n",
       "    <tr>\n",
       "      <th>1</th>\n",
       "      <td>18300</td>\n",
       "      <td>coupe</td>\n",
       "      <td>2011</td>\n",
       "      <td>manual</td>\n",
       "      <td>190</td>\n",
       "      <td>NaN</td>\n",
       "      <td>125000</td>\n",
       "      <td>5</td>\n",
       "      <td>gasoline</td>\n",
       "      <td>audi</td>\n",
       "      <td>yes</td>\n",
       "      <td>2016-03-24 00:00:00</td>\n",
       "      <td>0</td>\n",
       "      <td>66954</td>\n",
       "    </tr>\n",
       "    <tr>\n",
       "      <th>2</th>\n",
       "      <td>9800</td>\n",
       "      <td>suv</td>\n",
       "      <td>2004</td>\n",
       "      <td>auto</td>\n",
       "      <td>163</td>\n",
       "      <td>grand</td>\n",
       "      <td>125000</td>\n",
       "      <td>8</td>\n",
       "      <td>gasoline</td>\n",
       "      <td>jeep</td>\n",
       "      <td>NaN</td>\n",
       "      <td>2016-03-14 00:00:00</td>\n",
       "      <td>0</td>\n",
       "      <td>90480</td>\n",
       "    </tr>\n",
       "    <tr>\n",
       "      <th>3</th>\n",
       "      <td>1500</td>\n",
       "      <td>small</td>\n",
       "      <td>2001</td>\n",
       "      <td>manual</td>\n",
       "      <td>75</td>\n",
       "      <td>golf</td>\n",
       "      <td>150000</td>\n",
       "      <td>6</td>\n",
       "      <td>petrol</td>\n",
       "      <td>volkswagen</td>\n",
       "      <td>no</td>\n",
       "      <td>2016-03-17 00:00:00</td>\n",
       "      <td>0</td>\n",
       "      <td>91074</td>\n",
       "    </tr>\n",
       "    <tr>\n",
       "      <th>4</th>\n",
       "      <td>3600</td>\n",
       "      <td>small</td>\n",
       "      <td>2008</td>\n",
       "      <td>manual</td>\n",
       "      <td>69</td>\n",
       "      <td>fabia</td>\n",
       "      <td>90000</td>\n",
       "      <td>7</td>\n",
       "      <td>gasoline</td>\n",
       "      <td>skoda</td>\n",
       "      <td>no</td>\n",
       "      <td>2016-03-31 00:00:00</td>\n",
       "      <td>0</td>\n",
       "      <td>60437</td>\n",
       "    </tr>\n",
       "  </tbody>\n",
       "</table>\n",
       "</div>"
      ],
      "text/plain": [
       "   Price VehicleType  RegistrationYear Gearbox  Power  Model  Kilometer  \\\n",
       "0    480         NaN              1993  manual      0   golf     150000   \n",
       "1  18300       coupe              2011  manual    190    NaN     125000   \n",
       "2   9800         suv              2004    auto    163  grand     125000   \n",
       "3   1500       small              2001  manual     75   golf     150000   \n",
       "4   3600       small              2008  manual     69  fabia      90000   \n",
       "\n",
       "   RegistrationMonth  FuelType       Brand NotRepaired          DateCreated  \\\n",
       "0                  0    petrol  volkswagen         NaN  2016-03-24 00:00:00   \n",
       "1                  5  gasoline        audi         yes  2016-03-24 00:00:00   \n",
       "2                  8  gasoline        jeep         NaN  2016-03-14 00:00:00   \n",
       "3                  6    petrol  volkswagen          no  2016-03-17 00:00:00   \n",
       "4                  7  gasoline       skoda          no  2016-03-31 00:00:00   \n",
       "\n",
       "   NumberOfPictures  PostalCode  \n",
       "0                 0       70435  \n",
       "1                 0       66954  \n",
       "2                 0       90480  \n",
       "3                 0       91074  \n",
       "4                 0       60437  "
      ]
     },
     "execution_count": 7,
     "metadata": {},
     "output_type": "execute_result"
    }
   ],
   "source": [
    "DF_cars.head()"
   ]
  },
  {
   "cell_type": "code",
   "execution_count": 8,
   "metadata": {},
   "outputs": [],
   "source": [
    "# datatime value reformating\n",
    "DF_cars['DateCreated'] = pd.to_datetime(DF_cars['DateCreated'], format='%Y-%m-%d')"
   ]
  },
  {
   "cell_type": "code",
   "execution_count": 9,
   "metadata": {},
   "outputs": [
    {
     "data": {
      "text/plain": [
       "105"
      ]
     },
     "execution_count": 9,
     "metadata": {},
     "output_type": "execute_result"
    }
   ],
   "source": [
    "DF_cars[DF_cars['RegistrationYear']> 2022]['RegistrationYear'].count()"
   ]
  },
  {
   "cell_type": "code",
   "execution_count": 10,
   "metadata": {
    "scrolled": true
   },
   "outputs": [],
   "source": [
    "# deletion of incorrect data (year > 2022)\n",
    "DF_cars =DF_cars.drop(index = DF_cars[DF_cars['RegistrationYear']> 2022].index).reset_index().drop(columns = 'index')"
   ]
  },
  {
   "cell_type": "code",
   "execution_count": 11,
   "metadata": {},
   "outputs": [
    {
     "data": {
      "text/html": [
       "<div>\n",
       "<style scoped>\n",
       "    .dataframe tbody tr th:only-of-type {\n",
       "        vertical-align: middle;\n",
       "    }\n",
       "\n",
       "    .dataframe tbody tr th {\n",
       "        vertical-align: top;\n",
       "    }\n",
       "\n",
       "    .dataframe thead th {\n",
       "        text-align: right;\n",
       "    }\n",
       "</style>\n",
       "<table border=\"1\" class=\"dataframe\">\n",
       "  <thead>\n",
       "    <tr style=\"text-align: right;\">\n",
       "      <th></th>\n",
       "      <th>Price</th>\n",
       "      <th>VehicleType</th>\n",
       "      <th>RegistrationYear</th>\n",
       "      <th>Gearbox</th>\n",
       "      <th>Power</th>\n",
       "      <th>Model</th>\n",
       "      <th>Kilometer</th>\n",
       "      <th>RegistrationMonth</th>\n",
       "      <th>FuelType</th>\n",
       "      <th>Brand</th>\n",
       "      <th>NotRepaired</th>\n",
       "      <th>DateCreated</th>\n",
       "      <th>NumberOfPictures</th>\n",
       "      <th>PostalCode</th>\n",
       "    </tr>\n",
       "  </thead>\n",
       "  <tbody>\n",
       "    <tr>\n",
       "      <th>0</th>\n",
       "      <td>480</td>\n",
       "      <td>NaN</td>\n",
       "      <td>1993</td>\n",
       "      <td>manual</td>\n",
       "      <td>0</td>\n",
       "      <td>golf</td>\n",
       "      <td>150000</td>\n",
       "      <td>0</td>\n",
       "      <td>petrol</td>\n",
       "      <td>volkswagen</td>\n",
       "      <td>NaN</td>\n",
       "      <td>2016-03-24</td>\n",
       "      <td>0</td>\n",
       "      <td>70435</td>\n",
       "    </tr>\n",
       "    <tr>\n",
       "      <th>1</th>\n",
       "      <td>18300</td>\n",
       "      <td>coupe</td>\n",
       "      <td>2011</td>\n",
       "      <td>manual</td>\n",
       "      <td>190</td>\n",
       "      <td>NaN</td>\n",
       "      <td>125000</td>\n",
       "      <td>5</td>\n",
       "      <td>gasoline</td>\n",
       "      <td>audi</td>\n",
       "      <td>yes</td>\n",
       "      <td>2016-03-24</td>\n",
       "      <td>0</td>\n",
       "      <td>66954</td>\n",
       "    </tr>\n",
       "    <tr>\n",
       "      <th>2</th>\n",
       "      <td>9800</td>\n",
       "      <td>suv</td>\n",
       "      <td>2004</td>\n",
       "      <td>auto</td>\n",
       "      <td>163</td>\n",
       "      <td>grand</td>\n",
       "      <td>125000</td>\n",
       "      <td>8</td>\n",
       "      <td>gasoline</td>\n",
       "      <td>jeep</td>\n",
       "      <td>NaN</td>\n",
       "      <td>2016-03-14</td>\n",
       "      <td>0</td>\n",
       "      <td>90480</td>\n",
       "    </tr>\n",
       "    <tr>\n",
       "      <th>3</th>\n",
       "      <td>1500</td>\n",
       "      <td>small</td>\n",
       "      <td>2001</td>\n",
       "      <td>manual</td>\n",
       "      <td>75</td>\n",
       "      <td>golf</td>\n",
       "      <td>150000</td>\n",
       "      <td>6</td>\n",
       "      <td>petrol</td>\n",
       "      <td>volkswagen</td>\n",
       "      <td>no</td>\n",
       "      <td>2016-03-17</td>\n",
       "      <td>0</td>\n",
       "      <td>91074</td>\n",
       "    </tr>\n",
       "    <tr>\n",
       "      <th>4</th>\n",
       "      <td>3600</td>\n",
       "      <td>small</td>\n",
       "      <td>2008</td>\n",
       "      <td>manual</td>\n",
       "      <td>69</td>\n",
       "      <td>fabia</td>\n",
       "      <td>90000</td>\n",
       "      <td>7</td>\n",
       "      <td>gasoline</td>\n",
       "      <td>skoda</td>\n",
       "      <td>no</td>\n",
       "      <td>2016-03-31</td>\n",
       "      <td>0</td>\n",
       "      <td>60437</td>\n",
       "    </tr>\n",
       "    <tr>\n",
       "      <th>...</th>\n",
       "      <td>...</td>\n",
       "      <td>...</td>\n",
       "      <td>...</td>\n",
       "      <td>...</td>\n",
       "      <td>...</td>\n",
       "      <td>...</td>\n",
       "      <td>...</td>\n",
       "      <td>...</td>\n",
       "      <td>...</td>\n",
       "      <td>...</td>\n",
       "      <td>...</td>\n",
       "      <td>...</td>\n",
       "      <td>...</td>\n",
       "      <td>...</td>\n",
       "    </tr>\n",
       "    <tr>\n",
       "      <th>354259</th>\n",
       "      <td>0</td>\n",
       "      <td>NaN</td>\n",
       "      <td>2005</td>\n",
       "      <td>manual</td>\n",
       "      <td>0</td>\n",
       "      <td>colt</td>\n",
       "      <td>150000</td>\n",
       "      <td>7</td>\n",
       "      <td>petrol</td>\n",
       "      <td>mitsubishi</td>\n",
       "      <td>yes</td>\n",
       "      <td>2016-03-21</td>\n",
       "      <td>0</td>\n",
       "      <td>2694</td>\n",
       "    </tr>\n",
       "    <tr>\n",
       "      <th>354260</th>\n",
       "      <td>2200</td>\n",
       "      <td>NaN</td>\n",
       "      <td>2005</td>\n",
       "      <td>NaN</td>\n",
       "      <td>0</td>\n",
       "      <td>NaN</td>\n",
       "      <td>20000</td>\n",
       "      <td>1</td>\n",
       "      <td>NaN</td>\n",
       "      <td>sonstige_autos</td>\n",
       "      <td>NaN</td>\n",
       "      <td>2016-03-14</td>\n",
       "      <td>0</td>\n",
       "      <td>39576</td>\n",
       "    </tr>\n",
       "    <tr>\n",
       "      <th>354261</th>\n",
       "      <td>1199</td>\n",
       "      <td>convertible</td>\n",
       "      <td>2000</td>\n",
       "      <td>auto</td>\n",
       "      <td>101</td>\n",
       "      <td>fortwo</td>\n",
       "      <td>125000</td>\n",
       "      <td>3</td>\n",
       "      <td>petrol</td>\n",
       "      <td>smart</td>\n",
       "      <td>no</td>\n",
       "      <td>2016-03-05</td>\n",
       "      <td>0</td>\n",
       "      <td>26135</td>\n",
       "    </tr>\n",
       "    <tr>\n",
       "      <th>354262</th>\n",
       "      <td>9200</td>\n",
       "      <td>bus</td>\n",
       "      <td>1996</td>\n",
       "      <td>manual</td>\n",
       "      <td>102</td>\n",
       "      <td>transporter</td>\n",
       "      <td>150000</td>\n",
       "      <td>3</td>\n",
       "      <td>gasoline</td>\n",
       "      <td>volkswagen</td>\n",
       "      <td>no</td>\n",
       "      <td>2016-03-19</td>\n",
       "      <td>0</td>\n",
       "      <td>87439</td>\n",
       "    </tr>\n",
       "    <tr>\n",
       "      <th>354263</th>\n",
       "      <td>3400</td>\n",
       "      <td>wagon</td>\n",
       "      <td>2002</td>\n",
       "      <td>manual</td>\n",
       "      <td>100</td>\n",
       "      <td>golf</td>\n",
       "      <td>150000</td>\n",
       "      <td>6</td>\n",
       "      <td>gasoline</td>\n",
       "      <td>volkswagen</td>\n",
       "      <td>NaN</td>\n",
       "      <td>2016-03-20</td>\n",
       "      <td>0</td>\n",
       "      <td>40764</td>\n",
       "    </tr>\n",
       "  </tbody>\n",
       "</table>\n",
       "<p>354264 rows × 14 columns</p>\n",
       "</div>"
      ],
      "text/plain": [
       "        Price  VehicleType  RegistrationYear Gearbox  Power        Model  \\\n",
       "0         480          NaN              1993  manual      0         golf   \n",
       "1       18300        coupe              2011  manual    190          NaN   \n",
       "2        9800          suv              2004    auto    163        grand   \n",
       "3        1500        small              2001  manual     75         golf   \n",
       "4        3600        small              2008  manual     69        fabia   \n",
       "...       ...          ...               ...     ...    ...          ...   \n",
       "354259      0          NaN              2005  manual      0         colt   \n",
       "354260   2200          NaN              2005     NaN      0          NaN   \n",
       "354261   1199  convertible              2000    auto    101       fortwo   \n",
       "354262   9200          bus              1996  manual    102  transporter   \n",
       "354263   3400        wagon              2002  manual    100         golf   \n",
       "\n",
       "        Kilometer  RegistrationMonth  FuelType           Brand NotRepaired  \\\n",
       "0          150000                  0    petrol      volkswagen         NaN   \n",
       "1          125000                  5  gasoline            audi         yes   \n",
       "2          125000                  8  gasoline            jeep         NaN   \n",
       "3          150000                  6    petrol      volkswagen          no   \n",
       "4           90000                  7  gasoline           skoda          no   \n",
       "...           ...                ...       ...             ...         ...   \n",
       "354259     150000                  7    petrol      mitsubishi         yes   \n",
       "354260      20000                  1       NaN  sonstige_autos         NaN   \n",
       "354261     125000                  3    petrol           smart          no   \n",
       "354262     150000                  3  gasoline      volkswagen          no   \n",
       "354263     150000                  6  gasoline      volkswagen         NaN   \n",
       "\n",
       "       DateCreated  NumberOfPictures  PostalCode  \n",
       "0       2016-03-24                 0       70435  \n",
       "1       2016-03-24                 0       66954  \n",
       "2       2016-03-14                 0       90480  \n",
       "3       2016-03-17                 0       91074  \n",
       "4       2016-03-31                 0       60437  \n",
       "...            ...               ...         ...  \n",
       "354259  2016-03-21                 0        2694  \n",
       "354260  2016-03-14                 0       39576  \n",
       "354261  2016-03-05                 0       26135  \n",
       "354262  2016-03-19                 0       87439  \n",
       "354263  2016-03-20                 0       40764  \n",
       "\n",
       "[354264 rows x 14 columns]"
      ]
     },
     "execution_count": 11,
     "metadata": {},
     "output_type": "execute_result"
    }
   ],
   "source": [
    "DF_cars"
   ]
  },
  {
   "cell_type": "code",
   "execution_count": 12,
   "metadata": {},
   "outputs": [
    {
     "data": {
      "text/plain": [
       "66"
      ]
     },
     "execution_count": 12,
     "metadata": {},
     "output_type": "execute_result"
    }
   ],
   "source": [
    "DF_cars[DF_cars['RegistrationYear']< 1900]['RegistrationYear'].count()"
   ]
  },
  {
   "cell_type": "code",
   "execution_count": 13,
   "metadata": {},
   "outputs": [],
   "source": [
    "# deletion of incorrect records - too old vehicles\n",
    "DF_cars =DF_cars.drop(index = DF_cars[DF_cars['RegistrationYear']< 1900].index).reset_index().drop(columns = 'index')"
   ]
  },
  {
   "cell_type": "code",
   "execution_count": 14,
   "metadata": {},
   "outputs": [
    {
     "data": {
      "text/html": [
       "<div>\n",
       "<style scoped>\n",
       "    .dataframe tbody tr th:only-of-type {\n",
       "        vertical-align: middle;\n",
       "    }\n",
       "\n",
       "    .dataframe tbody tr th {\n",
       "        vertical-align: top;\n",
       "    }\n",
       "\n",
       "    .dataframe thead th {\n",
       "        text-align: right;\n",
       "    }\n",
       "</style>\n",
       "<table border=\"1\" class=\"dataframe\">\n",
       "  <thead>\n",
       "    <tr style=\"text-align: right;\">\n",
       "      <th></th>\n",
       "      <th>Price</th>\n",
       "      <th>RegistrationYear</th>\n",
       "      <th>Power</th>\n",
       "      <th>Kilometer</th>\n",
       "      <th>RegistrationMonth</th>\n",
       "      <th>NumberOfPictures</th>\n",
       "      <th>PostalCode</th>\n",
       "    </tr>\n",
       "  </thead>\n",
       "  <tbody>\n",
       "    <tr>\n",
       "      <th>count</th>\n",
       "      <td>354198.000000</td>\n",
       "      <td>354198.000000</td>\n",
       "      <td>354198.000000</td>\n",
       "      <td>354198.000000</td>\n",
       "      <td>354198.000000</td>\n",
       "      <td>354198.0</td>\n",
       "      <td>354198.000000</td>\n",
       "    </tr>\n",
       "    <tr>\n",
       "      <th>mean</th>\n",
       "      <td>4417.651314</td>\n",
       "      <td>2003.084789</td>\n",
       "      <td>110.078242</td>\n",
       "      <td>128267.607383</td>\n",
       "      <td>5.716819</td>\n",
       "      <td>0.0</td>\n",
       "      <td>50511.793813</td>\n",
       "    </tr>\n",
       "    <tr>\n",
       "      <th>std</th>\n",
       "      <td>4514.081022</td>\n",
       "      <td>7.536418</td>\n",
       "      <td>189.536766</td>\n",
       "      <td>37823.538557</td>\n",
       "      <td>3.725539</td>\n",
       "      <td>0.0</td>\n",
       "      <td>25783.464340</td>\n",
       "    </tr>\n",
       "    <tr>\n",
       "      <th>min</th>\n",
       "      <td>0.000000</td>\n",
       "      <td>1910.000000</td>\n",
       "      <td>0.000000</td>\n",
       "      <td>5000.000000</td>\n",
       "      <td>0.000000</td>\n",
       "      <td>0.0</td>\n",
       "      <td>1067.000000</td>\n",
       "    </tr>\n",
       "    <tr>\n",
       "      <th>25%</th>\n",
       "      <td>1050.000000</td>\n",
       "      <td>1999.000000</td>\n",
       "      <td>69.000000</td>\n",
       "      <td>125000.000000</td>\n",
       "      <td>3.000000</td>\n",
       "      <td>0.0</td>\n",
       "      <td>30165.000000</td>\n",
       "    </tr>\n",
       "    <tr>\n",
       "      <th>50%</th>\n",
       "      <td>2700.000000</td>\n",
       "      <td>2003.000000</td>\n",
       "      <td>105.000000</td>\n",
       "      <td>150000.000000</td>\n",
       "      <td>6.000000</td>\n",
       "      <td>0.0</td>\n",
       "      <td>49413.000000</td>\n",
       "    </tr>\n",
       "    <tr>\n",
       "      <th>75%</th>\n",
       "      <td>6400.000000</td>\n",
       "      <td>2008.000000</td>\n",
       "      <td>143.000000</td>\n",
       "      <td>150000.000000</td>\n",
       "      <td>9.000000</td>\n",
       "      <td>0.0</td>\n",
       "      <td>71083.000000</td>\n",
       "    </tr>\n",
       "    <tr>\n",
       "      <th>max</th>\n",
       "      <td>20000.000000</td>\n",
       "      <td>2019.000000</td>\n",
       "      <td>20000.000000</td>\n",
       "      <td>150000.000000</td>\n",
       "      <td>12.000000</td>\n",
       "      <td>0.0</td>\n",
       "      <td>99998.000000</td>\n",
       "    </tr>\n",
       "  </tbody>\n",
       "</table>\n",
       "</div>"
      ],
      "text/plain": [
       "               Price  RegistrationYear          Power      Kilometer  \\\n",
       "count  354198.000000     354198.000000  354198.000000  354198.000000   \n",
       "mean     4417.651314       2003.084789     110.078242  128267.607383   \n",
       "std      4514.081022          7.536418     189.536766   37823.538557   \n",
       "min         0.000000       1910.000000       0.000000    5000.000000   \n",
       "25%      1050.000000       1999.000000      69.000000  125000.000000   \n",
       "50%      2700.000000       2003.000000     105.000000  150000.000000   \n",
       "75%      6400.000000       2008.000000     143.000000  150000.000000   \n",
       "max     20000.000000       2019.000000   20000.000000  150000.000000   \n",
       "\n",
       "       RegistrationMonth  NumberOfPictures     PostalCode  \n",
       "count      354198.000000          354198.0  354198.000000  \n",
       "mean            5.716819               0.0   50511.793813  \n",
       "std             3.725539               0.0   25783.464340  \n",
       "min             0.000000               0.0    1067.000000  \n",
       "25%             3.000000               0.0   30165.000000  \n",
       "50%             6.000000               0.0   49413.000000  \n",
       "75%             9.000000               0.0   71083.000000  \n",
       "max            12.000000               0.0   99998.000000  "
      ]
     },
     "execution_count": 14,
     "metadata": {},
     "output_type": "execute_result"
    }
   ],
   "source": [
    "DF_cars.describe()"
   ]
  },
  {
   "cell_type": "code",
   "execution_count": 15,
   "metadata": {},
   "outputs": [
    {
     "name": "stdout",
     "output_type": "stream",
     "text": [
      "Price 0 0 %\n",
      "VehicleType 37319 12 %\n",
      "RegistrationYear 0 0 %\n",
      "Gearbox 19695 6 %\n",
      "Power 0 0 %\n",
      "Model 19630 6 %\n",
      "Kilometer 0 0 %\n",
      "RegistrationMonth 0 0 %\n",
      "FuelType 32767 10 %\n",
      "Brand 0 0 %\n",
      "NotRepaired 71007 25 %\n",
      "DateCreated 0 0 %\n",
      "NumberOfPictures 0 0 %\n",
      "PostalCode 0 0 %\n",
      "\n",
      " ['VehicleType', 'Gearbox', 'Model', 'FuelType', 'NotRepaired']\n"
     ]
    }
   ],
   "source": [
    "list_of_nan = []\n",
    "for i in DF_cars.columns:\n",
    "    print(i,DF_cars[i].isna().sum(),int(round(DF_cars[i].isna().sum()/DF_cars[i].count()*100,0)),'%')\n",
    "    if DF_cars[i].isna().sum() > 0:\n",
    "        list_of_nan.append(i)\n",
    "        \n",
    "print('\\n',list_of_nan)"
   ]
  },
  {
   "cell_type": "code",
   "execution_count": 16,
   "metadata": {},
   "outputs": [
    {
     "data": {
      "text/plain": [
       "Price                 0.000000\n",
       "VehicleType          10.536197\n",
       "RegistrationYear      0.000000\n",
       "Gearbox               5.560449\n",
       "Power                 0.000000\n",
       "Model                 5.542098\n",
       "Kilometer             0.000000\n",
       "RegistrationMonth     0.000000\n",
       "FuelType              9.251040\n",
       "Brand                 0.000000\n",
       "NotRepaired          20.047262\n",
       "DateCreated           0.000000\n",
       "NumberOfPictures      0.000000\n",
       "PostalCode            0.000000\n",
       "dtype: float64"
      ]
     },
     "execution_count": 16,
     "metadata": {},
     "output_type": "execute_result"
    }
   ],
   "source": [
    "DF_cars.isna().mean() * 100"
   ]
  },
  {
   "cell_type": "code",
   "execution_count": 17,
   "metadata": {},
   "outputs": [],
   "source": [
    "# nulls elimination in numeric columns\n",
    "DF_cars['VehicleType'] = DF_cars.groupby(['Brand', 'Model'])['VehicleType'].apply(lambda x: x.fillna(x.mode()[0] if not x.mode().empty else \"unknown\"))"
   ]
  },
  {
   "cell_type": "code",
   "execution_count": 18,
   "metadata": {},
   "outputs": [],
   "source": [
    "# nulls elimination in categorical columns\n",
    "categorial_columns = ['VehicleType','Gearbox','Model','FuelType','Brand','NotRepaired','DateCreated']\n",
    "categorial_features = DF_cars[categorial_columns]\n",
    "categorial_features = categorial_features.fillna('unknown')"
   ]
  },
  {
   "cell_type": "markdown",
   "metadata": {},
   "source": [
    "### Categorical features encoding"
   ]
  },
  {
   "cell_type": "code",
   "execution_count": 19,
   "metadata": {},
   "outputs": [],
   "source": [
    "encoder = OrdinalEncoder()\n",
    "encoder.fit(categorial_features)\n",
    "features_ordinal = encoder.transform(categorial_features)\n",
    "features_ordinal = pd.DataFrame(features_ordinal, columns = categorial_features.columns)"
   ]
  },
  {
   "cell_type": "code",
   "execution_count": 20,
   "metadata": {},
   "outputs": [
    {
     "data": {
      "text/html": [
       "<div>\n",
       "<style scoped>\n",
       "    .dataframe tbody tr th:only-of-type {\n",
       "        vertical-align: middle;\n",
       "    }\n",
       "\n",
       "    .dataframe tbody tr th {\n",
       "        vertical-align: top;\n",
       "    }\n",
       "\n",
       "    .dataframe thead th {\n",
       "        text-align: right;\n",
       "    }\n",
       "</style>\n",
       "<table border=\"1\" class=\"dataframe\">\n",
       "  <thead>\n",
       "    <tr style=\"text-align: right;\">\n",
       "      <th></th>\n",
       "      <th>VehicleType</th>\n",
       "      <th>Gearbox</th>\n",
       "      <th>Model</th>\n",
       "      <th>FuelType</th>\n",
       "      <th>Brand</th>\n",
       "      <th>NotRepaired</th>\n",
       "      <th>DateCreated</th>\n",
       "    </tr>\n",
       "  </thead>\n",
       "  <tbody>\n",
       "    <tr>\n",
       "      <th>0</th>\n",
       "      <td>4.0</td>\n",
       "      <td>1.0</td>\n",
       "      <td>116.0</td>\n",
       "      <td>6.0</td>\n",
       "      <td>38.0</td>\n",
       "      <td>1.0</td>\n",
       "      <td>94.0</td>\n",
       "    </tr>\n",
       "    <tr>\n",
       "      <th>1</th>\n",
       "      <td>7.0</td>\n",
       "      <td>1.0</td>\n",
       "      <td>228.0</td>\n",
       "      <td>2.0</td>\n",
       "      <td>1.0</td>\n",
       "      <td>2.0</td>\n",
       "      <td>94.0</td>\n",
       "    </tr>\n",
       "    <tr>\n",
       "      <th>2</th>\n",
       "      <td>6.0</td>\n",
       "      <td>0.0</td>\n",
       "      <td>117.0</td>\n",
       "      <td>2.0</td>\n",
       "      <td>14.0</td>\n",
       "      <td>1.0</td>\n",
       "      <td>84.0</td>\n",
       "    </tr>\n",
       "    <tr>\n",
       "      <th>3</th>\n",
       "      <td>5.0</td>\n",
       "      <td>1.0</td>\n",
       "      <td>116.0</td>\n",
       "      <td>6.0</td>\n",
       "      <td>38.0</td>\n",
       "      <td>0.0</td>\n",
       "      <td>87.0</td>\n",
       "    </tr>\n",
       "    <tr>\n",
       "      <th>4</th>\n",
       "      <td>5.0</td>\n",
       "      <td>1.0</td>\n",
       "      <td>101.0</td>\n",
       "      <td>2.0</td>\n",
       "      <td>31.0</td>\n",
       "      <td>0.0</td>\n",
       "      <td>101.0</td>\n",
       "    </tr>\n",
       "    <tr>\n",
       "      <th>...</th>\n",
       "      <td>...</td>\n",
       "      <td>...</td>\n",
       "      <td>...</td>\n",
       "      <td>...</td>\n",
       "      <td>...</td>\n",
       "      <td>...</td>\n",
       "      <td>...</td>\n",
       "    </tr>\n",
       "    <tr>\n",
       "      <th>354193</th>\n",
       "      <td>4.0</td>\n",
       "      <td>1.0</td>\n",
       "      <td>78.0</td>\n",
       "      <td>6.0</td>\n",
       "      <td>22.0</td>\n",
       "      <td>2.0</td>\n",
       "      <td>91.0</td>\n",
       "    </tr>\n",
       "    <tr>\n",
       "      <th>354194</th>\n",
       "      <td>7.0</td>\n",
       "      <td>2.0</td>\n",
       "      <td>228.0</td>\n",
       "      <td>7.0</td>\n",
       "      <td>33.0</td>\n",
       "      <td>1.0</td>\n",
       "      <td>84.0</td>\n",
       "    </tr>\n",
       "    <tr>\n",
       "      <th>354195</th>\n",
       "      <td>1.0</td>\n",
       "      <td>0.0</td>\n",
       "      <td>106.0</td>\n",
       "      <td>6.0</td>\n",
       "      <td>32.0</td>\n",
       "      <td>0.0</td>\n",
       "      <td>75.0</td>\n",
       "    </tr>\n",
       "    <tr>\n",
       "      <th>354196</th>\n",
       "      <td>0.0</td>\n",
       "      <td>1.0</td>\n",
       "      <td>224.0</td>\n",
       "      <td>2.0</td>\n",
       "      <td>38.0</td>\n",
       "      <td>0.0</td>\n",
       "      <td>89.0</td>\n",
       "    </tr>\n",
       "    <tr>\n",
       "      <th>354197</th>\n",
       "      <td>8.0</td>\n",
       "      <td>1.0</td>\n",
       "      <td>116.0</td>\n",
       "      <td>2.0</td>\n",
       "      <td>38.0</td>\n",
       "      <td>1.0</td>\n",
       "      <td>90.0</td>\n",
       "    </tr>\n",
       "  </tbody>\n",
       "</table>\n",
       "<p>354198 rows × 7 columns</p>\n",
       "</div>"
      ],
      "text/plain": [
       "        VehicleType  Gearbox  Model  FuelType  Brand  NotRepaired  DateCreated\n",
       "0               4.0      1.0  116.0       6.0   38.0          1.0         94.0\n",
       "1               7.0      1.0  228.0       2.0    1.0          2.0         94.0\n",
       "2               6.0      0.0  117.0       2.0   14.0          1.0         84.0\n",
       "3               5.0      1.0  116.0       6.0   38.0          0.0         87.0\n",
       "4               5.0      1.0  101.0       2.0   31.0          0.0        101.0\n",
       "...             ...      ...    ...       ...    ...          ...          ...\n",
       "354193          4.0      1.0   78.0       6.0   22.0          2.0         91.0\n",
       "354194          7.0      2.0  228.0       7.0   33.0          1.0         84.0\n",
       "354195          1.0      0.0  106.0       6.0   32.0          0.0         75.0\n",
       "354196          0.0      1.0  224.0       2.0   38.0          0.0         89.0\n",
       "354197          8.0      1.0  116.0       2.0   38.0          1.0         90.0\n",
       "\n",
       "[354198 rows x 7 columns]"
      ]
     },
     "execution_count": 20,
     "metadata": {},
     "output_type": "execute_result"
    }
   ],
   "source": [
    "features_ordinal"
   ]
  },
  {
   "cell_type": "code",
   "execution_count": 21,
   "metadata": {},
   "outputs": [],
   "source": [
    "df_prepared = DF_cars.copy()\n",
    "df_prepared[categorial_columns] = features_ordinal"
   ]
  },
  {
   "cell_type": "code",
   "execution_count": 22,
   "metadata": {},
   "outputs": [
    {
     "data": {
      "text/html": [
       "<div>\n",
       "<style scoped>\n",
       "    .dataframe tbody tr th:only-of-type {\n",
       "        vertical-align: middle;\n",
       "    }\n",
       "\n",
       "    .dataframe tbody tr th {\n",
       "        vertical-align: top;\n",
       "    }\n",
       "\n",
       "    .dataframe thead th {\n",
       "        text-align: right;\n",
       "    }\n",
       "</style>\n",
       "<table border=\"1\" class=\"dataframe\">\n",
       "  <thead>\n",
       "    <tr style=\"text-align: right;\">\n",
       "      <th></th>\n",
       "      <th>Price</th>\n",
       "      <th>VehicleType</th>\n",
       "      <th>RegistrationYear</th>\n",
       "      <th>Gearbox</th>\n",
       "      <th>Power</th>\n",
       "      <th>Model</th>\n",
       "      <th>Kilometer</th>\n",
       "      <th>RegistrationMonth</th>\n",
       "      <th>FuelType</th>\n",
       "      <th>Brand</th>\n",
       "      <th>NotRepaired</th>\n",
       "      <th>DateCreated</th>\n",
       "      <th>NumberOfPictures</th>\n",
       "      <th>PostalCode</th>\n",
       "    </tr>\n",
       "  </thead>\n",
       "  <tbody>\n",
       "    <tr>\n",
       "      <th>0</th>\n",
       "      <td>480</td>\n",
       "      <td>4.0</td>\n",
       "      <td>1993</td>\n",
       "      <td>1.0</td>\n",
       "      <td>0</td>\n",
       "      <td>116.0</td>\n",
       "      <td>150000</td>\n",
       "      <td>0</td>\n",
       "      <td>6.0</td>\n",
       "      <td>38.0</td>\n",
       "      <td>1.0</td>\n",
       "      <td>94.0</td>\n",
       "      <td>0</td>\n",
       "      <td>70435</td>\n",
       "    </tr>\n",
       "    <tr>\n",
       "      <th>1</th>\n",
       "      <td>18300</td>\n",
       "      <td>7.0</td>\n",
       "      <td>2011</td>\n",
       "      <td>1.0</td>\n",
       "      <td>190</td>\n",
       "      <td>228.0</td>\n",
       "      <td>125000</td>\n",
       "      <td>5</td>\n",
       "      <td>2.0</td>\n",
       "      <td>1.0</td>\n",
       "      <td>2.0</td>\n",
       "      <td>94.0</td>\n",
       "      <td>0</td>\n",
       "      <td>66954</td>\n",
       "    </tr>\n",
       "    <tr>\n",
       "      <th>2</th>\n",
       "      <td>9800</td>\n",
       "      <td>6.0</td>\n",
       "      <td>2004</td>\n",
       "      <td>0.0</td>\n",
       "      <td>163</td>\n",
       "      <td>117.0</td>\n",
       "      <td>125000</td>\n",
       "      <td>8</td>\n",
       "      <td>2.0</td>\n",
       "      <td>14.0</td>\n",
       "      <td>1.0</td>\n",
       "      <td>84.0</td>\n",
       "      <td>0</td>\n",
       "      <td>90480</td>\n",
       "    </tr>\n",
       "    <tr>\n",
       "      <th>3</th>\n",
       "      <td>1500</td>\n",
       "      <td>5.0</td>\n",
       "      <td>2001</td>\n",
       "      <td>1.0</td>\n",
       "      <td>75</td>\n",
       "      <td>116.0</td>\n",
       "      <td>150000</td>\n",
       "      <td>6</td>\n",
       "      <td>6.0</td>\n",
       "      <td>38.0</td>\n",
       "      <td>0.0</td>\n",
       "      <td>87.0</td>\n",
       "      <td>0</td>\n",
       "      <td>91074</td>\n",
       "    </tr>\n",
       "    <tr>\n",
       "      <th>4</th>\n",
       "      <td>3600</td>\n",
       "      <td>5.0</td>\n",
       "      <td>2008</td>\n",
       "      <td>1.0</td>\n",
       "      <td>69</td>\n",
       "      <td>101.0</td>\n",
       "      <td>90000</td>\n",
       "      <td>7</td>\n",
       "      <td>2.0</td>\n",
       "      <td>31.0</td>\n",
       "      <td>0.0</td>\n",
       "      <td>101.0</td>\n",
       "      <td>0</td>\n",
       "      <td>60437</td>\n",
       "    </tr>\n",
       "    <tr>\n",
       "      <th>...</th>\n",
       "      <td>...</td>\n",
       "      <td>...</td>\n",
       "      <td>...</td>\n",
       "      <td>...</td>\n",
       "      <td>...</td>\n",
       "      <td>...</td>\n",
       "      <td>...</td>\n",
       "      <td>...</td>\n",
       "      <td>...</td>\n",
       "      <td>...</td>\n",
       "      <td>...</td>\n",
       "      <td>...</td>\n",
       "      <td>...</td>\n",
       "      <td>...</td>\n",
       "    </tr>\n",
       "    <tr>\n",
       "      <th>354193</th>\n",
       "      <td>0</td>\n",
       "      <td>4.0</td>\n",
       "      <td>2005</td>\n",
       "      <td>1.0</td>\n",
       "      <td>0</td>\n",
       "      <td>78.0</td>\n",
       "      <td>150000</td>\n",
       "      <td>7</td>\n",
       "      <td>6.0</td>\n",
       "      <td>22.0</td>\n",
       "      <td>2.0</td>\n",
       "      <td>91.0</td>\n",
       "      <td>0</td>\n",
       "      <td>2694</td>\n",
       "    </tr>\n",
       "    <tr>\n",
       "      <th>354194</th>\n",
       "      <td>2200</td>\n",
       "      <td>7.0</td>\n",
       "      <td>2005</td>\n",
       "      <td>2.0</td>\n",
       "      <td>0</td>\n",
       "      <td>228.0</td>\n",
       "      <td>20000</td>\n",
       "      <td>1</td>\n",
       "      <td>7.0</td>\n",
       "      <td>33.0</td>\n",
       "      <td>1.0</td>\n",
       "      <td>84.0</td>\n",
       "      <td>0</td>\n",
       "      <td>39576</td>\n",
       "    </tr>\n",
       "    <tr>\n",
       "      <th>354195</th>\n",
       "      <td>1199</td>\n",
       "      <td>1.0</td>\n",
       "      <td>2000</td>\n",
       "      <td>0.0</td>\n",
       "      <td>101</td>\n",
       "      <td>106.0</td>\n",
       "      <td>125000</td>\n",
       "      <td>3</td>\n",
       "      <td>6.0</td>\n",
       "      <td>32.0</td>\n",
       "      <td>0.0</td>\n",
       "      <td>75.0</td>\n",
       "      <td>0</td>\n",
       "      <td>26135</td>\n",
       "    </tr>\n",
       "    <tr>\n",
       "      <th>354196</th>\n",
       "      <td>9200</td>\n",
       "      <td>0.0</td>\n",
       "      <td>1996</td>\n",
       "      <td>1.0</td>\n",
       "      <td>102</td>\n",
       "      <td>224.0</td>\n",
       "      <td>150000</td>\n",
       "      <td>3</td>\n",
       "      <td>2.0</td>\n",
       "      <td>38.0</td>\n",
       "      <td>0.0</td>\n",
       "      <td>89.0</td>\n",
       "      <td>0</td>\n",
       "      <td>87439</td>\n",
       "    </tr>\n",
       "    <tr>\n",
       "      <th>354197</th>\n",
       "      <td>3400</td>\n",
       "      <td>8.0</td>\n",
       "      <td>2002</td>\n",
       "      <td>1.0</td>\n",
       "      <td>100</td>\n",
       "      <td>116.0</td>\n",
       "      <td>150000</td>\n",
       "      <td>6</td>\n",
       "      <td>2.0</td>\n",
       "      <td>38.0</td>\n",
       "      <td>1.0</td>\n",
       "      <td>90.0</td>\n",
       "      <td>0</td>\n",
       "      <td>40764</td>\n",
       "    </tr>\n",
       "  </tbody>\n",
       "</table>\n",
       "<p>354198 rows × 14 columns</p>\n",
       "</div>"
      ],
      "text/plain": [
       "        Price  VehicleType  RegistrationYear  Gearbox  Power  Model  \\\n",
       "0         480          4.0              1993      1.0      0  116.0   \n",
       "1       18300          7.0              2011      1.0    190  228.0   \n",
       "2        9800          6.0              2004      0.0    163  117.0   \n",
       "3        1500          5.0              2001      1.0     75  116.0   \n",
       "4        3600          5.0              2008      1.0     69  101.0   \n",
       "...       ...          ...               ...      ...    ...    ...   \n",
       "354193      0          4.0              2005      1.0      0   78.0   \n",
       "354194   2200          7.0              2005      2.0      0  228.0   \n",
       "354195   1199          1.0              2000      0.0    101  106.0   \n",
       "354196   9200          0.0              1996      1.0    102  224.0   \n",
       "354197   3400          8.0              2002      1.0    100  116.0   \n",
       "\n",
       "        Kilometer  RegistrationMonth  FuelType  Brand  NotRepaired  \\\n",
       "0          150000                  0       6.0   38.0          1.0   \n",
       "1          125000                  5       2.0    1.0          2.0   \n",
       "2          125000                  8       2.0   14.0          1.0   \n",
       "3          150000                  6       6.0   38.0          0.0   \n",
       "4           90000                  7       2.0   31.0          0.0   \n",
       "...           ...                ...       ...    ...          ...   \n",
       "354193     150000                  7       6.0   22.0          2.0   \n",
       "354194      20000                  1       7.0   33.0          1.0   \n",
       "354195     125000                  3       6.0   32.0          0.0   \n",
       "354196     150000                  3       2.0   38.0          0.0   \n",
       "354197     150000                  6       2.0   38.0          1.0   \n",
       "\n",
       "        DateCreated  NumberOfPictures  PostalCode  \n",
       "0              94.0                 0       70435  \n",
       "1              94.0                 0       66954  \n",
       "2              84.0                 0       90480  \n",
       "3              87.0                 0       91074  \n",
       "4             101.0                 0       60437  \n",
       "...             ...               ...         ...  \n",
       "354193         91.0                 0        2694  \n",
       "354194         84.0                 0       39576  \n",
       "354195         75.0                 0       26135  \n",
       "354196         89.0                 0       87439  \n",
       "354197         90.0                 0       40764  \n",
       "\n",
       "[354198 rows x 14 columns]"
      ]
     },
     "execution_count": 22,
     "metadata": {},
     "output_type": "execute_result"
    }
   ],
   "source": [
    "df_prepared"
   ]
  },
  {
   "cell_type": "markdown",
   "metadata": {},
   "source": [
    "### Data split on train, valid and test samples"
   ]
  },
  {
   "cell_type": "code",
   "execution_count": 23,
   "metadata": {},
   "outputs": [],
   "source": [
    "target = df_prepared['Price']\n",
    "features = df_prepared.drop(columns='Price')"
   ]
  },
  {
   "cell_type": "code",
   "execution_count": 24,
   "metadata": {},
   "outputs": [],
   "source": [
    "features_train, features_valid,target_train,target_valid = train_test_split(features,target, test_size=0.4,random_state=12345)"
   ]
  },
  {
   "cell_type": "code",
   "execution_count": 25,
   "metadata": {},
   "outputs": [],
   "source": [
    "features_valid, features_test,target_valid,target_test = train_test_split(features_valid,target_valid, test_size=0.5,random_state=12345)"
   ]
  },
  {
   "cell_type": "markdown",
   "metadata": {},
   "source": [
    "___\n",
    "<a name = 'section_2'> </a>\n",
    "# Models training"
   ]
  },
  {
   "cell_type": "markdown",
   "metadata": {},
   "source": [
    "## Gradient boost model traning"
   ]
  },
  {
   "cell_type": "code",
   "execution_count": 26,
   "metadata": {},
   "outputs": [],
   "source": [
    "param = {\n",
    "    'task': 'train', \n",
    "    'boosting': 'gbdt',\n",
    "    'objective': 'regression',\n",
    "    'num_leaves': 10,\n",
    "    'verbose': -1,\n",
    "    'metric' : 'rmse'}"
   ]
  },
  {
   "cell_type": "code",
   "execution_count": 27,
   "metadata": {},
   "outputs": [],
   "source": [
    "train_dataset = lgb.Dataset(features_train, target_train, feature_name=features_train.columns.tolist())\n",
    "test_dataset = lgb.Dataset(features_valid, target_valid, feature_name=features_valid.columns.tolist())"
   ]
  },
  {
   "cell_type": "code",
   "execution_count": 28,
   "metadata": {},
   "outputs": [
    {
     "name": "stdout",
     "output_type": "stream",
     "text": [
      "[1]\tvalid_0's rmse: 4244.71\n",
      "[2]\tvalid_0's rmse: 4006.9\n",
      "[3]\tvalid_0's rmse: 3808.11\n",
      "[4]\tvalid_0's rmse: 3621.71\n",
      "[5]\tvalid_0's rmse: 3462.04\n",
      "[6]\tvalid_0's rmse: 3327.68\n",
      "[7]\tvalid_0's rmse: 3208.24\n",
      "[8]\tvalid_0's rmse: 3092.5\n",
      "[9]\tvalid_0's rmse: 2992.35\n",
      "[10]\tvalid_0's rmse: 2910.96\n",
      "[11]\tvalid_0's rmse: 2833.7\n",
      "[12]\tvalid_0's rmse: 2766.88\n",
      "[13]\tvalid_0's rmse: 2710.2\n",
      "[14]\tvalid_0's rmse: 2660.87\n",
      "[15]\tvalid_0's rmse: 2610.16\n",
      "[16]\tvalid_0's rmse: 2568.03\n",
      "[17]\tvalid_0's rmse: 2527.5\n",
      "[18]\tvalid_0's rmse: 2493.92\n",
      "[19]\tvalid_0's rmse: 2462.27\n",
      "[20]\tvalid_0's rmse: 2431.8\n",
      "[21]\tvalid_0's rmse: 2405.78\n",
      "[22]\tvalid_0's rmse: 2383.43\n",
      "[23]\tvalid_0's rmse: 2362.7\n",
      "[24]\tvalid_0's rmse: 2343.73\n",
      "[25]\tvalid_0's rmse: 2326.53\n",
      "CPU times: total: 2.81 s\n",
      "Wall time: 469 ms\n"
     ]
    }
   ],
   "source": [
    "%%time\n",
    "num_round = 25\n",
    "bst = lgb.train(param, train_dataset, num_round,valid_sets= (test_dataset))"
   ]
  },
  {
   "cell_type": "code",
   "execution_count": 29,
   "metadata": {},
   "outputs": [
    {
     "name": "stdout",
     "output_type": "stream",
     "text": [
      "CPU times: total: 250 ms\n",
      "Wall time: 45.9 ms\n"
     ]
    }
   ],
   "source": [
    "%%time\n",
    "bst_pred = bst.predict(features_valid)"
   ]
  },
  {
   "cell_type": "code",
   "execution_count": 30,
   "metadata": {},
   "outputs": [
    {
     "data": {
      "text/plain": [
       "2327.0"
      ]
     },
     "execution_count": 30,
     "metadata": {},
     "output_type": "execute_result"
    }
   ],
   "source": [
    "boost_rms = sqrt(mean_squared_error(target_valid, bst_pred))\n",
    "round(boost_rms,0)"
   ]
  },
  {
   "cell_type": "markdown",
   "metadata": {},
   "source": [
    "## Linear regression model training"
   ]
  },
  {
   "cell_type": "code",
   "execution_count": 31,
   "metadata": {},
   "outputs": [
    {
     "name": "stdout",
     "output_type": "stream",
     "text": [
      "CPU times: total: 625 ms\n",
      "Wall time: 181 ms\n"
     ]
    },
    {
     "data": {
      "text/html": [
       "<style>#sk-container-id-1 {color: black;background-color: white;}#sk-container-id-1 pre{padding: 0;}#sk-container-id-1 div.sk-toggleable {background-color: white;}#sk-container-id-1 label.sk-toggleable__label {cursor: pointer;display: block;width: 100%;margin-bottom: 0;padding: 0.3em;box-sizing: border-box;text-align: center;}#sk-container-id-1 label.sk-toggleable__label-arrow:before {content: \"▸\";float: left;margin-right: 0.25em;color: #696969;}#sk-container-id-1 label.sk-toggleable__label-arrow:hover:before {color: black;}#sk-container-id-1 div.sk-estimator:hover label.sk-toggleable__label-arrow:before {color: black;}#sk-container-id-1 div.sk-toggleable__content {max-height: 0;max-width: 0;overflow: hidden;text-align: left;background-color: #f0f8ff;}#sk-container-id-1 div.sk-toggleable__content pre {margin: 0.2em;color: black;border-radius: 0.25em;background-color: #f0f8ff;}#sk-container-id-1 input.sk-toggleable__control:checked~div.sk-toggleable__content {max-height: 200px;max-width: 100%;overflow: auto;}#sk-container-id-1 input.sk-toggleable__control:checked~label.sk-toggleable__label-arrow:before {content: \"▾\";}#sk-container-id-1 div.sk-estimator input.sk-toggleable__control:checked~label.sk-toggleable__label {background-color: #d4ebff;}#sk-container-id-1 div.sk-label input.sk-toggleable__control:checked~label.sk-toggleable__label {background-color: #d4ebff;}#sk-container-id-1 input.sk-hidden--visually {border: 0;clip: rect(1px 1px 1px 1px);clip: rect(1px, 1px, 1px, 1px);height: 1px;margin: -1px;overflow: hidden;padding: 0;position: absolute;width: 1px;}#sk-container-id-1 div.sk-estimator {font-family: monospace;background-color: #f0f8ff;border: 1px dotted black;border-radius: 0.25em;box-sizing: border-box;margin-bottom: 0.5em;}#sk-container-id-1 div.sk-estimator:hover {background-color: #d4ebff;}#sk-container-id-1 div.sk-parallel-item::after {content: \"\";width: 100%;border-bottom: 1px solid gray;flex-grow: 1;}#sk-container-id-1 div.sk-label:hover label.sk-toggleable__label {background-color: #d4ebff;}#sk-container-id-1 div.sk-serial::before {content: \"\";position: absolute;border-left: 1px solid gray;box-sizing: border-box;top: 0;bottom: 0;left: 50%;z-index: 0;}#sk-container-id-1 div.sk-serial {display: flex;flex-direction: column;align-items: center;background-color: white;padding-right: 0.2em;padding-left: 0.2em;position: relative;}#sk-container-id-1 div.sk-item {position: relative;z-index: 1;}#sk-container-id-1 div.sk-parallel {display: flex;align-items: stretch;justify-content: center;background-color: white;position: relative;}#sk-container-id-1 div.sk-item::before, #sk-container-id-1 div.sk-parallel-item::before {content: \"\";position: absolute;border-left: 1px solid gray;box-sizing: border-box;top: 0;bottom: 0;left: 50%;z-index: -1;}#sk-container-id-1 div.sk-parallel-item {display: flex;flex-direction: column;z-index: 1;position: relative;background-color: white;}#sk-container-id-1 div.sk-parallel-item:first-child::after {align-self: flex-end;width: 50%;}#sk-container-id-1 div.sk-parallel-item:last-child::after {align-self: flex-start;width: 50%;}#sk-container-id-1 div.sk-parallel-item:only-child::after {width: 0;}#sk-container-id-1 div.sk-dashed-wrapped {border: 1px dashed gray;margin: 0 0.4em 0.5em 0.4em;box-sizing: border-box;padding-bottom: 0.4em;background-color: white;}#sk-container-id-1 div.sk-label label {font-family: monospace;font-weight: bold;display: inline-block;line-height: 1.2em;}#sk-container-id-1 div.sk-label-container {text-align: center;}#sk-container-id-1 div.sk-container {/* jupyter's `normalize.less` sets `[hidden] { display: none; }` but bootstrap.min.css set `[hidden] { display: none !important; }` so we also need the `!important` here to be able to override the default hidden behavior on the sphinx rendered scikit-learn.org. See: https://github.com/scikit-learn/scikit-learn/issues/21755 */display: inline-block !important;position: relative;}#sk-container-id-1 div.sk-text-repr-fallback {display: none;}</style><div id=\"sk-container-id-1\" class=\"sk-top-container\"><div class=\"sk-text-repr-fallback\"><pre>LinearRegression()</pre><b>In a Jupyter environment, please rerun this cell to show the HTML representation or trust the notebook. <br />On GitHub, the HTML representation is unable to render, please try loading this page with nbviewer.org.</b></div><div class=\"sk-container\" hidden><div class=\"sk-item\"><div class=\"sk-estimator sk-toggleable\"><input class=\"sk-toggleable__control sk-hidden--visually\" id=\"sk-estimator-id-1\" type=\"checkbox\" checked><label for=\"sk-estimator-id-1\" class=\"sk-toggleable__label sk-toggleable__label-arrow\">LinearRegression</label><div class=\"sk-toggleable__content\"><pre>LinearRegression()</pre></div></div></div></div></div>"
      ],
      "text/plain": [
       "LinearRegression()"
      ]
     },
     "execution_count": 31,
     "metadata": {},
     "output_type": "execute_result"
    }
   ],
   "source": [
    "%%time\n",
    "LR_model = LinearRegression()\n",
    "LR_model.fit(features_train,target_train)"
   ]
  },
  {
   "cell_type": "code",
   "execution_count": 32,
   "metadata": {
    "scrolled": true
   },
   "outputs": [
    {
     "name": "stdout",
     "output_type": "stream",
     "text": [
      "CPU times: total: 15.6 ms\n",
      "Wall time: 11 ms\n"
     ]
    }
   ],
   "source": [
    "%%time\n",
    "LR_prediction = LR_model.predict(features_valid)"
   ]
  },
  {
   "cell_type": "code",
   "execution_count": 33,
   "metadata": {},
   "outputs": [
    {
     "data": {
      "text/plain": [
       "3466.0"
      ]
     },
     "execution_count": 33,
     "metadata": {},
     "output_type": "execute_result"
    }
   ],
   "source": [
    "LR_rms = mean_squared_error(target_valid, LR_prediction,squared = False)\n",
    "round(LR_rms,0)"
   ]
  },
  {
   "cell_type": "markdown",
   "metadata": {},
   "source": [
    "## Random forest model training"
   ]
  },
  {
   "cell_type": "code",
   "execution_count": 34,
   "metadata": {},
   "outputs": [
    {
     "name": "stdout",
     "output_type": "stream",
     "text": [
      "CPU times: total: 41 s\n",
      "Wall time: 41 s\n"
     ]
    },
    {
     "data": {
      "text/html": [
       "<style>#sk-container-id-2 {color: black;background-color: white;}#sk-container-id-2 pre{padding: 0;}#sk-container-id-2 div.sk-toggleable {background-color: white;}#sk-container-id-2 label.sk-toggleable__label {cursor: pointer;display: block;width: 100%;margin-bottom: 0;padding: 0.3em;box-sizing: border-box;text-align: center;}#sk-container-id-2 label.sk-toggleable__label-arrow:before {content: \"▸\";float: left;margin-right: 0.25em;color: #696969;}#sk-container-id-2 label.sk-toggleable__label-arrow:hover:before {color: black;}#sk-container-id-2 div.sk-estimator:hover label.sk-toggleable__label-arrow:before {color: black;}#sk-container-id-2 div.sk-toggleable__content {max-height: 0;max-width: 0;overflow: hidden;text-align: left;background-color: #f0f8ff;}#sk-container-id-2 div.sk-toggleable__content pre {margin: 0.2em;color: black;border-radius: 0.25em;background-color: #f0f8ff;}#sk-container-id-2 input.sk-toggleable__control:checked~div.sk-toggleable__content {max-height: 200px;max-width: 100%;overflow: auto;}#sk-container-id-2 input.sk-toggleable__control:checked~label.sk-toggleable__label-arrow:before {content: \"▾\";}#sk-container-id-2 div.sk-estimator input.sk-toggleable__control:checked~label.sk-toggleable__label {background-color: #d4ebff;}#sk-container-id-2 div.sk-label input.sk-toggleable__control:checked~label.sk-toggleable__label {background-color: #d4ebff;}#sk-container-id-2 input.sk-hidden--visually {border: 0;clip: rect(1px 1px 1px 1px);clip: rect(1px, 1px, 1px, 1px);height: 1px;margin: -1px;overflow: hidden;padding: 0;position: absolute;width: 1px;}#sk-container-id-2 div.sk-estimator {font-family: monospace;background-color: #f0f8ff;border: 1px dotted black;border-radius: 0.25em;box-sizing: border-box;margin-bottom: 0.5em;}#sk-container-id-2 div.sk-estimator:hover {background-color: #d4ebff;}#sk-container-id-2 div.sk-parallel-item::after {content: \"\";width: 100%;border-bottom: 1px solid gray;flex-grow: 1;}#sk-container-id-2 div.sk-label:hover label.sk-toggleable__label {background-color: #d4ebff;}#sk-container-id-2 div.sk-serial::before {content: \"\";position: absolute;border-left: 1px solid gray;box-sizing: border-box;top: 0;bottom: 0;left: 50%;z-index: 0;}#sk-container-id-2 div.sk-serial {display: flex;flex-direction: column;align-items: center;background-color: white;padding-right: 0.2em;padding-left: 0.2em;position: relative;}#sk-container-id-2 div.sk-item {position: relative;z-index: 1;}#sk-container-id-2 div.sk-parallel {display: flex;align-items: stretch;justify-content: center;background-color: white;position: relative;}#sk-container-id-2 div.sk-item::before, #sk-container-id-2 div.sk-parallel-item::before {content: \"\";position: absolute;border-left: 1px solid gray;box-sizing: border-box;top: 0;bottom: 0;left: 50%;z-index: -1;}#sk-container-id-2 div.sk-parallel-item {display: flex;flex-direction: column;z-index: 1;position: relative;background-color: white;}#sk-container-id-2 div.sk-parallel-item:first-child::after {align-self: flex-end;width: 50%;}#sk-container-id-2 div.sk-parallel-item:last-child::after {align-self: flex-start;width: 50%;}#sk-container-id-2 div.sk-parallel-item:only-child::after {width: 0;}#sk-container-id-2 div.sk-dashed-wrapped {border: 1px dashed gray;margin: 0 0.4em 0.5em 0.4em;box-sizing: border-box;padding-bottom: 0.4em;background-color: white;}#sk-container-id-2 div.sk-label label {font-family: monospace;font-weight: bold;display: inline-block;line-height: 1.2em;}#sk-container-id-2 div.sk-label-container {text-align: center;}#sk-container-id-2 div.sk-container {/* jupyter's `normalize.less` sets `[hidden] { display: none; }` but bootstrap.min.css set `[hidden] { display: none !important; }` so we also need the `!important` here to be able to override the default hidden behavior on the sphinx rendered scikit-learn.org. See: https://github.com/scikit-learn/scikit-learn/issues/21755 */display: inline-block !important;position: relative;}#sk-container-id-2 div.sk-text-repr-fallback {display: none;}</style><div id=\"sk-container-id-2\" class=\"sk-top-container\"><div class=\"sk-text-repr-fallback\"><pre>RandomForestRegressor(max_depth=10, max_features=10, random_state=12345)</pre><b>In a Jupyter environment, please rerun this cell to show the HTML representation or trust the notebook. <br />On GitHub, the HTML representation is unable to render, please try loading this page with nbviewer.org.</b></div><div class=\"sk-container\" hidden><div class=\"sk-item\"><div class=\"sk-estimator sk-toggleable\"><input class=\"sk-toggleable__control sk-hidden--visually\" id=\"sk-estimator-id-2\" type=\"checkbox\" checked><label for=\"sk-estimator-id-2\" class=\"sk-toggleable__label sk-toggleable__label-arrow\">RandomForestRegressor</label><div class=\"sk-toggleable__content\"><pre>RandomForestRegressor(max_depth=10, max_features=10, random_state=12345)</pre></div></div></div></div></div>"
      ],
      "text/plain": [
       "RandomForestRegressor(max_depth=10, max_features=10, random_state=12345)"
      ]
     },
     "execution_count": 34,
     "metadata": {},
     "output_type": "execute_result"
    }
   ],
   "source": [
    "%%time\n",
    "model_RF = RandomForestRegressor(n_estimators=100, max_depth=10,max_features=10, random_state=12345)\n",
    "model_RF.fit(features_train,target_train)"
   ]
  },
  {
   "cell_type": "code",
   "execution_count": 35,
   "metadata": {},
   "outputs": [],
   "source": [
    "RF_predictions = model_RF.predict(features_valid)"
   ]
  },
  {
   "cell_type": "code",
   "execution_count": 36,
   "metadata": {},
   "outputs": [
    {
     "data": {
      "text/plain": [
       "1995.0"
      ]
     },
     "execution_count": 36,
     "metadata": {},
     "output_type": "execute_result"
    }
   ],
   "source": [
    "RF_rms = mean_squared_error(target_valid, RF_predictions,squared = False)\n",
    "round(RF_rms,0)"
   ]
  },
  {
   "cell_type": "markdown",
   "metadata": {},
   "source": [
    "___\n",
    "<a name = 'section_3'></a>\n",
    "# Models comparison"
   ]
  },
  {
   "cell_type": "code",
   "execution_count": 37,
   "metadata": {},
   "outputs": [
    {
     "name": "stdout",
     "output_type": "stream",
     "text": [
      "CPU times: total: 15.6 ms\n",
      "Wall time: 7.98 ms\n"
     ]
    }
   ],
   "source": [
    "%%time\n",
    "LR_prediction_test = LR_model.predict(features_test)"
   ]
  },
  {
   "cell_type": "code",
   "execution_count": 38,
   "metadata": {
    "scrolled": false
   },
   "outputs": [
    {
     "data": {
      "text/plain": [
       "3465.0"
      ]
     },
     "execution_count": 38,
     "metadata": {},
     "output_type": "execute_result"
    }
   ],
   "source": [
    "LR_rms_test = mean_squared_error(target_test, LR_prediction_test,squared = False)\n",
    "round(LR_rms_test,0)"
   ]
  },
  {
   "attachments": {},
   "cell_type": "markdown",
   "metadata": {},
   "source": [
    "### Linear regression model scores:\n",
    "\n",
    "- RMSE: 3465\n",
    "\n",
    "- Training time: 181 milliseconds\n",
    "\n",
    "- Prediction time: 7,98  milliseconds\n",
    "\n",
    "*scores could be different after restart of code"
   ]
  },
  {
   "cell_type": "code",
   "execution_count": 39,
   "metadata": {},
   "outputs": [
    {
     "name": "stdout",
     "output_type": "stream",
     "text": [
      "CPU times: total: 281 ms\n",
      "Wall time: 38.9 ms\n"
     ]
    }
   ],
   "source": [
    "%%time\n",
    "bst_pred_test = bst.predict(features_test)"
   ]
  },
  {
   "cell_type": "code",
   "execution_count": 40,
   "metadata": {},
   "outputs": [
    {
     "data": {
      "text/plain": [
       "2321.0"
      ]
     },
     "execution_count": 40,
     "metadata": {},
     "output_type": "execute_result"
    }
   ],
   "source": [
    "boost_rms = sqrt(mean_squared_error(target_test, bst_pred_test))\n",
    "round(boost_rms,0)"
   ]
  },
  {
   "attachments": {},
   "cell_type": "markdown",
   "metadata": {},
   "source": [
    "### Gradient boosting model scores:\n",
    "\n",
    "- RMSE: 2321\n",
    "\n",
    "- Training time: 45,9 seconds\n",
    "\n",
    "- Prediction time: 38,9  milliseconds\n",
    "\n",
    "*scores could be different after restart of code"
   ]
  },
  {
   "cell_type": "code",
   "execution_count": 41,
   "metadata": {},
   "outputs": [
    {
     "name": "stdout",
     "output_type": "stream",
     "text": [
      "CPU times: total: 1.23 s\n",
      "Wall time: 737 ms\n"
     ]
    }
   ],
   "source": [
    "%%time\n",
    "RF_predictions = model_RF.predict(features_test)"
   ]
  },
  {
   "cell_type": "code",
   "execution_count": 42,
   "metadata": {},
   "outputs": [
    {
     "data": {
      "text/plain": [
       "1994.0"
      ]
     },
     "execution_count": 42,
     "metadata": {},
     "output_type": "execute_result"
    }
   ],
   "source": [
    "RF_rms_test = mean_squared_error(target_test, RF_predictions,squared = False)\n",
    "round(RF_rms_test,0)"
   ]
  },
  {
   "attachments": {},
   "cell_type": "markdown",
   "metadata": {},
   "source": [
    "### Random forest model scores:\n",
    "\n",
    "- RMSE: 1994\n",
    "\n",
    "- Training time: 41 seconds\n",
    "\n",
    "- Prediction time: 737  milliseconds\n",
    "\n",
    "*scores could be different after restart of code"
   ]
  },
  {
   "attachments": {},
   "cell_type": "markdown",
   "metadata": {},
   "source": [
    "___\n",
    "<a name = 'section_4'></a>\n",
    "# General Conclusion\n",
    "\n",
    "Based on the analysis the preferable model is random forest model, however the training time is not the best.\n",
    "\n",
    "If it necessary to reduce the training time, it's possible to do using hyperparameters search, however RMSE score could be worse.\n",
    "\n",
    "Scores of gradient boosting model also could be increased, but it will also increase the trining time."
   ]
  }
 ],
 "metadata": {
  "ExecuteTimeLog": [
   {
    "duration": 456,
    "start_time": "2022-05-17T20:01:39.321Z"
   },
   {
    "duration": 1264,
    "start_time": "2022-05-17T20:02:33.986Z"
   },
   {
    "duration": 19,
    "start_time": "2022-05-17T20:02:41.149Z"
   },
   {
    "duration": 801,
    "start_time": "2022-05-17T20:02:58.975Z"
   },
   {
    "duration": 13,
    "start_time": "2022-05-17T20:02:59.778Z"
   },
   {
    "duration": 133,
    "start_time": "2022-05-17T20:03:07.107Z"
   },
   {
    "duration": 137,
    "start_time": "2022-05-17T20:05:00.577Z"
   },
   {
    "duration": 77,
    "start_time": "2022-05-17T20:05:15.761Z"
   },
   {
    "duration": 96,
    "start_time": "2022-05-17T20:06:26.160Z"
   },
   {
    "duration": 10,
    "start_time": "2022-05-17T20:07:08.963Z"
   },
   {
    "duration": 9,
    "start_time": "2022-05-17T20:07:17.693Z"
   },
   {
    "duration": 8,
    "start_time": "2022-05-17T20:07:23.657Z"
   },
   {
    "duration": 125,
    "start_time": "2022-05-17T20:07:28.989Z"
   },
   {
    "duration": 132,
    "start_time": "2022-05-17T20:07:36.076Z"
   },
   {
    "duration": 158,
    "start_time": "2022-05-17T20:07:44.582Z"
   },
   {
    "duration": 140,
    "start_time": "2022-05-17T20:09:29.801Z"
   },
   {
    "duration": 8,
    "start_time": "2022-05-17T20:10:08.139Z"
   },
   {
    "duration": 135,
    "start_time": "2022-05-17T20:10:13.466Z"
   },
   {
    "duration": 149,
    "start_time": "2022-05-17T20:10:28.887Z"
   },
   {
    "duration": 140,
    "start_time": "2022-05-17T20:10:33.527Z"
   },
   {
    "duration": 130,
    "start_time": "2022-05-17T20:10:41.864Z"
   },
   {
    "duration": 22,
    "start_time": "2022-05-17T20:11:56.617Z"
   },
   {
    "duration": 13,
    "start_time": "2022-05-17T20:12:05.800Z"
   },
   {
    "duration": 1101,
    "start_time": "2022-05-18T13:43:41.293Z"
   },
   {
    "duration": 3040,
    "start_time": "2022-05-18T13:44:44.061Z"
   },
   {
    "duration": 36,
    "start_time": "2022-05-18T13:44:47.103Z"
   },
   {
    "duration": 158,
    "start_time": "2022-05-18T13:44:47.141Z"
   },
   {
    "duration": 128,
    "start_time": "2022-05-18T13:44:47.302Z"
   },
   {
    "duration": 134,
    "start_time": "2022-05-18T13:44:58.105Z"
   },
   {
    "duration": 143,
    "start_time": "2022-05-18T13:48:20.209Z"
   },
   {
    "duration": 42,
    "start_time": "2022-05-18T13:51:46.408Z"
   },
   {
    "duration": 16,
    "start_time": "2022-05-18T13:51:53.300Z"
   },
   {
    "duration": 31,
    "start_time": "2022-05-18T13:52:47.538Z"
   },
   {
    "duration": 32,
    "start_time": "2022-05-18T13:53:15.442Z"
   },
   {
    "duration": 34,
    "start_time": "2022-05-18T13:55:35.243Z"
   },
   {
    "duration": 23,
    "start_time": "2022-05-18T13:56:25.295Z"
   },
   {
    "duration": 123,
    "start_time": "2022-05-18T13:56:46.345Z"
   },
   {
    "duration": 16,
    "start_time": "2022-05-18T13:56:53.209Z"
   },
   {
    "duration": 13,
    "start_time": "2022-05-18T13:57:02.525Z"
   },
   {
    "duration": 12,
    "start_time": "2022-05-18T13:57:30.031Z"
   },
   {
    "duration": 43,
    "start_time": "2022-05-18T13:57:34.938Z"
   },
   {
    "duration": 36,
    "start_time": "2022-05-18T13:57:38.994Z"
   },
   {
    "duration": 12,
    "start_time": "2022-05-18T13:57:52.738Z"
   },
   {
    "duration": 11,
    "start_time": "2022-05-18T13:57:56.897Z"
   },
   {
    "duration": 36,
    "start_time": "2022-05-18T13:58:12.302Z"
   },
   {
    "duration": 118,
    "start_time": "2022-05-18T13:58:24.237Z"
   },
   {
    "duration": 12,
    "start_time": "2022-05-18T13:59:28.647Z"
   },
   {
    "duration": 41,
    "start_time": "2022-05-18T13:59:50.435Z"
   },
   {
    "duration": 25,
    "start_time": "2022-05-18T14:00:55.907Z"
   },
   {
    "duration": 31,
    "start_time": "2022-05-18T14:02:03.727Z"
   },
   {
    "duration": 32,
    "start_time": "2022-05-18T14:02:52.543Z"
   },
   {
    "duration": 48,
    "start_time": "2022-05-18T14:02:55.275Z"
   },
   {
    "duration": 15,
    "start_time": "2022-05-18T14:02:57.300Z"
   },
   {
    "duration": 147,
    "start_time": "2022-05-18T14:02:59.891Z"
   },
   {
    "duration": 144,
    "start_time": "2022-05-18T14:03:20.411Z"
   },
   {
    "duration": 365,
    "start_time": "2022-05-18T14:04:58.754Z"
   },
   {
    "duration": 109,
    "start_time": "2022-05-18T14:05:28.330Z"
   },
   {
    "duration": 502,
    "start_time": "2022-05-18T14:05:38.695Z"
   },
   {
    "duration": 36,
    "start_time": "2022-05-18T14:05:58.668Z"
   },
   {
    "duration": 599,
    "start_time": "2022-05-18T14:06:01.547Z"
   },
   {
    "duration": 606,
    "start_time": "2022-05-18T14:06:21.466Z"
   },
   {
    "duration": 486,
    "start_time": "2022-05-18T14:06:35.365Z"
   },
   {
    "duration": 12,
    "start_time": "2022-05-18T14:08:32.192Z"
   },
   {
    "duration": 414,
    "start_time": "2022-05-18T14:10:40.745Z"
   },
   {
    "duration": 79,
    "start_time": "2022-05-18T14:11:38.558Z"
   },
   {
    "duration": 6,
    "start_time": "2022-05-18T14:11:45.624Z"
   },
   {
    "duration": 100,
    "start_time": "2022-05-18T14:11:59.693Z"
   },
   {
    "duration": 26,
    "start_time": "2022-05-18T14:12:05.330Z"
   },
   {
    "duration": 18,
    "start_time": "2022-05-18T14:12:35.796Z"
   },
   {
    "duration": 33,
    "start_time": "2022-05-18T14:12:36.102Z"
   },
   {
    "duration": 90,
    "start_time": "2022-05-18T14:12:45.736Z"
   },
   {
    "duration": 62,
    "start_time": "2022-05-18T14:13:10.123Z"
   },
   {
    "duration": 17,
    "start_time": "2022-05-18T14:13:33.048Z"
   },
   {
    "duration": 40,
    "start_time": "2022-05-18T14:13:36.888Z"
   },
   {
    "duration": 56,
    "start_time": "2022-05-18T14:13:40.054Z"
   },
   {
    "duration": 13,
    "start_time": "2022-05-18T14:13:47.392Z"
   },
   {
    "duration": 1035,
    "start_time": "2022-05-18T14:14:07.260Z"
   },
   {
    "duration": 1048,
    "start_time": "2022-05-18T14:14:08.297Z"
   },
   {
    "duration": 24,
    "start_time": "2022-05-18T14:14:09.348Z"
   },
   {
    "duration": 179,
    "start_time": "2022-05-18T14:14:09.374Z"
   },
   {
    "duration": 131,
    "start_time": "2022-05-18T14:14:27.601Z"
   },
   {
    "duration": 137,
    "start_time": "2022-05-18T14:14:27.872Z"
   },
   {
    "duration": 4,
    "start_time": "2022-05-18T14:14:28.881Z"
   },
   {
    "duration": 30,
    "start_time": "2022-05-18T14:14:44.644Z"
   },
   {
    "duration": 16,
    "start_time": "2022-05-18T14:14:46.510Z"
   },
   {
    "duration": 108,
    "start_time": "2022-05-18T14:14:51.769Z"
   },
   {
    "duration": 564,
    "start_time": "2022-05-18T14:15:31.992Z"
   },
   {
    "duration": 89,
    "start_time": "2022-05-18T14:19:03.784Z"
   },
   {
    "duration": 6,
    "start_time": "2022-05-18T14:19:57.152Z"
   },
   {
    "duration": 22,
    "start_time": "2022-05-18T14:20:03.480Z"
   },
   {
    "duration": 69,
    "start_time": "2022-05-18T14:22:33.249Z"
   },
   {
    "duration": 267,
    "start_time": "2022-05-18T14:22:51.785Z"
   },
   {
    "duration": 73,
    "start_time": "2022-05-18T14:23:10.043Z"
   },
   {
    "duration": 55,
    "start_time": "2022-05-18T14:23:17.143Z"
   },
   {
    "duration": 73,
    "start_time": "2022-05-18T14:23:21.000Z"
   },
   {
    "duration": 74,
    "start_time": "2022-05-18T14:23:30.761Z"
   },
   {
    "duration": 110,
    "start_time": "2022-05-18T14:23:46.044Z"
   },
   {
    "duration": 66,
    "start_time": "2022-05-18T14:24:55.905Z"
   },
   {
    "duration": 77,
    "start_time": "2022-05-18T14:25:13.298Z"
   },
   {
    "duration": 94,
    "start_time": "2022-05-18T14:25:23.942Z"
   },
   {
    "duration": 50,
    "start_time": "2022-05-18T14:25:38.769Z"
   },
   {
    "duration": 53,
    "start_time": "2022-05-18T14:25:49.457Z"
   },
   {
    "duration": 54,
    "start_time": "2022-05-18T14:25:57.498Z"
   },
   {
    "duration": 18,
    "start_time": "2022-05-18T14:27:32.262Z"
   },
   {
    "duration": 20,
    "start_time": "2022-05-18T14:27:42.872Z"
   },
   {
    "duration": 10,
    "start_time": "2022-05-18T14:35:37.638Z"
   },
   {
    "duration": 26,
    "start_time": "2022-05-18T14:35:52.766Z"
   },
   {
    "duration": 18,
    "start_time": "2022-05-18T14:36:07.438Z"
   },
   {
    "duration": 325,
    "start_time": "2022-05-18T14:36:26.142Z"
   },
   {
    "duration": 31,
    "start_time": "2022-05-18T14:37:03.778Z"
   },
   {
    "duration": 24,
    "start_time": "2022-05-18T14:37:15.253Z"
   },
   {
    "duration": 1222,
    "start_time": "2022-05-18T14:38:09.425Z"
   },
   {
    "duration": 3401,
    "start_time": "2022-05-18T14:38:10.649Z"
   },
   {
    "duration": 19,
    "start_time": "2022-05-18T14:38:14.052Z"
   },
   {
    "duration": 176,
    "start_time": "2022-05-18T14:38:14.073Z"
   },
   {
    "duration": 109,
    "start_time": "2022-05-18T14:38:14.253Z"
   },
   {
    "duration": 31,
    "start_time": "2022-05-18T14:38:14.364Z"
   },
   {
    "duration": 39,
    "start_time": "2022-05-18T14:38:14.398Z"
   },
   {
    "duration": 102,
    "start_time": "2022-05-18T14:38:14.439Z"
   },
   {
    "duration": 397,
    "start_time": "2022-05-18T14:38:14.542Z"
   },
   {
    "duration": 18,
    "start_time": "2022-05-18T14:38:14.944Z"
   },
   {
    "duration": 1247,
    "start_time": "2022-05-18T14:42:20.846Z"
   },
   {
    "duration": 1101,
    "start_time": "2022-05-18T14:42:29.663Z"
   },
   {
    "duration": 20,
    "start_time": "2022-05-18T14:42:50.306Z"
   },
   {
    "duration": 23,
    "start_time": "2022-05-18T14:42:59.945Z"
   },
   {
    "duration": 27,
    "start_time": "2022-05-18T14:43:07.819Z"
   },
   {
    "duration": 23,
    "start_time": "2022-05-18T14:43:38.011Z"
   },
   {
    "duration": 14,
    "start_time": "2022-05-18T14:44:02.802Z"
   },
   {
    "duration": 9,
    "start_time": "2022-05-18T14:44:05.698Z"
   },
   {
    "duration": 66,
    "start_time": "2022-05-18T14:44:14.940Z"
   },
   {
    "duration": 77,
    "start_time": "2022-05-18T14:44:24.147Z"
   },
   {
    "duration": 69,
    "start_time": "2022-05-18T14:44:32.322Z"
   },
   {
    "duration": 10,
    "start_time": "2022-05-18T14:44:35.846Z"
   },
   {
    "duration": 14,
    "start_time": "2022-05-18T14:45:27.694Z"
   },
   {
    "duration": 15,
    "start_time": "2022-05-18T14:45:33.550Z"
   },
   {
    "duration": 6,
    "start_time": "2022-05-18T14:45:38.955Z"
   },
   {
    "duration": 14,
    "start_time": "2022-05-18T14:47:36.294Z"
   },
   {
    "duration": 17,
    "start_time": "2022-05-18T14:48:07.107Z"
   },
   {
    "duration": 4,
    "start_time": "2022-05-18T14:48:13.160Z"
   },
   {
    "duration": 11,
    "start_time": "2022-05-18T14:48:17.373Z"
   },
   {
    "duration": 15,
    "start_time": "2022-05-18T14:48:48.511Z"
   },
   {
    "duration": 13,
    "start_time": "2022-05-18T14:49:02.042Z"
   },
   {
    "duration": 12,
    "start_time": "2022-05-18T14:49:09.471Z"
   },
   {
    "duration": 18,
    "start_time": "2022-05-18T14:49:19.910Z"
   },
   {
    "duration": 13,
    "start_time": "2022-05-18T14:51:02.746Z"
   },
   {
    "duration": 16,
    "start_time": "2022-05-18T14:51:09.510Z"
   },
   {
    "duration": 44,
    "start_time": "2022-05-18T14:51:16.544Z"
   },
   {
    "duration": 23,
    "start_time": "2022-05-18T14:51:36.247Z"
   },
   {
    "duration": 95,
    "start_time": "2022-05-18T14:51:54.162Z"
   },
   {
    "duration": 27,
    "start_time": "2022-05-18T14:51:57.445Z"
   },
   {
    "duration": 74,
    "start_time": "2022-05-18T14:52:30.122Z"
   },
   {
    "duration": 15,
    "start_time": "2022-05-18T14:52:30.841Z"
   },
   {
    "duration": 32,
    "start_time": "2022-05-18T14:54:11.766Z"
   },
   {
    "duration": 32,
    "start_time": "2022-05-18T14:55:40.285Z"
   },
   {
    "duration": 159,
    "start_time": "2022-05-18T14:55:45.468Z"
   },
   {
    "duration": 30,
    "start_time": "2022-05-18T14:55:52.854Z"
   },
   {
    "duration": 30,
    "start_time": "2022-05-18T14:56:03.949Z"
   },
   {
    "duration": 20,
    "start_time": "2022-05-18T14:59:49.252Z"
   },
   {
    "duration": 16,
    "start_time": "2022-05-18T15:00:07.357Z"
   },
   {
    "duration": 12,
    "start_time": "2022-05-18T15:00:50.842Z"
   },
   {
    "duration": 62,
    "start_time": "2022-05-18T15:01:05.038Z"
   },
   {
    "duration": 41,
    "start_time": "2022-05-18T15:01:13.008Z"
   },
   {
    "duration": 129,
    "start_time": "2022-05-18T15:01:25.854Z"
   },
   {
    "duration": 141,
    "start_time": "2022-05-18T15:01:57.146Z"
   },
   {
    "duration": 136,
    "start_time": "2022-05-18T15:02:02.043Z"
   },
   {
    "duration": 26,
    "start_time": "2022-05-18T15:02:04.241Z"
   },
   {
    "duration": 1158,
    "start_time": "2022-05-18T15:03:50.406Z"
   },
   {
    "duration": 3,
    "start_time": "2022-05-18T15:03:54.698Z"
   },
   {
    "duration": 1065,
    "start_time": "2022-05-18T15:03:54.975Z"
   },
   {
    "duration": 28,
    "start_time": "2022-05-18T15:03:56.043Z"
   },
   {
    "duration": 225,
    "start_time": "2022-05-18T15:03:56.073Z"
   },
   {
    "duration": 145,
    "start_time": "2022-05-18T15:03:56.301Z"
   },
   {
    "duration": 34,
    "start_time": "2022-05-18T15:03:56.450Z"
   },
   {
    "duration": 15,
    "start_time": "2022-05-18T15:04:01.567Z"
   },
   {
    "duration": 97,
    "start_time": "2022-05-18T15:04:03.729Z"
   },
   {
    "duration": 143,
    "start_time": "2022-05-18T15:04:05.164Z"
   },
   {
    "duration": 25,
    "start_time": "2022-05-18T15:04:06.395Z"
   },
   {
    "duration": 66,
    "start_time": "2022-05-18T15:04:45.490Z"
   },
   {
    "duration": 28,
    "start_time": "2022-05-18T15:04:56.960Z"
   },
   {
    "duration": 143,
    "start_time": "2022-05-18T15:05:29.549Z"
   },
   {
    "duration": 38,
    "start_time": "2022-05-18T15:05:35.606Z"
   },
   {
    "duration": 8,
    "start_time": "2022-05-18T15:05:54.299Z"
   },
   {
    "duration": 126,
    "start_time": "2022-05-18T15:06:39.045Z"
   },
   {
    "duration": 26,
    "start_time": "2022-05-18T15:06:47.638Z"
   },
   {
    "duration": 16,
    "start_time": "2022-05-18T15:06:58.445Z"
   },
   {
    "duration": 104,
    "start_time": "2022-05-18T15:09:30.084Z"
   },
   {
    "duration": 1067,
    "start_time": "2022-05-18T15:11:18.253Z"
   },
   {
    "duration": 940,
    "start_time": "2022-05-18T15:11:19.322Z"
   },
   {
    "duration": 21,
    "start_time": "2022-05-18T15:11:20.264Z"
   },
   {
    "duration": 195,
    "start_time": "2022-05-18T15:11:20.286Z"
   },
   {
    "duration": 158,
    "start_time": "2022-05-18T15:11:20.484Z"
   },
   {
    "duration": 31,
    "start_time": "2022-05-18T15:11:24.949Z"
   },
   {
    "duration": 13,
    "start_time": "2022-05-18T15:11:25.248Z"
   },
   {
    "duration": 92,
    "start_time": "2022-05-18T15:11:25.632Z"
   },
   {
    "duration": 20,
    "start_time": "2022-05-18T15:11:27.411Z"
   },
   {
    "duration": 6,
    "start_time": "2022-05-18T15:11:45.499Z"
   },
   {
    "duration": 132,
    "start_time": "2022-05-18T15:11:50.998Z"
   },
   {
    "duration": 20,
    "start_time": "2022-05-18T15:11:52.187Z"
   },
   {
    "duration": 9,
    "start_time": "2022-05-18T15:11:55.696Z"
   },
   {
    "duration": 6,
    "start_time": "2022-05-18T15:12:05.093Z"
   },
   {
    "duration": 118,
    "start_time": "2022-05-18T15:12:07.802Z"
   },
   {
    "duration": 99,
    "start_time": "2022-05-18T15:12:08.686Z"
   },
   {
    "duration": 19,
    "start_time": "2022-05-18T15:15:17.121Z"
   },
   {
    "duration": 99,
    "start_time": "2022-05-18T15:15:22.344Z"
   },
   {
    "duration": 378,
    "start_time": "2022-05-18T15:18:47.667Z"
   },
   {
    "duration": 16,
    "start_time": "2022-05-18T15:25:44.402Z"
   },
   {
    "duration": 84,
    "start_time": "2022-05-18T15:25:51.938Z"
   },
   {
    "duration": 48,
    "start_time": "2022-05-18T15:25:54.305Z"
   },
   {
    "duration": 111,
    "start_time": "2022-05-18T15:27:25.746Z"
   },
   {
    "duration": 37,
    "start_time": "2022-05-18T15:27:28.723Z"
   },
   {
    "duration": 107,
    "start_time": "2022-05-18T15:27:40.378Z"
   },
   {
    "duration": 47,
    "start_time": "2022-05-18T15:27:43.376Z"
   },
   {
    "duration": 19,
    "start_time": "2022-05-18T15:28:17.563Z"
   },
   {
    "duration": 33,
    "start_time": "2022-05-18T15:28:25.041Z"
   },
   {
    "duration": 94,
    "start_time": "2022-05-18T15:33:48.942Z"
   },
   {
    "duration": 16,
    "start_time": "2022-05-18T15:33:50.355Z"
   },
   {
    "duration": 1172,
    "start_time": "2022-05-21T15:26:43.262Z"
   },
   {
    "duration": 3305,
    "start_time": "2022-05-21T15:26:44.437Z"
   },
   {
    "duration": 22,
    "start_time": "2022-05-21T15:26:47.744Z"
   },
   {
    "duration": 161,
    "start_time": "2022-05-21T15:26:47.768Z"
   },
   {
    "duration": 139,
    "start_time": "2022-05-21T15:26:47.932Z"
   },
   {
    "duration": 48,
    "start_time": "2022-05-21T15:26:48.073Z"
   },
   {
    "duration": 22,
    "start_time": "2022-05-21T15:26:48.123Z"
   },
   {
    "duration": 126,
    "start_time": "2022-05-21T15:26:48.147Z"
   },
   {
    "duration": 36,
    "start_time": "2022-05-21T15:26:48.277Z"
   },
   {
    "duration": 146,
    "start_time": "2022-05-21T15:26:48.316Z"
   },
   {
    "duration": 21,
    "start_time": "2022-05-21T15:26:48.463Z"
   },
   {
    "duration": 30,
    "start_time": "2022-05-21T15:27:04.094Z"
   },
   {
    "duration": 118,
    "start_time": "2022-05-21T15:27:05.518Z"
   },
   {
    "duration": 1166,
    "start_time": "2022-05-21T15:27:12.491Z"
   },
   {
    "duration": 969,
    "start_time": "2022-05-21T15:27:13.659Z"
   },
   {
    "duration": 20,
    "start_time": "2022-05-21T15:27:14.630Z"
   },
   {
    "duration": 190,
    "start_time": "2022-05-21T15:27:14.652Z"
   },
   {
    "duration": 124,
    "start_time": "2022-05-21T15:27:14.844Z"
   },
   {
    "duration": 47,
    "start_time": "2022-05-21T15:27:14.970Z"
   },
   {
    "duration": 13,
    "start_time": "2022-05-21T15:27:15.019Z"
   },
   {
    "duration": 105,
    "start_time": "2022-05-21T15:27:15.034Z"
   },
   {
    "duration": 10,
    "start_time": "2022-05-21T15:27:15.141Z"
   },
   {
    "duration": 188,
    "start_time": "2022-05-21T15:27:15.153Z"
   },
   {
    "duration": 41,
    "start_time": "2022-05-21T15:27:15.344Z"
   },
   {
    "duration": 10,
    "start_time": "2022-05-21T15:27:15.387Z"
   },
   {
    "duration": 147,
    "start_time": "2022-05-21T15:27:15.399Z"
   },
   {
    "duration": 99,
    "start_time": "2022-05-21T15:27:15.549Z"
   },
   {
    "duration": 126,
    "start_time": "2022-05-21T15:27:15.650Z"
   },
   {
    "duration": 388,
    "start_time": "2022-05-21T15:27:15.785Z"
   },
   {
    "duration": 37,
    "start_time": "2022-05-21T15:27:16.176Z"
   },
   {
    "duration": 154,
    "start_time": "2022-05-21T15:27:16.216Z"
   },
   {
    "duration": 35,
    "start_time": "2022-05-21T15:27:16.371Z"
   },
   {
    "duration": 135,
    "start_time": "2022-05-21T15:27:16.409Z"
   },
   {
    "duration": 102,
    "start_time": "2022-05-21T15:28:25.021Z"
   },
   {
    "duration": 21,
    "start_time": "2022-05-21T15:28:25.337Z"
   },
   {
    "duration": 20,
    "start_time": "2022-05-21T15:32:26.106Z"
   },
   {
    "duration": 26,
    "start_time": "2022-05-21T15:32:44.608Z"
   },
   {
    "duration": 7,
    "start_time": "2022-05-21T15:32:50.697Z"
   },
   {
    "duration": 17,
    "start_time": "2022-05-21T15:33:05.983Z"
   },
   {
    "duration": 16,
    "start_time": "2022-05-21T15:33:53.482Z"
   },
   {
    "duration": 80,
    "start_time": "2022-05-21T15:34:03.169Z"
   },
   {
    "duration": 105,
    "start_time": "2022-05-21T15:34:26.205Z"
   },
   {
    "duration": 92,
    "start_time": "2022-05-21T15:34:39.686Z"
   },
   {
    "duration": 75,
    "start_time": "2022-05-21T15:34:43.536Z"
   },
   {
    "duration": 85,
    "start_time": "2022-05-21T15:35:12.088Z"
   },
   {
    "duration": 81,
    "start_time": "2022-05-21T15:36:08.426Z"
   },
   {
    "duration": 13,
    "start_time": "2022-05-21T15:36:16.723Z"
   },
   {
    "duration": 11,
    "start_time": "2022-05-21T15:36:27.061Z"
   },
   {
    "duration": 9,
    "start_time": "2022-05-21T15:37:06.989Z"
   },
   {
    "duration": 9,
    "start_time": "2022-05-21T15:37:11.332Z"
   },
   {
    "duration": 541,
    "start_time": "2022-05-21T15:37:17.378Z"
   },
   {
    "duration": 7,
    "start_time": "2022-05-21T15:37:24.427Z"
   },
   {
    "duration": 33,
    "start_time": "2022-05-21T15:37:30.962Z"
   },
   {
    "duration": 38,
    "start_time": "2022-05-21T15:37:34.513Z"
   },
   {
    "duration": 10,
    "start_time": "2022-05-21T15:37:36.877Z"
   },
   {
    "duration": 12,
    "start_time": "2022-05-21T15:37:41.705Z"
   },
   {
    "duration": 510,
    "start_time": "2022-05-21T15:38:03.800Z"
   },
   {
    "duration": 7,
    "start_time": "2022-05-21T15:38:12.268Z"
   },
   {
    "duration": 14,
    "start_time": "2022-05-21T15:38:29.981Z"
   },
   {
    "duration": 14,
    "start_time": "2022-05-21T15:38:36.464Z"
   },
   {
    "duration": 6,
    "start_time": "2022-05-21T15:38:50.859Z"
   },
   {
    "duration": 16,
    "start_time": "2022-05-21T15:39:56.317Z"
   },
   {
    "duration": 12,
    "start_time": "2022-05-21T15:40:26.314Z"
   },
   {
    "duration": 17,
    "start_time": "2022-05-21T15:40:42.388Z"
   },
   {
    "duration": 36,
    "start_time": "2022-05-21T15:44:32.865Z"
   },
   {
    "duration": 29,
    "start_time": "2022-05-21T15:44:41.457Z"
   },
   {
    "duration": 38,
    "start_time": "2022-05-21T15:44:55.672Z"
   },
   {
    "duration": 69,
    "start_time": "2022-05-21T15:45:03.061Z"
   },
   {
    "duration": 36,
    "start_time": "2022-05-21T15:45:38.880Z"
   },
   {
    "duration": 43,
    "start_time": "2022-05-21T15:46:18.622Z"
   },
   {
    "duration": 13,
    "start_time": "2022-05-21T15:46:24.519Z"
   },
   {
    "duration": 15075,
    "start_time": "2022-05-21T15:46:46.317Z"
   },
   {
    "duration": 76676,
    "start_time": "2022-05-21T15:47:02.861Z"
   },
   {
    "duration": 24661,
    "start_time": "2022-05-21T15:48:30.461Z"
   },
   {
    "duration": 13,
    "start_time": "2022-05-21T15:50:07.999Z"
   },
   {
    "duration": 20,
    "start_time": "2022-05-21T15:51:46.889Z"
   },
   {
    "duration": 20,
    "start_time": "2022-05-21T15:51:51.460Z"
   },
   {
    "duration": 15,
    "start_time": "2022-05-21T15:52:12.862Z"
   },
   {
    "duration": 89,
    "start_time": "2022-05-21T15:59:13.983Z"
   },
   {
    "duration": 72,
    "start_time": "2022-05-21T15:59:35.579Z"
   },
   {
    "duration": 13,
    "start_time": "2022-05-21T15:59:42.976Z"
   },
   {
    "duration": 65,
    "start_time": "2022-05-21T15:59:50.925Z"
   },
   {
    "duration": 47,
    "start_time": "2022-05-21T15:59:54.617Z"
   },
   {
    "duration": 67,
    "start_time": "2022-05-21T15:59:58.955Z"
   },
   {
    "duration": 62,
    "start_time": "2022-05-21T16:00:02.589Z"
   },
   {
    "duration": 80,
    "start_time": "2022-05-21T16:01:03.970Z"
   },
   {
    "duration": 3,
    "start_time": "2022-05-21T16:04:08.131Z"
   },
   {
    "duration": 20,
    "start_time": "2022-05-21T16:04:32.352Z"
   },
   {
    "duration": 21,
    "start_time": "2022-05-21T16:04:36.004Z"
   },
   {
    "duration": 3,
    "start_time": "2022-05-21T16:07:03.799Z"
   },
   {
    "duration": 3,
    "start_time": "2022-05-21T16:11:39.524Z"
   },
   {
    "duration": 18,
    "start_time": "2022-05-21T16:13:44.876Z"
   },
   {
    "duration": 24,
    "start_time": "2022-05-21T16:14:10.829Z"
   },
   {
    "duration": 3,
    "start_time": "2022-05-21T16:14:25.601Z"
   },
   {
    "duration": 28,
    "start_time": "2022-05-21T16:15:34.112Z"
   },
   {
    "duration": 126,
    "start_time": "2022-05-21T16:16:08.194Z"
   },
   {
    "duration": 491,
    "start_time": "2022-05-21T16:16:10.905Z"
   },
   {
    "duration": 6,
    "start_time": "2022-05-21T16:16:19.576Z"
   },
   {
    "duration": 522,
    "start_time": "2022-05-21T16:17:15.693Z"
   },
   {
    "duration": 20,
    "start_time": "2022-05-21T16:17:18.049Z"
   },
   {
    "duration": 38,
    "start_time": "2022-05-21T16:18:47.895Z"
   },
   {
    "duration": 49,
    "start_time": "2022-05-21T16:18:53.488Z"
   },
   {
    "duration": 25,
    "start_time": "2022-05-21T16:19:34.252Z"
   },
   {
    "duration": 68,
    "start_time": "2022-05-21T16:19:56.700Z"
   },
   {
    "duration": 25,
    "start_time": "2022-05-21T16:20:02.556Z"
   },
   {
    "duration": 275,
    "start_time": "2022-05-21T16:20:22.514Z"
   },
   {
    "duration": 70,
    "start_time": "2022-05-21T16:20:26.972Z"
   },
   {
    "duration": 23,
    "start_time": "2022-05-21T16:20:31.050Z"
   },
   {
    "duration": 22,
    "start_time": "2022-05-21T16:21:16.486Z"
   },
   {
    "duration": 13,
    "start_time": "2022-05-21T16:22:42.177Z"
   },
   {
    "duration": 12,
    "start_time": "2022-05-21T16:22:49.001Z"
   },
   {
    "duration": 13,
    "start_time": "2022-05-21T16:22:54.968Z"
   },
   {
    "duration": 4,
    "start_time": "2022-05-21T16:22:58.959Z"
   },
   {
    "duration": 10,
    "start_time": "2022-05-21T16:24:00.282Z"
   },
   {
    "duration": 63,
    "start_time": "2022-05-21T16:24:04.905Z"
   },
   {
    "duration": 3,
    "start_time": "2022-05-21T16:24:20.893Z"
   },
   {
    "duration": 1051,
    "start_time": "2022-05-21T16:24:28.030Z"
   },
   {
    "duration": 897,
    "start_time": "2022-05-21T16:24:29.084Z"
   },
   {
    "duration": 22,
    "start_time": "2022-05-21T16:24:29.982Z"
   },
   {
    "duration": 139,
    "start_time": "2022-05-21T16:24:30.006Z"
   },
   {
    "duration": 119,
    "start_time": "2022-05-21T16:24:30.147Z"
   },
   {
    "duration": 38,
    "start_time": "2022-05-21T16:24:30.267Z"
   },
   {
    "duration": 17,
    "start_time": "2022-05-21T16:24:30.307Z"
   },
   {
    "duration": 88,
    "start_time": "2022-05-21T16:24:30.326Z"
   },
   {
    "duration": 8,
    "start_time": "2022-05-21T16:24:30.416Z"
   },
   {
    "duration": 148,
    "start_time": "2022-05-21T16:24:30.426Z"
   },
   {
    "duration": 28,
    "start_time": "2022-05-21T16:24:30.576Z"
   },
   {
    "duration": 12,
    "start_time": "2022-05-21T16:24:30.606Z"
   },
   {
    "duration": 146,
    "start_time": "2022-05-21T16:24:30.621Z"
   },
   {
    "duration": 104,
    "start_time": "2022-05-21T16:24:30.770Z"
   },
   {
    "duration": 86,
    "start_time": "2022-05-21T16:24:30.882Z"
   },
   {
    "duration": 385,
    "start_time": "2022-05-21T16:24:30.984Z"
   },
   {
    "duration": 112,
    "start_time": "2022-05-21T16:24:31.371Z"
   },
   {
    "duration": 521,
    "start_time": "2022-05-21T16:24:31.485Z"
   },
   {
    "duration": 17,
    "start_time": "2022-05-21T16:24:32.008Z"
   },
   {
    "duration": 98,
    "start_time": "2022-05-21T16:24:32.027Z"
   },
   {
    "duration": 26,
    "start_time": "2022-05-21T16:24:32.127Z"
   },
   {
    "duration": 48,
    "start_time": "2022-05-21T16:24:32.155Z"
   },
   {
    "duration": 91,
    "start_time": "2022-05-21T16:24:32.205Z"
   },
   {
    "duration": 3,
    "start_time": "2022-05-21T16:24:32.299Z"
   },
   {
    "duration": 3,
    "start_time": "2022-05-21T16:26:01.149Z"
   },
   {
    "duration": 3,
    "start_time": "2022-05-21T16:26:07.878Z"
   },
   {
    "duration": 3,
    "start_time": "2022-05-21T16:27:15.007Z"
   },
   {
    "duration": 3,
    "start_time": "2022-05-21T16:28:00.607Z"
   },
   {
    "duration": 112,
    "start_time": "2022-05-21T16:28:48.681Z"
   },
   {
    "duration": 13,
    "start_time": "2022-05-21T16:34:08.554Z"
   },
   {
    "duration": 42,
    "start_time": "2022-05-21T16:34:17.692Z"
   },
   {
    "duration": 13,
    "start_time": "2022-05-21T16:34:22.617Z"
   },
   {
    "duration": 26,
    "start_time": "2022-05-21T16:34:41.911Z"
   },
   {
    "duration": 5,
    "start_time": "2022-05-21T16:34:48.390Z"
   },
   {
    "duration": 5,
    "start_time": "2022-05-21T16:34:53.733Z"
   },
   {
    "duration": 14,
    "start_time": "2022-05-21T16:35:10.105Z"
   },
   {
    "duration": 3,
    "start_time": "2022-05-21T16:35:19.175Z"
   },
   {
    "duration": 20,
    "start_time": "2022-05-21T16:35:58.350Z"
   },
   {
    "duration": 1159,
    "start_time": "2022-05-21T16:37:07.333Z"
   },
   {
    "duration": 973,
    "start_time": "2022-05-21T16:37:08.494Z"
   },
   {
    "duration": 28,
    "start_time": "2022-05-21T16:37:09.468Z"
   },
   {
    "duration": 134,
    "start_time": "2022-05-21T16:37:09.499Z"
   },
   {
    "duration": 143,
    "start_time": "2022-05-21T16:37:09.634Z"
   },
   {
    "duration": 31,
    "start_time": "2022-05-21T16:37:09.779Z"
   },
   {
    "duration": 21,
    "start_time": "2022-05-21T16:37:09.812Z"
   },
   {
    "duration": 75,
    "start_time": "2022-05-21T16:37:09.834Z"
   },
   {
    "duration": 9,
    "start_time": "2022-05-21T16:37:09.911Z"
   },
   {
    "duration": 137,
    "start_time": "2022-05-21T16:37:09.923Z"
   },
   {
    "duration": 28,
    "start_time": "2022-05-21T16:37:10.062Z"
   },
   {
    "duration": 6,
    "start_time": "2022-05-21T16:37:10.092Z"
   },
   {
    "duration": 126,
    "start_time": "2022-05-21T16:37:10.100Z"
   },
   {
    "duration": 102,
    "start_time": "2022-05-21T16:37:10.228Z"
   },
   {
    "duration": 111,
    "start_time": "2022-05-21T16:37:10.331Z"
   },
   {
    "duration": 348,
    "start_time": "2022-05-21T16:37:10.444Z"
   },
   {
    "duration": 157,
    "start_time": "2022-05-21T16:37:10.794Z"
   },
   {
    "duration": 568,
    "start_time": "2022-05-21T16:37:10.953Z"
   },
   {
    "duration": 18,
    "start_time": "2022-05-21T16:37:11.523Z"
   },
   {
    "duration": 98,
    "start_time": "2022-05-21T16:37:11.543Z"
   },
   {
    "duration": 27,
    "start_time": "2022-05-21T16:37:11.643Z"
   },
   {
    "duration": 28,
    "start_time": "2022-05-21T16:37:11.683Z"
   },
   {
    "duration": 101,
    "start_time": "2022-05-21T16:37:11.713Z"
   },
   {
    "duration": 3,
    "start_time": "2022-05-21T16:37:11.816Z"
   },
   {
    "duration": 6,
    "start_time": "2022-05-21T16:37:11.821Z"
   },
   {
    "duration": 34065,
    "start_time": "2022-05-21T16:37:11.828Z"
   },
   {
    "duration": 3,
    "start_time": "2022-05-21T16:39:05.450Z"
   },
   {
    "duration": 33076,
    "start_time": "2022-05-21T16:39:08.720Z"
   },
   {
    "duration": 3,
    "start_time": "2022-05-21T16:39:50.050Z"
   },
   {
    "duration": 11991,
    "start_time": "2022-05-21T16:39:52.710Z"
   },
   {
    "duration": 3,
    "start_time": "2022-05-21T16:40:12.331Z"
   },
   {
    "duration": 3,
    "start_time": "2022-05-21T16:40:13.082Z"
   },
   {
    "duration": 19600,
    "start_time": "2022-05-21T16:40:13.290Z"
   },
   {
    "duration": 182,
    "start_time": "2022-05-21T16:42:15.994Z"
   },
   {
    "duration": 34,
    "start_time": "2022-05-21T16:42:26.784Z"
   },
   {
    "duration": 7,
    "start_time": "2022-05-21T16:42:33.213Z"
   },
   {
    "duration": 19,
    "start_time": "2022-05-21T16:42:48.460Z"
   },
   {
    "duration": 7,
    "start_time": "2022-05-21T16:42:48.796Z"
   },
   {
    "duration": 12,
    "start_time": "2022-05-21T16:45:24.050Z"
   },
   {
    "duration": 13,
    "start_time": "2022-05-21T16:45:27.986Z"
   },
   {
    "duration": 14,
    "start_time": "2022-05-21T16:45:38.032Z"
   },
   {
    "duration": 36,
    "start_time": "2022-05-21T16:45:46.750Z"
   },
   {
    "duration": 4,
    "start_time": "2022-05-21T16:45:50.730Z"
   },
   {
    "duration": 134,
    "start_time": "2022-05-21T16:46:14.970Z"
   },
   {
    "duration": 391,
    "start_time": "2022-05-21T16:46:42.696Z"
   },
   {
    "duration": 169,
    "start_time": "2022-05-21T16:46:56.748Z"
   },
   {
    "duration": 5,
    "start_time": "2022-05-21T16:47:40.264Z"
   },
   {
    "duration": 3,
    "start_time": "2022-05-21T16:48:12.320Z"
   },
   {
    "duration": 281,
    "start_time": "2022-05-21T16:48:39.308Z"
   },
   {
    "duration": 298,
    "start_time": "2022-05-21T16:48:42.993Z"
   },
   {
    "duration": 1099,
    "start_time": "2022-05-21T20:48:46.977Z"
   },
   {
    "duration": 1147,
    "start_time": "2022-05-21T20:48:48.079Z"
   },
   {
    "duration": 21,
    "start_time": "2022-05-21T20:48:49.228Z"
   },
   {
    "duration": 141,
    "start_time": "2022-05-21T20:48:49.251Z"
   },
   {
    "duration": 111,
    "start_time": "2022-05-21T20:48:49.394Z"
   },
   {
    "duration": 29,
    "start_time": "2022-05-21T20:48:49.507Z"
   },
   {
    "duration": 29,
    "start_time": "2022-05-21T20:48:49.537Z"
   },
   {
    "duration": 70,
    "start_time": "2022-05-21T20:48:49.568Z"
   },
   {
    "duration": 7,
    "start_time": "2022-05-21T20:48:49.640Z"
   },
   {
    "duration": 136,
    "start_time": "2022-05-21T20:48:49.649Z"
   },
   {
    "duration": 21,
    "start_time": "2022-05-21T20:48:49.787Z"
   },
   {
    "duration": 7,
    "start_time": "2022-05-21T20:48:49.810Z"
   },
   {
    "duration": 132,
    "start_time": "2022-05-21T20:48:49.818Z"
   },
   {
    "duration": 97,
    "start_time": "2022-05-21T20:48:49.951Z"
   },
   {
    "duration": 101,
    "start_time": "2022-05-21T20:48:50.050Z"
   },
   {
    "duration": 358,
    "start_time": "2022-05-21T20:48:50.153Z"
   },
   {
    "duration": 118,
    "start_time": "2022-05-21T20:48:50.513Z"
   },
   {
    "duration": 554,
    "start_time": "2022-05-21T20:48:50.633Z"
   },
   {
    "duration": 17,
    "start_time": "2022-05-21T20:48:51.188Z"
   },
   {
    "duration": 84,
    "start_time": "2022-05-21T20:48:51.206Z"
   },
   {
    "duration": 23,
    "start_time": "2022-05-21T20:48:51.292Z"
   },
   {
    "duration": 27,
    "start_time": "2022-05-21T20:48:51.316Z"
   },
   {
    "duration": 91,
    "start_time": "2022-05-21T20:48:51.344Z"
   },
   {
    "duration": 3,
    "start_time": "2022-05-21T20:48:51.436Z"
   },
   {
    "duration": 4,
    "start_time": "2022-05-21T20:48:51.441Z"
   },
   {
    "duration": 2725,
    "start_time": "2022-05-21T20:48:51.447Z"
   },
   {
    "duration": 90,
    "start_time": "2022-05-21T20:48:54.175Z"
   },
   {
    "duration": 206,
    "start_time": "2022-05-21T20:48:54.269Z"
   },
   {
    "duration": 5,
    "start_time": "2022-05-21T20:50:16.315Z"
   },
   {
    "duration": 65,
    "start_time": "2022-05-21T20:51:50.000Z"
   },
   {
    "duration": 113,
    "start_time": "2022-05-21T20:52:01.576Z"
   },
   {
    "duration": 814,
    "start_time": "2022-05-21T20:52:26.751Z"
   },
   {
    "duration": 3,
    "start_time": "2022-05-21T20:52:48.487Z"
   },
   {
    "duration": 3,
    "start_time": "2022-05-21T20:52:49.344Z"
   },
   {
    "duration": 2004,
    "start_time": "2022-05-21T20:52:49.963Z"
   },
   {
    "duration": 3,
    "start_time": "2022-05-21T20:54:01.329Z"
   },
   {
    "duration": 4,
    "start_time": "2022-05-21T20:54:02.131Z"
   },
   {
    "duration": 1835,
    "start_time": "2022-05-21T20:54:02.633Z"
   },
   {
    "duration": 2,
    "start_time": "2022-05-21T20:54:11.677Z"
   },
   {
    "duration": 4,
    "start_time": "2022-05-21T20:54:12.383Z"
   },
   {
    "duration": 1585,
    "start_time": "2022-05-21T20:54:12.580Z"
   },
   {
    "duration": 3,
    "start_time": "2022-05-21T20:54:18.440Z"
   },
   {
    "duration": 4,
    "start_time": "2022-05-21T20:54:18.703Z"
   },
   {
    "duration": 1601,
    "start_time": "2022-05-21T20:54:18.880Z"
   },
   {
    "duration": 3,
    "start_time": "2022-05-21T20:56:30.971Z"
   },
   {
    "duration": 906,
    "start_time": "2022-05-21T20:56:33.364Z"
   },
   {
    "duration": 3068,
    "start_time": "2022-05-21T20:56:53.407Z"
   },
   {
    "duration": 3,
    "start_time": "2022-05-21T20:57:42.996Z"
   },
   {
    "duration": 1470,
    "start_time": "2022-05-21T20:57:46.300Z"
   },
   {
    "duration": 3,
    "start_time": "2022-05-21T20:58:03.256Z"
   },
   {
    "duration": 72,
    "start_time": "2022-05-21T20:59:29.393Z"
   },
   {
    "duration": 4,
    "start_time": "2022-05-21T20:59:34.990Z"
   },
   {
    "duration": 5,
    "start_time": "2022-05-21T21:00:38.719Z"
   },
   {
    "duration": 109,
    "start_time": "2022-05-21T21:02:55.157Z"
   },
   {
    "duration": 5,
    "start_time": "2022-05-21T21:03:40.630Z"
   },
   {
    "duration": 3,
    "start_time": "2022-05-21T21:05:21.288Z"
   },
   {
    "duration": 23,
    "start_time": "2022-05-21T21:06:14.451Z"
   },
   {
    "duration": 5,
    "start_time": "2022-05-21T21:06:23.712Z"
   },
   {
    "duration": 116,
    "start_time": "2022-05-21T21:06:24.605Z"
   },
   {
    "duration": 18,
    "start_time": "2022-05-21T21:06:47.378Z"
   },
   {
    "duration": 1055,
    "start_time": "2022-05-21T21:07:11.114Z"
   },
   {
    "duration": 854,
    "start_time": "2022-05-21T21:07:12.171Z"
   },
   {
    "duration": 20,
    "start_time": "2022-05-21T21:07:13.027Z"
   },
   {
    "duration": 149,
    "start_time": "2022-05-21T21:07:13.049Z"
   },
   {
    "duration": 114,
    "start_time": "2022-05-21T21:07:13.201Z"
   },
   {
    "duration": 32,
    "start_time": "2022-05-21T21:07:13.316Z"
   },
   {
    "duration": 25,
    "start_time": "2022-05-21T21:07:13.349Z"
   },
   {
    "duration": 80,
    "start_time": "2022-05-21T21:07:13.376Z"
   },
   {
    "duration": 13,
    "start_time": "2022-05-21T21:07:13.458Z"
   },
   {
    "duration": 142,
    "start_time": "2022-05-21T21:07:13.473Z"
   },
   {
    "duration": 26,
    "start_time": "2022-05-21T21:07:13.617Z"
   },
   {
    "duration": 20,
    "start_time": "2022-05-21T21:07:13.645Z"
   },
   {
    "duration": 124,
    "start_time": "2022-05-21T21:07:13.667Z"
   },
   {
    "duration": 104,
    "start_time": "2022-05-21T21:07:13.794Z"
   },
   {
    "duration": 98,
    "start_time": "2022-05-21T21:07:13.900Z"
   },
   {
    "duration": 369,
    "start_time": "2022-05-21T21:07:13.999Z"
   },
   {
    "duration": 118,
    "start_time": "2022-05-21T21:07:14.370Z"
   },
   {
    "duration": 598,
    "start_time": "2022-05-21T21:07:14.490Z"
   },
   {
    "duration": 18,
    "start_time": "2022-05-21T21:07:15.090Z"
   },
   {
    "duration": 88,
    "start_time": "2022-05-21T21:07:15.110Z"
   },
   {
    "duration": 26,
    "start_time": "2022-05-21T21:07:15.200Z"
   },
   {
    "duration": 42,
    "start_time": "2022-05-21T21:07:15.228Z"
   },
   {
    "duration": 71,
    "start_time": "2022-05-21T21:07:15.272Z"
   },
   {
    "duration": 2,
    "start_time": "2022-05-21T21:07:15.345Z"
   },
   {
    "duration": 16,
    "start_time": "2022-05-21T21:07:15.349Z"
   },
   {
    "duration": 135,
    "start_time": "2022-05-21T21:07:15.366Z"
   },
   {
    "duration": 9,
    "start_time": "2022-05-21T21:07:15.503Z"
   },
   {
    "duration": 177,
    "start_time": "2022-05-21T21:07:15.513Z"
   },
   {
    "duration": 173,
    "start_time": "2022-05-21T21:07:15.692Z"
   },
   {
    "duration": 97,
    "start_time": "2022-05-21T21:07:15.867Z"
   },
   {
    "duration": 22,
    "start_time": "2022-05-21T21:07:15.966Z"
   },
   {
    "duration": 0,
    "start_time": "2022-05-21T21:07:15.990Z"
   },
   {
    "duration": 0,
    "start_time": "2022-05-21T21:07:15.991Z"
   },
   {
    "duration": 10,
    "start_time": "2022-05-21T21:08:16.742Z"
   },
   {
    "duration": 3,
    "start_time": "2022-05-21T21:08:32.130Z"
   },
   {
    "duration": 4,
    "start_time": "2022-05-21T21:08:32.949Z"
   },
   {
    "duration": 2235,
    "start_time": "2022-05-21T21:08:33.633Z"
   },
   {
    "duration": 3,
    "start_time": "2022-05-21T21:08:50.139Z"
   },
   {
    "duration": 3,
    "start_time": "2022-05-21T21:08:50.544Z"
   },
   {
    "duration": 13549,
    "start_time": "2022-05-21T21:08:50.916Z"
   },
   {
    "duration": 4,
    "start_time": "2022-05-21T21:09:12.563Z"
   },
   {
    "duration": 4,
    "start_time": "2022-05-21T21:09:14.623Z"
   },
   {
    "duration": 23524,
    "start_time": "2022-05-21T21:09:14.844Z"
   },
   {
    "duration": 44,
    "start_time": "2022-05-21T21:09:41.925Z"
   },
   {
    "duration": 124,
    "start_time": "2022-05-21T21:09:44.956Z"
   },
   {
    "duration": 10,
    "start_time": "2022-05-21T21:09:45.925Z"
   },
   {
    "duration": 7,
    "start_time": "2022-05-21T21:09:49.031Z"
   },
   {
    "duration": 16,
    "start_time": "2022-05-21T21:09:50.009Z"
   },
   {
    "duration": 6,
    "start_time": "2022-05-21T21:09:55.112Z"
   },
   {
    "duration": 9,
    "start_time": "2022-05-21T21:09:55.515Z"
   },
   {
    "duration": 1293,
    "start_time": "2022-05-21T21:25:52.651Z"
   },
   {
    "duration": 1052,
    "start_time": "2022-05-21T21:25:53.946Z"
   },
   {
    "duration": 21,
    "start_time": "2022-05-21T21:25:55.000Z"
   },
   {
    "duration": 173,
    "start_time": "2022-05-21T21:25:55.024Z"
   },
   {
    "duration": 127,
    "start_time": "2022-05-21T21:25:55.199Z"
   },
   {
    "duration": 48,
    "start_time": "2022-05-21T21:25:55.328Z"
   },
   {
    "duration": 25,
    "start_time": "2022-05-21T21:25:55.381Z"
   },
   {
    "duration": 82,
    "start_time": "2022-05-21T21:25:55.409Z"
   },
   {
    "duration": 8,
    "start_time": "2022-05-21T21:25:55.493Z"
   },
   {
    "duration": 152,
    "start_time": "2022-05-21T21:25:55.504Z"
   },
   {
    "duration": 31,
    "start_time": "2022-05-21T21:25:55.658Z"
   },
   {
    "duration": 8,
    "start_time": "2022-05-21T21:25:55.691Z"
   },
   {
    "duration": 147,
    "start_time": "2022-05-21T21:25:55.701Z"
   },
   {
    "duration": 114,
    "start_time": "2022-05-21T21:25:55.850Z"
   },
   {
    "duration": 452,
    "start_time": "2022-05-21T21:25:55.980Z"
   },
   {
    "duration": 136,
    "start_time": "2022-05-21T21:25:56.434Z"
   },
   {
    "duration": 702,
    "start_time": "2022-05-21T21:25:56.573Z"
   },
   {
    "duration": 21,
    "start_time": "2022-05-21T21:25:57.279Z"
   },
   {
    "duration": 95,
    "start_time": "2022-05-21T21:25:57.302Z"
   },
   {
    "duration": 30,
    "start_time": "2022-05-21T21:25:57.399Z"
   },
   {
    "duration": 51,
    "start_time": "2022-05-21T21:25:57.431Z"
   },
   {
    "duration": 81,
    "start_time": "2022-05-21T21:25:57.484Z"
   },
   {
    "duration": 4,
    "start_time": "2022-05-21T21:25:57.567Z"
   },
   {
    "duration": 21,
    "start_time": "2022-05-21T21:25:57.573Z"
   },
   {
    "duration": 30371,
    "start_time": "2022-05-21T21:25:57.596Z"
   },
   {
    "duration": 109,
    "start_time": "2022-05-21T21:26:27.969Z"
   },
   {
    "duration": 207,
    "start_time": "2022-05-21T21:26:28.080Z"
   },
   {
    "duration": 78,
    "start_time": "2022-05-21T21:26:28.292Z"
   },
   {
    "duration": 95,
    "start_time": "2022-05-21T21:26:28.373Z"
   },
   {
    "duration": 10,
    "start_time": "2022-05-21T21:26:28.470Z"
   },
   {
    "duration": 1146,
    "start_time": "2022-05-21T21:28:45.934Z"
   },
   {
    "duration": 917,
    "start_time": "2022-05-21T21:28:47.082Z"
   },
   {
    "duration": 22,
    "start_time": "2022-05-21T21:28:48.002Z"
   },
   {
    "duration": 156,
    "start_time": "2022-05-21T21:28:48.027Z"
   },
   {
    "duration": 117,
    "start_time": "2022-05-21T21:28:48.184Z"
   },
   {
    "duration": 34,
    "start_time": "2022-05-21T21:28:48.303Z"
   },
   {
    "duration": 31,
    "start_time": "2022-05-21T21:28:48.339Z"
   },
   {
    "duration": 74,
    "start_time": "2022-05-21T21:28:48.372Z"
   },
   {
    "duration": 19,
    "start_time": "2022-05-21T21:28:48.448Z"
   },
   {
    "duration": 140,
    "start_time": "2022-05-21T21:28:48.470Z"
   },
   {
    "duration": 22,
    "start_time": "2022-05-21T21:28:48.612Z"
   },
   {
    "duration": 7,
    "start_time": "2022-05-21T21:28:48.636Z"
   },
   {
    "duration": 123,
    "start_time": "2022-05-21T21:28:48.665Z"
   },
   {
    "duration": 120,
    "start_time": "2022-05-21T21:28:48.790Z"
   },
   {
    "duration": 442,
    "start_time": "2022-05-21T21:28:48.913Z"
   },
   {
    "duration": 134,
    "start_time": "2022-05-21T21:28:49.357Z"
   },
   {
    "duration": 593,
    "start_time": "2022-05-21T21:28:49.493Z"
   },
   {
    "duration": 17,
    "start_time": "2022-05-21T21:28:50.088Z"
   },
   {
    "duration": 85,
    "start_time": "2022-05-21T21:28:50.106Z"
   },
   {
    "duration": 26,
    "start_time": "2022-05-21T21:28:50.193Z"
   },
   {
    "duration": 43,
    "start_time": "2022-05-21T21:28:50.221Z"
   },
   {
    "duration": 77,
    "start_time": "2022-05-21T21:28:50.267Z"
   },
   {
    "duration": 3,
    "start_time": "2022-05-21T21:28:50.347Z"
   },
   {
    "duration": 4,
    "start_time": "2022-05-21T21:28:50.366Z"
   },
   {
    "duration": 10205,
    "start_time": "2022-05-21T21:28:50.371Z"
   },
   {
    "duration": 191,
    "start_time": "2022-05-21T21:29:00.578Z"
   },
   {
    "duration": 196,
    "start_time": "2022-05-21T21:29:00.771Z"
   },
   {
    "duration": 193,
    "start_time": "2022-05-21T21:29:00.971Z"
   },
   {
    "duration": 13,
    "start_time": "2022-05-21T21:29:01.167Z"
   },
   {
    "duration": 92,
    "start_time": "2022-05-21T21:29:01.182Z"
   },
   {
    "duration": 1151,
    "start_time": "2022-05-21T21:30:43.958Z"
   },
   {
    "duration": 923,
    "start_time": "2022-05-21T21:30:45.112Z"
   },
   {
    "duration": 30,
    "start_time": "2022-05-21T21:30:46.037Z"
   },
   {
    "duration": 153,
    "start_time": "2022-05-21T21:30:46.069Z"
   },
   {
    "duration": 121,
    "start_time": "2022-05-21T21:30:46.223Z"
   },
   {
    "duration": 40,
    "start_time": "2022-05-21T21:30:46.346Z"
   },
   {
    "duration": 19,
    "start_time": "2022-05-21T21:30:46.387Z"
   },
   {
    "duration": 91,
    "start_time": "2022-05-21T21:30:46.407Z"
   },
   {
    "duration": 7,
    "start_time": "2022-05-21T21:30:46.500Z"
   },
   {
    "duration": 157,
    "start_time": "2022-05-21T21:30:46.510Z"
   },
   {
    "duration": 27,
    "start_time": "2022-05-21T21:30:46.669Z"
   },
   {
    "duration": 13,
    "start_time": "2022-05-21T21:30:46.698Z"
   },
   {
    "duration": 137,
    "start_time": "2022-05-21T21:30:46.713Z"
   },
   {
    "duration": 104,
    "start_time": "2022-05-21T21:30:46.852Z"
   },
   {
    "duration": 424,
    "start_time": "2022-05-21T21:30:46.957Z"
   },
   {
    "duration": 137,
    "start_time": "2022-05-21T21:30:47.384Z"
   },
   {
    "duration": 586,
    "start_time": "2022-05-21T21:30:47.523Z"
   },
   {
    "duration": 19,
    "start_time": "2022-05-21T21:30:48.111Z"
   },
   {
    "duration": 91,
    "start_time": "2022-05-21T21:30:48.132Z"
   },
   {
    "duration": 27,
    "start_time": "2022-05-21T21:30:48.225Z"
   },
   {
    "duration": 27,
    "start_time": "2022-05-21T21:30:48.264Z"
   },
   {
    "duration": 91,
    "start_time": "2022-05-21T21:30:48.293Z"
   },
   {
    "duration": 4,
    "start_time": "2022-05-21T21:30:48.386Z"
   },
   {
    "duration": 9,
    "start_time": "2022-05-21T21:30:48.391Z"
   },
   {
    "duration": 5070,
    "start_time": "2022-05-21T21:30:48.401Z"
   },
   {
    "duration": 107,
    "start_time": "2022-05-21T21:30:53.473Z"
   },
   {
    "duration": 206,
    "start_time": "2022-05-21T21:30:53.581Z"
   },
   {
    "duration": 174,
    "start_time": "2022-05-21T21:30:53.790Z"
   },
   {
    "duration": 106,
    "start_time": "2022-05-21T21:30:53.967Z"
   },
   {
    "duration": 5,
    "start_time": "2022-05-21T21:30:54.075Z"
   },
   {
    "duration": 1713,
    "start_time": "2022-05-22T22:03:20.007Z"
   },
   {
    "duration": 1608,
    "start_time": "2022-05-22T22:03:21.722Z"
   },
   {
    "duration": 75,
    "start_time": "2022-05-22T22:03:23.331Z"
   },
   {
    "duration": 222,
    "start_time": "2022-05-22T22:03:23.408Z"
   },
   {
    "duration": 202,
    "start_time": "2022-05-22T22:03:23.632Z"
   },
   {
    "duration": 33,
    "start_time": "2022-05-22T22:03:23.894Z"
   },
   {
    "duration": 67,
    "start_time": "2022-05-22T22:03:23.929Z"
   },
   {
    "duration": 127,
    "start_time": "2022-05-22T22:03:23.998Z"
   },
   {
    "duration": 7,
    "start_time": "2022-05-22T22:03:24.127Z"
   },
   {
    "duration": 229,
    "start_time": "2022-05-22T22:03:24.600Z"
   },
   {
    "duration": 47,
    "start_time": "2022-05-22T22:03:27.248Z"
   },
   {
    "duration": 6,
    "start_time": "2022-05-22T22:03:32.603Z"
   },
   {
    "duration": 214,
    "start_time": "2022-05-22T22:03:32.795Z"
   },
   {
    "duration": 168,
    "start_time": "2022-05-22T22:03:33.146Z"
   },
   {
    "duration": 594,
    "start_time": "2022-05-22T22:03:33.328Z"
   },
   {
    "duration": 153,
    "start_time": "2022-05-22T22:03:42.449Z"
   },
   {
    "duration": 226,
    "start_time": "2022-05-22T22:04:00.504Z"
   },
   {
    "duration": 142,
    "start_time": "2022-05-22T22:04:10.882Z"
   },
   {
    "duration": 900,
    "start_time": "2022-05-22T22:04:29.297Z"
   },
   {
    "duration": 168,
    "start_time": "2022-05-22T22:16:49.141Z"
   },
   {
    "duration": 930,
    "start_time": "2022-05-22T22:16:51.100Z"
   },
   {
    "duration": 209,
    "start_time": "2022-05-22T22:17:32.485Z"
   },
   {
    "duration": 924,
    "start_time": "2022-05-22T22:17:34.197Z"
   },
   {
    "duration": 136,
    "start_time": "2022-05-22T22:17:37.459Z"
   },
   {
    "duration": 61,
    "start_time": "2022-05-22T22:17:39.733Z"
   },
   {
    "duration": 111,
    "start_time": "2022-05-22T22:17:39.907Z"
   },
   {
    "duration": 4,
    "start_time": "2022-05-22T22:17:49.918Z"
   },
   {
    "duration": 2,
    "start_time": "2022-05-22T22:17:57.111Z"
   },
   {
    "duration": 7600,
    "start_time": "2022-05-22T22:18:00.403Z"
   },
   {
    "duration": 3,
    "start_time": "2022-05-22T22:18:10.582Z"
   },
   {
    "duration": 3,
    "start_time": "2022-05-22T22:18:11.999Z"
   },
   {
    "duration": 12037,
    "start_time": "2022-05-22T22:18:12.173Z"
   },
   {
    "duration": 3,
    "start_time": "2022-05-22T22:28:33.941Z"
   },
   {
    "duration": 3,
    "start_time": "2022-05-22T22:28:36.324Z"
   },
   {
    "duration": 3,
    "start_time": "2022-05-22T22:28:38.005Z"
   },
   {
    "duration": 1602,
    "start_time": "2022-05-22T22:28:38.494Z"
   },
   {
    "duration": 3,
    "start_time": "2022-05-22T22:28:49.340Z"
   },
   {
    "duration": 6,
    "start_time": "2022-05-22T22:28:52.940Z"
   },
   {
    "duration": 1630,
    "start_time": "2022-05-22T22:28:53.065Z"
   },
   {
    "duration": 1224,
    "start_time": "2022-05-22T22:29:02.978Z"
   },
   {
    "duration": 54,
    "start_time": "2022-05-22T22:29:10.843Z"
   },
   {
    "duration": 5,
    "start_time": "2022-05-22T22:29:17.261Z"
   },
   {
    "duration": 3,
    "start_time": "2022-05-22T22:29:21.813Z"
   },
   {
    "duration": 6,
    "start_time": "2022-05-22T22:29:22.185Z"
   },
   {
    "duration": 1469,
    "start_time": "2022-05-22T22:29:22.332Z"
   },
   {
    "duration": 99,
    "start_time": "2022-05-22T22:29:23.804Z"
   },
   {
    "duration": 193,
    "start_time": "2022-05-22T22:29:23.905Z"
   },
   {
    "duration": 9,
    "start_time": "2022-05-22T22:29:24.099Z"
   },
   {
    "duration": 185,
    "start_time": "2022-05-22T22:29:24.110Z"
   },
   {
    "duration": 5,
    "start_time": "2022-05-22T22:29:24.678Z"
   },
   {
    "duration": 1224,
    "start_time": "2022-05-23T21:41:30.856Z"
   },
   {
    "duration": 2800,
    "start_time": "2022-05-23T21:41:32.083Z"
   },
   {
    "duration": 21,
    "start_time": "2022-05-23T21:41:34.885Z"
   },
   {
    "duration": 119,
    "start_time": "2022-05-23T21:41:34.908Z"
   },
   {
    "duration": 104,
    "start_time": "2022-05-23T21:41:35.029Z"
   },
   {
    "duration": 46,
    "start_time": "2022-05-23T21:41:35.134Z"
   },
   {
    "duration": 12,
    "start_time": "2022-05-23T21:41:35.181Z"
   },
   {
    "duration": 86,
    "start_time": "2022-05-23T21:41:35.194Z"
   },
   {
    "duration": 7,
    "start_time": "2022-05-23T21:41:35.282Z"
   },
   {
    "duration": 124,
    "start_time": "2022-05-23T21:41:35.291Z"
   },
   {
    "duration": 25,
    "start_time": "2022-05-23T21:41:35.417Z"
   },
   {
    "duration": 5,
    "start_time": "2022-05-23T21:41:35.444Z"
   },
   {
    "duration": 114,
    "start_time": "2022-05-23T21:41:35.451Z"
   },
   {
    "duration": 100,
    "start_time": "2022-05-23T21:41:35.567Z"
   },
   {
    "duration": 340,
    "start_time": "2022-05-23T21:41:35.669Z"
   },
   {
    "duration": 109,
    "start_time": "2022-05-23T21:41:36.011Z"
   },
   {
    "duration": 529,
    "start_time": "2022-05-23T21:41:36.122Z"
   },
   {
    "duration": 15,
    "start_time": "2022-05-23T21:41:36.653Z"
   },
   {
    "duration": 71,
    "start_time": "2022-05-23T21:41:36.670Z"
   },
   {
    "duration": 22,
    "start_time": "2022-05-23T21:41:36.743Z"
   },
   {
    "duration": 26,
    "start_time": "2022-05-23T21:41:36.766Z"
   },
   {
    "duration": 102,
    "start_time": "2022-05-23T21:41:36.793Z"
   },
   {
    "duration": 46,
    "start_time": "2022-05-23T21:41:36.898Z"
   },
   {
    "duration": 3,
    "start_time": "2022-05-23T21:41:36.946Z"
   },
   {
    "duration": 13,
    "start_time": "2022-05-23T21:41:36.951Z"
   },
   {
    "duration": 2077,
    "start_time": "2022-05-23T21:41:36.967Z"
   },
   {
    "duration": 99,
    "start_time": "2022-05-23T21:41:39.046Z"
   },
   {
    "duration": 126,
    "start_time": "2022-05-23T21:41:39.148Z"
   },
   {
    "duration": 167,
    "start_time": "2022-05-23T21:41:39.275Z"
   },
   {
    "duration": 97,
    "start_time": "2022-05-23T21:41:39.445Z"
   },
   {
    "duration": 5,
    "start_time": "2022-05-23T21:41:39.544Z"
   },
   {
    "duration": 5,
    "start_time": "2022-05-23T21:43:49.257Z"
   },
   {
    "duration": 5,
    "start_time": "2022-05-23T21:44:23.852Z"
   },
   {
    "duration": 21,
    "start_time": "2022-05-23T21:45:21.129Z"
   },
   {
    "duration": 5,
    "start_time": "2022-05-23T21:45:21.941Z"
   },
   {
    "duration": 10,
    "start_time": "2022-05-23T21:46:08.571Z"
   },
   {
    "duration": 5,
    "start_time": "2022-05-23T21:46:08.923Z"
   },
   {
    "duration": 103,
    "start_time": "2022-05-23T21:57:23.488Z"
   },
   {
    "duration": 1060,
    "start_time": "2022-05-23T21:57:46.799Z"
   },
   {
    "duration": 830,
    "start_time": "2022-05-23T21:57:47.861Z"
   },
   {
    "duration": 19,
    "start_time": "2022-05-23T21:57:48.692Z"
   },
   {
    "duration": 129,
    "start_time": "2022-05-23T21:57:48.713Z"
   },
   {
    "duration": 99,
    "start_time": "2022-05-23T21:57:48.843Z"
   },
   {
    "duration": 29,
    "start_time": "2022-05-23T21:57:48.944Z"
   },
   {
    "duration": 19,
    "start_time": "2022-05-23T21:57:48.975Z"
   },
   {
    "duration": 86,
    "start_time": "2022-05-23T21:57:48.995Z"
   },
   {
    "duration": 8,
    "start_time": "2022-05-23T21:57:49.083Z"
   },
   {
    "duration": 131,
    "start_time": "2022-05-23T21:57:49.094Z"
   },
   {
    "duration": 24,
    "start_time": "2022-05-23T21:57:49.226Z"
   },
   {
    "duration": 12,
    "start_time": "2022-05-23T21:57:49.251Z"
   },
   {
    "duration": 109,
    "start_time": "2022-05-23T21:57:49.265Z"
   },
   {
    "duration": 100,
    "start_time": "2022-05-23T21:57:49.376Z"
   },
   {
    "duration": 322,
    "start_time": "2022-05-23T21:57:49.477Z"
   },
   {
    "duration": 494,
    "start_time": "2022-05-23T21:57:49.801Z"
   },
   {
    "duration": 0,
    "start_time": "2022-05-23T21:57:50.297Z"
   },
   {
    "duration": 0,
    "start_time": "2022-05-23T21:57:50.298Z"
   },
   {
    "duration": 0,
    "start_time": "2022-05-23T21:57:50.299Z"
   },
   {
    "duration": 0,
    "start_time": "2022-05-23T21:57:50.300Z"
   },
   {
    "duration": 0,
    "start_time": "2022-05-23T21:57:50.301Z"
   },
   {
    "duration": 0,
    "start_time": "2022-05-23T21:57:50.302Z"
   },
   {
    "duration": 0,
    "start_time": "2022-05-23T21:57:50.303Z"
   },
   {
    "duration": 0,
    "start_time": "2022-05-23T21:57:50.304Z"
   },
   {
    "duration": 0,
    "start_time": "2022-05-23T21:57:50.304Z"
   },
   {
    "duration": 0,
    "start_time": "2022-05-23T21:57:50.305Z"
   },
   {
    "duration": 0,
    "start_time": "2022-05-23T21:57:50.306Z"
   },
   {
    "duration": 0,
    "start_time": "2022-05-23T21:57:50.307Z"
   },
   {
    "duration": 0,
    "start_time": "2022-05-23T21:57:50.308Z"
   },
   {
    "duration": 0,
    "start_time": "2022-05-23T21:57:50.309Z"
   },
   {
    "duration": 0,
    "start_time": "2022-05-23T21:57:50.310Z"
   },
   {
    "duration": 0,
    "start_time": "2022-05-23T21:57:50.311Z"
   },
   {
    "duration": 0,
    "start_time": "2022-05-23T21:57:50.312Z"
   },
   {
    "duration": 0,
    "start_time": "2022-05-23T21:57:50.314Z"
   },
   {
    "duration": 0,
    "start_time": "2022-05-23T21:57:50.341Z"
   },
   {
    "duration": 0,
    "start_time": "2022-05-23T21:57:50.343Z"
   },
   {
    "duration": 513,
    "start_time": "2022-05-23T21:59:25.325Z"
   },
   {
    "duration": 631,
    "start_time": "2022-05-23T22:00:17.434Z"
   },
   {
    "duration": 5,
    "start_time": "2022-05-23T22:00:28.820Z"
   },
   {
    "duration": 66,
    "start_time": "2022-05-23T22:00:43.345Z"
   },
   {
    "duration": 34,
    "start_time": "2022-05-23T22:01:07.610Z"
   },
   {
    "duration": 54,
    "start_time": "2022-05-23T22:01:15.229Z"
   },
   {
    "duration": 535,
    "start_time": "2022-05-23T22:01:27.409Z"
   },
   {
    "duration": 452,
    "start_time": "2022-05-23T22:01:56.798Z"
   },
   {
    "duration": 459,
    "start_time": "2022-05-23T22:03:05.598Z"
   },
   {
    "duration": 457,
    "start_time": "2022-05-23T22:03:17.990Z"
   },
   {
    "duration": 1270,
    "start_time": "2022-05-24T07:07:00.302Z"
   },
   {
    "duration": 1096,
    "start_time": "2022-05-24T07:07:02.306Z"
   },
   {
    "duration": 20,
    "start_time": "2022-05-24T07:07:03.404Z"
   },
   {
    "duration": 138,
    "start_time": "2022-05-24T07:07:03.425Z"
   },
   {
    "duration": 110,
    "start_time": "2022-05-24T07:07:03.565Z"
   },
   {
    "duration": 31,
    "start_time": "2022-05-24T07:07:06.063Z"
   },
   {
    "duration": 13,
    "start_time": "2022-05-24T07:07:06.600Z"
   },
   {
    "duration": 72,
    "start_time": "2022-05-24T07:07:06.876Z"
   },
   {
    "duration": 8,
    "start_time": "2022-05-24T07:07:07.726Z"
   },
   {
    "duration": 120,
    "start_time": "2022-05-24T07:07:08.037Z"
   },
   {
    "duration": 26,
    "start_time": "2022-05-24T07:07:09.750Z"
   },
   {
    "duration": 6,
    "start_time": "2022-05-24T07:07:09.987Z"
   },
   {
    "duration": 108,
    "start_time": "2022-05-24T07:07:10.690Z"
   },
   {
    "duration": 90,
    "start_time": "2022-05-24T07:07:13.162Z"
   },
   {
    "duration": 331,
    "start_time": "2022-05-24T07:07:14.147Z"
   },
   {
    "duration": 79,
    "start_time": "2022-05-24T07:07:15.533Z"
   },
   {
    "duration": 701,
    "start_time": "2022-05-24T07:09:38.205Z"
   },
   {
    "duration": 118,
    "start_time": "2022-05-24T07:10:24.480Z"
   },
   {
    "duration": 539,
    "start_time": "2022-05-24T07:10:27.059Z"
   },
   {
    "duration": 29,
    "start_time": "2022-05-24T07:12:13.341Z"
   },
   {
    "duration": 588,
    "start_time": "2022-05-24T07:12:43.133Z"
   },
   {
    "duration": 17,
    "start_time": "2022-05-24T07:13:07.833Z"
   },
   {
    "duration": 50,
    "start_time": "2022-05-24T07:13:08.163Z"
   },
   {
    "duration": 23,
    "start_time": "2022-05-24T07:13:14.054Z"
   },
   {
    "duration": 31,
    "start_time": "2022-05-24T07:13:16.892Z"
   },
   {
    "duration": 65,
    "start_time": "2022-05-24T07:13:17.155Z"
   },
   {
    "duration": 38,
    "start_time": "2022-05-24T07:13:17.416Z"
   },
   {
    "duration": 3,
    "start_time": "2022-05-24T07:13:19.706Z"
   },
   {
    "duration": 3,
    "start_time": "2022-05-24T07:13:26.991Z"
   },
   {
    "duration": 2328,
    "start_time": "2022-05-24T07:13:27.339Z"
   },
   {
    "duration": 80,
    "start_time": "2022-05-24T07:13:33.087Z"
   },
   {
    "duration": 5,
    "start_time": "2022-05-24T07:13:33.776Z"
   },
   {
    "duration": 3,
    "start_time": "2022-05-24T07:13:54.593Z"
   },
   {
    "duration": 74,
    "start_time": "2022-05-24T07:13:58.795Z"
   },
   {
    "duration": 9,
    "start_time": "2022-05-24T07:13:59.214Z"
   },
   {
    "duration": 5,
    "start_time": "2022-05-24T07:13:59.720Z"
   },
   {
    "duration": 2,
    "start_time": "2022-05-24T07:14:03.501Z"
   },
   {
    "duration": 11586,
    "start_time": "2022-05-24T07:14:31.479Z"
   },
   {
    "duration": 155,
    "start_time": "2022-05-24T07:15:18.112Z"
   },
   {
    "duration": 5,
    "start_time": "2022-05-24T07:15:30.303Z"
   },
   {
    "duration": 856,
    "start_time": "2022-05-24T07:16:26.391Z"
   },
   {
    "duration": 21,
    "start_time": "2022-05-24T07:16:29.731Z"
   },
   {
    "duration": 6,
    "start_time": "2022-05-24T07:16:30.395Z"
   },
   {
    "duration": 8733,
    "start_time": "2022-05-24T07:16:35.080Z"
   },
   {
    "duration": 149,
    "start_time": "2022-05-24T07:16:43.815Z"
   },
   {
    "duration": 5,
    "start_time": "2022-05-24T07:16:43.966Z"
   },
   {
    "duration": 40839,
    "start_time": "2022-05-24T07:16:49.235Z"
   },
   {
    "duration": 618,
    "start_time": "2022-05-24T07:17:30.076Z"
   },
   {
    "duration": 6,
    "start_time": "2022-05-24T07:17:30.696Z"
   },
   {
    "duration": 6,
    "start_time": "2022-05-24T07:17:45.596Z"
   },
   {
    "duration": 9,
    "start_time": "2022-05-24T07:20:03.450Z"
   },
   {
    "duration": 5,
    "start_time": "2022-05-24T07:20:05.082Z"
   },
   {
    "duration": 28,
    "start_time": "2022-05-24T07:20:10.638Z"
   },
   {
    "duration": 5,
    "start_time": "2022-05-24T07:20:13.142Z"
   },
   {
    "duration": 612,
    "start_time": "2022-05-24T07:20:21.540Z"
   },
   {
    "duration": 111,
    "start_time": "2022-05-24T07:20:35.554Z"
   },
   {
    "duration": 601,
    "start_time": "2022-05-24T07:20:39.634Z"
   },
   {
    "duration": 5,
    "start_time": "2022-05-24T07:20:40.638Z"
   },
   {
    "duration": 6,
    "start_time": "2022-05-24T07:20:49.344Z"
   },
   {
    "duration": 602,
    "start_time": "2022-05-24T07:20:56.123Z"
   },
   {
    "duration": 6,
    "start_time": "2022-05-24T07:20:57.506Z"
   },
   {
    "duration": 10,
    "start_time": "2022-05-24T07:21:20.344Z"
   },
   {
    "duration": 6,
    "start_time": "2022-05-24T07:21:21.441Z"
   },
   {
    "duration": 592,
    "start_time": "2022-05-24T07:21:37.791Z"
   },
   {
    "duration": 6,
    "start_time": "2022-05-24T07:21:49.790Z"
   },
   {
    "duration": 5,
    "start_time": "2022-05-24T07:21:58.828Z"
   },
   {
    "duration": 10,
    "start_time": "2022-05-24T07:22:00.638Z"
   },
   {
    "duration": 6,
    "start_time": "2022-05-24T07:22:01.137Z"
   },
   {
    "duration": 36,
    "start_time": "2022-05-24T07:22:02.631Z"
   },
   {
    "duration": 5,
    "start_time": "2022-05-24T07:22:03.150Z"
   },
   {
    "duration": 608,
    "start_time": "2022-05-24T07:22:05.061Z"
   },
   {
    "duration": 5,
    "start_time": "2022-05-24T07:22:05.671Z"
   },
   {
    "duration": 4,
    "start_time": "2022-05-24T07:32:53.636Z"
   },
   {
    "duration": 351,
    "start_time": "2022-05-24T07:32:57.861Z"
   },
   {
    "duration": 378,
    "start_time": "2022-05-24T07:33:11.254Z"
   },
   {
    "duration": 371,
    "start_time": "2022-05-24T07:33:29.787Z"
   },
   {
    "duration": 19,
    "start_time": "2022-05-24T07:33:43.773Z"
   },
   {
    "duration": 1127,
    "start_time": "2022-05-24T07:51:02.151Z"
   },
   {
    "duration": 836,
    "start_time": "2022-05-24T07:51:03.281Z"
   },
   {
    "duration": 23,
    "start_time": "2022-05-24T07:51:04.119Z"
   },
   {
    "duration": 141,
    "start_time": "2022-05-24T07:51:04.144Z"
   },
   {
    "duration": 151,
    "start_time": "2022-05-24T07:51:04.287Z"
   },
   {
    "duration": 32,
    "start_time": "2022-05-24T07:51:04.440Z"
   },
   {
    "duration": 15,
    "start_time": "2022-05-24T07:51:04.474Z"
   },
   {
    "duration": 91,
    "start_time": "2022-05-24T07:51:04.491Z"
   },
   {
    "duration": 9,
    "start_time": "2022-05-24T07:51:04.584Z"
   },
   {
    "duration": 149,
    "start_time": "2022-05-24T07:51:04.596Z"
   },
   {
    "duration": 27,
    "start_time": "2022-05-24T07:51:04.747Z"
   },
   {
    "duration": 9,
    "start_time": "2022-05-24T07:51:04.776Z"
   },
   {
    "duration": 129,
    "start_time": "2022-05-24T07:51:04.786Z"
   },
   {
    "duration": 100,
    "start_time": "2022-05-24T07:51:04.916Z"
   },
   {
    "duration": 365,
    "start_time": "2022-05-24T07:51:05.018Z"
   },
   {
    "duration": 91,
    "start_time": "2022-05-24T07:51:05.385Z"
   },
   {
    "duration": 375,
    "start_time": "2022-05-24T07:51:05.478Z"
   },
   {
    "duration": 109,
    "start_time": "2022-05-24T07:51:05.855Z"
   },
   {
    "duration": 546,
    "start_time": "2022-05-24T07:51:05.966Z"
   },
   {
    "duration": 18,
    "start_time": "2022-05-24T07:51:06.513Z"
   },
   {
    "duration": 127,
    "start_time": "2022-05-24T07:51:06.534Z"
   },
   {
    "duration": 26,
    "start_time": "2022-05-24T07:51:06.665Z"
   },
   {
    "duration": 29,
    "start_time": "2022-05-24T07:51:06.692Z"
   },
   {
    "duration": 92,
    "start_time": "2022-05-24T07:51:06.723Z"
   },
   {
    "duration": 33,
    "start_time": "2022-05-24T07:51:06.817Z"
   },
   {
    "duration": 14,
    "start_time": "2022-05-24T07:51:06.851Z"
   },
   {
    "duration": 6,
    "start_time": "2022-05-24T07:51:06.866Z"
   },
   {
    "duration": 33107,
    "start_time": "2022-05-24T07:51:06.875Z"
   },
   {
    "duration": 190,
    "start_time": "2022-05-24T07:51:39.984Z"
   },
   {
    "duration": 8,
    "start_time": "2022-05-24T07:51:40.177Z"
   },
   {
    "duration": 188,
    "start_time": "2022-05-24T07:51:40.187Z"
   },
   {
    "duration": 98,
    "start_time": "2022-05-24T07:51:40.378Z"
   },
   {
    "duration": 93,
    "start_time": "2022-05-24T07:51:40.479Z"
   },
   {
    "duration": 43101,
    "start_time": "2022-05-24T07:51:40.575Z"
   },
   {
    "duration": 708,
    "start_time": "2022-05-24T07:52:23.678Z"
   },
   {
    "duration": 5,
    "start_time": "2022-05-24T07:52:24.388Z"
   },
   {
    "duration": 72,
    "start_time": "2022-05-24T07:52:24.395Z"
   },
   {
    "duration": 102,
    "start_time": "2022-05-24T07:52:24.470Z"
   },
   {
    "duration": 191,
    "start_time": "2022-05-24T07:52:24.575Z"
   },
   {
    "duration": 8,
    "start_time": "2022-05-24T07:52:24.768Z"
   },
   {
    "duration": 718,
    "start_time": "2022-05-24T07:52:24.779Z"
   },
   {
    "duration": 7,
    "start_time": "2022-05-24T07:52:25.499Z"
   },
   {
    "duration": 1185,
    "start_time": "2022-05-24T07:59:16.420Z"
   },
   {
    "duration": 825,
    "start_time": "2022-05-24T07:59:17.608Z"
   },
   {
    "duration": 32,
    "start_time": "2022-05-24T07:59:18.434Z"
   },
   {
    "duration": 146,
    "start_time": "2022-05-24T07:59:18.468Z"
   },
   {
    "duration": 152,
    "start_time": "2022-05-24T07:59:18.616Z"
   },
   {
    "duration": 25,
    "start_time": "2022-05-24T07:59:18.771Z"
   },
   {
    "duration": 14,
    "start_time": "2022-05-24T07:59:18.798Z"
   },
   {
    "duration": 130,
    "start_time": "2022-05-24T07:59:18.814Z"
   },
   {
    "duration": 21,
    "start_time": "2022-05-24T07:59:18.947Z"
   },
   {
    "duration": 192,
    "start_time": "2022-05-24T07:59:18.972Z"
   },
   {
    "duration": 38,
    "start_time": "2022-05-24T07:59:19.167Z"
   },
   {
    "duration": 8,
    "start_time": "2022-05-24T07:59:19.208Z"
   },
   {
    "duration": 151,
    "start_time": "2022-05-24T07:59:19.219Z"
   },
   {
    "duration": 98,
    "start_time": "2022-05-24T07:59:19.372Z"
   },
   {
    "duration": 367,
    "start_time": "2022-05-24T07:59:19.471Z"
   },
   {
    "duration": 89,
    "start_time": "2022-05-24T07:59:19.839Z"
   },
   {
    "duration": 385,
    "start_time": "2022-05-24T07:59:19.929Z"
   },
   {
    "duration": 108,
    "start_time": "2022-05-24T07:59:20.316Z"
   },
   {
    "duration": 559,
    "start_time": "2022-05-24T07:59:20.426Z"
   },
   {
    "duration": 17,
    "start_time": "2022-05-24T07:59:20.987Z"
   },
   {
    "duration": 87,
    "start_time": "2022-05-24T07:59:21.005Z"
   },
   {
    "duration": 47,
    "start_time": "2022-05-24T07:59:21.094Z"
   },
   {
    "duration": 43,
    "start_time": "2022-05-24T07:59:21.144Z"
   },
   {
    "duration": 80,
    "start_time": "2022-05-24T07:59:21.189Z"
   },
   {
    "duration": 40,
    "start_time": "2022-05-24T07:59:21.271Z"
   },
   {
    "duration": 4,
    "start_time": "2022-05-24T07:59:21.314Z"
   },
   {
    "duration": 19,
    "start_time": "2022-05-24T07:59:21.320Z"
   },
   {
    "duration": 32437,
    "start_time": "2022-05-24T07:59:21.344Z"
   },
   {
    "duration": 185,
    "start_time": "2022-05-24T07:59:53.783Z"
   },
   {
    "duration": 5,
    "start_time": "2022-05-24T07:59:53.970Z"
   },
   {
    "duration": 126,
    "start_time": "2022-05-24T07:59:53.977Z"
   },
   {
    "duration": 67,
    "start_time": "2022-05-24T07:59:54.105Z"
   },
   {
    "duration": 9,
    "start_time": "2022-05-24T07:59:54.174Z"
   },
   {
    "duration": 41375,
    "start_time": "2022-05-24T07:59:54.265Z"
   },
   {
    "duration": 625,
    "start_time": "2022-05-24T08:00:35.642Z"
   },
   {
    "duration": 5,
    "start_time": "2022-05-24T08:00:36.269Z"
   },
   {
    "duration": 11,
    "start_time": "2022-05-24T08:00:36.276Z"
   },
   {
    "duration": 86,
    "start_time": "2022-05-24T08:00:36.289Z"
   },
   {
    "duration": 201,
    "start_time": "2022-05-24T08:00:36.380Z"
   },
   {
    "duration": 6,
    "start_time": "2022-05-24T08:00:36.583Z"
   },
   {
    "duration": 672,
    "start_time": "2022-05-24T08:00:36.591Z"
   },
   {
    "duration": 5,
    "start_time": "2022-05-24T08:00:37.264Z"
   },
   {
    "duration": 1112,
    "start_time": "2022-05-24T11:32:14.549Z"
   },
   {
    "duration": 3281,
    "start_time": "2022-05-24T11:32:15.663Z"
   },
   {
    "duration": 21,
    "start_time": "2022-05-24T11:32:18.946Z"
   },
   {
    "duration": 138,
    "start_time": "2022-05-24T11:32:18.969Z"
   },
   {
    "duration": 114,
    "start_time": "2022-05-24T11:32:19.109Z"
   },
   {
    "duration": 30,
    "start_time": "2022-05-24T11:32:19.225Z"
   },
   {
    "duration": 13,
    "start_time": "2022-05-24T11:32:19.257Z"
   },
   {
    "duration": 93,
    "start_time": "2022-05-24T11:32:19.272Z"
   },
   {
    "duration": 8,
    "start_time": "2022-05-24T11:32:19.368Z"
   },
   {
    "duration": 137,
    "start_time": "2022-05-24T11:32:19.378Z"
   },
   {
    "duration": 22,
    "start_time": "2022-05-24T11:32:19.517Z"
   },
   {
    "duration": 8,
    "start_time": "2022-05-24T11:32:20.188Z"
   },
   {
    "duration": 110,
    "start_time": "2022-05-24T11:32:20.326Z"
   },
   {
    "duration": 97,
    "start_time": "2022-05-24T11:32:23.210Z"
   },
   {
    "duration": 347,
    "start_time": "2022-05-24T11:32:23.570Z"
   },
   {
    "duration": 85,
    "start_time": "2022-05-24T11:32:24.572Z"
   },
   {
    "duration": 394,
    "start_time": "2022-05-24T11:32:32.621Z"
   },
   {
    "duration": 104,
    "start_time": "2022-05-24T11:32:40.252Z"
   },
   {
    "duration": 161,
    "start_time": "2022-05-24T11:33:51.151Z"
   },
   {
    "duration": 941,
    "start_time": "2022-05-24T11:33:55.025Z"
   },
   {
    "duration": 14,
    "start_time": "2022-05-24T11:33:55.969Z"
   },
   {
    "duration": 147,
    "start_time": "2022-05-24T11:33:55.985Z"
   },
   {
    "duration": 131,
    "start_time": "2022-05-24T11:33:56.134Z"
   },
   {
    "duration": 39,
    "start_time": "2022-05-24T11:33:56.267Z"
   },
   {
    "duration": 32,
    "start_time": "2022-05-24T11:33:56.308Z"
   },
   {
    "duration": 60,
    "start_time": "2022-05-24T11:33:56.360Z"
   },
   {
    "duration": 7,
    "start_time": "2022-05-24T11:33:56.709Z"
   },
   {
    "duration": 130,
    "start_time": "2022-05-24T11:33:56.888Z"
   },
   {
    "duration": 25,
    "start_time": "2022-05-24T11:33:57.162Z"
   },
   {
    "duration": 9,
    "start_time": "2022-05-24T11:33:57.395Z"
   },
   {
    "duration": 131,
    "start_time": "2022-05-24T11:33:57.526Z"
   },
   {
    "duration": 117,
    "start_time": "2022-05-24T11:33:57.893Z"
   },
   {
    "duration": 364,
    "start_time": "2022-05-24T11:33:58.091Z"
   },
   {
    "duration": 94,
    "start_time": "2022-05-24T11:33:58.457Z"
   },
   {
    "duration": 390,
    "start_time": "2022-05-24T11:33:59.453Z"
   },
   {
    "duration": 119,
    "start_time": "2022-05-24T11:33:59.845Z"
   },
   {
    "duration": 585,
    "start_time": "2022-05-24T11:34:00.923Z"
   },
   {
    "duration": 17,
    "start_time": "2022-05-24T11:34:02.018Z"
   },
   {
    "duration": 55,
    "start_time": "2022-05-24T11:34:02.393Z"
   },
   {
    "duration": 27,
    "start_time": "2022-05-24T11:34:12.707Z"
   },
   {
    "duration": 32,
    "start_time": "2022-05-24T11:34:13.253Z"
   },
   {
    "duration": 71,
    "start_time": "2022-05-24T11:34:13.878Z"
   },
   {
    "duration": 36,
    "start_time": "2022-05-24T11:34:14.254Z"
   },
   {
    "duration": 107,
    "start_time": "2022-05-24T11:35:47.319Z"
   },
   {
    "duration": 404,
    "start_time": "2022-05-24T11:35:49.731Z"
   },
   {
    "duration": 114,
    "start_time": "2022-05-24T11:35:50.137Z"
   },
   {
    "duration": 581,
    "start_time": "2022-05-24T11:35:51.552Z"
   },
   {
    "duration": 27,
    "start_time": "2022-05-24T11:35:52.353Z"
   },
   {
    "duration": 91,
    "start_time": "2022-05-24T11:35:52.508Z"
   },
   {
    "duration": 32,
    "start_time": "2022-05-24T11:35:53.507Z"
   },
   {
    "duration": 29,
    "start_time": "2022-05-24T11:35:53.911Z"
   },
   {
    "duration": 62,
    "start_time": "2022-05-24T11:35:54.330Z"
   },
   {
    "duration": 24,
    "start_time": "2022-05-24T11:35:54.561Z"
   },
   {
    "duration": 3,
    "start_time": "2022-05-24T11:35:56.209Z"
   },
   {
    "duration": 4,
    "start_time": "2022-05-24T11:35:57.363Z"
   },
   {
    "duration": 8699,
    "start_time": "2022-05-24T11:35:57.608Z"
   },
   {
    "duration": 188,
    "start_time": "2022-05-24T11:36:06.309Z"
   },
   {
    "duration": 5,
    "start_time": "2022-05-24T11:36:06.498Z"
   },
   {
    "duration": 90,
    "start_time": "2022-05-24T11:36:14.223Z"
   },
   {
    "duration": 9,
    "start_time": "2022-05-24T11:36:17.780Z"
   },
   {
    "duration": 5,
    "start_time": "2022-05-24T11:36:18.110Z"
   },
   {
    "duration": 44985,
    "start_time": "2022-05-24T11:36:19.877Z"
   },
   {
    "duration": 678,
    "start_time": "2022-05-24T11:37:04.864Z"
   },
   {
    "duration": 6,
    "start_time": "2022-05-24T11:37:05.543Z"
   },
   {
    "duration": 650,
    "start_time": "2022-05-24T11:37:30.579Z"
   },
   {
    "duration": 6,
    "start_time": "2022-05-24T11:37:31.231Z"
   },
   {
    "duration": 8,
    "start_time": "2022-05-24T11:37:32.656Z"
   },
   {
    "duration": 6,
    "start_time": "2022-05-24T11:37:32.796Z"
   },
   {
    "duration": 23,
    "start_time": "2022-05-24T11:37:35.876Z"
   },
   {
    "duration": 6,
    "start_time": "2022-05-24T11:37:36.015Z"
   },
   {
    "duration": 661,
    "start_time": "2022-05-24T11:37:39.826Z"
   },
   {
    "duration": 5,
    "start_time": "2022-05-24T11:37:41.854Z"
   }
  ],
  "kernelspec": {
   "display_name": "Python 3 (ipykernel)",
   "language": "python",
   "name": "python3"
  },
  "language_info": {
   "codemirror_mode": {
    "name": "ipython",
    "version": 3
   },
   "file_extension": ".py",
   "mimetype": "text/x-python",
   "name": "python",
   "nbconvert_exporter": "python",
   "pygments_lexer": "ipython3",
   "version": "3.10.4"
  },
  "toc": {
   "base_numbering": 1,
   "nav_menu": {},
   "number_sections": true,
   "sideBar": true,
   "skip_h1_title": true,
   "title_cell": "Table of Contents",
   "title_sidebar": "Contents",
   "toc_cell": false,
   "toc_position": {},
   "toc_section_display": true,
   "toc_window_display": false
  }
 },
 "nbformat": 4,
 "nbformat_minor": 2
}
