{
 "cells": [
  {
   "cell_type": "markdown",
   "metadata": {},
   "source": [
    "#  Recommendation of the mobile phone plans for the mobile operator's company"
   ]
  },
  {
   "cell_type": "markdown",
   "metadata": {},
   "source": [
    "After the completed analysis in Porject 5 it's required to create a system that could predict the clients behavior and suggest to the client to swith on a new plans (such as \"Smart\" and \"Ultra\"). Using the provided data from project 5 it's required to train the classification models for selection of the optimal plan for clients.\n",
    "\n",
    "Additional tasks:\n",
    "- to get the accuracy score on models testing higher than 0.75;\n",
    "- check the efficacy of the models"
   ]
  },
  {
   "cell_type": "markdown",
   "metadata": {},
   "source": [
    "# Table of Content\n",
    "1. [Data import and overview](#section1)\n",
    "2. [Splitting of dataset to samples](#section2)\n",
    "3. [Model training](#section3)\n",
    "4. [Model testing](#section4)\n",
    "5. [Model efficacy testing](#section5)\n",
    "6. [General conclusion](#section6)"
   ]
  },
  {
   "cell_type": "markdown",
   "metadata": {},
   "source": [
    "<a name=\"section1\"></a> \n",
    "# Data import and overview"
   ]
  },
  {
   "cell_type": "markdown",
   "metadata": {},
   "source": [
    "**Libraries import**"
   ]
  },
  {
   "cell_type": "code",
   "execution_count": 1,
   "metadata": {},
   "outputs": [],
   "source": [
    "import pandas as pd\n",
    "import math\n",
    "from sklearn.tree import DecisionTreeClassifier\n",
    "from sklearn.ensemble import RandomForestClassifier\n",
    "from sklearn.linear_model import LogisticRegression\n",
    "from sklearn.model_selection import train_test_split\n",
    "from sklearn.metrics import accuracy_score\n",
    "from sklearn.model_selection import GridSearchCV\n",
    "from sklearn.model_selection import RandomizedSearchCV\n",
    "import warnings\n",
    "warnings.filterwarnings(\"ignore\", category=FutureWarning)"
   ]
  },
  {
   "cell_type": "markdown",
   "metadata": {},
   "source": [
    "**Data loading**"
   ]
  },
  {
   "cell_type": "code",
   "execution_count": 2,
   "metadata": {
    "scrolled": true
   },
   "outputs": [
    {
     "data": {
      "text/html": [
       "<div>\n",
       "<style scoped>\n",
       "    .dataframe tbody tr th:only-of-type {\n",
       "        vertical-align: middle;\n",
       "    }\n",
       "\n",
       "    .dataframe tbody tr th {\n",
       "        vertical-align: top;\n",
       "    }\n",
       "\n",
       "    .dataframe thead th {\n",
       "        text-align: right;\n",
       "    }\n",
       "</style>\n",
       "<table border=\"1\" class=\"dataframe\">\n",
       "  <thead>\n",
       "    <tr style=\"text-align: right;\">\n",
       "      <th></th>\n",
       "      <th>calls</th>\n",
       "      <th>minutes</th>\n",
       "      <th>messages</th>\n",
       "      <th>mb_used</th>\n",
       "      <th>is_ultra</th>\n",
       "    </tr>\n",
       "  </thead>\n",
       "  <tbody>\n",
       "    <tr>\n",
       "      <th>0</th>\n",
       "      <td>40.0</td>\n",
       "      <td>311.90</td>\n",
       "      <td>83.0</td>\n",
       "      <td>19915.42</td>\n",
       "      <td>0</td>\n",
       "    </tr>\n",
       "    <tr>\n",
       "      <th>1</th>\n",
       "      <td>85.0</td>\n",
       "      <td>516.75</td>\n",
       "      <td>56.0</td>\n",
       "      <td>22696.96</td>\n",
       "      <td>0</td>\n",
       "    </tr>\n",
       "    <tr>\n",
       "      <th>2</th>\n",
       "      <td>77.0</td>\n",
       "      <td>467.66</td>\n",
       "      <td>86.0</td>\n",
       "      <td>21060.45</td>\n",
       "      <td>0</td>\n",
       "    </tr>\n",
       "    <tr>\n",
       "      <th>3</th>\n",
       "      <td>106.0</td>\n",
       "      <td>745.53</td>\n",
       "      <td>81.0</td>\n",
       "      <td>8437.39</td>\n",
       "      <td>1</td>\n",
       "    </tr>\n",
       "    <tr>\n",
       "      <th>4</th>\n",
       "      <td>66.0</td>\n",
       "      <td>418.74</td>\n",
       "      <td>1.0</td>\n",
       "      <td>14502.75</td>\n",
       "      <td>0</td>\n",
       "    </tr>\n",
       "  </tbody>\n",
       "</table>\n",
       "</div>"
      ],
      "text/plain": [
       "   calls  minutes  messages   mb_used  is_ultra\n",
       "0   40.0   311.90      83.0  19915.42         0\n",
       "1   85.0   516.75      56.0  22696.96         0\n",
       "2   77.0   467.66      86.0  21060.45         0\n",
       "3  106.0   745.53      81.0   8437.39         1\n",
       "4   66.0   418.74       1.0  14502.75         0"
      ]
     },
     "execution_count": 2,
     "metadata": {},
     "output_type": "execute_result"
    }
   ],
   "source": [
    "df_data = pd.read_csv('users_behavior.csv')\n",
    "df_data.head()"
   ]
  },
  {
   "cell_type": "code",
   "execution_count": 3,
   "metadata": {},
   "outputs": [
    {
     "name": "stdout",
     "output_type": "stream",
     "text": [
      "<class 'pandas.core.frame.DataFrame'>\n",
      "RangeIndex: 3214 entries, 0 to 3213\n",
      "Data columns (total 5 columns):\n",
      " #   Column    Non-Null Count  Dtype  \n",
      "---  ------    --------------  -----  \n",
      " 0   calls     3214 non-null   float64\n",
      " 1   minutes   3214 non-null   float64\n",
      " 2   messages  3214 non-null   float64\n",
      " 3   mb_used   3214 non-null   float64\n",
      " 4   is_ultra  3214 non-null   int64  \n",
      "dtypes: float64(4), int64(1)\n",
      "memory usage: 125.7 KB\n"
     ]
    }
   ],
   "source": [
    "df_data.info()"
   ]
  },
  {
   "cell_type": "markdown",
   "metadata": {},
   "source": [
    "### Conclusion"
   ]
  },
  {
   "cell_type": "markdown",
   "metadata": {},
   "source": [
    "1) **Data was successfully loaded, the target columns is named 'is_ultra', other columns to be used as parameters for model training.**\n",
    "\n",
    "2) **Dataset has 3214  rows and 5 columns: quanity of calls, used minutes, used messages, used internet traffic and type of plan.**"
   ]
  },
  {
   "cell_type": "markdown",
   "metadata": {},
   "source": [
    "<a name=\"section2\"></a>\n",
    "\n",
    "# Splitting of dataset to samples"
   ]
  },
  {
   "cell_type": "code",
   "execution_count": 4,
   "metadata": {},
   "outputs": [],
   "source": [
    "# set the columns _is ultra as target, other as features\n",
    "features = df_data.drop(columns = 'is_ultra')\n",
    "target = df_data.is_ultra"
   ]
  },
  {
   "cell_type": "code",
   "execution_count": 5,
   "metadata": {},
   "outputs": [],
   "source": [
    "# split the data to train and valid samples\n",
    "features_train,features_valid_temp,target_train,target_valid_temp = train_test_split(features,target,\n",
    "                                                                                     test_size=0.4, random_state=12345)"
   ]
  },
  {
   "cell_type": "code",
   "execution_count": 6,
   "metadata": {
    "scrolled": true
   },
   "outputs": [
    {
     "data": {
      "text/plain": [
       "0.5998755444928439"
      ]
     },
     "execution_count": 6,
     "metadata": {},
     "output_type": "execute_result"
    }
   ],
   "source": [
    "# percentage check\n",
    "features_train['calls'].count()/features['calls'].count()"
   ]
  },
  {
   "cell_type": "code",
   "execution_count": 7,
   "metadata": {},
   "outputs": [
    {
     "data": {
      "text/plain": [
       "0.4001244555071562"
      ]
     },
     "execution_count": 7,
     "metadata": {},
     "output_type": "execute_result"
    }
   ],
   "source": [
    "# percentage check\n",
    "features_valid_temp['calls'].count()/features['calls'].count()"
   ]
  },
  {
   "cell_type": "code",
   "execution_count": 8,
   "metadata": {},
   "outputs": [
    {
     "name": "stdout",
     "output_type": "stream",
     "text": [
      "<class 'pandas.core.frame.DataFrame'>\n",
      "Int64Index: 1286 entries, 1415 to 711\n",
      "Data columns (total 4 columns):\n",
      " #   Column    Non-Null Count  Dtype  \n",
      "---  ------    --------------  -----  \n",
      " 0   calls     1286 non-null   float64\n",
      " 1   minutes   1286 non-null   float64\n",
      " 2   messages  1286 non-null   float64\n",
      " 3   mb_used   1286 non-null   float64\n",
      "dtypes: float64(4)\n",
      "memory usage: 50.2 KB\n"
     ]
    }
   ],
   "source": [
    "# features check\n",
    "features_valid_temp.info()"
   ]
  },
  {
   "cell_type": "code",
   "execution_count": 9,
   "metadata": {},
   "outputs": [],
   "source": [
    "# splitting data to test and valid\n",
    "features_valid,features_test,target_valid,target_test = train_test_split(features_valid_temp,target_valid_temp,test_size=0.5, random_state=12345)"
   ]
  },
  {
   "cell_type": "code",
   "execution_count": 10,
   "metadata": {},
   "outputs": [
    {
     "data": {
      "text/plain": [
       "0.2000622277535781"
      ]
     },
     "execution_count": 10,
     "metadata": {},
     "output_type": "execute_result"
    }
   ],
   "source": [
    "# percentage check\n",
    "features_valid['calls'].count()/features['calls'].count()"
   ]
  },
  {
   "cell_type": "code",
   "execution_count": 11,
   "metadata": {},
   "outputs": [
    {
     "data": {
      "text/plain": [
       "0.2000622277535781"
      ]
     },
     "execution_count": 11,
     "metadata": {},
     "output_type": "execute_result"
    }
   ],
   "source": [
    "# percentage check\n",
    "features_test['calls'].count()/features['calls'].count()"
   ]
  },
  {
   "cell_type": "markdown",
   "metadata": {},
   "source": [
    "### Conclusion"
   ]
  },
  {
   "cell_type": "markdown",
   "metadata": {},
   "source": [
    "**Dataset was splitted on target and features, train sample has 60% of data, valid and test 20%**"
   ]
  },
  {
   "cell_type": "markdown",
   "metadata": {},
   "source": [
    "<a name=\"section3\"></a>\n",
    "\n",
    "# 3 Model training"
   ]
  },
  {
   "cell_type": "markdown",
   "metadata": {},
   "source": [
    "**Decision tree model training (model_a)**\n",
    "\n",
    "Searching for optimal depth (from 1 to 10)"
   ]
  },
  {
   "cell_type": "code",
   "execution_count": 12,
   "metadata": {},
   "outputs": [
    {
     "name": "stdout",
     "output_type": "stream",
     "text": [
      "\n",
      " Best_model = DecisionTreeClassifier(max_depth=3, random_state=12345) \n",
      " Best accuracy: 0.7853810264385692 \n",
      " depth: 3\n"
     ]
    }
   ],
   "source": [
    "best_model_a = 'none'\n",
    "best_accuracy_a = 0\n",
    "best_depth_a = 0\n",
    "for depth in range (1,10):\n",
    "    model_a = DecisionTreeClassifier(random_state=12345, max_depth = depth)\n",
    "    model_a.fit(features_train, target_train)\n",
    "    predictions_valid_a = model_a.predict(features_valid)\n",
    "    accuracy_a = accuracy_score(target_valid,predictions_valid_a)\n",
    "    if accuracy_a > best_accuracy_a:\n",
    "        best_model_a = model_a\n",
    "        best_accuracy_a = accuracy_a\n",
    "        best_depth_a = depth\n",
    "\n",
    "print('\\n','Best_model =',best_model_a, '\\n','Best accuracy:',best_accuracy_a,'\\n','depth:',best_depth_a)"
   ]
  },
  {
   "cell_type": "markdown",
   "metadata": {},
   "source": [
    "**Random forest model training (model_b)**\n",
    "\n",
    "Searchnig for optimal quantity of leaves (from 10 to 70 using step equal to 10) and optimal depth (from 1 to 10)"
   ]
  },
  {
   "cell_type": "code",
   "execution_count": 13,
   "metadata": {},
   "outputs": [
    {
     "name": "stdout",
     "output_type": "stream",
     "text": [
      "\n",
      " Best model = RandomForestClassifier(max_depth=8, n_estimators=40, random_state=12345) \n",
      " Best accuracy: 0.8087091757387247 \n",
      " Depth: 8 \n",
      " Quantity of leaves = 40\n"
     ]
    }
   ],
   "source": [
    "best_model_b = 'none'\n",
    "best_accuracy_b = 0\n",
    "best_depth_b = 0\n",
    "best_est = 0\n",
    "for est in range(10,71,10):\n",
    "    for depth in range (1,10):\n",
    "        model_b = RandomForestClassifier(random_state=12345,n_estimators = est, max_depth = depth)\n",
    "        model_b.fit(features_train, target_train)\n",
    "        predictions_valid_b = model_b.predict(features_valid)\n",
    "        accuracy_b = accuracy_score(target_valid,predictions_valid_b)\n",
    "        if accuracy_b > best_accuracy_b:\n",
    "            best_model_b = model_b\n",
    "            best_accuracy_b = accuracy_b\n",
    "            best_depth_b = depth\n",
    "            best_est = est\n",
    "            \n",
    "print( '\\n', 'Best model =',best_model_b, '\\n','Best accuracy:',best_accuracy_b,'\\n','Depth:',best_depth_b,\n",
    "      '\\n','Quantity of leaves =',best_est)"
   ]
  },
  {
   "cell_type": "markdown",
   "metadata": {},
   "source": [
    "**Logistic regression model trainig (model_c)**"
   ]
  },
  {
   "cell_type": "code",
   "execution_count": 14,
   "metadata": {},
   "outputs": [
    {
     "name": "stdout",
     "output_type": "stream",
     "text": [
      "\n",
      " best model = LogisticRegression(random_state=12345) \n",
      " model accuracy: 0.7107309486780715\n"
     ]
    }
   ],
   "source": [
    "model_c = LogisticRegression(random_state=12345)\n",
    "model_c.fit(features_train, target_train)\n",
    "predictions_valid_c = model_c.predict(features_valid)\n",
    "accuracy_c = accuracy_score(target_valid,predictions_valid_c)\n",
    "\n",
    "print('\\n','best model =',model_c, '\\n','model accuracy:',accuracy_c)"
   ]
  },
  {
   "cell_type": "markdown",
   "metadata": {},
   "source": [
    "## Conclusion"
   ]
  },
  {
   "cell_type": "markdown",
   "metadata": {},
   "source": [
    "**During model training the different types of the models were trained using different hyperparameters.**\n",
    "\n",
    "**Best models were selected  for further use.**"
   ]
  },
  {
   "cell_type": "markdown",
   "metadata": {},
   "source": [
    "# Hyperparameters tuning"
   ]
  },
  {
   "cell_type": "markdown",
   "metadata": {},
   "source": [
    "**Hyperparameters tuning for random forest model using grid search**"
   ]
  },
  {
   "cell_type": "code",
   "execution_count": 15,
   "metadata": {},
   "outputs": [],
   "source": [
    "parameters = { 'n_estimators': range (10, 71, 10),\n",
    "              'max_depth': range (1,10)}\n",
    "\n",
    "grid_a = GridSearchCV(RandomForestClassifier(), parameters)"
   ]
  },
  {
   "cell_type": "code",
   "execution_count": 16,
   "metadata": {
    "scrolled": true
   },
   "outputs": [
    {
     "data": {
      "text/html": [
       "<style>#sk-container-id-1 {color: black;background-color: white;}#sk-container-id-1 pre{padding: 0;}#sk-container-id-1 div.sk-toggleable {background-color: white;}#sk-container-id-1 label.sk-toggleable__label {cursor: pointer;display: block;width: 100%;margin-bottom: 0;padding: 0.3em;box-sizing: border-box;text-align: center;}#sk-container-id-1 label.sk-toggleable__label-arrow:before {content: \"▸\";float: left;margin-right: 0.25em;color: #696969;}#sk-container-id-1 label.sk-toggleable__label-arrow:hover:before {color: black;}#sk-container-id-1 div.sk-estimator:hover label.sk-toggleable__label-arrow:before {color: black;}#sk-container-id-1 div.sk-toggleable__content {max-height: 0;max-width: 0;overflow: hidden;text-align: left;background-color: #f0f8ff;}#sk-container-id-1 div.sk-toggleable__content pre {margin: 0.2em;color: black;border-radius: 0.25em;background-color: #f0f8ff;}#sk-container-id-1 input.sk-toggleable__control:checked~div.sk-toggleable__content {max-height: 200px;max-width: 100%;overflow: auto;}#sk-container-id-1 input.sk-toggleable__control:checked~label.sk-toggleable__label-arrow:before {content: \"▾\";}#sk-container-id-1 div.sk-estimator input.sk-toggleable__control:checked~label.sk-toggleable__label {background-color: #d4ebff;}#sk-container-id-1 div.sk-label input.sk-toggleable__control:checked~label.sk-toggleable__label {background-color: #d4ebff;}#sk-container-id-1 input.sk-hidden--visually {border: 0;clip: rect(1px 1px 1px 1px);clip: rect(1px, 1px, 1px, 1px);height: 1px;margin: -1px;overflow: hidden;padding: 0;position: absolute;width: 1px;}#sk-container-id-1 div.sk-estimator {font-family: monospace;background-color: #f0f8ff;border: 1px dotted black;border-radius: 0.25em;box-sizing: border-box;margin-bottom: 0.5em;}#sk-container-id-1 div.sk-estimator:hover {background-color: #d4ebff;}#sk-container-id-1 div.sk-parallel-item::after {content: \"\";width: 100%;border-bottom: 1px solid gray;flex-grow: 1;}#sk-container-id-1 div.sk-label:hover label.sk-toggleable__label {background-color: #d4ebff;}#sk-container-id-1 div.sk-serial::before {content: \"\";position: absolute;border-left: 1px solid gray;box-sizing: border-box;top: 0;bottom: 0;left: 50%;z-index: 0;}#sk-container-id-1 div.sk-serial {display: flex;flex-direction: column;align-items: center;background-color: white;padding-right: 0.2em;padding-left: 0.2em;position: relative;}#sk-container-id-1 div.sk-item {position: relative;z-index: 1;}#sk-container-id-1 div.sk-parallel {display: flex;align-items: stretch;justify-content: center;background-color: white;position: relative;}#sk-container-id-1 div.sk-item::before, #sk-container-id-1 div.sk-parallel-item::before {content: \"\";position: absolute;border-left: 1px solid gray;box-sizing: border-box;top: 0;bottom: 0;left: 50%;z-index: -1;}#sk-container-id-1 div.sk-parallel-item {display: flex;flex-direction: column;z-index: 1;position: relative;background-color: white;}#sk-container-id-1 div.sk-parallel-item:first-child::after {align-self: flex-end;width: 50%;}#sk-container-id-1 div.sk-parallel-item:last-child::after {align-self: flex-start;width: 50%;}#sk-container-id-1 div.sk-parallel-item:only-child::after {width: 0;}#sk-container-id-1 div.sk-dashed-wrapped {border: 1px dashed gray;margin: 0 0.4em 0.5em 0.4em;box-sizing: border-box;padding-bottom: 0.4em;background-color: white;}#sk-container-id-1 div.sk-label label {font-family: monospace;font-weight: bold;display: inline-block;line-height: 1.2em;}#sk-container-id-1 div.sk-label-container {text-align: center;}#sk-container-id-1 div.sk-container {/* jupyter's `normalize.less` sets `[hidden] { display: none; }` but bootstrap.min.css set `[hidden] { display: none !important; }` so we also need the `!important` here to be able to override the default hidden behavior on the sphinx rendered scikit-learn.org. See: https://github.com/scikit-learn/scikit-learn/issues/21755 */display: inline-block !important;position: relative;}#sk-container-id-1 div.sk-text-repr-fallback {display: none;}</style><div id=\"sk-container-id-1\" class=\"sk-top-container\"><div class=\"sk-text-repr-fallback\"><pre>GridSearchCV(estimator=RandomForestClassifier(),\n",
       "             param_grid={&#x27;max_depth&#x27;: range(1, 10),\n",
       "                         &#x27;n_estimators&#x27;: range(10, 71, 10)})</pre><b>In a Jupyter environment, please rerun this cell to show the HTML representation or trust the notebook. <br />On GitHub, the HTML representation is unable to render, please try loading this page with nbviewer.org.</b></div><div class=\"sk-container\" hidden><div class=\"sk-item sk-dashed-wrapped\"><div class=\"sk-label-container\"><div class=\"sk-label sk-toggleable\"><input class=\"sk-toggleable__control sk-hidden--visually\" id=\"sk-estimator-id-1\" type=\"checkbox\" ><label for=\"sk-estimator-id-1\" class=\"sk-toggleable__label sk-toggleable__label-arrow\">GridSearchCV</label><div class=\"sk-toggleable__content\"><pre>GridSearchCV(estimator=RandomForestClassifier(),\n",
       "             param_grid={&#x27;max_depth&#x27;: range(1, 10),\n",
       "                         &#x27;n_estimators&#x27;: range(10, 71, 10)})</pre></div></div></div><div class=\"sk-parallel\"><div class=\"sk-parallel-item\"><div class=\"sk-item\"><div class=\"sk-label-container\"><div class=\"sk-label sk-toggleable\"><input class=\"sk-toggleable__control sk-hidden--visually\" id=\"sk-estimator-id-2\" type=\"checkbox\" ><label for=\"sk-estimator-id-2\" class=\"sk-toggleable__label sk-toggleable__label-arrow\">estimator: RandomForestClassifier</label><div class=\"sk-toggleable__content\"><pre>RandomForestClassifier()</pre></div></div></div><div class=\"sk-serial\"><div class=\"sk-item\"><div class=\"sk-estimator sk-toggleable\"><input class=\"sk-toggleable__control sk-hidden--visually\" id=\"sk-estimator-id-3\" type=\"checkbox\" ><label for=\"sk-estimator-id-3\" class=\"sk-toggleable__label sk-toggleable__label-arrow\">RandomForestClassifier</label><div class=\"sk-toggleable__content\"><pre>RandomForestClassifier()</pre></div></div></div></div></div></div></div></div></div></div>"
      ],
      "text/plain": [
       "GridSearchCV(estimator=RandomForestClassifier(),\n",
       "             param_grid={'max_depth': range(1, 10),\n",
       "                         'n_estimators': range(10, 71, 10)})"
      ]
     },
     "execution_count": 16,
     "metadata": {},
     "output_type": "execute_result"
    }
   ],
   "source": [
    "grid_a.fit(features_train, target_train)"
   ]
  },
  {
   "cell_type": "code",
   "execution_count": 17,
   "metadata": {
    "scrolled": false
   },
   "outputs": [
    {
     "data": {
      "text/plain": [
       "{'max_depth': 8, 'n_estimators': 70}"
      ]
     },
     "execution_count": 17,
     "metadata": {},
     "output_type": "execute_result"
    }
   ],
   "source": [
    "grid_a.best_params_"
   ]
  },
  {
   "cell_type": "code",
   "execution_count": 18,
   "metadata": {},
   "outputs": [
    {
     "data": {
      "text/plain": [
       "0.7978227060653188"
      ]
     },
     "execution_count": 18,
     "metadata": {},
     "output_type": "execute_result"
    }
   ],
   "source": [
    "# display the accuracy of rf model with tuned hyperparameters\n",
    "model_d = RandomForestClassifier(random_state=12345,n_estimators =grid_a.best_params_['n_estimators'],max_depth = grid_a.best_params_['max_depth'])\n",
    "model_d.fit(features_train, target_train)\n",
    "predictions_valid_d = model_d.predict(features_valid)\n",
    "accuracy_d = accuracy_score(target_valid,predictions_valid_d)\n",
    "accuracy_d"
   ]
  },
  {
   "cell_type": "markdown",
   "metadata": {},
   "source": [
    "**Hyperparameters tuning for randomforest model usig random search**"
   ]
  },
  {
   "cell_type": "code",
   "execution_count": 19,
   "metadata": {},
   "outputs": [],
   "source": [
    "grid_b = RandomizedSearchCV(RandomForestClassifier(),parameters)"
   ]
  },
  {
   "cell_type": "code",
   "execution_count": 20,
   "metadata": {},
   "outputs": [
    {
     "data": {
      "text/html": [
       "<style>#sk-container-id-2 {color: black;background-color: white;}#sk-container-id-2 pre{padding: 0;}#sk-container-id-2 div.sk-toggleable {background-color: white;}#sk-container-id-2 label.sk-toggleable__label {cursor: pointer;display: block;width: 100%;margin-bottom: 0;padding: 0.3em;box-sizing: border-box;text-align: center;}#sk-container-id-2 label.sk-toggleable__label-arrow:before {content: \"▸\";float: left;margin-right: 0.25em;color: #696969;}#sk-container-id-2 label.sk-toggleable__label-arrow:hover:before {color: black;}#sk-container-id-2 div.sk-estimator:hover label.sk-toggleable__label-arrow:before {color: black;}#sk-container-id-2 div.sk-toggleable__content {max-height: 0;max-width: 0;overflow: hidden;text-align: left;background-color: #f0f8ff;}#sk-container-id-2 div.sk-toggleable__content pre {margin: 0.2em;color: black;border-radius: 0.25em;background-color: #f0f8ff;}#sk-container-id-2 input.sk-toggleable__control:checked~div.sk-toggleable__content {max-height: 200px;max-width: 100%;overflow: auto;}#sk-container-id-2 input.sk-toggleable__control:checked~label.sk-toggleable__label-arrow:before {content: \"▾\";}#sk-container-id-2 div.sk-estimator input.sk-toggleable__control:checked~label.sk-toggleable__label {background-color: #d4ebff;}#sk-container-id-2 div.sk-label input.sk-toggleable__control:checked~label.sk-toggleable__label {background-color: #d4ebff;}#sk-container-id-2 input.sk-hidden--visually {border: 0;clip: rect(1px 1px 1px 1px);clip: rect(1px, 1px, 1px, 1px);height: 1px;margin: -1px;overflow: hidden;padding: 0;position: absolute;width: 1px;}#sk-container-id-2 div.sk-estimator {font-family: monospace;background-color: #f0f8ff;border: 1px dotted black;border-radius: 0.25em;box-sizing: border-box;margin-bottom: 0.5em;}#sk-container-id-2 div.sk-estimator:hover {background-color: #d4ebff;}#sk-container-id-2 div.sk-parallel-item::after {content: \"\";width: 100%;border-bottom: 1px solid gray;flex-grow: 1;}#sk-container-id-2 div.sk-label:hover label.sk-toggleable__label {background-color: #d4ebff;}#sk-container-id-2 div.sk-serial::before {content: \"\";position: absolute;border-left: 1px solid gray;box-sizing: border-box;top: 0;bottom: 0;left: 50%;z-index: 0;}#sk-container-id-2 div.sk-serial {display: flex;flex-direction: column;align-items: center;background-color: white;padding-right: 0.2em;padding-left: 0.2em;position: relative;}#sk-container-id-2 div.sk-item {position: relative;z-index: 1;}#sk-container-id-2 div.sk-parallel {display: flex;align-items: stretch;justify-content: center;background-color: white;position: relative;}#sk-container-id-2 div.sk-item::before, #sk-container-id-2 div.sk-parallel-item::before {content: \"\";position: absolute;border-left: 1px solid gray;box-sizing: border-box;top: 0;bottom: 0;left: 50%;z-index: -1;}#sk-container-id-2 div.sk-parallel-item {display: flex;flex-direction: column;z-index: 1;position: relative;background-color: white;}#sk-container-id-2 div.sk-parallel-item:first-child::after {align-self: flex-end;width: 50%;}#sk-container-id-2 div.sk-parallel-item:last-child::after {align-self: flex-start;width: 50%;}#sk-container-id-2 div.sk-parallel-item:only-child::after {width: 0;}#sk-container-id-2 div.sk-dashed-wrapped {border: 1px dashed gray;margin: 0 0.4em 0.5em 0.4em;box-sizing: border-box;padding-bottom: 0.4em;background-color: white;}#sk-container-id-2 div.sk-label label {font-family: monospace;font-weight: bold;display: inline-block;line-height: 1.2em;}#sk-container-id-2 div.sk-label-container {text-align: center;}#sk-container-id-2 div.sk-container {/* jupyter's `normalize.less` sets `[hidden] { display: none; }` but bootstrap.min.css set `[hidden] { display: none !important; }` so we also need the `!important` here to be able to override the default hidden behavior on the sphinx rendered scikit-learn.org. See: https://github.com/scikit-learn/scikit-learn/issues/21755 */display: inline-block !important;position: relative;}#sk-container-id-2 div.sk-text-repr-fallback {display: none;}</style><div id=\"sk-container-id-2\" class=\"sk-top-container\"><div class=\"sk-text-repr-fallback\"><pre>RandomizedSearchCV(estimator=RandomForestClassifier(),\n",
       "                   param_distributions={&#x27;max_depth&#x27;: range(1, 10),\n",
       "                                        &#x27;n_estimators&#x27;: range(10, 71, 10)})</pre><b>In a Jupyter environment, please rerun this cell to show the HTML representation or trust the notebook. <br />On GitHub, the HTML representation is unable to render, please try loading this page with nbviewer.org.</b></div><div class=\"sk-container\" hidden><div class=\"sk-item sk-dashed-wrapped\"><div class=\"sk-label-container\"><div class=\"sk-label sk-toggleable\"><input class=\"sk-toggleable__control sk-hidden--visually\" id=\"sk-estimator-id-4\" type=\"checkbox\" ><label for=\"sk-estimator-id-4\" class=\"sk-toggleable__label sk-toggleable__label-arrow\">RandomizedSearchCV</label><div class=\"sk-toggleable__content\"><pre>RandomizedSearchCV(estimator=RandomForestClassifier(),\n",
       "                   param_distributions={&#x27;max_depth&#x27;: range(1, 10),\n",
       "                                        &#x27;n_estimators&#x27;: range(10, 71, 10)})</pre></div></div></div><div class=\"sk-parallel\"><div class=\"sk-parallel-item\"><div class=\"sk-item\"><div class=\"sk-label-container\"><div class=\"sk-label sk-toggleable\"><input class=\"sk-toggleable__control sk-hidden--visually\" id=\"sk-estimator-id-5\" type=\"checkbox\" ><label for=\"sk-estimator-id-5\" class=\"sk-toggleable__label sk-toggleable__label-arrow\">estimator: RandomForestClassifier</label><div class=\"sk-toggleable__content\"><pre>RandomForestClassifier()</pre></div></div></div><div class=\"sk-serial\"><div class=\"sk-item\"><div class=\"sk-estimator sk-toggleable\"><input class=\"sk-toggleable__control sk-hidden--visually\" id=\"sk-estimator-id-6\" type=\"checkbox\" ><label for=\"sk-estimator-id-6\" class=\"sk-toggleable__label sk-toggleable__label-arrow\">RandomForestClassifier</label><div class=\"sk-toggleable__content\"><pre>RandomForestClassifier()</pre></div></div></div></div></div></div></div></div></div></div>"
      ],
      "text/plain": [
       "RandomizedSearchCV(estimator=RandomForestClassifier(),\n",
       "                   param_distributions={'max_depth': range(1, 10),\n",
       "                                        'n_estimators': range(10, 71, 10)})"
      ]
     },
     "execution_count": 20,
     "metadata": {},
     "output_type": "execute_result"
    }
   ],
   "source": [
    "grid_b.fit(features_train, target_train)"
   ]
  },
  {
   "cell_type": "code",
   "execution_count": 21,
   "metadata": {},
   "outputs": [
    {
     "data": {
      "text/plain": [
       "{'n_estimators': 30, 'max_depth': 8}"
      ]
     },
     "execution_count": 21,
     "metadata": {},
     "output_type": "execute_result"
    }
   ],
   "source": [
    "grid_b.best_params_"
   ]
  },
  {
   "cell_type": "code",
   "execution_count": 22,
   "metadata": {},
   "outputs": [
    {
     "data": {
      "text/plain": [
       "0.7993779160186625"
      ]
     },
     "execution_count": 22,
     "metadata": {},
     "output_type": "execute_result"
    }
   ],
   "source": [
    "# display the accuracy of rf model with tuned hyperparameters\n",
    "model_e = RandomForestClassifier(random_state=12345,n_estimators =grid_b.best_params_['n_estimators'],max_depth = grid_b.best_params_['max_depth'])\n",
    "model_e.fit(features_train, target_train)\n",
    "predictions_valid_e = model_e.predict(features_valid)\n",
    "accuracy_e = accuracy_score(target_valid,predictions_valid_e)\n",
    "accuracy_e"
   ]
  },
  {
   "cell_type": "markdown",
   "metadata": {},
   "source": [
    "<a name=\"section4\"></a>\n",
    "\n",
    "## Models testing"
   ]
  },
  {
   "cell_type": "markdown",
   "metadata": {},
   "source": [
    "**model_a testing**"
   ]
  },
  {
   "cell_type": "code",
   "execution_count": 23,
   "metadata": {},
   "outputs": [
    {
     "name": "stdout",
     "output_type": "stream",
     "text": [
      "model_а accuracy = 0.7791601866251944\n"
     ]
    }
   ],
   "source": [
    "test_predictions_a = best_model_a.predict(features_test)\n",
    "test_accuracy_a =  accuracy_score(target_test,test_predictions_a)\n",
    "\n",
    "print('model_а accuracy =', test_accuracy_a)"
   ]
  },
  {
   "cell_type": "markdown",
   "metadata": {},
   "source": [
    "**model_b testing**"
   ]
  },
  {
   "cell_type": "code",
   "execution_count": 24,
   "metadata": {},
   "outputs": [
    {
     "name": "stdout",
     "output_type": "stream",
     "text": [
      "model_b accuracy =  0.7962674961119751\n"
     ]
    }
   ],
   "source": [
    "test_predictions_b = best_model_b.predict(features_test)\n",
    "test_accuracy_b =  accuracy_score(target_test,test_predictions_b)\n",
    "\n",
    "print('model_b accuracy = ', test_accuracy_b)"
   ]
  },
  {
   "cell_type": "markdown",
   "metadata": {},
   "source": [
    "**model_c testing**"
   ]
  },
  {
   "cell_type": "code",
   "execution_count": 25,
   "metadata": {},
   "outputs": [
    {
     "name": "stdout",
     "output_type": "stream",
     "text": [
      "model_c accuracy  0.6842923794712286\n"
     ]
    }
   ],
   "source": [
    "test_predictions_c = model_c.predict(features_test)\n",
    "test_accuracy_c =  accuracy_score(target_test,test_predictions_c)\n",
    "\n",
    "print('model_c accuracy ', test_accuracy_c)"
   ]
  },
  {
   "cell_type": "markdown",
   "metadata": {},
   "source": [
    "**model_d testing**"
   ]
  },
  {
   "cell_type": "code",
   "execution_count": 26,
   "metadata": {},
   "outputs": [
    {
     "name": "stdout",
     "output_type": "stream",
     "text": [
      "model_d accuracy  0.8055987558320373\n"
     ]
    }
   ],
   "source": [
    "test_predictions_d = model_d.predict(features_test)\n",
    "test_accuracy_d =  accuracy_score(target_test,test_predictions_d)\n",
    "\n",
    "print('model_d accuracy ', test_accuracy_d)"
   ]
  },
  {
   "cell_type": "markdown",
   "metadata": {},
   "source": [
    "**model_e testing**"
   ]
  },
  {
   "cell_type": "code",
   "execution_count": 27,
   "metadata": {},
   "outputs": [
    {
     "name": "stdout",
     "output_type": "stream",
     "text": [
      "model_e accuracy 0.7931570762052877\n"
     ]
    }
   ],
   "source": [
    "test_predictions_e = model_e.predict(features_test)\n",
    "test_accuracy_e =  accuracy_score(target_test,test_predictions_e)\n",
    "\n",
    "print('model_e accuracy', test_accuracy_e)"
   ]
  },
  {
   "cell_type": "markdown",
   "metadata": {},
   "source": [
    "**comparison of results**"
   ]
  },
  {
   "cell_type": "code",
   "execution_count": 28,
   "metadata": {},
   "outputs": [],
   "source": [
    "models_df = pd.DataFrame({'model_name': ['model_a','model_b','model_c','model_d','model_e'], \n",
    "                          'model_accuracy': [test_accuracy_a,test_accuracy_b,test_accuracy_c,\n",
    "                                             test_accuracy_e,test_accuracy_d,],\n",
    "                         'prediction':[test_predictions_a,test_predictions_b,test_predictions_c,test_predictions_d,test_predictions_e]})"
   ]
  },
  {
   "cell_type": "code",
   "execution_count": 29,
   "metadata": {},
   "outputs": [],
   "source": [
    "models_df = models_df.sort_values(by = 'model_accuracy', ascending = False).reset_index(drop = True)"
   ]
  },
  {
   "cell_type": "code",
   "execution_count": 30,
   "metadata": {},
   "outputs": [
    {
     "data": {
      "text/html": [
       "<div>\n",
       "<style scoped>\n",
       "    .dataframe tbody tr th:only-of-type {\n",
       "        vertical-align: middle;\n",
       "    }\n",
       "\n",
       "    .dataframe tbody tr th {\n",
       "        vertical-align: top;\n",
       "    }\n",
       "\n",
       "    .dataframe thead th {\n",
       "        text-align: right;\n",
       "    }\n",
       "</style>\n",
       "<table border=\"1\" class=\"dataframe\">\n",
       "  <thead>\n",
       "    <tr style=\"text-align: right;\">\n",
       "      <th></th>\n",
       "      <th>model_name</th>\n",
       "      <th>model_accuracy</th>\n",
       "      <th>prediction</th>\n",
       "    </tr>\n",
       "  </thead>\n",
       "  <tbody>\n",
       "    <tr>\n",
       "      <th>0</th>\n",
       "      <td>model_e</td>\n",
       "      <td>0.805599</td>\n",
       "      <td>[0, 1, 1, 0, 0, 0, 0, 0, 0, 0, 0, 1, 0, 1, 0, ...</td>\n",
       "    </tr>\n",
       "    <tr>\n",
       "      <th>1</th>\n",
       "      <td>model_b</td>\n",
       "      <td>0.796267</td>\n",
       "      <td>[0, 1, 0, 0, 0, 0, 0, 0, 0, 0, 0, 1, 0, 1, 0, ...</td>\n",
       "    </tr>\n",
       "    <tr>\n",
       "      <th>2</th>\n",
       "      <td>model_d</td>\n",
       "      <td>0.793157</td>\n",
       "      <td>[0, 1, 0, 0, 0, 0, 0, 0, 0, 0, 0, 1, 0, 1, 0, ...</td>\n",
       "    </tr>\n",
       "    <tr>\n",
       "      <th>3</th>\n",
       "      <td>model_a</td>\n",
       "      <td>0.779160</td>\n",
       "      <td>[0, 1, 0, 0, 1, 0, 0, 0, 0, 0, 0, 1, 0, 1, 0, ...</td>\n",
       "    </tr>\n",
       "    <tr>\n",
       "      <th>4</th>\n",
       "      <td>model_c</td>\n",
       "      <td>0.684292</td>\n",
       "      <td>[0, 0, 0, 0, 0, 0, 0, 0, 0, 0, 0, 0, 0, 0, 0, ...</td>\n",
       "    </tr>\n",
       "  </tbody>\n",
       "</table>\n",
       "</div>"
      ],
      "text/plain": [
       "  model_name  model_accuracy  \\\n",
       "0    model_e        0.805599   \n",
       "1    model_b        0.796267   \n",
       "2    model_d        0.793157   \n",
       "3    model_a        0.779160   \n",
       "4    model_c        0.684292   \n",
       "\n",
       "                                          prediction  \n",
       "0  [0, 1, 1, 0, 0, 0, 0, 0, 0, 0, 0, 1, 0, 1, 0, ...  \n",
       "1  [0, 1, 0, 0, 0, 0, 0, 0, 0, 0, 0, 1, 0, 1, 0, ...  \n",
       "2  [0, 1, 0, 0, 0, 0, 0, 0, 0, 0, 0, 1, 0, 1, 0, ...  \n",
       "3  [0, 1, 0, 0, 1, 0, 0, 0, 0, 0, 0, 1, 0, 1, 0, ...  \n",
       "4  [0, 0, 0, 0, 0, 0, 0, 0, 0, 0, 0, 0, 0, 0, 0, ...  "
      ]
     },
     "execution_count": 30,
     "metadata": {},
     "output_type": "execute_result"
    }
   ],
   "source": [
    "models_df"
   ]
  },
  {
   "cell_type": "markdown",
   "metadata": {},
   "source": [
    "### Conclusion"
   ]
  },
  {
   "cell_type": "markdown",
   "metadata": {},
   "source": [
    "**Models testing were done, models E, B and D have the best accuracy score - higher than 79%**"
   ]
  },
  {
   "cell_type": "markdown",
   "metadata": {},
   "source": [
    "<a name=\"section5\"></a>\n",
    "\n",
    "# Model efficacy testing"
   ]
  },
  {
   "cell_type": "markdown",
   "metadata": {},
   "source": [
    "### Creating of test dataset"
   ]
  },
  {
   "cell_type": "code",
   "execution_count": 31,
   "metadata": {
    "scrolled": false
   },
   "outputs": [
    {
     "data": {
      "text/html": [
       "<div>\n",
       "<style scoped>\n",
       "    .dataframe tbody tr th:only-of-type {\n",
       "        vertical-align: middle;\n",
       "    }\n",
       "\n",
       "    .dataframe tbody tr th {\n",
       "        vertical-align: top;\n",
       "    }\n",
       "\n",
       "    .dataframe thead th {\n",
       "        text-align: right;\n",
       "    }\n",
       "</style>\n",
       "<table border=\"1\" class=\"dataframe\">\n",
       "  <thead>\n",
       "    <tr style=\"text-align: right;\">\n",
       "      <th></th>\n",
       "      <th>calls</th>\n",
       "      <th>minutes</th>\n",
       "      <th>messages</th>\n",
       "      <th>mb_used</th>\n",
       "      <th>is_ultra</th>\n",
       "    </tr>\n",
       "  </thead>\n",
       "  <tbody>\n",
       "    <tr>\n",
       "      <th>160</th>\n",
       "      <td>61.0</td>\n",
       "      <td>495.11</td>\n",
       "      <td>8.0</td>\n",
       "      <td>10891.23</td>\n",
       "      <td>0</td>\n",
       "    </tr>\n",
       "    <tr>\n",
       "      <th>2498</th>\n",
       "      <td>80.0</td>\n",
       "      <td>555.04</td>\n",
       "      <td>28.0</td>\n",
       "      <td>28083.58</td>\n",
       "      <td>0</td>\n",
       "    </tr>\n",
       "    <tr>\n",
       "      <th>1748</th>\n",
       "      <td>87.0</td>\n",
       "      <td>697.23</td>\n",
       "      <td>0.0</td>\n",
       "      <td>8335.70</td>\n",
       "      <td>0</td>\n",
       "    </tr>\n",
       "    <tr>\n",
       "      <th>1816</th>\n",
       "      <td>41.0</td>\n",
       "      <td>275.80</td>\n",
       "      <td>9.0</td>\n",
       "      <td>10032.39</td>\n",
       "      <td>0</td>\n",
       "    </tr>\n",
       "    <tr>\n",
       "      <th>1077</th>\n",
       "      <td>60.0</td>\n",
       "      <td>428.49</td>\n",
       "      <td>20.0</td>\n",
       "      <td>29389.52</td>\n",
       "      <td>1</td>\n",
       "    </tr>\n",
       "    <tr>\n",
       "      <th>...</th>\n",
       "      <td>...</td>\n",
       "      <td>...</td>\n",
       "      <td>...</td>\n",
       "      <td>...</td>\n",
       "      <td>...</td>\n",
       "    </tr>\n",
       "    <tr>\n",
       "      <th>2401</th>\n",
       "      <td>55.0</td>\n",
       "      <td>446.06</td>\n",
       "      <td>79.0</td>\n",
       "      <td>26526.28</td>\n",
       "      <td>0</td>\n",
       "    </tr>\n",
       "    <tr>\n",
       "      <th>2928</th>\n",
       "      <td>102.0</td>\n",
       "      <td>742.65</td>\n",
       "      <td>58.0</td>\n",
       "      <td>16089.24</td>\n",
       "      <td>1</td>\n",
       "    </tr>\n",
       "    <tr>\n",
       "      <th>1985</th>\n",
       "      <td>52.0</td>\n",
       "      <td>349.94</td>\n",
       "      <td>42.0</td>\n",
       "      <td>12150.72</td>\n",
       "      <td>0</td>\n",
       "    </tr>\n",
       "    <tr>\n",
       "      <th>357</th>\n",
       "      <td>39.0</td>\n",
       "      <td>221.18</td>\n",
       "      <td>59.0</td>\n",
       "      <td>17865.23</td>\n",
       "      <td>0</td>\n",
       "    </tr>\n",
       "    <tr>\n",
       "      <th>2313</th>\n",
       "      <td>40.0</td>\n",
       "      <td>301.03</td>\n",
       "      <td>102.0</td>\n",
       "      <td>6057.63</td>\n",
       "      <td>0</td>\n",
       "    </tr>\n",
       "  </tbody>\n",
       "</table>\n",
       "<p>643 rows × 5 columns</p>\n",
       "</div>"
      ],
      "text/plain": [
       "      calls  minutes  messages   mb_used  is_ultra\n",
       "160    61.0   495.11       8.0  10891.23         0\n",
       "2498   80.0   555.04      28.0  28083.58         0\n",
       "1748   87.0   697.23       0.0   8335.70         0\n",
       "1816   41.0   275.80       9.0  10032.39         0\n",
       "1077   60.0   428.49      20.0  29389.52         1\n",
       "...     ...      ...       ...       ...       ...\n",
       "2401   55.0   446.06      79.0  26526.28         0\n",
       "2928  102.0   742.65      58.0  16089.24         1\n",
       "1985   52.0   349.94      42.0  12150.72         0\n",
       "357    39.0   221.18      59.0  17865.23         0\n",
       "2313   40.0   301.03     102.0   6057.63         0\n",
       "\n",
       "[643 rows x 5 columns]"
      ]
     },
     "execution_count": 31,
     "metadata": {},
     "output_type": "execute_result"
    }
   ],
   "source": [
    "test_df = features_test\n",
    "test_df = test_df.join(target_test,rsuffix='r')\n",
    "test_df = test_df.rename(columns={'is_ultrar': 'is_ultra'})\n",
    "test_df"
   ]
  },
  {
   "cell_type": "markdown",
   "metadata": {},
   "source": [
    "### Monthly payment calculation"
   ]
  },
  {
   "cell_type": "code",
   "execution_count": 32,
   "metadata": {},
   "outputs": [],
   "source": [
    "smart = pd.DataFrame({'messages_included':[50], 'mb_per_month_included': [15360],'minutes_included': [500],\n",
    "                     'rub_monthly_fee':[550], 'rub_per_gb':[200],'rub_per_message': [3],'rub_per_minute':[3]})\n",
    "ultra = pd.DataFrame({'messages_included':[1000], 'mb_per_month_included': [30720],'minutes_included': [3000],\n",
    "                     'rub_monthly_fee':[1950], 'rub_per_gb':[150],'rub_per_message': [1],'rub_per_minute':[1]})"
   ]
  },
  {
   "cell_type": "code",
   "execution_count": 33,
   "metadata": {},
   "outputs": [],
   "source": [
    "# function for calculation of monthly fee\n",
    "def total_fee (df):\n",
    "    calls = df['minutes']\n",
    "    msgs = df['messages']\n",
    "    internet = df['mb_used']\n",
    "    tarif = df['is_ultra']\n",
    "    if tarif == 0:\n",
    "        total_fee=smart['rub_monthly_fee'][0]\n",
    "        if calls > smart['minutes_included'][0]:\n",
    "            total_fee += (calls-smart['minutes_included'][0])*smart['rub_per_minute'][0]\n",
    "        if msgs>smart['messages_included'][0]:\n",
    "            total_fee+= (msgs-smart['rub_per_message'][0])*3\n",
    "        if internet > smart['mb_per_month_included'][0]:\n",
    "            total_fee+= math.ceil((internet-smart['mb_per_month_included'][0])/1024)*smart['rub_per_gb'][0]\n",
    "        return(total_fee)\n",
    "    else:\n",
    "        total_fee=ultra['rub_monthly_fee'][0]\n",
    "        if calls > ultra['minutes_included'][0]:\n",
    "            total_fee += (calls-ultra['minutes_included'][0])*ultra['rub_per_minute'][0]\n",
    "        if msgs>ultra['messages_included'][0]:\n",
    "            total_fee+= (msgs-ultra['rub_per_message'][0])*3\n",
    "        if internet > ultra['mb_per_month_included'][0]:\n",
    "            total_fee+= math.ceil((internet-ultra['mb_per_month_included'][0])/1024)*ultra['rub_per_gb'][0]\n",
    "        return(total_fee)"
   ]
  },
  {
   "cell_type": "code",
   "execution_count": 34,
   "metadata": {
    "scrolled": false
   },
   "outputs": [
    {
     "data": {
      "text/html": [
       "<div>\n",
       "<style scoped>\n",
       "    .dataframe tbody tr th:only-of-type {\n",
       "        vertical-align: middle;\n",
       "    }\n",
       "\n",
       "    .dataframe tbody tr th {\n",
       "        vertical-align: top;\n",
       "    }\n",
       "\n",
       "    .dataframe thead th {\n",
       "        text-align: right;\n",
       "    }\n",
       "</style>\n",
       "<table border=\"1\" class=\"dataframe\">\n",
       "  <thead>\n",
       "    <tr style=\"text-align: right;\">\n",
       "      <th></th>\n",
       "      <th>calls</th>\n",
       "      <th>minutes</th>\n",
       "      <th>messages</th>\n",
       "      <th>mb_used</th>\n",
       "      <th>is_ultra</th>\n",
       "      <th>total_fee</th>\n",
       "    </tr>\n",
       "  </thead>\n",
       "  <tbody>\n",
       "    <tr>\n",
       "      <th>160</th>\n",
       "      <td>61.0</td>\n",
       "      <td>495.11</td>\n",
       "      <td>8.0</td>\n",
       "      <td>10891.23</td>\n",
       "      <td>0</td>\n",
       "      <td>550.00</td>\n",
       "    </tr>\n",
       "    <tr>\n",
       "      <th>2498</th>\n",
       "      <td>80.0</td>\n",
       "      <td>555.04</td>\n",
       "      <td>28.0</td>\n",
       "      <td>28083.58</td>\n",
       "      <td>0</td>\n",
       "      <td>3315.12</td>\n",
       "    </tr>\n",
       "    <tr>\n",
       "      <th>1748</th>\n",
       "      <td>87.0</td>\n",
       "      <td>697.23</td>\n",
       "      <td>0.0</td>\n",
       "      <td>8335.70</td>\n",
       "      <td>0</td>\n",
       "      <td>1141.69</td>\n",
       "    </tr>\n",
       "    <tr>\n",
       "      <th>1816</th>\n",
       "      <td>41.0</td>\n",
       "      <td>275.80</td>\n",
       "      <td>9.0</td>\n",
       "      <td>10032.39</td>\n",
       "      <td>0</td>\n",
       "      <td>550.00</td>\n",
       "    </tr>\n",
       "    <tr>\n",
       "      <th>1077</th>\n",
       "      <td>60.0</td>\n",
       "      <td>428.49</td>\n",
       "      <td>20.0</td>\n",
       "      <td>29389.52</td>\n",
       "      <td>1</td>\n",
       "      <td>1950.00</td>\n",
       "    </tr>\n",
       "    <tr>\n",
       "      <th>...</th>\n",
       "      <td>...</td>\n",
       "      <td>...</td>\n",
       "      <td>...</td>\n",
       "      <td>...</td>\n",
       "      <td>...</td>\n",
       "      <td>...</td>\n",
       "    </tr>\n",
       "    <tr>\n",
       "      <th>2401</th>\n",
       "      <td>55.0</td>\n",
       "      <td>446.06</td>\n",
       "      <td>79.0</td>\n",
       "      <td>26526.28</td>\n",
       "      <td>0</td>\n",
       "      <td>2978.00</td>\n",
       "    </tr>\n",
       "    <tr>\n",
       "      <th>2928</th>\n",
       "      <td>102.0</td>\n",
       "      <td>742.65</td>\n",
       "      <td>58.0</td>\n",
       "      <td>16089.24</td>\n",
       "      <td>1</td>\n",
       "      <td>1950.00</td>\n",
       "    </tr>\n",
       "    <tr>\n",
       "      <th>1985</th>\n",
       "      <td>52.0</td>\n",
       "      <td>349.94</td>\n",
       "      <td>42.0</td>\n",
       "      <td>12150.72</td>\n",
       "      <td>0</td>\n",
       "      <td>550.00</td>\n",
       "    </tr>\n",
       "    <tr>\n",
       "      <th>357</th>\n",
       "      <td>39.0</td>\n",
       "      <td>221.18</td>\n",
       "      <td>59.0</td>\n",
       "      <td>17865.23</td>\n",
       "      <td>0</td>\n",
       "      <td>1318.00</td>\n",
       "    </tr>\n",
       "    <tr>\n",
       "      <th>2313</th>\n",
       "      <td>40.0</td>\n",
       "      <td>301.03</td>\n",
       "      <td>102.0</td>\n",
       "      <td>6057.63</td>\n",
       "      <td>0</td>\n",
       "      <td>847.00</td>\n",
       "    </tr>\n",
       "  </tbody>\n",
       "</table>\n",
       "<p>643 rows × 6 columns</p>\n",
       "</div>"
      ],
      "text/plain": [
       "      calls  minutes  messages   mb_used  is_ultra  total_fee\n",
       "160    61.0   495.11       8.0  10891.23         0     550.00\n",
       "2498   80.0   555.04      28.0  28083.58         0    3315.12\n",
       "1748   87.0   697.23       0.0   8335.70         0    1141.69\n",
       "1816   41.0   275.80       9.0  10032.39         0     550.00\n",
       "1077   60.0   428.49      20.0  29389.52         1    1950.00\n",
       "...     ...      ...       ...       ...       ...        ...\n",
       "2401   55.0   446.06      79.0  26526.28         0    2978.00\n",
       "2928  102.0   742.65      58.0  16089.24         1    1950.00\n",
       "1985   52.0   349.94      42.0  12150.72         0     550.00\n",
       "357    39.0   221.18      59.0  17865.23         0    1318.00\n",
       "2313   40.0   301.03     102.0   6057.63         0     847.00\n",
       "\n",
       "[643 rows x 6 columns]"
      ]
     },
     "execution_count": 34,
     "metadata": {},
     "output_type": "execute_result"
    }
   ],
   "source": [
    "test_df['total_fee'] = test_df.apply(total_fee,axis=1)\n",
    "test_df"
   ]
  },
  {
   "cell_type": "markdown",
   "metadata": {},
   "source": [
    " ###  Insert of data obtained from three models with best accuracy score to dataset and check it efficacy"
   ]
  },
  {
   "cell_type": "code",
   "execution_count": 35,
   "metadata": {
    "scrolled": false
   },
   "outputs": [
    {
     "data": {
      "text/html": [
       "<div>\n",
       "<style scoped>\n",
       "    .dataframe tbody tr th:only-of-type {\n",
       "        vertical-align: middle;\n",
       "    }\n",
       "\n",
       "    .dataframe tbody tr th {\n",
       "        vertical-align: top;\n",
       "    }\n",
       "\n",
       "    .dataframe thead th {\n",
       "        text-align: right;\n",
       "    }\n",
       "</style>\n",
       "<table border=\"1\" class=\"dataframe\">\n",
       "  <thead>\n",
       "    <tr style=\"text-align: right;\">\n",
       "      <th></th>\n",
       "      <th>calls</th>\n",
       "      <th>minutes</th>\n",
       "      <th>messages</th>\n",
       "      <th>mb_used</th>\n",
       "      <th>is_ultra</th>\n",
       "      <th>total_fee</th>\n",
       "      <th>model_e</th>\n",
       "      <th>model_b</th>\n",
       "      <th>model_d</th>\n",
       "      <th>correct_answer</th>\n",
       "    </tr>\n",
       "  </thead>\n",
       "  <tbody>\n",
       "    <tr>\n",
       "      <th>160</th>\n",
       "      <td>61.0</td>\n",
       "      <td>495.11</td>\n",
       "      <td>8.0</td>\n",
       "      <td>10891.23</td>\n",
       "      <td>0</td>\n",
       "      <td>550.00</td>\n",
       "      <td>0</td>\n",
       "      <td>0</td>\n",
       "      <td>0</td>\n",
       "      <td>0</td>\n",
       "    </tr>\n",
       "    <tr>\n",
       "      <th>2498</th>\n",
       "      <td>80.0</td>\n",
       "      <td>555.04</td>\n",
       "      <td>28.0</td>\n",
       "      <td>28083.58</td>\n",
       "      <td>0</td>\n",
       "      <td>3315.12</td>\n",
       "      <td>1</td>\n",
       "      <td>1</td>\n",
       "      <td>1</td>\n",
       "      <td>1</td>\n",
       "    </tr>\n",
       "    <tr>\n",
       "      <th>1748</th>\n",
       "      <td>87.0</td>\n",
       "      <td>697.23</td>\n",
       "      <td>0.0</td>\n",
       "      <td>8335.70</td>\n",
       "      <td>0</td>\n",
       "      <td>1141.69</td>\n",
       "      <td>1</td>\n",
       "      <td>0</td>\n",
       "      <td>0</td>\n",
       "      <td>0</td>\n",
       "    </tr>\n",
       "    <tr>\n",
       "      <th>1816</th>\n",
       "      <td>41.0</td>\n",
       "      <td>275.80</td>\n",
       "      <td>9.0</td>\n",
       "      <td>10032.39</td>\n",
       "      <td>0</td>\n",
       "      <td>550.00</td>\n",
       "      <td>0</td>\n",
       "      <td>0</td>\n",
       "      <td>0</td>\n",
       "      <td>0</td>\n",
       "    </tr>\n",
       "    <tr>\n",
       "      <th>1077</th>\n",
       "      <td>60.0</td>\n",
       "      <td>428.49</td>\n",
       "      <td>20.0</td>\n",
       "      <td>29389.52</td>\n",
       "      <td>1</td>\n",
       "      <td>1950.00</td>\n",
       "      <td>0</td>\n",
       "      <td>0</td>\n",
       "      <td>0</td>\n",
       "      <td>1</td>\n",
       "    </tr>\n",
       "    <tr>\n",
       "      <th>...</th>\n",
       "      <td>...</td>\n",
       "      <td>...</td>\n",
       "      <td>...</td>\n",
       "      <td>...</td>\n",
       "      <td>...</td>\n",
       "      <td>...</td>\n",
       "      <td>...</td>\n",
       "      <td>...</td>\n",
       "      <td>...</td>\n",
       "      <td>...</td>\n",
       "    </tr>\n",
       "    <tr>\n",
       "      <th>2401</th>\n",
       "      <td>55.0</td>\n",
       "      <td>446.06</td>\n",
       "      <td>79.0</td>\n",
       "      <td>26526.28</td>\n",
       "      <td>0</td>\n",
       "      <td>2978.00</td>\n",
       "      <td>1</td>\n",
       "      <td>1</td>\n",
       "      <td>0</td>\n",
       "      <td>1</td>\n",
       "    </tr>\n",
       "    <tr>\n",
       "      <th>2928</th>\n",
       "      <td>102.0</td>\n",
       "      <td>742.65</td>\n",
       "      <td>58.0</td>\n",
       "      <td>16089.24</td>\n",
       "      <td>1</td>\n",
       "      <td>1950.00</td>\n",
       "      <td>0</td>\n",
       "      <td>0</td>\n",
       "      <td>0</td>\n",
       "      <td>1</td>\n",
       "    </tr>\n",
       "    <tr>\n",
       "      <th>1985</th>\n",
       "      <td>52.0</td>\n",
       "      <td>349.94</td>\n",
       "      <td>42.0</td>\n",
       "      <td>12150.72</td>\n",
       "      <td>0</td>\n",
       "      <td>550.00</td>\n",
       "      <td>0</td>\n",
       "      <td>0</td>\n",
       "      <td>0</td>\n",
       "      <td>0</td>\n",
       "    </tr>\n",
       "    <tr>\n",
       "      <th>357</th>\n",
       "      <td>39.0</td>\n",
       "      <td>221.18</td>\n",
       "      <td>59.0</td>\n",
       "      <td>17865.23</td>\n",
       "      <td>0</td>\n",
       "      <td>1318.00</td>\n",
       "      <td>0</td>\n",
       "      <td>0</td>\n",
       "      <td>0</td>\n",
       "      <td>0</td>\n",
       "    </tr>\n",
       "    <tr>\n",
       "      <th>2313</th>\n",
       "      <td>40.0</td>\n",
       "      <td>301.03</td>\n",
       "      <td>102.0</td>\n",
       "      <td>6057.63</td>\n",
       "      <td>0</td>\n",
       "      <td>847.00</td>\n",
       "      <td>1</td>\n",
       "      <td>1</td>\n",
       "      <td>1</td>\n",
       "      <td>0</td>\n",
       "    </tr>\n",
       "  </tbody>\n",
       "</table>\n",
       "<p>643 rows × 10 columns</p>\n",
       "</div>"
      ],
      "text/plain": [
       "      calls  minutes  messages   mb_used  is_ultra  total_fee  model_e  \\\n",
       "160    61.0   495.11       8.0  10891.23         0     550.00        0   \n",
       "2498   80.0   555.04      28.0  28083.58         0    3315.12        1   \n",
       "1748   87.0   697.23       0.0   8335.70         0    1141.69        1   \n",
       "1816   41.0   275.80       9.0  10032.39         0     550.00        0   \n",
       "1077   60.0   428.49      20.0  29389.52         1    1950.00        0   \n",
       "...     ...      ...       ...       ...       ...        ...      ...   \n",
       "2401   55.0   446.06      79.0  26526.28         0    2978.00        1   \n",
       "2928  102.0   742.65      58.0  16089.24         1    1950.00        0   \n",
       "1985   52.0   349.94      42.0  12150.72         0     550.00        0   \n",
       "357    39.0   221.18      59.0  17865.23         0    1318.00        0   \n",
       "2313   40.0   301.03     102.0   6057.63         0     847.00        1   \n",
       "\n",
       "      model_b  model_d  correct_answer  \n",
       "160         0        0               0  \n",
       "2498        1        1               1  \n",
       "1748        0        0               0  \n",
       "1816        0        0               0  \n",
       "1077        0        0               1  \n",
       "...       ...      ...             ...  \n",
       "2401        1        0               1  \n",
       "2928        0        0               1  \n",
       "1985        0        0               0  \n",
       "357         0        0               0  \n",
       "2313        1        1               0  \n",
       "\n",
       "[643 rows x 10 columns]"
      ]
     },
     "execution_count": 35,
     "metadata": {},
     "output_type": "execute_result"
    }
   ],
   "source": [
    "test_df[models_df.iloc[0,0]]= models_df.iloc[0,2]\n",
    "test_df[models_df.iloc[1,0]]= models_df.iloc[1,2]\n",
    "test_df[models_df.iloc[2,0]]= models_df.iloc[2,2]\n",
    "\n",
    "def new_tarif (df):\n",
    "    if df['total_fee']>=1950:\n",
    "        return(1)\n",
    "    else:\n",
    "        return(0)\n",
    "\n",
    "test_df['correct_answer'] = test_df.apply(new_tarif,axis=1)\n",
    "test_df"
   ]
  },
  {
   "cell_type": "code",
   "execution_count": 36,
   "metadata": {},
   "outputs": [
    {
     "data": {
      "text/html": [
       "<div>\n",
       "<style scoped>\n",
       "    .dataframe tbody tr th:only-of-type {\n",
       "        vertical-align: middle;\n",
       "    }\n",
       "\n",
       "    .dataframe tbody tr th {\n",
       "        vertical-align: top;\n",
       "    }\n",
       "\n",
       "    .dataframe thead th {\n",
       "        text-align: right;\n",
       "    }\n",
       "</style>\n",
       "<table border=\"1\" class=\"dataframe\">\n",
       "  <thead>\n",
       "    <tr style=\"text-align: right;\">\n",
       "      <th></th>\n",
       "      <th>calls</th>\n",
       "      <th>minutes</th>\n",
       "      <th>messages</th>\n",
       "      <th>mb_used</th>\n",
       "      <th>is_ultra</th>\n",
       "      <th>total_fee</th>\n",
       "      <th>model_e</th>\n",
       "      <th>model_b</th>\n",
       "      <th>model_d</th>\n",
       "      <th>correct_answer</th>\n",
       "      <th>model_e_check</th>\n",
       "      <th>model_b_check</th>\n",
       "      <th>model_d_check</th>\n",
       "    </tr>\n",
       "  </thead>\n",
       "  <tbody>\n",
       "    <tr>\n",
       "      <th>160</th>\n",
       "      <td>61.0</td>\n",
       "      <td>495.11</td>\n",
       "      <td>8.0</td>\n",
       "      <td>10891.23</td>\n",
       "      <td>0</td>\n",
       "      <td>550.00</td>\n",
       "      <td>0</td>\n",
       "      <td>0</td>\n",
       "      <td>0</td>\n",
       "      <td>0</td>\n",
       "      <td>True</td>\n",
       "      <td>True</td>\n",
       "      <td>True</td>\n",
       "    </tr>\n",
       "    <tr>\n",
       "      <th>2498</th>\n",
       "      <td>80.0</td>\n",
       "      <td>555.04</td>\n",
       "      <td>28.0</td>\n",
       "      <td>28083.58</td>\n",
       "      <td>0</td>\n",
       "      <td>3315.12</td>\n",
       "      <td>1</td>\n",
       "      <td>1</td>\n",
       "      <td>1</td>\n",
       "      <td>1</td>\n",
       "      <td>True</td>\n",
       "      <td>True</td>\n",
       "      <td>True</td>\n",
       "    </tr>\n",
       "    <tr>\n",
       "      <th>1748</th>\n",
       "      <td>87.0</td>\n",
       "      <td>697.23</td>\n",
       "      <td>0.0</td>\n",
       "      <td>8335.70</td>\n",
       "      <td>0</td>\n",
       "      <td>1141.69</td>\n",
       "      <td>1</td>\n",
       "      <td>0</td>\n",
       "      <td>0</td>\n",
       "      <td>0</td>\n",
       "      <td>False</td>\n",
       "      <td>True</td>\n",
       "      <td>True</td>\n",
       "    </tr>\n",
       "    <tr>\n",
       "      <th>1816</th>\n",
       "      <td>41.0</td>\n",
       "      <td>275.80</td>\n",
       "      <td>9.0</td>\n",
       "      <td>10032.39</td>\n",
       "      <td>0</td>\n",
       "      <td>550.00</td>\n",
       "      <td>0</td>\n",
       "      <td>0</td>\n",
       "      <td>0</td>\n",
       "      <td>0</td>\n",
       "      <td>True</td>\n",
       "      <td>True</td>\n",
       "      <td>True</td>\n",
       "    </tr>\n",
       "    <tr>\n",
       "      <th>1077</th>\n",
       "      <td>60.0</td>\n",
       "      <td>428.49</td>\n",
       "      <td>20.0</td>\n",
       "      <td>29389.52</td>\n",
       "      <td>1</td>\n",
       "      <td>1950.00</td>\n",
       "      <td>0</td>\n",
       "      <td>0</td>\n",
       "      <td>0</td>\n",
       "      <td>1</td>\n",
       "      <td>False</td>\n",
       "      <td>False</td>\n",
       "      <td>False</td>\n",
       "    </tr>\n",
       "    <tr>\n",
       "      <th>...</th>\n",
       "      <td>...</td>\n",
       "      <td>...</td>\n",
       "      <td>...</td>\n",
       "      <td>...</td>\n",
       "      <td>...</td>\n",
       "      <td>...</td>\n",
       "      <td>...</td>\n",
       "      <td>...</td>\n",
       "      <td>...</td>\n",
       "      <td>...</td>\n",
       "      <td>...</td>\n",
       "      <td>...</td>\n",
       "      <td>...</td>\n",
       "    </tr>\n",
       "    <tr>\n",
       "      <th>2401</th>\n",
       "      <td>55.0</td>\n",
       "      <td>446.06</td>\n",
       "      <td>79.0</td>\n",
       "      <td>26526.28</td>\n",
       "      <td>0</td>\n",
       "      <td>2978.00</td>\n",
       "      <td>1</td>\n",
       "      <td>1</td>\n",
       "      <td>0</td>\n",
       "      <td>1</td>\n",
       "      <td>True</td>\n",
       "      <td>True</td>\n",
       "      <td>False</td>\n",
       "    </tr>\n",
       "    <tr>\n",
       "      <th>2928</th>\n",
       "      <td>102.0</td>\n",
       "      <td>742.65</td>\n",
       "      <td>58.0</td>\n",
       "      <td>16089.24</td>\n",
       "      <td>1</td>\n",
       "      <td>1950.00</td>\n",
       "      <td>0</td>\n",
       "      <td>0</td>\n",
       "      <td>0</td>\n",
       "      <td>1</td>\n",
       "      <td>False</td>\n",
       "      <td>False</td>\n",
       "      <td>False</td>\n",
       "    </tr>\n",
       "    <tr>\n",
       "      <th>1985</th>\n",
       "      <td>52.0</td>\n",
       "      <td>349.94</td>\n",
       "      <td>42.0</td>\n",
       "      <td>12150.72</td>\n",
       "      <td>0</td>\n",
       "      <td>550.00</td>\n",
       "      <td>0</td>\n",
       "      <td>0</td>\n",
       "      <td>0</td>\n",
       "      <td>0</td>\n",
       "      <td>True</td>\n",
       "      <td>True</td>\n",
       "      <td>True</td>\n",
       "    </tr>\n",
       "    <tr>\n",
       "      <th>357</th>\n",
       "      <td>39.0</td>\n",
       "      <td>221.18</td>\n",
       "      <td>59.0</td>\n",
       "      <td>17865.23</td>\n",
       "      <td>0</td>\n",
       "      <td>1318.00</td>\n",
       "      <td>0</td>\n",
       "      <td>0</td>\n",
       "      <td>0</td>\n",
       "      <td>0</td>\n",
       "      <td>True</td>\n",
       "      <td>True</td>\n",
       "      <td>True</td>\n",
       "    </tr>\n",
       "    <tr>\n",
       "      <th>2313</th>\n",
       "      <td>40.0</td>\n",
       "      <td>301.03</td>\n",
       "      <td>102.0</td>\n",
       "      <td>6057.63</td>\n",
       "      <td>0</td>\n",
       "      <td>847.00</td>\n",
       "      <td>1</td>\n",
       "      <td>1</td>\n",
       "      <td>1</td>\n",
       "      <td>0</td>\n",
       "      <td>False</td>\n",
       "      <td>False</td>\n",
       "      <td>False</td>\n",
       "    </tr>\n",
       "  </tbody>\n",
       "</table>\n",
       "<p>643 rows × 13 columns</p>\n",
       "</div>"
      ],
      "text/plain": [
       "      calls  minutes  messages   mb_used  is_ultra  total_fee  model_e  \\\n",
       "160    61.0   495.11       8.0  10891.23         0     550.00        0   \n",
       "2498   80.0   555.04      28.0  28083.58         0    3315.12        1   \n",
       "1748   87.0   697.23       0.0   8335.70         0    1141.69        1   \n",
       "1816   41.0   275.80       9.0  10032.39         0     550.00        0   \n",
       "1077   60.0   428.49      20.0  29389.52         1    1950.00        0   \n",
       "...     ...      ...       ...       ...       ...        ...      ...   \n",
       "2401   55.0   446.06      79.0  26526.28         0    2978.00        1   \n",
       "2928  102.0   742.65      58.0  16089.24         1    1950.00        0   \n",
       "1985   52.0   349.94      42.0  12150.72         0     550.00        0   \n",
       "357    39.0   221.18      59.0  17865.23         0    1318.00        0   \n",
       "2313   40.0   301.03     102.0   6057.63         0     847.00        1   \n",
       "\n",
       "      model_b  model_d  correct_answer  model_e_check  model_b_check  \\\n",
       "160         0        0               0           True           True   \n",
       "2498        1        1               1           True           True   \n",
       "1748        0        0               0          False           True   \n",
       "1816        0        0               0           True           True   \n",
       "1077        0        0               1          False          False   \n",
       "...       ...      ...             ...            ...            ...   \n",
       "2401        1        0               1           True           True   \n",
       "2928        0        0               1          False          False   \n",
       "1985        0        0               0           True           True   \n",
       "357         0        0               0           True           True   \n",
       "2313        1        1               0          False          False   \n",
       "\n",
       "      model_d_check  \n",
       "160            True  \n",
       "2498           True  \n",
       "1748           True  \n",
       "1816           True  \n",
       "1077          False  \n",
       "...             ...  \n",
       "2401          False  \n",
       "2928          False  \n",
       "1985           True  \n",
       "357            True  \n",
       "2313          False  \n",
       "\n",
       "[643 rows x 13 columns]"
      ]
     },
     "execution_count": 36,
     "metadata": {},
     "output_type": "execute_result"
    }
   ],
   "source": [
    "test_df[models_df.iloc[0,0]+'_check'] = test_df[models_df.iloc[0,0]] == test_df['correct_answer']\n",
    "test_df[models_df.iloc[1,0]+'_check'] = test_df[models_df.iloc[1,0]] == test_df['correct_answer']\n",
    "test_df[models_df.iloc[2,0]+'_check'] = test_df[models_df.iloc[2,0]] == test_df['correct_answer']\n",
    "test_df"
   ]
  },
  {
   "cell_type": "markdown",
   "metadata": {},
   "source": [
    "**Efficacy Calculation**"
   ]
  },
  {
   "cell_type": "code",
   "execution_count": 37,
   "metadata": {
    "scrolled": true
   },
   "outputs": [
    {
     "data": {
      "text/plain": [
       "0.7247278382581649"
      ]
     },
     "execution_count": 37,
     "metadata": {},
     "output_type": "execute_result"
    }
   ],
   "source": [
    "model_e_percentage = test_df.query('model_e_check == True')['model_e_check'].count()/test_df['model_e_check'].count()\n",
    "model_e_percentage"
   ]
  },
  {
   "cell_type": "code",
   "execution_count": 38,
   "metadata": {},
   "outputs": [
    {
     "data": {
      "text/plain": [
       "0.7309486780715396"
      ]
     },
     "execution_count": 38,
     "metadata": {},
     "output_type": "execute_result"
    }
   ],
   "source": [
    "model_d_percentage = test_df.query('model_d_check == True')['model_d_check'].count()/test_df['model_d_check'].count()\n",
    "model_d_percentage"
   ]
  },
  {
   "cell_type": "code",
   "execution_count": 39,
   "metadata": {},
   "outputs": [
    {
     "data": {
      "text/plain": [
       "0.7278382581648523"
      ]
     },
     "execution_count": 39,
     "metadata": {},
     "output_type": "execute_result"
    }
   ],
   "source": [
    "model_b_percentage = test_df.query('model_b_check == True')['model_b_check'].count()/test_df['model_b_check'].count()\n",
    "model_b_percentage"
   ]
  },
  {
   "cell_type": "markdown",
   "metadata": {},
   "source": [
    "### Conclusion"
   ]
  },
  {
   "cell_type": "markdown",
   "metadata": {},
   "source": [
    "**Based on performed testing of model the models has the following efficacy:**"
   ]
  },
  {
   "cell_type": "markdown",
   "metadata": {},
   "source": [
    "- Model e efficacy is 72,4%\n",
    "- Model d efficacy is  73.0%\n",
    "- Model b efficacy is  72,78%\n",
    "\n",
    "**It's recommended to use the \"model D\" for dertmination of proposal to client to swith on different mobile plan**"
   ]
  },
  {
   "cell_type": "markdown",
   "metadata": {},
   "source": [
    "<a name=\"section6\"></a>\n",
    "\n",
    "# General Conclusion"
   ]
  },
  {
   "cell_type": "markdown",
   "metadata": {},
   "source": [
    "1) Data was successfully loaded, the target columns is named 'is_ultra', other columns to be used as parameters for model training.\n",
    "\n",
    "2) Dataset was splitted on target and features and three samples: train sample has 60% of data, valid and test 20%\n",
    "\n",
    "3) Random forest, Decision tree and Regression models were trained. The validation accuracy scores are following:\n",
    "- Random Forest model 0.78\n",
    "- Decision Tree model 0.80\n",
    "- Logistic Regression model 0.71\n",
    "\n",
    "4) Hyperparameters were tuned for random forest models. The validation accuracy scores are following:\n",
    "- GridSearchCV 0.79\n",
    "- RandomSearchCV 0.79\n",
    "\n",
    "5) Models testing was successfully executed. The accuracy scores on the test sample are following: \n",
    "- Random Forest model 0.77\n",
    "- Decision Tree model 0.79\n",
    "- Logistic Regression model 0.68\n",
    "- GridSearchCV 0.79\n",
    "- RandomSearchCV 0.8\n",
    "\n",
    "6) Models efficacy were tested, the model with higher efficacy is \"model D\". Efficacy is 73%."
   ]
  }
 ],
 "metadata": {
  "ExecuteTimeLog": [
   {
    "duration": 1734,
    "start_time": "2021-11-13T13:22:17.316Z"
   },
   {
    "duration": 429,
    "start_time": "2021-11-13T13:24:00.748Z"
   },
   {
    "duration": 279,
    "start_time": "2021-11-13T13:24:27.920Z"
   },
   {
    "duration": 283,
    "start_time": "2021-11-13T13:24:35.652Z"
   },
   {
    "duration": 303,
    "start_time": "2021-11-13T13:25:07.365Z"
   },
   {
    "duration": 283,
    "start_time": "2021-11-13T13:26:48.109Z"
   },
   {
    "duration": 276,
    "start_time": "2021-11-13T13:26:57.224Z"
   },
   {
    "duration": 288,
    "start_time": "2021-11-13T13:27:14.123Z"
   },
   {
    "duration": 4,
    "start_time": "2021-11-13T13:27:31.615Z"
   },
   {
    "duration": 4,
    "start_time": "2021-11-13T13:28:33.582Z"
   },
   {
    "duration": 2199,
    "start_time": "2021-11-13T13:29:24.160Z"
   },
   {
    "duration": 2185,
    "start_time": "2021-11-13T13:29:44.120Z"
   },
   {
    "duration": 1990,
    "start_time": "2021-11-13T13:29:48.993Z"
   },
   {
    "duration": 2144,
    "start_time": "2021-11-13T13:30:06.102Z"
   },
   {
    "duration": 39,
    "start_time": "2021-11-13T13:31:39.521Z"
   },
   {
    "duration": 284,
    "start_time": "2021-11-13T13:31:57.323Z"
   },
   {
    "duration": 9,
    "start_time": "2021-11-13T13:32:02.356Z"
   },
   {
    "duration": 6,
    "start_time": "2021-11-13T13:33:45.483Z"
   },
   {
    "duration": 16,
    "start_time": "2021-11-13T13:33:50.654Z"
   },
   {
    "duration": 7,
    "start_time": "2021-11-13T13:33:55.763Z"
   },
   {
    "duration": 7,
    "start_time": "2021-11-13T13:39:33.809Z"
   },
   {
    "duration": 8,
    "start_time": "2021-11-13T13:40:33.443Z"
   },
   {
    "duration": 8,
    "start_time": "2021-11-13T13:41:05.107Z"
   },
   {
    "duration": 8,
    "start_time": "2021-11-13T13:41:15.875Z"
   },
   {
    "duration": 6,
    "start_time": "2021-11-13T13:41:54.564Z"
   },
   {
    "duration": 7,
    "start_time": "2021-11-13T13:42:23.997Z"
   },
   {
    "duration": 105,
    "start_time": "2021-11-13T13:42:47.505Z"
   },
   {
    "duration": 98,
    "start_time": "2021-11-13T13:42:50.530Z"
   },
   {
    "duration": 6,
    "start_time": "2021-11-13T13:42:58.906Z"
   },
   {
    "duration": 8,
    "start_time": "2021-11-13T13:43:22.445Z"
   },
   {
    "duration": 7,
    "start_time": "2021-11-13T13:43:24.598Z"
   },
   {
    "duration": 8,
    "start_time": "2021-11-13T13:43:31.827Z"
   },
   {
    "duration": 7,
    "start_time": "2021-11-13T13:43:46.176Z"
   },
   {
    "duration": 7,
    "start_time": "2021-11-13T13:43:47.944Z"
   },
   {
    "duration": 7,
    "start_time": "2021-11-13T13:43:48.801Z"
   },
   {
    "duration": 7,
    "start_time": "2021-11-13T13:43:57.595Z"
   },
   {
    "duration": 6,
    "start_time": "2021-11-13T13:44:15.033Z"
   },
   {
    "duration": 6,
    "start_time": "2021-11-13T13:44:20.790Z"
   },
   {
    "duration": 7,
    "start_time": "2021-11-13T13:44:21.731Z"
   },
   {
    "duration": 7900,
    "start_time": "2021-11-13T13:45:04.866Z"
   },
   {
    "duration": 7,
    "start_time": "2021-11-13T13:45:18.713Z"
   },
   {
    "duration": 8,
    "start_time": "2021-11-13T13:45:21.637Z"
   },
   {
    "duration": 6,
    "start_time": "2021-11-13T13:45:23.005Z"
   },
   {
    "duration": 9,
    "start_time": "2021-11-13T13:45:27.308Z"
   },
   {
    "duration": 7,
    "start_time": "2021-11-13T13:45:28.306Z"
   },
   {
    "duration": 8,
    "start_time": "2021-11-13T13:45:28.849Z"
   },
   {
    "duration": 9,
    "start_time": "2021-11-13T13:45:29.402Z"
   },
   {
    "duration": 6,
    "start_time": "2021-11-13T13:45:29.865Z"
   },
   {
    "duration": 6,
    "start_time": "2021-11-13T13:45:30.347Z"
   },
   {
    "duration": 9,
    "start_time": "2021-11-13T13:45:56.205Z"
   },
   {
    "duration": 8,
    "start_time": "2021-11-13T13:46:08.936Z"
   },
   {
    "duration": 7,
    "start_time": "2021-11-13T13:46:30.854Z"
   },
   {
    "duration": 7,
    "start_time": "2021-11-13T13:46:31.368Z"
   },
   {
    "duration": 7,
    "start_time": "2021-11-13T13:46:36.264Z"
   },
   {
    "duration": 6,
    "start_time": "2021-11-13T13:46:36.834Z"
   },
   {
    "duration": 8,
    "start_time": "2021-11-13T13:46:37.961Z"
   },
   {
    "duration": 6,
    "start_time": "2021-11-13T13:46:38.481Z"
   },
   {
    "duration": 6,
    "start_time": "2021-11-13T13:51:20.812Z"
   },
   {
    "duration": 8,
    "start_time": "2021-11-13T13:51:25.946Z"
   },
   {
    "duration": 392,
    "start_time": "2021-11-13T14:02:27.466Z"
   },
   {
    "duration": 71,
    "start_time": "2021-11-13T14:02:40.087Z"
   },
   {
    "duration": 294,
    "start_time": "2021-11-13T14:11:48.751Z"
   },
   {
    "duration": 324,
    "start_time": "2021-11-13T14:12:00.755Z"
   },
   {
    "duration": 8424,
    "start_time": "2021-11-13T14:12:06.833Z"
   },
   {
    "duration": 8314,
    "start_time": "2021-11-13T14:13:54.000Z"
   },
   {
    "duration": 66,
    "start_time": "2021-11-13T14:15:33.286Z"
   },
   {
    "duration": 8371,
    "start_time": "2021-11-13T14:15:36.574Z"
   },
   {
    "duration": 7,
    "start_time": "2021-11-13T14:16:01.885Z"
   },
   {
    "duration": 308,
    "start_time": "2021-11-13T14:16:22.839Z"
   },
   {
    "duration": 194,
    "start_time": "2021-11-13T14:17:06.628Z"
   },
   {
    "duration": 29,
    "start_time": "2021-11-13T14:20:01.224Z"
   },
   {
    "duration": 27,
    "start_time": "2021-11-13T14:22:08.674Z"
   },
   {
    "duration": 5,
    "start_time": "2021-11-13T14:22:14.597Z"
   },
   {
    "duration": 27,
    "start_time": "2021-11-13T14:22:18.804Z"
   },
   {
    "duration": 7,
    "start_time": "2021-11-13T14:27:54.100Z"
   },
   {
    "duration": 7,
    "start_time": "2021-11-13T14:28:43.345Z"
   },
   {
    "duration": 18,
    "start_time": "2021-11-13T14:29:03.248Z"
   },
   {
    "duration": 7,
    "start_time": "2021-11-13T14:29:06.482Z"
   },
   {
    "duration": 17,
    "start_time": "2021-11-13T14:29:30.077Z"
   },
   {
    "duration": 7,
    "start_time": "2021-11-13T14:30:13.033Z"
   },
   {
    "duration": 1312,
    "start_time": "2021-11-13T14:38:48.138Z"
   },
   {
    "duration": 40,
    "start_time": "2021-11-13T14:38:49.452Z"
   },
   {
    "duration": 9,
    "start_time": "2021-11-13T14:38:49.495Z"
   },
   {
    "duration": 5,
    "start_time": "2021-11-13T14:38:49.524Z"
   },
   {
    "duration": 11,
    "start_time": "2021-11-13T14:38:49.531Z"
   },
   {
    "duration": 7,
    "start_time": "2021-11-13T14:38:49.545Z"
   },
   {
    "duration": 6,
    "start_time": "2021-11-13T14:38:49.554Z"
   },
   {
    "duration": 8,
    "start_time": "2021-11-13T14:38:49.564Z"
   },
   {
    "duration": 53,
    "start_time": "2021-11-13T14:38:49.575Z"
   },
   {
    "duration": 7,
    "start_time": "2021-11-13T14:38:49.632Z"
   },
   {
    "duration": 6,
    "start_time": "2021-11-13T14:38:49.642Z"
   },
   {
    "duration": 120,
    "start_time": "2021-11-13T14:38:49.650Z"
   },
   {
    "duration": 8818,
    "start_time": "2021-11-13T14:38:49.773Z"
   },
   {
    "duration": 448,
    "start_time": "2021-11-13T14:38:58.593Z"
   },
   {
    "duration": 42425,
    "start_time": "2021-11-13T14:38:16.618Z"
   },
   {
    "duration": 42421,
    "start_time": "2021-11-13T14:38:16.624Z"
   },
   {
    "duration": 42419,
    "start_time": "2021-11-13T14:38:16.627Z"
   },
   {
    "duration": 27,
    "start_time": "2021-11-13T14:39:25.631Z"
   },
   {
    "duration": 7,
    "start_time": "2021-11-13T14:39:29.294Z"
   },
   {
    "duration": 16,
    "start_time": "2021-11-13T14:39:33.164Z"
   },
   {
    "duration": 599,
    "start_time": "2021-11-13T14:39:34.295Z"
   },
   {
    "duration": 8,
    "start_time": "2021-11-13T14:39:44.085Z"
   },
   {
    "duration": 288,
    "start_time": "2021-11-13T14:47:53.347Z"
   },
   {
    "duration": 321,
    "start_time": "2021-11-13T14:48:47.986Z"
   },
   {
    "duration": 393,
    "start_time": "2021-11-13T14:49:08.804Z"
   },
   {
    "duration": 7,
    "start_time": "2021-11-13T14:49:46.442Z"
   },
   {
    "duration": 9,
    "start_time": "2021-11-13T14:49:52.875Z"
   },
   {
    "duration": 18,
    "start_time": "2021-11-13T14:51:07.545Z"
   },
   {
    "duration": 15,
    "start_time": "2021-11-13T14:53:09.536Z"
   },
   {
    "duration": 7,
    "start_time": "2021-11-13T14:53:18.981Z"
   },
   {
    "duration": 7,
    "start_time": "2021-11-13T14:53:58.906Z"
   },
   {
    "duration": 5,
    "start_time": "2021-11-13T14:55:37.085Z"
   },
   {
    "duration": 312,
    "start_time": "2021-11-13T14:56:05.440Z"
   },
   {
    "duration": 5,
    "start_time": "2021-11-13T14:56:28.159Z"
   },
   {
    "duration": 20,
    "start_time": "2021-11-13T14:56:40.275Z"
   },
   {
    "duration": 3,
    "start_time": "2021-11-13T14:57:23.639Z"
   },
   {
    "duration": 5,
    "start_time": "2021-11-13T14:57:39.168Z"
   },
   {
    "duration": 18,
    "start_time": "2021-11-13T14:57:46.705Z"
   },
   {
    "duration": 3,
    "start_time": "2021-11-13T14:59:20.092Z"
   },
   {
    "duration": 301,
    "start_time": "2021-11-13T15:00:06.737Z"
   },
   {
    "duration": 9,
    "start_time": "2021-11-13T15:00:11.331Z"
   },
   {
    "duration": 9073,
    "start_time": "2021-11-13T15:00:11.940Z"
   },
   {
    "duration": 23,
    "start_time": "2021-11-13T15:00:32.875Z"
   },
   {
    "duration": 102,
    "start_time": "2021-11-13T15:11:24.078Z"
   },
   {
    "duration": 96,
    "start_time": "2021-11-13T15:11:43.943Z"
   },
   {
    "duration": 6,
    "start_time": "2021-11-13T15:12:03.030Z"
   },
   {
    "duration": 12,
    "start_time": "2021-11-13T15:12:06.571Z"
   },
   {
    "duration": 10,
    "start_time": "2021-11-13T15:13:22.663Z"
   },
   {
    "duration": 10,
    "start_time": "2021-11-13T15:13:26.239Z"
   },
   {
    "duration": 9,
    "start_time": "2021-11-13T15:13:39.079Z"
   },
   {
    "duration": 596,
    "start_time": "2021-11-13T15:13:52.679Z"
   },
   {
    "duration": 835,
    "start_time": "2021-11-13T15:15:25.693Z"
   },
   {
    "duration": 5,
    "start_time": "2021-11-13T15:15:33.930Z"
   },
   {
    "duration": 548,
    "start_time": "2021-11-13T15:15:39.294Z"
   },
   {
    "duration": 9,
    "start_time": "2021-11-13T15:16:03.177Z"
   },
   {
    "duration": 705,
    "start_time": "2021-11-13T15:16:07.960Z"
   },
   {
    "duration": 9,
    "start_time": "2021-11-13T15:17:15.087Z"
   },
   {
    "duration": 108,
    "start_time": "2021-11-13T15:17:16.558Z"
   },
   {
    "duration": 21,
    "start_time": "2021-11-13T15:18:42.566Z"
   },
   {
    "duration": 1300,
    "start_time": "2021-11-13T15:19:12.443Z"
   },
   {
    "duration": 40,
    "start_time": "2021-11-13T15:19:13.745Z"
   },
   {
    "duration": 9,
    "start_time": "2021-11-13T15:19:13.788Z"
   },
   {
    "duration": 10,
    "start_time": "2021-11-13T15:19:13.799Z"
   },
   {
    "duration": 6,
    "start_time": "2021-11-13T15:19:13.823Z"
   },
   {
    "duration": 7,
    "start_time": "2021-11-13T15:19:13.831Z"
   },
   {
    "duration": 9,
    "start_time": "2021-11-13T15:19:13.840Z"
   },
   {
    "duration": 10,
    "start_time": "2021-11-13T15:19:13.852Z"
   },
   {
    "duration": 8,
    "start_time": "2021-11-13T15:19:13.865Z"
   },
   {
    "duration": 48,
    "start_time": "2021-11-13T15:19:13.875Z"
   },
   {
    "duration": 6,
    "start_time": "2021-11-13T15:19:13.926Z"
   },
   {
    "duration": 89,
    "start_time": "2021-11-13T15:19:13.934Z"
   },
   {
    "duration": 7997,
    "start_time": "2021-11-13T15:19:14.025Z"
   },
   {
    "duration": 27,
    "start_time": "2021-11-13T15:19:22.024Z"
   },
   {
    "duration": 7,
    "start_time": "2021-11-13T15:19:22.053Z"
   },
   {
    "duration": 15,
    "start_time": "2021-11-13T15:19:22.063Z"
   },
   {
    "duration": 45,
    "start_time": "2021-11-13T15:19:22.081Z"
   },
   {
    "duration": 103,
    "start_time": "2021-11-13T15:19:22.129Z"
   },
   {
    "duration": 42464,
    "start_time": "2021-11-13T15:18:39.771Z"
   },
   {
    "duration": 42459,
    "start_time": "2021-11-13T15:18:39.777Z"
   },
   {
    "duration": 42456,
    "start_time": "2021-11-13T15:18:39.782Z"
   },
   {
    "duration": 42452,
    "start_time": "2021-11-13T15:18:39.787Z"
   },
   {
    "duration": 42449,
    "start_time": "2021-11-13T15:18:39.792Z"
   },
   {
    "duration": 18,
    "start_time": "2021-11-13T15:19:40.171Z"
   },
   {
    "duration": 8,
    "start_time": "2021-11-13T15:19:47.573Z"
   },
   {
    "duration": 10,
    "start_time": "2021-11-13T15:19:48.958Z"
   },
   {
    "duration": 105,
    "start_time": "2021-11-13T15:19:51.937Z"
   },
   {
    "duration": 6,
    "start_time": "2021-11-13T15:21:58.969Z"
   },
   {
    "duration": 807,
    "start_time": "2021-11-13T15:22:13.636Z"
   },
   {
    "duration": 336,
    "start_time": "2021-11-13T15:22:20.141Z"
   },
   {
    "duration": 276,
    "start_time": "2021-11-13T15:22:23.246Z"
   },
   {
    "duration": 7,
    "start_time": "2021-11-13T15:23:00.037Z"
   },
   {
    "duration": 20,
    "start_time": "2021-11-13T15:23:14.016Z"
   },
   {
    "duration": 1332,
    "start_time": "2021-11-13T15:23:33.407Z"
   },
   {
    "duration": 41,
    "start_time": "2021-11-13T15:23:34.742Z"
   },
   {
    "duration": 9,
    "start_time": "2021-11-13T15:23:34.787Z"
   },
   {
    "duration": 23,
    "start_time": "2021-11-13T15:23:34.800Z"
   },
   {
    "duration": 15,
    "start_time": "2021-11-13T15:23:34.826Z"
   },
   {
    "duration": 8,
    "start_time": "2021-11-13T15:23:34.844Z"
   },
   {
    "duration": 9,
    "start_time": "2021-11-13T15:23:34.855Z"
   },
   {
    "duration": 10,
    "start_time": "2021-11-13T15:23:34.867Z"
   },
   {
    "duration": 49,
    "start_time": "2021-11-13T15:23:34.881Z"
   },
   {
    "duration": 8,
    "start_time": "2021-11-13T15:23:34.933Z"
   },
   {
    "duration": 7,
    "start_time": "2021-11-13T15:23:34.944Z"
   },
   {
    "duration": 114,
    "start_time": "2021-11-13T15:23:34.954Z"
   },
   {
    "duration": 8447,
    "start_time": "2021-11-13T15:23:35.070Z"
   },
   {
    "duration": 26,
    "start_time": "2021-11-13T15:23:43.523Z"
   },
   {
    "duration": 8,
    "start_time": "2021-11-13T15:23:43.551Z"
   },
   {
    "duration": 18,
    "start_time": "2021-11-13T15:23:43.561Z"
   },
   {
    "duration": 44,
    "start_time": "2021-11-13T15:23:43.581Z"
   },
   {
    "duration": 101,
    "start_time": "2021-11-13T15:23:43.628Z"
   },
   {
    "duration": 42493,
    "start_time": "2021-11-13T15:23:01.239Z"
   },
   {
    "duration": 42489,
    "start_time": "2021-11-13T15:23:01.245Z"
   },
   {
    "duration": 42481,
    "start_time": "2021-11-13T15:23:01.255Z"
   },
   {
    "duration": 42482,
    "start_time": "2021-11-13T15:23:01.257Z"
   },
   {
    "duration": 42480,
    "start_time": "2021-11-13T15:23:01.261Z"
   },
   {
    "duration": 19,
    "start_time": "2021-11-13T15:23:48.184Z"
   },
   {
    "duration": 8,
    "start_time": "2021-11-13T15:23:54.223Z"
   },
   {
    "duration": 9,
    "start_time": "2021-11-13T15:23:54.772Z"
   },
   {
    "duration": 105,
    "start_time": "2021-11-13T15:23:56.536Z"
   },
   {
    "duration": 95,
    "start_time": "2021-11-13T15:24:30.130Z"
   },
   {
    "duration": 8,
    "start_time": "2021-11-13T15:24:42.208Z"
   },
   {
    "duration": 7,
    "start_time": "2021-11-13T15:24:50.482Z"
   },
   {
    "duration": 8,
    "start_time": "2021-11-13T15:24:58.284Z"
   },
   {
    "duration": 437,
    "start_time": "2021-11-13T15:25:03.699Z"
   },
   {
    "duration": 290,
    "start_time": "2021-11-13T15:25:10.011Z"
   },
   {
    "duration": 6,
    "start_time": "2021-11-13T15:25:15.170Z"
   },
   {
    "duration": 300,
    "start_time": "2021-11-13T15:25:26.379Z"
   },
   {
    "duration": 5,
    "start_time": "2021-11-13T15:26:06.848Z"
   },
   {
    "duration": 93,
    "start_time": "2021-11-13T15:26:15.924Z"
   },
   {
    "duration": 6,
    "start_time": "2021-11-13T15:26:28.490Z"
   },
   {
    "duration": 6,
    "start_time": "2021-11-13T15:26:33.301Z"
   },
   {
    "duration": 6,
    "start_time": "2021-11-13T15:26:37.109Z"
   },
   {
    "duration": 7,
    "start_time": "2021-11-13T15:26:41.878Z"
   },
   {
    "duration": 6,
    "start_time": "2021-11-13T15:27:48.469Z"
   },
   {
    "duration": 335,
    "start_time": "2021-11-13T15:27:56.306Z"
   },
   {
    "duration": 283,
    "start_time": "2021-11-13T15:28:05.297Z"
   },
   {
    "duration": 287,
    "start_time": "2021-11-13T15:28:14.693Z"
   },
   {
    "duration": 298,
    "start_time": "2021-11-13T15:28:17.832Z"
   },
   {
    "duration": 283,
    "start_time": "2021-11-13T15:28:21.580Z"
   },
   {
    "duration": 304,
    "start_time": "2021-11-13T15:28:29.811Z"
   },
   {
    "duration": 283,
    "start_time": "2021-11-13T15:28:32.539Z"
   },
   {
    "duration": 294,
    "start_time": "2021-11-13T15:28:36.175Z"
   },
   {
    "duration": 7,
    "start_time": "2021-11-13T15:28:39.863Z"
   },
   {
    "duration": 22,
    "start_time": "2021-11-13T15:29:00.430Z"
   },
   {
    "duration": 320,
    "start_time": "2021-11-13T15:29:18.599Z"
   },
   {
    "duration": 19,
    "start_time": "2021-11-13T15:29:24.949Z"
   },
   {
    "duration": 280,
    "start_time": "2021-11-13T15:29:35.349Z"
   },
   {
    "duration": 375,
    "start_time": "2021-11-13T15:29:40.032Z"
   },
   {
    "duration": 20,
    "start_time": "2021-11-13T15:29:42.946Z"
   },
   {
    "duration": 20,
    "start_time": "2021-11-13T15:31:04.761Z"
   },
   {
    "duration": 8,
    "start_time": "2021-11-13T15:31:13.588Z"
   },
   {
    "duration": 101,
    "start_time": "2021-11-13T15:31:20.181Z"
   },
   {
    "duration": 7,
    "start_time": "2021-11-13T15:32:48.118Z"
   },
   {
    "duration": 286,
    "start_time": "2021-11-13T15:33:59.263Z"
   },
   {
    "duration": 301,
    "start_time": "2021-11-13T15:34:05.805Z"
   },
   {
    "duration": 6,
    "start_time": "2021-11-13T15:34:59.978Z"
   },
   {
    "duration": 25,
    "start_time": "2021-11-13T15:35:05.281Z"
   },
   {
    "duration": 6,
    "start_time": "2021-11-13T15:37:45.784Z"
   },
   {
    "duration": 6,
    "start_time": "2021-11-13T15:37:48.275Z"
   },
   {
    "duration": 23,
    "start_time": "2021-11-13T15:37:53.907Z"
   },
   {
    "duration": 8,
    "start_time": "2021-11-13T15:38:02.650Z"
   },
   {
    "duration": 24,
    "start_time": "2021-11-13T15:38:10.692Z"
   },
   {
    "duration": 1299,
    "start_time": "2021-11-13T15:38:22.449Z"
   },
   {
    "duration": 40,
    "start_time": "2021-11-13T15:38:23.750Z"
   },
   {
    "duration": 9,
    "start_time": "2021-11-13T15:38:23.792Z"
   },
   {
    "duration": 10,
    "start_time": "2021-11-13T15:38:23.803Z"
   },
   {
    "duration": 14,
    "start_time": "2021-11-13T15:38:23.823Z"
   },
   {
    "duration": 16,
    "start_time": "2021-11-13T15:38:23.840Z"
   },
   {
    "duration": 16,
    "start_time": "2021-11-13T15:38:23.858Z"
   },
   {
    "duration": 18,
    "start_time": "2021-11-13T15:38:23.878Z"
   },
   {
    "duration": 12,
    "start_time": "2021-11-13T15:38:23.900Z"
   },
   {
    "duration": 14,
    "start_time": "2021-11-13T15:38:23.914Z"
   },
   {
    "duration": 15,
    "start_time": "2021-11-13T15:38:23.931Z"
   },
   {
    "duration": 78,
    "start_time": "2021-11-13T15:38:23.948Z"
   },
   {
    "duration": 9088,
    "start_time": "2021-11-13T15:38:24.028Z"
   },
   {
    "duration": 28,
    "start_time": "2021-11-13T15:38:33.123Z"
   },
   {
    "duration": 7,
    "start_time": "2021-11-13T15:38:33.153Z"
   },
   {
    "duration": 20,
    "start_time": "2021-11-13T15:38:33.162Z"
   },
   {
    "duration": 41,
    "start_time": "2021-11-13T15:38:33.185Z"
   },
   {
    "duration": 142,
    "start_time": "2021-11-13T15:38:33.229Z"
   },
   {
    "duration": 42485,
    "start_time": "2021-11-13T15:37:50.889Z"
   },
   {
    "duration": 42480,
    "start_time": "2021-11-13T15:37:50.895Z"
   },
   {
    "duration": 42475,
    "start_time": "2021-11-13T15:37:50.902Z"
   },
   {
    "duration": 42473,
    "start_time": "2021-11-13T15:37:50.905Z"
   },
   {
    "duration": 42473,
    "start_time": "2021-11-13T15:37:50.907Z"
   },
   {
    "duration": 22,
    "start_time": "2021-11-13T15:39:12.826Z"
   },
   {
    "duration": 8,
    "start_time": "2021-11-13T15:39:17.490Z"
   },
   {
    "duration": 10,
    "start_time": "2021-11-13T15:39:17.958Z"
   },
   {
    "duration": 106,
    "start_time": "2021-11-13T15:39:19.876Z"
   },
   {
    "duration": 9,
    "start_time": "2021-11-13T15:39:35.824Z"
   },
   {
    "duration": 101,
    "start_time": "2021-11-13T15:39:37.159Z"
   },
   {
    "duration": 9,
    "start_time": "2021-11-13T15:40:29.792Z"
   },
   {
    "duration": 117,
    "start_time": "2021-11-13T15:40:32.664Z"
   },
   {
    "duration": 430,
    "start_time": "2021-11-13T15:42:14.922Z"
   },
   {
    "duration": 27,
    "start_time": "2021-11-13T15:43:03.652Z"
   },
   {
    "duration": 31,
    "start_time": "2021-11-13T15:43:49.351Z"
   },
   {
    "duration": 43,
    "start_time": "2021-11-13T15:45:55.257Z"
   },
   {
    "duration": 42502,
    "start_time": "2021-11-13T15:46:45.584Z"
   },
   {
    "duration": 7162,
    "start_time": "2021-11-13T15:47:35.640Z"
   },
   {
    "duration": 1348,
    "start_time": "2021-11-13T15:48:27.707Z"
   },
   {
    "duration": 41,
    "start_time": "2021-11-13T15:48:29.058Z"
   },
   {
    "duration": 22,
    "start_time": "2021-11-13T15:48:29.103Z"
   },
   {
    "duration": 7,
    "start_time": "2021-11-13T15:48:29.128Z"
   },
   {
    "duration": 9,
    "start_time": "2021-11-13T15:48:29.138Z"
   },
   {
    "duration": 9,
    "start_time": "2021-11-13T15:48:29.149Z"
   },
   {
    "duration": 9,
    "start_time": "2021-11-13T15:48:29.160Z"
   },
   {
    "duration": 51,
    "start_time": "2021-11-13T15:48:29.174Z"
   },
   {
    "duration": 9,
    "start_time": "2021-11-13T15:48:29.229Z"
   },
   {
    "duration": 8,
    "start_time": "2021-11-13T15:48:29.240Z"
   },
   {
    "duration": 7,
    "start_time": "2021-11-13T15:48:29.250Z"
   },
   {
    "duration": 109,
    "start_time": "2021-11-13T15:48:29.259Z"
   },
   {
    "duration": 7930,
    "start_time": "2021-11-13T15:48:29.370Z"
   },
   {
    "duration": 38,
    "start_time": "2021-11-13T15:48:37.302Z"
   },
   {
    "duration": 6,
    "start_time": "2021-11-13T15:48:37.342Z"
   },
   {
    "duration": 18,
    "start_time": "2021-11-13T15:48:37.351Z"
   },
   {
    "duration": 6,
    "start_time": "2021-11-13T15:48:37.371Z"
   },
   {
    "duration": 54,
    "start_time": "2021-11-13T15:48:37.380Z"
   },
   {
    "duration": 10,
    "start_time": "2021-11-13T15:48:37.437Z"
   },
   {
    "duration": 14,
    "start_time": "2021-11-13T15:48:37.450Z"
   },
   {
    "duration": 147,
    "start_time": "2021-11-13T15:48:37.466Z"
   },
   {
    "duration": 50,
    "start_time": "2021-11-13T15:48:37.616Z"
   },
   {
    "duration": 5,
    "start_time": "2021-11-13T15:48:37.672Z"
   },
   {
    "duration": 7,
    "start_time": "2021-11-13T15:48:48.900Z"
   },
   {
    "duration": 21,
    "start_time": "2021-11-13T15:49:02.817Z"
   },
   {
    "duration": 8178,
    "start_time": "2021-11-13T15:53:52.347Z"
   },
   {
    "duration": 99,
    "start_time": "2021-11-13T15:57:16.870Z"
   },
   {
    "duration": 6,
    "start_time": "2021-11-13T15:57:20.715Z"
   },
   {
    "duration": 31,
    "start_time": "2021-11-13T15:57:28.441Z"
   },
   {
    "duration": 35,
    "start_time": "2021-11-13T15:58:08.401Z"
   },
   {
    "duration": 307,
    "start_time": "2021-11-13T16:00:36.552Z"
   },
   {
    "duration": 796,
    "start_time": "2021-11-13T16:01:24.975Z"
   },
   {
    "duration": 441,
    "start_time": "2021-11-13T16:01:36.481Z"
   },
   {
    "duration": 113,
    "start_time": "2021-11-13T16:02:55.007Z"
   },
   {
    "duration": 8,
    "start_time": "2021-11-13T16:02:59.765Z"
   },
   {
    "duration": 9,
    "start_time": "2021-11-13T16:03:10.763Z"
   },
   {
    "duration": 9,
    "start_time": "2021-11-13T16:03:25.737Z"
   },
   {
    "duration": 10,
    "start_time": "2021-11-13T16:03:38.097Z"
   },
   {
    "duration": 11,
    "start_time": "2021-11-13T16:04:27.149Z"
   },
   {
    "duration": 9,
    "start_time": "2021-11-13T16:04:34.417Z"
   },
   {
    "duration": 10,
    "start_time": "2021-11-13T16:05:12.529Z"
   },
   {
    "duration": 10,
    "start_time": "2021-11-13T16:05:15.059Z"
   },
   {
    "duration": 44,
    "start_time": "2021-11-13T16:13:37.647Z"
   },
   {
    "duration": 30,
    "start_time": "2021-11-13T16:13:42.551Z"
   },
   {
    "duration": 10,
    "start_time": "2021-11-13T16:13:46.057Z"
   },
   {
    "duration": 9,
    "start_time": "2021-11-13T16:13:48.100Z"
   },
   {
    "duration": 9,
    "start_time": "2021-11-13T16:13:48.859Z"
   },
   {
    "duration": 1324,
    "start_time": "2021-11-13T16:15:09.150Z"
   },
   {
    "duration": 40,
    "start_time": "2021-11-13T16:15:10.478Z"
   },
   {
    "duration": 9,
    "start_time": "2021-11-13T16:15:10.521Z"
   },
   {
    "duration": 6,
    "start_time": "2021-11-13T16:15:10.533Z"
   },
   {
    "duration": 15,
    "start_time": "2021-11-13T16:15:10.541Z"
   },
   {
    "duration": 13,
    "start_time": "2021-11-13T16:15:10.559Z"
   },
   {
    "duration": 12,
    "start_time": "2021-11-13T16:15:10.574Z"
   },
   {
    "duration": 35,
    "start_time": "2021-11-13T16:15:10.591Z"
   },
   {
    "duration": 15,
    "start_time": "2021-11-13T16:15:10.630Z"
   },
   {
    "duration": 13,
    "start_time": "2021-11-13T16:15:10.647Z"
   },
   {
    "duration": 19,
    "start_time": "2021-11-13T16:15:10.662Z"
   },
   {
    "duration": 86,
    "start_time": "2021-11-13T16:15:10.683Z"
   },
   {
    "duration": 8895,
    "start_time": "2021-11-13T16:15:10.771Z"
   },
   {
    "duration": 26,
    "start_time": "2021-11-13T16:15:19.668Z"
   },
   {
    "duration": 28,
    "start_time": "2021-11-13T16:15:19.696Z"
   },
   {
    "duration": 16,
    "start_time": "2021-11-13T16:15:19.727Z"
   },
   {
    "duration": 7,
    "start_time": "2021-11-13T16:15:19.745Z"
   },
   {
    "duration": 22,
    "start_time": "2021-11-13T16:15:19.755Z"
   },
   {
    "duration": 49,
    "start_time": "2021-11-13T16:15:19.779Z"
   },
   {
    "duration": 11,
    "start_time": "2021-11-13T16:15:19.831Z"
   },
   {
    "duration": 138,
    "start_time": "2021-11-13T16:15:19.844Z"
   },
   {
    "duration": 59,
    "start_time": "2021-11-13T16:15:19.984Z"
   },
   {
    "duration": 36,
    "start_time": "2021-11-13T16:15:20.047Z"
   },
   {
    "duration": 38,
    "start_time": "2021-11-13T16:15:20.086Z"
   },
   {
    "duration": 9,
    "start_time": "2021-11-13T16:15:20.127Z"
   },
   {
    "duration": 9,
    "start_time": "2021-11-13T16:15:20.139Z"
   },
   {
    "duration": 150,
    "start_time": "2021-11-13T18:01:24.620Z"
   },
   {
    "duration": 5,
    "start_time": "2021-11-13T18:21:36.003Z"
   },
   {
    "duration": 5,
    "start_time": "2021-11-13T18:23:37.486Z"
   },
   {
    "duration": 524,
    "start_time": "2021-11-13T18:24:17.930Z"
   },
   {
    "duration": 384,
    "start_time": "2021-11-13T18:24:27.094Z"
   },
   {
    "duration": 314,
    "start_time": "2021-11-13T18:25:32.974Z"
   },
   {
    "duration": 288,
    "start_time": "2021-11-13T18:26:11.959Z"
   },
   {
    "duration": 285,
    "start_time": "2021-11-13T18:26:18.607Z"
   },
   {
    "duration": 417,
    "start_time": "2021-11-13T18:26:29.402Z"
   },
   {
    "duration": 5,
    "start_time": "2021-11-13T18:27:00.314Z"
   },
   {
    "duration": 319,
    "start_time": "2021-11-13T18:27:01.041Z"
   },
   {
    "duration": 5,
    "start_time": "2021-11-13T18:27:33.006Z"
   },
   {
    "duration": 301,
    "start_time": "2021-11-13T18:27:34.179Z"
   },
   {
    "duration": 5,
    "start_time": "2021-11-13T18:27:40.551Z"
   },
   {
    "duration": 1431,
    "start_time": "2021-11-13T18:28:29.146Z"
   },
   {
    "duration": 43,
    "start_time": "2021-11-13T18:28:30.580Z"
   },
   {
    "duration": 11,
    "start_time": "2021-11-13T18:28:30.626Z"
   },
   {
    "duration": 21,
    "start_time": "2021-11-13T18:28:30.640Z"
   },
   {
    "duration": 29,
    "start_time": "2021-11-13T18:28:30.663Z"
   },
   {
    "duration": 21,
    "start_time": "2021-11-13T18:28:30.694Z"
   },
   {
    "duration": 22,
    "start_time": "2021-11-13T18:28:30.718Z"
   },
   {
    "duration": 16,
    "start_time": "2021-11-13T18:28:30.743Z"
   },
   {
    "duration": 30,
    "start_time": "2021-11-13T18:28:30.762Z"
   },
   {
    "duration": 19,
    "start_time": "2021-11-13T18:28:30.794Z"
   },
   {
    "duration": 19,
    "start_time": "2021-11-13T18:28:30.815Z"
   },
   {
    "duration": 79,
    "start_time": "2021-11-13T18:28:30.836Z"
   },
   {
    "duration": 8059,
    "start_time": "2021-11-13T18:28:30.918Z"
   },
   {
    "duration": 43,
    "start_time": "2021-11-13T18:28:38.979Z"
   },
   {
    "duration": 5,
    "start_time": "2021-11-13T18:28:39.024Z"
   },
   {
    "duration": 125,
    "start_time": "2021-11-13T18:28:39.031Z"
   },
   {
    "duration": 689,
    "start_time": "2021-11-13T18:28:38.470Z"
   },
   {
    "duration": 685,
    "start_time": "2021-11-13T18:28:38.475Z"
   },
   {
    "duration": 683,
    "start_time": "2021-11-13T18:28:38.478Z"
   },
   {
    "duration": 681,
    "start_time": "2021-11-13T18:28:38.482Z"
   },
   {
    "duration": 678,
    "start_time": "2021-11-13T18:28:38.486Z"
   },
   {
    "duration": 674,
    "start_time": "2021-11-13T18:28:38.492Z"
   },
   {
    "duration": 671,
    "start_time": "2021-11-13T18:28:38.496Z"
   },
   {
    "duration": 668,
    "start_time": "2021-11-13T18:28:38.500Z"
   },
   {
    "duration": 659,
    "start_time": "2021-11-13T18:28:38.511Z"
   },
   {
    "duration": 655,
    "start_time": "2021-11-13T18:28:38.516Z"
   },
   {
    "duration": 652,
    "start_time": "2021-11-13T18:28:38.520Z"
   },
   {
    "duration": 650,
    "start_time": "2021-11-13T18:28:38.524Z"
   },
   {
    "duration": 647,
    "start_time": "2021-11-13T18:28:38.528Z"
   },
   {
    "duration": 409,
    "start_time": "2021-11-13T18:29:22.411Z"
   },
   {
    "duration": 4,
    "start_time": "2021-11-13T18:29:53.338Z"
   },
   {
    "duration": 102576,
    "start_time": "2021-11-13T18:29:54.631Z"
   },
   {
    "duration": 5,
    "start_time": "2021-11-13T18:31:56.115Z"
   },
   {
    "duration": 21165,
    "start_time": "2021-11-13T18:31:56.758Z"
   },
   {
    "duration": 6,
    "start_time": "2021-11-13T18:32:21.516Z"
   },
   {
    "duration": 723,
    "start_time": "2021-11-13T18:33:42.916Z"
   },
   {
    "duration": 5,
    "start_time": "2021-11-13T18:34:16.716Z"
   },
   {
    "duration": 132,
    "start_time": "2021-11-13T18:34:56.624Z"
   },
   {
    "duration": 99,
    "start_time": "2021-11-13T18:35:05.573Z"
   },
   {
    "duration": 4,
    "start_time": "2021-11-13T18:35:11.648Z"
   },
   {
    "duration": 236,
    "start_time": "2021-11-13T18:35:59.087Z"
   },
   {
    "duration": 229,
    "start_time": "2021-11-13T18:37:08.882Z"
   },
   {
    "duration": 5,
    "start_time": "2021-11-13T18:37:37.655Z"
   },
   {
    "duration": 70139,
    "start_time": "2021-11-13T18:37:38.527Z"
   },
   {
    "duration": 5,
    "start_time": "2021-11-13T18:38:52.607Z"
   },
   {
    "duration": 41552,
    "start_time": "2021-11-13T18:38:53.321Z"
   },
   {
    "duration": 6,
    "start_time": "2021-11-13T18:39:41.019Z"
   },
   {
    "duration": 224,
    "start_time": "2021-11-13T18:40:24.235Z"
   },
   {
    "duration": 207,
    "start_time": "2021-11-13T18:40:30.366Z"
   },
   {
    "duration": 4,
    "start_time": "2021-11-13T18:40:51.877Z"
   },
   {
    "duration": 20944,
    "start_time": "2021-11-13T18:40:52.787Z"
   },
   {
    "duration": 5,
    "start_time": "2021-11-13T18:41:19.472Z"
   },
   {
    "duration": 223,
    "start_time": "2021-11-13T18:41:22.833Z"
   },
   {
    "duration": 297,
    "start_time": "2021-11-13T18:49:41.637Z"
   },
   {
    "duration": 222,
    "start_time": "2021-11-13T18:49:48.300Z"
   },
   {
    "duration": 21,
    "start_time": "2021-11-13T18:49:52.737Z"
   },
   {
    "duration": 7,
    "start_time": "2021-11-13T18:50:17.941Z"
   },
   {
    "duration": 16,
    "start_time": "2021-11-13T18:50:20.283Z"
   },
   {
    "duration": 7,
    "start_time": "2021-11-13T18:50:21.397Z"
   },
   {
    "duration": 301,
    "start_time": "2021-11-13T18:55:01.426Z"
   },
   {
    "duration": 301,
    "start_time": "2021-11-13T18:56:01.249Z"
   },
   {
    "duration": 311,
    "start_time": "2021-11-13T18:56:18.196Z"
   },
   {
    "duration": 3,
    "start_time": "2021-11-13T18:56:55.257Z"
   },
   {
    "duration": 4289,
    "start_time": "2021-11-13T18:56:59.069Z"
   },
   {
    "duration": 5,
    "start_time": "2021-11-13T18:57:07.512Z"
   },
   {
    "duration": 274,
    "start_time": "2021-11-13T18:57:49.999Z"
   },
   {
    "duration": 280,
    "start_time": "2021-11-13T18:58:03.588Z"
   },
   {
    "duration": 22,
    "start_time": "2021-11-13T18:58:39.740Z"
   },
   {
    "duration": 21,
    "start_time": "2021-11-13T18:58:51.595Z"
   },
   {
    "duration": 5,
    "start_time": "2021-11-13T19:00:21.908Z"
   },
   {
    "duration": 20796,
    "start_time": "2021-11-13T19:00:22.411Z"
   },
   {
    "duration": 6,
    "start_time": "2021-11-13T19:00:47.805Z"
   },
   {
    "duration": 196,
    "start_time": "2021-11-13T19:00:48.392Z"
   },
   {
    "duration": 4,
    "start_time": "2021-11-13T19:00:54.166Z"
   },
   {
    "duration": 2807,
    "start_time": "2021-11-13T19:00:57.404Z"
   },
   {
    "duration": 5,
    "start_time": "2021-11-13T19:01:03.258Z"
   },
   {
    "duration": 178,
    "start_time": "2021-11-13T19:01:04.474Z"
   },
   {
    "duration": 7,
    "start_time": "2021-11-13T19:01:14.091Z"
   },
   {
    "duration": 16,
    "start_time": "2021-11-13T19:01:15.198Z"
   },
   {
    "duration": 9,
    "start_time": "2021-11-13T19:01:16.214Z"
   },
   {
    "duration": 17,
    "start_time": "2021-11-13T19:01:16.863Z"
   },
   {
    "duration": 19,
    "start_time": "2021-11-13T19:01:18.689Z"
   },
   {
    "duration": 19,
    "start_time": "2021-11-13T19:01:27.002Z"
   },
   {
    "duration": 11,
    "start_time": "2021-11-13T19:11:49.642Z"
   },
   {
    "duration": 9,
    "start_time": "2021-11-13T19:13:20.693Z"
   },
   {
    "duration": 1360,
    "start_time": "2021-11-13T19:13:34.686Z"
   },
   {
    "duration": 43,
    "start_time": "2021-11-13T19:13:36.049Z"
   },
   {
    "duration": 9,
    "start_time": "2021-11-13T19:13:36.095Z"
   },
   {
    "duration": 16,
    "start_time": "2021-11-13T19:13:36.106Z"
   },
   {
    "duration": 7,
    "start_time": "2021-11-13T19:13:36.125Z"
   },
   {
    "duration": 11,
    "start_time": "2021-11-13T19:13:36.135Z"
   },
   {
    "duration": 6,
    "start_time": "2021-11-13T19:13:36.148Z"
   },
   {
    "duration": 11,
    "start_time": "2021-11-13T19:13:36.157Z"
   },
   {
    "duration": 53,
    "start_time": "2021-11-13T19:13:36.171Z"
   },
   {
    "duration": 8,
    "start_time": "2021-11-13T19:13:36.226Z"
   },
   {
    "duration": 11,
    "start_time": "2021-11-13T19:13:36.236Z"
   },
   {
    "duration": 105,
    "start_time": "2021-11-13T19:13:36.249Z"
   },
   {
    "duration": 8157,
    "start_time": "2021-11-13T19:13:36.356Z"
   },
   {
    "duration": 34,
    "start_time": "2021-11-13T19:13:44.515Z"
   },
   {
    "duration": 4,
    "start_time": "2021-11-13T19:13:44.551Z"
   },
   {
    "duration": 20669,
    "start_time": "2021-11-13T19:13:44.557Z"
   },
   {
    "duration": 6,
    "start_time": "2021-11-13T19:14:05.229Z"
   },
   {
    "duration": 188,
    "start_time": "2021-11-13T19:14:05.239Z"
   },
   {
    "duration": 5,
    "start_time": "2021-11-13T19:14:05.430Z"
   },
   {
    "duration": 3538,
    "start_time": "2021-11-13T19:14:05.438Z"
   },
   {
    "duration": 6,
    "start_time": "2021-11-13T19:14:08.979Z"
   },
   {
    "duration": 276,
    "start_time": "2021-11-13T19:14:08.988Z"
   },
   {
    "duration": 7,
    "start_time": "2021-11-13T19:14:09.272Z"
   },
   {
    "duration": 46,
    "start_time": "2021-11-13T19:14:09.283Z"
   },
   {
    "duration": 9,
    "start_time": "2021-11-13T19:14:09.332Z"
   },
   {
    "duration": 30,
    "start_time": "2021-11-13T19:14:09.344Z"
   },
   {
    "duration": 53,
    "start_time": "2021-11-13T19:14:09.377Z"
   },
   {
    "duration": 23,
    "start_time": "2021-11-13T19:14:09.433Z"
   },
   {
    "duration": 14,
    "start_time": "2021-11-13T19:14:09.459Z"
   },
   {
    "duration": 56,
    "start_time": "2021-11-13T19:14:09.475Z"
   },
   {
    "duration": 147,
    "start_time": "2021-11-13T19:14:09.534Z"
   },
   {
    "duration": 58,
    "start_time": "2021-11-13T19:14:09.683Z"
   },
   {
    "duration": 34,
    "start_time": "2021-11-13T19:14:09.743Z"
   },
   {
    "duration": 19,
    "start_time": "2021-11-13T19:14:09.780Z"
   },
   {
    "duration": 10,
    "start_time": "2021-11-13T19:14:09.821Z"
   },
   {
    "duration": 17,
    "start_time": "2021-11-13T19:14:09.834Z"
   },
   {
    "duration": 13,
    "start_time": "2021-11-13T19:14:09.854Z"
   }
  ],
  "kernelspec": {
   "display_name": "Python 3 (ipykernel)",
   "language": "python",
   "name": "python3"
  },
  "language_info": {
   "codemirror_mode": {
    "name": "ipython",
    "version": 3
   },
   "file_extension": ".py",
   "mimetype": "text/x-python",
   "name": "python",
   "nbconvert_exporter": "python",
   "pygments_lexer": "ipython3",
   "version": "3.10.4"
  },
  "toc": {
   "base_numbering": 1,
   "nav_menu": {},
   "number_sections": true,
   "sideBar": true,
   "skip_h1_title": true,
   "title_cell": "Table of Contents",
   "title_sidebar": "Contents",
   "toc_cell": false,
   "toc_position": {},
   "toc_section_display": true,
   "toc_window_display": false
  }
 },
 "nbformat": 4,
 "nbformat_minor": 2
}
