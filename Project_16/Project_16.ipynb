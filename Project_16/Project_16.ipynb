{
 "cells": [
  {
   "cell_type": "markdown",
   "metadata": {},
   "source": [
    "# Automatization of the comments processing for the online store"
   ]
  },
  {
   "cell_type": "markdown",
   "metadata": {
    "toc": true
   },
   "source": [
    "# Content\n",
    "\n",
    "1. [Project Description](#section_0)\n",
    "2. [Data import and overview](#section_1)\n",
    "3. [Data preparation](#section_2)\n",
    "4. [Models training](#section_3)\n",
    "5. [Model testing and drawing a conclusion](#section_4)"
   ]
  },
  {
   "cell_type": "markdown",
   "metadata": {},
   "source": [
    "<a name ='section_0'></a>\n",
    "# Project Description"
   ]
  },
  {
   "attachments": {},
   "cell_type": "markdown",
   "metadata": {},
   "source": [
    "Online store just to rolls out new service. With new service the clients can edit and add a description of the products in the store (same as in wiki services). Clients could suggest the edits of descriptions and comment the changes of other clients. Store would like to have a tool which can classify the comments on toxic and regular. It's required to train a model for the classification of future comments.  \n",
    "\n",
    "Model F1 score shall no be less than 0.75. \n",
    "\n",
    "**Project tasks**\n",
    "\n",
    "1. Import and prepare the data.\n",
    "2. Train the models. \n",
    "3. Test the models and draw a conclusion.\n",
    "\n",
    "**Data description**\n",
    "\n",
    "Data stored in `toxic_comments.csv`. Column `text` contains a text, column `toxic` — target."
   ]
  },
  {
   "cell_type": "markdown",
   "metadata": {},
   "source": [
    "<a name = 'section_1'><a/>\n",
    "# Data import and preparation"
   ]
  },
  {
   "attachments": {},
   "cell_type": "markdown",
   "metadata": {},
   "source": [
    "**Libraries and data import and overview**"
   ]
  },
  {
   "cell_type": "code",
   "execution_count": 1,
   "metadata": {},
   "outputs": [],
   "source": [
    "import re\n",
    "import nltk\n",
    "import torch\n",
    "import pandas as pd\n",
    "import numpy as np\n",
    "import transformers\n",
    "from pymystem3 import Mystem\n",
    "from tqdm import notebook\n",
    "from sklearn.model_selection import train_test_split\n",
    "from sklearn.linear_model import LogisticRegression\n",
    "from nltk.corpus import stopwords\n",
    "from sklearn.feature_extraction.text import TfidfVectorizer\n",
    "from nltk.stem import WordNetLemmatizer\n",
    "from nltk.tokenize import word_tokenize\n",
    "from sklearn.metrics import f1_score\n",
    "from scipy.stats import uniform, truncnorm, randint\n",
    "from sklearn.metrics import confusion_matrix\n",
    "from sklearn.utils import shuffle\n",
    "from scipy.stats import randint\n",
    "import matplotlib.pyplot as plt\n",
    "\n",
    "import warnings\n",
    "warnings.filterwarnings(\"ignore\")"
   ]
  },
  {
   "cell_type": "code",
   "execution_count": 2,
   "metadata": {},
   "outputs": [
    {
     "name": "stderr",
     "output_type": "stream",
     "text": [
      "[nltk_data] Downloading package punkt to /home/jovyan/nltk_data...\n",
      "[nltk_data]   Package punkt is already up-to-date!\n"
     ]
    },
    {
     "data": {
      "text/plain": [
       "True"
      ]
     },
     "execution_count": 2,
     "metadata": {},
     "output_type": "execute_result"
    }
   ],
   "source": [
    "nltk.download('punkt')"
   ]
  },
  {
   "cell_type": "code",
   "execution_count": 3,
   "metadata": {},
   "outputs": [],
   "source": [
    "try:\n",
    "    data = pd.read_csv('/datasets/toxic_comments.csv',index_col=[0])\n",
    "except:\n",
    "    data = pd.read_csv('toxic_comments.csv',index_col=[0])"
   ]
  },
  {
   "cell_type": "code",
   "execution_count": 4,
   "metadata": {},
   "outputs": [
    {
     "data": {
      "text/html": [
       "<div>\n",
       "<style scoped>\n",
       "    .dataframe tbody tr th:only-of-type {\n",
       "        vertical-align: middle;\n",
       "    }\n",
       "\n",
       "    .dataframe tbody tr th {\n",
       "        vertical-align: top;\n",
       "    }\n",
       "\n",
       "    .dataframe thead th {\n",
       "        text-align: right;\n",
       "    }\n",
       "</style>\n",
       "<table border=\"1\" class=\"dataframe\">\n",
       "  <thead>\n",
       "    <tr style=\"text-align: right;\">\n",
       "      <th></th>\n",
       "      <th>text</th>\n",
       "      <th>toxic</th>\n",
       "    </tr>\n",
       "  </thead>\n",
       "  <tbody>\n",
       "    <tr>\n",
       "      <th>0</th>\n",
       "      <td>Explanation\\nWhy the edits made under my usern...</td>\n",
       "      <td>0</td>\n",
       "    </tr>\n",
       "    <tr>\n",
       "      <th>1</th>\n",
       "      <td>D'aww! He matches this background colour I'm s...</td>\n",
       "      <td>0</td>\n",
       "    </tr>\n",
       "    <tr>\n",
       "      <th>2</th>\n",
       "      <td>Hey man, I'm really not trying to edit war. It...</td>\n",
       "      <td>0</td>\n",
       "    </tr>\n",
       "    <tr>\n",
       "      <th>3</th>\n",
       "      <td>\"\\nMore\\nI can't make any real suggestions on ...</td>\n",
       "      <td>0</td>\n",
       "    </tr>\n",
       "    <tr>\n",
       "      <th>4</th>\n",
       "      <td>You, sir, are my hero. Any chance you remember...</td>\n",
       "      <td>0</td>\n",
       "    </tr>\n",
       "  </tbody>\n",
       "</table>\n",
       "</div>"
      ],
      "text/plain": [
       "                                                text  toxic\n",
       "0  Explanation\\nWhy the edits made under my usern...      0\n",
       "1  D'aww! He matches this background colour I'm s...      0\n",
       "2  Hey man, I'm really not trying to edit war. It...      0\n",
       "3  \"\\nMore\\nI can't make any real suggestions on ...      0\n",
       "4  You, sir, are my hero. Any chance you remember...      0"
      ]
     },
     "execution_count": 4,
     "metadata": {},
     "output_type": "execute_result"
    }
   ],
   "source": [
    "data.head()"
   ]
  },
  {
   "cell_type": "code",
   "execution_count": 5,
   "metadata": {},
   "outputs": [
    {
     "name": "stdout",
     "output_type": "stream",
     "text": [
      "<class 'pandas.core.frame.DataFrame'>\n",
      "Int64Index: 159292 entries, 0 to 159450\n",
      "Data columns (total 2 columns):\n",
      " #   Column  Non-Null Count   Dtype \n",
      "---  ------  --------------   ----- \n",
      " 0   text    159292 non-null  object\n",
      " 1   toxic   159292 non-null  int64 \n",
      "dtypes: int64(1), object(1)\n",
      "memory usage: 3.6+ MB\n"
     ]
    }
   ],
   "source": [
    "data.info()"
   ]
  },
  {
   "cell_type": "code",
   "execution_count": 6,
   "metadata": {},
   "outputs": [
    {
     "data": {
      "text/html": [
       "<div>\n",
       "<style scoped>\n",
       "    .dataframe tbody tr th:only-of-type {\n",
       "        vertical-align: middle;\n",
       "    }\n",
       "\n",
       "    .dataframe tbody tr th {\n",
       "        vertical-align: top;\n",
       "    }\n",
       "\n",
       "    .dataframe thead th {\n",
       "        text-align: right;\n",
       "    }\n",
       "</style>\n",
       "<table border=\"1\" class=\"dataframe\">\n",
       "  <thead>\n",
       "    <tr style=\"text-align: right;\">\n",
       "      <th></th>\n",
       "      <th>toxic</th>\n",
       "    </tr>\n",
       "  </thead>\n",
       "  <tbody>\n",
       "    <tr>\n",
       "      <th>count</th>\n",
       "      <td>159292.000000</td>\n",
       "    </tr>\n",
       "    <tr>\n",
       "      <th>mean</th>\n",
       "      <td>0.101612</td>\n",
       "    </tr>\n",
       "    <tr>\n",
       "      <th>std</th>\n",
       "      <td>0.302139</td>\n",
       "    </tr>\n",
       "    <tr>\n",
       "      <th>min</th>\n",
       "      <td>0.000000</td>\n",
       "    </tr>\n",
       "    <tr>\n",
       "      <th>25%</th>\n",
       "      <td>0.000000</td>\n",
       "    </tr>\n",
       "    <tr>\n",
       "      <th>50%</th>\n",
       "      <td>0.000000</td>\n",
       "    </tr>\n",
       "    <tr>\n",
       "      <th>75%</th>\n",
       "      <td>0.000000</td>\n",
       "    </tr>\n",
       "    <tr>\n",
       "      <th>max</th>\n",
       "      <td>1.000000</td>\n",
       "    </tr>\n",
       "  </tbody>\n",
       "</table>\n",
       "</div>"
      ],
      "text/plain": [
       "               toxic\n",
       "count  159292.000000\n",
       "mean        0.101612\n",
       "std         0.302139\n",
       "min         0.000000\n",
       "25%         0.000000\n",
       "50%         0.000000\n",
       "75%         0.000000\n",
       "max         1.000000"
      ]
     },
     "execution_count": 6,
     "metadata": {},
     "output_type": "execute_result"
    }
   ],
   "source": [
    "data.describe()"
   ]
  },
  {
   "cell_type": "code",
   "execution_count": 7,
   "metadata": {},
   "outputs": [
    {
     "data": {
      "text/plain": [
       "16186"
      ]
     },
     "execution_count": 7,
     "metadata": {},
     "output_type": "execute_result"
    }
   ],
   "source": [
    "data['toxic'].sum()"
   ]
  },
  {
   "attachments": {},
   "cell_type": "markdown",
   "metadata": {},
   "source": [
    "**Conclusion:**\n",
    "\n",
    "- data imported and overview completed;\n",
    "- data has 2 columns - text and toxic (target)\n",
    "- data has 159292 numbers of records.\n",
    "- data has 16186 toxic comments - it's 10% of all records"
   ]
  },
  {
   "cell_type": "markdown",
   "metadata": {},
   "source": [
    "<a name = 'section_2'></a>\n",
    "# Data preparation"
   ]
  },
  {
   "cell_type": "markdown",
   "metadata": {},
   "source": [
    "**Execution of lemmatization, tokenization and padding**"
   ]
  },
  {
   "cell_type": "code",
   "execution_count": 8,
   "metadata": {},
   "outputs": [],
   "source": [
    "m = WordNetLemmatizer()"
   ]
  },
  {
   "cell_type": "code",
   "execution_count": 9,
   "metadata": {},
   "outputs": [],
   "source": [
    "lem_text = []\n",
    "for i in data['text']:\n",
    "    word_list = nltk.word_tokenize(i)\n",
    "    lemmatized_output = ' '.join([m.lemmatize(w) for w in word_list])\n",
    "    temp = re.sub(r'[^a-zA-Z]', ' ', lemmatized_output)\n",
    "    temp = temp.split()\n",
    "    lem_text.append(\" \".join(temp))"
   ]
  },
  {
   "attachments": {},
   "cell_type": "markdown",
   "metadata": {},
   "source": [
    "**Create a new column with lemmatized text**"
   ]
  },
  {
   "cell_type": "code",
   "execution_count": 10,
   "metadata": {},
   "outputs": [],
   "source": [
    "data['lem_text'] = lem_text"
   ]
  },
  {
   "cell_type": "code",
   "execution_count": 11,
   "metadata": {
    "scrolled": true
   },
   "outputs": [
    {
     "data": {
      "text/html": [
       "<div>\n",
       "<style scoped>\n",
       "    .dataframe tbody tr th:only-of-type {\n",
       "        vertical-align: middle;\n",
       "    }\n",
       "\n",
       "    .dataframe tbody tr th {\n",
       "        vertical-align: top;\n",
       "    }\n",
       "\n",
       "    .dataframe thead th {\n",
       "        text-align: right;\n",
       "    }\n",
       "</style>\n",
       "<table border=\"1\" class=\"dataframe\">\n",
       "  <thead>\n",
       "    <tr style=\"text-align: right;\">\n",
       "      <th></th>\n",
       "      <th>text</th>\n",
       "      <th>toxic</th>\n",
       "      <th>lem_text</th>\n",
       "    </tr>\n",
       "  </thead>\n",
       "  <tbody>\n",
       "    <tr>\n",
       "      <th>0</th>\n",
       "      <td>Explanation\\nWhy the edits made under my usern...</td>\n",
       "      <td>0</td>\n",
       "      <td>Explanation Why the edits made under my userna...</td>\n",
       "    </tr>\n",
       "    <tr>\n",
       "      <th>1</th>\n",
       "      <td>D'aww! He matches this background colour I'm s...</td>\n",
       "      <td>0</td>\n",
       "      <td>D aww He match this background colour I m seem...</td>\n",
       "    </tr>\n",
       "    <tr>\n",
       "      <th>2</th>\n",
       "      <td>Hey man, I'm really not trying to edit war. It...</td>\n",
       "      <td>0</td>\n",
       "      <td>Hey man I m really not trying to edit war It s...</td>\n",
       "    </tr>\n",
       "    <tr>\n",
       "      <th>3</th>\n",
       "      <td>\"\\nMore\\nI can't make any real suggestions on ...</td>\n",
       "      <td>0</td>\n",
       "      <td>More I ca n t make any real suggestion on impr...</td>\n",
       "    </tr>\n",
       "    <tr>\n",
       "      <th>4</th>\n",
       "      <td>You, sir, are my hero. Any chance you remember...</td>\n",
       "      <td>0</td>\n",
       "      <td>You sir are my hero Any chance you remember wh...</td>\n",
       "    </tr>\n",
       "  </tbody>\n",
       "</table>\n",
       "</div>"
      ],
      "text/plain": [
       "                                                text  toxic  \\\n",
       "0  Explanation\\nWhy the edits made under my usern...      0   \n",
       "1  D'aww! He matches this background colour I'm s...      0   \n",
       "2  Hey man, I'm really not trying to edit war. It...      0   \n",
       "3  \"\\nMore\\nI can't make any real suggestions on ...      0   \n",
       "4  You, sir, are my hero. Any chance you remember...      0   \n",
       "\n",
       "                                            lem_text  \n",
       "0  Explanation Why the edits made under my userna...  \n",
       "1  D aww He match this background colour I m seem...  \n",
       "2  Hey man I m really not trying to edit war It s...  \n",
       "3  More I ca n t make any real suggestion on impr...  \n",
       "4  You sir are my hero Any chance you remember wh...  "
      ]
     },
     "execution_count": 11,
     "metadata": {},
     "output_type": "execute_result"
    }
   ],
   "source": [
    "data.head() "
   ]
  },
  {
   "cell_type": "markdown",
   "metadata": {},
   "source": [
    "**Added a new feature - text length**"
   ]
  },
  {
   "cell_type": "code",
   "execution_count": 12,
   "metadata": {},
   "outputs": [],
   "source": [
    "length = []\n",
    "for i in data['lem_text']:\n",
    "    length.append(len(i))"
   ]
  },
  {
   "cell_type": "code",
   "execution_count": 13,
   "metadata": {},
   "outputs": [],
   "source": [
    "data['length'] = length"
   ]
  },
  {
   "cell_type": "code",
   "execution_count": 14,
   "metadata": {},
   "outputs": [
    {
     "data": {
      "text/html": [
       "<div>\n",
       "<style scoped>\n",
       "    .dataframe tbody tr th:only-of-type {\n",
       "        vertical-align: middle;\n",
       "    }\n",
       "\n",
       "    .dataframe tbody tr th {\n",
       "        vertical-align: top;\n",
       "    }\n",
       "\n",
       "    .dataframe thead th {\n",
       "        text-align: right;\n",
       "    }\n",
       "</style>\n",
       "<table border=\"1\" class=\"dataframe\">\n",
       "  <thead>\n",
       "    <tr style=\"text-align: right;\">\n",
       "      <th></th>\n",
       "      <th>toxic</th>\n",
       "      <th>length</th>\n",
       "    </tr>\n",
       "  </thead>\n",
       "  <tbody>\n",
       "    <tr>\n",
       "      <th>count</th>\n",
       "      <td>159292.000000</td>\n",
       "      <td>159292.000000</td>\n",
       "    </tr>\n",
       "    <tr>\n",
       "      <th>mean</th>\n",
       "      <td>0.101612</td>\n",
       "      <td>368.104820</td>\n",
       "    </tr>\n",
       "    <tr>\n",
       "      <th>std</th>\n",
       "      <td>0.302139</td>\n",
       "      <td>554.384726</td>\n",
       "    </tr>\n",
       "    <tr>\n",
       "      <th>min</th>\n",
       "      <td>0.000000</td>\n",
       "      <td>0.000000</td>\n",
       "    </tr>\n",
       "    <tr>\n",
       "      <th>25%</th>\n",
       "      <td>0.000000</td>\n",
       "      <td>87.000000</td>\n",
       "    </tr>\n",
       "    <tr>\n",
       "      <th>50%</th>\n",
       "      <td>0.000000</td>\n",
       "      <td>191.000000</td>\n",
       "    </tr>\n",
       "    <tr>\n",
       "      <th>75%</th>\n",
       "      <td>0.000000</td>\n",
       "      <td>409.000000</td>\n",
       "    </tr>\n",
       "    <tr>\n",
       "      <th>max</th>\n",
       "      <td>1.000000</td>\n",
       "      <td>5000.000000</td>\n",
       "    </tr>\n",
       "  </tbody>\n",
       "</table>\n",
       "</div>"
      ],
      "text/plain": [
       "               toxic         length\n",
       "count  159292.000000  159292.000000\n",
       "mean        0.101612     368.104820\n",
       "std         0.302139     554.384726\n",
       "min         0.000000       0.000000\n",
       "25%         0.000000      87.000000\n",
       "50%         0.000000     191.000000\n",
       "75%         0.000000     409.000000\n",
       "max         1.000000    5000.000000"
      ]
     },
     "execution_count": 14,
     "metadata": {},
     "output_type": "execute_result"
    }
   ],
   "source": [
    "data.describe()"
   ]
  },
  {
   "cell_type": "code",
   "execution_count": 15,
   "metadata": {},
   "outputs": [
    {
     "data": {
      "text/plain": [
       "length\n",
       "0       11\n",
       "2        2\n",
       "3        3\n",
       "4       12\n",
       "5       11\n",
       "        ..\n",
       "4991     1\n",
       "4992     1\n",
       "4996     1\n",
       "4999    17\n",
       "5000    16\n",
       "Name: text, Length: 3944, dtype: int64"
      ]
     },
     "execution_count": 15,
     "metadata": {},
     "output_type": "execute_result"
    }
   ],
   "source": [
    "# count quantity of record per length\n",
    "data_length = data.groupby('length')['text'].count()\n",
    "data_length"
   ]
  },
  {
   "cell_type": "code",
   "execution_count": 16,
   "metadata": {},
   "outputs": [
    {
     "data": {
      "text/plain": [
       "length\n",
       "33      693\n",
       "32      662\n",
       "37      659\n",
       "34      654\n",
       "36      653\n",
       "       ... \n",
       "2591      1\n",
       "3535      1\n",
       "3538      1\n",
       "2589      1\n",
       "3795      1\n",
       "Name: text, Length: 3944, dtype: int64"
      ]
     },
     "execution_count": 16,
     "metadata": {},
     "output_type": "execute_result"
    }
   ],
   "source": [
    "# display the sorted quantity of record per length\n",
    "data_length.sort_values(ascending=False)"
   ]
  },
  {
   "cell_type": "code",
   "execution_count": 17,
   "metadata": {},
   "outputs": [
    {
     "data": {
      "text/plain": [
       "count    3944.000000\n",
       "mean       40.388438\n",
       "std       101.472592\n",
       "min         1.000000\n",
       "25%         1.000000\n",
       "50%         3.000000\n",
       "75%        20.000000\n",
       "max       693.000000\n",
       "Name: text, dtype: float64"
      ]
     },
     "execution_count": 17,
     "metadata": {},
     "output_type": "execute_result"
    }
   ],
   "source": [
    "# destribution infromation\n",
    "data_length.describe()"
   ]
  },
  {
   "cell_type": "code",
   "execution_count": 18,
   "metadata": {},
   "outputs": [
    {
     "data": {
      "text/plain": [
       "Text(0.5, 1.0, 'quantity of recrods and length of it')"
      ]
     },
     "execution_count": 18,
     "metadata": {},
     "output_type": "execute_result"
    },
    {
     "data": {
      "image/png": "[encoded data removed]",
      "text/plain": [
       "<Figure size 432x288 with 1 Axes>"
      ]
     },
     "metadata": {
      "needs_background": "light"
     },
     "output_type": "display_data"
    }
   ],
   "source": [
    "# plotting of length destribution\n",
    "data_length.plot()\n",
    "plt.xlabel('length')\n",
    "plt.ylabel('quantity of recrods')\n",
    "plt.title('quantity of recrods and length of it')"
   ]
  },
  {
   "cell_type": "code",
   "execution_count": 19,
   "metadata": {},
   "outputs": [],
   "source": [
    "# deletion of recrods with huge length\n",
    "corrected_data = data[data['length']<1450].copy()"
   ]
  },
  {
   "cell_type": "code",
   "execution_count": 20,
   "metadata": {},
   "outputs": [
    {
     "data": {
      "text/html": [
       "<div>\n",
       "<style scoped>\n",
       "    .dataframe tbody tr th:only-of-type {\n",
       "        vertical-align: middle;\n",
       "    }\n",
       "\n",
       "    .dataframe tbody tr th {\n",
       "        vertical-align: top;\n",
       "    }\n",
       "\n",
       "    .dataframe thead th {\n",
       "        text-align: right;\n",
       "    }\n",
       "</style>\n",
       "<table border=\"1\" class=\"dataframe\">\n",
       "  <thead>\n",
       "    <tr style=\"text-align: right;\">\n",
       "      <th></th>\n",
       "      <th>toxic</th>\n",
       "      <th>length</th>\n",
       "    </tr>\n",
       "  </thead>\n",
       "  <tbody>\n",
       "    <tr>\n",
       "      <th>count</th>\n",
       "      <td>152956.000000</td>\n",
       "      <td>152956.000000</td>\n",
       "    </tr>\n",
       "    <tr>\n",
       "      <th>mean</th>\n",
       "      <td>0.102814</td>\n",
       "      <td>278.639674</td>\n",
       "    </tr>\n",
       "    <tr>\n",
       "      <th>std</th>\n",
       "      <td>0.303717</td>\n",
       "      <td>279.456468</td>\n",
       "    </tr>\n",
       "    <tr>\n",
       "      <th>min</th>\n",
       "      <td>0.000000</td>\n",
       "      <td>0.000000</td>\n",
       "    </tr>\n",
       "    <tr>\n",
       "      <th>25%</th>\n",
       "      <td>0.000000</td>\n",
       "      <td>84.000000</td>\n",
       "    </tr>\n",
       "    <tr>\n",
       "      <th>50%</th>\n",
       "      <td>0.000000</td>\n",
       "      <td>180.000000</td>\n",
       "    </tr>\n",
       "    <tr>\n",
       "      <th>75%</th>\n",
       "      <td>0.000000</td>\n",
       "      <td>367.000000</td>\n",
       "    </tr>\n",
       "    <tr>\n",
       "      <th>max</th>\n",
       "      <td>1.000000</td>\n",
       "      <td>1449.000000</td>\n",
       "    </tr>\n",
       "  </tbody>\n",
       "</table>\n",
       "</div>"
      ],
      "text/plain": [
       "               toxic         length\n",
       "count  152956.000000  152956.000000\n",
       "mean        0.102814     278.639674\n",
       "std         0.303717     279.456468\n",
       "min         0.000000       0.000000\n",
       "25%         0.000000      84.000000\n",
       "50%         0.000000     180.000000\n",
       "75%         0.000000     367.000000\n",
       "max         1.000000    1449.000000"
      ]
     },
     "execution_count": 20,
     "metadata": {},
     "output_type": "execute_result"
    }
   ],
   "source": [
    "corrected_data.describe()"
   ]
  },
  {
   "cell_type": "code",
   "execution_count": 21,
   "metadata": {},
   "outputs": [
    {
     "data": {
      "text/plain": [
       "Text(0.5, 1.0, 'quantity of recrods and length of it')"
      ]
     },
     "execution_count": 21,
     "metadata": {},
     "output_type": "execute_result"
    },
    {
     "data": {
      "image/png": "[encoded data removed]",
      "text/plain": [
       "<Figure size 432x288 with 1 Axes>"
      ]
     },
     "metadata": {
      "needs_background": "light"
     },
     "output_type": "display_data"
    }
   ],
   "source": [
    "# plotting of length destribution\n",
    "corrected_data.groupby('length')['text'].count().plot()\n",
    "plt.xlabel('length')\n",
    "plt.ylabel('quantity of recrods')\n",
    "plt.title('quantity of recrods and length of it')"
   ]
  },
  {
   "cell_type": "markdown",
   "metadata": {},
   "source": [
    "**Text vectorization**"
   ]
  },
  {
   "cell_type": "code",
   "execution_count": 22,
   "metadata": {},
   "outputs": [],
   "source": [
    "stop_words = set(stopwords.words('english'))"
   ]
  },
  {
   "cell_type": "code",
   "execution_count": 23,
   "metadata": {},
   "outputs": [],
   "source": [
    "count_tf_idf = TfidfVectorizer(stop_words=stop_words)"
   ]
  },
  {
   "cell_type": "code",
   "execution_count": 24,
   "metadata": {},
   "outputs": [],
   "source": [
    "n = 35000/corrected_data['lem_text'].count()"
   ]
  },
  {
   "cell_type": "code",
   "execution_count": 25,
   "metadata": {},
   "outputs": [],
   "source": [
    "misc_data, data_train, misc_target, target_train = train_test_split(corrected_data['lem_text'],corrected_data['toxic'],test_size = n)\n",
    "data_train, data_test, target_train, target_test = train_test_split(data_train,target_train,test_size = 0.08)"
   ]
  },
  {
   "cell_type": "markdown",
   "metadata": {},
   "source": [
    "**Splitting data on train and test samples**"
   ]
  },
  {
   "cell_type": "code",
   "execution_count": 26,
   "metadata": {},
   "outputs": [],
   "source": [
    "features_train = count_tf_idf.fit_transform(data_train).toarray()\n",
    "features_test = count_tf_idf.transform(data_test).toarray()"
   ]
  },
  {
   "cell_type": "code",
   "execution_count": 27,
   "metadata": {},
   "outputs": [],
   "source": [
    "features_train = pd.DataFrame(features_train)\n",
    "features_train.index = target_train.index\n",
    "features_test = pd.DataFrame(features_test)\n",
    "features_test.index = target_test.index"
   ]
  },
  {
   "cell_type": "markdown",
   "metadata": {},
   "source": [
    "<a name = 'section_3'></a>\n",
    "# Models training"
   ]
  },
  {
   "cell_type": "markdown",
   "metadata": {},
   "source": [
    "**Logistic Regression model training**"
   ]
  },
  {
   "cell_type": "code",
   "execution_count": 28,
   "metadata": {},
   "outputs": [
    {
     "data": {
      "text/plain": [
       "0.9495652173913044"
      ]
     },
     "execution_count": 28,
     "metadata": {},
     "output_type": "execute_result"
    }
   ],
   "source": [
    "lr_model = LogisticRegression(random_state = 142)\n",
    "lr_model.fit(features_train,target_train)\n",
    "lr_model_score = lr_model.score(features_train,target_train)\n",
    "lr_model_score"
   ]
  },
  {
   "cell_type": "markdown",
   "metadata": {},
   "source": [
    "**Combat to imbalance**"
   ]
  },
  {
   "cell_type": "code",
   "execution_count": 29,
   "metadata": {},
   "outputs": [
    {
     "data": {
      "text/plain": [
       "0.9692857142857143"
      ]
     },
     "execution_count": 29,
     "metadata": {},
     "output_type": "execute_result"
    }
   ],
   "source": [
    "lr_balanced_model = LogisticRegression(random_state = 147,class_weight='balanced')\n",
    "lr_balanced_model.fit(features_train,target_train)\n",
    "lr_balanced_model_score = lr_balanced_model.score(features_train,target_train)\n",
    "lr_balanced_model_score"
   ]
  },
  {
   "cell_type": "markdown",
   "metadata": {},
   "source": [
    "**Optimisation of regression model**"
   ]
  },
  {
   "cell_type": "code",
   "execution_count": 30,
   "metadata": {},
   "outputs": [
    {
     "data": {
      "text/plain": [
       "0.9958695652173913"
      ]
     },
     "execution_count": 30,
     "metadata": {},
     "output_type": "execute_result"
    }
   ],
   "source": [
    "lr_balanced_best_model = LogisticRegression(random_state = 542, class_weight='balanced', C = 28 , penalty = 'l2', solver = 'liblinear')\n",
    "lr_balanced_best_model.fit(features_train,target_train)\n",
    "lr_balanced_best_model_score = lr_balanced_best_model.score(features_train,target_train)\n",
    "lr_balanced_best_model_score"
   ]
  },
  {
   "cell_type": "markdown",
   "metadata": {},
   "source": [
    "<a name = 'section_4'></a>\n",
    "# Model testing and drawing a conclusion"
   ]
  },
  {
   "cell_type": "markdown",
   "metadata": {},
   "source": [
    "**Selection of best model**"
   ]
  },
  {
   "cell_type": "code",
   "execution_count": 31,
   "metadata": {},
   "outputs": [],
   "source": [
    "models_list = [lr_model, lr_balanced_model, lr_balanced_best_model]\n",
    "scores_list = [lr_model_score, lr_balanced_model_score, lr_balanced_best_model_score]"
   ]
  },
  {
   "cell_type": "code",
   "execution_count": 32,
   "metadata": {},
   "outputs": [],
   "source": [
    "models_df = pd.DataFrame(models_list,scores_list, columns = ['model']).reset_index()\n",
    "models_df = models_df.rename(columns={\"index\": \"score\"})"
   ]
  },
  {
   "cell_type": "code",
   "execution_count": 33,
   "metadata": {},
   "outputs": [
    {
     "data": {
      "text/html": [
       "<div>\n",
       "<style scoped>\n",
       "    .dataframe tbody tr th:only-of-type {\n",
       "        vertical-align: middle;\n",
       "    }\n",
       "\n",
       "    .dataframe tbody tr th {\n",
       "        vertical-align: top;\n",
       "    }\n",
       "\n",
       "    .dataframe thead th {\n",
       "        text-align: right;\n",
       "    }\n",
       "</style>\n",
       "<table border=\"1\" class=\"dataframe\">\n",
       "  <thead>\n",
       "    <tr style=\"text-align: right;\">\n",
       "      <th></th>\n",
       "      <th>score</th>\n",
       "      <th>model</th>\n",
       "    </tr>\n",
       "  </thead>\n",
       "  <tbody>\n",
       "    <tr>\n",
       "      <th>2</th>\n",
       "      <td>0.995870</td>\n",
       "      <td>LogisticRegression(C=28, class_weight='balance...</td>\n",
       "    </tr>\n",
       "    <tr>\n",
       "      <th>1</th>\n",
       "      <td>0.969286</td>\n",
       "      <td>LogisticRegression(class_weight='balanced', ra...</td>\n",
       "    </tr>\n",
       "    <tr>\n",
       "      <th>0</th>\n",
       "      <td>0.949565</td>\n",
       "      <td>LogisticRegression(random_state=142)</td>\n",
       "    </tr>\n",
       "  </tbody>\n",
       "</table>\n",
       "</div>"
      ],
      "text/plain": [
       "      score                                              model\n",
       "2  0.995870  LogisticRegression(C=28, class_weight='balance...\n",
       "1  0.969286  LogisticRegression(class_weight='balanced', ra...\n",
       "0  0.949565               LogisticRegression(random_state=142)"
      ]
     },
     "execution_count": 33,
     "metadata": {},
     "output_type": "execute_result"
    }
   ],
   "source": [
    "models_df.sort_values('score',ascending = False)"
   ]
  },
  {
   "cell_type": "markdown",
   "metadata": {},
   "source": [
    "**Best model testing**"
   ]
  },
  {
   "cell_type": "code",
   "execution_count": 34,
   "metadata": {},
   "outputs": [],
   "source": [
    "final_model = models_df[models_df['score'] == models_df.max()[0]]['model']"
   ]
  },
  {
   "cell_type": "code",
   "execution_count": 35,
   "metadata": {},
   "outputs": [],
   "source": [
    "final_model = final_model.values[0]"
   ]
  },
  {
   "cell_type": "code",
   "execution_count": 36,
   "metadata": {},
   "outputs": [],
   "source": [
    "predictions = final_model.predict(features_test)\n",
    "f1 = f1_score(target_test,predictions)"
   ]
  },
  {
   "cell_type": "code",
   "execution_count": 37,
   "metadata": {
    "scrolled": true
   },
   "outputs": [
    {
     "name": "stdout",
     "output_type": "stream",
     "text": [
      "model: LogisticRegression(C=28, class_weight='balanced', random_state=542,\n",
      "                   solver='liblinear') \n",
      " f1 score: 0.7653429602888087\n"
     ]
    }
   ],
   "source": [
    "print('model:',final_model,'\\n','f1 score:', f1)"
   ]
  },
  {
   "attachments": {},
   "cell_type": "markdown",
   "metadata": {},
   "source": [
    "**Conclusion**\n",
    "\n",
    "- During the project data was successfully imported, prepared, text features were lemmatized and vectorized;\n",
    "- Prepared data was splat on train and test samples;\n",
    "- Regression models were trained (base model, model with balanced classes weight and tuned model);\n",
    "- The best model - tuned regression were selected for the testing;\n",
    "- On the model testing f1 score is equal to 0.765;\n",
    "- Model's score higher than 0,75 successfully achieved."
   ]
  }
 ],
 "metadata": {
  "ExecuteTimeLog": [
   {
    "duration": 450,
    "start_time": "2022-11-09T07:56:54.791Z"
   },
   {
    "duration": 92,
    "start_time": "2022-11-09T07:58:24.112Z"
   },
   {
    "duration": 30,
    "start_time": "2022-11-09T07:58:28.379Z"
   },
   {
    "duration": 32,
    "start_time": "2022-11-09T07:58:49.571Z"
   },
   {
    "duration": 39,
    "start_time": "2022-11-09T07:58:52.571Z"
   },
   {
    "duration": 38,
    "start_time": "2022-11-09T07:59:19.771Z"
   },
   {
    "duration": 65,
    "start_time": "2022-11-09T07:59:26.224Z"
   },
   {
    "duration": 34,
    "start_time": "2022-11-09T07:59:35.979Z"
   },
   {
    "duration": 32,
    "start_time": "2022-11-09T07:59:39.241Z"
   },
   {
    "duration": 37,
    "start_time": "2022-11-09T07:59:45.891Z"
   },
   {
    "duration": 36,
    "start_time": "2022-11-09T07:59:48.772Z"
   },
   {
    "duration": 35,
    "start_time": "2022-11-09T07:59:51.091Z"
   },
   {
    "duration": 40,
    "start_time": "2022-11-09T07:59:54.384Z"
   },
   {
    "duration": 2582,
    "start_time": "2022-11-09T08:01:09.232Z"
   },
   {
    "duration": 14,
    "start_time": "2022-11-09T08:01:17.611Z"
   },
   {
    "duration": 48,
    "start_time": "2022-11-09T08:06:20.839Z"
   },
   {
    "duration": 700,
    "start_time": "2022-11-09T08:07:41.291Z"
   },
   {
    "duration": 9,
    "start_time": "2022-11-09T08:07:59.451Z"
   },
   {
    "duration": 33,
    "start_time": "2022-11-09T08:08:22.411Z"
   },
   {
    "duration": 3,
    "start_time": "2022-11-09T08:08:44.370Z"
   },
   {
    "duration": 15,
    "start_time": "2022-11-09T08:10:19.070Z"
   },
   {
    "duration": 1588,
    "start_time": "2022-11-09T08:11:28.951Z"
   },
   {
    "duration": 56,
    "start_time": "2022-11-09T15:42:16.007Z"
   },
   {
    "duration": 4,
    "start_time": "2022-11-09T15:42:21.797Z"
   },
   {
    "duration": 3306,
    "start_time": "2022-11-09T15:42:23.387Z"
   },
   {
    "duration": 53,
    "start_time": "2022-11-09T15:42:28.768Z"
   },
   {
    "duration": 2531,
    "start_time": "2022-11-09T16:01:52.526Z"
   },
   {
    "duration": 18,
    "start_time": "2022-11-09T16:04:02.851Z"
   },
   {
    "duration": 17,
    "start_time": "2022-11-09T16:05:07.343Z"
   },
   {
    "duration": 85,
    "start_time": "2022-11-09T16:05:23.882Z"
   },
   {
    "duration": 51,
    "start_time": "2022-11-09T16:08:31.623Z"
   },
   {
    "duration": 18,
    "start_time": "2022-11-09T16:12:21.643Z"
   },
   {
    "duration": 17,
    "start_time": "2022-11-09T16:12:31.683Z"
   },
   {
    "duration": 19,
    "start_time": "2022-11-09T16:12:35.602Z"
   },
   {
    "duration": 6,
    "start_time": "2022-11-09T16:12:47.903Z"
   },
   {
    "duration": 3,
    "start_time": "2022-11-09T16:13:07.242Z"
   },
   {
    "duration": 49478,
    "start_time": "2022-11-09T16:14:12.492Z"
   },
   {
    "duration": 226,
    "start_time": "2022-11-09T16:15:22.803Z"
   },
   {
    "duration": 19,
    "start_time": "2022-11-09T16:15:55.683Z"
   },
   {
    "duration": 1816,
    "start_time": "2022-11-09T16:16:12.749Z"
   },
   {
    "duration": 899,
    "start_time": "2022-11-09T16:16:14.567Z"
   },
   {
    "duration": 15,
    "start_time": "2022-11-09T16:16:15.469Z"
   },
   {
    "duration": 48,
    "start_time": "2022-11-09T16:16:15.486Z"
   },
   {
    "duration": 4,
    "start_time": "2022-11-09T16:16:15.536Z"
   },
   {
    "duration": 101237,
    "start_time": "2022-11-09T16:16:15.542Z"
   },
   {
    "duration": 87,
    "start_time": "2022-11-09T16:17:56.782Z"
   },
   {
    "duration": 1745,
    "start_time": "2022-11-09T16:17:56.871Z"
   },
   {
    "duration": 7,
    "start_time": "2022-11-09T16:18:12.766Z"
   },
   {
    "duration": 4,
    "start_time": "2022-11-09T16:18:29.542Z"
   },
   {
    "duration": 193,
    "start_time": "2022-11-09T16:21:17.983Z"
   },
   {
    "duration": 82,
    "start_time": "2022-11-09T16:21:21.662Z"
   },
   {
    "duration": 78,
    "start_time": "2022-11-09T16:21:35.684Z"
   },
   {
    "duration": 19068,
    "start_time": "2022-11-09T16:21:44.871Z"
   },
   {
    "duration": 206,
    "start_time": "2022-11-09T16:22:31.843Z"
   },
   {
    "duration": 7,
    "start_time": "2022-11-09T16:22:35.271Z"
   },
   {
    "duration": 19230,
    "start_time": "2022-11-09T16:22:50.702Z"
   },
   {
    "duration": 124,
    "start_time": "2022-11-09T16:23:09.935Z"
   },
   {
    "duration": 8,
    "start_time": "2022-11-09T16:23:10.061Z"
   },
   {
    "duration": 143,
    "start_time": "2022-11-09T16:23:55.762Z"
   },
   {
    "duration": 12,
    "start_time": "2022-11-09T16:24:03.732Z"
   },
   {
    "duration": 403,
    "start_time": "2022-11-09T16:28:44.622Z"
   },
   {
    "duration": 111680,
    "start_time": "2022-11-09T16:28:52.223Z"
   },
   {
    "duration": 58,
    "start_time": "2022-11-09T16:30:43.905Z"
   },
   {
    "duration": 12,
    "start_time": "2022-11-09T16:30:43.966Z"
   },
   {
    "duration": 16,
    "start_time": "2022-11-09T16:30:57.603Z"
   },
   {
    "duration": 884,
    "start_time": "2022-11-09T16:31:04.825Z"
   },
   {
    "duration": 2186,
    "start_time": "2022-11-09T16:32:53.743Z"
   },
   {
    "duration": 4,
    "start_time": "2022-11-09T16:33:04.902Z"
   },
   {
    "duration": 932,
    "start_time": "2022-11-09T16:33:06.703Z"
   },
   {
    "duration": 16,
    "start_time": "2022-11-09T16:33:07.638Z"
   },
   {
    "duration": 34,
    "start_time": "2022-11-09T16:33:07.655Z"
   },
   {
    "duration": 3,
    "start_time": "2022-11-09T16:33:10.771Z"
   },
   {
    "duration": 109701,
    "start_time": "2022-11-09T16:33:11.002Z"
   },
   {
    "duration": 37,
    "start_time": "2022-11-09T16:35:00.706Z"
   },
   {
    "duration": 16,
    "start_time": "2022-11-09T16:35:00.765Z"
   },
   {
    "duration": 18,
    "start_time": "2022-11-09T16:35:00.783Z"
   },
   {
    "duration": 4,
    "start_time": "2022-11-09T16:35:37.122Z"
   },
   {
    "duration": 11,
    "start_time": "2022-11-09T16:35:41.603Z"
   },
   {
    "duration": 6,
    "start_time": "2022-11-09T16:35:46.902Z"
   },
   {
    "duration": 3,
    "start_time": "2022-11-09T16:36:40.342Z"
   },
   {
    "duration": 49,
    "start_time": "2022-11-09T16:38:01.482Z"
   },
   {
    "duration": 48,
    "start_time": "2022-11-09T16:38:09.683Z"
   },
   {
    "duration": 11,
    "start_time": "2022-11-09T16:39:27.763Z"
   },
   {
    "duration": 12,
    "start_time": "2022-11-09T16:39:32.943Z"
   },
   {
    "duration": 12,
    "start_time": "2022-11-09T16:39:55.832Z"
   },
   {
    "duration": 4574,
    "start_time": "2022-11-09T16:40:13.243Z"
   },
   {
    "duration": 2979,
    "start_time": "2022-11-09T16:40:55.382Z"
   },
   {
    "duration": 12,
    "start_time": "2022-11-09T16:41:00.127Z"
   },
   {
    "duration": 5,
    "start_time": "2022-11-09T16:41:16.728Z"
   },
   {
    "duration": 14,
    "start_time": "2022-11-09T16:41:48.533Z"
   },
   {
    "duration": 76,
    "start_time": "2022-11-09T16:44:48.043Z"
   },
   {
    "duration": 48,
    "start_time": "2022-11-09T16:44:51.917Z"
   },
   {
    "duration": 2106,
    "start_time": "2022-11-09T16:46:43.645Z"
   },
   {
    "duration": 3079,
    "start_time": "2022-11-09T16:46:45.754Z"
   },
   {
    "duration": 18,
    "start_time": "2022-11-09T16:46:48.836Z"
   },
   {
    "duration": 40,
    "start_time": "2022-11-09T16:46:48.857Z"
   },
   {
    "duration": 4,
    "start_time": "2022-11-09T16:46:48.899Z"
   },
   {
    "duration": 103740,
    "start_time": "2022-11-09T16:46:48.914Z"
   },
   {
    "duration": 25,
    "start_time": "2022-11-09T16:48:32.656Z"
   },
   {
    "duration": 14,
    "start_time": "2022-11-09T16:48:32.683Z"
   },
   {
    "duration": 22,
    "start_time": "2022-11-09T16:48:32.699Z"
   },
   {
    "duration": 11,
    "start_time": "2022-11-09T16:48:32.727Z"
   },
   {
    "duration": 57,
    "start_time": "2022-11-09T16:48:32.740Z"
   },
   {
    "duration": 4456,
    "start_time": "2022-11-09T16:48:32.799Z"
   },
   {
    "duration": 2821,
    "start_time": "2022-11-09T16:48:37.257Z"
   },
   {
    "duration": 11,
    "start_time": "2022-11-09T16:48:40.080Z"
   },
   {
    "duration": 2174,
    "start_time": "2022-11-09T16:49:08.083Z"
   },
   {
    "duration": 3043,
    "start_time": "2022-11-09T16:49:10.259Z"
   },
   {
    "duration": 15,
    "start_time": "2022-11-09T16:49:13.303Z"
   },
   {
    "duration": 35,
    "start_time": "2022-11-09T16:49:13.321Z"
   },
   {
    "duration": 3,
    "start_time": "2022-11-09T16:49:13.358Z"
   },
   {
    "duration": 100035,
    "start_time": "2022-11-09T16:49:13.363Z"
   },
   {
    "duration": 34,
    "start_time": "2022-11-09T16:50:53.400Z"
   },
   {
    "duration": 12,
    "start_time": "2022-11-09T16:50:53.436Z"
   },
   {
    "duration": 6,
    "start_time": "2022-11-09T16:50:53.450Z"
   },
   {
    "duration": 4,
    "start_time": "2022-11-09T16:50:53.457Z"
   },
   {
    "duration": 59,
    "start_time": "2022-11-09T16:50:53.463Z"
   },
   {
    "duration": 4442,
    "start_time": "2022-11-09T16:50:53.524Z"
   },
   {
    "duration": 2882,
    "start_time": "2022-11-09T16:50:57.967Z"
   },
   {
    "duration": 12,
    "start_time": "2022-11-09T16:51:00.851Z"
   },
   {
    "duration": 2113,
    "start_time": "2022-11-09T16:51:34.584Z"
   },
   {
    "duration": 3074,
    "start_time": "2022-11-09T16:51:36.699Z"
   },
   {
    "duration": 14,
    "start_time": "2022-11-09T16:51:39.775Z"
   },
   {
    "duration": 33,
    "start_time": "2022-11-09T16:51:39.791Z"
   },
   {
    "duration": 3,
    "start_time": "2022-11-09T16:51:39.826Z"
   },
   {
    "duration": 100686,
    "start_time": "2022-11-09T16:51:39.831Z"
   },
   {
    "duration": 25,
    "start_time": "2022-11-09T16:53:20.519Z"
   },
   {
    "duration": 10,
    "start_time": "2022-11-09T16:53:20.546Z"
   },
   {
    "duration": 5,
    "start_time": "2022-11-09T16:53:20.558Z"
   },
   {
    "duration": 4,
    "start_time": "2022-11-09T16:53:20.565Z"
   },
   {
    "duration": 66,
    "start_time": "2022-11-09T16:53:20.571Z"
   },
   {
    "duration": 4567,
    "start_time": "2022-11-09T16:53:20.639Z"
   },
   {
    "duration": 2791,
    "start_time": "2022-11-09T16:53:25.212Z"
   },
   {
    "duration": 18,
    "start_time": "2022-11-09T16:53:28.005Z"
   },
   {
    "duration": 2,
    "start_time": "2022-11-09T16:53:28.025Z"
   },
   {
    "duration": 3553,
    "start_time": "2022-11-09T16:56:26.123Z"
   },
   {
    "duration": 5012,
    "start_time": "2022-11-11T15:45:25.216Z"
   },
   {
    "duration": 453,
    "start_time": "2022-11-11T15:45:30.230Z"
   },
   {
    "duration": 1557,
    "start_time": "2022-11-11T15:45:30.684Z"
   },
   {
    "duration": 11,
    "start_time": "2022-11-11T15:45:32.243Z"
   },
   {
    "duration": 87,
    "start_time": "2022-11-11T15:45:32.256Z"
   },
   {
    "duration": 84,
    "start_time": "2022-11-11T15:45:32.345Z"
   },
   {
    "duration": 3594,
    "start_time": "2022-11-11T16:07:19.055Z"
   },
   {
    "duration": 360,
    "start_time": "2022-11-11T16:07:22.651Z"
   },
   {
    "duration": 3112,
    "start_time": "2022-11-11T16:07:23.012Z"
   },
   {
    "duration": 10,
    "start_time": "2022-11-11T16:07:26.126Z"
   },
   {
    "duration": 44,
    "start_time": "2022-11-11T16:07:26.137Z"
   },
   {
    "duration": 22,
    "start_time": "2022-11-11T16:07:26.183Z"
   },
   {
    "duration": 53,
    "start_time": "2022-11-11T16:07:49.038Z"
   },
   {
    "duration": 3290,
    "start_time": "2022-11-11T16:07:51.974Z"
   },
   {
    "duration": 375,
    "start_time": "2022-11-11T16:07:55.266Z"
   },
   {
    "duration": 3142,
    "start_time": "2022-11-11T16:07:55.642Z"
   },
   {
    "duration": 9,
    "start_time": "2022-11-11T16:07:58.786Z"
   },
   {
    "duration": 36,
    "start_time": "2022-11-11T16:07:58.797Z"
   },
   {
    "duration": 21,
    "start_time": "2022-11-11T16:07:58.835Z"
   },
   {
    "duration": 49,
    "start_time": "2022-11-11T18:47:30.763Z"
   },
   {
    "duration": 2654,
    "start_time": "2022-11-11T18:47:33.585Z"
   },
   {
    "duration": 313,
    "start_time": "2022-11-11T18:47:37.583Z"
   },
   {
    "duration": 3214,
    "start_time": "2022-11-11T18:47:39.082Z"
   },
   {
    "duration": 8,
    "start_time": "2022-11-11T18:47:42.298Z"
   },
   {
    "duration": 34,
    "start_time": "2022-11-11T18:47:42.722Z"
   },
   {
    "duration": 23,
    "start_time": "2022-11-11T18:47:45.642Z"
   },
   {
    "duration": 3,
    "start_time": "2022-11-11T18:47:47.791Z"
   },
   {
    "duration": 3,
    "start_time": "2022-11-11T18:47:50.383Z"
   },
   {
    "duration": 140206,
    "start_time": "2022-11-11T18:47:51.833Z"
   },
   {
    "duration": 25,
    "start_time": "2022-11-11T18:50:12.041Z"
   },
   {
    "duration": 18,
    "start_time": "2022-11-11T18:50:12.077Z"
   },
   {
    "duration": 71,
    "start_time": "2022-11-11T18:50:12.099Z"
   },
   {
    "duration": 38,
    "start_time": "2022-11-11T18:50:12.172Z"
   },
   {
    "duration": 50,
    "start_time": "2022-11-11T18:50:12.212Z"
   },
   {
    "duration": 42,
    "start_time": "2022-11-11T18:50:12.264Z"
   },
   {
    "duration": 8,
    "start_time": "2022-11-11T18:50:12.308Z"
   },
   {
    "duration": 20,
    "start_time": "2022-11-11T18:50:12.317Z"
   },
   {
    "duration": 571,
    "start_time": "2022-11-11T18:50:12.340Z"
   },
   {
    "duration": 96,
    "start_time": "2022-11-11T18:50:12.913Z"
   },
   {
    "duration": 37,
    "start_time": "2022-11-11T18:50:13.011Z"
   },
   {
    "duration": 6837,
    "start_time": "2022-11-11T18:50:13.050Z"
   },
   {
    "duration": 197,
    "start_time": "2022-11-11T18:50:19.889Z"
   },
   {
    "duration": 46504,
    "start_time": "2022-11-11T18:50:20.087Z"
   },
   {
    "duration": 4,
    "start_time": "2022-11-11T18:51:06.593Z"
   },
   {
    "duration": 5,
    "start_time": "2022-11-11T18:51:06.598Z"
   },
   {
    "duration": 41,
    "start_time": "2022-11-11T18:51:06.605Z"
   },
   {
    "duration": 314,
    "start_time": "2022-11-11T18:51:06.647Z"
   },
   {
    "duration": 20,
    "start_time": "2022-11-11T18:51:17.382Z"
   },
   {
    "duration": 52,
    "start_time": "2022-11-11T18:52:41.763Z"
   },
   {
    "duration": 7,
    "start_time": "2022-11-11T18:53:02.562Z"
   },
   {
    "duration": 2818,
    "start_time": "2022-11-11T18:54:18.522Z"
   },
   {
    "duration": 386,
    "start_time": "2022-11-11T18:54:21.342Z"
   },
   {
    "duration": 3421,
    "start_time": "2022-11-11T18:54:21.730Z"
   },
   {
    "duration": 9,
    "start_time": "2022-11-11T18:54:25.153Z"
   },
   {
    "duration": 42,
    "start_time": "2022-11-11T18:54:25.164Z"
   },
   {
    "duration": 23,
    "start_time": "2022-11-11T18:54:25.209Z"
   },
   {
    "duration": 2,
    "start_time": "2022-11-11T18:54:25.234Z"
   },
   {
    "duration": 5,
    "start_time": "2022-11-11T18:54:25.238Z"
   },
   {
    "duration": 154310,
    "start_time": "2022-11-11T18:54:25.244Z"
   },
   {
    "duration": 25,
    "start_time": "2022-11-11T18:56:59.555Z"
   },
   {
    "duration": 27,
    "start_time": "2022-11-11T18:56:59.582Z"
   },
   {
    "duration": 67,
    "start_time": "2022-11-11T18:56:59.611Z"
   },
   {
    "duration": 47,
    "start_time": "2022-11-11T18:56:59.680Z"
   },
   {
    "duration": 70,
    "start_time": "2022-11-11T18:56:59.731Z"
   },
   {
    "duration": 30,
    "start_time": "2022-11-11T18:56:59.802Z"
   },
   {
    "duration": 6,
    "start_time": "2022-11-11T18:56:59.834Z"
   },
   {
    "duration": 10,
    "start_time": "2022-11-11T18:56:59.842Z"
   },
   {
    "duration": 445,
    "start_time": "2022-11-11T18:56:59.853Z"
   },
   {
    "duration": 39,
    "start_time": "2022-11-11T18:57:00.300Z"
   },
   {
    "duration": 48,
    "start_time": "2022-11-11T18:57:00.341Z"
   },
   {
    "duration": 6979,
    "start_time": "2022-11-11T18:57:00.391Z"
   },
   {
    "duration": 169,
    "start_time": "2022-11-11T18:57:07.371Z"
   },
   {
    "duration": 50945,
    "start_time": "2022-11-11T18:57:07.542Z"
   },
   {
    "duration": 9,
    "start_time": "2022-11-11T18:57:58.489Z"
   },
   {
    "duration": 8,
    "start_time": "2022-11-11T18:57:58.500Z"
   },
   {
    "duration": 365,
    "start_time": "2022-11-11T18:57:58.509Z"
   },
   {
    "duration": 0,
    "start_time": "2022-11-11T18:57:58.878Z"
   },
   {
    "duration": 1,
    "start_time": "2022-11-11T18:57:58.879Z"
   },
   {
    "duration": 0,
    "start_time": "2022-11-11T18:57:58.884Z"
   },
   {
    "duration": 0,
    "start_time": "2022-11-11T18:57:58.886Z"
   },
   {
    "duration": 0,
    "start_time": "2022-11-11T18:57:58.887Z"
   },
   {
    "duration": 0,
    "start_time": "2022-11-11T18:57:58.889Z"
   },
   {
    "duration": 0,
    "start_time": "2022-11-11T18:57:58.893Z"
   },
   {
    "duration": 0,
    "start_time": "2022-11-11T18:57:58.894Z"
   },
   {
    "duration": 0,
    "start_time": "2022-11-11T18:57:58.896Z"
   },
   {
    "duration": 0,
    "start_time": "2022-11-11T18:57:58.898Z"
   },
   {
    "duration": 0,
    "start_time": "2022-11-11T18:57:58.899Z"
   },
   {
    "duration": 0,
    "start_time": "2022-11-11T18:57:58.901Z"
   },
   {
    "duration": 0,
    "start_time": "2022-11-11T18:57:58.903Z"
   },
   {
    "duration": 0,
    "start_time": "2022-11-11T18:57:58.904Z"
   },
   {
    "duration": 0,
    "start_time": "2022-11-11T18:57:58.905Z"
   },
   {
    "duration": 0,
    "start_time": "2022-11-11T18:57:58.907Z"
   },
   {
    "duration": 0,
    "start_time": "2022-11-11T18:57:58.908Z"
   },
   {
    "duration": 0,
    "start_time": "2022-11-11T18:57:58.909Z"
   },
   {
    "duration": 0,
    "start_time": "2022-11-11T18:57:58.911Z"
   },
   {
    "duration": 0,
    "start_time": "2022-11-11T18:57:58.912Z"
   },
   {
    "duration": 0,
    "start_time": "2022-11-11T18:57:58.913Z"
   },
   {
    "duration": 0,
    "start_time": "2022-11-11T18:57:58.914Z"
   },
   {
    "duration": 0,
    "start_time": "2022-11-11T18:57:58.915Z"
   },
   {
    "duration": 0,
    "start_time": "2022-11-11T18:57:58.917Z"
   },
   {
    "duration": 0,
    "start_time": "2022-11-11T18:57:58.918Z"
   },
   {
    "duration": 0,
    "start_time": "2022-11-11T18:57:58.919Z"
   },
   {
    "duration": 0,
    "start_time": "2022-11-11T18:57:58.920Z"
   },
   {
    "duration": 0,
    "start_time": "2022-11-11T18:57:58.921Z"
   },
   {
    "duration": 1,
    "start_time": "2022-11-11T18:57:58.922Z"
   },
   {
    "duration": 0,
    "start_time": "2022-11-11T18:57:58.978Z"
   },
   {
    "duration": 0,
    "start_time": "2022-11-11T18:57:58.979Z"
   },
   {
    "duration": 0,
    "start_time": "2022-11-11T18:57:58.981Z"
   },
   {
    "duration": 0,
    "start_time": "2022-11-11T18:57:58.987Z"
   },
   {
    "duration": 0,
    "start_time": "2022-11-11T18:57:58.989Z"
   },
   {
    "duration": 0,
    "start_time": "2022-11-11T18:57:58.990Z"
   },
   {
    "duration": 0,
    "start_time": "2022-11-11T18:57:58.991Z"
   },
   {
    "duration": 0,
    "start_time": "2022-11-11T18:57:58.993Z"
   },
   {
    "duration": 0,
    "start_time": "2022-11-11T18:57:58.994Z"
   },
   {
    "duration": 0,
    "start_time": "2022-11-11T18:57:58.998Z"
   },
   {
    "duration": 0,
    "start_time": "2022-11-11T18:57:58.999Z"
   },
   {
    "duration": 0,
    "start_time": "2022-11-11T18:57:59.001Z"
   },
   {
    "duration": 0,
    "start_time": "2022-11-11T18:57:59.002Z"
   },
   {
    "duration": 0,
    "start_time": "2022-11-11T18:57:59.003Z"
   },
   {
    "duration": 23,
    "start_time": "2022-11-11T18:59:19.731Z"
   },
   {
    "duration": 71,
    "start_time": "2022-11-11T18:59:23.105Z"
   },
   {
    "duration": 59,
    "start_time": "2022-11-11T18:59:28.304Z"
   },
   {
    "duration": 2777,
    "start_time": "2022-11-11T19:00:19.713Z"
   },
   {
    "duration": 362,
    "start_time": "2022-11-11T19:00:22.492Z"
   },
   {
    "duration": 3402,
    "start_time": "2022-11-11T19:00:22.857Z"
   },
   {
    "duration": 10,
    "start_time": "2022-11-11T19:00:26.261Z"
   },
   {
    "duration": 55,
    "start_time": "2022-11-11T19:00:26.273Z"
   },
   {
    "duration": 39,
    "start_time": "2022-11-11T19:00:26.330Z"
   },
   {
    "duration": 3,
    "start_time": "2022-11-11T19:00:26.370Z"
   },
   {
    "duration": 30,
    "start_time": "2022-11-11T19:00:26.375Z"
   },
   {
    "duration": 144094,
    "start_time": "2022-11-11T19:00:26.407Z"
   },
   {
    "duration": 24,
    "start_time": "2022-11-11T19:02:50.503Z"
   },
   {
    "duration": 13,
    "start_time": "2022-11-11T19:02:50.529Z"
   },
   {
    "duration": 73,
    "start_time": "2022-11-11T19:02:50.544Z"
   },
   {
    "duration": 38,
    "start_time": "2022-11-11T19:02:50.619Z"
   },
   {
    "duration": 59,
    "start_time": "2022-11-11T19:02:50.662Z"
   },
   {
    "duration": 32,
    "start_time": "2022-11-11T19:02:50.723Z"
   },
   {
    "duration": 26,
    "start_time": "2022-11-11T19:02:50.757Z"
   },
   {
    "duration": 8,
    "start_time": "2022-11-11T19:02:50.785Z"
   },
   {
    "duration": 383,
    "start_time": "2022-11-11T19:02:50.795Z"
   },
   {
    "duration": 38,
    "start_time": "2022-11-11T19:02:51.180Z"
   },
   {
    "duration": 27,
    "start_time": "2022-11-11T19:02:51.220Z"
   },
   {
    "duration": 6841,
    "start_time": "2022-11-11T19:02:51.249Z"
   },
   {
    "duration": 174,
    "start_time": "2022-11-11T19:02:58.092Z"
   },
   {
    "duration": 49017,
    "start_time": "2022-11-11T19:02:58.268Z"
   },
   {
    "duration": 4,
    "start_time": "2022-11-11T19:03:47.287Z"
   },
   {
    "duration": 7,
    "start_time": "2022-11-11T19:03:47.292Z"
   },
   {
    "duration": 31,
    "start_time": "2022-11-11T19:03:47.301Z"
   },
   {
    "duration": 58,
    "start_time": "2022-11-11T19:03:47.334Z"
   },
   {
    "duration": 105,
    "start_time": "2022-11-11T19:03:47.394Z"
   },
   {
    "duration": 328,
    "start_time": "2022-11-11T19:03:47.501Z"
   },
   {
    "duration": 0,
    "start_time": "2022-11-11T19:03:47.832Z"
   },
   {
    "duration": 0,
    "start_time": "2022-11-11T19:03:47.833Z"
   },
   {
    "duration": 0,
    "start_time": "2022-11-11T19:03:47.834Z"
   },
   {
    "duration": 0,
    "start_time": "2022-11-11T19:03:47.835Z"
   },
   {
    "duration": 0,
    "start_time": "2022-11-11T19:03:47.837Z"
   },
   {
    "duration": 0,
    "start_time": "2022-11-11T19:03:47.838Z"
   },
   {
    "duration": 0,
    "start_time": "2022-11-11T19:03:47.839Z"
   },
   {
    "duration": 0,
    "start_time": "2022-11-11T19:03:47.841Z"
   },
   {
    "duration": 0,
    "start_time": "2022-11-11T19:03:47.842Z"
   },
   {
    "duration": 0,
    "start_time": "2022-11-11T19:03:47.843Z"
   },
   {
    "duration": 0,
    "start_time": "2022-11-11T19:03:47.844Z"
   },
   {
    "duration": 0,
    "start_time": "2022-11-11T19:03:47.846Z"
   },
   {
    "duration": 0,
    "start_time": "2022-11-11T19:03:47.847Z"
   },
   {
    "duration": 0,
    "start_time": "2022-11-11T19:03:47.848Z"
   },
   {
    "duration": 0,
    "start_time": "2022-11-11T19:03:47.850Z"
   },
   {
    "duration": 0,
    "start_time": "2022-11-11T19:03:47.878Z"
   },
   {
    "duration": 0,
    "start_time": "2022-11-11T19:03:47.879Z"
   },
   {
    "duration": 1,
    "start_time": "2022-11-11T19:03:47.880Z"
   },
   {
    "duration": 0,
    "start_time": "2022-11-11T19:03:47.881Z"
   },
   {
    "duration": 0,
    "start_time": "2022-11-11T19:03:47.882Z"
   },
   {
    "duration": 0,
    "start_time": "2022-11-11T19:03:47.883Z"
   },
   {
    "duration": 0,
    "start_time": "2022-11-11T19:03:47.884Z"
   },
   {
    "duration": 0,
    "start_time": "2022-11-11T19:03:47.885Z"
   },
   {
    "duration": 0,
    "start_time": "2022-11-11T19:03:47.886Z"
   },
   {
    "duration": 0,
    "start_time": "2022-11-11T19:03:47.887Z"
   },
   {
    "duration": 0,
    "start_time": "2022-11-11T19:03:47.888Z"
   },
   {
    "duration": 0,
    "start_time": "2022-11-11T19:03:47.889Z"
   },
   {
    "duration": 0,
    "start_time": "2022-11-11T19:03:47.890Z"
   },
   {
    "duration": 0,
    "start_time": "2022-11-11T19:03:47.891Z"
   },
   {
    "duration": 0,
    "start_time": "2022-11-11T19:03:47.892Z"
   },
   {
    "duration": 0,
    "start_time": "2022-11-11T19:03:47.893Z"
   },
   {
    "duration": 0,
    "start_time": "2022-11-11T19:03:47.894Z"
   },
   {
    "duration": 0,
    "start_time": "2022-11-11T19:03:47.894Z"
   },
   {
    "duration": 0,
    "start_time": "2022-11-11T19:03:47.895Z"
   },
   {
    "duration": 0,
    "start_time": "2022-11-11T19:03:47.896Z"
   },
   {
    "duration": 0,
    "start_time": "2022-11-11T19:03:47.897Z"
   },
   {
    "duration": 0,
    "start_time": "2022-11-11T19:03:47.898Z"
   },
   {
    "duration": 0,
    "start_time": "2022-11-11T19:03:47.899Z"
   },
   {
    "duration": 0,
    "start_time": "2022-11-11T19:03:47.901Z"
   },
   {
    "duration": 0,
    "start_time": "2022-11-11T19:03:47.902Z"
   },
   {
    "duration": 79,
    "start_time": "2022-11-11T19:08:58.486Z"
   },
   {
    "duration": 80,
    "start_time": "2022-11-11T19:08:59.344Z"
   },
   {
    "duration": 77,
    "start_time": "2022-11-11T19:09:24.845Z"
   },
   {
    "duration": 2,
    "start_time": "2022-11-11T19:09:27.168Z"
   },
   {
    "duration": 643,
    "start_time": "2022-11-11T19:09:28.545Z"
   },
   {
    "duration": 23,
    "start_time": "2022-11-11T19:09:29.279Z"
   },
   {
    "duration": 20,
    "start_time": "2022-11-11T19:09:29.605Z"
   },
   {
    "duration": 46,
    "start_time": "2022-11-11T19:09:50.025Z"
   },
   {
    "duration": 80,
    "start_time": "2022-11-11T19:09:50.964Z"
   },
   {
    "duration": 3,
    "start_time": "2022-11-11T19:09:53.288Z"
   },
   {
    "duration": 682,
    "start_time": "2022-11-11T19:09:53.904Z"
   },
   {
    "duration": 8,
    "start_time": "2022-11-11T19:09:54.753Z"
   },
   {
    "duration": 4,
    "start_time": "2022-11-11T19:09:57.826Z"
   },
   {
    "duration": 4,
    "start_time": "2022-11-11T19:09:58.864Z"
   },
   {
    "duration": 7,
    "start_time": "2022-11-11T19:09:59.684Z"
   },
   {
    "duration": 3,
    "start_time": "2022-11-11T19:10:11.360Z"
   },
   {
    "duration": 634,
    "start_time": "2022-11-11T19:10:12.045Z"
   },
   {
    "duration": 5,
    "start_time": "2022-11-11T19:10:13.804Z"
   },
   {
    "duration": 6,
    "start_time": "2022-11-11T19:10:14.344Z"
   },
   {
    "duration": 8,
    "start_time": "2022-11-11T19:10:14.804Z"
   },
   {
    "duration": 3,
    "start_time": "2022-11-11T19:10:17.784Z"
   },
   {
    "duration": 803,
    "start_time": "2022-11-11T19:10:18.125Z"
   },
   {
    "duration": 29,
    "start_time": "2022-11-11T19:10:18.930Z"
   },
   {
    "duration": 18,
    "start_time": "2022-11-11T19:10:18.961Z"
   },
   {
    "duration": 12,
    "start_time": "2022-11-11T19:10:18.982Z"
   },
   {
    "duration": 76,
    "start_time": "2022-11-11T19:11:04.266Z"
   },
   {
    "duration": 20,
    "start_time": "2022-11-11T19:13:40.686Z"
   },
   {
    "duration": 26,
    "start_time": "2022-11-11T19:14:12.865Z"
   },
   {
    "duration": 4,
    "start_time": "2022-11-11T19:15:02.305Z"
   },
   {
    "duration": 3,
    "start_time": "2022-11-11T19:15:04.525Z"
   },
   {
    "duration": 326204,
    "start_time": "2022-11-11T19:15:08.586Z"
   },
   {
    "duration": 87,
    "start_time": "2022-11-11T19:20:34.792Z"
   },
   {
    "duration": 104,
    "start_time": "2022-11-11T19:20:34.882Z"
   },
   {
    "duration": 10,
    "start_time": "2022-11-11T19:20:34.988Z"
   },
   {
    "duration": 11,
    "start_time": "2022-11-11T19:20:35.000Z"
   },
   {
    "duration": 3,
    "start_time": "2022-11-11T19:21:56.812Z"
   },
   {
    "duration": 3,
    "start_time": "2022-11-11T19:21:57.485Z"
   },
   {
    "duration": 4,
    "start_time": "2022-11-11T19:21:58.503Z"
   },
   {
    "duration": 321374,
    "start_time": "2022-11-11T19:21:59.705Z"
   },
   {
    "duration": 7,
    "start_time": "2022-11-11T19:27:21.081Z"
   },
   {
    "duration": 193,
    "start_time": "2022-11-11T19:27:21.090Z"
   },
   {
    "duration": 9,
    "start_time": "2022-11-11T19:27:21.286Z"
   },
   {
    "duration": 18,
    "start_time": "2022-11-11T19:27:21.297Z"
   },
   {
    "duration": 3,
    "start_time": "2022-11-11T19:28:13.646Z"
   },
   {
    "duration": 3,
    "start_time": "2022-11-11T19:28:14.205Z"
   },
   {
    "duration": 37,
    "start_time": "2022-11-11T19:28:14.754Z"
   },
   {
    "duration": 3,
    "start_time": "2022-11-11T19:29:01.085Z"
   },
   {
    "duration": 53,
    "start_time": "2022-11-11T19:29:02.745Z"
   },
   {
    "duration": 3,
    "start_time": "2022-11-11T19:29:34.865Z"
   },
   {
    "duration": 2,
    "start_time": "2022-11-11T19:29:36.785Z"
   },
   {
    "duration": 52,
    "start_time": "2022-11-11T19:29:37.112Z"
   },
   {
    "duration": 3,
    "start_time": "2022-11-11T19:30:02.165Z"
   },
   {
    "duration": 1040,
    "start_time": "2022-11-11T19:30:03.946Z"
   },
   {
    "duration": 29,
    "start_time": "2022-11-11T19:30:05.260Z"
   },
   {
    "duration": 4,
    "start_time": "2022-11-11T19:30:05.884Z"
   },
   {
    "duration": 12,
    "start_time": "2022-11-11T19:30:17.546Z"
   },
   {
    "duration": 4,
    "start_time": "2022-11-11T19:30:20.245Z"
   },
   {
    "duration": 5,
    "start_time": "2022-11-11T19:30:21.005Z"
   },
   {
    "duration": 6,
    "start_time": "2022-11-11T19:30:21.717Z"
   },
   {
    "duration": 3,
    "start_time": "2022-11-11T19:30:36.523Z"
   },
   {
    "duration": 3,
    "start_time": "2022-11-11T19:30:37.195Z"
   },
   {
    "duration": 3,
    "start_time": "2022-11-11T19:31:00.505Z"
   },
   {
    "duration": 4921,
    "start_time": "2022-11-11T19:31:01.534Z"
   },
   {
    "duration": 4,
    "start_time": "2022-11-11T19:31:09.434Z"
   },
   {
    "duration": 6,
    "start_time": "2022-11-11T19:31:11.305Z"
   },
   {
    "duration": 8,
    "start_time": "2022-11-11T19:31:13.004Z"
   },
   {
    "duration": 2671,
    "start_time": "2022-11-11T19:32:52.755Z"
   },
   {
    "duration": 176,
    "start_time": "2022-11-11T19:32:55.429Z"
   },
   {
    "duration": 908,
    "start_time": "2022-11-11T19:32:55.606Z"
   },
   {
    "duration": 11,
    "start_time": "2022-11-11T19:32:56.515Z"
   },
   {
    "duration": 36,
    "start_time": "2022-11-11T19:32:56.529Z"
   },
   {
    "duration": 24,
    "start_time": "2022-11-11T19:32:56.579Z"
   },
   {
    "duration": 3,
    "start_time": "2022-11-11T19:32:56.605Z"
   },
   {
    "duration": 5,
    "start_time": "2022-11-11T19:32:56.610Z"
   },
   {
    "duration": 143786,
    "start_time": "2022-11-11T19:32:56.616Z"
   },
   {
    "duration": 27,
    "start_time": "2022-11-11T19:35:20.403Z"
   },
   {
    "duration": 13,
    "start_time": "2022-11-11T19:35:20.431Z"
   },
   {
    "duration": 69,
    "start_time": "2022-11-11T19:35:20.446Z"
   },
   {
    "duration": 36,
    "start_time": "2022-11-11T19:35:20.517Z"
   },
   {
    "duration": 64,
    "start_time": "2022-11-11T19:35:20.557Z"
   },
   {
    "duration": 32,
    "start_time": "2022-11-11T19:35:20.623Z"
   },
   {
    "duration": 22,
    "start_time": "2022-11-11T19:35:20.657Z"
   },
   {
    "duration": 9,
    "start_time": "2022-11-11T19:35:20.680Z"
   },
   {
    "duration": 367,
    "start_time": "2022-11-11T19:35:20.691Z"
   },
   {
    "duration": 50,
    "start_time": "2022-11-11T19:35:21.060Z"
   },
   {
    "duration": 28,
    "start_time": "2022-11-11T19:35:21.112Z"
   },
   {
    "duration": 6953,
    "start_time": "2022-11-11T19:35:21.142Z"
   },
   {
    "duration": 175,
    "start_time": "2022-11-11T19:35:28.097Z"
   },
   {
    "duration": 50783,
    "start_time": "2022-11-11T19:35:28.274Z"
   },
   {
    "duration": 4,
    "start_time": "2022-11-11T19:36:19.060Z"
   },
   {
    "duration": 14,
    "start_time": "2022-11-11T19:36:19.066Z"
   },
   {
    "duration": 74,
    "start_time": "2022-11-11T19:36:19.082Z"
   },
   {
    "duration": 47,
    "start_time": "2022-11-11T19:36:19.158Z"
   },
   {
    "duration": 106,
    "start_time": "2022-11-11T19:36:19.207Z"
   },
   {
    "duration": 2,
    "start_time": "2022-11-11T19:36:19.315Z"
   },
   {
    "duration": 6,
    "start_time": "2022-11-11T19:36:19.319Z"
   },
   {
    "duration": 17,
    "start_time": "2022-11-11T19:36:19.327Z"
   },
   {
    "duration": 13,
    "start_time": "2022-11-11T19:36:19.346Z"
   },
   {
    "duration": 12,
    "start_time": "2022-11-11T19:36:19.360Z"
   },
   {
    "duration": 7,
    "start_time": "2022-11-11T19:36:19.374Z"
   },
   {
    "duration": 396,
    "start_time": "2022-11-11T19:36:19.383Z"
   },
   {
    "duration": 6,
    "start_time": "2022-11-11T19:36:19.782Z"
   },
   {
    "duration": 190,
    "start_time": "2022-11-11T19:36:19.790Z"
   },
   {
    "duration": 8,
    "start_time": "2022-11-11T19:36:19.982Z"
   },
   {
    "duration": 8,
    "start_time": "2022-11-11T19:36:19.992Z"
   },
   {
    "duration": 3,
    "start_time": "2022-11-11T19:36:20.002Z"
   },
   {
    "duration": 4,
    "start_time": "2022-11-11T19:36:20.012Z"
   },
   {
    "duration": 6,
    "start_time": "2022-11-11T19:36:20.018Z"
   },
   {
    "duration": 4854,
    "start_time": "2022-11-11T19:36:20.025Z"
   },
   {
    "duration": 4,
    "start_time": "2022-11-11T19:36:24.881Z"
   },
   {
    "duration": 15,
    "start_time": "2022-11-11T19:36:24.886Z"
   },
   {
    "duration": 14,
    "start_time": "2022-11-11T19:36:24.903Z"
   },
   {
    "duration": 9,
    "start_time": "2022-11-11T19:36:24.919Z"
   },
   {
    "duration": 849,
    "start_time": "2022-11-11T19:36:24.930Z"
   },
   {
    "duration": 29,
    "start_time": "2022-11-11T19:36:25.781Z"
   },
   {
    "duration": 5,
    "start_time": "2022-11-11T19:36:25.812Z"
   },
   {
    "duration": 8,
    "start_time": "2022-11-11T19:36:25.818Z"
   },
   {
    "duration": 390,
    "start_time": "2022-11-11T19:36:25.827Z"
   },
   {
    "duration": 1,
    "start_time": "2022-11-11T19:36:26.218Z"
   },
   {
    "duration": 0,
    "start_time": "2022-11-11T19:36:26.220Z"
   },
   {
    "duration": 0,
    "start_time": "2022-11-11T19:36:26.221Z"
   },
   {
    "duration": 0,
    "start_time": "2022-11-11T19:36:26.222Z"
   },
   {
    "duration": 0,
    "start_time": "2022-11-11T19:36:26.224Z"
   },
   {
    "duration": 0,
    "start_time": "2022-11-11T19:36:26.225Z"
   },
   {
    "duration": 0,
    "start_time": "2022-11-11T19:36:26.226Z"
   },
   {
    "duration": 0,
    "start_time": "2022-11-11T19:36:26.227Z"
   },
   {
    "duration": 0,
    "start_time": "2022-11-11T19:36:26.229Z"
   },
   {
    "duration": 0,
    "start_time": "2022-11-11T19:36:26.229Z"
   },
   {
    "duration": 0,
    "start_time": "2022-11-11T19:36:26.231Z"
   },
   {
    "duration": 0,
    "start_time": "2022-11-11T19:36:26.232Z"
   },
   {
    "duration": 0,
    "start_time": "2022-11-11T19:36:26.233Z"
   },
   {
    "duration": 0,
    "start_time": "2022-11-11T19:36:26.234Z"
   },
   {
    "duration": 0,
    "start_time": "2022-11-11T19:36:26.235Z"
   },
   {
    "duration": 0,
    "start_time": "2022-11-11T19:36:26.237Z"
   },
   {
    "duration": 0,
    "start_time": "2022-11-11T19:36:26.238Z"
   },
   {
    "duration": 0,
    "start_time": "2022-11-11T19:36:26.240Z"
   },
   {
    "duration": 0,
    "start_time": "2022-11-11T19:36:26.241Z"
   },
   {
    "duration": 0,
    "start_time": "2022-11-11T19:36:26.242Z"
   },
   {
    "duration": 0,
    "start_time": "2022-11-11T19:36:26.243Z"
   },
   {
    "duration": 3,
    "start_time": "2022-11-11T19:37:36.025Z"
   },
   {
    "duration": 3,
    "start_time": "2022-11-11T19:37:36.766Z"
   },
   {
    "duration": 1957,
    "start_time": "2022-11-11T19:37:38.894Z"
   },
   {
    "duration": 5,
    "start_time": "2022-11-11T19:37:41.004Z"
   },
   {
    "duration": 6,
    "start_time": "2022-11-11T19:37:41.304Z"
   },
   {
    "duration": 8,
    "start_time": "2022-11-11T19:37:41.705Z"
   },
   {
    "duration": 4,
    "start_time": "2022-11-11T19:39:23.652Z"
   },
   {
    "duration": 1984,
    "start_time": "2022-11-11T19:39:24.447Z"
   },
   {
    "duration": 5,
    "start_time": "2022-11-11T19:39:28.651Z"
   },
   {
    "duration": 4,
    "start_time": "2022-11-11T19:39:28.965Z"
   },
   {
    "duration": 7,
    "start_time": "2022-11-11T19:39:29.164Z"
   },
   {
    "duration": 6,
    "start_time": "2022-11-11T19:39:49.184Z"
   },
   {
    "duration": 5,
    "start_time": "2022-11-11T19:39:59.008Z"
   },
   {
    "duration": 5,
    "start_time": "2022-11-11T19:40:06.364Z"
   },
   {
    "duration": 612,
    "start_time": "2022-11-11T19:40:24.813Z"
   },
   {
    "duration": 37,
    "start_time": "2022-11-11T19:41:10.115Z"
   },
   {
    "duration": 58,
    "start_time": "2022-11-11T19:41:17.724Z"
   },
   {
    "duration": 49,
    "start_time": "2022-11-11T19:41:23.484Z"
   },
   {
    "duration": 25,
    "start_time": "2022-11-11T19:42:24.256Z"
   },
   {
    "duration": 55,
    "start_time": "2022-11-11T19:42:24.699Z"
   },
   {
    "duration": 281,
    "start_time": "2022-11-11T19:42:25.433Z"
   },
   {
    "duration": 2,
    "start_time": "2022-11-11T19:42:30.465Z"
   },
   {
    "duration": 3,
    "start_time": "2022-11-11T19:42:31.028Z"
   },
   {
    "duration": 3,
    "start_time": "2022-11-11T19:42:31.273Z"
   },
   {
    "duration": 2179,
    "start_time": "2022-11-11T19:42:31.504Z"
   },
   {
    "duration": 96,
    "start_time": "2022-11-11T19:42:33.690Z"
   },
   {
    "duration": 91,
    "start_time": "2022-11-11T19:42:33.794Z"
   },
   {
    "duration": 117,
    "start_time": "2022-11-11T19:42:33.888Z"
   },
   {
    "duration": 14,
    "start_time": "2022-11-11T19:42:34.008Z"
   },
   {
    "duration": 3,
    "start_time": "2022-11-11T19:42:37.225Z"
   },
   {
    "duration": 4,
    "start_time": "2022-11-11T19:42:37.606Z"
   },
   {
    "duration": 4,
    "start_time": "2022-11-11T19:42:37.985Z"
   },
   {
    "duration": 37558,
    "start_time": "2022-11-11T19:42:38.495Z"
   },
   {
    "duration": 22,
    "start_time": "2022-11-11T19:43:16.056Z"
   },
   {
    "duration": 94,
    "start_time": "2022-11-11T19:43:16.080Z"
   },
   {
    "duration": 9,
    "start_time": "2022-11-11T19:43:16.176Z"
   },
   {
    "duration": 4,
    "start_time": "2022-11-11T19:43:21.513Z"
   },
   {
    "duration": 12373,
    "start_time": "2022-11-11T19:43:21.824Z"
   },
   {
    "duration": 94,
    "start_time": "2022-11-11T19:43:34.200Z"
   },
   {
    "duration": 4,
    "start_time": "2022-11-11T19:43:34.296Z"
   },
   {
    "duration": 8,
    "start_time": "2022-11-11T19:43:34.302Z"
   },
   {
    "duration": 3,
    "start_time": "2022-11-11T19:43:49.765Z"
   },
   {
    "duration": 17266,
    "start_time": "2022-11-11T19:44:02.524Z"
   },
   {
    "duration": 16,
    "start_time": "2022-11-11T19:44:19.792Z"
   },
   {
    "duration": 6,
    "start_time": "2022-11-11T19:44:19.811Z"
   },
   {
    "duration": 60,
    "start_time": "2022-11-11T19:44:19.820Z"
   },
   {
    "duration": 3160,
    "start_time": "2022-11-11T19:51:13.524Z"
   },
   {
    "duration": 211,
    "start_time": "2022-11-11T19:51:16.686Z"
   },
   {
    "duration": 915,
    "start_time": "2022-11-11T19:51:16.899Z"
   },
   {
    "duration": 10,
    "start_time": "2022-11-11T19:51:17.816Z"
   },
   {
    "duration": 50,
    "start_time": "2022-11-11T19:51:17.828Z"
   },
   {
    "duration": 25,
    "start_time": "2022-11-11T19:51:17.880Z"
   },
   {
    "duration": 3,
    "start_time": "2022-11-11T19:51:17.907Z"
   },
   {
    "duration": 6,
    "start_time": "2022-11-11T19:51:17.912Z"
   },
   {
    "duration": 143410,
    "start_time": "2022-11-11T19:51:17.920Z"
   },
   {
    "duration": 25,
    "start_time": "2022-11-11T19:53:41.332Z"
   },
   {
    "duration": 21,
    "start_time": "2022-11-11T19:53:41.358Z"
   },
   {
    "duration": 60,
    "start_time": "2022-11-11T19:53:41.381Z"
   },
   {
    "duration": 47,
    "start_time": "2022-11-11T19:53:41.443Z"
   },
   {
    "duration": 53,
    "start_time": "2022-11-11T19:53:41.495Z"
   },
   {
    "duration": 48,
    "start_time": "2022-11-11T19:53:41.550Z"
   },
   {
    "duration": 5,
    "start_time": "2022-11-11T19:53:41.600Z"
   },
   {
    "duration": 20,
    "start_time": "2022-11-11T19:53:41.607Z"
   },
   {
    "duration": 378,
    "start_time": "2022-11-11T19:53:41.629Z"
   },
   {
    "duration": 39,
    "start_time": "2022-11-11T19:53:42.009Z"
   },
   {
    "duration": 49,
    "start_time": "2022-11-11T19:53:42.050Z"
   },
   {
    "duration": 6735,
    "start_time": "2022-11-11T19:53:42.101Z"
   },
   {
    "duration": 187,
    "start_time": "2022-11-11T19:53:48.838Z"
   },
   {
    "duration": 49203,
    "start_time": "2022-11-11T19:53:49.027Z"
   },
   {
    "duration": 3,
    "start_time": "2022-11-11T19:54:38.232Z"
   },
   {
    "duration": 5,
    "start_time": "2022-11-11T19:54:38.237Z"
   },
   {
    "duration": 38,
    "start_time": "2022-11-11T19:54:38.243Z"
   },
   {
    "duration": 44,
    "start_time": "2022-11-11T19:54:38.282Z"
   },
   {
    "duration": 276,
    "start_time": "2022-11-11T19:54:38.327Z"
   },
   {
    "duration": 3,
    "start_time": "2022-11-11T19:54:38.604Z"
   },
   {
    "duration": 5,
    "start_time": "2022-11-11T19:54:38.609Z"
   },
   {
    "duration": 5,
    "start_time": "2022-11-11T19:54:38.616Z"
   },
   {
    "duration": 6,
    "start_time": "2022-11-11T19:54:38.623Z"
   },
   {
    "duration": 4,
    "start_time": "2022-11-11T19:54:38.631Z"
   },
   {
    "duration": 7,
    "start_time": "2022-11-11T19:54:38.637Z"
   },
   {
    "duration": 2139,
    "start_time": "2022-11-11T19:54:38.645Z"
   },
   {
    "duration": 102,
    "start_time": "2022-11-11T19:54:40.786Z"
   },
   {
    "duration": 84,
    "start_time": "2022-11-11T19:54:40.896Z"
   },
   {
    "duration": 104,
    "start_time": "2022-11-11T19:54:40.986Z"
   },
   {
    "duration": 13,
    "start_time": "2022-11-11T19:54:41.092Z"
   },
   {
    "duration": 5,
    "start_time": "2022-11-11T19:54:41.106Z"
   },
   {
    "duration": 12,
    "start_time": "2022-11-11T19:54:41.116Z"
   },
   {
    "duration": 7,
    "start_time": "2022-11-11T19:54:41.130Z"
   },
   {
    "duration": 15861,
    "start_time": "2022-11-11T19:54:41.140Z"
   },
   {
    "duration": 19,
    "start_time": "2022-11-11T19:54:57.003Z"
   },
   {
    "duration": 6,
    "start_time": "2022-11-11T19:54:57.023Z"
   },
   {
    "duration": 7,
    "start_time": "2022-11-11T19:54:57.031Z"
   },
   {
    "duration": 7,
    "start_time": "2022-11-11T19:54:57.040Z"
   },
   {
    "duration": 12309,
    "start_time": "2022-11-11T19:54:57.049Z"
   },
   {
    "duration": 94,
    "start_time": "2022-11-11T19:55:09.360Z"
   },
   {
    "duration": 7,
    "start_time": "2022-11-11T19:55:09.456Z"
   },
   {
    "duration": 17,
    "start_time": "2022-11-11T19:55:09.465Z"
   },
   {
    "duration": 10153,
    "start_time": "2022-11-11T19:55:09.483Z"
   },
   {
    "duration": 25,
    "start_time": "2022-11-11T19:55:19.637Z"
   },
   {
    "duration": 65,
    "start_time": "2022-11-11T19:55:19.663Z"
   },
   {
    "duration": 494,
    "start_time": "2022-11-11T19:55:19.730Z"
   },
   {
    "duration": 1388658,
    "start_time": "2022-11-11T19:55:20.226Z"
   },
   {
    "duration": 6,
    "start_time": "2022-11-11T20:18:28.886Z"
   },
   {
    "duration": 38,
    "start_time": "2022-11-11T20:18:28.893Z"
   },
   {
    "duration": 8,
    "start_time": "2022-11-11T20:18:28.933Z"
   },
   {
    "duration": 4,
    "start_time": "2022-11-11T20:18:28.943Z"
   },
   {
    "duration": 101,
    "start_time": "2022-11-11T20:18:28.979Z"
   },
   {
    "duration": 0,
    "start_time": "2022-11-11T20:18:29.082Z"
   },
   {
    "duration": 0,
    "start_time": "2022-11-11T20:18:29.084Z"
   },
   {
    "duration": 0,
    "start_time": "2022-11-11T20:18:29.089Z"
   },
   {
    "duration": 0,
    "start_time": "2022-11-11T20:18:29.091Z"
   },
   {
    "duration": 0,
    "start_time": "2022-11-11T20:18:29.093Z"
   },
   {
    "duration": 0,
    "start_time": "2022-11-11T20:18:29.094Z"
   },
   {
    "duration": 0,
    "start_time": "2022-11-11T20:18:29.095Z"
   },
   {
    "duration": 0,
    "start_time": "2022-11-11T20:18:29.097Z"
   },
   {
    "duration": 0,
    "start_time": "2022-11-11T20:18:29.099Z"
   },
   {
    "duration": 0,
    "start_time": "2022-11-11T20:18:29.101Z"
   },
   {
    "duration": 77,
    "start_time": "2022-11-11T20:19:15.644Z"
   },
   {
    "duration": 79,
    "start_time": "2022-11-11T20:19:26.132Z"
   },
   {
    "duration": 104,
    "start_time": "2022-11-11T20:19:55.821Z"
   },
   {
    "duration": 500,
    "start_time": "2022-11-11T20:21:08.324Z"
   },
   {
    "duration": 6,
    "start_time": "2022-11-11T20:21:24.124Z"
   },
   {
    "duration": 6,
    "start_time": "2022-11-11T20:21:29.844Z"
   },
   {
    "duration": 4,
    "start_time": "2022-11-11T20:22:00.804Z"
   },
   {
    "duration": 4,
    "start_time": "2022-11-11T20:22:39.023Z"
   },
   {
    "duration": 720844,
    "start_time": "2022-11-11T20:22:40.800Z"
   },
   {
    "duration": 0,
    "start_time": "2022-11-11T20:34:41.646Z"
   },
   {
    "duration": 1,
    "start_time": "2022-11-11T20:34:41.648Z"
   },
   {
    "duration": 0,
    "start_time": "2022-11-11T20:34:41.650Z"
   },
   {
    "duration": 6,
    "start_time": "2022-11-11T20:34:55.091Z"
   },
   {
    "duration": 2457,
    "start_time": "2022-11-11T20:34:57.844Z"
   },
   {
    "duration": 13,
    "start_time": "2022-11-11T20:35:00.387Z"
   },
   {
    "duration": 92,
    "start_time": "2022-11-11T20:35:00.404Z"
   },
   {
    "duration": 41,
    "start_time": "2022-11-11T20:35:00.580Z"
   },
   {
    "duration": 4,
    "start_time": "2022-11-11T20:35:25.143Z"
   },
   {
    "duration": 23,
    "start_time": "2022-11-11T20:35:27.004Z"
   },
   {
    "duration": 5,
    "start_time": "2022-11-11T20:35:38.027Z"
   },
   {
    "duration": 31,
    "start_time": "2022-11-11T20:35:39.963Z"
   },
   {
    "duration": 5,
    "start_time": "2022-11-11T20:35:48.044Z"
   },
   {
    "duration": 23,
    "start_time": "2022-11-11T20:35:50.024Z"
   },
   {
    "duration": 6,
    "start_time": "2022-11-11T20:36:08.964Z"
   },
   {
    "duration": 1300,
    "start_time": "2022-11-11T20:36:16.844Z"
   },
   {
    "duration": 5,
    "start_time": "2022-11-11T20:36:23.095Z"
   },
   {
    "duration": 4,
    "start_time": "2022-11-11T20:36:50.024Z"
   },
   {
    "duration": 28,
    "start_time": "2022-11-11T20:36:56.373Z"
   },
   {
    "duration": 6,
    "start_time": "2022-11-11T20:36:59.645Z"
   },
   {
    "duration": 1277,
    "start_time": "2022-11-11T20:37:05.972Z"
   },
   {
    "duration": 5,
    "start_time": "2022-11-11T20:37:12.664Z"
   },
   {
    "duration": 10,
    "start_time": "2022-11-11T20:37:16.244Z"
   },
   {
    "duration": 1284,
    "start_time": "2022-11-11T20:37:23.244Z"
   },
   {
    "duration": 5,
    "start_time": "2022-11-11T20:37:33.145Z"
   },
   {
    "duration": 20,
    "start_time": "2022-11-11T20:37:42.424Z"
   },
   {
    "duration": 7,
    "start_time": "2022-11-11T20:37:45.187Z"
   },
   {
    "duration": 18,
    "start_time": "2022-11-11T20:37:49.724Z"
   },
   {
    "duration": 6,
    "start_time": "2022-11-11T20:37:53.094Z"
   },
   {
    "duration": 83,
    "start_time": "2022-11-11T20:38:01.265Z"
   },
   {
    "duration": 5,
    "start_time": "2022-11-11T20:38:04.444Z"
   },
   {
    "duration": 20,
    "start_time": "2022-11-11T20:38:21.994Z"
   },
   {
    "duration": 19,
    "start_time": "2022-11-11T20:38:39.224Z"
   },
   {
    "duration": 3,
    "start_time": "2022-11-11T20:38:48.452Z"
   },
   {
    "duration": 22,
    "start_time": "2022-11-11T20:38:50.751Z"
   },
   {
    "duration": 4,
    "start_time": "2022-11-11T20:39:04.246Z"
   },
   {
    "duration": 23,
    "start_time": "2022-11-11T20:39:22.903Z"
   },
   {
    "duration": 38,
    "start_time": "2022-11-11T20:39:25.524Z"
   },
   {
    "duration": 6,
    "start_time": "2022-11-11T20:39:36.923Z"
   },
   {
    "duration": 2573,
    "start_time": "2022-11-12T07:31:46.905Z"
   },
   {
    "duration": 189,
    "start_time": "2022-11-12T07:31:49.480Z"
   },
   {
    "duration": 3486,
    "start_time": "2022-11-12T07:31:49.671Z"
   },
   {
    "duration": 10,
    "start_time": "2022-11-12T07:31:53.159Z"
   },
   {
    "duration": 35,
    "start_time": "2022-11-12T07:31:53.172Z"
   },
   {
    "duration": 21,
    "start_time": "2022-11-12T07:31:53.208Z"
   },
   {
    "duration": 2,
    "start_time": "2022-11-12T07:31:53.231Z"
   },
   {
    "duration": 5,
    "start_time": "2022-11-12T07:31:53.235Z"
   },
   {
    "duration": 140113,
    "start_time": "2022-11-12T07:31:53.241Z"
   },
   {
    "duration": 24,
    "start_time": "2022-11-12T07:34:13.356Z"
   },
   {
    "duration": 16,
    "start_time": "2022-11-12T07:34:13.382Z"
   },
   {
    "duration": 65,
    "start_time": "2022-11-12T07:34:13.400Z"
   },
   {
    "duration": 46,
    "start_time": "2022-11-12T07:34:13.467Z"
   },
   {
    "duration": 61,
    "start_time": "2022-11-12T07:34:13.518Z"
   },
   {
    "duration": 38,
    "start_time": "2022-11-12T07:34:13.581Z"
   },
   {
    "duration": 6,
    "start_time": "2022-11-12T07:34:13.622Z"
   },
   {
    "duration": 10,
    "start_time": "2022-11-12T07:34:13.630Z"
   },
   {
    "duration": 747,
    "start_time": "2022-11-12T07:34:13.642Z"
   },
   {
    "duration": 102,
    "start_time": "2022-11-12T07:34:14.392Z"
   },
   {
    "duration": 37,
    "start_time": "2022-11-12T07:34:14.496Z"
   },
   {
    "duration": 6958,
    "start_time": "2022-11-12T07:34:14.535Z"
   },
   {
    "duration": 183,
    "start_time": "2022-11-12T07:34:21.495Z"
   },
   {
    "duration": 3,
    "start_time": "2022-11-12T07:34:21.680Z"
   },
   {
    "duration": 22,
    "start_time": "2022-11-12T07:34:21.685Z"
   },
   {
    "duration": 6,
    "start_time": "2022-11-12T07:34:21.709Z"
   },
   {
    "duration": 27,
    "start_time": "2022-11-12T07:34:21.717Z"
   },
   {
    "duration": 37,
    "start_time": "2022-11-12T07:34:21.746Z"
   },
   {
    "duration": 295,
    "start_time": "2022-11-12T07:34:21.784Z"
   },
   {
    "duration": 4,
    "start_time": "2022-11-12T07:34:22.081Z"
   },
   {
    "duration": 7,
    "start_time": "2022-11-12T07:34:22.087Z"
   },
   {
    "duration": 8,
    "start_time": "2022-11-12T07:34:22.096Z"
   },
   {
    "duration": 5,
    "start_time": "2022-11-12T07:34:22.106Z"
   },
   {
    "duration": 21,
    "start_time": "2022-11-12T07:34:22.114Z"
   },
   {
    "duration": 11,
    "start_time": "2022-11-12T07:34:22.137Z"
   },
   {
    "duration": 1929,
    "start_time": "2022-11-12T07:34:22.150Z"
   },
   {
    "duration": 100,
    "start_time": "2022-11-12T07:34:24.081Z"
   },
   {
    "duration": 115,
    "start_time": "2022-11-12T07:34:24.184Z"
   },
   {
    "duration": 8,
    "start_time": "2022-11-12T07:34:24.302Z"
   },
   {
    "duration": 9,
    "start_time": "2022-11-12T07:34:24.312Z"
   },
   {
    "duration": 6,
    "start_time": "2022-11-12T07:34:24.323Z"
   },
   {
    "duration": 9,
    "start_time": "2022-11-12T07:34:24.334Z"
   },
   {
    "duration": 36,
    "start_time": "2022-11-12T07:34:24.344Z"
   },
   {
    "duration": 16881,
    "start_time": "2022-11-12T07:34:24.382Z"
   },
   {
    "duration": 21,
    "start_time": "2022-11-12T07:34:41.265Z"
   },
   {
    "duration": 38,
    "start_time": "2022-11-12T07:34:41.287Z"
   },
   {
    "duration": 12,
    "start_time": "2022-11-12T07:34:41.327Z"
   },
   {
    "duration": 348,
    "start_time": "2022-11-12T07:34:41.342Z"
   },
   {
    "duration": 0,
    "start_time": "2022-11-12T07:34:41.691Z"
   },
   {
    "duration": 0,
    "start_time": "2022-11-12T07:34:41.692Z"
   },
   {
    "duration": 0,
    "start_time": "2022-11-12T07:34:41.693Z"
   },
   {
    "duration": 0,
    "start_time": "2022-11-12T07:34:41.695Z"
   },
   {
    "duration": 0,
    "start_time": "2022-11-12T07:34:41.696Z"
   },
   {
    "duration": 0,
    "start_time": "2022-11-12T07:34:41.697Z"
   },
   {
    "duration": 0,
    "start_time": "2022-11-12T07:34:41.699Z"
   },
   {
    "duration": 0,
    "start_time": "2022-11-12T07:34:41.701Z"
   },
   {
    "duration": 0,
    "start_time": "2022-11-12T07:34:41.702Z"
   },
   {
    "duration": 0,
    "start_time": "2022-11-12T07:34:41.704Z"
   },
   {
    "duration": 0,
    "start_time": "2022-11-12T07:34:41.705Z"
   },
   {
    "duration": 0,
    "start_time": "2022-11-12T07:34:41.706Z"
   },
   {
    "duration": 0,
    "start_time": "2022-11-12T07:34:41.707Z"
   },
   {
    "duration": 0,
    "start_time": "2022-11-12T07:34:41.708Z"
   },
   {
    "duration": 0,
    "start_time": "2022-11-12T07:34:41.709Z"
   },
   {
    "duration": 0,
    "start_time": "2022-11-12T07:34:41.710Z"
   },
   {
    "duration": 0,
    "start_time": "2022-11-12T07:34:41.711Z"
   },
   {
    "duration": 0,
    "start_time": "2022-11-12T07:34:41.712Z"
   },
   {
    "duration": 0,
    "start_time": "2022-11-12T07:34:41.713Z"
   },
   {
    "duration": 0,
    "start_time": "2022-11-12T07:34:41.714Z"
   },
   {
    "duration": 0,
    "start_time": "2022-11-12T07:34:41.715Z"
   },
   {
    "duration": 0,
    "start_time": "2022-11-12T07:34:41.717Z"
   },
   {
    "duration": 0,
    "start_time": "2022-11-12T07:34:41.719Z"
   },
   {
    "duration": 0,
    "start_time": "2022-11-12T07:34:41.721Z"
   },
   {
    "duration": 0,
    "start_time": "2022-11-12T07:34:41.722Z"
   },
   {
    "duration": 0,
    "start_time": "2022-11-12T07:34:41.724Z"
   },
   {
    "duration": 0,
    "start_time": "2022-11-12T07:34:41.725Z"
   },
   {
    "duration": 0,
    "start_time": "2022-11-12T07:34:41.778Z"
   },
   {
    "duration": 3,
    "start_time": "2022-11-12T07:36:08.078Z"
   },
   {
    "duration": 18,
    "start_time": "2022-11-12T07:36:08.796Z"
   },
   {
    "duration": 4,
    "start_time": "2022-11-12T07:36:24.256Z"
   },
   {
    "duration": 3,
    "start_time": "2022-11-12T07:36:25.635Z"
   },
   {
    "duration": 19,
    "start_time": "2022-11-12T07:36:26.976Z"
   },
   {
    "duration": 3,
    "start_time": "2022-11-12T07:36:32.176Z"
   },
   {
    "duration": 109442,
    "start_time": "2022-11-12T07:36:34.718Z"
   },
   {
    "duration": 36,
    "start_time": "2022-11-12T07:38:47.937Z"
   },
   {
    "duration": 6,
    "start_time": "2022-11-12T07:38:48.716Z"
   },
   {
    "duration": 5,
    "start_time": "2022-11-12T07:38:49.676Z"
   },
   {
    "duration": 3,
    "start_time": "2022-11-12T07:40:56.664Z"
   },
   {
    "duration": 3,
    "start_time": "2022-11-12T07:41:00.057Z"
   },
   {
    "duration": 12753,
    "start_time": "2022-11-12T07:41:00.237Z"
   },
   {
    "duration": 102,
    "start_time": "2022-11-12T07:41:12.992Z"
   },
   {
    "duration": 5,
    "start_time": "2022-11-12T07:41:13.095Z"
   },
   {
    "duration": 9,
    "start_time": "2022-11-12T07:41:13.102Z"
   },
   {
    "duration": 3,
    "start_time": "2022-11-12T07:44:09.136Z"
   },
   {
    "duration": 4,
    "start_time": "2022-11-12T07:44:13.178Z"
   },
   {
    "duration": 3,
    "start_time": "2022-11-12T07:44:15.656Z"
   },
   {
    "duration": 3,
    "start_time": "2022-11-12T07:44:18.357Z"
   },
   {
    "duration": 94080,
    "start_time": "2022-11-12T07:44:19.936Z"
   },
   {
    "duration": 64,
    "start_time": "2022-11-12T07:45:54.019Z"
   },
   {
    "duration": 7,
    "start_time": "2022-11-12T07:45:54.085Z"
   },
   {
    "duration": 21,
    "start_time": "2022-11-12T07:45:54.095Z"
   },
   {
    "duration": 3,
    "start_time": "2022-11-12T07:51:14.877Z"
   },
   {
    "duration": 3,
    "start_time": "2022-11-12T07:51:20.237Z"
   },
   {
    "duration": 5,
    "start_time": "2022-11-12T07:51:27.057Z"
   },
   {
    "duration": 17,
    "start_time": "2022-11-12T07:51:28.917Z"
   },
   {
    "duration": 3,
    "start_time": "2022-11-12T07:51:37.477Z"
   },
   {
    "duration": 3,
    "start_time": "2022-11-12T07:51:39.545Z"
   },
   {
    "duration": 1635,
    "start_time": "2022-11-12T07:51:40.845Z"
   },
   {
    "duration": 10,
    "start_time": "2022-11-12T07:51:44.336Z"
   },
   {
    "duration": 5,
    "start_time": "2022-11-12T07:51:45.301Z"
   },
   {
    "duration": 6,
    "start_time": "2022-11-12T07:51:45.309Z"
   },
   {
    "duration": 6,
    "start_time": "2022-11-12T07:51:45.798Z"
   },
   {
    "duration": 5,
    "start_time": "2022-11-12T07:52:31.676Z"
   },
   {
    "duration": 5,
    "start_time": "2022-11-12T07:52:39.024Z"
   },
   {
    "duration": 19,
    "start_time": "2022-11-12T07:53:17.237Z"
   },
   {
    "duration": 20,
    "start_time": "2022-11-12T07:53:23.797Z"
   },
   {
    "duration": 3,
    "start_time": "2022-11-12T07:53:32.737Z"
   },
   {
    "duration": 1509,
    "start_time": "2022-11-12T07:53:34.676Z"
   },
   {
    "duration": 15,
    "start_time": "2022-11-12T07:53:37.456Z"
   },
   {
    "duration": 3,
    "start_time": "2022-11-12T07:53:38.316Z"
   },
   {
    "duration": 3,
    "start_time": "2022-11-12T07:53:38.837Z"
   },
   {
    "duration": 7,
    "start_time": "2022-11-12T07:53:39.798Z"
   },
   {
    "duration": 4,
    "start_time": "2022-11-12T07:53:58.017Z"
   },
   {
    "duration": 3,
    "start_time": "2022-11-12T07:53:58.357Z"
   },
   {
    "duration": 1542,
    "start_time": "2022-11-12T07:53:58.844Z"
   },
   {
    "duration": 95,
    "start_time": "2022-11-12T07:54:00.389Z"
   },
   {
    "duration": 201,
    "start_time": "2022-11-12T07:54:00.487Z"
   },
   {
    "duration": 17,
    "start_time": "2022-11-12T07:54:00.691Z"
   },
   {
    "duration": 28,
    "start_time": "2022-11-12T07:54:00.710Z"
   },
   {
    "duration": 5,
    "start_time": "2022-11-12T07:54:41.277Z"
   },
   {
    "duration": 20,
    "start_time": "2022-11-12T07:54:47.696Z"
   },
   {
    "duration": 3,
    "start_time": "2022-11-12T07:54:53.677Z"
   },
   {
    "duration": 1601,
    "start_time": "2022-11-12T07:54:54.487Z"
   },
   {
    "duration": 99,
    "start_time": "2022-11-12T07:54:56.179Z"
   },
   {
    "duration": 9,
    "start_time": "2022-11-12T07:54:56.281Z"
   },
   {
    "duration": 8,
    "start_time": "2022-11-12T07:54:56.379Z"
   },
   {
    "duration": 6,
    "start_time": "2022-11-12T07:54:56.597Z"
   },
   {
    "duration": 3,
    "start_time": "2022-11-12T07:56:14.857Z"
   },
   {
    "duration": 1468,
    "start_time": "2022-11-12T07:56:15.616Z"
   },
   {
    "duration": 97,
    "start_time": "2022-11-12T07:56:17.088Z"
   },
   {
    "duration": 97,
    "start_time": "2022-11-12T07:56:17.188Z"
   },
   {
    "duration": 96,
    "start_time": "2022-11-12T07:56:17.290Z"
   },
   {
    "duration": 7,
    "start_time": "2022-11-12T07:56:17.387Z"
   },
   {
    "duration": 20,
    "start_time": "2022-11-12T07:56:30.564Z"
   },
   {
    "duration": 3,
    "start_time": "2022-11-12T07:56:41.376Z"
   },
   {
    "duration": 3,
    "start_time": "2022-11-12T07:56:41.745Z"
   },
   {
    "duration": 3,
    "start_time": "2022-11-12T07:56:42.022Z"
   },
   {
    "duration": 1232,
    "start_time": "2022-11-12T07:56:42.855Z"
   },
   {
    "duration": 97,
    "start_time": "2022-11-12T07:56:44.089Z"
   },
   {
    "duration": 194,
    "start_time": "2022-11-12T07:56:44.188Z"
   },
   {
    "duration": 5,
    "start_time": "2022-11-12T07:56:44.385Z"
   },
   {
    "duration": 7,
    "start_time": "2022-11-12T07:56:44.392Z"
   },
   {
    "duration": 3,
    "start_time": "2022-11-12T07:57:08.757Z"
   },
   {
    "duration": 2,
    "start_time": "2022-11-12T07:57:09.397Z"
   },
   {
    "duration": 1286,
    "start_time": "2022-11-12T07:57:09.596Z"
   },
   {
    "duration": 94,
    "start_time": "2022-11-12T07:57:10.887Z"
   },
   {
    "duration": 97,
    "start_time": "2022-11-12T07:57:10.983Z"
   },
   {
    "duration": 109,
    "start_time": "2022-11-12T07:57:11.083Z"
   },
   {
    "duration": 31,
    "start_time": "2022-11-12T07:57:11.193Z"
   },
   {
    "duration": 4,
    "start_time": "2022-11-12T07:57:41.177Z"
   },
   {
    "duration": 3,
    "start_time": "2022-11-12T07:57:42.298Z"
   },
   {
    "duration": 1302,
    "start_time": "2022-11-12T07:57:42.685Z"
   },
   {
    "duration": 103,
    "start_time": "2022-11-12T07:57:44.080Z"
   },
   {
    "duration": 106,
    "start_time": "2022-11-12T07:57:44.186Z"
   },
   {
    "duration": 4,
    "start_time": "2022-11-12T07:57:44.379Z"
   },
   {
    "duration": 7,
    "start_time": "2022-11-12T07:57:44.698Z"
   },
   {
    "duration": 3,
    "start_time": "2022-11-12T07:58:00.446Z"
   },
   {
    "duration": 1129,
    "start_time": "2022-11-12T07:58:00.753Z"
   },
   {
    "duration": 97,
    "start_time": "2022-11-12T07:58:01.885Z"
   },
   {
    "duration": 103,
    "start_time": "2022-11-12T07:58:01.985Z"
   },
   {
    "duration": 7,
    "start_time": "2022-11-12T07:58:02.179Z"
   },
   {
    "duration": 10,
    "start_time": "2022-11-12T07:58:02.188Z"
   },
   {
    "duration": 3,
    "start_time": "2022-11-12T08:00:00.520Z"
   },
   {
    "duration": 4,
    "start_time": "2022-11-12T08:00:01.297Z"
   },
   {
    "duration": 3,
    "start_time": "2022-11-12T08:00:13.426Z"
   },
   {
    "duration": 4,
    "start_time": "2022-11-12T08:00:35.938Z"
   },
   {
    "duration": 3,
    "start_time": "2022-11-12T08:00:36.537Z"
   },
   {
    "duration": 24,
    "start_time": "2022-11-12T08:00:37.296Z"
   },
   {
    "duration": 3,
    "start_time": "2022-11-12T08:01:11.985Z"
   },
   {
    "duration": 114555,
    "start_time": "2022-11-12T08:01:13.096Z"
   },
   {
    "duration": 0,
    "start_time": "2022-11-12T08:03:07.653Z"
   },
   {
    "duration": 0,
    "start_time": "2022-11-12T08:03:07.654Z"
   },
   {
    "duration": 0,
    "start_time": "2022-11-12T08:03:07.655Z"
   },
   {
    "duration": 0,
    "start_time": "2022-11-12T08:03:07.657Z"
   },
   {
    "duration": 4,
    "start_time": "2022-11-12T08:03:19.162Z"
   },
   {
    "duration": 568112,
    "start_time": "2022-11-12T08:03:19.796Z"
   },
   {
    "duration": 0,
    "start_time": "2022-11-12T08:12:47.911Z"
   },
   {
    "duration": 0,
    "start_time": "2022-11-12T08:12:47.912Z"
   },
   {
    "duration": 0,
    "start_time": "2022-11-12T08:12:47.913Z"
   },
   {
    "duration": 0,
    "start_time": "2022-11-12T08:12:47.914Z"
   },
   {
    "duration": 0,
    "start_time": "2022-11-12T08:12:47.915Z"
   },
   {
    "duration": 0,
    "start_time": "2022-11-12T08:12:47.916Z"
   },
   {
    "duration": 0,
    "start_time": "2022-11-12T08:12:47.917Z"
   },
   {
    "duration": 0,
    "start_time": "2022-11-12T08:12:47.918Z"
   },
   {
    "duration": 0,
    "start_time": "2022-11-12T08:12:47.920Z"
   },
   {
    "duration": 0,
    "start_time": "2022-11-12T08:12:47.922Z"
   },
   {
    "duration": 0,
    "start_time": "2022-11-12T08:12:47.924Z"
   },
   {
    "duration": 0,
    "start_time": "2022-11-12T08:12:47.925Z"
   },
   {
    "duration": 0,
    "start_time": "2022-11-12T08:12:47.926Z"
   },
   {
    "duration": 0,
    "start_time": "2022-11-12T08:12:47.927Z"
   },
   {
    "duration": 0,
    "start_time": "2022-11-12T08:12:47.928Z"
   },
   {
    "duration": 0,
    "start_time": "2022-11-12T08:12:47.929Z"
   },
   {
    "duration": 0,
    "start_time": "2022-11-12T08:12:47.930Z"
   },
   {
    "duration": 0,
    "start_time": "2022-11-12T08:12:47.931Z"
   },
   {
    "duration": 0,
    "start_time": "2022-11-12T08:12:47.933Z"
   },
   {
    "duration": 2737,
    "start_time": "2022-11-12T08:14:10.716Z"
   },
   {
    "duration": 207,
    "start_time": "2022-11-12T08:14:13.455Z"
   },
   {
    "duration": 914,
    "start_time": "2022-11-12T08:14:13.664Z"
   },
   {
    "duration": 11,
    "start_time": "2022-11-12T08:14:14.581Z"
   },
   {
    "duration": 40,
    "start_time": "2022-11-12T08:14:14.594Z"
   },
   {
    "duration": 53,
    "start_time": "2022-11-12T08:14:14.635Z"
   },
   {
    "duration": 11,
    "start_time": "2022-11-12T08:14:14.690Z"
   },
   {
    "duration": 7,
    "start_time": "2022-11-12T08:14:14.704Z"
   },
   {
    "duration": 137923,
    "start_time": "2022-11-12T08:14:14.713Z"
   },
   {
    "duration": 22,
    "start_time": "2022-11-12T08:16:32.639Z"
   },
   {
    "duration": 17,
    "start_time": "2022-11-12T08:16:32.663Z"
   },
   {
    "duration": 63,
    "start_time": "2022-11-12T08:16:32.682Z"
   },
   {
    "duration": 47,
    "start_time": "2022-11-12T08:16:32.747Z"
   },
   {
    "duration": 58,
    "start_time": "2022-11-12T08:16:32.797Z"
   },
   {
    "duration": 46,
    "start_time": "2022-11-12T08:16:32.857Z"
   },
   {
    "duration": 5,
    "start_time": "2022-11-12T08:16:32.905Z"
   },
   {
    "duration": 11,
    "start_time": "2022-11-12T08:16:32.911Z"
   },
   {
    "duration": 347,
    "start_time": "2022-11-12T08:16:32.923Z"
   },
   {
    "duration": 42,
    "start_time": "2022-11-12T08:16:33.271Z"
   },
   {
    "duration": 29,
    "start_time": "2022-11-12T08:16:33.314Z"
   },
   {
    "duration": 6727,
    "start_time": "2022-11-12T08:16:33.345Z"
   },
   {
    "duration": 173,
    "start_time": "2022-11-12T08:16:40.074Z"
   },
   {
    "duration": 3,
    "start_time": "2022-11-12T08:16:40.249Z"
   },
   {
    "duration": 9,
    "start_time": "2022-11-12T08:16:40.254Z"
   },
   {
    "duration": 14,
    "start_time": "2022-11-12T08:16:40.264Z"
   },
   {
    "duration": 25,
    "start_time": "2022-11-12T08:16:40.280Z"
   },
   {
    "duration": 32,
    "start_time": "2022-11-12T08:16:40.307Z"
   },
   {
    "duration": 270,
    "start_time": "2022-11-12T08:16:40.343Z"
   },
   {
    "duration": 2,
    "start_time": "2022-11-12T08:16:40.615Z"
   },
   {
    "duration": 16,
    "start_time": "2022-11-12T08:16:40.619Z"
   },
   {
    "duration": 9,
    "start_time": "2022-11-12T08:16:40.637Z"
   },
   {
    "duration": 27,
    "start_time": "2022-11-12T08:16:40.648Z"
   },
   {
    "duration": 31,
    "start_time": "2022-11-12T08:16:40.677Z"
   },
   {
    "duration": 384,
    "start_time": "2022-11-12T08:16:40.710Z"
   },
   {
    "duration": 0,
    "start_time": "2022-11-12T08:16:41.097Z"
   },
   {
    "duration": 0,
    "start_time": "2022-11-12T08:16:41.099Z"
   },
   {
    "duration": 0,
    "start_time": "2022-11-12T08:16:41.100Z"
   },
   {
    "duration": 0,
    "start_time": "2022-11-12T08:16:41.102Z"
   },
   {
    "duration": 0,
    "start_time": "2022-11-12T08:16:41.103Z"
   },
   {
    "duration": 0,
    "start_time": "2022-11-12T08:16:41.104Z"
   },
   {
    "duration": 0,
    "start_time": "2022-11-12T08:16:41.106Z"
   },
   {
    "duration": 0,
    "start_time": "2022-11-12T08:16:41.107Z"
   },
   {
    "duration": 0,
    "start_time": "2022-11-12T08:16:41.109Z"
   },
   {
    "duration": 1,
    "start_time": "2022-11-12T08:16:41.116Z"
   },
   {
    "duration": 0,
    "start_time": "2022-11-12T08:16:41.118Z"
   },
   {
    "duration": 0,
    "start_time": "2022-11-12T08:16:41.120Z"
   },
   {
    "duration": 0,
    "start_time": "2022-11-12T08:16:41.122Z"
   },
   {
    "duration": 0,
    "start_time": "2022-11-12T08:16:41.123Z"
   },
   {
    "duration": 0,
    "start_time": "2022-11-12T08:16:41.124Z"
   },
   {
    "duration": 0,
    "start_time": "2022-11-12T08:16:41.125Z"
   },
   {
    "duration": 0,
    "start_time": "2022-11-12T08:16:41.126Z"
   },
   {
    "duration": 0,
    "start_time": "2022-11-12T08:16:41.127Z"
   },
   {
    "duration": 0,
    "start_time": "2022-11-12T08:16:41.128Z"
   },
   {
    "duration": 0,
    "start_time": "2022-11-12T08:16:41.130Z"
   },
   {
    "duration": 4,
    "start_time": "2022-11-12T08:17:41.664Z"
   },
   {
    "duration": 330950,
    "start_time": "2022-11-12T08:17:42.956Z"
   },
   {
    "duration": 0,
    "start_time": "2022-11-12T08:23:13.909Z"
   },
   {
    "duration": 0,
    "start_time": "2022-11-12T08:23:13.911Z"
   },
   {
    "duration": 0,
    "start_time": "2022-11-12T08:23:13.912Z"
   },
   {
    "duration": 0,
    "start_time": "2022-11-12T08:23:13.913Z"
   },
   {
    "duration": 0,
    "start_time": "2022-11-12T08:23:13.914Z"
   },
   {
    "duration": 0,
    "start_time": "2022-11-12T08:23:13.916Z"
   },
   {
    "duration": 0,
    "start_time": "2022-11-12T08:23:13.979Z"
   },
   {
    "duration": 0,
    "start_time": "2022-11-12T08:23:13.981Z"
   },
   {
    "duration": 0,
    "start_time": "2022-11-12T08:23:13.983Z"
   },
   {
    "duration": 0,
    "start_time": "2022-11-12T08:23:13.984Z"
   },
   {
    "duration": 0,
    "start_time": "2022-11-12T08:23:13.986Z"
   },
   {
    "duration": 0,
    "start_time": "2022-11-12T08:23:13.988Z"
   },
   {
    "duration": 0,
    "start_time": "2022-11-12T08:23:13.989Z"
   },
   {
    "duration": 0,
    "start_time": "2022-11-12T08:23:13.990Z"
   },
   {
    "duration": 0,
    "start_time": "2022-11-12T08:23:13.992Z"
   },
   {
    "duration": 0,
    "start_time": "2022-11-12T08:23:13.993Z"
   },
   {
    "duration": 0,
    "start_time": "2022-11-12T08:23:13.994Z"
   },
   {
    "duration": 0,
    "start_time": "2022-11-12T08:23:13.996Z"
   },
   {
    "duration": 0,
    "start_time": "2022-11-12T08:23:13.998Z"
   },
   {
    "duration": 3334,
    "start_time": "2022-11-17T15:29:23.908Z"
   },
   {
    "duration": 150,
    "start_time": "2022-11-17T15:29:27.244Z"
   },
   {
    "duration": 2572,
    "start_time": "2022-11-17T15:29:27.396Z"
   },
   {
    "duration": 9,
    "start_time": "2022-11-17T15:29:29.970Z"
   },
   {
    "duration": 35,
    "start_time": "2022-11-17T15:29:29.981Z"
   },
   {
    "duration": 36,
    "start_time": "2022-11-17T15:29:30.017Z"
   },
   {
    "duration": 3,
    "start_time": "2022-11-17T15:29:30.054Z"
   },
   {
    "duration": 9,
    "start_time": "2022-11-17T15:29:30.059Z"
   },
   {
    "duration": 130119,
    "start_time": "2022-11-17T15:29:30.069Z"
   },
   {
    "duration": 24,
    "start_time": "2022-11-17T15:31:40.190Z"
   },
   {
    "duration": 20,
    "start_time": "2022-11-17T15:31:40.216Z"
   },
   {
    "duration": 65,
    "start_time": "2022-11-17T15:31:40.238Z"
   },
   {
    "duration": 52,
    "start_time": "2022-11-17T15:31:40.304Z"
   },
   {
    "duration": 54,
    "start_time": "2022-11-17T15:31:40.359Z"
   },
   {
    "duration": 30,
    "start_time": "2022-11-17T15:31:40.415Z"
   },
   {
    "duration": 4,
    "start_time": "2022-11-17T15:31:40.447Z"
   },
   {
    "duration": 12,
    "start_time": "2022-11-17T15:31:40.453Z"
   },
   {
    "duration": 504,
    "start_time": "2022-11-17T15:31:40.466Z"
   },
   {
    "duration": 79,
    "start_time": "2022-11-17T15:31:40.972Z"
   },
   {
    "duration": 28,
    "start_time": "2022-11-17T15:31:41.053Z"
   },
   {
    "duration": 6757,
    "start_time": "2022-11-17T15:31:41.083Z"
   },
   {
    "duration": 163,
    "start_time": "2022-11-17T15:31:47.841Z"
   },
   {
    "duration": 3,
    "start_time": "2022-11-17T15:31:48.006Z"
   },
   {
    "duration": 82,
    "start_time": "2022-11-17T15:31:48.011Z"
   },
   {
    "duration": 9,
    "start_time": "2022-11-17T15:31:48.095Z"
   },
   {
    "duration": 44,
    "start_time": "2022-11-17T15:31:48.105Z"
   },
   {
    "duration": 46,
    "start_time": "2022-11-17T15:31:48.150Z"
   },
   {
    "duration": 4,
    "start_time": "2022-11-17T15:31:48.197Z"
   },
   {
    "duration": 3216,
    "start_time": "2022-11-24T17:54:56.236Z"
   },
   {
    "duration": 243,
    "start_time": "2022-11-24T17:54:59.454Z"
   },
   {
    "duration": 969,
    "start_time": "2022-11-24T17:54:59.699Z"
   },
   {
    "duration": 9,
    "start_time": "2022-11-24T17:55:00.670Z"
   },
   {
    "duration": 72,
    "start_time": "2022-11-24T17:55:00.681Z"
   },
   {
    "duration": 50,
    "start_time": "2022-11-24T17:55:00.754Z"
   },
   {
    "duration": 50,
    "start_time": "2022-11-24T17:55:00.805Z"
   },
   {
    "duration": 70,
    "start_time": "2022-11-24T17:55:00.857Z"
   },
   {
    "duration": 126520,
    "start_time": "2022-11-24T17:55:00.930Z"
   },
   {
    "duration": 23,
    "start_time": "2022-11-24T17:57:07.451Z"
   },
   {
    "duration": 12,
    "start_time": "2022-11-24T17:57:07.476Z"
   },
   {
    "duration": 71,
    "start_time": "2022-11-24T17:57:07.489Z"
   },
   {
    "duration": 33,
    "start_time": "2022-11-24T17:57:07.561Z"
   },
   {
    "duration": 59,
    "start_time": "2022-11-24T17:57:07.598Z"
   },
   {
    "duration": 26,
    "start_time": "2022-11-24T17:57:07.658Z"
   },
   {
    "duration": 5,
    "start_time": "2022-11-24T17:57:07.686Z"
   },
   {
    "duration": 9,
    "start_time": "2022-11-24T17:57:07.693Z"
   },
   {
    "duration": 498,
    "start_time": "2022-11-24T17:57:07.704Z"
   },
   {
    "duration": 75,
    "start_time": "2022-11-24T17:57:08.204Z"
   },
   {
    "duration": 24,
    "start_time": "2022-11-24T17:57:08.281Z"
   },
   {
    "duration": 6560,
    "start_time": "2022-11-24T17:57:08.307Z"
   },
   {
    "duration": 150,
    "start_time": "2022-11-24T17:57:14.869Z"
   },
   {
    "duration": 2,
    "start_time": "2022-11-24T17:57:15.021Z"
   },
   {
    "duration": 43,
    "start_time": "2022-11-24T17:57:15.025Z"
   },
   {
    "duration": 11,
    "start_time": "2022-11-24T17:57:15.070Z"
   },
   {
    "duration": 10,
    "start_time": "2022-11-24T17:57:15.082Z"
   },
   {
    "duration": 31,
    "start_time": "2022-11-24T17:57:15.093Z"
   },
   {
    "duration": 39,
    "start_time": "2022-11-24T17:57:15.126Z"
   },
   {
    "duration": 3745,
    "start_time": "2022-11-24T17:57:15.167Z"
   },
   {
    "duration": 4,
    "start_time": "2022-11-24T17:57:18.913Z"
   },
   {
    "duration": 7,
    "start_time": "2022-11-24T17:57:18.918Z"
   },
   {
    "duration": 3,
    "start_time": "2022-11-24T17:57:18.935Z"
   },
   {
    "duration": 6,
    "start_time": "2022-11-24T17:57:18.939Z"
   },
   {
    "duration": 4,
    "start_time": "2022-11-24T17:57:18.947Z"
   },
   {
    "duration": 14,
    "start_time": "2022-11-24T17:57:18.953Z"
   },
   {
    "duration": 5,
    "start_time": "2022-11-24T17:57:18.968Z"
   },
   {
    "duration": 5,
    "start_time": "2022-11-24T17:57:18.975Z"
   },
   {
    "duration": 7,
    "start_time": "2022-11-24T17:57:18.981Z"
   },
   {
    "duration": 7,
    "start_time": "2022-11-24T17:57:18.989Z"
   },
   {
    "duration": 9,
    "start_time": "2022-11-24T17:57:18.997Z"
   },
   {
    "duration": 5,
    "start_time": "2022-11-24T17:57:19.010Z"
   },
   {
    "duration": 97520,
    "start_time": "2022-11-24T17:57:19.017Z"
   },
   {
    "duration": 4,
    "start_time": "2022-11-24T17:58:56.539Z"
   },
   {
    "duration": 117,
    "start_time": "2022-11-24T17:58:56.545Z"
   },
   {
    "duration": 36,
    "start_time": "2022-11-24T17:58:56.663Z"
   },
   {
    "duration": 24,
    "start_time": "2022-11-24T17:58:56.701Z"
   },
   {
    "duration": 9,
    "start_time": "2022-11-24T17:58:56.727Z"
   },
   {
    "duration": 31,
    "start_time": "2022-11-24T17:58:56.739Z"
   },
   {
    "duration": 73865,
    "start_time": "2022-11-24T17:58:56.772Z"
   },
   {
    "duration": 93,
    "start_time": "2022-11-24T18:00:10.642Z"
   },
   {
    "duration": 8,
    "start_time": "2022-11-24T18:00:10.738Z"
   },
   {
    "duration": 28388,
    "start_time": "2022-11-24T18:00:10.747Z"
   },
   {
    "duration": 3,
    "start_time": "2022-11-24T18:00:39.137Z"
   },
   {
    "duration": 27,
    "start_time": "2022-11-24T18:00:39.141Z"
   },
   {
    "duration": 10,
    "start_time": "2022-11-24T18:00:39.169Z"
   },
   {
    "duration": 8,
    "start_time": "2022-11-24T18:00:39.180Z"
   },
   {
    "duration": 10,
    "start_time": "2022-11-24T18:00:39.190Z"
   },
   {
    "duration": 5,
    "start_time": "2022-11-24T18:00:39.201Z"
   },
   {
    "duration": 17,
    "start_time": "2022-11-24T18:00:39.208Z"
   },
   {
    "duration": 21,
    "start_time": "2022-11-24T18:00:39.227Z"
   },
   {
    "duration": 8,
    "start_time": "2022-11-24T18:00:39.251Z"
   },
   {
    "duration": 12,
    "start_time": "2022-11-24T18:00:39.261Z"
   },
   {
    "duration": 9,
    "start_time": "2022-11-24T18:00:39.275Z"
   },
   {
    "duration": 17,
    "start_time": "2022-11-24T18:00:39.286Z"
   },
   {
    "duration": 5,
    "start_time": "2022-11-24T18:00:39.305Z"
   },
   {
    "duration": 12,
    "start_time": "2022-11-24T18:00:39.312Z"
   },
   {
    "duration": 11,
    "start_time": "2022-11-24T18:00:39.325Z"
   },
   {
    "duration": 7,
    "start_time": "2022-11-24T18:00:39.338Z"
   },
   {
    "duration": 8,
    "start_time": "2022-11-24T18:00:39.346Z"
   },
   {
    "duration": 11,
    "start_time": "2022-11-24T18:00:39.355Z"
   },
   {
    "duration": 10,
    "start_time": "2022-11-24T18:00:39.368Z"
   },
   {
    "duration": 12,
    "start_time": "2022-11-24T18:00:39.380Z"
   },
   {
    "duration": 6,
    "start_time": "2022-11-24T18:00:39.393Z"
   },
   {
    "duration": 8,
    "start_time": "2022-11-24T18:00:39.401Z"
   },
   {
    "duration": 5,
    "start_time": "2022-11-24T18:00:39.411Z"
   },
   {
    "duration": 12,
    "start_time": "2022-11-24T18:00:39.418Z"
   },
   {
    "duration": 13,
    "start_time": "2022-11-24T18:00:39.432Z"
   },
   {
    "duration": 6,
    "start_time": "2022-11-24T18:00:39.447Z"
   },
   {
    "duration": 7,
    "start_time": "2022-11-24T18:00:39.455Z"
   },
   {
    "duration": 9,
    "start_time": "2022-11-24T18:00:39.464Z"
   },
   {
    "duration": 7,
    "start_time": "2022-11-24T18:00:39.474Z"
   },
   {
    "duration": 12,
    "start_time": "2022-11-24T18:00:39.483Z"
   },
   {
    "duration": 6,
    "start_time": "2022-11-24T18:00:39.497Z"
   },
   {
    "duration": 10,
    "start_time": "2022-11-24T18:00:39.504Z"
   },
   {
    "duration": 3,
    "start_time": "2022-11-24T18:00:39.534Z"
   },
   {
    "duration": 7,
    "start_time": "2022-11-24T18:00:39.539Z"
   },
   {
    "duration": 2819,
    "start_time": "2022-11-24T20:22:59.284Z"
   },
   {
    "duration": 322,
    "start_time": "2022-11-24T20:23:02.105Z"
   },
   {
    "duration": 2238,
    "start_time": "2022-11-24T20:23:02.429Z"
   },
   {
    "duration": 9,
    "start_time": "2022-11-24T20:23:04.670Z"
   },
   {
    "duration": 37,
    "start_time": "2022-11-24T20:23:04.681Z"
   },
   {
    "duration": 20,
    "start_time": "2022-11-24T20:23:04.721Z"
   },
   {
    "duration": 3,
    "start_time": "2022-11-24T20:23:04.742Z"
   },
   {
    "duration": 9,
    "start_time": "2022-11-24T20:23:04.746Z"
   },
   {
    "duration": 120358,
    "start_time": "2022-11-24T20:23:04.757Z"
   },
   {
    "duration": 29,
    "start_time": "2022-11-24T20:25:05.117Z"
   },
   {
    "duration": 18,
    "start_time": "2022-11-24T20:25:05.149Z"
   },
   {
    "duration": 85,
    "start_time": "2022-11-24T20:25:05.171Z"
   },
   {
    "duration": 53,
    "start_time": "2022-11-24T20:25:05.258Z"
   },
   {
    "duration": 52,
    "start_time": "2022-11-24T20:25:05.318Z"
   },
   {
    "duration": 39,
    "start_time": "2022-11-24T20:25:05.372Z"
   },
   {
    "duration": 5,
    "start_time": "2022-11-24T20:25:05.413Z"
   },
   {
    "duration": 9,
    "start_time": "2022-11-24T20:25:05.420Z"
   },
   {
    "duration": 492,
    "start_time": "2022-11-24T20:25:05.430Z"
   },
   {
    "duration": 84,
    "start_time": "2022-11-24T20:25:05.924Z"
   },
   {
    "duration": 25,
    "start_time": "2022-11-24T20:25:06.009Z"
   },
   {
    "duration": 6500,
    "start_time": "2022-11-24T20:25:06.035Z"
   },
   {
    "duration": 132,
    "start_time": "2022-11-24T20:25:12.537Z"
   },
   {
    "duration": 2,
    "start_time": "2022-11-24T20:25:12.671Z"
   },
   {
    "duration": 23,
    "start_time": "2022-11-24T20:25:12.675Z"
   },
   {
    "duration": 28,
    "start_time": "2022-11-24T20:25:12.699Z"
   },
   {
    "duration": 15,
    "start_time": "2022-11-24T20:25:12.729Z"
   },
   {
    "duration": 39,
    "start_time": "2022-11-24T20:25:12.746Z"
   },
   {
    "duration": 38,
    "start_time": "2022-11-24T20:25:12.787Z"
   },
   {
    "duration": 3884,
    "start_time": "2022-11-24T20:25:12.827Z"
   },
   {
    "duration": 4,
    "start_time": "2022-11-24T20:25:16.712Z"
   },
   {
    "duration": 6,
    "start_time": "2022-11-24T20:25:16.717Z"
   },
   {
    "duration": 5,
    "start_time": "2022-11-24T20:25:16.724Z"
   },
   {
    "duration": 9,
    "start_time": "2022-11-24T20:25:16.730Z"
   },
   {
    "duration": 5,
    "start_time": "2022-11-24T20:25:16.740Z"
   },
   {
    "duration": 8,
    "start_time": "2022-11-24T20:25:16.746Z"
   },
   {
    "duration": 5,
    "start_time": "2022-11-24T20:25:16.755Z"
   },
   {
    "duration": 5,
    "start_time": "2022-11-24T20:25:16.761Z"
   },
   {
    "duration": 5,
    "start_time": "2022-11-24T20:25:16.767Z"
   },
   {
    "duration": 5,
    "start_time": "2022-11-24T20:25:16.773Z"
   },
   {
    "duration": 5,
    "start_time": "2022-11-24T20:25:16.780Z"
   },
   {
    "duration": 2,
    "start_time": "2022-11-24T20:25:16.797Z"
   },
   {
    "duration": 150995,
    "start_time": "2022-11-24T20:25:16.801Z"
   },
   {
    "duration": 2,
    "start_time": "2022-11-24T20:27:47.799Z"
   },
   {
    "duration": 98,
    "start_time": "2022-11-24T20:27:47.803Z"
   },
   {
    "duration": 8,
    "start_time": "2022-11-24T20:27:47.903Z"
   },
   {
    "duration": 11,
    "start_time": "2022-11-24T20:27:47.912Z"
   },
   {
    "duration": 11,
    "start_time": "2022-11-24T20:27:47.925Z"
   },
   {
    "duration": 17,
    "start_time": "2022-11-24T20:27:47.938Z"
   },
   {
    "duration": 124748,
    "start_time": "2022-11-24T20:27:47.957Z"
   },
   {
    "duration": 3,
    "start_time": "2022-11-24T20:29:52.707Z"
   },
   {
    "duration": 87,
    "start_time": "2022-11-24T20:29:52.711Z"
   },
   {
    "duration": 29705,
    "start_time": "2022-11-24T20:29:52.800Z"
   },
   {
    "duration": 91,
    "start_time": "2022-11-24T20:30:22.507Z"
   },
   {
    "duration": 17,
    "start_time": "2022-11-24T20:30:22.600Z"
   },
   {
    "duration": 20,
    "start_time": "2022-11-24T20:30:22.619Z"
   },
   {
    "duration": 13,
    "start_time": "2022-11-24T20:30:22.641Z"
   },
   {
    "duration": 6,
    "start_time": "2022-11-24T20:30:22.656Z"
   },
   {
    "duration": 13,
    "start_time": "2022-11-24T20:30:22.663Z"
   },
   {
    "duration": 9,
    "start_time": "2022-11-24T20:30:22.678Z"
   },
   {
    "duration": 18,
    "start_time": "2022-11-24T20:30:22.688Z"
   },
   {
    "duration": 10,
    "start_time": "2022-11-24T20:30:22.707Z"
   },
   {
    "duration": 11,
    "start_time": "2022-11-24T20:30:22.718Z"
   },
   {
    "duration": 13,
    "start_time": "2022-11-24T20:30:22.730Z"
   },
   {
    "duration": 11,
    "start_time": "2022-11-24T20:30:22.745Z"
   },
   {
    "duration": 4,
    "start_time": "2022-11-24T20:30:22.758Z"
   },
   {
    "duration": 9,
    "start_time": "2022-11-24T20:30:22.764Z"
   },
   {
    "duration": 10,
    "start_time": "2022-11-24T20:30:22.775Z"
   },
   {
    "duration": 21,
    "start_time": "2022-11-24T20:30:22.786Z"
   },
   {
    "duration": 15,
    "start_time": "2022-11-24T20:30:22.808Z"
   },
   {
    "duration": 9,
    "start_time": "2022-11-24T20:30:22.825Z"
   },
   {
    "duration": 17,
    "start_time": "2022-11-24T20:30:22.835Z"
   },
   {
    "duration": 13,
    "start_time": "2022-11-24T20:30:22.854Z"
   },
   {
    "duration": 18,
    "start_time": "2022-11-24T20:30:22.868Z"
   },
   {
    "duration": 29,
    "start_time": "2022-11-24T20:30:22.888Z"
   },
   {
    "duration": 23,
    "start_time": "2022-11-24T20:30:22.918Z"
   },
   {
    "duration": 34,
    "start_time": "2022-11-24T20:30:22.943Z"
   },
   {
    "duration": 20,
    "start_time": "2022-11-24T20:30:22.978Z"
   },
   {
    "duration": 21,
    "start_time": "2022-11-24T20:30:23.000Z"
   },
   {
    "duration": 26,
    "start_time": "2022-11-24T20:30:23.022Z"
   },
   {
    "duration": 13,
    "start_time": "2022-11-24T20:30:23.049Z"
   },
   {
    "duration": 8,
    "start_time": "2022-11-24T20:30:23.064Z"
   },
   {
    "duration": 24,
    "start_time": "2022-11-24T20:30:23.074Z"
   },
   {
    "duration": 13,
    "start_time": "2022-11-24T20:30:23.099Z"
   },
   {
    "duration": 13,
    "start_time": "2022-11-24T20:30:23.113Z"
   },
   {
    "duration": 14,
    "start_time": "2022-11-24T20:30:23.127Z"
   },
   {
    "duration": 22,
    "start_time": "2022-11-24T20:30:23.142Z"
   },
   {
    "duration": 2196,
    "start_time": "2022-11-24T20:43:30.904Z"
   },
   {
    "duration": 147,
    "start_time": "2022-11-24T20:43:33.102Z"
   },
   {
    "duration": 731,
    "start_time": "2022-11-24T20:43:33.251Z"
   },
   {
    "duration": 17,
    "start_time": "2022-11-24T20:43:33.983Z"
   },
   {
    "duration": 26,
    "start_time": "2022-11-24T20:43:34.002Z"
   },
   {
    "duration": 19,
    "start_time": "2022-11-24T20:43:34.029Z"
   },
   {
    "duration": 2,
    "start_time": "2022-11-24T20:43:34.049Z"
   },
   {
    "duration": 7,
    "start_time": "2022-11-24T20:43:34.053Z"
   },
   {
    "duration": 122713,
    "start_time": "2022-11-24T20:43:34.061Z"
   },
   {
    "duration": 27,
    "start_time": "2022-11-24T20:45:36.776Z"
   },
   {
    "duration": 13,
    "start_time": "2022-11-24T20:45:36.805Z"
   },
   {
    "duration": 62,
    "start_time": "2022-11-24T20:45:36.820Z"
   },
   {
    "duration": 40,
    "start_time": "2022-11-24T20:45:36.884Z"
   },
   {
    "duration": 50,
    "start_time": "2022-11-24T20:45:36.928Z"
   },
   {
    "duration": 40,
    "start_time": "2022-11-24T20:45:36.980Z"
   },
   {
    "duration": 6,
    "start_time": "2022-11-24T20:45:37.022Z"
   },
   {
    "duration": 10,
    "start_time": "2022-11-24T20:45:37.030Z"
   },
   {
    "duration": 310,
    "start_time": "2022-11-24T20:45:37.041Z"
   },
   {
    "duration": 45,
    "start_time": "2022-11-24T20:45:37.352Z"
   },
   {
    "duration": 25,
    "start_time": "2022-11-24T20:45:37.399Z"
   },
   {
    "duration": 6330,
    "start_time": "2022-11-24T20:45:37.426Z"
   },
   {
    "duration": 143,
    "start_time": "2022-11-24T20:45:43.757Z"
   },
   {
    "duration": 3,
    "start_time": "2022-11-24T20:45:43.902Z"
   },
   {
    "duration": 6,
    "start_time": "2022-11-24T20:45:43.907Z"
   },
   {
    "duration": 6,
    "start_time": "2022-11-24T20:45:43.914Z"
   },
   {
    "duration": 26,
    "start_time": "2022-11-24T20:45:43.922Z"
   },
   {
    "duration": 73,
    "start_time": "2022-11-24T20:45:43.950Z"
   },
   {
    "duration": 3981,
    "start_time": "2022-11-24T20:45:44.025Z"
   },
   {
    "duration": 4,
    "start_time": "2022-11-24T20:45:48.008Z"
   },
   {
    "duration": 6,
    "start_time": "2022-11-24T20:45:48.014Z"
   },
   {
    "duration": 127182,
    "start_time": "2022-11-24T20:45:48.022Z"
   },
   {
    "duration": 131904,
    "start_time": "2022-11-24T20:47:55.206Z"
   },
   {
    "duration": 86,
    "start_time": "2022-11-24T20:50:07.112Z"
   },
   {
    "duration": 3103,
    "start_time": "2022-11-24T20:50:47.864Z"
   },
   {
    "duration": 340,
    "start_time": "2022-11-24T20:50:50.969Z"
   },
   {
    "duration": 2550,
    "start_time": "2022-11-24T20:50:51.311Z"
   },
   {
    "duration": 10,
    "start_time": "2022-11-24T20:50:53.863Z"
   },
   {
    "duration": 30,
    "start_time": "2022-11-24T20:50:53.874Z"
   },
   {
    "duration": 43,
    "start_time": "2022-11-24T20:50:53.906Z"
   },
   {
    "duration": 3,
    "start_time": "2022-11-24T20:50:53.951Z"
   },
   {
    "duration": 7,
    "start_time": "2022-11-24T20:50:53.956Z"
   },
   {
    "duration": 129904,
    "start_time": "2022-11-24T20:50:53.965Z"
   },
   {
    "duration": 32,
    "start_time": "2022-11-24T20:53:03.872Z"
   },
   {
    "duration": 41,
    "start_time": "2022-11-24T20:53:03.908Z"
   },
   {
    "duration": 78,
    "start_time": "2022-11-24T20:53:03.950Z"
   },
   {
    "duration": 33,
    "start_time": "2022-11-24T20:53:04.030Z"
   },
   {
    "duration": 51,
    "start_time": "2022-11-24T20:53:04.064Z"
   },
   {
    "duration": 26,
    "start_time": "2022-11-24T20:53:04.116Z"
   },
   {
    "duration": 6,
    "start_time": "2022-11-24T20:53:04.144Z"
   },
   {
    "duration": 35,
    "start_time": "2022-11-24T20:53:04.152Z"
   },
   {
    "duration": 338,
    "start_time": "2022-11-24T20:53:04.188Z"
   },
   {
    "duration": 40,
    "start_time": "2022-11-24T20:53:04.527Z"
   },
   {
    "duration": 43,
    "start_time": "2022-11-24T20:53:04.569Z"
   },
   {
    "duration": 6535,
    "start_time": "2022-11-24T20:53:04.614Z"
   },
   {
    "duration": 135,
    "start_time": "2022-11-24T20:53:11.151Z"
   },
   {
    "duration": 3,
    "start_time": "2022-11-24T20:53:11.287Z"
   },
   {
    "duration": 3,
    "start_time": "2022-11-24T20:53:11.297Z"
   },
   {
    "duration": 5,
    "start_time": "2022-11-24T20:53:11.301Z"
   },
   {
    "duration": 30,
    "start_time": "2022-11-24T20:53:11.309Z"
   },
   {
    "duration": 40,
    "start_time": "2022-11-24T20:53:11.341Z"
   },
   {
    "duration": 3935,
    "start_time": "2022-11-24T20:53:11.384Z"
   },
   {
    "duration": 3,
    "start_time": "2022-11-24T20:53:15.321Z"
   },
   {
    "duration": 6,
    "start_time": "2022-11-24T20:53:15.325Z"
   },
   {
    "duration": 165272,
    "start_time": "2022-11-24T20:53:15.332Z"
   },
   {
    "duration": 110294,
    "start_time": "2022-11-24T20:56:00.606Z"
   },
   {
    "duration": 4,
    "start_time": "2022-11-24T20:57:50.902Z"
   },
   {
    "duration": 109,
    "start_time": "2022-11-24T20:57:50.907Z"
   },
   {
    "duration": 6,
    "start_time": "2022-11-24T20:57:51.018Z"
   },
   {
    "duration": 3047,
    "start_time": "2022-11-24T21:01:35.865Z"
   },
   {
    "duration": 332,
    "start_time": "2022-11-24T21:01:38.916Z"
   },
   {
    "duration": 2836,
    "start_time": "2022-11-24T21:01:39.250Z"
   },
   {
    "duration": 8,
    "start_time": "2022-11-24T21:01:42.087Z"
   },
   {
    "duration": 59,
    "start_time": "2022-11-24T21:01:42.101Z"
   },
   {
    "duration": 29,
    "start_time": "2022-11-24T21:01:42.161Z"
   },
   {
    "duration": 40,
    "start_time": "2022-11-24T21:01:42.191Z"
   },
   {
    "duration": 37,
    "start_time": "2022-11-24T21:01:42.233Z"
   },
   {
    "duration": 137530,
    "start_time": "2022-11-24T21:01:42.272Z"
   },
   {
    "duration": 22,
    "start_time": "2022-11-24T21:03:59.803Z"
   },
   {
    "duration": 13,
    "start_time": "2022-11-24T21:03:59.827Z"
   },
   {
    "duration": 79,
    "start_time": "2022-11-24T21:03:59.842Z"
   },
   {
    "duration": 45,
    "start_time": "2022-11-24T21:03:59.923Z"
   },
   {
    "duration": 62,
    "start_time": "2022-11-24T21:03:59.973Z"
   },
   {
    "duration": 31,
    "start_time": "2022-11-24T21:04:00.038Z"
   },
   {
    "duration": 15,
    "start_time": "2022-11-24T21:04:00.070Z"
   },
   {
    "duration": 25,
    "start_time": "2022-11-24T21:04:00.097Z"
   },
   {
    "duration": 301,
    "start_time": "2022-11-24T21:04:00.123Z"
   },
   {
    "duration": 37,
    "start_time": "2022-11-24T21:04:00.426Z"
   },
   {
    "duration": 49,
    "start_time": "2022-11-24T21:04:00.464Z"
   },
   {
    "duration": 6692,
    "start_time": "2022-11-24T21:04:00.515Z"
   },
   {
    "duration": 168,
    "start_time": "2022-11-24T21:04:07.209Z"
   },
   {
    "duration": 2,
    "start_time": "2022-11-24T21:04:07.379Z"
   },
   {
    "duration": 14,
    "start_time": "2022-11-24T21:04:07.383Z"
   },
   {
    "duration": 4,
    "start_time": "2022-11-24T21:04:07.399Z"
   },
   {
    "duration": 37,
    "start_time": "2022-11-24T21:04:07.404Z"
   },
   {
    "duration": 34,
    "start_time": "2022-11-24T21:04:07.442Z"
   },
   {
    "duration": 4114,
    "start_time": "2022-11-24T21:04:07.478Z"
   },
   {
    "duration": 4,
    "start_time": "2022-11-24T21:04:11.596Z"
   },
   {
    "duration": 20,
    "start_time": "2022-11-24T21:04:11.601Z"
   },
   {
    "duration": 129175,
    "start_time": "2022-11-24T21:04:11.622Z"
   },
   {
    "duration": 100497,
    "start_time": "2022-11-24T21:06:20.800Z"
   },
   {
    "duration": 30399,
    "start_time": "2022-11-24T21:08:01.300Z"
   },
   {
    "duration": 4,
    "start_time": "2022-11-24T21:08:31.702Z"
   },
   {
    "duration": 2,
    "start_time": "2022-11-24T21:08:31.798Z"
   },
   {
    "duration": 20,
    "start_time": "2022-11-24T21:08:31.802Z"
   },
   {
    "duration": 10,
    "start_time": "2022-11-24T21:08:31.824Z"
   },
   {
    "duration": 9,
    "start_time": "2022-11-24T21:08:31.836Z"
   },
   {
    "duration": 10,
    "start_time": "2022-11-24T21:08:31.847Z"
   },
   {
    "duration": 7,
    "start_time": "2022-11-24T21:08:31.859Z"
   },
   {
    "duration": 10,
    "start_time": "2022-11-24T21:08:31.870Z"
   },
   {
    "duration": 2813,
    "start_time": "2023-02-13T11:08:53.086Z"
   },
   {
    "duration": 253,
    "start_time": "2023-02-13T11:08:55.901Z"
   },
   {
    "duration": 2543,
    "start_time": "2023-02-13T11:08:56.155Z"
   },
   {
    "duration": 18,
    "start_time": "2023-02-13T11:08:58.700Z"
   },
   {
    "duration": 31,
    "start_time": "2023-02-13T11:08:58.720Z"
   },
   {
    "duration": 15,
    "start_time": "2023-02-13T11:08:58.753Z"
   },
   {
    "duration": 4,
    "start_time": "2023-02-13T11:08:58.769Z"
   },
   {
    "duration": 4,
    "start_time": "2023-02-13T11:08:58.774Z"
   },
   {
    "duration": 136808,
    "start_time": "2023-02-13T11:08:58.779Z"
   },
   {
    "duration": 32,
    "start_time": "2023-02-13T11:11:15.589Z"
   },
   {
    "duration": 14,
    "start_time": "2023-02-13T11:11:15.622Z"
   },
   {
    "duration": 58,
    "start_time": "2023-02-13T11:11:15.637Z"
   },
   {
    "duration": 57,
    "start_time": "2023-02-13T11:11:15.697Z"
   },
   {
    "duration": 66,
    "start_time": "2023-02-13T11:11:15.756Z"
   },
   {
    "duration": 34,
    "start_time": "2023-02-13T11:11:15.825Z"
   },
   {
    "duration": 6,
    "start_time": "2023-02-13T11:11:15.861Z"
   },
   {
    "duration": 10,
    "start_time": "2023-02-13T11:11:15.869Z"
   },
   {
    "duration": 349,
    "start_time": "2023-02-13T11:11:15.880Z"
   },
   {
    "duration": 35,
    "start_time": "2023-02-13T11:11:16.231Z"
   },
   {
    "duration": 22,
    "start_time": "2023-02-13T11:11:16.268Z"
   },
   {
    "duration": 178,
    "start_time": "2023-02-13T11:11:16.303Z"
   },
   {
    "duration": 3,
    "start_time": "2023-02-13T11:11:16.483Z"
   },
   {
    "duration": 4,
    "start_time": "2023-02-13T11:11:16.488Z"
   },
   {
    "duration": 34,
    "start_time": "2023-02-13T11:11:16.493Z"
   },
   {
    "duration": 36,
    "start_time": "2023-02-13T11:11:16.528Z"
   },
   {
    "duration": 4407,
    "start_time": "2023-02-13T11:11:16.566Z"
   },
   {
    "duration": 3,
    "start_time": "2023-02-13T11:11:20.974Z"
   },
   {
    "duration": 7,
    "start_time": "2023-02-13T11:11:20.980Z"
   },
   {
    "duration": 156729,
    "start_time": "2023-02-13T11:11:20.988Z"
   },
   {
    "duration": 161287,
    "start_time": "2023-02-13T11:13:57.719Z"
   },
   {
    "duration": 19995,
    "start_time": "2023-02-13T11:16:39.013Z"
   },
   {
    "duration": 5,
    "start_time": "2023-02-13T11:16:59.011Z"
   },
   {
    "duration": 16,
    "start_time": "2023-02-13T11:16:59.017Z"
   },
   {
    "duration": 12,
    "start_time": "2023-02-13T11:16:59.108Z"
   },
   {
    "duration": 10,
    "start_time": "2023-02-13T11:16:59.123Z"
   },
   {
    "duration": 9,
    "start_time": "2023-02-13T11:16:59.134Z"
   },
   {
    "duration": 5,
    "start_time": "2023-02-13T11:16:59.144Z"
   },
   {
    "duration": 7,
    "start_time": "2023-02-13T11:16:59.150Z"
   },
   {
    "duration": 2576,
    "start_time": "2023-02-13T12:52:05.993Z"
   },
   {
    "duration": 236,
    "start_time": "2023-02-13T12:52:08.571Z"
   },
   {
    "duration": 852,
    "start_time": "2023-02-13T12:52:08.809Z"
   },
   {
    "duration": 9,
    "start_time": "2023-02-13T12:52:09.663Z"
   },
   {
    "duration": 37,
    "start_time": "2023-02-13T12:52:09.674Z"
   },
   {
    "duration": 16,
    "start_time": "2023-02-13T12:52:09.713Z"
   },
   {
    "duration": 4,
    "start_time": "2023-02-13T12:52:09.731Z"
   },
   {
    "duration": 8,
    "start_time": "2023-02-13T12:52:09.736Z"
   },
   {
    "duration": 134462,
    "start_time": "2023-02-13T12:52:09.745Z"
   },
   {
    "duration": 24,
    "start_time": "2023-02-13T12:54:24.208Z"
   },
   {
    "duration": 9,
    "start_time": "2023-02-13T12:54:24.233Z"
   },
   {
    "duration": 68,
    "start_time": "2023-02-13T12:54:24.244Z"
   },
   {
    "duration": 33,
    "start_time": "2023-02-13T12:54:24.314Z"
   },
   {
    "duration": 53,
    "start_time": "2023-02-13T12:54:24.351Z"
   },
   {
    "duration": 29,
    "start_time": "2023-02-13T12:54:24.406Z"
   },
   {
    "duration": 4,
    "start_time": "2023-02-13T12:54:24.437Z"
   },
   {
    "duration": 7,
    "start_time": "2023-02-13T12:54:24.442Z"
   },
   {
    "duration": 341,
    "start_time": "2023-02-13T12:54:24.450Z"
   },
   {
    "duration": 38,
    "start_time": "2023-02-13T12:54:24.793Z"
   },
   {
    "duration": 22,
    "start_time": "2023-02-13T12:54:24.832Z"
   },
   {
    "duration": 186,
    "start_time": "2023-02-13T12:54:24.855Z"
   },
   {
    "duration": 4,
    "start_time": "2023-02-13T12:54:25.043Z"
   },
   {
    "duration": 6,
    "start_time": "2023-02-13T12:54:25.048Z"
   },
   {
    "duration": 30,
    "start_time": "2023-02-13T12:54:25.055Z"
   },
   {
    "duration": 58,
    "start_time": "2023-02-13T12:54:25.087Z"
   },
   {
    "duration": 2752,
    "start_time": "2023-02-13T12:54:51.030Z"
   },
   {
    "duration": 149,
    "start_time": "2023-02-13T12:54:53.785Z"
   },
   {
    "duration": 2417,
    "start_time": "2023-02-13T12:54:53.936Z"
   },
   {
    "duration": 8,
    "start_time": "2023-02-13T12:54:56.355Z"
   },
   {
    "duration": 36,
    "start_time": "2023-02-13T12:54:56.365Z"
   },
   {
    "duration": 16,
    "start_time": "2023-02-13T12:54:56.402Z"
   },
   {
    "duration": 5,
    "start_time": "2023-02-13T12:54:56.420Z"
   },
   {
    "duration": 5,
    "start_time": "2023-02-13T12:54:56.428Z"
   },
   {
    "duration": 134537,
    "start_time": "2023-02-13T12:54:56.435Z"
   },
   {
    "duration": 36,
    "start_time": "2023-02-13T12:57:10.973Z"
   },
   {
    "duration": 8,
    "start_time": "2023-02-13T12:57:11.011Z"
   },
   {
    "duration": 70,
    "start_time": "2023-02-13T12:57:11.021Z"
   },
   {
    "duration": 56,
    "start_time": "2023-02-13T12:57:11.093Z"
   },
   {
    "duration": 60,
    "start_time": "2023-02-13T12:57:11.156Z"
   },
   {
    "duration": 30,
    "start_time": "2023-02-13T12:57:11.218Z"
   },
   {
    "duration": 5,
    "start_time": "2023-02-13T12:57:11.250Z"
   },
   {
    "duration": 25,
    "start_time": "2023-02-13T12:57:11.256Z"
   },
   {
    "duration": 342,
    "start_time": "2023-02-13T12:57:11.283Z"
   },
   {
    "duration": 35,
    "start_time": "2023-02-13T12:57:11.627Z"
   },
   {
    "duration": 40,
    "start_time": "2023-02-13T12:57:11.663Z"
   },
   {
    "duration": 171,
    "start_time": "2023-02-13T12:57:11.706Z"
   },
   {
    "duration": 5,
    "start_time": "2023-02-13T12:57:11.879Z"
   },
   {
    "duration": 9,
    "start_time": "2023-02-13T12:57:11.885Z"
   },
   {
    "duration": 31,
    "start_time": "2023-02-13T12:57:11.895Z"
   },
   {
    "duration": 40,
    "start_time": "2023-02-13T12:57:11.928Z"
   },
   {
    "duration": 5757,
    "start_time": "2023-02-13T12:57:11.970Z"
   },
   {
    "duration": 3,
    "start_time": "2023-02-13T12:57:17.729Z"
   },
   {
    "duration": 6,
    "start_time": "2023-02-13T12:57:17.734Z"
   },
   {
    "duration": 222967,
    "start_time": "2023-02-13T12:57:17.742Z"
   },
   {
    "duration": 3,
    "start_time": "2023-02-13T13:01:00.711Z"
   },
   {
    "duration": 149999,
    "start_time": "2023-02-13T13:01:00.715Z"
   },
   {
    "duration": 3,
    "start_time": "2023-02-13T13:03:30.716Z"
   },
   {
    "duration": 284,
    "start_time": "2023-02-13T13:03:30.721Z"
   },
   {
    "duration": 0,
    "start_time": "2023-02-13T13:03:31.006Z"
   },
   {
    "duration": 0,
    "start_time": "2023-02-13T13:03:31.007Z"
   },
   {
    "duration": 0,
    "start_time": "2023-02-13T13:03:31.009Z"
   },
   {
    "duration": 0,
    "start_time": "2023-02-13T13:03:31.010Z"
   },
   {
    "duration": 0,
    "start_time": "2023-02-13T13:03:31.011Z"
   },
   {
    "duration": 0,
    "start_time": "2023-02-13T13:03:31.012Z"
   },
   {
    "duration": 0,
    "start_time": "2023-02-13T13:03:31.013Z"
   },
   {
    "duration": 0,
    "start_time": "2023-02-13T13:03:31.014Z"
   },
   {
    "duration": 25802,
    "start_time": "2023-02-13T13:07:36.004Z"
   },
   {
    "duration": 216196,
    "start_time": "2023-02-13T13:08:01.809Z"
   },
   {
    "duration": 147011,
    "start_time": "2023-02-13T13:11:38.007Z"
   },
   {
    "duration": 28806,
    "start_time": "2023-02-13T13:14:05.105Z"
   },
   {
    "duration": 22592,
    "start_time": "2023-02-13T13:14:33.913Z"
   },
   {
    "duration": 2581,
    "start_time": "2023-02-13T13:52:16.843Z"
   },
   {
    "duration": 223,
    "start_time": "2023-02-13T13:52:19.426Z"
   },
   {
    "duration": 860,
    "start_time": "2023-02-13T13:52:19.651Z"
   },
   {
    "duration": 8,
    "start_time": "2023-02-13T13:52:20.513Z"
   },
   {
    "duration": 32,
    "start_time": "2023-02-13T13:52:20.523Z"
   },
   {
    "duration": 16,
    "start_time": "2023-02-13T13:52:20.557Z"
   },
   {
    "duration": 30,
    "start_time": "2023-02-13T13:52:20.575Z"
   },
   {
    "duration": 3,
    "start_time": "2023-02-13T13:52:20.607Z"
   },
   {
    "duration": 2752,
    "start_time": "2023-02-13T13:53:29.360Z"
   },
   {
    "duration": 233,
    "start_time": "2023-02-13T13:53:32.115Z"
   },
   {
    "duration": 948,
    "start_time": "2023-02-13T13:53:32.350Z"
   },
   {
    "duration": 9,
    "start_time": "2023-02-13T13:53:33.300Z"
   },
   {
    "duration": 34,
    "start_time": "2023-02-13T13:53:33.312Z"
   },
   {
    "duration": 15,
    "start_time": "2023-02-13T13:53:33.347Z"
   },
   {
    "duration": 4,
    "start_time": "2023-02-13T13:53:33.364Z"
   },
   {
    "duration": 8,
    "start_time": "2023-02-13T13:53:33.371Z"
   },
   {
    "duration": 134040,
    "start_time": "2023-02-13T13:53:33.380Z"
   },
   {
    "duration": 24,
    "start_time": "2023-02-13T13:55:47.422Z"
   },
   {
    "duration": 17,
    "start_time": "2023-02-13T13:55:47.448Z"
   },
   {
    "duration": 78,
    "start_time": "2023-02-13T13:55:47.466Z"
   },
   {
    "duration": 35,
    "start_time": "2023-02-13T13:55:47.546Z"
   },
   {
    "duration": 54,
    "start_time": "2023-02-13T13:55:47.585Z"
   },
   {
    "duration": 30,
    "start_time": "2023-02-13T13:55:47.640Z"
   },
   {
    "duration": 5,
    "start_time": "2023-02-13T13:55:47.672Z"
   },
   {
    "duration": 32,
    "start_time": "2023-02-13T13:55:47.678Z"
   },
   {
    "duration": 317,
    "start_time": "2023-02-13T13:55:47.711Z"
   },
   {
    "duration": 33,
    "start_time": "2023-02-13T13:55:48.030Z"
   },
   {
    "duration": 38,
    "start_time": "2023-02-13T13:55:48.065Z"
   },
   {
    "duration": 177,
    "start_time": "2023-02-13T13:55:48.105Z"
   },
   {
    "duration": 4,
    "start_time": "2023-02-13T13:55:48.284Z"
   },
   {
    "duration": 18,
    "start_time": "2023-02-13T13:55:48.289Z"
   },
   {
    "duration": 26,
    "start_time": "2023-02-13T13:55:48.309Z"
   },
   {
    "duration": 48,
    "start_time": "2023-02-13T13:55:48.337Z"
   },
   {
    "duration": 5766,
    "start_time": "2023-02-13T13:55:48.387Z"
   },
   {
    "duration": 3,
    "start_time": "2023-02-13T13:55:54.155Z"
   },
   {
    "duration": 12,
    "start_time": "2023-02-13T13:55:54.160Z"
   },
   {
    "duration": 59826,
    "start_time": "2023-02-13T13:55:54.174Z"
   },
   {
    "duration": 0,
    "start_time": "2023-02-13T13:56:54.002Z"
   },
   {
    "duration": 0,
    "start_time": "2023-02-13T13:56:54.003Z"
   },
   {
    "duration": 0,
    "start_time": "2023-02-13T13:56:54.004Z"
   },
   {
    "duration": 0,
    "start_time": "2023-02-13T13:56:54.004Z"
   },
   {
    "duration": 0,
    "start_time": "2023-02-13T13:56:54.005Z"
   },
   {
    "duration": 0,
    "start_time": "2023-02-13T13:56:54.006Z"
   },
   {
    "duration": 0,
    "start_time": "2023-02-13T13:56:54.006Z"
   },
   {
    "duration": 0,
    "start_time": "2023-02-13T13:56:54.007Z"
   },
   {
    "duration": 0,
    "start_time": "2023-02-13T13:56:54.008Z"
   },
   {
    "duration": 2657,
    "start_time": "2023-02-13T13:57:04.037Z"
   },
   {
    "duration": 249,
    "start_time": "2023-02-13T13:57:06.696Z"
   },
   {
    "duration": 901,
    "start_time": "2023-02-13T13:57:06.947Z"
   },
   {
    "duration": 8,
    "start_time": "2023-02-13T13:57:07.851Z"
   },
   {
    "duration": 29,
    "start_time": "2023-02-13T13:57:07.860Z"
   },
   {
    "duration": 19,
    "start_time": "2023-02-13T13:57:07.903Z"
   },
   {
    "duration": 6,
    "start_time": "2023-02-13T13:57:07.925Z"
   },
   {
    "duration": 4,
    "start_time": "2023-02-13T13:57:07.932Z"
   },
   {
    "duration": 145219,
    "start_time": "2023-02-13T13:57:07.938Z"
   },
   {
    "duration": 23,
    "start_time": "2023-02-13T13:59:33.160Z"
   },
   {
    "duration": 27,
    "start_time": "2023-02-13T13:59:33.185Z"
   },
   {
    "duration": 73,
    "start_time": "2023-02-13T13:59:33.213Z"
   },
   {
    "duration": 45,
    "start_time": "2023-02-13T13:59:33.288Z"
   },
   {
    "duration": 42,
    "start_time": "2023-02-13T13:59:33.334Z"
   },
   {
    "duration": 48,
    "start_time": "2023-02-13T13:59:33.378Z"
   },
   {
    "duration": 5,
    "start_time": "2023-02-13T13:59:33.429Z"
   },
   {
    "duration": 10,
    "start_time": "2023-02-13T13:59:33.435Z"
   },
   {
    "duration": 344,
    "start_time": "2023-02-13T13:59:33.446Z"
   },
   {
    "duration": 51,
    "start_time": "2023-02-13T13:59:33.793Z"
   },
   {
    "duration": 28,
    "start_time": "2023-02-13T13:59:33.846Z"
   },
   {
    "duration": 191,
    "start_time": "2023-02-13T13:59:33.875Z"
   },
   {
    "duration": 4,
    "start_time": "2023-02-13T13:59:34.069Z"
   },
   {
    "duration": 6,
    "start_time": "2023-02-13T13:59:34.075Z"
   },
   {
    "duration": 41,
    "start_time": "2023-02-13T13:59:34.083Z"
   },
   {
    "duration": 40,
    "start_time": "2023-02-13T13:59:34.127Z"
   },
   {
    "duration": 5770,
    "start_time": "2023-02-13T13:59:34.169Z"
   },
   {
    "duration": 6,
    "start_time": "2023-02-13T13:59:39.941Z"
   },
   {
    "duration": 238764,
    "start_time": "2023-02-13T13:59:39.951Z"
   },
   {
    "duration": 164586,
    "start_time": "2023-02-13T14:03:38.718Z"
   },
   {
    "duration": 23703,
    "start_time": "2023-02-13T14:06:23.306Z"
   },
   {
    "duration": 4,
    "start_time": "2023-02-13T14:06:47.011Z"
   },
   {
    "duration": 295,
    "start_time": "2023-02-13T14:06:47.017Z"
   },
   {
    "duration": 0,
    "start_time": "2023-02-13T14:06:47.314Z"
   },
   {
    "duration": 0,
    "start_time": "2023-02-13T14:06:47.315Z"
   },
   {
    "duration": 0,
    "start_time": "2023-02-13T14:06:47.317Z"
   },
   {
    "duration": 0,
    "start_time": "2023-02-13T14:06:47.319Z"
   },
   {
    "duration": 0,
    "start_time": "2023-02-13T14:06:47.321Z"
   },
   {
    "duration": 6,
    "start_time": "2023-02-13T14:07:30.946Z"
   },
   {
    "duration": 11,
    "start_time": "2023-02-13T14:07:32.971Z"
   },
   {
    "duration": 773,
    "start_time": "2023-02-13T14:07:38.371Z"
   },
   {
    "duration": 0,
    "start_time": "2023-02-13T14:07:39.146Z"
   },
   {
    "duration": 5,
    "start_time": "2023-02-13T14:07:50.312Z"
   },
   {
    "duration": 6,
    "start_time": "2023-02-13T14:07:52.888Z"
   },
   {
    "duration": 17,
    "start_time": "2023-02-13T14:07:54.798Z"
   },
   {
    "duration": 905,
    "start_time": "2023-02-13T14:08:24.391Z"
   },
   {
    "duration": 13,
    "start_time": "2023-02-13T14:08:30.801Z"
   },
   {
    "duration": 5,
    "start_time": "2023-02-13T14:08:33.505Z"
   },
   {
    "duration": 4,
    "start_time": "2023-02-13T14:08:36.463Z"
   },
   {
    "duration": 3,
    "start_time": "2023-02-13T14:08:43.733Z"
   },
   {
    "duration": 11,
    "start_time": "2023-02-13T14:08:45.720Z"
   },
   {
    "duration": 1095,
    "start_time": "2023-02-13T14:09:01.109Z"
   },
   {
    "duration": 518,
    "start_time": "2023-02-13T14:09:10.891Z"
   },
   {
    "duration": 4,
    "start_time": "2023-02-13T14:09:19.972Z"
   },
   {
    "duration": 56,
    "start_time": "2023-02-13T14:10:10.603Z"
   },
   {
    "duration": 5,
    "start_time": "2023-02-13T14:10:13.781Z"
   },
   {
    "duration": 5,
    "start_time": "2023-02-13T14:10:18.224Z"
   },
   {
    "duration": 2672,
    "start_time": "2023-02-13T14:11:05.311Z"
   },
   {
    "duration": 231,
    "start_time": "2023-02-13T14:11:07.985Z"
   },
   {
    "duration": 843,
    "start_time": "2023-02-13T14:11:08.218Z"
   },
   {
    "duration": 10,
    "start_time": "2023-02-13T14:11:09.063Z"
   },
   {
    "duration": 38,
    "start_time": "2023-02-13T14:11:09.075Z"
   },
   {
    "duration": 18,
    "start_time": "2023-02-13T14:11:09.115Z"
   },
   {
    "duration": 5,
    "start_time": "2023-02-13T14:11:09.136Z"
   },
   {
    "duration": 8,
    "start_time": "2023-02-13T14:11:09.143Z"
   },
   {
    "duration": 132474,
    "start_time": "2023-02-13T14:11:09.153Z"
   },
   {
    "duration": 23,
    "start_time": "2023-02-13T14:13:21.629Z"
   },
   {
    "duration": 242,
    "start_time": "2023-02-13T14:13:21.654Z"
   },
   {
    "duration": 64,
    "start_time": "2023-02-13T14:13:21.898Z"
   },
   {
    "duration": 50,
    "start_time": "2023-02-13T14:13:21.964Z"
   },
   {
    "duration": 42,
    "start_time": "2023-02-13T14:13:22.016Z"
   },
   {
    "duration": 47,
    "start_time": "2023-02-13T14:13:22.059Z"
   },
   {
    "duration": 6,
    "start_time": "2023-02-13T14:13:22.107Z"
   },
   {
    "duration": 11,
    "start_time": "2023-02-13T14:13:22.114Z"
   },
   {
    "duration": 334,
    "start_time": "2023-02-13T14:13:22.127Z"
   },
   {
    "duration": 52,
    "start_time": "2023-02-13T14:13:22.464Z"
   },
   {
    "duration": 24,
    "start_time": "2023-02-13T14:13:22.518Z"
   },
   {
    "duration": 189,
    "start_time": "2023-02-13T14:13:22.544Z"
   },
   {
    "duration": 4,
    "start_time": "2023-02-13T14:13:22.735Z"
   },
   {
    "duration": 8,
    "start_time": "2023-02-13T14:13:22.741Z"
   },
   {
    "duration": 31,
    "start_time": "2023-02-13T14:13:22.751Z"
   },
   {
    "duration": 46,
    "start_time": "2023-02-13T14:13:22.784Z"
   },
   {
    "duration": 2667,
    "start_time": "2023-02-13T14:13:45.968Z"
   },
   {
    "duration": 258,
    "start_time": "2023-02-13T14:13:48.637Z"
   },
   {
    "duration": 2554,
    "start_time": "2023-02-13T14:13:48.897Z"
   },
   {
    "duration": 11,
    "start_time": "2023-02-13T14:13:51.453Z"
   },
   {
    "duration": 39,
    "start_time": "2023-02-13T14:13:51.467Z"
   },
   {
    "duration": 17,
    "start_time": "2023-02-13T14:13:51.509Z"
   },
   {
    "duration": 5,
    "start_time": "2023-02-13T14:13:51.527Z"
   },
   {
    "duration": 4,
    "start_time": "2023-02-13T14:13:51.534Z"
   },
   {
    "duration": 133064,
    "start_time": "2023-02-13T14:13:51.539Z"
   },
   {
    "duration": 22,
    "start_time": "2023-02-13T14:16:04.605Z"
   },
   {
    "duration": 10,
    "start_time": "2023-02-13T14:16:04.629Z"
   },
   {
    "duration": 69,
    "start_time": "2023-02-13T14:16:04.641Z"
   },
   {
    "duration": 33,
    "start_time": "2023-02-13T14:16:04.712Z"
   },
   {
    "duration": 55,
    "start_time": "2023-02-13T14:16:04.750Z"
   },
   {
    "duration": 31,
    "start_time": "2023-02-13T14:16:04.806Z"
   },
   {
    "duration": 8,
    "start_time": "2023-02-13T14:16:04.839Z"
   },
   {
    "duration": 9,
    "start_time": "2023-02-13T14:16:04.849Z"
   },
   {
    "duration": 365,
    "start_time": "2023-02-13T14:16:04.860Z"
   },
   {
    "duration": 34,
    "start_time": "2023-02-13T14:16:05.227Z"
   },
   {
    "duration": 22,
    "start_time": "2023-02-13T14:16:05.263Z"
   },
   {
    "duration": 189,
    "start_time": "2023-02-13T14:16:05.306Z"
   },
   {
    "duration": 7,
    "start_time": "2023-02-13T14:16:05.497Z"
   },
   {
    "duration": 12,
    "start_time": "2023-02-13T14:16:05.505Z"
   },
   {
    "duration": 26,
    "start_time": "2023-02-13T14:16:05.518Z"
   },
   {
    "duration": 39,
    "start_time": "2023-02-13T14:16:05.546Z"
   },
   {
    "duration": 5501,
    "start_time": "2023-02-13T14:16:05.587Z"
   },
   {
    "duration": 3,
    "start_time": "2023-02-13T14:16:11.090Z"
   },
   {
    "duration": 229018,
    "start_time": "2023-02-13T14:16:11.095Z"
   },
   {
    "duration": 171504,
    "start_time": "2023-02-13T14:20:00.115Z"
   },
   {
    "duration": 25701,
    "start_time": "2023-02-13T14:22:51.621Z"
   },
   {
    "duration": 3,
    "start_time": "2023-02-13T14:23:17.325Z"
   },
   {
    "duration": 79,
    "start_time": "2023-02-13T14:23:17.330Z"
   },
   {
    "duration": 93,
    "start_time": "2023-02-13T14:23:17.412Z"
   },
   {
    "duration": 4,
    "start_time": "2023-02-13T14:23:17.507Z"
   },
   {
    "duration": 17,
    "start_time": "2023-02-13T14:23:17.513Z"
   },
   {
    "duration": 872,
    "start_time": "2023-02-13T14:23:17.532Z"
   },
   {
    "duration": 5,
    "start_time": "2023-02-13T14:23:18.407Z"
   },
   {
    "duration": 2608,
    "start_time": "2023-02-13T14:24:41.789Z"
   },
   {
    "duration": 153,
    "start_time": "2023-02-13T14:24:44.399Z"
   },
   {
    "duration": 875,
    "start_time": "2023-02-13T14:24:44.554Z"
   },
   {
    "duration": 10,
    "start_time": "2023-02-13T14:24:45.431Z"
   },
   {
    "duration": 31,
    "start_time": "2023-02-13T14:24:45.442Z"
   },
   {
    "duration": 32,
    "start_time": "2023-02-13T14:24:45.474Z"
   },
   {
    "duration": 4,
    "start_time": "2023-02-13T14:24:45.508Z"
   },
   {
    "duration": 6,
    "start_time": "2023-02-13T14:24:45.514Z"
   },
   {
    "duration": 136806,
    "start_time": "2023-02-13T14:24:45.521Z"
   },
   {
    "duration": 23,
    "start_time": "2023-02-13T14:27:02.330Z"
   },
   {
    "duration": 22,
    "start_time": "2023-02-13T14:27:02.355Z"
   },
   {
    "duration": 79,
    "start_time": "2023-02-13T14:27:02.379Z"
   },
   {
    "duration": 33,
    "start_time": "2023-02-13T14:27:02.460Z"
   },
   {
    "duration": 41,
    "start_time": "2023-02-13T14:27:02.494Z"
   },
   {
    "duration": 31,
    "start_time": "2023-02-13T14:27:02.537Z"
   },
   {
    "duration": 6,
    "start_time": "2023-02-13T14:27:02.569Z"
   },
   {
    "duration": 33,
    "start_time": "2023-02-13T14:27:02.577Z"
   },
   {
    "duration": 323,
    "start_time": "2023-02-13T14:27:02.611Z"
   },
   {
    "duration": 33,
    "start_time": "2023-02-13T14:27:02.936Z"
   },
   {
    "duration": 33,
    "start_time": "2023-02-13T14:27:02.970Z"
   },
   {
    "duration": 176,
    "start_time": "2023-02-13T14:27:03.005Z"
   },
   {
    "duration": 4,
    "start_time": "2023-02-13T14:27:03.183Z"
   },
   {
    "duration": 16,
    "start_time": "2023-02-13T14:27:03.188Z"
   },
   {
    "duration": 29,
    "start_time": "2023-02-13T14:27:03.205Z"
   },
   {
    "duration": 38,
    "start_time": "2023-02-13T14:27:03.236Z"
   },
   {
    "duration": 4133,
    "start_time": "2023-02-13T14:27:03.276Z"
   },
   {
    "duration": 4,
    "start_time": "2023-02-13T14:27:07.410Z"
   },
   {
    "duration": 168206,
    "start_time": "2023-02-13T14:27:07.418Z"
   },
   {
    "duration": 86820,
    "start_time": "2023-02-13T14:29:55.703Z"
   },
   {
    "duration": 18890,
    "start_time": "2023-02-13T14:31:22.526Z"
   },
   {
    "duration": 5,
    "start_time": "2023-02-13T14:31:41.417Z"
   },
   {
    "duration": 85,
    "start_time": "2023-02-13T14:31:41.424Z"
   },
   {
    "duration": 14,
    "start_time": "2023-02-13T14:31:41.511Z"
   },
   {
    "duration": 77,
    "start_time": "2023-02-13T14:31:41.527Z"
   },
   {
    "duration": 3,
    "start_time": "2023-02-13T14:31:41.606Z"
   },
   {
    "duration": 693,
    "start_time": "2023-02-13T14:31:41.611Z"
   },
   {
    "duration": 5,
    "start_time": "2023-02-13T14:31:42.306Z"
   },
   {
    "duration": 7,
    "start_time": "2023-02-13T14:31:42.313Z"
   }
  ],
  "kernelspec": {
   "display_name": "Python 3 (ipykernel)",
   "language": "python",
   "name": "python3"
  },
  "language_info": {
   "codemirror_mode": {
    "name": "ipython",
    "version": 3
   },
   "file_extension": ".py",
   "mimetype": "text/x-python",
   "name": "python",
   "nbconvert_exporter": "python",
   "pygments_lexer": "ipython3",
   "version": "3.10.4"
  },
  "toc": {
   "base_numbering": 1,
   "nav_menu": {},
   "number_sections": true,
   "sideBar": true,
   "skip_h1_title": true,
   "title_cell": "Содержание",
   "title_sidebar": "Contents",
   "toc_cell": true,
   "toc_position": {
    "height": "calc(100% - 180px)",
    "left": "10px",
    "top": "150px",
    "width": "302.391px"
   },
   "toc_section_display": true,
   "toc_window_display": false
  }
 },
 "nbformat": 4,
 "nbformat_minor": 2
}
