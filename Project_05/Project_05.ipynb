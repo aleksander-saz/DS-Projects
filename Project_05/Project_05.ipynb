{
 "cells": [
  {
   "attachments": {},
   "cell_type": "markdown",
   "metadata": {},
   "source": [
    "### Survey of the mobile operator plans\n",
    "\n",
    "Company \"Megaline\" - Federal Mobile operator rolls out new mobile plans - \"Smart\" and \"Ultra\". Based on the provided data from mobile operator it's required to analyze two plans and client's behavior to understand what plan would bring higher income to the company. \n",
    "\n",
    "The tasks are following:\n",
    "- Import the data, and conduct overview analysis;\n",
    "- Prepare data fo the further analysis;\n",
    "- Define the distribution type of data on both plans for internet, messages and minutes usage, find the expected mean value, dispersion and standard deviation.\n",
    "- Test the hypotheses;\n",
    "- Make the conclusion on the conduct data analysis."
   ]
  },
  {
   "cell_type": "markdown",
   "metadata": {},
   "source": [
    "## Data Import"
   ]
  },
  {
   "cell_type": "code",
   "execution_count": 1,
   "metadata": {},
   "outputs": [],
   "source": [
    "import pandas as pd\n",
    "import math\n",
    "import pylab as pl\n",
    "import numpy as np\n",
    "from scipy import stats as st"
   ]
  },
  {
   "cell_type": "markdown",
   "metadata": {},
   "source": [
    "**Data import and overview**\n"
   ]
  },
  {
   "cell_type": "code",
   "execution_count": 2,
   "metadata": {},
   "outputs": [
    {
     "data": {
      "text/html": [
       "<div>\n",
       "<style scoped>\n",
       "    .dataframe tbody tr th:only-of-type {\n",
       "        vertical-align: middle;\n",
       "    }\n",
       "\n",
       "    .dataframe tbody tr th {\n",
       "        vertical-align: top;\n",
       "    }\n",
       "\n",
       "    .dataframe thead th {\n",
       "        text-align: right;\n",
       "    }\n",
       "</style>\n",
       "<table border=\"1\" class=\"dataframe\">\n",
       "  <thead>\n",
       "    <tr style=\"text-align: right;\">\n",
       "      <th></th>\n",
       "      <th>id</th>\n",
       "      <th>call_date</th>\n",
       "      <th>duration</th>\n",
       "      <th>user_id</th>\n",
       "    </tr>\n",
       "  </thead>\n",
       "  <tbody>\n",
       "    <tr>\n",
       "      <th>0</th>\n",
       "      <td>1000_0</td>\n",
       "      <td>2018-07-25</td>\n",
       "      <td>0.00</td>\n",
       "      <td>1000</td>\n",
       "    </tr>\n",
       "    <tr>\n",
       "      <th>1</th>\n",
       "      <td>1000_1</td>\n",
       "      <td>2018-08-17</td>\n",
       "      <td>0.00</td>\n",
       "      <td>1000</td>\n",
       "    </tr>\n",
       "    <tr>\n",
       "      <th>2</th>\n",
       "      <td>1000_2</td>\n",
       "      <td>2018-06-11</td>\n",
       "      <td>2.85</td>\n",
       "      <td>1000</td>\n",
       "    </tr>\n",
       "    <tr>\n",
       "      <th>3</th>\n",
       "      <td>1000_3</td>\n",
       "      <td>2018-09-21</td>\n",
       "      <td>13.80</td>\n",
       "      <td>1000</td>\n",
       "    </tr>\n",
       "    <tr>\n",
       "      <th>4</th>\n",
       "      <td>1000_4</td>\n",
       "      <td>2018-12-15</td>\n",
       "      <td>5.18</td>\n",
       "      <td>1000</td>\n",
       "    </tr>\n",
       "  </tbody>\n",
       "</table>\n",
       "</div>"
      ],
      "text/plain": [
       "       id   call_date  duration  user_id\n",
       "0  1000_0  2018-07-25      0.00     1000\n",
       "1  1000_1  2018-08-17      0.00     1000\n",
       "2  1000_2  2018-06-11      2.85     1000\n",
       "3  1000_3  2018-09-21     13.80     1000\n",
       "4  1000_4  2018-12-15      5.18     1000"
      ]
     },
     "execution_count": 2,
     "metadata": {},
     "output_type": "execute_result"
    }
   ],
   "source": [
    "calls = pd.read_csv('calls.csv')\n",
    "\n",
    "calls.head()"
   ]
  },
  {
   "cell_type": "code",
   "execution_count": 3,
   "metadata": {
    "scrolled": true
   },
   "outputs": [
    {
     "name": "stdout",
     "output_type": "stream",
     "text": [
      "<class 'pandas.core.frame.DataFrame'>\n",
      "RangeIndex: 202607 entries, 0 to 202606\n",
      "Data columns (total 4 columns):\n",
      " #   Column     Non-Null Count   Dtype  \n",
      "---  ------     --------------   -----  \n",
      " 0   id         202607 non-null  object \n",
      " 1   call_date  202607 non-null  object \n",
      " 2   duration   202607 non-null  float64\n",
      " 3   user_id    202607 non-null  int64  \n",
      "dtypes: float64(1), int64(1), object(2)\n",
      "memory usage: 6.2+ MB\n"
     ]
    }
   ],
   "source": [
    "calls.info()"
   ]
  },
  {
   "cell_type": "code",
   "execution_count": 4,
   "metadata": {},
   "outputs": [],
   "source": [
    "# changing of datatype of column call_date\n",
    "calls['call_date'] = pd.to_datetime(calls['call_date'],format='%Y-%m-%d')"
   ]
  },
  {
   "cell_type": "code",
   "execution_count": 5,
   "metadata": {},
   "outputs": [
    {
     "data": {
      "text/html": [
       "<div>\n",
       "<style scoped>\n",
       "    .dataframe tbody tr th:only-of-type {\n",
       "        vertical-align: middle;\n",
       "    }\n",
       "\n",
       "    .dataframe tbody tr th {\n",
       "        vertical-align: top;\n",
       "    }\n",
       "\n",
       "    .dataframe thead th {\n",
       "        text-align: right;\n",
       "    }\n",
       "</style>\n",
       "<table border=\"1\" class=\"dataframe\">\n",
       "  <thead>\n",
       "    <tr style=\"text-align: right;\">\n",
       "      <th></th>\n",
       "      <th>id</th>\n",
       "      <th>mb_used</th>\n",
       "      <th>session_date</th>\n",
       "      <th>user_id</th>\n",
       "    </tr>\n",
       "  </thead>\n",
       "  <tbody>\n",
       "    <tr>\n",
       "      <th>0</th>\n",
       "      <td>1000_0</td>\n",
       "      <td>112.95</td>\n",
       "      <td>2018-11-25</td>\n",
       "      <td>1000</td>\n",
       "    </tr>\n",
       "    <tr>\n",
       "      <th>1</th>\n",
       "      <td>1000_1</td>\n",
       "      <td>1052.81</td>\n",
       "      <td>2018-09-07</td>\n",
       "      <td>1000</td>\n",
       "    </tr>\n",
       "    <tr>\n",
       "      <th>2</th>\n",
       "      <td>1000_2</td>\n",
       "      <td>1197.26</td>\n",
       "      <td>2018-06-25</td>\n",
       "      <td>1000</td>\n",
       "    </tr>\n",
       "    <tr>\n",
       "      <th>3</th>\n",
       "      <td>1000_3</td>\n",
       "      <td>550.27</td>\n",
       "      <td>2018-08-22</td>\n",
       "      <td>1000</td>\n",
       "    </tr>\n",
       "    <tr>\n",
       "      <th>4</th>\n",
       "      <td>1000_4</td>\n",
       "      <td>302.56</td>\n",
       "      <td>2018-09-24</td>\n",
       "      <td>1000</td>\n",
       "    </tr>\n",
       "  </tbody>\n",
       "</table>\n",
       "</div>"
      ],
      "text/plain": [
       "       id  mb_used session_date  user_id\n",
       "0  1000_0   112.95   2018-11-25     1000\n",
       "1  1000_1  1052.81   2018-09-07     1000\n",
       "2  1000_2  1197.26   2018-06-25     1000\n",
       "3  1000_3   550.27   2018-08-22     1000\n",
       "4  1000_4   302.56   2018-09-24     1000"
      ]
     },
     "execution_count": 5,
     "metadata": {},
     "output_type": "execute_result"
    }
   ],
   "source": [
    "internet = pd.read_csv('internet.csv',index_col=[0] )\n",
    "\n",
    "internet.head()"
   ]
  },
  {
   "cell_type": "code",
   "execution_count": 6,
   "metadata": {},
   "outputs": [
    {
     "name": "stdout",
     "output_type": "stream",
     "text": [
      "<class 'pandas.core.frame.DataFrame'>\n",
      "Int64Index: 149396 entries, 0 to 149395\n",
      "Data columns (total 4 columns):\n",
      " #   Column        Non-Null Count   Dtype  \n",
      "---  ------        --------------   -----  \n",
      " 0   id            149396 non-null  object \n",
      " 1   mb_used       149396 non-null  float64\n",
      " 2   session_date  149396 non-null  object \n",
      " 3   user_id       149396 non-null  int64  \n",
      "dtypes: float64(1), int64(1), object(2)\n",
      "memory usage: 5.7+ MB\n"
     ]
    }
   ],
   "source": [
    "internet.info()"
   ]
  },
  {
   "cell_type": "code",
   "execution_count": 7,
   "metadata": {},
   "outputs": [],
   "source": [
    "# changing of datatype of column session_date\n",
    "internet['session_date'] = pd.to_datetime(internet['session_date'],format='%Y-%m-%d')"
   ]
  },
  {
   "cell_type": "code",
   "execution_count": 8,
   "metadata": {},
   "outputs": [
    {
     "data": {
      "text/html": [
       "<div>\n",
       "<style scoped>\n",
       "    .dataframe tbody tr th:only-of-type {\n",
       "        vertical-align: middle;\n",
       "    }\n",
       "\n",
       "    .dataframe tbody tr th {\n",
       "        vertical-align: top;\n",
       "    }\n",
       "\n",
       "    .dataframe thead th {\n",
       "        text-align: right;\n",
       "    }\n",
       "</style>\n",
       "<table border=\"1\" class=\"dataframe\">\n",
       "  <thead>\n",
       "    <tr style=\"text-align: right;\">\n",
       "      <th></th>\n",
       "      <th>messages_included</th>\n",
       "      <th>mb_per_month_included</th>\n",
       "      <th>minutes_included</th>\n",
       "      <th>rub_monthly_fee</th>\n",
       "      <th>rub_per_gb</th>\n",
       "      <th>rub_per_message</th>\n",
       "      <th>rub_per_minute</th>\n",
       "      <th>tariff_name</th>\n",
       "    </tr>\n",
       "  </thead>\n",
       "  <tbody>\n",
       "    <tr>\n",
       "      <th>0</th>\n",
       "      <td>50</td>\n",
       "      <td>15360</td>\n",
       "      <td>500</td>\n",
       "      <td>550</td>\n",
       "      <td>200</td>\n",
       "      <td>3</td>\n",
       "      <td>3</td>\n",
       "      <td>smart</td>\n",
       "    </tr>\n",
       "    <tr>\n",
       "      <th>1</th>\n",
       "      <td>1000</td>\n",
       "      <td>30720</td>\n",
       "      <td>3000</td>\n",
       "      <td>1950</td>\n",
       "      <td>150</td>\n",
       "      <td>1</td>\n",
       "      <td>1</td>\n",
       "      <td>ultra</td>\n",
       "    </tr>\n",
       "  </tbody>\n",
       "</table>\n",
       "</div>"
      ],
      "text/plain": [
       "   messages_included  mb_per_month_included  minutes_included  \\\n",
       "0                 50                  15360               500   \n",
       "1               1000                  30720              3000   \n",
       "\n",
       "   rub_monthly_fee  rub_per_gb  rub_per_message  rub_per_minute tariff_name  \n",
       "0              550         200                3               3       smart  \n",
       "1             1950         150                1               1       ultra  "
      ]
     },
     "execution_count": 8,
     "metadata": {},
     "output_type": "execute_result"
    }
   ],
   "source": [
    "tariffs = pd.read_csv('tariffs.csv')\n",
    "\n",
    "tariffs.head()"
   ]
  },
  {
   "cell_type": "code",
   "execution_count": 9,
   "metadata": {
    "scrolled": true
   },
   "outputs": [
    {
     "data": {
      "text/html": [
       "<div>\n",
       "<style scoped>\n",
       "    .dataframe tbody tr th:only-of-type {\n",
       "        vertical-align: middle;\n",
       "    }\n",
       "\n",
       "    .dataframe tbody tr th {\n",
       "        vertical-align: top;\n",
       "    }\n",
       "\n",
       "    .dataframe thead th {\n",
       "        text-align: right;\n",
       "    }\n",
       "</style>\n",
       "<table border=\"1\" class=\"dataframe\">\n",
       "  <thead>\n",
       "    <tr style=\"text-align: right;\">\n",
       "      <th></th>\n",
       "      <th>user_id</th>\n",
       "      <th>age</th>\n",
       "      <th>churn_date</th>\n",
       "      <th>city</th>\n",
       "      <th>first_name</th>\n",
       "      <th>last_name</th>\n",
       "      <th>reg_date</th>\n",
       "      <th>tariff</th>\n",
       "    </tr>\n",
       "  </thead>\n",
       "  <tbody>\n",
       "    <tr>\n",
       "      <th>0</th>\n",
       "      <td>1000</td>\n",
       "      <td>52</td>\n",
       "      <td>NaN</td>\n",
       "      <td>Краснодар</td>\n",
       "      <td>Рафаил</td>\n",
       "      <td>Верещагин</td>\n",
       "      <td>2018-05-25</td>\n",
       "      <td>ultra</td>\n",
       "    </tr>\n",
       "    <tr>\n",
       "      <th>1</th>\n",
       "      <td>1001</td>\n",
       "      <td>41</td>\n",
       "      <td>NaN</td>\n",
       "      <td>Москва</td>\n",
       "      <td>Иван</td>\n",
       "      <td>Ежов</td>\n",
       "      <td>2018-11-01</td>\n",
       "      <td>smart</td>\n",
       "    </tr>\n",
       "    <tr>\n",
       "      <th>2</th>\n",
       "      <td>1002</td>\n",
       "      <td>59</td>\n",
       "      <td>NaN</td>\n",
       "      <td>Стерлитамак</td>\n",
       "      <td>Евгений</td>\n",
       "      <td>Абрамович</td>\n",
       "      <td>2018-06-17</td>\n",
       "      <td>smart</td>\n",
       "    </tr>\n",
       "    <tr>\n",
       "      <th>3</th>\n",
       "      <td>1003</td>\n",
       "      <td>23</td>\n",
       "      <td>NaN</td>\n",
       "      <td>Москва</td>\n",
       "      <td>Белла</td>\n",
       "      <td>Белякова</td>\n",
       "      <td>2018-08-17</td>\n",
       "      <td>ultra</td>\n",
       "    </tr>\n",
       "    <tr>\n",
       "      <th>4</th>\n",
       "      <td>1004</td>\n",
       "      <td>68</td>\n",
       "      <td>NaN</td>\n",
       "      <td>Новокузнецк</td>\n",
       "      <td>Татьяна</td>\n",
       "      <td>Авдеенко</td>\n",
       "      <td>2018-05-14</td>\n",
       "      <td>ultra</td>\n",
       "    </tr>\n",
       "  </tbody>\n",
       "</table>\n",
       "</div>"
      ],
      "text/plain": [
       "   user_id  age churn_date         city first_name  last_name    reg_date  \\\n",
       "0     1000   52        NaN    Краснодар     Рафаил  Верещагин  2018-05-25   \n",
       "1     1001   41        NaN       Москва       Иван       Ежов  2018-11-01   \n",
       "2     1002   59        NaN  Стерлитамак    Евгений  Абрамович  2018-06-17   \n",
       "3     1003   23        NaN       Москва      Белла   Белякова  2018-08-17   \n",
       "4     1004   68        NaN  Новокузнецк    Татьяна   Авдеенко  2018-05-14   \n",
       "\n",
       "  tariff  \n",
       "0  ultra  \n",
       "1  smart  \n",
       "2  smart  \n",
       "3  ultra  \n",
       "4  ultra  "
      ]
     },
     "execution_count": 9,
     "metadata": {},
     "output_type": "execute_result"
    }
   ],
   "source": [
    "users = pd.read_csv('users.csv')\n",
    "\n",
    "users.head()"
   ]
  },
  {
   "cell_type": "code",
   "execution_count": 10,
   "metadata": {},
   "outputs": [
    {
     "name": "stdout",
     "output_type": "stream",
     "text": [
      "<class 'pandas.core.frame.DataFrame'>\n",
      "RangeIndex: 500 entries, 0 to 499\n",
      "Data columns (total 8 columns):\n",
      " #   Column      Non-Null Count  Dtype \n",
      "---  ------      --------------  ----- \n",
      " 0   user_id     500 non-null    int64 \n",
      " 1   age         500 non-null    int64 \n",
      " 2   churn_date  38 non-null     object\n",
      " 3   city        500 non-null    object\n",
      " 4   first_name  500 non-null    object\n",
      " 5   last_name   500 non-null    object\n",
      " 6   reg_date    500 non-null    object\n",
      " 7   tariff      500 non-null    object\n",
      "dtypes: int64(2), object(6)\n",
      "memory usage: 31.4+ KB\n"
     ]
    }
   ],
   "source": [
    "users.info()"
   ]
  },
  {
   "cell_type": "code",
   "execution_count": 11,
   "metadata": {
    "scrolled": true
   },
   "outputs": [
    {
     "data": {
      "text/html": [
       "<div>\n",
       "<style scoped>\n",
       "    .dataframe tbody tr th:only-of-type {\n",
       "        vertical-align: middle;\n",
       "    }\n",
       "\n",
       "    .dataframe tbody tr th {\n",
       "        vertical-align: top;\n",
       "    }\n",
       "\n",
       "    .dataframe thead th {\n",
       "        text-align: right;\n",
       "    }\n",
       "</style>\n",
       "<table border=\"1\" class=\"dataframe\">\n",
       "  <thead>\n",
       "    <tr style=\"text-align: right;\">\n",
       "      <th></th>\n",
       "      <th>id</th>\n",
       "      <th>message_date</th>\n",
       "      <th>user_id</th>\n",
       "    </tr>\n",
       "  </thead>\n",
       "  <tbody>\n",
       "    <tr>\n",
       "      <th>0</th>\n",
       "      <td>1000_0</td>\n",
       "      <td>2018-06-27</td>\n",
       "      <td>1000</td>\n",
       "    </tr>\n",
       "    <tr>\n",
       "      <th>1</th>\n",
       "      <td>1000_1</td>\n",
       "      <td>2018-10-08</td>\n",
       "      <td>1000</td>\n",
       "    </tr>\n",
       "    <tr>\n",
       "      <th>2</th>\n",
       "      <td>1000_2</td>\n",
       "      <td>2018-08-04</td>\n",
       "      <td>1000</td>\n",
       "    </tr>\n",
       "    <tr>\n",
       "      <th>3</th>\n",
       "      <td>1000_3</td>\n",
       "      <td>2018-06-16</td>\n",
       "      <td>1000</td>\n",
       "    </tr>\n",
       "    <tr>\n",
       "      <th>4</th>\n",
       "      <td>1000_4</td>\n",
       "      <td>2018-12-05</td>\n",
       "      <td>1000</td>\n",
       "    </tr>\n",
       "  </tbody>\n",
       "</table>\n",
       "</div>"
      ],
      "text/plain": [
       "       id message_date  user_id\n",
       "0  1000_0   2018-06-27     1000\n",
       "1  1000_1   2018-10-08     1000\n",
       "2  1000_2   2018-08-04     1000\n",
       "3  1000_3   2018-06-16     1000\n",
       "4  1000_4   2018-12-05     1000"
      ]
     },
     "execution_count": 11,
     "metadata": {},
     "output_type": "execute_result"
    }
   ],
   "source": [
    "messages = pd.read_csv('messages.csv')\n",
    "\n",
    "messages.head()"
   ]
  },
  {
   "cell_type": "code",
   "execution_count": 12,
   "metadata": {},
   "outputs": [
    {
     "name": "stdout",
     "output_type": "stream",
     "text": [
      "<class 'pandas.core.frame.DataFrame'>\n",
      "RangeIndex: 123036 entries, 0 to 123035\n",
      "Data columns (total 3 columns):\n",
      " #   Column        Non-Null Count   Dtype \n",
      "---  ------        --------------   ----- \n",
      " 0   id            123036 non-null  object\n",
      " 1   message_date  123036 non-null  object\n",
      " 2   user_id       123036 non-null  int64 \n",
      "dtypes: int64(1), object(2)\n",
      "memory usage: 2.8+ MB\n"
     ]
    }
   ],
   "source": [
    "messages.info()"
   ]
  },
  {
   "cell_type": "code",
   "execution_count": 13,
   "metadata": {},
   "outputs": [],
   "source": [
    "messages['message_date'] = pd.to_datetime(messages['message_date'] ,format='%Y-%m-%d')"
   ]
  },
  {
   "attachments": {},
   "cell_type": "markdown",
   "metadata": {},
   "source": [
    "**Data import and overview conclusion**\n",
    "\n",
    "Five datasets were imported: calls, tariffs, internet, users and messages;\n",
    "\n",
    "1) calls dataset has 202607 rows and 4 columns: user id, call date, call id, duration;\n",
    "\n",
    "2) tarrifs dataset - 2 rows (two plans - ultra and smart) and 8 columns:\n",
    "- messages_included\t;\n",
    "- mb_per_month_included\t;\n",
    "- minutes_included\t;\n",
    "- rub_monthly_fee (monthly payment);\n",
    "- rub_per_gb\t(in case of exceeding monthly package);\n",
    "- rub_per_message\t(in case of exceeding monthly package);\n",
    "- rub_per_minute\t(in case of exceeding monthly package);\n",
    "- tariff_name;\n",
    "\n",
    "3) internet dataset has 149396 rows and 4 columns - session id,\tmb_used,session_date, user_id;\n",
    "\n",
    "4) users dataset has 500 rows and following columns:\n",
    "- client age;       \n",
    "- churn_date;\n",
    "- client city;      \n",
    "- first_name;\n",
    "- last_name;\n",
    "- reg_date;\n",
    "- tariff (plans);\n",
    "\n",
    "5) messages dataset has 123036 rows and 3 columns with information on message id, user id and message date."
   ]
  },
  {
   "cell_type": "markdown",
   "metadata": {},
   "source": [
    "## Data Preparation"
   ]
  },
  {
   "cell_type": "markdown",
   "metadata": {},
   "source": [
    "### Dataset merging and data preparation"
   ]
  },
  {
   "cell_type": "markdown",
   "metadata": {},
   "source": [
    "**Calculation of total quantity of messages per month**"
   ]
  },
  {
   "cell_type": "code",
   "execution_count": 14,
   "metadata": {},
   "outputs": [
    {
     "data": {
      "text/html": [
       "<div>\n",
       "<style scoped>\n",
       "    .dataframe tbody tr th:only-of-type {\n",
       "        vertical-align: middle;\n",
       "    }\n",
       "\n",
       "    .dataframe tbody tr th {\n",
       "        vertical-align: top;\n",
       "    }\n",
       "\n",
       "    .dataframe thead th {\n",
       "        text-align: right;\n",
       "    }\n",
       "</style>\n",
       "<table border=\"1\" class=\"dataframe\">\n",
       "  <thead>\n",
       "    <tr style=\"text-align: right;\">\n",
       "      <th></th>\n",
       "      <th>id</th>\n",
       "      <th>message_date</th>\n",
       "      <th>user_id</th>\n",
       "      <th>month</th>\n",
       "    </tr>\n",
       "  </thead>\n",
       "  <tbody>\n",
       "    <tr>\n",
       "      <th>0</th>\n",
       "      <td>1000_0</td>\n",
       "      <td>2018-06-27</td>\n",
       "      <td>1000</td>\n",
       "      <td>6</td>\n",
       "    </tr>\n",
       "    <tr>\n",
       "      <th>1</th>\n",
       "      <td>1000_1</td>\n",
       "      <td>2018-10-08</td>\n",
       "      <td>1000</td>\n",
       "      <td>10</td>\n",
       "    </tr>\n",
       "    <tr>\n",
       "      <th>2</th>\n",
       "      <td>1000_2</td>\n",
       "      <td>2018-08-04</td>\n",
       "      <td>1000</td>\n",
       "      <td>8</td>\n",
       "    </tr>\n",
       "    <tr>\n",
       "      <th>3</th>\n",
       "      <td>1000_3</td>\n",
       "      <td>2018-06-16</td>\n",
       "      <td>1000</td>\n",
       "      <td>6</td>\n",
       "    </tr>\n",
       "    <tr>\n",
       "      <th>4</th>\n",
       "      <td>1000_4</td>\n",
       "      <td>2018-12-05</td>\n",
       "      <td>1000</td>\n",
       "      <td>12</td>\n",
       "    </tr>\n",
       "    <tr>\n",
       "      <th>...</th>\n",
       "      <td>...</td>\n",
       "      <td>...</td>\n",
       "      <td>...</td>\n",
       "      <td>...</td>\n",
       "    </tr>\n",
       "    <tr>\n",
       "      <th>123031</th>\n",
       "      <td>1499_179</td>\n",
       "      <td>2018-12-12</td>\n",
       "      <td>1499</td>\n",
       "      <td>12</td>\n",
       "    </tr>\n",
       "    <tr>\n",
       "      <th>123032</th>\n",
       "      <td>1499_180</td>\n",
       "      <td>2018-09-28</td>\n",
       "      <td>1499</td>\n",
       "      <td>9</td>\n",
       "    </tr>\n",
       "    <tr>\n",
       "      <th>123033</th>\n",
       "      <td>1499_181</td>\n",
       "      <td>2018-09-27</td>\n",
       "      <td>1499</td>\n",
       "      <td>9</td>\n",
       "    </tr>\n",
       "    <tr>\n",
       "      <th>123034</th>\n",
       "      <td>1499_182</td>\n",
       "      <td>2018-11-15</td>\n",
       "      <td>1499</td>\n",
       "      <td>11</td>\n",
       "    </tr>\n",
       "    <tr>\n",
       "      <th>123035</th>\n",
       "      <td>1499_183</td>\n",
       "      <td>2018-11-16</td>\n",
       "      <td>1499</td>\n",
       "      <td>11</td>\n",
       "    </tr>\n",
       "  </tbody>\n",
       "</table>\n",
       "<p>123036 rows × 4 columns</p>\n",
       "</div>"
      ],
      "text/plain": [
       "              id message_date  user_id  month\n",
       "0         1000_0   2018-06-27     1000      6\n",
       "1         1000_1   2018-10-08     1000     10\n",
       "2         1000_2   2018-08-04     1000      8\n",
       "3         1000_3   2018-06-16     1000      6\n",
       "4         1000_4   2018-12-05     1000     12\n",
       "...          ...          ...      ...    ...\n",
       "123031  1499_179   2018-12-12     1499     12\n",
       "123032  1499_180   2018-09-28     1499      9\n",
       "123033  1499_181   2018-09-27     1499      9\n",
       "123034  1499_182   2018-11-15     1499     11\n",
       "123035  1499_183   2018-11-16     1499     11\n",
       "\n",
       "[123036 rows x 4 columns]"
      ]
     },
     "execution_count": 14,
     "metadata": {},
     "output_type": "execute_result"
    }
   ],
   "source": [
    "messages['month'] = messages['message_date'].dt.month\n",
    "messages['month'] = messages['month'].astype(int)\n",
    "messages"
   ]
  },
  {
   "cell_type": "code",
   "execution_count": 15,
   "metadata": {
    "scrolled": false
   },
   "outputs": [
    {
     "data": {
      "text/html": [
       "<div>\n",
       "<style scoped>\n",
       "    .dataframe tbody tr th:only-of-type {\n",
       "        vertical-align: middle;\n",
       "    }\n",
       "\n",
       "    .dataframe tbody tr th {\n",
       "        vertical-align: top;\n",
       "    }\n",
       "\n",
       "    .dataframe thead th {\n",
       "        text-align: right;\n",
       "    }\n",
       "</style>\n",
       "<table border=\"1\" class=\"dataframe\">\n",
       "  <thead>\n",
       "    <tr style=\"text-align: right;\">\n",
       "      <th></th>\n",
       "      <th>user_id</th>\n",
       "      <th>month</th>\n",
       "      <th>message_date</th>\n",
       "    </tr>\n",
       "  </thead>\n",
       "  <tbody>\n",
       "    <tr>\n",
       "      <th>0</th>\n",
       "      <td>1000</td>\n",
       "      <td>5</td>\n",
       "      <td>22</td>\n",
       "    </tr>\n",
       "    <tr>\n",
       "      <th>1</th>\n",
       "      <td>1000</td>\n",
       "      <td>6</td>\n",
       "      <td>60</td>\n",
       "    </tr>\n",
       "    <tr>\n",
       "      <th>2</th>\n",
       "      <td>1000</td>\n",
       "      <td>7</td>\n",
       "      <td>75</td>\n",
       "    </tr>\n",
       "    <tr>\n",
       "      <th>3</th>\n",
       "      <td>1000</td>\n",
       "      <td>8</td>\n",
       "      <td>81</td>\n",
       "    </tr>\n",
       "    <tr>\n",
       "      <th>4</th>\n",
       "      <td>1000</td>\n",
       "      <td>9</td>\n",
       "      <td>57</td>\n",
       "    </tr>\n",
       "    <tr>\n",
       "      <th>...</th>\n",
       "      <td>...</td>\n",
       "      <td>...</td>\n",
       "      <td>...</td>\n",
       "    </tr>\n",
       "    <tr>\n",
       "      <th>2712</th>\n",
       "      <td>1498</td>\n",
       "      <td>10</td>\n",
       "      <td>42</td>\n",
       "    </tr>\n",
       "    <tr>\n",
       "      <th>2713</th>\n",
       "      <td>1499</td>\n",
       "      <td>9</td>\n",
       "      <td>11</td>\n",
       "    </tr>\n",
       "    <tr>\n",
       "      <th>2714</th>\n",
       "      <td>1499</td>\n",
       "      <td>10</td>\n",
       "      <td>48</td>\n",
       "    </tr>\n",
       "    <tr>\n",
       "      <th>2715</th>\n",
       "      <td>1499</td>\n",
       "      <td>11</td>\n",
       "      <td>59</td>\n",
       "    </tr>\n",
       "    <tr>\n",
       "      <th>2716</th>\n",
       "      <td>1499</td>\n",
       "      <td>12</td>\n",
       "      <td>66</td>\n",
       "    </tr>\n",
       "  </tbody>\n",
       "</table>\n",
       "<p>2717 rows × 3 columns</p>\n",
       "</div>"
      ],
      "text/plain": [
       "      user_id  month  message_date\n",
       "0        1000      5            22\n",
       "1        1000      6            60\n",
       "2        1000      7            75\n",
       "3        1000      8            81\n",
       "4        1000      9            57\n",
       "...       ...    ...           ...\n",
       "2712     1498     10            42\n",
       "2713     1499      9            11\n",
       "2714     1499     10            48\n",
       "2715     1499     11            59\n",
       "2716     1499     12            66\n",
       "\n",
       "[2717 rows x 3 columns]"
      ]
     },
     "execution_count": 15,
     "metadata": {},
     "output_type": "execute_result"
    }
   ],
   "source": [
    "messages_months = messages.groupby(['user_id','month']).count().reset_index()\n",
    "messages_months = messages_months.drop(columns = 'id')\n",
    "messages_months"
   ]
  },
  {
   "attachments": {},
   "cell_type": "markdown",
   "metadata": {},
   "source": [
    "**Calculation of total quantity of spent minutes per month**"
   ]
  },
  {
   "cell_type": "code",
   "execution_count": 16,
   "metadata": {},
   "outputs": [
    {
     "data": {
      "text/html": [
       "<div>\n",
       "<style scoped>\n",
       "    .dataframe tbody tr th:only-of-type {\n",
       "        vertical-align: middle;\n",
       "    }\n",
       "\n",
       "    .dataframe tbody tr th {\n",
       "        vertical-align: top;\n",
       "    }\n",
       "\n",
       "    .dataframe thead th {\n",
       "        text-align: right;\n",
       "    }\n",
       "</style>\n",
       "<table border=\"1\" class=\"dataframe\">\n",
       "  <thead>\n",
       "    <tr style=\"text-align: right;\">\n",
       "      <th></th>\n",
       "      <th>id</th>\n",
       "      <th>call_date</th>\n",
       "      <th>duration</th>\n",
       "      <th>user_id</th>\n",
       "      <th>month</th>\n",
       "    </tr>\n",
       "  </thead>\n",
       "  <tbody>\n",
       "    <tr>\n",
       "      <th>0</th>\n",
       "      <td>1000_0</td>\n",
       "      <td>2018-07-25</td>\n",
       "      <td>0.00</td>\n",
       "      <td>1000</td>\n",
       "      <td>7</td>\n",
       "    </tr>\n",
       "    <tr>\n",
       "      <th>1</th>\n",
       "      <td>1000_1</td>\n",
       "      <td>2018-08-17</td>\n",
       "      <td>0.00</td>\n",
       "      <td>1000</td>\n",
       "      <td>8</td>\n",
       "    </tr>\n",
       "    <tr>\n",
       "      <th>2</th>\n",
       "      <td>1000_2</td>\n",
       "      <td>2018-06-11</td>\n",
       "      <td>2.85</td>\n",
       "      <td>1000</td>\n",
       "      <td>6</td>\n",
       "    </tr>\n",
       "    <tr>\n",
       "      <th>3</th>\n",
       "      <td>1000_3</td>\n",
       "      <td>2018-09-21</td>\n",
       "      <td>13.80</td>\n",
       "      <td>1000</td>\n",
       "      <td>9</td>\n",
       "    </tr>\n",
       "    <tr>\n",
       "      <th>4</th>\n",
       "      <td>1000_4</td>\n",
       "      <td>2018-12-15</td>\n",
       "      <td>5.18</td>\n",
       "      <td>1000</td>\n",
       "      <td>12</td>\n",
       "    </tr>\n",
       "    <tr>\n",
       "      <th>...</th>\n",
       "      <td>...</td>\n",
       "      <td>...</td>\n",
       "      <td>...</td>\n",
       "      <td>...</td>\n",
       "      <td>...</td>\n",
       "    </tr>\n",
       "    <tr>\n",
       "      <th>202602</th>\n",
       "      <td>1499_215</td>\n",
       "      <td>2018-12-26</td>\n",
       "      <td>0.76</td>\n",
       "      <td>1499</td>\n",
       "      <td>12</td>\n",
       "    </tr>\n",
       "    <tr>\n",
       "      <th>202603</th>\n",
       "      <td>1499_216</td>\n",
       "      <td>2018-10-18</td>\n",
       "      <td>18.83</td>\n",
       "      <td>1499</td>\n",
       "      <td>10</td>\n",
       "    </tr>\n",
       "    <tr>\n",
       "      <th>202604</th>\n",
       "      <td>1499_217</td>\n",
       "      <td>2018-11-10</td>\n",
       "      <td>10.81</td>\n",
       "      <td>1499</td>\n",
       "      <td>11</td>\n",
       "    </tr>\n",
       "    <tr>\n",
       "      <th>202605</th>\n",
       "      <td>1499_218</td>\n",
       "      <td>2018-10-06</td>\n",
       "      <td>4.27</td>\n",
       "      <td>1499</td>\n",
       "      <td>10</td>\n",
       "    </tr>\n",
       "    <tr>\n",
       "      <th>202606</th>\n",
       "      <td>1499_219</td>\n",
       "      <td>2018-12-14</td>\n",
       "      <td>19.62</td>\n",
       "      <td>1499</td>\n",
       "      <td>12</td>\n",
       "    </tr>\n",
       "  </tbody>\n",
       "</table>\n",
       "<p>202607 rows × 5 columns</p>\n",
       "</div>"
      ],
      "text/plain": [
       "              id  call_date  duration  user_id  month\n",
       "0         1000_0 2018-07-25      0.00     1000      7\n",
       "1         1000_1 2018-08-17      0.00     1000      8\n",
       "2         1000_2 2018-06-11      2.85     1000      6\n",
       "3         1000_3 2018-09-21     13.80     1000      9\n",
       "4         1000_4 2018-12-15      5.18     1000     12\n",
       "...          ...        ...       ...      ...    ...\n",
       "202602  1499_215 2018-12-26      0.76     1499     12\n",
       "202603  1499_216 2018-10-18     18.83     1499     10\n",
       "202604  1499_217 2018-11-10     10.81     1499     11\n",
       "202605  1499_218 2018-10-06      4.27     1499     10\n",
       "202606  1499_219 2018-12-14     19.62     1499     12\n",
       "\n",
       "[202607 rows x 5 columns]"
      ]
     },
     "execution_count": 16,
     "metadata": {},
     "output_type": "execute_result"
    }
   ],
   "source": [
    "calls['month'] = calls['call_date'].dt.month\n",
    "calls['month'] = calls['month'].astype(int)\n",
    "calls"
   ]
  },
  {
   "cell_type": "markdown",
   "metadata": {},
   "source": [
    "**Data calculation on each client**"
   ]
  },
  {
   "cell_type": "code",
   "execution_count": 17,
   "metadata": {},
   "outputs": [],
   "source": [
    "# function for calculation of correct calls duration\n",
    "def calls_duration_func (data_calls):\n",
    "    duration = data_calls['duration']\n",
    "    if duration > 0:\n",
    "        correct_duration = (math.ceil(data_calls['duration']))\n",
    "        return(correct_duration)\n",
    "    else:\n",
    "        return(0)"
   ]
  },
  {
   "cell_type": "code",
   "execution_count": 18,
   "metadata": {},
   "outputs": [
    {
     "data": {
      "text/html": [
       "<div>\n",
       "<style scoped>\n",
       "    .dataframe tbody tr th:only-of-type {\n",
       "        vertical-align: middle;\n",
       "    }\n",
       "\n",
       "    .dataframe tbody tr th {\n",
       "        vertical-align: top;\n",
       "    }\n",
       "\n",
       "    .dataframe thead th {\n",
       "        text-align: right;\n",
       "    }\n",
       "</style>\n",
       "<table border=\"1\" class=\"dataframe\">\n",
       "  <thead>\n",
       "    <tr style=\"text-align: right;\">\n",
       "      <th></th>\n",
       "      <th>id</th>\n",
       "      <th>call_date</th>\n",
       "      <th>duration</th>\n",
       "      <th>user_id</th>\n",
       "      <th>month</th>\n",
       "      <th>correct_duration</th>\n",
       "    </tr>\n",
       "  </thead>\n",
       "  <tbody>\n",
       "    <tr>\n",
       "      <th>0</th>\n",
       "      <td>1000_0</td>\n",
       "      <td>2018-07-25</td>\n",
       "      <td>0.00</td>\n",
       "      <td>1000</td>\n",
       "      <td>7</td>\n",
       "      <td>0</td>\n",
       "    </tr>\n",
       "    <tr>\n",
       "      <th>1</th>\n",
       "      <td>1000_1</td>\n",
       "      <td>2018-08-17</td>\n",
       "      <td>0.00</td>\n",
       "      <td>1000</td>\n",
       "      <td>8</td>\n",
       "      <td>0</td>\n",
       "    </tr>\n",
       "    <tr>\n",
       "      <th>2</th>\n",
       "      <td>1000_2</td>\n",
       "      <td>2018-06-11</td>\n",
       "      <td>2.85</td>\n",
       "      <td>1000</td>\n",
       "      <td>6</td>\n",
       "      <td>3</td>\n",
       "    </tr>\n",
       "    <tr>\n",
       "      <th>3</th>\n",
       "      <td>1000_3</td>\n",
       "      <td>2018-09-21</td>\n",
       "      <td>13.80</td>\n",
       "      <td>1000</td>\n",
       "      <td>9</td>\n",
       "      <td>14</td>\n",
       "    </tr>\n",
       "    <tr>\n",
       "      <th>4</th>\n",
       "      <td>1000_4</td>\n",
       "      <td>2018-12-15</td>\n",
       "      <td>5.18</td>\n",
       "      <td>1000</td>\n",
       "      <td>12</td>\n",
       "      <td>6</td>\n",
       "    </tr>\n",
       "  </tbody>\n",
       "</table>\n",
       "</div>"
      ],
      "text/plain": [
       "       id  call_date  duration  user_id  month  correct_duration\n",
       "0  1000_0 2018-07-25      0.00     1000      7                 0\n",
       "1  1000_1 2018-08-17      0.00     1000      8                 0\n",
       "2  1000_2 2018-06-11      2.85     1000      6                 3\n",
       "3  1000_3 2018-09-21     13.80     1000      9                14\n",
       "4  1000_4 2018-12-15      5.18     1000     12                 6"
      ]
     },
     "execution_count": 18,
     "metadata": {},
     "output_type": "execute_result"
    }
   ],
   "source": [
    "# calls duration calculation\n",
    "calls['correct_duration'] = calls.apply(calls_duration_func,axis=1)\n",
    "calls.head()"
   ]
  },
  {
   "cell_type": "code",
   "execution_count": 19,
   "metadata": {},
   "outputs": [
    {
     "data": {
      "text/html": [
       "<div>\n",
       "<style scoped>\n",
       "    .dataframe tbody tr th:only-of-type {\n",
       "        vertical-align: middle;\n",
       "    }\n",
       "\n",
       "    .dataframe tbody tr th {\n",
       "        vertical-align: top;\n",
       "    }\n",
       "\n",
       "    .dataframe thead th {\n",
       "        text-align: right;\n",
       "    }\n",
       "</style>\n",
       "<table border=\"1\" class=\"dataframe\">\n",
       "  <thead>\n",
       "    <tr style=\"text-align: right;\">\n",
       "      <th></th>\n",
       "      <th>user_id</th>\n",
       "      <th>month</th>\n",
       "      <th>correct_duration</th>\n",
       "    </tr>\n",
       "  </thead>\n",
       "  <tbody>\n",
       "    <tr>\n",
       "      <th>0</th>\n",
       "      <td>1000</td>\n",
       "      <td>5</td>\n",
       "      <td>159</td>\n",
       "    </tr>\n",
       "    <tr>\n",
       "      <th>1</th>\n",
       "      <td>1000</td>\n",
       "      <td>6</td>\n",
       "      <td>172</td>\n",
       "    </tr>\n",
       "    <tr>\n",
       "      <th>2</th>\n",
       "      <td>1000</td>\n",
       "      <td>7</td>\n",
       "      <td>340</td>\n",
       "    </tr>\n",
       "    <tr>\n",
       "      <th>3</th>\n",
       "      <td>1000</td>\n",
       "      <td>8</td>\n",
       "      <td>408</td>\n",
       "    </tr>\n",
       "    <tr>\n",
       "      <th>4</th>\n",
       "      <td>1000</td>\n",
       "      <td>9</td>\n",
       "      <td>466</td>\n",
       "    </tr>\n",
       "    <tr>\n",
       "      <th>...</th>\n",
       "      <td>...</td>\n",
       "      <td>...</td>\n",
       "      <td>...</td>\n",
       "    </tr>\n",
       "    <tr>\n",
       "      <th>3169</th>\n",
       "      <td>1498</td>\n",
       "      <td>10</td>\n",
       "      <td>247</td>\n",
       "    </tr>\n",
       "    <tr>\n",
       "      <th>3170</th>\n",
       "      <td>1499</td>\n",
       "      <td>9</td>\n",
       "      <td>70</td>\n",
       "    </tr>\n",
       "    <tr>\n",
       "      <th>3171</th>\n",
       "      <td>1499</td>\n",
       "      <td>10</td>\n",
       "      <td>449</td>\n",
       "    </tr>\n",
       "    <tr>\n",
       "      <th>3172</th>\n",
       "      <td>1499</td>\n",
       "      <td>11</td>\n",
       "      <td>612</td>\n",
       "    </tr>\n",
       "    <tr>\n",
       "      <th>3173</th>\n",
       "      <td>1499</td>\n",
       "      <td>12</td>\n",
       "      <td>492</td>\n",
       "    </tr>\n",
       "  </tbody>\n",
       "</table>\n",
       "<p>3174 rows × 3 columns</p>\n",
       "</div>"
      ],
      "text/plain": [
       "      user_id  month  correct_duration\n",
       "0        1000      5               159\n",
       "1        1000      6               172\n",
       "2        1000      7               340\n",
       "3        1000      8               408\n",
       "4        1000      9               466\n",
       "...       ...    ...               ...\n",
       "3169     1498     10               247\n",
       "3170     1499      9                70\n",
       "3171     1499     10               449\n",
       "3172     1499     11               612\n",
       "3173     1499     12               492\n",
       "\n",
       "[3174 rows x 3 columns]"
      ]
     },
     "execution_count": 19,
     "metadata": {},
     "output_type": "execute_result"
    }
   ],
   "source": [
    "# calls calculation on user per month\n",
    "calls_months = calls.groupby(['user_id','month']).sum().reset_index()\n",
    "calls_months = calls_months.drop(columns = 'duration')\n",
    "calls_months "
   ]
  },
  {
   "cell_type": "code",
   "execution_count": 20,
   "metadata": {},
   "outputs": [
    {
     "data": {
      "text/html": [
       "<div>\n",
       "<style scoped>\n",
       "    .dataframe tbody tr th:only-of-type {\n",
       "        vertical-align: middle;\n",
       "    }\n",
       "\n",
       "    .dataframe tbody tr th {\n",
       "        vertical-align: top;\n",
       "    }\n",
       "\n",
       "    .dataframe thead th {\n",
       "        text-align: right;\n",
       "    }\n",
       "</style>\n",
       "<table border=\"1\" class=\"dataframe\">\n",
       "  <thead>\n",
       "    <tr style=\"text-align: right;\">\n",
       "      <th></th>\n",
       "      <th>id</th>\n",
       "      <th>mb_used</th>\n",
       "      <th>session_date</th>\n",
       "      <th>user_id</th>\n",
       "      <th>month</th>\n",
       "    </tr>\n",
       "  </thead>\n",
       "  <tbody>\n",
       "    <tr>\n",
       "      <th>0</th>\n",
       "      <td>1000_0</td>\n",
       "      <td>112.95</td>\n",
       "      <td>2018-11-25</td>\n",
       "      <td>1000</td>\n",
       "      <td>11</td>\n",
       "    </tr>\n",
       "    <tr>\n",
       "      <th>1</th>\n",
       "      <td>1000_1</td>\n",
       "      <td>1052.81</td>\n",
       "      <td>2018-09-07</td>\n",
       "      <td>1000</td>\n",
       "      <td>9</td>\n",
       "    </tr>\n",
       "    <tr>\n",
       "      <th>2</th>\n",
       "      <td>1000_2</td>\n",
       "      <td>1197.26</td>\n",
       "      <td>2018-06-25</td>\n",
       "      <td>1000</td>\n",
       "      <td>6</td>\n",
       "    </tr>\n",
       "    <tr>\n",
       "      <th>3</th>\n",
       "      <td>1000_3</td>\n",
       "      <td>550.27</td>\n",
       "      <td>2018-08-22</td>\n",
       "      <td>1000</td>\n",
       "      <td>8</td>\n",
       "    </tr>\n",
       "    <tr>\n",
       "      <th>4</th>\n",
       "      <td>1000_4</td>\n",
       "      <td>302.56</td>\n",
       "      <td>2018-09-24</td>\n",
       "      <td>1000</td>\n",
       "      <td>9</td>\n",
       "    </tr>\n",
       "    <tr>\n",
       "      <th>...</th>\n",
       "      <td>...</td>\n",
       "      <td>...</td>\n",
       "      <td>...</td>\n",
       "      <td>...</td>\n",
       "      <td>...</td>\n",
       "    </tr>\n",
       "    <tr>\n",
       "      <th>149391</th>\n",
       "      <td>1499_152</td>\n",
       "      <td>318.90</td>\n",
       "      <td>2018-10-03</td>\n",
       "      <td>1499</td>\n",
       "      <td>10</td>\n",
       "    </tr>\n",
       "    <tr>\n",
       "      <th>149392</th>\n",
       "      <td>1499_153</td>\n",
       "      <td>490.13</td>\n",
       "      <td>2018-12-14</td>\n",
       "      <td>1499</td>\n",
       "      <td>12</td>\n",
       "    </tr>\n",
       "    <tr>\n",
       "      <th>149393</th>\n",
       "      <td>1499_154</td>\n",
       "      <td>0.00</td>\n",
       "      <td>2018-10-27</td>\n",
       "      <td>1499</td>\n",
       "      <td>10</td>\n",
       "    </tr>\n",
       "    <tr>\n",
       "      <th>149394</th>\n",
       "      <td>1499_155</td>\n",
       "      <td>1246.32</td>\n",
       "      <td>2018-11-26</td>\n",
       "      <td>1499</td>\n",
       "      <td>11</td>\n",
       "    </tr>\n",
       "    <tr>\n",
       "      <th>149395</th>\n",
       "      <td>1499_156</td>\n",
       "      <td>544.37</td>\n",
       "      <td>2018-10-26</td>\n",
       "      <td>1499</td>\n",
       "      <td>10</td>\n",
       "    </tr>\n",
       "  </tbody>\n",
       "</table>\n",
       "<p>149396 rows × 5 columns</p>\n",
       "</div>"
      ],
      "text/plain": [
       "              id  mb_used session_date  user_id  month\n",
       "0         1000_0   112.95   2018-11-25     1000     11\n",
       "1         1000_1  1052.81   2018-09-07     1000      9\n",
       "2         1000_2  1197.26   2018-06-25     1000      6\n",
       "3         1000_3   550.27   2018-08-22     1000      8\n",
       "4         1000_4   302.56   2018-09-24     1000      9\n",
       "...          ...      ...          ...      ...    ...\n",
       "149391  1499_152   318.90   2018-10-03     1499     10\n",
       "149392  1499_153   490.13   2018-12-14     1499     12\n",
       "149393  1499_154     0.00   2018-10-27     1499     10\n",
       "149394  1499_155  1246.32   2018-11-26     1499     11\n",
       "149395  1499_156   544.37   2018-10-26     1499     10\n",
       "\n",
       "[149396 rows x 5 columns]"
      ]
     },
     "execution_count": 20,
     "metadata": {},
     "output_type": "execute_result"
    }
   ],
   "source": [
    "# internet calculation\n",
    "internet['month'] = internet['session_date'].dt.month\n",
    "internet['month'] = internet['month'].astype(int)\n",
    "internet"
   ]
  },
  {
   "cell_type": "code",
   "execution_count": 21,
   "metadata": {},
   "outputs": [
    {
     "data": {
      "text/html": [
       "<div>\n",
       "<style scoped>\n",
       "    .dataframe tbody tr th:only-of-type {\n",
       "        vertical-align: middle;\n",
       "    }\n",
       "\n",
       "    .dataframe tbody tr th {\n",
       "        vertical-align: top;\n",
       "    }\n",
       "\n",
       "    .dataframe thead th {\n",
       "        text-align: right;\n",
       "    }\n",
       "</style>\n",
       "<table border=\"1\" class=\"dataframe\">\n",
       "  <thead>\n",
       "    <tr style=\"text-align: right;\">\n",
       "      <th></th>\n",
       "      <th>user_id</th>\n",
       "      <th>month</th>\n",
       "      <th>mb_used</th>\n",
       "    </tr>\n",
       "  </thead>\n",
       "  <tbody>\n",
       "    <tr>\n",
       "      <th>0</th>\n",
       "      <td>1000</td>\n",
       "      <td>5</td>\n",
       "      <td>2253.49</td>\n",
       "    </tr>\n",
       "    <tr>\n",
       "      <th>1</th>\n",
       "      <td>1000</td>\n",
       "      <td>6</td>\n",
       "      <td>23233.77</td>\n",
       "    </tr>\n",
       "    <tr>\n",
       "      <th>2</th>\n",
       "      <td>1000</td>\n",
       "      <td>7</td>\n",
       "      <td>14003.64</td>\n",
       "    </tr>\n",
       "    <tr>\n",
       "      <th>3</th>\n",
       "      <td>1000</td>\n",
       "      <td>8</td>\n",
       "      <td>14055.93</td>\n",
       "    </tr>\n",
       "    <tr>\n",
       "      <th>4</th>\n",
       "      <td>1000</td>\n",
       "      <td>9</td>\n",
       "      <td>14568.91</td>\n",
       "    </tr>\n",
       "    <tr>\n",
       "      <th>...</th>\n",
       "      <td>...</td>\n",
       "      <td>...</td>\n",
       "      <td>...</td>\n",
       "    </tr>\n",
       "    <tr>\n",
       "      <th>3198</th>\n",
       "      <td>1498</td>\n",
       "      <td>10</td>\n",
       "      <td>20579.36</td>\n",
       "    </tr>\n",
       "    <tr>\n",
       "      <th>3199</th>\n",
       "      <td>1499</td>\n",
       "      <td>9</td>\n",
       "      <td>1845.75</td>\n",
       "    </tr>\n",
       "    <tr>\n",
       "      <th>3200</th>\n",
       "      <td>1499</td>\n",
       "      <td>10</td>\n",
       "      <td>17788.51</td>\n",
       "    </tr>\n",
       "    <tr>\n",
       "      <th>3201</th>\n",
       "      <td>1499</td>\n",
       "      <td>11</td>\n",
       "      <td>17963.31</td>\n",
       "    </tr>\n",
       "    <tr>\n",
       "      <th>3202</th>\n",
       "      <td>1499</td>\n",
       "      <td>12</td>\n",
       "      <td>13055.58</td>\n",
       "    </tr>\n",
       "  </tbody>\n",
       "</table>\n",
       "<p>3203 rows × 3 columns</p>\n",
       "</div>"
      ],
      "text/plain": [
       "      user_id  month   mb_used\n",
       "0        1000      5   2253.49\n",
       "1        1000      6  23233.77\n",
       "2        1000      7  14003.64\n",
       "3        1000      8  14055.93\n",
       "4        1000      9  14568.91\n",
       "...       ...    ...       ...\n",
       "3198     1498     10  20579.36\n",
       "3199     1499      9   1845.75\n",
       "3200     1499     10  17788.51\n",
       "3201     1499     11  17963.31\n",
       "3202     1499     12  13055.58\n",
       "\n",
       "[3203 rows x 3 columns]"
      ]
     },
     "execution_count": 21,
     "metadata": {},
     "output_type": "execute_result"
    }
   ],
   "source": [
    "# internet calculation on user per month\n",
    "internet_months = internet.groupby(['user_id','month']).sum().reset_index()\n",
    "internet_months"
   ]
  },
  {
   "cell_type": "code",
   "execution_count": 22,
   "metadata": {},
   "outputs": [
    {
     "data": {
      "text/html": [
       "<div>\n",
       "<style scoped>\n",
       "    .dataframe tbody tr th:only-of-type {\n",
       "        vertical-align: middle;\n",
       "    }\n",
       "\n",
       "    .dataframe tbody tr th {\n",
       "        vertical-align: top;\n",
       "    }\n",
       "\n",
       "    .dataframe thead th {\n",
       "        text-align: right;\n",
       "    }\n",
       "</style>\n",
       "<table border=\"1\" class=\"dataframe\">\n",
       "  <thead>\n",
       "    <tr style=\"text-align: right;\">\n",
       "      <th></th>\n",
       "      <th>user_id</th>\n",
       "      <th>age</th>\n",
       "      <th>churn_date</th>\n",
       "      <th>city</th>\n",
       "      <th>first_name</th>\n",
       "      <th>last_name</th>\n",
       "      <th>reg_date</th>\n",
       "      <th>tariff</th>\n",
       "      <th>month</th>\n",
       "      <th>calls_duration</th>\n",
       "    </tr>\n",
       "  </thead>\n",
       "  <tbody>\n",
       "    <tr>\n",
       "      <th>0</th>\n",
       "      <td>1000</td>\n",
       "      <td>52</td>\n",
       "      <td>NaN</td>\n",
       "      <td>Краснодар</td>\n",
       "      <td>Рафаил</td>\n",
       "      <td>Верещагин</td>\n",
       "      <td>2018-05-25</td>\n",
       "      <td>ultra</td>\n",
       "      <td>5.0</td>\n",
       "      <td>159.0</td>\n",
       "    </tr>\n",
       "    <tr>\n",
       "      <th>1</th>\n",
       "      <td>1000</td>\n",
       "      <td>52</td>\n",
       "      <td>NaN</td>\n",
       "      <td>Краснодар</td>\n",
       "      <td>Рафаил</td>\n",
       "      <td>Верещагин</td>\n",
       "      <td>2018-05-25</td>\n",
       "      <td>ultra</td>\n",
       "      <td>6.0</td>\n",
       "      <td>172.0</td>\n",
       "    </tr>\n",
       "    <tr>\n",
       "      <th>2</th>\n",
       "      <td>1000</td>\n",
       "      <td>52</td>\n",
       "      <td>NaN</td>\n",
       "      <td>Краснодар</td>\n",
       "      <td>Рафаил</td>\n",
       "      <td>Верещагин</td>\n",
       "      <td>2018-05-25</td>\n",
       "      <td>ultra</td>\n",
       "      <td>7.0</td>\n",
       "      <td>340.0</td>\n",
       "    </tr>\n",
       "    <tr>\n",
       "      <th>3</th>\n",
       "      <td>1000</td>\n",
       "      <td>52</td>\n",
       "      <td>NaN</td>\n",
       "      <td>Краснодар</td>\n",
       "      <td>Рафаил</td>\n",
       "      <td>Верещагин</td>\n",
       "      <td>2018-05-25</td>\n",
       "      <td>ultra</td>\n",
       "      <td>8.0</td>\n",
       "      <td>408.0</td>\n",
       "    </tr>\n",
       "    <tr>\n",
       "      <th>4</th>\n",
       "      <td>1000</td>\n",
       "      <td>52</td>\n",
       "      <td>NaN</td>\n",
       "      <td>Краснодар</td>\n",
       "      <td>Рафаил</td>\n",
       "      <td>Верещагин</td>\n",
       "      <td>2018-05-25</td>\n",
       "      <td>ultra</td>\n",
       "      <td>9.0</td>\n",
       "      <td>466.0</td>\n",
       "    </tr>\n",
       "    <tr>\n",
       "      <th>...</th>\n",
       "      <td>...</td>\n",
       "      <td>...</td>\n",
       "      <td>...</td>\n",
       "      <td>...</td>\n",
       "      <td>...</td>\n",
       "      <td>...</td>\n",
       "      <td>...</td>\n",
       "      <td>...</td>\n",
       "      <td>...</td>\n",
       "      <td>...</td>\n",
       "    </tr>\n",
       "    <tr>\n",
       "      <th>3177</th>\n",
       "      <td>1498</td>\n",
       "      <td>68</td>\n",
       "      <td>2018-10-25</td>\n",
       "      <td>Владикавказ</td>\n",
       "      <td>Всеволод</td>\n",
       "      <td>Акимчин</td>\n",
       "      <td>2018-07-19</td>\n",
       "      <td>smart</td>\n",
       "      <td>10.0</td>\n",
       "      <td>247.0</td>\n",
       "    </tr>\n",
       "    <tr>\n",
       "      <th>3178</th>\n",
       "      <td>1499</td>\n",
       "      <td>35</td>\n",
       "      <td>NaN</td>\n",
       "      <td>Пермь</td>\n",
       "      <td>Гектор</td>\n",
       "      <td>Корнилов</td>\n",
       "      <td>2018-09-27</td>\n",
       "      <td>smart</td>\n",
       "      <td>9.0</td>\n",
       "      <td>70.0</td>\n",
       "    </tr>\n",
       "    <tr>\n",
       "      <th>3179</th>\n",
       "      <td>1499</td>\n",
       "      <td>35</td>\n",
       "      <td>NaN</td>\n",
       "      <td>Пермь</td>\n",
       "      <td>Гектор</td>\n",
       "      <td>Корнилов</td>\n",
       "      <td>2018-09-27</td>\n",
       "      <td>smart</td>\n",
       "      <td>10.0</td>\n",
       "      <td>449.0</td>\n",
       "    </tr>\n",
       "    <tr>\n",
       "      <th>3180</th>\n",
       "      <td>1499</td>\n",
       "      <td>35</td>\n",
       "      <td>NaN</td>\n",
       "      <td>Пермь</td>\n",
       "      <td>Гектор</td>\n",
       "      <td>Корнилов</td>\n",
       "      <td>2018-09-27</td>\n",
       "      <td>smart</td>\n",
       "      <td>11.0</td>\n",
       "      <td>612.0</td>\n",
       "    </tr>\n",
       "    <tr>\n",
       "      <th>3181</th>\n",
       "      <td>1499</td>\n",
       "      <td>35</td>\n",
       "      <td>NaN</td>\n",
       "      <td>Пермь</td>\n",
       "      <td>Гектор</td>\n",
       "      <td>Корнилов</td>\n",
       "      <td>2018-09-27</td>\n",
       "      <td>smart</td>\n",
       "      <td>12.0</td>\n",
       "      <td>492.0</td>\n",
       "    </tr>\n",
       "  </tbody>\n",
       "</table>\n",
       "<p>3182 rows × 10 columns</p>\n",
       "</div>"
      ],
      "text/plain": [
       "      user_id  age  churn_date         city first_name  last_name    reg_date  \\\n",
       "0        1000   52         NaN    Краснодар     Рафаил  Верещагин  2018-05-25   \n",
       "1        1000   52         NaN    Краснодар     Рафаил  Верещагин  2018-05-25   \n",
       "2        1000   52         NaN    Краснодар     Рафаил  Верещагин  2018-05-25   \n",
       "3        1000   52         NaN    Краснодар     Рафаил  Верещагин  2018-05-25   \n",
       "4        1000   52         NaN    Краснодар     Рафаил  Верещагин  2018-05-25   \n",
       "...       ...  ...         ...          ...        ...        ...         ...   \n",
       "3177     1498   68  2018-10-25  Владикавказ   Всеволод    Акимчин  2018-07-19   \n",
       "3178     1499   35         NaN        Пермь     Гектор   Корнилов  2018-09-27   \n",
       "3179     1499   35         NaN        Пермь     Гектор   Корнилов  2018-09-27   \n",
       "3180     1499   35         NaN        Пермь     Гектор   Корнилов  2018-09-27   \n",
       "3181     1499   35         NaN        Пермь     Гектор   Корнилов  2018-09-27   \n",
       "\n",
       "     tariff  month  calls_duration  \n",
       "0     ultra    5.0           159.0  \n",
       "1     ultra    6.0           172.0  \n",
       "2     ultra    7.0           340.0  \n",
       "3     ultra    8.0           408.0  \n",
       "4     ultra    9.0           466.0  \n",
       "...     ...    ...             ...  \n",
       "3177  smart   10.0           247.0  \n",
       "3178  smart    9.0            70.0  \n",
       "3179  smart   10.0           449.0  \n",
       "3180  smart   11.0           612.0  \n",
       "3181  smart   12.0           492.0  \n",
       "\n",
       "[3182 rows x 10 columns]"
      ]
     },
     "execution_count": 22,
     "metadata": {},
     "output_type": "execute_result"
    }
   ],
   "source": [
    "# merging datasets users and calls\n",
    "users = pd.merge(users,calls_months,on='user_id',how='left')\n",
    "users = users.rename(columns={'correct_duration': 'calls_duration'})\n",
    "users"
   ]
  },
  {
   "cell_type": "code",
   "execution_count": 23,
   "metadata": {},
   "outputs": [
    {
     "data": {
      "text/html": [
       "<div>\n",
       "<style scoped>\n",
       "    .dataframe tbody tr th:only-of-type {\n",
       "        vertical-align: middle;\n",
       "    }\n",
       "\n",
       "    .dataframe tbody tr th {\n",
       "        vertical-align: top;\n",
       "    }\n",
       "\n",
       "    .dataframe thead th {\n",
       "        text-align: right;\n",
       "    }\n",
       "</style>\n",
       "<table border=\"1\" class=\"dataframe\">\n",
       "  <thead>\n",
       "    <tr style=\"text-align: right;\">\n",
       "      <th></th>\n",
       "      <th>user_id</th>\n",
       "      <th>age</th>\n",
       "      <th>churn_date</th>\n",
       "      <th>city</th>\n",
       "      <th>first_name</th>\n",
       "      <th>last_name</th>\n",
       "      <th>reg_date</th>\n",
       "      <th>tariff</th>\n",
       "      <th>month</th>\n",
       "      <th>calls_duration</th>\n",
       "      <th>mb_used</th>\n",
       "    </tr>\n",
       "  </thead>\n",
       "  <tbody>\n",
       "    <tr>\n",
       "      <th>0</th>\n",
       "      <td>1000</td>\n",
       "      <td>52</td>\n",
       "      <td>NaN</td>\n",
       "      <td>Краснодар</td>\n",
       "      <td>Рафаил</td>\n",
       "      <td>Верещагин</td>\n",
       "      <td>2018-05-25</td>\n",
       "      <td>ultra</td>\n",
       "      <td>5.0</td>\n",
       "      <td>159.0</td>\n",
       "      <td>2253.49</td>\n",
       "    </tr>\n",
       "    <tr>\n",
       "      <th>1</th>\n",
       "      <td>1000</td>\n",
       "      <td>52</td>\n",
       "      <td>NaN</td>\n",
       "      <td>Краснодар</td>\n",
       "      <td>Рафаил</td>\n",
       "      <td>Верещагин</td>\n",
       "      <td>2018-05-25</td>\n",
       "      <td>ultra</td>\n",
       "      <td>6.0</td>\n",
       "      <td>172.0</td>\n",
       "      <td>23233.77</td>\n",
       "    </tr>\n",
       "    <tr>\n",
       "      <th>2</th>\n",
       "      <td>1000</td>\n",
       "      <td>52</td>\n",
       "      <td>NaN</td>\n",
       "      <td>Краснодар</td>\n",
       "      <td>Рафаил</td>\n",
       "      <td>Верещагин</td>\n",
       "      <td>2018-05-25</td>\n",
       "      <td>ultra</td>\n",
       "      <td>7.0</td>\n",
       "      <td>340.0</td>\n",
       "      <td>14003.64</td>\n",
       "    </tr>\n",
       "    <tr>\n",
       "      <th>3</th>\n",
       "      <td>1000</td>\n",
       "      <td>52</td>\n",
       "      <td>NaN</td>\n",
       "      <td>Краснодар</td>\n",
       "      <td>Рафаил</td>\n",
       "      <td>Верещагин</td>\n",
       "      <td>2018-05-25</td>\n",
       "      <td>ultra</td>\n",
       "      <td>8.0</td>\n",
       "      <td>408.0</td>\n",
       "      <td>14055.93</td>\n",
       "    </tr>\n",
       "    <tr>\n",
       "      <th>4</th>\n",
       "      <td>1000</td>\n",
       "      <td>52</td>\n",
       "      <td>NaN</td>\n",
       "      <td>Краснодар</td>\n",
       "      <td>Рафаил</td>\n",
       "      <td>Верещагин</td>\n",
       "      <td>2018-05-25</td>\n",
       "      <td>ultra</td>\n",
       "      <td>9.0</td>\n",
       "      <td>466.0</td>\n",
       "      <td>14568.91</td>\n",
       "    </tr>\n",
       "    <tr>\n",
       "      <th>...</th>\n",
       "      <td>...</td>\n",
       "      <td>...</td>\n",
       "      <td>...</td>\n",
       "      <td>...</td>\n",
       "      <td>...</td>\n",
       "      <td>...</td>\n",
       "      <td>...</td>\n",
       "      <td>...</td>\n",
       "      <td>...</td>\n",
       "      <td>...</td>\n",
       "      <td>...</td>\n",
       "    </tr>\n",
       "    <tr>\n",
       "      <th>3177</th>\n",
       "      <td>1498</td>\n",
       "      <td>68</td>\n",
       "      <td>2018-10-25</td>\n",
       "      <td>Владикавказ</td>\n",
       "      <td>Всеволод</td>\n",
       "      <td>Акимчин</td>\n",
       "      <td>2018-07-19</td>\n",
       "      <td>smart</td>\n",
       "      <td>10.0</td>\n",
       "      <td>247.0</td>\n",
       "      <td>20579.36</td>\n",
       "    </tr>\n",
       "    <tr>\n",
       "      <th>3178</th>\n",
       "      <td>1499</td>\n",
       "      <td>35</td>\n",
       "      <td>NaN</td>\n",
       "      <td>Пермь</td>\n",
       "      <td>Гектор</td>\n",
       "      <td>Корнилов</td>\n",
       "      <td>2018-09-27</td>\n",
       "      <td>smart</td>\n",
       "      <td>9.0</td>\n",
       "      <td>70.0</td>\n",
       "      <td>1845.75</td>\n",
       "    </tr>\n",
       "    <tr>\n",
       "      <th>3179</th>\n",
       "      <td>1499</td>\n",
       "      <td>35</td>\n",
       "      <td>NaN</td>\n",
       "      <td>Пермь</td>\n",
       "      <td>Гектор</td>\n",
       "      <td>Корнилов</td>\n",
       "      <td>2018-09-27</td>\n",
       "      <td>smart</td>\n",
       "      <td>10.0</td>\n",
       "      <td>449.0</td>\n",
       "      <td>17788.51</td>\n",
       "    </tr>\n",
       "    <tr>\n",
       "      <th>3180</th>\n",
       "      <td>1499</td>\n",
       "      <td>35</td>\n",
       "      <td>NaN</td>\n",
       "      <td>Пермь</td>\n",
       "      <td>Гектор</td>\n",
       "      <td>Корнилов</td>\n",
       "      <td>2018-09-27</td>\n",
       "      <td>smart</td>\n",
       "      <td>11.0</td>\n",
       "      <td>612.0</td>\n",
       "      <td>17963.31</td>\n",
       "    </tr>\n",
       "    <tr>\n",
       "      <th>3181</th>\n",
       "      <td>1499</td>\n",
       "      <td>35</td>\n",
       "      <td>NaN</td>\n",
       "      <td>Пермь</td>\n",
       "      <td>Гектор</td>\n",
       "      <td>Корнилов</td>\n",
       "      <td>2018-09-27</td>\n",
       "      <td>smart</td>\n",
       "      <td>12.0</td>\n",
       "      <td>492.0</td>\n",
       "      <td>13055.58</td>\n",
       "    </tr>\n",
       "  </tbody>\n",
       "</table>\n",
       "<p>3182 rows × 11 columns</p>\n",
       "</div>"
      ],
      "text/plain": [
       "      user_id  age  churn_date         city first_name  last_name    reg_date  \\\n",
       "0        1000   52         NaN    Краснодар     Рафаил  Верещагин  2018-05-25   \n",
       "1        1000   52         NaN    Краснодар     Рафаил  Верещагин  2018-05-25   \n",
       "2        1000   52         NaN    Краснодар     Рафаил  Верещагин  2018-05-25   \n",
       "3        1000   52         NaN    Краснодар     Рафаил  Верещагин  2018-05-25   \n",
       "4        1000   52         NaN    Краснодар     Рафаил  Верещагин  2018-05-25   \n",
       "...       ...  ...         ...          ...        ...        ...         ...   \n",
       "3177     1498   68  2018-10-25  Владикавказ   Всеволод    Акимчин  2018-07-19   \n",
       "3178     1499   35         NaN        Пермь     Гектор   Корнилов  2018-09-27   \n",
       "3179     1499   35         NaN        Пермь     Гектор   Корнилов  2018-09-27   \n",
       "3180     1499   35         NaN        Пермь     Гектор   Корнилов  2018-09-27   \n",
       "3181     1499   35         NaN        Пермь     Гектор   Корнилов  2018-09-27   \n",
       "\n",
       "     tariff  month  calls_duration   mb_used  \n",
       "0     ultra    5.0           159.0   2253.49  \n",
       "1     ultra    6.0           172.0  23233.77  \n",
       "2     ultra    7.0           340.0  14003.64  \n",
       "3     ultra    8.0           408.0  14055.93  \n",
       "4     ultra    9.0           466.0  14568.91  \n",
       "...     ...    ...             ...       ...  \n",
       "3177  smart   10.0           247.0  20579.36  \n",
       "3178  smart    9.0            70.0   1845.75  \n",
       "3179  smart   10.0           449.0  17788.51  \n",
       "3180  smart   11.0           612.0  17963.31  \n",
       "3181  smart   12.0           492.0  13055.58  \n",
       "\n",
       "[3182 rows x 11 columns]"
      ]
     },
     "execution_count": 23,
     "metadata": {},
     "output_type": "execute_result"
    }
   ],
   "source": [
    "# addition of internet usage info to datset\n",
    "users = pd.merge(users,internet_months,on=['user_id','month'],how='left')\n",
    "users"
   ]
  },
  {
   "cell_type": "code",
   "execution_count": 24,
   "metadata": {},
   "outputs": [
    {
     "data": {
      "text/html": [
       "<div>\n",
       "<style scoped>\n",
       "    .dataframe tbody tr th:only-of-type {\n",
       "        vertical-align: middle;\n",
       "    }\n",
       "\n",
       "    .dataframe tbody tr th {\n",
       "        vertical-align: top;\n",
       "    }\n",
       "\n",
       "    .dataframe thead th {\n",
       "        text-align: right;\n",
       "    }\n",
       "</style>\n",
       "<table border=\"1\" class=\"dataframe\">\n",
       "  <thead>\n",
       "    <tr style=\"text-align: right;\">\n",
       "      <th></th>\n",
       "      <th>user_id</th>\n",
       "      <th>age</th>\n",
       "      <th>churn_date</th>\n",
       "      <th>city</th>\n",
       "      <th>first_name</th>\n",
       "      <th>last_name</th>\n",
       "      <th>reg_date</th>\n",
       "      <th>tariff</th>\n",
       "      <th>month</th>\n",
       "      <th>calls_duration</th>\n",
       "      <th>mb_used</th>\n",
       "      <th>messages_qty</th>\n",
       "    </tr>\n",
       "  </thead>\n",
       "  <tbody>\n",
       "    <tr>\n",
       "      <th>0</th>\n",
       "      <td>1000</td>\n",
       "      <td>52</td>\n",
       "      <td>NaN</td>\n",
       "      <td>Краснодар</td>\n",
       "      <td>Рафаил</td>\n",
       "      <td>Верещагин</td>\n",
       "      <td>2018-05-25</td>\n",
       "      <td>ultra</td>\n",
       "      <td>5.0</td>\n",
       "      <td>159.0</td>\n",
       "      <td>2253.49</td>\n",
       "      <td>22.0</td>\n",
       "    </tr>\n",
       "    <tr>\n",
       "      <th>1</th>\n",
       "      <td>1000</td>\n",
       "      <td>52</td>\n",
       "      <td>NaN</td>\n",
       "      <td>Краснодар</td>\n",
       "      <td>Рафаил</td>\n",
       "      <td>Верещагин</td>\n",
       "      <td>2018-05-25</td>\n",
       "      <td>ultra</td>\n",
       "      <td>6.0</td>\n",
       "      <td>172.0</td>\n",
       "      <td>23233.77</td>\n",
       "      <td>60.0</td>\n",
       "    </tr>\n",
       "    <tr>\n",
       "      <th>2</th>\n",
       "      <td>1000</td>\n",
       "      <td>52</td>\n",
       "      <td>NaN</td>\n",
       "      <td>Краснодар</td>\n",
       "      <td>Рафаил</td>\n",
       "      <td>Верещагин</td>\n",
       "      <td>2018-05-25</td>\n",
       "      <td>ultra</td>\n",
       "      <td>7.0</td>\n",
       "      <td>340.0</td>\n",
       "      <td>14003.64</td>\n",
       "      <td>75.0</td>\n",
       "    </tr>\n",
       "    <tr>\n",
       "      <th>3</th>\n",
       "      <td>1000</td>\n",
       "      <td>52</td>\n",
       "      <td>NaN</td>\n",
       "      <td>Краснодар</td>\n",
       "      <td>Рафаил</td>\n",
       "      <td>Верещагин</td>\n",
       "      <td>2018-05-25</td>\n",
       "      <td>ultra</td>\n",
       "      <td>8.0</td>\n",
       "      <td>408.0</td>\n",
       "      <td>14055.93</td>\n",
       "      <td>81.0</td>\n",
       "    </tr>\n",
       "    <tr>\n",
       "      <th>4</th>\n",
       "      <td>1000</td>\n",
       "      <td>52</td>\n",
       "      <td>NaN</td>\n",
       "      <td>Краснодар</td>\n",
       "      <td>Рафаил</td>\n",
       "      <td>Верещагин</td>\n",
       "      <td>2018-05-25</td>\n",
       "      <td>ultra</td>\n",
       "      <td>9.0</td>\n",
       "      <td>466.0</td>\n",
       "      <td>14568.91</td>\n",
       "      <td>57.0</td>\n",
       "    </tr>\n",
       "    <tr>\n",
       "      <th>...</th>\n",
       "      <td>...</td>\n",
       "      <td>...</td>\n",
       "      <td>...</td>\n",
       "      <td>...</td>\n",
       "      <td>...</td>\n",
       "      <td>...</td>\n",
       "      <td>...</td>\n",
       "      <td>...</td>\n",
       "      <td>...</td>\n",
       "      <td>...</td>\n",
       "      <td>...</td>\n",
       "      <td>...</td>\n",
       "    </tr>\n",
       "    <tr>\n",
       "      <th>3177</th>\n",
       "      <td>1498</td>\n",
       "      <td>68</td>\n",
       "      <td>2018-10-25</td>\n",
       "      <td>Владикавказ</td>\n",
       "      <td>Всеволод</td>\n",
       "      <td>Акимчин</td>\n",
       "      <td>2018-07-19</td>\n",
       "      <td>smart</td>\n",
       "      <td>10.0</td>\n",
       "      <td>247.0</td>\n",
       "      <td>20579.36</td>\n",
       "      <td>42.0</td>\n",
       "    </tr>\n",
       "    <tr>\n",
       "      <th>3178</th>\n",
       "      <td>1499</td>\n",
       "      <td>35</td>\n",
       "      <td>NaN</td>\n",
       "      <td>Пермь</td>\n",
       "      <td>Гектор</td>\n",
       "      <td>Корнилов</td>\n",
       "      <td>2018-09-27</td>\n",
       "      <td>smart</td>\n",
       "      <td>9.0</td>\n",
       "      <td>70.0</td>\n",
       "      <td>1845.75</td>\n",
       "      <td>11.0</td>\n",
       "    </tr>\n",
       "    <tr>\n",
       "      <th>3179</th>\n",
       "      <td>1499</td>\n",
       "      <td>35</td>\n",
       "      <td>NaN</td>\n",
       "      <td>Пермь</td>\n",
       "      <td>Гектор</td>\n",
       "      <td>Корнилов</td>\n",
       "      <td>2018-09-27</td>\n",
       "      <td>smart</td>\n",
       "      <td>10.0</td>\n",
       "      <td>449.0</td>\n",
       "      <td>17788.51</td>\n",
       "      <td>48.0</td>\n",
       "    </tr>\n",
       "    <tr>\n",
       "      <th>3180</th>\n",
       "      <td>1499</td>\n",
       "      <td>35</td>\n",
       "      <td>NaN</td>\n",
       "      <td>Пермь</td>\n",
       "      <td>Гектор</td>\n",
       "      <td>Корнилов</td>\n",
       "      <td>2018-09-27</td>\n",
       "      <td>smart</td>\n",
       "      <td>11.0</td>\n",
       "      <td>612.0</td>\n",
       "      <td>17963.31</td>\n",
       "      <td>59.0</td>\n",
       "    </tr>\n",
       "    <tr>\n",
       "      <th>3181</th>\n",
       "      <td>1499</td>\n",
       "      <td>35</td>\n",
       "      <td>NaN</td>\n",
       "      <td>Пермь</td>\n",
       "      <td>Гектор</td>\n",
       "      <td>Корнилов</td>\n",
       "      <td>2018-09-27</td>\n",
       "      <td>smart</td>\n",
       "      <td>12.0</td>\n",
       "      <td>492.0</td>\n",
       "      <td>13055.58</td>\n",
       "      <td>66.0</td>\n",
       "    </tr>\n",
       "  </tbody>\n",
       "</table>\n",
       "<p>3182 rows × 12 columns</p>\n",
       "</div>"
      ],
      "text/plain": [
       "      user_id  age  churn_date         city first_name  last_name    reg_date  \\\n",
       "0        1000   52         NaN    Краснодар     Рафаил  Верещагин  2018-05-25   \n",
       "1        1000   52         NaN    Краснодар     Рафаил  Верещагин  2018-05-25   \n",
       "2        1000   52         NaN    Краснодар     Рафаил  Верещагин  2018-05-25   \n",
       "3        1000   52         NaN    Краснодар     Рафаил  Верещагин  2018-05-25   \n",
       "4        1000   52         NaN    Краснодар     Рафаил  Верещагин  2018-05-25   \n",
       "...       ...  ...         ...          ...        ...        ...         ...   \n",
       "3177     1498   68  2018-10-25  Владикавказ   Всеволод    Акимчин  2018-07-19   \n",
       "3178     1499   35         NaN        Пермь     Гектор   Корнилов  2018-09-27   \n",
       "3179     1499   35         NaN        Пермь     Гектор   Корнилов  2018-09-27   \n",
       "3180     1499   35         NaN        Пермь     Гектор   Корнилов  2018-09-27   \n",
       "3181     1499   35         NaN        Пермь     Гектор   Корнилов  2018-09-27   \n",
       "\n",
       "     tariff  month  calls_duration   mb_used  messages_qty  \n",
       "0     ultra    5.0           159.0   2253.49          22.0  \n",
       "1     ultra    6.0           172.0  23233.77          60.0  \n",
       "2     ultra    7.0           340.0  14003.64          75.0  \n",
       "3     ultra    8.0           408.0  14055.93          81.0  \n",
       "4     ultra    9.0           466.0  14568.91          57.0  \n",
       "...     ...    ...             ...       ...           ...  \n",
       "3177  smart   10.0           247.0  20579.36          42.0  \n",
       "3178  smart    9.0            70.0   1845.75          11.0  \n",
       "3179  smart   10.0           449.0  17788.51          48.0  \n",
       "3180  smart   11.0           612.0  17963.31          59.0  \n",
       "3181  smart   12.0           492.0  13055.58          66.0  \n",
       "\n",
       "[3182 rows x 12 columns]"
      ]
     },
     "execution_count": 24,
     "metadata": {},
     "output_type": "execute_result"
    }
   ],
   "source": [
    "# addition of messages info to dataset\n",
    "users = pd.merge(users,messages_months,on=['user_id','month'],how='left')\n",
    "users = users.rename(columns={'message_date': 'messages_qty'})\n",
    "users"
   ]
  },
  {
   "cell_type": "code",
   "execution_count": 25,
   "metadata": {},
   "outputs": [
    {
     "data": {
      "text/html": [
       "<div>\n",
       "<style scoped>\n",
       "    .dataframe tbody tr th:only-of-type {\n",
       "        vertical-align: middle;\n",
       "    }\n",
       "\n",
       "    .dataframe tbody tr th {\n",
       "        vertical-align: top;\n",
       "    }\n",
       "\n",
       "    .dataframe thead th {\n",
       "        text-align: right;\n",
       "    }\n",
       "</style>\n",
       "<table border=\"1\" class=\"dataframe\">\n",
       "  <thead>\n",
       "    <tr style=\"text-align: right;\">\n",
       "      <th></th>\n",
       "      <th>messages_included</th>\n",
       "      <th>mb_per_month_included</th>\n",
       "      <th>minutes_included</th>\n",
       "      <th>rub_monthly_fee</th>\n",
       "      <th>rub_per_gb</th>\n",
       "      <th>rub_per_message</th>\n",
       "      <th>rub_per_minute</th>\n",
       "      <th>tariff_name</th>\n",
       "    </tr>\n",
       "  </thead>\n",
       "  <tbody>\n",
       "    <tr>\n",
       "      <th>0</th>\n",
       "      <td>50</td>\n",
       "      <td>15360</td>\n",
       "      <td>500</td>\n",
       "      <td>550</td>\n",
       "      <td>200</td>\n",
       "      <td>3</td>\n",
       "      <td>3</td>\n",
       "      <td>smart</td>\n",
       "    </tr>\n",
       "    <tr>\n",
       "      <th>1</th>\n",
       "      <td>1000</td>\n",
       "      <td>30720</td>\n",
       "      <td>3000</td>\n",
       "      <td>1950</td>\n",
       "      <td>150</td>\n",
       "      <td>1</td>\n",
       "      <td>1</td>\n",
       "      <td>ultra</td>\n",
       "    </tr>\n",
       "  </tbody>\n",
       "</table>\n",
       "</div>"
      ],
      "text/plain": [
       "   messages_included  mb_per_month_included  minutes_included  \\\n",
       "0                 50                  15360               500   \n",
       "1               1000                  30720              3000   \n",
       "\n",
       "   rub_monthly_fee  rub_per_gb  rub_per_message  rub_per_minute tariff_name  \n",
       "0              550         200                3               3       smart  \n",
       "1             1950         150                1               1       ultra  "
      ]
     },
     "execution_count": 25,
     "metadata": {},
     "output_type": "execute_result"
    }
   ],
   "source": [
    "# display of tarriffs dataset\n",
    "tariffs.head()"
   ]
  },
  {
   "cell_type": "code",
   "execution_count": 26,
   "metadata": {},
   "outputs": [],
   "source": [
    "smart = tariffs.query('tariff_name == \"smart\"').reset_index()"
   ]
  },
  {
   "cell_type": "code",
   "execution_count": 27,
   "metadata": {},
   "outputs": [],
   "source": [
    "ultra = tariffs.query('tariff_name == \"ultra\"').reset_index()"
   ]
  },
  {
   "cell_type": "markdown",
   "metadata": {},
   "source": [
    "**Calculation of total income of company from each client***"
   ]
  },
  {
   "cell_type": "code",
   "execution_count": 28,
   "metadata": {},
   "outputs": [],
   "source": [
    "def total_fee (user_name):\n",
    "    tariff = user_name['tariff']\n",
    "    calls = user_name['calls_duration']\n",
    "    msgs = user_name['messages_qty']\n",
    "    internet = user_name['mb_used']\n",
    "    if tariff == 'smart':\n",
    "        total_fee=smart['rub_monthly_fee'][0]\n",
    "        if calls > smart['minutes_included'][0]:\n",
    "            total_fee += (calls-smart['minutes_included'][0])*smart['rub_per_minute'][0]\n",
    "        if msgs>smart['messages_included'][0]:\n",
    "            total_fee+= (msgs-smart['rub_per_message'][0])*3\n",
    "        if internet > smart['mb_per_month_included'][0]:\n",
    "            total_fee+= math.ceil((internet-smart['mb_per_month_included'][0])/1000)*smart['rub_per_gb'][0]\n",
    "        return(total_fee)\n",
    "    else:\n",
    "        total_fee=ultra['rub_monthly_fee'][0]\n",
    "        if calls > ultra['minutes_included'][0]:\n",
    "            total_fee += (calls-ultra['minutes_included'][0])*ultra['rub_per_minute'][0]\n",
    "        if msgs>ultra['messages_included'][0]:\n",
    "            total_fee+= (msgs-ultra['rub_per_message'][0])*3\n",
    "        if internet > ultra['mb_per_month_included'][0]:\n",
    "            total_fee+= math.ceil((internet-ultra['mb_per_month_included'][0])/1000)*ultra['rub_per_gb'][0]\n",
    "        return(total_fee)"
   ]
  },
  {
   "cell_type": "code",
   "execution_count": 29,
   "metadata": {},
   "outputs": [
    {
     "data": {
      "text/html": [
       "<div>\n",
       "<style scoped>\n",
       "    .dataframe tbody tr th:only-of-type {\n",
       "        vertical-align: middle;\n",
       "    }\n",
       "\n",
       "    .dataframe tbody tr th {\n",
       "        vertical-align: top;\n",
       "    }\n",
       "\n",
       "    .dataframe thead th {\n",
       "        text-align: right;\n",
       "    }\n",
       "</style>\n",
       "<table border=\"1\" class=\"dataframe\">\n",
       "  <thead>\n",
       "    <tr style=\"text-align: right;\">\n",
       "      <th></th>\n",
       "      <th>user_id</th>\n",
       "      <th>age</th>\n",
       "      <th>churn_date</th>\n",
       "      <th>city</th>\n",
       "      <th>first_name</th>\n",
       "      <th>last_name</th>\n",
       "      <th>reg_date</th>\n",
       "      <th>tariff</th>\n",
       "      <th>month</th>\n",
       "      <th>calls_duration</th>\n",
       "      <th>mb_used</th>\n",
       "      <th>messages_qty</th>\n",
       "      <th>total_fee</th>\n",
       "    </tr>\n",
       "  </thead>\n",
       "  <tbody>\n",
       "    <tr>\n",
       "      <th>0</th>\n",
       "      <td>1000</td>\n",
       "      <td>52</td>\n",
       "      <td>NaN</td>\n",
       "      <td>Краснодар</td>\n",
       "      <td>Рафаил</td>\n",
       "      <td>Верещагин</td>\n",
       "      <td>2018-05-25</td>\n",
       "      <td>ultra</td>\n",
       "      <td>5.0</td>\n",
       "      <td>159.0</td>\n",
       "      <td>2253.49</td>\n",
       "      <td>22.0</td>\n",
       "      <td>1950.0</td>\n",
       "    </tr>\n",
       "    <tr>\n",
       "      <th>1</th>\n",
       "      <td>1000</td>\n",
       "      <td>52</td>\n",
       "      <td>NaN</td>\n",
       "      <td>Краснодар</td>\n",
       "      <td>Рафаил</td>\n",
       "      <td>Верещагин</td>\n",
       "      <td>2018-05-25</td>\n",
       "      <td>ultra</td>\n",
       "      <td>6.0</td>\n",
       "      <td>172.0</td>\n",
       "      <td>23233.77</td>\n",
       "      <td>60.0</td>\n",
       "      <td>1950.0</td>\n",
       "    </tr>\n",
       "    <tr>\n",
       "      <th>2</th>\n",
       "      <td>1000</td>\n",
       "      <td>52</td>\n",
       "      <td>NaN</td>\n",
       "      <td>Краснодар</td>\n",
       "      <td>Рафаил</td>\n",
       "      <td>Верещагин</td>\n",
       "      <td>2018-05-25</td>\n",
       "      <td>ultra</td>\n",
       "      <td>7.0</td>\n",
       "      <td>340.0</td>\n",
       "      <td>14003.64</td>\n",
       "      <td>75.0</td>\n",
       "      <td>1950.0</td>\n",
       "    </tr>\n",
       "    <tr>\n",
       "      <th>3</th>\n",
       "      <td>1000</td>\n",
       "      <td>52</td>\n",
       "      <td>NaN</td>\n",
       "      <td>Краснодар</td>\n",
       "      <td>Рафаил</td>\n",
       "      <td>Верещагин</td>\n",
       "      <td>2018-05-25</td>\n",
       "      <td>ultra</td>\n",
       "      <td>8.0</td>\n",
       "      <td>408.0</td>\n",
       "      <td>14055.93</td>\n",
       "      <td>81.0</td>\n",
       "      <td>1950.0</td>\n",
       "    </tr>\n",
       "    <tr>\n",
       "      <th>4</th>\n",
       "      <td>1000</td>\n",
       "      <td>52</td>\n",
       "      <td>NaN</td>\n",
       "      <td>Краснодар</td>\n",
       "      <td>Рафаил</td>\n",
       "      <td>Верещагин</td>\n",
       "      <td>2018-05-25</td>\n",
       "      <td>ultra</td>\n",
       "      <td>9.0</td>\n",
       "      <td>466.0</td>\n",
       "      <td>14568.91</td>\n",
       "      <td>57.0</td>\n",
       "      <td>1950.0</td>\n",
       "    </tr>\n",
       "    <tr>\n",
       "      <th>...</th>\n",
       "      <td>...</td>\n",
       "      <td>...</td>\n",
       "      <td>...</td>\n",
       "      <td>...</td>\n",
       "      <td>...</td>\n",
       "      <td>...</td>\n",
       "      <td>...</td>\n",
       "      <td>...</td>\n",
       "      <td>...</td>\n",
       "      <td>...</td>\n",
       "      <td>...</td>\n",
       "      <td>...</td>\n",
       "      <td>...</td>\n",
       "    </tr>\n",
       "    <tr>\n",
       "      <th>3177</th>\n",
       "      <td>1498</td>\n",
       "      <td>68</td>\n",
       "      <td>2018-10-25</td>\n",
       "      <td>Владикавказ</td>\n",
       "      <td>Всеволод</td>\n",
       "      <td>Акимчин</td>\n",
       "      <td>2018-07-19</td>\n",
       "      <td>smart</td>\n",
       "      <td>10.0</td>\n",
       "      <td>247.0</td>\n",
       "      <td>20579.36</td>\n",
       "      <td>42.0</td>\n",
       "      <td>1750.0</td>\n",
       "    </tr>\n",
       "    <tr>\n",
       "      <th>3178</th>\n",
       "      <td>1499</td>\n",
       "      <td>35</td>\n",
       "      <td>NaN</td>\n",
       "      <td>Пермь</td>\n",
       "      <td>Гектор</td>\n",
       "      <td>Корнилов</td>\n",
       "      <td>2018-09-27</td>\n",
       "      <td>smart</td>\n",
       "      <td>9.0</td>\n",
       "      <td>70.0</td>\n",
       "      <td>1845.75</td>\n",
       "      <td>11.0</td>\n",
       "      <td>550.0</td>\n",
       "    </tr>\n",
       "    <tr>\n",
       "      <th>3179</th>\n",
       "      <td>1499</td>\n",
       "      <td>35</td>\n",
       "      <td>NaN</td>\n",
       "      <td>Пермь</td>\n",
       "      <td>Гектор</td>\n",
       "      <td>Корнилов</td>\n",
       "      <td>2018-09-27</td>\n",
       "      <td>smart</td>\n",
       "      <td>10.0</td>\n",
       "      <td>449.0</td>\n",
       "      <td>17788.51</td>\n",
       "      <td>48.0</td>\n",
       "      <td>1150.0</td>\n",
       "    </tr>\n",
       "    <tr>\n",
       "      <th>3180</th>\n",
       "      <td>1499</td>\n",
       "      <td>35</td>\n",
       "      <td>NaN</td>\n",
       "      <td>Пермь</td>\n",
       "      <td>Гектор</td>\n",
       "      <td>Корнилов</td>\n",
       "      <td>2018-09-27</td>\n",
       "      <td>smart</td>\n",
       "      <td>11.0</td>\n",
       "      <td>612.0</td>\n",
       "      <td>17963.31</td>\n",
       "      <td>59.0</td>\n",
       "      <td>1654.0</td>\n",
       "    </tr>\n",
       "    <tr>\n",
       "      <th>3181</th>\n",
       "      <td>1499</td>\n",
       "      <td>35</td>\n",
       "      <td>NaN</td>\n",
       "      <td>Пермь</td>\n",
       "      <td>Гектор</td>\n",
       "      <td>Корнилов</td>\n",
       "      <td>2018-09-27</td>\n",
       "      <td>smart</td>\n",
       "      <td>12.0</td>\n",
       "      <td>492.0</td>\n",
       "      <td>13055.58</td>\n",
       "      <td>66.0</td>\n",
       "      <td>739.0</td>\n",
       "    </tr>\n",
       "  </tbody>\n",
       "</table>\n",
       "<p>3182 rows × 13 columns</p>\n",
       "</div>"
      ],
      "text/plain": [
       "      user_id  age  churn_date         city first_name  last_name    reg_date  \\\n",
       "0        1000   52         NaN    Краснодар     Рафаил  Верещагин  2018-05-25   \n",
       "1        1000   52         NaN    Краснодар     Рафаил  Верещагин  2018-05-25   \n",
       "2        1000   52         NaN    Краснодар     Рафаил  Верещагин  2018-05-25   \n",
       "3        1000   52         NaN    Краснодар     Рафаил  Верещагин  2018-05-25   \n",
       "4        1000   52         NaN    Краснодар     Рафаил  Верещагин  2018-05-25   \n",
       "...       ...  ...         ...          ...        ...        ...         ...   \n",
       "3177     1498   68  2018-10-25  Владикавказ   Всеволод    Акимчин  2018-07-19   \n",
       "3178     1499   35         NaN        Пермь     Гектор   Корнилов  2018-09-27   \n",
       "3179     1499   35         NaN        Пермь     Гектор   Корнилов  2018-09-27   \n",
       "3180     1499   35         NaN        Пермь     Гектор   Корнилов  2018-09-27   \n",
       "3181     1499   35         NaN        Пермь     Гектор   Корнилов  2018-09-27   \n",
       "\n",
       "     tariff  month  calls_duration   mb_used  messages_qty  total_fee  \n",
       "0     ultra    5.0           159.0   2253.49          22.0     1950.0  \n",
       "1     ultra    6.0           172.0  23233.77          60.0     1950.0  \n",
       "2     ultra    7.0           340.0  14003.64          75.0     1950.0  \n",
       "3     ultra    8.0           408.0  14055.93          81.0     1950.0  \n",
       "4     ultra    9.0           466.0  14568.91          57.0     1950.0  \n",
       "...     ...    ...             ...       ...           ...        ...  \n",
       "3177  smart   10.0           247.0  20579.36          42.0     1750.0  \n",
       "3178  smart    9.0            70.0   1845.75          11.0      550.0  \n",
       "3179  smart   10.0           449.0  17788.51          48.0     1150.0  \n",
       "3180  smart   11.0           612.0  17963.31          59.0     1654.0  \n",
       "3181  smart   12.0           492.0  13055.58          66.0      739.0  \n",
       "\n",
       "[3182 rows x 13 columns]"
      ]
     },
     "execution_count": 29,
     "metadata": {},
     "output_type": "execute_result"
    }
   ],
   "source": [
    "# creation new column - total fee using function\n",
    "users['total_fee'] = users.apply(total_fee,axis=1)\n",
    "users"
   ]
  },
  {
   "cell_type": "markdown",
   "metadata": {},
   "source": [
    "## Data Analysis"
   ]
  },
  {
   "cell_type": "markdown",
   "metadata": {},
   "source": [
    "***Splitting the data on two groups by plans***"
   ]
  },
  {
   "cell_type": "code",
   "execution_count": 30,
   "metadata": {},
   "outputs": [],
   "source": [
    "ultra_users = users.query('tariff == \"ultra\"')\n",
    "smart_users = users.query('tariff == \"smart\"')"
   ]
  },
  {
   "cell_type": "markdown",
   "metadata": {},
   "source": [
    "***Display the information on the minutes usage on plan smart***"
   ]
  },
  {
   "cell_type": "code",
   "execution_count": 31,
   "metadata": {},
   "outputs": [
    {
     "name": "stdout",
     "output_type": "stream",
     "text": [
      "expectation: 419.0629779577148 \n",
      " variance: 35828.06530953033 \n",
      " st dev: 189.2830296395594\n"
     ]
    },
    {
     "data": {
      "text/plain": [
       "Text(0, 0.5, 'probability')"
      ]
     },
     "execution_count": 31,
     "metadata": {},
     "output_type": "execute_result"
    },
    {
     "data": {
      "image/png": "[encoded data removed]",
      "text/plain": [
       "<Figure size 432x288 with 1 Axes>"
      ]
     },
     "metadata": {
      "needs_background": "light"
     },
     "output_type": "display_data"
    }
   ],
   "source": [
    "print('expectation:',smart_users.calls_duration.mean(),'\\n',\n",
    "      'variance:',np.var(smart_users.calls_duration),'\\n',\n",
    "      'st dev:',np.std(smart_users.calls_duration))\n",
    "smart_users.calls_duration.hist(density=True,bins=15)\n",
    "\n",
    "# Set title\n",
    "pl.title(\"Calls_duration\")\n",
    "  \n",
    "# adding labels\n",
    "pl.xlabel('Duration')\n",
    "pl.ylabel('probability')"
   ]
  },
  {
   "attachments": {},
   "cell_type": "markdown",
   "metadata": {},
   "source": [
    "*Based on histogram we can say that data is distributed in accordance with binominal law*"
   ]
  },
  {
   "cell_type": "markdown",
   "metadata": {},
   "source": [
    "***Display the information on the internet usage on plan smart***"
   ]
  },
  {
   "cell_type": "code",
   "execution_count": 32,
   "metadata": {},
   "outputs": [
    {
     "name": "stdout",
     "output_type": "stream",
     "text": [
      "expectation: 16216.661273627364 \n",
      " variance: 34412098.45716458 \n",
      " st dev: 5866.182613690489\n"
     ]
    },
    {
     "data": {
      "text/plain": [
       "Text(0, 0.5, 'probability')"
      ]
     },
     "execution_count": 32,
     "metadata": {},
     "output_type": "execute_result"
    },
    {
     "data": {
      "image/png": "[encoded data removed]",
      "text/plain": [
       "<Figure size 432x288 with 1 Axes>"
      ]
     },
     "metadata": {
      "needs_background": "light"
     },
     "output_type": "display_data"
    }
   ],
   "source": [
    "print('expectation:',smart_users.mb_used.mean(),'\\n',\n",
    "      'variance:',np.var(smart_users.mb_used),'\\n',\n",
    "      'st dev:',np.std(smart_users.mb_used))\n",
    "\n",
    "smart_users.mb_used.hist(density=True,bins=30)\n",
    "\n",
    "# Set title\n",
    "pl.title(\"Intenet used\")\n",
    "  \n",
    "# adding labels\n",
    "pl.xlabel('MB q-ty')\n",
    "pl.ylabel('probability')"
   ]
  },
  {
   "attachments": {},
   "cell_type": "markdown",
   "metadata": {},
   "source": [
    "*Based on histogram we can say that data is distributed in accordance with standard distribution*"
   ]
  },
  {
   "cell_type": "markdown",
   "metadata": {},
   "source": [
    "***Display the information on the message usage on plan smart***"
   ]
  },
  {
   "cell_type": "code",
   "execution_count": 33,
   "metadata": {},
   "outputs": [
    {
     "name": "stdout",
     "output_type": "stream",
     "text": [
      "expectation: 38.74739039665971 \n",
      " variance: 718.7973574905967 \n",
      " st dev: 26.810396444114673\n"
     ]
    },
    {
     "data": {
      "text/plain": [
       "Text(0, 0.5, 'probability')"
      ]
     },
     "execution_count": 33,
     "metadata": {},
     "output_type": "execute_result"
    },
    {
     "data": {
      "image/png": "[encoded data removed]",
      "text/plain": [
       "<Figure size 432x288 with 1 Axes>"
      ]
     },
     "metadata": {
      "needs_background": "light"
     },
     "output_type": "display_data"
    }
   ],
   "source": [
    "print('expectation:',smart_users.messages_qty.mean(),'\\n',\n",
    "      'variance:',np.var(smart_users.messages_qty),'\\n',\n",
    "      'st dev:',np.std(smart_users.messages_qty))\n",
    "\n",
    "smart_users.messages_qty.hist(density=True,bins=15)\n",
    "\n",
    "# Set title\n",
    "pl.title(\"Messages used\")\n",
    "  \n",
    "# adding labels\n",
    "pl.xlabel('messages q-ty')\n",
    "pl.ylabel('probability')"
   ]
  },
  {
   "attachments": {},
   "cell_type": "markdown",
   "metadata": {},
   "source": [
    "*Based on histogram we can say that data is distributed in accordance with geometric distribution*"
   ]
  },
  {
   "cell_type": "markdown",
   "metadata": {},
   "source": [
    "***Display the information on the minutes usage on plan ultra***"
   ]
  },
  {
   "cell_type": "code",
   "execution_count": 34,
   "metadata": {},
   "outputs": [
    {
     "name": "stdout",
     "output_type": "stream",
     "text": [
      "expectation: 545.4511041009464 \n",
      " variance: 94104.36117385983 \n",
      " st dev: 306.76434143143143\n"
     ]
    },
    {
     "data": {
      "text/plain": [
       "Text(0, 0.5, 'probability')"
      ]
     },
     "execution_count": 34,
     "metadata": {},
     "output_type": "execute_result"
    },
    {
     "data": {
      "image/png": "[encoded data removed]",
      "text/plain": [
       "<Figure size 432x288 with 1 Axes>"
      ]
     },
     "metadata": {
      "needs_background": "light"
     },
     "output_type": "display_data"
    }
   ],
   "source": [
    "print('expectation:',ultra_users.calls_duration.mean(),'\\n',\n",
    "      'variance:',np.var(ultra_users.calls_duration),'\\n',\n",
    "      'st dev:',np.std(ultra_users.calls_duration))\n",
    "\n",
    "ultra_users.calls_duration.hist(density=True,bins=15)\n",
    "\n",
    "# Set title\n",
    "pl.title(\"Calls_duration\")\n",
    "  \n",
    "# adding labels\n",
    "pl.xlabel('Duration')\n",
    "pl.ylabel('probability')"
   ]
  },
  {
   "attachments": {},
   "cell_type": "markdown",
   "metadata": {},
   "source": [
    "*Based on histogram we can say that data is distributed in accordance with binominal law*"
   ]
  },
  {
   "cell_type": "markdown",
   "metadata": {},
   "source": [
    "***Display the information on the traffic use on plan smart***"
   ]
  },
  {
   "cell_type": "code",
   "execution_count": 35,
   "metadata": {},
   "outputs": [
    {
     "name": "stdout",
     "output_type": "stream",
     "text": [
      "expectation: 19669.283602550477 \n",
      " variance: 99465187.55618352 \n",
      " st dev: 9973.223528838784\n"
     ]
    },
    {
     "data": {
      "text/plain": [
       "Text(0, 0.5, 'probability')"
      ]
     },
     "execution_count": 35,
     "metadata": {},
     "output_type": "execute_result"
    },
    {
     "data": {
      "image/png": "[encoded data removed]",
      "text/plain": [
       "<Figure size 432x288 with 1 Axes>"
      ]
     },
     "metadata": {
      "needs_background": "light"
     },
     "output_type": "display_data"
    }
   ],
   "source": [
    "print('expectation:',ultra_users.mb_used.mean(),'\\n',\n",
    "      'variance:',np.var(ultra_users.mb_used),'\\n',\n",
    "      'st dev:',np.std(ultra_users.mb_used))\n",
    "\n",
    "ultra_users.mb_used.hist(density=True,bins=15)\n",
    "\n",
    "# Set title\n",
    "pl.title(\"Intenet used\")\n",
    "  \n",
    "# adding labels\n",
    "pl.xlabel('MB q-ty')\n",
    "pl.ylabel('probability')"
   ]
  },
  {
   "attachments": {},
   "cell_type": "markdown",
   "metadata": {},
   "source": [
    "*Based on histogram we can say that data is distributed in accordance with binominal law*"
   ]
  },
  {
   "cell_type": "markdown",
   "metadata": {},
   "source": [
    "***Display the information on the message usage on plan ultra***"
   ]
  },
  {
   "cell_type": "code",
   "execution_count": 36,
   "metadata": {},
   "outputs": [
    {
     "name": "stdout",
     "output_type": "stream",
     "text": [
      "expectation: 61.19553805774278 \n",
      " variance: 1996.9499538443522 \n",
      " st dev: 44.68724598634774\n"
     ]
    },
    {
     "data": {
      "text/plain": [
       "Text(0, 0.5, 'probability')"
      ]
     },
     "execution_count": 36,
     "metadata": {},
     "output_type": "execute_result"
    },
    {
     "data": {
      "image/png": "[encoded data removed]",
      "text/plain": [
       "<Figure size 432x288 with 1 Axes>"
      ]
     },
     "metadata": {
      "needs_background": "light"
     },
     "output_type": "display_data"
    }
   ],
   "source": [
    "print('expectation:',ultra_users.messages_qty.mean(),'\\n',\n",
    "      'variance:',np.var(ultra_users.messages_qty),'\\n',\n",
    "      'st dev:',np.std(ultra_users.messages_qty))\n",
    "\n",
    "ultra_users.messages_qty.hist(density=True,bins =10)\n",
    "\n",
    "# Set title\n",
    "pl.title(\"Messages used\")\n",
    "  \n",
    "# adding labels\n",
    "pl.xlabel('messages q-ty')\n",
    "pl.ylabel('probability')"
   ]
  },
  {
   "attachments": {},
   "cell_type": "markdown",
   "metadata": {},
   "source": [
    "*Based on histogram we can say that data is distributed in accordance with geometric distribution*\n",
    "___"
   ]
  },
  {
   "cell_type": "markdown",
   "metadata": {},
   "source": [
    "## Hypotheses testing"
   ]
  },
  {
   "cell_type": "markdown",
   "metadata": {},
   "source": [
    "### Hypothesis 1\n",
    "\n",
    "**Average income per user on plans ultra and smart are different.**"
   ]
  },
  {
   "cell_type": "code",
   "execution_count": 37,
   "metadata": {
    "scrolled": false
   },
   "outputs": [
    {
     "name": "stdout",
     "output_type": "stream",
     "text": [
      "Average income per client on ultra plan: 149647.31 \t Average income per client on smart plan: 710110.72\n"
     ]
    }
   ],
   "source": [
    "print('Average income per client on ultra plan:',round(np.var(ultra_users.total_fee),2),'\\t',\n",
    "      'Average income per client on smart plan:', round(np.var(smart_users.total_fee),2))"
   ]
  },
  {
   "cell_type": "code",
   "execution_count": 38,
   "metadata": {},
   "outputs": [
    {
     "data": {
      "text/plain": [
       "Text(0, 0.5, 'probability')"
      ]
     },
     "execution_count": 38,
     "metadata": {},
     "output_type": "execute_result"
    },
    {
     "data": {
      "image/png": "[encoded data removed]",
      "text/plain": [
       "<Figure size 720x504 with 1 Axes>"
      ]
     },
     "metadata": {
      "needs_background": "light"
     },
     "output_type": "display_data"
    }
   ],
   "source": [
    "ultra_users.total_fee.hist(density=True,bins =20, figsize = (10,7))\n",
    "\n",
    "# Set title\n",
    "pl.title(\"Ultra plan Average income\")\n",
    "  \n",
    "# adding labels\n",
    "pl.xlabel('Income')\n",
    "pl.ylabel('probability')"
   ]
  },
  {
   "cell_type": "code",
   "execution_count": 39,
   "metadata": {},
   "outputs": [
    {
     "data": {
      "text/plain": [
       "Text(0, 0.5, 'probability')"
      ]
     },
     "execution_count": 39,
     "metadata": {},
     "output_type": "execute_result"
    },
    {
     "data": {
      "image/png": "[encoded data removed]",
      "text/plain": [
       "<Figure size 720x504 with 1 Axes>"
      ]
     },
     "metadata": {
      "needs_background": "light"
     },
     "output_type": "display_data"
    }
   ],
   "source": [
    "smart_users.total_fee.hist(density=True,bins =10,figsize = (10,7))\n",
    "\n",
    "# Set title\n",
    "pl.title(\"Smart plan Average income\")\n",
    "  \n",
    "# adding labels\n",
    "pl.xlabel('Income')\n",
    "pl.ylabel('probability')"
   ]
  },
  {
   "cell_type": "code",
   "execution_count": 40,
   "metadata": {},
   "outputs": [
    {
     "name": "stdout",
     "output_type": "stream",
     "text": [
      "p.value: 3.7790205288399806e-212 \n",
      "\n",
      "Result: Can not reject the hypothesis\n"
     ]
    }
   ],
   "source": [
    "alpha = 0.05\n",
    "\n",
    "results = st.ttest_ind(ultra_users.total_fee,smart_users.total_fee,equal_var=False)\n",
    "print('p.value:',results.pvalue,'\\n')\n",
    "\n",
    "if results.pvalue > alpha:\n",
    "    print('Result:','Reject the hypothesis')\n",
    "else:\n",
    "    print('Result:',\"Can not reject the hypothesis\")\n",
    "    "
   ]
  },
  {
   "attachments": {},
   "cell_type": "markdown",
   "metadata": {},
   "source": [
    "***H0 - Average income from clients on plans \"smart\" and \"ultra\" is similar.\\\n",
    "H1 - Average income from clients on plans \"smart\" and \"ultra\" is different.***\n",
    "\n",
    "**Hypothesis is confirmed - p-value < alpha**\n",
    "\n",
    "***For hypothesis testing was used ttest_ind for the correct comparison of arrays.***\n",
    "___"
   ]
  },
  {
   "attachments": {},
   "cell_type": "markdown",
   "metadata": {},
   "source": [
    "### Hypothesis 2\n",
    "\n",
    "**The average income from clients in Moscow and other regions is different.**"
   ]
  },
  {
   "cell_type": "code",
   "execution_count": 41,
   "metadata": {},
   "outputs": [
    {
     "name": "stdout",
     "output_type": "stream",
     "text": [
      "Average income per client in Moscow: 573827.65 \t Average income per client outside Moscow: 673772.45\n"
     ]
    }
   ],
   "source": [
    "moscow_users = users.query('city == \"Москва\"')\n",
    "other_users = users.query('city != \"Москва\"')\n",
    "\n",
    "print('Average income per client in Moscow:', round(np.var(moscow_users.total_fee),2),'\\t',\n",
    "      'Average income per client outside Moscow:',round(np.var(other_users.total_fee),2))"
   ]
  },
  {
   "cell_type": "code",
   "execution_count": 42,
   "metadata": {},
   "outputs": [
    {
     "data": {
      "text/plain": [
       "Text(0, 0.5, 'probability')"
      ]
     },
     "execution_count": 42,
     "metadata": {},
     "output_type": "execute_result"
    },
    {
     "data": {
      "image/png": "[encoded data removed]",
      "text/plain": [
       "<Figure size 720x504 with 1 Axes>"
      ]
     },
     "metadata": {
      "needs_background": "light"
     },
     "output_type": "display_data"
    }
   ],
   "source": [
    "moscow_users.total_fee.hist(density=True,bins =15,figsize = (10,7))\n",
    "\n",
    "# Set title\n",
    "pl.title(\"Moscow users Average income\")\n",
    "  \n",
    "# adding labels\n",
    "pl.xlabel('Income')\n",
    "pl.ylabel('probability')"
   ]
  },
  {
   "cell_type": "code",
   "execution_count": 43,
   "metadata": {},
   "outputs": [
    {
     "data": {
      "text/plain": [
       "Text(0, 0.5, 'probability')"
      ]
     },
     "execution_count": 43,
     "metadata": {},
     "output_type": "execute_result"
    },
    {
     "data": {
      "image/png": "[encoded data removed]",
      "text/plain": [
       "<Figure size 720x504 with 1 Axes>"
      ]
     },
     "metadata": {
      "needs_background": "light"
     },
     "output_type": "display_data"
    }
   ],
   "source": [
    "other_users.total_fee.hist(density=True,bins =15,figsize = (10,7))\n",
    "\n",
    "# Set title\n",
    "pl.title(\"other users Average income\")\n",
    "  \n",
    "# adding labels\n",
    "pl.xlabel('Income')\n",
    "pl.ylabel('probability')"
   ]
  },
  {
   "cell_type": "code",
   "execution_count": 44,
   "metadata": {},
   "outputs": [
    {
     "name": "stdout",
     "output_type": "stream",
     "text": [
      "p.value: 0.73\n",
      "Result: Reject the hypothessis\n"
     ]
    }
   ],
   "source": [
    "alpha = 0.05\n",
    "\n",
    "results = st.ttest_ind(moscow_users.total_fee,other_users.total_fee,equal_var=False)\n",
    "print('p.value:',round(results.pvalue,2))\n",
    "\n",
    "if results.pvalue > alpha:\n",
    "    print('Result:','Reject the hypothessis')\n",
    "else:\n",
    "    print('Result:',\"Can not reject the hypothesis\")"
   ]
  },
  {
   "attachments": {},
   "cell_type": "markdown",
   "metadata": {},
   "source": [
    "***H0 - Average income from clients in Moscow and outside Moscow is similar.\\\n",
    "H1 - Average income from clients in Moscow and outside Moscow  is different.***\n",
    "\n",
    "**Hypothesis is rejected - p-value > alpha**\n",
    "\n",
    "***For hypothesis testing was used ttest_ind for the correct comparison of arrays***\n",
    "___"
   ]
  },
  {
   "cell_type": "markdown",
   "metadata": {},
   "source": [
    "## Conclusion"
   ]
  },
  {
   "attachments": {},
   "cell_type": "markdown",
   "metadata": {},
   "source": [
    "***Based on the provided data and merged table, which has all the information on users it's possible to conclude the following:***\n",
    "\n",
    "1)  Minutes usage for calls by users are distributed in accordance with binominal law, and has the following statistic indices:\n",
    "- mobile plan smart:\n",
    "        Expected mean value  - ~419\n",
    "        Dispersion - ~35828\n",
    "        Standard deviation - ~189\n",
    "- mobile plan ultra:\n",
    "        Expected mean value - ~545\n",
    "        Dispersion - ~94104\n",
    "        Standard deviation - ~306\n",
    "        \n",
    "2)  Internet traffic usage on plans smart is distributed in accordance with geometric distribution, on the ultra plan traffic usage is distributed in accordance with binominal law. The indices for both plans are following:\n",
    "- mobile plan smart:\n",
    "        Expected mean value - ~16216\n",
    "        Dispersion - ~34412098\n",
    "        Standard deviation - ~5866\n",
    "- mobile plan ultra:\n",
    "        Expected mean value  - ~ 19669\n",
    "        Dispersion - ~99465187\n",
    "        Standard deviation - ~9973\n",
    "3) Message usage is distributed in accordance with geometric distribution and has the following indices:\n",
    "- mobile plan smart:\n",
    "        Expected mean value - ~38\n",
    "        Dispersion - ~718\n",
    "        Standard deviation - ~26\n",
    "- mobile plan ultra:\n",
    "        Expected mean value - ~61\n",
    "        Dispersion - ~1996\n",
    "        Standard deviation - ~44\n",
    "\n",
    "4) The Hypothesis 1 - Average income from clients on plans \"Ultra\" and \"Smart\" is different is confirmed.\n",
    "\n",
    "5) The Hypothesis 2 - Average income from clients in and outside Moscow is different is not confirmed."
   ]
  }
 ],
 "metadata": {
  "ExecuteTimeLog": [
   {
    "duration": 370,
    "start_time": "2021-10-24T12:44:21.517Z"
   },
   {
    "duration": 341,
    "start_time": "2021-10-24T12:44:26.492Z"
   },
   {
    "duration": 669,
    "start_time": "2021-10-24T12:44:31.958Z"
   },
   {
    "duration": 179,
    "start_time": "2021-10-24T12:44:34.280Z"
   },
   {
    "duration": 145,
    "start_time": "2021-10-24T12:46:31.589Z"
   },
   {
    "duration": 23,
    "start_time": "2021-10-24T12:46:34.331Z"
   },
   {
    "duration": 41,
    "start_time": "2021-10-24T12:46:36.839Z"
   },
   {
    "duration": 99,
    "start_time": "2021-10-24T12:46:39.596Z"
   },
   {
    "duration": 177,
    "start_time": "2021-10-24T12:54:14.449Z"
   },
   {
    "duration": 571,
    "start_time": "2021-10-24T12:54:23.410Z"
   },
   {
    "duration": 175,
    "start_time": "2021-10-24T12:54:30.714Z"
   },
   {
    "duration": 171,
    "start_time": "2021-10-24T12:54:41.736Z"
   },
   {
    "duration": 181,
    "start_time": "2021-10-24T12:54:49.158Z"
   },
   {
    "duration": 150,
    "start_time": "2021-10-24T12:55:14.662Z"
   },
   {
    "duration": 146,
    "start_time": "2021-10-24T12:55:19.855Z"
   },
   {
    "duration": 178,
    "start_time": "2021-10-24T12:55:27.249Z"
   },
   {
    "duration": 27,
    "start_time": "2021-10-24T12:55:41.412Z"
   },
   {
    "duration": 33,
    "start_time": "2021-10-24T12:56:12.285Z"
   },
   {
    "duration": 28,
    "start_time": "2021-10-24T12:56:14.812Z"
   },
   {
    "duration": 19,
    "start_time": "2021-10-24T12:56:43.402Z"
   },
   {
    "duration": 21,
    "start_time": "2021-10-24T12:56:52.038Z"
   },
   {
    "duration": 23,
    "start_time": "2021-10-24T12:57:20.517Z"
   },
   {
    "duration": 7,
    "start_time": "2021-10-24T12:57:44.126Z"
   },
   {
    "duration": 36,
    "start_time": "2021-10-24T12:57:47.123Z"
   },
   {
    "duration": 93,
    "start_time": "2021-10-24T12:57:52.825Z"
   },
   {
    "duration": 15,
    "start_time": "2021-10-24T12:58:10.739Z"
   },
   {
    "duration": 2408,
    "start_time": "2021-10-24T13:02:00.413Z"
   },
   {
    "duration": 2387,
    "start_time": "2021-10-24T13:02:24.440Z"
   },
   {
    "duration": 29,
    "start_time": "2021-10-24T13:02:33.426Z"
   },
   {
    "duration": 19,
    "start_time": "2021-10-24T13:02:51.265Z"
   },
   {
    "duration": 142,
    "start_time": "2021-10-24T13:05:45.794Z"
   },
   {
    "duration": 145,
    "start_time": "2021-10-24T13:06:15.112Z"
   },
   {
    "duration": 155,
    "start_time": "2021-10-24T13:06:47.505Z"
   },
   {
    "duration": 123,
    "start_time": "2021-10-24T13:07:50.967Z"
   },
   {
    "duration": 279,
    "start_time": "2021-10-24T13:07:56.069Z"
   },
   {
    "duration": 105,
    "start_time": "2021-10-24T13:08:11.717Z"
   },
   {
    "duration": 182,
    "start_time": "2021-10-24T13:08:15.539Z"
   },
   {
    "duration": 599,
    "start_time": "2021-10-24T13:08:19.798Z"
   },
   {
    "duration": 533,
    "start_time": "2021-10-24T13:08:29.471Z"
   },
   {
    "duration": 563,
    "start_time": "2021-10-24T13:08:43.180Z"
   },
   {
    "duration": 229,
    "start_time": "2021-10-24T13:08:45.551Z"
   },
   {
    "duration": 361,
    "start_time": "2021-10-24T13:09:23.352Z"
   },
   {
    "duration": 250,
    "start_time": "2021-10-24T13:09:29.831Z"
   },
   {
    "duration": 342,
    "start_time": "2021-10-24T13:11:46.679Z"
   },
   {
    "duration": 28,
    "start_time": "2021-10-24T13:12:14.455Z"
   },
   {
    "duration": 46,
    "start_time": "2021-10-24T13:12:18.753Z"
   },
   {
    "duration": 668,
    "start_time": "2021-10-24T13:13:32.247Z"
   },
   {
    "duration": 170,
    "start_time": "2021-10-24T13:13:32.917Z"
   },
   {
    "duration": 23,
    "start_time": "2021-10-24T13:13:33.090Z"
   },
   {
    "duration": 40,
    "start_time": "2021-10-24T13:13:33.115Z"
   },
   {
    "duration": 157,
    "start_time": "2021-10-24T13:13:33.157Z"
   },
   {
    "duration": 17,
    "start_time": "2021-10-24T13:13:33.315Z"
   },
   {
    "duration": 22,
    "start_time": "2021-10-24T13:13:33.334Z"
   },
   {
    "duration": 40,
    "start_time": "2021-10-24T13:13:33.358Z"
   },
   {
    "duration": 6,
    "start_time": "2021-10-24T13:13:33.400Z"
   },
   {
    "duration": 104,
    "start_time": "2021-10-24T13:13:33.407Z"
   },
   {
    "duration": 14,
    "start_time": "2021-10-24T13:13:33.512Z"
   },
   {
    "duration": 386,
    "start_time": "2021-10-24T13:13:46.819Z"
   },
   {
    "duration": 710,
    "start_time": "2021-10-24T13:13:53.967Z"
   },
   {
    "duration": 778,
    "start_time": "2021-10-24T13:14:03.262Z"
   },
   {
    "duration": 186,
    "start_time": "2021-10-24T13:14:04.043Z"
   },
   {
    "duration": 22,
    "start_time": "2021-10-24T13:14:04.231Z"
   },
   {
    "duration": 56,
    "start_time": "2021-10-24T13:14:04.255Z"
   },
   {
    "duration": 148,
    "start_time": "2021-10-24T13:14:04.313Z"
   },
   {
    "duration": 32,
    "start_time": "2021-10-24T13:14:04.463Z"
   },
   {
    "duration": 25,
    "start_time": "2021-10-24T13:14:04.497Z"
   },
   {
    "duration": 37,
    "start_time": "2021-10-24T13:14:04.524Z"
   },
   {
    "duration": 6,
    "start_time": "2021-10-24T13:14:04.563Z"
   },
   {
    "duration": 104,
    "start_time": "2021-10-24T13:14:04.570Z"
   },
   {
    "duration": 20,
    "start_time": "2021-10-24T13:14:04.675Z"
   },
   {
    "duration": 383,
    "start_time": "2021-10-24T13:14:34.930Z"
   },
   {
    "duration": 357,
    "start_time": "2021-10-24T13:14:58.998Z"
   },
   {
    "duration": 625,
    "start_time": "2021-10-24T13:15:07.888Z"
   },
   {
    "duration": 171,
    "start_time": "2021-10-24T13:15:08.515Z"
   },
   {
    "duration": 22,
    "start_time": "2021-10-24T13:15:08.691Z"
   },
   {
    "duration": 42,
    "start_time": "2021-10-24T13:15:08.715Z"
   },
   {
    "duration": 139,
    "start_time": "2021-10-24T13:15:08.778Z"
   },
   {
    "duration": 17,
    "start_time": "2021-10-24T13:15:08.919Z"
   },
   {
    "duration": 23,
    "start_time": "2021-10-24T13:15:08.939Z"
   },
   {
    "duration": 48,
    "start_time": "2021-10-24T13:15:08.964Z"
   },
   {
    "duration": 6,
    "start_time": "2021-10-24T13:15:09.014Z"
   },
   {
    "duration": 98,
    "start_time": "2021-10-24T13:15:09.023Z"
   },
   {
    "duration": 16,
    "start_time": "2021-10-24T13:15:09.123Z"
   },
   {
    "duration": 46,
    "start_time": "2021-10-24T13:15:09.142Z"
   },
   {
    "duration": 29,
    "start_time": "2021-10-24T13:16:45.974Z"
   },
   {
    "duration": 39,
    "start_time": "2021-10-24T13:16:50.446Z"
   },
   {
    "duration": 37,
    "start_time": "2021-10-24T13:17:34.779Z"
   },
   {
    "duration": 45,
    "start_time": "2021-10-24T13:17:51.246Z"
   },
   {
    "duration": 60,
    "start_time": "2021-10-24T13:17:58.361Z"
   },
   {
    "duration": 33,
    "start_time": "2021-10-24T13:18:30.923Z"
   },
   {
    "duration": 54,
    "start_time": "2021-10-24T13:18:36.519Z"
   },
   {
    "duration": 698,
    "start_time": "2021-10-24T13:20:19.489Z"
   },
   {
    "duration": 174,
    "start_time": "2021-10-24T13:20:20.189Z"
   },
   {
    "duration": 30,
    "start_time": "2021-10-24T13:20:20.366Z"
   },
   {
    "duration": 43,
    "start_time": "2021-10-24T13:20:20.403Z"
   },
   {
    "duration": 170,
    "start_time": "2021-10-24T13:20:20.448Z"
   },
   {
    "duration": 18,
    "start_time": "2021-10-24T13:20:20.620Z"
   },
   {
    "duration": 24,
    "start_time": "2021-10-24T13:20:20.639Z"
   },
   {
    "duration": 40,
    "start_time": "2021-10-24T13:20:20.665Z"
   },
   {
    "duration": 6,
    "start_time": "2021-10-24T13:20:20.707Z"
   },
   {
    "duration": 113,
    "start_time": "2021-10-24T13:20:20.716Z"
   },
   {
    "duration": 15,
    "start_time": "2021-10-24T13:20:20.832Z"
   },
   {
    "duration": 61,
    "start_time": "2021-10-24T13:20:20.849Z"
   },
   {
    "duration": 77,
    "start_time": "2021-10-24T13:20:20.913Z"
   },
   {
    "duration": 62,
    "start_time": "2021-10-24T13:20:20.992Z"
   },
   {
    "duration": 61,
    "start_time": "2021-10-24T13:21:29.207Z"
   },
   {
    "duration": 51,
    "start_time": "2021-10-24T13:21:49.066Z"
   },
   {
    "duration": 35,
    "start_time": "2021-10-24T13:21:52.995Z"
   },
   {
    "duration": 4,
    "start_time": "2021-10-24T13:24:25.849Z"
   },
   {
    "duration": 26,
    "start_time": "2021-10-24T13:24:57.987Z"
   },
   {
    "duration": 6,
    "start_time": "2021-10-24T13:25:13.034Z"
   },
   {
    "duration": 17,
    "start_time": "2021-10-24T13:26:48.250Z"
   },
   {
    "duration": 13,
    "start_time": "2021-10-24T13:27:09.068Z"
   },
   {
    "duration": 9,
    "start_time": "2021-10-24T13:27:57.072Z"
   },
   {
    "duration": 16,
    "start_time": "2021-10-24T13:28:02.193Z"
   },
   {
    "duration": 453,
    "start_time": "2021-10-24T13:28:04.936Z"
   },
   {
    "duration": 9,
    "start_time": "2021-10-24T13:28:31.732Z"
   },
   {
    "duration": 22,
    "start_time": "2021-10-24T13:28:33.768Z"
   },
   {
    "duration": 11,
    "start_time": "2021-10-24T13:29:10.676Z"
   },
   {
    "duration": 18,
    "start_time": "2021-10-24T13:29:16.641Z"
   },
   {
    "duration": 17,
    "start_time": "2021-10-24T13:29:58.725Z"
   },
   {
    "duration": 9,
    "start_time": "2021-10-24T13:30:51.712Z"
   },
   {
    "duration": 20,
    "start_time": "2021-10-24T13:31:17.820Z"
   },
   {
    "duration": 21,
    "start_time": "2021-10-24T13:31:26.398Z"
   },
   {
    "duration": 13,
    "start_time": "2021-10-24T13:32:14.970Z"
   },
   {
    "duration": 20,
    "start_time": "2021-10-24T13:32:44.512Z"
   },
   {
    "duration": 24,
    "start_time": "2021-10-24T13:32:57.976Z"
   },
   {
    "duration": 19,
    "start_time": "2021-10-24T13:33:10.160Z"
   },
   {
    "duration": 709,
    "start_time": "2021-10-24T13:33:28.779Z"
   },
   {
    "duration": 188,
    "start_time": "2021-10-24T13:33:29.490Z"
   },
   {
    "duration": 35,
    "start_time": "2021-10-24T13:33:29.680Z"
   },
   {
    "duration": 41,
    "start_time": "2021-10-24T13:33:29.717Z"
   },
   {
    "duration": 208,
    "start_time": "2021-10-24T13:33:29.776Z"
   },
   {
    "duration": 30,
    "start_time": "2021-10-24T13:33:29.986Z"
   },
   {
    "duration": 25,
    "start_time": "2021-10-24T13:33:30.019Z"
   },
   {
    "duration": 47,
    "start_time": "2021-10-24T13:33:30.047Z"
   },
   {
    "duration": 12,
    "start_time": "2021-10-24T13:33:30.096Z"
   },
   {
    "duration": 136,
    "start_time": "2021-10-24T13:33:30.111Z"
   },
   {
    "duration": 28,
    "start_time": "2021-10-24T13:33:30.249Z"
   },
   {
    "duration": 44,
    "start_time": "2021-10-24T13:33:30.279Z"
   },
   {
    "duration": 76,
    "start_time": "2021-10-24T13:33:30.325Z"
   },
   {
    "duration": 74,
    "start_time": "2021-10-24T13:33:30.404Z"
   },
   {
    "duration": 16,
    "start_time": "2021-10-24T13:33:30.481Z"
   },
   {
    "duration": 576,
    "start_time": "2021-10-24T13:33:30.499Z"
   },
   {
    "duration": -602,
    "start_time": "2021-10-24T13:33:31.683Z"
   },
   {
    "duration": -601,
    "start_time": "2021-10-24T13:33:31.690Z"
   },
   {
    "duration": -602,
    "start_time": "2021-10-24T13:33:31.693Z"
   },
   {
    "duration": -604,
    "start_time": "2021-10-24T13:33:31.697Z"
   },
   {
    "duration": 25,
    "start_time": "2021-10-24T13:33:38.455Z"
   },
   {
    "duration": 726,
    "start_time": "2021-10-24T13:34:09.241Z"
   },
   {
    "duration": 200,
    "start_time": "2021-10-24T13:34:09.969Z"
   },
   {
    "duration": 39,
    "start_time": "2021-10-24T13:34:10.172Z"
   },
   {
    "duration": 41,
    "start_time": "2021-10-24T13:34:10.214Z"
   },
   {
    "duration": 178,
    "start_time": "2021-10-24T13:34:10.257Z"
   },
   {
    "duration": 18,
    "start_time": "2021-10-24T13:34:10.437Z"
   },
   {
    "duration": 28,
    "start_time": "2021-10-24T13:34:10.457Z"
   },
   {
    "duration": 38,
    "start_time": "2021-10-24T13:34:10.489Z"
   },
   {
    "duration": 7,
    "start_time": "2021-10-24T13:34:10.529Z"
   },
   {
    "duration": 119,
    "start_time": "2021-10-24T13:34:10.538Z"
   },
   {
    "duration": 17,
    "start_time": "2021-10-24T13:34:10.659Z"
   },
   {
    "duration": 46,
    "start_time": "2021-10-24T13:34:10.679Z"
   },
   {
    "duration": 89,
    "start_time": "2021-10-24T13:34:10.728Z"
   },
   {
    "duration": 70,
    "start_time": "2021-10-24T13:34:10.819Z"
   },
   {
    "duration": 14,
    "start_time": "2021-10-24T13:34:10.892Z"
   },
   {
    "duration": 22,
    "start_time": "2021-10-24T13:34:10.909Z"
   },
   {
    "duration": 9,
    "start_time": "2021-10-24T13:34:10.932Z"
   },
   {
    "duration": 61,
    "start_time": "2021-10-24T13:34:10.943Z"
   },
   {
    "duration": 20,
    "start_time": "2021-10-24T13:34:11.006Z"
   },
   {
    "duration": 2,
    "start_time": "2021-10-24T13:34:11.028Z"
   },
   {
    "duration": 25,
    "start_time": "2021-10-24T13:34:22.597Z"
   },
   {
    "duration": 39,
    "start_time": "2021-10-24T13:34:29.157Z"
   },
   {
    "duration": 612,
    "start_time": "2021-10-24T13:34:47.530Z"
   },
   {
    "duration": 197,
    "start_time": "2021-10-24T13:34:48.144Z"
   },
   {
    "duration": 22,
    "start_time": "2021-10-24T13:34:48.343Z"
   },
   {
    "duration": 51,
    "start_time": "2021-10-24T13:34:48.378Z"
   },
   {
    "duration": 167,
    "start_time": "2021-10-24T13:34:48.431Z"
   },
   {
    "duration": 27,
    "start_time": "2021-10-24T13:34:48.601Z"
   },
   {
    "duration": 31,
    "start_time": "2021-10-24T13:34:48.630Z"
   },
   {
    "duration": 44,
    "start_time": "2021-10-24T13:34:48.664Z"
   },
   {
    "duration": 16,
    "start_time": "2021-10-24T13:34:48.711Z"
   },
   {
    "duration": 143,
    "start_time": "2021-10-24T13:34:48.729Z"
   },
   {
    "duration": 21,
    "start_time": "2021-10-24T13:34:48.874Z"
   },
   {
    "duration": 50,
    "start_time": "2021-10-24T13:34:48.898Z"
   },
   {
    "duration": 60,
    "start_time": "2021-10-24T13:34:48.949Z"
   },
   {
    "duration": 46,
    "start_time": "2021-10-24T13:34:49.011Z"
   },
   {
    "duration": 24,
    "start_time": "2021-10-24T13:34:49.060Z"
   },
   {
    "duration": 27,
    "start_time": "2021-10-24T13:34:49.086Z"
   },
   {
    "duration": 20,
    "start_time": "2021-10-24T13:34:49.115Z"
   },
   {
    "duration": 42,
    "start_time": "2021-10-24T13:34:49.137Z"
   },
   {
    "duration": 20,
    "start_time": "2021-10-24T13:34:49.181Z"
   },
   {
    "duration": 26,
    "start_time": "2021-10-24T13:34:49.203Z"
   },
   {
    "duration": 13,
    "start_time": "2021-10-24T13:36:56.496Z"
   },
   {
    "duration": 412,
    "start_time": "2021-10-24T13:47:45.298Z"
   },
   {
    "duration": 8,
    "start_time": "2021-10-24T13:48:09.910Z"
   },
   {
    "duration": 4,
    "start_time": "2021-10-24T13:48:18.913Z"
   },
   {
    "duration": 367,
    "start_time": "2021-10-24T13:50:01.671Z"
   },
   {
    "duration": 333,
    "start_time": "2021-10-24T13:50:14.487Z"
   },
   {
    "duration": 370,
    "start_time": "2021-10-24T13:50:42.763Z"
   },
   {
    "duration": 344,
    "start_time": "2021-10-24T13:51:35.909Z"
   },
   {
    "duration": -553,
    "start_time": "2021-10-24T13:51:59.345Z"
   },
   {
    "duration": 9808,
    "start_time": "2021-10-24T13:52:00.991Z"
   },
   {
    "duration": 8803,
    "start_time": "2021-10-24T13:52:28.282Z"
   },
   {
    "duration": 341,
    "start_time": "2021-10-24T13:53:20.246Z"
   },
   {
    "duration": 5,
    "start_time": "2021-10-24T13:53:28.236Z"
   },
   {
    "duration": 10,
    "start_time": "2021-10-24T13:53:32.251Z"
   },
   {
    "duration": 5,
    "start_time": "2021-10-24T13:54:03.064Z"
   },
   {
    "duration": 334,
    "start_time": "2021-10-24T14:05:07.601Z"
   },
   {
    "duration": 4,
    "start_time": "2021-10-24T14:05:14.289Z"
   },
   {
    "duration": 363,
    "start_time": "2021-10-24T14:08:40.658Z"
   },
   {
    "duration": 3,
    "start_time": "2021-10-24T14:08:55.009Z"
   },
   {
    "duration": 2791,
    "start_time": "2021-10-24T14:08:56.934Z"
   },
   {
    "duration": 3,
    "start_time": "2021-10-24T14:09:31.556Z"
   },
   {
    "duration": 2766,
    "start_time": "2021-10-24T14:09:34.049Z"
   },
   {
    "duration": 9,
    "start_time": "2021-10-24T14:10:13.976Z"
   },
   {
    "duration": 4,
    "start_time": "2021-10-24T14:10:19.478Z"
   },
   {
    "duration": 3001,
    "start_time": "2021-10-24T14:10:45.759Z"
   },
   {
    "duration": 2991,
    "start_time": "2021-10-24T14:11:09.046Z"
   },
   {
    "duration": 2,
    "start_time": "2021-10-24T14:11:59.957Z"
   },
   {
    "duration": 4,
    "start_time": "2021-10-24T14:12:05.993Z"
   },
   {
    "duration": 3,
    "start_time": "2021-10-24T14:14:04.373Z"
   },
   {
    "duration": 3756,
    "start_time": "2021-10-24T14:14:06.345Z"
   },
   {
    "duration": 3,
    "start_time": "2021-10-24T14:15:13.721Z"
   },
   {
    "duration": 4180,
    "start_time": "2021-10-24T14:15:14.615Z"
   },
   {
    "duration": 4048,
    "start_time": "2021-10-24T14:15:28.589Z"
   },
   {
    "duration": 13,
    "start_time": "2021-10-24T14:15:46.991Z"
   },
   {
    "duration": 709,
    "start_time": "2021-10-24T14:16:01.815Z"
   },
   {
    "duration": 181,
    "start_time": "2021-10-24T14:16:02.527Z"
   },
   {
    "duration": 23,
    "start_time": "2021-10-24T14:16:02.711Z"
   },
   {
    "duration": 59,
    "start_time": "2021-10-24T14:16:02.736Z"
   },
   {
    "duration": 151,
    "start_time": "2021-10-24T14:16:02.797Z"
   },
   {
    "duration": 31,
    "start_time": "2021-10-24T14:16:02.950Z"
   },
   {
    "duration": 27,
    "start_time": "2021-10-24T14:16:02.983Z"
   },
   {
    "duration": 38,
    "start_time": "2021-10-24T14:16:03.013Z"
   },
   {
    "duration": 7,
    "start_time": "2021-10-24T14:16:03.053Z"
   },
   {
    "duration": 116,
    "start_time": "2021-10-24T14:16:03.062Z"
   },
   {
    "duration": 19,
    "start_time": "2021-10-24T14:16:03.179Z"
   },
   {
    "duration": 44,
    "start_time": "2021-10-24T14:16:03.201Z"
   },
   {
    "duration": 74,
    "start_time": "2021-10-24T14:16:03.248Z"
   },
   {
    "duration": 55,
    "start_time": "2021-10-24T14:16:03.324Z"
   },
   {
    "duration": 4,
    "start_time": "2021-10-24T14:16:03.381Z"
   },
   {
    "duration": 3806,
    "start_time": "2021-10-24T14:16:03.386Z"
   },
   {
    "duration": 11,
    "start_time": "2021-10-24T14:16:07.194Z"
   },
   {
    "duration": 18,
    "start_time": "2021-10-24T14:16:07.207Z"
   },
   {
    "duration": 8,
    "start_time": "2021-10-24T14:16:07.227Z"
   },
   {
    "duration": 48,
    "start_time": "2021-10-24T14:16:07.237Z"
   },
   {
    "duration": 12,
    "start_time": "2021-10-24T14:16:07.287Z"
   },
   {
    "duration": 20,
    "start_time": "2021-10-24T14:16:07.301Z"
   },
   {
    "duration": 7,
    "start_time": "2021-10-24T14:16:07.324Z"
   },
   {
    "duration": 13,
    "start_time": "2021-10-24T14:16:07.333Z"
   },
   {
    "duration": 31,
    "start_time": "2021-10-24T14:16:07.348Z"
   },
   {
    "duration": 132,
    "start_time": "2021-10-24T14:16:07.381Z"
   },
   {
    "duration": -353,
    "start_time": "2021-10-24T14:16:07.868Z"
   },
   {
    "duration": -375,
    "start_time": "2021-10-24T14:16:07.891Z"
   },
   {
    "duration": 6,
    "start_time": "2021-10-24T14:20:34.513Z"
   },
   {
    "duration": 10610,
    "start_time": "2021-10-24T14:21:27.588Z"
   },
   {
    "duration": 10123,
    "start_time": "2021-10-24T14:23:12.333Z"
   },
   {
    "duration": 666,
    "start_time": "2021-10-24T14:24:00.244Z"
   },
   {
    "duration": 176,
    "start_time": "2021-10-24T14:24:00.912Z"
   },
   {
    "duration": 21,
    "start_time": "2021-10-24T14:24:01.090Z"
   },
   {
    "duration": 45,
    "start_time": "2021-10-24T14:24:01.113Z"
   },
   {
    "duration": 149,
    "start_time": "2021-10-24T14:24:01.160Z"
   },
   {
    "duration": 17,
    "start_time": "2021-10-24T14:24:01.311Z"
   },
   {
    "duration": 27,
    "start_time": "2021-10-24T14:24:01.330Z"
   },
   {
    "duration": 38,
    "start_time": "2021-10-24T14:24:01.360Z"
   },
   {
    "duration": 21,
    "start_time": "2021-10-24T14:24:01.400Z"
   },
   {
    "duration": 114,
    "start_time": "2021-10-24T14:24:01.423Z"
   },
   {
    "duration": 15,
    "start_time": "2021-10-24T14:24:01.539Z"
   },
   {
    "duration": 42,
    "start_time": "2021-10-24T14:24:01.555Z"
   },
   {
    "duration": 48,
    "start_time": "2021-10-24T14:24:01.599Z"
   },
   {
    "duration": 58,
    "start_time": "2021-10-24T14:24:01.649Z"
   },
   {
    "duration": 3,
    "start_time": "2021-10-24T14:24:01.709Z"
   },
   {
    "duration": 3609,
    "start_time": "2021-10-24T14:24:01.713Z"
   },
   {
    "duration": 12,
    "start_time": "2021-10-24T14:24:05.324Z"
   },
   {
    "duration": 39,
    "start_time": "2021-10-24T14:24:05.338Z"
   },
   {
    "duration": 10,
    "start_time": "2021-10-24T14:24:05.380Z"
   },
   {
    "duration": 19,
    "start_time": "2021-10-24T14:24:05.392Z"
   },
   {
    "duration": 14,
    "start_time": "2021-10-24T14:24:05.413Z"
   },
   {
    "duration": 57,
    "start_time": "2021-10-24T14:24:05.429Z"
   },
   {
    "duration": 9,
    "start_time": "2021-10-24T14:24:05.490Z"
   },
   {
    "duration": 17,
    "start_time": "2021-10-24T14:24:05.501Z"
   },
   {
    "duration": 4,
    "start_time": "2021-10-24T14:24:05.520Z"
   },
   {
    "duration": 7,
    "start_time": "2021-10-24T14:24:05.526Z"
   },
   {
    "duration": 7,
    "start_time": "2021-10-24T14:24:05.534Z"
   },
   {
    "duration": 10078,
    "start_time": "2021-10-24T14:24:13.653Z"
   },
   {
    "duration": 6,
    "start_time": "2021-10-24T14:25:21.390Z"
   },
   {
    "duration": 730,
    "start_time": "2021-10-24T14:25:23.053Z"
   },
   {
    "duration": 4,
    "start_time": "2021-10-24T14:26:15.498Z"
   },
   {
    "duration": 107,
    "start_time": "2021-10-24T14:26:24.907Z"
   },
   {
    "duration": 4,
    "start_time": "2021-10-24T14:27:08.119Z"
   },
   {
    "duration": 5,
    "start_time": "2021-10-24T14:27:16.575Z"
   },
   {
    "duration": 5,
    "start_time": "2021-10-24T14:27:20.994Z"
   },
   {
    "duration": 333,
    "start_time": "2021-10-24T14:27:25.678Z"
   },
   {
    "duration": 3,
    "start_time": "2021-10-24T14:27:29.924Z"
   },
   {
    "duration": 8,
    "start_time": "2021-10-24T14:28:21.350Z"
   },
   {
    "duration": 5788,
    "start_time": "2021-10-24T14:28:23.463Z"
   },
   {
    "duration": 6417,
    "start_time": "2021-10-24T14:29:12.882Z"
   },
   {
    "duration": 4,
    "start_time": "2021-10-24T14:29:24.163Z"
   },
   {
    "duration": 4,
    "start_time": "2021-10-24T14:29:29.021Z"
   },
   {
    "duration": 353,
    "start_time": "2021-10-24T14:29:59.449Z"
   },
   {
    "duration": 335,
    "start_time": "2021-10-24T14:30:28.173Z"
   },
   {
    "duration": 4,
    "start_time": "2021-10-24T14:30:37.471Z"
   },
   {
    "duration": 349,
    "start_time": "2021-10-24T14:32:17.142Z"
   },
   {
    "duration": 6,
    "start_time": "2021-10-24T14:32:21.872Z"
   },
   {
    "duration": 6,
    "start_time": "2021-10-24T14:32:29.803Z"
   },
   {
    "duration": 7,
    "start_time": "2021-10-24T14:33:10.354Z"
   },
   {
    "duration": 65,
    "start_time": "2021-10-24T14:33:11.353Z"
   },
   {
    "duration": 7,
    "start_time": "2021-10-24T14:33:42.074Z"
   },
   {
    "duration": 61,
    "start_time": "2021-10-24T14:33:43.219Z"
   },
   {
    "duration": 7,
    "start_time": "2021-10-24T14:34:18.297Z"
   },
   {
    "duration": 62,
    "start_time": "2021-10-24T14:34:18.745Z"
   },
   {
    "duration": 635,
    "start_time": "2021-10-24T14:39:50.508Z"
   },
   {
    "duration": 177,
    "start_time": "2021-10-24T14:39:51.145Z"
   },
   {
    "duration": 21,
    "start_time": "2021-10-24T14:39:51.325Z"
   },
   {
    "duration": 55,
    "start_time": "2021-10-24T14:39:51.348Z"
   },
   {
    "duration": 143,
    "start_time": "2021-10-24T14:39:51.405Z"
   },
   {
    "duration": 27,
    "start_time": "2021-10-24T14:39:51.550Z"
   },
   {
    "duration": 23,
    "start_time": "2021-10-24T14:39:51.578Z"
   },
   {
    "duration": 47,
    "start_time": "2021-10-24T14:39:51.604Z"
   },
   {
    "duration": 6,
    "start_time": "2021-10-24T14:39:51.653Z"
   },
   {
    "duration": 140,
    "start_time": "2021-10-24T14:39:51.661Z"
   },
   {
    "duration": 15,
    "start_time": "2021-10-24T14:39:51.804Z"
   },
   {
    "duration": 30,
    "start_time": "2021-10-24T14:39:51.821Z"
   },
   {
    "duration": 65,
    "start_time": "2021-10-24T14:39:51.853Z"
   },
   {
    "duration": 57,
    "start_time": "2021-10-24T14:39:51.920Z"
   },
   {
    "duration": 3,
    "start_time": "2021-10-24T14:39:51.979Z"
   },
   {
    "duration": 3704,
    "start_time": "2021-10-24T14:39:51.983Z"
   },
   {
    "duration": 12,
    "start_time": "2021-10-24T14:39:55.689Z"
   },
   {
    "duration": 17,
    "start_time": "2021-10-24T14:39:55.703Z"
   },
   {
    "duration": 9,
    "start_time": "2021-10-24T14:39:55.722Z"
   },
   {
    "duration": 56,
    "start_time": "2021-10-24T14:39:55.733Z"
   },
   {
    "duration": 13,
    "start_time": "2021-10-24T14:39:55.791Z"
   },
   {
    "duration": 22,
    "start_time": "2021-10-24T14:39:55.806Z"
   },
   {
    "duration": 9,
    "start_time": "2021-10-24T14:39:55.831Z"
   },
   {
    "duration": 43,
    "start_time": "2021-10-24T14:39:55.842Z"
   },
   {
    "duration": 5,
    "start_time": "2021-10-24T14:39:55.887Z"
   },
   {
    "duration": 6,
    "start_time": "2021-10-24T14:39:55.894Z"
   },
   {
    "duration": 79,
    "start_time": "2021-10-24T14:39:55.902Z"
   },
   {
    "duration": 121,
    "start_time": "2021-10-24T14:41:29.870Z"
   },
   {
    "duration": 420,
    "start_time": "2021-10-24T14:41:42.321Z"
   },
   {
    "duration": 8,
    "start_time": "2021-10-24T14:41:51.341Z"
   },
   {
    "duration": 8,
    "start_time": "2021-10-24T14:50:42.733Z"
   },
   {
    "duration": 300,
    "start_time": "2021-10-24T14:51:24.652Z"
   },
   {
    "duration": 284,
    "start_time": "2021-10-24T14:51:35.021Z"
   },
   {
    "duration": 232,
    "start_time": "2021-10-24T14:51:39.511Z"
   },
   {
    "duration": 290,
    "start_time": "2021-10-24T14:51:45.660Z"
   },
   {
    "duration": 197,
    "start_time": "2021-10-24T14:51:52.688Z"
   },
   {
    "duration": 1045,
    "start_time": "2021-10-24T14:54:19.094Z"
   },
   {
    "duration": 906,
    "start_time": "2021-10-24T14:55:08.283Z"
   },
   {
    "duration": 709,
    "start_time": "2021-10-24T14:56:06.832Z"
   },
   {
    "duration": 636,
    "start_time": "2021-10-24T14:58:13.378Z"
   },
   {
    "duration": 756,
    "start_time": "2021-10-24T15:00:12.491Z"
   },
   {
    "duration": 602,
    "start_time": "2021-10-24T15:00:37.604Z"
   },
   {
    "duration": 589,
    "start_time": "2021-10-24T15:00:47.862Z"
   },
   {
    "duration": 299,
    "start_time": "2021-10-24T15:00:55.372Z"
   },
   {
    "duration": 103,
    "start_time": "2021-10-24T15:01:09.368Z"
   },
   {
    "duration": 133,
    "start_time": "2021-10-24T15:01:15.132Z"
   },
   {
    "duration": 245,
    "start_time": "2021-10-24T15:01:18.375Z"
   },
   {
    "duration": 221,
    "start_time": "2021-10-24T15:02:16.104Z"
   },
   {
    "duration": 228,
    "start_time": "2021-10-24T15:02:57.296Z"
   },
   {
    "duration": 242,
    "start_time": "2021-10-24T15:03:28.907Z"
   },
   {
    "duration": 243,
    "start_time": "2021-10-24T15:06:28.572Z"
   },
   {
    "duration": 215,
    "start_time": "2021-10-24T15:11:19.966Z"
   },
   {
    "duration": 230,
    "start_time": "2021-10-24T15:12:02.655Z"
   },
   {
    "duration": 205,
    "start_time": "2021-10-24T15:12:19.125Z"
   },
   {
    "duration": 217,
    "start_time": "2021-10-24T15:12:29.057Z"
   },
   {
    "duration": 218,
    "start_time": "2021-10-24T15:12:39.297Z"
   },
   {
    "duration": 330,
    "start_time": "2021-10-24T15:12:47.616Z"
   },
   {
    "duration": 231,
    "start_time": "2021-10-24T15:12:53.862Z"
   },
   {
    "duration": 345,
    "start_time": "2021-10-24T15:17:27.836Z"
   },
   {
    "duration": 337,
    "start_time": "2021-10-24T15:18:36.671Z"
   },
   {
    "duration": 201,
    "start_time": "2021-10-24T15:18:45.259Z"
   },
   {
    "duration": 212,
    "start_time": "2021-10-24T15:19:04.833Z"
   },
   {
    "duration": 223,
    "start_time": "2021-10-24T15:19:37.305Z"
   },
   {
    "duration": 120,
    "start_time": "2021-10-24T15:19:56.679Z"
   },
   {
    "duration": 107,
    "start_time": "2021-10-24T15:20:10.638Z"
   },
   {
    "duration": 576,
    "start_time": "2021-10-24T15:21:39.465Z"
   },
   {
    "duration": 265,
    "start_time": "2021-10-24T15:21:59.873Z"
   },
   {
    "duration": 114,
    "start_time": "2021-10-24T15:22:11.269Z"
   },
   {
    "duration": 256,
    "start_time": "2021-10-24T15:22:16.889Z"
   },
   {
    "duration": 151,
    "start_time": "2021-10-24T15:22:21.854Z"
   },
   {
    "duration": 214,
    "start_time": "2021-10-24T15:22:31.119Z"
   },
   {
    "duration": 109,
    "start_time": "2021-10-24T15:22:38.963Z"
   },
   {
    "duration": 226,
    "start_time": "2021-10-24T15:22:45.285Z"
   },
   {
    "duration": 212,
    "start_time": "2021-10-24T15:22:51.834Z"
   },
   {
    "duration": 211,
    "start_time": "2021-10-24T15:22:56.331Z"
   },
   {
    "duration": 301,
    "start_time": "2021-10-24T15:23:17.993Z"
   },
   {
    "duration": 215,
    "start_time": "2021-10-24T15:23:30.115Z"
   },
   {
    "duration": 206,
    "start_time": "2021-10-24T15:26:28.503Z"
   },
   {
    "duration": 212,
    "start_time": "2021-10-24T15:26:36.355Z"
   },
   {
    "duration": 218,
    "start_time": "2021-10-24T15:28:08.189Z"
   },
   {
    "duration": 365,
    "start_time": "2021-10-24T15:28:27.311Z"
   },
   {
    "duration": 221,
    "start_time": "2021-10-24T15:28:52.667Z"
   },
   {
    "duration": 208,
    "start_time": "2021-10-24T15:29:40.720Z"
   },
   {
    "duration": 207,
    "start_time": "2021-10-24T15:30:33.594Z"
   },
   {
    "duration": 210,
    "start_time": "2021-10-24T15:30:59.652Z"
   },
   {
    "duration": 225,
    "start_time": "2021-10-24T15:31:25.340Z"
   },
   {
    "duration": 265,
    "start_time": "2021-10-24T15:40:27.968Z"
   },
   {
    "duration": 269,
    "start_time": "2021-10-24T15:40:32.745Z"
   },
   {
    "duration": 239,
    "start_time": "2021-10-24T15:41:17.102Z"
   },
   {
    "duration": 233,
    "start_time": "2021-10-24T15:41:20.834Z"
   },
   {
    "duration": 365,
    "start_time": "2021-10-24T15:41:24.648Z"
   },
   {
    "duration": 245,
    "start_time": "2021-10-24T15:44:32.165Z"
   },
   {
    "duration": 209,
    "start_time": "2021-10-24T15:49:17.791Z"
   },
   {
    "duration": 212,
    "start_time": "2021-10-24T15:49:21.787Z"
   },
   {
    "duration": 221,
    "start_time": "2021-10-24T15:49:31.843Z"
   },
   {
    "duration": 219,
    "start_time": "2021-10-24T15:49:45.073Z"
   },
   {
    "duration": 215,
    "start_time": "2021-10-24T15:49:54.780Z"
   },
   {
    "duration": 229,
    "start_time": "2021-10-24T15:50:06.575Z"
   },
   {
    "duration": 246,
    "start_time": "2021-10-24T15:50:26.633Z"
   },
   {
    "duration": 5,
    "start_time": "2021-10-24T15:55:24.373Z"
   },
   {
    "duration": 4,
    "start_time": "2021-10-24T15:55:37.922Z"
   },
   {
    "duration": 5,
    "start_time": "2021-10-24T15:55:50.323Z"
   },
   {
    "duration": 704,
    "start_time": "2021-10-24T15:59:39.482Z"
   },
   {
    "duration": 5,
    "start_time": "2021-10-24T16:00:20.113Z"
   },
   {
    "duration": 5,
    "start_time": "2021-10-24T16:01:39.269Z"
   },
   {
    "duration": 8,
    "start_time": "2021-10-24T16:02:03.683Z"
   },
   {
    "duration": 5,
    "start_time": "2021-10-24T16:02:26.830Z"
   },
   {
    "duration": 5,
    "start_time": "2021-10-24T16:04:17.642Z"
   },
   {
    "duration": 5,
    "start_time": "2021-10-24T16:04:33.559Z"
   },
   {
    "duration": 5,
    "start_time": "2021-10-24T16:04:56.850Z"
   },
   {
    "duration": 6,
    "start_time": "2021-10-24T16:05:06.496Z"
   },
   {
    "duration": 7,
    "start_time": "2021-10-24T16:05:12.611Z"
   },
   {
    "duration": 18,
    "start_time": "2021-10-24T16:05:49.547Z"
   },
   {
    "duration": 8,
    "start_time": "2021-10-24T16:06:31.796Z"
   },
   {
    "duration": 9,
    "start_time": "2021-10-24T16:07:08.256Z"
   },
   {
    "duration": 326,
    "start_time": "2021-10-24T16:09:17.709Z"
   },
   {
    "duration": 394,
    "start_time": "2021-10-24T16:09:30.268Z"
   },
   {
    "duration": 5,
    "start_time": "2021-10-24T16:10:31.338Z"
   },
   {
    "duration": 192,
    "start_time": "2021-10-24T16:10:54.175Z"
   },
   {
    "duration": 184,
    "start_time": "2021-10-24T16:11:00.218Z"
   },
   {
    "duration": 381,
    "start_time": "2021-10-24T16:11:25.898Z"
   },
   {
    "duration": 315,
    "start_time": "2021-10-24T16:13:21.423Z"
   },
   {
    "duration": 207,
    "start_time": "2021-10-24T16:13:36.157Z"
   },
   {
    "duration": 6,
    "start_time": "2021-10-24T16:13:50.237Z"
   },
   {
    "duration": 6,
    "start_time": "2021-10-24T16:15:05.088Z"
   },
   {
    "duration": 6,
    "start_time": "2021-10-24T16:15:08.609Z"
   },
   {
    "duration": 6,
    "start_time": "2021-10-24T16:15:14.524Z"
   },
   {
    "duration": 8,
    "start_time": "2021-10-24T18:01:45.373Z"
   },
   {
    "duration": 658,
    "start_time": "2021-10-24T18:02:18.746Z"
   },
   {
    "duration": 164,
    "start_time": "2021-10-24T18:02:19.406Z"
   },
   {
    "duration": 22,
    "start_time": "2021-10-24T18:02:19.572Z"
   },
   {
    "duration": 39,
    "start_time": "2021-10-24T18:02:19.596Z"
   },
   {
    "duration": 142,
    "start_time": "2021-10-24T18:02:19.637Z"
   },
   {
    "duration": 17,
    "start_time": "2021-10-24T18:02:19.781Z"
   },
   {
    "duration": 22,
    "start_time": "2021-10-24T18:02:19.799Z"
   },
   {
    "duration": 47,
    "start_time": "2021-10-24T18:02:19.825Z"
   },
   {
    "duration": 8,
    "start_time": "2021-10-24T18:02:19.874Z"
   },
   {
    "duration": 101,
    "start_time": "2021-10-24T18:02:19.884Z"
   },
   {
    "duration": 15,
    "start_time": "2021-10-24T18:02:19.986Z"
   },
   {
    "duration": 35,
    "start_time": "2021-10-24T18:02:20.003Z"
   },
   {
    "duration": 65,
    "start_time": "2021-10-24T18:02:20.040Z"
   },
   {
    "duration": 41,
    "start_time": "2021-10-24T18:02:20.107Z"
   },
   {
    "duration": 3,
    "start_time": "2021-10-24T18:02:20.149Z"
   },
   {
    "duration": 4165,
    "start_time": "2021-10-24T18:02:20.154Z"
   },
   {
    "duration": 13,
    "start_time": "2021-10-24T18:02:24.322Z"
   },
   {
    "duration": 181,
    "start_time": "2021-10-24T18:02:24.337Z"
   },
   {
    "duration": 8,
    "start_time": "2021-10-24T18:02:24.520Z"
   },
   {
    "duration": 18,
    "start_time": "2021-10-24T18:02:24.530Z"
   },
   {
    "duration": 12,
    "start_time": "2021-10-24T18:02:24.550Z"
   },
   {
    "duration": 20,
    "start_time": "2021-10-24T18:02:24.563Z"
   },
   {
    "duration": 8,
    "start_time": "2021-10-24T18:02:24.586Z"
   },
   {
    "duration": 15,
    "start_time": "2021-10-24T18:02:24.597Z"
   },
   {
    "duration": 7,
    "start_time": "2021-10-24T18:02:24.614Z"
   },
   {
    "duration": 15,
    "start_time": "2021-10-24T18:02:24.623Z"
   },
   {
    "duration": 95,
    "start_time": "2021-10-24T18:02:24.640Z"
   },
   {
    "duration": 8,
    "start_time": "2021-10-24T18:02:24.738Z"
   },
   {
    "duration": 309,
    "start_time": "2021-10-24T18:02:24.748Z"
   },
   {
    "duration": 290,
    "start_time": "2021-10-24T18:02:25.060Z"
   },
   {
    "duration": 217,
    "start_time": "2021-10-24T18:02:25.352Z"
   },
   {
    "duration": 231,
    "start_time": "2021-10-24T18:02:25.571Z"
   },
   {
    "duration": 257,
    "start_time": "2021-10-24T18:02:25.804Z"
   },
   {
    "duration": 228,
    "start_time": "2021-10-24T18:02:26.062Z"
   },
   {
    "duration": 105,
    "start_time": "2021-10-24T18:02:26.292Z"
   },
   {
    "duration": 127,
    "start_time": "2021-10-24T18:02:26.272Z"
   },
   {
    "duration": 123,
    "start_time": "2021-10-24T18:02:26.278Z"
   },
   {
    "duration": 114,
    "start_time": "2021-10-24T18:02:26.289Z"
   },
   {
    "duration": 105,
    "start_time": "2021-10-24T18:02:26.299Z"
   },
   {
    "duration": 101,
    "start_time": "2021-10-24T18:02:26.304Z"
   },
   {
    "duration": 99,
    "start_time": "2021-10-24T18:02:26.307Z"
   },
   {
    "duration": 96,
    "start_time": "2021-10-24T18:02:26.312Z"
   },
   {
    "duration": 91,
    "start_time": "2021-10-24T18:02:26.318Z"
   },
   {
    "duration": 2,
    "start_time": "2021-10-24T18:03:01.165Z"
   },
   {
    "duration": 5,
    "start_time": "2021-10-24T18:03:02.248Z"
   },
   {
    "duration": 171,
    "start_time": "2021-10-24T18:03:03.188Z"
   },
   {
    "duration": 393,
    "start_time": "2021-10-24T18:03:19.088Z"
   },
   {
    "duration": 9,
    "start_time": "2021-10-24T18:03:20.960Z"
   },
   {
    "duration": 5,
    "start_time": "2021-10-24T18:03:26.988Z"
   },
   {
    "duration": 5,
    "start_time": "2021-10-24T18:39:37.218Z"
   },
   {
    "duration": 5,
    "start_time": "2021-10-24T18:39:46.411Z"
   },
   {
    "duration": 215,
    "start_time": "2021-10-24T18:49:44.131Z"
   },
   {
    "duration": 6,
    "start_time": "2021-10-24T19:13:38.044Z"
   },
   {
    "duration": 5,
    "start_time": "2021-10-24T19:14:49.245Z"
   },
   {
    "duration": 609,
    "start_time": "2021-10-24T19:19:39.225Z"
   },
   {
    "duration": 184,
    "start_time": "2021-10-24T19:19:39.836Z"
   },
   {
    "duration": 21,
    "start_time": "2021-10-24T19:19:40.022Z"
   },
   {
    "duration": 157,
    "start_time": "2021-10-24T19:19:40.045Z"
   },
   {
    "duration": 18,
    "start_time": "2021-10-24T19:19:40.204Z"
   },
   {
    "duration": 23,
    "start_time": "2021-10-24T19:19:40.223Z"
   },
   {
    "duration": 42,
    "start_time": "2021-10-24T19:19:40.248Z"
   },
   {
    "duration": 7,
    "start_time": "2021-10-24T19:19:40.293Z"
   },
   {
    "duration": 103,
    "start_time": "2021-10-24T19:19:40.303Z"
   },
   {
    "duration": 14,
    "start_time": "2021-10-24T19:19:40.408Z"
   },
   {
    "duration": 30,
    "start_time": "2021-10-24T19:19:40.424Z"
   },
   {
    "duration": 67,
    "start_time": "2021-10-24T19:19:40.455Z"
   },
   {
    "duration": 55,
    "start_time": "2021-10-24T19:19:40.523Z"
   },
   {
    "duration": 3,
    "start_time": "2021-10-24T19:19:40.580Z"
   },
   {
    "duration": 3313,
    "start_time": "2021-10-24T19:19:40.584Z"
   },
   {
    "duration": 15,
    "start_time": "2021-10-24T19:19:43.899Z"
   },
   {
    "duration": 16,
    "start_time": "2021-10-24T19:19:43.915Z"
   },
   {
    "duration": 9,
    "start_time": "2021-10-24T19:19:43.933Z"
   },
   {
    "duration": 58,
    "start_time": "2021-10-24T19:19:43.943Z"
   },
   {
    "duration": 13,
    "start_time": "2021-10-24T19:19:44.004Z"
   },
   {
    "duration": 19,
    "start_time": "2021-10-24T19:19:44.019Z"
   },
   {
    "duration": 8,
    "start_time": "2021-10-24T19:19:44.040Z"
   },
   {
    "duration": 16,
    "start_time": "2021-10-24T19:19:44.076Z"
   },
   {
    "duration": 5,
    "start_time": "2021-10-24T19:19:44.095Z"
   },
   {
    "duration": 7,
    "start_time": "2021-10-24T19:19:44.102Z"
   },
   {
    "duration": 84,
    "start_time": "2021-10-24T19:19:44.110Z"
   },
   {
    "duration": 8,
    "start_time": "2021-10-24T19:19:44.196Z"
   },
   {
    "duration": 328,
    "start_time": "2021-10-24T19:19:44.206Z"
   },
   {
    "duration": 281,
    "start_time": "2021-10-24T19:19:44.536Z"
   },
   {
    "duration": 241,
    "start_time": "2021-10-24T19:19:44.819Z"
   },
   {
    "duration": 301,
    "start_time": "2021-10-24T19:19:45.062Z"
   },
   {
    "duration": 258,
    "start_time": "2021-10-24T19:19:45.365Z"
   },
   {
    "duration": 256,
    "start_time": "2021-10-24T19:19:45.624Z"
   },
   {
    "duration": 6,
    "start_time": "2021-10-24T19:19:45.883Z"
   },
   {
    "duration": 374,
    "start_time": "2021-10-24T19:19:45.891Z"
   },
   {
    "duration": 16,
    "start_time": "2021-10-24T19:19:46.268Z"
   },
   {
    "duration": 4,
    "start_time": "2021-10-24T19:19:46.288Z"
   },
   {
    "duration": 9,
    "start_time": "2021-10-24T19:19:46.294Z"
   },
   {
    "duration": 8,
    "start_time": "2021-10-24T19:19:46.305Z"
   },
   {
    "duration": 759,
    "start_time": "2021-10-24T19:20:01.853Z"
   },
   {
    "duration": 166,
    "start_time": "2021-10-24T19:20:02.615Z"
   },
   {
    "duration": 21,
    "start_time": "2021-10-24T19:20:02.784Z"
   },
   {
    "duration": 138,
    "start_time": "2021-10-24T19:20:02.808Z"
   },
   {
    "duration": 17,
    "start_time": "2021-10-24T19:20:02.947Z"
   },
   {
    "duration": 23,
    "start_time": "2021-10-24T19:20:02.976Z"
   },
   {
    "duration": 39,
    "start_time": "2021-10-24T19:20:03.001Z"
   },
   {
    "duration": 6,
    "start_time": "2021-10-24T19:20:03.043Z"
   },
   {
    "duration": 96,
    "start_time": "2021-10-24T19:20:03.051Z"
   },
   {
    "duration": 13,
    "start_time": "2021-10-24T19:20:03.149Z"
   },
   {
    "duration": 33,
    "start_time": "2021-10-24T19:20:03.164Z"
   },
   {
    "duration": 43,
    "start_time": "2021-10-24T19:20:03.199Z"
   },
   {
    "duration": 61,
    "start_time": "2021-10-24T19:20:03.244Z"
   },
   {
    "duration": 3,
    "start_time": "2021-10-24T19:20:03.307Z"
   },
   {
    "duration": 3023,
    "start_time": "2021-10-24T19:20:03.312Z"
   },
   {
    "duration": 15,
    "start_time": "2021-10-24T19:20:06.337Z"
   },
   {
    "duration": 31,
    "start_time": "2021-10-24T19:20:06.354Z"
   },
   {
    "duration": 9,
    "start_time": "2021-10-24T19:20:06.387Z"
   },
   {
    "duration": 19,
    "start_time": "2021-10-24T19:20:06.398Z"
   },
   {
    "duration": 14,
    "start_time": "2021-10-24T19:20:06.419Z"
   },
   {
    "duration": 60,
    "start_time": "2021-10-24T19:20:06.435Z"
   },
   {
    "duration": 9,
    "start_time": "2021-10-24T19:20:06.497Z"
   },
   {
    "duration": 9,
    "start_time": "2021-10-24T19:20:06.510Z"
   },
   {
    "duration": 6,
    "start_time": "2021-10-24T19:20:06.521Z"
   },
   {
    "duration": 9,
    "start_time": "2021-10-24T19:20:06.529Z"
   },
   {
    "duration": 97,
    "start_time": "2021-10-24T19:20:06.540Z"
   },
   {
    "duration": 8,
    "start_time": "2021-10-24T19:20:06.640Z"
   },
   {
    "duration": 309,
    "start_time": "2021-10-24T19:20:06.650Z"
   },
   {
    "duration": 258,
    "start_time": "2021-10-24T19:20:06.962Z"
   },
   {
    "duration": 218,
    "start_time": "2021-10-24T19:20:07.222Z"
   },
   {
    "duration": 279,
    "start_time": "2021-10-24T19:20:07.441Z"
   },
   {
    "duration": 238,
    "start_time": "2021-10-24T19:20:07.723Z"
   },
   {
    "duration": 226,
    "start_time": "2021-10-24T19:20:07.963Z"
   },
   {
    "duration": 5,
    "start_time": "2021-10-24T19:20:08.191Z"
   },
   {
    "duration": 361,
    "start_time": "2021-10-24T19:20:08.197Z"
   },
   {
    "duration": 8,
    "start_time": "2021-10-24T19:20:08.560Z"
   },
   {
    "duration": 4,
    "start_time": "2021-10-24T19:20:08.576Z"
   },
   {
    "duration": 760,
    "start_time": "2021-10-25T08:52:23.698Z"
   },
   {
    "duration": 228,
    "start_time": "2021-10-25T08:52:24.461Z"
   },
   {
    "duration": 43,
    "start_time": "2021-10-25T08:52:24.693Z"
   },
   {
    "duration": 186,
    "start_time": "2021-10-25T08:52:24.740Z"
   },
   {
    "duration": 22,
    "start_time": "2021-10-25T08:52:24.928Z"
   },
   {
    "duration": 26,
    "start_time": "2021-10-25T08:52:24.952Z"
   },
   {
    "duration": 42,
    "start_time": "2021-10-25T08:52:24.981Z"
   },
   {
    "duration": 9,
    "start_time": "2021-10-25T08:52:25.026Z"
   },
   {
    "duration": 136,
    "start_time": "2021-10-25T08:52:25.039Z"
   },
   {
    "duration": 20,
    "start_time": "2021-10-25T08:52:25.178Z"
   },
   {
    "duration": 60,
    "start_time": "2021-10-25T08:52:25.201Z"
   },
   {
    "duration": 82,
    "start_time": "2021-10-25T08:52:25.263Z"
   },
   {
    "duration": 81,
    "start_time": "2021-10-25T08:52:25.347Z"
   },
   {
    "duration": 5,
    "start_time": "2021-10-25T08:52:25.430Z"
   },
   {
    "duration": 5293,
    "start_time": "2021-10-25T08:52:25.437Z"
   },
   {
    "duration": 17,
    "start_time": "2021-10-25T08:52:30.733Z"
   },
   {
    "duration": 25,
    "start_time": "2021-10-25T08:52:30.753Z"
   },
   {
    "duration": 44,
    "start_time": "2021-10-25T08:52:30.780Z"
   },
   {
    "duration": 29,
    "start_time": "2021-10-25T08:52:30.826Z"
   },
   {
    "duration": 16,
    "start_time": "2021-10-25T08:52:30.857Z"
   },
   {
    "duration": 68,
    "start_time": "2021-10-25T08:52:30.875Z"
   },
   {
    "duration": 13,
    "start_time": "2021-10-25T08:52:30.945Z"
   },
   {
    "duration": 26,
    "start_time": "2021-10-25T08:52:30.960Z"
   },
   {
    "duration": 10,
    "start_time": "2021-10-25T08:52:30.989Z"
   },
   {
    "duration": 29,
    "start_time": "2021-10-25T08:52:31.001Z"
   },
   {
    "duration": 136,
    "start_time": "2021-10-25T08:52:31.033Z"
   },
   {
    "duration": 11,
    "start_time": "2021-10-25T08:52:31.175Z"
   },
   {
    "duration": 487,
    "start_time": "2021-10-25T08:52:31.189Z"
   },
   {
    "duration": 420,
    "start_time": "2021-10-25T08:52:31.679Z"
   },
   {
    "duration": 469,
    "start_time": "2021-10-25T08:52:32.102Z"
   },
   {
    "duration": 569,
    "start_time": "2021-10-25T08:52:32.574Z"
   },
   {
    "duration": 498,
    "start_time": "2021-10-25T08:52:33.146Z"
   },
   {
    "duration": 478,
    "start_time": "2021-10-25T08:52:33.647Z"
   },
   {
    "duration": 6,
    "start_time": "2021-10-25T08:52:34.128Z"
   },
   {
    "duration": 494,
    "start_time": "2021-10-25T08:52:34.137Z"
   },
   {
    "duration": 13,
    "start_time": "2021-10-25T08:52:34.633Z"
   },
   {
    "duration": 12,
    "start_time": "2021-10-25T08:52:34.648Z"
   },
   {
    "duration": 10,
    "start_time": "2021-10-25T09:01:43.179Z"
   },
   {
    "duration": 7,
    "start_time": "2021-10-25T09:01:48.199Z"
   },
   {
    "duration": 342,
    "start_time": "2021-10-27T17:29:49.515Z"
   },
   {
    "duration": 92,
    "start_time": "2021-10-27T17:30:13.317Z"
   },
   {
    "duration": 742,
    "start_time": "2021-10-27T17:35:07.623Z"
   },
   {
    "duration": 228,
    "start_time": "2021-10-27T17:35:08.367Z"
   },
   {
    "duration": 27,
    "start_time": "2021-10-27T17:35:08.598Z"
   },
   {
    "duration": 190,
    "start_time": "2021-10-27T17:35:08.628Z"
   },
   {
    "duration": 23,
    "start_time": "2021-10-27T17:35:08.820Z"
   },
   {
    "duration": 38,
    "start_time": "2021-10-27T17:35:08.845Z"
   },
   {
    "duration": 40,
    "start_time": "2021-10-27T17:35:08.885Z"
   },
   {
    "duration": 10,
    "start_time": "2021-10-27T17:35:08.928Z"
   },
   {
    "duration": 123,
    "start_time": "2021-10-27T17:35:08.941Z"
   },
   {
    "duration": 27,
    "start_time": "2021-10-27T17:35:09.067Z"
   },
   {
    "duration": 42,
    "start_time": "2021-10-27T17:35:09.097Z"
   },
   {
    "duration": 91,
    "start_time": "2021-10-27T17:35:09.141Z"
   },
   {
    "duration": 75,
    "start_time": "2021-10-27T17:35:09.234Z"
   },
   {
    "duration": 5,
    "start_time": "2021-10-27T17:35:09.311Z"
   },
   {
    "duration": 4971,
    "start_time": "2021-10-27T17:35:09.318Z"
   },
   {
    "duration": 106,
    "start_time": "2021-10-27T17:35:14.291Z"
   },
   {
    "duration": -1301,
    "start_time": "2021-10-27T17:35:15.702Z"
   },
   {
    "duration": -1303,
    "start_time": "2021-10-27T17:35:15.705Z"
   },
   {
    "duration": -1305,
    "start_time": "2021-10-27T17:35:15.708Z"
   },
   {
    "duration": -1305,
    "start_time": "2021-10-27T17:35:15.710Z"
   },
   {
    "duration": -1306,
    "start_time": "2021-10-27T17:35:15.712Z"
   },
   {
    "duration": -1305,
    "start_time": "2021-10-27T17:35:15.713Z"
   },
   {
    "duration": -1306,
    "start_time": "2021-10-27T17:35:15.715Z"
   },
   {
    "duration": -1307,
    "start_time": "2021-10-27T17:35:15.717Z"
   },
   {
    "duration": -1307,
    "start_time": "2021-10-27T17:35:15.719Z"
   },
   {
    "duration": -1315,
    "start_time": "2021-10-27T17:35:15.728Z"
   },
   {
    "duration": -1317,
    "start_time": "2021-10-27T17:35:15.731Z"
   },
   {
    "duration": -1317,
    "start_time": "2021-10-27T17:35:15.733Z"
   },
   {
    "duration": -1318,
    "start_time": "2021-10-27T17:35:15.735Z"
   },
   {
    "duration": -1319,
    "start_time": "2021-10-27T17:35:15.737Z"
   },
   {
    "duration": -1320,
    "start_time": "2021-10-27T17:35:15.740Z"
   },
   {
    "duration": -1321,
    "start_time": "2021-10-27T17:35:15.742Z"
   },
   {
    "duration": -1321,
    "start_time": "2021-10-27T17:35:15.744Z"
   },
   {
    "duration": -1322,
    "start_time": "2021-10-27T17:35:15.746Z"
   },
   {
    "duration": -1323,
    "start_time": "2021-10-27T17:35:15.749Z"
   },
   {
    "duration": -1326,
    "start_time": "2021-10-27T17:35:15.754Z"
   },
   {
    "duration": -1328,
    "start_time": "2021-10-27T17:35:15.757Z"
   },
   {
    "duration": -1328,
    "start_time": "2021-10-27T17:35:15.759Z"
   },
   {
    "duration": 379,
    "start_time": "2021-10-27T17:37:50.570Z"
   },
   {
    "duration": 30,
    "start_time": "2021-10-27T17:45:00.087Z"
   },
   {
    "duration": 773,
    "start_time": "2021-10-27T17:46:10.481Z"
   },
   {
    "duration": 221,
    "start_time": "2021-10-27T17:46:11.256Z"
   },
   {
    "duration": 29,
    "start_time": "2021-10-27T17:46:11.480Z"
   },
   {
    "duration": 40,
    "start_time": "2021-10-27T17:46:11.512Z"
   },
   {
    "duration": 195,
    "start_time": "2021-10-27T17:46:11.555Z"
   },
   {
    "duration": 42,
    "start_time": "2021-10-27T17:46:11.753Z"
   },
   {
    "duration": 31,
    "start_time": "2021-10-27T17:46:11.798Z"
   },
   {
    "duration": 26,
    "start_time": "2021-10-27T17:46:11.833Z"
   },
   {
    "duration": 41,
    "start_time": "2021-10-27T17:46:11.862Z"
   },
   {
    "duration": 10,
    "start_time": "2021-10-27T17:46:11.906Z"
   },
   {
    "duration": 142,
    "start_time": "2021-10-27T17:46:11.918Z"
   },
   {
    "duration": 32,
    "start_time": "2021-10-27T17:46:12.062Z"
   },
   {
    "duration": 26,
    "start_time": "2021-10-27T17:46:12.097Z"
   },
   {
    "duration": 72,
    "start_time": "2021-10-27T17:46:12.126Z"
   },
   {
    "duration": 66,
    "start_time": "2021-10-27T17:46:12.200Z"
   },
   {
    "duration": 69,
    "start_time": "2021-10-27T17:46:12.268Z"
   },
   {
    "duration": 6,
    "start_time": "2021-10-27T17:46:12.340Z"
   },
   {
    "duration": 6500,
    "start_time": "2021-10-27T17:46:12.348Z"
   },
   {
    "duration": 43,
    "start_time": "2021-10-27T17:46:18.850Z"
   },
   {
    "duration": 91,
    "start_time": "2021-10-27T17:46:18.895Z"
   },
   {
    "duration": -1253,
    "start_time": "2021-10-27T17:46:20.243Z"
   },
   {
    "duration": -1262,
    "start_time": "2021-10-27T17:46:20.253Z"
   },
   {
    "duration": -1264,
    "start_time": "2021-10-27T17:46:20.256Z"
   },
   {
    "duration": -1276,
    "start_time": "2021-10-27T17:46:20.270Z"
   },
   {
    "duration": -1281,
    "start_time": "2021-10-27T17:46:20.276Z"
   },
   {
    "duration": -1287,
    "start_time": "2021-10-27T17:46:20.283Z"
   },
   {
    "duration": -1289,
    "start_time": "2021-10-27T17:46:20.286Z"
   },
   {
    "duration": -1291,
    "start_time": "2021-10-27T17:46:20.289Z"
   },
   {
    "duration": -1292,
    "start_time": "2021-10-27T17:46:20.292Z"
   },
   {
    "duration": -1298,
    "start_time": "2021-10-27T17:46:20.299Z"
   },
   {
    "duration": -1300,
    "start_time": "2021-10-27T17:46:20.302Z"
   },
   {
    "duration": -1302,
    "start_time": "2021-10-27T17:46:20.305Z"
   },
   {
    "duration": -1303,
    "start_time": "2021-10-27T17:46:20.307Z"
   },
   {
    "duration": -1309,
    "start_time": "2021-10-27T17:46:20.315Z"
   },
   {
    "duration": -1311,
    "start_time": "2021-10-27T17:46:20.318Z"
   },
   {
    "duration": -1312,
    "start_time": "2021-10-27T17:46:20.321Z"
   },
   {
    "duration": -1313,
    "start_time": "2021-10-27T17:46:20.323Z"
   },
   {
    "duration": -1315,
    "start_time": "2021-10-27T17:46:20.326Z"
   },
   {
    "duration": -1322,
    "start_time": "2021-10-27T17:46:20.335Z"
   },
   {
    "duration": -1326,
    "start_time": "2021-10-27T17:46:20.340Z"
   },
   {
    "duration": -1333,
    "start_time": "2021-10-27T17:46:20.348Z"
   },
   {
    "duration": -1336,
    "start_time": "2021-10-27T17:46:20.352Z"
   },
   {
    "duration": 408,
    "start_time": "2021-10-27T17:47:51.086Z"
   },
   {
    "duration": 29,
    "start_time": "2021-10-27T17:48:01.182Z"
   },
   {
    "duration": 22,
    "start_time": "2021-10-27T17:48:13.535Z"
   },
   {
    "duration": 205,
    "start_time": "2021-10-27T17:48:34.650Z"
   },
   {
    "duration": 205,
    "start_time": "2021-10-27T17:48:42.566Z"
   },
   {
    "duration": 314,
    "start_time": "2021-10-27T17:49:17.689Z"
   },
   {
    "duration": 294,
    "start_time": "2021-10-27T17:49:29.226Z"
   },
   {
    "duration": 810,
    "start_time": "2021-10-27T17:49:42.922Z"
   },
   {
    "duration": 236,
    "start_time": "2021-10-27T17:49:43.734Z"
   },
   {
    "duration": 31,
    "start_time": "2021-10-27T17:49:43.973Z"
   },
   {
    "duration": 39,
    "start_time": "2021-10-27T17:49:44.007Z"
   },
   {
    "duration": 204,
    "start_time": "2021-10-27T17:49:44.048Z"
   },
   {
    "duration": 31,
    "start_time": "2021-10-27T17:49:44.254Z"
   },
   {
    "duration": 32,
    "start_time": "2021-10-27T17:49:44.288Z"
   },
   {
    "duration": 27,
    "start_time": "2021-10-27T17:49:44.324Z"
   },
   {
    "duration": 42,
    "start_time": "2021-10-27T17:49:44.354Z"
   },
   {
    "duration": 9,
    "start_time": "2021-10-27T17:49:44.398Z"
   },
   {
    "duration": 152,
    "start_time": "2021-10-27T17:49:44.409Z"
   },
   {
    "duration": 28,
    "start_time": "2021-10-27T17:49:44.565Z"
   },
   {
    "duration": 26,
    "start_time": "2021-10-27T17:49:44.596Z"
   },
   {
    "duration": 75,
    "start_time": "2021-10-27T17:49:44.625Z"
   },
   {
    "duration": 68,
    "start_time": "2021-10-27T17:49:44.702Z"
   },
   {
    "duration": 59,
    "start_time": "2021-10-27T17:49:44.783Z"
   },
   {
    "duration": 5,
    "start_time": "2021-10-27T17:49:44.845Z"
   },
   {
    "duration": 6297,
    "start_time": "2021-10-27T17:49:44.853Z"
   },
   {
    "duration": 42,
    "start_time": "2021-10-27T17:49:51.153Z"
   },
   {
    "duration": 127,
    "start_time": "2021-10-27T17:49:51.198Z"
   },
   {
    "duration": -1266,
    "start_time": "2021-10-27T17:49:52.595Z"
   },
   {
    "duration": -1274,
    "start_time": "2021-10-27T17:49:52.605Z"
   },
   {
    "duration": -1277,
    "start_time": "2021-10-27T17:49:52.609Z"
   },
   {
    "duration": -1278,
    "start_time": "2021-10-27T17:49:52.612Z"
   },
   {
    "duration": -1287,
    "start_time": "2021-10-27T17:49:52.622Z"
   },
   {
    "duration": -1288,
    "start_time": "2021-10-27T17:49:52.625Z"
   },
   {
    "duration": -1289,
    "start_time": "2021-10-27T17:49:52.628Z"
   },
   {
    "duration": -1290,
    "start_time": "2021-10-27T17:49:52.631Z"
   },
   {
    "duration": -1296,
    "start_time": "2021-10-27T17:49:52.639Z"
   },
   {
    "duration": -1297,
    "start_time": "2021-10-27T17:49:52.642Z"
   },
   {
    "duration": -1299,
    "start_time": "2021-10-27T17:49:52.645Z"
   },
   {
    "duration": -1302,
    "start_time": "2021-10-27T17:49:52.649Z"
   },
   {
    "duration": -1308,
    "start_time": "2021-10-27T17:49:52.657Z"
   },
   {
    "duration": -1309,
    "start_time": "2021-10-27T17:49:52.659Z"
   },
   {
    "duration": -1311,
    "start_time": "2021-10-27T17:49:52.662Z"
   },
   {
    "duration": -1313,
    "start_time": "2021-10-27T17:49:52.666Z"
   },
   {
    "duration": -1319,
    "start_time": "2021-10-27T17:49:52.673Z"
   },
   {
    "duration": -1319,
    "start_time": "2021-10-27T17:49:52.675Z"
   },
   {
    "duration": -1321,
    "start_time": "2021-10-27T17:49:52.678Z"
   },
   {
    "duration": -1324,
    "start_time": "2021-10-27T17:49:52.682Z"
   },
   {
    "duration": -1329,
    "start_time": "2021-10-27T17:49:52.689Z"
   },
   {
    "duration": -1329,
    "start_time": "2021-10-27T17:49:52.691Z"
   },
   {
    "duration": 34,
    "start_time": "2021-10-27T17:52:14.148Z"
   },
   {
    "duration": 32,
    "start_time": "2021-10-27T17:52:26.427Z"
   },
   {
    "duration": 705,
    "start_time": "2021-10-27T17:54:11.520Z"
   },
   {
    "duration": 36,
    "start_time": "2021-10-27T17:54:40.865Z"
   },
   {
    "duration": 1359,
    "start_time": "2021-10-27T17:58:13.174Z"
   },
   {
    "duration": 94,
    "start_time": "2021-10-27T17:58:45.898Z"
   },
   {
    "duration": 119,
    "start_time": "2021-10-27T17:58:52.322Z"
   },
   {
    "duration": 112,
    "start_time": "2021-10-27T17:59:00.000Z"
   },
   {
    "duration": 89,
    "start_time": "2021-10-27T17:59:45.358Z"
   },
   {
    "duration": 306,
    "start_time": "2021-10-27T18:00:18.593Z"
   },
   {
    "duration": 1339,
    "start_time": "2021-10-27T18:00:38.484Z"
   },
   {
    "duration": 25,
    "start_time": "2021-10-27T18:00:56.927Z"
   },
   {
    "duration": 313,
    "start_time": "2021-10-27T18:01:05.906Z"
   },
   {
    "duration": 871,
    "start_time": "2021-10-27T18:01:10.398Z"
   },
   {
    "duration": 31,
    "start_time": "2021-10-27T18:01:21.320Z"
   },
   {
    "duration": 389,
    "start_time": "2021-10-27T18:01:57.797Z"
   },
   {
    "duration": 30,
    "start_time": "2021-10-27T18:02:04.785Z"
   },
   {
    "duration": 1184,
    "start_time": "2021-10-27T18:03:18.186Z"
   },
   {
    "duration": 378,
    "start_time": "2021-10-27T18:03:41.320Z"
   },
   {
    "duration": 30,
    "start_time": "2021-10-27T18:03:49.389Z"
   },
   {
    "duration": 32,
    "start_time": "2021-10-27T18:03:55.626Z"
   },
   {
    "duration": 304,
    "start_time": "2021-10-27T18:04:14.688Z"
   },
   {
    "duration": 33,
    "start_time": "2021-10-27T18:04:20.789Z"
   },
   {
    "duration": 33,
    "start_time": "2021-10-27T18:04:36.478Z"
   },
   {
    "duration": 33,
    "start_time": "2021-10-27T18:04:40.738Z"
   },
   {
    "duration": 34,
    "start_time": "2021-10-27T18:04:50.729Z"
   },
   {
    "duration": 25,
    "start_time": "2021-10-27T18:09:11.938Z"
   },
   {
    "duration": 9819,
    "start_time": "2021-10-27T18:09:59.429Z"
   },
   {
    "duration": 7847,
    "start_time": "2021-10-27T18:10:15.080Z"
   },
   {
    "duration": 31,
    "start_time": "2021-10-27T18:10:38.104Z"
   },
   {
    "duration": 57,
    "start_time": "2021-10-27T18:10:57.306Z"
   },
   {
    "duration": 44,
    "start_time": "2021-10-27T18:11:39.317Z"
   },
   {
    "duration": 26,
    "start_time": "2021-10-27T18:12:01.461Z"
   },
   {
    "duration": 746,
    "start_time": "2021-10-27T18:14:24.602Z"
   },
   {
    "duration": 225,
    "start_time": "2021-10-27T18:14:25.350Z"
   },
   {
    "duration": 34,
    "start_time": "2021-10-27T18:14:25.578Z"
   },
   {
    "duration": 44,
    "start_time": "2021-10-27T18:14:25.615Z"
   },
   {
    "duration": 204,
    "start_time": "2021-10-27T18:14:25.662Z"
   },
   {
    "duration": 26,
    "start_time": "2021-10-27T18:14:25.869Z"
   },
   {
    "duration": 36,
    "start_time": "2021-10-27T18:14:25.898Z"
   },
   {
    "duration": 45,
    "start_time": "2021-10-27T18:14:25.937Z"
   },
   {
    "duration": 40,
    "start_time": "2021-10-27T18:14:25.985Z"
   },
   {
    "duration": 8,
    "start_time": "2021-10-27T18:14:26.028Z"
   },
   {
    "duration": 127,
    "start_time": "2021-10-27T18:14:26.038Z"
   },
   {
    "duration": 20,
    "start_time": "2021-10-27T18:14:26.167Z"
   },
   {
    "duration": 27,
    "start_time": "2021-10-27T18:14:26.189Z"
   },
   {
    "duration": 22,
    "start_time": "2021-10-27T18:14:26.218Z"
   },
   {
    "duration": 70,
    "start_time": "2021-10-27T18:14:26.243Z"
   },
   {
    "duration": 27,
    "start_time": "2021-10-27T18:14:26.316Z"
   },
   {
    "duration": 57,
    "start_time": "2021-10-27T18:14:26.347Z"
   },
   {
    "duration": 6,
    "start_time": "2021-10-27T18:14:26.406Z"
   },
   {
    "duration": 6388,
    "start_time": "2021-10-27T18:14:26.415Z"
   },
   {
    "duration": 76,
    "start_time": "2021-10-27T18:14:32.806Z"
   },
   {
    "duration": 29,
    "start_time": "2021-10-27T18:14:32.884Z"
   },
   {
    "duration": 90,
    "start_time": "2021-10-27T18:14:32.916Z"
   },
   {
    "duration": -1257,
    "start_time": "2021-10-27T18:14:34.268Z"
   },
   {
    "duration": -1260,
    "start_time": "2021-10-27T18:14:34.272Z"
   },
   {
    "duration": -1260,
    "start_time": "2021-10-27T18:14:34.275Z"
   },
   {
    "duration": -1260,
    "start_time": "2021-10-27T18:14:34.277Z"
   },
   {
    "duration": -1263,
    "start_time": "2021-10-27T18:14:34.282Z"
   },
   {
    "duration": -1266,
    "start_time": "2021-10-27T18:14:34.287Z"
   },
   {
    "duration": -1266,
    "start_time": "2021-10-27T18:14:34.289Z"
   },
   {
    "duration": -1266,
    "start_time": "2021-10-27T18:14:34.291Z"
   },
   {
    "duration": -1265,
    "start_time": "2021-10-27T18:14:34.293Z"
   },
   {
    "duration": -1265,
    "start_time": "2021-10-27T18:14:34.295Z"
   },
   {
    "duration": -1265,
    "start_time": "2021-10-27T18:14:34.297Z"
   },
   {
    "duration": -1274,
    "start_time": "2021-10-27T18:14:34.308Z"
   },
   {
    "duration": -1278,
    "start_time": "2021-10-27T18:14:34.314Z"
   },
   {
    "duration": -1279,
    "start_time": "2021-10-27T18:14:34.317Z"
   },
   {
    "duration": -1279,
    "start_time": "2021-10-27T18:14:34.319Z"
   },
   {
    "duration": -1282,
    "start_time": "2021-10-27T18:14:34.325Z"
   },
   {
    "duration": -1282,
    "start_time": "2021-10-27T18:14:34.327Z"
   },
   {
    "duration": -1282,
    "start_time": "2021-10-27T18:14:34.330Z"
   },
   {
    "duration": -1283,
    "start_time": "2021-10-27T18:14:34.332Z"
   },
   {
    "duration": -1283,
    "start_time": "2021-10-27T18:14:34.334Z"
   },
   {
    "duration": -1254,
    "start_time": "2021-10-27T18:14:34.336Z"
   },
   {
    "duration": -1255,
    "start_time": "2021-10-27T18:14:34.339Z"
   },
   {
    "duration": -1255,
    "start_time": "2021-10-27T18:14:34.341Z"
   },
   {
    "duration": -1256,
    "start_time": "2021-10-27T18:14:34.344Z"
   },
   {
    "duration": 20,
    "start_time": "2021-10-27T18:16:12.318Z"
   },
   {
    "duration": 24,
    "start_time": "2021-10-27T18:16:19.516Z"
   },
   {
    "duration": 20,
    "start_time": "2021-10-27T18:16:21.149Z"
   },
   {
    "duration": 40,
    "start_time": "2021-10-27T18:16:59.033Z"
   },
   {
    "duration": 25,
    "start_time": "2021-10-27T18:17:46.102Z"
   },
   {
    "duration": 585,
    "start_time": "2021-10-27T18:17:59.885Z"
   },
   {
    "duration": 26,
    "start_time": "2021-10-27T18:18:14.316Z"
   },
   {
    "duration": 37,
    "start_time": "2021-10-27T18:22:24.174Z"
   },
   {
    "duration": 322,
    "start_time": "2021-10-27T18:23:05.106Z"
   },
   {
    "duration": 45,
    "start_time": "2021-10-27T18:23:17.492Z"
   },
   {
    "duration": 51,
    "start_time": "2021-10-27T18:23:55.550Z"
   },
   {
    "duration": 28,
    "start_time": "2021-10-27T18:24:23.613Z"
   },
   {
    "duration": 317,
    "start_time": "2021-10-27T18:25:47.577Z"
   },
   {
    "duration": 33,
    "start_time": "2021-10-27T18:25:52.178Z"
   },
   {
    "duration": 45,
    "start_time": "2021-10-27T18:26:26.796Z"
   },
   {
    "duration": 39,
    "start_time": "2021-10-27T18:26:52.927Z"
   },
   {
    "duration": 770,
    "start_time": "2021-10-27T18:27:11.543Z"
   },
   {
    "duration": 221,
    "start_time": "2021-10-27T18:27:12.316Z"
   },
   {
    "duration": 28,
    "start_time": "2021-10-27T18:27:12.540Z"
   },
   {
    "duration": 48,
    "start_time": "2021-10-27T18:27:12.571Z"
   },
   {
    "duration": 190,
    "start_time": "2021-10-27T18:27:12.621Z"
   },
   {
    "duration": 22,
    "start_time": "2021-10-27T18:27:12.814Z"
   },
   {
    "duration": 51,
    "start_time": "2021-10-27T18:27:12.838Z"
   },
   {
    "duration": 24,
    "start_time": "2021-10-27T18:27:12.893Z"
   },
   {
    "duration": 42,
    "start_time": "2021-10-27T18:27:12.920Z"
   },
   {
    "duration": 8,
    "start_time": "2021-10-27T18:27:12.964Z"
   },
   {
    "duration": 131,
    "start_time": "2021-10-27T18:27:12.975Z"
   },
   {
    "duration": 19,
    "start_time": "2021-10-27T18:27:13.108Z"
   },
   {
    "duration": 25,
    "start_time": "2021-10-27T18:27:13.130Z"
   },
   {
    "duration": 56,
    "start_time": "2021-10-27T18:27:13.158Z"
   },
   {
    "duration": 41,
    "start_time": "2021-10-27T18:27:13.216Z"
   },
   {
    "duration": 65,
    "start_time": "2021-10-27T18:27:13.259Z"
   },
   {
    "duration": 4,
    "start_time": "2021-10-27T18:27:13.326Z"
   },
   {
    "duration": 5977,
    "start_time": "2021-10-27T18:27:13.332Z"
   },
   {
    "duration": 53,
    "start_time": "2021-10-27T18:27:19.311Z"
   },
   {
    "duration": 53,
    "start_time": "2021-10-27T18:27:19.367Z"
   },
   {
    "duration": 61,
    "start_time": "2021-10-27T18:27:19.422Z"
   },
   {
    "duration": 28,
    "start_time": "2021-10-27T18:27:19.485Z"
   },
   {
    "duration": 109,
    "start_time": "2021-10-27T18:27:19.518Z"
   },
   {
    "duration": -1233,
    "start_time": "2021-10-27T18:27:20.863Z"
   },
   {
    "duration": -1234,
    "start_time": "2021-10-27T18:27:20.865Z"
   },
   {
    "duration": -1236,
    "start_time": "2021-10-27T18:27:20.868Z"
   },
   {
    "duration": -1236,
    "start_time": "2021-10-27T18:27:20.870Z"
   },
   {
    "duration": -1238,
    "start_time": "2021-10-27T18:27:20.873Z"
   },
   {
    "duration": -1239,
    "start_time": "2021-10-27T18:27:20.875Z"
   },
   {
    "duration": -1241,
    "start_time": "2021-10-27T18:27:20.878Z"
   },
   {
    "duration": -1247,
    "start_time": "2021-10-27T18:27:20.885Z"
   },
   {
    "duration": -1249,
    "start_time": "2021-10-27T18:27:20.888Z"
   },
   {
    "duration": -1249,
    "start_time": "2021-10-27T18:27:20.890Z"
   },
   {
    "duration": -1250,
    "start_time": "2021-10-27T18:27:20.892Z"
   },
   {
    "duration": -1253,
    "start_time": "2021-10-27T18:27:20.896Z"
   },
   {
    "duration": -1255,
    "start_time": "2021-10-27T18:27:20.899Z"
   },
   {
    "duration": -1256,
    "start_time": "2021-10-27T18:27:20.901Z"
   },
   {
    "duration": -1257,
    "start_time": "2021-10-27T18:27:20.903Z"
   },
   {
    "duration": -1259,
    "start_time": "2021-10-27T18:27:20.906Z"
   },
   {
    "duration": -1262,
    "start_time": "2021-10-27T18:27:20.910Z"
   },
   {
    "duration": -1263,
    "start_time": "2021-10-27T18:27:20.913Z"
   },
   {
    "duration": -1265,
    "start_time": "2021-10-27T18:27:20.916Z"
   },
   {
    "duration": 33,
    "start_time": "2021-10-27T18:29:51.164Z"
   },
   {
    "duration": 398,
    "start_time": "2021-10-27T18:30:17.188Z"
   },
   {
    "duration": 310,
    "start_time": "2021-10-27T18:30:26.999Z"
   },
   {
    "duration": 53,
    "start_time": "2021-10-27T18:30:44.244Z"
   },
   {
    "duration": 56,
    "start_time": "2021-10-27T18:30:53.297Z"
   },
   {
    "duration": 37,
    "start_time": "2021-10-27T18:31:12.119Z"
   },
   {
    "duration": 41,
    "start_time": "2021-10-27T18:32:14.457Z"
   },
   {
    "duration": 722,
    "start_time": "2021-10-27T18:33:35.825Z"
   },
   {
    "duration": 240,
    "start_time": "2021-10-27T18:33:36.550Z"
   },
   {
    "duration": 34,
    "start_time": "2021-10-27T18:33:36.797Z"
   },
   {
    "duration": 80,
    "start_time": "2021-10-27T18:33:36.834Z"
   },
   {
    "duration": 202,
    "start_time": "2021-10-27T18:33:36.916Z"
   },
   {
    "duration": 23,
    "start_time": "2021-10-27T18:33:37.120Z"
   },
   {
    "duration": 54,
    "start_time": "2021-10-27T18:33:37.146Z"
   },
   {
    "duration": 26,
    "start_time": "2021-10-27T18:33:37.203Z"
   },
   {
    "duration": 42,
    "start_time": "2021-10-27T18:33:37.231Z"
   },
   {
    "duration": 9,
    "start_time": "2021-10-27T18:33:37.275Z"
   },
   {
    "duration": 137,
    "start_time": "2021-10-27T18:33:37.287Z"
   },
   {
    "duration": 19,
    "start_time": "2021-10-27T18:33:37.426Z"
   },
   {
    "duration": 46,
    "start_time": "2021-10-27T18:33:37.448Z"
   },
   {
    "duration": 35,
    "start_time": "2021-10-27T18:33:37.496Z"
   },
   {
    "duration": 63,
    "start_time": "2021-10-27T18:33:37.533Z"
   },
   {
    "duration": 47,
    "start_time": "2021-10-27T18:33:37.599Z"
   },
   {
    "duration": 4,
    "start_time": "2021-10-27T18:33:37.649Z"
   },
   {
    "duration": 6254,
    "start_time": "2021-10-27T18:33:37.655Z"
   },
   {
    "duration": 53,
    "start_time": "2021-10-27T18:33:43.911Z"
   },
   {
    "duration": 64,
    "start_time": "2021-10-27T18:33:43.966Z"
   },
   {
    "duration": 52,
    "start_time": "2021-10-27T18:33:44.032Z"
   },
   {
    "duration": 45,
    "start_time": "2021-10-27T18:33:44.089Z"
   },
   {
    "duration": 78,
    "start_time": "2021-10-27T18:33:44.138Z"
   },
   {
    "duration": 66,
    "start_time": "2021-10-27T18:33:44.219Z"
   },
   {
    "duration": 98,
    "start_time": "2021-10-27T18:33:44.288Z"
   },
   {
    "duration": -1226,
    "start_time": "2021-10-27T18:33:45.615Z"
   },
   {
    "duration": -1228,
    "start_time": "2021-10-27T18:33:45.618Z"
   },
   {
    "duration": -1230,
    "start_time": "2021-10-27T18:33:45.621Z"
   },
   {
    "duration": -1237,
    "start_time": "2021-10-27T18:33:45.630Z"
   },
   {
    "duration": -1240,
    "start_time": "2021-10-27T18:33:45.634Z"
   },
   {
    "duration": -1240,
    "start_time": "2021-10-27T18:33:45.636Z"
   },
   {
    "duration": -1241,
    "start_time": "2021-10-27T18:33:45.638Z"
   },
   {
    "duration": -1243,
    "start_time": "2021-10-27T18:33:45.642Z"
   },
   {
    "duration": -1248,
    "start_time": "2021-10-27T18:33:45.648Z"
   },
   {
    "duration": -1251,
    "start_time": "2021-10-27T18:33:45.652Z"
   },
   {
    "duration": -1252,
    "start_time": "2021-10-27T18:33:45.655Z"
   },
   {
    "duration": -1259,
    "start_time": "2021-10-27T18:33:45.663Z"
   },
   {
    "duration": -1260,
    "start_time": "2021-10-27T18:33:45.666Z"
   },
   {
    "duration": -1260,
    "start_time": "2021-10-27T18:33:45.668Z"
   },
   {
    "duration": -1260,
    "start_time": "2021-10-27T18:33:45.670Z"
   },
   {
    "duration": -1262,
    "start_time": "2021-10-27T18:33:45.673Z"
   },
   {
    "duration": 11,
    "start_time": "2021-10-27T18:34:18.197Z"
   },
   {
    "duration": 14,
    "start_time": "2021-10-27T18:34:21.591Z"
   },
   {
    "duration": 7,
    "start_time": "2021-10-27T18:34:23.259Z"
   },
   {
    "duration": 480,
    "start_time": "2021-10-27T18:36:21.675Z"
   },
   {
    "duration": 9,
    "start_time": "2021-10-27T18:36:27.165Z"
   },
   {
    "duration": 8807,
    "start_time": "2021-10-27T18:36:30.055Z"
   },
   {
    "duration": 10,
    "start_time": "2021-10-27T18:37:02.345Z"
   },
   {
    "duration": 549,
    "start_time": "2021-10-27T18:37:06.424Z"
   },
   {
    "duration": 582,
    "start_time": "2021-10-27T18:38:02.419Z"
   },
   {
    "duration": 7,
    "start_time": "2021-10-27T18:41:09.488Z"
   },
   {
    "duration": 6,
    "start_time": "2021-10-27T18:41:24.633Z"
   },
   {
    "duration": 7,
    "start_time": "2021-10-27T18:41:27.500Z"
   },
   {
    "duration": 6,
    "start_time": "2021-10-27T18:41:44.980Z"
   },
   {
    "duration": 6,
    "start_time": "2021-10-27T18:42:20.245Z"
   },
   {
    "duration": 6,
    "start_time": "2021-10-27T18:43:00.745Z"
   },
   {
    "duration": 5,
    "start_time": "2021-10-27T18:43:30.402Z"
   },
   {
    "duration": 6,
    "start_time": "2021-10-27T18:43:44.101Z"
   },
   {
    "duration": 87,
    "start_time": "2021-10-27T18:44:05.531Z"
   },
   {
    "duration": 100,
    "start_time": "2021-10-27T18:44:08.467Z"
   },
   {
    "duration": 126,
    "start_time": "2021-10-27T18:44:14.801Z"
   },
   {
    "duration": 6,
    "start_time": "2021-10-27T18:44:20.021Z"
   },
   {
    "duration": 6,
    "start_time": "2021-10-27T18:44:45.359Z"
   },
   {
    "duration": 536,
    "start_time": "2021-10-27T18:45:41.315Z"
   },
   {
    "duration": 9,
    "start_time": "2021-10-27T18:45:49.114Z"
   },
   {
    "duration": 531,
    "start_time": "2021-10-27T18:45:53.052Z"
   },
   {
    "duration": 6,
    "start_time": "2021-10-27T18:46:48.408Z"
   },
   {
    "duration": 7,
    "start_time": "2021-10-27T18:46:55.079Z"
   },
   {
    "duration": 6,
    "start_time": "2021-10-27T18:47:50.614Z"
   },
   {
    "duration": 7,
    "start_time": "2021-10-27T18:47:58.600Z"
   },
   {
    "duration": 13,
    "start_time": "2021-10-27T18:48:11.805Z"
   },
   {
    "duration": 580,
    "start_time": "2021-10-27T18:48:14.627Z"
   },
   {
    "duration": 554,
    "start_time": "2021-10-27T18:50:14.892Z"
   },
   {
    "duration": 10,
    "start_time": "2021-10-27T18:50:27.684Z"
   },
   {
    "duration": 160,
    "start_time": "2021-10-27T18:50:44.163Z"
   },
   {
    "duration": 289,
    "start_time": "2021-10-27T18:50:53.139Z"
   },
   {
    "duration": 354,
    "start_time": "2021-10-27T18:51:13.190Z"
   },
   {
    "duration": 500,
    "start_time": "2021-10-27T18:51:26.931Z"
   },
   {
    "duration": 437,
    "start_time": "2021-10-27T18:51:31.883Z"
   },
   {
    "duration": 441,
    "start_time": "2021-10-27T18:51:36.405Z"
   },
   {
    "duration": 312,
    "start_time": "2021-10-27T18:51:46.811Z"
   },
   {
    "duration": 353,
    "start_time": "2021-10-27T18:51:55.275Z"
   },
   {
    "duration": 389,
    "start_time": "2021-10-27T18:51:59.654Z"
   },
   {
    "duration": 311,
    "start_time": "2021-10-27T18:52:02.402Z"
   },
   {
    "duration": 481,
    "start_time": "2021-10-27T18:52:13.510Z"
   },
   {
    "duration": 7,
    "start_time": "2021-10-27T18:53:01.172Z"
   },
   {
    "duration": 6,
    "start_time": "2021-10-27T18:54:38.363Z"
   },
   {
    "duration": 4,
    "start_time": "2021-10-27T18:54:55.574Z"
   },
   {
    "duration": 26,
    "start_time": "2021-10-27T18:55:51.413Z"
   },
   {
    "duration": 13,
    "start_time": "2021-10-27T18:57:23.846Z"
   },
   {
    "duration": 7,
    "start_time": "2021-10-27T18:57:25.014Z"
   },
   {
    "duration": 1348,
    "start_time": "2021-10-27T19:10:08.997Z"
   },
   {
    "duration": 219,
    "start_time": "2021-10-27T19:10:10.347Z"
   },
   {
    "duration": 37,
    "start_time": "2021-10-27T19:10:10.569Z"
   },
   {
    "duration": 42,
    "start_time": "2021-10-27T19:10:10.609Z"
   },
   {
    "duration": 198,
    "start_time": "2021-10-27T19:10:10.654Z"
   },
   {
    "duration": 30,
    "start_time": "2021-10-27T19:10:10.855Z"
   },
   {
    "duration": 30,
    "start_time": "2021-10-27T19:10:10.888Z"
   },
   {
    "duration": 25,
    "start_time": "2021-10-27T19:10:10.922Z"
   },
   {
    "duration": 80,
    "start_time": "2021-10-27T19:10:10.950Z"
   },
   {
    "duration": 10,
    "start_time": "2021-10-27T19:10:11.033Z"
   },
   {
    "duration": 130,
    "start_time": "2021-10-27T19:10:11.046Z"
   },
   {
    "duration": 22,
    "start_time": "2021-10-27T19:10:11.183Z"
   },
   {
    "duration": 28,
    "start_time": "2021-10-27T19:10:11.207Z"
   },
   {
    "duration": 67,
    "start_time": "2021-10-27T19:10:11.238Z"
   },
   {
    "duration": 43,
    "start_time": "2021-10-27T19:10:11.308Z"
   },
   {
    "duration": 75,
    "start_time": "2021-10-27T19:10:11.354Z"
   },
   {
    "duration": 4,
    "start_time": "2021-10-27T19:10:11.431Z"
   },
   {
    "duration": 6940,
    "start_time": "2021-10-27T19:10:11.438Z"
   },
   {
    "duration": 54,
    "start_time": "2021-10-27T19:10:18.381Z"
   },
   {
    "duration": 57,
    "start_time": "2021-10-27T19:10:18.437Z"
   },
   {
    "duration": 41,
    "start_time": "2021-10-27T19:10:18.497Z"
   },
   {
    "duration": 54,
    "start_time": "2021-10-27T19:10:18.541Z"
   },
   {
    "duration": 30,
    "start_time": "2021-10-27T19:10:18.600Z"
   },
   {
    "duration": 62,
    "start_time": "2021-10-27T19:10:18.633Z"
   },
   {
    "duration": 11,
    "start_time": "2021-10-27T19:10:18.697Z"
   },
   {
    "duration": 14,
    "start_time": "2021-10-27T19:10:18.710Z"
   },
   {
    "duration": 9,
    "start_time": "2021-10-27T19:10:18.727Z"
   },
   {
    "duration": 45,
    "start_time": "2021-10-27T19:10:18.739Z"
   },
   {
    "duration": 539,
    "start_time": "2021-10-27T19:10:18.787Z"
   },
   {
    "duration": 13,
    "start_time": "2021-10-27T19:10:19.329Z"
   },
   {
    "duration": 380,
    "start_time": "2021-10-27T19:10:19.344Z"
   },
   {
    "duration": 449,
    "start_time": "2021-10-27T19:10:19.726Z"
   },
   {
    "duration": 364,
    "start_time": "2021-10-27T19:10:20.178Z"
   },
   {
    "duration": 357,
    "start_time": "2021-10-27T19:10:20.545Z"
   },
   {
    "duration": 360,
    "start_time": "2021-10-27T19:10:20.905Z"
   },
   {
    "duration": 326,
    "start_time": "2021-10-27T19:10:21.268Z"
   },
   {
    "duration": 6,
    "start_time": "2021-10-27T19:10:21.596Z"
   },
   {
    "duration": 10,
    "start_time": "2021-10-27T19:10:21.605Z"
   },
   {
    "duration": 13,
    "start_time": "2021-10-27T19:10:21.617Z"
   },
   {
    "duration": 6,
    "start_time": "2021-10-27T19:10:21.633Z"
   },
   {
    "duration": 2143,
    "start_time": "2021-10-28T09:15:20.765Z"
   },
   {
    "duration": 898,
    "start_time": "2021-10-28T09:15:22.911Z"
   },
   {
    "duration": 27,
    "start_time": "2021-10-28T09:15:23.812Z"
   },
   {
    "duration": 95,
    "start_time": "2021-10-28T09:15:23.842Z"
   },
   {
    "duration": 571,
    "start_time": "2021-10-28T09:15:23.939Z"
   },
   {
    "duration": 23,
    "start_time": "2021-10-28T09:15:24.512Z"
   },
   {
    "duration": 83,
    "start_time": "2021-10-28T09:15:24.537Z"
   },
   {
    "duration": 25,
    "start_time": "2021-10-28T09:15:24.624Z"
   },
   {
    "duration": 113,
    "start_time": "2021-10-28T09:15:24.652Z"
   },
   {
    "duration": 42,
    "start_time": "2021-10-28T09:15:24.767Z"
   },
   {
    "duration": 229,
    "start_time": "2021-10-28T09:15:24.811Z"
   },
   {
    "duration": 71,
    "start_time": "2021-10-28T09:15:25.042Z"
   },
   {
    "duration": 25,
    "start_time": "2021-10-28T09:15:25.115Z"
   },
   {
    "duration": 84,
    "start_time": "2021-10-28T09:15:25.142Z"
   },
   {
    "duration": 98,
    "start_time": "2021-10-28T09:15:25.228Z"
   },
   {
    "duration": 101,
    "start_time": "2021-10-28T09:15:25.328Z"
   },
   {
    "duration": 5,
    "start_time": "2021-10-28T09:15:25.431Z"
   },
   {
    "duration": 7276,
    "start_time": "2021-10-28T09:15:25.438Z"
   },
   {
    "duration": 55,
    "start_time": "2021-10-28T09:15:32.716Z"
   },
   {
    "duration": 65,
    "start_time": "2021-10-28T09:15:32.774Z"
   },
   {
    "duration": 66,
    "start_time": "2021-10-28T09:15:32.842Z"
   },
   {
    "duration": 31,
    "start_time": "2021-10-28T09:15:32.911Z"
   },
   {
    "duration": 57,
    "start_time": "2021-10-28T09:15:32.947Z"
   },
   {
    "duration": 35,
    "start_time": "2021-10-28T09:15:33.006Z"
   },
   {
    "duration": 12,
    "start_time": "2021-10-28T09:15:33.044Z"
   },
   {
    "duration": 52,
    "start_time": "2021-10-28T09:15:33.058Z"
   },
   {
    "duration": 15,
    "start_time": "2021-10-28T09:15:33.113Z"
   },
   {
    "duration": 15,
    "start_time": "2021-10-28T09:15:33.130Z"
   },
   {
    "duration": 565,
    "start_time": "2021-10-28T09:15:33.147Z"
   },
   {
    "duration": 12,
    "start_time": "2021-10-28T09:15:33.714Z"
   },
   {
    "duration": 392,
    "start_time": "2021-10-28T09:15:33.729Z"
   },
   {
    "duration": 451,
    "start_time": "2021-10-28T09:15:34.123Z"
   },
   {
    "duration": 377,
    "start_time": "2021-10-28T09:15:34.576Z"
   },
   {
    "duration": 464,
    "start_time": "2021-10-28T09:15:34.956Z"
   },
   {
    "duration": 377,
    "start_time": "2021-10-28T09:15:35.423Z"
   },
   {
    "duration": 338,
    "start_time": "2021-10-28T09:15:35.804Z"
   },
   {
    "duration": 6,
    "start_time": "2021-10-28T09:15:36.144Z"
   },
   {
    "duration": 10,
    "start_time": "2021-10-28T09:15:36.152Z"
   },
   {
    "duration": 39,
    "start_time": "2021-10-28T09:15:36.165Z"
   },
   {
    "duration": 7,
    "start_time": "2021-10-28T09:15:36.206Z"
   },
   {
    "duration": 13,
    "start_time": "2021-10-28T09:16:19.686Z"
   }
  ],
  "kernelspec": {
   "display_name": "Python 3 (ipykernel)",
   "language": "python",
   "name": "python3"
  },
  "language_info": {
   "codemirror_mode": {
    "name": "ipython",
    "version": 3
   },
   "file_extension": ".py",
   "mimetype": "text/x-python",
   "name": "python",
   "nbconvert_exporter": "python",
   "pygments_lexer": "ipython3",
   "version": "3.10.4"
  },
  "toc": {
   "base_numbering": 1,
   "nav_menu": {},
   "number_sections": true,
   "sideBar": true,
   "skip_h1_title": true,
   "title_cell": "Table of Contents",
   "title_sidebar": "Contents",
   "toc_cell": false,
   "toc_position": {},
   "toc_section_display": true,
   "toc_window_display": false
  }
 },
 "nbformat": 4,
 "nbformat_minor": 2
}
