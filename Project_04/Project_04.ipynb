{
 "cells": [
  {
   "cell_type": "markdown",
   "metadata": {
    "id": "sIfNaMOxgFyK"
   },
   "source": [
    "## Survey of the cinema destribution data"
   ]
  },
  {
   "cell_type": "markdown",
   "metadata": {},
   "source": [
    "Data is provided by ministry of culture.\n",
    "\n",
    "Based on the provided data it's required to analyze the market of the movies in the cinema theaters and determine the trends.\n",
    "\n",
    "Additionaly it's required to analyze the movies with goverment support, and answer the questions."
   ]
  },
  {
   "cell_type": "markdown",
   "metadata": {
    "id": "3bSlkCsbgFyL"
   },
   "source": [
    "### Step 1. Data load and merge of datasets."
   ]
  },
  {
   "cell_type": "code",
   "execution_count": 1,
   "metadata": {},
   "outputs": [],
   "source": [
    "import pandas as pd\n",
    "import pylab as pl"
   ]
  },
  {
   "cell_type": "code",
   "execution_count": 2,
   "metadata": {},
   "outputs": [],
   "source": [
    "# data loading\n",
    "try:\n",
    "    df_movies = pd.read_csv('mkrf_movies.csv')\n",
    "    df_shows = pd.read_csv('mkrf_shows.csv')\n",
    "except:\n",
    "    df_movies = pd.read_csv('/datasets/mkrf_movies.csv')\n",
    "    df_shows = pd.read_csv('/datasets/mkrf_shows.csv')"
   ]
  },
  {
   "cell_type": "code",
   "execution_count": 3,
   "metadata": {
    "id": "dw87FlzMgFyM"
   },
   "outputs": [
    {
     "data": {
      "text/html": [
       "<div>\n",
       "<style scoped>\n",
       "    .dataframe tbody tr th:only-of-type {\n",
       "        vertical-align: middle;\n",
       "    }\n",
       "\n",
       "    .dataframe tbody tr th {\n",
       "        vertical-align: top;\n",
       "    }\n",
       "\n",
       "    .dataframe thead th {\n",
       "        text-align: right;\n",
       "    }\n",
       "</style>\n",
       "<table border=\"1\" class=\"dataframe\">\n",
       "  <thead>\n",
       "    <tr style=\"text-align: right;\">\n",
       "      <th></th>\n",
       "      <th>title</th>\n",
       "      <th>puNumber</th>\n",
       "      <th>show_start_date</th>\n",
       "      <th>type</th>\n",
       "      <th>film_studio</th>\n",
       "      <th>production_country</th>\n",
       "      <th>director</th>\n",
       "      <th>producer</th>\n",
       "      <th>age_restriction</th>\n",
       "      <th>refundable_support</th>\n",
       "      <th>nonrefundable_support</th>\n",
       "      <th>budget</th>\n",
       "      <th>financing_source</th>\n",
       "      <th>ratings</th>\n",
       "      <th>genres</th>\n",
       "    </tr>\n",
       "  </thead>\n",
       "  <tbody>\n",
       "    <tr>\n",
       "      <th>0</th>\n",
       "      <td>Открытый простор</td>\n",
       "      <td>221048915</td>\n",
       "      <td>2015-11-27T12:00:00.000Z</td>\n",
       "      <td>Художественный</td>\n",
       "      <td>Тачстоун Пикчерз, Кобальт Пикчерз, Бикон Пикче...</td>\n",
       "      <td>США</td>\n",
       "      <td>Кевин Костнер</td>\n",
       "      <td>Дэвид Валдес, Кевин Костнер, Джейк Эбертс</td>\n",
       "      <td>«18+» - запрещено для детей</td>\n",
       "      <td>NaN</td>\n",
       "      <td>NaN</td>\n",
       "      <td>NaN</td>\n",
       "      <td>NaN</td>\n",
       "      <td>7.2</td>\n",
       "      <td>боевик,драма,мелодрама</td>\n",
       "    </tr>\n",
       "    <tr>\n",
       "      <th>1</th>\n",
       "      <td>Особо важное задание</td>\n",
       "      <td>111013716</td>\n",
       "      <td>2016-09-13T12:00:00.000Z</td>\n",
       "      <td>Художественный</td>\n",
       "      <td>Киностудия \"Мосфильм\"</td>\n",
       "      <td>СССР</td>\n",
       "      <td>Е.Матвеев</td>\n",
       "      <td>NaN</td>\n",
       "      <td>«6+» - для детей старше 6 лет</td>\n",
       "      <td>NaN</td>\n",
       "      <td>NaN</td>\n",
       "      <td>NaN</td>\n",
       "      <td>NaN</td>\n",
       "      <td>6.6</td>\n",
       "      <td>драма,военный</td>\n",
       "    </tr>\n",
       "    <tr>\n",
       "      <th>2</th>\n",
       "      <td>Особо опасен</td>\n",
       "      <td>221038416</td>\n",
       "      <td>2016-10-10T12:00:00.000Z</td>\n",
       "      <td>Художественный</td>\n",
       "      <td>Юниверсал Пикчерз, Кикстарт Продакшнз, Марк Пл...</td>\n",
       "      <td>США</td>\n",
       "      <td>Тимур Бекмамбетов</td>\n",
       "      <td>Джим Лемли, Джейсон Нетер, Марк Е.Платт, Яйн Смит</td>\n",
       "      <td>«18+» - запрещено для детей</td>\n",
       "      <td>NaN</td>\n",
       "      <td>NaN</td>\n",
       "      <td>NaN</td>\n",
       "      <td>NaN</td>\n",
       "      <td>6.8</td>\n",
       "      <td>фантастика,боевик,триллер</td>\n",
       "    </tr>\n",
       "    <tr>\n",
       "      <th>3</th>\n",
       "      <td>Особо опасен</td>\n",
       "      <td>221026916</td>\n",
       "      <td>2016-06-10T12:00:00.000Z</td>\n",
       "      <td>Художественный</td>\n",
       "      <td>Юниверсал Пикчерз, Кикстарт Продакшнз, Марк Пл...</td>\n",
       "      <td>США</td>\n",
       "      <td>Тимур Бекмамбетов</td>\n",
       "      <td>Джим Лемли, Джейсон Нетер, Марк Е.Платт, Яйн Смит</td>\n",
       "      <td>«18+» - запрещено для детей</td>\n",
       "      <td>NaN</td>\n",
       "      <td>NaN</td>\n",
       "      <td>NaN</td>\n",
       "      <td>NaN</td>\n",
       "      <td>6.8</td>\n",
       "      <td>фантастика,боевик,триллер</td>\n",
       "    </tr>\n",
       "    <tr>\n",
       "      <th>4</th>\n",
       "      <td>Особо опасен</td>\n",
       "      <td>221030815</td>\n",
       "      <td>2015-07-29T12:00:00.000Z</td>\n",
       "      <td>Художественный</td>\n",
       "      <td>Юниверсал Пикчерз, Кикстарт Продакшнз, Марк Пл...</td>\n",
       "      <td>США</td>\n",
       "      <td>Тимур Бекмамбетов</td>\n",
       "      <td>Джим Лемли, Джейсон Нетер, Марк Е.Платт, Яйн Смит</td>\n",
       "      <td>«18+» - запрещено для детей</td>\n",
       "      <td>NaN</td>\n",
       "      <td>NaN</td>\n",
       "      <td>NaN</td>\n",
       "      <td>NaN</td>\n",
       "      <td>6.8</td>\n",
       "      <td>фантастика,боевик,триллер</td>\n",
       "    </tr>\n",
       "  </tbody>\n",
       "</table>\n",
       "</div>"
      ],
      "text/plain": [
       "                  title   puNumber           show_start_date            type  \\\n",
       "0      Открытый простор  221048915  2015-11-27T12:00:00.000Z  Художественный   \n",
       "1  Особо важное задание  111013716  2016-09-13T12:00:00.000Z  Художественный   \n",
       "2          Особо опасен  221038416  2016-10-10T12:00:00.000Z  Художественный   \n",
       "3          Особо опасен  221026916  2016-06-10T12:00:00.000Z  Художественный   \n",
       "4          Особо опасен  221030815  2015-07-29T12:00:00.000Z  Художественный   \n",
       "\n",
       "                                         film_studio production_country  \\\n",
       "0  Тачстоун Пикчерз, Кобальт Пикчерз, Бикон Пикче...                США   \n",
       "1                              Киностудия \"Мосфильм\"               СССР   \n",
       "2  Юниверсал Пикчерз, Кикстарт Продакшнз, Марк Пл...                США   \n",
       "3  Юниверсал Пикчерз, Кикстарт Продакшнз, Марк Пл...                США   \n",
       "4  Юниверсал Пикчерз, Кикстарт Продакшнз, Марк Пл...                США   \n",
       "\n",
       "            director                                           producer  \\\n",
       "0      Кевин Костнер          Дэвид Валдес, Кевин Костнер, Джейк Эбертс   \n",
       "1          Е.Матвеев                                                NaN   \n",
       "2  Тимур Бекмамбетов  Джим Лемли, Джейсон Нетер, Марк Е.Платт, Яйн Смит   \n",
       "3  Тимур Бекмамбетов  Джим Лемли, Джейсон Нетер, Марк Е.Платт, Яйн Смит   \n",
       "4  Тимур Бекмамбетов  Джим Лемли, Джейсон Нетер, Марк Е.Платт, Яйн Смит   \n",
       "\n",
       "                 age_restriction  refundable_support  nonrefundable_support  \\\n",
       "0    «18+» - запрещено для детей                 NaN                    NaN   \n",
       "1  «6+» - для детей старше 6 лет                 NaN                    NaN   \n",
       "2    «18+» - запрещено для детей                 NaN                    NaN   \n",
       "3    «18+» - запрещено для детей                 NaN                    NaN   \n",
       "4    «18+» - запрещено для детей                 NaN                    NaN   \n",
       "\n",
       "   budget financing_source ratings                     genres  \n",
       "0     NaN              NaN     7.2     боевик,драма,мелодрама  \n",
       "1     NaN              NaN     6.6              драма,военный  \n",
       "2     NaN              NaN     6.8  фантастика,боевик,триллер  \n",
       "3     NaN              NaN     6.8  фантастика,боевик,триллер  \n",
       "4     NaN              NaN     6.8  фантастика,боевик,триллер  "
      ]
     },
     "execution_count": 3,
     "metadata": {},
     "output_type": "execute_result"
    }
   ],
   "source": [
    "# display of first five rows of datasets\n",
    "df_movies.head()"
   ]
  },
  {
   "cell_type": "code",
   "execution_count": 4,
   "metadata": {},
   "outputs": [
    {
     "data": {
      "text/html": [
       "<div>\n",
       "<style scoped>\n",
       "    .dataframe tbody tr th:only-of-type {\n",
       "        vertical-align: middle;\n",
       "    }\n",
       "\n",
       "    .dataframe tbody tr th {\n",
       "        vertical-align: top;\n",
       "    }\n",
       "\n",
       "    .dataframe thead th {\n",
       "        text-align: right;\n",
       "    }\n",
       "</style>\n",
       "<table border=\"1\" class=\"dataframe\">\n",
       "  <thead>\n",
       "    <tr style=\"text-align: right;\">\n",
       "      <th></th>\n",
       "      <th>puNumber</th>\n",
       "      <th>box_office</th>\n",
       "    </tr>\n",
       "  </thead>\n",
       "  <tbody>\n",
       "    <tr>\n",
       "      <th>0</th>\n",
       "      <td>111000113</td>\n",
       "      <td>2.450000e+03</td>\n",
       "    </tr>\n",
       "    <tr>\n",
       "      <th>1</th>\n",
       "      <td>111000115</td>\n",
       "      <td>6.104000e+04</td>\n",
       "    </tr>\n",
       "    <tr>\n",
       "      <th>2</th>\n",
       "      <td>111000116</td>\n",
       "      <td>1.530300e+08</td>\n",
       "    </tr>\n",
       "    <tr>\n",
       "      <th>3</th>\n",
       "      <td>111000117</td>\n",
       "      <td>1.226096e+07</td>\n",
       "    </tr>\n",
       "    <tr>\n",
       "      <th>4</th>\n",
       "      <td>111000118</td>\n",
       "      <td>1.636841e+08</td>\n",
       "    </tr>\n",
       "  </tbody>\n",
       "</table>\n",
       "</div>"
      ],
      "text/plain": [
       "    puNumber    box_office\n",
       "0  111000113  2.450000e+03\n",
       "1  111000115  6.104000e+04\n",
       "2  111000116  1.530300e+08\n",
       "3  111000117  1.226096e+07\n",
       "4  111000118  1.636841e+08"
      ]
     },
     "execution_count": 4,
     "metadata": {},
     "output_type": "execute_result"
    }
   ],
   "source": [
    "df_shows.head()"
   ]
  },
  {
   "cell_type": "code",
   "execution_count": 5,
   "metadata": {},
   "outputs": [
    {
     "name": "stdout",
     "output_type": "stream",
     "text": [
      "<class 'pandas.core.frame.DataFrame'>\n",
      "RangeIndex: 3158 entries, 0 to 3157\n",
      "Data columns (total 2 columns):\n",
      " #   Column      Non-Null Count  Dtype  \n",
      "---  ------      --------------  -----  \n",
      " 0   puNumber    3158 non-null   int64  \n",
      " 1   box_office  3158 non-null   float64\n",
      "dtypes: float64(1), int64(1)\n",
      "memory usage: 49.5 KB\n"
     ]
    }
   ],
   "source": [
    "# display short information on datasets\n",
    "df_shows.info()"
   ]
  },
  {
   "cell_type": "code",
   "execution_count": 6,
   "metadata": {},
   "outputs": [
    {
     "name": "stdout",
     "output_type": "stream",
     "text": [
      "<class 'pandas.core.frame.DataFrame'>\n",
      "RangeIndex: 7486 entries, 0 to 7485\n",
      "Data columns (total 15 columns):\n",
      " #   Column                 Non-Null Count  Dtype  \n",
      "---  ------                 --------------  -----  \n",
      " 0   title                  7486 non-null   object \n",
      " 1   puNumber               7486 non-null   object \n",
      " 2   show_start_date        7486 non-null   object \n",
      " 3   type                   7486 non-null   object \n",
      " 4   film_studio            7468 non-null   object \n",
      " 5   production_country     7484 non-null   object \n",
      " 6   director               7477 non-null   object \n",
      " 7   producer               6918 non-null   object \n",
      " 8   age_restriction        7486 non-null   object \n",
      " 9   refundable_support     332 non-null    float64\n",
      " 10  nonrefundable_support  332 non-null    float64\n",
      " 11  budget                 332 non-null    float64\n",
      " 12  financing_source       332 non-null    object \n",
      " 13  ratings                6519 non-null   object \n",
      " 14  genres                 6510 non-null   object \n",
      "dtypes: float64(3), object(12)\n",
      "memory usage: 877.4+ KB\n"
     ]
    }
   ],
   "source": [
    "df_movies.info()"
   ]
  },
  {
   "cell_type": "code",
   "execution_count": 7,
   "metadata": {},
   "outputs": [
    {
     "name": "stdout",
     "output_type": "stream",
     "text": [
      "<class 'pandas.core.frame.DataFrame'>\n",
      "RangeIndex: 3158 entries, 0 to 3157\n",
      "Data columns (total 2 columns):\n",
      " #   Column      Non-Null Count  Dtype  \n",
      "---  ------      --------------  -----  \n",
      " 0   puNumber    3158 non-null   object \n",
      " 1   box_office  3158 non-null   float64\n",
      "dtypes: float64(1), object(1)\n",
      "memory usage: 49.5+ KB\n"
     ]
    }
   ],
   "source": [
    "# changing of datatype of \"puNumber\" column\n",
    "df_shows['puNumber'] = df_shows['puNumber'].astype('str')\n",
    "df_shows.info()"
   ]
  },
  {
   "cell_type": "code",
   "execution_count": 8,
   "metadata": {
    "scrolled": true
   },
   "outputs": [],
   "source": [
    "# df merge\n",
    "df_movies = df_movies.merge(df_shows,on ='puNumber',how='left')"
   ]
  },
  {
   "cell_type": "code",
   "execution_count": 9,
   "metadata": {},
   "outputs": [
    {
     "data": {
      "text/html": [
       "<div>\n",
       "<style scoped>\n",
       "    .dataframe tbody tr th:only-of-type {\n",
       "        vertical-align: middle;\n",
       "    }\n",
       "\n",
       "    .dataframe tbody tr th {\n",
       "        vertical-align: top;\n",
       "    }\n",
       "\n",
       "    .dataframe thead th {\n",
       "        text-align: right;\n",
       "    }\n",
       "</style>\n",
       "<table border=\"1\" class=\"dataframe\">\n",
       "  <thead>\n",
       "    <tr style=\"text-align: right;\">\n",
       "      <th></th>\n",
       "      <th>title</th>\n",
       "      <th>puNumber</th>\n",
       "      <th>show_start_date</th>\n",
       "      <th>type</th>\n",
       "      <th>film_studio</th>\n",
       "      <th>production_country</th>\n",
       "      <th>director</th>\n",
       "      <th>producer</th>\n",
       "      <th>age_restriction</th>\n",
       "      <th>refundable_support</th>\n",
       "      <th>nonrefundable_support</th>\n",
       "      <th>budget</th>\n",
       "      <th>financing_source</th>\n",
       "      <th>ratings</th>\n",
       "      <th>genres</th>\n",
       "      <th>box_office</th>\n",
       "    </tr>\n",
       "  </thead>\n",
       "  <tbody>\n",
       "    <tr>\n",
       "      <th>0</th>\n",
       "      <td>Открытый простор</td>\n",
       "      <td>221048915</td>\n",
       "      <td>2015-11-27T12:00:00.000Z</td>\n",
       "      <td>Художественный</td>\n",
       "      <td>Тачстоун Пикчерз, Кобальт Пикчерз, Бикон Пикче...</td>\n",
       "      <td>США</td>\n",
       "      <td>Кевин Костнер</td>\n",
       "      <td>Дэвид Валдес, Кевин Костнер, Джейк Эбертс</td>\n",
       "      <td>«18+» - запрещено для детей</td>\n",
       "      <td>NaN</td>\n",
       "      <td>NaN</td>\n",
       "      <td>NaN</td>\n",
       "      <td>NaN</td>\n",
       "      <td>7.2</td>\n",
       "      <td>боевик,драма,мелодрама</td>\n",
       "      <td>NaN</td>\n",
       "    </tr>\n",
       "    <tr>\n",
       "      <th>1</th>\n",
       "      <td>Особо важное задание</td>\n",
       "      <td>111013716</td>\n",
       "      <td>2016-09-13T12:00:00.000Z</td>\n",
       "      <td>Художественный</td>\n",
       "      <td>Киностудия \"Мосфильм\"</td>\n",
       "      <td>СССР</td>\n",
       "      <td>Е.Матвеев</td>\n",
       "      <td>NaN</td>\n",
       "      <td>«6+» - для детей старше 6 лет</td>\n",
       "      <td>NaN</td>\n",
       "      <td>NaN</td>\n",
       "      <td>NaN</td>\n",
       "      <td>NaN</td>\n",
       "      <td>6.6</td>\n",
       "      <td>драма,военный</td>\n",
       "      <td>NaN</td>\n",
       "    </tr>\n",
       "    <tr>\n",
       "      <th>2</th>\n",
       "      <td>Особо опасен</td>\n",
       "      <td>221038416</td>\n",
       "      <td>2016-10-10T12:00:00.000Z</td>\n",
       "      <td>Художественный</td>\n",
       "      <td>Юниверсал Пикчерз, Кикстарт Продакшнз, Марк Пл...</td>\n",
       "      <td>США</td>\n",
       "      <td>Тимур Бекмамбетов</td>\n",
       "      <td>Джим Лемли, Джейсон Нетер, Марк Е.Платт, Яйн Смит</td>\n",
       "      <td>«18+» - запрещено для детей</td>\n",
       "      <td>NaN</td>\n",
       "      <td>NaN</td>\n",
       "      <td>NaN</td>\n",
       "      <td>NaN</td>\n",
       "      <td>6.8</td>\n",
       "      <td>фантастика,боевик,триллер</td>\n",
       "      <td>NaN</td>\n",
       "    </tr>\n",
       "    <tr>\n",
       "      <th>3</th>\n",
       "      <td>Особо опасен</td>\n",
       "      <td>221026916</td>\n",
       "      <td>2016-06-10T12:00:00.000Z</td>\n",
       "      <td>Художественный</td>\n",
       "      <td>Юниверсал Пикчерз, Кикстарт Продакшнз, Марк Пл...</td>\n",
       "      <td>США</td>\n",
       "      <td>Тимур Бекмамбетов</td>\n",
       "      <td>Джим Лемли, Джейсон Нетер, Марк Е.Платт, Яйн Смит</td>\n",
       "      <td>«18+» - запрещено для детей</td>\n",
       "      <td>NaN</td>\n",
       "      <td>NaN</td>\n",
       "      <td>NaN</td>\n",
       "      <td>NaN</td>\n",
       "      <td>6.8</td>\n",
       "      <td>фантастика,боевик,триллер</td>\n",
       "      <td>NaN</td>\n",
       "    </tr>\n",
       "    <tr>\n",
       "      <th>4</th>\n",
       "      <td>Особо опасен</td>\n",
       "      <td>221030815</td>\n",
       "      <td>2015-07-29T12:00:00.000Z</td>\n",
       "      <td>Художественный</td>\n",
       "      <td>Юниверсал Пикчерз, Кикстарт Продакшнз, Марк Пл...</td>\n",
       "      <td>США</td>\n",
       "      <td>Тимур Бекмамбетов</td>\n",
       "      <td>Джим Лемли, Джейсон Нетер, Марк Е.Платт, Яйн Смит</td>\n",
       "      <td>«18+» - запрещено для детей</td>\n",
       "      <td>NaN</td>\n",
       "      <td>NaN</td>\n",
       "      <td>NaN</td>\n",
       "      <td>NaN</td>\n",
       "      <td>6.8</td>\n",
       "      <td>фантастика,боевик,триллер</td>\n",
       "      <td>NaN</td>\n",
       "    </tr>\n",
       "    <tr>\n",
       "      <th>5</th>\n",
       "      <td>Остановился поезд</td>\n",
       "      <td>111013816</td>\n",
       "      <td>2016-09-13T12:00:00.000Z</td>\n",
       "      <td>Художественный</td>\n",
       "      <td>Киностудия \"Мосфильм\"</td>\n",
       "      <td>СССР</td>\n",
       "      <td>В.Абдрашитов</td>\n",
       "      <td>NaN</td>\n",
       "      <td>«6+» - для детей старше 6 лет</td>\n",
       "      <td>NaN</td>\n",
       "      <td>NaN</td>\n",
       "      <td>NaN</td>\n",
       "      <td>NaN</td>\n",
       "      <td>7.7</td>\n",
       "      <td>драма</td>\n",
       "      <td>NaN</td>\n",
       "    </tr>\n",
       "    <tr>\n",
       "      <th>6</th>\n",
       "      <td>Любовь и голуби</td>\n",
       "      <td>111007013</td>\n",
       "      <td>2013-10-18T12:00:00.000Z</td>\n",
       "      <td>Художественный</td>\n",
       "      <td>Киностудия \"Мосфильм\"</td>\n",
       "      <td>СССР</td>\n",
       "      <td>В.Меньшов</td>\n",
       "      <td>NaN</td>\n",
       "      <td>«12+» - для детей старше 12 лет</td>\n",
       "      <td>NaN</td>\n",
       "      <td>NaN</td>\n",
       "      <td>NaN</td>\n",
       "      <td>NaN</td>\n",
       "      <td>8.3</td>\n",
       "      <td>мелодрама,комедия</td>\n",
       "      <td>2700.0</td>\n",
       "    </tr>\n",
       "    <tr>\n",
       "      <th>7</th>\n",
       "      <td>Любовь и сигареты</td>\n",
       "      <td>221074614</td>\n",
       "      <td>2014-12-29T12:00:00.000Z</td>\n",
       "      <td>Художественный</td>\n",
       "      <td>Юнайтед Артистс, Грин Стрит Филмз, Айкон Интер...</td>\n",
       "      <td>США</td>\n",
       "      <td>Джон Туртурро</td>\n",
       "      <td>Джон Пенотти, Джон Туртурро</td>\n",
       "      <td>«18+» - запрещено для детей</td>\n",
       "      <td>NaN</td>\n",
       "      <td>NaN</td>\n",
       "      <td>NaN</td>\n",
       "      <td>NaN</td>\n",
       "      <td>6.6</td>\n",
       "      <td>мюзикл,мелодрама,комедия</td>\n",
       "      <td>NaN</td>\n",
       "    </tr>\n",
       "    <tr>\n",
       "      <th>8</th>\n",
       "      <td>Отпетые мошенники.</td>\n",
       "      <td>121011416</td>\n",
       "      <td>2016-05-05T12:00:00.000Z</td>\n",
       "      <td>Художественный</td>\n",
       "      <td>Пульсар Продюксьон, ТФ1 Фильм</td>\n",
       "      <td>Франция</td>\n",
       "      <td>Эрик Беснард</td>\n",
       "      <td>Патрис Леду</td>\n",
       "      <td>«18+» - запрещено для детей</td>\n",
       "      <td>NaN</td>\n",
       "      <td>NaN</td>\n",
       "      <td>NaN</td>\n",
       "      <td>NaN</td>\n",
       "      <td>8.0</td>\n",
       "      <td>комедия,криминал</td>\n",
       "      <td>NaN</td>\n",
       "    </tr>\n",
       "    <tr>\n",
       "      <th>9</th>\n",
       "      <td>Отпуск за свой счет</td>\n",
       "      <td>111019114</td>\n",
       "      <td>2014-12-01T12:00:00.000Z</td>\n",
       "      <td>Художественный</td>\n",
       "      <td>Киностудия \"Мосфильм\", Телевидение ВНР</td>\n",
       "      <td>СССР, Венгрия</td>\n",
       "      <td>В.Титов</td>\n",
       "      <td>NaN</td>\n",
       "      <td>«12+» - для детей старше 12 лет</td>\n",
       "      <td>NaN</td>\n",
       "      <td>NaN</td>\n",
       "      <td>NaN</td>\n",
       "      <td>NaN</td>\n",
       "      <td>7.8</td>\n",
       "      <td>мелодрама,комедия</td>\n",
       "      <td>NaN</td>\n",
       "    </tr>\n",
       "    <tr>\n",
       "      <th>10</th>\n",
       "      <td>Превосходство Борна /По одноименной новелле Ро...</td>\n",
       "      <td>221031416</td>\n",
       "      <td>2016-06-29T12:00:00.000Z</td>\n",
       "      <td>Художественный</td>\n",
       "      <td>Кеннеди/Маршал Компани, Юниверсал Пикчерз, Гип...</td>\n",
       "      <td>США</td>\n",
       "      <td>Пол Грингросс</td>\n",
       "      <td>Патрик Кроули, Фрэнк Маршалл, Пол Сэндберг</td>\n",
       "      <td>«16+» - для детей старше 16 лет</td>\n",
       "      <td>NaN</td>\n",
       "      <td>NaN</td>\n",
       "      <td>NaN</td>\n",
       "      <td>NaN</td>\n",
       "      <td>7.7</td>\n",
       "      <td>боевик,триллер,детектив</td>\n",
       "      <td>NaN</td>\n",
       "    </tr>\n",
       "    <tr>\n",
       "      <th>11</th>\n",
       "      <td>Ответный ход</td>\n",
       "      <td>111019014</td>\n",
       "      <td>2014-12-01T12:00:00.000Z</td>\n",
       "      <td>Художественный</td>\n",
       "      <td>Киностудия \"Мосфильм\"</td>\n",
       "      <td>СССР</td>\n",
       "      <td>М.Туманишвили</td>\n",
       "      <td>NaN</td>\n",
       "      <td>«12+» - для детей старше 12 лет</td>\n",
       "      <td>NaN</td>\n",
       "      <td>NaN</td>\n",
       "      <td>NaN</td>\n",
       "      <td>NaN</td>\n",
       "      <td>7.8</td>\n",
       "      <td>боевик,драма,приключения</td>\n",
       "      <td>NaN</td>\n",
       "    </tr>\n",
       "    <tr>\n",
       "      <th>12</th>\n",
       "      <td>Малышка на миллион /По мотивам рассказов Ф.Х.Т...</td>\n",
       "      <td>221011415</td>\n",
       "      <td>2015-04-03T12:00:00.000Z</td>\n",
       "      <td>Художественный</td>\n",
       "      <td>Уорнер Бразерс, Лейкшор Интертейнмент, Малпасо...</td>\n",
       "      <td>США</td>\n",
       "      <td>Клинт Иствуд</td>\n",
       "      <td>Клинт Иствуд, Том Розенберг, Альберт С.Рудди, ...</td>\n",
       "      <td>«16+» - для детей старше 16 лет</td>\n",
       "      <td>NaN</td>\n",
       "      <td>NaN</td>\n",
       "      <td>NaN</td>\n",
       "      <td>NaN</td>\n",
       "      <td>8.1</td>\n",
       "      <td>драма,спорт</td>\n",
       "      <td>NaN</td>\n",
       "    </tr>\n",
       "    <tr>\n",
       "      <th>13</th>\n",
       "      <td>Преданный садовник</td>\n",
       "      <td>121003106</td>\n",
       "      <td>2013-08-26T12:00:00.000Z</td>\n",
       "      <td>Художественный</td>\n",
       "      <td>Потбойлер Продакшнз, Эпсилон Моушн Пикчерз, Ск...</td>\n",
       "      <td>Германия-Великобритания</td>\n",
       "      <td>Фернанду Мейрелльеш</td>\n",
       "      <td>Саймон Чэннинг Уильямс</td>\n",
       "      <td>«16+» - для детей старше 16 лет</td>\n",
       "      <td>NaN</td>\n",
       "      <td>NaN</td>\n",
       "      <td>NaN</td>\n",
       "      <td>NaN</td>\n",
       "      <td>7.1</td>\n",
       "      <td>триллер,драма,мелодрама</td>\n",
       "      <td>NaN</td>\n",
       "    </tr>\n",
       "    <tr>\n",
       "      <th>14</th>\n",
       "      <td>Отель /По мотивам пьесы Джона Уэбстера/</td>\n",
       "      <td>221008812</td>\n",
       "      <td>2012-01-27T12:00:00.000Z</td>\n",
       "      <td>Художественный</td>\n",
       "      <td>Кэтлей, Отель Продакшнс, Мунстоун Интертейнмен...</td>\n",
       "      <td>Великобритания - Италия</td>\n",
       "      <td>Майк Фиггис</td>\n",
       "      <td>Этчи Стро, Анни Стюарт, Майк Фиггис</td>\n",
       "      <td>«18+» - запрещено для детей</td>\n",
       "      <td>NaN</td>\n",
       "      <td>NaN</td>\n",
       "      <td>NaN</td>\n",
       "      <td>NaN</td>\n",
       "      <td>6.0</td>\n",
       "      <td>комедия,мелодрама</td>\n",
       "      <td>NaN</td>\n",
       "    </tr>\n",
       "    <tr>\n",
       "      <th>15</th>\n",
       "      <td>Председатель</td>\n",
       "      <td>111014916</td>\n",
       "      <td>2016-09-13T12:00:00.000Z</td>\n",
       "      <td>Художественный</td>\n",
       "      <td>Киностудия \"Мосфильм\"</td>\n",
       "      <td>СССР</td>\n",
       "      <td>А.Салтыков</td>\n",
       "      <td>NaN</td>\n",
       "      <td>«12+» - для детей старше 12 лет</td>\n",
       "      <td>NaN</td>\n",
       "      <td>NaN</td>\n",
       "      <td>NaN</td>\n",
       "      <td>NaN</td>\n",
       "      <td>8.3</td>\n",
       "      <td>драма</td>\n",
       "      <td>NaN</td>\n",
       "    </tr>\n",
       "    <tr>\n",
       "      <th>16</th>\n",
       "      <td>Осенний марафон</td>\n",
       "      <td>111007513</td>\n",
       "      <td>2013-10-18T12:00:00.000Z</td>\n",
       "      <td>Художественный</td>\n",
       "      <td>Киностудия \"Мосфильм\"</td>\n",
       "      <td>СССР</td>\n",
       "      <td>Г.Данелия</td>\n",
       "      <td>NaN</td>\n",
       "      <td>«12+» - для детей старше 12 лет</td>\n",
       "      <td>NaN</td>\n",
       "      <td>NaN</td>\n",
       "      <td>NaN</td>\n",
       "      <td>NaN</td>\n",
       "      <td>8.0</td>\n",
       "      <td>драма,мелодрама,комедия</td>\n",
       "      <td>NaN</td>\n",
       "    </tr>\n",
       "    <tr>\n",
       "      <th>17</th>\n",
       "      <td>Осень</td>\n",
       "      <td>111027914</td>\n",
       "      <td>2014-12-24T12:00:00.000Z</td>\n",
       "      <td>Художественный</td>\n",
       "      <td>Киностудия \"Мосфильм\"</td>\n",
       "      <td>СССР</td>\n",
       "      <td>А.Смирнов</td>\n",
       "      <td>NaN</td>\n",
       "      <td>«12+» - для детей старше 12 лет</td>\n",
       "      <td>NaN</td>\n",
       "      <td>NaN</td>\n",
       "      <td>NaN</td>\n",
       "      <td>NaN</td>\n",
       "      <td>7.4</td>\n",
       "      <td>драма,мелодрама</td>\n",
       "      <td>NaN</td>\n",
       "    </tr>\n",
       "    <tr>\n",
       "      <th>18</th>\n",
       "      <td>Неподдающиеся</td>\n",
       "      <td>111003616</td>\n",
       "      <td>2016-02-12T12:00:00.000Z</td>\n",
       "      <td>Художественный</td>\n",
       "      <td>Киностудия \"Мосфильм\"</td>\n",
       "      <td>СССР</td>\n",
       "      <td>Ю.Чулюкин</td>\n",
       "      <td>NaN</td>\n",
       "      <td>«6+» - для детей старше 6 лет</td>\n",
       "      <td>NaN</td>\n",
       "      <td>NaN</td>\n",
       "      <td>NaN</td>\n",
       "      <td>NaN</td>\n",
       "      <td>8.0</td>\n",
       "      <td>мелодрама,комедия</td>\n",
       "      <td>360.0</td>\n",
       "    </tr>\n",
       "    <tr>\n",
       "      <th>19</th>\n",
       "      <td>Неподсуден</td>\n",
       "      <td>111003716</td>\n",
       "      <td>2016-02-12T12:00:00.000Z</td>\n",
       "      <td>Художественный</td>\n",
       "      <td>Киностудия \"Мосфильм\"</td>\n",
       "      <td>СССР</td>\n",
       "      <td>В.Краснопольский, В.Усков</td>\n",
       "      <td>NaN</td>\n",
       "      <td>«6+» - для детей старше 6 лет</td>\n",
       "      <td>NaN</td>\n",
       "      <td>NaN</td>\n",
       "      <td>NaN</td>\n",
       "      <td>NaN</td>\n",
       "      <td>7.7</td>\n",
       "      <td>драма</td>\n",
       "      <td>420.0</td>\n",
       "    </tr>\n",
       "  </tbody>\n",
       "</table>\n",
       "</div>"
      ],
      "text/plain": [
       "                                                title   puNumber  \\\n",
       "0                                    Открытый простор  221048915   \n",
       "1                                Особо важное задание  111013716   \n",
       "2                                        Особо опасен  221038416   \n",
       "3                                        Особо опасен  221026916   \n",
       "4                                        Особо опасен  221030815   \n",
       "5                                   Остановился поезд  111013816   \n",
       "6                                     Любовь и голуби  111007013   \n",
       "7                                   Любовь и сигареты  221074614   \n",
       "8                                  Отпетые мошенники.  121011416   \n",
       "9                                 Отпуск за свой счет  111019114   \n",
       "10  Превосходство Борна /По одноименной новелле Ро...  221031416   \n",
       "11                                       Ответный ход  111019014   \n",
       "12  Малышка на миллион /По мотивам рассказов Ф.Х.Т...  221011415   \n",
       "13                                 Преданный садовник  121003106   \n",
       "14            Отель /По мотивам пьесы Джона Уэбстера/  221008812   \n",
       "15                                       Председатель  111014916   \n",
       "16                                    Осенний марафон  111007513   \n",
       "17                                              Осень  111027914   \n",
       "18                                      Неподдающиеся  111003616   \n",
       "19                                         Неподсуден  111003716   \n",
       "\n",
       "             show_start_date            type  \\\n",
       "0   2015-11-27T12:00:00.000Z  Художественный   \n",
       "1   2016-09-13T12:00:00.000Z  Художественный   \n",
       "2   2016-10-10T12:00:00.000Z  Художественный   \n",
       "3   2016-06-10T12:00:00.000Z  Художественный   \n",
       "4   2015-07-29T12:00:00.000Z  Художественный   \n",
       "5   2016-09-13T12:00:00.000Z  Художественный   \n",
       "6   2013-10-18T12:00:00.000Z  Художественный   \n",
       "7   2014-12-29T12:00:00.000Z  Художественный   \n",
       "8   2016-05-05T12:00:00.000Z  Художественный   \n",
       "9   2014-12-01T12:00:00.000Z  Художественный   \n",
       "10  2016-06-29T12:00:00.000Z  Художественный   \n",
       "11  2014-12-01T12:00:00.000Z  Художественный   \n",
       "12  2015-04-03T12:00:00.000Z  Художественный   \n",
       "13  2013-08-26T12:00:00.000Z  Художественный   \n",
       "14  2012-01-27T12:00:00.000Z  Художественный   \n",
       "15  2016-09-13T12:00:00.000Z  Художественный   \n",
       "16  2013-10-18T12:00:00.000Z  Художественный   \n",
       "17  2014-12-24T12:00:00.000Z  Художественный   \n",
       "18  2016-02-12T12:00:00.000Z  Художественный   \n",
       "19  2016-02-12T12:00:00.000Z  Художественный   \n",
       "\n",
       "                                          film_studio  \\\n",
       "0   Тачстоун Пикчерз, Кобальт Пикчерз, Бикон Пикче...   \n",
       "1                               Киностудия \"Мосфильм\"   \n",
       "2   Юниверсал Пикчерз, Кикстарт Продакшнз, Марк Пл...   \n",
       "3   Юниверсал Пикчерз, Кикстарт Продакшнз, Марк Пл...   \n",
       "4   Юниверсал Пикчерз, Кикстарт Продакшнз, Марк Пл...   \n",
       "5                               Киностудия \"Мосфильм\"   \n",
       "6                               Киностудия \"Мосфильм\"   \n",
       "7   Юнайтед Артистс, Грин Стрит Филмз, Айкон Интер...   \n",
       "8                      Пульсар Продюксьон, ТФ1 Фильм    \n",
       "9              Киностудия \"Мосфильм\", Телевидение ВНР   \n",
       "10  Кеннеди/Маршал Компани, Юниверсал Пикчерз, Гип...   \n",
       "11                              Киностудия \"Мосфильм\"   \n",
       "12  Уорнер Бразерс, Лейкшор Интертейнмент, Малпасо...   \n",
       "13  Потбойлер Продакшнз, Эпсилон Моушн Пикчерз, Ск...   \n",
       "14  Кэтлей, Отель Продакшнс, Мунстоун Интертейнмен...   \n",
       "15                              Киностудия \"Мосфильм\"   \n",
       "16                              Киностудия \"Мосфильм\"   \n",
       "17                              Киностудия \"Мосфильм\"   \n",
       "18                              Киностудия \"Мосфильм\"   \n",
       "19                              Киностудия \"Мосфильм\"   \n",
       "\n",
       "         production_country                   director  \\\n",
       "0                       США              Кевин Костнер   \n",
       "1                      СССР                  Е.Матвеев   \n",
       "2                       США          Тимур Бекмамбетов   \n",
       "3                       США          Тимур Бекмамбетов   \n",
       "4                       США          Тимур Бекмамбетов   \n",
       "5                      СССР               В.Абдрашитов   \n",
       "6                      СССР                  В.Меньшов   \n",
       "7                       США              Джон Туртурро   \n",
       "8                   Франция               Эрик Беснард   \n",
       "9             СССР, Венгрия                    В.Титов   \n",
       "10                      США              Пол Грингросс   \n",
       "11                     СССР              М.Туманишвили   \n",
       "12                      США               Клинт Иствуд   \n",
       "13  Германия-Великобритания        Фернанду Мейрелльеш   \n",
       "14  Великобритания - Италия                Майк Фиггис   \n",
       "15                     СССР                 А.Салтыков   \n",
       "16                     СССР                  Г.Данелия   \n",
       "17                     СССР                  А.Смирнов   \n",
       "18                     СССР                  Ю.Чулюкин   \n",
       "19                     СССР  В.Краснопольский, В.Усков   \n",
       "\n",
       "                                             producer  \\\n",
       "0           Дэвид Валдес, Кевин Костнер, Джейк Эбертс   \n",
       "1                                                 NaN   \n",
       "2   Джим Лемли, Джейсон Нетер, Марк Е.Платт, Яйн Смит   \n",
       "3   Джим Лемли, Джейсон Нетер, Марк Е.Платт, Яйн Смит   \n",
       "4   Джим Лемли, Джейсон Нетер, Марк Е.Платт, Яйн Смит   \n",
       "5                                                 NaN   \n",
       "6                                                 NaN   \n",
       "7                         Джон Пенотти, Джон Туртурро   \n",
       "8                                         Патрис Леду   \n",
       "9                                                 NaN   \n",
       "10         Патрик Кроули, Фрэнк Маршалл, Пол Сэндберг   \n",
       "11                                                NaN   \n",
       "12  Клинт Иствуд, Том Розенберг, Альберт С.Рудди, ...   \n",
       "13                             Саймон Чэннинг Уильямс   \n",
       "14                Этчи Стро, Анни Стюарт, Майк Фиггис   \n",
       "15                                                NaN   \n",
       "16                                                NaN   \n",
       "17                                                NaN   \n",
       "18                                                NaN   \n",
       "19                                                NaN   \n",
       "\n",
       "                    age_restriction  refundable_support  \\\n",
       "0       «18+» - запрещено для детей                 NaN   \n",
       "1     «6+» - для детей старше 6 лет                 NaN   \n",
       "2       «18+» - запрещено для детей                 NaN   \n",
       "3       «18+» - запрещено для детей                 NaN   \n",
       "4       «18+» - запрещено для детей                 NaN   \n",
       "5     «6+» - для детей старше 6 лет                 NaN   \n",
       "6   «12+» - для детей старше 12 лет                 NaN   \n",
       "7       «18+» - запрещено для детей                 NaN   \n",
       "8       «18+» - запрещено для детей                 NaN   \n",
       "9   «12+» - для детей старше 12 лет                 NaN   \n",
       "10  «16+» - для детей старше 16 лет                 NaN   \n",
       "11  «12+» - для детей старше 12 лет                 NaN   \n",
       "12  «16+» - для детей старше 16 лет                 NaN   \n",
       "13  «16+» - для детей старше 16 лет                 NaN   \n",
       "14      «18+» - запрещено для детей                 NaN   \n",
       "15  «12+» - для детей старше 12 лет                 NaN   \n",
       "16  «12+» - для детей старше 12 лет                 NaN   \n",
       "17  «12+» - для детей старше 12 лет                 NaN   \n",
       "18    «6+» - для детей старше 6 лет                 NaN   \n",
       "19    «6+» - для детей старше 6 лет                 NaN   \n",
       "\n",
       "    nonrefundable_support  budget financing_source ratings  \\\n",
       "0                     NaN     NaN              NaN     7.2   \n",
       "1                     NaN     NaN              NaN     6.6   \n",
       "2                     NaN     NaN              NaN     6.8   \n",
       "3                     NaN     NaN              NaN     6.8   \n",
       "4                     NaN     NaN              NaN     6.8   \n",
       "5                     NaN     NaN              NaN     7.7   \n",
       "6                     NaN     NaN              NaN     8.3   \n",
       "7                     NaN     NaN              NaN     6.6   \n",
       "8                     NaN     NaN              NaN     8.0   \n",
       "9                     NaN     NaN              NaN     7.8   \n",
       "10                    NaN     NaN              NaN     7.7   \n",
       "11                    NaN     NaN              NaN     7.8   \n",
       "12                    NaN     NaN              NaN     8.1   \n",
       "13                    NaN     NaN              NaN     7.1   \n",
       "14                    NaN     NaN              NaN     6.0   \n",
       "15                    NaN     NaN              NaN     8.3   \n",
       "16                    NaN     NaN              NaN     8.0   \n",
       "17                    NaN     NaN              NaN     7.4   \n",
       "18                    NaN     NaN              NaN     8.0   \n",
       "19                    NaN     NaN              NaN     7.7   \n",
       "\n",
       "                       genres  box_office  \n",
       "0      боевик,драма,мелодрама         NaN  \n",
       "1               драма,военный         NaN  \n",
       "2   фантастика,боевик,триллер         NaN  \n",
       "3   фантастика,боевик,триллер         NaN  \n",
       "4   фантастика,боевик,триллер         NaN  \n",
       "5                       драма         NaN  \n",
       "6           мелодрама,комедия      2700.0  \n",
       "7    мюзикл,мелодрама,комедия         NaN  \n",
       "8            комедия,криминал         NaN  \n",
       "9           мелодрама,комедия         NaN  \n",
       "10    боевик,триллер,детектив         NaN  \n",
       "11   боевик,драма,приключения         NaN  \n",
       "12                драма,спорт         NaN  \n",
       "13    триллер,драма,мелодрама         NaN  \n",
       "14          комедия,мелодрама         NaN  \n",
       "15                      драма         NaN  \n",
       "16    драма,мелодрама,комедия         NaN  \n",
       "17            драма,мелодрама         NaN  \n",
       "18          мелодрама,комедия       360.0  \n",
       "19                      драма       420.0  "
      ]
     },
     "execution_count": 9,
     "metadata": {},
     "output_type": "execute_result"
    }
   ],
   "source": [
    "# display of the results\n",
    "df_movies.head(20)"
   ]
  },
  {
   "cell_type": "code",
   "execution_count": 10,
   "metadata": {},
   "outputs": [
    {
     "name": "stdout",
     "output_type": "stream",
     "text": [
      "<class 'pandas.core.frame.DataFrame'>\n",
      "Int64Index: 7486 entries, 0 to 7485\n",
      "Data columns (total 16 columns):\n",
      " #   Column                 Non-Null Count  Dtype  \n",
      "---  ------                 --------------  -----  \n",
      " 0   title                  7486 non-null   object \n",
      " 1   puNumber               7486 non-null   object \n",
      " 2   show_start_date        7486 non-null   object \n",
      " 3   type                   7486 non-null   object \n",
      " 4   film_studio            7468 non-null   object \n",
      " 5   production_country     7484 non-null   object \n",
      " 6   director               7477 non-null   object \n",
      " 7   producer               6918 non-null   object \n",
      " 8   age_restriction        7486 non-null   object \n",
      " 9   refundable_support     332 non-null    float64\n",
      " 10  nonrefundable_support  332 non-null    float64\n",
      " 11  budget                 332 non-null    float64\n",
      " 12  financing_source       332 non-null    object \n",
      " 13  ratings                6519 non-null   object \n",
      " 14  genres                 6510 non-null   object \n",
      " 15  box_office             3158 non-null   float64\n",
      "dtypes: float64(4), object(12)\n",
      "memory usage: 994.2+ KB\n"
     ]
    }
   ],
   "source": [
    "# display of info on merged dataset\n",
    "df_movies.info()"
   ]
  },
  {
   "cell_type": "markdown",
   "metadata": {},
   "source": [
    "**Conclusion**\n",
    "\n",
    "- Data sucessfully imported and datasets were merged in one dataset.\n",
    "\n",
    "- Dataset has 7486 rows and 15 columns with object and float datatypes.\n"
   ]
  },
  {
   "cell_type": "markdown",
   "metadata": {
    "id": "KLDGpPG0gFyM"
   },
   "source": [
    "### Step 2. Data Preparation"
   ]
  },
  {
   "cell_type": "markdown",
   "metadata": {
    "id": "ssWwKXsxgFyO"
   },
   "source": [
    "#### Step 2.1. Data types check"
   ]
  },
  {
   "cell_type": "code",
   "execution_count": 11,
   "metadata": {
    "id": "kVGSplJOgFyO"
   },
   "outputs": [
    {
     "data": {
      "text/plain": [
       "array([1. , 1.1, 1.2, 1.3, 1.4, 1.5, 1.6, 1.7, 1.8, 1.9, 2.1, 2.4, 2.5,\n",
       "       2.6, 2.7, 2.8, 2.9, 3. , 3.1, 3.2, 3.3, 3.4, 3.5, 3.6, 3.7, 3.8,\n",
       "       3.9, 4. , 4.1, 4.2, 4.3, 4.4, 4.5, 4.6, 4.7, 4.8, 4.9, 5. , 5.1,\n",
       "       5.2, 5.3, 5.4, 5.5, 5.6, 5.7, 5.8, 5.9, 6. , 6.1, 6.2, 6.3, 6.4,\n",
       "       6.5, 6.6, 6.7, 6.8, 6.9, 7. , 7.1, 7.2, 7.3, 7.4, 7.5, 7.6, 7.7,\n",
       "       7.8, 7.9, 8. , 8.1, 8.2, 8.3, 8.4, 8.5, 8.6, 8.7, 8.8, 8.9, 9. ,\n",
       "       9.1, 9.2, 9.4, 9.7, 9.8, 9.9, nan])"
      ]
     },
     "execution_count": 11,
     "metadata": {},
     "output_type": "execute_result"
    }
   ],
   "source": [
    "# deletion of % symbol\n",
    "df_movies['ratings'] = df_movies['ratings'].str.replace('%','')\n",
    "\n",
    "# function declaration for reformating of rating column\n",
    "def devide_ten (df_name):\n",
    "    if df_name['ratings'] > 10:\n",
    "        return df_name['ratings']/10\n",
    "    else:\n",
    "        return df_name['ratings']\n",
    "\n",
    "# datatype changing and application of function\n",
    "df_movies['ratings'] = df_movies['ratings'].astype('float')\n",
    "df_movies['ratings'] = df_movies.apply(devide_ten, axis=1)\n",
    "\n",
    "# display of unique results\n",
    "df_movies['ratings'].sort_values().unique()"
   ]
  },
  {
   "cell_type": "code",
   "execution_count": 12,
   "metadata": {
    "scrolled": false
   },
   "outputs": [
    {
     "name": "stdout",
     "output_type": "stream",
     "text": [
      "<class 'pandas.core.frame.DataFrame'>\n",
      "Int64Index: 7486 entries, 0 to 7485\n",
      "Data columns (total 16 columns):\n",
      " #   Column                 Non-Null Count  Dtype              \n",
      "---  ------                 --------------  -----              \n",
      " 0   title                  7486 non-null   object             \n",
      " 1   puNumber               7486 non-null   object             \n",
      " 2   show_start_date        7486 non-null   datetime64[ns, UTC]\n",
      " 3   type                   7486 non-null   object             \n",
      " 4   film_studio            7468 non-null   object             \n",
      " 5   production_country     7484 non-null   object             \n",
      " 6   director               7477 non-null   object             \n",
      " 7   producer               6918 non-null   object             \n",
      " 8   age_restriction        7486 non-null   object             \n",
      " 9   refundable_support     332 non-null    float64            \n",
      " 10  nonrefundable_support  332 non-null    float64            \n",
      " 11  budget                 332 non-null    float64            \n",
      " 12  financing_source       332 non-null    object             \n",
      " 13  ratings                6519 non-null   float64            \n",
      " 14  genres                 6510 non-null   object             \n",
      " 15  box_office             3158 non-null   float64            \n",
      "dtypes: datetime64[ns, UTC](1), float64(5), object(10)\n",
      "memory usage: 994.2+ KB\n"
     ]
    }
   ],
   "source": [
    "# datatype change in colunmn show_start_date \n",
    "df_movies['show_start_date'] = pd.to_datetime(df_movies['show_start_date'],format='%Y-%m-%d')\n",
    "\n",
    "# display the results\n",
    "df_movies.info()"
   ]
  },
  {
   "cell_type": "code",
   "execution_count": 13,
   "metadata": {},
   "outputs": [
    {
     "name": "stdout",
     "output_type": "stream",
     "text": [
      "<class 'pandas.core.frame.DataFrame'>\n",
      "Int64Index: 7486 entries, 0 to 7485\n",
      "Data columns (total 16 columns):\n",
      " #   Column                 Non-Null Count  Dtype              \n",
      "---  ------                 --------------  -----              \n",
      " 0   title                  7486 non-null   object             \n",
      " 1   puNumber               7486 non-null   int32              \n",
      " 2   show_start_date        7486 non-null   datetime64[ns, UTC]\n",
      " 3   type                   7486 non-null   object             \n",
      " 4   film_studio            7468 non-null   object             \n",
      " 5   production_country     7484 non-null   object             \n",
      " 6   director               7477 non-null   object             \n",
      " 7   producer               6918 non-null   object             \n",
      " 8   age_restriction        7486 non-null   object             \n",
      " 9   refundable_support     332 non-null    float64            \n",
      " 10  nonrefundable_support  332 non-null    float64            \n",
      " 11  budget                 332 non-null    float64            \n",
      " 12  financing_source       332 non-null    object             \n",
      " 13  ratings                6519 non-null   float64            \n",
      " 14  genres                 6510 non-null   object             \n",
      " 15  box_office             3158 non-null   float64            \n",
      "dtypes: datetime64[ns, UTC](1), float64(5), int32(1), object(9)\n",
      "memory usage: 965.0+ KB\n"
     ]
    }
   ],
   "source": [
    "# changing of incorrect value of column \"puNumber\"\n",
    "df_movies['puNumber'] = df_movies['puNumber'].str.replace('нет','-1')\n",
    "\n",
    "# changing of column datatype\n",
    "df_movies['puNumber'] = df_movies['puNumber'].astype('int')\n",
    "\n",
    "# display the results\n",
    "df_movies.info()"
   ]
  },
  {
   "cell_type": "markdown",
   "metadata": {
    "id": "i0MOLbF-gFyP"
   },
   "source": [
    "#### Step 2.2. Nulls processing"
   ]
  },
  {
   "cell_type": "code",
   "execution_count": 14,
   "metadata": {
    "id": "8MJD_lkngFyP"
   },
   "outputs": [
    {
     "name": "stdout",
     "output_type": "stream",
     "text": [
      "<class 'pandas.core.frame.DataFrame'>\n",
      "Int64Index: 7486 entries, 0 to 7485\n",
      "Data columns (total 16 columns):\n",
      " #   Column                 Non-Null Count  Dtype              \n",
      "---  ------                 --------------  -----              \n",
      " 0   title                  7486 non-null   object             \n",
      " 1   puNumber               7486 non-null   int32              \n",
      " 2   show_start_date        7486 non-null   datetime64[ns, UTC]\n",
      " 3   type                   7486 non-null   object             \n",
      " 4   film_studio            7486 non-null   object             \n",
      " 5   production_country     7486 non-null   object             \n",
      " 6   director               7486 non-null   object             \n",
      " 7   producer               7486 non-null   object             \n",
      " 8   age_restriction        7486 non-null   object             \n",
      " 9   refundable_support     7486 non-null   float64            \n",
      " 10  nonrefundable_support  7486 non-null   float64            \n",
      " 11  budget                 7486 non-null   float64            \n",
      " 12  financing_source       7486 non-null   object             \n",
      " 13  ratings                7486 non-null   float64            \n",
      " 14  genres                 7486 non-null   object             \n",
      " 15  box_office             7486 non-null   float64            \n",
      "dtypes: datetime64[ns, UTC](1), float64(5), int32(1), object(9)\n",
      "memory usage: 965.0+ KB\n"
     ]
    }
   ],
   "source": [
    "# selection of columns with categorical values\n",
    "temp = ['film_studio','director','producer','financing_source','production_country','genres']\n",
    "\n",
    "# loop for fillup on null value\n",
    "for n in temp:\n",
    "    df_movies[n] = df_movies[n].fillna('unknown')\n",
    "\n",
    "# selection of numeric columns  \n",
    "temp = ['refundable_support','nonrefundable_support','budget','ratings','box_office']\n",
    "\n",
    "# fillup nulls\n",
    "for n in temp:\n",
    "    df_movies[n] = df_movies[n].fillna(0)\n",
    "    \n",
    "# display the results\n",
    "df_movies.info()"
   ]
  },
  {
   "cell_type": "markdown",
   "metadata": {},
   "source": [
    "**All nulls in categorical coulmns were replaced with value \"unknown', numeric - 0**"
   ]
  },
  {
   "cell_type": "markdown",
   "metadata": {
    "id": "4c6k1t9ygFyQ"
   },
   "source": [
    "#### Step 2.3. Duplicates processing"
   ]
  },
  {
   "cell_type": "code",
   "execution_count": 15,
   "metadata": {
    "id": "aKck8RIdgFyQ",
    "scrolled": false
   },
   "outputs": [
    {
     "name": "stdout",
     "output_type": "stream",
     "text": [
      "7486\n",
      "7484\n",
      "221154310\n"
     ]
    },
    {
     "data": {
      "text/html": [
       "<div>\n",
       "<style scoped>\n",
       "    .dataframe tbody tr th:only-of-type {\n",
       "        vertical-align: middle;\n",
       "    }\n",
       "\n",
       "    .dataframe tbody tr th {\n",
       "        vertical-align: top;\n",
       "    }\n",
       "\n",
       "    .dataframe thead th {\n",
       "        text-align: right;\n",
       "    }\n",
       "</style>\n",
       "<table border=\"1\" class=\"dataframe\">\n",
       "  <thead>\n",
       "    <tr style=\"text-align: right;\">\n",
       "      <th></th>\n",
       "      <th>title</th>\n",
       "      <th>puNumber</th>\n",
       "      <th>show_start_date</th>\n",
       "      <th>type</th>\n",
       "      <th>film_studio</th>\n",
       "      <th>production_country</th>\n",
       "      <th>director</th>\n",
       "      <th>producer</th>\n",
       "      <th>age_restriction</th>\n",
       "      <th>refundable_support</th>\n",
       "      <th>nonrefundable_support</th>\n",
       "      <th>budget</th>\n",
       "      <th>financing_source</th>\n",
       "      <th>ratings</th>\n",
       "      <th>genres</th>\n",
       "      <th>box_office</th>\n",
       "    </tr>\n",
       "  </thead>\n",
       "  <tbody>\n",
       "    <tr>\n",
       "      <th>4638</th>\n",
       "      <td>Как жениться и остаться холостым</td>\n",
       "      <td>221154310</td>\n",
       "      <td>2010-12-17 12:00:00+00:00</td>\n",
       "      <td>Художественный</td>\n",
       "      <td>Ше Вам, Скрипт Ассосье, Тэ Фэ 1 Фильм Продюксь...</td>\n",
       "      <td>Франция</td>\n",
       "      <td>Эрик Лартиго</td>\n",
       "      <td>Амандин Било, Алан Шаба</td>\n",
       "      <td>«16+» - для детей старше 16 лет</td>\n",
       "      <td>0.0</td>\n",
       "      <td>0.0</td>\n",
       "      <td>0.0</td>\n",
       "      <td>unknown</td>\n",
       "      <td>7.0</td>\n",
       "      <td>мелодрама,комедия</td>\n",
       "      <td>0.0</td>\n",
       "    </tr>\n",
       "    <tr>\n",
       "      <th>4639</th>\n",
       "      <td>Иоанна - женщина на папском престоле /По роман...</td>\n",
       "      <td>221154310</td>\n",
       "      <td>2010-12-17 12:00:00+00:00</td>\n",
       "      <td>Художественный</td>\n",
       "      <td>Константин Фильм, А Эр Ди Дегето Фильм, Дюне ...</td>\n",
       "      <td>Германия - Великобритания - Италия - Испания</td>\n",
       "      <td>Зенке Вортманн</td>\n",
       "      <td>Оливер Бербен, Дорис Д.Хайнце, Фарук Элтан</td>\n",
       "      <td>«16+» - для детей старше 16 лет</td>\n",
       "      <td>0.0</td>\n",
       "      <td>0.0</td>\n",
       "      <td>0.0</td>\n",
       "      <td>unknown</td>\n",
       "      <td>7.6</td>\n",
       "      <td>драма,мелодрама,история</td>\n",
       "      <td>0.0</td>\n",
       "    </tr>\n",
       "  </tbody>\n",
       "</table>\n",
       "</div>"
      ],
      "text/plain": [
       "                                                  title   puNumber  \\\n",
       "4638                   Как жениться и остаться холостым  221154310   \n",
       "4639  Иоанна - женщина на папском престоле /По роман...  221154310   \n",
       "\n",
       "               show_start_date            type  \\\n",
       "4638 2010-12-17 12:00:00+00:00  Художественный   \n",
       "4639 2010-12-17 12:00:00+00:00  Художественный   \n",
       "\n",
       "                                            film_studio  \\\n",
       "4638  Ше Вам, Скрипт Ассосье, Тэ Фэ 1 Фильм Продюксь...   \n",
       "4639   Константин Фильм, А Эр Ди Дегето Фильм, Дюне ...   \n",
       "\n",
       "                                production_country        director  \\\n",
       "4638                                       Франция    Эрик Лартиго   \n",
       "4639  Германия - Великобритания - Италия - Испания  Зенке Вортманн   \n",
       "\n",
       "                                        producer  \\\n",
       "4638                     Амандин Било, Алан Шаба   \n",
       "4639  Оливер Бербен, Дорис Д.Хайнце, Фарук Элтан   \n",
       "\n",
       "                      age_restriction  refundable_support  \\\n",
       "4638  «16+» - для детей старше 16 лет                 0.0   \n",
       "4639  «16+» - для детей старше 16 лет                 0.0   \n",
       "\n",
       "      nonrefundable_support  budget financing_source  ratings  \\\n",
       "4638                    0.0     0.0          unknown      7.0   \n",
       "4639                    0.0     0.0          unknown      7.6   \n",
       "\n",
       "                       genres  box_office  \n",
       "4638        мелодрама,комедия         0.0  \n",
       "4639  драма,мелодрама,история         0.0  "
      ]
     },
     "metadata": {},
     "output_type": "display_data"
    },
    {
     "name": "stdout",
     "output_type": "stream",
     "text": [
      "221054410\n"
     ]
    },
    {
     "data": {
      "text/html": [
       "<div>\n",
       "<style scoped>\n",
       "    .dataframe tbody tr th:only-of-type {\n",
       "        vertical-align: middle;\n",
       "    }\n",
       "\n",
       "    .dataframe tbody tr th {\n",
       "        vertical-align: top;\n",
       "    }\n",
       "\n",
       "    .dataframe thead th {\n",
       "        text-align: right;\n",
       "    }\n",
       "</style>\n",
       "<table border=\"1\" class=\"dataframe\">\n",
       "  <thead>\n",
       "    <tr style=\"text-align: right;\">\n",
       "      <th></th>\n",
       "      <th>title</th>\n",
       "      <th>puNumber</th>\n",
       "      <th>show_start_date</th>\n",
       "      <th>type</th>\n",
       "      <th>film_studio</th>\n",
       "      <th>production_country</th>\n",
       "      <th>director</th>\n",
       "      <th>producer</th>\n",
       "      <th>age_restriction</th>\n",
       "      <th>refundable_support</th>\n",
       "      <th>nonrefundable_support</th>\n",
       "      <th>budget</th>\n",
       "      <th>financing_source</th>\n",
       "      <th>ratings</th>\n",
       "      <th>genres</th>\n",
       "      <th>box_office</th>\n",
       "    </tr>\n",
       "  </thead>\n",
       "  <tbody>\n",
       "    <tr>\n",
       "      <th>5067</th>\n",
       "      <td>Анализируй это!</td>\n",
       "      <td>221054410</td>\n",
       "      <td>2010-05-25 12:00:00+00:00</td>\n",
       "      <td>Художественный</td>\n",
       "      <td>Уорнер Бразерс, Вилладж Роудшоу Филмз ЛТД</td>\n",
       "      <td>США-Австралия</td>\n",
       "      <td>ХЭрольд Рэмис</td>\n",
       "      <td>Джейн Розенталь, Пола Уейнстейн</td>\n",
       "      <td>«16+» - для детей старше 16 лет</td>\n",
       "      <td>0.0</td>\n",
       "      <td>0.0</td>\n",
       "      <td>0.0</td>\n",
       "      <td>unknown</td>\n",
       "      <td>7.4</td>\n",
       "      <td>комедия,криминал</td>\n",
       "      <td>0.0</td>\n",
       "    </tr>\n",
       "    <tr>\n",
       "      <th>5068</th>\n",
       "      <td>Анализируй то!</td>\n",
       "      <td>221054410</td>\n",
       "      <td>2010-05-25 12:00:00+00:00</td>\n",
       "      <td>Художественный</td>\n",
       "      <td>Уорнер Бразерс, Виллидж Роадшоу Пикчерз, Эн-Пи...</td>\n",
       "      <td>США</td>\n",
       "      <td>Гарольд Реймис</td>\n",
       "      <td>Джейн Розенталь, Паул Уэйнстейн</td>\n",
       "      <td>«12+» - для детей старше 12 лет</td>\n",
       "      <td>0.0</td>\n",
       "      <td>0.0</td>\n",
       "      <td>0.0</td>\n",
       "      <td>unknown</td>\n",
       "      <td>6.8</td>\n",
       "      <td>комедия,криминал</td>\n",
       "      <td>0.0</td>\n",
       "    </tr>\n",
       "  </tbody>\n",
       "</table>\n",
       "</div>"
      ],
      "text/plain": [
       "                title   puNumber           show_start_date            type  \\\n",
       "5067  Анализируй это!  221054410 2010-05-25 12:00:00+00:00  Художественный   \n",
       "5068   Анализируй то!  221054410 2010-05-25 12:00:00+00:00  Художественный   \n",
       "\n",
       "                                            film_studio production_country  \\\n",
       "5067          Уорнер Бразерс, Вилладж Роудшоу Филмз ЛТД      США-Австралия   \n",
       "5068  Уорнер Бразерс, Виллидж Роадшоу Пикчерз, Эн-Пи...                США   \n",
       "\n",
       "            director                         producer  \\\n",
       "5067   ХЭрольд Рэмис  Джейн Розенталь, Пола Уейнстейн   \n",
       "5068  Гарольд Реймис  Джейн Розенталь, Паул Уэйнстейн   \n",
       "\n",
       "                      age_restriction  refundable_support  \\\n",
       "5067  «16+» - для детей старше 16 лет                 0.0   \n",
       "5068  «12+» - для детей старше 12 лет                 0.0   \n",
       "\n",
       "      nonrefundable_support  budget financing_source  ratings  \\\n",
       "5067                    0.0     0.0          unknown      7.4   \n",
       "5068                    0.0     0.0          unknown      6.8   \n",
       "\n",
       "                genres  box_office  \n",
       "5067  комедия,криминал         0.0  \n",
       "5068  комедия,криминал         0.0  "
      ]
     },
     "metadata": {},
     "output_type": "display_data"
    }
   ],
   "source": [
    "# count of duplicates\n",
    "print(df_movies.duplicated().count())\n",
    "\n",
    "# count of duplicates in column puNumber\n",
    "print(df_movies['puNumber'].drop_duplicates().count())\n",
    "\n",
    "# selection of rows with duplicated value in column puNumber\n",
    "temp = df_movies[df_movies['puNumber'].duplicated()].puNumber\n",
    "\n",
    "# display of data with duplicates in column puNumber\n",
    "for n in temp:\n",
    "    print(n)\n",
    "    display(df_movies[df_movies['puNumber'] == n])"
   ]
  },
  {
   "cell_type": "code",
   "execution_count": 16,
   "metadata": {},
   "outputs": [
    {
     "name": "stdout",
     "output_type": "stream",
     "text": [
      "[' Йохан Нийенхейс' ' Н.Орлов, Р.Быков' ' Р.Асхаев' ...\n",
      " 'хореография Пьера Лакотта по Филиппу Тальони'\n",
      " 'хореография Фредерика Аштона' 'хореография Фредерика Эштона']\n",
      "[' А.Шальопа' ' Г.Шпригов'\n",
      " ' Дитмар Ганше, Филипп Фогес,  Бенджамин Херрман, Миша Хоффманн, Эберхард Юнексдорф, Энн Мередит'\n",
      " ...\n",
      " 'Яэль Абекассис, Мат Кирби, Мишель Киркман, Пабло Мелер, Брайан Дж. Фалконер, Стефан Эйхенбергер'\n",
      " 'Яэль Бергман, Лаура Уотерс, Питер Хеллайар'\n",
      " 'Яэль Фогель, Летиция Гонзалез']\n"
     ]
    }
   ],
   "source": [
    "# display of uniques values of columns director and producer\n",
    "print(df_movies.director.sort_values().unique())\n",
    "print(df_movies.producer.sort_values().unique())"
   ]
  },
  {
   "cell_type": "markdown",
   "metadata": {},
   "source": [
    "***Cocnlusion***\n",
    "\n",
    "- data set has no obvious duplicates\n",
    "- there are some duplicates in several columns\n",
    "- in column puNumber there are few duplicates, hovewer it's not required to delete/merge it. Issue qould be solved by clarification of the data with the person who created the table.\n",
    "- in columns director and producer there are duplicates - it's normal, due to the fact that more than one movie could be filmed by same director/producer/country. Columns producer and director has impilicit duplicates, but for processing of 7k pcs will take a lot of time, issue also could be solved by the creater of table. "
   ]
  },
  {
   "cell_type": "markdown",
   "metadata": {
    "id": "52fOPrEBgFyQ"
   },
   "source": [
    "#### Step 2.4. Categorical columns processing"
   ]
  },
  {
   "cell_type": "code",
   "execution_count": 17,
   "metadata": {
    "scrolled": true
   },
   "outputs": [
    {
     "name": "stdout",
     "output_type": "stream",
     "text": [
      "['unknown' 'аниме,мультфильм' 'аниме,мультфильм,боевик'\n",
      " 'аниме,мультфильм,детектив' 'аниме,мультфильм,драма'\n",
      " 'аниме,мультфильм,комедия' 'аниме,мультфильм,короткометражка'\n",
      " 'аниме,мультфильм,мелодрама' 'аниме,мультфильм,приключения'\n",
      " 'аниме,мультфильм,ужасы' 'аниме,мультфильм,фантастика'\n",
      " 'аниме,мультфильм,фэнтези' 'биография' 'биография,военный,драма'\n",
      " 'биография,документальный' 'биография,драма' 'биография,драма,военный'\n",
      " 'биография,драма,история' 'биография,драма,криминал' 'биография,история'\n",
      " 'биография,история,драма' 'биография,криминал,драма'\n",
      " 'биография,криминал,триллер' 'биография,мелодрама,драма'\n",
      " 'биография,музыка,драма' 'биография,музыка,мюзикл'\n",
      " 'биография,спорт,драма' 'биография,спорт,история'\n",
      " 'биография,спорт,комедия' 'боевик' 'боевик,вестерн,приключения'\n",
      " 'боевик,военный' 'боевик,военный,драма' 'боевик,военный,история'\n",
      " 'боевик,детектив' 'боевик,драма' 'боевик,драма,биография'\n",
      " 'боевик,драма,вестерн' 'боевик,драма,военный' 'боевик,драма,история'\n",
      " 'боевик,драма,комедия' 'боевик,драма,криминал' 'боевик,драма,мелодрама'\n",
      " 'боевик,драма,приключения' 'боевик,драма,триллер' 'боевик,история'\n",
      " 'боевик,история,драма' 'боевик,комедия' 'боевик,комедия,криминал'\n",
      " 'боевик,комедия,приключения' 'боевик,комедия,семейный' 'боевик,криминал'\n",
      " 'боевик,криминал,детектив' 'боевик,криминал,драма'\n",
      " 'боевик,криминал,триллер' 'боевик,мелодрама' 'боевик,мелодрама,комедия'\n",
      " 'боевик,приключения' 'боевик,приключения,детектив'\n",
      " 'боевик,приключения,история' 'боевик,приключения,семейный'\n",
      " 'боевик,приключения,триллер' 'боевик,спорт,драма' 'боевик,триллер'\n",
      " 'боевик,триллер,детектив' 'боевик,триллер,драма' 'боевик,триллер,комедия'\n",
      " 'боевик,триллер,криминал' 'боевик,триллер,мелодрама'\n",
      " 'боевик,триллер,приключения' 'боевик,триллер,фэнтези' 'боевик,фантастика'\n",
      " 'боевик,фантастика,приключения' 'боевик,фантастика,триллер'\n",
      " 'боевик,фэнтези' 'боевик,фэнтези,драма' 'вестерн,биография,драма'\n",
      " 'вестерн,боевик,драма' 'вестерн,драма,триллер' 'вестерн,криминал,триллер'\n",
      " 'вестерн,приключения,боевик' 'военный' 'военный,биография,драма'\n",
      " 'военный,боевик,драма' 'военный,боевик,история' 'военный,детектив'\n",
      " 'военный,драма' 'военный,драма,боевик' 'военный,драма,история'\n",
      " 'военный,драма,комедия' 'военный,история' 'военный,история,драма'\n",
      " 'военный,приключения,драма' 'детектив' 'детектив,боевик,история'\n",
      " 'детектив,драма,криминал' 'детектив,драма,триллер'\n",
      " 'детектив,история,драма' 'детектив,комедия' 'детектив,комедия,драма'\n",
      " 'детектив,криминал' 'детектив,криминал,боевик' 'детектив,криминал,драма'\n",
      " 'детектив,криминал,триллер' 'детектив,мелодрама'\n",
      " 'детектив,мелодрама,фэнтези' 'детектив,приключения,драма'\n",
      " 'детектив,приключения,триллер' 'детектив,триллер'\n",
      " 'детектив,триллер,боевик' 'детектив,триллер,драма'\n",
      " 'детектив,триллер,криминал' 'детектив,триллер,ужасы'\n",
      " 'детектив,ужасы,криминал' 'детектив,фантастика,криминал'\n",
      " 'детектив,фантастика,триллер' 'детектив,фильм-нуар,комедия'\n",
      " 'детектив,фэнтези,триллер' 'детский' 'детский,комедия'\n",
      " 'детский,мелодрама,семейный' 'детский,мультфильм,приключения'\n",
      " 'детский,приключения,комедия' 'детский,приключения,семейный'\n",
      " 'детский,приключения,фантастика' 'детский,семейный' 'детский,фэнтези'\n",
      " 'детский,фэнтези,приключения' 'для взрослых,драма,комедия'\n",
      " 'для взрослых,драма,мелодрама' 'документальный'\n",
      " 'документальный,биография' 'документальный,биография,история'\n",
      " 'документальный,биография,музыка' 'документальный,биография,спорт'\n",
      " 'документальный,боевик,приключения' 'документальный,военный,драма'\n",
      " 'документальный,военный,история' 'документальный,драма'\n",
      " 'документальный,драма,биография' 'документальный,драма,история'\n",
      " 'документальный,драма,комедия' 'документальный,драма,музыка'\n",
      " 'документальный,драма,семейный' 'документальный,история'\n",
      " 'документальный,комедия' 'документальный,комедия,история'\n",
      " 'документальный,комедия,криминал' 'документальный,короткометражка'\n",
      " 'документальный,короткометражка,семейный'\n",
      " 'документальный,криминал,военный' 'документальный,музыка'\n",
      " 'документальный,музыка,биография' 'документальный,музыка,концерт'\n",
      " 'документальный,мюзикл' 'документальный,новости,драма'\n",
      " 'документальный,приключения' 'документальный,приключения,семейный'\n",
      " 'документальный,семейный' 'документальный,семейный,музыка'\n",
      " 'документальный,спорт' 'документальный,спорт,биография'\n",
      " 'документальный,триллер,биография' 'документальный,ужасы'\n",
      " 'документальный,ужасы,боевик' 'документальный,фантастика'\n",
      " 'документальный,фэнтези' 'документальный,фэнтези,драма'\n",
      " 'документальный,фэнтези,семейный' 'драма' 'драма,биография'\n",
      " 'драма,биография,история' 'драма,биография,комедия'\n",
      " 'драма,биография,музыка' 'драма,биография,мюзикл' 'драма,биография,спорт'\n",
      " 'драма,боевик' 'драма,боевик,история' 'драма,боевик,криминал'\n",
      " 'драма,боевик,приключения' 'драма,вестерн' 'драма,вестерн,боевик'\n",
      " 'драма,вестерн,приключения' 'драма,военный' 'драма,военный,биография'\n",
      " 'драма,военный,боевик' 'драма,военный,история'\n",
      " 'драма,военный,приключения' 'драма,военный,триллер' 'драма,детектив'\n",
      " 'драма,детектив,история' 'драма,детектив,криминал'\n",
      " 'драма,детектив,приключения' 'драма,история' 'драма,история,биография'\n",
      " 'драма,история,военный' 'драма,история,детектив' 'драма,история,музыка'\n",
      " 'драма,история,триллер' 'драма,комедия' 'драма,комедия,биография'\n",
      " 'драма,комедия,вестерн' 'драма,комедия,военный' 'драма,комедия,детектив'\n",
      " 'драма,комедия,история' 'драма,комедия,криминал'\n",
      " 'драма,комедия,мелодрама' 'драма,комедия,музыка'\n",
      " 'драма,комедия,мультфильм' 'драма,комедия,приключения'\n",
      " 'драма,комедия,семейный' 'драма,комедия,спорт' 'драма,комедия,триллер'\n",
      " 'драма,комедия,ужасы' 'драма,комедия,фантастика' 'драма,криминал'\n",
      " 'драма,криминал,биография' 'драма,криминал,боевик'\n",
      " 'драма,криминал,вестерн' 'драма,криминал,детектив'\n",
      " 'драма,криминал,история' 'драма,криминал,приключения'\n",
      " 'драма,криминал,семейный' 'драма,криминал,спорт'\n",
      " 'драма,криминал,фантастика' 'драма,криминал,фильм-нуар' 'драма,мелодрама'\n",
      " 'драма,мелодрама,биография' 'драма,мелодрама,военный'\n",
      " 'драма,мелодрама,детектив' 'драма,мелодрама,история'\n",
      " 'драма,мелодрама,комедия' 'драма,мелодрама,криминал'\n",
      " 'драма,мелодрама,музыка' 'драма,мелодрама,приключения'\n",
      " 'драма,мелодрама,семейный' 'драма,мелодрама,триллер'\n",
      " 'драма,мелодрама,фэнтези' 'драма,музыка' 'драма,мультфильм'\n",
      " 'драма,приключения' 'драма,приключения,биография'\n",
      " 'драма,приключения,военный' 'драма,приключения,история'\n",
      " 'драма,приключения,мелодрама' 'драма,приключения,семейный'\n",
      " 'драма,приключения,триллер' 'драма,приключения,фэнтези' 'драма,семейный'\n",
      " 'драма,семейный,биография' 'драма,семейный,комедия' 'драма,спорт'\n",
      " 'драма,спорт,биография' 'драма,спорт,боевик' 'драма,спорт,история'\n",
      " 'драма,спорт,комедия' 'драма,спорт,семейный' 'драма,триллер'\n",
      " 'драма,триллер,биография' 'драма,триллер,детектив'\n",
      " 'драма,триллер,криминал' 'драма,триллер,приключения' 'драма,ужасы'\n",
      " 'драма,фантастика' 'драма,фантастика,триллер' 'драма,фантастика,ужасы'\n",
      " 'драма,фэнтези' 'драма,фэнтези,история' 'история'\n",
      " 'история,биография,военный' 'история,биография,драма'\n",
      " 'история,боевик,фэнтези' 'история,детектив' 'история,драма'\n",
      " 'история,драма,боевик' 'история,драма,мелодрама' 'история,криминал'\n",
      " 'история,мелодрама' 'история,приключения' 'история,спорт,драма' 'комедия'\n",
      " 'комедия,биография' 'комедия,биография,история' 'комедия,боевик,криминал'\n",
      " 'комедия,боевик,приключения' 'комедия,боевик,фантастика'\n",
      " 'комедия,вестерн' 'комедия,военный' 'комедия,военный,музыка'\n",
      " 'комедия,детектив' 'комедия,детектив,приключения' 'комедия,драма'\n",
      " 'комедия,драма,биография' 'комедия,драма,военный'\n",
      " 'комедия,драма,короткометражка' 'комедия,драма,криминал'\n",
      " 'комедия,драма,мелодрама' 'комедия,драма,семейный' 'комедия,история'\n",
      " 'комедия,история,драма' 'комедия,криминал' 'комедия,криминал,биография'\n",
      " 'комедия,криминал,боевик' 'комедия,криминал,детектив'\n",
      " 'комедия,криминал,драма' 'комедия,криминал,история'\n",
      " 'комедия,криминал,приключения' 'комедия,криминал,семейный'\n",
      " 'комедия,криминал,спорт' 'комедия,криминал,триллер' 'комедия,мелодрама'\n",
      " 'комедия,мелодрама,драма' 'комедия,мелодрама,криминал'\n",
      " 'комедия,мелодрама,фантастика' 'комедия,мелодрама,фэнтези'\n",
      " 'комедия,музыка' 'комедия,музыка,драма' 'комедия,мультфильм,фантастика'\n",
      " 'комедия,приключения' 'комедия,приключения,вестерн'\n",
      " 'комедия,приключения,детектив' 'комедия,приключения,история'\n",
      " 'комедия,приключения,криминал' 'комедия,приключения,мелодрама'\n",
      " 'комедия,приключения,музыка' 'комедия,приключения,семейный'\n",
      " 'комедия,приключения,спорт' 'комедия,приключения,фэнтези'\n",
      " 'комедия,семейный' 'комедия,семейный,музыка'\n",
      " 'комедия,семейный,приключения' 'комедия,семейный,фантастика'\n",
      " 'комедия,семейный,фэнтези' 'комедия,спорт' 'комедия,триллер'\n",
      " 'комедия,триллер,драма' 'комедия,ужасы' 'комедия,фантастика'\n",
      " 'комедия,фантастика,боевик' 'комедия,фантастика,мелодрама'\n",
      " 'комедия,фэнтези' 'комедия,фэнтези,криминал' 'комедия,фэнтези,мелодрама'\n",
      " 'комедия,фэнтези,приключения' 'комедия,фэнтези,ужасы' 'концерт,музыка'\n",
      " 'концерт,музыка,документальный' 'короткометражка'\n",
      " 'короткометражка,биография' 'короткометражка,боевик,драма'\n",
      " 'короткометражка,драма' 'короткометражка,драма,военный'\n",
      " 'короткометражка,драма,триллер' 'короткометражка,комедия,криминал'\n",
      " 'короткометражка,мелодрама' 'короткометражка,музыка'\n",
      " 'короткометражка,мультфильм' 'короткометражка,фантастика' 'криминал'\n",
      " 'криминал,биография,комедия' 'криминал,боевик' 'криминал,боевик,комедия'\n",
      " 'криминал,боевик,триллер' 'криминал,детектив'\n",
      " 'криминал,детектив,приключения' 'криминал,драма' 'криминал,драма,комедия'\n",
      " 'криминал,драма,триллер' 'криминал,комедия' 'криминал,комедия,боевик'\n",
      " 'криминал,комедия,драма' 'криминал,комедия,триллер' 'криминал,мелодрама'\n",
      " 'криминал,триллер,драма' 'мелодрама' 'мелодрама,биография'\n",
      " 'мелодрама,военный,драма' 'мелодрама,детектив'\n",
      " 'мелодрама,детектив,комедия' 'мелодрама,драма' 'мелодрама,драма,боевик'\n",
      " 'мелодрама,драма,комедия' 'мелодрама,драма,музыка'\n",
      " 'мелодрама,драма,фэнтези' 'мелодрама,история' 'мелодрама,история,драма'\n",
      " 'мелодрама,история,триллер' 'мелодрама,комедия' 'мелодрама,комедия,драма'\n",
      " 'мелодрама,комедия,криминал' 'мелодрама,комедия,музыка'\n",
      " 'мелодрама,комедия,приключения' 'мелодрама,комедия,семейный'\n",
      " 'мелодрама,комедия,спорт' 'мелодрама,комедия,триллер'\n",
      " 'мелодрама,комедия,ужасы' 'мелодрама,криминал' 'мелодрама,музыка'\n",
      " 'мелодрама,музыка,драма' 'мелодрама,приключения'\n",
      " 'мелодрама,приключения,боевик' 'мелодрама,семейный'\n",
      " 'мелодрама,семейный,приключения' 'мелодрама,триллер,история'\n",
      " 'мелодрама,фантастика,драма' 'мелодрама,фэнтези,триллер' 'музыка,концерт'\n",
      " 'музыка,концерт,документальный' 'музыка,мелодрама,фэнтези'\n",
      " 'музыка,приключения,концерт' 'мультфильм' 'мультфильм,биография,драма'\n",
      " 'мультфильм,боевик,детектив' 'мультфильм,боевик,комедия'\n",
      " 'мультфильм,боевик,приключения' 'мультфильм,боевик,триллер'\n",
      " 'мультфильм,детский' 'мультфильм,детский,комедия'\n",
      " 'мультфильм,детский,приключения' 'мультфильм,детский,семейный'\n",
      " 'мультфильм,драма' 'мультфильм,драма,комедия'\n",
      " 'мультфильм,драма,приключения' 'мультфильм,история' 'мультфильм,комедия'\n",
      " 'мультфильм,комедия,детский' 'мультфильм,комедия,криминал'\n",
      " 'мультфильм,комедия,приключения' 'мультфильм,комедия,семейный'\n",
      " 'мультфильм,комедия,фантастика' 'мультфильм,короткометражка'\n",
      " 'мультфильм,короткометражка,детский' 'мультфильм,короткометражка,комедия'\n",
      " 'мультфильм,короткометражка,мелодрама'\n",
      " 'мультфильм,короткометражка,мюзикл' 'мультфильм,короткометражка,ужасы'\n",
      " 'мультфильм,короткометражка,фэнтези' 'мультфильм,мелодрама,драма'\n",
      " 'мультфильм,мелодрама,комедия' 'мультфильм,мелодрама,приключения'\n",
      " 'мультфильм,мюзикл,детский' 'мультфильм,мюзикл,драма'\n",
      " 'мультфильм,мюзикл,комедия' 'мультфильм,мюзикл,мелодрама'\n",
      " 'мультфильм,мюзикл,фэнтези' 'мультфильм,приключения'\n",
      " 'мультфильм,приключения,военный' 'мультфильм,приключения,детектив'\n",
      " 'мультфильм,приключения,детский' 'мультфильм,приключения,драма'\n",
      " 'мультфильм,приключения,комедия' 'мультфильм,приключения,семейный'\n",
      " 'мультфильм,приключения,фантастика' 'мультфильм,приключения,фэнтези'\n",
      " 'мультфильм,семейный' 'мультфильм,семейный,детский'\n",
      " 'мультфильм,семейный,драма' 'мультфильм,семейный,комедия'\n",
      " 'мультфильм,семейный,спорт' 'мультфильм,семейный,фэнтези'\n",
      " 'мультфильм,ужасы,комедия' 'мультфильм,ужасы,фантастика'\n",
      " 'мультфильм,ужасы,фэнтези' 'мультфильм,фантастика,боевик'\n",
      " 'мультфильм,фантастика,комедия' 'мультфильм,фантастика,приключения'\n",
      " 'мультфильм,фантастика,фэнтези' 'мультфильм,фэнтези'\n",
      " 'мультфильм,фэнтези,боевик' 'мультфильм,фэнтези,детский'\n",
      " 'мультфильм,фэнтези,драма' 'мультфильм,фэнтези,история'\n",
      " 'мультфильм,фэнтези,комедия' 'мультфильм,фэнтези,мелодрама'\n",
      " 'мультфильм,фэнтези,приключения' 'мультфильм,фэнтези,семейный'\n",
      " 'мультфильм,фэнтези,триллер' 'мюзикл' 'мюзикл,боевик,драма'\n",
      " 'мюзикл,драма' 'мюзикл,драма,мелодрама' 'мюзикл,комедия'\n",
      " 'мюзикл,комедия,детский' 'мюзикл,комедия,мелодрама'\n",
      " 'мюзикл,комедия,музыка' 'мюзикл,комедия,приключения' 'мюзикл,мелодрама'\n",
      " 'мюзикл,мелодрама,комедия' 'мюзикл,мелодрама,фэнтези' 'мюзикл,семейный'\n",
      " 'мюзикл,семейный,драма' 'мюзикл,ужасы,триллер' 'мюзикл,фэнтези,драма'\n",
      " 'мюзикл,фэнтези,комедия' 'мюзикл,фэнтези,мелодрама'\n",
      " 'мюзикл,фэнтези,семейный' 'приключения' 'приключения,биография,драма'\n",
      " 'приключения,биография,история' 'приключения,боевик'\n",
      " 'приключения,боевик,триллер' 'приключения,вестерн,боевик'\n",
      " 'приключения,военный' 'приключения,детектив,мелодрама'\n",
      " 'приключения,детектив,семейный' 'приключения,детский'\n",
      " 'приключения,детский,комедия' 'приключения,драма'\n",
      " 'приключения,драма,фантастика' 'приключения,история'\n",
      " 'приключения,история,военный' 'приключения,история,драма'\n",
      " 'приключения,комедия,фэнтези' 'приключения,мелодрама,детектив'\n",
      " 'приключения,семейный' 'приключения,семейный,драма' 'приключения,триллер'\n",
      " 'приключения,триллер,биография' 'приключения,фантастика'\n",
      " 'приключения,фантастика,драма' 'приключения,фантастика,семейный'\n",
      " 'приключения,фэнтези' 'приключения,фэнтези,семейный' 'реальное ТВ'\n",
      " 'семейный' 'семейный,детектив,детский' 'семейный,документальный'\n",
      " 'семейный,комедия' 'семейный,комедия,драма' 'семейный,комедия,музыка'\n",
      " 'семейный,мелодрама' 'семейный,мультфильм,комедия' 'семейный,приключения'\n",
      " 'семейный,приключения,военный' 'семейный,приключения,документальный'\n",
      " 'семейный,приключения,комедия' 'семейный,спорт,боевик' 'семейный,фэнтези'\n",
      " 'семейный,фэнтези,комедия' 'спорт,драма' 'спорт,драма,биография'\n",
      " 'спорт,драма,комедия' 'спорт,мелодрама,криминал' 'триллер'\n",
      " 'триллер,биография,драма' 'триллер,боевик' 'триллер,боевик,криминал'\n",
      " 'триллер,боевик,приключения' 'триллер,военный' 'триллер,детектив'\n",
      " 'триллер,детектив,драма' 'триллер,детектив,криминал'\n",
      " 'триллер,детектив,ужасы' 'триллер,драма' 'триллер,драма,биография'\n",
      " 'триллер,драма,боевик' 'триллер,драма,военный' 'триллер,драма,детектив'\n",
      " 'триллер,драма,история' 'триллер,драма,комедия' 'триллер,драма,криминал'\n",
      " 'триллер,драма,мелодрама' 'триллер,драма,приключения'\n",
      " 'триллер,драма,ужасы' 'триллер,драма,фантастика' 'триллер,комедия'\n",
      " 'триллер,комедия,криминал' 'триллер,комедия,ужасы' 'триллер,криминал'\n",
      " 'триллер,криминал,боевик' 'триллер,криминал,детектив'\n",
      " 'триллер,криминал,драма' 'триллер,криминал,комедия'\n",
      " 'триллер,криминал,приключения' 'триллер,мелодрама'\n",
      " 'триллер,мелодрама,детектив' 'триллер,мелодрама,драма'\n",
      " 'триллер,мелодрама,комедия' 'триллер,мелодрама,криминал'\n",
      " 'триллер,приключения' 'триллер,приключения,драма' 'триллер,ужасы'\n",
      " 'триллер,ужасы,детектив' 'триллер,ужасы,драма' 'триллер,ужасы,криминал'\n",
      " 'триллер,ужасы,мелодрама' 'триллер,фантастика,боевик'\n",
      " 'триллер,фантастика,драма' 'триллер,фэнтези' 'триллер,фэнтези,драма'\n",
      " 'ужасы' 'ужасы,боевик' 'ужасы,боевик,комедия' 'ужасы,боевик,криминал'\n",
      " 'ужасы,боевик,триллер' 'ужасы,боевик,фантастика' 'ужасы,боевик,фэнтези'\n",
      " 'ужасы,детектив' 'ужасы,драма' 'ужасы,драма,вестерн'\n",
      " 'ужасы,драма,военный' 'ужасы,драма,детектив' 'ужасы,драма,комедия'\n",
      " 'ужасы,драма,мелодрама' 'ужасы,драма,триллер' 'ужасы,комедия'\n",
      " 'ужасы,комедия,боевик' 'ужасы,комедия,детектив' 'ужасы,комедия,драма'\n",
      " 'ужасы,комедия,криминал' 'ужасы,комедия,музыка'\n",
      " 'ужасы,комедия,приключения' 'ужасы,комедия,семейный'\n",
      " 'ужасы,комедия,фантастика' 'ужасы,комедия,фэнтези'\n",
      " 'ужасы,мелодрама,детектив' 'ужасы,мелодрама,комедия' 'ужасы,приключения'\n",
      " 'ужасы,триллер' 'ужасы,триллер,детектив' 'ужасы,триллер,драма'\n",
      " 'ужасы,триллер,комедия' 'ужасы,триллер,криминал'\n",
      " 'ужасы,триллер,мелодрама' 'ужасы,триллер,приключения'\n",
      " 'ужасы,триллер,фантастика' 'ужасы,фантастика' 'ужасы,фантастика,боевик'\n",
      " 'ужасы,фантастика,детектив' 'ужасы,фантастика,драма'\n",
      " 'ужасы,фантастика,комедия' 'ужасы,фантастика,мелодрама'\n",
      " 'ужасы,фантастика,триллер' 'ужасы,фантастика,фэнтези' 'ужасы,фэнтези'\n",
      " 'ужасы,фэнтези,боевик' 'ужасы,фэнтези,детектив' 'ужасы,фэнтези,драма'\n",
      " 'ужасы,фэнтези,комедия' 'ужасы,фэнтези,мелодрама'\n",
      " 'ужасы,фэнтези,приключения' 'ужасы,фэнтези,триллер' 'фантастика'\n",
      " 'фантастика,боевик' 'фантастика,боевик,военный'\n",
      " 'фантастика,боевик,детектив' 'фантастика,боевик,драма'\n",
      " 'фантастика,боевик,комедия' 'фантастика,боевик,криминал'\n",
      " 'фантастика,боевик,мелодрама' 'фантастика,боевик,приключения'\n",
      " 'фантастика,боевик,семейный' 'фантастика,боевик,триллер'\n",
      " 'фантастика,боевик,ужасы' 'фантастика,боевик,фэнтези'\n",
      " 'фантастика,детектив,боевик' 'фантастика,детектив,фэнтези'\n",
      " 'фантастика,драма' 'фантастика,драма,боевик' 'фантастика,драма,детектив'\n",
      " 'фантастика,драма,комедия' 'фантастика,драма,криминал'\n",
      " 'фантастика,драма,мелодрама' 'фантастика,драма,приключения'\n",
      " 'фантастика,драма,триллер' 'фантастика,драма,ужасы' 'фантастика,комедия'\n",
      " 'фантастика,комедия,боевик' 'фантастика,комедия,детектив'\n",
      " 'фантастика,комедия,приключения' 'фантастика,комедия,семейный'\n",
      " 'фантастика,мелодрама' 'фантастика,мелодрама,боевик'\n",
      " 'фантастика,мелодрама,комедия' 'фантастика,мелодрама,фэнтези'\n",
      " 'фантастика,мультфильм,драма' 'фантастика,приключения'\n",
      " 'фантастика,приключения,боевик' 'фантастика,приключения,военный'\n",
      " 'фантастика,приключения,детектив' 'фантастика,приключения,драма'\n",
      " 'фантастика,приключения,семейный' 'фантастика,триллер'\n",
      " 'фантастика,триллер,боевик' 'фантастика,триллер,детектив'\n",
      " 'фантастика,триллер,драма' 'фантастика,триллер,комедия'\n",
      " 'фантастика,триллер,криминал' 'фантастика,триллер,мелодрама'\n",
      " 'фантастика,триллер,приключения' 'фантастика,фэнтези,боевик'\n",
      " 'фантастика,фэнтези,детектив' 'фантастика,фэнтези,драма'\n",
      " 'фантастика,фэнтези,комедия' 'фантастика,фэнтези,приключения'\n",
      " 'фантастика,фэнтези,триллер' 'фильм-нуар,триллер,детектив' 'фэнтези'\n",
      " 'фэнтези,боевик' 'фэнтези,боевик,вестерн' 'фэнтези,боевик,военный'\n",
      " 'фэнтези,боевик,детектив' 'фэнтези,боевик,драма' 'фэнтези,боевик,комедия'\n",
      " 'фэнтези,боевик,криминал' 'фэнтези,боевик,мелодрама'\n",
      " 'фэнтези,боевик,приключения' 'фэнтези,боевик,семейный'\n",
      " 'фэнтези,боевик,триллер' 'фэнтези,боевик,ужасы' 'фэнтези,драма'\n",
      " 'фэнтези,драма,биография' 'фэнтези,драма,детектив'\n",
      " 'фэнтези,драма,комедия' 'фэнтези,драма,мелодрама'\n",
      " 'фэнтези,драма,приключения' 'фэнтези,драма,семейный'\n",
      " 'фэнтези,драма,ужасы' 'фэнтези,драма,фильм-нуар' 'фэнтези,комедия'\n",
      " 'фэнтези,комедия,детектив' 'фэнтези,комедия,драма'\n",
      " 'фэнтези,комедия,криминал' 'фэнтези,комедия,приключения'\n",
      " 'фэнтези,комедия,семейный' 'фэнтези,мелодрама' 'фэнтези,мелодрама,драма'\n",
      " 'фэнтези,мелодрама,комедия' 'фэнтези,мелодрама,приключения'\n",
      " 'фэнтези,приключения' 'фэнтези,приключения,боевик'\n",
      " 'фэнтези,приключения,драма' 'фэнтези,приключения,комедия'\n",
      " 'фэнтези,приключения,семейный' 'фэнтези,семейный'\n",
      " 'фэнтези,семейный,мелодрама' 'фэнтези,семейный,приключения'\n",
      " 'фэнтези,триллер,детектив' 'фэнтези,триллер,драма'\n",
      " 'фэнтези,триллер,мелодрама' 'фэнтези,триллер,приключения' 'фэнтези,ужасы'\n",
      " 'фэнтези,ужасы,триллер'] \n",
      "\n",
      " [' СССР' ' СССР ' ' СССР   ' '2019' 'CША' 'unknown' 'Австралия'\n",
      " 'Австралия - Великобритания - Бельгия - Индия' 'Австралия - Германия'\n",
      " 'Австралия - Ирландия' 'Австралия - Колумбия' 'Австралия - США'\n",
      " 'Австралия, Канада' 'Австралия, США' 'Австралия-Великобритания'\n",
      " 'Австралия-Ирландия' 'Австралия-США' 'Австралия-Турция-США' 'Австрия'\n",
      " 'Австрия - Германия' 'Австрия - Германия - Франция'\n",
      " 'Австрия - Люксембург' 'Австрия, Великобритания, Германия'\n",
      " 'Австрия-Германия-Франция' 'Австрия-Франция-Германия'\n",
      " 'Азербайджан-Россия' 'Аргентина' 'Аргентина - Бразилия'\n",
      " 'Аргентина - Испания' 'Аргентина - Испания - Уругвай'\n",
      " 'Аргентина - Мексика - Бразилия - Франция - США'\n",
      " 'Аргентина - Уругвай - Россия - Германия - Франция - Нидерланды'\n",
      " 'Аргентина - Франция - Испания' 'Аргентина, Испания' 'Аргентина-Испания'\n",
      " 'Армения' 'Армения - Германия' 'Армения - Казахстан' 'Армения-Россия'\n",
      " 'Бельгия' 'Бельгия - Германия - Люксембург'\n",
      " 'Бельгия - Германия - Люксембург - Франция'\n",
      " 'Бельгия - Испания - Канада - Нидерланды' 'Бельгия - Италия - Франция '\n",
      " 'Бельгия - Люксембург' 'Бельгия - Люксембург - Франция - Швейцария'\n",
      " 'Бельгия - Нидерланды - Франция' 'Бельгия - США' 'Бельгия - Франция'\n",
      " 'Бельгия - Франция - Люксембург' 'Бельгия, Великобритания, США'\n",
      " 'Бельгия, Канада' 'Бельгия-Германия-Канада-Франция-США-Великобритания'\n",
      " 'Бельгия-Нидерланды' 'Бельгия-Франция' 'Бельгия-Франция-Италия'\n",
      " 'Болгария' 'Болгария - США' 'Болгария - Франция - Изриль'\n",
      " 'Босния и Герцеговина - Франция - Великобритания - Германия - Словения - Бельгия - Сербия'\n",
      " 'Бразилия' 'Бразилия - Германия - Порртугалия - Франция '\n",
      " 'Бразилия - Испания' 'Бразилия - К;анада' 'Бразилия - Канада - США'\n",
      " 'Бразилия - Португалия - Франция' 'Бразилия - США'\n",
      " 'Бразилия - США - КНР '\n",
      " 'Бразилия, Уругвай, Дания, Норвегия, Чили, Швеция' 'Великобритания'\n",
      " 'Великобритания ' 'Великобритания - Австралия - США'\n",
      " 'Великобритания - Австрия - Германия'\n",
      " 'Великобритания - Австрия - Франция - США'\n",
      " 'Великобритания - Аргентина - США - Франция - Россия - Испания'\n",
      " 'Великобритания - Германия'\n",
      " 'Великобритания - Германия - Нидерланды - Дания'\n",
      " 'Великобритания - Германия - США'\n",
      " 'Великобритания - Германия - Франция - Кипр - США'\n",
      " 'Великобритания - Гонконг - Венгрия - США - Ирландия'\n",
      " 'Великобритания - Дания' 'Великобритания - Израиль'\n",
      " 'Великобритания - Израиль - Франция - Япония - США'\n",
      " 'Великобритания - Ирландия' 'Великобритания - Ирландия - США'\n",
      " 'Великобритания - Ирландия - США '\n",
      " 'Великобритания - Исландия - Испания - Швейцария - США'\n",
      " 'Великобритания - Испания' 'Великобритания - Испания - Германия'\n",
      " 'Великобритания - Испания - Италия - Латвия - Франция - Эстония'\n",
      " 'Великобритания - Испания - Непал - Индия - Венгрия - Гонконг - Германия - Дания - Бахрейн'\n",
      " 'Великобритания - Италия' 'Великобритания - Италия - Испания'\n",
      " 'Великобритания - Италия - Швейцария' 'Великобритания - КНР'\n",
      " 'Великобритания - Канада' 'Великобритания - Канада - США'\n",
      " 'Великобритания - Люксембург' 'Великобритания - Мексика - США'\n",
      " 'Великобритания - Нидерланды - Германия - Франция - Бельгия - Австрия '\n",
      " 'Великобритания - Нидерланды - Франция - США'\n",
      " 'Великобритания - Нидерланды - Франция - Хорватия'\n",
      " 'Великобритания - Новая Зеландия'\n",
      " 'Великобритания - Норвегия - Дания - Германия'\n",
      " 'Великобритания - Норвегия - Кения - Хорватия' 'Великобритания - Польша'\n",
      " 'Великобритания - Польша - КНР - Индия - Норвегия'\n",
      " 'Великобритания - Пуэрто-Рико' 'Великобритания - Россия - КНР'\n",
      " 'Великобритания - Россия - Украина - США' 'Великобритания - Румыния'\n",
      " 'Великобритания - США'\n",
      " 'Великобритания - США - Австралия - Ирландия - Германия - Куба - Канада'\n",
      " 'Великобритания - США - Германия'\n",
      " 'Великобритания - США - Германия - Бельгия'\n",
      " 'Великобритания - США - Германия - Канада - Австралия'\n",
      " 'Великобритания - США - Индия' 'Великобритания - США - Канада'\n",
      " 'Великобритания - США - Канада - Бельгия - Нидерланды - Австрия - Германия'\n",
      " 'Великобритания - США - Канада - Нидерланды - Франция'\n",
      " 'Великобритания - США - Россия' 'Великобритания - США - Франция'\n",
      " 'Великобритания - США - Швейцария' 'Великобритания - Франция'\n",
      " 'Великобритания - Франция - Австрия - Швеция'\n",
      " 'Великобритания - Франция - Бельгия'\n",
      " 'Великобритания - Франция - Бельгия - Италия'\n",
      " 'Великобритания - Франция - Бельгия - США'\n",
      " 'Великобритания - Франция - Венгрия'\n",
      " 'Великобритания - Франция - Германия'\n",
      " 'Великобритания - Франция - Германия - США'\n",
      " 'Великобритания - Франция - Италия'\n",
      " 'Великобритания - Франция - Италия - Индия - Дания - КНР - Бангладеш - Камбоджа - Гаити - Уганда'\n",
      " 'Великобритания - Франция - Италия - США'\n",
      " 'Великобритания - Франция - Республика Кипр - Швейцария - США - Сербия'\n",
      " 'Великобритания - Франция - США'\n",
      " 'Великобритания - Франция - Швеция - Бельгия'\n",
      " 'Великобритания - Чехия - Франция'\n",
      " 'Великобритания - Чехия - Франция - Италия' 'Великобритания - ЮАР'\n",
      " 'Великобритания - Япония - США' 'Великобритания, Австралия'\n",
      " 'Великобритания, Германия, Дания, США' 'Великобритания, Канада'\n",
      " 'Великобритания, Канада, США'\n",
      " 'Великобритания, Нидерланды, Польша, Швейцария, Франция'\n",
      " 'Великобритания, Новая Зеландия' 'Великобритания, США'\n",
      " 'Великобритания, США, Испания' 'Великобритания, Франция'\n",
      " 'Великобритания, Франция, Бельгия' 'Великобритания, Швеция, США'\n",
      " 'Великобритания, Южная Корея, Канада, США, Индия, Китай, Япония'\n",
      " 'Великобритания, Япония, США' 'Великобритания-Австралия - США'\n",
      " 'Великобритания-Венгрия' 'Великобритания-Германия-Канада-ЮАР'\n",
      " 'Великобритания-США' 'Великобритания-США-Германия-КНР'\n",
      " 'Великобритания-США-Франция' 'Великобритания-Франция'\n",
      " 'Великобритания-Франция-Германия' 'Великобритания-Франция-Италия'\n",
      " 'Венгрия' 'Венгрия - Германия - Швеция' 'Венесуэла' 'Германия'\n",
      " 'Германия - Австралия' 'Германия - Австрия'\n",
      " 'Германия - Австрия - Ирландия' 'Германия - Австрия - Франция'\n",
      " 'Германия - Аргентина - Нидерланды - Чили' 'Германия - Бельгия'\n",
      " 'Германия - Бельгия - Великобритания'\n",
      " 'Германия - Бельгия - Люксембург - Ирландия'\n",
      " 'Германия - Бельгия - Люксембург - Норвегия'\n",
      " 'Германия - Бельгия - США -Франция' 'Германия - Великобритания'\n",
      " 'Германия - Великобритания - Австрия'\n",
      " 'Германия - Великобритания - Италия - Испания'\n",
      " 'Германия - Великобритания - США'\n",
      " 'Германия - Дания - Испания - Швеция - Канада - Эстония - Франция'\n",
      " 'Германия - Дания - Норвегия' 'Германия - Исландия' 'Германия - Италия'\n",
      " 'Германия - Италия - США' 'Германия - Италия - Франция'\n",
      " 'Германия - Канада' 'Германия - Китай' 'Германия - Люксембург - Бельгия'\n",
      " 'Германия - Люксембург - Дания' 'Германия - Люксембург - Франция'\n",
      " 'Германия - Нидерланды - Беларусь - Россия - Латвия'\n",
      " 'Германия - Нидерланды - ЮАР' 'Германия - Россия' 'Германия - США'\n",
      " 'Германия - США - Великобритания - Израиль'\n",
      " 'Германия - США - Великобритания - Ирландия'\n",
      " 'Германия - США - Франция - Испания' 'Германия - США - Швеция - Франция'\n",
      " 'Германия - Финляндия - Австралия' 'Германия - Франция'\n",
      " 'Германия - Франция -  Польша - Турция - Канада - Италия - Россия '\n",
      " 'Германия - Франция - Австрия' 'Германия - Франция - Бельгия'\n",
      " 'Германия - Франция - Великобритания - Польша - США'\n",
      " 'Германия - Франция - Канада' 'Германия - Франция - Люксембург'\n",
      " 'Германия - Франция - Польша' 'Германия - Швейцария'\n",
      " 'Германия - Швейцария - Франция - Южная Корея - США'\n",
      " 'Германия, Австралия' 'Германия, Бельгия' 'Германия, Россия'\n",
      " 'Германия, США' 'Германия, Франция' 'Германия, Франция, Великобритания'\n",
      " 'Германия, Франция, США' 'Германия-Австрия'\n",
      " 'Германия-Австрия-Франция-Италия' 'Германия-Великобритания'\n",
      " 'Германия-Израиль' 'Германия-Италия- Шри-Ланка'\n",
      " 'Германия-Италия-Швейцария'\n",
      " 'Германия-Канада-Великобритания-Швейцария-Франция'\n",
      " 'Германия-Канада-Франция-Бельгия' 'Германия-Кения' 'Германия-США'\n",
      " 'Германия-Украина-Нидерланды' 'Германия-Франция-Великобритания'\n",
      " 'Германия-Франция-Великобритания-США' 'Германия-Франция-Польша'\n",
      " 'Германия-Швеция' 'Голландия' 'Гонконг' 'Гонконг - КНР'\n",
      " 'Гонконг - Сингапур - Таиланд - Великобритания' 'Гонконг, КНР' 'Греция'\n",
      " 'Греция - Германия - Франция' 'Греция - Россия' 'Грузия'\n",
      " 'Грузия - Россия - Украина - Хорватия - Германия' 'Грузия - Украина'\n",
      " 'Грузия - Франция - Люксембург' 'Грузия-Россия' 'Грузия-Франция' 'Дания'\n",
      " 'Дания - Австрия - Ирландия - Финляндия - Норвегия - Швеция - Нидерланды'\n",
      " 'Дания - Великобритания - ЮАР' 'Дания - Германия'\n",
      " 'Дания - Германия - Швеция' 'Дания - Исландия'\n",
      " 'Дания - Канада - Швеция - Франция - Германия - Великобритания - США'\n",
      " 'Дания - Латвия - Россия - США' 'Дания - Норвегия - Великобритания'\n",
      " 'Дания - США' 'Дания - Франция - Германия - Швеция'\n",
      " 'Дания - Франция - Италия - Бельгия - Нидерланды'\n",
      " 'Дания - Швейцария - Бельгия - Франция' 'Дания - Швеция'\n",
      " 'Дания - Швеция - Великобритания - Франция - Германия - Нидерланды - Норвегия - Финляндия'\n",
      " 'Дания - Швеция - Италия - Франция - Германия'\n",
      " 'Дания, Канада, Норвегия, Австралия, США'\n",
      " 'Дания, Норвегия, Венгрия, Чехия' 'Дания, Норвегия, Швеция, Исландия'\n",
      " 'Дания, Швеция, Великобритания, Франция, Германия, Норвегия, Финляндия, Нидерланды, Италия'\n",
      " 'Дания-Франция-Бельгия-Германия-Великобритания'\n",
      " 'Дания-Швеция-Франция-Германия' 'Израиль'\n",
      " 'Израиль - Германия - Польша - Бельгия - Франция - Люксембург'\n",
      " 'Израиль - Германия - Франция - Швейцария' 'Израиль - Франция'\n",
      " 'Израиль - Франция - Великобритания - Германия'\n",
      " 'Израиль - Франция - Германия - Палестина - США - Австрия - Великобритания'\n",
      " 'Израиль, Украина' 'Израиль-США-Франция' 'Индия' 'Индия - Великобритания'\n",
      " 'Индия - КНР' 'Индия - Мексика' 'Индия - США' 'Индонезия' 'Иран' 'Иран '\n",
      " 'Иран, Франция' 'Ирландия' 'Ирландия - Великобритания - Канада'\n",
      " 'Ирландия - Великобритания - США'\n",
      " 'Ирландия - Великобритания - Франция - США'\n",
      " 'Ирландия - Великобритания - Франция - США - Германия - Нидерланды'\n",
      " 'Ирландия - Дания - Бельгия - Люксембург - Франция' 'Ирландия - США'\n",
      " 'Ирландия - Финляндия - Бельгия - Великобритания - США - Швейцария'\n",
      " 'Ирландия, Великобритания' 'Ирландия, Канада' 'Ирландия-Великобритания'\n",
      " 'Ирландия-Великобритания-Германия'\n",
      " 'Ирландия-Нидерланды-Франция-США-Великобритания' 'Исландия'\n",
      " 'Исландия - Финляндия' 'Исландия, Бельгия' 'Исландия-Ирландия-Германия'\n",
      " 'Испания' 'Испания - Аргентина' 'Испания - Аргентина - Индия - США'\n",
      " 'Испания - Бельгия - Франция - Португалия - Великобритания'\n",
      " 'Испания - Болгария - США' 'Испания - Великобритания - Франция'\n",
      " 'Испания - Германия - Нидерланды' 'Испания - Италия - Франция'\n",
      " 'Испания - Канада' 'Испания - Канада - Япония' 'Испания - Куба'\n",
      " 'Испания - Мальта' 'Испания - Мексика' 'Испания - США'\n",
      " 'Испания - США - Великобритания - Канада' 'Испания - США - Колумбия'\n",
      " 'Испания - Уругвай - Аргентина' 'Испания - Франция'\n",
      " 'Испания - Франция - Нидерланды - Германия - Бельгия - Великобритания - Канада'\n",
      " 'Испания - Франция - США - Великобритания - Бельгия'\n",
      " 'Испания - Швейцария - Великобритания - Германия - Новая Зеландия - Нидерланды - Канада'\n",
      " 'Испания, Ирландия, Бельгия, Франция'\n",
      " 'Испания, Франция, Великобритания, Дания, Бельгия, Германия'\n",
      " 'Испания, Франция, Италия' 'Испания-Аргентина' 'Испания-Канада'\n",
      " 'Испания-Колумбия' 'Испания-Мексика'\n",
      " 'Испания-Франция-Греция-Индия-США-Россия-Великобритания' 'Италия'\n",
      " 'Италия ' 'Италия - Аргентина - Словения ' 'Италия - Бельгия - Франция'\n",
      " 'Италия - Канада' 'Италия - Россия' 'Италия - США' 'Италия - Франция'\n",
      " 'Италия - Франция - Германия' 'Италия - Франция - Швейцария'\n",
      " 'Италия - Франция - Швейцария - Великобритания'\n",
      " 'Италия - Фрация - Бразилия - Германия' 'Италия - Швейцария - Германия'\n",
      " 'Италия, Германия' 'Италия, Испания' 'Италия, Франция'\n",
      " 'Италия, Франция, Германия' 'Италия-Великобритания' 'Италия-США'\n",
      " 'Италия-Франция' 'Италия-Франция-Великобритания' 'Италия-Швейцария'\n",
      " 'Италия-Швейцария-Франция-Германия ' 'КНР' 'КНР - Гонконг'\n",
      " 'КНР - Гонконг - США' 'КНР - Канада - США' 'КНР - США' 'КНР - США '\n",
      " 'КНР - Сингапур' 'КНР - Франция' 'КНР, Индия, Гонконг, США' 'КНР, США'\n",
      " 'КНР-США' 'Казахстан' 'Канада' 'Канада - Германия' 'Канада - Испания'\n",
      " 'Канада - Италия' 'Канада - КНР' 'Канада - Мексика' 'Канада - Норвегия'\n",
      " 'Канада - США' 'Канада - США - Германия - Франция'\n",
      " 'Канада - США - Нидерланды - Великобритания - Аргентина'\n",
      " 'Канада - Франция' 'Канада - Франция - Великобритания'\n",
      " 'Канада - Франция - Испания'\n",
      " 'Канада - Франция - США - ОАЭ - Великобритания' 'Канада - Южная Корея'\n",
      " 'Канада, Великобритания' 'Канада, США' 'Канада, США, Каймановы острова'\n",
      " 'Канада, США, Норвегия' 'Канада, Франция, Италия, Швейцария, США'\n",
      " 'Канада- Испания' 'Канада-Бразилия-Япония' 'Канада-Великобритания'\n",
      " 'Канада-Германия' 'Канада-США' 'Канада-Франция' 'Канада-ЮАР'\n",
      " 'Канада-Южная Корея-США' 'Кения, Германия' 'Киргизия' 'Киргизия-Россия'\n",
      " 'Китай' 'Китай - Гонконг' 'Китай, Канада, США' 'Китай, США'\n",
      " 'Китай-Гонконг' 'Китай-Гонконг-США' 'Княжество Андорра - Украина'\n",
      " 'Колумбия' 'Колумбия - США' 'Корея' 'Латвия - Россия' 'Латвия - Франция'\n",
      " 'Ливан-США' 'Литва - Венгрия' 'Литва-Россия-Украина'\n",
      " 'Люксембург - Бельгия - Франция'\n",
      " 'Люксембург - Нидерланды - Испания - Великобритания - США - Италия'\n",
      " 'Македония - Франция - Великобритания' 'Малайзия' 'Малайзия - США'\n",
      " 'Мексика' 'Мексика - Аргентина - Великобритания' 'Мексика - Испания'\n",
      " 'Мексика - Испания - Дания - США'\n",
      " 'Мексика - Нидерланды - Германия - Франция' 'Мексика - США'\n",
      " 'Мексика - Тайвань - США' 'Мексика - Франция'\n",
      " 'Мексика - Франция - Нидерланды - Германия' 'Мексика - Чили'\n",
      " 'Мексика - Эквадор - Канада - США - Франция - Малайзия - Италия - Аргентина - Германия - Индия  '\n",
      " 'Мексика, Франция, Германия, Дания, Швеция' 'Мексика-Аргентина'\n",
      " 'Монголия' 'Нидерланды' 'Нидерланды - Бельгия - Болгария'\n",
      " 'Нидерланды - Бельгия - Германия - Ирландия'\n",
      " 'Нидерланды - Бельгия - Люксембург'\n",
      " 'Нидерланды - Великобритания - Бельгия' 'Нидерланды - Россия'\n",
      " 'Нидерланды - Россия - Германия'\n",
      " 'Нидерланды - США - Германия - Канада - Франция - Ирландия - Великобритания'\n",
      " 'Нидерланды - Франция - Германия - Бельгия - Швеция - Великобритания'\n",
      " 'Нидерланды, Бельгия' 'Нидерланды, Бельгия, Люксембург'\n",
      " 'Нидерланды-Великобритания-Франция-Италия-Япония' 'Новая Зеландия'\n",
      " 'Новая Зеландия - КНР' 'Новая Зеландия - США' 'Норвегия'\n",
      " 'Норвегия - Азербайджан - Россия - Колумбия - Великобритания - Венгрия - Румыния - Франция - Грузия'\n",
      " 'Норвегия - Дания - Швеция' 'Норвегия - Исландия - США - Великобритания '\n",
      " 'Норвегия - Нидерланды' 'Норвегия - США' 'Норвегия - Швеция'\n",
      " 'Норвегия - Швеция - Дания - Германия' 'Норвегия - Швеция - Россия'\n",
      " 'Норвегия, Швеция, Дания' 'Норвения' 'ОАЭ - США' 'Пакистан' 'Парагвай'\n",
      " 'Перу' 'Польша' 'Польша - Ирландия' 'Польша - Италия - Россия'\n",
      " 'Польша - Португалия - Франция - Великобритания' 'Польша - Франция'\n",
      " 'Польша - Франция - Великобритания'\n",
      " 'Польша - Франция - Испания - Бразилия - Швеция' 'Португалия'\n",
      " 'Португалия - Франция' 'Португалия, Франция, Польша, США'\n",
      " 'Пуэрто-Рико, Великобритания, США' 'Республика Армения'\n",
      " 'Республика Беларусь' 'Республика Беларусь, Германия, США, Россия'\n",
      " 'Республика Казахстан' 'Республика Кипр' 'Республика Кипр - Россия'\n",
      " 'Республика Кипр, Россия' 'Республика Кипр, США, Россия'\n",
      " 'Республика Кипр-Россия' 'Республика Корея' 'Республика Узбекистан'\n",
      " 'Россия' 'Россия - Азербайджан' 'Россия - Болгария' 'Россия - Германия'\n",
      " 'Россия - Германия - Украина' 'Россия - Германия - Швейцария'\n",
      " 'Россия - Грузия' 'Россия - Италия' 'Россия - Казахстан'\n",
      " 'Россия - Польша' 'Россия - Республика Кипр' 'Россия - США'\n",
      " 'Россия - Франция - Великобритания - Латвия'\n",
      " 'Россия - Эстония - Финляндия - Беларусь' 'Россия,  Испания'\n",
      " 'Россия, Австрия' 'Россия, Армения' 'Россия, Бельгия, Финляндия'\n",
      " 'Россия, Германия' 'Россия, Германия, Великобритания'\n",
      " 'Россия, Германия, Казахстан, Польша, Китай'\n",
      " 'Россия, Германия, Франция, Бельгия' 'Россия, Грузия, Испания'\n",
      " 'Россия, Грузия, Хорватия, Испания' 'Россия, Испания' 'Россия, Италия'\n",
      " 'Россия, Казахстан, США' 'Россия, Латвия, Чешская Республика'\n",
      " 'Россия, Нидерланды, Финляндия' 'Россия, Польша, Финляндия'\n",
      " 'Россия, Республика Беларусь' 'Россия, Республика Кипр' 'Россия, Румыния'\n",
      " 'Россия, Сербия' 'Россия, Таджикистан' 'Россия, Украина'\n",
      " 'Россия, Украина, Польша' 'Россия, Украина, Республика Беларусь, Литва'\n",
      " 'Россия, Франция, Германия, Бельгия' 'Россия, Франция, Латвия'\n",
      " 'Россия-Азербайджан' 'Россия-Беларусь' 'Россия-Белоруссия'\n",
      " 'Россия-Германия' 'Россия-Ирландия' 'Россия-Италия' 'Россия-Казахстан'\n",
      " 'Россия-Кипр' 'Россия-Китай' 'Россия-Польша'\n",
      " 'Россия-Польша-Голландия-Словакия' 'Россия-США'\n",
      " 'Россия-США-Канада-Люксембург' 'Россия-Словакия-Чехия' 'Россия-Украина'\n",
      " 'Россия-Украина-Германия' 'Россия-Франция' 'Румыния'\n",
      " 'Румыния - Франция - Бельгия'\n",
      " 'Румыния, ЮАР, Иран, Франция, Канада, Великобритания' 'Румыния-США'\n",
      " 'СССР' 'СССР ' 'СССР  ' 'СССР   ' 'СССР    ' 'СССР     '\n",
      " 'СССР - ГДР - Польша - Италия' 'СССР - Италия'\n",
      " 'СССР - Швейцария - Франция' 'СССР, Албания' 'СССР, Афганистан'\n",
      " 'СССР, ВНР' 'СССР, Венгрия' 'СССР, Венгрия, ЧССР, ГДР' 'СССР, ГДР'\n",
      " 'СССР, Италия' 'СССР, Монголия' 'СССР, Польша' 'СССР, Россия'\n",
      " 'СССР, Румыния, Франция' 'СССР, ФРГ' 'СССР, ФРГ, Западный Берлин'\n",
      " 'СССР, Финляндия' 'СССР, Франция, Англия, Куба, ГДР'\n",
      " 'СССР, ЧССР, Западный Берлин, ПНР' 'СССР, Швеция' 'США' 'США '\n",
      " 'США - Австралия' 'США - Австралия - Дания' 'США - Австралия - Индия'\n",
      " 'США - Австралия - Мексика'\n",
      " 'США - Австралия - Новая Зеландия - Великобритания'\n",
      " 'США - Австралия - Франция' 'США - Бельгия'\n",
      " 'США - Бельгия - Великобритания' 'США - Болгария - Мексика'\n",
      " 'США - Бразилия - Великобритания - Канада'\n",
      " 'США - Бразилия - Франция - Австралия - Великобритания - Германия'\n",
      " 'США - Великобритания' 'США - Великобритания '\n",
      " 'США - Великобритания - Австралия' 'США - Великобритания - Болгария'\n",
      " 'США - Великобритания - Германия'\n",
      " 'США - Великобритания - Германия - - Швеция - Канада'\n",
      " 'США - Великобритания - Германия - Бельгия - Дания'\n",
      " 'США - Великобритания - Германия - Новая Зеландия - Бельгия - Франция'\n",
      " 'США - Великобритания - Ирландия' 'США - Великобритания - Исландия'\n",
      " 'США - Великобритания - Испания'\n",
      " 'США - Великобритания - Италия - Израиль - Сербия - Индия'\n",
      " 'США - Великобритания - КНР' 'США - Великобритания - Канада'\n",
      " 'США - Великобритания - Канада - КНР'\n",
      " 'США - Великобритания - Канада - Швеция'\n",
      " 'США - Великобритания - Новая Зеландия' 'США - Великобритания - Франция'\n",
      " 'США - Великобритания - Франция - Гонконг' 'США - Великобритания - Чехия'\n",
      " 'США - Великобритания - Швейцария - Франция'\n",
      " 'США - Великобритания - Швеция' 'США - Великобритания - Япония'\n",
      " 'США - Великобритания- Франция - Швеция' 'США - Венгрия - Великобритания'\n",
      " 'США - Вьетнам' 'США - Германия' 'США - Германия - Великобритания'\n",
      " 'США - Германия - Гонконг - Сингапур' 'США - Германия - КНР'\n",
      " 'США - Германия - Канада' 'США - Германия - Нидерланды'\n",
      " 'США - Германия - Франция'\n",
      " 'США - Германия - Франция - Великобритания - Канада '\n",
      " 'США - Германия - Япония' 'США - Гонконг' 'США - Гонконг - КНР '\n",
      " 'США - Дания' 'США - Индия' 'США - Индия - ОАЭ'\n",
      " 'США - Ирландия - Великобритания'\n",
      " 'США - Ирландия - Великобритания - Франция' 'США - Испания'\n",
      " 'США - Испания - Болгария' 'США - Испания - Франция'\n",
      " 'США - Испания - Франция - Великобритания' 'США - Италия' 'США - КНР'\n",
      " 'США - КНР - Индия - Ю.Корея' 'США - Канада' 'США - Канада - Аргентина'\n",
      " 'США - Канада - Афганистан - Бельгия - Франция'\n",
      " 'США - Канада - Великобритания' 'США - Канада - Германия'\n",
      " 'США - Канада - Германия - Франция' 'США - Канада - Индонезия'\n",
      " 'США - Канада - КНР' 'США - Канада - Россия - Франция - Чили - Ирландия'\n",
      " 'США - Канада - Франция - Индия' 'США - Канада - Япония - КНР'\n",
      " 'США - Китай' 'США - Колумбия' 'США - Колумбия - Испания' 'США - Мальта'\n",
      " 'США - Мексика' 'США - Нидерланды - Бельгия - Венгрия - Греция - Канада'\n",
      " 'США - Нидерланды - Финляндия - Великобритания - Италия'\n",
      " 'США - Новая Зеландия' 'США - Новая Зеландия - Япония' 'США - Норвегия'\n",
      " 'США - ОАЭ' 'США - Объединенные Арабские Эмираты' 'США - Пуэрто Рико'\n",
      " 'США - Пуэрто-Рико - Франция ' 'США - Россия'\n",
      " 'США - Россия - Польша - Германия - Пуэрто Рико' 'США - Россия - Франция'\n",
      " 'США - Румыния - Великобритания' 'США - Сингапур - Малайзия - Индонезия'\n",
      " 'США - Украина' 'США - Финляндия'\n",
      " 'США - Финляндия - Испания - Великобритания - Франция' 'США - Франция'\n",
      " 'США - Франция - Бельгия - Италия' 'США - Франция - Великобритания'\n",
      " 'США - Франция - Великобритания - Бразилия ' 'США - Франция - Германия'\n",
      " 'США - Франция - Германия - Канада - Австралия '\n",
      " 'США - Франция - Испания - Великобритания'\n",
      " 'США - Франция - Канада - Великобритания'\n",
      " 'США - Франция - Канада - Германия - Австралия - Индия'\n",
      " 'США - Франция - Турция' 'США - Франция - ЮАР'\n",
      " 'США - Хорватия - Босния-Герцеговина' 'США - Чехия - Франция'\n",
      " 'США - Чили' 'США - Швейцария - Франция' 'США - Швеция' 'США - ЮАР'\n",
      " 'США - ЮАР - Гонконг' 'США - Южная Корея' 'США - Япония'\n",
      " 'США - Япония - Германия'\n",
      " 'США - Япония - Канада - Великобритания - Германия - Франция'\n",
      " 'США - Япония - Франция - Великобритания'\n",
      " 'США -Великобритания - Австралия' 'США -Германия' 'США, Великобритания'\n",
      " 'США, Великобритания, Ирландия, Люксембург'\n",
      " 'США, Великобритания, Люксембург' 'США, Великобритания, Франция'\n",
      " 'США, Германия' 'США, Гонконг ' 'США, Индия' 'США, Канада' 'США, Россия'\n",
      " 'США, Украина' 'США, Франция' 'США, Франция, Япония' 'США, Япония'\n",
      " 'США- Ю.Корея' 'США-Австралия' 'США-Аргентина' 'США-Бельгия'\n",
      " 'США-Великобритания' 'США-Великобритания-Австралия'\n",
      " 'США-Великобритания-Индия' 'США-Великобритания-Ирландия'\n",
      " 'США-Великобритания-Новая Зеландия' 'США-Великобритания-Франция'\n",
      " 'США-Великобритания-Чехия-Румыния' 'США-Венгрия' 'США-Германия'\n",
      " 'США-Германия-Австралия' 'США-Германия-Великобритания'\n",
      " 'США-Германия-Канада' 'США-Гонконг-Китай' 'США-Индия' 'США-Индонезия'\n",
      " 'США-Ирландия' 'США-Испания' 'США-Италия-Греция' 'США-Италия-Испания'\n",
      " 'США-Италия-Испания-Аргентина' 'США-КНР' 'США-Канада'\n",
      " 'США-Канада-Австралия' 'США-Канада-Бельгия' 'США-Канада-Италия'\n",
      " 'США-Канада-Франция' 'США-Китай' 'США-Колумбия' 'США-Мальта'\n",
      " 'США-Мексика' 'США-Нидерланды' 'США-ОАЭ' 'США-Россия' 'США-ФРГ-Россия'\n",
      " 'США-Франция' 'США-Франция-Великобритания-Австрия' 'США-Франция-Ирландия'\n",
      " 'США-Франция-Испания' 'США-Франция-Канада' 'США-ЮАР'\n",
      " 'США-Южная Корея-Новая Зеландия' 'США-Япония'\n",
      " 'США-Япония-Германия-Великобритания'\n",
      " 'США-Япония-Германия-Великобритания-Нидерланды' 'СЩА'\n",
      " 'Сербия - Великобритания - США' 'Сербия - Германия - Венгрия'\n",
      " 'Сербия - Словения - Хорватия - Черногория - Македония'\n",
      " 'Сингапур - Великобритания - Индонезия - Канада - США' 'Сша, Канада'\n",
      " 'Таиланд' 'Таиланд - КНР - США' 'Таиланд - США'\n",
      " 'Таиланд-Великобритания-Франция-Германия-Испания-Нидерланды' 'Турция'\n",
      " 'Турция - Германя - Франция' 'Турция - США' 'Украина'\n",
      " 'Украина - Германия - Латвия - Эстония' 'Украина - Нидерланды'\n",
      " 'Уругвай - Аргентина - Испания' 'Уругвай - Колумбия'\n",
      " 'Уругвай-Мексика-Германия ' 'Финляндия' 'Финляндия - Австрия - Россия'\n",
      " 'Финляндия - Великобритания - Германия' 'Финляндия - Германия'\n",
      " 'Финляндия - Дания - Германия - Ирландия' 'Финляндия - Исландия - Швеция'\n",
      " 'Финляндия - Канада' 'Финляндия - Польша'\n",
      " 'Финляндия - Франция - Германия' 'Финляндия - Швеция - Германия'\n",
      " 'Финляндия - Швеция - Норвегия' 'Финляндия, Латвия'\n",
      " 'Финляндия-Дания-Германия-Ирландия' 'Франция' 'Франция '\n",
      " 'Франция -  Бельгия' 'Франция - Австрия'\n",
      " 'Франция - Австрия - Германия - Италия - США' 'Франция - Бельгия'\n",
      " 'Франция - Бельгия - Великобритания - Испания - Германия - США'\n",
      " 'Франция - Бельгия - Великобритания - США - Нидерланды - Канада'\n",
      " 'Франция - Бельгия - Испания' 'Франция - Бельгия - Канада'\n",
      " 'Франция - Бельгия - Люксембург' 'Франция - Бельгия - Чехия'\n",
      " 'Франция - Бельгия - Япония' 'Франция - Бенльгия' 'Франция - Бразилия'\n",
      " 'Франция - Бразилия - Италия' 'Франция - Великобритания'\n",
      " 'Франция - Великобритания - Багамские острова - США'\n",
      " 'Франция - Великобритания - Камбоджа - США - КНР'\n",
      " 'Франция - Великобритания - Нидерланды - Люксембург' 'Франция - Германия'\n",
      " 'Франция - Германия - Австрия' 'Франция - Германия - Бельгия'\n",
      " 'Франция - Германия - Италия'\n",
      " 'Франция - Германия - Литва - Нидерланды - Россия'\n",
      " 'Франция - Германия - Нидерланды' 'Франция - Германия - США'\n",
      " 'Франция - Германия - Турция - Катар'\n",
      " 'Франция - Германия - Швеция - США - Чехия - Словакия - Великобритания - Нидерланды'\n",
      " 'Франция - Греция' 'Франция - Дания' 'Франция - Дания - США'\n",
      " 'Франция - Дания - Швеция - КНР' 'Франция - Израиль - Германия'\n",
      " 'Франция - Ирландия - Швеция' 'Франция - Испания'\n",
      " 'Франция - Испания - Дания - Венгрия - Швейцария'\n",
      " 'Франция - Испания - Румыния - США - Бельгия'\n",
      " 'Франция - Испания - Тайвань' 'Франция - Италия'\n",
      " 'Франция - Италия - Бельгия - КНР'\n",
      " 'Франция - Италия - Бельгия - Люксембург'\n",
      " 'Франция - Италия - Великобритания - США' 'Франция - Италия - Иран'\n",
      " 'Франция - Италия - Швейцария' 'Франция - КНР' 'Франция - Канада'\n",
      " 'Франция - Канада - Бельгия'\n",
      " 'Франция - Канада - Н.Зеландия - США - Нидерланды - Германия - Швеция - Россия'\n",
      " 'Франция - Люксембург' 'Франция - Люксембург - Бельгия'\n",
      " 'Франция - Люксембург - Германия - Бельгия - Швейцария - Великобритания '\n",
      " 'Франция - Македония' 'Франция - Мексика - США' 'Франция - Монако'\n",
      " 'Франция - Нидерланды' 'Франция - Польша - Бельгия'\n",
      " 'Франция - Португалия' 'Франция - Россия'\n",
      " 'Франция - Россия - Швейцария - Румыния - Венгрия' 'Франция - США'\n",
      " 'Франция - США - Бельгия'\n",
      " 'Франция - США - Великобритания - Колумбия - Бельгия - Россия'\n",
      " 'Франция - США - Норвегия - Дания' 'Франция - Сенегал - Бельгия'\n",
      " 'Франция - Украина - Грузия - Армения' 'Франция - Финляндия'\n",
      " 'Франция - Чехия - Бельгия' 'Франция - Чехия - Великобритания'\n",
      " 'Франция - Чили' 'Франция - Швейцария' 'Франция - Швейцария - Германия'\n",
      " 'Франция - Швеция - Дания - Норвегия' 'Франция -Бельгия'\n",
      " 'Франция, Бельгия' 'Франция, Бельгия, Люксембург' 'Франция, Германия'\n",
      " 'Франция, Канада' 'Франция, Люксембург, Бельгия'\n",
      " 'Франция, Новая Зеландия' 'Франция, Норвегия' 'Франция-Австралия'\n",
      " 'Франция-Аргентина' 'Франция-Бельгия' 'Франция-Бельгия-Канада'\n",
      " 'Франция-Великобритания' 'Франция-Великобритания - Германия'\n",
      " 'Франция-Великобритания-Чехия' 'Франция-Германия'\n",
      " 'Франция-Германия-Австрия' 'Франция-Германия-Великобритания'\n",
      " 'Франция-Германия-Италия' 'Франция-Гонконг-Ирландия'\n",
      " 'Франция-Грузия-Германия-Россия-Украина-Бельгия' 'Франция-Индия'\n",
      " 'Франция-Испания' 'Франция-Испания-Бельгия-Панама'\n",
      " 'Франция-Испания-Германия' 'Франция-Испания-Швейцария' 'Франция-Италия'\n",
      " 'Франция-Италия-Испания-Венгрия' 'Франция-КНР' 'Франция-Канада'\n",
      " 'Франция-Китай' 'Франция-Перу' 'Франция-Польша' 'Франция-Россия'\n",
      " 'Франция-Россия-Румыния-Италия-Бельгия' 'Франция-США' 'Франция-Украина'\n",
      " 'Хорватия' 'Чехия' 'Чехия - Германия' 'Чехия - Испания - США'\n",
      " 'Чехия - Словакия - Хорватия' 'Чехия-Великобритания-США' 'Чехословакия'\n",
      " 'Чили' 'Чили - Испания' 'Чили - Франция - США' 'Швейцария'\n",
      " 'Швейцария - Австрия' 'Швейцария - Великобритания'\n",
      " 'Швейцария - Израиль - Франция - Великобритания'\n",
      " 'Швейцария - КНР - США - Россия - Республика Корея - Великобритания'\n",
      " 'Швейцария - Люксембург' 'Швейцария - Франция'\n",
      " 'Швейцария, Великобритания, Франция, США, Ирландия' 'Швейцария-Австрия'\n",
      " 'Швейцария-Германия-ЮАР' 'Швейцария-Франция' 'Швеция' 'Швеция - Германия'\n",
      " 'Швеция - Германия - Дания - Норвегия'\n",
      " 'Швеция - Германия - Франция - Дания'\n",
      " 'Швеция - Германия - Франция - Норвегия' 'Швеция - Дания'\n",
      " 'Швеция - Дания - Финляндия' 'Швеция - Норвегия' 'Швеция - США'\n",
      " 'Швеция - Франция - Норвегия - Дания'\n",
      " 'Швеция, Норвегия, Финляндия, Франция' 'Швеция, Франция, Великобритания'\n",
      " 'Швеция-Куба' 'Швеция-Финляндия-Франция-Норвегия' 'Швеция-Франция'\n",
      " 'Швеция-Франция-Дания' 'Эстония' 'Эстония - Россия' 'ЮАР' 'ЮАР - США'\n",
      " 'Южная Корея' 'Южная Корея - КНР' 'Южная Корея - США'\n",
      " 'Южная Корея - США - Канада' 'Япония' 'Япония - Великобритания - Франция'\n",
      " 'Япония - Великобритания - Швейцария - Ирландия - Дания - Франция - Польша - Австралия - Канада  '\n",
      " 'Япония - КНР - Южная Корея' 'Япония - Канада' 'Япония - США'\n",
      " 'Япония - Франция - США - Южная Корея - Турция' 'Япония, Великобритания'\n",
      " 'Япония, Великобритания, Австрия, Германия, Ю.Корея' 'Япония, США'\n",
      " 'Япония-Великобритания' 'Япония-США-Франция'] \n",
      "\n",
      " ['«0+» - для любой зрительской аудитории'\n",
      " '«12+» - для детей старше 12 лет' '«16+» - для детей старше 16 лет'\n",
      " '«18+» - запрещено для детей' '«6+» - для детей старше 6 лет']\n"
     ]
    }
   ],
   "source": [
    "# diaply of unique values of columns country, director, producer \n",
    "print(df_movies.genres.sort_values().unique(),'\\n\\n',\n",
    "    df_movies.production_country.sort_values().unique(),'\\n\\n',\n",
    "    df_movies.age_restriction.sort_values().unique())\n",
    "\n",
    "# spaces deletion\n",
    "df_movies.producer = df_movies.producer.str.strip()\n",
    "df_movies.director = df_movies.director.str.strip()\n",
    "df_movies.production_country = df_movies.production_country.str.strip()\n",
    "df_movies.genres = df_movies.genres.str.strip()"
   ]
  },
  {
   "cell_type": "markdown",
   "metadata": {},
   "source": [
    "**Categorical columns mainly has value of list of values, hovewer, formating, accuracy of data recording and punctiation shall be revised**"
   ]
  },
  {
   "cell_type": "markdown",
   "metadata": {},
   "source": [
    " "
   ]
  },
  {
   "cell_type": "code",
   "execution_count": 18,
   "metadata": {
    "id": "PnXKIVdFgFyR"
   },
   "outputs": [
    {
     "data": {
      "text/plain": [
       "array(['Художественный', 'Анимационный', 'Прочие', 'Документальный',\n",
       "       'Научно-популярный', 'Музыкально-развлекательный'], dtype=object)"
      ]
     },
     "execution_count": 18,
     "metadata": {},
     "output_type": "execute_result"
    }
   ],
   "source": [
    "# display the unique values of columns movie type\n",
    "df_movies.type.unique()\n",
    "\n",
    "# spaces deletion\n",
    "df_movies.type = df_movies.type.str.strip()\n",
    "\n",
    "# display of uniaue values\n",
    "df_movies.type.unique()"
   ]
  },
  {
   "cell_type": "markdown",
   "metadata": {
    "id": "XFSN5lrEgFyR"
   },
   "source": [
    "#### Step 2.5. Numeric columns processing"
   ]
  },
  {
   "cell_type": "code",
   "execution_count": 19,
   "metadata": {},
   "outputs": [],
   "source": [
    "# budget calculation function\n",
    "def budget_check (df_name):\n",
    "    if (df_name['refundable_support'] + df_name['nonrefundable_support']) > df_name['budget']:\n",
    "        return(df_name['refundable_support'] + df_name['nonrefundable_support'])\n",
    "    else:\n",
    "        return (df_name['budget'])\n",
    "    \n",
    "df_movies['budget'] = df_movies.apply(budget_check,axis=1)"
   ]
  },
  {
   "cell_type": "code",
   "execution_count": 20,
   "metadata": {
    "id": "YbzClBxagFyS"
   },
   "outputs": [
    {
     "name": "stdout",
     "output_type": "stream",
     "text": [
      "count    3.320000e+02\n",
      "mean     1.314224e+08\n",
      "std      1.871482e+08\n",
      "min      6.000000e+06\n",
      "25%      4.552480e+07\n",
      "50%      7.119690e+07\n",
      "75%      1.500000e+08\n",
      "max      2.305074e+09\n",
      "Name: budget, dtype: float64\n"
     ]
    },
    {
     "data": {
      "text/plain": [
       "Text(0, 0.5, 'quanity of movies')"
      ]
     },
     "execution_count": 20,
     "metadata": {},
     "output_type": "execute_result"
    },
    {
     "data": {
      "image/png": "[encoded data removed]",
      "text/plain": [
       "<Figure size 432x288 with 1 Axes>"
      ]
     },
     "metadata": {
      "needs_background": "light"
     },
     "output_type": "display_data"
    }
   ],
   "source": [
    "# diplay info on budget\n",
    "print(df_movies.query('budget>0')['budget'].describe())\n",
    "\n",
    "# plotting of hist for budget\n",
    "df_movies.hist('budget',bins = 100, range =(0,df_movies.budget.max()))\n",
    "pl.xlabel(\"Budget amount\")\n",
    "pl.ylabel(\"quanity of movies\")"
   ]
  },
  {
   "cell_type": "code",
   "execution_count": 21,
   "metadata": {},
   "outputs": [
    {
     "data": {
      "text/plain": [
       "Text(0, 0.5, 'quanity of movies')"
      ]
     },
     "execution_count": 21,
     "metadata": {},
     "output_type": "execute_result"
    },
    {
     "data": {
      "image/png": "[encoded data removed]",
      "text/plain": [
       "<Figure size 432x288 with 1 Axes>"
      ]
     },
     "metadata": {
      "needs_background": "light"
     },
     "output_type": "display_data"
    }
   ],
   "source": [
    "# rescaling\n",
    "df_movies.hist('budget',bins = 50, range =(100,500000000))\n",
    "pl.xlabel(\"Budget amount\")\n",
    "pl.ylabel(\"quanity of movies\")"
   ]
  },
  {
   "cell_type": "code",
   "execution_count": 22,
   "metadata": {},
   "outputs": [
    {
     "name": "stdout",
     "output_type": "stream",
     "text": [
      "count    1.110000e+02\n",
      "mean     3.548649e+07\n",
      "std      3.197288e+07\n",
      "min      3.500000e+06\n",
      "25%      1.500000e+07\n",
      "50%      2.500000e+07\n",
      "75%      5.000000e+07\n",
      "max      1.800000e+08\n",
      "Name: refundable_support, dtype: float64\n"
     ]
    },
    {
     "data": {
      "text/plain": [
       "Text(0, 0.5, 'quanity of movies')"
      ]
     },
     "execution_count": 22,
     "metadata": {},
     "output_type": "execute_result"
    },
    {
     "data": {
      "image/png": "[encoded data removed]",
      "text/plain": [
       "<Figure size 432x288 with 1 Axes>"
      ]
     },
     "metadata": {
      "needs_background": "light"
     },
     "output_type": "display_data"
    }
   ],
   "source": [
    "# display info on column refundable_support\n",
    "print(df_movies.query('refundable_support>0')['refundable_support'].describe())\n",
    "\n",
    "# plotting of histogram\n",
    "df_movies.hist('refundable_support',bins = 50, range =(1,df_movies.refundable_support.max()))\n",
    "pl.xlabel(\"refundable_support amount\")\n",
    "pl.ylabel(\"quanity of movies\")"
   ]
  },
  {
   "cell_type": "code",
   "execution_count": 23,
   "metadata": {},
   "outputs": [
    {
     "name": "stdout",
     "output_type": "stream",
     "text": [
      "count    3.230000e+02\n",
      "mean     5.034578e+07\n",
      "std      6.024321e+07\n",
      "min      3.000000e+06\n",
      "25%      2.500000e+07\n",
      "50%      3.000000e+07\n",
      "75%      4.500000e+07\n",
      "max      4.000000e+08\n",
      "Name: nonrefundable_support, dtype: float64\n"
     ]
    },
    {
     "data": {
      "text/plain": [
       "Text(0, 0.5, 'quanity of movies')"
      ]
     },
     "execution_count": 23,
     "metadata": {},
     "output_type": "execute_result"
    },
    {
     "data": {
      "image/png": "[encoded data removed]",
      "text/plain": [
       "<Figure size 432x288 with 1 Axes>"
      ]
     },
     "metadata": {
      "needs_background": "light"
     },
     "output_type": "display_data"
    }
   ],
   "source": [
    "# display info on column nonrefundable_support\n",
    "print(df_movies.query('nonrefundable_support>0')['nonrefundable_support'].describe())\n",
    "\n",
    "# # plotting of histogram\n",
    "df_movies.hist('nonrefundable_support',bins = 35, range =(1,df_movies.nonrefundable_support.max()))\n",
    "pl.xlabel(\"nonrefundable_support amount\")\n",
    "pl.ylabel(\"quanity of movies\")"
   ]
  },
  {
   "cell_type": "code",
   "execution_count": 24,
   "metadata": {},
   "outputs": [
    {
     "name": "stdout",
     "output_type": "stream",
     "text": [
      "count    6519.000000\n",
      "mean        6.488173\n",
      "std         1.114638\n",
      "min         1.000000\n",
      "25%         5.900000\n",
      "50%         6.600000\n",
      "75%         7.200000\n",
      "max         9.900000\n",
      "Name: ratings, dtype: float64\n"
     ]
    },
    {
     "data": {
      "text/plain": [
       "Text(0, 0.5, 'quanity of movies')"
      ]
     },
     "execution_count": 24,
     "metadata": {},
     "output_type": "execute_result"
    },
    {
     "data": {
      "image/png": "[encoded data removed]",
      "text/plain": [
       "<Figure size 432x288 with 1 Axes>"
      ]
     },
     "metadata": {
      "needs_background": "light"
     },
     "output_type": "display_data"
    }
   ],
   "source": [
    "# display info on column ratings\n",
    "print(df_movies.query('ratings>0')['ratings'].describe())\n",
    "\n",
    "# histogram plotting\n",
    "df_movies.hist('ratings',bins = 50, range =(1,df_movies.ratings.max()))\n",
    "pl.xlabel(\"ratings\")\n",
    "pl.ylabel(\"quanity of movies\")"
   ]
  },
  {
   "cell_type": "code",
   "execution_count": 25,
   "metadata": {},
   "outputs": [
    {
     "name": "stdout",
     "output_type": "stream",
     "text": [
      "count    3.134000e+03\n",
      "mean     7.706437e+07\n",
      "std      2.411784e+08\n",
      "min      4.000000e+01\n",
      "25%      1.010288e+05\n",
      "50%      2.409099e+06\n",
      "75%      2.456979e+07\n",
      "max      3.073569e+09\n",
      "Name: box_office, dtype: float64\n"
     ]
    },
    {
     "data": {
      "text/plain": [
       "Text(0, 0.5, 'quanity of movies')"
      ]
     },
     "execution_count": 25,
     "metadata": {},
     "output_type": "execute_result"
    },
    {
     "data": {
      "image/png": "[encoded data removed]",
      "text/plain": [
       "<Figure size 432x288 with 1 Axes>"
      ]
     },
     "metadata": {
      "needs_background": "light"
     },
     "output_type": "display_data"
    }
   ],
   "source": [
    "# display info on column box_office\n",
    "print(df_movies.query('box_office>0')['box_office'].describe())\n",
    "\n",
    "# histogram plotting\n",
    "df_movies.hist('box_office',bins = 35, range =(0,150000000))\n",
    "pl.xlabel(\"box_office\")\n",
    "pl.ylabel(\"quanity of movies\")"
   ]
  },
  {
   "cell_type": "code",
   "execution_count": 26,
   "metadata": {},
   "outputs": [
    {
     "data": {
      "text/plain": [
       "Text(0, 0.5, 'quanity of movies')"
      ]
     },
     "execution_count": 26,
     "metadata": {},
     "output_type": "execute_result"
    },
    {
     "data": {
      "image/png": "[encoded data removed]",
      "text/plain": [
       "<Figure size 432x288 with 1 Axes>"
      ]
     },
     "metadata": {
      "needs_background": "light"
     },
     "output_type": "display_data"
    }
   ],
   "source": [
    "# rescale\n",
    "df_movies.hist('box_office',bins = 100, range =(100,15000000))\n",
    "pl.xlabel(\"box_office\")\n",
    "pl.ylabel(\"quanity of movies\")"
   ]
  },
  {
   "cell_type": "markdown",
   "metadata": {},
   "source": [
    "**Conclusions:**\n",
    "\n",
    "- Values in column refundable_support are destributed in accordance with Poisson's law, irregular values are not found.\n",
    "- Values in column nonrefundable_support are destributed in accordance with Poisson's law,  irregular values are not found.\n",
    "- Values in column budget are destributed in accordance with Poisson's law,  irregular values are not found.\n",
    "- Values in column ratings are destributed in accordance with Poisson's law, but in opposite direcction,  irregular values are not found.\n",
    "- Values in columnbox_office are destributed in accordance with Poisson's law,  irregular values are not found.\n"
   ]
  },
  {
   "cell_type": "markdown",
   "metadata": {
    "id": "Eu6oWp2CgFyS"
   },
   "source": [
    "#### Step 2.6. Creation of new columns\n",
    "\n",
    "\n"
   ]
  },
  {
   "cell_type": "markdown",
   "metadata": {
    "id": "7GgW-UpAgFyS"
   },
   "source": [
    "- Separation of year from issuance date"
   ]
  },
  {
   "cell_type": "code",
   "execution_count": 27,
   "metadata": {
    "id": "I-yd1DkWgFyT"
   },
   "outputs": [
    {
     "data": {
      "text/html": [
       "<div>\n",
       "<style scoped>\n",
       "    .dataframe tbody tr th:only-of-type {\n",
       "        vertical-align: middle;\n",
       "    }\n",
       "\n",
       "    .dataframe tbody tr th {\n",
       "        vertical-align: top;\n",
       "    }\n",
       "\n",
       "    .dataframe thead th {\n",
       "        text-align: right;\n",
       "    }\n",
       "</style>\n",
       "<table border=\"1\" class=\"dataframe\">\n",
       "  <thead>\n",
       "    <tr style=\"text-align: right;\">\n",
       "      <th></th>\n",
       "      <th>title</th>\n",
       "      <th>puNumber</th>\n",
       "      <th>show_start_date</th>\n",
       "      <th>type</th>\n",
       "      <th>film_studio</th>\n",
       "      <th>production_country</th>\n",
       "      <th>director</th>\n",
       "      <th>producer</th>\n",
       "      <th>age_restriction</th>\n",
       "      <th>refundable_support</th>\n",
       "      <th>nonrefundable_support</th>\n",
       "      <th>budget</th>\n",
       "      <th>financing_source</th>\n",
       "      <th>ratings</th>\n",
       "      <th>genres</th>\n",
       "      <th>box_office</th>\n",
       "      <th>year_start_date</th>\n",
       "    </tr>\n",
       "  </thead>\n",
       "  <tbody>\n",
       "    <tr>\n",
       "      <th>0</th>\n",
       "      <td>Открытый простор</td>\n",
       "      <td>221048915</td>\n",
       "      <td>2015-11-27 12:00:00+00:00</td>\n",
       "      <td>Художественный</td>\n",
       "      <td>Тачстоун Пикчерз, Кобальт Пикчерз, Бикон Пикче...</td>\n",
       "      <td>США</td>\n",
       "      <td>Кевин Костнер</td>\n",
       "      <td>Дэвид Валдес, Кевин Костнер, Джейк Эбертс</td>\n",
       "      <td>«18+» - запрещено для детей</td>\n",
       "      <td>0.0</td>\n",
       "      <td>0.0</td>\n",
       "      <td>0.0</td>\n",
       "      <td>unknown</td>\n",
       "      <td>7.2</td>\n",
       "      <td>боевик,драма,мелодрама</td>\n",
       "      <td>0.0</td>\n",
       "      <td>2015</td>\n",
       "    </tr>\n",
       "    <tr>\n",
       "      <th>1</th>\n",
       "      <td>Особо важное задание</td>\n",
       "      <td>111013716</td>\n",
       "      <td>2016-09-13 12:00:00+00:00</td>\n",
       "      <td>Художественный</td>\n",
       "      <td>Киностудия \"Мосфильм\"</td>\n",
       "      <td>СССР</td>\n",
       "      <td>Е.Матвеев</td>\n",
       "      <td>unknown</td>\n",
       "      <td>«6+» - для детей старше 6 лет</td>\n",
       "      <td>0.0</td>\n",
       "      <td>0.0</td>\n",
       "      <td>0.0</td>\n",
       "      <td>unknown</td>\n",
       "      <td>6.6</td>\n",
       "      <td>драма,военный</td>\n",
       "      <td>0.0</td>\n",
       "      <td>2016</td>\n",
       "    </tr>\n",
       "    <tr>\n",
       "      <th>2</th>\n",
       "      <td>Особо опасен</td>\n",
       "      <td>221038416</td>\n",
       "      <td>2016-10-10 12:00:00+00:00</td>\n",
       "      <td>Художественный</td>\n",
       "      <td>Юниверсал Пикчерз, Кикстарт Продакшнз, Марк Пл...</td>\n",
       "      <td>США</td>\n",
       "      <td>Тимур Бекмамбетов</td>\n",
       "      <td>Джим Лемли, Джейсон Нетер, Марк Е.Платт, Яйн Смит</td>\n",
       "      <td>«18+» - запрещено для детей</td>\n",
       "      <td>0.0</td>\n",
       "      <td>0.0</td>\n",
       "      <td>0.0</td>\n",
       "      <td>unknown</td>\n",
       "      <td>6.8</td>\n",
       "      <td>фантастика,боевик,триллер</td>\n",
       "      <td>0.0</td>\n",
       "      <td>2016</td>\n",
       "    </tr>\n",
       "    <tr>\n",
       "      <th>3</th>\n",
       "      <td>Особо опасен</td>\n",
       "      <td>221026916</td>\n",
       "      <td>2016-06-10 12:00:00+00:00</td>\n",
       "      <td>Художественный</td>\n",
       "      <td>Юниверсал Пикчерз, Кикстарт Продакшнз, Марк Пл...</td>\n",
       "      <td>США</td>\n",
       "      <td>Тимур Бекмамбетов</td>\n",
       "      <td>Джим Лемли, Джейсон Нетер, Марк Е.Платт, Яйн Смит</td>\n",
       "      <td>«18+» - запрещено для детей</td>\n",
       "      <td>0.0</td>\n",
       "      <td>0.0</td>\n",
       "      <td>0.0</td>\n",
       "      <td>unknown</td>\n",
       "      <td>6.8</td>\n",
       "      <td>фантастика,боевик,триллер</td>\n",
       "      <td>0.0</td>\n",
       "      <td>2016</td>\n",
       "    </tr>\n",
       "    <tr>\n",
       "      <th>4</th>\n",
       "      <td>Особо опасен</td>\n",
       "      <td>221030815</td>\n",
       "      <td>2015-07-29 12:00:00+00:00</td>\n",
       "      <td>Художественный</td>\n",
       "      <td>Юниверсал Пикчерз, Кикстарт Продакшнз, Марк Пл...</td>\n",
       "      <td>США</td>\n",
       "      <td>Тимур Бекмамбетов</td>\n",
       "      <td>Джим Лемли, Джейсон Нетер, Марк Е.Платт, Яйн Смит</td>\n",
       "      <td>«18+» - запрещено для детей</td>\n",
       "      <td>0.0</td>\n",
       "      <td>0.0</td>\n",
       "      <td>0.0</td>\n",
       "      <td>unknown</td>\n",
       "      <td>6.8</td>\n",
       "      <td>фантастика,боевик,триллер</td>\n",
       "      <td>0.0</td>\n",
       "      <td>2015</td>\n",
       "    </tr>\n",
       "  </tbody>\n",
       "</table>\n",
       "</div>"
      ],
      "text/plain": [
       "                  title   puNumber           show_start_date            type  \\\n",
       "0      Открытый простор  221048915 2015-11-27 12:00:00+00:00  Художественный   \n",
       "1  Особо важное задание  111013716 2016-09-13 12:00:00+00:00  Художественный   \n",
       "2          Особо опасен  221038416 2016-10-10 12:00:00+00:00  Художественный   \n",
       "3          Особо опасен  221026916 2016-06-10 12:00:00+00:00  Художественный   \n",
       "4          Особо опасен  221030815 2015-07-29 12:00:00+00:00  Художественный   \n",
       "\n",
       "                                         film_studio production_country  \\\n",
       "0  Тачстоун Пикчерз, Кобальт Пикчерз, Бикон Пикче...                США   \n",
       "1                              Киностудия \"Мосфильм\"               СССР   \n",
       "2  Юниверсал Пикчерз, Кикстарт Продакшнз, Марк Пл...                США   \n",
       "3  Юниверсал Пикчерз, Кикстарт Продакшнз, Марк Пл...                США   \n",
       "4  Юниверсал Пикчерз, Кикстарт Продакшнз, Марк Пл...                США   \n",
       "\n",
       "            director                                           producer  \\\n",
       "0      Кевин Костнер          Дэвид Валдес, Кевин Костнер, Джейк Эбертс   \n",
       "1          Е.Матвеев                                            unknown   \n",
       "2  Тимур Бекмамбетов  Джим Лемли, Джейсон Нетер, Марк Е.Платт, Яйн Смит   \n",
       "3  Тимур Бекмамбетов  Джим Лемли, Джейсон Нетер, Марк Е.Платт, Яйн Смит   \n",
       "4  Тимур Бекмамбетов  Джим Лемли, Джейсон Нетер, Марк Е.Платт, Яйн Смит   \n",
       "\n",
       "                 age_restriction  refundable_support  nonrefundable_support  \\\n",
       "0    «18+» - запрещено для детей                 0.0                    0.0   \n",
       "1  «6+» - для детей старше 6 лет                 0.0                    0.0   \n",
       "2    «18+» - запрещено для детей                 0.0                    0.0   \n",
       "3    «18+» - запрещено для детей                 0.0                    0.0   \n",
       "4    «18+» - запрещено для детей                 0.0                    0.0   \n",
       "\n",
       "   budget financing_source  ratings                     genres  box_office  \\\n",
       "0     0.0          unknown      7.2     боевик,драма,мелодрама         0.0   \n",
       "1     0.0          unknown      6.6              драма,военный         0.0   \n",
       "2     0.0          unknown      6.8  фантастика,боевик,триллер         0.0   \n",
       "3     0.0          unknown      6.8  фантастика,боевик,триллер         0.0   \n",
       "4     0.0          unknown      6.8  фантастика,боевик,триллер         0.0   \n",
       "\n",
       "   year_start_date  \n",
       "0             2015  \n",
       "1             2016  \n",
       "2             2016  \n",
       "3             2016  \n",
       "4             2015  "
      ]
     },
     "execution_count": 27,
     "metadata": {},
     "output_type": "execute_result"
    }
   ],
   "source": [
    "# add new column - year\n",
    "df_movies['year_start_date'] = df_movies['show_start_date'].dt.year\n",
    "\n",
    "# display head of df\n",
    "df_movies.head()"
   ]
  },
  {
   "cell_type": "markdown",
   "metadata": {
    "id": "nFTDLDYOgFyT"
   },
   "source": [
    "- Create two columns: - extract name of leading director and leading country. (first values of list).\n"
   ]
  },
  {
   "cell_type": "code",
   "execution_count": 28,
   "metadata": {
    "id": "LSbRZKbMgFyU"
   },
   "outputs": [
    {
     "data": {
      "text/html": [
       "<div>\n",
       "<style scoped>\n",
       "    .dataframe tbody tr th:only-of-type {\n",
       "        vertical-align: middle;\n",
       "    }\n",
       "\n",
       "    .dataframe tbody tr th {\n",
       "        vertical-align: top;\n",
       "    }\n",
       "\n",
       "    .dataframe thead th {\n",
       "        text-align: right;\n",
       "    }\n",
       "</style>\n",
       "<table border=\"1\" class=\"dataframe\">\n",
       "  <thead>\n",
       "    <tr style=\"text-align: right;\">\n",
       "      <th></th>\n",
       "      <th>title</th>\n",
       "      <th>puNumber</th>\n",
       "      <th>show_start_date</th>\n",
       "      <th>type</th>\n",
       "      <th>film_studio</th>\n",
       "      <th>production_country</th>\n",
       "      <th>director</th>\n",
       "      <th>producer</th>\n",
       "      <th>age_restriction</th>\n",
       "      <th>refundable_support</th>\n",
       "      <th>nonrefundable_support</th>\n",
       "      <th>budget</th>\n",
       "      <th>financing_source</th>\n",
       "      <th>ratings</th>\n",
       "      <th>genres</th>\n",
       "      <th>box_office</th>\n",
       "      <th>year_start_date</th>\n",
       "      <th>main_genre</th>\n",
       "      <th>main_country</th>\n",
       "    </tr>\n",
       "  </thead>\n",
       "  <tbody>\n",
       "    <tr>\n",
       "      <th>0</th>\n",
       "      <td>Открытый простор</td>\n",
       "      <td>221048915</td>\n",
       "      <td>2015-11-27 12:00:00+00:00</td>\n",
       "      <td>Художественный</td>\n",
       "      <td>Тачстоун Пикчерз, Кобальт Пикчерз, Бикон Пикче...</td>\n",
       "      <td>США</td>\n",
       "      <td>Кевин Костнер</td>\n",
       "      <td>Дэвид Валдес, Кевин Костнер, Джейк Эбертс</td>\n",
       "      <td>«18+» - запрещено для детей</td>\n",
       "      <td>0.0</td>\n",
       "      <td>0.0</td>\n",
       "      <td>0.0</td>\n",
       "      <td>unknown</td>\n",
       "      <td>7.2</td>\n",
       "      <td>боевик,драма,мелодрама</td>\n",
       "      <td>0.0</td>\n",
       "      <td>2015</td>\n",
       "      <td>боевик</td>\n",
       "      <td>США</td>\n",
       "    </tr>\n",
       "    <tr>\n",
       "      <th>1</th>\n",
       "      <td>Особо важное задание</td>\n",
       "      <td>111013716</td>\n",
       "      <td>2016-09-13 12:00:00+00:00</td>\n",
       "      <td>Художественный</td>\n",
       "      <td>Киностудия \"Мосфильм\"</td>\n",
       "      <td>СССР</td>\n",
       "      <td>Е.Матвеев</td>\n",
       "      <td>unknown</td>\n",
       "      <td>«6+» - для детей старше 6 лет</td>\n",
       "      <td>0.0</td>\n",
       "      <td>0.0</td>\n",
       "      <td>0.0</td>\n",
       "      <td>unknown</td>\n",
       "      <td>6.6</td>\n",
       "      <td>драма,военный</td>\n",
       "      <td>0.0</td>\n",
       "      <td>2016</td>\n",
       "      <td>драма</td>\n",
       "      <td>СССР</td>\n",
       "    </tr>\n",
       "    <tr>\n",
       "      <th>2</th>\n",
       "      <td>Особо опасен</td>\n",
       "      <td>221038416</td>\n",
       "      <td>2016-10-10 12:00:00+00:00</td>\n",
       "      <td>Художественный</td>\n",
       "      <td>Юниверсал Пикчерз, Кикстарт Продакшнз, Марк Пл...</td>\n",
       "      <td>США</td>\n",
       "      <td>Тимур Бекмамбетов</td>\n",
       "      <td>Джим Лемли, Джейсон Нетер, Марк Е.Платт, Яйн Смит</td>\n",
       "      <td>«18+» - запрещено для детей</td>\n",
       "      <td>0.0</td>\n",
       "      <td>0.0</td>\n",
       "      <td>0.0</td>\n",
       "      <td>unknown</td>\n",
       "      <td>6.8</td>\n",
       "      <td>фантастика,боевик,триллер</td>\n",
       "      <td>0.0</td>\n",
       "      <td>2016</td>\n",
       "      <td>фантастика</td>\n",
       "      <td>США</td>\n",
       "    </tr>\n",
       "    <tr>\n",
       "      <th>3</th>\n",
       "      <td>Особо опасен</td>\n",
       "      <td>221026916</td>\n",
       "      <td>2016-06-10 12:00:00+00:00</td>\n",
       "      <td>Художественный</td>\n",
       "      <td>Юниверсал Пикчерз, Кикстарт Продакшнз, Марк Пл...</td>\n",
       "      <td>США</td>\n",
       "      <td>Тимур Бекмамбетов</td>\n",
       "      <td>Джим Лемли, Джейсон Нетер, Марк Е.Платт, Яйн Смит</td>\n",
       "      <td>«18+» - запрещено для детей</td>\n",
       "      <td>0.0</td>\n",
       "      <td>0.0</td>\n",
       "      <td>0.0</td>\n",
       "      <td>unknown</td>\n",
       "      <td>6.8</td>\n",
       "      <td>фантастика,боевик,триллер</td>\n",
       "      <td>0.0</td>\n",
       "      <td>2016</td>\n",
       "      <td>фантастика</td>\n",
       "      <td>США</td>\n",
       "    </tr>\n",
       "    <tr>\n",
       "      <th>4</th>\n",
       "      <td>Особо опасен</td>\n",
       "      <td>221030815</td>\n",
       "      <td>2015-07-29 12:00:00+00:00</td>\n",
       "      <td>Художественный</td>\n",
       "      <td>Юниверсал Пикчерз, Кикстарт Продакшнз, Марк Пл...</td>\n",
       "      <td>США</td>\n",
       "      <td>Тимур Бекмамбетов</td>\n",
       "      <td>Джим Лемли, Джейсон Нетер, Марк Е.Платт, Яйн Смит</td>\n",
       "      <td>«18+» - запрещено для детей</td>\n",
       "      <td>0.0</td>\n",
       "      <td>0.0</td>\n",
       "      <td>0.0</td>\n",
       "      <td>unknown</td>\n",
       "      <td>6.8</td>\n",
       "      <td>фантастика,боевик,триллер</td>\n",
       "      <td>0.0</td>\n",
       "      <td>2015</td>\n",
       "      <td>фантастика</td>\n",
       "      <td>США</td>\n",
       "    </tr>\n",
       "  </tbody>\n",
       "</table>\n",
       "</div>"
      ],
      "text/plain": [
       "                  title   puNumber           show_start_date            type  \\\n",
       "0      Открытый простор  221048915 2015-11-27 12:00:00+00:00  Художественный   \n",
       "1  Особо важное задание  111013716 2016-09-13 12:00:00+00:00  Художественный   \n",
       "2          Особо опасен  221038416 2016-10-10 12:00:00+00:00  Художественный   \n",
       "3          Особо опасен  221026916 2016-06-10 12:00:00+00:00  Художественный   \n",
       "4          Особо опасен  221030815 2015-07-29 12:00:00+00:00  Художественный   \n",
       "\n",
       "                                         film_studio production_country  \\\n",
       "0  Тачстоун Пикчерз, Кобальт Пикчерз, Бикон Пикче...                США   \n",
       "1                              Киностудия \"Мосфильм\"               СССР   \n",
       "2  Юниверсал Пикчерз, Кикстарт Продакшнз, Марк Пл...                США   \n",
       "3  Юниверсал Пикчерз, Кикстарт Продакшнз, Марк Пл...                США   \n",
       "4  Юниверсал Пикчерз, Кикстарт Продакшнз, Марк Пл...                США   \n",
       "\n",
       "            director                                           producer  \\\n",
       "0      Кевин Костнер          Дэвид Валдес, Кевин Костнер, Джейк Эбертс   \n",
       "1          Е.Матвеев                                            unknown   \n",
       "2  Тимур Бекмамбетов  Джим Лемли, Джейсон Нетер, Марк Е.Платт, Яйн Смит   \n",
       "3  Тимур Бекмамбетов  Джим Лемли, Джейсон Нетер, Марк Е.Платт, Яйн Смит   \n",
       "4  Тимур Бекмамбетов  Джим Лемли, Джейсон Нетер, Марк Е.Платт, Яйн Смит   \n",
       "\n",
       "                 age_restriction  refundable_support  nonrefundable_support  \\\n",
       "0    «18+» - запрещено для детей                 0.0                    0.0   \n",
       "1  «6+» - для детей старше 6 лет                 0.0                    0.0   \n",
       "2    «18+» - запрещено для детей                 0.0                    0.0   \n",
       "3    «18+» - запрещено для детей                 0.0                    0.0   \n",
       "4    «18+» - запрещено для детей                 0.0                    0.0   \n",
       "\n",
       "   budget financing_source  ratings                     genres  box_office  \\\n",
       "0     0.0          unknown      7.2     боевик,драма,мелодрама         0.0   \n",
       "1     0.0          unknown      6.6              драма,военный         0.0   \n",
       "2     0.0          unknown      6.8  фантастика,боевик,триллер         0.0   \n",
       "3     0.0          unknown      6.8  фантастика,боевик,триллер         0.0   \n",
       "4     0.0          unknown      6.8  фантастика,боевик,триллер         0.0   \n",
       "\n",
       "   year_start_date  main_genre main_country  \n",
       "0             2015      боевик          США  \n",
       "1             2016       драма         СССР  \n",
       "2             2016  фантастика          США  \n",
       "3             2016  фантастика          США  \n",
       "4             2015  фантастика          США  "
      ]
     },
     "execution_count": 28,
     "metadata": {},
     "output_type": "execute_result"
    }
   ],
   "source": [
    "# function for selection of first value from the list\n",
    "def select_first (array):\n",
    "    return(array.split(',',1)[0])\n",
    "\n",
    "# add a new column with leading genre\n",
    "df_movies['main_genre'] =  df_movies['genres'].apply(select_first)\n",
    "\n",
    "\n",
    "# function for selection of first value, separated with dash symbol\n",
    "def select_first_1 (array):\n",
    "    return(array.split('-',1)[0])\n",
    "\n",
    "# add a new column with lead production country\n",
    "df_movies['main_country'] =  df_movies['production_country'].apply(select_first_1)\n",
    "\n",
    "# dicplay the results\n",
    "df_movies.head()"
   ]
  },
  {
   "cell_type": "markdown",
   "metadata": {
    "id": "1FsCXHwdgFyU"
   },
   "source": [
    "- Calculation of percentage of goverment support to total movie budget."
   ]
  },
  {
   "cell_type": "code",
   "execution_count": 29,
   "metadata": {
    "id": "LV6qFuZLgFyV"
   },
   "outputs": [
    {
     "data": {
      "text/html": [
       "<div>\n",
       "<style scoped>\n",
       "    .dataframe tbody tr th:only-of-type {\n",
       "        vertical-align: middle;\n",
       "    }\n",
       "\n",
       "    .dataframe tbody tr th {\n",
       "        vertical-align: top;\n",
       "    }\n",
       "\n",
       "    .dataframe thead th {\n",
       "        text-align: right;\n",
       "    }\n",
       "</style>\n",
       "<table border=\"1\" class=\"dataframe\">\n",
       "  <thead>\n",
       "    <tr style=\"text-align: right;\">\n",
       "      <th></th>\n",
       "      <th>title</th>\n",
       "      <th>puNumber</th>\n",
       "      <th>show_start_date</th>\n",
       "      <th>type</th>\n",
       "      <th>film_studio</th>\n",
       "      <th>production_country</th>\n",
       "      <th>director</th>\n",
       "      <th>producer</th>\n",
       "      <th>age_restriction</th>\n",
       "      <th>refundable_support</th>\n",
       "      <th>nonrefundable_support</th>\n",
       "      <th>budget</th>\n",
       "      <th>financing_source</th>\n",
       "      <th>ratings</th>\n",
       "      <th>genres</th>\n",
       "      <th>box_office</th>\n",
       "      <th>year_start_date</th>\n",
       "      <th>main_genre</th>\n",
       "      <th>main_country</th>\n",
       "      <th>goverment_support</th>\n",
       "    </tr>\n",
       "  </thead>\n",
       "  <tbody>\n",
       "    <tr>\n",
       "      <th>0</th>\n",
       "      <td>Открытый простор</td>\n",
       "      <td>221048915</td>\n",
       "      <td>2015-11-27 12:00:00+00:00</td>\n",
       "      <td>Художественный</td>\n",
       "      <td>Тачстоун Пикчерз, Кобальт Пикчерз, Бикон Пикче...</td>\n",
       "      <td>США</td>\n",
       "      <td>Кевин Костнер</td>\n",
       "      <td>Дэвид Валдес, Кевин Костнер, Джейк Эбертс</td>\n",
       "      <td>«18+» - запрещено для детей</td>\n",
       "      <td>0.0</td>\n",
       "      <td>0.0</td>\n",
       "      <td>0.0</td>\n",
       "      <td>unknown</td>\n",
       "      <td>7.2</td>\n",
       "      <td>боевик,драма,мелодрама</td>\n",
       "      <td>0.0</td>\n",
       "      <td>2015</td>\n",
       "      <td>боевик</td>\n",
       "      <td>США</td>\n",
       "      <td>NaN</td>\n",
       "    </tr>\n",
       "    <tr>\n",
       "      <th>1</th>\n",
       "      <td>Особо важное задание</td>\n",
       "      <td>111013716</td>\n",
       "      <td>2016-09-13 12:00:00+00:00</td>\n",
       "      <td>Художественный</td>\n",
       "      <td>Киностудия \"Мосфильм\"</td>\n",
       "      <td>СССР</td>\n",
       "      <td>Е.Матвеев</td>\n",
       "      <td>unknown</td>\n",
       "      <td>«6+» - для детей старше 6 лет</td>\n",
       "      <td>0.0</td>\n",
       "      <td>0.0</td>\n",
       "      <td>0.0</td>\n",
       "      <td>unknown</td>\n",
       "      <td>6.6</td>\n",
       "      <td>драма,военный</td>\n",
       "      <td>0.0</td>\n",
       "      <td>2016</td>\n",
       "      <td>драма</td>\n",
       "      <td>СССР</td>\n",
       "      <td>NaN</td>\n",
       "    </tr>\n",
       "    <tr>\n",
       "      <th>2</th>\n",
       "      <td>Особо опасен</td>\n",
       "      <td>221038416</td>\n",
       "      <td>2016-10-10 12:00:00+00:00</td>\n",
       "      <td>Художественный</td>\n",
       "      <td>Юниверсал Пикчерз, Кикстарт Продакшнз, Марк Пл...</td>\n",
       "      <td>США</td>\n",
       "      <td>Тимур Бекмамбетов</td>\n",
       "      <td>Джим Лемли, Джейсон Нетер, Марк Е.Платт, Яйн Смит</td>\n",
       "      <td>«18+» - запрещено для детей</td>\n",
       "      <td>0.0</td>\n",
       "      <td>0.0</td>\n",
       "      <td>0.0</td>\n",
       "      <td>unknown</td>\n",
       "      <td>6.8</td>\n",
       "      <td>фантастика,боевик,триллер</td>\n",
       "      <td>0.0</td>\n",
       "      <td>2016</td>\n",
       "      <td>фантастика</td>\n",
       "      <td>США</td>\n",
       "      <td>NaN</td>\n",
       "    </tr>\n",
       "    <tr>\n",
       "      <th>3</th>\n",
       "      <td>Особо опасен</td>\n",
       "      <td>221026916</td>\n",
       "      <td>2016-06-10 12:00:00+00:00</td>\n",
       "      <td>Художественный</td>\n",
       "      <td>Юниверсал Пикчерз, Кикстарт Продакшнз, Марк Пл...</td>\n",
       "      <td>США</td>\n",
       "      <td>Тимур Бекмамбетов</td>\n",
       "      <td>Джим Лемли, Джейсон Нетер, Марк Е.Платт, Яйн Смит</td>\n",
       "      <td>«18+» - запрещено для детей</td>\n",
       "      <td>0.0</td>\n",
       "      <td>0.0</td>\n",
       "      <td>0.0</td>\n",
       "      <td>unknown</td>\n",
       "      <td>6.8</td>\n",
       "      <td>фантастика,боевик,триллер</td>\n",
       "      <td>0.0</td>\n",
       "      <td>2016</td>\n",
       "      <td>фантастика</td>\n",
       "      <td>США</td>\n",
       "      <td>NaN</td>\n",
       "    </tr>\n",
       "    <tr>\n",
       "      <th>4</th>\n",
       "      <td>Особо опасен</td>\n",
       "      <td>221030815</td>\n",
       "      <td>2015-07-29 12:00:00+00:00</td>\n",
       "      <td>Художественный</td>\n",
       "      <td>Юниверсал Пикчерз, Кикстарт Продакшнз, Марк Пл...</td>\n",
       "      <td>США</td>\n",
       "      <td>Тимур Бекмамбетов</td>\n",
       "      <td>Джим Лемли, Джейсон Нетер, Марк Е.Платт, Яйн Смит</td>\n",
       "      <td>«18+» - запрещено для детей</td>\n",
       "      <td>0.0</td>\n",
       "      <td>0.0</td>\n",
       "      <td>0.0</td>\n",
       "      <td>unknown</td>\n",
       "      <td>6.8</td>\n",
       "      <td>фантастика,боевик,триллер</td>\n",
       "      <td>0.0</td>\n",
       "      <td>2015</td>\n",
       "      <td>фантастика</td>\n",
       "      <td>США</td>\n",
       "      <td>NaN</td>\n",
       "    </tr>\n",
       "  </tbody>\n",
       "</table>\n",
       "</div>"
      ],
      "text/plain": [
       "                  title   puNumber           show_start_date            type  \\\n",
       "0      Открытый простор  221048915 2015-11-27 12:00:00+00:00  Художественный   \n",
       "1  Особо важное задание  111013716 2016-09-13 12:00:00+00:00  Художественный   \n",
       "2          Особо опасен  221038416 2016-10-10 12:00:00+00:00  Художественный   \n",
       "3          Особо опасен  221026916 2016-06-10 12:00:00+00:00  Художественный   \n",
       "4          Особо опасен  221030815 2015-07-29 12:00:00+00:00  Художественный   \n",
       "\n",
       "                                         film_studio production_country  \\\n",
       "0  Тачстоун Пикчерз, Кобальт Пикчерз, Бикон Пикче...                США   \n",
       "1                              Киностудия \"Мосфильм\"               СССР   \n",
       "2  Юниверсал Пикчерз, Кикстарт Продакшнз, Марк Пл...                США   \n",
       "3  Юниверсал Пикчерз, Кикстарт Продакшнз, Марк Пл...                США   \n",
       "4  Юниверсал Пикчерз, Кикстарт Продакшнз, Марк Пл...                США   \n",
       "\n",
       "            director                                           producer  \\\n",
       "0      Кевин Костнер          Дэвид Валдес, Кевин Костнер, Джейк Эбертс   \n",
       "1          Е.Матвеев                                            unknown   \n",
       "2  Тимур Бекмамбетов  Джим Лемли, Джейсон Нетер, Марк Е.Платт, Яйн Смит   \n",
       "3  Тимур Бекмамбетов  Джим Лемли, Джейсон Нетер, Марк Е.Платт, Яйн Смит   \n",
       "4  Тимур Бекмамбетов  Джим Лемли, Джейсон Нетер, Марк Е.Платт, Яйн Смит   \n",
       "\n",
       "                 age_restriction  refundable_support  nonrefundable_support  \\\n",
       "0    «18+» - запрещено для детей                 0.0                    0.0   \n",
       "1  «6+» - для детей старше 6 лет                 0.0                    0.0   \n",
       "2    «18+» - запрещено для детей                 0.0                    0.0   \n",
       "3    «18+» - запрещено для детей                 0.0                    0.0   \n",
       "4    «18+» - запрещено для детей                 0.0                    0.0   \n",
       "\n",
       "   budget financing_source  ratings                     genres  box_office  \\\n",
       "0     0.0          unknown      7.2     боевик,драма,мелодрама         0.0   \n",
       "1     0.0          unknown      6.6              драма,военный         0.0   \n",
       "2     0.0          unknown      6.8  фантастика,боевик,триллер         0.0   \n",
       "3     0.0          unknown      6.8  фантастика,боевик,триллер         0.0   \n",
       "4     0.0          unknown      6.8  фантастика,боевик,триллер         0.0   \n",
       "\n",
       "   year_start_date  main_genre main_country  goverment_support  \n",
       "0             2015      боевик          США                NaN  \n",
       "1             2016       драма         СССР                NaN  \n",
       "2             2016  фантастика          США                NaN  \n",
       "3             2016  фантастика          США                NaN  \n",
       "4             2015  фантастика          США                NaN  "
      ]
     },
     "execution_count": 29,
     "metadata": {},
     "output_type": "execute_result"
    }
   ],
   "source": [
    "# add a new column\n",
    "df_movies['goverment_support'] = round((df_movies['refundable_support']  + df_movies['nonrefundable_support']) / df_movies['budget']*100,0)\n",
    "\n",
    "# display the results\n",
    "df_movies.head()"
   ]
  },
  {
   "cell_type": "markdown",
   "metadata": {
    "id": "6t4EukPLgFyV"
   },
   "source": [
    "### Step 3. Exploratory data analysis\n"
   ]
  },
  {
   "cell_type": "markdown",
   "metadata": {
    "id": "vAH8WCzugFyV"
   },
   "source": [
    "- Analyze the qauntity of issued movies per year. Notice, not every movie has box office information. Calculate the percentage of movies with specified box office information from total quantity."
   ]
  },
  {
   "cell_type": "code",
   "execution_count": 30,
   "metadata": {
    "id": "ABeV47y7gFyW"
   },
   "outputs": [
    {
     "data": {
      "text/plain": [
       "Text(0, 0.5, 'movies quantity')"
      ]
     },
     "execution_count": 30,
     "metadata": {},
     "output_type": "execute_result"
    },
    {
     "data": {
      "image/png": "[encoded data removed]",
      "text/plain": [
       "<Figure size 432x288 with 1 Axes>"
      ]
     },
     "metadata": {
      "needs_background": "light"
     },
     "output_type": "display_data"
    }
   ],
   "source": [
    "# histogram plotting - quantity of movies per year \n",
    "df_movies.hist(column = 'year_start_date',grid=True, bins=20 ,range = (df_movies.year_start_date.min(),df_movies.year_start_date.max()))\n",
    "pl.xlabel(\"year\")\n",
    "pl.ylabel(\"movies quantity\")"
   ]
  },
  {
   "cell_type": "code",
   "execution_count": 31,
   "metadata": {},
   "outputs": [
    {
     "name": "stdout",
     "output_type": "stream",
     "text": [
      "доля фильмов с данными о прокате: 0.42\n"
     ]
    },
    {
     "data": {
      "text/plain": [
       "year_start_date\n",
       "2010    2.428654e+06\n",
       "2012    6.955423e+06\n",
       "2011    1.410276e+07\n",
       "2013    2.979971e+07\n",
       "2014    7.444952e+09\n",
       "2015    3.949737e+10\n",
       "2016    4.786630e+10\n",
       "2019    4.842571e+10\n",
       "2017    4.856371e+10\n",
       "2018    4.966840e+10\n",
       "Name: box_office, dtype: float64"
      ]
     },
     "execution_count": 31,
     "metadata": {},
     "output_type": "execute_result"
    },
    {
     "data": {
      "image/png": "[encoded data removed]",
      "text/plain": [
       "<Figure size 648x432 with 1 Axes>"
      ]
     },
     "metadata": {
      "needs_background": "light"
     },
     "output_type": "display_data"
    }
   ],
   "source": [
    "# Display the percentage of movies with info on box office\n",
    "print('доля фильмов с данными о прокате:', round((df_movies.query('box_office > 0').title.count()/df_movies.title.count()),2))\n",
    "\n",
    "# plotting histogram on box office per year\n",
    "df_box_office = df_movies.query('box_office > 0')\n",
    "df_box_office.groupby('year_start_date')['box_office'].sum().plot(x='year_start_date', y ='box_office', style = 'o-',grid = True, legend = True,figsize = (9,6))\n",
    "pl.xlabel(\"year\")\n",
    "pl.title(\"box_office per year\")\n",
    "pl.ylabel(\"box_office\")\n",
    "\n",
    "# display the pivot table with box office per year\n",
    "df_movies.query('box_office > 0').groupby('year_start_date')['box_office'].sum().sort_values()"
   ]
  },
  {
   "cell_type": "markdown",
   "metadata": {
    "id": "BEOdcIrIgFyW"
   },
   "source": [
    "- Analyze the dynamic of box office during years. When the amount of box office were lowest and when highest?"
   ]
  },
  {
   "cell_type": "markdown",
   "metadata": {
    "id": "tfEhofYvgFyX"
   },
   "source": [
    "**Box office dynamics**"
   ]
  },
  {
   "cell_type": "markdown",
   "metadata": {},
   "source": [
    "- statistic on all movies, including the movies w/o info on box office is following:\n",
    "\n",
    "1) in 2010 almost the 1000 movies were issued\n",
    "\n",
    "2) in period starting from 2011 to 2013 600 movies were issued per year\n",
    "\n",
    "3) in 2014 and 2016 the 800 movies were issued \n",
    "\n",
    "4) in 2015 the quantity of issued movies is near to 700\n",
    "\n",
    "5) in 2017 year 500 movies were issued\n",
    "\n",
    "6) in 2018 and 2019 were issued around 900 movies\n",
    "\n",
    "**Box office statistic is following:**\n",
    "\n",
    "- the lowest box office amount was in 2010 and is equeal to 2.428654e+06\n",
    "- the highest box office amount was in 2018 and is equal to 4.966840e+10\n"
   ]
  },
  {
   "cell_type": "markdown",
   "metadata": {},
   "source": [
    " "
   ]
  },
  {
   "cell_type": "markdown",
   "metadata": {
    "id": "G-7qS-N-gFyY"
   },
   "source": [
    "- Using pivot table calculate the averade and median values of box office per year."
   ]
  },
  {
   "cell_type": "code",
   "execution_count": 32,
   "metadata": {
    "id": "jmp-rgg9gFyY"
   },
   "outputs": [
    {
     "data": {
      "text/html": [
       "<div>\n",
       "<style scoped>\n",
       "    .dataframe tbody tr th:only-of-type {\n",
       "        vertical-align: middle;\n",
       "    }\n",
       "\n",
       "    .dataframe tbody tr th {\n",
       "        vertical-align: top;\n",
       "    }\n",
       "\n",
       "    .dataframe thead tr th {\n",
       "        text-align: left;\n",
       "    }\n",
       "\n",
       "    .dataframe thead tr:last-of-type th {\n",
       "        text-align: right;\n",
       "    }\n",
       "</style>\n",
       "<table border=\"1\" class=\"dataframe\">\n",
       "  <thead>\n",
       "    <tr>\n",
       "      <th></th>\n",
       "      <th>mean</th>\n",
       "      <th>median</th>\n",
       "    </tr>\n",
       "    <tr>\n",
       "      <th></th>\n",
       "      <th>box_office</th>\n",
       "      <th>box_office</th>\n",
       "    </tr>\n",
       "    <tr>\n",
       "      <th>year_start_date</th>\n",
       "      <th></th>\n",
       "      <th></th>\n",
       "    </tr>\n",
       "  </thead>\n",
       "  <tbody>\n",
       "    <tr>\n",
       "      <th>2010</th>\n",
       "      <td>2.404608e+04</td>\n",
       "      <td>1710.000</td>\n",
       "    </tr>\n",
       "    <tr>\n",
       "      <th>2011</th>\n",
       "      <td>1.293832e+05</td>\n",
       "      <td>3000.000</td>\n",
       "    </tr>\n",
       "    <tr>\n",
       "      <th>2012</th>\n",
       "      <td>5.654815e+04</td>\n",
       "      <td>6220.000</td>\n",
       "    </tr>\n",
       "    <tr>\n",
       "      <th>2013</th>\n",
       "      <td>1.664788e+05</td>\n",
       "      <td>3580.000</td>\n",
       "    </tr>\n",
       "    <tr>\n",
       "      <th>2014</th>\n",
       "      <td>2.727089e+07</td>\n",
       "      <td>20400.000</td>\n",
       "    </tr>\n",
       "    <tr>\n",
       "      <th>2015</th>\n",
       "      <td>8.549213e+07</td>\n",
       "      <td>5003450.150</td>\n",
       "    </tr>\n",
       "    <tr>\n",
       "      <th>2016</th>\n",
       "      <td>9.117390e+07</td>\n",
       "      <td>3915041.020</td>\n",
       "    </tr>\n",
       "    <tr>\n",
       "      <th>2017</th>\n",
       "      <td>1.360328e+08</td>\n",
       "      <td>9968340.000</td>\n",
       "    </tr>\n",
       "    <tr>\n",
       "      <th>2018</th>\n",
       "      <td>1.045651e+08</td>\n",
       "      <td>8891102.210</td>\n",
       "    </tr>\n",
       "    <tr>\n",
       "      <th>2019</th>\n",
       "      <td>9.136926e+07</td>\n",
       "      <td>4627798.345</td>\n",
       "    </tr>\n",
       "  </tbody>\n",
       "</table>\n",
       "</div>"
      ],
      "text/plain": [
       "                         mean       median\n",
       "                   box_office   box_office\n",
       "year_start_date                           \n",
       "2010             2.404608e+04     1710.000\n",
       "2011             1.293832e+05     3000.000\n",
       "2012             5.654815e+04     6220.000\n",
       "2013             1.664788e+05     3580.000\n",
       "2014             2.727089e+07    20400.000\n",
       "2015             8.549213e+07  5003450.150\n",
       "2016             9.117390e+07  3915041.020\n",
       "2017             1.360328e+08  9968340.000\n",
       "2018             1.045651e+08  8891102.210\n",
       "2019             9.136926e+07  4627798.345"
      ]
     },
     "metadata": {},
     "output_type": "display_data"
    }
   ],
   "source": [
    "# display the average and median values on box office \n",
    "display(df_movies.query('box_office > 0').pivot_table(index = 'year_start_date',values = 'box_office',\n",
    "                                                      aggfunc = ['mean','median']))"
   ]
  },
  {
   "cell_type": "markdown",
   "metadata": {},
   "source": [
    "**The table above represent the statistic on the average and median values of box office pre year**\n",
    "\n",
    "The lowest indecies were in 2010, the highest in 2017"
   ]
  },
  {
   "cell_type": "markdown",
   "metadata": {
    "id": "Ok89WFwJgFyZ"
   },
   "source": [
    "- Define how does the age restriction affect on box office of movies during 2015-2019.\n",
    "- What type of age restriction has highest box office?\n",
    "- Does it changing year by year?"
   ]
  },
  {
   "cell_type": "code",
   "execution_count": 33,
   "metadata": {
    "id": "jsSbEqfjgFya"
   },
   "outputs": [
    {
     "data": {
      "text/html": [
       "<div>\n",
       "<style scoped>\n",
       "    .dataframe tbody tr th:only-of-type {\n",
       "        vertical-align: middle;\n",
       "    }\n",
       "\n",
       "    .dataframe tbody tr th {\n",
       "        vertical-align: top;\n",
       "    }\n",
       "\n",
       "    .dataframe thead tr th {\n",
       "        text-align: left;\n",
       "    }\n",
       "\n",
       "    .dataframe thead tr:last-of-type th {\n",
       "        text-align: right;\n",
       "    }\n",
       "</style>\n",
       "<table border=\"1\" class=\"dataframe\">\n",
       "  <thead>\n",
       "    <tr>\n",
       "      <th></th>\n",
       "      <th>sum</th>\n",
       "    </tr>\n",
       "    <tr>\n",
       "      <th></th>\n",
       "      <th>box_office</th>\n",
       "    </tr>\n",
       "    <tr>\n",
       "      <th>age_restriction</th>\n",
       "      <th></th>\n",
       "    </tr>\n",
       "  </thead>\n",
       "  <tbody>\n",
       "    <tr>\n",
       "      <th>«0+» - для любой зрительской аудитории</th>\n",
       "      <td>8.090774e+08</td>\n",
       "    </tr>\n",
       "    <tr>\n",
       "      <th>«12+» - для детей старше 12 лет</th>\n",
       "      <td>6.061945e+10</td>\n",
       "    </tr>\n",
       "    <tr>\n",
       "      <th>«16+» - для детей старше 16 лет</th>\n",
       "      <td>7.603473e+10</td>\n",
       "    </tr>\n",
       "    <tr>\n",
       "      <th>«18+» - запрещено для детей</th>\n",
       "      <td>4.075962e+10</td>\n",
       "    </tr>\n",
       "    <tr>\n",
       "      <th>«6+» - для детей старше 6 лет</th>\n",
       "      <td>5.579861e+10</td>\n",
       "    </tr>\n",
       "  </tbody>\n",
       "</table>\n",
       "</div>"
      ],
      "text/plain": [
       "                                                 sum\n",
       "                                          box_office\n",
       "age_restriction                                     \n",
       "«0+» - для любой зрительской аудитории  8.090774e+08\n",
       "«12+» - для детей старше 12 лет         6.061945e+10\n",
       "«16+» - для детей старше 16 лет         7.603473e+10\n",
       "«18+» - запрещено для детей             4.075962e+10\n",
       "«6+» - для детей старше 6 лет           5.579861e+10"
      ]
     },
     "metadata": {},
     "output_type": "display_data"
    },
    {
     "data": {
      "image/png": "[encoded data removed]",
      "text/plain": [
       "<Figure size 864x648 with 1 Axes>"
      ]
     },
     "metadata": {
      "needs_background": "light"
     },
     "output_type": "display_data"
    }
   ],
   "source": [
    "# выберем года с 2015 по 2019\n",
    "years = [2015,2016,2017,2018,2019]\n",
    "\n",
    "# присовим переменной список из уникальных значений столбца возрастных ограничений \n",
    "ages = df_movies.age_restriction.sort_values().unique()\n",
    "\n",
    "# выведем на экран общие сборы по каждому значению столбца возрастных ограничений\n",
    "display(df_movies.query('year_start_date in @years').pivot_table(index = ['age_restriction'],values = 'box_office',aggfunc = ['sum']))\n",
    "\n",
    "# создадим цикл для создания графика с изменением сборов по годам в зависимости от значения столбца возрастных ограничений\n",
    "for age in ages:\n",
    "    df_temp = df_movies.query('age_restriction == @age and year_start_date in @years').groupby('year_start_date')['box_office'].sum()\n",
    "    df_temp.plot(style='o-',grid='True', figsize=(12,9))\n",
    "    legend = age\n",
    "    pl.legend(ages)\n",
    "    pl.xlabel(\"year\")\n",
    "    pl.ylabel(\"box_office\")\n",
    "    pl.title(\"box office per year\")\n",
    "    "
   ]
  },
  {
   "cell_type": "markdown",
   "metadata": {},
   "source": [
    "**Statistic of box office by age restriction**\n",
    "\n",
    "- the lowest popularity has the movies w/o restrictions, the box office has a reduction every year.\n",
    "- movies with restriction 6+ has overal growth (from 0,5 le10  in 2015 to 1,25 le10 in 2019). Most likely it is animated films.\n",
    "- movies with restriction 12+ and 16+ has similar indecies, we can assume the the growth of box office for movies in 2017 year 16+ has affected on reduction of box office of movies 12+. Most likely this categaries is a fantasy movies.\n",
    "- Box office for movies with restriction 18+  has growth every year."
   ]
  },
  {
   "cell_type": "markdown",
   "metadata": {
    "id": "l_Kg6Ku4gFya"
   },
   "source": [
    "### Step 4. Analyze the movies with goverment support\n",
    "\n",
    "Conduct the analysis and calculate the amount of goverment support.\n",
    "Chechk the ROI indecies and rating of suchmovies."
   ]
  },
  {
   "cell_type": "code",
   "execution_count": 34,
   "metadata": {
    "id": "W9QKpjUdgFyb",
    "scrolled": false
   },
   "outputs": [
    {
     "name": "stdout",
     "output_type": "stream",
     "text": [
      "movies with refundable support count    1.110000e+02\n",
      "mean     3.548649e+07\n",
      "std      3.197288e+07\n",
      "min      3.500000e+06\n",
      "25%      1.500000e+07\n",
      "50%      2.500000e+07\n",
      "75%      5.000000e+07\n",
      "max      1.800000e+08\n",
      "Name: refundable_support, dtype: float64 \n",
      " movies with nonrefundable support count    3.230000e+02\n",
      "mean     5.034578e+07\n",
      "std      6.024321e+07\n",
      "min      3.000000e+06\n",
      "25%      2.500000e+07\n",
      "50%      3.000000e+07\n",
      "75%      4.500000e+07\n",
      "max      4.000000e+08\n",
      "Name: nonrefundable_support, dtype: float64\n",
      "sum =  20200688312.0 \n",
      " quantity =  434 \n",
      " average =  46545364.77 \n",
      "\n",
      " year_start_date\n",
      "2010            0.0\n",
      "2011            0.0\n",
      "2012            0.0\n",
      "2013            0.0\n",
      "2014     71000000.0\n",
      "2015    637153119.0\n",
      "2016    921500000.0\n",
      "2017    719346881.0\n",
      "2018    662000000.0\n",
      "2019    928000000.0\n",
      "Name: refundable_support, dtype: float64 \n",
      "\n",
      " year_start_date\n",
      "2010    0.000000e+00\n",
      "2011    0.000000e+00\n",
      "2012    0.000000e+00\n",
      "2013    1.343479e+08\n",
      "2014    5.010023e+08\n",
      "2015    3.019088e+09\n",
      "2016    3.381655e+09\n",
      "2017    2.464625e+09\n",
      "2018    2.784969e+09\n",
      "2019    3.976000e+09\n",
      "Name: nonrefundable_support, dtype: float64\n"
     ]
    }
   ],
   "source": [
    "# calculation of total amount of gov support\n",
    "sum_gov_support = df_movies.refundable_support.sum() + df_movies.nonrefundable_support.sum()\n",
    "\n",
    "# calculatio of total qty of movies qith goverment support\n",
    "qty_gov_support = df_movies.query('refundable_support >0').refundable_support.count() + df_movies.query('nonrefundable_support>0').nonrefundable_support.count()\n",
    "\n",
    "print('movies with refundable support',df_movies.query('refundable_support >0').refundable_support.describe(), \n",
    "      '\\n','movies with nonrefundable support',\n",
    "      df_movies.query('nonrefundable_support >0').nonrefundable_support.describe()) \n",
    "\n",
    "# display of the gov support statistic by the year\n",
    "print('sum = ',sum_gov_support,'\\n'\n",
    "     ,'quantity = ',qty_gov_support,'\\n'\n",
    "     ,'average = ',round(sum_gov_support/qty_gov_support,2),'\\n\\n'\n",
    "      ,df_movies.groupby('year_start_date').refundable_support.sum(),'\\n\\n'\n",
    "      ,df_movies.groupby('year_start_date').nonrefundable_support.sum())"
   ]
  },
  {
   "cell_type": "markdown",
   "metadata": {},
   "source": [
    "**Conclusion**\n",
    "- total qty of movies with goverment support is 434 \n",
    "- total amount of goverment soppurt is 20.200.688.312\n",
    "- average amount of goverment support is:  46 545 364.77\n",
    "- minimum and maximum amounts of refundable support is: 1.110000e+02 и  1.800000e+08\n",
    "- min and max of unrefoundable goverment support is: 5.034578e+07 и  4.000000e+08"
   ]
  },
  {
   "cell_type": "code",
   "execution_count": 35,
   "metadata": {
    "scrolled": true
   },
   "outputs": [
    {
     "name": "stdout",
     "output_type": "stream",
     "text": [
      "процент фильмов с гос поддержкой: 4 % \n",
      "\n",
      "count    332.000000\n",
      "mean       0.791000\n",
      "std        1.659904\n",
      "min        0.000000\n",
      "25%        0.015875\n",
      "50%        0.148018\n",
      "75%        0.933302\n",
      "max       19.209804\n",
      "Name: ROI, dtype: float64\n"
     ]
    }
   ],
   "source": [
    "# calculation of ROI\n",
    "df_gov_support = df_movies.query('goverment_support > 0').copy()\n",
    "print('процент фильмов с гос поддержкой:',int(round(df_gov_support.title.count()/df_movies.title.count(),2)*100),'%','\\n')\n",
    "df_gov_support['ROI'] = (df_gov_support['box_office'] / df_gov_support['budget'])\n",
    "print(df_gov_support['ROI'].describe())"
   ]
  },
  {
   "cell_type": "markdown",
   "metadata": {},
   "source": [
    "**More than 75% of movies has negative ROI index**"
   ]
  },
  {
   "cell_type": "code",
   "execution_count": 36,
   "metadata": {},
   "outputs": [
    {
     "name": "stdout",
     "output_type": "stream",
     "text": [
      "count    3.320000e+02\n",
      "mean     1.268479e+08\n",
      "std      3.287626e+08\n",
      "min      0.000000e+00\n",
      "25%      9.094312e+05\n",
      "50%      1.214419e+07\n",
      "75%      1.031074e+08\n",
      "max      3.073569e+09\n",
      "Name: box_office, dtype: float64 \n",
      "\n"
     ]
    },
    {
     "data": {
      "text/plain": [
       "Text(0.5, 0, 'box_office')"
      ]
     },
     "execution_count": 36,
     "metadata": {},
     "output_type": "execute_result"
    },
    {
     "data": {
      "image/png": "[encoded data removed]",
      "text/plain": [
       "<Figure size 432x288 with 1 Axes>"
      ]
     },
     "metadata": {
      "needs_background": "light"
     },
     "output_type": "display_data"
    }
   ],
   "source": [
    "# box office analyzis\n",
    "\n",
    "print(df_movies.query('goverment_support > 0')['box_office'].describe(),'\\n')\n",
    "\n",
    "df_movies.query('goverment_support > 0').hist(column = 'box_office', bins = 25)\n",
    "pl.ylabel(\"movies quantity\")\n",
    "pl.xlabel(\"box_office\")"
   ]
  },
  {
   "cell_type": "code",
   "execution_count": 37,
   "metadata": {},
   "outputs": [
    {
     "data": {
      "text/plain": [
       "Text(0.5, 0, 'box_office')"
      ]
     },
     "execution_count": 37,
     "metadata": {},
     "output_type": "execute_result"
    },
    {
     "data": {
      "image/png": "[encoded data removed]",
      "text/plain": [
       "<Figure size 432x288 with 1 Axes>"
      ]
     },
     "metadata": {
      "needs_background": "light"
     },
     "output_type": "display_data"
    }
   ],
   "source": [
    "# rescale\n",
    "df_movies.query('goverment_support > 0').hist(column = 'box_office', bins = 25, range = (1,10000000))\n",
    "pl.ylabel(\"movies quantity\")\n",
    "pl.xlabel(\"box_office\")"
   ]
  },
  {
   "cell_type": "markdown",
   "metadata": {},
   "source": [
    "- max amount of box office of movie with goverment support is 3.073569e+09\n",
    "- min amount is 0 \n",
    "- median value 12 144 193.5"
   ]
  },
  {
   "cell_type": "code",
   "execution_count": 38,
   "metadata": {},
   "outputs": [
    {
     "name": "stdout",
     "output_type": "stream",
     "text": [
      "count    332.000000\n",
      "mean       5.730723\n",
      "std        1.710008\n",
      "min        0.000000\n",
      "25%        5.200000\n",
      "50%        6.100000\n",
      "75%        6.700000\n",
      "max        9.400000\n",
      "Name: ratings, dtype: float64\n"
     ]
    },
    {
     "data": {
      "image/png": "[encoded data removed]",
      "text/plain": [
       "<Figure size 432x288 with 1 Axes>"
      ]
     },
     "metadata": {
      "needs_background": "light"
     },
     "output_type": "display_data"
    }
   ],
   "source": [
    "# plotting of historam with rating of movies with goverment support\n",
    "df_movies.query('goverment_support > 0').hist(column = 'ratings', bins = 40, range = (1,10))\n",
    "pl.ylabel(\"movies quantity\")\n",
    "pl.xlabel(\"rating\")\n",
    "\n",
    "\n",
    "# display the rating information \n",
    "print(df_movies.query('goverment_support > 0')['ratings'].describe())"
   ]
  },
  {
   "cell_type": "markdown",
   "metadata": {},
   "source": [
    "- Maximal rating is 9,4\n",
    "- Minimal - 1,71\n",
    "- Median value 6,1"
   ]
  },
  {
   "cell_type": "code",
   "execution_count": 39,
   "metadata": {},
   "outputs": [
    {
     "data": {
      "image/png": "[encoded data removed]",
      "text/plain": [
       "<Figure size 1440x432 with 1 Axes>"
      ]
     },
     "metadata": {
      "needs_background": "light"
     },
     "output_type": "display_data"
    }
   ],
   "source": [
    "# histogram plotting of average budget per genre of movie with goverment support\n",
    "\n",
    "df_genre_budget = df_movies.query('goverment_support > 0').pivot_table(index = 'main_genre',values = 'budget',aggfunc = ['mean'])\n",
    "df_genre_budget.columns = ['Average budget']\n",
    "df_genre_budget.sort_values(by = 'Average budget', ascending = False).plot(kind = 'bar', figsize =(20,6))\n",
    "pl.ylabel(\"Budget Amount\")\n",
    "pl.xlabel(\"Genre\")\n",
    "pl.title('average budget per genre');"
   ]
  },
  {
   "cell_type": "markdown",
   "metadata": {
    "id": "V2gYwMcPgFyd"
   },
   "source": [
    "### Step 5.  General conclusion"
   ]
  },
  {
   "cell_type": "markdown",
   "metadata": {
    "id": "AYRg3dzXgFye"
   },
   "source": [
    "1) The analysis has revealed that box office increased every year, the highest growth was in 2014 and has changed form  0,8е+10 to 4е+10\n",
    "\n",
    "2) the lowest and highest indecies of box office were in 2010 and 2017 years, and are following:\n",
    "\n",
    "- 2010 | 2.404608e+04\t | 1.710\n",
    "- 2017 | 1.360328e+08 |\t9.968.340\n",
    "\n",
    "3) The most popular types of movies with age restriction is following categories: 6+ , 12+, 16+. These genres has similar populary and cempete to each other every year, leadin position is always changing. The less popular movies are movies with 18+ age restriction, and the lowest popularity have movies with age restriction +.\n",
    "\n",
    "4) only 4% movies has goverment support:\n",
    " - total quantity is 434 movies\n",
    " - total amount of goverment support is 20.200.688.312\n",
    " - average amount per movie - 46 545 364.77\n",
    " - percentage of movies with positive ROI - 25%\n",
    " - Median value of box office amount is 12 144 193.5, wich 4 times lower than average amoun of goverment support.\n",
    " - more than a half of movies has rating 6,1 (average and lower)\n"
   ]
  }
 ],
 "metadata": {
  "ExecuteTimeLog": [
   {
    "duration": 537,
    "start_time": "2021-07-07T10:12:08.634Z"
   },
   {
    "duration": 206,
    "start_time": "2021-07-07T10:12:30.191Z"
   },
   {
    "duration": 227,
    "start_time": "2021-07-07T10:12:33.078Z"
   },
   {
    "duration": 153,
    "start_time": "2021-07-07T10:13:42.146Z"
   },
   {
    "duration": 233,
    "start_time": "2021-07-07T10:30:09.252Z"
   },
   {
    "duration": 19,
    "start_time": "2021-07-07T10:30:15.577Z"
   },
   {
    "duration": 18,
    "start_time": "2021-07-07T10:30:57.348Z"
   },
   {
    "duration": 19,
    "start_time": "2021-07-07T10:31:17.452Z"
   },
   {
    "duration": 21,
    "start_time": "2021-07-07T10:31:32.227Z"
   },
   {
    "duration": 27,
    "start_time": "2021-07-07T10:32:06.588Z"
   },
   {
    "duration": 23,
    "start_time": "2021-07-07T10:32:43.645Z"
   },
   {
    "duration": 24,
    "start_time": "2021-07-07T10:33:06.948Z"
   },
   {
    "duration": 7,
    "start_time": "2021-07-07T10:33:28.558Z"
   },
   {
    "duration": 23,
    "start_time": "2021-07-07T10:33:43.761Z"
   },
   {
    "duration": 28,
    "start_time": "2021-07-07T10:34:13.466Z"
   },
   {
    "duration": 23,
    "start_time": "2021-07-07T10:35:56.187Z"
   },
   {
    "duration": 6,
    "start_time": "2021-07-07T10:36:48.182Z"
   },
   {
    "duration": 14,
    "start_time": "2021-07-07T10:37:49.641Z"
   },
   {
    "duration": 6,
    "start_time": "2021-07-07T10:38:06.694Z"
   },
   {
    "duration": 6,
    "start_time": "2021-07-07T10:38:13.493Z"
   },
   {
    "duration": 19,
    "start_time": "2021-07-07T10:38:44.056Z"
   },
   {
    "duration": 186,
    "start_time": "2021-07-07T10:48:35.618Z"
   },
   {
    "duration": 24,
    "start_time": "2021-07-07T10:48:51.498Z"
   },
   {
    "duration": 20,
    "start_time": "2021-07-07T10:48:59.415Z"
   },
   {
    "duration": 20,
    "start_time": "2021-07-07T10:53:02.195Z"
   },
   {
    "duration": 188,
    "start_time": "2021-07-07T10:54:40.486Z"
   },
   {
    "duration": 115,
    "start_time": "2021-07-07T10:54:52.552Z"
   },
   {
    "duration": 214,
    "start_time": "2021-07-07T10:54:56.354Z"
   },
   {
    "duration": 47,
    "start_time": "2021-07-07T10:54:58.282Z"
   },
   {
    "duration": 217,
    "start_time": "2021-07-07T10:59:16.075Z"
   },
   {
    "duration": 51,
    "start_time": "2021-07-07T10:59:16.243Z"
   },
   {
    "duration": 578,
    "start_time": "2021-07-07T10:59:18.774Z"
   },
   {
    "duration": 161,
    "start_time": "2021-07-07T10:59:21.238Z"
   },
   {
    "duration": 59,
    "start_time": "2021-07-07T10:59:21.453Z"
   },
   {
    "duration": 3,
    "start_time": "2021-07-07T11:02:10.786Z"
   },
   {
    "duration": 13,
    "start_time": "2021-07-07T11:07:07.722Z"
   },
   {
    "duration": 26,
    "start_time": "2021-07-07T11:07:17.958Z"
   },
   {
    "duration": 22,
    "start_time": "2021-07-07T11:08:17.939Z"
   },
   {
    "duration": 212,
    "start_time": "2021-07-07T11:08:19.665Z"
   },
   {
    "duration": 21,
    "start_time": "2021-07-07T11:08:29.945Z"
   },
   {
    "duration": 31,
    "start_time": "2021-07-07T11:08:38.899Z"
   },
   {
    "duration": 23,
    "start_time": "2021-07-07T11:08:54.527Z"
   },
   {
    "duration": 8,
    "start_time": "2021-07-07T11:18:55.974Z"
   },
   {
    "duration": 7,
    "start_time": "2021-07-07T11:19:03.639Z"
   },
   {
    "duration": 7,
    "start_time": "2021-07-07T11:19:06.444Z"
   },
   {
    "duration": 578,
    "start_time": "2021-07-07T12:09:59.576Z"
   },
   {
    "duration": 195,
    "start_time": "2021-07-07T12:10:00.156Z"
   },
   {
    "duration": 115,
    "start_time": "2021-07-07T12:10:00.353Z"
   },
   {
    "duration": 3,
    "start_time": "2021-07-07T12:10:00.470Z"
   },
   {
    "duration": 32,
    "start_time": "2021-07-07T12:10:00.474Z"
   },
   {
    "duration": 23,
    "start_time": "2021-07-07T12:10:00.508Z"
   },
   {
    "duration": 19,
    "start_time": "2021-07-07T12:10:00.533Z"
   },
   {
    "duration": 44,
    "start_time": "2021-07-07T12:10:00.553Z"
   },
   {
    "duration": 7,
    "start_time": "2021-07-07T12:10:00.600Z"
   },
   {
    "duration": 7,
    "start_time": "2021-07-07T12:19:45.761Z"
   },
   {
    "duration": 21,
    "start_time": "2021-07-07T12:21:35.482Z"
   },
   {
    "duration": 21,
    "start_time": "2021-07-07T12:29:23.569Z"
   },
   {
    "duration": 525,
    "start_time": "2021-07-07T12:29:44.542Z"
   },
   {
    "duration": 214,
    "start_time": "2021-07-07T12:29:45.069Z"
   },
   {
    "duration": 92,
    "start_time": "2021-07-07T12:29:45.285Z"
   },
   {
    "duration": 3,
    "start_time": "2021-07-07T12:29:45.379Z"
   },
   {
    "duration": 28,
    "start_time": "2021-07-07T12:29:45.384Z"
   },
   {
    "duration": 23,
    "start_time": "2021-07-07T12:29:45.413Z"
   },
   {
    "duration": 21,
    "start_time": "2021-07-07T12:29:45.437Z"
   },
   {
    "duration": 41,
    "start_time": "2021-07-07T12:29:45.460Z"
   },
   {
    "duration": 7,
    "start_time": "2021-07-07T12:29:45.502Z"
   },
   {
    "duration": 20,
    "start_time": "2021-07-07T12:29:45.511Z"
   },
   {
    "duration": 12,
    "start_time": "2021-07-07T12:34:02.800Z"
   },
   {
    "duration": 7,
    "start_time": "2021-07-07T12:35:10.479Z"
   },
   {
    "duration": 8,
    "start_time": "2021-07-07T12:35:22.440Z"
   },
   {
    "duration": 6,
    "start_time": "2021-07-07T12:35:35.649Z"
   },
   {
    "duration": 6,
    "start_time": "2021-07-07T12:35:43.107Z"
   },
   {
    "duration": 22,
    "start_time": "2021-07-07T12:38:03.029Z"
   },
   {
    "duration": 10,
    "start_time": "2021-07-07T12:38:06.592Z"
   },
   {
    "duration": 563,
    "start_time": "2021-07-07T12:38:46.493Z"
   },
   {
    "duration": 265,
    "start_time": "2021-07-07T12:38:47.058Z"
   },
   {
    "duration": 94,
    "start_time": "2021-07-07T12:38:47.325Z"
   },
   {
    "duration": 3,
    "start_time": "2021-07-07T12:38:47.422Z"
   },
   {
    "duration": 30,
    "start_time": "2021-07-07T12:38:47.427Z"
   },
   {
    "duration": 16,
    "start_time": "2021-07-07T12:38:53.305Z"
   },
   {
    "duration": 10,
    "start_time": "2021-07-07T12:38:53.499Z"
   },
   {
    "duration": 8,
    "start_time": "2021-07-07T12:39:48.161Z"
   },
   {
    "duration": 27,
    "start_time": "2021-07-07T12:41:17.629Z"
   },
   {
    "duration": 17,
    "start_time": "2021-07-07T12:41:17.867Z"
   },
   {
    "duration": 21,
    "start_time": "2021-07-07T12:41:19.310Z"
   },
   {
    "duration": 7,
    "start_time": "2021-07-07T12:41:19.544Z"
   },
   {
    "duration": 20,
    "start_time": "2021-07-07T12:41:20.504Z"
   },
   {
    "duration": 554,
    "start_time": "2021-07-07T12:56:23.696Z"
   },
   {
    "duration": 200,
    "start_time": "2021-07-07T12:56:25.234Z"
   },
   {
    "duration": 119,
    "start_time": "2021-07-07T12:56:25.480Z"
   },
   {
    "duration": 4,
    "start_time": "2021-07-07T12:56:25.762Z"
   },
   {
    "duration": 26,
    "start_time": "2021-07-07T12:56:27.172Z"
   },
   {
    "duration": 12,
    "start_time": "2021-07-07T12:56:29.051Z"
   },
   {
    "duration": 10,
    "start_time": "2021-07-07T12:56:29.291Z"
   },
   {
    "duration": 8,
    "start_time": "2021-07-07T12:56:29.623Z"
   },
   {
    "duration": 28,
    "start_time": "2021-07-07T12:56:32.137Z"
   },
   {
    "duration": 19,
    "start_time": "2021-07-07T12:56:39.785Z"
   },
   {
    "duration": 20,
    "start_time": "2021-07-07T12:56:44.297Z"
   },
   {
    "duration": 7,
    "start_time": "2021-07-07T12:56:45.392Z"
   },
   {
    "duration": 23,
    "start_time": "2021-07-07T12:56:46.615Z"
   },
   {
    "duration": 4,
    "start_time": "2021-07-07T12:57:06.625Z"
   },
   {
    "duration": 32,
    "start_time": "2021-07-07T12:57:36.690Z"
   },
   {
    "duration": 18,
    "start_time": "2021-07-07T12:58:00.149Z"
   },
   {
    "duration": 15,
    "start_time": "2021-07-07T12:59:16.793Z"
   },
   {
    "duration": 7,
    "start_time": "2021-07-07T13:19:22.624Z"
   },
   {
    "duration": 6,
    "start_time": "2021-07-07T14:17:33.527Z"
   },
   {
    "duration": 9,
    "start_time": "2021-07-07T14:17:48.409Z"
   },
   {
    "duration": 8,
    "start_time": "2021-07-07T14:20:13.060Z"
   },
   {
    "duration": 8,
    "start_time": "2021-07-07T14:20:37.957Z"
   },
   {
    "duration": 8,
    "start_time": "2021-07-07T14:20:47.470Z"
   },
   {
    "duration": 9,
    "start_time": "2021-07-07T14:20:54.503Z"
   },
   {
    "duration": 10,
    "start_time": "2021-07-07T14:28:57.763Z"
   },
   {
    "duration": 3,
    "start_time": "2021-07-07T14:30:23.377Z"
   },
   {
    "duration": 3,
    "start_time": "2021-07-07T14:30:36.489Z"
   },
   {
    "duration": 103,
    "start_time": "2021-07-07T14:30:52.351Z"
   },
   {
    "duration": 8,
    "start_time": "2021-07-07T14:30:54.763Z"
   },
   {
    "duration": 8,
    "start_time": "2021-07-07T14:31:29.301Z"
   },
   {
    "duration": 13,
    "start_time": "2021-07-07T14:31:44.516Z"
   },
   {
    "duration": 7,
    "start_time": "2021-07-07T14:33:10.972Z"
   },
   {
    "duration": 11,
    "start_time": "2021-07-07T14:33:27.780Z"
   },
   {
    "duration": 8,
    "start_time": "2021-07-07T14:34:44.588Z"
   },
   {
    "duration": 57,
    "start_time": "2021-07-07T14:35:59.042Z"
   },
   {
    "duration": 3,
    "start_time": "2021-07-07T14:36:28.168Z"
   },
   {
    "duration": 5,
    "start_time": "2021-07-07T14:36:46.254Z"
   },
   {
    "duration": 4,
    "start_time": "2021-07-07T14:36:52.714Z"
   },
   {
    "duration": 3,
    "start_time": "2021-07-07T14:36:56.612Z"
   },
   {
    "duration": 4,
    "start_time": "2021-07-07T14:36:57.049Z"
   },
   {
    "duration": 3,
    "start_time": "2021-07-07T14:39:21.214Z"
   },
   {
    "duration": 7,
    "start_time": "2021-07-07T14:39:52.406Z"
   },
   {
    "duration": 11,
    "start_time": "2021-07-07T14:39:58.576Z"
   },
   {
    "duration": 9,
    "start_time": "2021-07-07T14:40:26.301Z"
   },
   {
    "duration": 10,
    "start_time": "2021-07-07T14:40:31.704Z"
   },
   {
    "duration": 11,
    "start_time": "2021-07-07T14:40:36.249Z"
   },
   {
    "duration": 10,
    "start_time": "2021-07-07T14:40:39.783Z"
   },
   {
    "duration": 9,
    "start_time": "2021-07-07T14:40:48.558Z"
   },
   {
    "duration": 10,
    "start_time": "2021-07-07T14:40:57.143Z"
   },
   {
    "duration": 9,
    "start_time": "2021-07-07T14:41:06.074Z"
   },
   {
    "duration": 4324,
    "start_time": "2021-07-07T14:41:22.004Z"
   },
   {
    "duration": 11,
    "start_time": "2021-07-07T14:41:33.392Z"
   },
   {
    "duration": 9,
    "start_time": "2021-07-07T14:41:39.288Z"
   },
   {
    "duration": 569,
    "start_time": "2021-07-07T14:42:14.387Z"
   },
   {
    "duration": 197,
    "start_time": "2021-07-07T14:42:14.959Z"
   },
   {
    "duration": 84,
    "start_time": "2021-07-07T14:42:16.052Z"
   },
   {
    "duration": 4,
    "start_time": "2021-07-07T14:42:16.900Z"
   },
   {
    "duration": 27,
    "start_time": "2021-07-07T14:42:19.898Z"
   },
   {
    "duration": 12,
    "start_time": "2021-07-07T14:42:21.577Z"
   },
   {
    "duration": 9,
    "start_time": "2021-07-07T14:42:21.813Z"
   },
   {
    "duration": 9,
    "start_time": "2021-07-07T14:42:22.569Z"
   },
   {
    "duration": 29,
    "start_time": "2021-07-07T14:42:25.837Z"
   },
   {
    "duration": 20,
    "start_time": "2021-07-07T14:42:27.003Z"
   },
   {
    "duration": 21,
    "start_time": "2021-07-07T14:42:28.767Z"
   },
   {
    "duration": 7,
    "start_time": "2021-07-07T14:42:29.838Z"
   },
   {
    "duration": 4,
    "start_time": "2021-07-07T14:43:25.493Z"
   },
   {
    "duration": 7,
    "start_time": "2021-07-07T14:43:26.573Z"
   },
   {
    "duration": 10,
    "start_time": "2021-07-07T14:43:31.639Z"
   },
   {
    "duration": 9,
    "start_time": "2021-07-07T14:43:32.046Z"
   },
   {
    "duration": 10,
    "start_time": "2021-07-07T14:43:33.301Z"
   },
   {
    "duration": 12,
    "start_time": "2021-07-07T14:43:33.658Z"
   },
   {
    "duration": 8,
    "start_time": "2021-07-07T14:43:34.552Z"
   },
   {
    "duration": 9,
    "start_time": "2021-07-07T14:43:35.058Z"
   },
   {
    "duration": 12,
    "start_time": "2021-07-07T14:43:35.914Z"
   },
   {
    "duration": 17,
    "start_time": "2021-07-07T14:45:34.368Z"
   },
   {
    "duration": 512,
    "start_time": "2021-07-07T14:51:58.236Z"
   },
   {
    "duration": 223,
    "start_time": "2021-07-07T14:51:58.750Z"
   },
   {
    "duration": 93,
    "start_time": "2021-07-07T14:51:58.977Z"
   },
   {
    "duration": 4,
    "start_time": "2021-07-07T14:51:59.071Z"
   },
   {
    "duration": 37,
    "start_time": "2021-07-07T14:51:59.077Z"
   },
   {
    "duration": 18,
    "start_time": "2021-07-07T14:51:59.116Z"
   },
   {
    "duration": 10,
    "start_time": "2021-07-07T14:51:59.137Z"
   },
   {
    "duration": 8,
    "start_time": "2021-07-07T14:51:59.149Z"
   },
   {
    "duration": 54,
    "start_time": "2021-07-07T14:51:59.158Z"
   },
   {
    "duration": 18,
    "start_time": "2021-07-07T14:51:59.213Z"
   },
   {
    "duration": 22,
    "start_time": "2021-07-07T14:51:59.232Z"
   },
   {
    "duration": 36,
    "start_time": "2021-07-07T14:51:59.255Z"
   },
   {
    "duration": 7,
    "start_time": "2021-07-07T14:51:59.293Z"
   },
   {
    "duration": 10,
    "start_time": "2021-07-07T14:51:59.302Z"
   },
   {
    "duration": 9,
    "start_time": "2021-07-07T14:51:59.313Z"
   },
   {
    "duration": 11,
    "start_time": "2021-07-07T14:51:59.324Z"
   },
   {
    "duration": 8,
    "start_time": "2021-07-07T14:51:59.337Z"
   },
   {
    "duration": 46,
    "start_time": "2021-07-07T14:51:59.347Z"
   },
   {
    "duration": 22,
    "start_time": "2021-07-07T14:51:59.395Z"
   },
   {
    "duration": 24,
    "start_time": "2021-07-07T14:57:32.911Z"
   },
   {
    "duration": 7,
    "start_time": "2021-07-07T14:58:22.070Z"
   },
   {
    "duration": 4,
    "start_time": "2021-07-07T14:59:11.239Z"
   },
   {
    "duration": 25,
    "start_time": "2021-07-07T15:07:22.208Z"
   },
   {
    "duration": 16,
    "start_time": "2021-07-07T15:08:25.560Z"
   },
   {
    "duration": 15,
    "start_time": "2021-07-07T15:08:40.647Z"
   },
   {
    "duration": 14,
    "start_time": "2021-07-07T15:08:46.669Z"
   },
   {
    "duration": 533,
    "start_time": "2021-07-07T15:18:07.440Z"
   },
   {
    "duration": 173,
    "start_time": "2021-07-07T15:18:07.974Z"
   },
   {
    "duration": 84,
    "start_time": "2021-07-07T15:18:08.149Z"
   },
   {
    "duration": 3,
    "start_time": "2021-07-07T15:18:08.235Z"
   },
   {
    "duration": 30,
    "start_time": "2021-07-07T15:18:08.240Z"
   },
   {
    "duration": 22,
    "start_time": "2021-07-07T15:18:08.272Z"
   },
   {
    "duration": 11,
    "start_time": "2021-07-07T15:18:08.295Z"
   },
   {
    "duration": 11,
    "start_time": "2021-07-07T15:18:08.309Z"
   },
   {
    "duration": 40,
    "start_time": "2021-07-07T15:18:08.322Z"
   },
   {
    "duration": 42,
    "start_time": "2021-07-07T15:18:08.364Z"
   },
   {
    "duration": 22,
    "start_time": "2021-07-07T15:18:08.408Z"
   },
   {
    "duration": 5,
    "start_time": "2021-07-07T15:18:08.432Z"
   },
   {
    "duration": 13,
    "start_time": "2021-07-07T15:18:08.439Z"
   },
   {
    "duration": 9,
    "start_time": "2021-07-07T15:18:08.454Z"
   },
   {
    "duration": 32,
    "start_time": "2021-07-07T15:18:08.465Z"
   },
   {
    "duration": 10,
    "start_time": "2021-07-07T15:18:08.501Z"
   },
   {
    "duration": 7,
    "start_time": "2021-07-07T15:18:08.513Z"
   },
   {
    "duration": 11,
    "start_time": "2021-07-07T15:18:08.521Z"
   },
   {
    "duration": 17,
    "start_time": "2021-07-07T15:18:08.534Z"
   },
   {
    "duration": 44,
    "start_time": "2021-07-07T15:18:08.553Z"
   },
   {
    "duration": 22,
    "start_time": "2021-07-07T15:18:08.599Z"
   },
   {
    "duration": 61,
    "start_time": "2021-07-07T15:18:08.622Z"
   },
   {
    "duration": 7,
    "start_time": "2021-07-07T15:18:39.457Z"
   },
   {
    "duration": 5,
    "start_time": "2021-07-07T16:05:17.020Z"
   },
   {
    "duration": 5,
    "start_time": "2021-07-07T16:51:28.794Z"
   },
   {
    "duration": 546,
    "start_time": "2021-07-07T16:52:26.306Z"
   },
   {
    "duration": 203,
    "start_time": "2021-07-07T16:52:27.523Z"
   },
   {
    "duration": 85,
    "start_time": "2021-07-07T16:52:27.736Z"
   },
   {
    "duration": 4,
    "start_time": "2021-07-07T16:52:27.899Z"
   },
   {
    "duration": 25,
    "start_time": "2021-07-07T16:52:28.674Z"
   },
   {
    "duration": 8,
    "start_time": "2021-07-07T16:52:32.956Z"
   },
   {
    "duration": 18,
    "start_time": "2021-07-07T16:52:35.616Z"
   },
   {
    "duration": 6,
    "start_time": "2021-07-07T16:52:36.913Z"
   },
   {
    "duration": 11,
    "start_time": "2021-07-07T16:52:40.258Z"
   },
   {
    "duration": 10,
    "start_time": "2021-07-07T16:52:46.251Z"
   },
   {
    "duration": 8,
    "start_time": "2021-07-07T16:52:47.182Z"
   },
   {
    "duration": 27,
    "start_time": "2021-07-07T16:53:20.391Z"
   },
   {
    "duration": 20,
    "start_time": "2021-07-07T16:53:22.022Z"
   },
   {
    "duration": 23,
    "start_time": "2021-07-07T16:53:23.690Z"
   },
   {
    "duration": 8,
    "start_time": "2021-07-07T16:53:24.261Z"
   },
   {
    "duration": 4,
    "start_time": "2021-07-07T16:53:38.733Z"
   },
   {
    "duration": 7,
    "start_time": "2021-07-07T16:53:40.445Z"
   },
   {
    "duration": 11,
    "start_time": "2021-07-07T16:53:41.348Z"
   },
   {
    "duration": 13,
    "start_time": "2021-07-07T16:53:45.250Z"
   },
   {
    "duration": 12,
    "start_time": "2021-07-07T16:53:45.467Z"
   },
   {
    "duration": 4,
    "start_time": "2021-07-07T16:55:32.704Z"
   },
   {
    "duration": 12,
    "start_time": "2021-07-07T16:55:49.012Z"
   },
   {
    "duration": 18,
    "start_time": "2021-07-07T16:55:49.547Z"
   },
   {
    "duration": 611,
    "start_time": "2021-07-07T16:58:35.156Z"
   },
   {
    "duration": 200,
    "start_time": "2021-07-07T16:58:35.770Z"
   },
   {
    "duration": 86,
    "start_time": "2021-07-07T16:58:35.972Z"
   },
   {
    "duration": 3,
    "start_time": "2021-07-07T16:58:36.060Z"
   },
   {
    "duration": 27,
    "start_time": "2021-07-07T16:58:36.065Z"
   },
   {
    "duration": 8,
    "start_time": "2021-07-07T16:58:36.094Z"
   },
   {
    "duration": 17,
    "start_time": "2021-07-07T16:58:36.103Z"
   },
   {
    "duration": 5,
    "start_time": "2021-07-07T16:58:36.123Z"
   },
   {
    "duration": 11,
    "start_time": "2021-07-07T16:58:36.130Z"
   },
   {
    "duration": 7,
    "start_time": "2021-07-07T16:58:36.143Z"
   },
   {
    "duration": 37,
    "start_time": "2021-07-07T16:58:36.152Z"
   },
   {
    "duration": 27,
    "start_time": "2021-07-07T16:58:36.191Z"
   },
   {
    "duration": 19,
    "start_time": "2021-07-07T16:58:36.219Z"
   },
   {
    "duration": 49,
    "start_time": "2021-07-07T16:58:36.240Z"
   },
   {
    "duration": 6,
    "start_time": "2021-07-07T16:58:36.291Z"
   },
   {
    "duration": 3,
    "start_time": "2021-07-07T16:58:36.299Z"
   },
   {
    "duration": 13,
    "start_time": "2021-07-07T16:58:36.304Z"
   },
   {
    "duration": 10,
    "start_time": "2021-07-07T16:58:36.319Z"
   },
   {
    "duration": 10,
    "start_time": "2021-07-07T16:58:36.331Z"
   },
   {
    "duration": 44,
    "start_time": "2021-07-07T16:58:36.343Z"
   },
   {
    "duration": 4,
    "start_time": "2021-07-07T16:58:36.388Z"
   },
   {
    "duration": 13,
    "start_time": "2021-07-07T16:58:36.394Z"
   },
   {
    "duration": 16,
    "start_time": "2021-07-07T16:58:36.410Z"
   },
   {
    "duration": 8,
    "start_time": "2021-07-07T17:02:31.629Z"
   },
   {
    "duration": 8,
    "start_time": "2021-07-07T17:02:34.308Z"
   },
   {
    "duration": 6,
    "start_time": "2021-07-07T17:05:13.483Z"
   },
   {
    "duration": 17,
    "start_time": "2021-07-07T17:05:20.606Z"
   },
   {
    "duration": 7,
    "start_time": "2021-07-07T17:05:34.638Z"
   },
   {
    "duration": 3,
    "start_time": "2021-07-07T17:06:31.883Z"
   },
   {
    "duration": 570,
    "start_time": "2021-07-07T17:06:37.165Z"
   },
   {
    "duration": 174,
    "start_time": "2021-07-07T17:06:37.737Z"
   },
   {
    "duration": 47,
    "start_time": "2021-07-07T17:06:37.913Z"
   },
   {
    "duration": 3,
    "start_time": "2021-07-07T17:06:37.962Z"
   },
   {
    "duration": 27,
    "start_time": "2021-07-07T17:06:37.967Z"
   },
   {
    "duration": 7,
    "start_time": "2021-07-07T17:06:37.996Z"
   },
   {
    "duration": 16,
    "start_time": "2021-07-07T17:06:38.005Z"
   },
   {
    "duration": 6,
    "start_time": "2021-07-07T17:06:38.024Z"
   },
   {
    "duration": 12,
    "start_time": "2021-07-07T17:06:38.031Z"
   },
   {
    "duration": 41,
    "start_time": "2021-07-07T17:06:38.045Z"
   },
   {
    "duration": 8,
    "start_time": "2021-07-07T17:06:38.088Z"
   },
   {
    "duration": 26,
    "start_time": "2021-07-07T17:06:38.098Z"
   },
   {
    "duration": 17,
    "start_time": "2021-07-07T17:06:38.126Z"
   },
   {
    "duration": 43,
    "start_time": "2021-07-07T17:06:38.144Z"
   },
   {
    "duration": 6,
    "start_time": "2021-07-07T17:06:38.188Z"
   },
   {
    "duration": 5,
    "start_time": "2021-07-07T17:06:38.195Z"
   },
   {
    "duration": 9,
    "start_time": "2021-07-07T17:06:38.201Z"
   },
   {
    "duration": 12,
    "start_time": "2021-07-07T17:06:38.212Z"
   },
   {
    "duration": 11,
    "start_time": "2021-07-07T17:06:38.226Z"
   },
   {
    "duration": 47,
    "start_time": "2021-07-07T17:06:38.239Z"
   },
   {
    "duration": 4,
    "start_time": "2021-07-07T17:06:38.288Z"
   },
   {
    "duration": 13,
    "start_time": "2021-07-07T17:06:38.293Z"
   },
   {
    "duration": 5,
    "start_time": "2021-07-07T17:06:38.309Z"
   },
   {
    "duration": 18,
    "start_time": "2021-07-07T17:06:38.325Z"
   },
   {
    "duration": 20,
    "start_time": "2021-07-07T17:07:02.805Z"
   },
   {
    "duration": 19,
    "start_time": "2021-07-07T17:07:08.527Z"
   },
   {
    "duration": 19,
    "start_time": "2021-07-07T17:07:12.758Z"
   },
   {
    "duration": 22,
    "start_time": "2021-07-07T17:07:17.497Z"
   },
   {
    "duration": 19,
    "start_time": "2021-07-07T17:07:19.645Z"
   },
   {
    "duration": 10,
    "start_time": "2021-07-07T17:07:34.239Z"
   },
   {
    "duration": 17,
    "start_time": "2021-07-07T17:07:54.144Z"
   },
   {
    "duration": 14,
    "start_time": "2021-07-07T17:08:14.357Z"
   },
   {
    "duration": 616,
    "start_time": "2021-07-07T17:08:45.254Z"
   },
   {
    "duration": 178,
    "start_time": "2021-07-07T17:08:45.872Z"
   },
   {
    "duration": 60,
    "start_time": "2021-07-07T17:08:46.054Z"
   },
   {
    "duration": 3,
    "start_time": "2021-07-07T17:08:46.116Z"
   },
   {
    "duration": 26,
    "start_time": "2021-07-07T17:08:46.121Z"
   },
   {
    "duration": 7,
    "start_time": "2021-07-07T17:08:46.149Z"
   },
   {
    "duration": 17,
    "start_time": "2021-07-07T17:08:46.158Z"
   },
   {
    "duration": 14,
    "start_time": "2021-07-07T17:08:46.176Z"
   },
   {
    "duration": 17,
    "start_time": "2021-07-07T17:08:46.193Z"
   },
   {
    "duration": 9,
    "start_time": "2021-07-07T17:08:46.211Z"
   },
   {
    "duration": 21,
    "start_time": "2021-07-07T17:08:46.221Z"
   },
   {
    "duration": 49,
    "start_time": "2021-07-07T17:08:46.244Z"
   },
   {
    "duration": 24,
    "start_time": "2021-07-07T17:08:46.295Z"
   },
   {
    "duration": 22,
    "start_time": "2021-07-07T17:08:46.321Z"
   },
   {
    "duration": 6,
    "start_time": "2021-07-07T17:08:46.345Z"
   },
   {
    "duration": 5,
    "start_time": "2021-07-07T17:08:46.353Z"
   },
   {
    "duration": 13,
    "start_time": "2021-07-07T17:08:46.386Z"
   },
   {
    "duration": 12,
    "start_time": "2021-07-07T17:08:46.402Z"
   },
   {
    "duration": 10,
    "start_time": "2021-07-07T17:08:46.415Z"
   },
   {
    "duration": 7,
    "start_time": "2021-07-07T17:08:46.427Z"
   },
   {
    "duration": 8,
    "start_time": "2021-07-07T17:08:46.435Z"
   },
   {
    "duration": 68,
    "start_time": "2021-07-07T17:08:46.446Z"
   },
   {
    "duration": 13,
    "start_time": "2021-07-07T17:08:46.516Z"
   },
   {
    "duration": 78,
    "start_time": "2021-07-07T17:08:46.530Z"
   },
   {
    "duration": 40,
    "start_time": "2021-07-07T17:09:08.185Z"
   },
   {
    "duration": 16,
    "start_time": "2021-07-07T17:09:19.324Z"
   },
   {
    "duration": 21,
    "start_time": "2021-07-07T17:09:23.290Z"
   },
   {
    "duration": 13,
    "start_time": "2021-07-07T17:09:54.812Z"
   },
   {
    "duration": 13,
    "start_time": "2021-07-07T17:10:02.039Z"
   },
   {
    "duration": 10,
    "start_time": "2021-07-07T17:10:29.632Z"
   },
   {
    "duration": 13,
    "start_time": "2021-07-07T17:10:52.372Z"
   },
   {
    "duration": 13,
    "start_time": "2021-07-07T17:11:17.270Z"
   },
   {
    "duration": 13,
    "start_time": "2021-07-07T17:14:59.284Z"
   },
   {
    "duration": 547,
    "start_time": "2021-07-07T17:18:52.403Z"
   },
   {
    "duration": 163,
    "start_time": "2021-07-07T17:18:52.952Z"
   },
   {
    "duration": 44,
    "start_time": "2021-07-07T17:18:53.117Z"
   },
   {
    "duration": 3,
    "start_time": "2021-07-07T17:18:53.162Z"
   },
   {
    "duration": 26,
    "start_time": "2021-07-07T17:18:53.167Z"
   },
   {
    "duration": 6,
    "start_time": "2021-07-07T17:18:53.195Z"
   },
   {
    "duration": 15,
    "start_time": "2021-07-07T17:18:53.203Z"
   },
   {
    "duration": 5,
    "start_time": "2021-07-07T17:18:53.220Z"
   },
   {
    "duration": 11,
    "start_time": "2021-07-07T17:18:53.228Z"
   },
   {
    "duration": 9,
    "start_time": "2021-07-07T17:18:53.241Z"
   },
   {
    "duration": 41,
    "start_time": "2021-07-07T17:18:53.252Z"
   },
   {
    "duration": 33,
    "start_time": "2021-07-07T17:18:53.295Z"
   },
   {
    "duration": 19,
    "start_time": "2021-07-07T17:18:53.330Z"
   },
   {
    "duration": 49,
    "start_time": "2021-07-07T17:18:53.350Z"
   },
   {
    "duration": 5,
    "start_time": "2021-07-07T17:18:53.401Z"
   },
   {
    "duration": 5,
    "start_time": "2021-07-07T17:18:53.408Z"
   },
   {
    "duration": 11,
    "start_time": "2021-07-07T17:18:53.414Z"
   },
   {
    "duration": 9,
    "start_time": "2021-07-07T17:18:53.427Z"
   },
   {
    "duration": 10,
    "start_time": "2021-07-07T17:18:53.437Z"
   },
   {
    "duration": 39,
    "start_time": "2021-07-07T17:18:53.448Z"
   },
   {
    "duration": 26,
    "start_time": "2021-07-07T17:18:55.799Z"
   },
   {
    "duration": 598,
    "start_time": "2021-07-07T17:20:17.862Z"
   },
   {
    "duration": 161,
    "start_time": "2021-07-07T17:20:18.462Z"
   },
   {
    "duration": 45,
    "start_time": "2021-07-07T17:20:18.626Z"
   },
   {
    "duration": 4,
    "start_time": "2021-07-07T17:20:18.673Z"
   },
   {
    "duration": 38,
    "start_time": "2021-07-07T17:20:26.877Z"
   },
   {
    "duration": 7,
    "start_time": "2021-07-07T17:20:37.405Z"
   },
   {
    "duration": 19,
    "start_time": "2021-07-07T17:20:51.534Z"
   },
   {
    "duration": 5,
    "start_time": "2021-07-07T17:20:57.228Z"
   },
   {
    "duration": 7,
    "start_time": "2021-07-07T17:21:08.235Z"
   },
   {
    "duration": 19,
    "start_time": "2021-07-07T17:21:42.158Z"
   },
   {
    "duration": 14,
    "start_time": "2021-07-07T17:21:50.225Z"
   },
   {
    "duration": 22,
    "start_time": "2021-07-07T17:22:54.104Z"
   },
   {
    "duration": 5,
    "start_time": "2021-07-07T17:22:56.371Z"
   },
   {
    "duration": 14,
    "start_time": "2021-07-07T17:22:58.316Z"
   },
   {
    "duration": 5,
    "start_time": "2021-07-07T17:22:58.493Z"
   },
   {
    "duration": 35,
    "start_time": "2021-07-07T17:22:59.666Z"
   },
   {
    "duration": 6,
    "start_time": "2021-07-07T17:23:02.410Z"
   },
   {
    "duration": 611,
    "start_time": "2021-07-07T17:24:59.664Z"
   },
   {
    "duration": 178,
    "start_time": "2021-07-07T17:25:01.945Z"
   },
   {
    "duration": 47,
    "start_time": "2021-07-07T17:25:02.125Z"
   },
   {
    "duration": 2,
    "start_time": "2021-07-07T17:25:07.903Z"
   },
   {
    "duration": 254,
    "start_time": "2021-07-07T17:25:08.232Z"
   },
   {
    "duration": 182,
    "start_time": "2021-07-07T17:25:08.671Z"
   },
   {
    "duration": 6,
    "start_time": "2021-07-07T17:25:13.104Z"
   },
   {
    "duration": 36,
    "start_time": "2021-07-07T17:25:13.662Z"
   },
   {
    "duration": 7,
    "start_time": "2021-07-07T17:25:14.528Z"
   },
   {
    "duration": 24,
    "start_time": "2021-07-07T17:25:27.982Z"
   },
   {
    "duration": 3,
    "start_time": "2021-07-07T17:25:48.982Z"
   },
   {
    "duration": 165,
    "start_time": "2021-07-07T17:25:48.987Z"
   },
   {
    "duration": 50,
    "start_time": "2021-07-07T17:25:49.154Z"
   },
   {
    "duration": 4,
    "start_time": "2021-07-07T17:25:49.206Z"
   },
   {
    "duration": 26,
    "start_time": "2021-07-07T17:25:49.212Z"
   },
   {
    "duration": 7,
    "start_time": "2021-07-07T17:25:49.240Z"
   },
   {
    "duration": 16,
    "start_time": "2021-07-07T17:25:49.249Z"
   },
   {
    "duration": 22,
    "start_time": "2021-07-07T17:25:49.266Z"
   },
   {
    "duration": 16,
    "start_time": "2021-07-07T17:25:49.291Z"
   },
   {
    "duration": 9,
    "start_time": "2021-07-07T17:25:49.309Z"
   },
   {
    "duration": 7,
    "start_time": "2021-07-07T17:25:49.319Z"
   },
   {
    "duration": 28,
    "start_time": "2021-07-07T17:25:49.328Z"
   },
   {
    "duration": 44,
    "start_time": "2021-07-07T17:25:49.357Z"
   },
   {
    "duration": 22,
    "start_time": "2021-07-07T17:25:49.403Z"
   },
   {
    "duration": 7,
    "start_time": "2021-07-07T17:25:49.427Z"
   },
   {
    "duration": 3,
    "start_time": "2021-07-07T17:25:49.436Z"
   },
   {
    "duration": 44,
    "start_time": "2021-07-07T17:25:49.441Z"
   },
   {
    "duration": 12,
    "start_time": "2021-07-07T17:25:49.488Z"
   },
   {
    "duration": 13,
    "start_time": "2021-07-07T17:25:49.502Z"
   },
   {
    "duration": 10,
    "start_time": "2021-07-07T17:25:49.516Z"
   },
   {
    "duration": 62,
    "start_time": "2021-07-07T17:25:49.527Z"
   },
   {
    "duration": 26,
    "start_time": "2021-07-07T17:26:51.809Z"
   },
   {
    "duration": 26,
    "start_time": "2021-07-07T17:26:55.759Z"
   },
   {
    "duration": 26,
    "start_time": "2021-07-07T17:27:04.501Z"
   },
   {
    "duration": 25,
    "start_time": "2021-07-07T17:28:24.859Z"
   },
   {
    "duration": 21,
    "start_time": "2021-07-07T17:28:55.250Z"
   },
   {
    "duration": 21,
    "start_time": "2021-07-07T17:28:58.885Z"
   },
   {
    "duration": 7,
    "start_time": "2021-07-07T17:45:40.972Z"
   },
   {
    "duration": 13,
    "start_time": "2021-07-07T17:45:42.529Z"
   },
   {
    "duration": 27,
    "start_time": "2021-07-07T17:45:51.026Z"
   },
   {
    "duration": 518,
    "start_time": "2021-07-07T17:46:15.532Z"
   },
   {
    "duration": 235,
    "start_time": "2021-07-07T17:46:16.053Z"
   },
   {
    "duration": 80,
    "start_time": "2021-07-07T17:46:16.292Z"
   },
   {
    "duration": 5,
    "start_time": "2021-07-07T17:46:16.373Z"
   },
   {
    "duration": 26,
    "start_time": "2021-07-07T17:46:16.380Z"
   },
   {
    "duration": 7,
    "start_time": "2021-07-07T17:46:16.408Z"
   },
   {
    "duration": 16,
    "start_time": "2021-07-07T17:46:16.418Z"
   },
   {
    "duration": 5,
    "start_time": "2021-07-07T17:46:16.436Z"
   },
   {
    "duration": 13,
    "start_time": "2021-07-07T17:46:16.442Z"
   },
   {
    "duration": 35,
    "start_time": "2021-07-07T17:46:16.456Z"
   },
   {
    "duration": 8,
    "start_time": "2021-07-07T17:46:16.493Z"
   },
   {
    "duration": 28,
    "start_time": "2021-07-07T17:46:16.502Z"
   },
   {
    "duration": 17,
    "start_time": "2021-07-07T17:46:16.532Z"
   },
   {
    "duration": 44,
    "start_time": "2021-07-07T17:46:16.551Z"
   },
   {
    "duration": 6,
    "start_time": "2021-07-07T17:46:16.597Z"
   },
   {
    "duration": 4,
    "start_time": "2021-07-07T17:46:16.605Z"
   },
   {
    "duration": 9,
    "start_time": "2021-07-07T17:46:16.610Z"
   },
   {
    "duration": 9,
    "start_time": "2021-07-07T17:46:16.621Z"
   },
   {
    "duration": 10,
    "start_time": "2021-07-07T17:46:16.632Z"
   },
   {
    "duration": 43,
    "start_time": "2021-07-07T17:46:16.644Z"
   },
   {
    "duration": 26,
    "start_time": "2021-07-07T17:46:16.689Z"
   },
   {
    "duration": 19,
    "start_time": "2021-07-07T17:46:16.718Z"
   },
   {
    "duration": 8,
    "start_time": "2021-07-07T17:46:16.738Z"
   },
   {
    "duration": 43,
    "start_time": "2021-07-07T17:46:16.747Z"
   },
   {
    "duration": 19,
    "start_time": "2021-07-07T17:46:16.791Z"
   },
   {
    "duration": 9,
    "start_time": "2021-07-07T17:46:16.812Z"
   },
   {
    "duration": 60,
    "start_time": "2021-07-07T17:46:16.822Z"
   },
   {
    "duration": -8,
    "start_time": "2021-07-07T17:46:16.892Z"
   },
   {
    "duration": 12,
    "start_time": "2021-07-07T17:48:47.707Z"
   },
   {
    "duration": 553,
    "start_time": "2021-07-07T18:10:09.350Z"
   },
   {
    "duration": 230,
    "start_time": "2021-07-07T18:10:09.905Z"
   },
   {
    "duration": 97,
    "start_time": "2021-07-07T18:10:10.137Z"
   },
   {
    "duration": 5,
    "start_time": "2021-07-07T18:10:10.236Z"
   },
   {
    "duration": 29,
    "start_time": "2021-07-07T18:10:10.242Z"
   },
   {
    "duration": 7,
    "start_time": "2021-07-07T18:10:10.272Z"
   },
   {
    "duration": 15,
    "start_time": "2021-07-07T18:10:10.281Z"
   },
   {
    "duration": 4,
    "start_time": "2021-07-07T18:10:10.299Z"
   },
   {
    "duration": 14,
    "start_time": "2021-07-07T18:10:10.305Z"
   },
   {
    "duration": 8,
    "start_time": "2021-07-07T18:10:10.321Z"
   },
   {
    "duration": 8,
    "start_time": "2021-07-07T18:10:10.331Z"
   },
   {
    "duration": 56,
    "start_time": "2021-07-07T18:10:10.341Z"
   },
   {
    "duration": 19,
    "start_time": "2021-07-07T18:10:10.399Z"
   },
   {
    "duration": 23,
    "start_time": "2021-07-07T18:10:10.419Z"
   },
   {
    "duration": 6,
    "start_time": "2021-07-07T18:10:10.444Z"
   },
   {
    "duration": 9,
    "start_time": "2021-07-07T18:10:10.451Z"
   },
   {
    "duration": 30,
    "start_time": "2021-07-07T18:10:10.462Z"
   },
   {
    "duration": 9,
    "start_time": "2021-07-07T18:10:10.494Z"
   },
   {
    "duration": 14,
    "start_time": "2021-07-07T18:10:10.505Z"
   },
   {
    "duration": 7,
    "start_time": "2021-07-07T18:10:10.521Z"
   },
   {
    "duration": 26,
    "start_time": "2021-07-07T18:10:10.530Z"
   },
   {
    "duration": 44,
    "start_time": "2021-07-07T18:10:10.558Z"
   },
   {
    "duration": 7,
    "start_time": "2021-07-07T18:10:10.605Z"
   },
   {
    "duration": 11,
    "start_time": "2021-07-07T18:10:10.614Z"
   },
   {
    "duration": 19,
    "start_time": "2021-07-07T18:10:10.626Z"
   },
   {
    "duration": 44,
    "start_time": "2021-07-07T18:10:10.646Z"
   },
   {
    "duration": 516,
    "start_time": "2021-07-07T18:14:00.826Z"
   },
   {
    "duration": 230,
    "start_time": "2021-07-07T18:14:01.344Z"
   },
   {
    "duration": 105,
    "start_time": "2021-07-07T18:14:01.576Z"
   },
   {
    "duration": 5,
    "start_time": "2021-07-07T18:14:01.683Z"
   },
   {
    "duration": 46,
    "start_time": "2021-07-07T18:14:01.690Z"
   },
   {
    "duration": 7,
    "start_time": "2021-07-07T18:14:01.738Z"
   },
   {
    "duration": 20,
    "start_time": "2021-07-07T18:14:01.747Z"
   },
   {
    "duration": 16,
    "start_time": "2021-07-07T18:14:01.769Z"
   },
   {
    "duration": 14,
    "start_time": "2021-07-07T18:14:01.787Z"
   },
   {
    "duration": 15,
    "start_time": "2021-07-07T18:14:01.803Z"
   },
   {
    "duration": 12,
    "start_time": "2021-07-07T18:14:01.820Z"
   },
   {
    "duration": 35,
    "start_time": "2021-07-07T18:14:01.833Z"
   },
   {
    "duration": 31,
    "start_time": "2021-07-07T18:14:01.869Z"
   },
   {
    "duration": 37,
    "start_time": "2021-07-07T18:14:01.902Z"
   },
   {
    "duration": 8,
    "start_time": "2021-07-07T18:14:01.942Z"
   },
   {
    "duration": 16,
    "start_time": "2021-07-07T18:14:01.952Z"
   },
   {
    "duration": 13,
    "start_time": "2021-07-07T18:14:01.970Z"
   },
   {
    "duration": 32,
    "start_time": "2021-07-07T18:14:01.985Z"
   },
   {
    "duration": 11,
    "start_time": "2021-07-07T18:14:02.019Z"
   },
   {
    "duration": 22,
    "start_time": "2021-07-07T18:14:02.031Z"
   },
   {
    "duration": 27,
    "start_time": "2021-07-07T18:14:02.055Z"
   },
   {
    "duration": 18,
    "start_time": "2021-07-07T18:14:02.084Z"
   },
   {
    "duration": 18,
    "start_time": "2021-07-07T18:14:02.106Z"
   },
   {
    "duration": 11,
    "start_time": "2021-07-07T18:14:02.126Z"
   },
   {
    "duration": 21,
    "start_time": "2021-07-07T18:14:02.138Z"
   },
   {
    "duration": 32,
    "start_time": "2021-07-07T18:14:02.161Z"
   },
   {
    "duration": 28,
    "start_time": "2021-07-07T18:14:44.295Z"
   },
   {
    "duration": 6,
    "start_time": "2021-07-07T18:15:05.834Z"
   },
   {
    "duration": 511,
    "start_time": "2021-07-07T18:15:41.541Z"
   },
   {
    "duration": 183,
    "start_time": "2021-07-07T18:15:42.054Z"
   },
   {
    "duration": 50,
    "start_time": "2021-07-07T18:15:42.239Z"
   },
   {
    "duration": 5,
    "start_time": "2021-07-07T18:15:42.291Z"
   },
   {
    "duration": 48,
    "start_time": "2021-07-07T18:15:42.297Z"
   },
   {
    "duration": 8,
    "start_time": "2021-07-07T18:15:42.346Z"
   },
   {
    "duration": 17,
    "start_time": "2021-07-07T18:15:42.356Z"
   },
   {
    "duration": 15,
    "start_time": "2021-07-07T18:15:42.375Z"
   },
   {
    "duration": 12,
    "start_time": "2021-07-07T18:15:42.392Z"
   },
   {
    "duration": 7,
    "start_time": "2021-07-07T18:15:42.406Z"
   },
   {
    "duration": 7,
    "start_time": "2021-07-07T18:15:42.415Z"
   },
   {
    "duration": 29,
    "start_time": "2021-07-07T18:15:42.423Z"
   },
   {
    "duration": 43,
    "start_time": "2021-07-07T18:15:42.453Z"
   },
   {
    "duration": 18,
    "start_time": "2021-07-07T18:15:42.497Z"
   },
   {
    "duration": 6,
    "start_time": "2021-07-07T18:15:42.516Z"
   },
   {
    "duration": 3,
    "start_time": "2021-07-07T18:15:42.523Z"
   },
   {
    "duration": 18,
    "start_time": "2021-07-07T18:15:42.528Z"
   },
   {
    "duration": 10,
    "start_time": "2021-07-07T18:15:42.547Z"
   },
   {
    "duration": 36,
    "start_time": "2021-07-07T18:15:42.559Z"
   },
   {
    "duration": 8,
    "start_time": "2021-07-07T18:15:42.597Z"
   },
   {
    "duration": 28,
    "start_time": "2021-07-07T18:15:42.606Z"
   },
   {
    "duration": 52,
    "start_time": "2021-07-07T18:15:42.635Z"
   },
   {
    "duration": 7,
    "start_time": "2021-07-07T18:15:42.690Z"
   },
   {
    "duration": 10,
    "start_time": "2021-07-07T18:15:42.699Z"
   },
   {
    "duration": 19,
    "start_time": "2021-07-07T18:15:42.711Z"
   },
   {
    "duration": 9,
    "start_time": "2021-07-07T18:15:42.732Z"
   },
   {
    "duration": 5,
    "start_time": "2021-07-07T18:15:42.743Z"
   },
   {
    "duration": 1450,
    "start_time": "2021-07-07T18:15:51.984Z"
   },
   {
    "duration": 161,
    "start_time": "2021-07-07T18:15:53.435Z"
   },
   {
    "duration": 124,
    "start_time": "2021-07-07T18:15:53.598Z"
   },
   {
    "duration": 5,
    "start_time": "2021-07-07T18:15:53.724Z"
   },
   {
    "duration": 34,
    "start_time": "2021-07-07T18:15:53.730Z"
   },
   {
    "duration": 7,
    "start_time": "2021-07-07T18:15:53.765Z"
   },
   {
    "duration": 15,
    "start_time": "2021-07-07T18:15:53.773Z"
   },
   {
    "duration": 5,
    "start_time": "2021-07-07T18:15:53.791Z"
   },
   {
    "duration": 19,
    "start_time": "2021-07-07T18:15:53.798Z"
   },
   {
    "duration": 9,
    "start_time": "2021-07-07T18:15:53.818Z"
   },
   {
    "duration": 19,
    "start_time": "2021-07-07T18:15:53.828Z"
   },
   {
    "duration": 27,
    "start_time": "2021-07-07T18:15:53.848Z"
   },
   {
    "duration": 16,
    "start_time": "2021-07-07T18:15:53.884Z"
   },
   {
    "duration": 29,
    "start_time": "2021-07-07T18:15:53.901Z"
   },
   {
    "duration": 5,
    "start_time": "2021-07-07T18:15:53.932Z"
   },
   {
    "duration": 15,
    "start_time": "2021-07-07T18:15:53.939Z"
   },
   {
    "duration": 13,
    "start_time": "2021-07-07T18:15:53.956Z"
   },
   {
    "duration": 20,
    "start_time": "2021-07-07T18:15:53.971Z"
   },
   {
    "duration": 14,
    "start_time": "2021-07-07T18:15:53.992Z"
   },
   {
    "duration": 9,
    "start_time": "2021-07-07T18:15:54.009Z"
   },
   {
    "duration": 28,
    "start_time": "2021-07-07T18:15:54.020Z"
   },
   {
    "duration": 50,
    "start_time": "2021-07-07T18:15:54.051Z"
   },
   {
    "duration": 8,
    "start_time": "2021-07-07T18:15:54.105Z"
   },
   {
    "duration": 11,
    "start_time": "2021-07-07T18:15:54.115Z"
   },
   {
    "duration": 20,
    "start_time": "2021-07-07T18:15:54.128Z"
   },
   {
    "duration": 13,
    "start_time": "2021-07-07T18:15:54.184Z"
   },
   {
    "duration": 7,
    "start_time": "2021-07-07T18:15:54.199Z"
   },
   {
    "duration": 7,
    "start_time": "2021-07-07T18:17:08.042Z"
   },
   {
    "duration": 8,
    "start_time": "2021-07-07T18:17:21.008Z"
   },
   {
    "duration": 7,
    "start_time": "2021-07-07T18:17:29.003Z"
   },
   {
    "duration": 8,
    "start_time": "2021-07-07T18:17:32.492Z"
   },
   {
    "duration": 9,
    "start_time": "2021-07-07T18:17:41.758Z"
   },
   {
    "duration": 255,
    "start_time": "2021-07-07T18:20:20.897Z"
   },
   {
    "duration": 173,
    "start_time": "2021-07-07T18:20:26.636Z"
   },
   {
    "duration": 7,
    "start_time": "2021-07-07T18:21:47.164Z"
   },
   {
    "duration": 254,
    "start_time": "2021-07-07T18:23:08.703Z"
   },
   {
    "duration": 21,
    "start_time": "2021-07-07T18:23:22.506Z"
   },
   {
    "duration": 315,
    "start_time": "2021-07-07T18:25:54.801Z"
   },
   {
    "duration": 34,
    "start_time": "2021-07-07T18:26:51.817Z"
   },
   {
    "duration": 327,
    "start_time": "2021-07-07T18:26:56.147Z"
   },
   {
    "duration": 342,
    "start_time": "2021-07-07T18:27:15.887Z"
   },
   {
    "duration": 302,
    "start_time": "2021-07-07T18:28:18.569Z"
   },
   {
    "duration": 226,
    "start_time": "2021-07-07T18:29:20.879Z"
   },
   {
    "duration": 207,
    "start_time": "2021-07-07T18:29:58.114Z"
   },
   {
    "duration": 140,
    "start_time": "2021-07-07T18:32:04.372Z"
   },
   {
    "duration": 158,
    "start_time": "2021-07-07T18:32:32.508Z"
   },
   {
    "duration": 145,
    "start_time": "2021-07-07T18:32:41.365Z"
   },
   {
    "duration": 132,
    "start_time": "2021-07-07T18:32:45.199Z"
   },
   {
    "duration": 11,
    "start_time": "2021-07-07T18:35:24.679Z"
   },
   {
    "duration": 268,
    "start_time": "2021-07-07T18:36:16.145Z"
   },
   {
    "duration": 227,
    "start_time": "2021-07-07T18:37:04.918Z"
   },
   {
    "duration": 3,
    "start_time": "2021-07-07T18:37:33.012Z"
   },
   {
    "duration": 671,
    "start_time": "2021-07-07T18:37:38.295Z"
   },
   {
    "duration": 54,
    "start_time": "2021-07-07T18:37:53.406Z"
   },
   {
    "duration": 631,
    "start_time": "2021-07-07T18:37:56.463Z"
   },
   {
    "duration": 19,
    "start_time": "2021-07-07T18:39:40.535Z"
   },
   {
    "duration": 20,
    "start_time": "2021-07-07T18:40:12.236Z"
   },
   {
    "duration": 633,
    "start_time": "2021-07-07T18:42:00.398Z"
   },
   {
    "duration": 218,
    "start_time": "2021-07-07T18:42:01.033Z"
   },
   {
    "duration": 49,
    "start_time": "2021-07-07T18:42:01.253Z"
   },
   {
    "duration": 5,
    "start_time": "2021-07-07T18:42:01.303Z"
   },
   {
    "duration": 27,
    "start_time": "2021-07-07T18:42:01.310Z"
   },
   {
    "duration": 8,
    "start_time": "2021-07-07T18:42:01.339Z"
   },
   {
    "duration": 20,
    "start_time": "2021-07-07T18:42:01.348Z"
   },
   {
    "duration": 6,
    "start_time": "2021-07-07T18:42:01.386Z"
   },
   {
    "duration": 16,
    "start_time": "2021-07-07T18:42:01.394Z"
   },
   {
    "duration": 9,
    "start_time": "2021-07-07T18:42:01.411Z"
   },
   {
    "duration": 11,
    "start_time": "2021-07-07T18:42:01.421Z"
   },
   {
    "duration": 31,
    "start_time": "2021-07-07T18:42:01.434Z"
   },
   {
    "duration": 18,
    "start_time": "2021-07-07T18:42:01.485Z"
   },
   {
    "duration": 23,
    "start_time": "2021-07-07T18:42:01.505Z"
   },
   {
    "duration": 6,
    "start_time": "2021-07-07T18:42:01.530Z"
   },
   {
    "duration": 10,
    "start_time": "2021-07-07T18:42:01.538Z"
   },
   {
    "duration": 13,
    "start_time": "2021-07-07T18:42:01.550Z"
   },
   {
    "duration": 24,
    "start_time": "2021-07-07T18:42:01.564Z"
   },
   {
    "duration": 20,
    "start_time": "2021-07-07T18:42:01.590Z"
   },
   {
    "duration": 8,
    "start_time": "2021-07-07T18:42:01.611Z"
   },
   {
    "duration": 31,
    "start_time": "2021-07-07T18:42:01.620Z"
   },
   {
    "duration": 39,
    "start_time": "2021-07-07T18:42:01.653Z"
   },
   {
    "duration": 8,
    "start_time": "2021-07-07T18:42:01.696Z"
   },
   {
    "duration": 13,
    "start_time": "2021-07-07T18:42:01.705Z"
   },
   {
    "duration": 20,
    "start_time": "2021-07-07T18:42:01.720Z"
   },
   {
    "duration": 12,
    "start_time": "2021-07-07T18:42:01.741Z"
   },
   {
    "duration": 35,
    "start_time": "2021-07-07T18:42:01.755Z"
   },
   {
    "duration": 14,
    "start_time": "2021-07-07T18:42:01.792Z"
   },
   {
    "duration": 188,
    "start_time": "2021-07-07T18:42:01.808Z"
   },
   {
    "duration": 19,
    "start_time": "2021-07-07T18:42:01.998Z"
   },
   {
    "duration": 175,
    "start_time": "2021-07-07T18:42:02.019Z"
   },
   {
    "duration": 134,
    "start_time": "2021-07-07T18:42:02.196Z"
   },
   {
    "duration": 10,
    "start_time": "2021-07-07T18:42:02.331Z"
   },
   {
    "duration": 19,
    "start_time": "2021-07-07T18:42:02.343Z"
   },
   {
    "duration": 628,
    "start_time": "2021-07-07T18:46:30.701Z"
   },
   {
    "duration": 183,
    "start_time": "2021-07-07T18:46:31.331Z"
   },
   {
    "duration": 48,
    "start_time": "2021-07-07T18:46:31.516Z"
   },
   {
    "duration": 5,
    "start_time": "2021-07-07T18:46:31.566Z"
   },
   {
    "duration": 28,
    "start_time": "2021-07-07T18:46:31.572Z"
   },
   {
    "duration": 8,
    "start_time": "2021-07-07T18:46:31.602Z"
   },
   {
    "duration": 19,
    "start_time": "2021-07-07T18:46:31.611Z"
   },
   {
    "duration": 6,
    "start_time": "2021-07-07T18:46:31.633Z"
   },
   {
    "duration": 17,
    "start_time": "2021-07-07T18:46:31.642Z"
   },
   {
    "duration": 10,
    "start_time": "2021-07-07T18:46:31.684Z"
   },
   {
    "duration": 9,
    "start_time": "2021-07-07T18:46:31.695Z"
   },
   {
    "duration": 28,
    "start_time": "2021-07-07T18:46:31.705Z"
   },
   {
    "duration": 18,
    "start_time": "2021-07-07T18:46:31.735Z"
   },
   {
    "duration": 48,
    "start_time": "2021-07-07T18:46:31.755Z"
   },
   {
    "duration": 6,
    "start_time": "2021-07-07T18:46:31.804Z"
   },
   {
    "duration": 4,
    "start_time": "2021-07-07T18:46:31.812Z"
   },
   {
    "duration": 9,
    "start_time": "2021-07-07T18:46:31.817Z"
   },
   {
    "duration": 10,
    "start_time": "2021-07-07T18:46:31.827Z"
   },
   {
    "duration": 12,
    "start_time": "2021-07-07T18:46:31.838Z"
   },
   {
    "duration": 39,
    "start_time": "2021-07-07T18:46:31.851Z"
   },
   {
    "duration": 24,
    "start_time": "2021-07-07T18:46:31.892Z"
   },
   {
    "duration": 15,
    "start_time": "2021-07-07T18:46:31.918Z"
   },
   {
    "duration": 7,
    "start_time": "2021-07-07T18:46:31.936Z"
   },
   {
    "duration": 8,
    "start_time": "2021-07-07T18:46:31.944Z"
   },
   {
    "duration": 19,
    "start_time": "2021-07-07T18:46:31.984Z"
   },
   {
    "duration": 10,
    "start_time": "2021-07-07T18:46:32.004Z"
   },
   {
    "duration": 5,
    "start_time": "2021-07-07T18:46:32.016Z"
   },
   {
    "duration": 9,
    "start_time": "2021-07-07T18:46:32.023Z"
   },
   {
    "duration": 199,
    "start_time": "2021-07-07T18:46:32.033Z"
   },
   {
    "duration": 19,
    "start_time": "2021-07-07T18:46:32.234Z"
   },
   {
    "duration": 159,
    "start_time": "2021-07-07T18:46:32.255Z"
   },
   {
    "duration": 134,
    "start_time": "2021-07-07T18:46:32.416Z"
   },
   {
    "duration": 10,
    "start_time": "2021-07-07T18:46:32.552Z"
   },
   {
    "duration": 34,
    "start_time": "2021-07-07T18:46:32.563Z"
   },
   {
    "duration": 1039,
    "start_time": "2021-07-08T08:41:09.419Z"
   },
   {
    "duration": 333,
    "start_time": "2021-07-08T08:41:10.459Z"
   },
   {
    "duration": 173,
    "start_time": "2021-07-08T08:41:10.794Z"
   },
   {
    "duration": 5,
    "start_time": "2021-07-08T08:41:10.968Z"
   },
   {
    "duration": 25,
    "start_time": "2021-07-08T08:41:10.975Z"
   },
   {
    "duration": 9,
    "start_time": "2021-07-08T08:41:11.002Z"
   },
   {
    "duration": 18,
    "start_time": "2021-07-08T08:41:11.013Z"
   },
   {
    "duration": 6,
    "start_time": "2021-07-08T08:41:11.033Z"
   },
   {
    "duration": 44,
    "start_time": "2021-07-08T08:41:11.042Z"
   },
   {
    "duration": 10,
    "start_time": "2021-07-08T08:41:11.088Z"
   },
   {
    "duration": 9,
    "start_time": "2021-07-08T08:41:11.100Z"
   },
   {
    "duration": 27,
    "start_time": "2021-07-08T08:41:11.111Z"
   },
   {
    "duration": 46,
    "start_time": "2021-07-08T08:41:11.140Z"
   },
   {
    "duration": 17,
    "start_time": "2021-07-08T08:41:11.187Z"
   },
   {
    "duration": 6,
    "start_time": "2021-07-08T08:41:11.206Z"
   },
   {
    "duration": 5,
    "start_time": "2021-07-08T08:41:11.213Z"
   },
   {
    "duration": 10,
    "start_time": "2021-07-08T08:41:11.219Z"
   },
   {
    "duration": 9,
    "start_time": "2021-07-08T08:41:11.230Z"
   },
   {
    "duration": 45,
    "start_time": "2021-07-08T08:41:11.241Z"
   },
   {
    "duration": 7,
    "start_time": "2021-07-08T08:41:11.287Z"
   },
   {
    "duration": 24,
    "start_time": "2021-07-08T08:41:11.296Z"
   },
   {
    "duration": 16,
    "start_time": "2021-07-08T08:41:11.322Z"
   },
   {
    "duration": 7,
    "start_time": "2021-07-08T08:41:11.341Z"
   },
   {
    "duration": 41,
    "start_time": "2021-07-08T08:41:11.349Z"
   },
   {
    "duration": 17,
    "start_time": "2021-07-08T08:41:11.391Z"
   },
   {
    "duration": 9,
    "start_time": "2021-07-08T08:41:11.410Z"
   },
   {
    "duration": 5,
    "start_time": "2021-07-08T08:41:11.421Z"
   },
   {
    "duration": 6,
    "start_time": "2021-07-08T08:41:11.428Z"
   },
   {
    "duration": 198,
    "start_time": "2021-07-08T08:41:11.435Z"
   },
   {
    "duration": 18,
    "start_time": "2021-07-08T08:41:11.635Z"
   },
   {
    "duration": 155,
    "start_time": "2021-07-08T08:41:11.655Z"
   },
   {
    "duration": 138,
    "start_time": "2021-07-08T08:41:11.811Z"
   },
   {
    "duration": 10,
    "start_time": "2021-07-08T08:41:11.950Z"
   },
   {
    "duration": 29,
    "start_time": "2021-07-08T08:41:11.961Z"
   },
   {
    "duration": 171,
    "start_time": "2021-07-08T08:47:44.522Z"
   },
   {
    "duration": 124,
    "start_time": "2021-07-08T08:47:46.872Z"
   },
   {
    "duration": 191,
    "start_time": "2021-07-08T08:47:58.148Z"
   },
   {
    "duration": 191,
    "start_time": "2021-07-08T08:48:07.412Z"
   },
   {
    "duration": 261,
    "start_time": "2021-07-08T08:48:10.385Z"
   },
   {
    "duration": 255,
    "start_time": "2021-07-08T08:48:14.494Z"
   },
   {
    "duration": 219,
    "start_time": "2021-07-08T08:48:22.752Z"
   },
   {
    "duration": 173,
    "start_time": "2021-07-08T08:49:06.395Z"
   },
   {
    "duration": 180,
    "start_time": "2021-07-08T08:49:21.011Z"
   },
   {
    "duration": 6,
    "start_time": "2021-07-08T08:50:31.697Z"
   },
   {
    "duration": 10,
    "start_time": "2021-07-08T08:50:47.394Z"
   },
   {
    "duration": 11,
    "start_time": "2021-07-08T08:53:49.332Z"
   },
   {
    "duration": 171,
    "start_time": "2021-07-08T08:54:28.408Z"
   },
   {
    "duration": 636,
    "start_time": "2021-07-08T09:02:48.385Z"
   },
   {
    "duration": 227,
    "start_time": "2021-07-08T09:02:49.023Z"
   },
   {
    "duration": 104,
    "start_time": "2021-07-08T09:02:49.252Z"
   },
   {
    "duration": 5,
    "start_time": "2021-07-08T09:02:49.358Z"
   },
   {
    "duration": 27,
    "start_time": "2021-07-08T09:02:49.365Z"
   },
   {
    "duration": 8,
    "start_time": "2021-07-08T09:02:49.394Z"
   },
   {
    "duration": 18,
    "start_time": "2021-07-08T09:02:49.404Z"
   },
   {
    "duration": 6,
    "start_time": "2021-07-08T09:02:49.424Z"
   },
   {
    "duration": 11,
    "start_time": "2021-07-08T09:02:49.433Z"
   },
   {
    "duration": 13,
    "start_time": "2021-07-08T09:02:49.485Z"
   },
   {
    "duration": 9,
    "start_time": "2021-07-08T09:02:49.500Z"
   },
   {
    "duration": 38,
    "start_time": "2021-07-08T09:02:49.511Z"
   },
   {
    "duration": 42,
    "start_time": "2021-07-08T09:02:49.551Z"
   },
   {
    "duration": 21,
    "start_time": "2021-07-08T09:02:49.594Z"
   },
   {
    "duration": 6,
    "start_time": "2021-07-08T09:02:49.616Z"
   },
   {
    "duration": 3,
    "start_time": "2021-07-08T09:02:49.623Z"
   },
   {
    "duration": 9,
    "start_time": "2021-07-08T09:02:49.628Z"
   },
   {
    "duration": 52,
    "start_time": "2021-07-08T09:02:49.638Z"
   },
   {
    "duration": 11,
    "start_time": "2021-07-08T09:02:49.692Z"
   },
   {
    "duration": 8,
    "start_time": "2021-07-08T09:02:49.704Z"
   },
   {
    "duration": 27,
    "start_time": "2021-07-08T09:02:49.713Z"
   },
   {
    "duration": 59,
    "start_time": "2021-07-08T09:02:49.741Z"
   },
   {
    "duration": 8,
    "start_time": "2021-07-08T09:02:49.803Z"
   },
   {
    "duration": 14,
    "start_time": "2021-07-08T09:02:49.813Z"
   },
   {
    "duration": 20,
    "start_time": "2021-07-08T09:02:49.829Z"
   },
   {
    "duration": 44,
    "start_time": "2021-07-08T09:02:49.851Z"
   },
   {
    "duration": 14,
    "start_time": "2021-07-08T09:02:49.896Z"
   },
   {
    "duration": 221,
    "start_time": "2021-07-08T09:02:49.912Z"
   },
   {
    "duration": 6,
    "start_time": "2021-07-08T09:02:50.134Z"
   },
   {
    "duration": 206,
    "start_time": "2021-07-08T09:02:50.142Z"
   },
   {
    "duration": 19,
    "start_time": "2021-07-08T09:02:50.350Z"
   },
   {
    "duration": 21,
    "start_time": "2021-07-08T09:02:50.370Z"
   },
   {
    "duration": 20,
    "start_time": "2021-07-08T09:02:50.393Z"
   },
   {
    "duration": 5,
    "start_time": "2021-07-08T09:02:50.414Z"
   },
   {
    "duration": 5,
    "start_time": "2021-07-08T09:03:34.173Z"
   },
   {
    "duration": 6,
    "start_time": "2021-07-08T09:04:49.062Z"
   },
   {
    "duration": 9,
    "start_time": "2021-07-08T09:04:50.118Z"
   },
   {
    "duration": 14,
    "start_time": "2021-07-08T09:04:58.512Z"
   },
   {
    "duration": 9,
    "start_time": "2021-07-08T09:05:10.988Z"
   },
   {
    "duration": 11,
    "start_time": "2021-07-08T09:05:11.743Z"
   },
   {
    "duration": 7,
    "start_time": "2021-07-08T09:05:25.677Z"
   },
   {
    "duration": 13,
    "start_time": "2021-07-08T09:05:47.189Z"
   },
   {
    "duration": 13,
    "start_time": "2021-07-08T09:05:54.755Z"
   },
   {
    "duration": 4,
    "start_time": "2021-07-08T09:06:29.189Z"
   },
   {
    "duration": 244,
    "start_time": "2021-07-08T09:06:29.195Z"
   },
   {
    "duration": 91,
    "start_time": "2021-07-08T09:06:29.441Z"
   },
   {
    "duration": 4,
    "start_time": "2021-07-08T09:06:29.534Z"
   },
   {
    "duration": 28,
    "start_time": "2021-07-08T09:06:29.540Z"
   },
   {
    "duration": 6,
    "start_time": "2021-07-08T09:06:29.570Z"
   },
   {
    "duration": 18,
    "start_time": "2021-07-08T09:06:29.578Z"
   },
   {
    "duration": 5,
    "start_time": "2021-07-08T09:06:29.597Z"
   },
   {
    "duration": 13,
    "start_time": "2021-07-08T09:06:29.605Z"
   },
   {
    "duration": 8,
    "start_time": "2021-07-08T09:06:29.620Z"
   },
   {
    "duration": 7,
    "start_time": "2021-07-08T09:06:29.630Z"
   },
   {
    "duration": 63,
    "start_time": "2021-07-08T09:06:29.639Z"
   },
   {
    "duration": 17,
    "start_time": "2021-07-08T09:06:29.704Z"
   },
   {
    "duration": 20,
    "start_time": "2021-07-08T09:06:29.723Z"
   },
   {
    "duration": 6,
    "start_time": "2021-07-08T09:06:29.745Z"
   },
   {
    "duration": 3,
    "start_time": "2021-07-08T09:06:29.752Z"
   },
   {
    "duration": 7,
    "start_time": "2021-07-08T09:06:29.785Z"
   },
   {
    "duration": 11,
    "start_time": "2021-07-08T09:06:29.794Z"
   },
   {
    "duration": 15,
    "start_time": "2021-07-08T09:06:29.807Z"
   },
   {
    "duration": 8,
    "start_time": "2021-07-08T09:06:29.823Z"
   },
   {
    "duration": 70,
    "start_time": "2021-07-08T09:06:29.832Z"
   },
   {
    "duration": 17,
    "start_time": "2021-07-08T09:06:29.903Z"
   },
   {
    "duration": 9,
    "start_time": "2021-07-08T09:06:29.921Z"
   },
   {
    "duration": 9,
    "start_time": "2021-07-08T09:06:29.932Z"
   },
   {
    "duration": 57,
    "start_time": "2021-07-08T09:06:29.942Z"
   },
   {
    "duration": 11,
    "start_time": "2021-07-08T09:06:30.001Z"
   },
   {
    "duration": 19,
    "start_time": "2021-07-08T09:06:30.016Z"
   },
   {
    "duration": 217,
    "start_time": "2021-07-08T09:06:30.037Z"
   },
   {
    "duration": 6,
    "start_time": "2021-07-08T09:06:30.255Z"
   },
   {
    "duration": 205,
    "start_time": "2021-07-08T09:06:30.263Z"
   },
   {
    "duration": 27,
    "start_time": "2021-07-08T09:06:30.470Z"
   },
   {
    "duration": 11,
    "start_time": "2021-07-08T09:06:30.500Z"
   },
   {
    "duration": 31,
    "start_time": "2021-07-08T09:06:30.513Z"
   },
   {
    "duration": 18,
    "start_time": "2021-07-08T09:06:30.546Z"
   },
   {
    "duration": 11,
    "start_time": "2021-07-08T09:06:30.566Z"
   },
   {
    "duration": 19,
    "start_time": "2021-07-08T09:06:30.579Z"
   },
   {
    "duration": 20,
    "start_time": "2021-07-08T09:06:49.466Z"
   },
   {
    "duration": 9,
    "start_time": "2021-07-08T09:06:51.994Z"
   },
   {
    "duration": 20,
    "start_time": "2021-07-08T09:06:52.273Z"
   },
   {
    "duration": 246,
    "start_time": "2021-07-08T09:10:21.272Z"
   },
   {
    "duration": 84,
    "start_time": "2021-07-08T09:10:21.436Z"
   },
   {
    "duration": 7,
    "start_time": "2021-07-08T09:10:37.608Z"
   },
   {
    "duration": 189,
    "start_time": "2021-07-08T09:10:38.573Z"
   },
   {
    "duration": 185,
    "start_time": "2021-07-08T09:10:53.181Z"
   },
   {
    "duration": 11,
    "start_time": "2021-07-08T09:10:59.549Z"
   },
   {
    "duration": 42,
    "start_time": "2021-07-08T09:10:59.709Z"
   },
   {
    "duration": 12,
    "start_time": "2021-07-08T09:11:02.857Z"
   },
   {
    "duration": 28,
    "start_time": "2021-07-08T09:11:10.062Z"
   },
   {
    "duration": 249,
    "start_time": "2021-07-08T09:11:37.388Z"
   },
   {
    "duration": 232,
    "start_time": "2021-07-08T09:11:49.485Z"
   },
   {
    "duration": 453,
    "start_time": "2021-07-08T09:12:01.546Z"
   },
   {
    "duration": 440,
    "start_time": "2021-07-08T09:12:12.347Z"
   },
   {
    "duration": 213,
    "start_time": "2021-07-08T09:13:32.196Z"
   },
   {
    "duration": 172,
    "start_time": "2021-07-08T09:14:07.400Z"
   },
   {
    "duration": 185,
    "start_time": "2021-07-08T09:14:14.905Z"
   },
   {
    "duration": 209,
    "start_time": "2021-07-08T09:14:40.109Z"
   },
   {
    "duration": 201,
    "start_time": "2021-07-08T09:14:54.506Z"
   },
   {
    "duration": 622,
    "start_time": "2021-07-08T09:18:14.497Z"
   },
   {
    "duration": 220,
    "start_time": "2021-07-08T09:18:15.121Z"
   },
   {
    "duration": 79,
    "start_time": "2021-07-08T09:18:15.343Z"
   },
   {
    "duration": 4,
    "start_time": "2021-07-08T09:18:15.425Z"
   },
   {
    "duration": 24,
    "start_time": "2021-07-08T09:18:15.431Z"
   },
   {
    "duration": 8,
    "start_time": "2021-07-08T09:18:15.457Z"
   },
   {
    "duration": 16,
    "start_time": "2021-07-08T09:18:15.466Z"
   },
   {
    "duration": 5,
    "start_time": "2021-07-08T09:18:15.484Z"
   },
   {
    "duration": 10,
    "start_time": "2021-07-08T09:18:15.493Z"
   },
   {
    "duration": 8,
    "start_time": "2021-07-08T09:18:15.504Z"
   },
   {
    "duration": 7,
    "start_time": "2021-07-08T09:18:15.513Z"
   },
   {
    "duration": 26,
    "start_time": "2021-07-08T09:18:15.522Z"
   },
   {
    "duration": 49,
    "start_time": "2021-07-08T09:18:15.550Z"
   },
   {
    "duration": 21,
    "start_time": "2021-07-08T09:18:15.601Z"
   },
   {
    "duration": 8,
    "start_time": "2021-07-08T09:18:15.624Z"
   },
   {
    "duration": 3,
    "start_time": "2021-07-08T09:18:15.634Z"
   },
   {
    "duration": 8,
    "start_time": "2021-07-08T09:18:15.639Z"
   },
   {
    "duration": 45,
    "start_time": "2021-07-08T09:18:15.649Z"
   },
   {
    "duration": 13,
    "start_time": "2021-07-08T09:18:15.696Z"
   },
   {
    "duration": 10,
    "start_time": "2021-07-08T09:18:15.711Z"
   },
   {
    "duration": 64,
    "start_time": "2021-07-08T09:18:15.722Z"
   },
   {
    "duration": 19,
    "start_time": "2021-07-08T09:18:15.788Z"
   },
   {
    "duration": 9,
    "start_time": "2021-07-08T09:18:15.809Z"
   },
   {
    "duration": 9,
    "start_time": "2021-07-08T09:18:15.820Z"
   },
   {
    "duration": 18,
    "start_time": "2021-07-08T09:18:15.831Z"
   },
   {
    "duration": 43,
    "start_time": "2021-07-08T09:18:15.851Z"
   },
   {
    "duration": 12,
    "start_time": "2021-07-08T09:18:15.897Z"
   },
   {
    "duration": 219,
    "start_time": "2021-07-08T09:18:15.911Z"
   },
   {
    "duration": 8,
    "start_time": "2021-07-08T09:18:16.132Z"
   },
   {
    "duration": 199,
    "start_time": "2021-07-08T09:18:16.141Z"
   },
   {
    "duration": 18,
    "start_time": "2021-07-08T09:18:16.341Z"
   },
   {
    "duration": 24,
    "start_time": "2021-07-08T09:18:16.361Z"
   },
   {
    "duration": 24,
    "start_time": "2021-07-08T09:18:16.387Z"
   },
   {
    "duration": 211,
    "start_time": "2021-07-08T09:18:16.413Z"
   },
   {
    "duration": 18,
    "start_time": "2021-07-08T09:18:16.626Z"
   },
   {
    "duration": 596,
    "start_time": "2021-07-08T10:06:33.623Z"
   },
   {
    "duration": 181,
    "start_time": "2021-07-08T10:06:34.221Z"
   },
   {
    "duration": 176,
    "start_time": "2021-07-08T10:06:34.635Z"
   },
   {
    "duration": 239,
    "start_time": "2021-07-08T10:06:55.572Z"
   },
   {
    "duration": 6,
    "start_time": "2021-07-08T10:06:57.687Z"
   },
   {
    "duration": 4,
    "start_time": "2021-07-08T10:07:03.956Z"
   },
   {
    "duration": 4,
    "start_time": "2021-07-08T10:07:10.376Z"
   },
   {
    "duration": 4,
    "start_time": "2021-07-08T10:17:19.889Z"
   },
   {
    "duration": 3,
    "start_time": "2021-07-08T10:19:19.407Z"
   },
   {
    "duration": 197,
    "start_time": "2021-07-08T10:19:19.412Z"
   },
   {
    "duration": 127,
    "start_time": "2021-07-08T10:19:19.611Z"
   },
   {
    "duration": 4,
    "start_time": "2021-07-08T10:19:19.740Z"
   },
   {
    "duration": 27,
    "start_time": "2021-07-08T10:19:19.746Z"
   },
   {
    "duration": 7,
    "start_time": "2021-07-08T10:19:19.775Z"
   },
   {
    "duration": 30,
    "start_time": "2021-07-08T10:19:19.784Z"
   },
   {
    "duration": 7,
    "start_time": "2021-07-08T10:19:19.817Z"
   },
   {
    "duration": 26,
    "start_time": "2021-07-08T10:19:19.826Z"
   },
   {
    "duration": 18,
    "start_time": "2021-07-08T10:19:19.854Z"
   },
   {
    "duration": 14,
    "start_time": "2021-07-08T10:19:19.874Z"
   },
   {
    "duration": 48,
    "start_time": "2021-07-08T10:19:19.890Z"
   },
   {
    "duration": 17,
    "start_time": "2021-07-08T10:19:19.940Z"
   },
   {
    "duration": 38,
    "start_time": "2021-07-08T10:19:19.959Z"
   },
   {
    "duration": 8,
    "start_time": "2021-07-08T10:19:19.999Z"
   },
   {
    "duration": 15,
    "start_time": "2021-07-08T10:19:20.009Z"
   },
   {
    "duration": 22,
    "start_time": "2021-07-08T10:19:20.026Z"
   },
   {
    "duration": 10,
    "start_time": "2021-07-08T10:19:20.050Z"
   },
   {
    "duration": 10,
    "start_time": "2021-07-08T10:19:20.062Z"
   },
   {
    "duration": 20,
    "start_time": "2021-07-08T10:19:20.073Z"
   },
   {
    "duration": 29,
    "start_time": "2021-07-08T10:19:20.095Z"
   },
   {
    "duration": 17,
    "start_time": "2021-07-08T10:19:20.126Z"
   },
   {
    "duration": 40,
    "start_time": "2021-07-08T10:19:20.146Z"
   },
   {
    "duration": 15,
    "start_time": "2021-07-08T10:19:20.189Z"
   },
   {
    "duration": 19,
    "start_time": "2021-07-08T10:19:20.206Z"
   },
   {
    "duration": 10,
    "start_time": "2021-07-08T10:19:20.226Z"
   },
   {
    "duration": 11,
    "start_time": "2021-07-08T10:19:20.238Z"
   },
   {
    "duration": 297,
    "start_time": "2021-07-08T10:19:20.250Z"
   },
   {
    "duration": 6,
    "start_time": "2021-07-08T10:19:20.549Z"
   },
   {
    "duration": 191,
    "start_time": "2021-07-08T10:19:20.557Z"
   },
   {
    "duration": 19,
    "start_time": "2021-07-08T10:19:20.750Z"
   },
   {
    "duration": 20,
    "start_time": "2021-07-08T10:19:20.771Z"
   },
   {
    "duration": 15,
    "start_time": "2021-07-08T10:19:20.793Z"
   },
   {
    "duration": 222,
    "start_time": "2021-07-08T10:19:20.809Z"
   },
   {
    "duration": 20,
    "start_time": "2021-07-08T10:19:21.033Z"
   },
   {
    "duration": 27,
    "start_time": "2021-07-08T10:45:04.055Z"
   },
   {
    "duration": 8,
    "start_time": "2021-07-08T10:45:08.478Z"
   },
   {
    "duration": 8,
    "start_time": "2021-07-08T10:45:31.982Z"
   },
   {
    "duration": 10,
    "start_time": "2021-07-08T10:46:01.221Z"
   },
   {
    "duration": 17,
    "start_time": "2021-07-08T10:46:40.011Z"
   },
   {
    "duration": 193,
    "start_time": "2021-07-08T10:48:19.471Z"
   },
   {
    "duration": 225,
    "start_time": "2021-07-08T10:49:26.480Z"
   },
   {
    "duration": 204,
    "start_time": "2021-07-08T10:49:59.992Z"
   },
   {
    "duration": 435,
    "start_time": "2021-07-08T10:50:06.779Z"
   },
   {
    "duration": 199,
    "start_time": "2021-07-08T10:50:14.891Z"
   },
   {
    "duration": 204,
    "start_time": "2021-07-08T10:50:18.501Z"
   },
   {
    "duration": 244,
    "start_time": "2021-07-08T10:50:23.359Z"
   },
   {
    "duration": 192,
    "start_time": "2021-07-08T10:50:29.135Z"
   },
   {
    "duration": 218,
    "start_time": "2021-07-08T10:50:33.092Z"
   },
   {
    "duration": 207,
    "start_time": "2021-07-08T10:52:45.381Z"
   },
   {
    "duration": 5,
    "start_time": "2021-07-08T10:53:34.641Z"
   },
   {
    "duration": 196,
    "start_time": "2021-07-08T10:53:41.478Z"
   },
   {
    "duration": 43,
    "start_time": "2021-07-08T10:53:50.335Z"
   },
   {
    "duration": 32,
    "start_time": "2021-07-08T10:53:55.294Z"
   },
   {
    "duration": 55,
    "start_time": "2021-07-08T10:54:09.675Z"
   },
   {
    "duration": 16,
    "start_time": "2021-07-08T10:54:12.260Z"
   },
   {
    "duration": 15,
    "start_time": "2021-07-08T10:54:49.150Z"
   },
   {
    "duration": 20,
    "start_time": "2021-07-08T10:56:07.596Z"
   },
   {
    "duration": 16,
    "start_time": "2021-07-08T10:58:26.276Z"
   },
   {
    "duration": 22,
    "start_time": "2021-07-08T10:59:00.486Z"
   },
   {
    "duration": 18,
    "start_time": "2021-07-08T11:02:09.653Z"
   },
   {
    "duration": 10,
    "start_time": "2021-07-08T11:03:44.331Z"
   },
   {
    "duration": 10,
    "start_time": "2021-07-08T11:03:54.055Z"
   },
   {
    "duration": 12,
    "start_time": "2021-07-08T11:04:41.967Z"
   },
   {
    "duration": 24,
    "start_time": "2021-07-08T11:07:30.732Z"
   },
   {
    "duration": 6,
    "start_time": "2021-07-08T11:07:37.364Z"
   },
   {
    "duration": 16,
    "start_time": "2021-07-08T11:08:01.819Z"
   },
   {
    "duration": 17,
    "start_time": "2021-07-08T11:09:47.488Z"
   },
   {
    "duration": 246,
    "start_time": "2021-07-08T11:10:00.830Z"
   },
   {
    "duration": 18,
    "start_time": "2021-07-08T11:13:55.195Z"
   },
   {
    "duration": 204,
    "start_time": "2021-07-08T11:14:04.951Z"
   },
   {
    "duration": 19,
    "start_time": "2021-07-08T11:15:10.613Z"
   },
   {
    "duration": 680,
    "start_time": "2021-07-08T11:16:25.793Z"
   },
   {
    "duration": 451,
    "start_time": "2021-07-08T11:16:40.313Z"
   },
   {
    "duration": 469,
    "start_time": "2021-07-08T11:17:21.286Z"
   },
   {
    "duration": 20,
    "start_time": "2021-07-08T11:19:12.554Z"
   },
   {
    "duration": 35,
    "start_time": "2021-07-08T11:20:05.484Z"
   },
   {
    "duration": 53,
    "start_time": "2021-07-08T11:21:40.050Z"
   },
   {
    "duration": 13,
    "start_time": "2021-07-08T11:22:26.059Z"
   },
   {
    "duration": 19,
    "start_time": "2021-07-08T11:22:47.419Z"
   },
   {
    "duration": 25,
    "start_time": "2021-07-08T11:23:19.958Z"
   },
   {
    "duration": 29,
    "start_time": "2021-07-08T11:23:25.415Z"
   },
   {
    "duration": 10,
    "start_time": "2021-07-08T11:24:45.138Z"
   },
   {
    "duration": 19,
    "start_time": "2021-07-08T11:24:54.498Z"
   },
   {
    "duration": 12,
    "start_time": "2021-07-08T11:25:32.225Z"
   },
   {
    "duration": 19,
    "start_time": "2021-07-08T11:25:37.092Z"
   },
   {
    "duration": 17,
    "start_time": "2021-07-08T11:25:58.116Z"
   },
   {
    "duration": 15,
    "start_time": "2021-07-08T11:26:02.258Z"
   },
   {
    "duration": 8,
    "start_time": "2021-07-08T11:26:59.682Z"
   },
   {
    "duration": 184,
    "start_time": "2021-07-08T11:27:21.894Z"
   },
   {
    "duration": 8,
    "start_time": "2021-07-08T11:27:23.824Z"
   },
   {
    "duration": 202,
    "start_time": "2021-07-08T11:27:23.962Z"
   },
   {
    "duration": 360,
    "start_time": "2021-07-08T11:28:33.215Z"
   },
   {
    "duration": 231,
    "start_time": "2021-07-08T11:32:05.542Z"
   },
   {
    "duration": 607,
    "start_time": "2021-07-08T11:36:27.854Z"
   },
   {
    "duration": 241,
    "start_time": "2021-07-08T11:36:28.463Z"
   },
   {
    "duration": 67,
    "start_time": "2021-07-08T11:36:28.709Z"
   },
   {
    "duration": 5,
    "start_time": "2021-07-08T11:36:28.778Z"
   },
   {
    "duration": 32,
    "start_time": "2021-07-08T11:36:28.784Z"
   },
   {
    "duration": 11,
    "start_time": "2021-07-08T11:36:28.819Z"
   },
   {
    "duration": 20,
    "start_time": "2021-07-08T11:36:28.834Z"
   },
   {
    "duration": 36,
    "start_time": "2021-07-08T11:36:28.857Z"
   },
   {
    "duration": 16,
    "start_time": "2021-07-08T11:36:28.895Z"
   },
   {
    "duration": 14,
    "start_time": "2021-07-08T11:36:28.913Z"
   },
   {
    "duration": 9,
    "start_time": "2021-07-08T11:36:28.930Z"
   },
   {
    "duration": 55,
    "start_time": "2021-07-08T11:36:28.941Z"
   },
   {
    "duration": 27,
    "start_time": "2021-07-08T11:36:28.999Z"
   },
   {
    "duration": 30,
    "start_time": "2021-07-08T11:36:29.028Z"
   },
   {
    "duration": 31,
    "start_time": "2021-07-08T11:36:29.060Z"
   },
   {
    "duration": 3,
    "start_time": "2021-07-08T11:36:29.093Z"
   },
   {
    "duration": 12,
    "start_time": "2021-07-08T11:36:29.099Z"
   },
   {
    "duration": 11,
    "start_time": "2021-07-08T11:36:29.112Z"
   },
   {
    "duration": 12,
    "start_time": "2021-07-08T11:36:29.125Z"
   },
   {
    "duration": 9,
    "start_time": "2021-07-08T11:36:29.139Z"
   },
   {
    "duration": 31,
    "start_time": "2021-07-08T11:36:29.191Z"
   },
   {
    "duration": 17,
    "start_time": "2021-07-08T11:36:29.226Z"
   },
   {
    "duration": 7,
    "start_time": "2021-07-08T11:36:29.245Z"
   },
   {
    "duration": 10,
    "start_time": "2021-07-08T11:36:29.254Z"
   },
   {
    "duration": 30,
    "start_time": "2021-07-08T11:36:29.292Z"
   },
   {
    "duration": 11,
    "start_time": "2021-07-08T11:36:29.324Z"
   },
   {
    "duration": 11,
    "start_time": "2021-07-08T11:36:29.337Z"
   },
   {
    "duration": 230,
    "start_time": "2021-07-08T11:36:29.349Z"
   },
   {
    "duration": 13,
    "start_time": "2021-07-08T11:36:29.588Z"
   },
   {
    "duration": 205,
    "start_time": "2021-07-08T11:36:29.603Z"
   },
   {
    "duration": 20,
    "start_time": "2021-07-08T11:36:29.810Z"
   },
   {
    "duration": 9,
    "start_time": "2021-07-08T11:36:29.832Z"
   },
   {
    "duration": 16,
    "start_time": "2021-07-08T11:36:29.843Z"
   },
   {
    "duration": 283,
    "start_time": "2021-07-08T11:36:29.861Z"
   },
   {
    "duration": 50,
    "start_time": "2021-07-08T11:36:30.146Z"
   },
   {
    "duration": 14,
    "start_time": "2021-07-08T11:36:30.198Z"
   },
   {
    "duration": 11,
    "start_time": "2021-07-08T11:36:30.214Z"
   },
   {
    "duration": 245,
    "start_time": "2021-07-08T11:36:30.227Z"
   },
   {
    "duration": 439,
    "start_time": "2021-07-08T11:36:30.474Z"
   },
   {
    "duration": 210,
    "start_time": "2021-07-08T11:36:30.915Z"
   },
   {
    "duration": 15,
    "start_time": "2021-07-08T11:36:31.127Z"
   },
   {
    "duration": 17,
    "start_time": "2021-07-08T11:38:20.451Z"
   },
   {
    "duration": 642,
    "start_time": "2021-07-08T11:46:17.881Z"
   },
   {
    "duration": 210,
    "start_time": "2021-07-08T11:46:18.525Z"
   },
   {
    "duration": 104,
    "start_time": "2021-07-08T11:46:18.741Z"
   },
   {
    "duration": 8,
    "start_time": "2021-07-08T11:46:18.847Z"
   },
   {
    "duration": 25,
    "start_time": "2021-07-08T11:46:18.857Z"
   },
   {
    "duration": 14,
    "start_time": "2021-07-08T11:46:18.884Z"
   },
   {
    "duration": 22,
    "start_time": "2021-07-08T11:46:18.900Z"
   },
   {
    "duration": 5,
    "start_time": "2021-07-08T11:46:18.924Z"
   },
   {
    "duration": 13,
    "start_time": "2021-07-08T11:46:18.931Z"
   },
   {
    "duration": 45,
    "start_time": "2021-07-08T11:46:18.946Z"
   },
   {
    "duration": 12,
    "start_time": "2021-07-08T11:46:18.993Z"
   },
   {
    "duration": 38,
    "start_time": "2021-07-08T11:46:19.006Z"
   },
   {
    "duration": 50,
    "start_time": "2021-07-08T11:46:19.046Z"
   },
   {
    "duration": 29,
    "start_time": "2021-07-08T11:46:19.099Z"
   },
   {
    "duration": 7,
    "start_time": "2021-07-08T11:46:19.130Z"
   },
   {
    "duration": 3,
    "start_time": "2021-07-08T11:46:19.139Z"
   },
   {
    "duration": 11,
    "start_time": "2021-07-08T11:46:19.144Z"
   },
   {
    "duration": 40,
    "start_time": "2021-07-08T11:46:19.157Z"
   },
   {
    "duration": 15,
    "start_time": "2021-07-08T11:46:19.199Z"
   },
   {
    "duration": 10,
    "start_time": "2021-07-08T11:46:19.217Z"
   },
   {
    "duration": 68,
    "start_time": "2021-07-08T11:46:19.230Z"
   },
   {
    "duration": 17,
    "start_time": "2021-07-08T11:46:19.301Z"
   },
   {
    "duration": 7,
    "start_time": "2021-07-08T11:46:19.321Z"
   },
   {
    "duration": 11,
    "start_time": "2021-07-08T11:46:19.330Z"
   },
   {
    "duration": 59,
    "start_time": "2021-07-08T11:46:19.343Z"
   },
   {
    "duration": 17,
    "start_time": "2021-07-08T11:46:19.405Z"
   },
   {
    "duration": 16,
    "start_time": "2021-07-08T11:46:19.424Z"
   },
   {
    "duration": 252,
    "start_time": "2021-07-08T11:46:19.443Z"
   },
   {
    "duration": 9,
    "start_time": "2021-07-08T11:46:19.697Z"
   },
   {
    "duration": 224,
    "start_time": "2021-07-08T11:46:19.708Z"
   },
   {
    "duration": 21,
    "start_time": "2021-07-08T11:46:19.934Z"
   },
   {
    "duration": 9,
    "start_time": "2021-07-08T11:46:19.956Z"
   },
   {
    "duration": 32,
    "start_time": "2021-07-08T11:46:19.967Z"
   },
   {
    "duration": 288,
    "start_time": "2021-07-08T11:46:20.004Z"
   },
   {
    "duration": 23,
    "start_time": "2021-07-08T11:46:20.300Z"
   },
   {
    "duration": 11,
    "start_time": "2021-07-08T11:46:20.325Z"
   },
   {
    "duration": 11,
    "start_time": "2021-07-08T11:46:20.339Z"
   },
   {
    "duration": 259,
    "start_time": "2021-07-08T11:46:20.352Z"
   },
   {
    "duration": 438,
    "start_time": "2021-07-08T11:46:20.613Z"
   },
   {
    "duration": 207,
    "start_time": "2021-07-08T11:46:21.054Z"
   },
   {
    "duration": 27,
    "start_time": "2021-07-08T11:46:21.262Z"
   },
   {
    "duration": 19,
    "start_time": "2021-07-08T11:46:21.291Z"
   },
   {
    "duration": 820,
    "start_time": "2021-07-08T11:49:01.655Z"
   },
   {
    "duration": 372,
    "start_time": "2021-07-08T11:49:02.478Z"
   },
   {
    "duration": 98,
    "start_time": "2021-07-08T11:49:02.853Z"
   },
   {
    "duration": 6,
    "start_time": "2021-07-08T11:49:02.953Z"
   },
   {
    "duration": 39,
    "start_time": "2021-07-08T11:49:02.960Z"
   },
   {
    "duration": 9,
    "start_time": "2021-07-08T11:49:03.003Z"
   },
   {
    "duration": 23,
    "start_time": "2021-07-08T11:49:03.014Z"
   },
   {
    "duration": 6,
    "start_time": "2021-07-08T11:49:03.041Z"
   },
   {
    "duration": 20,
    "start_time": "2021-07-08T11:49:03.049Z"
   },
   {
    "duration": 18,
    "start_time": "2021-07-08T11:49:03.084Z"
   },
   {
    "duration": 14,
    "start_time": "2021-07-08T11:49:03.104Z"
   },
   {
    "duration": 39,
    "start_time": "2021-07-08T11:49:03.119Z"
   },
   {
    "duration": 38,
    "start_time": "2021-07-08T11:49:03.160Z"
   },
   {
    "duration": 26,
    "start_time": "2021-07-08T11:49:03.200Z"
   },
   {
    "duration": 7,
    "start_time": "2021-07-08T11:49:03.227Z"
   },
   {
    "duration": 4,
    "start_time": "2021-07-08T11:49:03.236Z"
   },
   {
    "duration": 15,
    "start_time": "2021-07-08T11:49:03.243Z"
   },
   {
    "duration": 21,
    "start_time": "2021-07-08T11:49:03.285Z"
   },
   {
    "duration": 17,
    "start_time": "2021-07-08T11:49:03.309Z"
   },
   {
    "duration": 10,
    "start_time": "2021-07-08T11:49:03.328Z"
   },
   {
    "duration": 65,
    "start_time": "2021-07-08T11:49:03.340Z"
   },
   {
    "duration": 18,
    "start_time": "2021-07-08T11:49:03.407Z"
   },
   {
    "duration": 8,
    "start_time": "2021-07-08T11:49:03.428Z"
   },
   {
    "duration": 15,
    "start_time": "2021-07-08T11:49:03.438Z"
   },
   {
    "duration": 40,
    "start_time": "2021-07-08T11:49:03.455Z"
   },
   {
    "duration": 12,
    "start_time": "2021-07-08T11:49:03.497Z"
   },
   {
    "duration": 29,
    "start_time": "2021-07-08T11:49:03.511Z"
   },
   {
    "duration": 285,
    "start_time": "2021-07-08T11:49:03.542Z"
   },
   {
    "duration": 8,
    "start_time": "2021-07-08T11:49:03.829Z"
   },
   {
    "duration": 227,
    "start_time": "2021-07-08T11:49:03.838Z"
   },
   {
    "duration": 40,
    "start_time": "2021-07-08T11:49:04.066Z"
   },
   {
    "duration": 10,
    "start_time": "2021-07-08T11:49:04.108Z"
   },
   {
    "duration": 26,
    "start_time": "2021-07-08T11:49:04.121Z"
   },
   {
    "duration": 290,
    "start_time": "2021-07-08T11:49:04.149Z"
   },
   {
    "duration": 26,
    "start_time": "2021-07-08T11:49:04.441Z"
   },
   {
    "duration": 31,
    "start_time": "2021-07-08T11:49:04.470Z"
   },
   {
    "duration": 14,
    "start_time": "2021-07-08T11:49:04.503Z"
   },
   {
    "duration": 259,
    "start_time": "2021-07-08T11:49:04.521Z"
   },
   {
    "duration": 480,
    "start_time": "2021-07-08T11:49:04.782Z"
   },
   {
    "duration": 225,
    "start_time": "2021-07-08T11:49:05.264Z"
   },
   {
    "duration": 22,
    "start_time": "2021-07-08T11:49:05.491Z"
   },
   {
    "duration": 24,
    "start_time": "2021-07-08T11:49:05.515Z"
   },
   {
    "duration": 634,
    "start_time": "2021-07-08T11:52:24.960Z"
   },
   {
    "duration": 199,
    "start_time": "2021-07-08T11:52:25.599Z"
   },
   {
    "duration": 106,
    "start_time": "2021-07-08T11:52:25.803Z"
   },
   {
    "duration": 7,
    "start_time": "2021-07-08T11:52:25.911Z"
   },
   {
    "duration": 29,
    "start_time": "2021-07-08T11:52:25.920Z"
   },
   {
    "duration": 7,
    "start_time": "2021-07-08T11:52:25.951Z"
   },
   {
    "duration": 26,
    "start_time": "2021-07-08T11:52:25.961Z"
   },
   {
    "duration": 11,
    "start_time": "2021-07-08T11:52:25.990Z"
   },
   {
    "duration": 29,
    "start_time": "2021-07-08T11:52:26.005Z"
   },
   {
    "duration": 9,
    "start_time": "2021-07-08T11:52:26.036Z"
   },
   {
    "duration": 8,
    "start_time": "2021-07-08T11:52:26.047Z"
   },
   {
    "duration": 63,
    "start_time": "2021-07-08T11:52:26.057Z"
   },
   {
    "duration": 17,
    "start_time": "2021-07-08T11:52:26.122Z"
   },
   {
    "duration": 43,
    "start_time": "2021-07-08T11:52:26.142Z"
   },
   {
    "duration": 17,
    "start_time": "2021-07-08T11:52:26.187Z"
   },
   {
    "duration": 5,
    "start_time": "2021-07-08T11:52:26.206Z"
   },
   {
    "duration": 12,
    "start_time": "2021-07-08T11:52:26.212Z"
   },
   {
    "duration": 11,
    "start_time": "2021-07-08T11:52:26.226Z"
   },
   {
    "duration": 12,
    "start_time": "2021-07-08T11:52:26.238Z"
   },
   {
    "duration": 38,
    "start_time": "2021-07-08T11:52:26.252Z"
   },
   {
    "duration": 40,
    "start_time": "2021-07-08T11:52:26.292Z"
   },
   {
    "duration": 17,
    "start_time": "2021-07-08T11:52:26.336Z"
   },
   {
    "duration": 39,
    "start_time": "2021-07-08T11:52:26.355Z"
   },
   {
    "duration": 11,
    "start_time": "2021-07-08T11:52:26.395Z"
   },
   {
    "duration": 23,
    "start_time": "2021-07-08T11:52:26.408Z"
   },
   {
    "duration": 12,
    "start_time": "2021-07-08T11:52:26.432Z"
   },
   {
    "duration": 41,
    "start_time": "2021-07-08T11:52:26.446Z"
   },
   {
    "duration": 215,
    "start_time": "2021-07-08T11:52:26.493Z"
   },
   {
    "duration": 8,
    "start_time": "2021-07-08T11:52:26.710Z"
   },
   {
    "duration": 228,
    "start_time": "2021-07-08T11:52:26.720Z"
   },
   {
    "duration": 18,
    "start_time": "2021-07-08T11:52:26.950Z"
   },
   {
    "duration": 35,
    "start_time": "2021-07-08T11:52:26.969Z"
   },
   {
    "duration": 23,
    "start_time": "2021-07-08T11:52:27.006Z"
   },
   {
    "duration": 258,
    "start_time": "2021-07-08T11:52:27.030Z"
   },
   {
    "duration": 24,
    "start_time": "2021-07-08T11:52:27.290Z"
   },
   {
    "duration": 12,
    "start_time": "2021-07-08T11:52:27.316Z"
   },
   {
    "duration": 10,
    "start_time": "2021-07-08T11:52:27.329Z"
   },
   {
    "duration": 298,
    "start_time": "2021-07-08T11:52:27.341Z"
   },
   {
    "duration": 436,
    "start_time": "2021-07-08T11:52:27.641Z"
   },
   {
    "duration": 216,
    "start_time": "2021-07-08T11:52:28.079Z"
   },
   {
    "duration": 20,
    "start_time": "2021-07-08T11:52:28.297Z"
   },
   {
    "duration": 17,
    "start_time": "2021-07-08T11:52:28.319Z"
   },
   {
    "duration": 604,
    "start_time": "2021-09-16T18:29:36.360Z"
   },
   {
    "duration": 68,
    "start_time": "2021-09-16T18:30:34.284Z"
   },
   {
    "duration": 72,
    "start_time": "2021-09-16T18:30:59.115Z"
   },
   {
    "duration": 78,
    "start_time": "2021-09-16T18:31:04.321Z"
   },
   {
    "duration": 138,
    "start_time": "2021-09-16T18:33:23.800Z"
   },
   {
    "duration": 708,
    "start_time": "2021-09-19T10:14:17.557Z"
   },
   {
    "duration": 347,
    "start_time": "2021-09-19T10:24:56.662Z"
   },
   {
    "duration": 6,
    "start_time": "2021-09-19T10:25:34.727Z"
   },
   {
    "duration": 93,
    "start_time": "2021-09-19T10:30:21.086Z"
   },
   {
    "duration": 92,
    "start_time": "2021-09-19T10:30:28.464Z"
   },
   {
    "duration": 89,
    "start_time": "2021-09-19T10:30:33.848Z"
   },
   {
    "duration": 269,
    "start_time": "2021-09-19T10:32:01.200Z"
   },
   {
    "duration": 253,
    "start_time": "2021-09-19T10:32:36.603Z"
   },
   {
    "duration": 245,
    "start_time": "2021-09-19T10:32:56.877Z"
   },
   {
    "duration": 98,
    "start_time": "2021-09-19T10:33:49.701Z"
   },
   {
    "duration": 89,
    "start_time": "2021-09-19T10:33:57.733Z"
   },
   {
    "duration": 83,
    "start_time": "2021-09-19T10:34:11.352Z"
   },
   {
    "duration": 96,
    "start_time": "2021-09-19T10:34:19.877Z"
   },
   {
    "duration": 97,
    "start_time": "2021-09-19T10:34:27.095Z"
   },
   {
    "duration": 81,
    "start_time": "2021-09-19T10:34:40.868Z"
   },
   {
    "duration": 6,
    "start_time": "2021-09-19T10:36:26.931Z"
   },
   {
    "duration": 5,
    "start_time": "2021-09-19T10:36:55.141Z"
   },
   {
    "duration": 89,
    "start_time": "2021-09-19T10:38:11.840Z"
   },
   {
    "duration": 264,
    "start_time": "2021-09-19T10:38:20.885Z"
   },
   {
    "duration": 10,
    "start_time": "2021-09-19T10:38:41.072Z"
   },
   {
    "duration": 582,
    "start_time": "2021-09-19T10:39:19.517Z"
   },
   {
    "duration": 377,
    "start_time": "2021-09-19T10:39:24.772Z"
   },
   {
    "duration": 768,
    "start_time": "2021-09-19T10:39:28.549Z"
   },
   {
    "duration": 457,
    "start_time": "2021-09-19T10:39:31.812Z"
   },
   {
    "duration": 236,
    "start_time": "2021-09-19T10:39:39.613Z"
   },
   {
    "duration": 251,
    "start_time": "2021-09-19T10:39:49.658Z"
   },
   {
    "duration": 252,
    "start_time": "2021-09-19T10:40:44.021Z"
   },
   {
    "duration": 5,
    "start_time": "2021-09-19T10:41:02.346Z"
   },
   {
    "duration": 7,
    "start_time": "2021-09-19T10:42:53.460Z"
   },
   {
    "duration": 5,
    "start_time": "2021-09-19T10:43:15.992Z"
   },
   {
    "duration": 981,
    "start_time": "2021-09-19T14:12:01.259Z"
   },
   {
    "duration": 17,
    "start_time": "2021-09-19T14:12:04.848Z"
   },
   {
    "duration": 10,
    "start_time": "2021-09-19T14:12:47.966Z"
   },
   {
    "duration": 12,
    "start_time": "2021-09-19T14:13:01.205Z"
   },
   {
    "duration": 1269,
    "start_time": "2021-09-19T14:16:55.213Z"
   },
   {
    "duration": 95,
    "start_time": "2021-09-19T14:18:02.356Z"
   },
   {
    "duration": 238,
    "start_time": "2021-09-19T14:18:07.202Z"
   },
   {
    "duration": 30,
    "start_time": "2021-09-19T14:18:56.982Z"
   },
   {
    "duration": 96,
    "start_time": "2021-09-19T14:19:26.330Z"
   },
   {
    "duration": 18,
    "start_time": "2021-09-19T14:19:29.371Z"
   },
   {
    "duration": 1092,
    "start_time": "2021-09-19T14:21:38.725Z"
   },
   {
    "duration": 1089,
    "start_time": "2021-09-19T14:21:57.883Z"
   },
   {
    "duration": 993,
    "start_time": "2021-09-19T14:22:28.099Z"
   },
   {
    "duration": 236,
    "start_time": "2021-09-19T14:22:31.610Z"
   },
   {
    "duration": 22,
    "start_time": "2021-09-19T14:22:34.786Z"
   },
   {
    "duration": 16,
    "start_time": "2021-09-19T14:22:37.680Z"
   },
   {
    "duration": 367,
    "start_time": "2021-09-19T14:22:53.588Z"
   },
   {
    "duration": 17,
    "start_time": "2021-09-19T14:23:09.001Z"
   },
   {
    "duration": 6,
    "start_time": "2021-09-19T14:29:02.031Z"
   },
   {
    "duration": 1083,
    "start_time": "2021-09-21T19:44:10.741Z"
   },
   {
    "duration": 229,
    "start_time": "2021-09-21T19:44:14.567Z"
   },
   {
    "duration": 21,
    "start_time": "2021-09-21T19:44:16.069Z"
   },
   {
    "duration": 37,
    "start_time": "2021-09-21T19:44:19.801Z"
   },
   {
    "duration": 8,
    "start_time": "2021-09-21T19:45:23.749Z"
   },
   {
    "duration": 119,
    "start_time": "2021-09-21T19:45:58.806Z"
   },
   {
    "duration": 14,
    "start_time": "2021-09-21T19:46:05.167Z"
   },
   {
    "duration": 24,
    "start_time": "2021-09-21T19:46:19.827Z"
   },
   {
    "duration": 437,
    "start_time": "2021-09-21T19:46:36.517Z"
   },
   {
    "duration": 372,
    "start_time": "2021-09-21T19:46:40.829Z"
   },
   {
    "duration": 23,
    "start_time": "2021-09-21T19:46:44.734Z"
   },
   {
    "duration": 23,
    "start_time": "2021-09-21T19:46:53.692Z"
   },
   {
    "duration": 8,
    "start_time": "2021-09-21T19:47:26.088Z"
   },
   {
    "duration": 7,
    "start_time": "2021-09-21T19:47:33.676Z"
   },
   {
    "duration": 8,
    "start_time": "2021-09-21T19:47:42.391Z"
   },
   {
    "duration": 12,
    "start_time": "2021-09-21T19:47:58.420Z"
   },
   {
    "duration": 7,
    "start_time": "2021-09-21T19:48:07.598Z"
   },
   {
    "duration": 7,
    "start_time": "2021-09-21T19:48:10.755Z"
   },
   {
    "duration": 115,
    "start_time": "2021-09-21T19:48:49.296Z"
   },
   {
    "duration": 317,
    "start_time": "2021-09-21T19:48:54.941Z"
   },
   {
    "duration": 27,
    "start_time": "2021-09-21T19:49:02.282Z"
   },
   {
    "duration": 29,
    "start_time": "2021-09-21T19:49:54.516Z"
   },
   {
    "duration": 29,
    "start_time": "2021-09-21T19:51:48.349Z"
   },
   {
    "duration": 93,
    "start_time": "2021-09-21T19:52:05.640Z"
   },
   {
    "duration": 72,
    "start_time": "2021-09-21T19:52:21.998Z"
   },
   {
    "duration": 360,
    "start_time": "2021-09-21T19:54:28.556Z"
   },
   {
    "duration": 392,
    "start_time": "2021-09-21T19:54:33.821Z"
   },
   {
    "duration": 71,
    "start_time": "2021-09-21T19:54:40.002Z"
   },
   {
    "duration": 650,
    "start_time": "2021-09-21T19:54:44.517Z"
   },
   {
    "duration": 73,
    "start_time": "2021-09-21T19:54:47.729Z"
   },
   {
    "duration": 109,
    "start_time": "2021-09-21T19:55:36.846Z"
   },
   {
    "duration": 138,
    "start_time": "2021-09-21T19:56:24.350Z"
   },
   {
    "duration": 123,
    "start_time": "2021-09-21T19:56:32.083Z"
   },
   {
    "duration": 128,
    "start_time": "2021-09-21T19:56:55.186Z"
   },
   {
    "duration": 105,
    "start_time": "2021-09-21T19:57:54.044Z"
   },
   {
    "duration": 357,
    "start_time": "2021-09-21T20:04:43.406Z"
   },
   {
    "duration": -70,
    "start_time": "2021-09-21T20:06:06.037Z"
   },
   {
    "duration": 5864,
    "start_time": "2021-09-21T20:06:08.144Z"
   },
   {
    "duration": 6,
    "start_time": "2021-09-21T20:06:29.150Z"
   },
   {
    "duration": 49,
    "start_time": "2021-09-21T20:06:39.629Z"
   },
   {
    "duration": 360,
    "start_time": "2021-09-21T20:07:01.982Z"
   },
   {
    "duration": 49,
    "start_time": "2021-09-21T20:07:12.833Z"
   },
   {
    "duration": 15641,
    "start_time": "2021-09-21T20:07:56.588Z"
   },
   {
    "duration": 10936,
    "start_time": "2021-09-21T20:08:17.290Z"
   },
   {
    "duration": 11261,
    "start_time": "2021-09-21T20:08:42.196Z"
   },
   {
    "duration": 217,
    "start_time": "2021-09-21T20:09:24.625Z"
   },
   {
    "duration": 6069,
    "start_time": "2021-09-21T20:09:29.209Z"
   },
   {
    "duration": 5737,
    "start_time": "2021-09-21T20:09:44.454Z"
   },
   {
    "duration": 6255,
    "start_time": "2021-09-21T20:09:59.112Z"
   },
   {
    "duration": 5635,
    "start_time": "2021-09-21T20:10:17.549Z"
   },
   {
    "duration": 5797,
    "start_time": "2021-09-21T20:10:36.905Z"
   },
   {
    "duration": 27,
    "start_time": "2021-09-21T20:11:25.681Z"
   },
   {
    "duration": 358,
    "start_time": "2021-09-21T20:11:45.445Z"
   },
   {
    "duration": 27,
    "start_time": "2021-09-21T20:12:02.259Z"
   },
   {
    "duration": 18,
    "start_time": "2021-09-21T20:12:18.798Z"
   },
   {
    "duration": 125,
    "start_time": "2021-09-21T20:13:01.980Z"
   },
   {
    "duration": 5168,
    "start_time": "2021-09-21T20:13:13.028Z"
   },
   {
    "duration": 5353,
    "start_time": "2021-09-21T20:13:20.195Z"
   },
   {
    "duration": 5182,
    "start_time": "2021-09-21T20:13:27.046Z"
   },
   {
    "duration": 5082,
    "start_time": "2021-09-21T20:13:39.519Z"
   },
   {
    "duration": 755,
    "start_time": "2021-09-22T17:30:58.747Z"
   },
   {
    "duration": 140,
    "start_time": "2021-09-22T17:30:59.504Z"
   },
   {
    "duration": 14,
    "start_time": "2021-09-22T17:30:59.649Z"
   },
   {
    "duration": 14,
    "start_time": "2021-09-22T17:30:59.665Z"
   },
   {
    "duration": 2761,
    "start_time": "2021-09-22T17:30:59.680Z"
   },
   {
    "duration": 19,
    "start_time": "2021-09-22T17:34:01.047Z"
   },
   {
    "duration": 301,
    "start_time": "2021-09-22T17:34:10.722Z"
   },
   {
    "duration": 240,
    "start_time": "2021-09-22T17:34:14.688Z"
   },
   {
    "duration": 270,
    "start_time": "2021-09-22T17:34:24.150Z"
   },
   {
    "duration": 9,
    "start_time": "2021-09-22T17:34:41.253Z"
   },
   {
    "duration": 5,
    "start_time": "2021-09-22T17:35:29.852Z"
   },
   {
    "duration": 6,
    "start_time": "2021-09-22T17:37:27.065Z"
   },
   {
    "duration": 8,
    "start_time": "2021-09-22T17:37:45.313Z"
   },
   {
    "duration": 14,
    "start_time": "2021-09-22T17:38:03.402Z"
   },
   {
    "duration": 78,
    "start_time": "2021-09-22T17:38:49.721Z"
   },
   {
    "duration": 312,
    "start_time": "2021-09-22T17:38:54.688Z"
   },
   {
    "duration": 7,
    "start_time": "2021-09-22T17:39:33.843Z"
   },
   {
    "duration": 83,
    "start_time": "2021-09-22T17:40:20.752Z"
   },
   {
    "duration": 82,
    "start_time": "2021-09-22T17:40:27.356Z"
   },
   {
    "duration": 61,
    "start_time": "2021-09-22T17:40:31.243Z"
   },
   {
    "duration": 21,
    "start_time": "2021-09-22T17:40:43.903Z"
   },
   {
    "duration": 11,
    "start_time": "2021-09-22T17:42:15.958Z"
   },
   {
    "duration": 14,
    "start_time": "2021-09-22T17:43:43.551Z"
   },
   {
    "duration": 16,
    "start_time": "2021-09-22T17:44:06.185Z"
   },
   {
    "duration": 17,
    "start_time": "2021-09-22T17:44:15.980Z"
   },
   {
    "duration": 17,
    "start_time": "2021-09-22T17:44:30.338Z"
   },
   {
    "duration": 16,
    "start_time": "2021-09-22T17:44:38.460Z"
   },
   {
    "duration": 19,
    "start_time": "2021-09-22T17:45:02.132Z"
   },
   {
    "duration": 25,
    "start_time": "2021-09-22T17:46:04.676Z"
   },
   {
    "duration": 23,
    "start_time": "2021-09-22T17:46:14.405Z"
   },
   {
    "duration": 751,
    "start_time": "2021-09-22T17:47:05.634Z"
   },
   {
    "duration": 139,
    "start_time": "2021-09-22T17:47:06.387Z"
   },
   {
    "duration": 23,
    "start_time": "2021-09-22T17:47:06.528Z"
   },
   {
    "duration": 14,
    "start_time": "2021-09-22T17:47:06.553Z"
   },
   {
    "duration": 25,
    "start_time": "2021-09-22T17:47:06.569Z"
   },
   {
    "duration": 22,
    "start_time": "2021-09-22T17:47:15.069Z"
   },
   {
    "duration": 296,
    "start_time": "2021-09-22T17:48:14.394Z"
   },
   {
    "duration": 301,
    "start_time": "2021-09-22T17:48:23.834Z"
   },
   {
    "duration": 29,
    "start_time": "2021-09-22T17:48:46.235Z"
   },
   {
    "duration": 26,
    "start_time": "2021-09-22T17:49:09.392Z"
   },
   {
    "duration": 6,
    "start_time": "2021-09-22T17:50:03.613Z"
   },
   {
    "duration": 7,
    "start_time": "2021-09-22T17:51:42.514Z"
   },
   {
    "duration": 7,
    "start_time": "2021-09-22T17:52:11.875Z"
   },
   {
    "duration": 73,
    "start_time": "2021-09-22T17:52:29.027Z"
   },
   {
    "duration": 979,
    "start_time": "2021-09-22T17:52:32.776Z"
   },
   {
    "duration": 13,
    "start_time": "2021-09-22T17:52:39.100Z"
   },
   {
    "duration": 18,
    "start_time": "2021-09-22T17:52:56.042Z"
   },
   {
    "duration": 8,
    "start_time": "2021-09-22T17:53:33.557Z"
   },
   {
    "duration": 254,
    "start_time": "2021-09-22T17:54:03.981Z"
   },
   {
    "duration": 247,
    "start_time": "2021-09-22T17:54:09.171Z"
   },
   {
    "duration": 78,
    "start_time": "2021-09-22T17:54:43.800Z"
   },
   {
    "duration": 295,
    "start_time": "2021-09-22T17:54:47.134Z"
   },
   {
    "duration": 11,
    "start_time": "2021-09-22T17:55:04.870Z"
   },
   {
    "duration": 76,
    "start_time": "2021-09-22T17:55:44.010Z"
   },
   {
    "duration": 79,
    "start_time": "2021-09-22T17:55:51.173Z"
   },
   {
    "duration": 29,
    "start_time": "2021-09-22T17:56:04.513Z"
   },
   {
    "duration": 43,
    "start_time": "2021-09-22T17:56:12.192Z"
   },
   {
    "duration": 32,
    "start_time": "2021-09-22T17:56:51.136Z"
   },
   {
    "duration": 11804,
    "start_time": "2021-09-22T18:07:21.674Z"
   },
   {
    "duration": 34,
    "start_time": "2021-09-22T18:08:19.473Z"
   },
   {
    "duration": 31,
    "start_time": "2021-09-22T18:09:00.949Z"
   },
   {
    "duration": 39,
    "start_time": "2021-09-22T18:12:34.151Z"
   },
   {
    "duration": 39,
    "start_time": "2021-09-22T18:14:01.555Z"
   },
   {
    "duration": 37,
    "start_time": "2021-09-22T18:14:18.971Z"
   },
   {
    "duration": 281,
    "start_time": "2021-09-22T18:15:01.624Z"
   },
   {
    "duration": 274,
    "start_time": "2021-09-22T18:15:20.822Z"
   },
   {
    "duration": 82,
    "start_time": "2021-09-22T18:15:39.840Z"
   },
   {
    "duration": 305,
    "start_time": "2021-09-22T18:15:44.155Z"
   },
   {
    "duration": 36,
    "start_time": "2021-09-22T18:16:02.767Z"
   },
   {
    "duration": 40,
    "start_time": "2021-09-22T18:16:49.284Z"
   },
   {
    "duration": 54,
    "start_time": "2021-09-22T18:17:05.560Z"
   },
   {
    "duration": 260,
    "start_time": "2021-09-22T18:20:04.963Z"
   },
   {
    "duration": 34,
    "start_time": "2021-09-22T18:20:56.798Z"
   },
   {
    "duration": 47,
    "start_time": "2021-09-22T18:21:16.023Z"
   },
   {
    "duration": 30,
    "start_time": "2021-09-22T18:23:20.957Z"
   },
   {
    "duration": 7,
    "start_time": "2021-09-22T18:25:16.048Z"
   },
   {
    "duration": 7,
    "start_time": "2021-09-22T18:29:03.815Z"
   },
   {
    "duration": 8,
    "start_time": "2021-09-22T18:29:28.564Z"
   },
   {
    "duration": 5,
    "start_time": "2021-09-22T18:30:59.264Z"
   },
   {
    "duration": 10,
    "start_time": "2021-09-22T18:31:21.633Z"
   },
   {
    "duration": 13,
    "start_time": "2021-09-22T18:32:32.583Z"
   },
   {
    "duration": 19,
    "start_time": "2021-09-22T18:33:09.078Z"
   },
   {
    "duration": 22,
    "start_time": "2021-09-22T18:33:17.828Z"
   },
   {
    "duration": 25,
    "start_time": "2021-09-22T18:33:34.345Z"
   },
   {
    "duration": 77,
    "start_time": "2021-09-22T18:34:11.989Z"
   },
   {
    "duration": 24,
    "start_time": "2021-09-22T18:34:19.623Z"
   },
   {
    "duration": 33,
    "start_time": "2021-09-22T18:34:36.813Z"
   },
   {
    "duration": 24,
    "start_time": "2021-09-22T18:34:57.850Z"
   },
   {
    "duration": 38,
    "start_time": "2021-09-22T18:37:25.881Z"
   },
   {
    "duration": 36,
    "start_time": "2021-09-22T18:37:34.411Z"
   },
   {
    "duration": 12,
    "start_time": "2021-09-22T18:38:05.342Z"
   },
   {
    "duration": 27,
    "start_time": "2021-09-22T18:38:09.859Z"
   },
   {
    "duration": 13,
    "start_time": "2021-09-22T18:38:27.713Z"
   },
   {
    "duration": 19,
    "start_time": "2021-09-22T18:38:59.283Z"
   },
   {
    "duration": 28,
    "start_time": "2021-09-22T18:40:54.183Z"
   },
   {
    "duration": 18,
    "start_time": "2021-09-22T18:40:59.974Z"
   },
   {
    "duration": 29,
    "start_time": "2021-09-22T18:41:38.194Z"
   },
   {
    "duration": 19,
    "start_time": "2021-09-22T18:41:40.921Z"
   },
   {
    "duration": 237,
    "start_time": "2021-09-22T18:43:21.185Z"
   },
   {
    "duration": 278,
    "start_time": "2021-09-22T18:43:30.951Z"
   },
   {
    "duration": 755,
    "start_time": "2021-09-22T18:44:22.369Z"
   },
   {
    "duration": 140,
    "start_time": "2021-09-22T18:44:23.127Z"
   },
   {
    "duration": 17,
    "start_time": "2021-09-22T18:44:23.269Z"
   },
   {
    "duration": 18,
    "start_time": "2021-09-22T18:44:23.288Z"
   },
   {
    "duration": 48,
    "start_time": "2021-09-22T18:44:23.308Z"
   },
   {
    "duration": 30,
    "start_time": "2021-09-22T18:44:23.359Z"
   },
   {
    "duration": 20,
    "start_time": "2021-09-22T18:44:23.391Z"
   },
   {
    "duration": 60,
    "start_time": "2021-09-22T18:44:23.413Z"
   },
   {
    "duration": 7,
    "start_time": "2021-09-22T18:44:23.475Z"
   },
   {
    "duration": 8,
    "start_time": "2021-09-22T18:44:23.485Z"
   },
   {
    "duration": 1101,
    "start_time": "2021-09-22T18:45:48.787Z"
   },
   {
    "duration": 245,
    "start_time": "2021-09-22T18:46:00.184Z"
   },
   {
    "duration": 179,
    "start_time": "2021-09-22T18:46:25.976Z"
   },
   {
    "duration": 174,
    "start_time": "2021-09-22T18:46:43.629Z"
   },
   {
    "duration": 176,
    "start_time": "2021-09-22T18:47:20.412Z"
   },
   {
    "duration": 306,
    "start_time": "2021-09-22T18:47:31.177Z"
   },
   {
    "duration": 305,
    "start_time": "2021-09-22T18:48:36.880Z"
   },
   {
    "duration": 406,
    "start_time": "2021-09-22T18:48:54.664Z"
   },
   {
    "duration": 517,
    "start_time": "2021-09-22T18:49:11.922Z"
   },
   {
    "duration": 240,
    "start_time": "2021-09-22T18:49:17.391Z"
   },
   {
    "duration": 241,
    "start_time": "2021-09-22T18:49:31.751Z"
   },
   {
    "duration": 7,
    "start_time": "2021-09-22T18:52:20.032Z"
   },
   {
    "duration": 4,
    "start_time": "2021-09-22T18:52:28.269Z"
   },
   {
    "duration": 18,
    "start_time": "2021-09-22T18:52:39.652Z"
   },
   {
    "duration": 5,
    "start_time": "2021-09-22T18:55:05.410Z"
   },
   {
    "duration": 295,
    "start_time": "2021-09-22T18:55:49.495Z"
   },
   {
    "duration": 5,
    "start_time": "2021-09-22T18:56:41.294Z"
   },
   {
    "duration": 27,
    "start_time": "2021-09-22T18:56:54.626Z"
   },
   {
    "duration": 32,
    "start_time": "2021-09-22T18:59:41.431Z"
   },
   {
    "duration": 26,
    "start_time": "2021-09-22T19:00:02.477Z"
   },
   {
    "duration": 26,
    "start_time": "2021-09-22T19:02:57.359Z"
   },
   {
    "duration": 38,
    "start_time": "2021-09-22T19:03:07.449Z"
   },
   {
    "duration": 233,
    "start_time": "2021-09-22T19:03:20.825Z"
   },
   {
    "duration": 10,
    "start_time": "2021-09-22T19:03:30.092Z"
   },
   {
    "duration": 8,
    "start_time": "2021-09-22T19:03:49.768Z"
   },
   {
    "duration": 9,
    "start_time": "2021-09-22T19:05:37.456Z"
   },
   {
    "duration": 9,
    "start_time": "2021-09-22T19:05:51.727Z"
   },
   {
    "duration": 10,
    "start_time": "2021-09-22T19:06:03.304Z"
   },
   {
    "duration": 8,
    "start_time": "2021-09-22T19:07:37.392Z"
   },
   {
    "duration": 6308,
    "start_time": "2021-09-22T19:17:00.561Z"
   },
   {
    "duration": 21,
    "start_time": "2021-09-22T19:17:17.842Z"
   },
   {
    "duration": 36,
    "start_time": "2021-09-22T19:18:10.928Z"
   },
   {
    "duration": 22,
    "start_time": "2021-09-22T19:18:17.481Z"
   },
   {
    "duration": 77,
    "start_time": "2021-09-22T19:18:56.483Z"
   },
   {
    "duration": 34,
    "start_time": "2021-09-22T19:19:07.423Z"
   },
   {
    "duration": 34,
    "start_time": "2021-09-22T19:19:10.336Z"
   },
   {
    "duration": 32,
    "start_time": "2021-09-22T19:20:39.715Z"
   },
   {
    "duration": 32,
    "start_time": "2021-09-22T19:20:44.401Z"
   },
   {
    "duration": 33,
    "start_time": "2021-09-22T19:20:58.626Z"
   },
   {
    "duration": 34,
    "start_time": "2021-09-22T19:21:03.013Z"
   },
   {
    "duration": 34,
    "start_time": "2021-09-22T19:21:09.353Z"
   },
   {
    "duration": 32,
    "start_time": "2021-09-22T19:21:14.084Z"
   },
   {
    "duration": 19,
    "start_time": "2021-09-22T19:21:25.186Z"
   },
   {
    "duration": 33,
    "start_time": "2021-09-22T19:21:39.041Z"
   },
   {
    "duration": 18,
    "start_time": "2021-09-22T19:21:42.958Z"
   },
   {
    "duration": 20,
    "start_time": "2021-09-22T19:21:51.400Z"
   },
   {
    "duration": 37,
    "start_time": "2021-09-22T19:22:37.033Z"
   },
   {
    "duration": 35,
    "start_time": "2021-09-22T19:23:04.580Z"
   },
   {
    "duration": 37,
    "start_time": "2021-09-22T19:23:09.102Z"
   },
   {
    "duration": 38,
    "start_time": "2021-09-22T19:23:15.863Z"
   },
   {
    "duration": 38,
    "start_time": "2021-09-22T19:23:39.115Z"
   },
   {
    "duration": 22,
    "start_time": "2021-09-22T19:25:17.730Z"
   },
   {
    "duration": 82,
    "start_time": "2021-09-22T19:25:54.060Z"
   },
   {
    "duration": 22,
    "start_time": "2021-09-22T19:26:22.586Z"
   },
   {
    "duration": 26,
    "start_time": "2021-09-22T19:27:01.090Z"
   },
   {
    "duration": 45,
    "start_time": "2021-09-22T19:27:08.187Z"
   },
   {
    "duration": 51,
    "start_time": "2021-09-22T19:27:17.404Z"
   },
   {
    "duration": 46,
    "start_time": "2021-09-22T19:27:27.363Z"
   },
   {
    "duration": 46,
    "start_time": "2021-09-22T19:27:39.005Z"
   },
   {
    "duration": 76,
    "start_time": "2021-09-22T19:28:00.849Z"
   },
   {
    "duration": 54,
    "start_time": "2021-09-22T19:28:35.644Z"
   },
   {
    "duration": 64,
    "start_time": "2021-09-22T19:28:45.106Z"
   },
   {
    "duration": 40,
    "start_time": "2021-09-22T19:29:02.271Z"
   },
   {
    "duration": 40,
    "start_time": "2021-09-22T19:29:06.809Z"
   },
   {
    "duration": 34,
    "start_time": "2021-09-22T19:29:36.587Z"
   },
   {
    "duration": 38,
    "start_time": "2021-09-22T19:29:41.981Z"
   },
   {
    "duration": 34,
    "start_time": "2021-09-22T19:31:36.076Z"
   },
   {
    "duration": 39,
    "start_time": "2021-09-22T19:31:41.170Z"
   },
   {
    "duration": 754,
    "start_time": "2021-09-22T19:31:56.775Z"
   },
   {
    "duration": 125,
    "start_time": "2021-09-22T19:31:57.531Z"
   },
   {
    "duration": 15,
    "start_time": "2021-09-22T19:31:57.658Z"
   },
   {
    "duration": 15,
    "start_time": "2021-09-22T19:31:57.676Z"
   },
   {
    "duration": 15,
    "start_time": "2021-09-22T19:31:57.693Z"
   },
   {
    "duration": 61,
    "start_time": "2021-09-22T19:31:57.710Z"
   },
   {
    "duration": 20,
    "start_time": "2021-09-22T19:31:57.773Z"
   },
   {
    "duration": 53,
    "start_time": "2021-09-22T19:31:57.796Z"
   },
   {
    "duration": 8,
    "start_time": "2021-09-22T19:31:57.851Z"
   },
   {
    "duration": 395,
    "start_time": "2021-09-22T19:31:57.861Z"
   },
   {
    "duration": 235,
    "start_time": "2021-09-22T19:31:58.258Z"
   },
   {
    "duration": 36,
    "start_time": "2021-09-22T19:31:58.494Z"
   },
   {
    "duration": 77,
    "start_time": "2021-09-22T19:31:58.531Z"
   },
   {
    "duration": 18,
    "start_time": "2021-09-22T19:31:58.610Z"
   },
   {
    "duration": 34,
    "start_time": "2021-09-22T19:32:44.900Z"
   },
   {
    "duration": 99,
    "start_time": "2021-09-22T19:33:15.610Z"
   },
   {
    "duration": 27,
    "start_time": "2021-09-22T19:33:31.677Z"
   },
   {
    "duration": 19,
    "start_time": "2021-09-22T19:33:40.639Z"
   },
   {
    "duration": 27,
    "start_time": "2021-09-22T19:33:55.040Z"
   },
   {
    "duration": 11,
    "start_time": "2021-09-22T19:34:29.361Z"
   },
   {
    "duration": 405,
    "start_time": "2021-09-22T19:34:34.132Z"
   },
   {
    "duration": 9,
    "start_time": "2021-09-22T19:35:12.826Z"
   },
   {
    "duration": 334,
    "start_time": "2021-09-23T16:50:59.768Z"
   },
   {
    "duration": 707,
    "start_time": "2021-09-23T16:51:14.164Z"
   },
   {
    "duration": 129,
    "start_time": "2021-09-23T16:51:14.873Z"
   },
   {
    "duration": 14,
    "start_time": "2021-09-23T16:51:15.006Z"
   },
   {
    "duration": 35,
    "start_time": "2021-09-23T16:51:15.022Z"
   },
   {
    "duration": 17,
    "start_time": "2021-09-23T16:51:15.059Z"
   },
   {
    "duration": 36,
    "start_time": "2021-09-23T16:51:15.078Z"
   },
   {
    "duration": 45,
    "start_time": "2021-09-23T16:51:15.117Z"
   },
   {
    "duration": 40,
    "start_time": "2021-09-23T16:51:15.164Z"
   },
   {
    "duration": 7,
    "start_time": "2021-09-23T16:51:15.206Z"
   },
   {
    "duration": 399,
    "start_time": "2021-09-23T16:51:15.215Z"
   },
   {
    "duration": 230,
    "start_time": "2021-09-23T16:51:15.616Z"
   },
   {
    "duration": 16,
    "start_time": "2021-09-23T16:51:15.848Z"
   },
   {
    "duration": 23,
    "start_time": "2021-09-23T16:51:15.866Z"
   },
   {
    "duration": 78,
    "start_time": "2021-09-23T16:51:15.891Z"
   },
   {
    "duration": 20,
    "start_time": "2021-09-23T16:51:47.819Z"
   },
   {
    "duration": 334,
    "start_time": "2021-09-23T16:54:38.277Z"
   },
   {
    "duration": 226,
    "start_time": "2021-09-23T16:55:06.889Z"
   },
   {
    "duration": 290,
    "start_time": "2021-09-23T16:56:39.409Z"
   },
   {
    "duration": 305,
    "start_time": "2021-09-23T16:56:49.070Z"
   },
   {
    "duration": 323,
    "start_time": "2021-09-23T16:56:57.101Z"
   },
   {
    "duration": 257,
    "start_time": "2021-09-23T16:57:00.788Z"
   },
   {
    "duration": 231,
    "start_time": "2021-09-23T16:57:38.490Z"
   },
   {
    "duration": 310,
    "start_time": "2021-09-23T16:57:46.698Z"
   },
   {
    "duration": 336,
    "start_time": "2021-09-23T16:57:56.346Z"
   },
   {
    "duration": 211,
    "start_time": "2021-09-23T16:57:59.758Z"
   },
   {
    "duration": 220,
    "start_time": "2021-09-23T16:58:02.852Z"
   },
   {
    "duration": 222,
    "start_time": "2021-09-23T16:58:49.517Z"
   },
   {
    "duration": 238,
    "start_time": "2021-09-23T16:59:02.718Z"
   },
   {
    "duration": 223,
    "start_time": "2021-09-23T16:59:38.862Z"
   },
   {
    "duration": 310,
    "start_time": "2021-09-23T16:59:59.284Z"
   },
   {
    "duration": 282,
    "start_time": "2021-09-23T17:00:03.305Z"
   },
   {
    "duration": 365,
    "start_time": "2021-09-23T17:00:09.597Z"
   },
   {
    "duration": 325,
    "start_time": "2021-09-23T17:00:15.552Z"
   },
   {
    "duration": 215,
    "start_time": "2021-09-23T17:00:18.603Z"
   },
   {
    "duration": 228,
    "start_time": "2021-09-23T17:00:25.769Z"
   },
   {
    "duration": 234,
    "start_time": "2021-09-23T17:00:39.347Z"
   },
   {
    "duration": 221,
    "start_time": "2021-09-23T17:00:43.615Z"
   },
   {
    "duration": 240,
    "start_time": "2021-09-23T17:00:51.716Z"
   },
   {
    "duration": 215,
    "start_time": "2021-09-23T17:00:56.409Z"
   },
   {
    "duration": 216,
    "start_time": "2021-09-23T17:01:00.921Z"
   },
   {
    "duration": 409,
    "start_time": "2021-09-23T17:01:44.165Z"
   },
   {
    "duration": 292,
    "start_time": "2021-09-23T17:01:53.757Z"
   },
   {
    "duration": 256,
    "start_time": "2021-09-23T17:02:34.406Z"
   },
   {
    "duration": 250,
    "start_time": "2021-09-23T17:03:07.858Z"
   },
   {
    "duration": 345,
    "start_time": "2021-09-23T17:03:31.145Z"
   },
   {
    "duration": 310,
    "start_time": "2021-09-23T17:03:39.230Z"
   },
   {
    "duration": 238,
    "start_time": "2021-09-23T17:09:54.743Z"
   },
   {
    "duration": 246,
    "start_time": "2021-09-23T17:10:11.234Z"
   },
   {
    "duration": 232,
    "start_time": "2021-09-23T17:10:34.570Z"
   },
   {
    "duration": 241,
    "start_time": "2021-09-23T17:12:23.124Z"
   },
   {
    "duration": 225,
    "start_time": "2021-09-23T17:14:14.321Z"
   },
   {
    "duration": 496,
    "start_time": "2021-09-23T17:14:52.809Z"
   },
   {
    "duration": 241,
    "start_time": "2021-09-23T17:15:10.442Z"
   },
   {
    "duration": 376,
    "start_time": "2021-09-23T17:16:59.609Z"
   },
   {
    "duration": 29,
    "start_time": "2021-09-23T17:21:21.077Z"
   },
   {
    "duration": 20,
    "start_time": "2021-09-23T17:21:53.712Z"
   },
   {
    "duration": 22,
    "start_time": "2021-09-23T17:22:06.858Z"
   },
   {
    "duration": 431,
    "start_time": "2021-09-23T17:26:48.698Z"
   },
   {
    "duration": 23,
    "start_time": "2021-09-23T17:27:56.196Z"
   },
   {
    "duration": 21,
    "start_time": "2021-09-23T17:29:19.034Z"
   },
   {
    "duration": 21,
    "start_time": "2021-09-23T17:34:41.213Z"
   },
   {
    "duration": 317,
    "start_time": "2021-09-23T17:35:17.835Z"
   },
   {
    "duration": 339,
    "start_time": "2021-09-23T17:35:27.440Z"
   },
   {
    "duration": 305,
    "start_time": "2021-09-23T17:35:39.152Z"
   },
   {
    "duration": 202,
    "start_time": "2021-09-23T17:36:00.801Z"
   },
   {
    "duration": 179,
    "start_time": "2021-09-23T17:36:13.571Z"
   },
   {
    "duration": 198,
    "start_time": "2021-09-23T17:36:39.453Z"
   },
   {
    "duration": 4,
    "start_time": "2021-09-23T17:37:23.719Z"
   },
   {
    "duration": 173,
    "start_time": "2021-09-23T17:37:46.023Z"
   },
   {
    "duration": 542,
    "start_time": "2021-09-23T17:38:04.053Z"
   },
   {
    "duration": 82,
    "start_time": "2021-09-23T17:38:35.032Z"
   },
   {
    "duration": 71,
    "start_time": "2021-09-23T17:39:34.688Z"
   },
   {
    "duration": 4,
    "start_time": "2021-09-23T17:42:06.291Z"
   },
   {
    "duration": 4,
    "start_time": "2021-09-23T17:42:13.113Z"
   },
   {
    "duration": 19,
    "start_time": "2021-09-23T17:42:57.583Z"
   },
   {
    "duration": 17,
    "start_time": "2021-09-23T17:43:14.584Z"
   },
   {
    "duration": 386,
    "start_time": "2021-09-23T17:44:51.694Z"
   },
   {
    "duration": 981,
    "start_time": "2021-09-23T17:45:16.714Z"
   },
   {
    "duration": 1136,
    "start_time": "2021-09-23T17:46:00.801Z"
   },
   {
    "duration": 922,
    "start_time": "2021-09-23T17:46:43.310Z"
   },
   {
    "duration": 942,
    "start_time": "2021-09-23T17:46:51.870Z"
   },
   {
    "duration": 1182,
    "start_time": "2021-09-23T17:47:21.182Z"
   },
   {
    "duration": 876,
    "start_time": "2021-09-23T17:47:45.429Z"
   },
   {
    "duration": 857,
    "start_time": "2021-09-23T17:47:54.040Z"
   },
   {
    "duration": 907,
    "start_time": "2021-09-23T17:47:57.987Z"
   },
   {
    "duration": 443,
    "start_time": "2021-09-23T17:50:13.763Z"
   },
   {
    "duration": 988,
    "start_time": "2021-09-23T17:50:23.205Z"
   },
   {
    "duration": 1169,
    "start_time": "2021-09-23T17:50:44.485Z"
   },
   {
    "duration": 1127,
    "start_time": "2021-09-23T17:51:20.070Z"
   },
   {
    "duration": 948,
    "start_time": "2021-09-23T17:51:47.111Z"
   },
   {
    "duration": 7250,
    "start_time": "2021-09-23T17:52:01.979Z"
   },
   {
    "duration": 1299,
    "start_time": "2021-09-23T17:52:18.925Z"
   },
   {
    "duration": 341,
    "start_time": "2021-09-23T17:54:03.995Z"
   },
   {
    "duration": 293,
    "start_time": "2021-09-23T17:54:24.339Z"
   },
   {
    "duration": 318,
    "start_time": "2021-09-23T17:54:36.865Z"
   },
   {
    "duration": 27,
    "start_time": "2021-09-23T17:54:43.479Z"
   },
   {
    "duration": 301,
    "start_time": "2021-09-23T17:54:59.156Z"
   },
   {
    "duration": 22,
    "start_time": "2021-09-23T17:55:11.061Z"
   },
   {
    "duration": 415,
    "start_time": "2021-09-23T17:55:38.138Z"
   },
   {
    "duration": 312,
    "start_time": "2021-09-23T17:55:49.960Z"
   },
   {
    "duration": 21,
    "start_time": "2021-09-23T17:56:05.037Z"
   },
   {
    "duration": 980,
    "start_time": "2021-09-23T17:56:11.679Z"
   },
   {
    "duration": 227,
    "start_time": "2021-09-23T17:57:41.651Z"
   },
   {
    "duration": 485,
    "start_time": "2021-09-23T17:58:16.937Z"
   },
   {
    "duration": 237,
    "start_time": "2021-09-23T17:58:32.609Z"
   },
   {
    "duration": 251,
    "start_time": "2021-09-23T17:59:09.159Z"
   },
   {
    "duration": 237,
    "start_time": "2021-09-23T18:00:20.780Z"
   },
   {
    "duration": 241,
    "start_time": "2021-09-23T18:01:24.607Z"
   },
   {
    "duration": 244,
    "start_time": "2021-09-23T18:01:46.267Z"
   },
   {
    "duration": 300,
    "start_time": "2021-09-23T18:02:13.890Z"
   },
   {
    "duration": 286,
    "start_time": "2021-09-23T18:02:22.665Z"
   },
   {
    "duration": 311,
    "start_time": "2021-09-23T18:03:41.510Z"
   },
   {
    "duration": 625,
    "start_time": "2021-09-23T18:04:02.050Z"
   },
   {
    "duration": 661,
    "start_time": "2021-09-23T18:04:22.769Z"
   },
   {
    "duration": 337,
    "start_time": "2021-09-23T18:04:33.829Z"
   },
   {
    "duration": 536,
    "start_time": "2021-09-23T18:06:20.234Z"
   },
   {
    "duration": 347,
    "start_time": "2021-09-23T18:06:28.615Z"
   },
   {
    "duration": 590,
    "start_time": "2021-09-23T18:12:04.023Z"
   },
   {
    "duration": 1101,
    "start_time": "2021-09-23T18:12:13.738Z"
   },
   {
    "duration": 591,
    "start_time": "2021-09-23T18:12:23.742Z"
   },
   {
    "duration": 360,
    "start_time": "2021-09-23T18:12:37.116Z"
   },
   {
    "duration": 358,
    "start_time": "2021-09-23T18:13:14.141Z"
   },
   {
    "duration": 345,
    "start_time": "2021-09-23T18:13:27.965Z"
   },
   {
    "duration": 372,
    "start_time": "2021-09-23T18:14:09.139Z"
   },
   {
    "duration": 451,
    "start_time": "2021-09-23T18:14:29.880Z"
   },
   {
    "duration": 463,
    "start_time": "2021-09-23T18:14:39.645Z"
   },
   {
    "duration": 658,
    "start_time": "2021-09-23T18:15:39.988Z"
   },
   {
    "duration": 420,
    "start_time": "2021-09-23T18:16:32.198Z"
   },
   {
    "duration": 413,
    "start_time": "2021-09-23T18:17:49.466Z"
   },
   {
    "duration": 450,
    "start_time": "2021-09-23T18:18:01.179Z"
   },
   {
    "duration": 446,
    "start_time": "2021-09-23T18:20:06.323Z"
   },
   {
    "duration": 775,
    "start_time": "2021-09-23T18:37:07.321Z"
   },
   {
    "duration": 139,
    "start_time": "2021-09-23T18:37:08.098Z"
   },
   {
    "duration": 18,
    "start_time": "2021-09-23T18:37:08.239Z"
   },
   {
    "duration": 17,
    "start_time": "2021-09-23T18:37:08.259Z"
   },
   {
    "duration": 18,
    "start_time": "2021-09-23T18:37:08.277Z"
   },
   {
    "duration": 62,
    "start_time": "2021-09-23T18:37:08.297Z"
   },
   {
    "duration": 21,
    "start_time": "2021-09-23T18:37:08.361Z"
   },
   {
    "duration": 35,
    "start_time": "2021-09-23T18:37:08.385Z"
   },
   {
    "duration": 8,
    "start_time": "2021-09-23T18:37:08.446Z"
   },
   {
    "duration": 404,
    "start_time": "2021-09-23T18:37:08.456Z"
   },
   {
    "duration": 349,
    "start_time": "2021-09-23T18:37:08.862Z"
   },
   {
    "duration": 320,
    "start_time": "2021-09-23T18:37:09.213Z"
   },
   {
    "duration": 247,
    "start_time": "2021-09-23T18:37:09.535Z"
   },
   {
    "duration": 245,
    "start_time": "2021-09-23T18:37:09.783Z"
   },
   {
    "duration": 241,
    "start_time": "2021-09-23T18:37:10.029Z"
   },
   {
    "duration": 229,
    "start_time": "2021-09-23T18:37:10.272Z"
   },
   {
    "duration": 17,
    "start_time": "2021-09-23T18:37:10.503Z"
   },
   {
    "duration": 37,
    "start_time": "2021-09-23T18:37:10.521Z"
   },
   {
    "duration": 19,
    "start_time": "2021-09-23T18:37:10.560Z"
   },
   {
    "duration": 240,
    "start_time": "2021-09-23T18:37:10.580Z"
   },
   {
    "duration": 242,
    "start_time": "2021-09-23T18:37:10.822Z"
   },
   {
    "duration": 22,
    "start_time": "2021-09-23T18:37:11.065Z"
   },
   {
    "duration": 26,
    "start_time": "2021-09-23T18:37:11.090Z"
   },
   {
    "duration": 421,
    "start_time": "2021-09-23T18:37:11.118Z"
   },
   {
    "duration": 87,
    "start_time": "2021-09-23T18:37:11.544Z"
   },
   {
    "duration": 21,
    "start_time": "2021-09-23T18:37:21.841Z"
   },
   {
    "duration": 5,
    "start_time": "2021-09-23T18:38:42.656Z"
   },
   {
    "duration": 20,
    "start_time": "2021-09-23T18:39:14.201Z"
   },
   {
    "duration": 5,
    "start_time": "2021-09-23T18:39:28.074Z"
   },
   {
    "duration": 93,
    "start_time": "2021-09-23T18:39:52.871Z"
   },
   {
    "duration": 94,
    "start_time": "2021-09-23T18:39:56.286Z"
   },
   {
    "duration": 325,
    "start_time": "2021-09-23T18:39:58.784Z"
   },
   {
    "duration": 7,
    "start_time": "2021-09-23T18:40:09.163Z"
   },
   {
    "duration": 19,
    "start_time": "2021-09-23T18:40:38.013Z"
   },
   {
    "duration": 6,
    "start_time": "2021-09-23T18:40:54.397Z"
   },
   {
    "duration": 6,
    "start_time": "2021-09-23T18:41:28.937Z"
   },
   {
    "duration": 5,
    "start_time": "2021-09-23T18:41:38.656Z"
   },
   {
    "duration": 5,
    "start_time": "2021-09-23T18:41:46.741Z"
   },
   {
    "duration": 91,
    "start_time": "2021-09-23T18:43:48.186Z"
   },
   {
    "duration": 98,
    "start_time": "2021-09-23T18:43:58.941Z"
   },
   {
    "duration": 285,
    "start_time": "2021-09-23T18:44:02.559Z"
   },
   {
    "duration": 8,
    "start_time": "2021-09-23T18:44:18.550Z"
   },
   {
    "duration": 556,
    "start_time": "2021-09-23T18:46:02.391Z"
   },
   {
    "duration": 190,
    "start_time": "2021-09-23T18:46:11.492Z"
   },
   {
    "duration": 190,
    "start_time": "2021-09-23T18:46:54.082Z"
   },
   {
    "duration": 334,
    "start_time": "2021-09-23T18:47:06.536Z"
   },
   {
    "duration": 213,
    "start_time": "2021-09-23T18:47:11.079Z"
   },
   {
    "duration": 198,
    "start_time": "2021-09-23T18:47:57.726Z"
   },
   {
    "duration": 197,
    "start_time": "2021-09-23T18:48:05.521Z"
   },
   {
    "duration": 1329,
    "start_time": "2021-09-23T18:48:27.685Z"
   },
   {
    "duration": 208,
    "start_time": "2021-09-23T18:48:40.462Z"
   },
   {
    "duration": 212,
    "start_time": "2021-09-23T18:48:52.429Z"
   },
   {
    "duration": 212,
    "start_time": "2021-09-23T18:49:28.577Z"
   },
   {
    "duration": 208,
    "start_time": "2021-09-23T18:49:36.019Z"
   },
   {
    "duration": 196,
    "start_time": "2021-09-23T18:49:54.765Z"
   },
   {
    "duration": 529,
    "start_time": "2021-09-23T18:50:12.730Z"
   },
   {
    "duration": 200,
    "start_time": "2021-09-23T18:51:53.167Z"
   },
   {
    "duration": 244,
    "start_time": "2021-09-23T18:52:04.345Z"
   },
   {
    "duration": 200,
    "start_time": "2021-09-23T18:52:15.434Z"
   },
   {
    "duration": 247,
    "start_time": "2021-09-23T18:52:31.166Z"
   },
   {
    "duration": 172,
    "start_time": "2021-09-23T18:54:08.653Z"
   },
   {
    "duration": 302,
    "start_time": "2021-09-23T18:54:14.620Z"
   },
   {
    "duration": 204,
    "start_time": "2021-09-23T18:54:19.302Z"
   },
   {
    "duration": 227,
    "start_time": "2021-09-23T18:54:24.085Z"
   },
   {
    "duration": 225,
    "start_time": "2021-09-23T18:54:28.525Z"
   },
   {
    "duration": 338,
    "start_time": "2021-09-23T18:56:48.701Z"
   },
   {
    "duration": 259,
    "start_time": "2021-09-23T18:56:55.755Z"
   },
   {
    "duration": 231,
    "start_time": "2021-09-23T18:57:07.679Z"
   },
   {
    "duration": 168,
    "start_time": "2021-09-23T18:57:34.176Z"
   },
   {
    "duration": 204,
    "start_time": "2021-09-23T18:57:38.229Z"
   },
   {
    "duration": 250,
    "start_time": "2021-09-23T18:57:48.553Z"
   },
   {
    "duration": 205,
    "start_time": "2021-09-23T18:57:53.004Z"
   },
   {
    "duration": 3357,
    "start_time": "2021-09-27T17:43:48.515Z"
   },
   {
    "duration": -874,
    "start_time": "2021-09-27T17:43:52.750Z"
   },
   {
    "duration": -879,
    "start_time": "2021-09-27T17:43:52.756Z"
   },
   {
    "duration": -1011,
    "start_time": "2021-09-27T17:43:52.890Z"
   },
   {
    "duration": -1040,
    "start_time": "2021-09-27T17:43:52.920Z"
   },
   {
    "duration": -1077,
    "start_time": "2021-09-27T17:43:52.958Z"
   },
   {
    "duration": -1082,
    "start_time": "2021-09-27T17:43:52.965Z"
   },
   {
    "duration": -1105,
    "start_time": "2021-09-27T17:43:52.989Z"
   },
   {
    "duration": -1157,
    "start_time": "2021-09-27T17:43:53.042Z"
   },
   {
    "duration": -1222,
    "start_time": "2021-09-27T17:43:53.109Z"
   },
   {
    "duration": -1228,
    "start_time": "2021-09-27T17:43:53.116Z"
   },
   {
    "duration": -1234,
    "start_time": "2021-09-27T17:43:53.123Z"
   },
   {
    "duration": -1285,
    "start_time": "2021-09-27T17:43:53.176Z"
   },
   {
    "duration": -1291,
    "start_time": "2021-09-27T17:43:53.183Z"
   },
   {
    "duration": -1301,
    "start_time": "2021-09-27T17:43:53.194Z"
   },
   {
    "duration": -1575,
    "start_time": "2021-09-27T17:43:53.470Z"
   },
   {
    "duration": -1634,
    "start_time": "2021-09-27T17:43:53.530Z"
   },
   {
    "duration": -1640,
    "start_time": "2021-09-27T17:43:53.538Z"
   },
   {
    "duration": -1645,
    "start_time": "2021-09-27T17:43:53.544Z"
   },
   {
    "duration": -1650,
    "start_time": "2021-09-27T17:43:53.550Z"
   },
   {
    "duration": -1654,
    "start_time": "2021-09-27T17:43:53.556Z"
   },
   {
    "duration": -1660,
    "start_time": "2021-09-27T17:43:53.563Z"
   },
   {
    "duration": -1667,
    "start_time": "2021-09-27T17:43:53.572Z"
   },
   {
    "duration": -1675,
    "start_time": "2021-09-27T17:43:53.581Z"
   },
   {
    "duration": -1679,
    "start_time": "2021-09-27T17:43:53.586Z"
   },
   {
    "duration": -1996,
    "start_time": "2021-09-27T17:43:53.904Z"
   },
   {
    "duration": -2001,
    "start_time": "2021-09-27T17:43:53.911Z"
   },
   {
    "duration": -2008,
    "start_time": "2021-09-27T17:43:53.919Z"
   },
   {
    "duration": 330,
    "start_time": "2021-09-27T17:45:24.518Z"
   },
   {
    "duration": 4,
    "start_time": "2021-09-27T17:46:09.996Z"
   },
   {
    "duration": 320,
    "start_time": "2021-09-27T17:46:10.740Z"
   },
   {
    "duration": 858,
    "start_time": "2021-09-27T17:46:15.759Z"
   },
   {
    "duration": 315,
    "start_time": "2021-09-27T17:46:16.619Z"
   },
   {
    "duration": 108,
    "start_time": "2021-09-27T17:46:16.937Z"
   },
   {
    "duration": 235,
    "start_time": "2021-09-27T17:46:17.048Z"
   },
   {
    "duration": 19,
    "start_time": "2021-09-27T17:46:17.286Z"
   },
   {
    "duration": 27,
    "start_time": "2021-09-27T17:46:17.307Z"
   },
   {
    "duration": 50,
    "start_time": "2021-09-27T17:46:17.336Z"
   },
   {
    "duration": 97,
    "start_time": "2021-09-27T17:46:17.390Z"
   },
   {
    "duration": 26,
    "start_time": "2021-09-27T17:46:17.490Z"
   },
   {
    "duration": 80,
    "start_time": "2021-09-27T17:46:17.518Z"
   },
   {
    "duration": 12,
    "start_time": "2021-09-27T17:46:17.601Z"
   },
   {
    "duration": 689,
    "start_time": "2021-09-27T17:46:17.616Z"
   },
   {
    "duration": 407,
    "start_time": "2021-09-27T17:46:18.308Z"
   },
   {
    "duration": 488,
    "start_time": "2021-09-27T17:46:18.717Z"
   },
   {
    "duration": 414,
    "start_time": "2021-09-27T17:46:19.207Z"
   },
   {
    "duration": 413,
    "start_time": "2021-09-27T17:46:19.624Z"
   },
   {
    "duration": 417,
    "start_time": "2021-09-27T17:46:20.039Z"
   },
   {
    "duration": 577,
    "start_time": "2021-09-27T17:46:20.458Z"
   },
   {
    "duration": 26,
    "start_time": "2021-09-27T17:46:21.038Z"
   },
   {
    "duration": 39,
    "start_time": "2021-09-27T17:46:21.083Z"
   },
   {
    "duration": 35,
    "start_time": "2021-09-27T17:46:21.125Z"
   },
   {
    "duration": 345,
    "start_time": "2021-09-27T17:46:21.162Z"
   },
   {
    "duration": 394,
    "start_time": "2021-09-27T17:46:21.512Z"
   },
   {
    "duration": 34,
    "start_time": "2021-09-27T17:46:21.909Z"
   },
   {
    "duration": 656,
    "start_time": "2021-09-27T17:46:21.945Z"
   },
   {
    "duration": 36,
    "start_time": "2021-09-27T17:46:22.603Z"
   },
   {
    "duration": 48,
    "start_time": "2021-09-27T17:46:22.641Z"
   },
   {
    "duration": 370,
    "start_time": "2021-09-27T17:46:22.693Z"
   },
   {
    "duration": 411,
    "start_time": "2021-09-27T17:46:23.066Z"
   },
   {
    "duration": 410,
    "start_time": "2021-09-27T17:46:23.483Z"
   },
   {
    "duration": 112,
    "start_time": "2021-09-27T18:41:29.828Z"
   },
   {
    "duration": 122,
    "start_time": "2021-09-27T18:43:08.424Z"
   },
   {
    "duration": 177,
    "start_time": "2021-09-27T19:01:05.238Z"
   },
   {
    "duration": 160,
    "start_time": "2021-09-27T19:03:28.803Z"
   },
   {
    "duration": 715,
    "start_time": "2021-09-27T19:05:31.334Z"
   },
   {
    "duration": 301,
    "start_time": "2021-09-27T19:05:32.053Z"
   },
   {
    "duration": 125,
    "start_time": "2021-09-27T19:05:32.357Z"
   },
   {
    "duration": 238,
    "start_time": "2021-09-27T19:05:32.485Z"
   },
   {
    "duration": 29,
    "start_time": "2021-09-27T19:05:32.726Z"
   },
   {
    "duration": 55,
    "start_time": "2021-09-27T19:05:32.758Z"
   },
   {
    "duration": 39,
    "start_time": "2021-09-27T19:05:32.816Z"
   },
   {
    "duration": 98,
    "start_time": "2021-09-27T19:05:32.858Z"
   },
   {
    "duration": 48,
    "start_time": "2021-09-27T19:05:32.960Z"
   },
   {
    "duration": 81,
    "start_time": "2021-09-27T19:05:33.013Z"
   },
   {
    "duration": 16,
    "start_time": "2021-09-27T19:05:33.098Z"
   },
   {
    "duration": 680,
    "start_time": "2021-09-27T19:05:33.118Z"
   },
   {
    "duration": 426,
    "start_time": "2021-09-27T19:05:33.800Z"
   },
   {
    "duration": 548,
    "start_time": "2021-09-27T19:05:34.229Z"
   },
   {
    "duration": 431,
    "start_time": "2021-09-27T19:05:34.779Z"
   },
   {
    "duration": 572,
    "start_time": "2021-09-27T19:05:35.212Z"
   },
   {
    "duration": 459,
    "start_time": "2021-09-27T19:05:35.787Z"
   },
   {
    "duration": 573,
    "start_time": "2021-09-27T19:05:36.249Z"
   },
   {
    "duration": 28,
    "start_time": "2021-09-27T19:05:36.825Z"
   },
   {
    "duration": 63,
    "start_time": "2021-09-27T19:05:36.856Z"
   },
   {
    "duration": 32,
    "start_time": "2021-09-27T19:05:36.921Z"
   },
   {
    "duration": 356,
    "start_time": "2021-09-27T19:05:36.956Z"
   },
   {
    "duration": 427,
    "start_time": "2021-09-27T19:05:37.315Z"
   },
   {
    "duration": 47,
    "start_time": "2021-09-27T19:05:37.745Z"
   },
   {
    "duration": 668,
    "start_time": "2021-09-27T19:05:37.795Z"
   },
   {
    "duration": 47,
    "start_time": "2021-09-27T19:05:38.466Z"
   },
   {
    "duration": 16,
    "start_time": "2021-09-27T19:05:38.518Z"
   },
   {
    "duration": 392,
    "start_time": "2021-09-27T19:05:38.537Z"
   },
   {
    "duration": 445,
    "start_time": "2021-09-27T19:05:38.931Z"
   },
   {
    "duration": 409,
    "start_time": "2021-09-27T19:05:39.383Z"
   },
   {
    "duration": 397,
    "start_time": "2021-09-28T18:20:31.526Z"
   },
   {
    "duration": 742,
    "start_time": "2021-09-28T18:20:51.226Z"
   },
   {
    "duration": 333,
    "start_time": "2021-09-28T18:20:51.971Z"
   },
   {
    "duration": 27,
    "start_time": "2021-09-28T18:20:52.307Z"
   },
   {
    "duration": 11,
    "start_time": "2021-09-28T18:20:52.336Z"
   },
   {
    "duration": 7,
    "start_time": "2021-09-28T18:20:52.350Z"
   },
   {
    "duration": 31,
    "start_time": "2021-09-28T18:20:52.359Z"
   },
   {
    "duration": 15,
    "start_time": "2021-09-28T18:20:52.392Z"
   },
   {
    "duration": 43,
    "start_time": "2021-09-28T18:20:52.411Z"
   },
   {
    "duration": 44,
    "start_time": "2021-09-28T18:20:52.457Z"
   },
   {
    "duration": 300,
    "start_time": "2021-09-28T18:20:52.503Z"
   },
   {
    "duration": 29,
    "start_time": "2021-09-28T18:20:52.807Z"
   },
   {
    "duration": 54,
    "start_time": "2021-09-28T18:20:52.839Z"
   },
   {
    "duration": 28,
    "start_time": "2021-09-28T18:20:52.895Z"
   },
   {
    "duration": 106,
    "start_time": "2021-09-28T18:20:52.926Z"
   },
   {
    "duration": 49,
    "start_time": "2021-09-28T18:20:53.035Z"
   },
   {
    "duration": 54,
    "start_time": "2021-09-28T18:20:53.087Z"
   },
   {
    "duration": 45,
    "start_time": "2021-09-28T18:20:53.144Z"
   },
   {
    "duration": 428,
    "start_time": "2021-09-28T18:20:53.192Z"
   },
   {
    "duration": -2235,
    "start_time": "2021-09-28T18:20:55.859Z"
   },
   {
    "duration": -2236,
    "start_time": "2021-09-28T18:20:55.862Z"
   },
   {
    "duration": -2238,
    "start_time": "2021-09-28T18:20:55.865Z"
   },
   {
    "duration": -2238,
    "start_time": "2021-09-28T18:20:55.867Z"
   },
   {
    "duration": -2241,
    "start_time": "2021-09-28T18:20:55.871Z"
   },
   {
    "duration": -2243,
    "start_time": "2021-09-28T18:20:55.874Z"
   },
   {
    "duration": -2244,
    "start_time": "2021-09-28T18:20:55.877Z"
   },
   {
    "duration": -2244,
    "start_time": "2021-09-28T18:20:55.879Z"
   },
   {
    "duration": -2245,
    "start_time": "2021-09-28T18:20:55.881Z"
   },
   {
    "duration": -2246,
    "start_time": "2021-09-28T18:20:55.884Z"
   },
   {
    "duration": -2247,
    "start_time": "2021-09-28T18:20:55.886Z"
   },
   {
    "duration": -2250,
    "start_time": "2021-09-28T18:20:55.890Z"
   },
   {
    "duration": -2250,
    "start_time": "2021-09-28T18:20:55.892Z"
   },
   {
    "duration": -2251,
    "start_time": "2021-09-28T18:20:55.894Z"
   },
   {
    "duration": -2253,
    "start_time": "2021-09-28T18:20:55.897Z"
   },
   {
    "duration": -2253,
    "start_time": "2021-09-28T18:20:55.899Z"
   },
   {
    "duration": -2254,
    "start_time": "2021-09-28T18:20:55.901Z"
   },
   {
    "duration": -2255,
    "start_time": "2021-09-28T18:20:55.904Z"
   },
   {
    "duration": -2256,
    "start_time": "2021-09-28T18:20:55.906Z"
   },
   {
    "duration": 1234,
    "start_time": "2021-09-28T18:21:33.193Z"
   },
   {
    "duration": 694,
    "start_time": "2021-09-28T18:21:37.026Z"
   },
   {
    "duration": 383,
    "start_time": "2021-09-28T18:21:41.545Z"
   },
   {
    "duration": 424,
    "start_time": "2021-09-28T18:21:47.297Z"
   },
   {
    "duration": 416,
    "start_time": "2021-09-28T18:21:53.157Z"
   },
   {
    "duration": 418,
    "start_time": "2021-09-28T18:21:56.617Z"
   },
   {
    "duration": 396,
    "start_time": "2021-09-28T18:21:59.720Z"
   },
   {
    "duration": 575,
    "start_time": "2021-09-28T18:22:03.628Z"
   },
   {
    "duration": 753,
    "start_time": "2021-09-28T18:22:56.316Z"
   },
   {
    "duration": 341,
    "start_time": "2021-09-28T18:22:57.072Z"
   },
   {
    "duration": 27,
    "start_time": "2021-09-28T18:22:57.415Z"
   },
   {
    "duration": 12,
    "start_time": "2021-09-28T18:22:57.445Z"
   },
   {
    "duration": 8,
    "start_time": "2021-09-28T18:22:57.460Z"
   },
   {
    "duration": 23,
    "start_time": "2021-09-28T18:22:57.471Z"
   },
   {
    "duration": 13,
    "start_time": "2021-09-28T18:22:57.496Z"
   },
   {
    "duration": 82,
    "start_time": "2021-09-28T18:22:57.512Z"
   },
   {
    "duration": 16,
    "start_time": "2021-09-28T18:22:57.597Z"
   },
   {
    "duration": 236,
    "start_time": "2021-09-28T18:22:57.615Z"
   },
   {
    "duration": 33,
    "start_time": "2021-09-28T18:22:57.853Z"
   },
   {
    "duration": 31,
    "start_time": "2021-09-28T18:22:57.890Z"
   },
   {
    "duration": 63,
    "start_time": "2021-09-28T18:22:57.924Z"
   },
   {
    "duration": 93,
    "start_time": "2021-09-28T18:22:57.990Z"
   },
   {
    "duration": 26,
    "start_time": "2021-09-28T18:22:58.086Z"
   },
   {
    "duration": 69,
    "start_time": "2021-09-28T18:22:58.114Z"
   },
   {
    "duration": 11,
    "start_time": "2021-09-28T18:22:58.186Z"
   },
   {
    "duration": 42,
    "start_time": "2021-09-28T18:22:58.199Z"
   },
   {
    "duration": 534,
    "start_time": "2021-09-28T18:22:58.243Z"
   },
   {
    "duration": -2224,
    "start_time": "2021-09-28T18:23:01.004Z"
   },
   {
    "duration": -2225,
    "start_time": "2021-09-28T18:23:01.007Z"
   },
   {
    "duration": -2225,
    "start_time": "2021-09-28T18:23:01.009Z"
   },
   {
    "duration": -2226,
    "start_time": "2021-09-28T18:23:01.011Z"
   },
   {
    "duration": -2228,
    "start_time": "2021-09-28T18:23:01.014Z"
   },
   {
    "duration": -2232,
    "start_time": "2021-09-28T18:23:01.020Z"
   },
   {
    "duration": -2233,
    "start_time": "2021-09-28T18:23:01.022Z"
   },
   {
    "duration": -2234,
    "start_time": "2021-09-28T18:23:01.025Z"
   },
   {
    "duration": -2235,
    "start_time": "2021-09-28T18:23:01.027Z"
   },
   {
    "duration": -2236,
    "start_time": "2021-09-28T18:23:01.029Z"
   },
   {
    "duration": -2236,
    "start_time": "2021-09-28T18:23:01.031Z"
   },
   {
    "duration": -2238,
    "start_time": "2021-09-28T18:23:01.034Z"
   },
   {
    "duration": -2238,
    "start_time": "2021-09-28T18:23:01.036Z"
   },
   {
    "duration": -2240,
    "start_time": "2021-09-28T18:23:01.039Z"
   },
   {
    "duration": -2241,
    "start_time": "2021-09-28T18:23:01.041Z"
   },
   {
    "duration": -2241,
    "start_time": "2021-09-28T18:23:01.043Z"
   },
   {
    "duration": -2242,
    "start_time": "2021-09-28T18:23:01.045Z"
   },
   {
    "duration": -2243,
    "start_time": "2021-09-28T18:23:01.047Z"
   },
   {
    "duration": -2244,
    "start_time": "2021-09-28T18:23:01.050Z"
   },
   {
    "duration": -2246,
    "start_time": "2021-09-28T18:23:01.053Z"
   },
   {
    "duration": 56,
    "start_time": "2021-09-28T18:23:41.320Z"
   },
   {
    "duration": 58,
    "start_time": "2021-09-28T18:26:04.433Z"
   },
   {
    "duration": 855,
    "start_time": "2021-09-28T18:27:38.510Z"
   },
   {
    "duration": 477,
    "start_time": "2021-09-28T18:27:39.368Z"
   },
   {
    "duration": 26,
    "start_time": "2021-09-28T18:27:39.848Z"
   },
   {
    "duration": 14,
    "start_time": "2021-09-28T18:27:39.877Z"
   },
   {
    "duration": 11,
    "start_time": "2021-09-28T18:27:39.894Z"
   },
   {
    "duration": 19,
    "start_time": "2021-09-28T18:27:39.907Z"
   },
   {
    "duration": 11,
    "start_time": "2021-09-28T18:27:39.928Z"
   },
   {
    "duration": 72,
    "start_time": "2021-09-28T18:27:39.943Z"
   },
   {
    "duration": 17,
    "start_time": "2021-09-28T18:27:40.018Z"
   },
   {
    "duration": 250,
    "start_time": "2021-09-28T18:27:40.037Z"
   },
   {
    "duration": 20,
    "start_time": "2021-09-28T18:27:40.289Z"
   },
   {
    "duration": 22,
    "start_time": "2021-09-28T18:27:40.311Z"
   },
   {
    "duration": 63,
    "start_time": "2021-09-28T18:27:40.336Z"
   },
   {
    "duration": 118,
    "start_time": "2021-09-28T18:27:40.403Z"
   },
   {
    "duration": 28,
    "start_time": "2021-09-28T18:27:40.523Z"
   },
   {
    "duration": 83,
    "start_time": "2021-09-28T18:27:40.554Z"
   },
   {
    "duration": 16,
    "start_time": "2021-09-28T18:27:40.640Z"
   },
   {
    "duration": 1760,
    "start_time": "2021-09-28T18:27:40.683Z"
   },
   {
    "duration": 752,
    "start_time": "2021-09-28T18:27:42.446Z"
   },
   {
    "duration": 418,
    "start_time": "2021-09-28T18:27:43.201Z"
   },
   {
    "duration": 466,
    "start_time": "2021-09-28T18:27:43.621Z"
   },
   {
    "duration": 440,
    "start_time": "2021-09-28T18:27:44.089Z"
   },
   {
    "duration": 444,
    "start_time": "2021-09-28T18:27:44.534Z"
   },
   {
    "duration": 429,
    "start_time": "2021-09-28T18:27:44.984Z"
   },
   {
    "duration": 622,
    "start_time": "2021-09-28T18:27:45.416Z"
   },
   {
    "duration": 43,
    "start_time": "2021-09-28T18:27:46.041Z"
   },
   {
    "duration": 41,
    "start_time": "2021-09-28T18:27:46.087Z"
   },
   {
    "duration": 60,
    "start_time": "2021-09-28T18:27:46.132Z"
   },
   {
    "duration": 402,
    "start_time": "2021-09-28T18:27:46.195Z"
   },
   {
    "duration": 413,
    "start_time": "2021-09-28T18:27:46.603Z"
   },
   {
    "duration": 35,
    "start_time": "2021-09-28T18:27:47.018Z"
   },
   {
    "duration": 743,
    "start_time": "2021-09-28T18:27:47.056Z"
   },
   {
    "duration": 34,
    "start_time": "2021-09-28T18:27:47.802Z"
   },
   {
    "duration": 50,
    "start_time": "2021-09-28T18:27:47.838Z"
   },
   {
    "duration": 438,
    "start_time": "2021-09-28T18:27:47.890Z"
   },
   {
    "duration": 365,
    "start_time": "2021-09-28T18:27:48.331Z"
   },
   {
    "duration": 416,
    "start_time": "2021-09-28T18:27:48.699Z"
   },
   {
    "duration": 751,
    "start_time": "2021-09-28T18:28:34.059Z"
   },
   {
    "duration": 399,
    "start_time": "2021-09-28T18:28:34.812Z"
   },
   {
    "duration": 26,
    "start_time": "2021-09-28T18:28:35.214Z"
   },
   {
    "duration": 22,
    "start_time": "2021-09-28T18:28:35.243Z"
   },
   {
    "duration": 10,
    "start_time": "2021-09-28T18:28:35.268Z"
   },
   {
    "duration": 19,
    "start_time": "2021-09-28T18:28:35.281Z"
   },
   {
    "duration": 12,
    "start_time": "2021-09-28T18:28:35.303Z"
   },
   {
    "duration": 69,
    "start_time": "2021-09-28T18:28:35.320Z"
   },
   {
    "duration": 19,
    "start_time": "2021-09-28T18:28:35.393Z"
   },
   {
    "duration": 237,
    "start_time": "2021-09-28T18:28:35.415Z"
   },
   {
    "duration": 35,
    "start_time": "2021-09-28T18:28:35.656Z"
   },
   {
    "duration": 24,
    "start_time": "2021-09-28T18:28:35.694Z"
   },
   {
    "duration": 26,
    "start_time": "2021-09-28T18:28:35.721Z"
   },
   {
    "duration": 101,
    "start_time": "2021-09-28T18:28:35.781Z"
   },
   {
    "duration": 25,
    "start_time": "2021-09-28T18:28:35.884Z"
   },
   {
    "duration": 73,
    "start_time": "2021-09-28T18:28:35.912Z"
   },
   {
    "duration": 15,
    "start_time": "2021-09-28T18:28:35.988Z"
   },
   {
    "duration": 924,
    "start_time": "2021-09-28T18:28:36.006Z"
   },
   {
    "duration": -2223,
    "start_time": "2021-09-28T18:28:39.157Z"
   },
   {
    "duration": -2224,
    "start_time": "2021-09-28T18:28:39.159Z"
   },
   {
    "duration": -2225,
    "start_time": "2021-09-28T18:28:39.161Z"
   },
   {
    "duration": -2227,
    "start_time": "2021-09-28T18:28:39.164Z"
   },
   {
    "duration": -2229,
    "start_time": "2021-09-28T18:28:39.168Z"
   },
   {
    "duration": -2235,
    "start_time": "2021-09-28T18:28:39.175Z"
   },
   {
    "duration": -2236,
    "start_time": "2021-09-28T18:28:39.178Z"
   },
   {
    "duration": -2238,
    "start_time": "2021-09-28T18:28:39.181Z"
   },
   {
    "duration": -2246,
    "start_time": "2021-09-28T18:28:39.191Z"
   },
   {
    "duration": -2248,
    "start_time": "2021-09-28T18:28:39.194Z"
   },
   {
    "duration": -2249,
    "start_time": "2021-09-28T18:28:39.196Z"
   },
   {
    "duration": -2253,
    "start_time": "2021-09-28T18:28:39.202Z"
   },
   {
    "duration": -2258,
    "start_time": "2021-09-28T18:28:39.208Z"
   },
   {
    "duration": -2260,
    "start_time": "2021-09-28T18:28:39.212Z"
   },
   {
    "duration": -2265,
    "start_time": "2021-09-28T18:28:39.218Z"
   },
   {
    "duration": -2275,
    "start_time": "2021-09-28T18:28:39.229Z"
   },
   {
    "duration": -2280,
    "start_time": "2021-09-28T18:28:39.235Z"
   },
   {
    "duration": -2285,
    "start_time": "2021-09-28T18:28:39.241Z"
   },
   {
    "duration": -2286,
    "start_time": "2021-09-28T18:28:39.244Z"
   },
   {
    "duration": 778,
    "start_time": "2021-09-28T18:28:50.165Z"
   },
   {
    "duration": 347,
    "start_time": "2021-09-28T18:28:50.946Z"
   },
   {
    "duration": 26,
    "start_time": "2021-09-28T18:28:51.296Z"
   },
   {
    "duration": 11,
    "start_time": "2021-09-28T18:28:51.325Z"
   },
   {
    "duration": 8,
    "start_time": "2021-09-28T18:28:51.338Z"
   },
   {
    "duration": 40,
    "start_time": "2021-09-28T18:28:51.348Z"
   },
   {
    "duration": 12,
    "start_time": "2021-09-28T18:28:51.390Z"
   },
   {
    "duration": 46,
    "start_time": "2021-09-28T18:28:51.406Z"
   },
   {
    "duration": 41,
    "start_time": "2021-09-28T18:28:51.455Z"
   },
   {
    "duration": 223,
    "start_time": "2021-09-28T18:28:51.498Z"
   },
   {
    "duration": 20,
    "start_time": "2021-09-28T18:28:51.723Z"
   },
   {
    "duration": 42,
    "start_time": "2021-09-28T18:28:51.745Z"
   },
   {
    "duration": 27,
    "start_time": "2021-09-28T18:28:51.789Z"
   },
   {
    "duration": 97,
    "start_time": "2021-09-28T18:28:51.819Z"
   },
   {
    "duration": 24,
    "start_time": "2021-09-28T18:28:51.919Z"
   },
   {
    "duration": 84,
    "start_time": "2021-09-28T18:28:51.946Z"
   },
   {
    "duration": 12,
    "start_time": "2021-09-28T18:28:52.032Z"
   },
   {
    "duration": 1316,
    "start_time": "2021-09-28T18:28:52.046Z"
   },
   {
    "duration": 700,
    "start_time": "2021-09-28T18:28:53.364Z"
   },
   {
    "duration": 415,
    "start_time": "2021-09-28T18:28:54.067Z"
   },
   {
    "duration": 473,
    "start_time": "2021-09-28T18:28:54.484Z"
   },
   {
    "duration": 426,
    "start_time": "2021-09-28T18:28:54.959Z"
   },
   {
    "duration": 407,
    "start_time": "2021-09-28T18:28:55.390Z"
   },
   {
    "duration": 393,
    "start_time": "2021-09-28T18:28:55.800Z"
   },
   {
    "duration": 553,
    "start_time": "2021-09-28T18:28:56.195Z"
   },
   {
    "duration": 39,
    "start_time": "2021-09-28T18:28:56.750Z"
   },
   {
    "duration": 43,
    "start_time": "2021-09-28T18:28:56.792Z"
   },
   {
    "duration": 56,
    "start_time": "2021-09-28T18:28:56.837Z"
   },
   {
    "duration": 318,
    "start_time": "2021-09-28T18:28:56.895Z"
   },
   {
    "duration": 382,
    "start_time": "2021-09-28T18:28:57.216Z"
   },
   {
    "duration": 34,
    "start_time": "2021-09-28T18:28:57.600Z"
   },
   {
    "duration": 678,
    "start_time": "2021-09-28T18:28:57.636Z"
   },
   {
    "duration": 39,
    "start_time": "2021-09-28T18:28:58.316Z"
   },
   {
    "duration": 37,
    "start_time": "2021-09-28T18:28:58.358Z"
   },
   {
    "duration": 421,
    "start_time": "2021-09-28T18:28:58.397Z"
   },
   {
    "duration": 383,
    "start_time": "2021-09-28T18:28:58.820Z"
   },
   {
    "duration": 414,
    "start_time": "2021-09-28T18:28:59.206Z"
   },
   {
    "duration": 1383,
    "start_time": "2021-09-28T18:31:04.305Z"
   },
   {
    "duration": 826,
    "start_time": "2021-09-28T18:31:13.406Z"
   },
   {
    "duration": 463,
    "start_time": "2021-09-28T18:31:14.235Z"
   },
   {
    "duration": 27,
    "start_time": "2021-09-28T18:31:14.701Z"
   },
   {
    "duration": 12,
    "start_time": "2021-09-28T18:31:14.731Z"
   },
   {
    "duration": 9,
    "start_time": "2021-09-28T18:31:14.745Z"
   },
   {
    "duration": 39,
    "start_time": "2021-09-28T18:31:14.756Z"
   },
   {
    "duration": 11,
    "start_time": "2021-09-28T18:31:14.798Z"
   },
   {
    "duration": 45,
    "start_time": "2021-09-28T18:31:14.812Z"
   },
   {
    "duration": 41,
    "start_time": "2021-09-28T18:31:14.860Z"
   },
   {
    "duration": 247,
    "start_time": "2021-09-28T18:31:14.904Z"
   },
   {
    "duration": 36,
    "start_time": "2021-09-28T18:31:15.153Z"
   },
   {
    "duration": 22,
    "start_time": "2021-09-28T18:31:15.191Z"
   },
   {
    "duration": 27,
    "start_time": "2021-09-28T18:31:15.215Z"
   },
   {
    "duration": 105,
    "start_time": "2021-09-28T18:31:15.245Z"
   },
   {
    "duration": 48,
    "start_time": "2021-09-28T18:31:15.353Z"
   },
   {
    "duration": 77,
    "start_time": "2021-09-28T18:31:15.404Z"
   },
   {
    "duration": 12,
    "start_time": "2021-09-28T18:31:15.485Z"
   },
   {
    "duration": 1464,
    "start_time": "2021-09-28T18:31:15.500Z"
   },
   {
    "duration": 700,
    "start_time": "2021-09-28T18:31:16.966Z"
   },
   {
    "duration": 437,
    "start_time": "2021-09-28T18:31:17.669Z"
   },
   {
    "duration": 443,
    "start_time": "2021-09-28T18:31:18.108Z"
   },
   {
    "duration": 422,
    "start_time": "2021-09-28T18:31:18.554Z"
   },
   {
    "duration": 585,
    "start_time": "2021-09-28T18:31:18.986Z"
   },
   {
    "duration": 434,
    "start_time": "2021-09-28T18:31:19.574Z"
   },
   {
    "duration": 630,
    "start_time": "2021-09-28T18:31:20.010Z"
   },
   {
    "duration": 45,
    "start_time": "2021-09-28T18:31:20.643Z"
   },
   {
    "duration": 43,
    "start_time": "2021-09-28T18:31:20.691Z"
   },
   {
    "duration": 62,
    "start_time": "2021-09-28T18:31:20.737Z"
   },
   {
    "duration": 338,
    "start_time": "2021-09-28T18:31:20.803Z"
   },
   {
    "duration": 468,
    "start_time": "2021-09-28T18:31:21.144Z"
   },
   {
    "duration": 43,
    "start_time": "2021-09-28T18:31:21.615Z"
   },
   {
    "duration": 737,
    "start_time": "2021-09-28T18:31:21.660Z"
   },
   {
    "duration": 36,
    "start_time": "2021-09-28T18:31:22.400Z"
   },
   {
    "duration": 15,
    "start_time": "2021-09-28T18:31:22.438Z"
   },
   {
    "duration": 521,
    "start_time": "2021-09-28T18:31:22.456Z"
   },
   {
    "duration": 381,
    "start_time": "2021-09-28T18:31:22.983Z"
   },
   {
    "duration": 437,
    "start_time": "2021-09-28T18:31:23.367Z"
   },
   {
    "duration": 128,
    "start_time": "2021-09-28T18:34:59.500Z"
   },
   {
    "duration": 292,
    "start_time": "2021-09-28T18:35:06.437Z"
   },
   {
    "duration": 287,
    "start_time": "2021-09-28T18:35:58.602Z"
   },
   {
    "duration": 290,
    "start_time": "2021-09-28T18:36:18.798Z"
   },
   {
    "duration": 325,
    "start_time": "2021-09-28T18:36:34.806Z"
   },
   {
    "duration": 307,
    "start_time": "2021-09-28T18:36:40.383Z"
   },
   {
    "duration": 285,
    "start_time": "2021-09-28T18:36:47.203Z"
   },
   {
    "duration": 831,
    "start_time": "2021-09-28T18:36:52.396Z"
   },
   {
    "duration": 302,
    "start_time": "2021-09-28T18:36:55.048Z"
   },
   {
    "duration": 406,
    "start_time": "2021-09-28T18:37:31.637Z"
   },
   {
    "duration": 373,
    "start_time": "2021-09-28T18:37:56.145Z"
   },
   {
    "duration": 429,
    "start_time": "2021-09-28T18:37:59.697Z"
   },
   {
    "duration": 307,
    "start_time": "2021-09-28T18:38:02.241Z"
   },
   {
    "duration": 310,
    "start_time": "2021-09-28T18:38:12.062Z"
   },
   {
    "duration": 433,
    "start_time": "2021-09-28T18:40:15.466Z"
   },
   {
    "duration": 309,
    "start_time": "2021-09-28T18:41:07.853Z"
   },
   {
    "duration": 312,
    "start_time": "2021-09-28T18:42:18.840Z"
   },
   {
    "duration": 940,
    "start_time": "2021-09-28T18:42:35.253Z"
   },
   {
    "duration": 382,
    "start_time": "2021-09-28T18:42:42.630Z"
   },
   {
    "duration": 437,
    "start_time": "2021-09-28T18:42:54.369Z"
   },
   {
    "duration": 473,
    "start_time": "2021-09-28T18:43:01.664Z"
   },
   {
    "duration": 588,
    "start_time": "2021-09-28T18:43:21.528Z"
   },
   {
    "duration": 366,
    "start_time": "2021-09-28T18:43:58.930Z"
   },
   {
    "duration": 460,
    "start_time": "2021-09-28T18:44:15.084Z"
   },
   {
    "duration": 139,
    "start_time": "2021-09-28T18:45:31.619Z"
   },
   {
    "duration": 129,
    "start_time": "2021-09-28T18:51:43.047Z"
   },
   {
    "duration": 206,
    "start_time": "2021-09-28T18:52:00.221Z"
   },
   {
    "duration": 120,
    "start_time": "2021-09-28T18:52:13.397Z"
   },
   {
    "duration": 784,
    "start_time": "2021-09-28T18:53:34.004Z"
   },
   {
    "duration": 376,
    "start_time": "2021-09-28T18:53:34.791Z"
   },
   {
    "duration": 31,
    "start_time": "2021-09-28T18:53:35.170Z"
   },
   {
    "duration": 20,
    "start_time": "2021-09-28T18:53:35.205Z"
   },
   {
    "duration": 27,
    "start_time": "2021-09-28T18:53:35.228Z"
   },
   {
    "duration": 22,
    "start_time": "2021-09-28T18:53:35.258Z"
   },
   {
    "duration": 12,
    "start_time": "2021-09-28T18:53:35.283Z"
   },
   {
    "duration": 50,
    "start_time": "2021-09-28T18:53:35.299Z"
   },
   {
    "duration": 44,
    "start_time": "2021-09-28T18:53:35.353Z"
   },
   {
    "duration": 243,
    "start_time": "2021-09-28T18:53:35.399Z"
   },
   {
    "duration": 39,
    "start_time": "2021-09-28T18:53:35.644Z"
   },
   {
    "duration": 26,
    "start_time": "2021-09-28T18:53:35.685Z"
   },
   {
    "duration": 34,
    "start_time": "2021-09-28T18:53:35.714Z"
   },
   {
    "duration": 108,
    "start_time": "2021-09-28T18:53:35.750Z"
   },
   {
    "duration": 27,
    "start_time": "2021-09-28T18:53:35.883Z"
   },
   {
    "duration": 78,
    "start_time": "2021-09-28T18:53:35.913Z"
   },
   {
    "duration": 17,
    "start_time": "2021-09-28T18:53:35.994Z"
   },
   {
    "duration": 1418,
    "start_time": "2021-09-28T18:53:36.013Z"
   },
   {
    "duration": 868,
    "start_time": "2021-09-28T18:53:37.434Z"
   },
   {
    "duration": 428,
    "start_time": "2021-09-28T18:53:38.305Z"
   },
   {
    "duration": 447,
    "start_time": "2021-09-28T18:53:38.735Z"
   },
   {
    "duration": 419,
    "start_time": "2021-09-28T18:53:39.185Z"
   },
   {
    "duration": 418,
    "start_time": "2021-09-28T18:53:39.609Z"
   },
   {
    "duration": 382,
    "start_time": "2021-09-28T18:53:40.030Z"
   },
   {
    "duration": 585,
    "start_time": "2021-09-28T18:53:40.414Z"
   },
   {
    "duration": 26,
    "start_time": "2021-09-28T18:53:41.002Z"
   },
   {
    "duration": 58,
    "start_time": "2021-09-28T18:53:41.030Z"
   },
   {
    "duration": 32,
    "start_time": "2021-09-28T18:53:41.090Z"
   },
   {
    "duration": 330,
    "start_time": "2021-09-28T18:53:41.124Z"
   },
   {
    "duration": 399,
    "start_time": "2021-09-28T18:53:41.456Z"
   },
   {
    "duration": 46,
    "start_time": "2021-09-28T18:53:41.858Z"
   },
   {
    "duration": 650,
    "start_time": "2021-09-28T18:53:41.907Z"
   },
   {
    "duration": 49,
    "start_time": "2021-09-28T18:53:42.560Z"
   },
   {
    "duration": 16,
    "start_time": "2021-09-28T18:53:42.611Z"
   },
   {
    "duration": 465,
    "start_time": "2021-09-28T18:53:42.630Z"
   },
   {
    "duration": 342,
    "start_time": "2021-09-28T18:53:43.097Z"
   },
   {
    "duration": 406,
    "start_time": "2021-09-28T18:53:43.442Z"
   },
   {
    "duration": 503,
    "start_time": "2021-09-28T18:53:43.851Z"
   },
   {
    "duration": 64,
    "start_time": "2021-09-29T09:26:25.752Z"
   },
   {
    "duration": 65,
    "start_time": "2021-09-29T09:27:30.330Z"
   },
   {
    "duration": 67,
    "start_time": "2021-09-29T09:28:33.805Z"
   },
   {
    "duration": 219,
    "start_time": "2021-09-29T09:29:19.982Z"
   },
   {
    "duration": 1574,
    "start_time": "2021-09-29T09:29:25.470Z"
   },
   {
    "duration": 279,
    "start_time": "2021-09-29T09:29:27.046Z"
   },
   {
    "duration": 18,
    "start_time": "2021-09-29T09:29:27.328Z"
   },
   {
    "duration": 8,
    "start_time": "2021-09-29T09:29:27.349Z"
   },
   {
    "duration": 31,
    "start_time": "2021-09-29T09:29:27.359Z"
   },
   {
    "duration": 30,
    "start_time": "2021-09-29T09:29:27.392Z"
   },
   {
    "duration": 45,
    "start_time": "2021-09-29T09:29:27.424Z"
   },
   {
    "duration": 67,
    "start_time": "2021-09-29T09:29:27.473Z"
   },
   {
    "duration": 75,
    "start_time": "2021-09-29T09:29:27.542Z"
   },
   {
    "duration": 146,
    "start_time": "2021-09-29T09:29:27.619Z"
   },
   {
    "duration": 14,
    "start_time": "2021-09-29T09:29:27.767Z"
   },
   {
    "duration": 46,
    "start_time": "2021-09-29T09:29:27.783Z"
   },
   {
    "duration": 25,
    "start_time": "2021-09-29T09:29:27.831Z"
   },
   {
    "duration": 75,
    "start_time": "2021-09-29T09:29:27.858Z"
   },
   {
    "duration": 18,
    "start_time": "2021-09-29T09:29:27.934Z"
   },
   {
    "duration": 59,
    "start_time": "2021-09-29T09:29:27.954Z"
   },
   {
    "duration": 9,
    "start_time": "2021-09-29T09:29:28.016Z"
   },
   {
    "duration": 723,
    "start_time": "2021-09-29T09:29:28.026Z"
   },
   {
    "duration": 512,
    "start_time": "2021-09-29T09:29:28.751Z"
   },
   {
    "duration": 292,
    "start_time": "2021-09-29T09:29:29.265Z"
   },
   {
    "duration": 317,
    "start_time": "2021-09-29T09:29:29.559Z"
   },
   {
    "duration": 306,
    "start_time": "2021-09-29T09:29:29.877Z"
   },
   {
    "duration": 297,
    "start_time": "2021-09-29T09:29:30.186Z"
   },
   {
    "duration": 297,
    "start_time": "2021-09-29T09:29:30.486Z"
   },
   {
    "duration": 437,
    "start_time": "2021-09-29T09:29:30.785Z"
   },
   {
    "duration": 17,
    "start_time": "2021-09-29T09:29:31.224Z"
   },
   {
    "duration": 28,
    "start_time": "2021-09-29T09:29:31.243Z"
   },
   {
    "duration": 48,
    "start_time": "2021-09-29T09:29:31.273Z"
   },
   {
    "duration": 234,
    "start_time": "2021-09-29T09:29:31.323Z"
   },
   {
    "duration": 291,
    "start_time": "2021-09-29T09:29:31.559Z"
   },
   {
    "duration": 23,
    "start_time": "2021-09-29T09:29:31.852Z"
   },
   {
    "duration": 468,
    "start_time": "2021-09-29T09:29:31.877Z"
   },
   {
    "duration": 22,
    "start_time": "2021-09-29T09:29:32.347Z"
   },
   {
    "duration": 10,
    "start_time": "2021-09-29T09:29:32.370Z"
   },
   {
    "duration": 346,
    "start_time": "2021-09-29T09:29:32.382Z"
   },
   {
    "duration": 254,
    "start_time": "2021-09-29T09:29:32.729Z"
   },
   {
    "duration": 286,
    "start_time": "2021-09-29T09:29:32.984Z"
   },
   {
    "duration": 334,
    "start_time": "2021-09-29T09:29:33.272Z"
   },
   {
    "duration": 14,
    "start_time": "2021-09-29T09:29:33.608Z"
   },
   {
    "duration": 18,
    "start_time": "2021-09-29T09:29:57.772Z"
   },
   {
    "duration": 17,
    "start_time": "2021-09-29T09:30:38.270Z"
   },
   {
    "duration": 342,
    "start_time": "2021-09-29T09:31:03.715Z"
   },
   {
    "duration": 21,
    "start_time": "2021-09-29T09:31:20.807Z"
   },
   {
    "duration": 18,
    "start_time": "2021-09-29T09:31:25.950Z"
   },
   {
    "duration": 292,
    "start_time": "2021-09-29T09:31:48.496Z"
   },
   {
    "duration": 82,
    "start_time": "2021-09-29T09:32:42.183Z"
   },
   {
    "duration": 282,
    "start_time": "2021-09-29T09:33:12.878Z"
   },
   {
    "duration": 420,
    "start_time": "2021-09-29T09:33:39.247Z"
   },
   {
    "duration": 74,
    "start_time": "2021-09-29T09:35:06.979Z"
   },
   {
    "duration": 235,
    "start_time": "2021-09-29T09:39:34.039Z"
   },
   {
    "duration": 56,
    "start_time": "2021-09-29T09:39:56.552Z"
   },
   {
    "duration": 60,
    "start_time": "2021-09-29T09:42:39.459Z"
   },
   {
    "duration": 61,
    "start_time": "2021-09-29T09:45:07.933Z"
   }
  ],
  "colab": {
   "name": "DA+. Сборный проект 1. Шаблон (1).ipynb",
   "provenance": []
  },
  "kernelspec": {
   "display_name": "Python 3 (ipykernel)",
   "language": "python",
   "name": "python3"
  },
  "language_info": {
   "codemirror_mode": {
    "name": "ipython",
    "version": 3
   },
   "file_extension": ".py",
   "mimetype": "text/x-python",
   "name": "python",
   "nbconvert_exporter": "python",
   "pygments_lexer": "ipython3",
   "version": "3.10.4"
  },
  "toc": {
   "base_numbering": 1,
   "nav_menu": {},
   "number_sections": true,
   "sideBar": true,
   "skip_h1_title": true,
   "title_cell": "Table of Contents",
   "title_sidebar": "Contents",
   "toc_cell": false,
   "toc_position": {
    "height": "calc(100% - 180px)",
    "left": "10px",
    "top": "150px",
    "width": "375.391px"
   },
   "toc_section_display": true,
   "toc_window_display": false
  }
 },
 "nbformat": 4,
 "nbformat_minor": 1
}
