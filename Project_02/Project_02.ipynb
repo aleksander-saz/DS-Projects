{
 "cells": [
  {
   "cell_type": "markdown",
   "metadata": {},
   "source": [
    "# Survey of the reliablity of the bank clients\n",
    "\n",
    "Credit department of the bank requested to analyse does the marital status and quantity of child are influence on the payment of oustandins fees in the specified duration in credit contract. Incoming data - statistic with credit score of the cilents.\n",
    "\n",
    "The result of the survey will be used for the model of evalution of **credit score** - system wich evaluate the capacity of the client to pay the oustandins fees in the specified duration in credit contract"
   ]
  },
  {
   "cell_type": "markdown",
   "metadata": {},
   "source": [
    "## Step 1. Open the file and conduct the EDA"
   ]
  },
  {
   "cell_type": "code",
   "execution_count": 1,
   "metadata": {},
   "outputs": [],
   "source": [
    "# import of libraries\n",
    "import pandas as pd\n",
    "from pymystem3 import Mystem"
   ]
  },
  {
   "cell_type": "code",
   "execution_count": 2,
   "metadata": {},
   "outputs": [
    {
     "name": "stdout",
     "output_type": "stream",
     "text": [
      "<class 'pandas.core.frame.DataFrame'>\n",
      "RangeIndex: 21525 entries, 0 to 21524\n",
      "Data columns (total 12 columns):\n",
      " #   Column            Non-Null Count  Dtype  \n",
      "---  ------            --------------  -----  \n",
      " 0   children          21525 non-null  int64  \n",
      " 1   days_employed     19351 non-null  float64\n",
      " 2   dob_years         21525 non-null  int64  \n",
      " 3   education         21525 non-null  object \n",
      " 4   education_id      21525 non-null  int64  \n",
      " 5   family_status     21525 non-null  object \n",
      " 6   family_status_id  21525 non-null  int64  \n",
      " 7   gender            21525 non-null  object \n",
      " 8   income_type       21525 non-null  object \n",
      " 9   debt              21525 non-null  int64  \n",
      " 10  total_income      19351 non-null  float64\n",
      " 11  purpose           21525 non-null  object \n",
      "dtypes: float64(2), int64(5), object(5)\n",
      "memory usage: 2.0+ MB\n"
     ]
    },
    {
     "data": {
      "text/html": [
       "<div>\n",
       "<style scoped>\n",
       "    .dataframe tbody tr th:only-of-type {\n",
       "        vertical-align: middle;\n",
       "    }\n",
       "\n",
       "    .dataframe tbody tr th {\n",
       "        vertical-align: top;\n",
       "    }\n",
       "\n",
       "    .dataframe thead th {\n",
       "        text-align: right;\n",
       "    }\n",
       "</style>\n",
       "<table border=\"1\" class=\"dataframe\">\n",
       "  <thead>\n",
       "    <tr style=\"text-align: right;\">\n",
       "      <th></th>\n",
       "      <th>children</th>\n",
       "      <th>days_employed</th>\n",
       "      <th>dob_years</th>\n",
       "      <th>education</th>\n",
       "      <th>education_id</th>\n",
       "      <th>family_status</th>\n",
       "      <th>family_status_id</th>\n",
       "      <th>gender</th>\n",
       "      <th>income_type</th>\n",
       "      <th>debt</th>\n",
       "      <th>total_income</th>\n",
       "      <th>purpose</th>\n",
       "    </tr>\n",
       "  </thead>\n",
       "  <tbody>\n",
       "    <tr>\n",
       "      <th>0</th>\n",
       "      <td>1</td>\n",
       "      <td>-8437.673028</td>\n",
       "      <td>42</td>\n",
       "      <td>высшее</td>\n",
       "      <td>0</td>\n",
       "      <td>женат / замужем</td>\n",
       "      <td>0</td>\n",
       "      <td>F</td>\n",
       "      <td>сотрудник</td>\n",
       "      <td>0</td>\n",
       "      <td>253875.639453</td>\n",
       "      <td>покупка жилья</td>\n",
       "    </tr>\n",
       "    <tr>\n",
       "      <th>1</th>\n",
       "      <td>1</td>\n",
       "      <td>-4024.803754</td>\n",
       "      <td>36</td>\n",
       "      <td>среднее</td>\n",
       "      <td>1</td>\n",
       "      <td>женат / замужем</td>\n",
       "      <td>0</td>\n",
       "      <td>F</td>\n",
       "      <td>сотрудник</td>\n",
       "      <td>0</td>\n",
       "      <td>112080.014102</td>\n",
       "      <td>приобретение автомобиля</td>\n",
       "    </tr>\n",
       "    <tr>\n",
       "      <th>2</th>\n",
       "      <td>0</td>\n",
       "      <td>-5623.422610</td>\n",
       "      <td>33</td>\n",
       "      <td>Среднее</td>\n",
       "      <td>1</td>\n",
       "      <td>женат / замужем</td>\n",
       "      <td>0</td>\n",
       "      <td>M</td>\n",
       "      <td>сотрудник</td>\n",
       "      <td>0</td>\n",
       "      <td>145885.952297</td>\n",
       "      <td>покупка жилья</td>\n",
       "    </tr>\n",
       "    <tr>\n",
       "      <th>3</th>\n",
       "      <td>3</td>\n",
       "      <td>-4124.747207</td>\n",
       "      <td>32</td>\n",
       "      <td>среднее</td>\n",
       "      <td>1</td>\n",
       "      <td>женат / замужем</td>\n",
       "      <td>0</td>\n",
       "      <td>M</td>\n",
       "      <td>сотрудник</td>\n",
       "      <td>0</td>\n",
       "      <td>267628.550329</td>\n",
       "      <td>дополнительное образование</td>\n",
       "    </tr>\n",
       "    <tr>\n",
       "      <th>4</th>\n",
       "      <td>0</td>\n",
       "      <td>340266.072047</td>\n",
       "      <td>53</td>\n",
       "      <td>среднее</td>\n",
       "      <td>1</td>\n",
       "      <td>гражданский брак</td>\n",
       "      <td>1</td>\n",
       "      <td>F</td>\n",
       "      <td>пенсионер</td>\n",
       "      <td>0</td>\n",
       "      <td>158616.077870</td>\n",
       "      <td>сыграть свадьбу</td>\n",
       "    </tr>\n",
       "    <tr>\n",
       "      <th>5</th>\n",
       "      <td>0</td>\n",
       "      <td>-926.185831</td>\n",
       "      <td>27</td>\n",
       "      <td>высшее</td>\n",
       "      <td>0</td>\n",
       "      <td>гражданский брак</td>\n",
       "      <td>1</td>\n",
       "      <td>M</td>\n",
       "      <td>компаньон</td>\n",
       "      <td>0</td>\n",
       "      <td>255763.565419</td>\n",
       "      <td>покупка жилья</td>\n",
       "    </tr>\n",
       "    <tr>\n",
       "      <th>6</th>\n",
       "      <td>0</td>\n",
       "      <td>-2879.202052</td>\n",
       "      <td>43</td>\n",
       "      <td>высшее</td>\n",
       "      <td>0</td>\n",
       "      <td>женат / замужем</td>\n",
       "      <td>0</td>\n",
       "      <td>F</td>\n",
       "      <td>компаньон</td>\n",
       "      <td>0</td>\n",
       "      <td>240525.971920</td>\n",
       "      <td>операции с жильем</td>\n",
       "    </tr>\n",
       "    <tr>\n",
       "      <th>7</th>\n",
       "      <td>0</td>\n",
       "      <td>-152.779569</td>\n",
       "      <td>50</td>\n",
       "      <td>СРЕДНЕЕ</td>\n",
       "      <td>1</td>\n",
       "      <td>женат / замужем</td>\n",
       "      <td>0</td>\n",
       "      <td>M</td>\n",
       "      <td>сотрудник</td>\n",
       "      <td>0</td>\n",
       "      <td>135823.934197</td>\n",
       "      <td>образование</td>\n",
       "    </tr>\n",
       "    <tr>\n",
       "      <th>8</th>\n",
       "      <td>2</td>\n",
       "      <td>-6929.865299</td>\n",
       "      <td>35</td>\n",
       "      <td>ВЫСШЕЕ</td>\n",
       "      <td>0</td>\n",
       "      <td>гражданский брак</td>\n",
       "      <td>1</td>\n",
       "      <td>F</td>\n",
       "      <td>сотрудник</td>\n",
       "      <td>0</td>\n",
       "      <td>95856.832424</td>\n",
       "      <td>на проведение свадьбы</td>\n",
       "    </tr>\n",
       "    <tr>\n",
       "      <th>9</th>\n",
       "      <td>0</td>\n",
       "      <td>-2188.756445</td>\n",
       "      <td>41</td>\n",
       "      <td>среднее</td>\n",
       "      <td>1</td>\n",
       "      <td>женат / замужем</td>\n",
       "      <td>0</td>\n",
       "      <td>M</td>\n",
       "      <td>сотрудник</td>\n",
       "      <td>0</td>\n",
       "      <td>144425.938277</td>\n",
       "      <td>покупка жилья для семьи</td>\n",
       "    </tr>\n",
       "  </tbody>\n",
       "</table>\n",
       "</div>"
      ],
      "text/plain": [
       "   children  days_employed  dob_years education  education_id  \\\n",
       "0         1   -8437.673028         42    высшее             0   \n",
       "1         1   -4024.803754         36   среднее             1   \n",
       "2         0   -5623.422610         33   Среднее             1   \n",
       "3         3   -4124.747207         32   среднее             1   \n",
       "4         0  340266.072047         53   среднее             1   \n",
       "5         0    -926.185831         27    высшее             0   \n",
       "6         0   -2879.202052         43    высшее             0   \n",
       "7         0    -152.779569         50   СРЕДНЕЕ             1   \n",
       "8         2   -6929.865299         35    ВЫСШЕЕ             0   \n",
       "9         0   -2188.756445         41   среднее             1   \n",
       "\n",
       "      family_status  family_status_id gender income_type  debt   total_income  \\\n",
       "0   женат / замужем                 0      F   сотрудник     0  253875.639453   \n",
       "1   женат / замужем                 0      F   сотрудник     0  112080.014102   \n",
       "2   женат / замужем                 0      M   сотрудник     0  145885.952297   \n",
       "3   женат / замужем                 0      M   сотрудник     0  267628.550329   \n",
       "4  гражданский брак                 1      F   пенсионер     0  158616.077870   \n",
       "5  гражданский брак                 1      M   компаньон     0  255763.565419   \n",
       "6   женат / замужем                 0      F   компаньон     0  240525.971920   \n",
       "7   женат / замужем                 0      M   сотрудник     0  135823.934197   \n",
       "8  гражданский брак                 1      F   сотрудник     0   95856.832424   \n",
       "9   женат / замужем                 0      M   сотрудник     0  144425.938277   \n",
       "\n",
       "                      purpose  \n",
       "0               покупка жилья  \n",
       "1     приобретение автомобиля  \n",
       "2               покупка жилья  \n",
       "3  дополнительное образование  \n",
       "4             сыграть свадьбу  \n",
       "5               покупка жилья  \n",
       "6           операции с жильем  \n",
       "7                 образование  \n",
       "8       на проведение свадьбы  \n",
       "9     покупка жилья для семьи  "
      ]
     },
     "execution_count": 2,
     "metadata": {},
     "output_type": "execute_result"
    }
   ],
   "source": [
    "# read the data and asign it to table variable \n",
    "table = pd.read_csv('/datasets/data.csv')\n",
    "\n",
    "# print table info and first 10 rows\n",
    "table.info()\n",
    "table.head(10)"
   ]
  },
  {
   "cell_type": "markdown",
   "metadata": {},
   "source": [
    "**Conclusion**"
   ]
  },
  {
   "cell_type": "markdown",
   "metadata": {},
   "source": [
    "1) The table has 21525 rows и 12 columns.\n",
    "\n",
    "2) In columns days_employed and total_income there are 2174 nulls, cleints without informtion on their income and occupation status. The total quanity of nuls almost 10% and sufficient for the dataset and overal statistic, therefore these data shall not be deleted.\n",
    "\n",
    "3) In columns education there is difference in applying of register, these data shall be processed to have the nuqie formatting.\n",
    "\n",
    "4) In columns days_employed and total_income data shall be procesed to get the understandable format for the further  work and analysis."
   ]
  },
  {
   "cell_type": "markdown",
   "metadata": {},
   "source": [
    "## Step 2. Data Preparation"
   ]
  },
  {
   "cell_type": "markdown",
   "metadata": {},
   "source": [
    "### Nulls processing"
   ]
  },
  {
   "cell_type": "markdown",
   "metadata": {},
   "source": [
    "For the purpose of avoiding of the data loss, the nulls value the columns total_income and days_employed to be filled with mean value."
   ]
  },
  {
   "cell_type": "code",
   "execution_count": 3,
   "metadata": {
    "scrolled": false
   },
   "outputs": [
    {
     "name": "stderr",
     "output_type": "stream",
     "text": [
      "/opt/conda/lib/python3.9/site-packages/numpy/lib/nanfunctions.py:1117: RuntimeWarning: Mean of empty slice\n",
      "  return np.nanmean(a, axis, out=out, keepdims=keepdims)\n"
     ]
    },
    {
     "data": {
      "text/html": [
       "<div>\n",
       "<style scoped>\n",
       "    .dataframe tbody tr th:only-of-type {\n",
       "        vertical-align: middle;\n",
       "    }\n",
       "\n",
       "    .dataframe tbody tr th {\n",
       "        vertical-align: top;\n",
       "    }\n",
       "\n",
       "    .dataframe thead th {\n",
       "        text-align: right;\n",
       "    }\n",
       "</style>\n",
       "<table border=\"1\" class=\"dataframe\">\n",
       "  <thead>\n",
       "    <tr style=\"text-align: right;\">\n",
       "      <th></th>\n",
       "      <th>education</th>\n",
       "      <th>income_type</th>\n",
       "      <th>age_category</th>\n",
       "      <th>median</th>\n",
       "    </tr>\n",
       "  </thead>\n",
       "  <tbody>\n",
       "    <tr>\n",
       "      <th>0</th>\n",
       "      <td>высшее</td>\n",
       "      <td>сотрудник</td>\n",
       "      <td>средний возраст</td>\n",
       "      <td>171441.00</td>\n",
       "    </tr>\n",
       "    <tr>\n",
       "      <th>1</th>\n",
       "      <td>среднее</td>\n",
       "      <td>сотрудник</td>\n",
       "      <td>средний возраст</td>\n",
       "      <td>138435.87</td>\n",
       "    </tr>\n",
       "    <tr>\n",
       "      <th>2</th>\n",
       "      <td>среднее</td>\n",
       "      <td>сотрудник</td>\n",
       "      <td>молодежь</td>\n",
       "      <td>131710.94</td>\n",
       "    </tr>\n",
       "    <tr>\n",
       "      <th>3</th>\n",
       "      <td>среднее</td>\n",
       "      <td>пенсионер</td>\n",
       "      <td>средний возраст</td>\n",
       "      <td>117894.96</td>\n",
       "    </tr>\n",
       "    <tr>\n",
       "      <th>4</th>\n",
       "      <td>высшее</td>\n",
       "      <td>компаньон</td>\n",
       "      <td>молодежь</td>\n",
       "      <td>191159.14</td>\n",
       "    </tr>\n",
       "    <tr>\n",
       "      <th>5</th>\n",
       "      <td>высшее</td>\n",
       "      <td>компаньон</td>\n",
       "      <td>средний возраст</td>\n",
       "      <td>215277.93</td>\n",
       "    </tr>\n",
       "    <tr>\n",
       "      <th>6</th>\n",
       "      <td>среднее</td>\n",
       "      <td>пенсионер</td>\n",
       "      <td>пожилого возраста</td>\n",
       "      <td>114200.79</td>\n",
       "    </tr>\n",
       "    <tr>\n",
       "      <th>7</th>\n",
       "      <td>неоконченное высшее</td>\n",
       "      <td>сотрудник</td>\n",
       "      <td>средний возраст</td>\n",
       "      <td>161129.20</td>\n",
       "    </tr>\n",
       "    <tr>\n",
       "      <th>8</th>\n",
       "      <td>высшее</td>\n",
       "      <td>компаньон</td>\n",
       "      <td>пожилого возраста</td>\n",
       "      <td>200807.92</td>\n",
       "    </tr>\n",
       "    <tr>\n",
       "      <th>9</th>\n",
       "      <td>высшее</td>\n",
       "      <td>сотрудник</td>\n",
       "      <td>молодежь</td>\n",
       "      <td>157505.97</td>\n",
       "    </tr>\n",
       "    <tr>\n",
       "      <th>10</th>\n",
       "      <td>среднее</td>\n",
       "      <td>госслужащий</td>\n",
       "      <td>средний возраст</td>\n",
       "      <td>134526.70</td>\n",
       "    </tr>\n",
       "    <tr>\n",
       "      <th>11</th>\n",
       "      <td>начальное</td>\n",
       "      <td>сотрудник</td>\n",
       "      <td>средний возраст</td>\n",
       "      <td>125560.37</td>\n",
       "    </tr>\n",
       "    <tr>\n",
       "      <th>12</th>\n",
       "      <td>среднее</td>\n",
       "      <td>компаньон</td>\n",
       "      <td>средний возраст</td>\n",
       "      <td>162140.52</td>\n",
       "    </tr>\n",
       "    <tr>\n",
       "      <th>13</th>\n",
       "      <td>среднее</td>\n",
       "      <td>компаньон</td>\n",
       "      <td>молодежь</td>\n",
       "      <td>154081.92</td>\n",
       "    </tr>\n",
       "    <tr>\n",
       "      <th>14</th>\n",
       "      <td>неоконченное высшее</td>\n",
       "      <td>сотрудник</td>\n",
       "      <td>молодежь</td>\n",
       "      <td>145919.11</td>\n",
       "    </tr>\n",
       "    <tr>\n",
       "      <th>15</th>\n",
       "      <td>неоконченное высшее</td>\n",
       "      <td>компаньон</td>\n",
       "      <td>средний возраст</td>\n",
       "      <td>215453.89</td>\n",
       "    </tr>\n",
       "    <tr>\n",
       "      <th>16</th>\n",
       "      <td>высшее</td>\n",
       "      <td>госслужащий</td>\n",
       "      <td>молодежь</td>\n",
       "      <td>160242.95</td>\n",
       "    </tr>\n",
       "    <tr>\n",
       "      <th>17</th>\n",
       "      <td>среднее</td>\n",
       "      <td>компаньон</td>\n",
       "      <td>пожилого возраста</td>\n",
       "      <td>164098.31</td>\n",
       "    </tr>\n",
       "    <tr>\n",
       "      <th>18</th>\n",
       "      <td>высшее</td>\n",
       "      <td>госслужащий</td>\n",
       "      <td>средний возраст</td>\n",
       "      <td>175589.24</td>\n",
       "    </tr>\n",
       "    <tr>\n",
       "      <th>19</th>\n",
       "      <td>высшее</td>\n",
       "      <td>пенсионер</td>\n",
       "      <td>средний возраст</td>\n",
       "      <td>160298.23</td>\n",
       "    </tr>\n",
       "    <tr>\n",
       "      <th>20</th>\n",
       "      <td>высшее</td>\n",
       "      <td>пенсионер</td>\n",
       "      <td>пожилого возраста</td>\n",
       "      <td>142307.34</td>\n",
       "    </tr>\n",
       "    <tr>\n",
       "      <th>21</th>\n",
       "      <td>среднее</td>\n",
       "      <td>пенсионер</td>\n",
       "      <td>молодежь</td>\n",
       "      <td>97620.69</td>\n",
       "    </tr>\n",
       "    <tr>\n",
       "      <th>22</th>\n",
       "      <td>среднее</td>\n",
       "      <td>сотрудник</td>\n",
       "      <td>пожилого возраста</td>\n",
       "      <td>140785.72</td>\n",
       "    </tr>\n",
       "    <tr>\n",
       "      <th>23</th>\n",
       "      <td>начальное</td>\n",
       "      <td>пенсионер</td>\n",
       "      <td>пожилого возраста</td>\n",
       "      <td>102598.65</td>\n",
       "    </tr>\n",
       "    <tr>\n",
       "      <th>24</th>\n",
       "      <td>неоконченное высшее</td>\n",
       "      <td>компаньон</td>\n",
       "      <td>молодежь</td>\n",
       "      <td>159994.53</td>\n",
       "    </tr>\n",
       "    <tr>\n",
       "      <th>25</th>\n",
       "      <td>среднее</td>\n",
       "      <td>госслужащий</td>\n",
       "      <td>пожилого возраста</td>\n",
       "      <td>147036.63</td>\n",
       "    </tr>\n",
       "    <tr>\n",
       "      <th>26</th>\n",
       "      <td>высшее</td>\n",
       "      <td>сотрудник</td>\n",
       "      <td>пожилого возраста</td>\n",
       "      <td>173090.07</td>\n",
       "    </tr>\n",
       "    <tr>\n",
       "      <th>27</th>\n",
       "      <td>начальное</td>\n",
       "      <td>пенсионер</td>\n",
       "      <td>средний возраст</td>\n",
       "      <td>96330.47</td>\n",
       "    </tr>\n",
       "    <tr>\n",
       "      <th>28</th>\n",
       "      <td>среднее</td>\n",
       "      <td>госслужащий</td>\n",
       "      <td>молодежь</td>\n",
       "      <td>135753.54</td>\n",
       "    </tr>\n",
       "    <tr>\n",
       "      <th>29</th>\n",
       "      <td>начальное</td>\n",
       "      <td>сотрудник</td>\n",
       "      <td>молодежь</td>\n",
       "      <td>125994.91</td>\n",
       "    </tr>\n",
       "    <tr>\n",
       "      <th>30</th>\n",
       "      <td>начальное</td>\n",
       "      <td>компаньон</td>\n",
       "      <td>молодежь</td>\n",
       "      <td>132294.64</td>\n",
       "    </tr>\n",
       "    <tr>\n",
       "      <th>31</th>\n",
       "      <td>начальное</td>\n",
       "      <td>сотрудник</td>\n",
       "      <td>пожилого возраста</td>\n",
       "      <td>127021.00</td>\n",
       "    </tr>\n",
       "    <tr>\n",
       "      <th>32</th>\n",
       "      <td>неоконченное высшее</td>\n",
       "      <td>компаньон</td>\n",
       "      <td>пожилого возраста</td>\n",
       "      <td>213211.87</td>\n",
       "    </tr>\n",
       "    <tr>\n",
       "      <th>33</th>\n",
       "      <td>неоконченное высшее</td>\n",
       "      <td>пенсионер</td>\n",
       "      <td>средний возраст</td>\n",
       "      <td>111701.53</td>\n",
       "    </tr>\n",
       "    <tr>\n",
       "      <th>34</th>\n",
       "      <td>высшее</td>\n",
       "      <td>госслужащий</td>\n",
       "      <td>пожилого возраста</td>\n",
       "      <td>184722.74</td>\n",
       "    </tr>\n",
       "    <tr>\n",
       "      <th>35</th>\n",
       "      <td>неоконченное высшее</td>\n",
       "      <td>госслужащий</td>\n",
       "      <td>средний возраст</td>\n",
       "      <td>184062.64</td>\n",
       "    </tr>\n",
       "    <tr>\n",
       "      <th>36</th>\n",
       "      <td>неоконченное высшее</td>\n",
       "      <td>госслужащий</td>\n",
       "      <td>молодежь</td>\n",
       "      <td>150857.39</td>\n",
       "    </tr>\n",
       "    <tr>\n",
       "      <th>37</th>\n",
       "      <td>неоконченное высшее</td>\n",
       "      <td>сотрудник</td>\n",
       "      <td>пожилого возраста</td>\n",
       "      <td>229339.20</td>\n",
       "    </tr>\n",
       "    <tr>\n",
       "      <th>38</th>\n",
       "      <td>начальное</td>\n",
       "      <td>госслужащий</td>\n",
       "      <td>средний возраст</td>\n",
       "      <td>190912.18</td>\n",
       "    </tr>\n",
       "    <tr>\n",
       "      <th>39</th>\n",
       "      <td>начальное</td>\n",
       "      <td>компаньон</td>\n",
       "      <td>средний возраст</td>\n",
       "      <td>168979.94</td>\n",
       "    </tr>\n",
       "    <tr>\n",
       "      <th>40</th>\n",
       "      <td>неоконченное высшее</td>\n",
       "      <td>пенсионер</td>\n",
       "      <td>пожилого возраста</td>\n",
       "      <td>127205.09</td>\n",
       "    </tr>\n",
       "    <tr>\n",
       "      <th>41</th>\n",
       "      <td>ученая степень</td>\n",
       "      <td>пенсионер</td>\n",
       "      <td>пожилого возраста</td>\n",
       "      <td>177088.85</td>\n",
       "    </tr>\n",
       "    <tr>\n",
       "      <th>42</th>\n",
       "      <td>среднее</td>\n",
       "      <td>безработный</td>\n",
       "      <td>молодежь</td>\n",
       "      <td>59956.99</td>\n",
       "    </tr>\n",
       "    <tr>\n",
       "      <th>43</th>\n",
       "      <td>ученая степень</td>\n",
       "      <td>сотрудник</td>\n",
       "      <td>средний возраст</td>\n",
       "      <td>157259.90</td>\n",
       "    </tr>\n",
       "    <tr>\n",
       "      <th>44</th>\n",
       "      <td>высшее</td>\n",
       "      <td>пенсионер</td>\n",
       "      <td>молодежь</td>\n",
       "      <td>183556.36</td>\n",
       "    </tr>\n",
       "    <tr>\n",
       "      <th>45</th>\n",
       "      <td>начальное</td>\n",
       "      <td>госслужащий</td>\n",
       "      <td>пожилого возраста</td>\n",
       "      <td>79432.97</td>\n",
       "    </tr>\n",
       "    <tr>\n",
       "      <th>46</th>\n",
       "      <td>высшее</td>\n",
       "      <td>предприниматель</td>\n",
       "      <td>пожилого возраста</td>\n",
       "      <td>155670.91</td>\n",
       "    </tr>\n",
       "    <tr>\n",
       "      <th>47</th>\n",
       "      <td>ученая степень</td>\n",
       "      <td>сотрудник</td>\n",
       "      <td>пожилого возраста</td>\n",
       "      <td>268411.21</td>\n",
       "    </tr>\n",
       "    <tr>\n",
       "      <th>48</th>\n",
       "      <td>начальное</td>\n",
       "      <td>госслужащий</td>\n",
       "      <td>молодежь</td>\n",
       "      <td>191021.14</td>\n",
       "    </tr>\n",
       "    <tr>\n",
       "      <th>49</th>\n",
       "      <td>высшее</td>\n",
       "      <td>студент</td>\n",
       "      <td>молодежь</td>\n",
       "      <td>98201.63</td>\n",
       "    </tr>\n",
       "    <tr>\n",
       "      <th>50</th>\n",
       "      <td>ученая степень</td>\n",
       "      <td>госслужащий</td>\n",
       "      <td>средний возраст</td>\n",
       "      <td>111392.23</td>\n",
       "    </tr>\n",
       "    <tr>\n",
       "      <th>51</th>\n",
       "      <td>высшее</td>\n",
       "      <td>безработный</td>\n",
       "      <td>средний возраст</td>\n",
       "      <td>202722.51</td>\n",
       "    </tr>\n",
       "    <tr>\n",
       "      <th>52</th>\n",
       "      <td>начальное</td>\n",
       "      <td>компаньон</td>\n",
       "      <td>пожилого возраста</td>\n",
       "      <td>96989.66</td>\n",
       "    </tr>\n",
       "    <tr>\n",
       "      <th>53</th>\n",
       "      <td>высшее</td>\n",
       "      <td>предприниматель</td>\n",
       "      <td>молодежь</td>\n",
       "      <td>499163.14</td>\n",
       "    </tr>\n",
       "    <tr>\n",
       "      <th>54</th>\n",
       "      <td>среднее</td>\n",
       "      <td>в декрете</td>\n",
       "      <td>средний возраст</td>\n",
       "      <td>53829.13</td>\n",
       "    </tr>\n",
       "  </tbody>\n",
       "</table>\n",
       "</div>"
      ],
      "text/plain": [
       "              education      income_type       age_category     median\n",
       "0                высшее        сотрудник    средний возраст  171441.00\n",
       "1               среднее        сотрудник    средний возраст  138435.87\n",
       "2               среднее        сотрудник           молодежь  131710.94\n",
       "3               среднее        пенсионер    средний возраст  117894.96\n",
       "4                высшее        компаньон           молодежь  191159.14\n",
       "5                высшее        компаньон    средний возраст  215277.93\n",
       "6               среднее        пенсионер  пожилого возраста  114200.79\n",
       "7   неоконченное высшее        сотрудник    средний возраст  161129.20\n",
       "8                высшее        компаньон  пожилого возраста  200807.92\n",
       "9                высшее        сотрудник           молодежь  157505.97\n",
       "10              среднее      госслужащий    средний возраст  134526.70\n",
       "11            начальное        сотрудник    средний возраст  125560.37\n",
       "12              среднее        компаньон    средний возраст  162140.52\n",
       "13              среднее        компаньон           молодежь  154081.92\n",
       "14  неоконченное высшее        сотрудник           молодежь  145919.11\n",
       "15  неоконченное высшее        компаньон    средний возраст  215453.89\n",
       "16               высшее      госслужащий           молодежь  160242.95\n",
       "17              среднее        компаньон  пожилого возраста  164098.31\n",
       "18               высшее      госслужащий    средний возраст  175589.24\n",
       "19               высшее        пенсионер    средний возраст  160298.23\n",
       "20               высшее        пенсионер  пожилого возраста  142307.34\n",
       "21              среднее        пенсионер           молодежь   97620.69\n",
       "22              среднее        сотрудник  пожилого возраста  140785.72\n",
       "23            начальное        пенсионер  пожилого возраста  102598.65\n",
       "24  неоконченное высшее        компаньон           молодежь  159994.53\n",
       "25              среднее      госслужащий  пожилого возраста  147036.63\n",
       "26               высшее        сотрудник  пожилого возраста  173090.07\n",
       "27            начальное        пенсионер    средний возраст   96330.47\n",
       "28              среднее      госслужащий           молодежь  135753.54\n",
       "29            начальное        сотрудник           молодежь  125994.91\n",
       "30            начальное        компаньон           молодежь  132294.64\n",
       "31            начальное        сотрудник  пожилого возраста  127021.00\n",
       "32  неоконченное высшее        компаньон  пожилого возраста  213211.87\n",
       "33  неоконченное высшее        пенсионер    средний возраст  111701.53\n",
       "34               высшее      госслужащий  пожилого возраста  184722.74\n",
       "35  неоконченное высшее      госслужащий    средний возраст  184062.64\n",
       "36  неоконченное высшее      госслужащий           молодежь  150857.39\n",
       "37  неоконченное высшее        сотрудник  пожилого возраста  229339.20\n",
       "38            начальное      госслужащий    средний возраст  190912.18\n",
       "39            начальное        компаньон    средний возраст  168979.94\n",
       "40  неоконченное высшее        пенсионер  пожилого возраста  127205.09\n",
       "41       ученая степень        пенсионер  пожилого возраста  177088.85\n",
       "42              среднее      безработный           молодежь   59956.99\n",
       "43       ученая степень        сотрудник    средний возраст  157259.90\n",
       "44               высшее        пенсионер           молодежь  183556.36\n",
       "45            начальное      госслужащий  пожилого возраста   79432.97\n",
       "46               высшее  предприниматель  пожилого возраста  155670.91\n",
       "47       ученая степень        сотрудник  пожилого возраста  268411.21\n",
       "48            начальное      госслужащий           молодежь  191021.14\n",
       "49               высшее          студент           молодежь   98201.63\n",
       "50       ученая степень      госслужащий    средний возраст  111392.23\n",
       "51               высшее      безработный    средний возраст  202722.51\n",
       "52            начальное        компаньон  пожилого возраста   96989.66\n",
       "53               высшее  предприниматель           молодежь  499163.14\n",
       "54              среднее        в декрете    средний возраст   53829.13"
      ]
     },
     "metadata": {},
     "output_type": "display_data"
    }
   ],
   "source": [
    "# fill the nulls values in column days_employed with mean \n",
    "table['days_employed'] = table['days_employed'].fillna(table['days_employed'].mean()) \n",
    "\n",
    "#  reformatting the education column to have the lower cases\n",
    "table['education'] = table['education'].str.lower()\n",
    "\n",
    "#  decalre the function for the definition of age category\n",
    "def age (age_value):\n",
    "    if age_value < 35:\n",
    "        return 'молодежь'\n",
    "    elif 35<= age_value <=55:\n",
    "        return 'средний возраст'\n",
    "    elif age_value>55:\n",
    "        return 'пожилого возраста'\n",
    "    \n",
    "# add the age category column to dataset\n",
    "table['age_category'] = table['dob_years'].apply(age)\n",
    " \n",
    "#  creating the datset with unique columns of age categories, education and type of income\n",
    "all_unique = {'education': table['education'],'income_type':table['income_type'],'age_category': table['age_category']}\n",
    "all_unique = pd.DataFrame(all_unique)\n",
    "all_unique = all_unique.drop_duplicates().reset_index(drop=True)\n",
    "\n",
    "#  declare a function for defenition of mean value for every row in table\n",
    "def median_calc (row):\n",
    "    B = round(table[(table['age_category'] == row['age_category']) & (table['income_type'] == row['income_type']) & (table['education'] == row['education'] )].total_income.median(),2)\n",
    "    return B\n",
    "\n",
    "# add the mean value to the table\n",
    "all_unique['median'] = all_unique.apply(median_calc,axis=1) \n",
    "\n",
    "# filling the nulls with mean value\n",
    "all_unique['median'] = all_unique['median'].fillna(all_unique['median'].median())\n",
    "\n",
    "# display the table\n",
    "display(all_unique)"
   ]
  },
  {
   "cell_type": "code",
   "execution_count": 4,
   "metadata": {},
   "outputs": [
    {
     "name": "stdout",
     "output_type": "stream",
     "text": [
      "<class 'pandas.core.frame.DataFrame'>\n",
      "RangeIndex: 21525 entries, 0 to 21524\n",
      "Data columns (total 13 columns):\n",
      " #   Column            Non-Null Count  Dtype  \n",
      "---  ------            --------------  -----  \n",
      " 0   children          21525 non-null  int64  \n",
      " 1   days_employed     21525 non-null  float64\n",
      " 2   dob_years         21525 non-null  int64  \n",
      " 3   education         21525 non-null  object \n",
      " 4   education_id      21525 non-null  int64  \n",
      " 5   family_status     21525 non-null  object \n",
      " 6   family_status_id  21525 non-null  int64  \n",
      " 7   gender            21525 non-null  object \n",
      " 8   income_type       21525 non-null  object \n",
      " 9   debt              21525 non-null  int64  \n",
      " 10  total_income      21525 non-null  float64\n",
      " 11  purpose           21525 non-null  object \n",
      " 12  age_category      21525 non-null  object \n",
      "dtypes: float64(2), int64(5), object(6)\n",
      "memory usage: 2.1+ MB\n"
     ]
    }
   ],
   "source": [
    "# creating a loop for the filling of nulls value of row total_income in table\n",
    "for ind in all_unique.index:   \n",
    "    (table[(table['age_category']== all_unique['age_category'][ind]) \n",
    "           & (table['education']== all_unique['education'][ind]) \n",
    "           & (table['income_type']== all_unique['income_type'][ind])]) =(\n",
    "        table[(table['age_category']== all_unique['age_category'][ind]) \n",
    "           & (table['education']== all_unique['education'][ind]) \n",
    "           & (table['income_type']== all_unique['income_type'][ind])]).fillna(all_unique['median'][ind])\n",
    "    \n",
    "# display the info on table dataset\n",
    "table.info() "
   ]
  },
  {
   "cell_type": "markdown",
   "metadata": {},
   "source": [
    "**Conclusion**"
   ]
  },
  {
   "cell_type": "markdown",
   "metadata": {},
   "source": [
    "*All the nulls value were fullfille the further work could be started.*\n",
    "\n",
    "*The nulls value culd be in data set due to te absence of provided information from clients or income equeal to zero.*"
   ]
  },
  {
   "cell_type": "markdown",
   "metadata": {},
   "source": [
    "### Data type update"
   ]
  },
  {
   "cell_type": "code",
   "execution_count": 5,
   "metadata": {},
   "outputs": [
    {
     "name": "stdout",
     "output_type": "stream",
     "text": [
      "<class 'pandas.core.frame.DataFrame'>\n",
      "RangeIndex: 21525 entries, 0 to 21524\n",
      "Data columns (total 13 columns):\n",
      " #   Column            Non-Null Count  Dtype \n",
      "---  ------            --------------  ----- \n",
      " 0   children          21525 non-null  int64 \n",
      " 1   days_employed     21525 non-null  int64 \n",
      " 2   dob_years         21525 non-null  int64 \n",
      " 3   education         21525 non-null  object\n",
      " 4   education_id      21525 non-null  int64 \n",
      " 5   family_status     21525 non-null  object\n",
      " 6   family_status_id  21525 non-null  int64 \n",
      " 7   gender            21525 non-null  object\n",
      " 8   income_type       21525 non-null  object\n",
      " 9   debt              21525 non-null  int64 \n",
      " 10  total_income      21525 non-null  int64 \n",
      " 11  purpose           21525 non-null  object\n",
      " 12  age_category      21525 non-null  object\n",
      "dtypes: int64(7), object(6)\n",
      "memory usage: 2.1+ MB\n"
     ]
    }
   ],
   "source": [
    "# changing of data type of columns total_income and days_employed to int\n",
    "table['total_income'] = table['total_income'].astype('int')\n",
    "table['days_employed'] = table['days_employed'].astype('int')\n",
    "\n",
    "# display the results\n",
    "table.info()"
   ]
  },
  {
   "cell_type": "markdown",
   "metadata": {},
   "source": [
    "**Conclusion**"
   ]
  },
  {
   "cell_type": "markdown",
   "metadata": {},
   "source": [
    "*After the changing of the data types it would easier to work with it.* \n",
    "\n",
    "*Based on the latest infomration the float data were changed succesfully to int.*\n",
    "\n",
    "*For the replace of the data astype method was applied due to the fact that original data were float type and there was no any reason to get the information on the errors during the data type changing.*"
   ]
  },
  {
   "cell_type": "markdown",
   "metadata": {},
   "source": [
    "### Duplicates processing"
   ]
  },
  {
   "cell_type": "code",
   "execution_count": 6,
   "metadata": {},
   "outputs": [
    {
     "name": "stdout",
     "output_type": "stream",
     "text": [
      "quantity of duplicates:  71 \n",
      "\n",
      "<class 'pandas.core.frame.DataFrame'>\n",
      "RangeIndex: 21454 entries, 0 to 21453\n",
      "Data columns (total 13 columns):\n",
      " #   Column            Non-Null Count  Dtype \n",
      "---  ------            --------------  ----- \n",
      " 0   children          21454 non-null  int64 \n",
      " 1   days_employed     21454 non-null  int64 \n",
      " 2   dob_years         21454 non-null  int64 \n",
      " 3   education         21454 non-null  object\n",
      " 4   education_id      21454 non-null  int64 \n",
      " 5   family_status     21454 non-null  object\n",
      " 6   family_status_id  21454 non-null  int64 \n",
      " 7   gender            21454 non-null  object\n",
      " 8   income_type       21454 non-null  object\n",
      " 9   debt              21454 non-null  int64 \n",
      " 10  total_income      21454 non-null  int64 \n",
      " 11  purpose           21454 non-null  object\n",
      " 12  age_category      21454 non-null  object\n",
      "dtypes: int64(7), object(6)\n",
      "memory usage: 2.1+ MB\n"
     ]
    }
   ],
   "source": [
    "# searhof duplicates\n",
    "print('quantity of duplicates: ',table.duplicated().sum(),'\\n')\n",
    "\n",
    "# deletion of duplicates and reset of index\n",
    "table = table.drop_duplicates().reset_index(drop=True)\n",
    "\n",
    "# check of the result\n",
    "table.info()"
   ]
  },
  {
   "cell_type": "markdown",
   "metadata": {},
   "source": [
    "**Conclusion**"
   ]
  },
  {
   "cell_type": "markdown",
   "metadata": {},
   "source": [
    "*The deletion of duplicates was made using method drop_duplicates w/o specification of exact columns for the deletion of duplicates in all rows, additionaly indexes were reseted.*\n",
    "\n",
    "*Duplicates most likely appeared in dataset due to the mistakes during the creating a new records in table - human factor.*"
   ]
  },
  {
   "cell_type": "markdown",
   "metadata": {},
   "source": [
    "### Lemmatization"
   ]
  },
  {
   "cell_type": "code",
   "execution_count": 7,
   "metadata": {},
   "outputs": [],
   "source": [
    "# assigning of Mystem() to variable 'm'\n",
    "m = Mystem()\n",
    "\n",
    "# lemmatization of row purpose and add lemmatized text as new row to dataset\n",
    "table['purpose_category'] = table['purpose'].apply(lambda x: m.lemmatize(x))"
   ]
  },
  {
   "cell_type": "code",
   "execution_count": 8,
   "metadata": {},
   "outputs": [
    {
     "name": "stdout",
     "output_type": "stream",
     "text": [
      "[['покупка', ' ', 'жилье', '\\n'], ['приобретение', ' ', 'автомобиль', '\\n'], ['дополнительный', ' ', 'образование', '\\n'], ['сыграть', ' ', 'свадьба', '\\n'], ['операция', ' ', 'с', ' ', 'жилье', '\\n'], ['образование', '\\n'], ['на', ' ', 'проведение', ' ', 'свадьба', '\\n'], ['покупка', ' ', 'жилье', ' ', 'для', ' ', 'семья', '\\n'], ['покупка', ' ', 'недвижимость', '\\n'], ['покупка', ' ', 'коммерческий', ' ', 'недвижимость', '\\n'], ['покупка', ' ', 'жилой', ' ', 'недвижимость', '\\n'], ['строительство', ' ', 'собственный', ' ', 'недвижимость', '\\n'], ['недвижимость', '\\n'], ['строительство', ' ', 'недвижимость', '\\n'], ['на', ' ', 'покупка', ' ', 'подержать', ' ', 'автомобиль', '\\n'], ['на', ' ', 'покупка', ' ', 'свой', ' ', 'автомобиль', '\\n'], ['операция', ' ', 'с', ' ', 'коммерческий', ' ', 'недвижимость', '\\n'], ['строительство', ' ', 'жилой', ' ', 'недвижимость', '\\n'], ['жилье', '\\n'], ['операция', ' ', 'со', ' ', 'свой', ' ', 'недвижимость', '\\n'], ['автомобиль', '\\n'], ['заниматься', ' ', 'образование', '\\n'], ['сделка', ' ', 'с', ' ', 'подержанный', ' ', 'автомобиль', '\\n'], ['получение', ' ', 'образование', '\\n'], ['свадьба', '\\n'], ['получение', ' ', 'дополнительный', ' ', 'образование', '\\n'], ['покупка', ' ', 'свой', ' ', 'жилье', '\\n'], ['операция', ' ', 'с', ' ', 'недвижимость', '\\n'], ['получение', ' ', 'высокий', ' ', 'образование', '\\n'], ['свой', ' ', 'автомобиль', '\\n'], ['сделка', ' ', 'с', ' ', 'автомобиль', '\\n'], ['профильный', ' ', 'образование', '\\n'], ['высокий', ' ', 'образование', '\\n'], ['покупка', ' ', 'жилье', ' ', 'для', ' ', 'сдача', '\\n'], ['на', ' ', 'покупка', ' ', 'автомобиль', '\\n'], ['ремонт', ' ', 'жилье', '\\n'], ['заниматься', ' ', 'высокий', ' ', 'образование', '\\n']]\n"
     ]
    }
   ],
   "source": [
    "#     Creation of two varaeblies. first - values of column purpose_category, second - to save the unique value of column\n",
    "var_one = table['purpose_category']\n",
    "lem_unique = []\n",
    "for i in var_one:\n",
    "    if i not in lem_unique:\n",
    "        lem_unique.append(i)\n",
    "print(lem_unique)  "
   ]
  },
  {
   "cell_type": "markdown",
   "metadata": {},
   "source": [
    "**Conclusion**"
   ]
  },
  {
   "cell_type": "markdown",
   "metadata": {},
   "source": [
    "*Based on the lemmatization we can get 4 main lemms:*\n",
    "1) свадьба\n",
    "2) автомобиль\n",
    "3) образование\n",
    "4) недвижимость"
   ]
  },
  {
   "cell_type": "markdown",
   "metadata": {},
   "source": [
    "### Data categorization"
   ]
  },
  {
   "cell_type": "code",
   "execution_count": 9,
   "metadata": {},
   "outputs": [
    {
     "data": {
      "text/html": [
       "<div>\n",
       "<style scoped>\n",
       "    .dataframe tbody tr th:only-of-type {\n",
       "        vertical-align: middle;\n",
       "    }\n",
       "\n",
       "    .dataframe tbody tr th {\n",
       "        vertical-align: top;\n",
       "    }\n",
       "\n",
       "    .dataframe thead th {\n",
       "        text-align: right;\n",
       "    }\n",
       "</style>\n",
       "<table border=\"1\" class=\"dataframe\">\n",
       "  <thead>\n",
       "    <tr style=\"text-align: right;\">\n",
       "      <th></th>\n",
       "      <th>children</th>\n",
       "      <th>days_employed</th>\n",
       "      <th>dob_years</th>\n",
       "      <th>education</th>\n",
       "      <th>education_id</th>\n",
       "      <th>family_status</th>\n",
       "      <th>family_status_id</th>\n",
       "      <th>gender</th>\n",
       "      <th>income_type</th>\n",
       "      <th>debt</th>\n",
       "      <th>total_income</th>\n",
       "      <th>purpose</th>\n",
       "      <th>age_category</th>\n",
       "      <th>purpose_category</th>\n",
       "      <th>debt_status</th>\n",
       "      <th>kids_status</th>\n",
       "    </tr>\n",
       "  </thead>\n",
       "  <tbody>\n",
       "    <tr>\n",
       "      <th>0</th>\n",
       "      <td>1</td>\n",
       "      <td>-8437</td>\n",
       "      <td>42</td>\n",
       "      <td>высшее</td>\n",
       "      <td>0</td>\n",
       "      <td>женат / замужем</td>\n",
       "      <td>0</td>\n",
       "      <td>F</td>\n",
       "      <td>сотрудник</td>\n",
       "      <td>0</td>\n",
       "      <td>253875</td>\n",
       "      <td>покупка жилья</td>\n",
       "      <td>средний возраст</td>\n",
       "      <td>недвижимость</td>\n",
       "      <td>долга нет</td>\n",
       "      <td>есть дети</td>\n",
       "    </tr>\n",
       "    <tr>\n",
       "      <th>1</th>\n",
       "      <td>1</td>\n",
       "      <td>-4024</td>\n",
       "      <td>36</td>\n",
       "      <td>среднее</td>\n",
       "      <td>1</td>\n",
       "      <td>женат / замужем</td>\n",
       "      <td>0</td>\n",
       "      <td>F</td>\n",
       "      <td>сотрудник</td>\n",
       "      <td>0</td>\n",
       "      <td>112080</td>\n",
       "      <td>приобретение автомобиля</td>\n",
       "      <td>средний возраст</td>\n",
       "      <td>автомобиль</td>\n",
       "      <td>долга нет</td>\n",
       "      <td>есть дети</td>\n",
       "    </tr>\n",
       "    <tr>\n",
       "      <th>2</th>\n",
       "      <td>0</td>\n",
       "      <td>-5623</td>\n",
       "      <td>33</td>\n",
       "      <td>среднее</td>\n",
       "      <td>1</td>\n",
       "      <td>женат / замужем</td>\n",
       "      <td>0</td>\n",
       "      <td>M</td>\n",
       "      <td>сотрудник</td>\n",
       "      <td>0</td>\n",
       "      <td>145885</td>\n",
       "      <td>покупка жилья</td>\n",
       "      <td>молодежь</td>\n",
       "      <td>недвижимость</td>\n",
       "      <td>долга нет</td>\n",
       "      <td>без детей</td>\n",
       "    </tr>\n",
       "    <tr>\n",
       "      <th>3</th>\n",
       "      <td>3</td>\n",
       "      <td>-4124</td>\n",
       "      <td>32</td>\n",
       "      <td>среднее</td>\n",
       "      <td>1</td>\n",
       "      <td>женат / замужем</td>\n",
       "      <td>0</td>\n",
       "      <td>M</td>\n",
       "      <td>сотрудник</td>\n",
       "      <td>0</td>\n",
       "      <td>267628</td>\n",
       "      <td>дополнительное образование</td>\n",
       "      <td>молодежь</td>\n",
       "      <td>образование</td>\n",
       "      <td>долга нет</td>\n",
       "      <td>есть дети</td>\n",
       "    </tr>\n",
       "    <tr>\n",
       "      <th>4</th>\n",
       "      <td>0</td>\n",
       "      <td>340266</td>\n",
       "      <td>53</td>\n",
       "      <td>среднее</td>\n",
       "      <td>1</td>\n",
       "      <td>гражданский брак</td>\n",
       "      <td>1</td>\n",
       "      <td>F</td>\n",
       "      <td>пенсионер</td>\n",
       "      <td>0</td>\n",
       "      <td>158616</td>\n",
       "      <td>сыграть свадьбу</td>\n",
       "      <td>средний возраст</td>\n",
       "      <td>свадьба</td>\n",
       "      <td>долга нет</td>\n",
       "      <td>без детей</td>\n",
       "    </tr>\n",
       "    <tr>\n",
       "      <th>5</th>\n",
       "      <td>0</td>\n",
       "      <td>-926</td>\n",
       "      <td>27</td>\n",
       "      <td>высшее</td>\n",
       "      <td>0</td>\n",
       "      <td>гражданский брак</td>\n",
       "      <td>1</td>\n",
       "      <td>M</td>\n",
       "      <td>компаньон</td>\n",
       "      <td>0</td>\n",
       "      <td>255763</td>\n",
       "      <td>покупка жилья</td>\n",
       "      <td>молодежь</td>\n",
       "      <td>недвижимость</td>\n",
       "      <td>долга нет</td>\n",
       "      <td>без детей</td>\n",
       "    </tr>\n",
       "    <tr>\n",
       "      <th>6</th>\n",
       "      <td>0</td>\n",
       "      <td>-2879</td>\n",
       "      <td>43</td>\n",
       "      <td>высшее</td>\n",
       "      <td>0</td>\n",
       "      <td>женат / замужем</td>\n",
       "      <td>0</td>\n",
       "      <td>F</td>\n",
       "      <td>компаньон</td>\n",
       "      <td>0</td>\n",
       "      <td>240525</td>\n",
       "      <td>операции с жильем</td>\n",
       "      <td>средний возраст</td>\n",
       "      <td>недвижимость</td>\n",
       "      <td>долга нет</td>\n",
       "      <td>без детей</td>\n",
       "    </tr>\n",
       "    <tr>\n",
       "      <th>7</th>\n",
       "      <td>0</td>\n",
       "      <td>-152</td>\n",
       "      <td>50</td>\n",
       "      <td>среднее</td>\n",
       "      <td>1</td>\n",
       "      <td>женат / замужем</td>\n",
       "      <td>0</td>\n",
       "      <td>M</td>\n",
       "      <td>сотрудник</td>\n",
       "      <td>0</td>\n",
       "      <td>135823</td>\n",
       "      <td>образование</td>\n",
       "      <td>средний возраст</td>\n",
       "      <td>образование</td>\n",
       "      <td>долга нет</td>\n",
       "      <td>без детей</td>\n",
       "    </tr>\n",
       "    <tr>\n",
       "      <th>8</th>\n",
       "      <td>2</td>\n",
       "      <td>-6929</td>\n",
       "      <td>35</td>\n",
       "      <td>высшее</td>\n",
       "      <td>0</td>\n",
       "      <td>гражданский брак</td>\n",
       "      <td>1</td>\n",
       "      <td>F</td>\n",
       "      <td>сотрудник</td>\n",
       "      <td>0</td>\n",
       "      <td>95856</td>\n",
       "      <td>на проведение свадьбы</td>\n",
       "      <td>средний возраст</td>\n",
       "      <td>свадьба</td>\n",
       "      <td>долга нет</td>\n",
       "      <td>есть дети</td>\n",
       "    </tr>\n",
       "    <tr>\n",
       "      <th>9</th>\n",
       "      <td>0</td>\n",
       "      <td>-2188</td>\n",
       "      <td>41</td>\n",
       "      <td>среднее</td>\n",
       "      <td>1</td>\n",
       "      <td>женат / замужем</td>\n",
       "      <td>0</td>\n",
       "      <td>M</td>\n",
       "      <td>сотрудник</td>\n",
       "      <td>0</td>\n",
       "      <td>144425</td>\n",
       "      <td>покупка жилья для семьи</td>\n",
       "      <td>средний возраст</td>\n",
       "      <td>недвижимость</td>\n",
       "      <td>долга нет</td>\n",
       "      <td>без детей</td>\n",
       "    </tr>\n",
       "  </tbody>\n",
       "</table>\n",
       "</div>"
      ],
      "text/plain": [
       "   children  days_employed  dob_years education  education_id  \\\n",
       "0         1          -8437         42    высшее             0   \n",
       "1         1          -4024         36   среднее             1   \n",
       "2         0          -5623         33   среднее             1   \n",
       "3         3          -4124         32   среднее             1   \n",
       "4         0         340266         53   среднее             1   \n",
       "5         0           -926         27    высшее             0   \n",
       "6         0          -2879         43    высшее             0   \n",
       "7         0           -152         50   среднее             1   \n",
       "8         2          -6929         35    высшее             0   \n",
       "9         0          -2188         41   среднее             1   \n",
       "\n",
       "      family_status  family_status_id gender income_type  debt  total_income  \\\n",
       "0   женат / замужем                 0      F   сотрудник     0        253875   \n",
       "1   женат / замужем                 0      F   сотрудник     0        112080   \n",
       "2   женат / замужем                 0      M   сотрудник     0        145885   \n",
       "3   женат / замужем                 0      M   сотрудник     0        267628   \n",
       "4  гражданский брак                 1      F   пенсионер     0        158616   \n",
       "5  гражданский брак                 1      M   компаньон     0        255763   \n",
       "6   женат / замужем                 0      F   компаньон     0        240525   \n",
       "7   женат / замужем                 0      M   сотрудник     0        135823   \n",
       "8  гражданский брак                 1      F   сотрудник     0         95856   \n",
       "9   женат / замужем                 0      M   сотрудник     0        144425   \n",
       "\n",
       "                      purpose     age_category purpose_category debt_status  \\\n",
       "0               покупка жилья  средний возраст     недвижимость   долга нет   \n",
       "1     приобретение автомобиля  средний возраст       автомобиль   долга нет   \n",
       "2               покупка жилья         молодежь     недвижимость   долга нет   \n",
       "3  дополнительное образование         молодежь      образование   долга нет   \n",
       "4             сыграть свадьбу  средний возраст          свадьба   долга нет   \n",
       "5               покупка жилья         молодежь     недвижимость   долга нет   \n",
       "6           операции с жильем  средний возраст     недвижимость   долга нет   \n",
       "7                 образование  средний возраст      образование   долга нет   \n",
       "8       на проведение свадьбы  средний возраст          свадьба   долга нет   \n",
       "9     покупка жилья для семьи  средний возраст     недвижимость   долга нет   \n",
       "\n",
       "  kids_status  \n",
       "0   есть дети  \n",
       "1   есть дети  \n",
       "2   без детей  \n",
       "3   есть дети  \n",
       "4   без детей  \n",
       "5   без детей  \n",
       "6   без детей  \n",
       "7   без детей  \n",
       "8   есть дети  \n",
       "9   без детей  "
      ]
     },
     "execution_count": 9,
     "metadata": {},
     "output_type": "execute_result"
    }
   ],
   "source": [
    "# declaration of function for categorization of data in columns purpose_category by 4 main categories\n",
    "def category (input_value):\n",
    "    if 'свадьба' in input_value:\n",
    "        return 'свадьба'\n",
    "    elif 'автомобиль' in input_value:\n",
    "        return 'автомобиль'\n",
    "    elif 'образование' in input_value:\n",
    "        return 'образование'\n",
    "    else:\n",
    "        return 'недвижимость'\n",
    "\n",
    "# declaration of function for categorization by presence/absence of debt\n",
    "def credit_debt (input_value):\n",
    "    if input_value == 0:\n",
    "        return 'долга нет'\n",
    "    else:\n",
    "        return 'имеется долг'\n",
    "\n",
    "# declaration of function for categorization by presence/absence of child    \n",
    "def kids (input_value):\n",
    "    if input_value == 0:\n",
    "        return 'без детей'\n",
    "    else:\n",
    "        return 'есть дети'\n",
    "        \n",
    "# apply of declared fucntion \n",
    "table['purpose_category'] = table['purpose_category'].apply(category)\n",
    "table['debt_status'] = table['debt'].apply(credit_debt)\n",
    "table['kids_status'] = table['children'].apply(kids)\n",
    "\n",
    "# chechk of the results\n",
    "table.head(10)"
   ]
  },
  {
   "cell_type": "markdown",
   "metadata": {},
   "source": [
    "**Conslusion**"
   ]
  },
  {
   "cell_type": "markdown",
   "metadata": {},
   "source": [
    "*For the completion of catogerization by column purpose_category were selected 4 main lemms because one of such values is in every row of this column.*\n",
    "\n",
    "*For other categorization were selected absence/presence of child  and  absence/presence debt for the further data analysis and answering on the questions.*"
   ]
  },
  {
   "cell_type": "markdown",
   "metadata": {},
   "source": [
    "## Step 3. Question answers"
   ]
  },
  {
   "cell_type": "markdown",
   "metadata": {},
   "source": [
    "**Is there a dependency between the presence of a child and payment of outstanding fees in the specified duration in the credit contract?**"
   ]
  },
  {
   "cell_type": "code",
   "execution_count": 10,
   "metadata": {},
   "outputs": [
    {
     "data": {
      "text/plain": [
       "category_kids_kredit\n",
       "без детей, долга нет       13028\n",
       "без детей, имеется долг     1063\n",
       "есть дети, долга нет        6685\n",
       "есть дети, имеется долг      678\n",
       "Name: debt, dtype: int64"
      ]
     },
     "metadata": {},
     "output_type": "display_data"
    },
    {
     "name": "stdout",
     "output_type": "stream",
     "text": [
      "True \n",
      "\n",
      "Процент клиентов с детьми, которые имеют долг: 9.21%\n",
      "Процент клиентов без детей, которые имеют долг: 7.54%\n"
     ]
    }
   ],
   "source": [
    "# creation of a new dataset equal to \"table\"\n",
    "kids_kredit_check = table.copy()\n",
    "\n",
    "# creation of new columns with status of presence of the child and debt and group by it's values\n",
    "kids_kredit_check['category_kids_kredit'] = kids_kredit_check['kids_status']+', '+kids_kredit_check['debt_status']\n",
    "kids_kredit_check = kids_kredit_check.groupby('category_kids_kredit')['debt'].count()\n",
    "\n",
    "# display the results\n",
    "display(kids_kredit_check)\n",
    "\n",
    "# checking that all data is included \n",
    "print(kids_kredit_check.sum()==table['debt'].count(),'\\n')\n",
    "\n",
    "# calculation of percentages by each category\n",
    "precent_withno_kids = kids_kredit_check.iloc[1]/(kids_kredit_check.iloc[0]+kids_kredit_check.iloc[1])\n",
    "precent_with_kids = kids_kredit_check.iloc[3]/(kids_kredit_check.iloc[2]+kids_kredit_check.iloc[3])\n",
    "\n",
    "# display of the results\n",
    "print('Процент клиентов с детьми, которые имеют долг: {:.2%}'.format(precent_with_kids))\n",
    "print('Процент клиентов без детей, которые имеют долг: {:.2%}'.format(precent_withno_kids))"
   ]
  },
  {
   "cell_type": "markdown",
   "metadata": {},
   "source": [
    "**Conclusion**"
   ]
  },
  {
   "cell_type": "markdown",
   "metadata": {},
   "source": [
    "* Based on the information from bank there is a dependency: client with a child on 1.7% frequently will not pay the outstanding fees in the specified duration in the credit contract.\n",
    "\n",
    "* However the data has only 21454 records, most likely the sufficient increase of the records could influnce on the result of the statistic.\n",
    "___"
   ]
  },
  {
   "cell_type": "markdown",
   "metadata": {},
   "source": [
    "**Is there a dependency on the marital status and payment of outstanding fees in the specified duration in the credit contract?**"
   ]
  },
  {
   "cell_type": "code",
   "execution_count": 11,
   "metadata": {},
   "outputs": [
    {
     "data": {
      "text/plain": [
       "marriage_debt_status\n",
       "Не женат / не замужем, долга нет        2536\n",
       "Не женат / не замужем, имеется долг      274\n",
       "в разводе, долга нет                    1110\n",
       "в разводе, имеется долг                   85\n",
       "вдовец / вдова, долга нет                896\n",
       "вдовец / вдова, имеется долг              63\n",
       "гражданский брак, долга нет             3763\n",
       "гражданский брак, имеется долг           388\n",
       "женат / замужем, долга нет             11408\n",
       "женат / замужем, имеется долг            931\n",
       "Name: debt, dtype: int64"
      ]
     },
     "metadata": {},
     "output_type": "display_data"
    },
    {
     "name": "stdout",
     "output_type": "stream",
     "text": [
      "True \n",
      "\n",
      "Процент клиентов в браке, которые имеют долг: 7.55%\n",
      "Процент клиентов, которые состоят в гражданском браке и имеют долг: 9.35%\n",
      "Процент разведенных клиентов, которые имеют долг: 7.11%\n",
      "Процент овдовевших клиентов, которые имеют долг: 6.57%\n",
      "Процент клиентов, которые не состоят в браке и имеют долг: 9.75%\n"
     ]
    }
   ],
   "source": [
    "# creation of new columns with marital status and debt\n",
    "table['marriage_debt_status'] = table['family_status']+', '+table['debt_status']\n",
    "\n",
    "# group by column marriage_debt_status\n",
    "marriage_check = table.groupby('marriage_debt_status')['debt'].count()\n",
    "\n",
    "# display the results\n",
    "display(marriage_check)\n",
    "\n",
    "# checking that all data is included \n",
    "print(marriage_check.sum()==table['debt'].count(),'\\n')\n",
    "\n",
    "# calculation of percentages by each category\n",
    "precent_not_married = marriage_check.iloc[1]/(marriage_check.iloc[0]+marriage_check.iloc[1])\n",
    "precent_divorced = marriage_check.iloc[3]/(marriage_check.iloc[2]+marriage_check.iloc[3])\n",
    "precent_widow = marriage_check.iloc[5]/(marriage_check.iloc[4]+marriage_check.iloc[5])\n",
    "precent_civil_partners = marriage_check.iloc[7]/(marriage_check.iloc[6]+marriage_check.iloc[7])\n",
    "precent_married = marriage_check.iloc[9]/(marriage_check.iloc[8]+marriage_check.iloc[9])\n",
    "\n",
    "# display of the results\n",
    "print('Процент клиентов в браке, которые имеют долг: {:.2%}'.format(precent_married))\n",
    "print('Процент клиентов, которые состоят в гражданском браке и имеют долг: {:.2%}'.format(precent_civil_partners))\n",
    "print('Процент разведенных клиентов, которые имеют долг: {:.2%}'.format(precent_divorced))\n",
    "print('Процент овдовевших клиентов, которые имеют долг: {:.2%}'.format(precent_widow))\n",
    "print('Процент клиентов, которые не состоят в браке и имеют долг: {:.2%}'.format(precent_not_married))"
   ]
  },
  {
   "cell_type": "markdown",
   "metadata": {},
   "source": [
    "**Conclusion**"
   ]
  },
  {
   "cell_type": "markdown",
   "metadata": {},
   "source": [
    "* The lowest percentage of clients with debt overdue - it's widowed clients- 6,5%.\n",
    "* Than divorsed cliens - 7,1%.\n",
    "* Only 7.55% of clients who married have debt verdue.\n",
    "* the highest percentage of debt overdue have clients who is not married or  informal married - 9,75% and 9,35% "
   ]
  },
  {
   "cell_type": "markdown",
   "metadata": {},
   "source": [
    "**Is there a dependency on the income grade and payment of outstanding fees in the specified duration in the credit contract?**"
   ]
  },
  {
   "cell_type": "code",
   "execution_count": 12,
   "metadata": {},
   "outputs": [
    {
     "name": "stdout",
     "output_type": "stream",
     "text": [
      "0    (20666.999, 119869.0]\n",
      "1     (119869.0, 173597.0]\n",
      "2    (173597.0, 2265604.0]\n",
      "Name: total_income, dtype: category\n",
      "Categories (3, interval[float64]): [(20666.999, 119869.0] < (119869.0, 173597.0] < (173597.0, 2265604.0]]\n"
     ]
    },
    {
     "data": {
      "text/html": [
       "<div>\n",
       "<style scoped>\n",
       "    .dataframe tbody tr th:only-of-type {\n",
       "        vertical-align: middle;\n",
       "    }\n",
       "\n",
       "    .dataframe tbody tr th {\n",
       "        vertical-align: top;\n",
       "    }\n",
       "\n",
       "    .dataframe thead th {\n",
       "        text-align: right;\n",
       "    }\n",
       "</style>\n",
       "<table border=\"1\" class=\"dataframe\">\n",
       "  <thead>\n",
       "    <tr style=\"text-align: right;\">\n",
       "      <th></th>\n",
       "      <th>count</th>\n",
       "      <th>sum</th>\n",
       "      <th>&lt;lambda_0&gt;</th>\n",
       "    </tr>\n",
       "    <tr>\n",
       "      <th>income_debt_status</th>\n",
       "      <th></th>\n",
       "      <th></th>\n",
       "      <th></th>\n",
       "    </tr>\n",
       "  </thead>\n",
       "  <tbody>\n",
       "    <tr>\n",
       "      <th>доход выше среднего</th>\n",
       "      <td>7151</td>\n",
       "      <td>526</td>\n",
       "      <td>7.36%</td>\n",
       "    </tr>\n",
       "    <tr>\n",
       "      <th>доход ниже среднего</th>\n",
       "      <td>7152</td>\n",
       "      <td>580</td>\n",
       "      <td>8.11%</td>\n",
       "    </tr>\n",
       "    <tr>\n",
       "      <th>доход средний</th>\n",
       "      <td>7151</td>\n",
       "      <td>635</td>\n",
       "      <td>8.88%</td>\n",
       "    </tr>\n",
       "  </tbody>\n",
       "</table>\n",
       "</div>"
      ],
      "text/plain": [
       "                     count  sum <lambda_0>\n",
       "income_debt_status                        \n",
       "доход выше среднего   7151  526     7.36% \n",
       "доход ниже среднего   7152  580     8.11% \n",
       "доход средний         7151  635     8.88% "
      ]
     },
     "execution_count": 12,
     "metadata": {},
     "output_type": "execute_result"
    }
   ],
   "source": [
    "# calculation of average income and categorization of clients\n",
    "range_groups = pd.qcut(table['total_income'],q=3)\n",
    "range_groups = range_groups.drop_duplicates().sort_values().reset_index(drop=1)\n",
    "print(range_groups)\n",
    "\n",
    "# function declare for definition of income grade\n",
    "def income (income_value):\n",
    "    if income_value in range_groups[0]:\n",
    "        return 'доход ниже среднего'\n",
    "    elif income_value in range_groups[1]:\n",
    "        return 'доход средний'\n",
    "    else:\n",
    "        return 'доход выше среднего'\n",
    "\n",
    "# add a column with income grade\n",
    "table['income_debt_status'] = table['total_income'].apply(income)\n",
    "\n",
    "#  calculation of percentages by each category\n",
    "table.groupby('income_debt_status')['debt'].agg(['count', 'sum', lambda x: '{:.2%} '.format(x.mean())])"
   ]
  },
  {
   "cell_type": "markdown",
   "metadata": {},
   "source": [
    "**Conclusion**"
   ]
  },
  {
   "cell_type": "markdown",
   "metadata": {},
   "source": [
    "* Clients with average grade income are more often will not pay the outstanding fees in the specified duration in the credit contract (8.88%).\n",
    "\n",
    "* Clients with high income grade - has the smallest precentage of debtors that exceed the credit time limit 7%.\n",
    "\n",
    "* Amongst of clients with lower income grade - 8% of such  debtors\n",
    "___"
   ]
  },
  {
   "cell_type": "markdown",
   "metadata": {},
   "source": [
    "**How does the different credite purpose influence on the payment of the outstanding fees in the specified duration in the credit contract?**"
   ]
  },
  {
   "cell_type": "code",
   "execution_count": 13,
   "metadata": {},
   "outputs": [
    {
     "data": {
      "text/plain": [
       "purpose_debt_status\n",
       "автомобиль, долга нет          3903\n",
       "автомобиль, имеется долг        403\n",
       "недвижимость, долга нет       10029\n",
       "недвижимость, имеется долг      782\n",
       "образование, долга нет         3643\n",
       "образование, имеется долг       370\n",
       "свадьба, долга нет             2138\n",
       "свадьба, имеется долг           186\n",
       "Name: debt, dtype: int64"
      ]
     },
     "metadata": {},
     "output_type": "display_data"
    },
    {
     "name": "stdout",
     "output_type": "stream",
     "text": [
      "True \n",
      "\n",
      "Процент клиентов взявшие кредит на автомобиль, которые имеют долг: 9.36%\n",
      "Процент клиентов взявшие кредит на недвижимость, которые имеют долг: 7.23%\n",
      "Процент клиентов взявшие кредит на образование, которые имеют долг: 9.22%\n",
      "Процент клиентов взявшие кредит на свадьбу, которые  имеют долг: 8.00%\n"
     ]
    }
   ],
   "source": [
    "# add a new column purpose_debt_status (concat of debt_status and purpose category)\n",
    "table['purpose_debt_status'] = table['purpose_category']+', '+table['debt_status']\n",
    "\n",
    "# group by new column\n",
    "purpose_check = table.groupby('purpose_debt_status')['debt'].count()\n",
    "\n",
    "# display the result\n",
    "display(purpose_check)\n",
    "\n",
    "# check that all data is included\n",
    "print(purpose_check.sum()==table['debt'].count(),'\\n')\n",
    "\n",
    "# calculation of percentages by each category\n",
    "precent_auto = purpose_check.iloc[1]/(purpose_check.iloc[0]+purpose_check.iloc[1])\n",
    "precent_realty = purpose_check.iloc[3]/(purpose_check.iloc[2]+purpose_check.iloc[3]) \n",
    "precent_education_= purpose_check.iloc[5]/(purpose_check.iloc[4]+purpose_check.iloc[5])\n",
    "precent_marriage = purpose_check.iloc[7]/(purpose_check.iloc[6]+purpose_check.iloc[7])\n",
    "\n",
    "# display of the resutlts\n",
    "print('Процент клиентов взявшие кредит на автомобиль, которые имеют долг: {:.2%}'.format(precent_auto))\n",
    "print('Процент клиентов взявшие кредит на недвижимость, которые имеют долг: {:.2%}'.format(precent_realty))\n",
    "print('Процент клиентов взявшие кредит на образование, которые имеют долг: {:.2%}'.format(precent_education_))\n",
    "print('Процент клиентов взявшие кредит на свадьбу, которые  имеют долг: {:.2%}'.format(precent_marriage))"
   ]
  },
  {
   "cell_type": "markdown",
   "metadata": {},
   "source": [
    "**Conclusion**"
   ]
  },
  {
   "cell_type": "markdown",
   "metadata": {},
   "source": [
    "* Only 7% of clients who got credit on purchase of real estate has debt overdue.\n",
    "* 8% of clients who got credit on wedding has debt overdue.\n",
    "* The gighest percentaage of clients who has debt overdue got credit on auto  or education (9,3% и 9,2%)"
   ]
  },
  {
   "cell_type": "markdown",
   "metadata": {},
   "source": [
    "## Step 4. General conclusion"
   ]
  },
  {
   "cell_type": "markdown",
   "metadata": {},
   "source": [
    "**During data analysis the following infomration was obtained:**\n",
    "\n",
    "*Most relaible clients:*\n",
    "- \n",
    "- Clients who's got credit on the purchase of real estate (only 7.23% debt overdue)\n",
    "- Clients with marital status - widow / er(6.57% debt overdue)\n",
    "- Clinets w/o kids (7.54% debt overdue)\n",
    "- Clients with income bove average (7.36% debt overdue)\n",
    "\n",
    "*Unrelaible clients:*\n",
    "- Clients who's got credit on purchasing of auto (9.36% debt overdue)\n",
    "- Clients who were not married (9.75% debt overdue)\n",
    "- Clients with child (9.21% debt overdue)\n",
    "- Clients with average grade of income (8.88% debt overdue)"
   ]
  },
  {
   "cell_type": "code",
   "execution_count": null,
   "metadata": {},
   "outputs": [],
   "source": []
  }
 ],
 "metadata": {
  "ExecuteTimeLog": [
   {
    "duration": 916,
    "start_time": "2021-08-12T18:54:57.390Z"
   },
   {
    "duration": 92,
    "start_time": "2021-08-12T18:57:12.943Z"
   },
   {
    "duration": 70,
    "start_time": "2021-08-12T18:57:22.432Z"
   },
   {
    "duration": 88,
    "start_time": "2021-08-12T18:58:34.841Z"
   },
   {
    "duration": 97,
    "start_time": "2021-08-12T19:01:43.017Z"
   },
   {
    "duration": 21,
    "start_time": "2021-08-12T19:14:36.940Z"
   },
   {
    "duration": 8,
    "start_time": "2021-08-12T19:17:23.345Z"
   },
   {
    "duration": 7,
    "start_time": "2021-08-12T19:17:50.153Z"
   },
   {
    "duration": 8,
    "start_time": "2021-08-12T19:17:55.783Z"
   },
   {
    "duration": 31,
    "start_time": "2021-08-12T19:18:46.303Z"
   },
   {
    "duration": 28,
    "start_time": "2021-08-12T19:18:54.550Z"
   },
   {
    "duration": 432,
    "start_time": "2021-08-12T19:19:27.212Z"
   },
   {
    "duration": 11,
    "start_time": "2021-08-12T19:19:33.801Z"
   },
   {
    "duration": 10,
    "start_time": "2021-08-12T19:19:47.886Z"
   },
   {
    "duration": 7,
    "start_time": "2021-08-12T19:19:57.160Z"
   },
   {
    "duration": 365,
    "start_time": "2021-08-12T19:20:54.003Z"
   },
   {
    "duration": 339,
    "start_time": "2021-08-12T19:21:03.388Z"
   },
   {
    "duration": 90,
    "start_time": "2021-08-12T19:26:56.878Z"
   },
   {
    "duration": 12,
    "start_time": "2021-08-12T19:31:30.602Z"
   },
   {
    "duration": 348,
    "start_time": "2021-08-12T19:33:43.643Z"
   },
   {
    "duration": 14,
    "start_time": "2021-08-12T19:34:07.033Z"
   },
   {
    "duration": 7,
    "start_time": "2021-08-12T19:34:29.337Z"
   },
   {
    "duration": 380,
    "start_time": "2021-08-12T19:35:02.664Z"
   },
   {
    "duration": 386,
    "start_time": "2021-08-12T19:35:14.675Z"
   },
   {
    "duration": 11,
    "start_time": "2021-08-12T19:36:56.614Z"
   },
   {
    "duration": 39,
    "start_time": "2021-08-12T19:39:00.574Z"
   },
   {
    "duration": 25,
    "start_time": "2021-08-12T19:39:10.226Z"
   },
   {
    "duration": 27,
    "start_time": "2021-08-12T19:39:14.466Z"
   },
   {
    "duration": 37,
    "start_time": "2021-08-12T19:40:30.852Z"
   },
   {
    "duration": 41,
    "start_time": "2021-08-12T19:40:39.830Z"
   },
   {
    "duration": 39,
    "start_time": "2021-08-12T19:40:45.996Z"
   },
   {
    "duration": 327,
    "start_time": "2021-08-12T19:40:52.381Z"
   },
   {
    "duration": 37,
    "start_time": "2021-08-12T19:41:01.145Z"
   },
   {
    "duration": 39,
    "start_time": "2021-08-12T19:41:14.062Z"
   },
   {
    "duration": 27,
    "start_time": "2021-08-12T19:41:23.849Z"
   },
   {
    "duration": 828,
    "start_time": "2021-08-12T19:41:39.482Z"
   },
   {
    "duration": 26,
    "start_time": "2021-08-12T19:41:40.312Z"
   },
   {
    "duration": 44,
    "start_time": "2021-08-12T19:41:40.341Z"
   },
   {
    "duration": 122,
    "start_time": "2021-08-12T19:45:38.478Z"
   },
   {
    "duration": 444,
    "start_time": "2021-08-12T19:55:54.682Z"
   },
   {
    "duration": 368,
    "start_time": "2021-08-12T19:56:01.688Z"
   },
   {
    "duration": 113,
    "start_time": "2021-08-12T19:56:10.904Z"
   },
   {
    "duration": 350,
    "start_time": "2021-08-12T19:56:24.307Z"
   },
   {
    "duration": 20,
    "start_time": "2021-08-12T19:56:34.473Z"
   },
   {
    "duration": 21,
    "start_time": "2021-08-12T19:57:01.443Z"
   },
   {
    "duration": 9082,
    "start_time": "2021-08-12T19:59:50.828Z"
   },
   {
    "duration": 82,
    "start_time": "2021-08-12T20:00:12.838Z"
   },
   {
    "duration": 7,
    "start_time": "2021-08-12T20:02:20.737Z"
   },
   {
    "duration": 9,
    "start_time": "2021-08-12T20:02:38.517Z"
   },
   {
    "duration": 8,
    "start_time": "2021-08-12T20:02:58.066Z"
   },
   {
    "duration": 8,
    "start_time": "2021-08-12T20:03:02.834Z"
   },
   {
    "duration": 9,
    "start_time": "2021-08-12T20:03:08.136Z"
   },
   {
    "duration": 8,
    "start_time": "2021-08-12T20:05:09.786Z"
   },
   {
    "duration": 18,
    "start_time": "2021-08-12T20:05:13.469Z"
   },
   {
    "duration": 21,
    "start_time": "2021-08-12T20:10:11.555Z"
   },
   {
    "duration": 18,
    "start_time": "2021-08-12T20:10:31.077Z"
   },
   {
    "duration": 3,
    "start_time": "2021-08-12T20:17:55.861Z"
   },
   {
    "duration": 7,
    "start_time": "2021-08-12T20:18:03.488Z"
   },
   {
    "duration": 39,
    "start_time": "2021-08-12T20:18:09.080Z"
   },
   {
    "duration": 24,
    "start_time": "2021-08-12T20:19:35.807Z"
   },
   {
    "duration": 5,
    "start_time": "2021-08-12T20:25:16.445Z"
   },
   {
    "duration": 27,
    "start_time": "2021-08-12T20:25:22.563Z"
   },
   {
    "duration": 1392,
    "start_time": "2021-08-12T20:28:21.987Z"
   },
   {
    "duration": 4,
    "start_time": "2021-08-12T20:28:30.873Z"
   },
   {
    "duration": 1606,
    "start_time": "2021-08-12T20:33:36.335Z"
   },
   {
    "duration": 828,
    "start_time": "2021-08-12T20:36:04.179Z"
   },
   {
    "duration": 16,
    "start_time": "2021-08-12T20:36:05.014Z"
   },
   {
    "duration": 16,
    "start_time": "2021-08-12T20:36:05.033Z"
   },
   {
    "duration": 48,
    "start_time": "2021-08-12T20:36:05.051Z"
   },
   {
    "duration": 20,
    "start_time": "2021-08-12T20:42:14.856Z"
   },
   {
    "duration": 106,
    "start_time": "2021-08-12T20:42:26.047Z"
   },
   {
    "duration": 23,
    "start_time": "2021-08-12T20:42:28.575Z"
   },
   {
    "duration": 24,
    "start_time": "2021-08-12T20:42:41.699Z"
   },
   {
    "duration": 49,
    "start_time": "2021-08-12T20:43:57.166Z"
   },
   {
    "duration": 41,
    "start_time": "2021-08-12T20:44:29.546Z"
   },
   {
    "duration": 497,
    "start_time": "2021-08-12T20:45:34.118Z"
   },
   {
    "duration": 26,
    "start_time": "2021-08-12T20:45:46.597Z"
   },
   {
    "duration": 126,
    "start_time": "2021-08-12T20:53:05.927Z"
   },
   {
    "duration": 105,
    "start_time": "2021-08-12T20:53:39.870Z"
   },
   {
    "duration": 353,
    "start_time": "2021-08-12T20:53:43.106Z"
   },
   {
    "duration": 372,
    "start_time": "2021-08-12T20:53:56.000Z"
   },
   {
    "duration": 883,
    "start_time": "2021-08-12T20:54:06.934Z"
   },
   {
    "duration": 393,
    "start_time": "2021-08-12T20:54:12.289Z"
   },
   {
    "duration": 381,
    "start_time": "2021-08-12T20:55:07.444Z"
   },
   {
    "duration": 395,
    "start_time": "2021-08-12T20:58:06.423Z"
   },
   {
    "duration": 330,
    "start_time": "2021-08-12T20:58:35.707Z"
   },
   {
    "duration": 380,
    "start_time": "2021-08-12T21:00:25.927Z"
   },
   {
    "duration": 330,
    "start_time": "2021-08-12T21:00:41.645Z"
   },
   {
    "duration": 25,
    "start_time": "2021-08-12T21:00:54.329Z"
   },
   {
    "duration": 43,
    "start_time": "2021-08-12T21:01:47.065Z"
   },
   {
    "duration": 51,
    "start_time": "2021-08-12T21:03:23.949Z"
   },
   {
    "duration": 1422,
    "start_time": "2021-08-14T05:19:57.405Z"
   },
   {
    "duration": 880,
    "start_time": "2021-08-14T05:20:12.061Z"
   },
   {
    "duration": 25,
    "start_time": "2021-08-14T05:20:12.944Z"
   },
   {
    "duration": 17,
    "start_time": "2021-08-14T05:20:12.971Z"
   },
   {
    "duration": 9,
    "start_time": "2021-08-14T05:20:12.990Z"
   },
   {
    "duration": 364,
    "start_time": "2021-08-14T05:20:30.847Z"
   },
   {
    "duration": 294,
    "start_time": "2021-08-14T05:20:37.483Z"
   },
   {
    "duration": 13,
    "start_time": "2021-08-14T05:20:46.379Z"
   },
   {
    "duration": 259,
    "start_time": "2021-08-14T05:28:02.303Z"
   },
   {
    "duration": 274,
    "start_time": "2021-08-14T05:28:20.997Z"
   },
   {
    "duration": 284,
    "start_time": "2021-08-14T05:28:32.736Z"
   },
   {
    "duration": 272,
    "start_time": "2021-08-14T05:30:10.230Z"
   },
   {
    "duration": 274,
    "start_time": "2021-08-14T05:30:21.547Z"
   },
   {
    "duration": 273,
    "start_time": "2021-08-14T05:31:33.347Z"
   },
   {
    "duration": 269,
    "start_time": "2021-08-14T05:32:03.146Z"
   },
   {
    "duration": 306,
    "start_time": "2021-08-14T05:33:07.331Z"
   },
   {
    "duration": 47,
    "start_time": "2021-08-14T05:33:29.828Z"
   },
   {
    "duration": 47,
    "start_time": "2021-08-14T05:38:08.778Z"
   },
   {
    "duration": 3582,
    "start_time": "2021-08-14T05:59:31.458Z"
   },
   {
    "duration": 1423,
    "start_time": "2021-08-14T05:59:56.530Z"
   },
   {
    "duration": 278,
    "start_time": "2021-08-14T06:02:39.016Z"
   },
   {
    "duration": 274,
    "start_time": "2021-08-14T06:04:27.508Z"
   },
   {
    "duration": 36,
    "start_time": "2021-08-14T06:04:37.873Z"
   },
   {
    "duration": 17,
    "start_time": "2021-08-14T06:04:50.912Z"
   },
   {
    "duration": 310,
    "start_time": "2021-08-14T06:06:34.253Z"
   },
   {
    "duration": 920,
    "start_time": "2021-08-14T06:06:43.580Z"
   },
   {
    "duration": 309,
    "start_time": "2021-08-14T06:07:50.279Z"
   },
   {
    "duration": 286,
    "start_time": "2021-08-14T06:08:02.589Z"
   },
   {
    "duration": 930,
    "start_time": "2021-08-14T06:08:16.296Z"
   },
   {
    "duration": 59,
    "start_time": "2021-08-14T06:09:25.816Z"
   },
   {
    "duration": 26,
    "start_time": "2021-08-14T06:09:35.376Z"
   },
   {
    "duration": 19,
    "start_time": "2021-08-14T06:09:43.927Z"
   },
   {
    "duration": 1142,
    "start_time": "2021-08-14T06:09:54.115Z"
   },
   {
    "duration": 17,
    "start_time": "2021-08-14T06:09:55.260Z"
   },
   {
    "duration": 17,
    "start_time": "2021-08-14T06:09:55.279Z"
   },
   {
    "duration": 60,
    "start_time": "2021-08-14T06:09:55.299Z"
   },
   {
    "duration": 25,
    "start_time": "2021-08-14T06:09:55.361Z"
   },
   {
    "duration": 27,
    "start_time": "2021-08-14T06:10:18.379Z"
   },
   {
    "duration": 933,
    "start_time": "2021-08-14T06:11:04.729Z"
   },
   {
    "duration": 57,
    "start_time": "2021-08-14T06:12:00.525Z"
   },
   {
    "duration": 4503,
    "start_time": "2021-08-14T06:12:11.608Z"
   },
   {
    "duration": 1342,
    "start_time": "2021-08-14T06:13:59.049Z"
   },
   {
    "duration": 1280,
    "start_time": "2021-08-14T06:14:05.265Z"
   },
   {
    "duration": 1250,
    "start_time": "2021-08-14T06:14:28.285Z"
   },
   {
    "duration": 1293,
    "start_time": "2021-08-14T06:14:43.264Z"
   },
   {
    "duration": 1367,
    "start_time": "2021-08-14T06:14:57.374Z"
   },
   {
    "duration": 23,
    "start_time": "2021-08-14T06:15:09.676Z"
   },
   {
    "duration": 5,
    "start_time": "2021-08-14T06:16:33.362Z"
   },
   {
    "duration": 6,
    "start_time": "2021-08-14T06:16:41.240Z"
   },
   {
    "duration": 2006,
    "start_time": "2021-08-14T06:18:05.594Z"
   },
   {
    "duration": 279,
    "start_time": "2021-08-14T06:20:41.858Z"
   },
   {
    "duration": 7314,
    "start_time": "2021-08-14T06:20:47.972Z"
   },
   {
    "duration": 5918,
    "start_time": "2021-08-14T06:21:07.888Z"
   },
   {
    "duration": 774,
    "start_time": "2021-08-14T06:21:15.807Z"
   },
   {
    "duration": 20,
    "start_time": "2021-08-14T06:21:16.585Z"
   },
   {
    "duration": 52,
    "start_time": "2021-08-14T06:21:16.609Z"
   },
   {
    "duration": 50,
    "start_time": "2021-08-14T06:21:16.664Z"
   },
   {
    "duration": 41,
    "start_time": "2021-08-14T06:21:16.717Z"
   },
   {
    "duration": 382,
    "start_time": "2021-08-14T06:21:57.577Z"
   },
   {
    "duration": 13,
    "start_time": "2021-08-14T06:25:40.005Z"
   },
   {
    "duration": 889,
    "start_time": "2021-08-14T11:26:39.747Z"
   },
   {
    "duration": 19,
    "start_time": "2021-08-14T11:26:40.640Z"
   },
   {
    "duration": 38,
    "start_time": "2021-08-14T11:26:40.662Z"
   },
   {
    "duration": 45,
    "start_time": "2021-08-14T11:26:40.703Z"
   },
   {
    "duration": 44,
    "start_time": "2021-08-14T11:26:40.751Z"
   },
   {
    "duration": 11,
    "start_time": "2021-08-14T11:30:49.814Z"
   },
   {
    "duration": 15,
    "start_time": "2021-08-14T11:30:55.487Z"
   },
   {
    "duration": 16,
    "start_time": "2021-08-14T11:31:04.681Z"
   },
   {
    "duration": 1528,
    "start_time": "2021-08-14T11:36:39.855Z"
   },
   {
    "duration": 4562,
    "start_time": "2021-08-14T11:37:10.997Z"
   },
   {
    "duration": 4797,
    "start_time": "2021-08-14T11:37:33.821Z"
   },
   {
    "duration": 4867,
    "start_time": "2021-08-14T11:37:46.789Z"
   },
   {
    "duration": 4505,
    "start_time": "2021-08-14T11:38:31.593Z"
   },
   {
    "duration": 5019,
    "start_time": "2021-08-14T11:40:36.127Z"
   },
   {
    "duration": 4921,
    "start_time": "2021-08-14T11:41:15.698Z"
   },
   {
    "duration": 5059,
    "start_time": "2021-08-14T11:42:58.459Z"
   },
   {
    "duration": 4841,
    "start_time": "2021-08-14T11:43:32.169Z"
   },
   {
    "duration": 5112,
    "start_time": "2021-08-14T11:43:42.331Z"
   },
   {
    "duration": 4600,
    "start_time": "2021-08-14T11:44:46.158Z"
   },
   {
    "duration": 4861,
    "start_time": "2021-08-14T11:51:40.570Z"
   },
   {
    "duration": 4971,
    "start_time": "2021-08-14T11:51:52.371Z"
   },
   {
    "duration": 4849,
    "start_time": "2021-08-14T11:52:12.034Z"
   },
   {
    "duration": 4955,
    "start_time": "2021-08-14T11:52:41.978Z"
   },
   {
    "duration": 5554,
    "start_time": "2021-08-14T11:53:21.984Z"
   },
   {
    "duration": 4776,
    "start_time": "2021-08-14T11:53:46.654Z"
   },
   {
    "duration": 4568,
    "start_time": "2021-08-14T11:54:09.753Z"
   },
   {
    "duration": 4882,
    "start_time": "2021-08-14T11:56:07.596Z"
   },
   {
    "duration": 6967,
    "start_time": "2021-08-14T11:56:39.204Z"
   },
   {
    "duration": 4959,
    "start_time": "2021-08-14T12:02:44.975Z"
   },
   {
    "duration": 1397,
    "start_time": "2021-08-14T12:03:19.591Z"
   },
   {
    "duration": 844,
    "start_time": "2021-08-14T12:03:36.091Z"
   },
   {
    "duration": 17,
    "start_time": "2021-08-14T12:03:36.938Z"
   },
   {
    "duration": 40,
    "start_time": "2021-08-14T12:03:36.958Z"
   },
   {
    "duration": 47,
    "start_time": "2021-08-14T12:03:37.001Z"
   },
   {
    "duration": 10486,
    "start_time": "2021-08-14T12:03:37.050Z"
   },
   {
    "duration": 904,
    "start_time": "2021-08-14T12:04:42.351Z"
   },
   {
    "duration": 29,
    "start_time": "2021-08-14T12:04:43.257Z"
   },
   {
    "duration": 19,
    "start_time": "2021-08-14T12:04:43.289Z"
   },
   {
    "duration": 51,
    "start_time": "2021-08-14T12:04:43.311Z"
   },
   {
    "duration": 32,
    "start_time": "2021-08-14T12:04:43.387Z"
   },
   {
    "duration": 7771,
    "start_time": "2021-08-14T12:05:59.484Z"
   },
   {
    "duration": 31,
    "start_time": "2021-08-14T12:06:21.844Z"
   },
   {
    "duration": 50,
    "start_time": "2021-08-14T12:06:39.140Z"
   },
   {
    "duration": 8250,
    "start_time": "2021-08-14T12:06:53.776Z"
   },
   {
    "duration": 21,
    "start_time": "2021-08-14T12:07:21.648Z"
   },
   {
    "duration": 32,
    "start_time": "2021-08-14T12:07:52.233Z"
   },
   {
    "duration": 29,
    "start_time": "2021-08-14T12:08:02.438Z"
   },
   {
    "duration": 1036,
    "start_time": "2021-08-14T12:08:08.406Z"
   },
   {
    "duration": 8,
    "start_time": "2021-08-14T13:26:47.163Z"
   },
   {
    "duration": 899,
    "start_time": "2021-08-14T13:36:06.181Z"
   },
   {
    "duration": 17,
    "start_time": "2021-08-14T13:36:07.086Z"
   },
   {
    "duration": 19,
    "start_time": "2021-08-14T13:36:07.106Z"
   },
   {
    "duration": 78,
    "start_time": "2021-08-14T13:36:07.127Z"
   },
   {
    "duration": 4710,
    "start_time": "2021-08-14T13:36:07.208Z"
   },
   {
    "duration": 6,
    "start_time": "2021-08-14T13:36:11.921Z"
   },
   {
    "duration": 37,
    "start_time": "2021-08-14T13:36:58.816Z"
   },
   {
    "duration": 27,
    "start_time": "2021-08-14T13:37:11.389Z"
   },
   {
    "duration": 29,
    "start_time": "2021-08-14T13:37:46.239Z"
   },
   {
    "duration": 28,
    "start_time": "2021-08-14T13:37:57.876Z"
   },
   {
    "duration": 104,
    "start_time": "2021-08-14T13:40:23.275Z"
   },
   {
    "duration": 405,
    "start_time": "2021-08-14T13:40:29.038Z"
   },
   {
    "duration": 39,
    "start_time": "2021-08-14T13:40:55.797Z"
   },
   {
    "duration": 855,
    "start_time": "2021-08-14T13:41:50.004Z"
   },
   {
    "duration": 16,
    "start_time": "2021-08-14T13:41:50.861Z"
   },
   {
    "duration": 19,
    "start_time": "2021-08-14T13:41:50.880Z"
   },
   {
    "duration": 48,
    "start_time": "2021-08-14T13:41:50.901Z"
   },
   {
    "duration": 5040,
    "start_time": "2021-08-14T13:41:50.951Z"
   },
   {
    "duration": 53,
    "start_time": "2021-08-14T13:41:55.994Z"
   },
   {
    "duration": 801,
    "start_time": "2021-08-14T13:42:40.638Z"
   },
   {
    "duration": 19,
    "start_time": "2021-08-14T13:42:41.443Z"
   },
   {
    "duration": 18,
    "start_time": "2021-08-14T13:42:41.486Z"
   },
   {
    "duration": 46,
    "start_time": "2021-08-14T13:42:41.506Z"
   },
   {
    "duration": 4592,
    "start_time": "2021-08-14T13:42:41.554Z"
   },
   {
    "duration": 63,
    "start_time": "2021-08-14T13:42:46.148Z"
   },
   {
    "duration": 93,
    "start_time": "2021-08-14T13:55:51.930Z"
   },
   {
    "duration": 7435,
    "start_time": "2021-08-14T13:56:17.562Z"
   },
   {
    "duration": 7299,
    "start_time": "2021-08-14T13:57:11.354Z"
   },
   {
    "duration": 295,
    "start_time": "2021-08-14T13:57:53.980Z"
   },
   {
    "duration": 25,
    "start_time": "2021-08-14T13:58:28.972Z"
   },
   {
    "duration": 6,
    "start_time": "2021-08-14T13:58:41.246Z"
   },
   {
    "duration": 6,
    "start_time": "2021-08-14T13:58:58.976Z"
   },
   {
    "duration": 894,
    "start_time": "2021-08-14T14:01:57.288Z"
   },
   {
    "duration": 19,
    "start_time": "2021-08-14T14:01:58.184Z"
   },
   {
    "duration": 19,
    "start_time": "2021-08-14T14:01:58.206Z"
   },
   {
    "duration": 97,
    "start_time": "2021-08-14T14:01:58.228Z"
   },
   {
    "duration": 4704,
    "start_time": "2021-08-14T14:01:58.327Z"
   },
   {
    "duration": 55,
    "start_time": "2021-08-14T14:02:03.034Z"
   },
   {
    "duration": 101,
    "start_time": "2021-08-14T14:02:03.092Z"
   },
   {
    "duration": 677,
    "start_time": "2021-08-14T14:04:18.734Z"
   },
   {
    "duration": 935,
    "start_time": "2021-08-14T14:04:44.909Z"
   },
   {
    "duration": 617,
    "start_time": "2021-08-14T14:05:49.019Z"
   },
   {
    "duration": 603,
    "start_time": "2021-08-14T14:05:56.891Z"
   },
   {
    "duration": 622,
    "start_time": "2021-08-14T14:06:21.592Z"
   },
   {
    "duration": 688,
    "start_time": "2021-08-14T14:08:08.759Z"
   },
   {
    "duration": 599,
    "start_time": "2021-08-14T14:10:49.398Z"
   },
   {
    "duration": 603,
    "start_time": "2021-08-14T14:10:58.653Z"
   },
   {
    "duration": 728,
    "start_time": "2021-08-14T14:11:30.633Z"
   },
   {
    "duration": 95,
    "start_time": "2021-08-14T14:11:55.243Z"
   },
   {
    "duration": 603,
    "start_time": "2021-08-14T14:12:02.015Z"
   },
   {
    "duration": 93,
    "start_time": "2021-08-14T14:13:56.000Z"
   },
   {
    "duration": 989,
    "start_time": "2021-08-14T14:14:01.580Z"
   },
   {
    "duration": 590,
    "start_time": "2021-08-14T14:14:36.912Z"
   },
   {
    "duration": 614,
    "start_time": "2021-08-14T14:15:29.409Z"
   },
   {
    "duration": 619,
    "start_time": "2021-08-14T14:15:42.517Z"
   },
   {
    "duration": 920,
    "start_time": "2021-08-14T14:18:57.106Z"
   },
   {
    "duration": 596,
    "start_time": "2021-08-14T14:19:08.689Z"
   },
   {
    "duration": 601,
    "start_time": "2021-08-14T14:19:23.212Z"
   },
   {
    "duration": 603,
    "start_time": "2021-08-14T14:19:30.253Z"
   },
   {
    "duration": 105,
    "start_time": "2021-08-14T14:19:59.310Z"
   },
   {
    "duration": 613,
    "start_time": "2021-08-14T14:20:18.619Z"
   },
   {
    "duration": 691,
    "start_time": "2021-08-14T14:21:14.583Z"
   },
   {
    "duration": 584,
    "start_time": "2021-08-14T14:24:00.040Z"
   },
   {
    "duration": 898,
    "start_time": "2021-08-14T14:31:52.041Z"
   },
   {
    "duration": 609,
    "start_time": "2021-08-14T14:32:36.110Z"
   },
   {
    "duration": 593,
    "start_time": "2021-08-14T14:32:50.331Z"
   },
   {
    "duration": 6,
    "start_time": "2021-08-14T14:34:25.586Z"
   },
   {
    "duration": 4,
    "start_time": "2021-08-14T14:34:57.994Z"
   },
   {
    "duration": 7,
    "start_time": "2021-08-14T14:35:03.602Z"
   },
   {
    "duration": 7,
    "start_time": "2021-08-14T14:36:35.813Z"
   },
   {
    "duration": 304,
    "start_time": "2021-08-14T14:39:25.173Z"
   },
   {
    "duration": 6,
    "start_time": "2021-08-14T14:39:31.890Z"
   },
   {
    "duration": 304,
    "start_time": "2021-08-14T14:40:52.162Z"
   },
   {
    "duration": 296,
    "start_time": "2021-08-14T14:40:56.782Z"
   },
   {
    "duration": 282,
    "start_time": "2021-08-14T14:41:58.334Z"
   },
   {
    "duration": 7,
    "start_time": "2021-08-14T14:42:27.783Z"
   },
   {
    "duration": 294,
    "start_time": "2021-08-14T14:45:55.848Z"
   },
   {
    "duration": 295,
    "start_time": "2021-08-14T14:46:23.543Z"
   },
   {
    "duration": 340,
    "start_time": "2021-08-14T14:46:28.382Z"
   },
   {
    "duration": 392,
    "start_time": "2021-08-14T14:47:02.109Z"
   },
   {
    "duration": 310,
    "start_time": "2021-08-14T14:47:09.203Z"
   },
   {
    "duration": 309,
    "start_time": "2021-08-14T14:47:18.700Z"
   },
   {
    "duration": 14,
    "start_time": "2021-08-14T14:48:58.936Z"
   },
   {
    "duration": 8,
    "start_time": "2021-08-14T14:49:13.392Z"
   },
   {
    "duration": 7,
    "start_time": "2021-08-14T14:49:36.352Z"
   },
   {
    "duration": 141,
    "start_time": "2021-08-14T14:54:10.602Z"
   },
   {
    "duration": 123,
    "start_time": "2021-08-14T14:54:19.228Z"
   },
   {
    "duration": 6,
    "start_time": "2021-08-14T14:54:27.516Z"
   },
   {
    "duration": 605,
    "start_time": "2021-08-14T14:56:49.766Z"
   },
   {
    "duration": 952,
    "start_time": "2021-08-14T14:57:46.969Z"
   },
   {
    "duration": 984,
    "start_time": "2021-08-14T14:59:11.784Z"
   },
   {
    "duration": 108,
    "start_time": "2021-08-14T15:00:28.137Z"
   },
   {
    "duration": 104,
    "start_time": "2021-08-14T15:02:10.689Z"
   },
   {
    "duration": 112,
    "start_time": "2021-08-14T15:02:27.540Z"
   },
   {
    "duration": 119,
    "start_time": "2021-08-14T15:02:54.780Z"
   },
   {
    "duration": 417,
    "start_time": "2021-08-14T15:03:07.101Z"
   },
   {
    "duration": 1196,
    "start_time": "2021-08-14T15:03:17.902Z"
   },
   {
    "duration": 642,
    "start_time": "2021-08-14T15:03:33.071Z"
   },
   {
    "duration": 654,
    "start_time": "2021-08-14T15:04:49.516Z"
   },
   {
    "duration": 638,
    "start_time": "2021-08-14T15:05:35.542Z"
   },
   {
    "duration": 647,
    "start_time": "2021-08-14T15:06:23.666Z"
   },
   {
    "duration": 823,
    "start_time": "2021-08-14T15:07:36.905Z"
   },
   {
    "duration": 18,
    "start_time": "2021-08-14T15:07:37.731Z"
   },
   {
    "duration": 37,
    "start_time": "2021-08-14T15:07:37.753Z"
   },
   {
    "duration": 64,
    "start_time": "2021-08-14T15:07:37.793Z"
   },
   {
    "duration": 4632,
    "start_time": "2021-08-14T15:07:37.859Z"
   },
   {
    "duration": 38,
    "start_time": "2021-08-14T15:07:42.494Z"
   },
   {
    "duration": 628,
    "start_time": "2021-08-14T15:07:42.535Z"
   },
   {
    "duration": 622,
    "start_time": "2021-08-14T15:07:43.166Z"
   },
   {
    "duration": 677,
    "start_time": "2021-08-14T15:07:43.792Z"
   },
   {
    "duration": 599,
    "start_time": "2021-08-14T15:08:55.298Z"
   },
   {
    "duration": 626,
    "start_time": "2021-08-14T15:09:39.097Z"
   },
   {
    "duration": 683,
    "start_time": "2021-08-14T15:09:48.385Z"
   },
   {
    "duration": 632,
    "start_time": "2021-08-14T15:09:55.604Z"
   },
   {
    "duration": 1143,
    "start_time": "2021-08-14T15:10:08.291Z"
   },
   {
    "duration": 630,
    "start_time": "2021-08-14T15:10:16.020Z"
   },
   {
    "duration": 106,
    "start_time": "2021-08-14T16:21:29.726Z"
   },
   {
    "duration": 11,
    "start_time": "2021-08-14T16:22:04.185Z"
   },
   {
    "duration": 923,
    "start_time": "2021-08-14T16:23:40.613Z"
   },
   {
    "duration": 640,
    "start_time": "2021-08-14T16:23:59.997Z"
   },
   {
    "duration": 684,
    "start_time": "2021-08-14T16:24:39.603Z"
   },
   {
    "duration": 638,
    "start_time": "2021-08-14T16:24:48.540Z"
   },
   {
    "duration": 621,
    "start_time": "2021-08-14T16:25:08.949Z"
   },
   {
    "duration": 922,
    "start_time": "2021-08-14T16:25:29.615Z"
   },
   {
    "duration": 702,
    "start_time": "2021-08-14T16:26:13.640Z"
   },
   {
    "duration": 658,
    "start_time": "2021-08-14T16:26:41.874Z"
   },
   {
    "duration": 648,
    "start_time": "2021-08-14T16:27:03.423Z"
   },
   {
    "duration": 645,
    "start_time": "2021-08-14T16:27:14.625Z"
   },
   {
    "duration": 620,
    "start_time": "2021-08-14T16:27:22.954Z"
   },
   {
    "duration": 625,
    "start_time": "2021-08-14T16:27:52.152Z"
   },
   {
    "duration": 613,
    "start_time": "2021-08-14T16:28:03.281Z"
   },
   {
    "duration": 612,
    "start_time": "2021-08-14T16:28:08.963Z"
   },
   {
    "duration": 36,
    "start_time": "2021-08-14T16:28:55.989Z"
   },
   {
    "duration": 33,
    "start_time": "2021-08-14T16:29:08.124Z"
   },
   {
    "duration": 627,
    "start_time": "2021-08-14T16:34:15.082Z"
   },
   {
    "duration": 638,
    "start_time": "2021-08-14T16:34:57.319Z"
   },
   {
    "duration": 845,
    "start_time": "2021-08-14T16:35:34.008Z"
   },
   {
    "duration": 29,
    "start_time": "2021-08-14T16:35:34.856Z"
   },
   {
    "duration": 17,
    "start_time": "2021-08-14T16:35:34.888Z"
   },
   {
    "duration": 84,
    "start_time": "2021-08-14T16:35:34.908Z"
   },
   {
    "duration": 4541,
    "start_time": "2021-08-14T16:35:34.994Z"
   },
   {
    "duration": 51,
    "start_time": "2021-08-14T16:35:39.538Z"
   },
   {
    "duration": 713,
    "start_time": "2021-08-14T16:35:39.591Z"
   },
   {
    "duration": 628,
    "start_time": "2021-08-14T16:35:40.308Z"
   },
   {
    "duration": 656,
    "start_time": "2021-08-14T16:35:40.938Z"
   },
   {
    "duration": 637,
    "start_time": "2021-08-14T16:35:41.597Z"
   },
   {
    "duration": 877,
    "start_time": "2021-08-14T19:15:40.897Z"
   },
   {
    "duration": 24,
    "start_time": "2021-08-14T19:15:41.778Z"
   },
   {
    "duration": 20,
    "start_time": "2021-08-14T19:15:41.805Z"
   },
   {
    "duration": 100,
    "start_time": "2021-08-14T19:15:41.828Z"
   },
   {
    "duration": 5268,
    "start_time": "2021-08-14T19:15:41.930Z"
   },
   {
    "duration": 42,
    "start_time": "2021-08-14T19:15:47.201Z"
   },
   {
    "duration": 628,
    "start_time": "2021-08-14T19:15:47.247Z"
   },
   {
    "duration": 605,
    "start_time": "2021-08-14T19:15:47.887Z"
   },
   {
    "duration": 653,
    "start_time": "2021-08-14T19:15:48.495Z"
   },
   {
    "duration": 662,
    "start_time": "2021-08-14T19:15:49.150Z"
   },
   {
    "duration": 134,
    "start_time": "2021-08-14T19:22:04.514Z"
   },
   {
    "duration": 24,
    "start_time": "2021-08-14T19:24:05.546Z"
   },
   {
    "duration": 847,
    "start_time": "2021-08-14T19:32:15.243Z"
   },
   {
    "duration": 18,
    "start_time": "2021-08-14T19:32:16.092Z"
   },
   {
    "duration": 17,
    "start_time": "2021-08-14T19:32:16.113Z"
   },
   {
    "duration": 98,
    "start_time": "2021-08-14T19:32:16.133Z"
   },
   {
    "duration": 4983,
    "start_time": "2021-08-14T19:32:16.233Z"
   },
   {
    "duration": 84,
    "start_time": "2021-08-14T19:32:21.220Z"
   },
   {
    "duration": 1300,
    "start_time": "2021-08-14T19:32:21.307Z"
   },
   {
    "duration": 1287,
    "start_time": "2021-08-14T19:32:22.612Z"
   },
   {
    "duration": 1418,
    "start_time": "2021-08-14T19:32:23.903Z"
   },
   {
    "duration": 1394,
    "start_time": "2021-08-14T19:32:25.324Z"
   },
   {
    "duration": 69,
    "start_time": "2021-08-14T19:35:24.869Z"
   },
   {
    "duration": 73,
    "start_time": "2021-08-14T19:36:07.755Z"
   },
   {
    "duration": 68,
    "start_time": "2021-08-14T19:36:29.265Z"
   },
   {
    "duration": 421,
    "start_time": "2021-08-14T19:45:01.469Z"
   },
   {
    "duration": 80,
    "start_time": "2021-08-14T19:45:11.808Z"
   },
   {
    "duration": 115,
    "start_time": "2021-08-14T20:00:43.751Z"
   },
   {
    "duration": 100,
    "start_time": "2021-08-14T20:00:50.294Z"
   },
   {
    "duration": 52,
    "start_time": "2021-08-14T20:00:54.961Z"
   },
   {
    "duration": 933,
    "start_time": "2021-08-14T20:02:33.483Z"
   },
   {
    "duration": 18,
    "start_time": "2021-08-14T20:02:34.418Z"
   },
   {
    "duration": 19,
    "start_time": "2021-08-14T20:02:34.439Z"
   },
   {
    "duration": 16,
    "start_time": "2021-08-14T20:02:34.485Z"
   },
   {
    "duration": 4491,
    "start_time": "2021-08-14T20:02:34.504Z"
   },
   {
    "duration": 51,
    "start_time": "2021-08-14T20:02:38.998Z"
   },
   {
    "duration": 383,
    "start_time": "2021-08-14T20:02:39.051Z"
   },
   {
    "duration": 494,
    "start_time": "2021-08-14T20:02:38.943Z"
   },
   {
    "duration": 493,
    "start_time": "2021-08-14T20:02:38.945Z"
   },
   {
    "duration": 491,
    "start_time": "2021-08-14T20:02:38.949Z"
   },
   {
    "duration": 325,
    "start_time": "2021-08-14T20:06:01.812Z"
   },
   {
    "duration": 312,
    "start_time": "2021-08-14T20:06:21.184Z"
   },
   {
    "duration": 350,
    "start_time": "2021-08-14T20:06:36.800Z"
   },
   {
    "duration": 50,
    "start_time": "2021-08-14T20:09:16.508Z"
   },
   {
    "duration": 363,
    "start_time": "2021-08-14T20:11:13.738Z"
   },
   {
    "duration": 29,
    "start_time": "2021-08-14T20:11:28.330Z"
   },
   {
    "duration": 29,
    "start_time": "2021-08-14T20:11:40.892Z"
   },
   {
    "duration": 27,
    "start_time": "2021-08-14T20:12:09.505Z"
   },
   {
    "duration": 28,
    "start_time": "2021-08-14T20:12:22.997Z"
   },
   {
    "duration": 50,
    "start_time": "2021-08-14T20:13:01.606Z"
   },
   {
    "duration": 7808,
    "start_time": "2021-08-14T20:15:39.306Z"
   },
   {
    "duration": 41,
    "start_time": "2021-08-14T20:16:01.649Z"
   },
   {
    "duration": 35,
    "start_time": "2021-08-14T20:20:00.889Z"
   },
   {
    "duration": 36,
    "start_time": "2021-08-14T20:20:51.800Z"
   },
   {
    "duration": 97,
    "start_time": "2021-08-14T20:24:17.009Z"
   },
   {
    "duration": 501,
    "start_time": "2021-08-14T20:24:22.712Z"
   },
   {
    "duration": 46,
    "start_time": "2021-08-14T20:25:18.050Z"
   },
   {
    "duration": 46,
    "start_time": "2021-08-14T20:25:31.754Z"
   },
   {
    "duration": 45,
    "start_time": "2021-08-14T20:25:48.849Z"
   },
   {
    "duration": 42,
    "start_time": "2021-08-14T20:27:17.101Z"
   },
   {
    "duration": 29,
    "start_time": "2021-08-14T20:27:30.967Z"
   },
   {
    "duration": 33,
    "start_time": "2021-08-14T20:27:37.792Z"
   },
   {
    "duration": 29,
    "start_time": "2021-08-14T20:27:43.804Z"
   },
   {
    "duration": 29,
    "start_time": "2021-08-14T20:27:49.707Z"
   },
   {
    "duration": 1045,
    "start_time": "2021-08-14T20:28:53.095Z"
   },
   {
    "duration": 18,
    "start_time": "2021-08-14T20:28:54.143Z"
   },
   {
    "duration": 38,
    "start_time": "2021-08-14T20:28:54.164Z"
   },
   {
    "duration": 16,
    "start_time": "2021-08-14T20:28:54.205Z"
   },
   {
    "duration": 4506,
    "start_time": "2021-08-14T20:28:54.223Z"
   },
   {
    "duration": 67,
    "start_time": "2021-08-14T20:28:58.732Z"
   },
   {
    "duration": 41,
    "start_time": "2021-08-14T20:28:58.803Z"
   },
   {
    "duration": 66,
    "start_time": "2021-08-14T20:28:58.849Z"
   },
   {
    "duration": 77,
    "start_time": "2021-08-14T20:28:58.918Z"
   },
   {
    "duration": 45,
    "start_time": "2021-08-14T20:28:58.998Z"
   },
   {
    "duration": 74,
    "start_time": "2021-08-14T20:33:37.835Z"
   },
   {
    "duration": 882,
    "start_time": "2021-08-14T20:33:45.857Z"
   },
   {
    "duration": 17,
    "start_time": "2021-08-14T20:33:46.742Z"
   },
   {
    "duration": 34,
    "start_time": "2021-08-14T20:33:46.763Z"
   },
   {
    "duration": 41,
    "start_time": "2021-08-14T20:33:46.801Z"
   },
   {
    "duration": 4660,
    "start_time": "2021-08-14T20:33:46.844Z"
   },
   {
    "duration": 57,
    "start_time": "2021-08-14T20:33:51.507Z"
   },
   {
    "duration": 41,
    "start_time": "2021-08-14T20:33:51.585Z"
   },
   {
    "duration": 57,
    "start_time": "2021-08-14T20:33:51.629Z"
   },
   {
    "duration": 53,
    "start_time": "2021-08-14T20:33:51.689Z"
   },
   {
    "duration": 61,
    "start_time": "2021-08-14T20:33:51.745Z"
   },
   {
    "duration": 275,
    "start_time": "2021-08-15T06:54:12.107Z"
   },
   {
    "duration": 627,
    "start_time": "2021-08-15T06:54:22.772Z"
   },
   {
    "duration": 11,
    "start_time": "2021-08-15T06:54:23.400Z"
   },
   {
    "duration": 11,
    "start_time": "2021-08-15T06:54:23.412Z"
   },
   {
    "duration": 23,
    "start_time": "2021-08-15T06:54:23.425Z"
   },
   {
    "duration": 3308,
    "start_time": "2021-08-15T06:54:23.450Z"
   },
   {
    "duration": 46,
    "start_time": "2021-08-15T06:54:26.760Z"
   },
   {
    "duration": 27,
    "start_time": "2021-08-15T06:54:26.808Z"
   },
   {
    "duration": 26,
    "start_time": "2021-08-15T06:54:26.837Z"
   },
   {
    "duration": 59,
    "start_time": "2021-08-15T06:54:26.865Z"
   },
   {
    "duration": 30,
    "start_time": "2021-08-15T06:54:26.926Z"
   },
   {
    "duration": 630,
    "start_time": "2021-08-15T06:55:42.479Z"
   },
   {
    "duration": 10,
    "start_time": "2021-08-15T06:55:43.111Z"
   },
   {
    "duration": 18,
    "start_time": "2021-08-15T06:55:43.123Z"
   },
   {
    "duration": 25,
    "start_time": "2021-08-15T06:55:43.143Z"
   },
   {
    "duration": 3293,
    "start_time": "2021-08-15T06:55:43.169Z"
   },
   {
    "duration": 42,
    "start_time": "2021-08-15T06:55:46.464Z"
   },
   {
    "duration": 26,
    "start_time": "2021-08-15T06:55:46.507Z"
   },
   {
    "duration": 25,
    "start_time": "2021-08-15T06:55:46.535Z"
   },
   {
    "duration": 54,
    "start_time": "2021-08-15T06:55:46.562Z"
   },
   {
    "duration": 27,
    "start_time": "2021-08-15T06:55:46.618Z"
   },
   {
    "duration": 873,
    "start_time": "2021-08-15T17:09:32.538Z"
   },
   {
    "duration": 17,
    "start_time": "2021-08-15T17:09:33.414Z"
   },
   {
    "duration": 18,
    "start_time": "2021-08-15T17:09:33.434Z"
   },
   {
    "duration": 74,
    "start_time": "2021-08-15T17:09:33.455Z"
   },
   {
    "duration": 4657,
    "start_time": "2021-08-15T17:09:33.532Z"
   },
   {
    "duration": 55,
    "start_time": "2021-08-15T17:09:38.192Z"
   },
   {
    "duration": 56,
    "start_time": "2021-08-15T17:09:38.250Z"
   },
   {
    "duration": 37,
    "start_time": "2021-08-15T17:09:38.309Z"
   },
   {
    "duration": 71,
    "start_time": "2021-08-15T17:09:38.348Z"
   },
   {
    "duration": 40,
    "start_time": "2021-08-15T17:09:38.422Z"
   },
   {
    "duration": 474,
    "start_time": "2021-08-15T17:10:15.140Z"
   },
   {
    "duration": 73,
    "start_time": "2021-08-15T17:10:32.715Z"
   },
   {
    "duration": 79,
    "start_time": "2021-08-15T17:11:23.745Z"
   },
   {
    "duration": 65,
    "start_time": "2021-08-15T17:13:03.840Z"
   },
   {
    "duration": 92,
    "start_time": "2021-08-15T17:13:24.538Z"
   },
   {
    "duration": 866,
    "start_time": "2021-08-15T17:14:11.791Z"
   },
   {
    "duration": 33,
    "start_time": "2021-08-15T17:14:12.660Z"
   },
   {
    "duration": 21,
    "start_time": "2021-08-15T17:14:12.697Z"
   },
   {
    "duration": 87,
    "start_time": "2021-08-15T17:14:12.722Z"
   },
   {
    "duration": 5105,
    "start_time": "2021-08-15T17:14:12.812Z"
   },
   {
    "duration": 64,
    "start_time": "2021-08-15T17:14:17.920Z"
   },
   {
    "duration": 41,
    "start_time": "2021-08-15T17:14:17.987Z"
   },
   {
    "duration": 55,
    "start_time": "2021-08-15T17:14:18.032Z"
   },
   {
    "duration": 53,
    "start_time": "2021-08-15T17:14:18.092Z"
   },
   {
    "duration": 68,
    "start_time": "2021-08-15T17:14:18.148Z"
   },
   {
    "duration": 820,
    "start_time": "2021-08-15T17:38:02.639Z"
   },
   {
    "duration": 36,
    "start_time": "2021-08-15T17:38:03.462Z"
   },
   {
    "duration": 25,
    "start_time": "2021-08-15T17:38:03.502Z"
   },
   {
    "duration": 503,
    "start_time": "2021-08-15T17:38:03.531Z"
   },
   {
    "duration": -287,
    "start_time": "2021-08-15T17:38:04.325Z"
   },
   {
    "duration": -289,
    "start_time": "2021-08-15T17:38:04.329Z"
   },
   {
    "duration": -291,
    "start_time": "2021-08-15T17:38:04.333Z"
   },
   {
    "duration": -293,
    "start_time": "2021-08-15T17:38:04.337Z"
   },
   {
    "duration": -295,
    "start_time": "2021-08-15T17:38:04.341Z"
   },
   {
    "duration": -299,
    "start_time": "2021-08-15T17:38:04.347Z"
   },
   {
    "duration": 873,
    "start_time": "2021-08-15T17:38:46.308Z"
   },
   {
    "duration": 25,
    "start_time": "2021-08-15T17:38:47.186Z"
   },
   {
    "duration": 17,
    "start_time": "2021-08-15T17:38:47.214Z"
   },
   {
    "duration": 477,
    "start_time": "2021-08-15T17:38:47.234Z"
   },
   {
    "duration": -300,
    "start_time": "2021-08-15T17:38:48.014Z"
   },
   {
    "duration": -300,
    "start_time": "2021-08-15T17:38:48.016Z"
   },
   {
    "duration": -299,
    "start_time": "2021-08-15T17:38:48.017Z"
   },
   {
    "duration": -297,
    "start_time": "2021-08-15T17:38:48.019Z"
   },
   {
    "duration": -297,
    "start_time": "2021-08-15T17:38:48.020Z"
   },
   {
    "duration": -297,
    "start_time": "2021-08-15T17:38:48.022Z"
   },
   {
    "duration": 1091,
    "start_time": "2021-08-15T17:39:16.075Z"
   },
   {
    "duration": 54,
    "start_time": "2021-08-15T17:39:17.169Z"
   },
   {
    "duration": 26,
    "start_time": "2021-08-15T17:39:17.228Z"
   },
   {
    "duration": 91,
    "start_time": "2021-08-15T17:39:17.258Z"
   },
   {
    "duration": 4693,
    "start_time": "2021-08-15T17:39:17.352Z"
   },
   {
    "duration": 63,
    "start_time": "2021-08-15T17:39:22.047Z"
   },
   {
    "duration": 38,
    "start_time": "2021-08-15T17:39:22.112Z"
   },
   {
    "duration": 62,
    "start_time": "2021-08-15T17:39:22.153Z"
   },
   {
    "duration": 77,
    "start_time": "2021-08-15T17:39:22.219Z"
   },
   {
    "duration": 40,
    "start_time": "2021-08-15T17:39:22.299Z"
   },
   {
    "duration": 1001,
    "start_time": "2021-08-15T17:39:50.745Z"
   },
   {
    "duration": 23,
    "start_time": "2021-08-15T17:39:51.749Z"
   },
   {
    "duration": 24,
    "start_time": "2021-08-15T17:39:51.793Z"
   },
   {
    "duration": 88,
    "start_time": "2021-08-15T17:39:51.820Z"
   },
   {
    "duration": 5120,
    "start_time": "2021-08-15T17:39:51.911Z"
   },
   {
    "duration": 67,
    "start_time": "2021-08-15T17:39:57.033Z"
   },
   {
    "duration": 35,
    "start_time": "2021-08-15T17:39:57.103Z"
   },
   {
    "duration": 68,
    "start_time": "2021-08-15T17:39:57.140Z"
   },
   {
    "duration": 47,
    "start_time": "2021-08-15T17:39:57.210Z"
   },
   {
    "duration": 45,
    "start_time": "2021-08-15T17:39:57.285Z"
   },
   {
    "duration": 855,
    "start_time": "2021-08-15T17:40:38.511Z"
   },
   {
    "duration": 25,
    "start_time": "2021-08-15T17:40:39.368Z"
   },
   {
    "duration": 17,
    "start_time": "2021-08-15T17:40:39.396Z"
   },
   {
    "duration": 99,
    "start_time": "2021-08-15T17:40:39.416Z"
   },
   {
    "duration": 4648,
    "start_time": "2021-08-15T17:40:39.517Z"
   },
   {
    "duration": 66,
    "start_time": "2021-08-15T17:40:44.168Z"
   },
   {
    "duration": 48,
    "start_time": "2021-08-15T17:40:44.237Z"
   },
   {
    "duration": 44,
    "start_time": "2021-08-15T17:40:44.288Z"
   },
   {
    "duration": 81,
    "start_time": "2021-08-15T17:40:44.335Z"
   },
   {
    "duration": 40,
    "start_time": "2021-08-15T17:40:44.418Z"
   },
   {
    "duration": 4646,
    "start_time": "2021-08-15T17:44:02.211Z"
   },
   {
    "duration": 7125,
    "start_time": "2021-08-15T17:45:03.880Z"
   },
   {
    "duration": 4868,
    "start_time": "2021-08-15T17:45:38.777Z"
   },
   {
    "duration": 11121,
    "start_time": "2021-08-15T17:46:15.116Z"
   },
   {
    "duration": 4980,
    "start_time": "2021-08-15T17:47:19.457Z"
   },
   {
    "duration": 11542,
    "start_time": "2021-08-15T17:48:48.532Z"
   },
   {
    "duration": 132,
    "start_time": "2021-08-15T17:50:01.157Z"
   },
   {
    "duration": 4828,
    "start_time": "2021-08-15T17:50:27.069Z"
   },
   {
    "duration": 5338,
    "start_time": "2021-08-15T18:00:22.638Z"
   },
   {
    "duration": 4809,
    "start_time": "2021-08-15T18:03:12.896Z"
   },
   {
    "duration": 4921,
    "start_time": "2021-08-15T18:03:44.104Z"
   },
   {
    "duration": 12977,
    "start_time": "2021-08-15T18:04:09.296Z"
   },
   {
    "duration": 4772,
    "start_time": "2021-08-15T18:04:37.766Z"
   },
   {
    "duration": 11243,
    "start_time": "2021-08-15T18:05:10.438Z"
   },
   {
    "duration": 4731,
    "start_time": "2021-08-15T18:05:36.235Z"
   },
   {
    "duration": 5037,
    "start_time": "2021-08-15T18:07:18.307Z"
   },
   {
    "duration": 4889,
    "start_time": "2021-08-15T18:07:40.301Z"
   },
   {
    "duration": 12010,
    "start_time": "2021-08-15T18:12:33.305Z"
   },
   {
    "duration": 107,
    "start_time": "2021-08-15T18:13:25.395Z"
   },
   {
    "duration": 11690,
    "start_time": "2021-08-15T18:13:33.576Z"
   },
   {
    "duration": 5085,
    "start_time": "2021-08-15T18:17:09.541Z"
   },
   {
    "duration": 48,
    "start_time": "2021-08-15T18:37:30.897Z"
   },
   {
    "duration": 100,
    "start_time": "2021-08-15T18:37:43.590Z"
   },
   {
    "duration": 28,
    "start_time": "2021-08-15T18:37:52.801Z"
   },
   {
    "duration": 28,
    "start_time": "2021-08-15T18:37:59.085Z"
   },
   {
    "duration": 46,
    "start_time": "2021-08-15T18:44:17.697Z"
   },
   {
    "duration": 817,
    "start_time": "2021-08-15T19:09:25.286Z"
   },
   {
    "duration": 17,
    "start_time": "2021-08-15T19:09:26.106Z"
   },
   {
    "duration": 25,
    "start_time": "2021-08-15T19:09:26.126Z"
   },
   {
    "duration": 89,
    "start_time": "2021-08-15T19:09:26.154Z"
   },
   {
    "duration": 11572,
    "start_time": "2021-08-15T19:09:26.245Z"
   },
   {
    "duration": -239,
    "start_time": "2021-08-15T19:09:38.059Z"
   },
   {
    "duration": -248,
    "start_time": "2021-08-15T19:09:38.069Z"
   },
   {
    "duration": -251,
    "start_time": "2021-08-15T19:09:38.074Z"
   },
   {
    "duration": -256,
    "start_time": "2021-08-15T19:09:38.080Z"
   },
   {
    "duration": -266,
    "start_time": "2021-08-15T19:09:38.092Z"
   },
   {
    "duration": 4481,
    "start_time": "2021-08-15T19:11:01.322Z"
   },
   {
    "duration": 878,
    "start_time": "2021-08-15T19:19:14.414Z"
   },
   {
    "duration": 20,
    "start_time": "2021-08-15T19:19:15.295Z"
   },
   {
    "duration": 18,
    "start_time": "2021-08-15T19:19:15.318Z"
   },
   {
    "duration": 96,
    "start_time": "2021-08-15T19:19:15.339Z"
   },
   {
    "duration": 4953,
    "start_time": "2021-08-15T19:19:15.437Z"
   },
   {
    "duration": 58,
    "start_time": "2021-08-15T19:19:20.394Z"
   },
   {
    "duration": 64,
    "start_time": "2021-08-15T19:19:20.455Z"
   },
   {
    "duration": 41,
    "start_time": "2021-08-15T19:19:20.523Z"
   },
   {
    "duration": 59,
    "start_time": "2021-08-15T19:19:20.583Z"
   },
   {
    "duration": 61,
    "start_time": "2021-08-15T19:19:20.645Z"
   },
   {
    "duration": 862,
    "start_time": "2021-08-15T19:26:10.546Z"
   },
   {
    "duration": 15,
    "start_time": "2021-08-15T19:26:11.416Z"
   },
   {
    "duration": 17,
    "start_time": "2021-08-15T19:26:11.434Z"
   },
   {
    "duration": 101,
    "start_time": "2021-08-15T19:26:11.454Z"
   },
   {
    "duration": 4829,
    "start_time": "2021-08-15T19:26:11.557Z"
   },
   {
    "duration": 56,
    "start_time": "2021-08-15T19:26:16.389Z"
   },
   {
    "duration": 62,
    "start_time": "2021-08-15T19:26:16.449Z"
   },
   {
    "duration": 39,
    "start_time": "2021-08-15T19:26:16.514Z"
   },
   {
    "duration": 89,
    "start_time": "2021-08-15T19:26:16.555Z"
   },
   {
    "duration": 66,
    "start_time": "2021-08-15T19:26:16.647Z"
   },
   {
    "duration": 938,
    "start_time": "2021-08-15T23:06:53.556Z"
   },
   {
    "duration": 17,
    "start_time": "2021-08-15T23:06:54.497Z"
   },
   {
    "duration": 38,
    "start_time": "2021-08-15T23:06:54.518Z"
   },
   {
    "duration": 69,
    "start_time": "2021-08-15T23:06:54.559Z"
   },
   {
    "duration": 4649,
    "start_time": "2021-08-15T23:06:54.630Z"
   },
   {
    "duration": 72,
    "start_time": "2021-08-15T23:06:59.283Z"
   },
   {
    "duration": 39,
    "start_time": "2021-08-15T23:06:59.357Z"
   },
   {
    "duration": 60,
    "start_time": "2021-08-15T23:06:59.399Z"
   },
   {
    "duration": 55,
    "start_time": "2021-08-15T23:06:59.462Z"
   },
   {
    "duration": 68,
    "start_time": "2021-08-15T23:06:59.520Z"
   },
   {
    "duration": 2848,
    "start_time": "2021-08-15T23:13:38.466Z"
   },
   {
    "duration": 4790,
    "start_time": "2021-08-15T23:14:31.390Z"
   },
   {
    "duration": 23,
    "start_time": "2021-08-15T23:15:42.958Z"
   },
   {
    "duration": -6888,
    "start_time": "2021-08-15T23:17:07.844Z"
   },
   {
    "duration": 28172,
    "start_time": "2021-08-15T23:17:09.894Z"
   },
   {
    "duration": 35,
    "start_time": "2021-08-15T23:17:38.069Z"
   },
   {
    "duration": 20,
    "start_time": "2021-08-15T23:17:54.279Z"
   },
   {
    "duration": 279,
    "start_time": "2021-08-16T18:09:08.268Z"
   },
   {
    "duration": 649,
    "start_time": "2021-08-16T18:09:26.236Z"
   },
   {
    "duration": 315,
    "start_time": "2021-08-16T18:09:26.886Z"
   },
   {
    "duration": -91,
    "start_time": "2021-08-16T18:09:27.296Z"
   },
   {
    "duration": -92,
    "start_time": "2021-08-16T18:09:27.298Z"
   },
   {
    "duration": -96,
    "start_time": "2021-08-16T18:09:27.303Z"
   },
   {
    "duration": -98,
    "start_time": "2021-08-16T18:09:27.305Z"
   },
   {
    "duration": -100,
    "start_time": "2021-08-16T18:09:27.308Z"
   },
   {
    "duration": -101,
    "start_time": "2021-08-16T18:09:27.310Z"
   },
   {
    "duration": -104,
    "start_time": "2021-08-16T18:09:27.314Z"
   },
   {
    "duration": -107,
    "start_time": "2021-08-16T18:09:27.318Z"
   },
   {
    "duration": -110,
    "start_time": "2021-08-16T18:09:27.322Z"
   },
   {
    "duration": -112,
    "start_time": "2021-08-16T18:09:27.325Z"
   },
   {
    "duration": 23,
    "start_time": "2021-08-16T18:12:31.457Z"
   },
   {
    "duration": 26,
    "start_time": "2021-08-16T18:12:50.426Z"
   },
   {
    "duration": 26,
    "start_time": "2021-08-16T18:12:56.235Z"
   },
   {
    "duration": 25,
    "start_time": "2021-08-16T18:13:22.671Z"
   },
   {
    "duration": 26,
    "start_time": "2021-08-16T18:14:14.852Z"
   },
   {
    "duration": 35,
    "start_time": "2021-08-16T19:55:14.403Z"
   },
   {
    "duration": 280,
    "start_time": "2021-08-16T20:15:00.425Z"
   },
   {
    "duration": 1741,
    "start_time": "2021-08-16T20:15:19.480Z"
   },
   {
    "duration": 91,
    "start_time": "2021-08-16T20:16:55.357Z"
   },
   {
    "duration": 302,
    "start_time": "2021-08-16T20:17:16.645Z"
   },
   {
    "duration": 277,
    "start_time": "2021-08-16T20:21:59.762Z"
   },
   {
    "duration": 993,
    "start_time": "2021-08-16T20:24:02.011Z"
   },
   {
    "duration": 987,
    "start_time": "2021-08-16T20:24:46.893Z"
   },
   {
    "duration": 283,
    "start_time": "2021-08-16T20:25:14.733Z"
   },
   {
    "duration": 306,
    "start_time": "2021-08-16T20:25:22.923Z"
   },
   {
    "duration": 37,
    "start_time": "2021-08-16T20:25:38.510Z"
   },
   {
    "duration": 92,
    "start_time": "2021-08-16T20:26:44.822Z"
   },
   {
    "duration": 92,
    "start_time": "2021-08-16T20:26:52.852Z"
   },
   {
    "duration": 1417,
    "start_time": "2021-08-16T20:26:56.845Z"
   },
   {
    "duration": 1007,
    "start_time": "2021-08-16T20:28:09.645Z"
   },
   {
    "duration": 1023,
    "start_time": "2021-08-16T20:28:32.184Z"
   },
   {
    "duration": 1065,
    "start_time": "2021-08-16T20:29:38.014Z"
   },
   {
    "duration": 774,
    "start_time": "2021-08-16T20:30:06.431Z"
   },
   {
    "duration": 759,
    "start_time": "2021-08-16T20:30:44.054Z"
   },
   {
    "duration": 856,
    "start_time": "2021-08-16T20:31:53.456Z"
   },
   {
    "duration": 534,
    "start_time": "2021-08-16T20:32:42.721Z"
   },
   {
    "duration": 556,
    "start_time": "2021-08-16T20:34:27.998Z"
   },
   {
    "duration": 566,
    "start_time": "2021-08-16T20:35:01.312Z"
   },
   {
    "duration": 103,
    "start_time": "2021-08-16T20:39:17.121Z"
   },
   {
    "duration": 86,
    "start_time": "2021-08-16T20:39:27.381Z"
   },
   {
    "duration": 765,
    "start_time": "2021-08-16T20:39:35.512Z"
   },
   {
    "duration": 565,
    "start_time": "2021-08-16T20:39:45.789Z"
   },
   {
    "duration": 586,
    "start_time": "2021-08-16T20:41:06.232Z"
   },
   {
    "duration": 598,
    "start_time": "2021-08-16T20:41:48.788Z"
   },
   {
    "duration": 574,
    "start_time": "2021-08-16T20:42:12.679Z"
   },
   {
    "duration": 769,
    "start_time": "2021-08-16T20:42:36.035Z"
   },
   {
    "duration": 95,
    "start_time": "2021-08-16T20:42:47.410Z"
   },
   {
    "duration": 580,
    "start_time": "2021-08-16T20:42:50.684Z"
   },
   {
    "duration": 599,
    "start_time": "2021-08-16T20:43:06.328Z"
   },
   {
    "duration": 6461,
    "start_time": "2021-08-16T21:20:25.402Z"
   },
   {
    "duration": 5783,
    "start_time": "2021-08-16T21:20:42.935Z"
   },
   {
    "duration": 6377,
    "start_time": "2021-08-16T21:21:14.368Z"
   },
   {
    "duration": 636,
    "start_time": "2021-08-16T21:21:42.135Z"
   },
   {
    "duration": 323,
    "start_time": "2021-08-16T21:21:42.773Z"
   },
   {
    "duration": 47,
    "start_time": "2021-08-16T21:21:43.051Z"
   },
   {
    "duration": 45,
    "start_time": "2021-08-16T21:21:43.054Z"
   },
   {
    "duration": 42,
    "start_time": "2021-08-16T21:21:43.058Z"
   },
   {
    "duration": 41,
    "start_time": "2021-08-16T21:21:43.060Z"
   },
   {
    "duration": 40,
    "start_time": "2021-08-16T21:21:43.062Z"
   },
   {
    "duration": 39,
    "start_time": "2021-08-16T21:21:43.064Z"
   },
   {
    "duration": 37,
    "start_time": "2021-08-16T21:21:43.067Z"
   },
   {
    "duration": 37,
    "start_time": "2021-08-16T21:21:43.068Z"
   },
   {
    "duration": 36,
    "start_time": "2021-08-16T21:21:43.070Z"
   },
   {
    "duration": 35,
    "start_time": "2021-08-16T21:21:43.072Z"
   },
   {
    "duration": 249,
    "start_time": "2021-08-16T21:22:45.647Z"
   },
   {
    "duration": 636,
    "start_time": "2021-08-16T21:23:16.951Z"
   },
   {
    "duration": 580,
    "start_time": "2021-08-16T21:23:17.588Z"
   },
   {
    "duration": -351,
    "start_time": "2021-08-16T21:23:18.524Z"
   },
   {
    "duration": -353,
    "start_time": "2021-08-16T21:23:18.526Z"
   },
   {
    "duration": -354,
    "start_time": "2021-08-16T21:23:18.528Z"
   },
   {
    "duration": -357,
    "start_time": "2021-08-16T21:23:18.532Z"
   },
   {
    "duration": -359,
    "start_time": "2021-08-16T21:23:18.535Z"
   },
   {
    "duration": -360,
    "start_time": "2021-08-16T21:23:18.537Z"
   },
   {
    "duration": -361,
    "start_time": "2021-08-16T21:23:18.539Z"
   },
   {
    "duration": -363,
    "start_time": "2021-08-16T21:23:18.541Z"
   },
   {
    "duration": -364,
    "start_time": "2021-08-16T21:23:18.543Z"
   },
   {
    "duration": -365,
    "start_time": "2021-08-16T21:23:18.545Z"
   },
   {
    "duration": 6228,
    "start_time": "2021-08-16T21:23:55.748Z"
   },
   {
    "duration": 5979,
    "start_time": "2021-08-16T21:25:21.838Z"
   },
   {
    "duration": 5937,
    "start_time": "2021-08-16T21:25:36.826Z"
   },
   {
    "duration": 5786,
    "start_time": "2021-08-16T21:26:14.987Z"
   },
   {
    "duration": 91,
    "start_time": "2021-08-16T21:26:48.880Z"
   },
   {
    "duration": 37,
    "start_time": "2021-08-16T21:27:03.239Z"
   },
   {
    "duration": 256,
    "start_time": "2021-08-16T21:27:24.646Z"
   },
   {
    "duration": 35,
    "start_time": "2021-08-16T21:28:29.920Z"
   },
   {
    "duration": 35,
    "start_time": "2021-08-16T21:29:13.797Z"
   },
   {
    "duration": 302,
    "start_time": "2021-08-16T21:30:29.356Z"
   },
   {
    "duration": 647,
    "start_time": "2021-08-16T21:35:15.212Z"
   },
   {
    "duration": 636,
    "start_time": "2021-08-17T04:53:14.401Z"
   },
   {
    "duration": 698,
    "start_time": "2021-08-17T04:58:12.309Z"
   },
   {
    "duration": 19,
    "start_time": "2021-08-17T04:58:18.773Z"
   },
   {
    "duration": 24,
    "start_time": "2021-08-17T04:58:29.932Z"
   },
   {
    "duration": 98,
    "start_time": "2021-08-17T04:58:45.277Z"
   },
   {
    "duration": 27,
    "start_time": "2021-08-17T04:59:12.262Z"
   },
   {
    "duration": 34,
    "start_time": "2021-08-17T04:59:28.981Z"
   },
   {
    "duration": 35,
    "start_time": "2021-08-17T04:59:34.413Z"
   },
   {
    "duration": 34,
    "start_time": "2021-08-17T05:00:38.359Z"
   },
   {
    "duration": 38,
    "start_time": "2021-08-17T05:00:45.755Z"
   },
   {
    "duration": 651,
    "start_time": "2021-08-17T05:03:12.004Z"
   },
   {
    "duration": 614,
    "start_time": "2021-08-17T05:03:58.890Z"
   },
   {
    "duration": 648,
    "start_time": "2021-08-17T05:04:37.793Z"
   },
   {
    "duration": 649,
    "start_time": "2021-08-17T05:05:46.612Z"
   },
   {
    "duration": 644,
    "start_time": "2021-08-17T05:06:25.152Z"
   },
   {
    "duration": 656,
    "start_time": "2021-08-17T05:06:55.462Z"
   },
   {
    "duration": 640,
    "start_time": "2021-08-17T05:08:18.781Z"
   },
   {
    "duration": 783,
    "start_time": "2021-08-17T05:09:18.155Z"
   },
   {
    "duration": 700,
    "start_time": "2021-08-17T05:09:54.021Z"
   },
   {
    "duration": 553,
    "start_time": "2021-08-17T05:10:00.076Z"
   },
   {
    "duration": 861,
    "start_time": "2021-08-17T05:10:13.380Z"
   },
   {
    "duration": 553,
    "start_time": "2021-08-17T05:14:50.741Z"
   },
   {
    "duration": 311,
    "start_time": "2021-08-17T05:15:17.000Z"
   },
   {
    "duration": 527,
    "start_time": "2021-08-17T05:15:33.273Z"
   },
   {
    "duration": 534,
    "start_time": "2021-08-17T05:15:52.817Z"
   },
   {
    "duration": 549,
    "start_time": "2021-08-17T05:16:14.146Z"
   },
   {
    "duration": 96,
    "start_time": "2021-08-17T05:16:46.074Z"
   },
   {
    "duration": 841,
    "start_time": "2021-08-17T05:17:17.913Z"
   },
   {
    "duration": 548,
    "start_time": "2021-08-17T05:17:49.913Z"
   },
   {
    "duration": 874,
    "start_time": "2021-08-17T05:26:52.939Z"
   },
   {
    "duration": 560,
    "start_time": "2021-08-17T05:27:21.707Z"
   },
   {
    "duration": 791,
    "start_time": "2021-08-17T05:27:33.190Z"
   },
   {
    "duration": 104,
    "start_time": "2021-08-17T05:27:59.882Z"
   },
   {
    "duration": 542,
    "start_time": "2021-08-17T05:28:10.961Z"
   },
   {
    "duration": 560,
    "start_time": "2021-08-17T05:28:20.302Z"
   },
   {
    "duration": 542,
    "start_time": "2021-08-17T05:28:31.920Z"
   },
   {
    "duration": 618,
    "start_time": "2021-08-17T05:28:43.811Z"
   },
   {
    "duration": 567,
    "start_time": "2021-08-17T05:29:00.743Z"
   },
   {
    "duration": 797,
    "start_time": "2021-08-17T05:30:34.520Z"
   },
   {
    "duration": 788,
    "start_time": "2021-08-17T05:30:53.196Z"
   },
   {
    "duration": 920,
    "start_time": "2021-08-17T05:31:02.813Z"
   },
   {
    "duration": 792,
    "start_time": "2021-08-17T05:32:25.392Z"
   },
   {
    "duration": 546,
    "start_time": "2021-08-17T05:33:28.188Z"
   },
   {
    "duration": 540,
    "start_time": "2021-08-17T05:34:07.588Z"
   },
   {
    "duration": 790,
    "start_time": "2021-08-17T05:34:47.442Z"
   },
   {
    "duration": 679,
    "start_time": "2021-08-17T05:37:06.396Z"
   },
   {
    "duration": 593,
    "start_time": "2021-08-17T05:37:34.606Z"
   },
   {
    "duration": 589,
    "start_time": "2021-08-17T05:37:59.386Z"
   },
   {
    "duration": 1766,
    "start_time": "2021-08-17T05:39:33.061Z"
   },
   {
    "duration": 592,
    "start_time": "2021-08-17T05:40:15.699Z"
   },
   {
    "duration": 633,
    "start_time": "2021-08-17T05:40:32.339Z"
   },
   {
    "duration": 289,
    "start_time": "2021-08-17T05:42:35.023Z"
   },
   {
    "duration": 604,
    "start_time": "2021-08-17T05:42:43.737Z"
   },
   {
    "duration": 646,
    "start_time": "2021-08-17T05:43:20.625Z"
   },
   {
    "duration": 291,
    "start_time": "2021-08-17T05:43:37.296Z"
   },
   {
    "duration": 293,
    "start_time": "2021-08-17T05:43:49.245Z"
   },
   {
    "duration": 591,
    "start_time": "2021-08-17T05:43:54.911Z"
   },
   {
    "duration": 724,
    "start_time": "2021-08-17T05:44:23.337Z"
   },
   {
    "duration": 600,
    "start_time": "2021-08-17T19:45:12.751Z"
   },
   {
    "duration": 596,
    "start_time": "2021-08-17T19:45:28.619Z"
   },
   {
    "duration": 635,
    "start_time": "2021-08-17T19:46:55.927Z"
   },
   {
    "duration": 569,
    "start_time": "2021-08-17T19:47:53.928Z"
   },
   {
    "duration": 586,
    "start_time": "2021-08-17T20:02:49.328Z"
   },
   {
    "duration": 677,
    "start_time": "2021-08-17T20:05:14.072Z"
   },
   {
    "duration": 571,
    "start_time": "2021-08-17T20:23:52.402Z"
   },
   {
    "duration": 311,
    "start_time": "2021-08-17T20:28:36.733Z"
   },
   {
    "duration": 263,
    "start_time": "2021-08-17T20:29:13.625Z"
   },
   {
    "duration": 287,
    "start_time": "2021-08-17T20:30:02.990Z"
   },
   {
    "duration": 250,
    "start_time": "2021-08-17T20:31:24.098Z"
   },
   {
    "duration": 270,
    "start_time": "2021-08-17T20:31:30.558Z"
   },
   {
    "duration": 311,
    "start_time": "2021-08-17T20:32:34.870Z"
   },
   {
    "duration": 253,
    "start_time": "2021-08-17T20:33:19.129Z"
   },
   {
    "duration": 603,
    "start_time": "2021-08-17T20:33:54.113Z"
   },
   {
    "duration": 596,
    "start_time": "2021-08-17T20:37:07.272Z"
   },
   {
    "duration": 35,
    "start_time": "2021-08-17T20:38:03.061Z"
   },
   {
    "duration": 36,
    "start_time": "2021-08-17T20:38:20.610Z"
   },
   {
    "duration": 41,
    "start_time": "2021-08-17T20:38:28.553Z"
   },
   {
    "duration": 41,
    "start_time": "2021-08-17T20:39:47.565Z"
   },
   {
    "duration": 616,
    "start_time": "2021-08-17T20:40:50.114Z"
   },
   {
    "duration": 616,
    "start_time": "2021-08-17T20:42:12.295Z"
   },
   {
    "duration": 637,
    "start_time": "2021-08-17T20:42:32.400Z"
   },
   {
    "duration": 614,
    "start_time": "2021-08-17T20:46:19.602Z"
   },
   {
    "duration": 617,
    "start_time": "2021-08-17T20:46:55.409Z"
   },
   {
    "duration": 666,
    "start_time": "2021-08-17T20:47:41.374Z"
   },
   {
    "duration": 82,
    "start_time": "2021-08-17T20:53:33.371Z"
   },
   {
    "duration": 3062,
    "start_time": "2021-08-17T20:53:44.223Z"
   },
   {
    "duration": 82,
    "start_time": "2021-08-17T20:56:14.856Z"
   },
   {
    "duration": 3203,
    "start_time": "2021-08-17T20:56:26.252Z"
   },
   {
    "duration": 3135,
    "start_time": "2021-08-17T20:58:27.306Z"
   },
   {
    "duration": 3747,
    "start_time": "2021-08-17T21:02:05.167Z"
   },
   {
    "duration": 3303,
    "start_time": "2021-08-17T21:02:40.023Z"
   },
   {
    "duration": 3540,
    "start_time": "2021-08-17T21:03:02.809Z"
   },
   {
    "duration": 25,
    "start_time": "2021-08-17T21:03:33.310Z"
   },
   {
    "duration": 822,
    "start_time": "2021-08-17T21:04:03.225Z"
   },
   {
    "duration": 327,
    "start_time": "2021-08-17T21:04:07.743Z"
   },
   {
    "duration": 76,
    "start_time": "2021-08-17T21:07:44.643Z"
   },
   {
    "duration": 26,
    "start_time": "2021-08-17T21:08:01.240Z"
   },
   {
    "duration": 31,
    "start_time": "2021-08-17T21:08:13.749Z"
   },
   {
    "duration": 34,
    "start_time": "2021-08-17T21:08:28.027Z"
   },
   {
    "duration": 3875,
    "start_time": "2021-08-17T21:08:42.815Z"
   },
   {
    "duration": 3359,
    "start_time": "2021-08-17T21:10:58.289Z"
   },
   {
    "duration": 3034,
    "start_time": "2021-08-17T21:11:48.323Z"
   },
   {
    "duration": 3274,
    "start_time": "2021-08-17T21:12:19.005Z"
   },
   {
    "duration": 3219,
    "start_time": "2021-08-17T21:13:00.540Z"
   },
   {
    "duration": 3166,
    "start_time": "2021-08-17T21:14:21.024Z"
   },
   {
    "duration": 3012,
    "start_time": "2021-08-17T21:15:07.970Z"
   },
   {
    "duration": 3299,
    "start_time": "2021-08-17T21:15:58.482Z"
   },
   {
    "duration": 250,
    "start_time": "2021-08-17T21:17:04.219Z"
   },
   {
    "duration": 19502,
    "start_time": "2021-08-17T21:17:14.427Z"
   },
   {
    "duration": 642,
    "start_time": "2021-08-17T21:17:56.899Z"
   },
   {
    "duration": 568,
    "start_time": "2021-08-17T21:18:01.794Z"
   },
   {
    "duration": 513,
    "start_time": "2021-08-17T21:18:17.035Z"
   },
   {
    "duration": 519,
    "start_time": "2021-08-17T21:18:37.845Z"
   },
   {
    "duration": 527,
    "start_time": "2021-08-17T21:19:00.354Z"
   },
   {
    "duration": 283,
    "start_time": "2021-08-17T21:19:25.809Z"
   },
   {
    "duration": 647,
    "start_time": "2021-08-18T05:02:53.369Z"
   },
   {
    "duration": 288,
    "start_time": "2021-08-18T05:02:58.357Z"
   },
   {
    "duration": 671,
    "start_time": "2021-08-18T05:13:01.823Z"
   },
   {
    "duration": 1434,
    "start_time": "2021-08-18T05:13:34.676Z"
   },
   {
    "duration": -807,
    "start_time": "2021-08-18T05:15:00.608Z"
   },
   {
    "duration": 640,
    "start_time": "2021-08-18T05:16:34.867Z"
   },
   {
    "duration": 101,
    "start_time": "2021-08-18T05:16:47.267Z"
   },
   {
    "duration": 287,
    "start_time": "2021-08-18T05:16:59.612Z"
   },
   {
    "duration": 283,
    "start_time": "2021-08-18T05:18:59.459Z"
   },
   {
    "duration": 287,
    "start_time": "2021-08-18T05:19:33.380Z"
   },
   {
    "duration": 287,
    "start_time": "2021-08-18T05:19:46.266Z"
   },
   {
    "duration": 287,
    "start_time": "2021-08-18T05:20:02.716Z"
   },
   {
    "duration": 283,
    "start_time": "2021-08-18T05:20:13.675Z"
   },
   {
    "duration": 634,
    "start_time": "2021-08-18T05:20:56.079Z"
   },
   {
    "duration": 294,
    "start_time": "2021-08-18T05:21:02.591Z"
   },
   {
    "duration": 288,
    "start_time": "2021-08-18T05:21:54.618Z"
   },
   {
    "duration": -811,
    "start_time": "2021-08-18T05:23:35.605Z"
   },
   {
    "duration": -883,
    "start_time": "2021-08-18T05:24:30.079Z"
   },
   {
    "duration": 643,
    "start_time": "2021-08-18T05:24:40.348Z"
   },
   {
    "duration": -846,
    "start_time": "2021-08-18T05:25:36.228Z"
   },
   {
    "duration": -815,
    "start_time": "2021-08-18T05:26:25.752Z"
   },
   {
    "duration": 92,
    "start_time": "2021-08-18T05:26:47.485Z"
   },
   {
    "duration": 588,
    "start_time": "2021-08-18T05:27:02.750Z"
   },
   {
    "duration": 694,
    "start_time": "2021-08-18T05:28:17.935Z"
   },
   {
    "duration": 89,
    "start_time": "2021-08-18T05:28:21.367Z"
   },
   {
    "duration": -806,
    "start_time": "2021-08-18T05:31:40.868Z"
   },
   {
    "duration": 674,
    "start_time": "2021-08-18T05:31:53.116Z"
   },
   {
    "duration": 347665,
    "start_time": "2021-08-18T05:31:59.580Z"
   },
   {
    "duration": 59870,
    "start_time": "2021-08-18T05:38:08.711Z"
   },
   {
    "duration": 672,
    "start_time": "2021-08-18T05:39:59.022Z"
   },
   {
    "duration": 483,
    "start_time": "2021-08-18T05:40:03.718Z"
   },
   {
    "duration": 152876,
    "start_time": "2021-08-18T05:40:12.037Z"
   },
   {
    "duration": -784,
    "start_time": "2021-08-18T05:43:57.603Z"
   },
   {
    "duration": 911,
    "start_time": "2021-08-18T16:38:39.837Z"
   },
   {
    "duration": 444,
    "start_time": "2021-08-18T16:38:44.695Z"
   },
   {
    "duration": -222,
    "start_time": "2021-08-18T16:39:48.020Z"
   },
   {
    "duration": 90,
    "start_time": "2021-08-18T16:40:04.432Z"
   },
   {
    "duration": 87,
    "start_time": "2021-08-18T16:40:12.239Z"
   },
   {
    "duration": 260,
    "start_time": "2021-08-18T16:40:21.452Z"
   },
   {
    "duration": 89,
    "start_time": "2021-08-18T16:40:37.926Z"
   },
   {
    "duration": 6492,
    "start_time": "2021-08-18T16:41:03.219Z"
   },
   {
    "duration": -153,
    "start_time": "2021-08-18T16:43:45.733Z"
   },
   {
    "duration": -148,
    "start_time": "2021-08-18T16:45:20.345Z"
   },
   {
    "duration": 285,
    "start_time": "2021-08-18T16:45:23.411Z"
   },
   {
    "duration": 85,
    "start_time": "2021-08-18T16:45:41.082Z"
   },
   {
    "duration": 84,
    "start_time": "2021-08-18T16:45:50.257Z"
   },
   {
    "duration": 911,
    "start_time": "2021-08-18T16:53:44.263Z"
   },
   {
    "duration": 463,
    "start_time": "2021-08-18T16:53:45.177Z"
   },
   {
    "duration": 813,
    "start_time": "2021-08-18T16:54:08.112Z"
   },
   {
    "duration": 440,
    "start_time": "2021-08-18T16:54:12.764Z"
   },
   {
    "duration": 89,
    "start_time": "2021-08-18T16:55:45.015Z"
   },
   {
    "duration": 6498,
    "start_time": "2021-08-18T16:55:50.261Z"
   },
   {
    "duration": -598,
    "start_time": "2021-08-18T17:00:48.114Z"
   },
   {
    "duration": 325,
    "start_time": "2021-08-18T17:01:48.796Z"
   },
   {
    "duration": 832,
    "start_time": "2021-08-18T17:01:56.664Z"
   },
   {
    "duration": 490,
    "start_time": "2021-08-18T17:02:01.294Z"
   },
   {
    "duration": 28693,
    "start_time": "2021-08-18T17:02:05.268Z"
   },
   {
    "duration": 91,
    "start_time": "2021-08-18T17:03:17.076Z"
   },
   {
    "duration": 574,
    "start_time": "2021-08-18T17:03:38.124Z"
   },
   {
    "duration": 514,
    "start_time": "2021-08-18T17:03:52.447Z"
   },
   {
    "duration": 266,
    "start_time": "2021-08-18T17:04:54.328Z"
   },
   {
    "duration": 100,
    "start_time": "2021-08-18T17:05:34.511Z"
   },
   {
    "duration": 443,
    "start_time": "2021-08-18T17:05:54.537Z"
   },
   {
    "duration": 481,
    "start_time": "2021-08-18T17:06:41.624Z"
   },
   {
    "duration": 605,
    "start_time": "2021-08-18T17:35:12.712Z"
   },
   {
    "duration": 419,
    "start_time": "2021-08-18T17:36:03.494Z"
   },
   {
    "duration": 482,
    "start_time": "2021-08-18T17:37:04.309Z"
   },
   {
    "duration": 94,
    "start_time": "2021-08-18T17:38:17.478Z"
   },
   {
    "duration": 288,
    "start_time": "2021-08-18T17:38:28.551Z"
   },
   {
    "duration": 21,
    "start_time": "2021-08-18T17:39:19.185Z"
   },
   {
    "duration": 5,
    "start_time": "2021-08-18T17:40:37.591Z"
   },
   {
    "duration": 12,
    "start_time": "2021-08-18T17:41:25.915Z"
   },
   {
    "duration": 6432,
    "start_time": "2021-08-18T17:41:55.085Z"
   },
   {
    "duration": 262,
    "start_time": "2021-08-18T17:42:03.321Z"
   },
   {
    "duration": -597,
    "start_time": "2021-08-18T17:42:59.989Z"
   },
   {
    "duration": 108,
    "start_time": "2021-08-18T17:43:05.504Z"
   },
   {
    "duration": 16,
    "start_time": "2021-08-18T17:43:37.013Z"
   },
   {
    "duration": 20,
    "start_time": "2021-08-18T17:44:26.408Z"
   },
   {
    "duration": 18,
    "start_time": "2021-08-18T17:44:36.043Z"
   },
   {
    "duration": 487,
    "start_time": "2021-08-18T17:47:16.230Z"
   },
   {
    "duration": 492,
    "start_time": "2021-08-18T17:47:22.352Z"
   },
   {
    "duration": 1602,
    "start_time": "2021-08-18T17:48:09.663Z"
   },
   {
    "duration": 87,
    "start_time": "2021-08-18T17:48:46.226Z"
   },
   {
    "duration": 1620,
    "start_time": "2021-08-18T17:48:57.205Z"
   },
   {
    "duration": 657,
    "start_time": "2021-08-18T17:49:37.239Z"
   },
   {
    "duration": 455,
    "start_time": "2021-08-18T17:49:55.139Z"
   },
   {
    "duration": 2142,
    "start_time": "2021-08-18T17:50:21.748Z"
   },
   {
    "duration": 7713,
    "start_time": "2021-08-18T17:55:51.007Z"
   },
   {
    "duration": 1588,
    "start_time": "2021-08-18T17:57:01.254Z"
   },
   {
    "duration": 433,
    "start_time": "2021-08-18T17:58:32.033Z"
   },
   {
    "duration": 737,
    "start_time": "2021-08-18T17:59:51.339Z"
   },
   {
    "duration": 860,
    "start_time": "2021-08-18T18:01:43.427Z"
   },
   {
    "duration": 886,
    "start_time": "2021-08-18T18:01:50.175Z"
   },
   {
    "duration": 497,
    "start_time": "2021-08-18T18:02:04.930Z"
   },
   {
    "duration": 769,
    "start_time": "2021-08-18T18:03:39.909Z"
   },
   {
    "duration": 1557,
    "start_time": "2021-08-18T18:03:49.520Z"
   },
   {
    "duration": 1549,
    "start_time": "2021-08-18T18:05:13.614Z"
   },
   {
    "duration": 95,
    "start_time": "2021-08-18T18:20:25.725Z"
   },
   {
    "duration": 95,
    "start_time": "2021-08-18T18:24:48.578Z"
   },
   {
    "duration": 4065,
    "start_time": "2021-08-18T18:28:06.463Z"
   },
   {
    "duration": 93,
    "start_time": "2021-08-18T18:28:47.417Z"
   },
   {
    "duration": 4834,
    "start_time": "2021-08-18T18:29:09.334Z"
   },
   {
    "duration": 938,
    "start_time": "2021-08-18T18:30:36.182Z"
   },
   {
    "duration": 83,
    "start_time": "2021-08-18T18:31:36.260Z"
   },
   {
    "duration": 849,
    "start_time": "2021-08-18T18:46:26.542Z"
   },
   {
    "duration": 475,
    "start_time": "2021-08-18T18:46:27.394Z"
   },
   {
    "duration": 1547,
    "start_time": "2021-08-18T18:46:27.872Z"
   },
   {
    "duration": 37,
    "start_time": "2021-08-18T18:46:29.422Z"
   },
   {
    "duration": 74,
    "start_time": "2021-08-18T18:46:29.462Z"
   },
   {
    "duration": 4439,
    "start_time": "2021-08-18T18:46:29.554Z"
   },
   {
    "duration": 32,
    "start_time": "2021-08-18T18:46:33.995Z"
   },
   {
    "duration": 71,
    "start_time": "2021-08-18T18:46:34.031Z"
   },
   {
    "duration": 8725,
    "start_time": "2021-08-18T18:46:34.105Z"
   },
   {
    "duration": 39,
    "start_time": "2021-08-18T18:46:42.832Z"
   },
   {
    "duration": 19,
    "start_time": "2021-08-18T18:46:42.874Z"
   },
   {
    "duration": 65,
    "start_time": "2021-08-18T18:46:42.895Z"
   },
   {
    "duration": 50,
    "start_time": "2021-08-18T18:46:42.962Z"
   },
   {
    "duration": 66,
    "start_time": "2021-08-18T18:46:43.015Z"
   },
   {
    "duration": 9,
    "start_time": "2021-08-18T18:49:54.056Z"
   },
   {
    "duration": 8,
    "start_time": "2021-08-18T18:50:10.635Z"
   },
   {
    "duration": 840,
    "start_time": "2021-08-18T18:50:58.963Z"
   },
   {
    "duration": 453,
    "start_time": "2021-08-18T18:51:11.116Z"
   },
   {
    "duration": 1562,
    "start_time": "2021-08-18T18:51:18.755Z"
   },
   {
    "duration": 19,
    "start_time": "2021-08-18T18:51:26.424Z"
   },
   {
    "duration": 72,
    "start_time": "2021-08-18T18:51:31.687Z"
   },
   {
    "duration": 4664,
    "start_time": "2021-08-18T18:51:39.490Z"
   },
   {
    "duration": 6907,
    "start_time": "2021-08-18T18:51:48.099Z"
   },
   {
    "duration": 14,
    "start_time": "2021-08-18T18:58:40.662Z"
   },
   {
    "duration": 4743,
    "start_time": "2021-08-18T19:06:56.737Z"
   },
   {
    "duration": 30,
    "start_time": "2021-08-18T19:07:01.484Z"
   },
   {
    "duration": 1148,
    "start_time": "2021-08-18T19:09:40.859Z"
   },
   {
    "duration": 495,
    "start_time": "2021-08-18T19:09:45.860Z"
   },
   {
    "duration": 1761,
    "start_time": "2021-08-18T19:09:51.146Z"
   },
   {
    "duration": 19,
    "start_time": "2021-08-18T19:09:57.894Z"
   },
   {
    "duration": 80,
    "start_time": "2021-08-18T19:10:03.643Z"
   },
   {
    "duration": 4916,
    "start_time": "2021-08-18T19:10:11.261Z"
   },
   {
    "duration": 32,
    "start_time": "2021-08-18T19:10:16.180Z"
   },
   {
    "duration": 5177,
    "start_time": "2021-08-18T19:10:37.550Z"
   },
   {
    "duration": 27,
    "start_time": "2021-08-18T19:10:52.197Z"
   },
   {
    "duration": 5702,
    "start_time": "2021-08-18T19:11:13.535Z"
   },
   {
    "duration": 36,
    "start_time": "2021-08-18T19:11:19.240Z"
   },
   {
    "duration": 373,
    "start_time": "2021-08-18T20:26:48.271Z"
   },
   {
    "duration": 311,
    "start_time": "2021-08-18T20:27:34.337Z"
   },
   {
    "duration": 14,
    "start_time": "2021-08-18T20:29:45.653Z"
   },
   {
    "duration": 20,
    "start_time": "2021-08-18T20:29:54.021Z"
   },
   {
    "duration": 372,
    "start_time": "2021-08-18T20:30:50.434Z"
   },
   {
    "duration": 20,
    "start_time": "2021-08-18T20:31:00.159Z"
   },
   {
    "duration": 17,
    "start_time": "2021-08-18T20:31:39.946Z"
   },
   {
    "duration": 16,
    "start_time": "2021-08-18T20:36:33.730Z"
   },
   {
    "duration": 83,
    "start_time": "2021-08-18T20:36:55.448Z"
   },
   {
    "duration": 83,
    "start_time": "2021-08-18T20:37:31.541Z"
   },
   {
    "duration": 85,
    "start_time": "2021-08-18T20:37:56.944Z"
   },
   {
    "duration": 256,
    "start_time": "2021-08-19T04:57:12.287Z"
   },
   {
    "duration": 647,
    "start_time": "2021-08-19T04:57:29.155Z"
   },
   {
    "duration": 282,
    "start_time": "2021-08-19T04:57:33.469Z"
   },
   {
    "duration": 889,
    "start_time": "2021-08-19T04:57:38.112Z"
   },
   {
    "duration": 14,
    "start_time": "2021-08-19T04:57:44.209Z"
   },
   {
    "duration": 50,
    "start_time": "2021-08-19T04:57:46.997Z"
   },
   {
    "duration": 3249,
    "start_time": "2021-08-19T04:57:53.207Z"
   },
   {
    "duration": 22,
    "start_time": "2021-08-19T04:57:57.880Z"
   },
   {
    "duration": 36,
    "start_time": "2021-08-19T04:58:07.940Z"
   },
   {
    "duration": 2409,
    "start_time": "2021-08-19T04:58:12.796Z"
   },
   {
    "duration": 29,
    "start_time": "2021-08-19T04:58:22.666Z"
   },
   {
    "duration": 13,
    "start_time": "2021-08-19T04:58:49.999Z"
   },
   {
    "duration": 28,
    "start_time": "2021-08-19T04:59:23.917Z"
   },
   {
    "duration": 49,
    "start_time": "2021-08-19T04:59:35.293Z"
   },
   {
    "duration": 90,
    "start_time": "2021-08-19T05:00:03.342Z"
   },
   {
    "duration": 83,
    "start_time": "2021-08-19T05:01:51.113Z"
   },
   {
    "duration": 409,
    "start_time": "2021-08-19T05:02:02.958Z"
   },
   {
    "duration": 32,
    "start_time": "2021-08-19T05:15:31.119Z"
   },
   {
    "duration": 86,
    "start_time": "2021-08-19T05:31:30.618Z"
   },
   {
    "duration": 89,
    "start_time": "2021-08-19T05:35:58.173Z"
   },
   {
    "duration": 877,
    "start_time": "2021-08-19T16:40:43.637Z"
   },
   {
    "duration": 467,
    "start_time": "2021-08-19T16:40:44.517Z"
   },
   {
    "duration": 1544,
    "start_time": "2021-08-19T16:40:44.987Z"
   },
   {
    "duration": 32,
    "start_time": "2021-08-19T16:40:46.534Z"
   },
   {
    "duration": 71,
    "start_time": "2021-08-19T16:40:46.568Z"
   },
   {
    "duration": 4539,
    "start_time": "2021-08-19T16:40:46.642Z"
   },
   {
    "duration": 48,
    "start_time": "2021-08-19T16:40:51.184Z"
   },
   {
    "duration": 77,
    "start_time": "2021-08-19T16:40:51.236Z"
   },
   {
    "duration": 4813,
    "start_time": "2021-08-19T16:40:51.316Z"
   },
   {
    "duration": 40,
    "start_time": "2021-08-19T16:40:56.132Z"
   },
   {
    "duration": 19,
    "start_time": "2021-08-19T16:40:56.175Z"
   },
   {
    "duration": 70,
    "start_time": "2021-08-19T16:40:56.197Z"
   },
   {
    "duration": 823,
    "start_time": "2021-08-19T16:40:56.269Z"
   },
   {
    "duration": 42,
    "start_time": "2021-08-19T16:40:57.095Z"
   },
   {
    "duration": 642,
    "start_time": "2021-08-20T07:01:38.348Z"
   },
   {
    "duration": 300,
    "start_time": "2021-08-20T07:01:38.991Z"
   },
   {
    "duration": 938,
    "start_time": "2021-08-20T07:01:39.293Z"
   },
   {
    "duration": 25,
    "start_time": "2021-08-20T07:02:09.332Z"
   },
   {
    "duration": 28,
    "start_time": "2021-08-20T07:02:19.351Z"
   },
   {
    "duration": 327,
    "start_time": "2021-08-20T07:02:28.711Z"
   },
   {
    "duration": 6438,
    "start_time": "2021-08-20T07:02:33.350Z"
   },
   {
    "duration": 20,
    "start_time": "2021-08-20T07:02:44.026Z"
   },
   {
    "duration": 4,
    "start_time": "2021-08-20T07:02:57.511Z"
   },
   {
    "duration": 3,
    "start_time": "2021-08-20T07:03:06.802Z"
   },
   {
    "duration": 8996,
    "start_time": "2021-08-20T07:03:16.103Z"
   },
   {
    "duration": 3676,
    "start_time": "2021-08-20T07:03:56.793Z"
   },
   {
    "duration": 7,
    "start_time": "2021-08-20T07:09:18.712Z"
   },
   {
    "duration": 29,
    "start_time": "2021-08-20T07:09:38.143Z"
   },
   {
    "duration": 10,
    "start_time": "2021-08-20T07:15:56.824Z"
   },
   {
    "duration": 406,
    "start_time": "2023-01-23T19:44:09.332Z"
   },
   {
    "duration": 103,
    "start_time": "2023-01-23T19:44:09.830Z"
   },
   {
    "duration": 277,
    "start_time": "2023-01-23T19:44:14.276Z"
   },
   {
    "duration": 734,
    "start_time": "2023-01-23T19:44:14.736Z"
   },
   {
    "duration": 17,
    "start_time": "2023-01-23T19:44:18.807Z"
   },
   {
    "duration": 48,
    "start_time": "2023-01-23T19:44:20.338Z"
   },
   {
    "duration": 3805,
    "start_time": "2023-01-23T19:44:22.706Z"
   },
   {
    "duration": 13,
    "start_time": "2023-01-23T19:44:28.834Z"
   },
   {
    "duration": 467,
    "start_time": "2023-01-27T10:53:47.356Z"
   },
   {
    "duration": 436,
    "start_time": "2023-01-27T10:53:47.826Z"
   },
   {
    "duration": 389,
    "start_time": "2023-01-27T10:53:48.265Z"
   },
   {
    "duration": 1120,
    "start_time": "2023-01-27T10:53:48.656Z"
   },
   {
    "duration": 20,
    "start_time": "2023-01-27T10:53:49.780Z"
   },
   {
    "duration": 86,
    "start_time": "2023-01-27T10:53:49.802Z"
   },
   {
    "duration": 4489,
    "start_time": "2023-01-27T10:53:49.890Z"
   },
   {
    "duration": 15,
    "start_time": "2023-01-27T10:53:54.381Z"
   },
   {
    "duration": 62,
    "start_time": "2023-01-27T10:53:54.398Z"
   },
   {
    "duration": 27,
    "start_time": "2023-01-27T10:53:54.462Z"
   },
   {
    "duration": 27,
    "start_time": "2023-01-27T10:53:54.491Z"
   },
   {
    "duration": 651,
    "start_time": "2023-01-27T10:53:54.539Z"
   },
   {
    "duration": 29,
    "start_time": "2023-01-27T10:53:55.192Z"
   }
  ],
  "kernelspec": {
   "display_name": "Python 3 (ipykernel)",
   "language": "python",
   "name": "python3"
  },
  "language_info": {
   "codemirror_mode": {
    "name": "ipython",
    "version": 3
   },
   "file_extension": ".py",
   "mimetype": "text/x-python",
   "name": "python",
   "nbconvert_exporter": "python",
   "pygments_lexer": "ipython3",
   "version": "3.10.4"
  },
  "toc": {
   "base_numbering": 1,
   "nav_menu": {},
   "number_sections": true,
   "sideBar": true,
   "skip_h1_title": true,
   "title_cell": "Table of Contents",
   "title_sidebar": "Contents",
   "toc_cell": false,
   "toc_position": {
    "height": "calc(100% - 180px)",
    "left": "10px",
    "top": "150px",
    "width": "288px"
   },
   "toc_section_display": true,
   "toc_window_display": true
  }
 },
 "nbformat": 4,
 "nbformat_minor": 2
}
