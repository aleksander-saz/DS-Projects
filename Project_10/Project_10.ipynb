{
 "cells": [
  {
   "cell_type": "markdown",
   "id": "GEqQaHzsZ_bA",
   "metadata": {
    "id": "GEqQaHzsZ_bA"
   },
   "source": [
    "# Forecast of real estate price"
   ]
  },
  {
   "cell_type": "markdown",
   "id": "6a2c5050",
   "metadata": {},
   "source": [
    "# Content\n",
    "1. [Project Description](#step_0)\n",
    "2. [Data Preparation](#step_1)\n",
    "3. [Models training](#step_2)\n",
    "4. [Analyzis of the results and model testing](#step_3)"
   ]
  },
  {
   "cell_type": "markdown",
   "id": "c548c38b",
   "metadata": {},
   "source": [
    "<a name=\"step_0\"></a>\n",
    "# Project Description"
   ]
  },
  {
   "attachments": {},
   "cell_type": "markdown",
   "id": "da3c9ba9",
   "metadata": {},
   "source": [
    "Based on the provided data from real estate agency it's required using spark session to conduct an analysis, encode the data and train a regression models for the prediction of the median cost of real estate price. First model has to include only numeric features, second - numeric and categorical features.\n",
    "\n",
    "Main tasks of the project are following^\n",
    "- Import and prepare the data;\n",
    "- Train the models and compare using RMSE, MAE and R2 scores;\n",
    "- Test the best model."
   ]
  },
  {
   "cell_type": "markdown",
   "id": "53871372",
   "metadata": {
    "id": "53871372"
   },
   "source": [
    "<a name=\"step_1\"></a>\n",
    "# Data preparation"
   ]
  },
  {
   "cell_type": "code",
   "execution_count": 1,
   "id": "df92e3ec",
   "metadata": {
    "id": "df92e3ec"
   },
   "outputs": [],
   "source": [
    "import pandas as pd \n",
    "import numpy as np\n",
    "\n",
    "import pyspark\n",
    "from pyspark.sql import SparkSession\n",
    "from pyspark.sql.types import *\n",
    "import pyspark.sql.functions as F\n",
    "from pyspark.ml.feature import StringIndexer, VectorAssembler, StandardScaler\n",
    "from pyspark.ml.regression import LinearRegression\n",
    "from pyspark.ml.evaluation import RegressionEvaluator\n",
    "import sklearn.metrics\n",
    "from sklearn.metrics import mean_absolute_error\n",
    "import warnings\n",
    "\n",
    "warnings.filterwarnings('ignore')\n",
    "warnings.simplefilter(action='ignore', category=all)\n",
    "\n",
    "pyspark_version = pyspark.__version__\n",
    "if int(pyspark_version[:1]) == 3:\n",
    "    from pyspark.ml.feature import OneHotEncoder    \n",
    "elif int(pyspark_version[:1]) == 2:\n",
    "    from pyspark.ml.feature import OneHotEncodeEstimator\n",
    "        \n",
    "RANDOM_SEED = 2022\n",
    "\n",
    "spark = SparkSession.builder \\\n",
    "                    .master(\"local\") \\\n",
    "                    .appName(\"California - linear regression\") \\\n",
    "                    .getOrCreate()\n"
   ]
  },
  {
   "cell_type": "code",
   "execution_count": 2,
   "id": "359d1b49",
   "metadata": {
    "scrolled": true
   },
   "outputs": [],
   "source": [
    "# data import\n",
    "df_california = spark.read.option('header','true').csv('housing.csv',inferSchema=True)"
   ]
  },
  {
   "cell_type": "code",
   "execution_count": 3,
   "id": "db35e3af",
   "metadata": {},
   "outputs": [
    {
     "name": "stdout",
     "output_type": "stream",
     "text": [
      "+---+---------+--------+------------------+-----------+--------------+----------+----------+-------------+------------------+---------------+\n",
      "|_c0|longitude|latitude|housing_median_age|total_rooms|total_bedrooms|population|households|median_income|median_house_value|ocean_proximity|\n",
      "+---+---------+--------+------------------+-----------+--------------+----------+----------+-------------+------------------+---------------+\n",
      "|  0|  -122.23|   37.88|              41.0|      880.0|         129.0|     322.0|     126.0|       8.3252|          452600.0|       NEAR BAY|\n",
      "|  1|  -122.22|   37.86|              21.0|     7099.0|        1106.0|    2401.0|    1138.0|       8.3014|          358500.0|       NEAR BAY|\n",
      "|  2|  -122.24|   37.85|              52.0|     1467.0|         190.0|     496.0|     177.0|       7.2574|          352100.0|       NEAR BAY|\n",
      "|  3|  -122.25|   37.85|              52.0|     1274.0|         235.0|     558.0|     219.0|       5.6431|          341300.0|       NEAR BAY|\n",
      "|  4|  -122.25|   37.85|              52.0|     1627.0|         280.0|     565.0|     259.0|       3.8462|          342200.0|       NEAR BAY|\n",
      "|  5|  -122.25|   37.85|              52.0|      919.0|         213.0|     413.0|     193.0|       4.0368|          269700.0|       NEAR BAY|\n",
      "|  6|  -122.25|   37.84|              52.0|     2535.0|         489.0|    1094.0|     514.0|       3.6591|          299200.0|       NEAR BAY|\n",
      "|  7|  -122.25|   37.84|              52.0|     3104.0|         687.0|    1157.0|     647.0|         3.12|          241400.0|       NEAR BAY|\n",
      "|  8|  -122.26|   37.84|              42.0|     2555.0|         665.0|    1206.0|     595.0|       2.0804|          226700.0|       NEAR BAY|\n",
      "|  9|  -122.25|   37.84|              52.0|     3549.0|         707.0|    1551.0|     714.0|       3.6912|          261100.0|       NEAR BAY|\n",
      "+---+---------+--------+------------------+-----------+--------------+----------+----------+-------------+------------------+---------------+\n",
      "only showing top 10 rows\n",
      "\n"
     ]
    }
   ],
   "source": [
    "#  display of first 10 rows\n",
    "df_california.show(10)"
   ]
  },
  {
   "cell_type": "code",
   "execution_count": 4,
   "id": "61c7bf40",
   "metadata": {},
   "outputs": [
    {
     "name": "stdout",
     "output_type": "stream",
     "text": [
      "               column    type\n",
      "0                 _c0     int\n",
      "1           longitude  double\n",
      "2            latitude  double\n",
      "3  housing_median_age  double\n",
      "4         total_rooms  double\n",
      "5      total_bedrooms  double\n",
      "6          population  double\n",
      "7          households  double\n",
      "8       median_income  double\n",
      "9  median_house_value  double\n"
     ]
    }
   ],
   "source": [
    "# display datatype on each column of dataset\n",
    "print(pd.DataFrame(df_california.dtypes, columns=['column', 'type']).head(10))"
   ]
  },
  {
   "cell_type": "code",
   "execution_count": 5,
   "id": "f658be32",
   "metadata": {},
   "outputs": [
    {
     "name": "stdout",
     "output_type": "stream",
     "text": [
      "+-------+-----------------+-------------------+-----------------+------------------+------------------+------------------+------------------+-----------------+------------------+------------------+---------------+\n",
      "|summary|              _c0|          longitude|         latitude|housing_median_age|       total_rooms|    total_bedrooms|        population|       households|     median_income|median_house_value|ocean_proximity|\n",
      "+-------+-----------------+-------------------+-----------------+------------------+------------------+------------------+------------------+-----------------+------------------+------------------+---------------+\n",
      "|  count|            20640|              20640|            20640|             20640|             20640|             20433|             20640|            20640|             20640|             20640|          20640|\n",
      "|   mean|          10319.5|-119.56970445736148| 35.6318614341087|28.639486434108527|2635.7630813953488| 537.8705525375618|1425.4767441860465|499.5396802325581|3.8706710029070246|206855.81690891474|           null|\n",
      "| stddev|5958.399113856003|  2.003531723502584|2.135952397457101| 12.58555761211163|2181.6152515827944|421.38507007403115|  1132.46212176534|382.3297528316098| 1.899821717945263|115395.61587441359|           null|\n",
      "|    min|                0|            -124.35|            32.54|               1.0|               2.0|               1.0|               3.0|              1.0|            0.4999|           14999.0|      <1H OCEAN|\n",
      "|    max|            20639|            -114.31|            41.95|              52.0|           39320.0|            6445.0|           35682.0|           6082.0|           15.0001|          500001.0|     NEAR OCEAN|\n",
      "+-------+-----------------+-------------------+-----------------+------------------+------------------+------------------+------------------+-----------------+------------------+------------------+---------------+\n",
      "\n"
     ]
    }
   ],
   "source": [
    "# display the main indecies by each column\n",
    "\n",
    "df_california.describe().show()"
   ]
  },
  {
   "cell_type": "code",
   "execution_count": 6,
   "id": "e6bd5d13",
   "metadata": {},
   "outputs": [
    {
     "name": "stdout",
     "output_type": "stream",
     "text": [
      "_c0 0\n",
      "longitude 0\n",
      "latitude 0\n",
      "housing_median_age 0\n",
      "total_rooms 0\n",
      "total_bedrooms 207\n",
      "population 0\n",
      "households 0\n",
      "median_income 0\n",
      "median_house_value 0\n",
      "ocean_proximity 0\n"
     ]
    }
   ],
   "source": [
    "# nulls calculation\n",
    "\n",
    "columns = df_california.columns\n",
    "\n",
    "for column in columns:\n",
    "      print(column, df_california.filter((F.col(column)).isNull()).count())"
   ]
  },
  {
   "cell_type": "markdown",
   "id": "6a8cca2e",
   "metadata": {},
   "source": [
    "**Data overview**\n",
    "\n",
    "1) dataset has 20640 rows and 11 columns:\n",
    "- c0;\n",
    "- longitude;\n",
    "- latitude;\n",
    "- housing_median_age;\n",
    "- total_rooms;    \n",
    "- total_bedrooms;        \n",
    "- population;   \n",
    "- households;     \n",
    "- median_income;\n",
    "- median_house_value;\n",
    "- ocean_proximity;\n",
    "\n",
    "2) only total_bedrooms column has nulls (207 pcs) - to be filled with mean value;"
   ]
  },
  {
   "cell_type": "code",
   "execution_count": 7,
   "id": "bd51ea9c",
   "metadata": {},
   "outputs": [
    {
     "data": {
      "text/plain": [
       "537.8705525375618"
      ]
     },
     "execution_count": 7,
     "metadata": {},
     "output_type": "execute_result"
    }
   ],
   "source": [
    "# fill up nulls with mean value\n",
    "\n",
    "df_mean = df_california.select(F.mean(F.col('total_bedrooms')).alias('avg')).collect()\n",
    "avg = df_mean[0]['avg']\n",
    "avg"
   ]
  },
  {
   "cell_type": "code",
   "execution_count": 8,
   "id": "5bd5366d",
   "metadata": {},
   "outputs": [],
   "source": [
    "df_california = df_california.na.fill(avg,[\"total_bedrooms\"])"
   ]
  },
  {
   "cell_type": "code",
   "execution_count": 9,
   "id": "052ed9a8",
   "metadata": {},
   "outputs": [
    {
     "name": "stdout",
     "output_type": "stream",
     "text": [
      "_c0 0\n",
      "longitude 0\n",
      "latitude 0\n",
      "housing_median_age 0\n",
      "total_rooms 0\n",
      "total_bedrooms 0\n",
      "population 0\n",
      "households 0\n",
      "median_income 0\n",
      "median_house_value 0\n",
      "ocean_proximity 0\n"
     ]
    }
   ],
   "source": [
    "# result check\n",
    "\n",
    "for column in columns:\n",
    "      print(column, df_california.filter((F.col(column)).isNull()).count())"
   ]
  },
  {
   "cell_type": "markdown",
   "id": "e1dbbdee",
   "metadata": {},
   "source": [
    "nulls are successfully filled"
   ]
  },
  {
   "cell_type": "markdown",
   "id": "f62f0ca9",
   "metadata": {},
   "source": [
    "**data encoding**"
   ]
  },
  {
   "cell_type": "code",
   "execution_count": 10,
   "id": "84c369b3",
   "metadata": {},
   "outputs": [],
   "source": [
    "# definition of target, categorical and numeric features\n",
    "\n",
    "categorical_cols = ['ocean_proximity']\n",
    "numerical_cols = ['longitude', 'latitude', 'housing_median_age','total_rooms','total_bedrooms','population',\n",
    "                  'households', 'median_income']\n",
    "target = \"median_house_value\""
   ]
  },
  {
   "cell_type": "code",
   "execution_count": 11,
   "id": "d2a876df",
   "metadata": {},
   "outputs": [
    {
     "name": "stdout",
     "output_type": "stream",
     "text": [
      "+---------------+-------------------+\n",
      "|ocean_proximity|ocean_proximity_idx|\n",
      "+---------------+-------------------+\n",
      "|       NEAR BAY|                3.0|\n",
      "|       NEAR BAY|                3.0|\n",
      "|       NEAR BAY|                3.0|\n",
      "+---------------+-------------------+\n",
      "only showing top 3 rows\n",
      "\n"
     ]
    }
   ],
   "source": [
    "# indexing of categorical features\n",
    "\n",
    "indexer = StringIndexer(inputCols=categorical_cols, \n",
    "                        outputCols=[c+'_idx' for c in categorical_cols]) \n",
    "df_california = indexer.fit(df_california).transform(df_california)\n",
    "\n",
    "cols = [c for c in df_california.columns for i in categorical_cols if (c.startswith(i))]\n",
    "df_california.select(cols).show(3)"
   ]
  },
  {
   "cell_type": "code",
   "execution_count": 12,
   "id": "8d89bca6",
   "metadata": {},
   "outputs": [
    {
     "name": "stdout",
     "output_type": "stream",
     "text": [
      "+---------------+-------------------+-------------------+\n",
      "|ocean_proximity|ocean_proximity_idx|ocean_proximity_ohe|\n",
      "+---------------+-------------------+-------------------+\n",
      "|       NEAR BAY|                3.0|      (4,[3],[1.0])|\n",
      "|       NEAR BAY|                3.0|      (4,[3],[1.0])|\n",
      "|       NEAR BAY|                3.0|      (4,[3],[1.0])|\n",
      "+---------------+-------------------+-------------------+\n",
      "only showing top 3 rows\n",
      "\n"
     ]
    }
   ],
   "source": [
    "# features encoding (OHE)\n",
    "\n",
    "encoder = OneHotEncoder(inputCols=[c+'_idx' for c in categorical_cols],\n",
    "                        outputCols=[c+'_ohe' for c in categorical_cols])\n",
    "df_california = encoder.fit(df_california).transform(df_california)\n",
    "\n",
    "cols = [c for c in df_california.columns for i in categorical_cols if (c.startswith(i))]\n",
    "df_california.select(cols).show(3) "
   ]
  },
  {
   "cell_type": "code",
   "execution_count": 13,
   "id": "052c8609",
   "metadata": {},
   "outputs": [],
   "source": [
    "# assembling of categorical features to vector\n",
    "\n",
    "categorical_assembler = \\\n",
    "        VectorAssembler(inputCols=[c+'_ohe' for c in categorical_cols],\n",
    "                                        outputCol=\"categorical_features\")\n",
    "\n",
    "df_california = categorical_assembler.transform(df_california) "
   ]
  },
  {
   "cell_type": "code",
   "execution_count": 14,
   "id": "2ed1a365",
   "metadata": {},
   "outputs": [],
   "source": [
    "# numeric features assembling\n",
    "\n",
    "numerical_assembler = VectorAssembler(inputCols=numerical_cols, outputCol=\"numerical_features\")\n",
    "df_california = numerical_assembler.transform(df_california) "
   ]
  },
  {
   "cell_type": "code",
   "execution_count": 15,
   "id": "949b9f3c",
   "metadata": {},
   "outputs": [],
   "source": [
    "# assembling of numeric features to vector\n",
    "\n",
    "standardScaler = StandardScaler(inputCol='numerical_features',outputCol=\"numerical_features_scaled\")\n",
    "\n",
    "df_california = standardScaler.fit(df_california).transform(df_california) "
   ]
  },
  {
   "cell_type": "code",
   "execution_count": 16,
   "id": "e576a392",
   "metadata": {},
   "outputs": [
    {
     "name": "stdout",
     "output_type": "stream",
     "text": [
      "+--------------------+-------------------------+\n",
      "|categorical_features|numerical_features_scaled|\n",
      "+--------------------+-------------------------+\n",
      "|       (4,[3],[1.0])|     [-61.007269596069...|\n",
      "|       (4,[3],[1.0])|     [-61.002278409814...|\n",
      "|       (4,[3],[1.0])|     [-61.012260782324...|\n",
      "+--------------------+-------------------------+\n",
      "only showing top 3 rows\n",
      "\n"
     ]
    }
   ],
   "source": [
    "# assembling all features to one vector\n",
    "\n",
    "all_features = ['categorical_features','numerical_features_scaled']\n",
    "\n",
    "final_assembler = VectorAssembler(inputCols=all_features, \n",
    "                                  outputCol=\"features\") \n",
    "\n",
    "df_california = final_assembler.transform(df_california)\n",
    "\n",
    "df_california.select(all_features).show(3) "
   ]
  },
  {
   "cell_type": "code",
   "execution_count": 17,
   "id": "3a9ef333",
   "metadata": {
    "scrolled": true
   },
   "outputs": [
    {
     "name": "stdout",
     "output_type": "stream",
     "text": [
      "16418 4222\n"
     ]
    }
   ],
   "source": [
    "# split the data to train and test samples\n",
    "\n",
    "train_data, test_data = df_california.randomSplit([.8,.2], seed=RANDOM_SEED)\n",
    "\n",
    "print(train_data.count(), test_data.count()) "
   ]
  },
  {
   "cell_type": "markdown",
   "id": "55a1dc7e",
   "metadata": {},
   "source": [
    "**Data set was encoded using  OHE and splitted on train and test samples (80/20)**"
   ]
  },
  {
   "cell_type": "markdown",
   "id": "9f0a82f3",
   "metadata": {
    "id": "9f0a82f3"
   },
   "source": [
    "<a name=\"step_2\"></a>\n",
    "# Models training"
   ]
  },
  {
   "cell_type": "markdown",
   "id": "d3c914ec",
   "metadata": {},
   "source": [
    "**Model training on all features**"
   ]
  },
  {
   "cell_type": "code",
   "execution_count": 18,
   "id": "bddb08c4",
   "metadata": {
    "id": "bddb08c4"
   },
   "outputs": [],
   "source": [
    "lr = LinearRegression(labelCol=target, featuresCol='features')\n",
    "\n",
    "model = lr.fit(train_data) "
   ]
  },
  {
   "cell_type": "code",
   "execution_count": 19,
   "id": "02f16533",
   "metadata": {},
   "outputs": [
    {
     "name": "stdout",
     "output_type": "stream",
     "text": [
      "+------------------+------------------+\n",
      "|median_house_value|        prediction|\n",
      "+------------------+------------------+\n",
      "|          352100.0|378451.33923285734|\n",
      "|          241400.0|256297.19652710436|\n",
      "|          281500.0|236503.62867485918|\n",
      "|          213500.0| 230527.8509058198|\n",
      "|          158700.0|187049.59724305058|\n",
      "|          162900.0| 206155.7409676565|\n",
      "|          105500.0|175487.30019459035|\n",
      "|          132000.0|166904.71510156244|\n",
      "|          122300.0| 187154.1320522707|\n",
      "|          109700.0| 222435.2679505013|\n",
      "|          188800.0|257374.81948872888|\n",
      "|          184400.0|225783.02583994344|\n",
      "|           97500.0|154052.28523706878|\n",
      "|          104200.0|156227.64811051264|\n",
      "|           83100.0|159666.03369625378|\n",
      "|           87500.0|166338.16028893227|\n",
      "|           80300.0|144110.84487898787|\n",
      "|           75700.0|231853.89445668738|\n",
      "|           76100.0|147770.86479645874|\n",
      "|           84400.0|138475.42500450555|\n",
      "+------------------+------------------+\n",
      "only showing top 20 rows\n",
      "\n"
     ]
    }
   ],
   "source": [
    "# disaply the predictions\n",
    "\n",
    "predictions = model.transform(test_data)\n",
    "\n",
    "predictedLabels = predictions.select(\"median_house_value\", \"prediction\")\n",
    "predictedLabels.show() "
   ]
  },
  {
   "cell_type": "code",
   "execution_count": 20,
   "id": "ef01e5f0",
   "metadata": {},
   "outputs": [
    {
     "name": "stdout",
     "output_type": "stream",
     "text": [
      "Root Mean Squared Error (RMSE) on test data = 68865.7\n"
     ]
    }
   ],
   "source": [
    "# calculation of RMSE \n",
    "\n",
    "evaluator = RegressionEvaluator(labelCol=\"median_house_value\",\n",
    "                                predictionCol=\"prediction\",\n",
    "                                metricName=\"rmse\")\n",
    "\n",
    "rmse = evaluator.evaluate(predictions)\n",
    "print(\"Root Mean Squared Error (RMSE) on test data = %g\" % rmse)"
   ]
  },
  {
   "cell_type": "code",
   "execution_count": 21,
   "id": "6574284a",
   "metadata": {},
   "outputs": [
    {
     "name": "stdout",
     "output_type": "stream",
     "text": [
      "r2_score: 0.6411660947984178\n",
      "MAE: 50022.12558683282\n"
     ]
    }
   ],
   "source": [
    "# calculation of MAE & R2\n",
    "\n",
    "y_true = predictions.select(\"median_house_value\").toPandas()\n",
    "y_pred = predictions.select(\"prediction\").toPandas()\n",
    "\n",
    "mae_score = mean_absolute_error(y_true, y_pred)\n",
    "r2_score = sklearn.metrics.r2_score(y_true, y_pred)\n",
    "print('r2_score: {0}'.format(r2_score))\n",
    "print('MAE:',mae_score)"
   ]
  },
  {
   "cell_type": "code",
   "execution_count": 22,
   "id": "d7898159",
   "metadata": {},
   "outputs": [
    {
     "name": "stdout",
     "output_type": "stream",
     "text": [
      "  metric  value_model_1\n",
      "0   RMSE   68671.908505\n",
      "1    MAE   49810.082827\n",
      "2     r2       0.646514\n"
     ]
    }
   ],
   "source": [
    "metric_1 = [['RMSE', model.summary.rootMeanSquaredError], ['MAE', model.summary.meanAbsoluteError], ['r2', model.summary.r2]]\n",
    "\n",
    "metric_1 = pd.DataFrame(metric_1,columns = ['metric','value_model_1'])\n",
    "\n",
    "metric_compare = metric_1.copy()\n",
    "\n",
    "print(metric_1)"
   ]
  },
  {
   "cell_type": "markdown",
   "id": "bad04f3d",
   "metadata": {},
   "source": [
    "**Model training using only numeric features**"
   ]
  },
  {
   "cell_type": "code",
   "execution_count": 23,
   "id": "09d154ee",
   "metadata": {},
   "outputs": [],
   "source": [
    "lr_2 = LinearRegression(labelCol=target, featuresCol='numerical_features_scaled')\n",
    "\n",
    "model_2 = lr_2.fit(train_data) "
   ]
  },
  {
   "cell_type": "code",
   "execution_count": 24,
   "id": "ed84094d",
   "metadata": {},
   "outputs": [
    {
     "name": "stdout",
     "output_type": "stream",
     "text": [
      "+------------------+------------------+\n",
      "|median_house_value|        prediction|\n",
      "+------------------+------------------+\n",
      "|          352100.0| 379273.2311304626|\n",
      "|          241400.0|  255340.989447698|\n",
      "|          281500.0|234631.03906910773|\n",
      "|          213500.0|228306.06401847536|\n",
      "|          158700.0| 184063.5978175602|\n",
      "|          162900.0|203955.34583914792|\n",
      "|          105500.0| 172855.5422547562|\n",
      "|          132000.0|164060.65154743195|\n",
      "|          122300.0|184957.58858521702|\n",
      "|          109700.0|220986.34058698127|\n",
      "|          188800.0|256531.68684420874|\n",
      "|          184400.0|  224301.750674468|\n",
      "|           97500.0|151946.67873122543|\n",
      "|          104200.0|  154273.898378307|\n",
      "|           83100.0|157299.68170536682|\n",
      "|           87500.0|163975.66869817115|\n",
      "|           80300.0|141492.15687689744|\n",
      "|           75700.0| 230781.0269729062|\n",
      "|           76100.0|145056.29626445007|\n",
      "|           84400.0|135784.95513165276|\n",
      "+------------------+------------------+\n",
      "only showing top 20 rows\n",
      "\n"
     ]
    }
   ],
   "source": [
    "# display of prediction results\n",
    "\n",
    "predictions_2 = model_2.transform(test_data)\n",
    "\n",
    "predictedLabels_2 = predictions_2.select(\"median_house_value\", \"prediction\")\n",
    "predictedLabels_2.show() "
   ]
  },
  {
   "cell_type": "code",
   "execution_count": 25,
   "id": "bfdeaa26",
   "metadata": {},
   "outputs": [
    {
     "name": "stdout",
     "output_type": "stream",
     "text": [
      "Root Mean Squared Error (RMSE_2) on test data = 68865.7\n"
     ]
    }
   ],
   "source": [
    "# calculation of RMSE\n",
    "\n",
    "evaluator_2 = RegressionEvaluator(labelCol=\"median_house_value\",\n",
    "                                predictionCol=\"prediction\",\n",
    "                                metricName=\"rmse\")\n",
    "\n",
    "rmse_2 = evaluator_2.evaluate(predictions_2)\n",
    "print(\"Root Mean Squared Error (RMSE_2) on test data = %g\" % rmse)"
   ]
  },
  {
   "cell_type": "code",
   "execution_count": 26,
   "id": "cce36c9c",
   "metadata": {},
   "outputs": [
    {
     "name": "stdout",
     "output_type": "stream",
     "text": [
      "r2_score_2: 0.6307916994983049\n",
      "MAE_2: 51218.49600721165\n"
     ]
    }
   ],
   "source": [
    "# calculation of MAE & R2\n",
    "\n",
    "y_true_2 = predictions_2.select(\"median_house_value\").toPandas()\n",
    "y_pred_2 = predictions_2.select(\"prediction\").toPandas()\n",
    "\n",
    "mae_score_2 = mean_absolute_error(y_true_2, y_pred_2)\n",
    "r2_score_2 = sklearn.metrics.r2_score(y_true_2, y_pred_2)\n",
    "print('r2_score_2: {0}'.format(r2_score_2))\n",
    "print('MAE_2:',mae_score_2)"
   ]
  },
  {
   "cell_type": "code",
   "execution_count": 27,
   "id": "5a7ec8a1",
   "metadata": {},
   "outputs": [
    {
     "name": "stdout",
     "output_type": "stream",
     "text": [
      "  metric  value_model_2\n",
      "0   RMSE   69606.965461\n",
      "1    MAE   50858.888642\n",
      "2     r2       0.636822\n"
     ]
    }
   ],
   "source": [
    "metric_2 = [['RMSE', model_2.summary.rootMeanSquaredError], ['MAE', model_2.summary.meanAbsoluteError], ['r2', model_2.summary.r2]]\n",
    "\n",
    "metric_2 = pd.DataFrame(metric_2,columns = ['metric','value_model_2'])\n",
    "\n",
    "metric_compare['value_model_2'] = metric_2.value_model_2\n",
    "\n",
    "print(metric_2)"
   ]
  },
  {
   "cell_type": "markdown",
   "id": "757fd103",
   "metadata": {
    "id": "757fd103"
   },
   "source": [
    "<a name=\"step_3\"></a>\n",
    "# Analyzis of the results and model testing"
   ]
  },
  {
   "cell_type": "code",
   "execution_count": 28,
   "id": "8f710802",
   "metadata": {},
   "outputs": [
    {
     "name": "stdout",
     "output_type": "stream",
     "text": [
      "  metric  value_model_1  value_model_2    best_value\n",
      "0   RMSE   68671.908505   69606.965461  68671.908505\n",
      "1    MAE   49810.082827   50858.888642  49810.082827\n",
      "2     r2       0.646514       0.636822      0.636822\n",
      "\n",
      " First model has best scores\n",
      "\n",
      "   metric  value_model_1\n",
      "0   RMSE   68671.908505\n",
      "1    MAE   49810.082827\n",
      "2     r2       0.646514\n"
     ]
    }
   ],
   "source": [
    "metric_compare['best_value'] = np.minimum.reduce(metric_compare[['value_model_1', 'value_model_2']].values, axis=1)\n",
    "print(metric_compare)\n",
    "\n",
    "if metric_compare['best_value'][0] == metric_compare['value_model_1'][0]: \n",
    "    print('\\n','First model has best scores')\n",
    "    print('\\n',metric_1)\n",
    "    \n",
    "else:\n",
    "    print('\\n','Second model has best scores')\n",
    "    print('\\n',metric_2)"
   ]
  },
  {
   "attachments": {},
   "cell_type": "markdown",
   "id": "ee8df2d8",
   "metadata": {},
   "source": [
    "**Comparison of score revealed, that first model has the better score.**\n",
    "\n",
    "1) RMSE -  68837.4  < RMSE_2 - 69975\n",
    "\n",
    "2) r2_score: 0.64 > r2_score_2: 0.63\n",
    "\n",
    "3) MAE: 49849 < MAE_2: 50848\n",
    "\n",
    "The first model is selected for the testing."
   ]
  },
  {
   "cell_type": "code",
   "execution_count": 29,
   "id": "2f1cac91",
   "metadata": {},
   "outputs": [
    {
     "name": "stdout",
     "output_type": "stream",
     "text": [
      "+------------------+------------------+\n",
      "|median_house_value|        prediction|\n",
      "+------------------+------------------+\n",
      "|          352100.0|378451.33923285734|\n",
      "|          241400.0|256297.19652710436|\n",
      "|          281500.0|236503.62867485918|\n",
      "|          213500.0| 230527.8509058198|\n",
      "|          158700.0|187049.59724305058|\n",
      "|          162900.0| 206155.7409676565|\n",
      "|          105500.0|175487.30019459035|\n",
      "|          132000.0|166904.71510156244|\n",
      "|          122300.0| 187154.1320522707|\n",
      "|          109700.0| 222435.2679505013|\n",
      "|          188800.0|257374.81948872888|\n",
      "|          184400.0|225783.02583994344|\n",
      "|           97500.0|154052.28523706878|\n",
      "|          104200.0|156227.64811051264|\n",
      "|           83100.0|159666.03369625378|\n",
      "|           87500.0|166338.16028893227|\n",
      "|           80300.0|144110.84487898787|\n",
      "|           75700.0|231853.89445668738|\n",
      "|           76100.0|147770.86479645874|\n",
      "|           84400.0|138475.42500450555|\n",
      "+------------------+------------------+\n",
      "only showing top 20 rows\n",
      "\n"
     ]
    }
   ],
   "source": [
    "# test predictions using best model (first 20 rows)\n",
    "\n",
    "predictedLabels.show()"
   ]
  },
  {
   "cell_type": "code",
   "execution_count": 30,
   "id": "f6cfd618",
   "metadata": {},
   "outputs": [
    {
     "name": "stdout",
     "output_type": "stream",
     "text": [
      "Root Mean Squared Error (RMSE) on test data = 68865.7\n",
      "r2_score= 0.6411660947984178\n",
      "MAE = 50022.12558683282\n"
     ]
    }
   ],
   "source": [
    "# Model scores on the test sample:\n",
    "\n",
    "print(\"Root Mean Squared Error (RMSE) on test data = %g\" % rmse)\n",
    "print('r2_score= {0}'.format(r2_score))\n",
    "print('MAE =',mae_score)"
   ]
  },
  {
   "cell_type": "code",
   "execution_count": 31,
   "id": "9c4bc561",
   "metadata": {},
   "outputs": [],
   "source": [
    "spark.stop()"
   ]
  },
  {
   "cell_type": "markdown",
   "id": "c2f976af",
   "metadata": {},
   "source": [
    "**Conclusion**\n",
    "\n",
    "The scores of the best model on the test sample are following:\n",
    "\n",
    "- Root Mean Squared Error (RMSE) on test data = 68865.7\n",
    "\n",
    "- r2_score= 0.6411660947984178\n",
    "\n",
    "- MAE = 50022.12558683282\n",
    "\n",
    "**After the completion of testing the spark session was stopped.**"
   ]
  }
 ],
 "metadata": {
  "ExecuteTimeLog": [
   {
    "duration": 17483,
    "start_time": "2022-04-08T12:56:44.832Z"
   },
   {
    "duration": 126,
    "start_time": "2022-04-08T13:01:22.741Z"
   },
   {
    "duration": 513,
    "start_time": "2022-04-08T13:01:28.902Z"
   },
   {
    "duration": 166,
    "start_time": "2022-04-08T13:01:37.904Z"
   },
   {
    "duration": 289,
    "start_time": "2022-04-08T13:01:41.787Z"
   },
   {
    "duration": 282,
    "start_time": "2022-04-08T13:02:10.998Z"
   },
   {
    "duration": 166,
    "start_time": "2022-04-08T13:02:18.308Z"
   },
   {
    "duration": 147,
    "start_time": "2022-04-08T13:02:24.007Z"
   },
   {
    "duration": 170,
    "start_time": "2022-04-08T13:02:39.227Z"
   },
   {
    "duration": 309,
    "start_time": "2022-04-08T13:02:47.115Z"
   },
   {
    "duration": 299,
    "start_time": "2022-04-08T13:02:54.031Z"
   },
   {
    "duration": 10841,
    "start_time": "2022-04-08T13:04:18.944Z"
   },
   {
    "duration": 1209,
    "start_time": "2022-04-08T13:04:37.579Z"
   },
   {
    "duration": 778,
    "start_time": "2022-04-08T13:05:21.907Z"
   },
   {
    "duration": 49,
    "start_time": "2022-04-08T13:05:55.334Z"
   },
   {
    "duration": 1292,
    "start_time": "2022-04-08T13:13:43.454Z"
   },
   {
    "duration": 478,
    "start_time": "2022-04-08T13:15:03.140Z"
   },
   {
    "duration": 6810,
    "start_time": "2022-04-08T13:15:18.783Z"
   },
   {
    "duration": 4570,
    "start_time": "2022-04-08T13:15:36.109Z"
   },
   {
    "duration": 10,
    "start_time": "2022-04-08T13:17:08.973Z"
   },
   {
    "duration": 11,
    "start_time": "2022-04-08T13:17:28.083Z"
   },
   {
    "duration": 7,
    "start_time": "2022-04-08T13:17:54.005Z"
   },
   {
    "duration": 9,
    "start_time": "2022-04-08T13:24:00.943Z"
   },
   {
    "duration": 17912,
    "start_time": "2022-04-08T13:24:10.603Z"
   },
   {
    "duration": 11457,
    "start_time": "2022-04-08T13:24:28.518Z"
   },
   {
    "duration": 1005,
    "start_time": "2022-04-08T13:24:39.977Z"
   },
   {
    "duration": 126,
    "start_time": "2022-04-08T13:24:40.985Z"
   },
   {
    "duration": 1883,
    "start_time": "2022-04-08T13:24:41.113Z"
   },
   {
    "duration": 6,
    "start_time": "2022-04-08T13:24:42.999Z"
   },
   {
    "duration": 102,
    "start_time": "2022-04-08T13:45:13.905Z"
   },
   {
    "duration": 11,
    "start_time": "2022-04-08T13:45:47.517Z"
   },
   {
    "duration": 36,
    "start_time": "2022-04-08T13:45:51.589Z"
   },
   {
    "duration": 4742,
    "start_time": "2022-04-08T13:46:02.549Z"
   },
   {
    "duration": 3581,
    "start_time": "2022-04-08T13:46:21.899Z"
   },
   {
    "duration": 13,
    "start_time": "2022-04-08T13:47:12.828Z"
   },
   {
    "duration": 15,
    "start_time": "2022-04-08T13:47:27.579Z"
   },
   {
    "duration": 4206,
    "start_time": "2022-04-08T13:48:25.084Z"
   },
   {
    "duration": 4499,
    "start_time": "2022-04-08T13:50:29.869Z"
   },
   {
    "duration": 184,
    "start_time": "2022-04-08T13:50:58.494Z"
   },
   {
    "duration": 13,
    "start_time": "2022-04-08T13:51:05.364Z"
   },
   {
    "duration": 2564,
    "start_time": "2022-04-08T13:51:12.713Z"
   },
   {
    "duration": 164,
    "start_time": "2022-04-08T13:51:30.006Z"
   },
   {
    "duration": 152,
    "start_time": "2022-04-08T13:51:59.751Z"
   },
   {
    "duration": 22,
    "start_time": "2022-04-08T13:52:04.848Z"
   },
   {
    "duration": 2792,
    "start_time": "2022-04-08T13:53:42.086Z"
   },
   {
    "duration": 3277,
    "start_time": "2022-04-08T13:54:48.899Z"
   },
   {
    "duration": 24,
    "start_time": "2022-04-08T13:55:22.436Z"
   },
   {
    "duration": 3074,
    "start_time": "2022-04-08T13:55:35.948Z"
   },
   {
    "duration": 123,
    "start_time": "2022-04-08T13:55:57.399Z"
   },
   {
    "duration": 203,
    "start_time": "2022-04-08T13:56:04.824Z"
   },
   {
    "duration": 189,
    "start_time": "2022-04-08T13:56:16.668Z"
   },
   {
    "duration": 6,
    "start_time": "2022-04-08T13:56:37.991Z"
   },
   {
    "duration": 172,
    "start_time": "2022-04-08T13:56:40.938Z"
   },
   {
    "duration": 2140,
    "start_time": "2022-04-08T13:56:50.042Z"
   },
   {
    "duration": 25,
    "start_time": "2022-04-08T13:57:03.024Z"
   },
   {
    "duration": 1939,
    "start_time": "2022-04-08T13:57:12.153Z"
   },
   {
    "duration": 2292,
    "start_time": "2022-04-08T13:57:29.364Z"
   },
   {
    "duration": 2002,
    "start_time": "2022-04-08T13:57:36.718Z"
   },
   {
    "duration": 18869,
    "start_time": "2022-04-09T07:56:03.346Z"
   },
   {
    "duration": 13355,
    "start_time": "2022-04-09T07:56:24.132Z"
   },
   {
    "duration": 1207,
    "start_time": "2022-04-09T07:56:37.490Z"
   },
   {
    "duration": 130,
    "start_time": "2022-04-09T07:56:38.699Z"
   },
   {
    "duration": 1692,
    "start_time": "2022-04-09T07:56:38.832Z"
   },
   {
    "duration": 5991,
    "start_time": "2022-04-09T07:56:40.526Z"
   },
   {
    "duration": 121,
    "start_time": "2022-04-09T07:59:35.131Z"
   },
   {
    "duration": 14,
    "start_time": "2022-04-09T07:59:55.336Z"
   },
   {
    "duration": 10,
    "start_time": "2022-04-09T08:00:03.630Z"
   },
   {
    "duration": 11,
    "start_time": "2022-04-09T08:00:18.634Z"
   },
   {
    "duration": 21,
    "start_time": "2022-04-09T08:00:28.283Z"
   },
   {
    "duration": 9,
    "start_time": "2022-04-09T08:03:16.019Z"
   },
   {
    "duration": 9,
    "start_time": "2022-04-09T08:03:21.965Z"
   },
   {
    "duration": 709,
    "start_time": "2022-04-09T08:03:26.577Z"
   },
   {
    "duration": 386,
    "start_time": "2022-04-09T08:03:57.931Z"
   },
   {
    "duration": 61,
    "start_time": "2022-04-09T08:04:10.449Z"
   },
   {
    "duration": 3892,
    "start_time": "2022-04-09T08:04:28.194Z"
   },
   {
    "duration": 28,
    "start_time": "2022-04-09T08:05:01.572Z"
   },
   {
    "duration": 4241,
    "start_time": "2022-04-09T08:05:03.643Z"
   },
   {
    "duration": 19557,
    "start_time": "2022-04-09T08:05:48.133Z"
   },
   {
    "duration": 13587,
    "start_time": "2022-04-09T08:06:07.697Z"
   },
   {
    "duration": 1110,
    "start_time": "2022-04-09T08:06:21.287Z"
   },
   {
    "duration": 129,
    "start_time": "2022-04-09T08:06:22.400Z"
   },
   {
    "duration": 1911,
    "start_time": "2022-04-09T08:06:22.585Z"
   },
   {
    "duration": 6388,
    "start_time": "2022-04-09T08:06:24.499Z"
   },
   {
    "duration": 621,
    "start_time": "2022-04-09T08:06:30.889Z"
   },
   {
    "duration": 520,
    "start_time": "2022-04-09T08:06:31.513Z"
   },
   {
    "duration": 0,
    "start_time": "2022-04-09T08:06:32.036Z"
   },
   {
    "duration": 78,
    "start_time": "2022-04-09T08:06:39.117Z"
   },
   {
    "duration": 52,
    "start_time": "2022-04-09T08:06:44.267Z"
   },
   {
    "duration": 41,
    "start_time": "2022-04-09T08:07:24.548Z"
   },
   {
    "duration": 32,
    "start_time": "2022-04-09T08:07:39.332Z"
   },
   {
    "duration": 4894,
    "start_time": "2022-04-09T08:07:41.000Z"
   },
   {
    "duration": 4,
    "start_time": "2022-04-09T08:12:49.532Z"
   },
   {
    "duration": 71,
    "start_time": "2022-04-09T08:13:45.167Z"
   },
   {
    "duration": 2546,
    "start_time": "2022-04-09T08:14:42.051Z"
   },
   {
    "duration": 25,
    "start_time": "2022-04-09T08:14:49.472Z"
   },
   {
    "duration": 846,
    "start_time": "2022-04-09T08:15:17.040Z"
   },
   {
    "duration": 215,
    "start_time": "2022-04-09T08:15:25.869Z"
   },
   {
    "duration": 314,
    "start_time": "2022-04-09T08:15:51.182Z"
   },
   {
    "duration": 298,
    "start_time": "2022-04-09T08:15:58.797Z"
   },
   {
    "duration": 1101,
    "start_time": "2022-04-09T08:16:31.910Z"
   },
   {
    "duration": 540,
    "start_time": "2022-04-09T08:16:49.653Z"
   },
   {
    "duration": 168,
    "start_time": "2022-04-09T08:17:00.525Z"
   },
   {
    "duration": 62,
    "start_time": "2022-04-09T08:17:42.760Z"
   },
   {
    "duration": 601,
    "start_time": "2022-04-09T08:17:55.689Z"
   },
   {
    "duration": 4396,
    "start_time": "2022-04-09T08:18:08.622Z"
   },
   {
    "duration": 3110,
    "start_time": "2022-04-09T08:18:28.611Z"
   },
   {
    "duration": 2426,
    "start_time": "2022-04-09T08:18:48.501Z"
   },
   {
    "duration": 41,
    "start_time": "2022-04-09T08:19:48.904Z"
   },
   {
    "duration": 1877,
    "start_time": "2022-04-09T08:20:13.808Z"
   },
   {
    "duration": 7766,
    "start_time": "2022-04-09T08:20:34.440Z"
   },
   {
    "duration": 495,
    "start_time": "2022-04-09T08:22:06.093Z"
   },
   {
    "duration": 5517,
    "start_time": "2022-04-09T08:22:46.927Z"
   },
   {
    "duration": 3958,
    "start_time": "2022-04-09T08:23:46.849Z"
   },
   {
    "duration": 19320,
    "start_time": "2022-04-09T08:24:10.969Z"
   },
   {
    "duration": 12417,
    "start_time": "2022-04-09T08:24:30.293Z"
   },
   {
    "duration": 1272,
    "start_time": "2022-04-09T08:24:42.712Z"
   },
   {
    "duration": 109,
    "start_time": "2022-04-09T08:24:43.988Z"
   },
   {
    "duration": 1928,
    "start_time": "2022-04-09T08:24:44.099Z"
   },
   {
    "duration": 6502,
    "start_time": "2022-04-09T08:24:46.084Z"
   },
   {
    "duration": 616,
    "start_time": "2022-04-09T08:24:52.588Z"
   },
   {
    "duration": 117,
    "start_time": "2022-04-09T08:24:53.206Z"
   },
   {
    "duration": 3902,
    "start_time": "2022-04-09T08:24:53.385Z"
   },
   {
    "duration": 4,
    "start_time": "2022-04-09T08:24:57.291Z"
   },
   {
    "duration": 2421,
    "start_time": "2022-04-09T08:24:57.298Z"
   },
   {
    "duration": 889,
    "start_time": "2022-04-09T08:24:59.722Z"
   },
   {
    "duration": 201,
    "start_time": "2022-04-09T08:25:00.614Z"
   },
   {
    "duration": 100,
    "start_time": "2022-04-09T08:25:00.818Z"
   },
   {
    "duration": 2001,
    "start_time": "2022-04-09T08:25:00.985Z"
   },
   {
    "duration": 610,
    "start_time": "2022-04-09T08:25:02.990Z"
   },
   {
    "duration": 5193,
    "start_time": "2022-04-09T08:25:03.604Z"
   },
   {
    "duration": 19072,
    "start_time": "2022-04-09T08:34:56.263Z"
   },
   {
    "duration": 11427,
    "start_time": "2022-04-09T08:35:15.387Z"
   },
   {
    "duration": 1114,
    "start_time": "2022-04-09T08:35:26.884Z"
   },
   {
    "duration": 121,
    "start_time": "2022-04-09T08:35:28.001Z"
   },
   {
    "duration": 1965,
    "start_time": "2022-04-09T08:35:28.124Z"
   },
   {
    "duration": 8496,
    "start_time": "2022-04-09T08:35:30.091Z"
   },
   {
    "duration": 600,
    "start_time": "2022-04-09T08:35:38.590Z"
   },
   {
    "duration": 116,
    "start_time": "2022-04-09T08:35:39.192Z"
   },
   {
    "duration": 3990,
    "start_time": "2022-04-09T08:35:39.311Z"
   },
   {
    "duration": 5,
    "start_time": "2022-04-09T08:35:43.306Z"
   },
   {
    "duration": 2896,
    "start_time": "2022-04-09T08:35:43.313Z"
   },
   {
    "duration": 990,
    "start_time": "2022-04-09T08:35:46.211Z"
   },
   {
    "duration": 189,
    "start_time": "2022-04-09T08:35:47.203Z"
   },
   {
    "duration": 111,
    "start_time": "2022-04-09T08:35:47.395Z"
   },
   {
    "duration": 1993,
    "start_time": "2022-04-09T08:35:47.509Z"
   },
   {
    "duration": 621,
    "start_time": "2022-04-09T08:35:49.505Z"
   },
   {
    "duration": 5671,
    "start_time": "2022-04-09T08:35:50.128Z"
   },
   {
    "duration": 8599,
    "start_time": "2022-04-09T08:35:55.801Z"
   },
   {
    "duration": 18868,
    "start_time": "2022-04-09T08:37:05.246Z"
   },
   {
    "duration": 11492,
    "start_time": "2022-04-09T08:37:24.119Z"
   },
   {
    "duration": 1072,
    "start_time": "2022-04-09T08:37:35.613Z"
   },
   {
    "duration": 114,
    "start_time": "2022-04-09T08:37:36.688Z"
   },
   {
    "duration": 1847,
    "start_time": "2022-04-09T08:37:36.804Z"
   },
   {
    "duration": 6452,
    "start_time": "2022-04-09T08:37:38.653Z"
   },
   {
    "duration": 676,
    "start_time": "2022-04-09T08:37:45.108Z"
   },
   {
    "duration": 115,
    "start_time": "2022-04-09T08:37:45.787Z"
   },
   {
    "duration": 3716,
    "start_time": "2022-04-09T08:37:45.904Z"
   },
   {
    "duration": 62,
    "start_time": "2022-04-09T08:37:49.623Z"
   },
   {
    "duration": 2709,
    "start_time": "2022-04-09T08:37:49.688Z"
   },
   {
    "duration": 1020,
    "start_time": "2022-04-09T08:37:52.400Z"
   },
   {
    "duration": 164,
    "start_time": "2022-04-09T08:37:53.422Z"
   },
   {
    "duration": 104,
    "start_time": "2022-04-09T08:37:53.588Z"
   },
   {
    "duration": 2522,
    "start_time": "2022-04-09T08:37:53.695Z"
   },
   {
    "duration": 865,
    "start_time": "2022-04-09T08:37:56.219Z"
   },
   {
    "duration": 4307,
    "start_time": "2022-04-09T08:37:57.088Z"
   },
   {
    "duration": 7595,
    "start_time": "2022-04-09T08:38:01.398Z"
   },
   {
    "duration": 812,
    "start_time": "2022-04-09T08:39:08.524Z"
   },
   {
    "duration": 0,
    "start_time": "2022-04-09T08:39:09.339Z"
   },
   {
    "duration": 0,
    "start_time": "2022-04-09T08:39:09.340Z"
   },
   {
    "duration": 0,
    "start_time": "2022-04-09T08:39:09.342Z"
   },
   {
    "duration": 0,
    "start_time": "2022-04-09T08:39:09.344Z"
   },
   {
    "duration": 0,
    "start_time": "2022-04-09T08:39:09.346Z"
   },
   {
    "duration": 0,
    "start_time": "2022-04-09T08:39:09.347Z"
   },
   {
    "duration": 0,
    "start_time": "2022-04-09T08:39:09.348Z"
   },
   {
    "duration": 0,
    "start_time": "2022-04-09T08:39:09.350Z"
   },
   {
    "duration": 0,
    "start_time": "2022-04-09T08:39:09.351Z"
   },
   {
    "duration": 0,
    "start_time": "2022-04-09T08:39:09.352Z"
   },
   {
    "duration": 0,
    "start_time": "2022-04-09T08:39:09.354Z"
   },
   {
    "duration": 0,
    "start_time": "2022-04-09T08:39:09.384Z"
   },
   {
    "duration": 0,
    "start_time": "2022-04-09T08:39:09.385Z"
   },
   {
    "duration": 0,
    "start_time": "2022-04-09T08:39:09.387Z"
   },
   {
    "duration": 0,
    "start_time": "2022-04-09T08:39:09.389Z"
   },
   {
    "duration": 0,
    "start_time": "2022-04-09T08:39:09.390Z"
   },
   {
    "duration": 1,
    "start_time": "2022-04-09T08:39:09.391Z"
   },
   {
    "duration": 19265,
    "start_time": "2022-04-09T08:39:43.341Z"
   },
   {
    "duration": 21823,
    "start_time": "2022-04-09T08:40:28.870Z"
   },
   {
    "duration": 14206,
    "start_time": "2022-04-09T08:40:50.700Z"
   },
   {
    "duration": 988,
    "start_time": "2022-04-09T08:41:04.908Z"
   },
   {
    "duration": 185,
    "start_time": "2022-04-09T08:41:05.899Z"
   },
   {
    "duration": 1977,
    "start_time": "2022-04-09T08:41:06.088Z"
   },
   {
    "duration": 7132,
    "start_time": "2022-04-09T08:41:08.067Z"
   },
   {
    "duration": 799,
    "start_time": "2022-04-09T08:41:15.201Z"
   },
   {
    "duration": 182,
    "start_time": "2022-04-09T08:41:16.002Z"
   },
   {
    "duration": 3805,
    "start_time": "2022-04-09T08:41:16.187Z"
   },
   {
    "duration": 6,
    "start_time": "2022-04-09T08:41:19.995Z"
   },
   {
    "duration": 3087,
    "start_time": "2022-04-09T08:41:20.003Z"
   },
   {
    "duration": 1323,
    "start_time": "2022-04-09T08:41:23.092Z"
   },
   {
    "duration": 188,
    "start_time": "2022-04-09T08:41:24.419Z"
   },
   {
    "duration": 193,
    "start_time": "2022-04-09T08:41:24.611Z"
   },
   {
    "duration": 2180,
    "start_time": "2022-04-09T08:41:24.806Z"
   },
   {
    "duration": 704,
    "start_time": "2022-04-09T08:41:26.989Z"
   },
   {
    "duration": 4188,
    "start_time": "2022-04-09T08:41:27.695Z"
   },
   {
    "duration": 7910,
    "start_time": "2022-04-09T08:41:31.886Z"
   },
   {
    "duration": 1261,
    "start_time": "2022-04-09T08:43:26.086Z"
   },
   {
    "duration": 1386,
    "start_time": "2022-04-09T08:44:08.664Z"
   },
   {
    "duration": 1595,
    "start_time": "2022-04-09T08:45:06.983Z"
   },
   {
    "duration": 15,
    "start_time": "2022-04-09T08:45:38.136Z"
   },
   {
    "duration": 157,
    "start_time": "2022-04-09T08:46:57.537Z"
   },
   {
    "duration": 15,
    "start_time": "2022-04-09T08:47:04.941Z"
   },
   {
    "duration": 19,
    "start_time": "2022-04-09T08:48:00.299Z"
   },
   {
    "duration": 23,
    "start_time": "2022-04-09T08:48:11.302Z"
   },
   {
    "duration": 15,
    "start_time": "2022-04-09T08:48:18.918Z"
   },
   {
    "duration": 1205,
    "start_time": "2022-04-09T08:51:05.097Z"
   },
   {
    "duration": 0,
    "start_time": "2022-04-09T08:51:06.307Z"
   },
   {
    "duration": 0,
    "start_time": "2022-04-09T08:51:06.309Z"
   },
   {
    "duration": 0,
    "start_time": "2022-04-09T08:51:06.311Z"
   },
   {
    "duration": 0,
    "start_time": "2022-04-09T08:51:06.312Z"
   },
   {
    "duration": 0,
    "start_time": "2022-04-09T08:51:06.315Z"
   },
   {
    "duration": 0,
    "start_time": "2022-04-09T08:51:06.317Z"
   },
   {
    "duration": 0,
    "start_time": "2022-04-09T08:51:06.319Z"
   },
   {
    "duration": 0,
    "start_time": "2022-04-09T08:51:06.321Z"
   },
   {
    "duration": 0,
    "start_time": "2022-04-09T08:51:06.323Z"
   },
   {
    "duration": 0,
    "start_time": "2022-04-09T08:51:06.325Z"
   },
   {
    "duration": 0,
    "start_time": "2022-04-09T08:51:06.327Z"
   },
   {
    "duration": 0,
    "start_time": "2022-04-09T08:51:06.328Z"
   },
   {
    "duration": 0,
    "start_time": "2022-04-09T08:51:06.331Z"
   },
   {
    "duration": 0,
    "start_time": "2022-04-09T08:51:06.332Z"
   },
   {
    "duration": 0,
    "start_time": "2022-04-09T08:51:06.335Z"
   },
   {
    "duration": 0,
    "start_time": "2022-04-09T08:51:06.384Z"
   },
   {
    "duration": 0,
    "start_time": "2022-04-09T08:51:06.386Z"
   },
   {
    "duration": 0,
    "start_time": "2022-04-09T08:51:06.388Z"
   },
   {
    "duration": 0,
    "start_time": "2022-04-09T08:51:06.389Z"
   },
   {
    "duration": 138,
    "start_time": "2022-04-09T08:51:37.429Z"
   },
   {
    "duration": 14,
    "start_time": "2022-04-09T08:52:35.316Z"
   },
   {
    "duration": 18922,
    "start_time": "2022-04-09T08:52:52.508Z"
   },
   {
    "duration": 19778,
    "start_time": "2022-04-09T08:53:19.706Z"
   },
   {
    "duration": 12023,
    "start_time": "2022-04-09T08:53:39.489Z"
   },
   {
    "duration": 992,
    "start_time": "2022-04-09T08:53:51.515Z"
   },
   {
    "duration": 175,
    "start_time": "2022-04-09T08:53:52.509Z"
   },
   {
    "duration": 1735,
    "start_time": "2022-04-09T08:53:52.687Z"
   },
   {
    "duration": 6298,
    "start_time": "2022-04-09T08:53:54.424Z"
   },
   {
    "duration": 703,
    "start_time": "2022-04-09T08:54:00.785Z"
   },
   {
    "duration": 201,
    "start_time": "2022-04-09T08:54:01.491Z"
   },
   {
    "duration": 4028,
    "start_time": "2022-04-09T08:54:01.694Z"
   },
   {
    "duration": 6,
    "start_time": "2022-04-09T08:54:05.724Z"
   },
   {
    "duration": 2708,
    "start_time": "2022-04-09T08:54:05.784Z"
   },
   {
    "duration": 896,
    "start_time": "2022-04-09T08:54:08.494Z"
   },
   {
    "duration": 200,
    "start_time": "2022-04-09T08:54:09.393Z"
   },
   {
    "duration": 104,
    "start_time": "2022-04-09T08:54:09.598Z"
   },
   {
    "duration": 2092,
    "start_time": "2022-04-09T08:54:09.704Z"
   },
   {
    "duration": 590,
    "start_time": "2022-04-09T08:54:11.798Z"
   },
   {
    "duration": 4493,
    "start_time": "2022-04-09T08:54:12.391Z"
   },
   {
    "duration": 144,
    "start_time": "2022-04-09T08:54:16.887Z"
   },
   {
    "duration": 0,
    "start_time": "2022-04-09T08:54:17.033Z"
   },
   {
    "duration": 0,
    "start_time": "2022-04-09T08:54:17.035Z"
   },
   {
    "duration": 11,
    "start_time": "2022-04-09T08:54:47.769Z"
   },
   {
    "duration": 7177,
    "start_time": "2022-04-09T08:54:53.515Z"
   },
   {
    "duration": 1611,
    "start_time": "2022-04-09T08:55:00.695Z"
   },
   {
    "duration": 1937,
    "start_time": "2022-04-09T08:55:02.308Z"
   },
   {
    "duration": 21347,
    "start_time": "2022-04-09T09:03:28.346Z"
   },
   {
    "duration": 14235,
    "start_time": "2022-04-09T09:03:49.697Z"
   },
   {
    "duration": 1281,
    "start_time": "2022-04-09T09:04:03.937Z"
   },
   {
    "duration": 186,
    "start_time": "2022-04-09T09:04:05.221Z"
   },
   {
    "duration": 2127,
    "start_time": "2022-04-09T09:04:05.487Z"
   },
   {
    "duration": 7784,
    "start_time": "2022-04-09T09:04:07.616Z"
   },
   {
    "duration": 880,
    "start_time": "2022-04-09T09:04:15.403Z"
   },
   {
    "duration": 207,
    "start_time": "2022-04-09T09:04:16.287Z"
   },
   {
    "duration": 5689,
    "start_time": "2022-04-09T09:04:16.498Z"
   },
   {
    "duration": 4,
    "start_time": "2022-04-09T09:04:22.193Z"
   },
   {
    "duration": 3383,
    "start_time": "2022-04-09T09:04:22.200Z"
   },
   {
    "duration": 902,
    "start_time": "2022-04-09T09:04:25.587Z"
   },
   {
    "duration": 194,
    "start_time": "2022-04-09T09:04:26.492Z"
   },
   {
    "duration": 101,
    "start_time": "2022-04-09T09:04:26.689Z"
   },
   {
    "duration": 2698,
    "start_time": "2022-04-09T09:04:26.793Z"
   },
   {
    "duration": 899,
    "start_time": "2022-04-09T09:04:29.493Z"
   },
   {
    "duration": 5225,
    "start_time": "2022-04-09T09:04:30.395Z"
   },
   {
    "duration": 254,
    "start_time": "2022-04-09T09:04:35.685Z"
   },
   {
    "duration": 0,
    "start_time": "2022-04-09T09:04:35.942Z"
   },
   {
    "duration": 15,
    "start_time": "2022-04-09T09:07:06.559Z"
   },
   {
    "duration": 5802,
    "start_time": "2022-04-09T09:07:11.104Z"
   },
   {
    "duration": 1413,
    "start_time": "2022-04-09T09:07:16.910Z"
   },
   {
    "duration": 255,
    "start_time": "2022-04-09T09:11:03.617Z"
   },
   {
    "duration": 2360,
    "start_time": "2022-04-09T09:11:13.754Z"
   },
   {
    "duration": 248,
    "start_time": "2022-04-09T09:14:04.060Z"
   },
   {
    "duration": 271,
    "start_time": "2022-04-09T09:14:16.779Z"
   },
   {
    "duration": 1838,
    "start_time": "2022-04-09T09:14:35.368Z"
   },
   {
    "duration": 11,
    "start_time": "2022-04-09T09:14:46.924Z"
   },
   {
    "duration": 13,
    "start_time": "2022-04-09T09:15:20.938Z"
   },
   {
    "duration": 14,
    "start_time": "2022-04-09T09:15:36.042Z"
   },
   {
    "duration": 15,
    "start_time": "2022-04-09T09:18:34.369Z"
   },
   {
    "duration": 25,
    "start_time": "2022-04-09T09:22:41.033Z"
   },
   {
    "duration": 21,
    "start_time": "2022-04-09T09:22:59.409Z"
   },
   {
    "duration": 23,
    "start_time": "2022-04-09T09:23:19.914Z"
   },
   {
    "duration": 15,
    "start_time": "2022-04-09T09:23:30.434Z"
   },
   {
    "duration": 16,
    "start_time": "2022-04-09T09:23:52.320Z"
   },
   {
    "duration": 16,
    "start_time": "2022-04-09T09:24:05.460Z"
   },
   {
    "duration": 19786,
    "start_time": "2022-04-09T09:24:29.021Z"
   },
   {
    "duration": 11,
    "start_time": "2022-04-09T09:24:59.817Z"
   },
   {
    "duration": 20758,
    "start_time": "2022-04-09T09:27:39.434Z"
   },
   {
    "duration": 12602,
    "start_time": "2022-04-09T09:28:00.197Z"
   },
   {
    "duration": 1014,
    "start_time": "2022-04-09T09:28:12.801Z"
   },
   {
    "duration": 115,
    "start_time": "2022-04-09T09:28:13.885Z"
   },
   {
    "duration": 1744,
    "start_time": "2022-04-09T09:28:14.002Z"
   },
   {
    "duration": 7036,
    "start_time": "2022-04-09T09:28:15.748Z"
   },
   {
    "duration": 731,
    "start_time": "2022-04-09T09:28:22.787Z"
   },
   {
    "duration": 116,
    "start_time": "2022-04-09T09:28:23.585Z"
   },
   {
    "duration": 4197,
    "start_time": "2022-04-09T09:28:23.703Z"
   },
   {
    "duration": 5,
    "start_time": "2022-04-09T09:28:27.903Z"
   },
   {
    "duration": 2491,
    "start_time": "2022-04-09T09:28:27.910Z"
   },
   {
    "duration": 1098,
    "start_time": "2022-04-09T09:28:30.404Z"
   },
   {
    "duration": 186,
    "start_time": "2022-04-09T09:28:31.505Z"
   },
   {
    "duration": 99,
    "start_time": "2022-04-09T09:28:31.694Z"
   },
   {
    "duration": 2120,
    "start_time": "2022-04-09T09:28:31.795Z"
   },
   {
    "duration": 801,
    "start_time": "2022-04-09T09:28:33.918Z"
   },
   {
    "duration": 4879,
    "start_time": "2022-04-09T09:28:34.721Z"
   },
   {
    "duration": 5803,
    "start_time": "2022-04-09T09:28:39.602Z"
   },
   {
    "duration": 1202,
    "start_time": "2022-04-09T09:28:45.407Z"
   },
   {
    "duration": 1116,
    "start_time": "2022-04-09T09:28:46.612Z"
   },
   {
    "duration": 3427,
    "start_time": "2022-04-09T09:28:47.784Z"
   },
   {
    "duration": 3411,
    "start_time": "2022-04-09T09:34:05.092Z"
   },
   {
    "duration": 2669,
    "start_time": "2022-04-09T09:34:34.120Z"
   },
   {
    "duration": 1011,
    "start_time": "2022-04-09T09:34:50.712Z"
   },
   {
    "duration": 4253,
    "start_time": "2022-04-09T09:35:11.657Z"
   },
   {
    "duration": 816,
    "start_time": "2022-04-09T09:35:16.583Z"
   },
   {
    "duration": 2694,
    "start_time": "2022-04-09T09:35:36.208Z"
   },
   {
    "duration": 673,
    "start_time": "2022-04-09T09:35:41.092Z"
   },
   {
    "duration": 1037,
    "start_time": "2022-04-09T09:36:26.908Z"
   },
   {
    "duration": 816,
    "start_time": "2022-04-09T09:36:53.768Z"
   },
   {
    "duration": 959,
    "start_time": "2022-04-09T09:37:12.930Z"
   },
   {
    "duration": 1765,
    "start_time": "2022-04-09T09:38:01.548Z"
   },
   {
    "duration": 20085,
    "start_time": "2022-04-09T11:05:10.814Z"
   },
   {
    "duration": 12514,
    "start_time": "2022-04-09T11:05:30.902Z"
   },
   {
    "duration": 925,
    "start_time": "2022-04-09T11:05:43.484Z"
   },
   {
    "duration": 121,
    "start_time": "2022-04-09T11:05:44.412Z"
   },
   {
    "duration": 2055,
    "start_time": "2022-04-09T11:05:44.535Z"
   },
   {
    "duration": 6423,
    "start_time": "2022-04-09T11:05:46.593Z"
   },
   {
    "duration": 774,
    "start_time": "2022-04-09T11:05:53.019Z"
   },
   {
    "duration": 113,
    "start_time": "2022-04-09T11:05:53.795Z"
   },
   {
    "duration": 3694,
    "start_time": "2022-04-09T11:05:53.910Z"
   },
   {
    "duration": 4,
    "start_time": "2022-04-09T11:05:57.608Z"
   },
   {
    "duration": 2413,
    "start_time": "2022-04-09T11:05:57.614Z"
   },
   {
    "duration": 1111,
    "start_time": "2022-04-09T11:06:00.085Z"
   },
   {
    "duration": 186,
    "start_time": "2022-04-09T11:06:01.198Z"
   },
   {
    "duration": 113,
    "start_time": "2022-04-09T11:06:01.387Z"
   },
   {
    "duration": 1911,
    "start_time": "2022-04-09T11:06:01.503Z"
   },
   {
    "duration": 605,
    "start_time": "2022-04-09T11:06:03.484Z"
   },
   {
    "duration": 5022,
    "start_time": "2022-04-09T11:06:04.092Z"
   },
   {
    "duration": 5928,
    "start_time": "2022-04-09T11:06:09.185Z"
   },
   {
    "duration": 1369,
    "start_time": "2022-04-09T11:06:15.183Z"
   },
   {
    "duration": 1234,
    "start_time": "2022-04-09T11:06:16.555Z"
   },
   {
    "duration": 2311,
    "start_time": "2022-04-09T11:06:17.791Z"
   },
   {
    "duration": 4401,
    "start_time": "2022-04-09T11:06:20.105Z"
   },
   {
    "duration": 1397,
    "start_time": "2022-04-09T11:06:24.509Z"
   },
   {
    "duration": 1213,
    "start_time": "2022-04-09T11:06:25.908Z"
   },
   {
    "duration": 2092,
    "start_time": "2022-04-09T11:06:27.124Z"
   },
   {
    "duration": 916,
    "start_time": "2022-04-09T11:20:41.947Z"
   },
   {
    "duration": 768,
    "start_time": "2022-04-09T11:20:51.851Z"
   },
   {
    "duration": 791,
    "start_time": "2022-04-09T11:23:37.043Z"
   },
   {
    "duration": 1576,
    "start_time": "2022-04-09T11:24:07.033Z"
   },
   {
    "duration": 20149,
    "start_time": "2022-04-09T11:29:06.979Z"
   },
   {
    "duration": 11683,
    "start_time": "2022-04-09T11:29:27.131Z"
   },
   {
    "duration": 908,
    "start_time": "2022-04-09T11:29:38.884Z"
   },
   {
    "duration": 190,
    "start_time": "2022-04-09T11:29:39.796Z"
   },
   {
    "duration": 1922,
    "start_time": "2022-04-09T11:29:39.990Z"
   },
   {
    "duration": 6980,
    "start_time": "2022-04-09T11:29:41.914Z"
   },
   {
    "duration": 789,
    "start_time": "2022-04-09T11:29:48.897Z"
   },
   {
    "duration": 119,
    "start_time": "2022-04-09T11:29:49.688Z"
   },
   {
    "duration": 3987,
    "start_time": "2022-04-09T11:29:49.809Z"
   },
   {
    "duration": 4,
    "start_time": "2022-04-09T11:29:53.798Z"
   },
   {
    "duration": 3323,
    "start_time": "2022-04-09T11:29:53.805Z"
   },
   {
    "duration": 859,
    "start_time": "2022-04-09T11:29:57.130Z"
   },
   {
    "duration": 115,
    "start_time": "2022-04-09T11:29:57.992Z"
   },
   {
    "duration": 103,
    "start_time": "2022-04-09T11:29:58.111Z"
   },
   {
    "duration": 1782,
    "start_time": "2022-04-09T11:29:58.218Z"
   },
   {
    "duration": 684,
    "start_time": "2022-04-09T11:30:00.003Z"
   },
   {
    "duration": 4596,
    "start_time": "2022-04-09T11:30:00.690Z"
   },
   {
    "duration": 5921,
    "start_time": "2022-04-09T11:30:05.288Z"
   },
   {
    "duration": 1376,
    "start_time": "2022-04-09T11:30:11.212Z"
   },
   {
    "duration": 1598,
    "start_time": "2022-04-09T11:30:12.591Z"
   },
   {
    "duration": 2613,
    "start_time": "2022-04-09T11:30:14.192Z"
   },
   {
    "duration": 4114,
    "start_time": "2022-04-09T11:30:16.808Z"
   },
   {
    "duration": 1208,
    "start_time": "2022-04-09T11:30:20.925Z"
   },
   {
    "duration": 1253,
    "start_time": "2022-04-09T11:30:22.135Z"
   },
   {
    "duration": 2193,
    "start_time": "2022-04-09T11:30:23.391Z"
   },
   {
    "duration": 19082,
    "start_time": "2022-04-09T19:03:49.545Z"
   },
   {
    "duration": 11135,
    "start_time": "2022-04-09T19:04:08.683Z"
   },
   {
    "duration": 925,
    "start_time": "2022-04-09T19:04:19.885Z"
   },
   {
    "duration": 183,
    "start_time": "2022-04-09T19:04:20.812Z"
   },
   {
    "duration": 1721,
    "start_time": "2022-04-09T19:04:20.998Z"
   },
   {
    "duration": 6663,
    "start_time": "2022-04-09T19:04:22.721Z"
   },
   {
    "duration": 616,
    "start_time": "2022-04-09T19:04:29.388Z"
   },
   {
    "duration": 177,
    "start_time": "2022-04-09T19:04:30.007Z"
   },
   {
    "duration": 4817,
    "start_time": "2022-04-09T19:04:30.186Z"
   },
   {
    "duration": 4,
    "start_time": "2022-04-09T19:04:35.005Z"
   },
   {
    "duration": 2674,
    "start_time": "2022-04-09T19:04:35.011Z"
   },
   {
    "duration": 922,
    "start_time": "2022-04-09T19:04:37.688Z"
   },
   {
    "duration": 185,
    "start_time": "2022-04-09T19:04:38.613Z"
   },
   {
    "duration": 104,
    "start_time": "2022-04-09T19:04:38.802Z"
   },
   {
    "duration": 2008,
    "start_time": "2022-04-09T19:04:38.909Z"
   },
   {
    "duration": 782,
    "start_time": "2022-04-09T19:04:40.920Z"
   },
   {
    "duration": 4808,
    "start_time": "2022-04-09T19:04:41.704Z"
   },
   {
    "duration": 5704,
    "start_time": "2022-04-09T19:04:46.514Z"
   },
   {
    "duration": 1367,
    "start_time": "2022-04-09T19:04:52.221Z"
   },
   {
    "duration": 1125,
    "start_time": "2022-04-09T19:04:53.590Z"
   },
   {
    "duration": 2387,
    "start_time": "2022-04-09T19:04:54.717Z"
   },
   {
    "duration": 3987,
    "start_time": "2022-04-09T19:04:57.107Z"
   },
   {
    "duration": 1322,
    "start_time": "2022-04-09T19:05:01.097Z"
   },
   {
    "duration": 1061,
    "start_time": "2022-04-09T19:05:02.423Z"
   },
   {
    "duration": 2018,
    "start_time": "2022-04-09T19:05:03.487Z"
   },
   {
    "duration": 19423,
    "start_time": "2022-04-09T19:21:57.099Z"
   },
   {
    "duration": 11773,
    "start_time": "2022-04-09T19:22:16.526Z"
   },
   {
    "duration": 991,
    "start_time": "2022-04-09T19:22:28.302Z"
   },
   {
    "duration": 212,
    "start_time": "2022-04-09T19:22:29.297Z"
   },
   {
    "duration": 1778,
    "start_time": "2022-04-09T19:22:29.512Z"
   },
   {
    "duration": 6798,
    "start_time": "2022-04-09T19:22:31.292Z"
   },
   {
    "duration": 605,
    "start_time": "2022-04-09T19:22:38.093Z"
   },
   {
    "duration": 117,
    "start_time": "2022-04-09T19:22:38.701Z"
   },
   {
    "duration": 3579,
    "start_time": "2022-04-09T19:22:38.821Z"
   },
   {
    "duration": 4,
    "start_time": "2022-04-09T19:22:42.404Z"
   },
   {
    "duration": 2291,
    "start_time": "2022-04-09T19:22:42.410Z"
   },
   {
    "duration": 1107,
    "start_time": "2022-04-09T19:22:44.704Z"
   },
   {
    "duration": 176,
    "start_time": "2022-04-09T19:22:45.813Z"
   },
   {
    "duration": 99,
    "start_time": "2022-04-09T19:22:45.992Z"
   },
   {
    "duration": 1995,
    "start_time": "2022-04-09T19:22:46.093Z"
   },
   {
    "duration": 700,
    "start_time": "2022-04-09T19:22:48.090Z"
   },
   {
    "duration": 4307,
    "start_time": "2022-04-09T19:22:48.793Z"
   },
   {
    "duration": 6003,
    "start_time": "2022-04-09T19:22:53.103Z"
   },
   {
    "duration": 2104,
    "start_time": "2022-04-09T19:22:59.109Z"
   },
   {
    "duration": 2803,
    "start_time": "2022-04-09T19:23:01.283Z"
   },
   {
    "duration": 2514,
    "start_time": "2022-04-09T19:23:04.088Z"
   },
   {
    "duration": 4319,
    "start_time": "2022-04-09T19:23:06.604Z"
   },
   {
    "duration": 1359,
    "start_time": "2022-04-09T19:23:10.925Z"
   },
   {
    "duration": 1199,
    "start_time": "2022-04-09T19:23:12.287Z"
   },
   {
    "duration": 2030,
    "start_time": "2022-04-09T19:23:13.489Z"
   },
   {
    "duration": 3057,
    "start_time": "2022-04-09T19:43:57.228Z"
   },
   {
    "duration": 1898,
    "start_time": "2022-04-09T19:44:06.312Z"
   },
   {
    "duration": 145,
    "start_time": "2022-04-09T19:44:48.855Z"
   },
   {
    "duration": 7,
    "start_time": "2022-04-09T19:44:53.410Z"
   },
   {
    "duration": 317,
    "start_time": "2022-04-09T19:53:07.487Z"
   },
   {
    "duration": 11,
    "start_time": "2022-04-09T19:53:18.715Z"
   },
   {
    "duration": 12,
    "start_time": "2022-04-09T19:53:25.811Z"
   },
   {
    "duration": 11,
    "start_time": "2022-04-09T19:53:31.650Z"
   },
   {
    "duration": 124,
    "start_time": "2022-04-09T20:05:09.184Z"
   },
   {
    "duration": 345,
    "start_time": "2022-04-09T20:12:44.183Z"
   },
   {
    "duration": 205,
    "start_time": "2022-04-09T20:12:55.878Z"
   },
   {
    "duration": 474,
    "start_time": "2022-04-09T20:16:01.120Z"
   },
   {
    "duration": 11,
    "start_time": "2022-04-09T20:26:10.653Z"
   },
   {
    "duration": 8,
    "start_time": "2022-04-09T20:26:19.263Z"
   },
   {
    "duration": 6,
    "start_time": "2022-04-09T20:28:23.713Z"
   },
   {
    "duration": 13,
    "start_time": "2022-04-09T20:28:44.464Z"
   },
   {
    "duration": 6,
    "start_time": "2022-04-09T20:29:14.274Z"
   },
   {
    "duration": 12,
    "start_time": "2022-04-09T20:36:22.171Z"
   },
   {
    "duration": 19,
    "start_time": "2022-04-09T20:36:35.981Z"
   },
   {
    "duration": 7,
    "start_time": "2022-04-09T20:36:39.082Z"
   },
   {
    "duration": 3521,
    "start_time": "2022-04-09T20:42:04.889Z"
   },
   {
    "duration": 7,
    "start_time": "2022-04-09T20:42:13.293Z"
   },
   {
    "duration": 9,
    "start_time": "2022-04-09T20:42:20.877Z"
   },
   {
    "duration": 2936,
    "start_time": "2022-04-09T20:43:00.251Z"
   },
   {
    "duration": 8,
    "start_time": "2022-04-09T20:43:09.156Z"
   },
   {
    "duration": 3399,
    "start_time": "2022-04-09T20:43:24.099Z"
   },
   {
    "duration": 8,
    "start_time": "2022-04-09T20:43:31.995Z"
   },
   {
    "duration": 2983,
    "start_time": "2022-04-09T20:43:39.717Z"
   },
   {
    "duration": 8,
    "start_time": "2022-04-09T20:43:43.141Z"
   },
   {
    "duration": 2719,
    "start_time": "2022-04-09T20:43:50.294Z"
   },
   {
    "duration": 8,
    "start_time": "2022-04-09T20:43:53.468Z"
   },
   {
    "duration": 15699,
    "start_time": "2022-04-10T13:29:08.929Z"
   },
   {
    "duration": 725,
    "start_time": "2022-04-10T13:29:39.692Z"
   },
   {
    "duration": 564,
    "start_time": "2022-04-10T13:29:40.419Z"
   },
   {
    "duration": 36,
    "start_time": "2022-04-10T13:29:40.985Z"
   },
   {
    "duration": 3429,
    "start_time": "2022-04-10T13:29:41.081Z"
   },
   {
    "duration": 2094,
    "start_time": "2022-04-10T13:31:24.526Z"
   },
   {
    "duration": 1249,
    "start_time": "2022-04-10T13:31:39.249Z"
   },
   {
    "duration": 2754,
    "start_time": "2022-04-10T13:32:09.929Z"
   },
   {
    "duration": 1187,
    "start_time": "2022-04-10T13:32:37.709Z"
   },
   {
    "duration": 3288,
    "start_time": "2022-04-10T13:32:56.632Z"
   },
   {
    "duration": 324,
    "start_time": "2022-04-10T13:32:59.981Z"
   },
   {
    "duration": 28,
    "start_time": "2022-04-10T13:33:01.286Z"
   },
   {
    "duration": 2275,
    "start_time": "2022-04-10T13:33:04.630Z"
   },
   {
    "duration": 4,
    "start_time": "2022-04-10T13:33:06.908Z"
   },
   {
    "duration": 1373,
    "start_time": "2022-04-10T13:33:06.913Z"
   },
   {
    "duration": 290,
    "start_time": "2022-04-10T13:33:51.419Z"
   },
   {
    "duration": 16917,
    "start_time": "2022-04-10T13:34:54.904Z"
   },
   {
    "duration": 7783,
    "start_time": "2022-04-10T13:35:11.824Z"
   },
   {
    "duration": 696,
    "start_time": "2022-04-10T13:35:19.608Z"
   },
   {
    "duration": 105,
    "start_time": "2022-04-10T13:35:20.306Z"
   },
   {
    "duration": 3897,
    "start_time": "2022-04-10T13:35:20.412Z"
   },
   {
    "duration": 3789,
    "start_time": "2022-04-10T13:35:24.310Z"
   },
   {
    "duration": 388,
    "start_time": "2022-04-10T13:35:28.101Z"
   },
   {
    "duration": 27,
    "start_time": "2022-04-10T13:35:28.491Z"
   },
   {
    "duration": 2696,
    "start_time": "2022-04-10T13:35:28.520Z"
   },
   {
    "duration": 3,
    "start_time": "2022-04-10T13:35:31.219Z"
   },
   {
    "duration": 1624,
    "start_time": "2022-04-10T13:35:31.223Z"
   },
   {
    "duration": 538,
    "start_time": "2022-04-10T13:35:32.849Z"
   },
   {
    "duration": 101,
    "start_time": "2022-04-10T13:35:33.389Z"
   },
   {
    "duration": 101,
    "start_time": "2022-04-10T13:35:33.492Z"
   },
   {
    "duration": 1214,
    "start_time": "2022-04-10T13:35:33.594Z"
   },
   {
    "duration": 393,
    "start_time": "2022-04-10T13:35:34.810Z"
   },
   {
    "duration": 3477,
    "start_time": "2022-04-10T13:35:35.205Z"
   },
   {
    "duration": 5301,
    "start_time": "2022-04-10T13:35:38.684Z"
   },
   {
    "duration": 877,
    "start_time": "2022-04-10T13:35:43.987Z"
   },
   {
    "duration": 916,
    "start_time": "2022-04-10T13:35:44.866Z"
   },
   {
    "duration": 2110,
    "start_time": "2022-04-10T13:35:45.784Z"
   },
   {
    "duration": 187,
    "start_time": "2022-04-10T13:35:47.896Z"
   },
   {
    "duration": 0,
    "start_time": "2022-04-10T13:35:48.085Z"
   },
   {
    "duration": 0,
    "start_time": "2022-04-10T13:35:48.086Z"
   },
   {
    "duration": 0,
    "start_time": "2022-04-10T13:35:48.087Z"
   },
   {
    "duration": 0,
    "start_time": "2022-04-10T13:35:48.089Z"
   },
   {
    "duration": 0,
    "start_time": "2022-04-10T13:35:48.090Z"
   },
   {
    "duration": 10,
    "start_time": "2022-04-10T13:39:04.380Z"
   },
   {
    "duration": 11,
    "start_time": "2022-04-10T13:39:13.629Z"
   },
   {
    "duration": 6,
    "start_time": "2022-04-10T13:39:20.050Z"
   },
   {
    "duration": 9,
    "start_time": "2022-04-10T13:39:36.054Z"
   },
   {
    "duration": 3,
    "start_time": "2022-04-10T13:41:36.293Z"
   },
   {
    "duration": 5,
    "start_time": "2022-04-10T13:42:32.261Z"
   },
   {
    "duration": 2,
    "start_time": "2022-04-10T13:42:50.683Z"
   },
   {
    "duration": 2,
    "start_time": "2022-04-10T13:42:51.028Z"
   },
   {
    "duration": 4,
    "start_time": "2022-04-10T13:42:51.742Z"
   },
   {
    "duration": 2813,
    "start_time": "2022-04-10T13:43:11.173Z"
   },
   {
    "duration": 741,
    "start_time": "2022-04-10T13:43:13.988Z"
   },
   {
    "duration": 853,
    "start_time": "2022-04-10T13:43:14.731Z"
   },
   {
    "duration": 1600,
    "start_time": "2022-04-10T13:43:15.586Z"
   },
   {
    "duration": 605,
    "start_time": "2022-04-10T13:43:17.188Z"
   },
   {
    "duration": 4,
    "start_time": "2022-04-10T13:43:34.030Z"
   },
   {
    "duration": 4,
    "start_time": "2022-04-10T13:43:37.806Z"
   },
   {
    "duration": 15877,
    "start_time": "2022-04-10T14:19:28.937Z"
   },
   {
    "duration": 8094,
    "start_time": "2022-04-10T14:19:44.817Z"
   },
   {
    "duration": 775,
    "start_time": "2022-04-10T14:19:52.912Z"
   },
   {
    "duration": 99,
    "start_time": "2022-04-10T14:19:53.689Z"
   },
   {
    "duration": 4212,
    "start_time": "2022-04-10T14:19:53.790Z"
   },
   {
    "duration": 4085,
    "start_time": "2022-04-10T14:19:58.004Z"
   },
   {
    "duration": 414,
    "start_time": "2022-04-10T14:20:02.091Z"
   },
   {
    "duration": 89,
    "start_time": "2022-04-10T14:20:02.506Z"
   },
   {
    "duration": 2588,
    "start_time": "2022-04-10T14:20:02.598Z"
   },
   {
    "duration": 3,
    "start_time": "2022-04-10T14:20:05.189Z"
   },
   {
    "duration": 1589,
    "start_time": "2022-04-10T14:20:05.193Z"
   },
   {
    "duration": 618,
    "start_time": "2022-04-10T14:20:06.783Z"
   },
   {
    "duration": 92,
    "start_time": "2022-04-10T14:20:07.403Z"
   },
   {
    "duration": 24,
    "start_time": "2022-04-10T14:20:07.497Z"
   },
   {
    "duration": 1168,
    "start_time": "2022-04-10T14:20:07.523Z"
   },
   {
    "duration": 401,
    "start_time": "2022-04-10T14:20:08.693Z"
   },
   {
    "duration": 2495,
    "start_time": "2022-04-10T14:20:09.096Z"
   },
   {
    "duration": 4092,
    "start_time": "2022-04-10T14:20:11.592Z"
   },
   {
    "duration": 844,
    "start_time": "2022-04-10T14:20:15.686Z"
   },
   {
    "duration": 2690,
    "start_time": "2022-04-10T14:20:16.532Z"
   },
   {
    "duration": 1894,
    "start_time": "2022-04-10T14:20:19.224Z"
   },
   {
    "duration": 7,
    "start_time": "2022-04-10T14:20:21.120Z"
   },
   {
    "duration": 4761,
    "start_time": "2022-04-10T14:20:21.129Z"
   },
   {
    "duration": 751,
    "start_time": "2022-04-10T14:20:25.893Z"
   },
   {
    "duration": 648,
    "start_time": "2022-04-10T14:20:26.645Z"
   },
   {
    "duration": 1388,
    "start_time": "2022-04-10T14:20:27.294Z"
   },
   {
    "duration": 5,
    "start_time": "2022-04-10T14:20:28.683Z"
   },
   {
    "duration": 311,
    "start_time": "2022-04-10T14:20:28.690Z"
   },
   {
    "duration": 6,
    "start_time": "2022-04-10T14:22:14.844Z"
   },
   {
    "duration": 87,
    "start_time": "2022-04-10T14:22:29.406Z"
   },
   {
    "duration": 16072,
    "start_time": "2022-04-10T14:23:48.513Z"
   },
   {
    "duration": 7408,
    "start_time": "2022-04-10T14:24:04.588Z"
   },
   {
    "duration": 795,
    "start_time": "2022-04-10T14:24:11.997Z"
   },
   {
    "duration": 101,
    "start_time": "2022-04-10T14:24:12.795Z"
   },
   {
    "duration": 4524,
    "start_time": "2022-04-10T14:24:12.898Z"
   },
   {
    "duration": 3704,
    "start_time": "2022-04-10T14:24:17.481Z"
   },
   {
    "duration": 327,
    "start_time": "2022-04-10T14:24:21.186Z"
   },
   {
    "duration": 27,
    "start_time": "2022-04-10T14:24:21.581Z"
   },
   {
    "duration": 2808,
    "start_time": "2022-04-10T14:24:21.610Z"
   },
   {
    "duration": 60,
    "start_time": "2022-04-10T14:24:24.421Z"
   },
   {
    "duration": 1556,
    "start_time": "2022-04-10T14:24:24.483Z"
   },
   {
    "duration": 511,
    "start_time": "2022-04-10T14:24:26.082Z"
   },
   {
    "duration": 99,
    "start_time": "2022-04-10T14:24:26.595Z"
   },
   {
    "duration": 90,
    "start_time": "2022-04-10T14:24:26.696Z"
   },
   {
    "duration": 1093,
    "start_time": "2022-04-10T14:24:26.787Z"
   },
   {
    "duration": 402,
    "start_time": "2022-04-10T14:24:27.882Z"
   },
   {
    "duration": 3012,
    "start_time": "2022-04-10T14:24:28.286Z"
   },
   {
    "duration": 3898,
    "start_time": "2022-04-10T14:24:31.300Z"
   },
   {
    "duration": 882,
    "start_time": "2022-04-10T14:24:35.199Z"
   },
   {
    "duration": 915,
    "start_time": "2022-04-10T14:24:36.083Z"
   },
   {
    "duration": 3643,
    "start_time": "2022-04-10T14:24:37.000Z"
   },
   {
    "duration": 40,
    "start_time": "2022-04-10T14:24:40.645Z"
   },
   {
    "duration": 2601,
    "start_time": "2022-04-10T14:24:40.686Z"
   },
   {
    "duration": 746,
    "start_time": "2022-04-10T14:24:43.288Z"
   },
   {
    "duration": 688,
    "start_time": "2022-04-10T14:24:44.036Z"
   },
   {
    "duration": 1469,
    "start_time": "2022-04-10T14:24:44.726Z"
   },
   {
    "duration": 5,
    "start_time": "2022-04-10T14:24:46.197Z"
   },
   {
    "duration": 2009,
    "start_time": "2022-04-10T14:24:46.205Z"
   },
   {
    "duration": 4,
    "start_time": "2022-04-10T14:24:48.215Z"
   },
   {
    "duration": 498,
    "start_time": "2022-04-10T14:24:48.220Z"
   },
   {
    "duration": 3,
    "start_time": "2022-04-10T14:25:28.317Z"
   },
   {
    "duration": 15696,
    "start_time": "2022-04-10T14:26:22.110Z"
   },
   {
    "duration": 7687,
    "start_time": "2022-04-10T14:26:37.809Z"
   },
   {
    "duration": 600,
    "start_time": "2022-04-10T14:26:45.497Z"
   },
   {
    "duration": 110,
    "start_time": "2022-04-10T14:26:46.100Z"
   },
   {
    "duration": 4796,
    "start_time": "2022-04-10T14:26:46.212Z"
   },
   {
    "duration": 3690,
    "start_time": "2022-04-10T14:26:51.011Z"
   },
   {
    "duration": 387,
    "start_time": "2022-04-10T14:26:54.703Z"
   },
   {
    "duration": 27,
    "start_time": "2022-04-10T14:26:55.091Z"
   },
   {
    "duration": 2306,
    "start_time": "2022-04-10T14:26:55.181Z"
   },
   {
    "duration": 3,
    "start_time": "2022-04-10T14:26:57.490Z"
   },
   {
    "duration": 1687,
    "start_time": "2022-04-10T14:26:57.495Z"
   },
   {
    "duration": 548,
    "start_time": "2022-04-10T14:26:59.183Z"
   },
   {
    "duration": 83,
    "start_time": "2022-04-10T14:26:59.733Z"
   },
   {
    "duration": 90,
    "start_time": "2022-04-10T14:26:59.818Z"
   },
   {
    "duration": 1189,
    "start_time": "2022-04-10T14:26:59.910Z"
   },
   {
    "duration": 486,
    "start_time": "2022-04-10T14:27:01.101Z"
   },
   {
    "duration": 3493,
    "start_time": "2022-04-10T14:27:01.588Z"
   },
   {
    "duration": 4422,
    "start_time": "2022-04-10T14:27:05.083Z"
   },
   {
    "duration": 995,
    "start_time": "2022-04-10T14:27:09.507Z"
   },
   {
    "duration": 1092,
    "start_time": "2022-04-10T14:27:10.504Z"
   },
   {
    "duration": 2098,
    "start_time": "2022-04-10T14:27:11.598Z"
   },
   {
    "duration": 6,
    "start_time": "2022-04-10T14:27:13.698Z"
   },
   {
    "duration": 2978,
    "start_time": "2022-04-10T14:27:13.707Z"
   },
   {
    "duration": 830,
    "start_time": "2022-04-10T14:27:16.686Z"
   },
   {
    "duration": 992,
    "start_time": "2022-04-10T14:27:17.517Z"
   },
   {
    "duration": 1471,
    "start_time": "2022-04-10T14:27:18.511Z"
   },
   {
    "duration": 5,
    "start_time": "2022-04-10T14:27:19.984Z"
   },
   {
    "duration": 1812,
    "start_time": "2022-04-10T14:27:19.992Z"
   },
   {
    "duration": 4,
    "start_time": "2022-04-10T14:27:21.806Z"
   },
   {
    "duration": 393,
    "start_time": "2022-04-10T14:27:21.812Z"
   },
   {
    "duration": 15301,
    "start_time": "2022-04-10T14:28:17.893Z"
   },
   {
    "duration": 7304,
    "start_time": "2022-04-10T14:28:33.197Z"
   },
   {
    "duration": 685,
    "start_time": "2022-04-10T14:28:40.503Z"
   },
   {
    "duration": 106,
    "start_time": "2022-04-10T14:28:41.191Z"
   },
   {
    "duration": 3682,
    "start_time": "2022-04-10T14:28:41.299Z"
   },
   {
    "duration": 3818,
    "start_time": "2022-04-10T14:28:44.983Z"
   },
   {
    "duration": 398,
    "start_time": "2022-04-10T14:28:48.803Z"
   },
   {
    "duration": 83,
    "start_time": "2022-04-10T14:28:49.203Z"
   },
   {
    "duration": 2788,
    "start_time": "2022-04-10T14:28:49.287Z"
   },
   {
    "duration": 3,
    "start_time": "2022-04-10T14:28:52.077Z"
   },
   {
    "duration": 1613,
    "start_time": "2022-04-10T14:28:52.082Z"
   },
   {
    "duration": 794,
    "start_time": "2022-04-10T14:28:53.696Z"
   },
   {
    "duration": 120,
    "start_time": "2022-04-10T14:28:54.493Z"
   },
   {
    "duration": 87,
    "start_time": "2022-04-10T14:28:54.614Z"
   },
   {
    "duration": 1294,
    "start_time": "2022-04-10T14:28:54.703Z"
   },
   {
    "duration": 409,
    "start_time": "2022-04-10T14:28:55.998Z"
   },
   {
    "duration": 3679,
    "start_time": "2022-04-10T14:28:56.409Z"
   },
   {
    "duration": 5015,
    "start_time": "2022-04-10T14:29:00.089Z"
   },
   {
    "duration": 981,
    "start_time": "2022-04-10T14:29:05.106Z"
   },
   {
    "duration": 1200,
    "start_time": "2022-04-10T14:29:06.089Z"
   },
   {
    "duration": 2043,
    "start_time": "2022-04-10T14:29:07.291Z"
   },
   {
    "duration": 6,
    "start_time": "2022-04-10T14:29:09.336Z"
   },
   {
    "duration": 2951,
    "start_time": "2022-04-10T14:29:09.344Z"
   },
   {
    "duration": 933,
    "start_time": "2022-04-10T14:29:12.297Z"
   },
   {
    "duration": 1091,
    "start_time": "2022-04-10T14:29:13.232Z"
   },
   {
    "duration": 1417,
    "start_time": "2022-04-10T14:29:14.381Z"
   },
   {
    "duration": 5,
    "start_time": "2022-04-10T14:29:15.800Z"
   },
   {
    "duration": 697,
    "start_time": "2022-04-10T14:29:15.808Z"
   },
   {
    "duration": 4,
    "start_time": "2022-04-10T14:29:16.507Z"
   },
   {
    "duration": 519,
    "start_time": "2022-04-10T14:29:16.512Z"
   },
   {
    "duration": 251,
    "start_time": "2022-04-10T14:30:12.747Z"
   },
   {
    "duration": 5,
    "start_time": "2022-04-10T14:33:54.639Z"
   },
   {
    "duration": 409,
    "start_time": "2022-04-10T14:35:02.559Z"
   },
   {
    "duration": 8,
    "start_time": "2022-04-10T14:35:38.173Z"
   },
   {
    "duration": 7,
    "start_time": "2022-04-10T14:36:00.056Z"
   },
   {
    "duration": 8,
    "start_time": "2022-04-10T14:37:28.249Z"
   },
   {
    "duration": 8,
    "start_time": "2022-04-10T14:37:44.825Z"
   },
   {
    "duration": 7,
    "start_time": "2022-04-10T14:38:05.684Z"
   },
   {
    "duration": 7,
    "start_time": "2022-04-10T14:38:30.330Z"
   },
   {
    "duration": 11,
    "start_time": "2022-04-10T14:38:39.703Z"
   },
   {
    "duration": 7,
    "start_time": "2022-04-10T14:38:43.389Z"
   },
   {
    "duration": 9,
    "start_time": "2022-04-10T14:39:19.229Z"
   },
   {
    "duration": 7,
    "start_time": "2022-04-10T14:39:28.677Z"
   },
   {
    "duration": 99,
    "start_time": "2022-04-10T14:40:36.923Z"
   },
   {
    "duration": 290,
    "start_time": "2022-04-10T14:40:44.816Z"
   },
   {
    "duration": 8,
    "start_time": "2022-04-10T14:41:19.017Z"
   },
   {
    "duration": 8,
    "start_time": "2022-04-10T14:41:49.577Z"
   },
   {
    "duration": 5,
    "start_time": "2022-04-10T14:42:17.871Z"
   },
   {
    "duration": 3,
    "start_time": "2022-04-10T14:47:53.515Z"
   },
   {
    "duration": 3479,
    "start_time": "2022-04-10T14:48:09.335Z"
   },
   {
    "duration": 176,
    "start_time": "2022-04-10T14:48:21.354Z"
   },
   {
    "duration": 1013,
    "start_time": "2022-04-10T14:48:24.218Z"
   },
   {
    "duration": 10,
    "start_time": "2022-04-10T14:48:27.181Z"
   },
   {
    "duration": 6,
    "start_time": "2022-04-10T14:48:38.293Z"
   },
   {
    "duration": 1061,
    "start_time": "2022-04-10T14:52:18.350Z"
   },
   {
    "duration": 17,
    "start_time": "2022-04-10T14:52:41.858Z"
   },
   {
    "duration": 7,
    "start_time": "2022-04-10T14:53:12.251Z"
   },
   {
    "duration": 7,
    "start_time": "2022-04-10T14:53:26.626Z"
   },
   {
    "duration": 7,
    "start_time": "2022-04-10T14:53:32.654Z"
   },
   {
    "duration": 138,
    "start_time": "2022-04-10T14:54:02.267Z"
   },
   {
    "duration": 17281,
    "start_time": "2022-04-10T15:04:17.519Z"
   },
   {
    "duration": 7586,
    "start_time": "2022-04-10T15:04:34.803Z"
   },
   {
    "duration": 620,
    "start_time": "2022-04-10T15:04:42.391Z"
   },
   {
    "duration": 41,
    "start_time": "2022-04-10T15:04:43.082Z"
   },
   {
    "duration": 4116,
    "start_time": "2022-04-10T15:04:43.181Z"
   },
   {
    "duration": 3883,
    "start_time": "2022-04-10T15:04:47.299Z"
   },
   {
    "duration": 404,
    "start_time": "2022-04-10T15:04:51.184Z"
   },
   {
    "duration": 26,
    "start_time": "2022-04-10T15:04:51.590Z"
   },
   {
    "duration": 2465,
    "start_time": "2022-04-10T15:04:51.681Z"
   },
   {
    "duration": 3,
    "start_time": "2022-04-10T15:04:54.180Z"
   },
   {
    "duration": 1402,
    "start_time": "2022-04-10T15:04:54.185Z"
   },
   {
    "duration": 506,
    "start_time": "2022-04-10T15:04:55.589Z"
   },
   {
    "duration": 100,
    "start_time": "2022-04-10T15:04:56.097Z"
   },
   {
    "duration": 29,
    "start_time": "2022-04-10T15:04:56.198Z"
   },
   {
    "duration": 1222,
    "start_time": "2022-04-10T15:04:56.282Z"
   },
   {
    "duration": 538,
    "start_time": "2022-04-10T15:04:57.506Z"
   },
   {
    "duration": 2859,
    "start_time": "2022-04-10T15:04:58.045Z"
   },
   {
    "duration": 3692,
    "start_time": "2022-04-10T15:05:00.906Z"
   },
   {
    "duration": 881,
    "start_time": "2022-04-10T15:05:04.600Z"
   },
   {
    "duration": 922,
    "start_time": "2022-04-10T15:05:05.482Z"
   },
   {
    "duration": 2080,
    "start_time": "2022-04-10T15:05:06.406Z"
   },
   {
    "duration": 11,
    "start_time": "2022-04-10T15:05:08.488Z"
   },
   {
    "duration": 2518,
    "start_time": "2022-04-10T15:05:08.501Z"
   },
   {
    "duration": 801,
    "start_time": "2022-04-10T15:05:11.021Z"
   },
   {
    "duration": 668,
    "start_time": "2022-04-10T15:05:11.824Z"
   },
   {
    "duration": 1148,
    "start_time": "2022-04-10T15:05:12.493Z"
   },
   {
    "duration": 8,
    "start_time": "2022-04-10T15:05:13.681Z"
   },
   {
    "duration": 8,
    "start_time": "2022-04-10T15:05:13.692Z"
   },
   {
    "duration": 479,
    "start_time": "2022-04-10T15:05:13.702Z"
   },
   {
    "duration": 4,
    "start_time": "2022-04-10T15:05:14.183Z"
   },
   {
    "duration": 124,
    "start_time": "2022-04-10T15:05:14.188Z"
   },
   {
    "duration": 7,
    "start_time": "2022-04-10T15:06:13.847Z"
   },
   {
    "duration": 6,
    "start_time": "2022-04-10T15:06:20.751Z"
   },
   {
    "duration": 6,
    "start_time": "2022-04-10T15:07:27.386Z"
   },
   {
    "duration": 7,
    "start_time": "2022-04-10T15:07:34.142Z"
   },
   {
    "duration": 10,
    "start_time": "2022-04-10T15:08:31.110Z"
   },
   {
    "duration": 95,
    "start_time": "2022-04-10T15:08:50.375Z"
   },
   {
    "duration": 8,
    "start_time": "2022-04-10T15:09:23.261Z"
   },
   {
    "duration": 9,
    "start_time": "2022-04-10T15:09:36.481Z"
   },
   {
    "duration": 11,
    "start_time": "2022-04-10T15:10:05.034Z"
   },
   {
    "duration": 11,
    "start_time": "2022-04-10T15:10:10.477Z"
   },
   {
    "duration": 9,
    "start_time": "2022-04-10T15:10:17.025Z"
   },
   {
    "duration": 8,
    "start_time": "2022-04-10T15:10:42.010Z"
   },
   {
    "duration": 10,
    "start_time": "2022-04-10T15:10:49.898Z"
   },
   {
    "duration": 8,
    "start_time": "2022-04-10T15:11:17.335Z"
   },
   {
    "duration": 17,
    "start_time": "2022-04-10T15:11:46.783Z"
   },
   {
    "duration": 15,
    "start_time": "2022-04-10T15:11:53.936Z"
   },
   {
    "duration": 15,
    "start_time": "2022-04-10T15:12:08.463Z"
   },
   {
    "duration": 14,
    "start_time": "2022-04-10T15:12:17.447Z"
   },
   {
    "duration": 19,
    "start_time": "2022-04-10T15:12:36.644Z"
   },
   {
    "duration": 18,
    "start_time": "2022-04-10T15:12:55.648Z"
   },
   {
    "duration": 14,
    "start_time": "2022-04-10T15:12:59.080Z"
   },
   {
    "duration": 7,
    "start_time": "2022-04-10T15:13:28.035Z"
   },
   {
    "duration": 9,
    "start_time": "2022-04-10T15:13:32.404Z"
   },
   {
    "duration": 7,
    "start_time": "2022-04-10T15:13:38.856Z"
   },
   {
    "duration": 8,
    "start_time": "2022-04-10T15:13:42.326Z"
   },
   {
    "duration": 11,
    "start_time": "2022-04-10T15:13:45.945Z"
   },
   {
    "duration": 16012,
    "start_time": "2022-04-10T15:14:10.224Z"
   },
   {
    "duration": 7454,
    "start_time": "2022-04-10T15:14:26.238Z"
   },
   {
    "duration": 703,
    "start_time": "2022-04-10T15:14:33.694Z"
   },
   {
    "duration": 181,
    "start_time": "2022-04-10T15:14:34.400Z"
   },
   {
    "duration": 4599,
    "start_time": "2022-04-10T15:14:34.583Z"
   },
   {
    "duration": 10155,
    "start_time": "2022-04-10T15:14:39.183Z"
   },
   {
    "duration": 359,
    "start_time": "2022-04-10T15:14:49.339Z"
   },
   {
    "duration": 89,
    "start_time": "2022-04-10T15:14:49.699Z"
   },
   {
    "duration": 2628,
    "start_time": "2022-04-10T15:14:49.789Z"
   },
   {
    "duration": 3,
    "start_time": "2022-04-10T15:14:52.419Z"
   },
   {
    "duration": 1611,
    "start_time": "2022-04-10T15:14:52.424Z"
   },
   {
    "duration": 647,
    "start_time": "2022-04-10T15:14:54.037Z"
   },
   {
    "duration": 110,
    "start_time": "2022-04-10T15:14:54.686Z"
   },
   {
    "duration": 94,
    "start_time": "2022-04-10T15:14:54.798Z"
   },
   {
    "duration": 1189,
    "start_time": "2022-04-10T15:14:54.894Z"
   },
   {
    "duration": 401,
    "start_time": "2022-04-10T15:14:56.084Z"
   },
   {
    "duration": 3095,
    "start_time": "2022-04-10T15:14:56.488Z"
   },
   {
    "duration": 4831,
    "start_time": "2022-04-10T15:14:59.585Z"
   },
   {
    "duration": 996,
    "start_time": "2022-04-10T15:15:04.418Z"
   },
   {
    "duration": 789,
    "start_time": "2022-04-10T15:15:05.416Z"
   },
   {
    "duration": 1908,
    "start_time": "2022-04-10T15:15:06.206Z"
   },
   {
    "duration": 9,
    "start_time": "2022-04-10T15:15:08.115Z"
   },
   {
    "duration": 2607,
    "start_time": "2022-04-10T15:15:08.181Z"
   },
   {
    "duration": 795,
    "start_time": "2022-04-10T15:15:10.790Z"
   },
   {
    "duration": 736,
    "start_time": "2022-04-10T15:15:11.586Z"
   },
   {
    "duration": 2178,
    "start_time": "2022-04-10T15:15:12.323Z"
   },
   {
    "duration": 8,
    "start_time": "2022-04-10T15:15:14.503Z"
   },
   {
    "duration": 66,
    "start_time": "2022-04-10T15:15:14.515Z"
   },
   {
    "duration": 606,
    "start_time": "2022-04-10T15:15:14.583Z"
   },
   {
    "duration": 4,
    "start_time": "2022-04-10T15:15:15.190Z"
   },
   {
    "duration": 201,
    "start_time": "2022-04-10T15:15:15.196Z"
   },
   {
    "duration": 15689,
    "start_time": "2022-04-10T15:21:21.823Z"
   },
   {
    "duration": 7474,
    "start_time": "2022-04-10T15:21:37.515Z"
   },
   {
    "duration": 810,
    "start_time": "2022-04-10T15:21:44.991Z"
   },
   {
    "duration": 0,
    "start_time": "2022-04-10T15:21:45.803Z"
   },
   {
    "duration": 0,
    "start_time": "2022-04-10T15:21:45.804Z"
   },
   {
    "duration": 0,
    "start_time": "2022-04-10T15:21:45.806Z"
   },
   {
    "duration": 0,
    "start_time": "2022-04-10T15:21:45.807Z"
   },
   {
    "duration": 0,
    "start_time": "2022-04-10T15:21:45.808Z"
   },
   {
    "duration": 0,
    "start_time": "2022-04-10T15:21:45.810Z"
   },
   {
    "duration": 0,
    "start_time": "2022-04-10T15:21:45.811Z"
   },
   {
    "duration": 0,
    "start_time": "2022-04-10T15:21:45.814Z"
   },
   {
    "duration": 0,
    "start_time": "2022-04-10T15:21:45.815Z"
   },
   {
    "duration": 0,
    "start_time": "2022-04-10T15:21:45.881Z"
   },
   {
    "duration": 0,
    "start_time": "2022-04-10T15:21:45.882Z"
   },
   {
    "duration": 0,
    "start_time": "2022-04-10T15:21:45.883Z"
   },
   {
    "duration": 0,
    "start_time": "2022-04-10T15:21:45.884Z"
   },
   {
    "duration": 0,
    "start_time": "2022-04-10T15:21:45.885Z"
   },
   {
    "duration": 0,
    "start_time": "2022-04-10T15:21:45.886Z"
   },
   {
    "duration": 0,
    "start_time": "2022-04-10T15:21:45.887Z"
   },
   {
    "duration": 0,
    "start_time": "2022-04-10T15:21:45.888Z"
   },
   {
    "duration": 0,
    "start_time": "2022-04-10T15:21:45.889Z"
   },
   {
    "duration": 0,
    "start_time": "2022-04-10T15:21:45.890Z"
   },
   {
    "duration": 0,
    "start_time": "2022-04-10T15:21:45.891Z"
   },
   {
    "duration": 0,
    "start_time": "2022-04-10T15:21:45.892Z"
   },
   {
    "duration": 0,
    "start_time": "2022-04-10T15:21:45.892Z"
   },
   {
    "duration": 0,
    "start_time": "2022-04-10T15:21:45.893Z"
   },
   {
    "duration": 0,
    "start_time": "2022-04-10T15:21:45.894Z"
   },
   {
    "duration": 0,
    "start_time": "2022-04-10T15:21:45.896Z"
   },
   {
    "duration": 0,
    "start_time": "2022-04-10T15:21:45.897Z"
   },
   {
    "duration": 0,
    "start_time": "2022-04-10T15:21:45.898Z"
   },
   {
    "duration": 0,
    "start_time": "2022-04-10T15:21:45.900Z"
   },
   {
    "duration": 15942,
    "start_time": "2022-04-10T15:21:54.081Z"
   },
   {
    "duration": 7562,
    "start_time": "2022-04-10T15:22:10.026Z"
   },
   {
    "duration": 599,
    "start_time": "2022-04-10T15:22:17.590Z"
   },
   {
    "duration": 94,
    "start_time": "2022-04-10T15:22:18.193Z"
   },
   {
    "duration": 3921,
    "start_time": "2022-04-10T15:22:18.288Z"
   },
   {
    "duration": 3377,
    "start_time": "2022-04-10T15:22:22.211Z"
   },
   {
    "duration": 414,
    "start_time": "2022-04-10T15:22:25.590Z"
   },
   {
    "duration": 86,
    "start_time": "2022-04-10T15:22:26.006Z"
   },
   {
    "duration": 2501,
    "start_time": "2022-04-10T15:22:26.093Z"
   },
   {
    "duration": 4,
    "start_time": "2022-04-10T15:22:28.597Z"
   },
   {
    "duration": 1588,
    "start_time": "2022-04-10T15:22:28.602Z"
   },
   {
    "duration": 738,
    "start_time": "2022-04-10T15:22:30.191Z"
   },
   {
    "duration": 152,
    "start_time": "2022-04-10T15:22:30.931Z"
   },
   {
    "duration": 27,
    "start_time": "2022-04-10T15:22:31.085Z"
   },
   {
    "duration": 1297,
    "start_time": "2022-04-10T15:22:31.114Z"
   },
   {
    "duration": 313,
    "start_time": "2022-04-10T15:22:32.482Z"
   },
   {
    "duration": 2695,
    "start_time": "2022-04-10T15:22:32.797Z"
   },
   {
    "duration": 4513,
    "start_time": "2022-04-10T15:22:35.494Z"
   },
   {
    "duration": 1017,
    "start_time": "2022-04-10T15:22:40.008Z"
   },
   {
    "duration": 879,
    "start_time": "2022-04-10T15:22:41.027Z"
   },
   {
    "duration": 2131,
    "start_time": "2022-04-10T15:22:41.908Z"
   },
   {
    "duration": 9,
    "start_time": "2022-04-10T15:22:44.041Z"
   },
   {
    "duration": 2433,
    "start_time": "2022-04-10T15:22:44.052Z"
   },
   {
    "duration": 849,
    "start_time": "2022-04-10T15:22:46.487Z"
   },
   {
    "duration": 856,
    "start_time": "2022-04-10T15:22:47.338Z"
   },
   {
    "duration": 3094,
    "start_time": "2022-04-10T15:22:48.196Z"
   },
   {
    "duration": 8,
    "start_time": "2022-04-10T15:22:51.291Z"
   },
   {
    "duration": 8,
    "start_time": "2022-04-10T15:22:51.302Z"
   },
   {
    "duration": 771,
    "start_time": "2022-04-10T15:22:51.312Z"
   },
   {
    "duration": 3,
    "start_time": "2022-04-10T15:22:52.085Z"
   },
   {
    "duration": 513,
    "start_time": "2022-04-10T15:22:52.090Z"
   },
   {
    "duration": 1944,
    "start_time": "2022-04-10T17:13:06.106Z"
   }
  ],
  "colab": {
   "name": "PySparkSprint.ipynb",
   "provenance": []
  },
  "kernelspec": {
   "display_name": "Python 3 (ipykernel)",
   "language": "python",
   "name": "python3"
  },
  "language_info": {
   "codemirror_mode": {
    "name": "ipython",
    "version": 3
   },
   "file_extension": ".py",
   "mimetype": "text/x-python",
   "name": "python",
   "nbconvert_exporter": "python",
   "pygments_lexer": "ipython3",
   "version": "3.10.4"
  },
  "toc": {
   "base_numbering": 1,
   "nav_menu": {},
   "number_sections": true,
   "sideBar": true,
   "skip_h1_title": true,
   "title_cell": "Table of Contents",
   "title_sidebar": "Contents",
   "toc_cell": false,
   "toc_position": {},
   "toc_section_display": true,
   "toc_window_display": false
  }
 },
 "nbformat": 4,
 "nbformat_minor": 5
}
