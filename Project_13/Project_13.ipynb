{
 "cells": [
  {
   "cell_type": "markdown",
   "id": "4604f012",
   "metadata": {},
   "source": [
    "# Prediction of the star temperature"
   ]
  },
  {
   "cell_type": "markdown",
   "id": "a3bdd957",
   "metadata": {},
   "source": [
    "# Content\n",
    "\n",
    "1. [Project Description](#section_1)\n",
    "2. [Data import](#section_2)\n",
    "3. [Data preparation and analysis](#section_3)\n",
    "4. [Data Encoding](#section_4)\n",
    "5. [Neural networks building](#section_5)\n",
    "6. [Neural network tuning](#section_6)\n",
    "7. [General Connclusion](#section_7)"
   ]
  },
  {
   "cell_type": "markdown",
   "id": "33846b12",
   "metadata": {},
   "source": [
    "<a name ='section_2'></a>\n",
    "# Project Description"
   ]
  },
  {
   "attachments": {},
   "cell_type": "markdown",
   "id": "f05d5425",
   "metadata": {},
   "source": [
    "Astronomy company would like to define the temperature on the surface of the newly spotted stars. For that purpose it's required to predict the star temperature using machine learning and based on the previous data from the database of the stars.\n",
    "\n",
    "Main tasks are:\n",
    "- import and prepare data;\n",
    "- perform the exploratory analysis;\n",
    "- rescale the data, and split it on train and test samples;\n",
    "- build neural networks;\n",
    "- declare the function for training and prediction;\n",
    "- plot the comparison chart of actual and predicted star temperature;\n",
    "- perform the network tuning (using dropout, optimizers, quantity of layers, activation functions);\n",
    "- compare the models and select the best;\n",
    "- RMSE score on the best network shall be 4500 or lower."
   ]
  },
  {
   "cell_type": "markdown",
   "id": "corresponding-armstrong",
   "metadata": {
    "ExecuteTime": {
     "end_time": "2022-05-05T04:58:05.692448Z",
     "start_time": "2022-05-05T04:58:05.688565Z"
    }
   },
   "source": [
    "<a name ='section_2'></a>\n",
    "# Data import"
   ]
  },
  {
   "cell_type": "code",
   "execution_count": 1,
   "id": "spectacular-folder",
   "metadata": {},
   "outputs": [],
   "source": [
    "import pandas as pd\n",
    "import numpy as np\n",
    "import matplotlib.pyplot as plt\n",
    "import torch \n",
    "import torch.nn as nn\n",
    "from sklearn.preprocessing import OneHotEncoder,StandardScaler , MinMaxScaler\n",
    "from sklearn.model_selection import train_test_split\n",
    "from sklearn.metrics import mean_squared_error"
   ]
  },
  {
   "cell_type": "code",
   "execution_count": 10,
   "id": "0d1b97e1",
   "metadata": {},
   "outputs": [],
   "source": [
    "df_stars = pd.read_csv('data_stars.csv', index_col = [0])"
   ]
  },
  {
   "cell_type": "markdown",
   "id": "220c40b9",
   "metadata": {},
   "source": [
    "<a name ='section_'></a>\n",
    "# Data preparation and analysis"
   ]
  },
  {
   "cell_type": "code",
   "execution_count": 11,
   "id": "bea3fa9d",
   "metadata": {
    "scrolled": true
   },
   "outputs": [
    {
     "data": {
      "text/html": [
       "<div>\n",
       "<style scoped>\n",
       "    .dataframe tbody tr th:only-of-type {\n",
       "        vertical-align: middle;\n",
       "    }\n",
       "\n",
       "    .dataframe tbody tr th {\n",
       "        vertical-align: top;\n",
       "    }\n",
       "\n",
       "    .dataframe thead th {\n",
       "        text-align: right;\n",
       "    }\n",
       "</style>\n",
       "<table border=\"1\" class=\"dataframe\">\n",
       "  <thead>\n",
       "    <tr style=\"text-align: right;\">\n",
       "      <th></th>\n",
       "      <th>Temperature (K)</th>\n",
       "      <th>Luminosity(L/Lo)</th>\n",
       "      <th>Radius(R/Ro)</th>\n",
       "      <th>Absolute magnitude(Mv)</th>\n",
       "      <th>Star type</th>\n",
       "      <th>Star color</th>\n",
       "    </tr>\n",
       "  </thead>\n",
       "  <tbody>\n",
       "    <tr>\n",
       "      <th>0</th>\n",
       "      <td>3068</td>\n",
       "      <td>0.002400</td>\n",
       "      <td>0.1700</td>\n",
       "      <td>16.12</td>\n",
       "      <td>0</td>\n",
       "      <td>red</td>\n",
       "    </tr>\n",
       "    <tr>\n",
       "      <th>1</th>\n",
       "      <td>3042</td>\n",
       "      <td>0.000500</td>\n",
       "      <td>0.1542</td>\n",
       "      <td>16.60</td>\n",
       "      <td>0</td>\n",
       "      <td>red</td>\n",
       "    </tr>\n",
       "    <tr>\n",
       "      <th>2</th>\n",
       "      <td>2600</td>\n",
       "      <td>0.000300</td>\n",
       "      <td>0.1020</td>\n",
       "      <td>18.70</td>\n",
       "      <td>0</td>\n",
       "      <td>red</td>\n",
       "    </tr>\n",
       "    <tr>\n",
       "      <th>3</th>\n",
       "      <td>2800</td>\n",
       "      <td>0.000200</td>\n",
       "      <td>0.1600</td>\n",
       "      <td>16.65</td>\n",
       "      <td>0</td>\n",
       "      <td>red</td>\n",
       "    </tr>\n",
       "    <tr>\n",
       "      <th>4</th>\n",
       "      <td>1939</td>\n",
       "      <td>0.000138</td>\n",
       "      <td>0.1030</td>\n",
       "      <td>20.06</td>\n",
       "      <td>0</td>\n",
       "      <td>red</td>\n",
       "    </tr>\n",
       "  </tbody>\n",
       "</table>\n",
       "</div>"
      ],
      "text/plain": [
       "   Temperature (K)  Luminosity(L/Lo)  Radius(R/Ro)  Absolute magnitude(Mv)  \\\n",
       "0             3068          0.002400        0.1700                   16.12   \n",
       "1             3042          0.000500        0.1542                   16.60   \n",
       "2             2600          0.000300        0.1020                   18.70   \n",
       "3             2800          0.000200        0.1600                   16.65   \n",
       "4             1939          0.000138        0.1030                   20.06   \n",
       "\n",
       "   Star type Star color  \n",
       "0          0        red  \n",
       "1          0        red  \n",
       "2          0        red  \n",
       "3          0        red  \n",
       "4          0        red  "
      ]
     },
     "execution_count": 11,
     "metadata": {},
     "output_type": "execute_result"
    }
   ],
   "source": [
    "# display 5 first rows\n",
    "df_stars.head()"
   ]
  },
  {
   "cell_type": "code",
   "execution_count": 13,
   "id": "91823398",
   "metadata": {},
   "outputs": [
    {
     "name": "stdout",
     "output_type": "stream",
     "text": [
      "<class 'pandas.core.frame.DataFrame'>\n",
      "Int64Index: 228 entries, 0 to 239\n",
      "Data columns (total 6 columns):\n",
      " #   Column                  Non-Null Count  Dtype  \n",
      "---  ------                  --------------  -----  \n",
      " 0   Temperature (K)         228 non-null    int64  \n",
      " 1   Luminosity(L/Lo)        228 non-null    float64\n",
      " 2   Radius(R/Ro)            228 non-null    float64\n",
      " 3   Absolute magnitude(Mv)  228 non-null    float64\n",
      " 4   Star type               228 non-null    int64  \n",
      " 5   Star color              228 non-null    object \n",
      "dtypes: float64(3), int64(2), object(1)\n",
      "memory usage: 12.5+ KB\n"
     ]
    }
   ],
   "source": [
    "# display info\n",
    "df_stars.info()"
   ]
  },
  {
   "cell_type": "code",
   "execution_count": 14,
   "id": "f611e347",
   "metadata": {},
   "outputs": [
    {
     "data": {
      "text/html": [
       "<div>\n",
       "<style scoped>\n",
       "    .dataframe tbody tr th:only-of-type {\n",
       "        vertical-align: middle;\n",
       "    }\n",
       "\n",
       "    .dataframe tbody tr th {\n",
       "        vertical-align: top;\n",
       "    }\n",
       "\n",
       "    .dataframe thead th {\n",
       "        text-align: right;\n",
       "    }\n",
       "</style>\n",
       "<table border=\"1\" class=\"dataframe\">\n",
       "  <thead>\n",
       "    <tr style=\"text-align: right;\">\n",
       "      <th></th>\n",
       "      <th>Temperature (K)</th>\n",
       "      <th>Luminosity(L/Lo)</th>\n",
       "      <th>Radius(R/Ro)</th>\n",
       "      <th>Absolute magnitude(Mv)</th>\n",
       "      <th>Star type</th>\n",
       "    </tr>\n",
       "  </thead>\n",
       "  <tbody>\n",
       "    <tr>\n",
       "      <th>count</th>\n",
       "      <td>228.000000</td>\n",
       "      <td>228.000000</td>\n",
       "      <td>228.000000</td>\n",
       "      <td>228.000000</td>\n",
       "      <td>228.000000</td>\n",
       "    </tr>\n",
       "    <tr>\n",
       "      <th>mean</th>\n",
       "      <td>10680.692982</td>\n",
       "      <td>107654.047662</td>\n",
       "      <td>236.607302</td>\n",
       "      <td>4.345969</td>\n",
       "      <td>2.473684</td>\n",
       "    </tr>\n",
       "    <tr>\n",
       "      <th>std</th>\n",
       "      <td>9742.810427</td>\n",
       "      <td>176985.132549</td>\n",
       "      <td>515.015990</td>\n",
       "      <td>10.664949</td>\n",
       "      <td>1.736930</td>\n",
       "    </tr>\n",
       "    <tr>\n",
       "      <th>min</th>\n",
       "      <td>1939.000000</td>\n",
       "      <td>0.000110</td>\n",
       "      <td>0.008400</td>\n",
       "      <td>-11.920000</td>\n",
       "      <td>0.000000</td>\n",
       "    </tr>\n",
       "    <tr>\n",
       "      <th>25%</th>\n",
       "      <td>3336.000000</td>\n",
       "      <td>0.000878</td>\n",
       "      <td>0.107500</td>\n",
       "      <td>-6.241250</td>\n",
       "      <td>1.000000</td>\n",
       "    </tr>\n",
       "    <tr>\n",
       "      <th>50%</th>\n",
       "      <td>5776.000000</td>\n",
       "      <td>0.030500</td>\n",
       "      <td>0.672500</td>\n",
       "      <td>10.260000</td>\n",
       "      <td>2.000000</td>\n",
       "    </tr>\n",
       "    <tr>\n",
       "      <th>75%</th>\n",
       "      <td>16417.500000</td>\n",
       "      <td>198650.000000</td>\n",
       "      <td>45.250000</td>\n",
       "      <td>13.830000</td>\n",
       "      <td>4.000000</td>\n",
       "    </tr>\n",
       "    <tr>\n",
       "      <th>max</th>\n",
       "      <td>40000.000000</td>\n",
       "      <td>849420.000000</td>\n",
       "      <td>1948.500000</td>\n",
       "      <td>20.060000</td>\n",
       "      <td>5.000000</td>\n",
       "    </tr>\n",
       "  </tbody>\n",
       "</table>\n",
       "</div>"
      ],
      "text/plain": [
       "       Temperature (K)  Luminosity(L/Lo)  Radius(R/Ro)  \\\n",
       "count       228.000000        228.000000    228.000000   \n",
       "mean      10680.692982     107654.047662    236.607302   \n",
       "std        9742.810427     176985.132549    515.015990   \n",
       "min        1939.000000          0.000110      0.008400   \n",
       "25%        3336.000000          0.000878      0.107500   \n",
       "50%        5776.000000          0.030500      0.672500   \n",
       "75%       16417.500000     198650.000000     45.250000   \n",
       "max       40000.000000     849420.000000   1948.500000   \n",
       "\n",
       "       Absolute magnitude(Mv)   Star type  \n",
       "count              228.000000  228.000000  \n",
       "mean                 4.345969    2.473684  \n",
       "std                 10.664949    1.736930  \n",
       "min                -11.920000    0.000000  \n",
       "25%                 -6.241250    1.000000  \n",
       "50%                 10.260000    2.000000  \n",
       "75%                 13.830000    4.000000  \n",
       "max                 20.060000    5.000000  "
      ]
     },
     "execution_count": 14,
     "metadata": {},
     "output_type": "execute_result"
    }
   ],
   "source": [
    "# display the data of numeric columns\n",
    "df_stars.describe()"
   ]
  },
  {
   "cell_type": "code",
   "execution_count": 15,
   "id": "8f942080",
   "metadata": {
    "scrolled": false
   },
   "outputs": [
    {
     "data": {
      "text/plain": [
       "array(['blue', 'blue white', 'red', 'white', 'white-yellow'], dtype=object)"
      ]
     },
     "execution_count": 15,
     "metadata": {},
     "output_type": "execute_result"
    }
   ],
   "source": [
    "# display the unique values of cuolumn star color\n",
    "df_stars['Star color'].sort_values().unique()"
   ]
  },
  {
   "cell_type": "code",
   "execution_count": 16,
   "id": "7d8de0d2",
   "metadata": {},
   "outputs": [],
   "source": [
    "# format unified\n",
    "df_stars['Star color'] = df_stars['Star color'].str.lower()"
   ]
  },
  {
   "cell_type": "code",
   "execution_count": 17,
   "id": "b3855b31",
   "metadata": {},
   "outputs": [],
   "source": [
    "# update of the similar colors name to one format\n",
    "def str_replace(color):\n",
    "    if color == 'blue ':\n",
    "        return 'blue'\n",
    "    elif color == 'blue white ' or color == 'blue-white':\n",
    "        return 'blue white'\n",
    "    elif color == 'yellow-white':\n",
    "        return 'white-yellow'\n",
    "    else:\n",
    "        return color"
   ]
  },
  {
   "cell_type": "code",
   "execution_count": 18,
   "id": "a8c59913",
   "metadata": {
    "scrolled": true
   },
   "outputs": [],
   "source": [
    "# deletion of implicit colors\n",
    "correct_color = []\n",
    "for i in df_stars['Star color']:\n",
    "    correct_color.append(str_replace(i))"
   ]
  },
  {
   "cell_type": "code",
   "execution_count": 19,
   "id": "a93d70a3",
   "metadata": {},
   "outputs": [],
   "source": [
    "df_stars['Star color'] = correct_color"
   ]
  },
  {
   "cell_type": "code",
   "execution_count": 20,
   "id": "26c08a9c",
   "metadata": {
    "scrolled": false
   },
   "outputs": [
    {
     "name": "stdout",
     "output_type": "stream",
     "text": [
      "Star color\n",
      "red             112\n",
      "blue             56\n",
      "blue white       41\n",
      "white            10\n",
      "white-yellow      9\n",
      "Name: Star type, dtype: int64\n"
     ]
    },
    {
     "data": {
      "text/plain": [
       "Text(0, 0.5, 'Quantity')"
      ]
     },
     "execution_count": 20,
     "metadata": {},
     "output_type": "execute_result"
    },
    {
     "data": {
      "image/png": "[encoded data removed]",
      "text/plain": [
       "<Figure size 432x288 with 1 Axes>"
      ]
     },
     "metadata": {
      "needs_background": "light"
     },
     "output_type": "display_data"
    }
   ],
   "source": [
    "# plotting the color destribution \n",
    "\n",
    "print(df_stars.groupby('Star color')['Star type'].count().sort_values(ascending=False))\n",
    "df_stars.groupby('Star color')['Star type'].count().sort_values(ascending=False).plot(kind = 'bar', title = 'Star colors')\n",
    "plt.xlabel('Star color')\n",
    "plt.ylabel('Quantity')"
   ]
  },
  {
   "cell_type": "code",
   "execution_count": 21,
   "id": "37ab1281",
   "metadata": {},
   "outputs": [],
   "source": [
    "# selection of stars with quantity of color less than 5\n",
    "star_colors = df_stars.groupby('Star color')['Star type'].count().sort_values(ascending=False).reset_index()\n",
    "star_colors = star_colors.rename(columns={\"Star type\": \"quantity\"})\n",
    "star_color_good = star_colors.query('quantity > 5')['Star color']"
   ]
  },
  {
   "cell_type": "code",
   "execution_count": 22,
   "id": "5d559b11",
   "metadata": {},
   "outputs": [],
   "source": [
    "# Deletion of colors with quantity of stars less than 5\n",
    "\n",
    "df_stars = df_stars.rename(columns={\"Star color\": \"Star_color\"})\n",
    "df_stars = df_stars.query('Star_color in @star_color_good')\n",
    "df_stars = df_stars.rename(columns={\"Star_color\": \"Star color\"})"
   ]
  },
  {
   "cell_type": "code",
   "execution_count": 23,
   "id": "a856b3f7",
   "metadata": {},
   "outputs": [
    {
     "name": "stdout",
     "output_type": "stream",
     "text": [
      "Star color\n",
      "red             112\n",
      "blue             56\n",
      "blue white       41\n",
      "white            10\n",
      "white-yellow      9\n",
      "Name: Star type, dtype: int64\n"
     ]
    },
    {
     "data": {
      "text/plain": [
       "Text(0, 0.5, 'Quantity')"
      ]
     },
     "execution_count": 23,
     "metadata": {},
     "output_type": "execute_result"
    },
    {
     "data": {
      "image/png": "[encoded data removed]",
      "text/plain": [
       "<Figure size 432x288 with 1 Axes>"
      ]
     },
     "metadata": {
      "needs_background": "light"
     },
     "output_type": "display_data"
    }
   ],
   "source": [
    "# display the color distribution table and plot it\n",
    "\n",
    "print(df_stars.groupby('Star color')['Star type'].count().sort_values(ascending=False))\n",
    "df_stars.groupby('Star color')['Star type'].count().sort_values(ascending=False).plot(kind = 'bar', title = 'Star colors')\n",
    "plt.xlabel('Star color')\n",
    "plt.ylabel('Quantity')"
   ]
  },
  {
   "cell_type": "code",
   "execution_count": 15,
   "id": "20613e97",
   "metadata": {},
   "outputs": [
    {
     "data": {
      "text/plain": [
       "Text(0, 0.5, 'Quantity')"
      ]
     },
     "execution_count": 15,
     "metadata": {},
     "output_type": "execute_result"
    },
    {
     "data": {
      "image/png": "[encoded data removed]",
      "text/plain": [
       "<Figure size 432x288 with 1 Axes>"
      ]
     },
     "metadata": {
      "needs_background": "light"
     },
     "output_type": "display_data"
    }
   ],
   "source": [
    "# plotting the star type distribution\n",
    "\n",
    "df_stars.groupby('Star type')['Unnamed: 0'].count().sort_values(ascending=False).plot(kind = 'bar', title = 'Star type')\n",
    "plt.xlabel('Star type')\n",
    "plt.ylabel('Quantity')"
   ]
  },
  {
   "cell_type": "code",
   "execution_count": 24,
   "id": "61054134",
   "metadata": {},
   "outputs": [
    {
     "data": {
      "text/plain": [
       "([], [])"
      ]
     },
     "execution_count": 24,
     "metadata": {},
     "output_type": "execute_result"
    },
    {
     "data": {
      "image/png": "[encoded data removed]",
      "text/plain": [
       "<Figure size 1440x720 with 1 Axes>"
      ]
     },
     "metadata": {
      "needs_background": "light"
     },
     "output_type": "display_data"
    }
   ],
   "source": [
    "# plotting the stars temperature distribution\n",
    "\n",
    "df_stars['Temperature (K)'].sort_values(ascending=False).plot(kind='bar',figsize = (20,10))\n",
    "plt.xlabel('star')\n",
    "plt.ylabel('Temperature')\n",
    "plt.title('Stars temperature')\n",
    "plt.xticks([])"
   ]
  },
  {
   "cell_type": "code",
   "execution_count": 25,
   "id": "7bea17fb",
   "metadata": {},
   "outputs": [
    {
     "data": {
      "text/plain": [
       "([], [])"
      ]
     },
     "execution_count": 25,
     "metadata": {},
     "output_type": "execute_result"
    },
    {
     "data": {
      "image/png": "[encoded data removed]",
      "text/plain": [
       "<Figure size 1440x720 with 1 Axes>"
      ]
     },
     "metadata": {
      "needs_background": "light"
     },
     "output_type": "display_data"
    }
   ],
   "source": [
    "# plotting the stars Luminosity distribution\n",
    "\n",
    "df_stars['Luminosity(L/Lo)'].sort_values(ascending=False).plot(kind='bar',figsize = (20,10))\n",
    "plt.xlabel('star')\n",
    "plt.ylabel('Luminosity')\n",
    "plt.title('Stars Luminosity')\n",
    "\n",
    "plt.xticks([])"
   ]
  },
  {
   "cell_type": "code",
   "execution_count": 26,
   "id": "b83bbbcf",
   "metadata": {},
   "outputs": [
    {
     "data": {
      "text/plain": [
       "([], [])"
      ]
     },
     "execution_count": 26,
     "metadata": {},
     "output_type": "execute_result"
    },
    {
     "data": {
      "image/png": "[encoded data removed]",
      "text/plain": [
       "<Figure size 1440x720 with 1 Axes>"
      ]
     },
     "metadata": {
      "needs_background": "light"
     },
     "output_type": "display_data"
    }
   ],
   "source": [
    "# plotting the stars radius distribution\n",
    "\n",
    "df_stars['Radius(R/Ro)'].sort_values(ascending=False).plot(kind='bar',figsize = (20,10))\n",
    "plt.xlabel('star')\n",
    "plt.ylabel('Radius')\n",
    "plt.title('Stars Raduis')\n",
    "plt.xticks([])"
   ]
  },
  {
   "attachments": {},
   "cell_type": "markdown",
   "id": "8ea1a9f7",
   "metadata": {},
   "source": [
    "**Conclusions**\n",
    "\n",
    "1) During the analysis the incorrect color names were revealed and changed to correct.\n",
    "\n",
    "2) Based on the information shown on histogram, the can conclude following:\n",
    "\n",
    "- most part of stars color is red, blue and white-blue;\n",
    "- more than a half of stars has temperature of 5000 K;\n",
    "- 70 % of stars have radius below 250;\n",
    "- 55% o stars has luminosity less then 40 000 units."
   ]
  },
  {
   "cell_type": "markdown",
   "id": "4338855b",
   "metadata": {},
   "source": [
    "<a name ='section_4'></a>\n",
    "# Data encoding "
   ]
  },
  {
   "cell_type": "code",
   "execution_count": 20,
   "id": "8260b7d0",
   "metadata": {},
   "outputs": [
    {
     "name": "stdout",
     "output_type": "stream",
     "text": [
      "Numeric: Index(['Temperature (K)', 'Luminosity(L/Lo)', 'Radius(R/Ro)',\n",
      "       'Absolute magnitude(Mv)'],\n",
      "      dtype='object') \n",
      " \n",
      " Categorical: ['Star color', 'Star type']\n"
     ]
    }
   ],
   "source": [
    "# separation of categorical an dnumeric features\n",
    "\n",
    "numeric_cols = df_stars.drop(columns = ['Star color','Star type']).columns\n",
    "categorical_cols = ['Star color','Star type'] \n",
    "\n",
    "print('Numeric:',numeric_cols,'\\n','\\n', 'Categorical:',categorical_cols)"
   ]
  },
  {
   "cell_type": "code",
   "execution_count": 21,
   "id": "b9f8e896",
   "metadata": {},
   "outputs": [],
   "source": [
    "# create a copy of df\n",
    "df_stars_for_coding = df_stars.copy()"
   ]
  },
  {
   "cell_type": "code",
   "execution_count": 22,
   "id": "cf1e2092",
   "metadata": {},
   "outputs": [],
   "source": [
    "scaler = MinMaxScaler()"
   ]
  },
  {
   "cell_type": "code",
   "execution_count": 23,
   "id": "aff57d4c",
   "metadata": {},
   "outputs": [],
   "source": [
    "# numeric features encoding\n",
    "\n",
    "scaler.fit(df_stars_for_coding[numeric_cols])\n",
    "numeric_transformed = pd.DataFrame(scaler.transform(df_stars_for_coding[numeric_cols]),columns = [numeric_cols])"
   ]
  },
  {
   "cell_type": "code",
   "execution_count": 24,
   "id": "fe6fde12",
   "metadata": {},
   "outputs": [
    {
     "data": {
      "text/html": [
       "<div>\n",
       "<style scoped>\n",
       "    .dataframe tbody tr th:only-of-type {\n",
       "        vertical-align: middle;\n",
       "    }\n",
       "\n",
       "    .dataframe tbody tr th {\n",
       "        vertical-align: top;\n",
       "    }\n",
       "\n",
       "    .dataframe thead tr th {\n",
       "        text-align: left;\n",
       "    }\n",
       "</style>\n",
       "<table border=\"1\" class=\"dataframe\">\n",
       "  <thead>\n",
       "    <tr>\n",
       "      <th></th>\n",
       "      <th>Temperature (K)</th>\n",
       "      <th>Luminosity(L/Lo)</th>\n",
       "      <th>Radius(R/Ro)</th>\n",
       "      <th>Absolute magnitude(Mv)</th>\n",
       "    </tr>\n",
       "  </thead>\n",
       "  <tbody>\n",
       "    <tr>\n",
       "      <th>0</th>\n",
       "      <td>0.029663</td>\n",
       "      <td>2.695957e-09</td>\n",
       "      <td>0.000083</td>\n",
       "      <td>0.876798</td>\n",
       "    </tr>\n",
       "    <tr>\n",
       "      <th>1</th>\n",
       "      <td>0.028980</td>\n",
       "      <td>4.591368e-10</td>\n",
       "      <td>0.000075</td>\n",
       "      <td>0.891807</td>\n",
       "    </tr>\n",
       "    <tr>\n",
       "      <th>2</th>\n",
       "      <td>0.017367</td>\n",
       "      <td>2.236820e-10</td>\n",
       "      <td>0.000048</td>\n",
       "      <td>0.957473</td>\n",
       "    </tr>\n",
       "    <tr>\n",
       "      <th>3</th>\n",
       "      <td>0.022622</td>\n",
       "      <td>1.059547e-10</td>\n",
       "      <td>0.000078</td>\n",
       "      <td>0.893371</td>\n",
       "    </tr>\n",
       "    <tr>\n",
       "      <th>4</th>\n",
       "      <td>0.000000</td>\n",
       "      <td>3.296367e-11</td>\n",
       "      <td>0.000049</td>\n",
       "      <td>1.000000</td>\n",
       "    </tr>\n",
       "    <tr>\n",
       "      <th>...</th>\n",
       "      <td>...</td>\n",
       "      <td>...</td>\n",
       "      <td>...</td>\n",
       "      <td>...</td>\n",
       "    </tr>\n",
       "    <tr>\n",
       "      <th>223</th>\n",
       "      <td>0.972150</td>\n",
       "      <td>4.412776e-01</td>\n",
       "      <td>0.695919</td>\n",
       "      <td>0.062226</td>\n",
       "    </tr>\n",
       "    <tr>\n",
       "      <th>224</th>\n",
       "      <td>0.759307</td>\n",
       "      <td>9.818959e-01</td>\n",
       "      <td>0.612777</td>\n",
       "      <td>0.040338</td>\n",
       "    </tr>\n",
       "    <tr>\n",
       "      <th>225</th>\n",
       "      <td>0.181025</td>\n",
       "      <td>6.327765e-01</td>\n",
       "      <td>0.730304</td>\n",
       "      <td>0.037211</td>\n",
       "    </tr>\n",
       "    <tr>\n",
       "      <th>226</th>\n",
       "      <td>0.191692</td>\n",
       "      <td>4.767253e-01</td>\n",
       "      <td>0.570694</td>\n",
       "      <td>0.021576</td>\n",
       "    </tr>\n",
       "    <tr>\n",
       "      <th>227</th>\n",
       "      <td>0.944352</td>\n",
       "      <td>3.471816e-01</td>\n",
       "      <td>0.915063</td>\n",
       "      <td>0.128831</td>\n",
       "    </tr>\n",
       "  </tbody>\n",
       "</table>\n",
       "<p>228 rows × 4 columns</p>\n",
       "</div>"
      ],
      "text/plain": [
       "    Temperature (K) Luminosity(L/Lo) Radius(R/Ro) Absolute magnitude(Mv)\n",
       "0          0.029663     2.695957e-09     0.000083               0.876798\n",
       "1          0.028980     4.591368e-10     0.000075               0.891807\n",
       "2          0.017367     2.236820e-10     0.000048               0.957473\n",
       "3          0.022622     1.059547e-10     0.000078               0.893371\n",
       "4          0.000000     3.296367e-11     0.000049               1.000000\n",
       "..              ...              ...          ...                    ...\n",
       "223        0.972150     4.412776e-01     0.695919               0.062226\n",
       "224        0.759307     9.818959e-01     0.612777               0.040338\n",
       "225        0.181025     6.327765e-01     0.730304               0.037211\n",
       "226        0.191692     4.767253e-01     0.570694               0.021576\n",
       "227        0.944352     3.471816e-01     0.915063               0.128831\n",
       "\n",
       "[228 rows x 4 columns]"
      ]
     },
     "execution_count": 24,
     "metadata": {},
     "output_type": "execute_result"
    }
   ],
   "source": [
    "# display the result\n",
    "numeric_transformed"
   ]
  },
  {
   "cell_type": "code",
   "execution_count": 25,
   "id": "5e8fdb8b",
   "metadata": {},
   "outputs": [],
   "source": [
    "numeric_transformed.columns = df_stars.drop(columns = ['Star color','Star type']).columns"
   ]
  },
  {
   "cell_type": "code",
   "execution_count": 26,
   "id": "f7a27fc8",
   "metadata": {},
   "outputs": [],
   "source": [
    "# categorical features encoding\n",
    "ohe = OneHotEncoder()\n",
    "categorical_transformed = ohe.fit_transform(df_stars_for_coding[categorical_cols]).toarray()"
   ]
  },
  {
   "cell_type": "code",
   "execution_count": 27,
   "id": "8fa9d7e0",
   "metadata": {},
   "outputs": [],
   "source": [
    "# encoded data to dataset\n",
    "categorical_transformed = pd.DataFrame(categorical_transformed)"
   ]
  },
  {
   "cell_type": "code",
   "execution_count": 28,
   "id": "ee0e2fab",
   "metadata": {},
   "outputs": [
    {
     "data": {
      "text/html": [
       "<div>\n",
       "<style scoped>\n",
       "    .dataframe tbody tr th:only-of-type {\n",
       "        vertical-align: middle;\n",
       "    }\n",
       "\n",
       "    .dataframe tbody tr th {\n",
       "        vertical-align: top;\n",
       "    }\n",
       "\n",
       "    .dataframe thead th {\n",
       "        text-align: right;\n",
       "    }\n",
       "</style>\n",
       "<table border=\"1\" class=\"dataframe\">\n",
       "  <thead>\n",
       "    <tr style=\"text-align: right;\">\n",
       "      <th></th>\n",
       "      <th>0</th>\n",
       "      <th>1</th>\n",
       "      <th>2</th>\n",
       "      <th>3</th>\n",
       "      <th>4</th>\n",
       "      <th>5</th>\n",
       "      <th>6</th>\n",
       "      <th>7</th>\n",
       "      <th>8</th>\n",
       "      <th>9</th>\n",
       "      <th>10</th>\n",
       "    </tr>\n",
       "  </thead>\n",
       "  <tbody>\n",
       "    <tr>\n",
       "      <th>0</th>\n",
       "      <td>0.0</td>\n",
       "      <td>0.0</td>\n",
       "      <td>1.0</td>\n",
       "      <td>0.0</td>\n",
       "      <td>0.0</td>\n",
       "      <td>1.0</td>\n",
       "      <td>0.0</td>\n",
       "      <td>0.0</td>\n",
       "      <td>0.0</td>\n",
       "      <td>0.0</td>\n",
       "      <td>0.0</td>\n",
       "    </tr>\n",
       "    <tr>\n",
       "      <th>1</th>\n",
       "      <td>0.0</td>\n",
       "      <td>0.0</td>\n",
       "      <td>1.0</td>\n",
       "      <td>0.0</td>\n",
       "      <td>0.0</td>\n",
       "      <td>1.0</td>\n",
       "      <td>0.0</td>\n",
       "      <td>0.0</td>\n",
       "      <td>0.0</td>\n",
       "      <td>0.0</td>\n",
       "      <td>0.0</td>\n",
       "    </tr>\n",
       "    <tr>\n",
       "      <th>2</th>\n",
       "      <td>0.0</td>\n",
       "      <td>0.0</td>\n",
       "      <td>1.0</td>\n",
       "      <td>0.0</td>\n",
       "      <td>0.0</td>\n",
       "      <td>1.0</td>\n",
       "      <td>0.0</td>\n",
       "      <td>0.0</td>\n",
       "      <td>0.0</td>\n",
       "      <td>0.0</td>\n",
       "      <td>0.0</td>\n",
       "    </tr>\n",
       "    <tr>\n",
       "      <th>3</th>\n",
       "      <td>0.0</td>\n",
       "      <td>0.0</td>\n",
       "      <td>1.0</td>\n",
       "      <td>0.0</td>\n",
       "      <td>0.0</td>\n",
       "      <td>1.0</td>\n",
       "      <td>0.0</td>\n",
       "      <td>0.0</td>\n",
       "      <td>0.0</td>\n",
       "      <td>0.0</td>\n",
       "      <td>0.0</td>\n",
       "    </tr>\n",
       "    <tr>\n",
       "      <th>4</th>\n",
       "      <td>0.0</td>\n",
       "      <td>0.0</td>\n",
       "      <td>1.0</td>\n",
       "      <td>0.0</td>\n",
       "      <td>0.0</td>\n",
       "      <td>1.0</td>\n",
       "      <td>0.0</td>\n",
       "      <td>0.0</td>\n",
       "      <td>0.0</td>\n",
       "      <td>0.0</td>\n",
       "      <td>0.0</td>\n",
       "    </tr>\n",
       "    <tr>\n",
       "      <th>...</th>\n",
       "      <td>...</td>\n",
       "      <td>...</td>\n",
       "      <td>...</td>\n",
       "      <td>...</td>\n",
       "      <td>...</td>\n",
       "      <td>...</td>\n",
       "      <td>...</td>\n",
       "      <td>...</td>\n",
       "      <td>...</td>\n",
       "      <td>...</td>\n",
       "      <td>...</td>\n",
       "    </tr>\n",
       "    <tr>\n",
       "      <th>223</th>\n",
       "      <td>1.0</td>\n",
       "      <td>0.0</td>\n",
       "      <td>0.0</td>\n",
       "      <td>0.0</td>\n",
       "      <td>0.0</td>\n",
       "      <td>0.0</td>\n",
       "      <td>0.0</td>\n",
       "      <td>0.0</td>\n",
       "      <td>0.0</td>\n",
       "      <td>0.0</td>\n",
       "      <td>1.0</td>\n",
       "    </tr>\n",
       "    <tr>\n",
       "      <th>224</th>\n",
       "      <td>1.0</td>\n",
       "      <td>0.0</td>\n",
       "      <td>0.0</td>\n",
       "      <td>0.0</td>\n",
       "      <td>0.0</td>\n",
       "      <td>0.0</td>\n",
       "      <td>0.0</td>\n",
       "      <td>0.0</td>\n",
       "      <td>0.0</td>\n",
       "      <td>0.0</td>\n",
       "      <td>1.0</td>\n",
       "    </tr>\n",
       "    <tr>\n",
       "      <th>225</th>\n",
       "      <td>0.0</td>\n",
       "      <td>0.0</td>\n",
       "      <td>0.0</td>\n",
       "      <td>1.0</td>\n",
       "      <td>0.0</td>\n",
       "      <td>0.0</td>\n",
       "      <td>0.0</td>\n",
       "      <td>0.0</td>\n",
       "      <td>0.0</td>\n",
       "      <td>0.0</td>\n",
       "      <td>1.0</td>\n",
       "    </tr>\n",
       "    <tr>\n",
       "      <th>226</th>\n",
       "      <td>0.0</td>\n",
       "      <td>0.0</td>\n",
       "      <td>0.0</td>\n",
       "      <td>1.0</td>\n",
       "      <td>0.0</td>\n",
       "      <td>0.0</td>\n",
       "      <td>0.0</td>\n",
       "      <td>0.0</td>\n",
       "      <td>0.0</td>\n",
       "      <td>0.0</td>\n",
       "      <td>1.0</td>\n",
       "    </tr>\n",
       "    <tr>\n",
       "      <th>227</th>\n",
       "      <td>1.0</td>\n",
       "      <td>0.0</td>\n",
       "      <td>0.0</td>\n",
       "      <td>0.0</td>\n",
       "      <td>0.0</td>\n",
       "      <td>0.0</td>\n",
       "      <td>0.0</td>\n",
       "      <td>0.0</td>\n",
       "      <td>0.0</td>\n",
       "      <td>0.0</td>\n",
       "      <td>1.0</td>\n",
       "    </tr>\n",
       "  </tbody>\n",
       "</table>\n",
       "<p>228 rows × 11 columns</p>\n",
       "</div>"
      ],
      "text/plain": [
       "      0    1    2    3    4    5    6    7    8    9    10\n",
       "0    0.0  0.0  1.0  0.0  0.0  1.0  0.0  0.0  0.0  0.0  0.0\n",
       "1    0.0  0.0  1.0  0.0  0.0  1.0  0.0  0.0  0.0  0.0  0.0\n",
       "2    0.0  0.0  1.0  0.0  0.0  1.0  0.0  0.0  0.0  0.0  0.0\n",
       "3    0.0  0.0  1.0  0.0  0.0  1.0  0.0  0.0  0.0  0.0  0.0\n",
       "4    0.0  0.0  1.0  0.0  0.0  1.0  0.0  0.0  0.0  0.0  0.0\n",
       "..   ...  ...  ...  ...  ...  ...  ...  ...  ...  ...  ...\n",
       "223  1.0  0.0  0.0  0.0  0.0  0.0  0.0  0.0  0.0  0.0  1.0\n",
       "224  1.0  0.0  0.0  0.0  0.0  0.0  0.0  0.0  0.0  0.0  1.0\n",
       "225  0.0  0.0  0.0  1.0  0.0  0.0  0.0  0.0  0.0  0.0  1.0\n",
       "226  0.0  0.0  0.0  1.0  0.0  0.0  0.0  0.0  0.0  0.0  1.0\n",
       "227  1.0  0.0  0.0  0.0  0.0  0.0  0.0  0.0  0.0  0.0  1.0\n",
       "\n",
       "[228 rows x 11 columns]"
      ]
     },
     "execution_count": 28,
     "metadata": {},
     "output_type": "execute_result"
    }
   ],
   "source": [
    "# display the results\n",
    "categorical_transformed"
   ]
  },
  {
   "cell_type": "code",
   "execution_count": 29,
   "id": "b6f65a13",
   "metadata": {},
   "outputs": [],
   "source": [
    "# join the encoded data\n",
    "df_stars_prepared = numeric_transformed.join(categorical_transformed)"
   ]
  },
  {
   "cell_type": "code",
   "execution_count": 30,
   "id": "7b6ce287",
   "metadata": {},
   "outputs": [
    {
     "data": {
      "text/html": [
       "<div>\n",
       "<style scoped>\n",
       "    .dataframe tbody tr th:only-of-type {\n",
       "        vertical-align: middle;\n",
       "    }\n",
       "\n",
       "    .dataframe tbody tr th {\n",
       "        vertical-align: top;\n",
       "    }\n",
       "\n",
       "    .dataframe thead th {\n",
       "        text-align: right;\n",
       "    }\n",
       "</style>\n",
       "<table border=\"1\" class=\"dataframe\">\n",
       "  <thead>\n",
       "    <tr style=\"text-align: right;\">\n",
       "      <th></th>\n",
       "      <th>Temperature (K)</th>\n",
       "      <th>Luminosity(L/Lo)</th>\n",
       "      <th>Radius(R/Ro)</th>\n",
       "      <th>Absolute magnitude(Mv)</th>\n",
       "      <th>0</th>\n",
       "      <th>1</th>\n",
       "      <th>2</th>\n",
       "      <th>3</th>\n",
       "      <th>4</th>\n",
       "      <th>5</th>\n",
       "      <th>6</th>\n",
       "      <th>7</th>\n",
       "      <th>8</th>\n",
       "      <th>9</th>\n",
       "      <th>10</th>\n",
       "    </tr>\n",
       "  </thead>\n",
       "  <tbody>\n",
       "    <tr>\n",
       "      <th>0</th>\n",
       "      <td>0.029663</td>\n",
       "      <td>2.695957e-09</td>\n",
       "      <td>0.000083</td>\n",
       "      <td>0.876798</td>\n",
       "      <td>0.0</td>\n",
       "      <td>0.0</td>\n",
       "      <td>1.0</td>\n",
       "      <td>0.0</td>\n",
       "      <td>0.0</td>\n",
       "      <td>1.0</td>\n",
       "      <td>0.0</td>\n",
       "      <td>0.0</td>\n",
       "      <td>0.0</td>\n",
       "      <td>0.0</td>\n",
       "      <td>0.0</td>\n",
       "    </tr>\n",
       "    <tr>\n",
       "      <th>1</th>\n",
       "      <td>0.028980</td>\n",
       "      <td>4.591368e-10</td>\n",
       "      <td>0.000075</td>\n",
       "      <td>0.891807</td>\n",
       "      <td>0.0</td>\n",
       "      <td>0.0</td>\n",
       "      <td>1.0</td>\n",
       "      <td>0.0</td>\n",
       "      <td>0.0</td>\n",
       "      <td>1.0</td>\n",
       "      <td>0.0</td>\n",
       "      <td>0.0</td>\n",
       "      <td>0.0</td>\n",
       "      <td>0.0</td>\n",
       "      <td>0.0</td>\n",
       "    </tr>\n",
       "    <tr>\n",
       "      <th>2</th>\n",
       "      <td>0.017367</td>\n",
       "      <td>2.236820e-10</td>\n",
       "      <td>0.000048</td>\n",
       "      <td>0.957473</td>\n",
       "      <td>0.0</td>\n",
       "      <td>0.0</td>\n",
       "      <td>1.0</td>\n",
       "      <td>0.0</td>\n",
       "      <td>0.0</td>\n",
       "      <td>1.0</td>\n",
       "      <td>0.0</td>\n",
       "      <td>0.0</td>\n",
       "      <td>0.0</td>\n",
       "      <td>0.0</td>\n",
       "      <td>0.0</td>\n",
       "    </tr>\n",
       "    <tr>\n",
       "      <th>3</th>\n",
       "      <td>0.022622</td>\n",
       "      <td>1.059547e-10</td>\n",
       "      <td>0.000078</td>\n",
       "      <td>0.893371</td>\n",
       "      <td>0.0</td>\n",
       "      <td>0.0</td>\n",
       "      <td>1.0</td>\n",
       "      <td>0.0</td>\n",
       "      <td>0.0</td>\n",
       "      <td>1.0</td>\n",
       "      <td>0.0</td>\n",
       "      <td>0.0</td>\n",
       "      <td>0.0</td>\n",
       "      <td>0.0</td>\n",
       "      <td>0.0</td>\n",
       "    </tr>\n",
       "    <tr>\n",
       "      <th>4</th>\n",
       "      <td>0.000000</td>\n",
       "      <td>3.296367e-11</td>\n",
       "      <td>0.000049</td>\n",
       "      <td>1.000000</td>\n",
       "      <td>0.0</td>\n",
       "      <td>0.0</td>\n",
       "      <td>1.0</td>\n",
       "      <td>0.0</td>\n",
       "      <td>0.0</td>\n",
       "      <td>1.0</td>\n",
       "      <td>0.0</td>\n",
       "      <td>0.0</td>\n",
       "      <td>0.0</td>\n",
       "      <td>0.0</td>\n",
       "      <td>0.0</td>\n",
       "    </tr>\n",
       "    <tr>\n",
       "      <th>...</th>\n",
       "      <td>...</td>\n",
       "      <td>...</td>\n",
       "      <td>...</td>\n",
       "      <td>...</td>\n",
       "      <td>...</td>\n",
       "      <td>...</td>\n",
       "      <td>...</td>\n",
       "      <td>...</td>\n",
       "      <td>...</td>\n",
       "      <td>...</td>\n",
       "      <td>...</td>\n",
       "      <td>...</td>\n",
       "      <td>...</td>\n",
       "      <td>...</td>\n",
       "      <td>...</td>\n",
       "    </tr>\n",
       "    <tr>\n",
       "      <th>223</th>\n",
       "      <td>0.972150</td>\n",
       "      <td>4.412776e-01</td>\n",
       "      <td>0.695919</td>\n",
       "      <td>0.062226</td>\n",
       "      <td>1.0</td>\n",
       "      <td>0.0</td>\n",
       "      <td>0.0</td>\n",
       "      <td>0.0</td>\n",
       "      <td>0.0</td>\n",
       "      <td>0.0</td>\n",
       "      <td>0.0</td>\n",
       "      <td>0.0</td>\n",
       "      <td>0.0</td>\n",
       "      <td>0.0</td>\n",
       "      <td>1.0</td>\n",
       "    </tr>\n",
       "    <tr>\n",
       "      <th>224</th>\n",
       "      <td>0.759307</td>\n",
       "      <td>9.818959e-01</td>\n",
       "      <td>0.612777</td>\n",
       "      <td>0.040338</td>\n",
       "      <td>1.0</td>\n",
       "      <td>0.0</td>\n",
       "      <td>0.0</td>\n",
       "      <td>0.0</td>\n",
       "      <td>0.0</td>\n",
       "      <td>0.0</td>\n",
       "      <td>0.0</td>\n",
       "      <td>0.0</td>\n",
       "      <td>0.0</td>\n",
       "      <td>0.0</td>\n",
       "      <td>1.0</td>\n",
       "    </tr>\n",
       "    <tr>\n",
       "      <th>225</th>\n",
       "      <td>0.181025</td>\n",
       "      <td>6.327765e-01</td>\n",
       "      <td>0.730304</td>\n",
       "      <td>0.037211</td>\n",
       "      <td>0.0</td>\n",
       "      <td>0.0</td>\n",
       "      <td>0.0</td>\n",
       "      <td>1.0</td>\n",
       "      <td>0.0</td>\n",
       "      <td>0.0</td>\n",
       "      <td>0.0</td>\n",
       "      <td>0.0</td>\n",
       "      <td>0.0</td>\n",
       "      <td>0.0</td>\n",
       "      <td>1.0</td>\n",
       "    </tr>\n",
       "    <tr>\n",
       "      <th>226</th>\n",
       "      <td>0.191692</td>\n",
       "      <td>4.767253e-01</td>\n",
       "      <td>0.570694</td>\n",
       "      <td>0.021576</td>\n",
       "      <td>0.0</td>\n",
       "      <td>0.0</td>\n",
       "      <td>0.0</td>\n",
       "      <td>1.0</td>\n",
       "      <td>0.0</td>\n",
       "      <td>0.0</td>\n",
       "      <td>0.0</td>\n",
       "      <td>0.0</td>\n",
       "      <td>0.0</td>\n",
       "      <td>0.0</td>\n",
       "      <td>1.0</td>\n",
       "    </tr>\n",
       "    <tr>\n",
       "      <th>227</th>\n",
       "      <td>0.944352</td>\n",
       "      <td>3.471816e-01</td>\n",
       "      <td>0.915063</td>\n",
       "      <td>0.128831</td>\n",
       "      <td>1.0</td>\n",
       "      <td>0.0</td>\n",
       "      <td>0.0</td>\n",
       "      <td>0.0</td>\n",
       "      <td>0.0</td>\n",
       "      <td>0.0</td>\n",
       "      <td>0.0</td>\n",
       "      <td>0.0</td>\n",
       "      <td>0.0</td>\n",
       "      <td>0.0</td>\n",
       "      <td>1.0</td>\n",
       "    </tr>\n",
       "  </tbody>\n",
       "</table>\n",
       "<p>228 rows × 15 columns</p>\n",
       "</div>"
      ],
      "text/plain": [
       "     Temperature (K)  Luminosity(L/Lo)  Radius(R/Ro)  Absolute magnitude(Mv)  \\\n",
       "0           0.029663      2.695957e-09      0.000083                0.876798   \n",
       "1           0.028980      4.591368e-10      0.000075                0.891807   \n",
       "2           0.017367      2.236820e-10      0.000048                0.957473   \n",
       "3           0.022622      1.059547e-10      0.000078                0.893371   \n",
       "4           0.000000      3.296367e-11      0.000049                1.000000   \n",
       "..               ...               ...           ...                     ...   \n",
       "223         0.972150      4.412776e-01      0.695919                0.062226   \n",
       "224         0.759307      9.818959e-01      0.612777                0.040338   \n",
       "225         0.181025      6.327765e-01      0.730304                0.037211   \n",
       "226         0.191692      4.767253e-01      0.570694                0.021576   \n",
       "227         0.944352      3.471816e-01      0.915063                0.128831   \n",
       "\n",
       "       0    1    2    3    4    5    6    7    8    9   10  \n",
       "0    0.0  0.0  1.0  0.0  0.0  1.0  0.0  0.0  0.0  0.0  0.0  \n",
       "1    0.0  0.0  1.0  0.0  0.0  1.0  0.0  0.0  0.0  0.0  0.0  \n",
       "2    0.0  0.0  1.0  0.0  0.0  1.0  0.0  0.0  0.0  0.0  0.0  \n",
       "3    0.0  0.0  1.0  0.0  0.0  1.0  0.0  0.0  0.0  0.0  0.0  \n",
       "4    0.0  0.0  1.0  0.0  0.0  1.0  0.0  0.0  0.0  0.0  0.0  \n",
       "..   ...  ...  ...  ...  ...  ...  ...  ...  ...  ...  ...  \n",
       "223  1.0  0.0  0.0  0.0  0.0  0.0  0.0  0.0  0.0  0.0  1.0  \n",
       "224  1.0  0.0  0.0  0.0  0.0  0.0  0.0  0.0  0.0  0.0  1.0  \n",
       "225  0.0  0.0  0.0  1.0  0.0  0.0  0.0  0.0  0.0  0.0  1.0  \n",
       "226  0.0  0.0  0.0  1.0  0.0  0.0  0.0  0.0  0.0  0.0  1.0  \n",
       "227  1.0  0.0  0.0  0.0  0.0  0.0  0.0  0.0  0.0  0.0  1.0  \n",
       "\n",
       "[228 rows x 15 columns]"
      ]
     },
     "execution_count": 30,
     "metadata": {},
     "output_type": "execute_result"
    }
   ],
   "source": [
    "# display the results \n",
    "df_stars_prepared"
   ]
  },
  {
   "cell_type": "code",
   "execution_count": 31,
   "id": "e5d306e6",
   "metadata": {},
   "outputs": [],
   "source": [
    "# selection of target \n",
    "df_stars_Y = df_stars_prepared['Temperature (K)']"
   ]
  },
  {
   "cell_type": "code",
   "execution_count": 32,
   "id": "49d218f6",
   "metadata": {},
   "outputs": [],
   "source": [
    "# Selection of features\n",
    "df_stars_X = df_stars_prepared.drop(columns = ['Temperature (K)'])"
   ]
  },
  {
   "cell_type": "code",
   "execution_count": 33,
   "id": "fcf4e03d",
   "metadata": {},
   "outputs": [],
   "source": [
    "# split the data to train and test samples\n",
    "X_train, X_test, y_train, y_test = train_test_split(df_stars_X, df_stars_Y, test_size=0.3, random_state=42)"
   ]
  },
  {
   "cell_type": "code",
   "execution_count": 34,
   "id": "26705ea6",
   "metadata": {},
   "outputs": [],
   "source": [
    "# data transform to tensor\n",
    "X_train = torch.FloatTensor(X_train.values)\n",
    "X_test = torch.FloatTensor(X_test.values)\n",
    "y_train = torch.FloatTensor(y_train.values)\n",
    "y_test = torch.FloatTensor(y_test.values)"
   ]
  },
  {
   "cell_type": "markdown",
   "id": "funded-electric",
   "metadata": {},
   "source": [
    "<a name ='section_5'></a>\n",
    "# Building Neural networks"
   ]
  },
  {
   "cell_type": "markdown",
   "id": "ff28ff33",
   "metadata": {},
   "source": [
    "## Building base Neural network"
   ]
  },
  {
   "cell_type": "code",
   "execution_count": 35,
   "id": "eeb5bd41",
   "metadata": {},
   "outputs": [],
   "source": [
    "# function for calculation of RMSE plotting the hist of comparison actual and predicted temperature of stars\n",
    "\n",
    "def plot_result (preds, y_test_):\n",
    "    preds = preds.detach().numpy()\n",
    "    y_test_ = y_test_.detach().numpy() \n",
    "    df = pd.DataFrame(preds, columns = ['prediction'])\n",
    "    df['actual'] = y_test_\n",
    "    for i in df.columns:\n",
    "        df[i] = df[i] * df_stars['Temperature (K)'].max()\n",
    "    df.plot(kind = 'bar',figsize=(20,10))\n",
    "    plt.title('star temperature')\n",
    "    plt.ylabel('temprature')\n",
    "    plt.xticks([])\n",
    "    print(df.head())\n",
    "    print('\\n','RMSE:',mean_squared_error(df['actual'],df['prediction'],squared = False))"
   ]
  },
  {
   "cell_type": "code",
   "execution_count": 36,
   "id": "7c754e7f",
   "metadata": {},
   "outputs": [],
   "source": [
    "# Net 1 building\n",
    "\n",
    "torch.manual_seed(1234)\n",
    "input_size = 14\n",
    "hidden_size_1 = 12\n",
    "hidden_size_2 = 8\n",
    "output_size = 1\n",
    "\n",
    "class NeuralNet(nn.Module):\n",
    "    def __init__(self, input_size, hidden_size_1, hidden_size_2, output_size):\n",
    "        super(NeuralNet, self).__init__()\n",
    "        self.fc1 = nn.Linear(input_size, hidden_size_1) \n",
    "        self.fc2 = nn.Linear(hidden_size_1, hidden_size_2) \n",
    "        self.fc3 = nn.Linear(hidden_size_2, output_size)  \n",
    "    \n",
    "    def forward(self, x):\n",
    "        x = self.fc1(x)\n",
    "        x = self.fc2(x)\n",
    "        x = self.fc3(x)\n",
    "        return x\n",
    "    \n",
    "net_1 = NeuralNet(input_size, hidden_size_1, hidden_size_2, output_size)"
   ]
  },
  {
   "cell_type": "code",
   "execution_count": 37,
   "id": "dce96866",
   "metadata": {},
   "outputs": [
    {
     "name": "stdout",
     "output_type": "stream",
     "text": [
      "tensor(0.1294, grad_fn=<MseLossBackward0>)\n",
      "tensor(0.)\n",
      "tensor(0.0775, grad_fn=<MseLossBackward0>)\n",
      "tensor(0.)\n",
      "tensor(0.0485, grad_fn=<MseLossBackward0>)\n",
      "tensor(0.)\n",
      "tensor(0.0294, grad_fn=<MseLossBackward0>)\n",
      "tensor(0.)\n",
      "tensor(0.0226, grad_fn=<MseLossBackward0>)\n",
      "tensor(0.)\n",
      "tensor(0.0195, grad_fn=<MseLossBackward0>)\n",
      "tensor(0.)\n",
      "tensor(0.0176, grad_fn=<MseLossBackward0>)\n",
      "tensor(0.)\n",
      "tensor(0.0166, grad_fn=<MseLossBackward0>)\n",
      "tensor(0.)\n",
      "tensor(0.0163, grad_fn=<MseLossBackward0>)\n",
      "tensor(0.)\n",
      "tensor(0.0162, grad_fn=<MseLossBackward0>)\n",
      "tensor(0.)\n",
      "tensor(0.0161, grad_fn=<MseLossBackward0>)\n",
      "tensor(0.)\n",
      "tensor(0.0161, grad_fn=<MseLossBackward0>)\n",
      "tensor(0.)\n",
      "tensor(0.0161, grad_fn=<MseLossBackward0>)\n",
      "tensor(0.)\n",
      "tensor(0.0161, grad_fn=<MseLossBackward0>)\n",
      "tensor(0.)\n",
      "tensor(0.0160, grad_fn=<MseLossBackward0>)\n",
      "tensor(0.)\n",
      "tensor(0.0160, grad_fn=<MseLossBackward0>)\n",
      "tensor(0.)\n",
      "tensor(0.0160, grad_fn=<MseLossBackward0>)\n",
      "tensor(0.)\n",
      "tensor(0.0160, grad_fn=<MseLossBackward0>)\n",
      "tensor(0.)\n",
      "tensor(0.0160, grad_fn=<MseLossBackward0>)\n",
      "tensor(0.)\n",
      "tensor(0.0160, grad_fn=<MseLossBackward0>)\n",
      "tensor(0.)\n"
     ]
    }
   ],
   "source": [
    "# net 1 training and making a prediction\n",
    "\n",
    "optimizer = torch.optim.Adam(net_1.parameters(),lr=0.001)\n",
    "\n",
    "loss = torch.nn.MSELoss()\n",
    "\n",
    "num_epochs = 500\n",
    "\n",
    "for epoch in range(num_epochs):\n",
    "    optimizer.zero_grad()\n",
    "    preds = net_1.forward(X_train).flatten()\n",
    "    loss_value = loss(preds,y_train)\n",
    "    loss_value.backward()\n",
    "    optimizer.step()\n",
    "    if (epoch % 25 == 0) or (epoch == 500) :\n",
    "            print(loss_value)\n",
    "            net_1.eval(),\n",
    "            test_preds_1 = net_1.forward(X_test).flatten()\n",
    "            accuracy = (torch.round(test_preds_1) == y_test).float().mean().data\n",
    "            print(accuracy)"
   ]
  },
  {
   "cell_type": "code",
   "execution_count": 38,
   "id": "f1a09608",
   "metadata": {},
   "outputs": [
    {
     "name": "stdout",
     "output_type": "stream",
     "text": [
      "     prediction        actual\n",
      "0  25638.511719   9449.041992\n",
      "1   1454.730591   1272.693848\n",
      "2   1245.530518    799.768799\n",
      "3  17902.568359  11718.031250\n",
      "4   1319.206055   1472.373291\n",
      "\n",
      " RMSE: 4868.386\n"
     ]
    },
    {
     "data": {
      "image/png": "[encoded data removed]",
      "text/plain": [
       "<Figure size 1440x720 with 1 Axes>"
      ]
     },
     "metadata": {
      "needs_background": "light"
     },
     "output_type": "display_data"
    }
   ],
   "source": [
    "# net results\n",
    "plot_result(test_preds_1,y_test)"
   ]
  },
  {
   "attachments": {},
   "cell_type": "markdown",
   "id": "0942c78f",
   "metadata": {},
   "source": [
    "**Conclusion on net_1**\n",
    "\n",
    "RMSE of net_1 is quite good, the model to be used for the further optimization"
   ]
  },
  {
   "cell_type": "markdown",
   "id": "f42ea2c3",
   "metadata": {},
   "source": [
    "## Building neural network with LeakyReLU activaton"
   ]
  },
  {
   "cell_type": "code",
   "execution_count": 39,
   "id": "3963ed84",
   "metadata": {},
   "outputs": [],
   "source": [
    "# bulding net_2\n",
    "\n",
    "torch.manual_seed(1234)\n",
    "input_size = 14\n",
    "hidden_size_1 = 12\n",
    "hidden_size_2 = 8\n",
    "output_size = 1\n",
    "\n",
    "class NeuralNet(nn.Module):\n",
    "    def __init__(self, input_size, hidden_size_1, hidden_size_2, output_size):\n",
    "        super(NeuralNet, self).__init__()\n",
    "        self.fc1 = nn.Linear(input_size, hidden_size_1) \n",
    "        self.act1 = nn.LeakyReLU()\n",
    "        self.fc2 = nn.Linear(hidden_size_1, hidden_size_2) \n",
    "        self.act2 = nn.LeakyReLU()\n",
    "        self.fc3 = nn.Linear(hidden_size_2, output_size)  \n",
    "        self.act3 = nn.LeakyReLU()\n",
    "    \n",
    "    def forward(self, x):\n",
    "        x = self.fc1(x)\n",
    "        x = self.act1(x)\n",
    "        x = self.fc2(x)\n",
    "        x = self.act2(x)\n",
    "        x = self.fc3(x)\n",
    "        x = self.act3(x)\n",
    "        return x\n",
    "    \n",
    "net_2 = NeuralNet(input_size, hidden_size_1, hidden_size_2, output_size)"
   ]
  },
  {
   "cell_type": "code",
   "execution_count": 40,
   "id": "e959e741",
   "metadata": {},
   "outputs": [
    {
     "name": "stdout",
     "output_type": "stream",
     "text": [
      "tensor(0.1117, grad_fn=<MseLossBackward0>)\n",
      "tensor(0.)\n",
      "tensor(0.0811, grad_fn=<MseLossBackward0>)\n",
      "tensor(0.)\n",
      "tensor(0.0615, grad_fn=<MseLossBackward0>)\n",
      "tensor(0.)\n",
      "tensor(0.0446, grad_fn=<MseLossBackward0>)\n",
      "tensor(0.)\n",
      "tensor(0.0314, grad_fn=<MseLossBackward0>)\n",
      "tensor(0.)\n",
      "tensor(0.0250, grad_fn=<MseLossBackward0>)\n",
      "tensor(0.)\n",
      "tensor(0.0218, grad_fn=<MseLossBackward0>)\n",
      "tensor(0.)\n",
      "tensor(0.0194, grad_fn=<MseLossBackward0>)\n",
      "tensor(0.)\n",
      "tensor(0.0172, grad_fn=<MseLossBackward0>)\n",
      "tensor(0.)\n",
      "tensor(0.0154, grad_fn=<MseLossBackward0>)\n",
      "tensor(0.)\n",
      "tensor(0.0142, grad_fn=<MseLossBackward0>)\n",
      "tensor(0.)\n",
      "tensor(0.0135, grad_fn=<MseLossBackward0>)\n",
      "tensor(0.)\n",
      "tensor(0.0131, grad_fn=<MseLossBackward0>)\n",
      "tensor(0.)\n",
      "tensor(0.0128, grad_fn=<MseLossBackward0>)\n",
      "tensor(0.)\n",
      "tensor(0.0126, grad_fn=<MseLossBackward0>)\n",
      "tensor(0.)\n",
      "tensor(0.0124, grad_fn=<MseLossBackward0>)\n",
      "tensor(0.)\n",
      "tensor(0.0122, grad_fn=<MseLossBackward0>)\n",
      "tensor(0.)\n",
      "tensor(0.0120, grad_fn=<MseLossBackward0>)\n",
      "tensor(0.)\n",
      "tensor(0.0118, grad_fn=<MseLossBackward0>)\n",
      "tensor(0.)\n",
      "tensor(0.0116, grad_fn=<MseLossBackward0>)\n",
      "tensor(0.)\n"
     ]
    }
   ],
   "source": [
    "# net_2 training and making a prediction\n",
    "\n",
    "optimizer = torch.optim.Adam(net_2.parameters(),lr=0.001)\n",
    "\n",
    "loss = torch.nn.MSELoss()\n",
    "\n",
    "num_epochs = 500\n",
    "\n",
    "for epoch in range(num_epochs):\n",
    "    optimizer.zero_grad()\n",
    "    preds = net_2.forward(X_train).flatten()\n",
    "    loss_value = loss(preds,y_train)\n",
    "    loss_value.backward()\n",
    "    optimizer.step()\n",
    "    if (epoch % 25 == 0) or (epoch == 500) :\n",
    "            print(loss_value)\n",
    "            net_2.eval(),\n",
    "            test_preds_2 = net_2.forward(X_test).flatten()\n",
    "            accuracy = (torch.round(test_preds_2) == y_test).float().mean().data\n",
    "            print(accuracy)"
   ]
  },
  {
   "cell_type": "code",
   "execution_count": 41,
   "id": "4b0dc6b6",
   "metadata": {},
   "outputs": [
    {
     "name": "stdout",
     "output_type": "stream",
     "text": [
      "     prediction        actual\n",
      "0  21669.697266   9449.041992\n",
      "1   1492.615234   1272.693848\n",
      "2   1537.019897    799.768799\n",
      "3  14472.894531  11718.031250\n",
      "4   1318.640869   1472.373291\n",
      "\n",
      " RMSE: 4356.7583\n"
     ]
    },
    {
     "data": {
      "image/png": "[encoded data removed]",
      "text/plain": [
       "<Figure size 1440x720 with 1 Axes>"
      ]
     },
     "metadata": {
      "needs_background": "light"
     },
     "output_type": "display_data"
    }
   ],
   "source": [
    "plot_result(test_preds_2,y_test)"
   ]
  },
  {
   "attachments": {},
   "cell_type": "markdown",
   "id": "d2ff92e9",
   "metadata": {},
   "source": [
    "**Conclusion on net_2**\n",
    "\n",
    "Required RMSE on net_2 was achieved, model to be used for the further increase of result."
   ]
  },
  {
   "cell_type": "markdown",
   "id": "a2f5cd5a",
   "metadata": {},
   "source": [
    "## Building neural network with Sigmoid activaton function"
   ]
  },
  {
   "cell_type": "code",
   "execution_count": 42,
   "id": "85abe086",
   "metadata": {},
   "outputs": [],
   "source": [
    "# building net_3\n",
    "\n",
    "class NeuralNet(nn.Module):\n",
    "    def __init__(self, input_size, hidden_size_1, hidden_size_2, output_size):\n",
    "        super(NeuralNet, self).__init__()\n",
    "        self.fc1 = nn.Linear(input_size, hidden_size_1)\n",
    "        self.act1 = nn.Sigmoid()\n",
    "        self.fc2 = nn.Linear(hidden_size_1, hidden_size_2) \n",
    "        self.act2 = nn.Sigmoid()\n",
    "        self.fc3 = nn.Linear(hidden_size_2, output_size)\n",
    "        self.act3 = nn.Sigmoid()\n",
    "    \n",
    "    \n",
    "    def forward(self, x):\n",
    "        x = self.fc1(x)\n",
    "        x = self.act1(x)\n",
    "        x = self.fc2(x)\n",
    "        x = self.act2(x)\n",
    "        x = self.fc3(x)\n",
    "        x = self.act3(x)\n",
    "        return x\n",
    "\n",
    "torch.manual_seed(1234)\n",
    "input_size = 14\n",
    "hidden_size_1 = 18\n",
    "hidden_size_2 = 45\n",
    "output_size = 1    \n",
    "    \n",
    "net_3 = NeuralNet(input_size, hidden_size_1, hidden_size_2,output_size)"
   ]
  },
  {
   "cell_type": "code",
   "execution_count": 43,
   "id": "52421d15",
   "metadata": {},
   "outputs": [
    {
     "name": "stdout",
     "output_type": "stream",
     "text": [
      "tensor(0.)\n",
      "tensor(0.)\n",
      "tensor(0.)\n",
      "tensor(0.)\n",
      "tensor(0.)\n",
      "tensor(0.)\n"
     ]
    }
   ],
   "source": [
    "# net_3 training and making a prediction\n",
    "\n",
    "optimizer = torch.optim.Adam(net_3.parameters(),lr=0.001)\n",
    "\n",
    "loss = torch.nn.MSELoss()\n",
    "\n",
    "num_epochs = 600\n",
    "\n",
    "for epoch in range(num_epochs):\n",
    "    optimizer.zero_grad()\n",
    "    preds = net_2.forward(X_train).flatten()\n",
    "    loss_value = loss(preds,y_train)\n",
    "    loss_value.backward() \n",
    "    optimizer.step()\n",
    "    if (epoch % 100 == 0) or (epoch == 600) :\n",
    "            net_3.eval(),\n",
    "            test_preds_3 = net_3.forward(X_test).flatten()\n",
    "            accuracy = (torch.round(test_preds_3) == y_test).float().mean().data\n",
    "            print(accuracy)"
   ]
  },
  {
   "cell_type": "code",
   "execution_count": 44,
   "id": "e206e3d0",
   "metadata": {},
   "outputs": [
    {
     "name": "stdout",
     "output_type": "stream",
     "text": [
      "     prediction        actual\n",
      "0  21032.304688   9449.041992\n",
      "1  21063.041016   1272.693848\n",
      "2  21090.667969    799.768799\n",
      "3  21094.648438  11718.031250\n",
      "4  21062.929688   1472.373291\n",
      "\n",
      " RMSE: 15818.15\n"
     ]
    },
    {
     "data": {
      "image/png": "[encoded data removed]",
      "text/plain": [
       "<Figure size 1440x720 with 1 Axes>"
      ]
     },
     "metadata": {
      "needs_background": "light"
     },
     "output_type": "display_data"
    }
   ],
   "source": [
    "# display the results of net_3\n",
    "\n",
    "plot_result(test_preds_3,y_test)"
   ]
  },
  {
   "attachments": {},
   "cell_type": "markdown",
   "id": "e97224fd",
   "metadata": {},
   "source": [
    "**Conclusion on net_3**\n",
    "\n",
    "*sigmoid function predict the average value - such neural network not te be used for the increase of results*"
   ]
  },
  {
   "cell_type": "markdown",
   "id": "growing-supply",
   "metadata": {},
   "source": [
    "<a name ='section_6'></a>\n",
    "# Neural Networks tuning"
   ]
  },
  {
   "cell_type": "markdown",
   "id": "eb196b93",
   "metadata": {},
   "source": [
    "**learning rate tuning**"
   ]
  },
  {
   "cell_type": "code",
   "execution_count": 45,
   "id": "2708aba9",
   "metadata": {},
   "outputs": [],
   "source": [
    "# based on net 1 building net_4\n",
    "\n",
    "torch.manual_seed(1234)\n",
    "input_size = 14\n",
    "hidden_size_1 = 12\n",
    "hidden_size_2 = 8\n",
    "output_size = 1\n",
    "\n",
    "class NeuralNet(nn.Module):\n",
    "    def __init__(self, input_size, hidden_size_1, hidden_size_2, output_size):\n",
    "        super(NeuralNet, self).__init__()\n",
    "        self.fc1 = nn.Linear(input_size, hidden_size_1) \n",
    "        self.fc2 = nn.Linear(hidden_size_1, hidden_size_2) \n",
    "        self.fc3 = nn.Linear(hidden_size_2, output_size)  \n",
    "    \n",
    "    def forward(self, x):\n",
    "        x = self.fc1(x)\n",
    "        x = self.fc2(x)\n",
    "        x = self.fc3(x)\n",
    "        return x\n",
    "    \n",
    "net_4 = NeuralNet(input_size, hidden_size_1, hidden_size_2, output_size)"
   ]
  },
  {
   "cell_type": "code",
   "execution_count": 46,
   "id": "ee8eeccb",
   "metadata": {},
   "outputs": [
    {
     "name": "stdout",
     "output_type": "stream",
     "text": [
      "tensor(0.1294, grad_fn=<MseLossBackward0>)\n",
      "tensor(0.)\n",
      "tensor(0.0166, grad_fn=<MseLossBackward0>)\n",
      "tensor(0.)\n",
      "tensor(0.0162, grad_fn=<MseLossBackward0>)\n",
      "tensor(0.)\n",
      "tensor(0.0160, grad_fn=<MseLossBackward0>)\n",
      "tensor(0.)\n",
      "tensor(0.0159, grad_fn=<MseLossBackward0>)\n",
      "tensor(0.)\n",
      "tensor(0.0159, grad_fn=<MseLossBackward0>)\n",
      "tensor(0.)\n",
      "tensor(0.0158, grad_fn=<MseLossBackward0>)\n",
      "tensor(0.)\n",
      "tensor(0.0158, grad_fn=<MseLossBackward0>)\n",
      "tensor(0.)\n",
      "tensor(0.0157, grad_fn=<MseLossBackward0>)\n",
      "tensor(0.)\n",
      "tensor(0.0157, grad_fn=<MseLossBackward0>)\n",
      "tensor(0.)\n",
      "tensor(0.0156, grad_fn=<MseLossBackward0>)\n",
      "tensor(0.)\n",
      "tensor(0.0156, grad_fn=<MseLossBackward0>)\n",
      "tensor(0.)\n",
      "tensor(0.0156, grad_fn=<MseLossBackward0>)\n",
      "tensor(0.)\n",
      "tensor(0.0156, grad_fn=<MseLossBackward0>)\n",
      "tensor(0.)\n",
      "tensor(0.0156, grad_fn=<MseLossBackward0>)\n",
      "tensor(0.)\n",
      "tensor(0.0156, grad_fn=<MseLossBackward0>)\n",
      "tensor(0.)\n",
      "tensor(0.0156, grad_fn=<MseLossBackward0>)\n",
      "tensor(0.)\n",
      "tensor(0.0156, grad_fn=<MseLossBackward0>)\n",
      "tensor(0.)\n",
      "tensor(0.0156, grad_fn=<MseLossBackward0>)\n",
      "tensor(0.)\n",
      "tensor(0.0156, grad_fn=<MseLossBackward0>)\n",
      "tensor(0.)\n"
     ]
    }
   ],
   "source": [
    "# net 4 training and making a prediction (changes are - lr +=0.01)\n",
    "\n",
    "optimizer = torch.optim.Adam(net_4.parameters(),lr=0.011)\n",
    "\n",
    "loss = torch.nn.MSELoss()\n",
    "\n",
    "num_epochs = 500\n",
    "\n",
    "for epoch in range(num_epochs):\n",
    "    optimizer.zero_grad()\n",
    "    preds = net_4.forward(X_train).flatten()\n",
    "    loss_value = loss(preds,y_train)\n",
    "    loss_value.backward()\n",
    "    optimizer.step()\n",
    "    if (epoch % 25 == 0) or (epoch == 500) :\n",
    "            print(loss_value)\n",
    "            net_4.eval(),\n",
    "            test_preds_4 = net_4.forward(X_test).flatten()\n",
    "            accuracy = (torch.round(test_preds_4) == y_test).float().mean().data\n",
    "            print(accuracy)"
   ]
  },
  {
   "cell_type": "code",
   "execution_count": 47,
   "id": "1cea9311",
   "metadata": {},
   "outputs": [
    {
     "name": "stdout",
     "output_type": "stream",
     "text": [
      "     prediction        actual\n",
      "0  24865.097656   9449.041992\n",
      "1   1804.313721   1272.693848\n",
      "2   2341.796387    799.768799\n",
      "3  16544.482422  11718.031250\n",
      "4    977.397095   1472.373291\n",
      "\n",
      " RMSE: 4803.809\n"
     ]
    },
    {
     "data": {
      "image/png": "[encoded data removed]",
      "text/plain": [
       "<Figure size 1440x720 with 1 Axes>"
      ]
     },
     "metadata": {
      "needs_background": "light"
     },
     "output_type": "display_data"
    }
   ],
   "source": [
    "# display the results\n",
    "\n",
    "plot_result(test_preds_4,y_test)"
   ]
  },
  {
   "cell_type": "code",
   "execution_count": 48,
   "id": "5c26e50b",
   "metadata": {},
   "outputs": [],
   "source": [
    "# based on net 2 building the net_5\n",
    "\n",
    "torch.manual_seed(1234)\n",
    "input_size = 14\n",
    "hidden_size_1 = 12\n",
    "hidden_size_2 = 8\n",
    "output_size = 1\n",
    "\n",
    "class NeuralNet(nn.Module):\n",
    "    def __init__(self, input_size, hidden_size_1, hidden_size_2, output_size):\n",
    "        super(NeuralNet, self).__init__()\n",
    "        self.fc1 = nn.Linear(input_size, hidden_size_1) \n",
    "        self.act1 = nn.LeakyReLU()\n",
    "        self.fc2 = nn.Linear(hidden_size_1, hidden_size_2) \n",
    "        self.act2 = nn.LeakyReLU()\n",
    "        self.fc3 = nn.Linear(hidden_size_2, output_size)  \n",
    "        self.act3 = nn.LeakyReLU()\n",
    "    \n",
    "    def forward(self, x):\n",
    "        x = self.fc1(x)\n",
    "        x = self.act1(x)\n",
    "        x = self.fc2(x)\n",
    "        x = self.act2(x)\n",
    "        x = self.fc3(x)\n",
    "        x = self.act3(x)\n",
    "        return x\n",
    "    \n",
    "net_5 = NeuralNet(input_size, hidden_size_1, hidden_size_2, output_size)"
   ]
  },
  {
   "cell_type": "code",
   "execution_count": 49,
   "id": "92405212",
   "metadata": {},
   "outputs": [
    {
     "name": "stdout",
     "output_type": "stream",
     "text": [
      "tensor(0.1117, grad_fn=<MseLossBackward0>)\n",
      "tensor(0.)\n",
      "tensor(0.0628, grad_fn=<MseLossBackward0>)\n",
      "tensor(0.)\n",
      "tensor(0.0349, grad_fn=<MseLossBackward0>)\n",
      "tensor(0.)\n",
      "tensor(0.0232, grad_fn=<MseLossBackward0>)\n",
      "tensor(0.)\n",
      "tensor(0.0193, grad_fn=<MseLossBackward0>)\n",
      "tensor(0.)\n",
      "tensor(0.0167, grad_fn=<MseLossBackward0>)\n",
      "tensor(0.)\n",
      "tensor(0.0150, grad_fn=<MseLossBackward0>)\n",
      "tensor(0.)\n",
      "tensor(0.0142, grad_fn=<MseLossBackward0>)\n",
      "tensor(0.)\n",
      "tensor(0.0136, grad_fn=<MseLossBackward0>)\n",
      "tensor(0.)\n",
      "tensor(0.0132, grad_fn=<MseLossBackward0>)\n",
      "tensor(0.)\n",
      "tensor(0.0128, grad_fn=<MseLossBackward0>)\n",
      "tensor(0.)\n",
      "tensor(0.0123, grad_fn=<MseLossBackward0>)\n",
      "tensor(0.)\n",
      "tensor(0.0118, grad_fn=<MseLossBackward0>)\n",
      "tensor(0.)\n",
      "tensor(0.0111, grad_fn=<MseLossBackward0>)\n",
      "tensor(0.)\n",
      "tensor(0.0107, grad_fn=<MseLossBackward0>)\n",
      "tensor(0.)\n",
      "tensor(0.0103, grad_fn=<MseLossBackward0>)\n",
      "tensor(0.)\n",
      "tensor(0.0100, grad_fn=<MseLossBackward0>)\n",
      "tensor(0.)\n",
      "tensor(0.0098, grad_fn=<MseLossBackward0>)\n",
      "tensor(0.)\n",
      "tensor(0.0097, grad_fn=<MseLossBackward0>)\n",
      "tensor(0.)\n",
      "tensor(0.0096, grad_fn=<MseLossBackward0>)\n",
      "tensor(0.)\n"
     ]
    }
   ],
   "source": [
    "# net_5 training and making a prediction (changes are - lr +=0.001)\n",
    "\n",
    "optimizer = torch.optim.Adam(net_5.parameters(),lr=0.002)\n",
    "\n",
    "loss = torch.nn.MSELoss()\n",
    "\n",
    "num_epochs = 500\n",
    "\n",
    "for epoch in range(num_epochs):\n",
    "    optimizer.zero_grad()\n",
    "    preds = net_5.forward(X_train).flatten()\n",
    "    loss_value = loss(preds,y_train)\n",
    "    loss_value.backward()\n",
    "    optimizer.step()\n",
    "    if (epoch % 25 == 0) or (epoch == 500) :\n",
    "            print(loss_value)\n",
    "            net_5.eval(),\n",
    "            test_preds_5 = net_5.forward(X_test).flatten()\n",
    "            accuracy = (torch.round(test_preds_5) == y_test).float().mean().data\n",
    "            print(accuracy)"
   ]
  },
  {
   "cell_type": "code",
   "execution_count": 50,
   "id": "ed1e956c",
   "metadata": {},
   "outputs": [
    {
     "name": "stdout",
     "output_type": "stream",
     "text": [
      "     prediction        actual\n",
      "0  21693.945312   9449.041992\n",
      "1     -8.832759   1272.693848\n",
      "2    -15.238729    799.768799\n",
      "3   9485.941406  11718.031250\n",
      "4     -8.603992   1472.373291\n",
      "\n",
      " RMSE: 4400.8994\n"
     ]
    },
    {
     "data": {
      "image/png": "[encoded data removed]",
      "text/plain": [
       "<Figure size 1440x720 with 1 Axes>"
      ]
     },
     "metadata": {
      "needs_background": "light"
     },
     "output_type": "display_data"
    }
   ],
   "source": [
    "# display the results\n",
    "\n",
    "plot_result(test_preds_5,y_test)"
   ]
  },
  {
   "attachments": {},
   "cell_type": "markdown",
   "id": "59c04cea",
   "metadata": {},
   "source": [
    "**Learning rate changes**\n",
    "\n",
    "- Changes of learning rate has slightly increase the RMSE score of net 1 - changes are accepted and to be used for the further model optimization.\n",
    "- Changes of learning rate has reduce the RMSE score of net 2 - changes rejected."
   ]
  },
  {
   "cell_type": "markdown",
   "id": "dfbaa348",
   "metadata": {},
   "source": [
    "**Optimizer tuning**"
   ]
  },
  {
   "cell_type": "code",
   "execution_count": 52,
   "id": "77faae8d",
   "metadata": {},
   "outputs": [],
   "source": [
    "# based on  optimized net 1 building the net_1\n",
    "\n",
    "torch.manual_seed(1234)\n",
    "input_size = 14\n",
    "hidden_size_1 = 12\n",
    "hidden_size_2 = 8\n",
    "output_size = 1\n",
    "\n",
    "class NeuralNet(nn.Module):\n",
    "    def __init__(self, input_size, hidden_size_1, hidden_size_2, output_size):\n",
    "        super(NeuralNet, self).__init__()\n",
    "        self.fc1 = nn.Linear(input_size, hidden_size_1) \n",
    "        self.fc2 = nn.Linear(hidden_size_1, hidden_size_2) \n",
    "        self.fc3 = nn.Linear(hidden_size_2, output_size)  \n",
    "    \n",
    "    def forward(self, x):\n",
    "        x = self.fc1(x)\n",
    "        x = self.fc2(x)\n",
    "        x = self.fc3(x)\n",
    "        return x\n",
    "    \n",
    "net_4 = NeuralNet(input_size, hidden_size_1, hidden_size_2, output_size)"
   ]
  },
  {
   "cell_type": "code",
   "execution_count": 53,
   "id": "ce373935",
   "metadata": {},
   "outputs": [
    {
     "name": "stdout",
     "output_type": "stream",
     "text": [
      "tensor(0.1294, grad_fn=<MseLossBackward0>)\n",
      "tensor(0.)\n",
      "tensor(0.0986, grad_fn=<MseLossBackward0>)\n",
      "tensor(0.)\n",
      "tensor(0.0893, grad_fn=<MseLossBackward0>)\n",
      "tensor(0.)\n",
      "tensor(0.0840, grad_fn=<MseLossBackward0>)\n",
      "tensor(0.)\n",
      "tensor(0.0798, grad_fn=<MseLossBackward0>)\n",
      "tensor(0.)\n",
      "tensor(0.0763, grad_fn=<MseLossBackward0>)\n",
      "tensor(0.)\n",
      "tensor(0.0731, grad_fn=<MseLossBackward0>)\n",
      "tensor(0.)\n",
      "tensor(0.0702, grad_fn=<MseLossBackward0>)\n",
      "tensor(0.)\n",
      "tensor(0.0674, grad_fn=<MseLossBackward0>)\n",
      "tensor(0.)\n",
      "tensor(0.0648, grad_fn=<MseLossBackward0>)\n",
      "tensor(0.)\n",
      "tensor(0.0622, grad_fn=<MseLossBackward0>)\n",
      "tensor(0.)\n",
      "tensor(0.0596, grad_fn=<MseLossBackward0>)\n",
      "tensor(0.)\n",
      "tensor(0.0570, grad_fn=<MseLossBackward0>)\n",
      "tensor(0.)\n",
      "tensor(0.0545, grad_fn=<MseLossBackward0>)\n",
      "tensor(0.)\n",
      "tensor(0.0519, grad_fn=<MseLossBackward0>)\n",
      "tensor(0.)\n",
      "tensor(0.0494, grad_fn=<MseLossBackward0>)\n",
      "tensor(0.)\n",
      "tensor(0.0469, grad_fn=<MseLossBackward0>)\n",
      "tensor(0.)\n",
      "tensor(0.0444, grad_fn=<MseLossBackward0>)\n",
      "tensor(0.)\n",
      "tensor(0.0420, grad_fn=<MseLossBackward0>)\n",
      "tensor(0.)\n",
      "tensor(0.0397, grad_fn=<MseLossBackward0>)\n",
      "tensor(0.)\n"
     ]
    }
   ],
   "source": [
    "# traininf od net_4 (chnages - optimizer - SGD)\n",
    "\n",
    "optimizer = torch.optim.SGD(net_4.parameters(),lr=0.011)\n",
    "\n",
    "loss = torch.nn.MSELoss()\n",
    "\n",
    "num_epochs = 500\n",
    "\n",
    "for epoch in range(num_epochs):\n",
    "    optimizer.zero_grad()\n",
    "    preds = net_4.forward(X_train).flatten()\n",
    "    loss_value = loss(preds,y_train)\n",
    "    loss_value.backward()\n",
    "    optimizer.step()\n",
    "    if (epoch % 25 == 0) or (epoch == 500) :\n",
    "            print(loss_value)\n",
    "            net_4.eval(),\n",
    "            test_preds_4 = net_4.forward(X_test).flatten()\n",
    "            accuracy = (torch.round(test_preds_4) == y_test).float().mean().data\n",
    "            print(accuracy)"
   ]
  },
  {
   "cell_type": "code",
   "execution_count": 54,
   "id": "6507e4db",
   "metadata": {},
   "outputs": [
    {
     "name": "stdout",
     "output_type": "stream",
     "text": [
      "     prediction        actual\n",
      "0  15725.837891   9449.041992\n",
      "1   4302.927246   1272.693848\n",
      "2   6401.625977    799.768799\n",
      "3  15632.453125  11718.031250\n",
      "4   4302.507324   1472.373291\n",
      "\n",
      " RMSE: 6321.381\n"
     ]
    },
    {
     "data": {
      "image/png": "[encoded data removed]",
      "text/plain": [
       "<Figure size 1440x720 with 1 Axes>"
      ]
     },
     "metadata": {
      "needs_background": "light"
     },
     "output_type": "display_data"
    }
   ],
   "source": [
    "plot_result(test_preds_4,y_test)"
   ]
  },
  {
   "cell_type": "code",
   "execution_count": 55,
   "id": "461c9e9f",
   "metadata": {},
   "outputs": [],
   "source": [
    "# based on optimized net 1 building the net_4\n",
    "\n",
    "torch.manual_seed(1234)\n",
    "input_size = 14\n",
    "hidden_size_1 = 12\n",
    "hidden_size_2 = 8\n",
    "output_size = 1\n",
    "\n",
    "class NeuralNet(nn.Module):\n",
    "    def __init__(self, input_size, hidden_size_1, hidden_size_2, output_size):\n",
    "        super(NeuralNet, self).__init__()\n",
    "        self.fc1 = nn.Linear(input_size, hidden_size_1) \n",
    "        self.fc2 = nn.Linear(hidden_size_1, hidden_size_2) \n",
    "        self.fc3 = nn.Linear(hidden_size_2, output_size)  \n",
    "    \n",
    "    def forward(self, x):\n",
    "        x = self.fc1(x)\n",
    "        x = self.fc2(x)\n",
    "        x = self.fc3(x)\n",
    "        return x\n",
    "    \n",
    "net_4 = NeuralNet(input_size, hidden_size_1, hidden_size_2, output_size)"
   ]
  },
  {
   "cell_type": "code",
   "execution_count": 56,
   "id": "a587fe78",
   "metadata": {},
   "outputs": [
    {
     "name": "stdout",
     "output_type": "stream",
     "text": [
      "tensor(0.1294, grad_fn=<MseLossBackward0>)\n",
      "tensor(0.)\n",
      "tensor(0.0239, grad_fn=<MseLossBackward0>)\n",
      "tensor(0.)\n",
      "tensor(0.0180, grad_fn=<MseLossBackward0>)\n",
      "tensor(0.)\n",
      "tensor(0.0165, grad_fn=<MseLossBackward0>)\n",
      "tensor(0.)\n",
      "tensor(0.0162, grad_fn=<MseLossBackward0>)\n",
      "tensor(0.)\n",
      "tensor(0.0161, grad_fn=<MseLossBackward0>)\n",
      "tensor(0.)\n",
      "tensor(0.0161, grad_fn=<MseLossBackward0>)\n",
      "tensor(0.)\n",
      "tensor(0.0160, grad_fn=<MseLossBackward0>)\n",
      "tensor(0.)\n",
      "tensor(0.0160, grad_fn=<MseLossBackward0>)\n",
      "tensor(0.)\n",
      "tensor(0.0160, grad_fn=<MseLossBackward0>)\n",
      "tensor(0.)\n",
      "tensor(0.0160, grad_fn=<MseLossBackward0>)\n",
      "tensor(0.)\n",
      "tensor(0.0159, grad_fn=<MseLossBackward0>)\n",
      "tensor(0.)\n",
      "tensor(0.0159, grad_fn=<MseLossBackward0>)\n",
      "tensor(0.)\n",
      "tensor(0.0159, grad_fn=<MseLossBackward0>)\n",
      "tensor(0.)\n",
      "tensor(0.0159, grad_fn=<MseLossBackward0>)\n",
      "tensor(0.)\n",
      "tensor(0.0159, grad_fn=<MseLossBackward0>)\n",
      "tensor(0.)\n",
      "tensor(0.0159, grad_fn=<MseLossBackward0>)\n",
      "tensor(0.)\n",
      "tensor(0.0159, grad_fn=<MseLossBackward0>)\n",
      "tensor(0.)\n",
      "tensor(0.0159, grad_fn=<MseLossBackward0>)\n",
      "tensor(0.)\n",
      "tensor(0.0158, grad_fn=<MseLossBackward0>)\n",
      "tensor(0.)\n"
     ]
    }
   ],
   "source": [
    "# traininf of net_4 (changes - optimizer - RMSprop)\n",
    "\n",
    "optimizer = torch.optim.RMSprop(net_4.parameters(),lr=0.001)\n",
    "\n",
    "loss = torch.nn.MSELoss()\n",
    "\n",
    "num_epochs = 500\n",
    "\n",
    "for epoch in range(num_epochs):\n",
    "    optimizer.zero_grad()\n",
    "    preds = net_4.forward(X_train).flatten()\n",
    "    loss_value = loss(preds,y_train)\n",
    "    loss_value.backward()\n",
    "    optimizer.step()\n",
    "    if (epoch % 25 == 0) or (epoch == 500) :\n",
    "            print(loss_value)\n",
    "            net_4.eval(),\n",
    "            test_preds_4 = net_4.forward(X_test).flatten()\n",
    "            accuracy = (torch.round(test_preds_4) == y_test).float().mean().data\n",
    "            print(accuracy)"
   ]
  },
  {
   "cell_type": "code",
   "execution_count": 57,
   "id": "47319a3e",
   "metadata": {},
   "outputs": [
    {
     "name": "stdout",
     "output_type": "stream",
     "text": [
      "     prediction        actual\n",
      "0  25195.689453   9449.041992\n",
      "1   1302.915405   1272.693848\n",
      "2   1295.320801    799.768799\n",
      "3  17401.923828  11718.031250\n",
      "4    998.719788   1472.373291\n",
      "\n",
      " RMSE: 4810.8184\n"
     ]
    },
    {
     "data": {
      "image/png": "[encoded data removed]",
      "text/plain": [
       "<Figure size 1440x720 with 1 Axes>"
      ]
     },
     "metadata": {
      "needs_background": "light"
     },
     "output_type": "display_data"
    }
   ],
   "source": [
    "plot_result(test_preds_4,y_test)"
   ]
  },
  {
   "cell_type": "code",
   "execution_count": 58,
   "id": "d8a06c50",
   "metadata": {},
   "outputs": [],
   "source": [
    "# based on net 2 building the net_5\n",
    "\n",
    "torch.manual_seed(1234)\n",
    "input_size = 14\n",
    "hidden_size_1 = 12\n",
    "hidden_size_2 = 8\n",
    "output_size = 1\n",
    "\n",
    "class NeuralNet(nn.Module):\n",
    "    def __init__(self, input_size, hidden_size_1, hidden_size_2, output_size):\n",
    "        super(NeuralNet, self).__init__()\n",
    "        self.fc1 = nn.Linear(input_size, hidden_size_1) \n",
    "        self.act1 = nn.LeakyReLU()\n",
    "        self.fc2 = nn.Linear(hidden_size_1, hidden_size_2) \n",
    "        self.act2 = nn.LeakyReLU()\n",
    "        self.fc3 = nn.Linear(hidden_size_2, output_size)  \n",
    "        self.act3 = nn.LeakyReLU()\n",
    "    \n",
    "    def forward(self, x):\n",
    "        x = self.fc1(x)\n",
    "        x = self.act1(x)\n",
    "        x = self.fc2(x)\n",
    "        x = self.act2(x)\n",
    "        x = self.fc3(x)\n",
    "        x = self.act3(x)\n",
    "        return x\n",
    "    \n",
    "net_5 = NeuralNet(input_size, hidden_size_1, hidden_size_2, output_size)"
   ]
  },
  {
   "cell_type": "code",
   "execution_count": 59,
   "id": "b72b2b79",
   "metadata": {},
   "outputs": [
    {
     "name": "stdout",
     "output_type": "stream",
     "text": [
      "tensor(0.1117, grad_fn=<MseLossBackward0>)\n",
      "tensor(0.)\n",
      "tensor(0.1076, grad_fn=<MseLossBackward0>)\n",
      "tensor(0.)\n",
      "tensor(0.1040, grad_fn=<MseLossBackward0>)\n",
      "tensor(0.)\n",
      "tensor(0.1008, grad_fn=<MseLossBackward0>)\n",
      "tensor(0.)\n",
      "tensor(0.0980, grad_fn=<MseLossBackward0>)\n",
      "tensor(0.)\n",
      "tensor(0.0955, grad_fn=<MseLossBackward0>)\n",
      "tensor(0.)\n",
      "tensor(0.0933, grad_fn=<MseLossBackward0>)\n",
      "tensor(0.)\n",
      "tensor(0.0914, grad_fn=<MseLossBackward0>)\n",
      "tensor(0.)\n",
      "tensor(0.0897, grad_fn=<MseLossBackward0>)\n",
      "tensor(0.)\n",
      "tensor(0.0882, grad_fn=<MseLossBackward0>)\n",
      "tensor(0.)\n",
      "tensor(0.0869, grad_fn=<MseLossBackward0>)\n",
      "tensor(0.)\n",
      "tensor(0.0857, grad_fn=<MseLossBackward0>)\n",
      "tensor(0.)\n",
      "tensor(0.0846, grad_fn=<MseLossBackward0>)\n",
      "tensor(0.)\n",
      "tensor(0.0837, grad_fn=<MseLossBackward0>)\n",
      "tensor(0.)\n",
      "tensor(0.0829, grad_fn=<MseLossBackward0>)\n",
      "tensor(0.)\n",
      "tensor(0.0822, grad_fn=<MseLossBackward0>)\n",
      "tensor(0.)\n",
      "tensor(0.0815, grad_fn=<MseLossBackward0>)\n",
      "tensor(0.)\n",
      "tensor(0.0809, grad_fn=<MseLossBackward0>)\n",
      "tensor(0.)\n",
      "tensor(0.0804, grad_fn=<MseLossBackward0>)\n",
      "tensor(0.)\n",
      "tensor(0.0799, grad_fn=<MseLossBackward0>)\n",
      "tensor(0.)\n"
     ]
    }
   ],
   "source": [
    "# training net_5 (changes - optimizer - SGD)\n",
    "\n",
    "optimizer = torch.optim.SGD(net_5.parameters(),lr=0.001)\n",
    "\n",
    "loss = torch.nn.MSELoss()\n",
    "\n",
    "num_epochs = 500\n",
    "\n",
    "for epoch in range(num_epochs):\n",
    "    optimizer.zero_grad()\n",
    "    preds = net_5.forward(X_train).flatten()\n",
    "    loss_value = loss(preds,y_train)\n",
    "    loss_value.backward()\n",
    "    optimizer.step()\n",
    "    if (epoch % 25 == 0) or (epoch == 500) :\n",
    "            print(loss_value)\n",
    "            net_5.eval(),\n",
    "            test_preds_5 = net_5.forward(X_test).flatten()\n",
    "            accuracy = (torch.round(test_preds_5) == y_test).float().mean().data\n",
    "            print(accuracy)"
   ]
  },
  {
   "cell_type": "code",
   "execution_count": 60,
   "id": "e0e399dc",
   "metadata": {},
   "outputs": [
    {
     "name": "stdout",
     "output_type": "stream",
     "text": [
      "    prediction        actual\n",
      "0  8418.826172   9449.041992\n",
      "1  7992.934082   1272.693848\n",
      "2  8766.971680    799.768799\n",
      "3  6583.833496  11718.031250\n",
      "4  8045.629395   1472.373291\n",
      "\n",
      " RMSE: 9329.265\n"
     ]
    },
    {
     "data": {
      "image/png": "[encoded data removed]",
      "text/plain": [
       "<Figure size 1440x720 with 1 Axes>"
      ]
     },
     "metadata": {
      "needs_background": "light"
     },
     "output_type": "display_data"
    }
   ],
   "source": [
    "plot_result(test_preds_5,y_test)"
   ]
  },
  {
   "cell_type": "code",
   "execution_count": 61,
   "id": "6642c3e5",
   "metadata": {},
   "outputs": [],
   "source": [
    "# based on net 2 building the net_5\n",
    "\n",
    "torch.manual_seed(1234)\n",
    "input_size = 14\n",
    "hidden_size_1 = 12\n",
    "hidden_size_2 = 8\n",
    "output_size = 1\n",
    "\n",
    "class NeuralNet(nn.Module):\n",
    "    def __init__(self, input_size, hidden_size_1, hidden_size_2, output_size):\n",
    "        super(NeuralNet, self).__init__()\n",
    "        self.fc1 = nn.Linear(input_size, hidden_size_1) \n",
    "        self.act1 = nn.LeakyReLU()\n",
    "        self.fc2 = nn.Linear(hidden_size_1, hidden_size_2) \n",
    "        self.act2 = nn.LeakyReLU()\n",
    "        self.fc3 = nn.Linear(hidden_size_2, output_size)  \n",
    "        self.act3 = nn.LeakyReLU()\n",
    "    \n",
    "    def forward(self, x):\n",
    "        x = self.fc1(x)\n",
    "        x = self.act1(x)\n",
    "        x = self.fc2(x)\n",
    "        x = self.act2(x)\n",
    "        x = self.fc3(x)\n",
    "        x = self.act3(x)\n",
    "        return x\n",
    "    \n",
    "net_5 = NeuralNet(input_size, hidden_size_1, hidden_size_2, output_size)"
   ]
  },
  {
   "cell_type": "code",
   "execution_count": 62,
   "id": "5879c907",
   "metadata": {},
   "outputs": [
    {
     "name": "stdout",
     "output_type": "stream",
     "text": [
      "tensor(0.1117, grad_fn=<MseLossBackward0>)\n",
      "tensor(0.)\n",
      "tensor(0.0342, grad_fn=<MseLossBackward0>)\n",
      "tensor(0.)\n",
      "tensor(0.0228, grad_fn=<MseLossBackward0>)\n",
      "tensor(0.)\n",
      "tensor(0.0181, grad_fn=<MseLossBackward0>)\n",
      "tensor(0.)\n",
      "tensor(0.0156, grad_fn=<MseLossBackward0>)\n",
      "tensor(0.)\n",
      "tensor(0.0141, grad_fn=<MseLossBackward0>)\n",
      "tensor(0.)\n",
      "tensor(0.0132, grad_fn=<MseLossBackward0>)\n",
      "tensor(0.)\n",
      "tensor(0.0129, grad_fn=<MseLossBackward0>)\n",
      "tensor(0.)\n",
      "tensor(0.0127, grad_fn=<MseLossBackward0>)\n",
      "tensor(0.)\n",
      "tensor(0.0126, grad_fn=<MseLossBackward0>)\n",
      "tensor(0.)\n",
      "tensor(0.0125, grad_fn=<MseLossBackward0>)\n",
      "tensor(0.)\n",
      "tensor(0.0124, grad_fn=<MseLossBackward0>)\n",
      "tensor(0.)\n",
      "tensor(0.0122, grad_fn=<MseLossBackward0>)\n",
      "tensor(0.)\n",
      "tensor(0.0121, grad_fn=<MseLossBackward0>)\n",
      "tensor(0.)\n",
      "tensor(0.0120, grad_fn=<MseLossBackward0>)\n",
      "tensor(0.)\n",
      "tensor(0.0118, grad_fn=<MseLossBackward0>)\n",
      "tensor(0.)\n",
      "tensor(0.0117, grad_fn=<MseLossBackward0>)\n",
      "tensor(0.)\n",
      "tensor(0.0115, grad_fn=<MseLossBackward0>)\n",
      "tensor(0.)\n",
      "tensor(0.0114, grad_fn=<MseLossBackward0>)\n",
      "tensor(0.)\n",
      "tensor(0.0112, grad_fn=<MseLossBackward0>)\n",
      "tensor(0.)\n"
     ]
    }
   ],
   "source": [
    "# training net5 (changes - optimizer - RMSprop)\n",
    "\n",
    "optimizer = torch.optim.RMSprop(net_5.parameters(),lr=0.001)\n",
    "\n",
    "loss = torch.nn.MSELoss()\n",
    "\n",
    "num_epochs = 500\n",
    "\n",
    "for epoch in range(num_epochs):\n",
    "    optimizer.zero_grad()\n",
    "    preds = net_5.forward(X_train).flatten()\n",
    "    loss_value = loss(preds,y_train)\n",
    "    loss_value.backward()\n",
    "    optimizer.step()\n",
    "    if (epoch % 25 == 0) or (epoch == 500) :\n",
    "            print(loss_value)\n",
    "            net_5.eval(),\n",
    "            test_preds_5 = net_5.forward(X_test).flatten()\n",
    "            accuracy = (torch.round(test_preds_5) == y_test).float().mean().data\n",
    "            print(accuracy)"
   ]
  },
  {
   "cell_type": "code",
   "execution_count": 63,
   "id": "6cdff2b3",
   "metadata": {},
   "outputs": [
    {
     "name": "stdout",
     "output_type": "stream",
     "text": [
      "     prediction        actual\n",
      "0  22199.255859   9449.041992\n",
      "1   1284.554321   1272.693848\n",
      "2   1227.034912    799.768799\n",
      "3  13621.442383  11718.031250\n",
      "4   1125.555298   1472.373291\n",
      "\n",
      " RMSE: 4377.1074\n"
     ]
    },
    {
     "data": {
      "image/png": "[encoded data removed]",
      "text/plain": [
       "<Figure size 1440x720 with 1 Axes>"
      ]
     },
     "metadata": {
      "needs_background": "light"
     },
     "output_type": "display_data"
    }
   ],
   "source": [
    "plot_result(test_preds_5,y_test)"
   ]
  },
  {
   "attachments": {},
   "cell_type": "markdown",
   "id": "83ba81a3",
   "metadata": {},
   "source": [
    "**Conclusion on optimizer changes**\n",
    "\n",
    "Changes of optimizer has not increase the RMSE score on both networks - adam optimizer will remain as the best for the networks and used for further optimization."
   ]
  },
  {
   "cell_type": "markdown",
   "id": "b0173c3e",
   "metadata": {},
   "source": [
    "**Dropout tuning**"
   ]
  },
  {
   "cell_type": "code",
   "execution_count": 64,
   "id": "9f65666d",
   "metadata": {},
   "outputs": [],
   "source": [
    "# based on optimized net 1 building the net_4\n",
    "\n",
    "torch.manual_seed(1234)\n",
    "input_size = 14\n",
    "hidden_size_1 = 12\n",
    "hidden_size_2 = 8\n",
    "output_size = 1\n",
    "\n",
    "class NeuralNet(nn.Module):\n",
    "    def __init__(self, input_size, hidden_size_1, hidden_size_2, output_size):\n",
    "        super(NeuralNet, self).__init__()\n",
    "        self.fc1 = nn.Linear(input_size, hidden_size_1) \n",
    "        self.dp1 = nn.Dropout(p = 0.2)\n",
    "        self.fc2 = nn.Linear(hidden_size_1, hidden_size_2) \n",
    "#         self.dp2 = nn.Dropout(p = 0.2)\n",
    "        self.fc3 = nn.Linear(hidden_size_2, output_size)\n",
    "#         self.dp3 = nn.Dropout(p = 0.2)\n",
    "    \n",
    "    def forward(self, x):\n",
    "        x = self.fc1(x)\n",
    "        x = self.dp1(x)\n",
    "        x = self.fc2(x)\n",
    "#         x = self.dp2(x)\n",
    "        x = self.fc3(x)\n",
    "#         x = self.dp3(x)\n",
    "        return x\n",
    "    \n",
    "net_4 = NeuralNet(input_size, hidden_size_1, hidden_size_2, output_size)"
   ]
  },
  {
   "cell_type": "code",
   "execution_count": 65,
   "id": "a4b022a3",
   "metadata": {
    "scrolled": false
   },
   "outputs": [
    {
     "name": "stdout",
     "output_type": "stream",
     "text": [
      "tensor(0.1317, grad_fn=<MseLossBackward0>)\n",
      "tensor(0.)\n",
      "tensor(0.0166, grad_fn=<MseLossBackward0>)\n",
      "tensor(0.)\n",
      "tensor(0.0162, grad_fn=<MseLossBackward0>)\n",
      "tensor(0.)\n",
      "tensor(0.0160, grad_fn=<MseLossBackward0>)\n",
      "tensor(0.)\n",
      "tensor(0.0159, grad_fn=<MseLossBackward0>)\n",
      "tensor(0.)\n",
      "tensor(0.0159, grad_fn=<MseLossBackward0>)\n",
      "tensor(0.)\n",
      "tensor(0.0158, grad_fn=<MseLossBackward0>)\n",
      "tensor(0.)\n",
      "tensor(0.0158, grad_fn=<MseLossBackward0>)\n",
      "tensor(0.)\n",
      "tensor(0.0157, grad_fn=<MseLossBackward0>)\n",
      "tensor(0.)\n",
      "tensor(0.0157, grad_fn=<MseLossBackward0>)\n",
      "tensor(0.)\n",
      "tensor(0.0157, grad_fn=<MseLossBackward0>)\n",
      "tensor(0.)\n",
      "tensor(0.0156, grad_fn=<MseLossBackward0>)\n",
      "tensor(0.)\n",
      "tensor(0.0156, grad_fn=<MseLossBackward0>)\n",
      "tensor(0.)\n",
      "tensor(0.0156, grad_fn=<MseLossBackward0>)\n",
      "tensor(0.)\n",
      "tensor(0.0156, grad_fn=<MseLossBackward0>)\n",
      "tensor(0.)\n",
      "tensor(0.0156, grad_fn=<MseLossBackward0>)\n",
      "tensor(0.)\n",
      "tensor(0.0156, grad_fn=<MseLossBackward0>)\n",
      "tensor(0.)\n",
      "tensor(0.0156, grad_fn=<MseLossBackward0>)\n",
      "tensor(0.)\n",
      "tensor(0.0156, grad_fn=<MseLossBackward0>)\n",
      "tensor(0.)\n",
      "tensor(0.0156, grad_fn=<MseLossBackward0>)\n",
      "tensor(0.)\n"
     ]
    }
   ],
   "source": [
    "# training net_4 (changes - added dp1, p = 0.2)\n",
    "\n",
    "optimizer = torch.optim.Adam(net_4.parameters(),lr=0.011)\n",
    "\n",
    "loss = torch.nn.MSELoss()\n",
    "\n",
    "num_epochs = 500\n",
    "\n",
    "for epoch in range(num_epochs):\n",
    "    optimizer.zero_grad()\n",
    "    preds = net_4.forward(X_train).flatten()\n",
    "    loss_value = loss(preds,y_train)\n",
    "    loss_value.backward()\n",
    "    optimizer.step()\n",
    "    if (epoch % 25 == 0) or (epoch == 500) :\n",
    "            print(loss_value)\n",
    "            net_4.eval(),\n",
    "            test_preds_4 = net_4.forward(X_test).flatten()\n",
    "            accuracy = (torch.round(test_preds_4) == y_test).float().mean().data\n",
    "            print(accuracy)"
   ]
  },
  {
   "cell_type": "code",
   "execution_count": 66,
   "id": "9f367893",
   "metadata": {},
   "outputs": [
    {
     "name": "stdout",
     "output_type": "stream",
     "text": [
      "     prediction        actual\n",
      "0  24865.228516   9449.041992\n",
      "1   1804.252808   1272.693848\n",
      "2   2341.591797    799.768799\n",
      "3  16544.748047  11718.031250\n",
      "4    977.463867   1472.373291\n",
      "\n",
      " RMSE: 4803.806\n"
     ]
    },
    {
     "data": {
      "image/png": "[encoded data removed]",
      "text/plain": [
       "<Figure size 1440x720 with 1 Axes>"
      ]
     },
     "metadata": {
      "needs_background": "light"
     },
     "output_type": "display_data"
    }
   ],
   "source": [
    "plot_result(test_preds_4,y_test)"
   ]
  },
  {
   "cell_type": "code",
   "execution_count": 67,
   "id": "1ab738e2",
   "metadata": {},
   "outputs": [],
   "source": [
    "# based on optimized net 1 building the net_4\n",
    "\n",
    "torch.manual_seed(1234)\n",
    "input_size = 14\n",
    "hidden_size_1 = 12\n",
    "hidden_size_2 = 8\n",
    "output_size = 1\n",
    "\n",
    "class NeuralNet(nn.Module):\n",
    "    def __init__(self, input_size, hidden_size_1, hidden_size_2, output_size):\n",
    "        super(NeuralNet, self).__init__()\n",
    "        self.fc1 = nn.Linear(input_size, hidden_size_1) \n",
    "        self.dp1 = nn.Dropout(p = 0.2)\n",
    "        self.fc2 = nn.Linear(hidden_size_1, hidden_size_2) \n",
    "        self.dp2 = nn.Dropout(p = 0.5)\n",
    "        self.fc3 = nn.Linear(hidden_size_2, output_size)\n",
    "#         self.dp3 = nn.Dropout(p = 0.2)\n",
    "    \n",
    "    def forward(self, x):\n",
    "        x = self.fc1(x)\n",
    "        x = self.dp1(x)\n",
    "        x = self.fc2(x)\n",
    "        x = self.dp2(x)\n",
    "        x = self.fc3(x)\n",
    "#         x = self.dp3(x)\n",
    "        return x\n",
    "    \n",
    "net_4 = NeuralNet(input_size, hidden_size_1, hidden_size_2, output_size)"
   ]
  },
  {
   "cell_type": "code",
   "execution_count": 68,
   "id": "3cb0830c",
   "metadata": {},
   "outputs": [
    {
     "name": "stdout",
     "output_type": "stream",
     "text": [
      "tensor(0.1405, grad_fn=<MseLossBackward0>)\n",
      "tensor(0.)\n",
      "tensor(0.0170, grad_fn=<MseLossBackward0>)\n",
      "tensor(0.)\n",
      "tensor(0.0161, grad_fn=<MseLossBackward0>)\n",
      "tensor(0.)\n",
      "tensor(0.0160, grad_fn=<MseLossBackward0>)\n",
      "tensor(0.)\n",
      "tensor(0.0159, grad_fn=<MseLossBackward0>)\n",
      "tensor(0.)\n",
      "tensor(0.0159, grad_fn=<MseLossBackward0>)\n",
      "tensor(0.)\n",
      "tensor(0.0158, grad_fn=<MseLossBackward0>)\n",
      "tensor(0.)\n",
      "tensor(0.0158, grad_fn=<MseLossBackward0>)\n",
      "tensor(0.)\n",
      "tensor(0.0157, grad_fn=<MseLossBackward0>)\n",
      "tensor(0.)\n",
      "tensor(0.0157, grad_fn=<MseLossBackward0>)\n",
      "tensor(0.)\n",
      "tensor(0.0156, grad_fn=<MseLossBackward0>)\n",
      "tensor(0.)\n",
      "tensor(0.0156, grad_fn=<MseLossBackward0>)\n",
      "tensor(0.)\n",
      "tensor(0.0156, grad_fn=<MseLossBackward0>)\n",
      "tensor(0.)\n",
      "tensor(0.0156, grad_fn=<MseLossBackward0>)\n",
      "tensor(0.)\n",
      "tensor(0.0156, grad_fn=<MseLossBackward0>)\n",
      "tensor(0.)\n",
      "tensor(0.0156, grad_fn=<MseLossBackward0>)\n",
      "tensor(0.)\n",
      "tensor(0.0156, grad_fn=<MseLossBackward0>)\n",
      "tensor(0.)\n",
      "tensor(0.0156, grad_fn=<MseLossBackward0>)\n",
      "tensor(0.)\n",
      "tensor(0.0156, grad_fn=<MseLossBackward0>)\n",
      "tensor(0.)\n",
      "tensor(0.0156, grad_fn=<MseLossBackward0>)\n",
      "tensor(0.)\n"
     ]
    }
   ],
   "source": [
    "# training net_4 (changes - added dp1, p = 0.2 и dp2, p = 0.5)\n",
    "\n",
    "optimizer = torch.optim.Adam(net_4.parameters(),lr=0.011)\n",
    "\n",
    "loss = torch.nn.MSELoss()\n",
    "\n",
    "num_epochs = 500\n",
    "\n",
    "for epoch in range(num_epochs):\n",
    "    optimizer.zero_grad()\n",
    "    preds = net_4.forward(X_train).flatten()\n",
    "    loss_value = loss(preds,y_train)\n",
    "    loss_value.backward()\n",
    "    optimizer.step()\n",
    "    if (epoch % 25 == 0) or (epoch == 500) :\n",
    "            print(loss_value)\n",
    "            net_4.eval(),\n",
    "            test_preds_4 = net_4.forward(X_test).flatten()\n",
    "            accuracy = (torch.round(test_preds_4) == y_test).float().mean().data\n",
    "            print(accuracy)"
   ]
  },
  {
   "cell_type": "code",
   "execution_count": 69,
   "id": "71303fcc",
   "metadata": {},
   "outputs": [
    {
     "name": "stdout",
     "output_type": "stream",
     "text": [
      "     prediction        actual\n",
      "0  24865.097656   9449.041992\n",
      "1   1804.310059   1272.693848\n",
      "2   2341.790039    799.768799\n",
      "3  16544.482422  11718.031250\n",
      "4    977.392517   1472.373291\n",
      "\n",
      " RMSE: 4803.809\n"
     ]
    },
    {
     "data": {
      "image/png": "[encoded data removed]",
      "text/plain": [
       "<Figure size 1440x720 with 1 Axes>"
      ]
     },
     "metadata": {
      "needs_background": "light"
     },
     "output_type": "display_data"
    }
   ],
   "source": [
    "plot_result(test_preds_4,y_test)"
   ]
  },
  {
   "cell_type": "code",
   "execution_count": 70,
   "id": "b55af391",
   "metadata": {},
   "outputs": [],
   "source": [
    "# based on optimized net 1 building the net_4\n",
    "\n",
    "torch.manual_seed(1234)\n",
    "input_size = 14\n",
    "hidden_size_1 = 12\n",
    "hidden_size_2 = 8\n",
    "output_size = 1\n",
    "\n",
    "class NeuralNet(nn.Module):\n",
    "    def __init__(self, input_size, hidden_size_1, hidden_size_2, output_size):\n",
    "        super(NeuralNet, self).__init__()\n",
    "        self.fc1 = nn.Linear(input_size, hidden_size_1) \n",
    "        self.dp1 = nn.Dropout(p = 0.2)\n",
    "        self.fc2 = nn.Linear(hidden_size_1, hidden_size_2) \n",
    "#         self.dp2 = nn.Dropout(p = 0.2)\n",
    "        self.fc3 = nn.Linear(hidden_size_2, output_size)\n",
    "        self.dp3 = nn.Dropout(p = 0.5)\n",
    "    \n",
    "    def forward(self, x):\n",
    "        x = self.fc1(x)\n",
    "        x = self.dp1(x)\n",
    "        x = self.fc2(x)\n",
    "#         x = self.dp2(x)\n",
    "        x = self.fc3(x)\n",
    "        x = self.dp3(x)\n",
    "        return x\n",
    "    \n",
    "net_4 = NeuralNet(input_size, hidden_size_1, hidden_size_2, output_size)"
   ]
  },
  {
   "cell_type": "code",
   "execution_count": 71,
   "id": "9fca4334",
   "metadata": {},
   "outputs": [
    {
     "name": "stdout",
     "output_type": "stream",
     "text": [
      "tensor(0.1319, grad_fn=<MseLossBackward0>)\n",
      "tensor(0.)\n",
      "tensor(0.0167, grad_fn=<MseLossBackward0>)\n",
      "tensor(0.)\n",
      "tensor(0.0162, grad_fn=<MseLossBackward0>)\n",
      "tensor(0.)\n",
      "tensor(0.0160, grad_fn=<MseLossBackward0>)\n",
      "tensor(0.)\n",
      "tensor(0.0159, grad_fn=<MseLossBackward0>)\n",
      "tensor(0.)\n",
      "tensor(0.0159, grad_fn=<MseLossBackward0>)\n",
      "tensor(0.)\n",
      "tensor(0.0158, grad_fn=<MseLossBackward0>)\n",
      "tensor(0.)\n",
      "tensor(0.0158, grad_fn=<MseLossBackward0>)\n",
      "tensor(0.)\n",
      "tensor(0.0157, grad_fn=<MseLossBackward0>)\n",
      "tensor(0.)\n",
      "tensor(0.0157, grad_fn=<MseLossBackward0>)\n",
      "tensor(0.)\n",
      "tensor(0.0156, grad_fn=<MseLossBackward0>)\n",
      "tensor(0.)\n",
      "tensor(0.0156, grad_fn=<MseLossBackward0>)\n",
      "tensor(0.)\n",
      "tensor(0.0156, grad_fn=<MseLossBackward0>)\n",
      "tensor(0.)\n",
      "tensor(0.0156, grad_fn=<MseLossBackward0>)\n",
      "tensor(0.)\n",
      "tensor(0.0156, grad_fn=<MseLossBackward0>)\n",
      "tensor(0.)\n",
      "tensor(0.0156, grad_fn=<MseLossBackward0>)\n",
      "tensor(0.)\n",
      "tensor(0.0156, grad_fn=<MseLossBackward0>)\n",
      "tensor(0.)\n",
      "tensor(0.0156, grad_fn=<MseLossBackward0>)\n",
      "tensor(0.)\n",
      "tensor(0.0156, grad_fn=<MseLossBackward0>)\n",
      "tensor(0.)\n",
      "tensor(0.0156, grad_fn=<MseLossBackward0>)\n",
      "tensor(0.)\n"
     ]
    }
   ],
   "source": [
    "# training net_4 (changes - added dp1  и dp3, p = 0.5)\n",
    "\n",
    "optimizer = torch.optim.Adam(net_4.parameters(),lr=0.011)\n",
    "\n",
    "loss = torch.nn.MSELoss()\n",
    "\n",
    "num_epochs = 500\n",
    "\n",
    "for epoch in range(num_epochs):\n",
    "    optimizer.zero_grad()\n",
    "    preds = net_4.forward(X_train).flatten()\n",
    "    loss_value = loss(preds,y_train)\n",
    "    loss_value.backward()\n",
    "    optimizer.step()\n",
    "    if (epoch % 25 == 0) or (epoch == 500) :\n",
    "            print(loss_value)\n",
    "            net_4.eval(),\n",
    "            test_preds_4 = net_4.forward(X_test).flatten()\n",
    "            accuracy = (torch.round(test_preds_4) == y_test).float().mean().data\n",
    "            print(accuracy)"
   ]
  },
  {
   "cell_type": "code",
   "execution_count": 72,
   "id": "5b2b5199",
   "metadata": {},
   "outputs": [
    {
     "name": "stdout",
     "output_type": "stream",
     "text": [
      "     prediction        actual\n",
      "0  24864.966797   9449.041992\n",
      "1   1804.372925   1272.693848\n",
      "2   2341.990723    799.768799\n",
      "3  16544.232422  11718.031250\n",
      "4    977.327820   1472.373291\n",
      "\n",
      " RMSE: 4803.8115\n"
     ]
    },
    {
     "data": {
      "image/png": "[encoded data removed]",
      "text/plain": [
       "<Figure size 1440x720 with 1 Axes>"
      ]
     },
     "metadata": {
      "needs_background": "light"
     },
     "output_type": "display_data"
    }
   ],
   "source": [
    "plot_result(test_preds_4,y_test)"
   ]
  },
  {
   "cell_type": "code",
   "execution_count": 73,
   "id": "d00922ab",
   "metadata": {},
   "outputs": [],
   "source": [
    "# based on optimized net 1 building the net_4\n",
    "\n",
    "torch.manual_seed(1234)\n",
    "input_size = 14\n",
    "hidden_size_1 = 12\n",
    "hidden_size_2 = 8\n",
    "output_size = 1\n",
    "\n",
    "class NeuralNet(nn.Module):\n",
    "    def __init__(self, input_size, hidden_size_1, hidden_size_2, output_size):\n",
    "        super(NeuralNet, self).__init__()\n",
    "        self.fc1 = nn.Linear(input_size, hidden_size_1) \n",
    "        self.dp1 = nn.Dropout(p = 0.2)\n",
    "        self.fc2 = nn.Linear(hidden_size_1, hidden_size_2) \n",
    "        self.dp2 = nn.Dropout(p = 0.5)\n",
    "        self.fc3 = nn.Linear(hidden_size_2, output_size)\n",
    "        self.dp3 = nn.Dropout(p = 0.2)\n",
    "    \n",
    "    def forward(self, x):\n",
    "        x = self.fc1(x)\n",
    "        x = self.dp1(x)\n",
    "        x = self.fc2(x)\n",
    "        x = self.dp2(x)\n",
    "        x = self.fc3(x)\n",
    "        x = self.dp3(x)\n",
    "        return x\n",
    "    \n",
    "net_4 = NeuralNet(input_size, hidden_size_1, hidden_size_2, output_size)"
   ]
  },
  {
   "cell_type": "code",
   "execution_count": 74,
   "id": "648727c2",
   "metadata": {},
   "outputs": [
    {
     "name": "stdout",
     "output_type": "stream",
     "text": [
      "tensor(0.1473, grad_fn=<MseLossBackward0>)\n",
      "tensor(0.)\n",
      "tensor(0.0180, grad_fn=<MseLossBackward0>)\n",
      "tensor(0.)\n",
      "tensor(0.0161, grad_fn=<MseLossBackward0>)\n",
      "tensor(0.)\n",
      "tensor(0.0160, grad_fn=<MseLossBackward0>)\n",
      "tensor(0.)\n",
      "tensor(0.0159, grad_fn=<MseLossBackward0>)\n",
      "tensor(0.)\n",
      "tensor(0.0159, grad_fn=<MseLossBackward0>)\n",
      "tensor(0.)\n",
      "tensor(0.0158, grad_fn=<MseLossBackward0>)\n",
      "tensor(0.)\n",
      "tensor(0.0158, grad_fn=<MseLossBackward0>)\n",
      "tensor(0.)\n",
      "tensor(0.0158, grad_fn=<MseLossBackward0>)\n",
      "tensor(0.)\n",
      "tensor(0.0157, grad_fn=<MseLossBackward0>)\n",
      "tensor(0.)\n",
      "tensor(0.0157, grad_fn=<MseLossBackward0>)\n",
      "tensor(0.)\n",
      "tensor(0.0156, grad_fn=<MseLossBackward0>)\n",
      "tensor(0.)\n",
      "tensor(0.0156, grad_fn=<MseLossBackward0>)\n",
      "tensor(0.)\n",
      "tensor(0.0156, grad_fn=<MseLossBackward0>)\n",
      "tensor(0.)\n",
      "tensor(0.0156, grad_fn=<MseLossBackward0>)\n",
      "tensor(0.)\n",
      "tensor(0.0156, grad_fn=<MseLossBackward0>)\n",
      "tensor(0.)\n",
      "tensor(0.0156, grad_fn=<MseLossBackward0>)\n",
      "tensor(0.)\n",
      "tensor(0.0156, grad_fn=<MseLossBackward0>)\n",
      "tensor(0.)\n",
      "tensor(0.0156, grad_fn=<MseLossBackward0>)\n",
      "tensor(0.)\n",
      "tensor(0.0156, grad_fn=<MseLossBackward0>)\n",
      "tensor(0.)\n"
     ]
    }
   ],
   "source": [
    "# training net_4 (changes - added  dp1, dp2  и dp3, p = 0.2, 0.5, 0.2)\n",
    "\n",
    "optimizer = torch.optim.Adam(net_4.parameters(),lr=0.011)\n",
    "\n",
    "loss = torch.nn.MSELoss()\n",
    "\n",
    "num_epochs = 500\n",
    "\n",
    "for epoch in range(num_epochs):\n",
    "    optimizer.zero_grad()\n",
    "    preds = net_4.forward(X_train).flatten()\n",
    "    loss_value = loss(preds,y_train)\n",
    "    loss_value.backward()\n",
    "    optimizer.step()\n",
    "    if (epoch % 25 == 0) or (epoch == 500) :\n",
    "            print(loss_value)\n",
    "            net_4.eval(),\n",
    "            test_preds_4 = net_4.forward(X_test).flatten()\n",
    "            accuracy = (torch.round(test_preds_4) == y_test).float().mean().data\n",
    "            print(accuracy)"
   ]
  },
  {
   "cell_type": "code",
   "execution_count": 75,
   "id": "fb316027",
   "metadata": {},
   "outputs": [
    {
     "name": "stdout",
     "output_type": "stream",
     "text": [
      "     prediction        actual\n",
      "0  24865.683594   9449.041992\n",
      "1   1804.027466   1272.693848\n",
      "2   2340.869141    799.768799\n",
      "3  16545.644531  11718.031250\n",
      "4    977.693787   1472.373291\n",
      "\n",
      " RMSE: 4803.796\n"
     ]
    },
    {
     "data": {
      "image/png": "[encoded data removed]",
      "text/plain": [
       "<Figure size 1440x720 with 1 Axes>"
      ]
     },
     "metadata": {
      "needs_background": "light"
     },
     "output_type": "display_data"
    }
   ],
   "source": [
    "plot_result(test_preds_4,y_test)"
   ]
  },
  {
   "attachments": {},
   "cell_type": "markdown",
   "id": "e5210beb",
   "metadata": {},
   "source": [
    "**Conclusion on dropout for net_4**\n",
    "\n",
    "Score increase obtained only in case of apply dp1 = 0.2\n",
    "\n",
    "Other settings has not increase the RMS score for the net 4"
   ]
  },
  {
   "cell_type": "code",
   "execution_count": 76,
   "id": "5668fda0",
   "metadata": {},
   "outputs": [],
   "source": [
    "# based on optimized net 2 building the net_5\n",
    "\n",
    "torch.manual_seed(1234)\n",
    "input_size = 14\n",
    "hidden_size_1 = 12\n",
    "hidden_size_2 = 8\n",
    "output_size = 1\n",
    "\n",
    "class NeuralNet(nn.Module):\n",
    "    def __init__(self, input_size, hidden_size_1, hidden_size_2, output_size):\n",
    "        super(NeuralNet, self).__init__()\n",
    "        self.fc1 = nn.Linear(input_size, hidden_size_1) \n",
    "        self.dp1 = nn.Dropout(p = 0.1)\n",
    "        self.act1 = nn.LeakyReLU()\n",
    "        self.fc2 = nn.Linear(hidden_size_1, hidden_size_2) \n",
    "#         self.dp2 = nn.Dropout(p = 0.2)\n",
    "        self.act2 = nn.LeakyReLU()\n",
    "        self.fc3 = nn.Linear(hidden_size_2, output_size)  \n",
    "#         self.dp3 = nn.Dropout(p = 0.2)\n",
    "        self.act3 = nn.LeakyReLU()\n",
    "    \n",
    "    def forward(self, x):\n",
    "        x = self.fc1(x)\n",
    "        x = self.dp1(x)\n",
    "        x = self.act1(x)\n",
    "        x = self.fc2(x)\n",
    "#         x = self.dp2(x)\n",
    "        x = self.act2(x)\n",
    "        x = self.fc3(x)\n",
    "#         x = self.dp3(x)\n",
    "        x = self.act3(x)\n",
    "        return x\n",
    "    \n",
    "net_5 = NeuralNet(input_size, hidden_size_1, hidden_size_2, output_size)"
   ]
  },
  {
   "cell_type": "code",
   "execution_count": 77,
   "id": "6c466a0c",
   "metadata": {},
   "outputs": [
    {
     "name": "stdout",
     "output_type": "stream",
     "text": [
      "tensor(0.1119, grad_fn=<MseLossBackward0>)\n",
      "tensor(0.)\n",
      "tensor(0.0810, grad_fn=<MseLossBackward0>)\n",
      "tensor(0.)\n",
      "tensor(0.0614, grad_fn=<MseLossBackward0>)\n",
      "tensor(0.)\n",
      "tensor(0.0445, grad_fn=<MseLossBackward0>)\n",
      "tensor(0.)\n",
      "tensor(0.0313, grad_fn=<MseLossBackward0>)\n",
      "tensor(0.)\n",
      "tensor(0.0251, grad_fn=<MseLossBackward0>)\n",
      "tensor(0.)\n",
      "tensor(0.0220, grad_fn=<MseLossBackward0>)\n",
      "tensor(0.)\n",
      "tensor(0.0197, grad_fn=<MseLossBackward0>)\n",
      "tensor(0.)\n",
      "tensor(0.0179, grad_fn=<MseLossBackward0>)\n",
      "tensor(0.)\n",
      "tensor(0.0163, grad_fn=<MseLossBackward0>)\n",
      "tensor(0.)\n",
      "tensor(0.0149, grad_fn=<MseLossBackward0>)\n",
      "tensor(0.)\n",
      "tensor(0.0141, grad_fn=<MseLossBackward0>)\n",
      "tensor(0.)\n",
      "tensor(0.0135, grad_fn=<MseLossBackward0>)\n",
      "tensor(0.)\n",
      "tensor(0.0131, grad_fn=<MseLossBackward0>)\n",
      "tensor(0.)\n",
      "tensor(0.0128, grad_fn=<MseLossBackward0>)\n",
      "tensor(0.)\n",
      "tensor(0.0126, grad_fn=<MseLossBackward0>)\n",
      "tensor(0.)\n",
      "tensor(0.0124, grad_fn=<MseLossBackward0>)\n",
      "tensor(0.)\n",
      "tensor(0.0122, grad_fn=<MseLossBackward0>)\n",
      "tensor(0.)\n",
      "tensor(0.0119, grad_fn=<MseLossBackward0>)\n",
      "tensor(0.)\n",
      "tensor(0.0117, grad_fn=<MseLossBackward0>)\n",
      "tensor(0.)\n"
     ]
    }
   ],
   "source": [
    "# training net_5 (changes - added dp1, p = 0.1)\n",
    "\n",
    "optimizer = torch.optim.Adam(net_5.parameters(),lr=0.001)\n",
    "\n",
    "loss = torch.nn.MSELoss()\n",
    "\n",
    "num_epochs = 500\n",
    "\n",
    "for epoch in range(num_epochs):\n",
    "    optimizer.zero_grad()\n",
    "    preds = net_5.forward(X_train).flatten()\n",
    "    loss_value = loss(preds,y_train)\n",
    "    loss_value.backward()\n",
    "    optimizer.step()\n",
    "    if (epoch % 25 == 0) or (epoch == 500) :\n",
    "            print(loss_value)\n",
    "            net_5.eval(),\n",
    "            test_preds_5 = net_5.forward(X_test).flatten()\n",
    "            accuracy = (torch.round(test_preds_5) == y_test).float().mean().data\n",
    "            print(accuracy)"
   ]
  },
  {
   "cell_type": "code",
   "execution_count": 78,
   "id": "63a337cc",
   "metadata": {},
   "outputs": [
    {
     "name": "stdout",
     "output_type": "stream",
     "text": [
      "     prediction        actual\n",
      "0  21826.535156   9449.041992\n",
      "1   1492.371826   1272.693848\n",
      "2   1367.966187    799.768799\n",
      "3  14648.825195  11718.031250\n",
      "4   1352.701904   1472.373291\n",
      "\n",
      " RMSE: 4337.173\n"
     ]
    },
    {
     "data": {
      "image/png": "[encoded data removed]",
      "text/plain": [
       "<Figure size 1440x720 with 1 Axes>"
      ]
     },
     "metadata": {
      "needs_background": "light"
     },
     "output_type": "display_data"
    }
   ],
   "source": [
    "plot_result(test_preds_5,y_test)"
   ]
  },
  {
   "cell_type": "code",
   "execution_count": 79,
   "id": "f7ecc3ba",
   "metadata": {},
   "outputs": [],
   "source": [
    "# based on optimized net 2 building the net_5\n",
    "\n",
    "torch.manual_seed(1234)\n",
    "input_size = 14\n",
    "hidden_size_1 = 12\n",
    "hidden_size_2 = 8\n",
    "output_size = 1\n",
    "\n",
    "class NeuralNet(nn.Module):\n",
    "    def __init__(self, input_size, hidden_size_1, hidden_size_2, output_size):\n",
    "        super(NeuralNet, self).__init__()\n",
    "        self.fc1 = nn.Linear(input_size, hidden_size_1) \n",
    "        self.dp1 = nn.Dropout(p = 0.1)\n",
    "        self.act1 = nn.LeakyReLU()\n",
    "        self.fc2 = nn.Linear(hidden_size_1, hidden_size_2) \n",
    "        self.dp2 = nn.Dropout(p = 0.1)\n",
    "        self.act2 = nn.LeakyReLU()\n",
    "        self.fc3 = nn.Linear(hidden_size_2, output_size)  \n",
    "#         self.dp3 = nn.Dropout(p = 0.2)\n",
    "        self.act3 = nn.LeakyReLU()\n",
    "    \n",
    "    def forward(self, x):\n",
    "        x = self.fc1(x)\n",
    "        x = self.dp1(x)\n",
    "        x = self.act1(x)\n",
    "        x = self.fc2(x)\n",
    "        x = self.dp2(x)\n",
    "        x = self.act2(x)\n",
    "        x = self.fc3(x)\n",
    "#         x = self.dp3(x)\n",
    "        x = self.act3(x)\n",
    "        return x\n",
    "    \n",
    "net_5 = NeuralNet(input_size, hidden_size_1, hidden_size_2, output_size)"
   ]
  },
  {
   "cell_type": "code",
   "execution_count": 80,
   "id": "153cb0e0",
   "metadata": {},
   "outputs": [
    {
     "name": "stdout",
     "output_type": "stream",
     "text": [
      "tensor(0.1130, grad_fn=<MseLossBackward0>)\n",
      "tensor(0.)\n",
      "tensor(0.0809, grad_fn=<MseLossBackward0>)\n",
      "tensor(0.)\n",
      "tensor(0.0614, grad_fn=<MseLossBackward0>)\n",
      "tensor(0.)\n",
      "tensor(0.0444, grad_fn=<MseLossBackward0>)\n",
      "tensor(0.)\n",
      "tensor(0.0313, grad_fn=<MseLossBackward0>)\n",
      "tensor(0.)\n",
      "tensor(0.0250, grad_fn=<MseLossBackward0>)\n",
      "tensor(0.)\n",
      "tensor(0.0219, grad_fn=<MseLossBackward0>)\n",
      "tensor(0.)\n",
      "tensor(0.0196, grad_fn=<MseLossBackward0>)\n",
      "tensor(0.)\n",
      "tensor(0.0178, grad_fn=<MseLossBackward0>)\n",
      "tensor(0.)\n",
      "tensor(0.0162, grad_fn=<MseLossBackward0>)\n",
      "tensor(0.)\n",
      "tensor(0.0149, grad_fn=<MseLossBackward0>)\n",
      "tensor(0.)\n",
      "tensor(0.0140, grad_fn=<MseLossBackward0>)\n",
      "tensor(0.)\n",
      "tensor(0.0135, grad_fn=<MseLossBackward0>)\n",
      "tensor(0.)\n",
      "tensor(0.0131, grad_fn=<MseLossBackward0>)\n",
      "tensor(0.)\n",
      "tensor(0.0128, grad_fn=<MseLossBackward0>)\n",
      "tensor(0.)\n",
      "tensor(0.0126, grad_fn=<MseLossBackward0>)\n",
      "tensor(0.)\n",
      "tensor(0.0124, grad_fn=<MseLossBackward0>)\n",
      "tensor(0.)\n",
      "tensor(0.0121, grad_fn=<MseLossBackward0>)\n",
      "tensor(0.)\n",
      "tensor(0.0119, grad_fn=<MseLossBackward0>)\n",
      "tensor(0.)\n",
      "tensor(0.0117, grad_fn=<MseLossBackward0>)\n",
      "tensor(0.)\n"
     ]
    }
   ],
   "source": [
    "# training net_5 (changes - added dp1, p = 0.1 , dp2, p=0.1)\n",
    "\n",
    "optimizer = torch.optim.Adam(net_5.parameters(),lr=0.001)\n",
    "\n",
    "loss = torch.nn.MSELoss()\n",
    "\n",
    "num_epochs = 500\n",
    "\n",
    "for epoch in range(num_epochs):\n",
    "    optimizer.zero_grad()\n",
    "    preds = net_5.forward(X_train).flatten()\n",
    "    loss_value = loss(preds,y_train)\n",
    "    loss_value.backward()\n",
    "    optimizer.step()\n",
    "    if (epoch % 25 == 0) or (epoch == 500) :\n",
    "            print(loss_value)\n",
    "            net_5.eval(),\n",
    "            test_preds_5 = net_5.forward(X_test).flatten()\n",
    "            accuracy = (torch.round(test_preds_5) == y_test).float().mean().data\n",
    "            print(accuracy)"
   ]
  },
  {
   "cell_type": "code",
   "execution_count": 81,
   "id": "8f973028",
   "metadata": {},
   "outputs": [
    {
     "name": "stdout",
     "output_type": "stream",
     "text": [
      "     prediction        actual\n",
      "0  21789.283203   9449.041992\n",
      "1   1470.095215   1272.693848\n",
      "2   1351.251099    799.768799\n",
      "3  14539.531250  11718.031250\n",
      "4   1329.332153   1472.373291\n",
      "\n",
      " RMSE: 4318.3047\n"
     ]
    },
    {
     "data": {
      "image/png": "[encoded data removed]",
      "text/plain": [
       "<Figure size 1440x720 with 1 Axes>"
      ]
     },
     "metadata": {
      "needs_background": "light"
     },
     "output_type": "display_data"
    }
   ],
   "source": [
    "plot_result(test_preds_5,y_test)"
   ]
  },
  {
   "cell_type": "code",
   "execution_count": 82,
   "id": "46675209",
   "metadata": {},
   "outputs": [],
   "source": [
    "# based on optimized net 2 building the net_5\n",
    "\n",
    "torch.manual_seed(1234)\n",
    "input_size = 14\n",
    "hidden_size_1 = 12\n",
    "hidden_size_2 = 8\n",
    "output_size = 1\n",
    "\n",
    "class NeuralNet(nn.Module):\n",
    "    def __init__(self, input_size, hidden_size_1, hidden_size_2, output_size):\n",
    "        super(NeuralNet, self).__init__()\n",
    "        self.fc1 = nn.Linear(input_size, hidden_size_1) \n",
    "        self.dp1 = nn.Dropout(p = 0.1)\n",
    "        self.act1 = nn.LeakyReLU()\n",
    "        self.fc2 = nn.Linear(hidden_size_1, hidden_size_2) \n",
    "        self.dp2 = nn.Dropout(p = 0.05)\n",
    "        self.act2 = nn.LeakyReLU()\n",
    "        self.fc3 = nn.Linear(hidden_size_2, output_size)  \n",
    "        self.dp3 = nn.Dropout(p = 0.05)\n",
    "        self.act3 = nn.LeakyReLU()\n",
    "    \n",
    "    def forward(self, x):\n",
    "        x = self.fc1(x)\n",
    "        x = self.dp1(x)\n",
    "        x = self.act1(x)\n",
    "        x = self.fc2(x)\n",
    "        x = self.dp2(x)\n",
    "        x = self.act2(x)\n",
    "        x = self.fc3(x)\n",
    "        x = self.dp3(x)\n",
    "        x = self.act3(x)\n",
    "        return x\n",
    "    \n",
    "net_5 = NeuralNet(input_size, hidden_size_1, hidden_size_2, output_size)"
   ]
  },
  {
   "cell_type": "code",
   "execution_count": 83,
   "id": "0bc8c2b5",
   "metadata": {},
   "outputs": [
    {
     "name": "stdout",
     "output_type": "stream",
     "text": [
      "tensor(0.1126, grad_fn=<MseLossBackward0>)\n",
      "tensor(0.)\n",
      "tensor(0.0809, grad_fn=<MseLossBackward0>)\n",
      "tensor(0.)\n",
      "tensor(0.0614, grad_fn=<MseLossBackward0>)\n",
      "tensor(0.)\n",
      "tensor(0.0445, grad_fn=<MseLossBackward0>)\n",
      "tensor(0.)\n",
      "tensor(0.0313, grad_fn=<MseLossBackward0>)\n",
      "tensor(0.)\n",
      "tensor(0.0251, grad_fn=<MseLossBackward0>)\n",
      "tensor(0.)\n",
      "tensor(0.0219, grad_fn=<MseLossBackward0>)\n",
      "tensor(0.)\n",
      "tensor(0.0196, grad_fn=<MseLossBackward0>)\n",
      "tensor(0.)\n",
      "tensor(0.0178, grad_fn=<MseLossBackward0>)\n",
      "tensor(0.)\n",
      "tensor(0.0162, grad_fn=<MseLossBackward0>)\n",
      "tensor(0.)\n",
      "tensor(0.0148, grad_fn=<MseLossBackward0>)\n",
      "tensor(0.)\n",
      "tensor(0.0140, grad_fn=<MseLossBackward0>)\n",
      "tensor(0.)\n",
      "tensor(0.0135, grad_fn=<MseLossBackward0>)\n",
      "tensor(0.)\n",
      "tensor(0.0131, grad_fn=<MseLossBackward0>)\n",
      "tensor(0.)\n",
      "tensor(0.0128, grad_fn=<MseLossBackward0>)\n",
      "tensor(0.)\n",
      "tensor(0.0126, grad_fn=<MseLossBackward0>)\n",
      "tensor(0.)\n",
      "tensor(0.0124, grad_fn=<MseLossBackward0>)\n",
      "tensor(0.)\n",
      "tensor(0.0122, grad_fn=<MseLossBackward0>)\n",
      "tensor(0.)\n",
      "tensor(0.0119, grad_fn=<MseLossBackward0>)\n",
      "tensor(0.)\n",
      "tensor(0.0117, grad_fn=<MseLossBackward0>)\n",
      "tensor(0.)\n"
     ]
    }
   ],
   "source": [
    "# training net_5 (changes - added  dp1, p = 0.1 , dp2, p=0.05, dp3 = 0.05)\n",
    "\n",
    "optimizer = torch.optim.Adam(net_5.parameters(),lr=0.001)\n",
    "\n",
    "loss = torch.nn.MSELoss()\n",
    "\n",
    "num_epochs = 500\n",
    "\n",
    "for epoch in range(num_epochs):\n",
    "    optimizer.zero_grad()\n",
    "    preds = net_5.forward(X_train).flatten()\n",
    "    loss_value = loss(preds,y_train)\n",
    "    loss_value.backward()\n",
    "    optimizer.step()\n",
    "    if (epoch % 25 == 0) or (epoch == 500) :\n",
    "            print(loss_value)\n",
    "            net_5.eval(),\n",
    "            test_preds_5 = net_5.forward(X_test).flatten()\n",
    "            accuracy = (torch.round(test_preds_5) == y_test).float().mean().data\n",
    "            print(accuracy)"
   ]
  },
  {
   "cell_type": "code",
   "execution_count": 84,
   "id": "ebff1aa7",
   "metadata": {},
   "outputs": [
    {
     "name": "stdout",
     "output_type": "stream",
     "text": [
      "     prediction        actual\n",
      "0  21795.246094   9449.041992\n",
      "1   1478.717285   1272.693848\n",
      "2   1351.359741    799.768799\n",
      "3  14566.385742  11718.031250\n",
      "4   1346.858398   1472.373291\n",
      "\n",
      " RMSE: 4328.24\n"
     ]
    },
    {
     "data": {
      "image/png": "[encoded data removed]",
      "text/plain": [
       "<Figure size 1440x720 with 1 Axes>"
      ]
     },
     "metadata": {
      "needs_background": "light"
     },
     "output_type": "display_data"
    }
   ],
   "source": [
    "plot_result(test_preds_5,y_test)"
   ]
  },
  {
   "attachments": {},
   "cell_type": "markdown",
   "id": "88f6cc0b",
   "metadata": {},
   "source": [
    "**Conclusion on dropout tuning on net_5**\n",
    "\n",
    "Best score achieved adding the following layers:\n",
    "- dp1 p = 0.1 \n",
    "- dp2 p = 0.05\n",
    "- dp3 p = 0.05\n",
    "\n",
    "The changes to be used for further network optimization"
   ]
  },
  {
   "cell_type": "markdown",
   "id": "2233279c",
   "metadata": {},
   "source": [
    "**BatchNorm Tuning**"
   ]
  },
  {
   "cell_type": "code",
   "execution_count": 85,
   "id": "189d53e7",
   "metadata": {},
   "outputs": [],
   "source": [
    "# based on optimized net 1 building the net_4\n",
    "\n",
    "torch.manual_seed(1234)\n",
    "input_size = 14\n",
    "hidden_size_1 = 12\n",
    "hidden_size_2 = 8\n",
    "output_size = 1\n",
    "\n",
    "class NeuralNet(nn.Module):\n",
    "    def __init__(self, input_size, hidden_size_1, hidden_size_2, output_size):\n",
    "        super(NeuralNet, self).__init__()\n",
    "        self.fc1 = nn.Linear(input_size, hidden_size_1) \n",
    "        self.dp1 = nn.Dropout(p = 0.2)\n",
    "        self.bn1 = nn.BatchNorm1d(hidden_size_1)\n",
    "        self.fc2 = nn.Linear(hidden_size_1, hidden_size_2) \n",
    "        self.fc3 = nn.Linear(hidden_size_2, output_size)\n",
    "    \n",
    "    def forward(self, x):\n",
    "        x = self.fc1(x)\n",
    "        x = self.dp1(x)\n",
    "        x = self.bn1(x)\n",
    "        x = self.fc2(x)\n",
    "        x = self.fc3(x)\n",
    "        return x\n",
    "    \n",
    "net_4 = NeuralNet(input_size, hidden_size_1, hidden_size_2, output_size)"
   ]
  },
  {
   "cell_type": "code",
   "execution_count": 86,
   "id": "7c5264c3",
   "metadata": {
    "scrolled": false
   },
   "outputs": [
    {
     "name": "stdout",
     "output_type": "stream",
     "text": [
      "tensor(0.3048, grad_fn=<MseLossBackward0>)\n",
      "tensor(0.)\n",
      "tensor(0.0194, grad_fn=<MseLossBackward0>)\n",
      "tensor(0.)\n",
      "tensor(0.0164, grad_fn=<MseLossBackward0>)\n",
      "tensor(0.)\n",
      "tensor(0.0161, grad_fn=<MseLossBackward0>)\n",
      "tensor(0.)\n",
      "tensor(0.0160, grad_fn=<MseLossBackward0>)\n",
      "tensor(0.)\n",
      "tensor(0.0160, grad_fn=<MseLossBackward0>)\n",
      "tensor(0.)\n",
      "tensor(0.0160, grad_fn=<MseLossBackward0>)\n",
      "tensor(0.)\n",
      "tensor(0.0159, grad_fn=<MseLossBackward0>)\n",
      "tensor(0.)\n",
      "tensor(0.0159, grad_fn=<MseLossBackward0>)\n",
      "tensor(0.)\n",
      "tensor(0.0159, grad_fn=<MseLossBackward0>)\n",
      "tensor(0.)\n",
      "tensor(0.0158, grad_fn=<MseLossBackward0>)\n",
      "tensor(0.)\n",
      "tensor(0.0158, grad_fn=<MseLossBackward0>)\n",
      "tensor(0.)\n",
      "tensor(0.0158, grad_fn=<MseLossBackward0>)\n",
      "tensor(0.)\n",
      "tensor(0.0158, grad_fn=<MseLossBackward0>)\n",
      "tensor(0.)\n",
      "tensor(0.0157, grad_fn=<MseLossBackward0>)\n",
      "tensor(0.)\n",
      "tensor(0.0157, grad_fn=<MseLossBackward0>)\n",
      "tensor(0.)\n",
      "tensor(0.0157, grad_fn=<MseLossBackward0>)\n",
      "tensor(0.)\n",
      "tensor(0.0157, grad_fn=<MseLossBackward0>)\n",
      "tensor(0.)\n",
      "tensor(0.0156, grad_fn=<MseLossBackward0>)\n",
      "tensor(0.)\n",
      "tensor(0.0156, grad_fn=<MseLossBackward0>)\n",
      "tensor(0.)\n"
     ]
    }
   ],
   "source": [
    "# training net_4 (changes - added bn1)\n",
    "\n",
    "optimizer = torch.optim.Adam(net_4.parameters(),lr=0.011)\n",
    "\n",
    "loss = torch.nn.MSELoss()\n",
    "\n",
    "num_epochs = 500\n",
    "\n",
    "for epoch in range(num_epochs):\n",
    "    optimizer.zero_grad()\n",
    "    preds = net_4.forward(X_train).flatten()\n",
    "    loss_value = loss(preds,y_train)\n",
    "    loss_value.backward()\n",
    "    optimizer.step()\n",
    "    if (epoch % 25 == 0) or (epoch == 500) :\n",
    "            print(loss_value)\n",
    "            net_4.eval(),\n",
    "            test_preds_4 = net_4.forward(X_test).flatten()\n",
    "            accuracy = (torch.round(test_preds_4) == y_test).float().mean().data\n",
    "            print(accuracy)"
   ]
  },
  {
   "cell_type": "code",
   "execution_count": 87,
   "id": "92238ea4",
   "metadata": {
    "scrolled": false
   },
   "outputs": [
    {
     "name": "stdout",
     "output_type": "stream",
     "text": [
      "     prediction        actual\n",
      "0  25039.654297   9449.041992\n",
      "1   1715.798096   1272.693848\n",
      "2   2056.192139    799.768799\n",
      "3  16910.980469  11718.031250\n",
      "4   1071.918335   1472.373291\n",
      "\n",
      " RMSE: 4807.141\n"
     ]
    },
    {
     "data": {
      "image/png": "[encoded data removed]",
      "text/plain": [
       "<Figure size 1440x720 with 1 Axes>"
      ]
     },
     "metadata": {
      "needs_background": "light"
     },
     "output_type": "display_data"
    }
   ],
   "source": [
    "plot_result(test_preds_4,y_test)"
   ]
  },
  {
   "cell_type": "code",
   "execution_count": 88,
   "id": "fd93b7d9",
   "metadata": {},
   "outputs": [],
   "source": [
    "# based on optimized net 1 building the net_4\n",
    "\n",
    "torch.manual_seed(1234)\n",
    "input_size = 14\n",
    "hidden_size_1 = 12\n",
    "hidden_size_2 = 8\n",
    "output_size = 1\n",
    "\n",
    "class NeuralNet(nn.Module):\n",
    "    def __init__(self, input_size, hidden_size_1, hidden_size_2, output_size):\n",
    "        super(NeuralNet, self).__init__()\n",
    "        self.fc1 = nn.Linear(input_size, hidden_size_1) \n",
    "        self.dp1 = nn.Dropout(p = 0.2)\n",
    "        self.fc2 = nn.Linear(hidden_size_1, hidden_size_2) \n",
    "        self.bn2 = nn.BatchNorm1d(hidden_size_2)\n",
    "        self.fc3 = nn.Linear(hidden_size_2, output_size)\n",
    "    \n",
    "    def forward(self, x):\n",
    "        x = self.fc1(x)\n",
    "        x = self.dp1(x)\n",
    "        x = self.fc2(x)\n",
    "        x = self.bn2(x)\n",
    "        x = self.fc3(x)\n",
    "        return x\n",
    "    \n",
    "net_4 = NeuralNet(input_size, hidden_size_1, hidden_size_2, output_size)"
   ]
  },
  {
   "cell_type": "code",
   "execution_count": 89,
   "id": "0883596b",
   "metadata": {},
   "outputs": [
    {
     "name": "stdout",
     "output_type": "stream",
     "text": [
      "tensor(0.5774, grad_fn=<MseLossBackward0>)\n",
      "tensor(0.)\n",
      "tensor(0.0244, grad_fn=<MseLossBackward0>)\n",
      "tensor(0.)\n",
      "tensor(0.0165, grad_fn=<MseLossBackward0>)\n",
      "tensor(0.)\n",
      "tensor(0.0161, grad_fn=<MseLossBackward0>)\n",
      "tensor(0.)\n",
      "tensor(0.0161, grad_fn=<MseLossBackward0>)\n",
      "tensor(0.)\n",
      "tensor(0.0160, grad_fn=<MseLossBackward0>)\n",
      "tensor(0.)\n",
      "tensor(0.0160, grad_fn=<MseLossBackward0>)\n",
      "tensor(0.)\n",
      "tensor(0.0160, grad_fn=<MseLossBackward0>)\n",
      "tensor(0.)\n",
      "tensor(0.0159, grad_fn=<MseLossBackward0>)\n",
      "tensor(0.)\n",
      "tensor(0.0159, grad_fn=<MseLossBackward0>)\n",
      "tensor(0.)\n",
      "tensor(0.0159, grad_fn=<MseLossBackward0>)\n",
      "tensor(0.)\n",
      "tensor(0.0159, grad_fn=<MseLossBackward0>)\n",
      "tensor(0.)\n",
      "tensor(0.0158, grad_fn=<MseLossBackward0>)\n",
      "tensor(0.)\n",
      "tensor(0.0158, grad_fn=<MseLossBackward0>)\n",
      "tensor(0.)\n",
      "tensor(0.0158, grad_fn=<MseLossBackward0>)\n",
      "tensor(0.)\n",
      "tensor(0.0158, grad_fn=<MseLossBackward0>)\n",
      "tensor(0.)\n",
      "tensor(0.0158, grad_fn=<MseLossBackward0>)\n",
      "tensor(0.)\n",
      "tensor(0.0157, grad_fn=<MseLossBackward0>)\n",
      "tensor(0.)\n",
      "tensor(0.0157, grad_fn=<MseLossBackward0>)\n",
      "tensor(0.)\n",
      "tensor(0.0157, grad_fn=<MseLossBackward0>)\n",
      "tensor(0.)\n"
     ]
    }
   ],
   "source": [
    "# training net_4 (changes - added bn2)\n",
    "\n",
    "optimizer = torch.optim.Adam(net_4.parameters(),lr=0.011)\n",
    "\n",
    "loss = torch.nn.MSELoss()\n",
    "\n",
    "num_epochs = 500\n",
    "\n",
    "for epoch in range(num_epochs):\n",
    "    optimizer.zero_grad()\n",
    "    preds = net_4.forward(X_train).flatten()\n",
    "    loss_value = loss(preds,y_train)\n",
    "    loss_value.backward()\n",
    "    optimizer.step()\n",
    "    if (epoch % 25 == 0) or (epoch == 500) :\n",
    "            print(loss_value)\n",
    "            net_4.eval(),\n",
    "            test_preds_4 = net_4.forward(X_test).flatten()\n",
    "            accuracy = (torch.round(test_preds_4) == y_test).float().mean().data\n",
    "            print(accuracy)"
   ]
  },
  {
   "cell_type": "code",
   "execution_count": 90,
   "id": "d6209a8a",
   "metadata": {},
   "outputs": [
    {
     "name": "stdout",
     "output_type": "stream",
     "text": [
      "     prediction        actual\n",
      "0  25218.388672   9449.041992\n",
      "1   1640.124023   1272.693848\n",
      "2   1796.611572    799.768799\n",
      "3  17222.617188  11718.031250\n",
      "4   1156.061279   1472.373291\n",
      "\n",
      " RMSE: 4819.2676\n"
     ]
    },
    {
     "data": {
      "image/png": "[encoded data removed]",
      "text/plain": [
       "<Figure size 1440x720 with 1 Axes>"
      ]
     },
     "metadata": {
      "needs_background": "light"
     },
     "output_type": "display_data"
    }
   ],
   "source": [
    "plot_result(test_preds_4,y_test)"
   ]
  },
  {
   "attachments": {},
   "cell_type": "markdown",
   "id": "378447a4",
   "metadata": {},
   "source": [
    "**Conclusion on using of Batchnorm on net_4**\n",
    "\n",
    "Best score network has achieved with applied bn2."
   ]
  },
  {
   "cell_type": "code",
   "execution_count": 91,
   "id": "d4a1d12f",
   "metadata": {},
   "outputs": [],
   "source": [
    "# based on optimized net 2 building the net_5\n",
    "\n",
    "torch.manual_seed(1234)\n",
    "input_size = 14\n",
    "hidden_size_1 = 12\n",
    "hidden_size_2 = 8\n",
    "output_size = 1\n",
    "\n",
    "class NeuralNet(nn.Module):\n",
    "    def __init__(self, input_size, hidden_size_1, hidden_size_2, output_size):\n",
    "        super(NeuralNet, self).__init__()\n",
    "        self.fc1 = nn.Linear(input_size, hidden_size_1) \n",
    "        self.dp1 = nn.Dropout(p = 0.1)\n",
    "        self.act1 = nn.LeakyReLU()\n",
    "        self.bn1 = nn.BatchNorm1d(hidden_size_1)\n",
    "        self.fc2 = nn.Linear(hidden_size_1, hidden_size_2) \n",
    "        self.dp2 = nn.Dropout(p = 0.05)\n",
    "        self.act2 = nn.LeakyReLU()\n",
    "        self.bn2 = nn.BatchNorm1d(hidden_size_2)\n",
    "        self.fc3 = nn.Linear(hidden_size_2, output_size)  \n",
    "        self.dp3 = nn.Dropout(p = 0.05)\n",
    "        self.act3 = nn.LeakyReLU()\n",
    "    \n",
    "    def forward(self, x):\n",
    "        x = self.fc1(x)\n",
    "        x = self.dp1(x)\n",
    "        x = self.act1(x)\n",
    "        x = self.bn1(x)\n",
    "        x = self.fc2(x)\n",
    "        x = self.dp2(x)\n",
    "        x = self.act2(x)\n",
    "        x = self.bn2(x)\n",
    "        x = self.fc3(x)\n",
    "        x = self.dp3(x)\n",
    "        x = self.act3(x)\n",
    "        return x\n",
    "    \n",
    "net_5 = NeuralNet(input_size, hidden_size_1, hidden_size_2, output_size)"
   ]
  },
  {
   "cell_type": "code",
   "execution_count": 92,
   "id": "ce9e003e",
   "metadata": {},
   "outputs": [
    {
     "name": "stdout",
     "output_type": "stream",
     "text": [
      "tensor(0.1984, grad_fn=<MseLossBackward0>)\n",
      "tensor(0.)\n",
      "tensor(0.0548, grad_fn=<MseLossBackward0>)\n",
      "tensor(0.)\n",
      "tensor(0.0319, grad_fn=<MseLossBackward0>)\n",
      "tensor(0.)\n",
      "tensor(0.0224, grad_fn=<MseLossBackward0>)\n",
      "tensor(0.)\n",
      "tensor(0.0192, grad_fn=<MseLossBackward0>)\n",
      "tensor(0.)\n",
      "tensor(0.0170, grad_fn=<MseLossBackward0>)\n",
      "tensor(0.)\n",
      "tensor(0.0155, grad_fn=<MseLossBackward0>)\n",
      "tensor(0.)\n",
      "tensor(0.0145, grad_fn=<MseLossBackward0>)\n",
      "tensor(0.)\n",
      "tensor(0.0139, grad_fn=<MseLossBackward0>)\n",
      "tensor(0.)\n",
      "tensor(0.0135, grad_fn=<MseLossBackward0>)\n",
      "tensor(0.)\n",
      "tensor(0.0132, grad_fn=<MseLossBackward0>)\n",
      "tensor(0.)\n",
      "tensor(0.0129, grad_fn=<MseLossBackward0>)\n",
      "tensor(0.)\n",
      "tensor(0.0127, grad_fn=<MseLossBackward0>)\n",
      "tensor(0.)\n",
      "tensor(0.0126, grad_fn=<MseLossBackward0>)\n",
      "tensor(0.)\n",
      "tensor(0.0124, grad_fn=<MseLossBackward0>)\n",
      "tensor(0.)\n",
      "tensor(0.0124, grad_fn=<MseLossBackward0>)\n",
      "tensor(0.)\n",
      "tensor(0.0123, grad_fn=<MseLossBackward0>)\n",
      "tensor(0.)\n",
      "tensor(0.0121, grad_fn=<MseLossBackward0>)\n",
      "tensor(0.)\n",
      "tensor(0.0121, grad_fn=<MseLossBackward0>)\n",
      "tensor(0.)\n",
      "tensor(0.0120, grad_fn=<MseLossBackward0>)\n",
      "tensor(0.)\n"
     ]
    }
   ],
   "source": [
    "# training net_5 (changes - added bn1 и bn2)\n",
    "\n",
    "optimizer = torch.optim.RMSprop(net_5.parameters(),lr=0.001)\n",
    "\n",
    "loss = torch.nn.MSELoss()\n",
    "\n",
    "num_epochs = 500\n",
    "\n",
    "for epoch in range(num_epochs):\n",
    "    optimizer.zero_grad()\n",
    "    preds = net_5.forward(X_train).flatten()\n",
    "    loss_value = loss(preds,y_train)\n",
    "    loss_value.backward()\n",
    "    optimizer.step()\n",
    "    if (epoch % 25 == 0) or (epoch == 500) :\n",
    "            print(loss_value)\n",
    "            net_5.eval(),\n",
    "            test_preds_5 = net_5.forward(X_test).flatten()\n",
    "            accuracy = (torch.round(test_preds_5) == y_test).float().mean().data\n",
    "            print(accuracy)"
   ]
  },
  {
   "cell_type": "code",
   "execution_count": 93,
   "id": "5a8056cf",
   "metadata": {},
   "outputs": [
    {
     "name": "stdout",
     "output_type": "stream",
     "text": [
      "     prediction        actual\n",
      "0  21879.076172   9449.041992\n",
      "1   1796.710449   1272.693848\n",
      "2   1542.364990    799.768799\n",
      "3  15064.061523  11718.031250\n",
      "4   1692.044678   1472.373291\n",
      "\n",
      " RMSE: 4300.2734\n"
     ]
    },
    {
     "data": {
      "image/png": "[encoded data removed]",
      "text/plain": [
       "<Figure size 1440x720 with 1 Axes>"
      ]
     },
     "metadata": {
      "needs_background": "light"
     },
     "output_type": "display_data"
    }
   ],
   "source": [
    "plot_result(test_preds_5,y_test)"
   ]
  },
  {
   "attachments": {},
   "cell_type": "markdown",
   "id": "ee87147a",
   "metadata": {},
   "source": [
    "**Conclusion on application of Batchnorm on network_5**\n",
    "\n",
    "Using Batchnorm on first and second layers model has slightly increase score."
   ]
  },
  {
   "cell_type": "markdown",
   "id": "accurate-infrastructure",
   "metadata": {},
   "source": [
    "<a name ='section_7'></a>\n",
    "# General Conclusion"
   ]
  },
  {
   "cell_type": "markdown",
   "id": "e16690e7",
   "metadata": {},
   "source": [
    "**Creation of table with neural networks and it's scores**"
   ]
  },
  {
   "cell_type": "code",
   "execution_count": 94,
   "id": "68498fa1",
   "metadata": {},
   "outputs": [
    {
     "name": "stdout",
     "output_type": "stream",
     "text": [
      "['net_1', 'net_2', 'net_3', 'net_4', 'net_5']\n"
     ]
    }
   ],
   "source": [
    "table = []\n",
    "for i in range(5):\n",
    "    table.append('net_' + str(i+1))\n",
    "\n",
    "print(table)"
   ]
  },
  {
   "cell_type": "code",
   "execution_count": 95,
   "id": "abb5cbe1",
   "metadata": {},
   "outputs": [],
   "source": [
    "preds_nets = [test_preds_1,test_preds_2,test_preds_3,test_preds_4,test_preds_5]"
   ]
  },
  {
   "cell_type": "code",
   "execution_count": 96,
   "id": "3c402df3",
   "metadata": {},
   "outputs": [],
   "source": [
    "for i in range(len(preds_nets)): \n",
    "    preds_nets[i] = preds_nets[i].detach().numpy()"
   ]
  },
  {
   "cell_type": "code",
   "execution_count": 97,
   "id": "11cd7d41",
   "metadata": {},
   "outputs": [],
   "source": [
    "rmse_nets = []\n",
    "for i in preds_nets:\n",
    "    rmse_nets.append(mean_squared_error(y_test.detach().numpy() * df_stars['Temperature (K)'].max() ,i,squared = False))"
   ]
  },
  {
   "cell_type": "code",
   "execution_count": 98,
   "id": "f0e6c524",
   "metadata": {},
   "outputs": [],
   "source": [
    "df_result = pd.DataFrame(table,columns = ['net_name'])"
   ]
  },
  {
   "cell_type": "code",
   "execution_count": 99,
   "id": "28b6af77",
   "metadata": {},
   "outputs": [],
   "source": [
    "df_result['prediction'] = preds_nets"
   ]
  },
  {
   "cell_type": "code",
   "execution_count": 100,
   "id": "d2432d0c",
   "metadata": {},
   "outputs": [],
   "source": [
    "df_result['rmse'] = rmse_nets"
   ]
  },
  {
   "cell_type": "markdown",
   "id": "8c31c770",
   "metadata": {},
   "source": [
    "**During the project execution the data was imported, prepared and analyzed.**\n",
    "\n",
    "Five neural networks wer builded with following scores:"
   ]
  },
  {
   "cell_type": "code",
   "execution_count": 101,
   "id": "e5c6facd",
   "metadata": {
    "scrolled": true
   },
   "outputs": [
    {
     "data": {
      "text/html": [
       "<div>\n",
       "<style scoped>\n",
       "    .dataframe tbody tr th:only-of-type {\n",
       "        vertical-align: middle;\n",
       "    }\n",
       "\n",
       "    .dataframe tbody tr th {\n",
       "        vertical-align: top;\n",
       "    }\n",
       "\n",
       "    .dataframe thead th {\n",
       "        text-align: right;\n",
       "    }\n",
       "</style>\n",
       "<table border=\"1\" class=\"dataframe\">\n",
       "  <thead>\n",
       "    <tr style=\"text-align: right;\">\n",
       "      <th></th>\n",
       "      <th>net_name</th>\n",
       "      <th>prediction</th>\n",
       "      <th>rmse</th>\n",
       "    </tr>\n",
       "  </thead>\n",
       "  <tbody>\n",
       "    <tr>\n",
       "      <th>0</th>\n",
       "      <td>net_1</td>\n",
       "      <td>[25638.512, 1454.7306, 1245.5305, 17902.568, 1...</td>\n",
       "      <td>4868.386230</td>\n",
       "    </tr>\n",
       "    <tr>\n",
       "      <th>1</th>\n",
       "      <td>net_2</td>\n",
       "      <td>[21669.697, 1492.6152, 1537.0199, 14472.895, 1...</td>\n",
       "      <td>4356.758301</td>\n",
       "    </tr>\n",
       "    <tr>\n",
       "      <th>2</th>\n",
       "      <td>net_3</td>\n",
       "      <td>[21032.305, 21063.041, 21090.668, 21094.648, 2...</td>\n",
       "      <td>15818.150391</td>\n",
       "    </tr>\n",
       "    <tr>\n",
       "      <th>3</th>\n",
       "      <td>net_4</td>\n",
       "      <td>[25218.389, 1640.124, 1796.6116, 17222.617, 11...</td>\n",
       "      <td>4819.267578</td>\n",
       "    </tr>\n",
       "    <tr>\n",
       "      <th>4</th>\n",
       "      <td>net_5</td>\n",
       "      <td>[21879.076, 1796.7104, 1542.365, 15064.062, 16...</td>\n",
       "      <td>4300.273438</td>\n",
       "    </tr>\n",
       "  </tbody>\n",
       "</table>\n",
       "</div>"
      ],
      "text/plain": [
       "  net_name                                         prediction          rmse\n",
       "0    net_1  [25638.512, 1454.7306, 1245.5305, 17902.568, 1...   4868.386230\n",
       "1    net_2  [21669.697, 1492.6152, 1537.0199, 14472.895, 1...   4356.758301\n",
       "2    net_3  [21032.305, 21063.041, 21090.668, 21094.648, 2...  15818.150391\n",
       "3    net_4  [25218.389, 1640.124, 1796.6116, 17222.617, 11...   4819.267578\n",
       "4    net_5  [21879.076, 1796.7104, 1542.365, 15064.062, 16...   4300.273438"
      ]
     },
     "execution_count": 101,
     "metadata": {},
     "output_type": "execute_result"
    }
   ],
   "source": [
    "df_result.sort_values(by = 'rmse',ascending = False)"
   ]
  },
  {
   "cell_type": "markdown",
   "id": "a3fab074",
   "metadata": {},
   "source": [
    "Best score of neural network:"
   ]
  },
  {
   "cell_type": "code",
   "execution_count": 102,
   "id": "1802c8b6",
   "metadata": {},
   "outputs": [
    {
     "data": {
      "text/html": [
       "<div>\n",
       "<style scoped>\n",
       "    .dataframe tbody tr th:only-of-type {\n",
       "        vertical-align: middle;\n",
       "    }\n",
       "\n",
       "    .dataframe tbody tr th {\n",
       "        vertical-align: top;\n",
       "    }\n",
       "\n",
       "    .dataframe thead th {\n",
       "        text-align: right;\n",
       "    }\n",
       "</style>\n",
       "<table border=\"1\" class=\"dataframe\">\n",
       "  <thead>\n",
       "    <tr style=\"text-align: right;\">\n",
       "      <th></th>\n",
       "      <th>net_name</th>\n",
       "      <th>prediction</th>\n",
       "      <th>rmse</th>\n",
       "    </tr>\n",
       "  </thead>\n",
       "  <tbody>\n",
       "    <tr>\n",
       "      <th>4</th>\n",
       "      <td>net_5</td>\n",
       "      <td>[21879.076, 1796.7104, 1542.365, 15064.062, 16...</td>\n",
       "      <td>4300.273438</td>\n",
       "    </tr>\n",
       "  </tbody>\n",
       "</table>\n",
       "</div>"
      ],
      "text/plain": [
       "  net_name                                         prediction         rmse\n",
       "4    net_5  [21879.076, 1796.7104, 1542.365, 15064.062, 16...  4300.273438"
      ]
     },
     "execution_count": 102,
     "metadata": {},
     "output_type": "execute_result"
    }
   ],
   "source": [
    "df_result[df_result['rmse'] == df_result['rmse'].min()]"
   ]
  },
  {
   "attachments": {},
   "cell_type": "markdown",
   "id": "4dc3192d",
   "metadata": {},
   "source": [
    "**Best scores was achieved in neural network No 5 with following parameters:**\n",
    "\n",
    "- lr =0.01\n",
    "- num_epochs = 500\n",
    "- optimizer RMS PROP\n",
    "- activation function - nn.LeakyReLU()\n",
    "- Dropout(p = 0.1) on first layer and p = 0.05 second and third layers;\n",
    "- batchnorm - on first and second layers.\n",
    "\n",
    "**RMSE less than 4500 successfully achieved!**"
   ]
  }
 ],
 "metadata": {
  "ExecuteTimeLog": [
   {
    "duration": 891,
    "start_time": "2022-07-23T07:31:59.269Z"
   },
   {
    "duration": 3451,
    "start_time": "2022-07-23T07:32:17.020Z"
   },
   {
    "duration": 3067,
    "start_time": "2022-07-23T07:32:24.585Z"
   },
   {
    "duration": 2054,
    "start_time": "2022-07-23T07:32:45.044Z"
   },
   {
    "duration": 11,
    "start_time": "2022-07-23T07:32:49.660Z"
   },
   {
    "duration": 658,
    "start_time": "2022-07-23T07:32:53.030Z"
   },
   {
    "duration": 2,
    "start_time": "2022-07-23T07:33:10.136Z"
   },
   {
    "duration": 1298,
    "start_time": "2022-07-23T07:33:18.484Z"
   },
   {
    "duration": 99,
    "start_time": "2022-07-23T07:34:01.685Z"
   },
   {
    "duration": 46,
    "start_time": "2022-07-23T07:34:05.752Z"
   },
   {
    "duration": 36,
    "start_time": "2022-07-23T07:34:13.173Z"
   },
   {
    "duration": 68,
    "start_time": "2022-07-23T07:34:21.659Z"
   },
   {
    "duration": 10,
    "start_time": "2022-07-23T07:34:28.884Z"
   },
   {
    "duration": 14,
    "start_time": "2022-07-23T07:34:33.310Z"
   },
   {
    "duration": 8,
    "start_time": "2022-07-23T07:34:55.357Z"
   },
   {
    "duration": 8,
    "start_time": "2022-07-23T07:35:00.329Z"
   },
   {
    "duration": 12,
    "start_time": "2022-07-23T07:35:02.458Z"
   },
   {
    "duration": 4,
    "start_time": "2022-07-23T07:36:06.985Z"
   },
   {
    "duration": 4,
    "start_time": "2022-07-23T07:36:20.513Z"
   },
   {
    "duration": 159,
    "start_time": "2022-07-23T07:36:50.414Z"
   },
   {
    "duration": 4,
    "start_time": "2022-07-23T07:37:56.119Z"
   },
   {
    "duration": 12,
    "start_time": "2022-07-23T07:38:27.460Z"
   },
   {
    "duration": 3,
    "start_time": "2022-07-23T07:38:34.300Z"
   },
   {
    "duration": 6,
    "start_time": "2022-07-23T07:38:38.895Z"
   },
   {
    "duration": 5,
    "start_time": "2022-07-23T07:39:30.261Z"
   },
   {
    "duration": 5,
    "start_time": "2022-07-23T07:39:42.467Z"
   },
   {
    "duration": 8,
    "start_time": "2022-07-23T07:40:24.925Z"
   },
   {
    "duration": 16,
    "start_time": "2022-07-23T07:40:27.184Z"
   },
   {
    "duration": 7,
    "start_time": "2022-07-23T07:40:32.265Z"
   },
   {
    "duration": 13,
    "start_time": "2022-07-23T07:40:37.013Z"
   },
   {
    "duration": 11,
    "start_time": "2022-07-23T07:41:15.895Z"
   },
   {
    "duration": 9,
    "start_time": "2022-07-23T07:41:34.876Z"
   },
   {
    "duration": 8,
    "start_time": "2022-07-23T07:41:57.010Z"
   },
   {
    "duration": 6,
    "start_time": "2022-07-23T07:42:04.679Z"
   },
   {
    "duration": 132,
    "start_time": "2022-07-23T07:42:07.689Z"
   },
   {
    "duration": 18,
    "start_time": "2022-07-23T07:42:16.027Z"
   },
   {
    "duration": 208,
    "start_time": "2022-07-23T07:42:19.661Z"
   },
   {
    "duration": 225,
    "start_time": "2022-07-23T07:42:58.904Z"
   },
   {
    "duration": 197,
    "start_time": "2022-07-23T07:43:13.282Z"
   },
   {
    "duration": 12,
    "start_time": "2022-07-23T07:43:21.274Z"
   },
   {
    "duration": 206,
    "start_time": "2022-07-23T07:43:30.582Z"
   },
   {
    "duration": 298,
    "start_time": "2022-07-23T07:45:28.461Z"
   },
   {
    "duration": 1455,
    "start_time": "2022-07-23T07:47:35.403Z"
   },
   {
    "duration": 26,
    "start_time": "2022-07-23T07:47:36.860Z"
   },
   {
    "duration": 14,
    "start_time": "2022-07-23T07:47:36.888Z"
   },
   {
    "duration": 17,
    "start_time": "2022-07-23T07:47:36.904Z"
   },
   {
    "duration": 6,
    "start_time": "2022-07-23T07:47:40.765Z"
   },
   {
    "duration": 265,
    "start_time": "2022-07-23T07:47:41.363Z"
   },
   {
    "duration": 3,
    "start_time": "2022-07-23T07:47:42.733Z"
   },
   {
    "duration": 55,
    "start_time": "2022-07-23T07:48:26.177Z"
   },
   {
    "duration": 3,
    "start_time": "2022-07-23T07:48:29.376Z"
   },
   {
    "duration": 4,
    "start_time": "2022-07-23T07:49:04.464Z"
   },
   {
    "duration": 3,
    "start_time": "2022-07-23T07:49:10.290Z"
   },
   {
    "duration": 130,
    "start_time": "2022-07-23T07:49:35.327Z"
   },
   {
    "duration": 7,
    "start_time": "2022-07-23T07:50:11.223Z"
   },
   {
    "duration": 208,
    "start_time": "2022-07-23T07:50:12.052Z"
   },
   {
    "duration": 4,
    "start_time": "2022-07-23T07:50:23.828Z"
   },
   {
    "duration": 3179,
    "start_time": "2022-07-23T07:50:24.248Z"
   },
   {
    "duration": 3,
    "start_time": "2022-07-23T07:51:23.990Z"
   },
   {
    "duration": 3128,
    "start_time": "2022-07-23T07:51:24.667Z"
   },
   {
    "duration": 25,
    "start_time": "2022-07-23T07:53:31.962Z"
   },
   {
    "duration": 5,
    "start_time": "2022-07-23T07:57:19.663Z"
   },
   {
    "duration": 6,
    "start_time": "2022-07-23T07:57:46.983Z"
   },
   {
    "duration": 98,
    "start_time": "2022-07-23T07:57:53.171Z"
   },
   {
    "duration": 8,
    "start_time": "2022-07-23T07:57:55.502Z"
   },
   {
    "duration": 5,
    "start_time": "2022-07-23T07:58:12.304Z"
   },
   {
    "duration": 6,
    "start_time": "2022-07-23T07:58:46.819Z"
   },
   {
    "duration": 140,
    "start_time": "2022-07-23T07:58:51.891Z"
   },
   {
    "duration": 241,
    "start_time": "2022-07-23T07:59:04.471Z"
   },
   {
    "duration": 134,
    "start_time": "2022-07-23T07:59:10.479Z"
   },
   {
    "duration": 2959,
    "start_time": "2022-07-23T07:59:38.722Z"
   },
   {
    "duration": 2836,
    "start_time": "2022-07-23T07:59:57.249Z"
   },
   {
    "duration": 8,
    "start_time": "2022-07-23T08:00:14.768Z"
   },
   {
    "duration": 2988,
    "start_time": "2022-07-23T08:00:19.781Z"
   },
   {
    "duration": 3032,
    "start_time": "2022-07-23T08:01:16.086Z"
   },
   {
    "duration": 141,
    "start_time": "2022-07-23T08:01:52.902Z"
   },
   {
    "duration": 3015,
    "start_time": "2022-07-23T08:02:32.179Z"
   },
   {
    "duration": 2828,
    "start_time": "2022-07-23T08:02:53.089Z"
   },
   {
    "duration": 3022,
    "start_time": "2022-07-23T08:04:25.188Z"
   },
   {
    "duration": 3179,
    "start_time": "2022-07-23T08:04:29.820Z"
   },
   {
    "duration": 2942,
    "start_time": "2022-07-23T08:04:39.199Z"
   },
   {
    "duration": 627,
    "start_time": "2022-07-23T08:05:15.879Z"
   },
   {
    "duration": 3166,
    "start_time": "2022-07-23T08:05:25.112Z"
   },
   {
    "duration": 584,
    "start_time": "2022-07-23T08:05:31.938Z"
   },
   {
    "duration": 3187,
    "start_time": "2022-07-23T08:06:25.328Z"
   },
   {
    "duration": 3052,
    "start_time": "2022-07-23T08:07:09.710Z"
   },
   {
    "duration": 881,
    "start_time": "2022-07-23T08:07:38.463Z"
   },
   {
    "duration": 657,
    "start_time": "2022-07-23T08:07:46.187Z"
   },
   {
    "duration": 871,
    "start_time": "2022-07-23T08:07:56.880Z"
   },
   {
    "duration": 2790,
    "start_time": "2022-07-23T08:08:06.597Z"
   },
   {
    "duration": 2992,
    "start_time": "2022-07-23T08:08:22.154Z"
   },
   {
    "duration": 645,
    "start_time": "2022-07-23T08:08:26.229Z"
   },
   {
    "duration": 126,
    "start_time": "2022-07-23T08:09:28.784Z"
   },
   {
    "duration": 146,
    "start_time": "2022-07-23T08:09:57.907Z"
   },
   {
    "duration": 128,
    "start_time": "2022-07-23T08:10:06.950Z"
   },
   {
    "duration": 2862,
    "start_time": "2022-07-23T08:11:34.961Z"
   },
   {
    "duration": 997,
    "start_time": "2022-07-23T08:11:47.606Z"
   },
   {
    "duration": 712,
    "start_time": "2022-07-23T08:12:04.004Z"
   },
   {
    "duration": 685,
    "start_time": "2022-07-23T08:12:11.955Z"
   },
   {
    "duration": 757,
    "start_time": "2022-07-23T08:13:27.691Z"
   },
   {
    "duration": 3,
    "start_time": "2022-07-23T08:17:53.953Z"
   },
   {
    "duration": 18,
    "start_time": "2022-07-23T08:19:11.565Z"
   },
   {
    "duration": 1354,
    "start_time": "2022-07-23T08:19:29.828Z"
   },
   {
    "duration": 29,
    "start_time": "2022-07-23T08:19:31.184Z"
   },
   {
    "duration": 16,
    "start_time": "2022-07-23T08:19:31.216Z"
   },
   {
    "duration": 19,
    "start_time": "2022-07-23T08:19:31.234Z"
   },
   {
    "duration": 40,
    "start_time": "2022-07-23T08:19:31.254Z"
   },
   {
    "duration": 10,
    "start_time": "2022-07-23T08:19:31.296Z"
   },
   {
    "duration": 272,
    "start_time": "2022-07-23T08:19:31.308Z"
   },
   {
    "duration": 156,
    "start_time": "2022-07-23T08:19:31.582Z"
   },
   {
    "duration": 770,
    "start_time": "2022-07-23T08:19:31.739Z"
   },
   {
    "duration": 680,
    "start_time": "2022-07-23T08:19:32.513Z"
   },
   {
    "duration": 785,
    "start_time": "2022-07-23T08:19:33.194Z"
   },
   {
    "duration": 4,
    "start_time": "2022-07-23T08:19:33.980Z"
   },
   {
    "duration": 5,
    "start_time": "2022-07-23T08:20:37.550Z"
   },
   {
    "duration": 2,
    "start_time": "2022-07-23T08:21:06.883Z"
   },
   {
    "duration": 417,
    "start_time": "2022-07-23T08:22:08.300Z"
   },
   {
    "duration": 3,
    "start_time": "2022-07-23T08:23:23.929Z"
   },
   {
    "duration": 2,
    "start_time": "2022-07-23T08:23:46.952Z"
   },
   {
    "duration": 144,
    "start_time": "2022-07-23T08:23:59.813Z"
   },
   {
    "duration": 24,
    "start_time": "2022-07-23T08:26:05.005Z"
   },
   {
    "duration": 3,
    "start_time": "2022-07-23T08:26:16.793Z"
   },
   {
    "duration": 14,
    "start_time": "2022-07-23T08:26:17.389Z"
   },
   {
    "duration": 11,
    "start_time": "2022-07-23T08:26:51.621Z"
   },
   {
    "duration": 4,
    "start_time": "2022-07-23T08:27:15.062Z"
   },
   {
    "duration": 8,
    "start_time": "2022-07-23T08:27:29.168Z"
   },
   {
    "duration": 6,
    "start_time": "2022-07-23T08:27:51.494Z"
   },
   {
    "duration": 4,
    "start_time": "2022-07-23T08:27:56.668Z"
   },
   {
    "duration": 63,
    "start_time": "2022-07-23T08:28:27.900Z"
   },
   {
    "duration": 12,
    "start_time": "2022-07-23T08:28:33.784Z"
   },
   {
    "duration": 7,
    "start_time": "2022-07-23T08:28:40.968Z"
   },
   {
    "duration": 15,
    "start_time": "2022-07-23T08:28:45.256Z"
   },
   {
    "duration": 4,
    "start_time": "2022-07-23T08:29:15.688Z"
   },
   {
    "duration": 20,
    "start_time": "2022-07-23T08:29:18.908Z"
   },
   {
    "duration": 898,
    "start_time": "2022-07-23T08:44:38.759Z"
   },
   {
    "duration": 1083,
    "start_time": "2022-07-23T08:44:53.309Z"
   },
   {
    "duration": 1595,
    "start_time": "2022-07-23T08:45:02.445Z"
   },
   {
    "duration": 857,
    "start_time": "2022-07-23T08:45:23.521Z"
   },
   {
    "duration": 10,
    "start_time": "2022-07-23T08:45:31.823Z"
   },
   {
    "duration": 5,
    "start_time": "2022-07-23T08:45:35.373Z"
   },
   {
    "duration": 4,
    "start_time": "2022-07-23T08:46:30.556Z"
   },
   {
    "duration": 9,
    "start_time": "2022-07-23T08:46:33.553Z"
   },
   {
    "duration": 4,
    "start_time": "2022-07-23T08:46:36.203Z"
   },
   {
    "duration": 62,
    "start_time": "2022-07-23T08:46:39.995Z"
   },
   {
    "duration": 4,
    "start_time": "2022-07-23T08:46:42.773Z"
   },
   {
    "duration": 3,
    "start_time": "2022-07-23T08:47:13.055Z"
   },
   {
    "duration": 10,
    "start_time": "2022-07-23T08:47:45.129Z"
   },
   {
    "duration": 4,
    "start_time": "2022-07-23T08:47:48.955Z"
   },
   {
    "duration": 7,
    "start_time": "2022-07-23T08:48:02.354Z"
   },
   {
    "duration": 4,
    "start_time": "2022-07-23T08:48:04.880Z"
   },
   {
    "duration": 4,
    "start_time": "2022-07-23T08:48:05.095Z"
   },
   {
    "duration": 23,
    "start_time": "2022-07-23T08:48:05.325Z"
   },
   {
    "duration": 6,
    "start_time": "2022-07-23T08:48:18.454Z"
   },
   {
    "duration": 4,
    "start_time": "2022-07-23T08:48:18.769Z"
   },
   {
    "duration": 4,
    "start_time": "2022-07-23T08:48:19.024Z"
   },
   {
    "duration": 33,
    "start_time": "2022-07-23T08:48:19.281Z"
   },
   {
    "duration": 4,
    "start_time": "2022-07-23T08:49:31.954Z"
   },
   {
    "duration": 5,
    "start_time": "2022-07-23T08:49:42.573Z"
   },
   {
    "duration": 1100,
    "start_time": "2022-07-23T08:50:45.421Z"
   },
   {
    "duration": 5,
    "start_time": "2022-07-23T08:53:29.756Z"
   },
   {
    "duration": 6,
    "start_time": "2022-07-23T08:53:50.452Z"
   },
   {
    "duration": 6,
    "start_time": "2022-07-23T08:54:01.100Z"
   },
   {
    "duration": 4,
    "start_time": "2022-07-23T08:55:17.099Z"
   },
   {
    "duration": 4,
    "start_time": "2022-07-23T08:58:07.273Z"
   },
   {
    "duration": 56,
    "start_time": "2022-07-23T08:58:25.352Z"
   },
   {
    "duration": 6,
    "start_time": "2022-07-23T08:58:34.077Z"
   },
   {
    "duration": 303,
    "start_time": "2022-07-23T08:58:46.338Z"
   },
   {
    "duration": 4,
    "start_time": "2022-07-23T09:03:50.169Z"
   },
   {
    "duration": 7,
    "start_time": "2022-07-23T09:03:55.023Z"
   },
   {
    "duration": 3,
    "start_time": "2022-07-23T09:04:17.161Z"
   },
   {
    "duration": 3,
    "start_time": "2022-07-23T09:04:17.580Z"
   },
   {
    "duration": 5,
    "start_time": "2022-07-23T09:04:18.985Z"
   },
   {
    "duration": 3,
    "start_time": "2022-07-23T09:04:43.492Z"
   },
   {
    "duration": 12,
    "start_time": "2022-07-23T09:04:46.788Z"
   },
   {
    "duration": 14,
    "start_time": "2022-07-23T09:05:08.747Z"
   },
   {
    "duration": 1921,
    "start_time": "2022-07-23T09:05:26.804Z"
   },
   {
    "duration": 32,
    "start_time": "2022-07-23T09:05:28.727Z"
   },
   {
    "duration": 16,
    "start_time": "2022-07-23T09:05:28.761Z"
   },
   {
    "duration": 12,
    "start_time": "2022-07-23T09:05:28.779Z"
   },
   {
    "duration": 31,
    "start_time": "2022-07-23T09:05:28.793Z"
   },
   {
    "duration": 4,
    "start_time": "2022-07-23T09:05:28.826Z"
   },
   {
    "duration": 3,
    "start_time": "2022-07-23T09:05:34.870Z"
   },
   {
    "duration": 5,
    "start_time": "2022-07-23T09:05:35.203Z"
   },
   {
    "duration": 4,
    "start_time": "2022-07-23T09:05:35.454Z"
   },
   {
    "duration": 4,
    "start_time": "2022-07-23T09:05:36.404Z"
   },
   {
    "duration": 3,
    "start_time": "2022-07-23T09:05:39.556Z"
   },
   {
    "duration": 15,
    "start_time": "2022-07-23T09:05:39.837Z"
   },
   {
    "duration": 270,
    "start_time": "2022-07-23T09:05:47.467Z"
   },
   {
    "duration": 140,
    "start_time": "2022-07-23T09:06:08.981Z"
   },
   {
    "duration": 750,
    "start_time": "2022-07-23T09:06:09.334Z"
   },
   {
    "duration": 840,
    "start_time": "2022-07-23T09:06:10.086Z"
   },
   {
    "duration": 852,
    "start_time": "2022-07-23T09:06:10.928Z"
   },
   {
    "duration": 4,
    "start_time": "2022-07-23T09:06:11.781Z"
   },
   {
    "duration": 5,
    "start_time": "2022-07-23T09:06:12.775Z"
   },
   {
    "duration": 3,
    "start_time": "2022-07-23T09:06:13.637Z"
   },
   {
    "duration": 3,
    "start_time": "2022-07-23T09:06:14.064Z"
   },
   {
    "duration": 11,
    "start_time": "2022-07-23T09:06:14.268Z"
   },
   {
    "duration": 9,
    "start_time": "2022-07-23T09:06:14.525Z"
   },
   {
    "duration": 6,
    "start_time": "2022-07-23T09:06:15.158Z"
   },
   {
    "duration": 3,
    "start_time": "2022-07-23T09:06:16.269Z"
   },
   {
    "duration": 28,
    "start_time": "2022-07-23T09:06:18.490Z"
   },
   {
    "duration": 1185,
    "start_time": "2022-07-23T09:06:37.253Z"
   },
   {
    "duration": 921,
    "start_time": "2022-07-23T09:06:49.145Z"
   },
   {
    "duration": 4,
    "start_time": "2022-07-23T09:07:41.861Z"
   },
   {
    "duration": 4,
    "start_time": "2022-07-23T09:07:43.992Z"
   },
   {
    "duration": 4,
    "start_time": "2022-07-23T09:07:44.298Z"
   },
   {
    "duration": 23,
    "start_time": "2022-07-23T09:07:44.608Z"
   },
   {
    "duration": 816,
    "start_time": "2022-07-23T09:07:53.756Z"
   },
   {
    "duration": 3,
    "start_time": "2022-07-23T09:07:56.648Z"
   },
   {
    "duration": 10,
    "start_time": "2022-07-23T09:08:22.841Z"
   },
   {
    "duration": 11,
    "start_time": "2022-07-23T09:08:27.194Z"
   },
   {
    "duration": 13,
    "start_time": "2022-07-23T09:08:31.518Z"
   },
   {
    "duration": 10,
    "start_time": "2022-07-23T09:09:36.753Z"
   },
   {
    "duration": 12,
    "start_time": "2022-07-23T09:09:53.056Z"
   },
   {
    "duration": 14,
    "start_time": "2022-07-23T09:09:56.968Z"
   },
   {
    "duration": 4,
    "start_time": "2022-07-23T09:10:27.823Z"
   },
   {
    "duration": 17,
    "start_time": "2022-07-23T09:17:22.993Z"
   },
   {
    "duration": 4,
    "start_time": "2022-07-23T09:18:11.063Z"
   },
   {
    "duration": 6,
    "start_time": "2022-07-23T09:20:51.411Z"
   },
   {
    "duration": 1856,
    "start_time": "2022-07-23T09:49:35.881Z"
   },
   {
    "duration": 28,
    "start_time": "2022-07-23T09:49:37.739Z"
   },
   {
    "duration": 99,
    "start_time": "2022-07-23T09:49:37.768Z"
   },
   {
    "duration": 11,
    "start_time": "2022-07-23T09:49:37.869Z"
   },
   {
    "duration": 44,
    "start_time": "2022-07-23T09:49:37.881Z"
   },
   {
    "duration": 7,
    "start_time": "2022-07-23T09:49:37.928Z"
   },
   {
    "duration": 8,
    "start_time": "2022-07-23T09:49:37.936Z"
   },
   {
    "duration": 12,
    "start_time": "2022-07-23T09:49:37.946Z"
   },
   {
    "duration": 5,
    "start_time": "2022-07-23T09:49:37.959Z"
   },
   {
    "duration": 4,
    "start_time": "2022-07-23T09:49:37.967Z"
   },
   {
    "duration": 7,
    "start_time": "2022-07-23T09:49:37.973Z"
   },
   {
    "duration": 194,
    "start_time": "2022-07-23T09:49:37.981Z"
   },
   {
    "duration": 161,
    "start_time": "2022-07-23T09:49:38.176Z"
   },
   {
    "duration": 748,
    "start_time": "2022-07-23T09:49:38.339Z"
   },
   {
    "duration": 846,
    "start_time": "2022-07-23T09:49:39.089Z"
   },
   {
    "duration": 745,
    "start_time": "2022-07-23T09:49:39.937Z"
   },
   {
    "duration": 4,
    "start_time": "2022-07-23T09:49:40.684Z"
   },
   {
    "duration": 12,
    "start_time": "2022-07-23T09:49:40.689Z"
   },
   {
    "duration": 3,
    "start_time": "2022-07-23T09:49:40.709Z"
   },
   {
    "duration": 14,
    "start_time": "2022-07-23T09:49:40.714Z"
   },
   {
    "duration": 11,
    "start_time": "2022-07-23T09:49:40.730Z"
   },
   {
    "duration": 9,
    "start_time": "2022-07-23T09:49:40.742Z"
   },
   {
    "duration": 16,
    "start_time": "2022-07-23T09:49:40.752Z"
   },
   {
    "duration": 10,
    "start_time": "2022-07-23T09:49:40.770Z"
   },
   {
    "duration": 13,
    "start_time": "2022-07-23T09:49:40.782Z"
   },
   {
    "duration": 32,
    "start_time": "2022-07-23T09:49:40.797Z"
   },
   {
    "duration": 13,
    "start_time": "2022-07-23T09:49:40.831Z"
   },
   {
    "duration": 7,
    "start_time": "2022-07-23T09:49:40.847Z"
   },
   {
    "duration": 9,
    "start_time": "2022-07-23T09:49:40.856Z"
   },
   {
    "duration": 3,
    "start_time": "2022-07-23T09:50:54.750Z"
   },
   {
    "duration": 4,
    "start_time": "2022-07-23T09:53:22.778Z"
   },
   {
    "duration": 3,
    "start_time": "2022-07-23T09:57:44.737Z"
   },
   {
    "duration": 182,
    "start_time": "2022-07-23T09:59:39.267Z"
   },
   {
    "duration": 4,
    "start_time": "2022-07-23T09:59:48.503Z"
   },
   {
    "duration": 3,
    "start_time": "2022-07-23T09:59:48.834Z"
   },
   {
    "duration": 3,
    "start_time": "2022-07-23T09:59:49.234Z"
   },
   {
    "duration": 25,
    "start_time": "2022-07-23T10:01:19.965Z"
   },
   {
    "duration": 113,
    "start_time": "2022-07-23T10:03:11.685Z"
   },
   {
    "duration": 5,
    "start_time": "2022-07-23T10:05:13.140Z"
   },
   {
    "duration": 2,
    "start_time": "2022-07-23T10:05:13.536Z"
   },
   {
    "duration": 3,
    "start_time": "2022-07-23T10:05:13.793Z"
   },
   {
    "duration": 24,
    "start_time": "2022-07-23T10:05:14.933Z"
   },
   {
    "duration": 4,
    "start_time": "2022-07-23T10:05:35.348Z"
   },
   {
    "duration": 3,
    "start_time": "2022-07-23T10:05:35.675Z"
   },
   {
    "duration": 97,
    "start_time": "2022-07-23T10:05:36.061Z"
   },
   {
    "duration": 72,
    "start_time": "2022-07-23T10:05:40.331Z"
   },
   {
    "duration": 10,
    "start_time": "2022-07-23T10:05:52.682Z"
   },
   {
    "duration": 4,
    "start_time": "2022-07-23T10:06:24.291Z"
   },
   {
    "duration": 5,
    "start_time": "2022-07-23T10:06:27.059Z"
   },
   {
    "duration": 4,
    "start_time": "2022-07-23T10:06:54.637Z"
   },
   {
    "duration": 3,
    "start_time": "2022-07-23T10:06:58.248Z"
   },
   {
    "duration": 49,
    "start_time": "2022-07-23T10:07:13.954Z"
   },
   {
    "duration": 3,
    "start_time": "2022-07-23T10:07:17.445Z"
   },
   {
    "duration": 9,
    "start_time": "2022-07-23T10:09:07.652Z"
   },
   {
    "duration": 6,
    "start_time": "2022-07-23T10:09:12.614Z"
   },
   {
    "duration": 3,
    "start_time": "2022-07-23T10:09:33.180Z"
   },
   {
    "duration": 12,
    "start_time": "2022-07-23T10:10:22.744Z"
   },
   {
    "duration": 16,
    "start_time": "2022-07-23T10:10:41.551Z"
   },
   {
    "duration": 12,
    "start_time": "2022-07-23T10:10:48.690Z"
   },
   {
    "duration": 55,
    "start_time": "2022-07-23T10:11:05.192Z"
   },
   {
    "duration": 76,
    "start_time": "2022-07-23T10:13:24.845Z"
   },
   {
    "duration": 93,
    "start_time": "2022-07-23T10:13:44.389Z"
   },
   {
    "duration": 7,
    "start_time": "2022-07-23T10:14:27.412Z"
   },
   {
    "duration": 4,
    "start_time": "2022-07-23T10:14:27.831Z"
   },
   {
    "duration": 3,
    "start_time": "2022-07-23T10:14:28.084Z"
   },
   {
    "duration": 3,
    "start_time": "2022-07-23T10:14:28.445Z"
   },
   {
    "duration": 3,
    "start_time": "2022-07-23T10:14:28.824Z"
   },
   {
    "duration": 94,
    "start_time": "2022-07-23T10:14:29.527Z"
   },
   {
    "duration": 3,
    "start_time": "2022-07-23T10:14:42.384Z"
   },
   {
    "duration": 3,
    "start_time": "2022-07-23T10:14:43.777Z"
   },
   {
    "duration": 4,
    "start_time": "2022-07-23T10:14:44.335Z"
   },
   {
    "duration": 26,
    "start_time": "2022-07-23T10:14:44.545Z"
   },
   {
    "duration": 3,
    "start_time": "2022-07-23T10:14:54.519Z"
   },
   {
    "duration": 4,
    "start_time": "2022-07-23T10:14:54.840Z"
   },
   {
    "duration": 3,
    "start_time": "2022-07-23T10:14:55.173Z"
   },
   {
    "duration": 4,
    "start_time": "2022-07-23T10:14:55.458Z"
   },
   {
    "duration": 99,
    "start_time": "2022-07-23T10:14:55.994Z"
   },
   {
    "duration": 5,
    "start_time": "2022-07-23T10:15:45.961Z"
   },
   {
    "duration": 2,
    "start_time": "2022-07-23T10:15:46.381Z"
   },
   {
    "duration": 15,
    "start_time": "2022-07-23T10:15:46.732Z"
   },
   {
    "duration": 3,
    "start_time": "2022-07-23T10:15:47.002Z"
   },
   {
    "duration": 4,
    "start_time": "2022-07-23T10:15:53.644Z"
   },
   {
    "duration": 2,
    "start_time": "2022-07-23T10:15:53.874Z"
   },
   {
    "duration": 4,
    "start_time": "2022-07-23T10:15:54.089Z"
   },
   {
    "duration": 3,
    "start_time": "2022-07-23T10:15:54.355Z"
   },
   {
    "duration": 3,
    "start_time": "2022-07-23T10:15:54.758Z"
   },
   {
    "duration": 95,
    "start_time": "2022-07-23T10:15:55.243Z"
   },
   {
    "duration": 4,
    "start_time": "2022-07-23T10:16:33.133Z"
   },
   {
    "duration": 3,
    "start_time": "2022-07-23T10:16:33.855Z"
   },
   {
    "duration": 3,
    "start_time": "2022-07-23T10:16:34.370Z"
   },
   {
    "duration": 3,
    "start_time": "2022-07-23T10:16:34.576Z"
   },
   {
    "duration": 3,
    "start_time": "2022-07-23T10:16:34.792Z"
   },
   {
    "duration": 99,
    "start_time": "2022-07-23T10:16:36.329Z"
   },
   {
    "duration": 4,
    "start_time": "2022-07-23T10:16:53.891Z"
   },
   {
    "duration": 3,
    "start_time": "2022-07-23T10:16:54.434Z"
   },
   {
    "duration": 4,
    "start_time": "2022-07-23T10:16:54.771Z"
   },
   {
    "duration": 4,
    "start_time": "2022-07-23T10:16:55.035Z"
   },
   {
    "duration": 3,
    "start_time": "2022-07-23T10:16:55.297Z"
   },
   {
    "duration": 84,
    "start_time": "2022-07-23T10:16:55.847Z"
   },
   {
    "duration": 3,
    "start_time": "2022-07-23T10:17:55.654Z"
   },
   {
    "duration": 3,
    "start_time": "2022-07-23T10:17:55.928Z"
   },
   {
    "duration": 4,
    "start_time": "2022-07-23T10:17:56.206Z"
   },
   {
    "duration": 4,
    "start_time": "2022-07-23T10:17:56.502Z"
   },
   {
    "duration": 102,
    "start_time": "2022-07-23T10:17:57.154Z"
   },
   {
    "duration": 104,
    "start_time": "2022-07-23T10:18:35.565Z"
   },
   {
    "duration": 93,
    "start_time": "2022-07-23T10:18:41.600Z"
   },
   {
    "duration": 19,
    "start_time": "2022-07-23T10:24:34.330Z"
   },
   {
    "duration": 12,
    "start_time": "2022-07-23T10:24:41.292Z"
   },
   {
    "duration": 4,
    "start_time": "2022-07-23T10:24:48.000Z"
   },
   {
    "duration": 7,
    "start_time": "2022-07-23T10:26:26.053Z"
   },
   {
    "duration": 5,
    "start_time": "2022-07-23T10:26:32.185Z"
   },
   {
    "duration": 6,
    "start_time": "2022-07-23T10:26:38.231Z"
   },
   {
    "duration": 18,
    "start_time": "2022-07-23T10:26:48.107Z"
   },
   {
    "duration": 5,
    "start_time": "2022-07-23T10:26:56.727Z"
   },
   {
    "duration": 4,
    "start_time": "2022-07-23T10:27:02.340Z"
   },
   {
    "duration": 6,
    "start_time": "2022-07-23T10:27:12.043Z"
   },
   {
    "duration": 4,
    "start_time": "2022-07-23T10:27:12.513Z"
   },
   {
    "duration": 4,
    "start_time": "2022-07-23T10:27:14.980Z"
   },
   {
    "duration": 3,
    "start_time": "2022-07-23T10:27:15.387Z"
   },
   {
    "duration": 3,
    "start_time": "2022-07-23T10:27:15.890Z"
   },
   {
    "duration": 3,
    "start_time": "2022-07-23T10:27:16.302Z"
   },
   {
    "duration": 4,
    "start_time": "2022-07-23T10:27:16.706Z"
   },
   {
    "duration": 4,
    "start_time": "2022-07-23T10:27:17.132Z"
   },
   {
    "duration": 5,
    "start_time": "2022-07-23T10:27:31.453Z"
   },
   {
    "duration": 350,
    "start_time": "2022-07-23T10:27:37.079Z"
   },
   {
    "duration": 5,
    "start_time": "2022-07-23T10:28:02.072Z"
   },
   {
    "duration": 3,
    "start_time": "2022-07-23T10:28:02.710Z"
   },
   {
    "duration": 4,
    "start_time": "2022-07-23T10:28:02.996Z"
   },
   {
    "duration": 386,
    "start_time": "2022-07-23T10:28:03.249Z"
   },
   {
    "duration": 4,
    "start_time": "2022-07-23T10:28:12.083Z"
   },
   {
    "duration": 13,
    "start_time": "2022-07-23T10:28:28.127Z"
   },
   {
    "duration": 2,
    "start_time": "2022-07-23T10:34:31.183Z"
   },
   {
    "duration": 4,
    "start_time": "2022-07-23T10:34:31.641Z"
   },
   {
    "duration": 377,
    "start_time": "2022-07-23T10:34:32.138Z"
   },
   {
    "duration": 5,
    "start_time": "2022-07-23T10:34:33.640Z"
   },
   {
    "duration": 5,
    "start_time": "2022-07-23T10:34:35.241Z"
   },
   {
    "duration": 4,
    "start_time": "2022-07-23T10:35:24.774Z"
   },
   {
    "duration": 4,
    "start_time": "2022-07-23T10:35:28.092Z"
   },
   {
    "duration": 4,
    "start_time": "2022-07-23T10:35:35.695Z"
   },
   {
    "duration": 1691,
    "start_time": "2022-07-23T10:36:32.262Z"
   },
   {
    "duration": 28,
    "start_time": "2022-07-23T10:36:33.955Z"
   },
   {
    "duration": 98,
    "start_time": "2022-07-23T10:36:33.984Z"
   },
   {
    "duration": 12,
    "start_time": "2022-07-23T10:36:34.084Z"
   },
   {
    "duration": 46,
    "start_time": "2022-07-23T10:36:34.097Z"
   },
   {
    "duration": 5,
    "start_time": "2022-07-23T10:36:34.145Z"
   },
   {
    "duration": 8,
    "start_time": "2022-07-23T10:36:34.151Z"
   },
   {
    "duration": 10,
    "start_time": "2022-07-23T10:36:34.160Z"
   },
   {
    "duration": 5,
    "start_time": "2022-07-23T10:36:34.171Z"
   },
   {
    "duration": 8,
    "start_time": "2022-07-23T10:36:34.178Z"
   },
   {
    "duration": 8,
    "start_time": "2022-07-23T10:36:34.187Z"
   },
   {
    "duration": 180,
    "start_time": "2022-07-23T10:36:34.197Z"
   },
   {
    "duration": 170,
    "start_time": "2022-07-23T10:36:34.380Z"
   },
   {
    "duration": 687,
    "start_time": "2022-07-23T10:36:34.552Z"
   },
   {
    "duration": 766,
    "start_time": "2022-07-23T10:36:35.241Z"
   },
   {
    "duration": 651,
    "start_time": "2022-07-23T10:36:36.008Z"
   },
   {
    "duration": 4,
    "start_time": "2022-07-23T10:36:36.661Z"
   },
   {
    "duration": 16,
    "start_time": "2022-07-23T10:36:36.666Z"
   },
   {
    "duration": 13,
    "start_time": "2022-07-23T10:36:36.684Z"
   },
   {
    "duration": 22,
    "start_time": "2022-07-23T10:36:36.698Z"
   },
   {
    "duration": 26,
    "start_time": "2022-07-23T10:36:36.722Z"
   },
   {
    "duration": 9,
    "start_time": "2022-07-23T10:36:36.750Z"
   },
   {
    "duration": 9,
    "start_time": "2022-07-23T10:36:36.760Z"
   },
   {
    "duration": 13,
    "start_time": "2022-07-23T10:36:36.770Z"
   },
   {
    "duration": 8,
    "start_time": "2022-07-23T10:36:36.784Z"
   },
   {
    "duration": 21,
    "start_time": "2022-07-23T10:36:36.793Z"
   },
   {
    "duration": 20,
    "start_time": "2022-07-23T10:36:36.815Z"
   },
   {
    "duration": 6,
    "start_time": "2022-07-23T10:36:36.838Z"
   },
   {
    "duration": 9,
    "start_time": "2022-07-23T10:36:36.845Z"
   },
   {
    "duration": 7,
    "start_time": "2022-07-23T10:36:36.855Z"
   },
   {
    "duration": 5,
    "start_time": "2022-07-23T10:36:36.863Z"
   },
   {
    "duration": 7,
    "start_time": "2022-07-23T10:36:36.870Z"
   },
   {
    "duration": 5,
    "start_time": "2022-07-23T10:36:36.879Z"
   },
   {
    "duration": 525,
    "start_time": "2022-07-23T10:36:36.885Z"
   },
   {
    "duration": 134,
    "start_time": "2022-07-23T10:37:52.968Z"
   },
   {
    "duration": 3,
    "start_time": "2022-07-23T10:38:14.737Z"
   },
   {
    "duration": 23,
    "start_time": "2022-07-23T10:38:15.013Z"
   },
   {
    "duration": 3,
    "start_time": "2022-07-23T10:39:02.634Z"
   },
   {
    "duration": 13,
    "start_time": "2022-07-23T10:39:04.845Z"
   },
   {
    "duration": 10,
    "start_time": "2022-07-23T10:40:45.254Z"
   },
   {
    "duration": 4,
    "start_time": "2022-07-23T10:40:53.614Z"
   },
   {
    "duration": 12,
    "start_time": "2022-07-23T10:41:28.770Z"
   },
   {
    "duration": 14,
    "start_time": "2022-07-23T10:41:36.368Z"
   },
   {
    "duration": 491,
    "start_time": "2022-07-23T10:41:41.256Z"
   },
   {
    "duration": 4,
    "start_time": "2022-07-23T10:43:23.734Z"
   },
   {
    "duration": 473,
    "start_time": "2022-07-23T10:43:24.157Z"
   },
   {
    "duration": 3,
    "start_time": "2022-07-23T10:43:37.573Z"
   },
   {
    "duration": 388,
    "start_time": "2022-07-23T10:43:53.431Z"
   },
   {
    "duration": 9,
    "start_time": "2022-07-23T10:47:46.238Z"
   },
   {
    "duration": 3,
    "start_time": "2022-07-23T10:47:50.635Z"
   },
   {
    "duration": 15,
    "start_time": "2022-07-23T10:48:07.573Z"
   },
   {
    "duration": 6,
    "start_time": "2022-07-23T10:48:18.230Z"
   },
   {
    "duration": 3,
    "start_time": "2022-07-23T10:48:18.603Z"
   },
   {
    "duration": 15,
    "start_time": "2022-07-23T10:48:18.766Z"
   },
   {
    "duration": 6,
    "start_time": "2022-07-23T10:48:27.419Z"
   },
   {
    "duration": 4,
    "start_time": "2022-07-23T10:48:27.648Z"
   },
   {
    "duration": 6,
    "start_time": "2022-07-23T10:48:27.913Z"
   },
   {
    "duration": 547,
    "start_time": "2022-07-23T10:48:29.563Z"
   },
   {
    "duration": 5,
    "start_time": "2022-07-23T10:48:35.762Z"
   },
   {
    "duration": 6,
    "start_time": "2022-07-23T10:48:41.082Z"
   },
   {
    "duration": 5,
    "start_time": "2022-07-23T10:48:48.767Z"
   },
   {
    "duration": 9,
    "start_time": "2022-07-23T10:49:03.710Z"
   },
   {
    "duration": 3,
    "start_time": "2022-07-23T10:49:04.435Z"
   },
   {
    "duration": 16,
    "start_time": "2022-07-23T10:49:04.776Z"
   },
   {
    "duration": 10,
    "start_time": "2022-07-23T10:49:11.568Z"
   },
   {
    "duration": 4,
    "start_time": "2022-07-23T10:49:11.966Z"
   },
   {
    "duration": 4,
    "start_time": "2022-07-23T10:49:12.360Z"
   },
   {
    "duration": 609,
    "start_time": "2022-07-23T10:49:12.817Z"
   },
   {
    "duration": 3,
    "start_time": "2022-07-23T10:49:14.446Z"
   },
   {
    "duration": 8,
    "start_time": "2022-07-23T10:49:15.134Z"
   },
   {
    "duration": 93,
    "start_time": "2022-07-23T10:51:30.707Z"
   },
   {
    "duration": 16,
    "start_time": "2022-07-23T10:51:42.989Z"
   },
   {
    "duration": 2994,
    "start_time": "2022-07-23T13:23:38.771Z"
   },
   {
    "duration": 93,
    "start_time": "2022-07-23T13:23:42.710Z"
   },
   {
    "duration": 98,
    "start_time": "2022-07-23T13:23:43.352Z"
   },
   {
    "duration": 15,
    "start_time": "2022-07-23T13:23:43.553Z"
   },
   {
    "duration": 31,
    "start_time": "2022-07-23T13:23:43.728Z"
   },
   {
    "duration": 5,
    "start_time": "2022-07-23T13:23:43.941Z"
   },
   {
    "duration": 4,
    "start_time": "2022-07-23T13:23:44.059Z"
   },
   {
    "duration": 7,
    "start_time": "2022-07-23T13:23:44.236Z"
   },
   {
    "duration": 4,
    "start_time": "2022-07-23T13:23:44.454Z"
   },
   {
    "duration": 3,
    "start_time": "2022-07-23T13:23:44.651Z"
   },
   {
    "duration": 5,
    "start_time": "2022-07-23T13:23:44.836Z"
   },
   {
    "duration": 226,
    "start_time": "2022-07-23T13:23:45.051Z"
   },
   {
    "duration": 194,
    "start_time": "2022-07-23T13:23:45.279Z"
   },
   {
    "duration": 853,
    "start_time": "2022-07-23T13:23:45.548Z"
   },
   {
    "duration": 943,
    "start_time": "2022-07-23T13:23:46.403Z"
   },
   {
    "duration": 875,
    "start_time": "2022-07-23T13:23:47.349Z"
   },
   {
    "duration": 15,
    "start_time": "2022-07-23T13:23:48.227Z"
   },
   {
    "duration": 6,
    "start_time": "2022-07-23T13:23:51.882Z"
   },
   {
    "duration": 3,
    "start_time": "2022-07-23T13:23:54.994Z"
   },
   {
    "duration": 2,
    "start_time": "2022-07-23T13:24:06.674Z"
   },
   {
    "duration": 9,
    "start_time": "2022-07-23T13:24:07.254Z"
   },
   {
    "duration": 8,
    "start_time": "2022-07-23T13:24:07.824Z"
   },
   {
    "duration": 16,
    "start_time": "2022-07-23T13:24:13.290Z"
   },
   {
    "duration": 4,
    "start_time": "2022-07-23T13:25:45.036Z"
   },
   {
    "duration": 8,
    "start_time": "2022-07-23T13:25:46.159Z"
   },
   {
    "duration": 9,
    "start_time": "2022-07-23T13:25:46.674Z"
   },
   {
    "duration": 15,
    "start_time": "2022-07-23T13:25:47.139Z"
   },
   {
    "duration": 4,
    "start_time": "2022-07-23T13:25:57.449Z"
   },
   {
    "duration": 7,
    "start_time": "2022-07-23T13:25:57.808Z"
   },
   {
    "duration": 4,
    "start_time": "2022-07-23T13:25:58.154Z"
   },
   {
    "duration": 18,
    "start_time": "2022-07-23T13:25:58.665Z"
   },
   {
    "duration": 5,
    "start_time": "2022-07-23T13:26:05.033Z"
   },
   {
    "duration": 5,
    "start_time": "2022-07-23T13:26:05.366Z"
   },
   {
    "duration": 7,
    "start_time": "2022-07-23T13:26:05.752Z"
   },
   {
    "duration": 4,
    "start_time": "2022-07-23T13:26:06.159Z"
   },
   {
    "duration": 6,
    "start_time": "2022-07-23T13:26:07.169Z"
   },
   {
    "duration": 3,
    "start_time": "2022-07-23T13:26:08.473Z"
   },
   {
    "duration": 4,
    "start_time": "2022-07-23T13:26:09.076Z"
   },
   {
    "duration": 268,
    "start_time": "2022-07-23T13:26:10.799Z"
   },
   {
    "duration": 901,
    "start_time": "2022-07-23T13:26:26.735Z"
   },
   {
    "duration": 7,
    "start_time": "2022-07-23T13:26:46.136Z"
   },
   {
    "duration": 2,
    "start_time": "2022-07-23T13:26:46.482Z"
   },
   {
    "duration": 4,
    "start_time": "2022-07-23T13:26:46.843Z"
   },
   {
    "duration": 691,
    "start_time": "2022-07-23T13:26:47.362Z"
   },
   {
    "duration": 16,
    "start_time": "2022-07-23T13:27:02.429Z"
   },
   {
    "duration": 5,
    "start_time": "2022-07-23T13:27:03.011Z"
   },
   {
    "duration": 4,
    "start_time": "2022-07-23T13:27:03.503Z"
   },
   {
    "duration": 1114,
    "start_time": "2022-07-23T13:27:04.433Z"
   },
   {
    "duration": 5,
    "start_time": "2022-07-23T13:27:51.090Z"
   },
   {
    "duration": 4,
    "start_time": "2022-07-23T13:27:55.487Z"
   },
   {
    "duration": 4,
    "start_time": "2022-07-23T13:27:56.349Z"
   },
   {
    "duration": 662,
    "start_time": "2022-07-23T13:27:56.864Z"
   },
   {
    "duration": 4,
    "start_time": "2022-07-23T13:28:05.480Z"
   },
   {
    "duration": 4,
    "start_time": "2022-07-23T13:28:08.629Z"
   },
   {
    "duration": 4,
    "start_time": "2022-07-23T13:28:08.925Z"
   },
   {
    "duration": 572,
    "start_time": "2022-07-23T13:28:09.278Z"
   },
   {
    "duration": 8422,
    "start_time": "2022-07-23T13:28:17.937Z"
   },
   {
    "duration": 908,
    "start_time": "2022-07-23T13:42:15.454Z"
   },
   {
    "duration": 9,
    "start_time": "2022-07-23T13:42:23.952Z"
   },
   {
    "duration": 11,
    "start_time": "2022-07-23T13:42:24.307Z"
   },
   {
    "duration": 68,
    "start_time": "2022-07-23T13:42:24.602Z"
   },
   {
    "duration": 3,
    "start_time": "2022-07-23T13:42:35.582Z"
   },
   {
    "duration": 4,
    "start_time": "2022-07-23T13:42:35.978Z"
   },
   {
    "duration": 912,
    "start_time": "2022-07-23T13:42:36.154Z"
   },
   {
    "duration": 4,
    "start_time": "2022-07-23T13:42:43.936Z"
   },
   {
    "duration": 5,
    "start_time": "2022-07-23T13:42:44.189Z"
   },
   {
    "duration": 34,
    "start_time": "2022-07-23T13:42:44.441Z"
   },
   {
    "duration": 4,
    "start_time": "2022-07-23T13:43:32.964Z"
   },
   {
    "duration": 7,
    "start_time": "2022-07-23T13:43:33.227Z"
   },
   {
    "duration": 550,
    "start_time": "2022-07-23T13:43:33.467Z"
   },
   {
    "duration": 4,
    "start_time": "2022-07-23T13:43:38.737Z"
   },
   {
    "duration": 4,
    "start_time": "2022-07-23T13:43:38.973Z"
   },
   {
    "duration": 654,
    "start_time": "2022-07-23T13:43:39.185Z"
   },
   {
    "duration": 723,
    "start_time": "2022-07-23T13:43:44.419Z"
   },
   {
    "duration": 7,
    "start_time": "2022-07-23T13:48:44.436Z"
   },
   {
    "duration": 3,
    "start_time": "2022-07-23T13:48:45.157Z"
   },
   {
    "duration": 16,
    "start_time": "2022-07-23T13:48:45.487Z"
   },
   {
    "duration": 13,
    "start_time": "2022-07-23T13:48:45.895Z"
   },
   {
    "duration": 8,
    "start_time": "2022-07-23T13:49:00.125Z"
   },
   {
    "duration": 4,
    "start_time": "2022-07-23T13:49:00.553Z"
   },
   {
    "duration": 37,
    "start_time": "2022-07-23T13:49:00.562Z"
   },
   {
    "duration": 5,
    "start_time": "2022-07-23T13:49:13.895Z"
   },
   {
    "duration": 7,
    "start_time": "2022-07-23T13:49:14.632Z"
   },
   {
    "duration": 4,
    "start_time": "2022-07-23T13:49:14.839Z"
   },
   {
    "duration": 678,
    "start_time": "2022-07-23T13:49:16.063Z"
   },
   {
    "duration": 8,
    "start_time": "2022-07-23T13:49:31.907Z"
   },
   {
    "duration": 4,
    "start_time": "2022-07-23T13:49:33.556Z"
   },
   {
    "duration": 790,
    "start_time": "2022-07-23T13:49:34.443Z"
   },
   {
    "duration": 908,
    "start_time": "2022-07-23T13:49:37.905Z"
   },
   {
    "duration": 10,
    "start_time": "2022-07-23T13:50:10.903Z"
   },
   {
    "duration": 764,
    "start_time": "2022-07-23T13:50:11.088Z"
   },
   {
    "duration": 39,
    "start_time": "2022-07-23T13:52:52.708Z"
   },
   {
    "duration": 4,
    "start_time": "2022-07-23T13:53:34.860Z"
   },
   {
    "duration": 23,
    "start_time": "2022-07-23T13:53:35.394Z"
   },
   {
    "duration": 105,
    "start_time": "2022-07-23T13:54:19.057Z"
   },
   {
    "duration": 10,
    "start_time": "2022-07-23T13:54:25.735Z"
   },
   {
    "duration": 34,
    "start_time": "2022-07-23T13:54:29.528Z"
   },
   {
    "duration": 11,
    "start_time": "2022-07-23T13:55:20.363Z"
   },
   {
    "duration": 40,
    "start_time": "2022-07-23T13:55:20.928Z"
   },
   {
    "duration": 9,
    "start_time": "2022-07-23T13:55:36.175Z"
   },
   {
    "duration": 973,
    "start_time": "2022-07-23T13:55:36.559Z"
   },
   {
    "duration": 10,
    "start_time": "2022-07-23T13:56:21.060Z"
   },
   {
    "duration": 1135,
    "start_time": "2022-07-23T13:56:21.684Z"
   },
   {
    "duration": 1287,
    "start_time": "2022-07-23T13:57:46.064Z"
   },
   {
    "duration": 10,
    "start_time": "2022-07-23T13:58:18.684Z"
   },
   {
    "duration": 26,
    "start_time": "2022-07-23T13:58:19.336Z"
   },
   {
    "duration": 18,
    "start_time": "2022-07-23T14:02:14.401Z"
   },
   {
    "duration": 15,
    "start_time": "2022-07-23T14:02:14.886Z"
   },
   {
    "duration": 18,
    "start_time": "2022-07-23T14:02:42.206Z"
   },
   {
    "duration": 1179,
    "start_time": "2022-07-23T14:02:42.457Z"
   },
   {
    "duration": 1207,
    "start_time": "2022-07-23T14:02:49.055Z"
   },
   {
    "duration": 1335,
    "start_time": "2022-07-23T14:02:53.832Z"
   },
   {
    "duration": 1204,
    "start_time": "2022-07-23T14:02:58.741Z"
   },
   {
    "duration": 99,
    "start_time": "2022-07-23T14:03:13.297Z"
   },
   {
    "duration": 50,
    "start_time": "2022-07-23T15:47:44.339Z"
   },
   {
    "duration": 1921,
    "start_time": "2022-07-23T15:47:48.115Z"
   },
   {
    "duration": 73,
    "start_time": "2022-07-23T15:47:50.038Z"
   },
   {
    "duration": 81,
    "start_time": "2022-07-23T15:47:50.112Z"
   },
   {
    "duration": 13,
    "start_time": "2022-07-23T15:47:50.195Z"
   },
   {
    "duration": 34,
    "start_time": "2022-07-23T15:47:50.209Z"
   },
   {
    "duration": 4,
    "start_time": "2022-07-23T15:47:50.245Z"
   },
   {
    "duration": 7,
    "start_time": "2022-07-23T15:47:50.251Z"
   },
   {
    "duration": 6,
    "start_time": "2022-07-23T15:47:50.259Z"
   },
   {
    "duration": 3,
    "start_time": "2022-07-23T15:47:50.688Z"
   },
   {
    "duration": 3,
    "start_time": "2022-07-23T15:47:51.569Z"
   },
   {
    "duration": 4,
    "start_time": "2022-07-23T15:47:52.299Z"
   },
   {
    "duration": 160,
    "start_time": "2022-07-23T15:47:52.844Z"
   },
   {
    "duration": 128,
    "start_time": "2022-07-23T15:47:53.342Z"
   },
   {
    "duration": 679,
    "start_time": "2022-07-23T15:47:54.009Z"
   },
   {
    "duration": 755,
    "start_time": "2022-07-23T15:47:54.692Z"
   },
   {
    "duration": 627,
    "start_time": "2022-07-23T15:47:55.449Z"
   },
   {
    "duration": 2,
    "start_time": "2022-07-23T15:47:56.254Z"
   },
   {
    "duration": 5,
    "start_time": "2022-07-23T15:47:58.544Z"
   },
   {
    "duration": 4,
    "start_time": "2022-07-23T15:48:04.746Z"
   },
   {
    "duration": 3,
    "start_time": "2022-07-23T15:48:06.041Z"
   },
   {
    "duration": 9,
    "start_time": "2022-07-23T15:48:06.438Z"
   },
   {
    "duration": 8,
    "start_time": "2022-07-23T15:48:06.956Z"
   },
   {
    "duration": 17,
    "start_time": "2022-07-23T15:48:08.296Z"
   },
   {
    "duration": 372,
    "start_time": "2022-07-23T15:48:15.940Z"
   },
   {
    "duration": 4,
    "start_time": "2022-07-23T15:48:29.846Z"
   },
   {
    "duration": 2,
    "start_time": "2022-07-23T15:49:11.627Z"
   },
   {
    "duration": 10,
    "start_time": "2022-07-23T15:49:27.970Z"
   },
   {
    "duration": 2,
    "start_time": "2022-07-23T15:51:36.986Z"
   },
   {
    "duration": 13,
    "start_time": "2022-07-23T15:51:37.237Z"
   },
   {
    "duration": 3,
    "start_time": "2022-07-23T15:51:40.341Z"
   },
   {
    "duration": 10,
    "start_time": "2022-07-23T15:51:41.742Z"
   },
   {
    "duration": 6,
    "start_time": "2022-07-23T15:51:52.847Z"
   },
   {
    "duration": 5,
    "start_time": "2022-07-23T15:52:10.545Z"
   },
   {
    "duration": 3,
    "start_time": "2022-07-23T15:52:17.537Z"
   },
   {
    "duration": 15,
    "start_time": "2022-07-23T15:52:25.238Z"
   },
   {
    "duration": 14,
    "start_time": "2022-07-23T16:01:56.661Z"
   },
   {
    "duration": 11,
    "start_time": "2022-07-23T16:02:00.782Z"
   },
   {
    "duration": 5,
    "start_time": "2022-07-23T16:02:16.589Z"
   },
   {
    "duration": 5,
    "start_time": "2022-07-23T16:02:16.687Z"
   },
   {
    "duration": 7,
    "start_time": "2022-07-23T16:03:32.984Z"
   },
   {
    "duration": 13,
    "start_time": "2022-07-23T16:03:33.547Z"
   },
   {
    "duration": 4,
    "start_time": "2022-07-23T16:04:08.265Z"
   },
   {
    "duration": 5,
    "start_time": "2022-07-23T16:04:10.841Z"
   },
   {
    "duration": 3,
    "start_time": "2022-07-23T16:04:11.937Z"
   },
   {
    "duration": 2,
    "start_time": "2022-07-23T16:04:12.280Z"
   },
   {
    "duration": 6,
    "start_time": "2022-07-23T16:04:12.832Z"
   },
   {
    "duration": 7,
    "start_time": "2022-07-23T16:04:13.434Z"
   },
   {
    "duration": 13,
    "start_time": "2022-07-23T16:04:15.708Z"
   },
   {
    "duration": 3,
    "start_time": "2022-07-23T16:04:19.838Z"
   },
   {
    "duration": 7,
    "start_time": "2022-07-23T16:04:26.380Z"
   },
   {
    "duration": 11,
    "start_time": "2022-07-23T16:04:26.649Z"
   },
   {
    "duration": 4,
    "start_time": "2022-07-23T16:04:29.672Z"
   },
   {
    "duration": 17,
    "start_time": "2022-07-23T16:04:29.890Z"
   },
   {
    "duration": 3,
    "start_time": "2022-07-23T16:04:40.057Z"
   },
   {
    "duration": 3,
    "start_time": "2022-07-23T16:04:40.295Z"
   },
   {
    "duration": 6,
    "start_time": "2022-07-23T16:04:40.558Z"
   },
   {
    "duration": 3,
    "start_time": "2022-07-23T16:04:40.777Z"
   },
   {
    "duration": 7,
    "start_time": "2022-07-23T16:04:44.585Z"
   },
   {
    "duration": 88,
    "start_time": "2022-07-23T16:04:45.859Z"
   },
   {
    "duration": 355,
    "start_time": "2022-07-23T16:05:00.077Z"
   },
   {
    "duration": 9,
    "start_time": "2022-07-23T16:05:06.038Z"
   },
   {
    "duration": 17,
    "start_time": "2022-07-23T16:05:06.978Z"
   },
   {
    "duration": 6099,
    "start_time": "2022-07-23T16:05:14.737Z"
   },
   {
    "duration": 679,
    "start_time": "2022-07-23T16:05:27.245Z"
   },
   {
    "duration": 597,
    "start_time": "2022-07-23T16:05:39.134Z"
   },
   {
    "duration": 637,
    "start_time": "2022-07-23T16:06:51.396Z"
   },
   {
    "duration": 35,
    "start_time": "2022-07-23T16:07:11.447Z"
   },
   {
    "duration": 595,
    "start_time": "2022-07-23T16:08:00.543Z"
   },
   {
    "duration": 11,
    "start_time": "2022-07-23T16:10:34.238Z"
   },
   {
    "duration": 1745,
    "start_time": "2022-07-23T16:10:43.989Z"
   },
   {
    "duration": 29,
    "start_time": "2022-07-23T16:10:45.736Z"
   },
   {
    "duration": 88,
    "start_time": "2022-07-23T16:10:45.767Z"
   },
   {
    "duration": 11,
    "start_time": "2022-07-23T16:10:45.857Z"
   },
   {
    "duration": 31,
    "start_time": "2022-07-23T16:10:45.870Z"
   },
   {
    "duration": 4,
    "start_time": "2022-07-23T16:10:45.903Z"
   },
   {
    "duration": 5,
    "start_time": "2022-07-23T16:10:45.924Z"
   },
   {
    "duration": 12,
    "start_time": "2022-07-23T16:10:45.930Z"
   },
   {
    "duration": 6,
    "start_time": "2022-07-23T16:10:45.943Z"
   },
   {
    "duration": 7,
    "start_time": "2022-07-23T16:10:45.952Z"
   },
   {
    "duration": 5,
    "start_time": "2022-07-23T16:10:45.961Z"
   },
   {
    "duration": 184,
    "start_time": "2022-07-23T16:10:45.968Z"
   },
   {
    "duration": 138,
    "start_time": "2022-07-23T16:10:46.154Z"
   },
   {
    "duration": 664,
    "start_time": "2022-07-23T16:10:46.294Z"
   },
   {
    "duration": 805,
    "start_time": "2022-07-23T16:10:46.960Z"
   },
   {
    "duration": 619,
    "start_time": "2022-07-23T16:10:47.767Z"
   },
   {
    "duration": 4,
    "start_time": "2022-07-23T16:10:48.388Z"
   },
   {
    "duration": 10,
    "start_time": "2022-07-23T16:10:48.394Z"
   },
   {
    "duration": 9,
    "start_time": "2022-07-23T16:10:48.405Z"
   },
   {
    "duration": 3,
    "start_time": "2022-07-23T16:10:48.423Z"
   },
   {
    "duration": 12,
    "start_time": "2022-07-23T16:10:48.427Z"
   },
   {
    "duration": 7,
    "start_time": "2022-07-23T16:10:48.440Z"
   },
   {
    "duration": 17,
    "start_time": "2022-07-23T16:10:48.449Z"
   },
   {
    "duration": 7,
    "start_time": "2022-07-23T16:10:48.467Z"
   },
   {
    "duration": 7,
    "start_time": "2022-07-23T16:10:48.476Z"
   },
   {
    "duration": 13,
    "start_time": "2022-07-23T16:10:48.485Z"
   },
   {
    "duration": 25,
    "start_time": "2022-07-23T16:10:48.499Z"
   },
   {
    "duration": 16,
    "start_time": "2022-07-23T16:10:48.527Z"
   },
   {
    "duration": 13,
    "start_time": "2022-07-23T16:10:48.544Z"
   },
   {
    "duration": 11,
    "start_time": "2022-07-23T16:10:48.559Z"
   },
   {
    "duration": 12,
    "start_time": "2022-07-23T16:10:48.572Z"
   },
   {
    "duration": 14,
    "start_time": "2022-07-23T16:10:48.586Z"
   },
   {
    "duration": 8,
    "start_time": "2022-07-23T16:10:48.602Z"
   },
   {
    "duration": 420,
    "start_time": "2022-07-23T16:10:48.611Z"
   },
   {
    "duration": 9,
    "start_time": "2022-07-23T16:10:49.033Z"
   },
   {
    "duration": 689,
    "start_time": "2022-07-23T16:10:49.043Z"
   },
   {
    "duration": 13,
    "start_time": "2022-07-23T16:10:49.735Z"
   },
   {
    "duration": 154,
    "start_time": "2022-07-23T16:10:49.750Z"
   },
   {
    "duration": 0,
    "start_time": "2022-07-23T16:10:49.906Z"
   },
   {
    "duration": 0,
    "start_time": "2022-07-23T16:10:49.908Z"
   },
   {
    "duration": 0,
    "start_time": "2022-07-23T16:10:49.908Z"
   },
   {
    "duration": 0,
    "start_time": "2022-07-23T16:10:49.910Z"
   },
   {
    "duration": 11,
    "start_time": "2022-07-23T16:20:03.277Z"
   },
   {
    "duration": 340,
    "start_time": "2022-07-23T16:20:30.106Z"
   },
   {
    "duration": 13,
    "start_time": "2022-07-23T16:20:52.141Z"
   },
   {
    "duration": 361,
    "start_time": "2022-07-23T16:20:52.473Z"
   },
   {
    "duration": 6,
    "start_time": "2022-07-23T16:21:58.394Z"
   },
   {
    "duration": 405,
    "start_time": "2022-07-23T16:21:58.440Z"
   },
   {
    "duration": 9,
    "start_time": "2022-07-23T16:22:06.582Z"
   },
   {
    "duration": 833,
    "start_time": "2022-07-23T16:22:06.808Z"
   },
   {
    "duration": 17,
    "start_time": "2022-07-23T16:22:12.764Z"
   },
   {
    "duration": 5,
    "start_time": "2022-07-23T16:22:47.648Z"
   },
   {
    "duration": 10,
    "start_time": "2022-07-23T16:23:12.112Z"
   },
   {
    "duration": 5,
    "start_time": "2022-07-23T16:23:18.542Z"
   },
   {
    "duration": 3,
    "start_time": "2022-07-23T16:26:03.853Z"
   },
   {
    "duration": 3,
    "start_time": "2022-07-23T16:26:25.750Z"
   },
   {
    "duration": 3,
    "start_time": "2022-07-23T16:26:53.501Z"
   },
   {
    "duration": 4,
    "start_time": "2022-07-23T16:26:53.959Z"
   },
   {
    "duration": 5,
    "start_time": "2022-07-23T16:28:37.711Z"
   },
   {
    "duration": 1101,
    "start_time": "2022-07-23T16:28:38.552Z"
   },
   {
    "duration": 4,
    "start_time": "2022-07-23T16:29:39.003Z"
   },
   {
    "duration": 958,
    "start_time": "2022-07-23T16:29:39.477Z"
   },
   {
    "duration": 4,
    "start_time": "2022-07-23T16:30:06.359Z"
   },
   {
    "duration": 336,
    "start_time": "2022-07-23T16:30:07.550Z"
   },
   {
    "duration": 50,
    "start_time": "2022-07-23T16:30:21.742Z"
   },
   {
    "duration": 424,
    "start_time": "2022-07-23T16:30:22.181Z"
   },
   {
    "duration": 4,
    "start_time": "2022-07-23T16:30:29.843Z"
   },
   {
    "duration": 354,
    "start_time": "2022-07-23T16:30:30.351Z"
   },
   {
    "duration": 5,
    "start_time": "2022-07-23T16:30:48.264Z"
   },
   {
    "duration": 4,
    "start_time": "2022-07-23T16:30:51.551Z"
   },
   {
    "duration": 344,
    "start_time": "2022-07-23T16:30:51.949Z"
   },
   {
    "duration": 10,
    "start_time": "2022-07-23T16:31:41.657Z"
   },
   {
    "duration": 683,
    "start_time": "2022-07-23T16:31:43.962Z"
   },
   {
    "duration": 380,
    "start_time": "2022-07-23T16:31:50.305Z"
   },
   {
    "duration": 4,
    "start_time": "2022-07-23T16:32:32.259Z"
   },
   {
    "duration": 503,
    "start_time": "2022-07-23T16:32:32.790Z"
   },
   {
    "duration": 345,
    "start_time": "2022-07-23T16:32:39.462Z"
   },
   {
    "duration": 5,
    "start_time": "2022-07-23T16:33:28.571Z"
   },
   {
    "duration": 5,
    "start_time": "2022-07-23T16:33:34.691Z"
   },
   {
    "duration": 6,
    "start_time": "2022-07-23T16:33:48.743Z"
   },
   {
    "duration": 348,
    "start_time": "2022-07-23T16:33:48.985Z"
   },
   {
    "duration": 5,
    "start_time": "2022-07-23T16:33:52.245Z"
   },
   {
    "duration": 5,
    "start_time": "2022-07-23T16:33:58.945Z"
   },
   {
    "duration": 388,
    "start_time": "2022-07-23T16:33:59.608Z"
   },
   {
    "duration": 4,
    "start_time": "2022-07-23T16:34:23.667Z"
   },
   {
    "duration": 461,
    "start_time": "2022-07-23T16:34:24.175Z"
   },
   {
    "duration": 5,
    "start_time": "2022-07-23T16:34:33.957Z"
   },
   {
    "duration": 612,
    "start_time": "2022-07-23T16:34:34.158Z"
   },
   {
    "duration": 9,
    "start_time": "2022-07-23T16:34:54.187Z"
   },
   {
    "duration": 769,
    "start_time": "2022-07-23T16:34:54.463Z"
   },
   {
    "duration": 455,
    "start_time": "2022-07-23T16:34:57.772Z"
   },
   {
    "duration": 15,
    "start_time": "2022-07-23T16:36:09.558Z"
   },
   {
    "duration": 426,
    "start_time": "2022-07-23T16:36:09.799Z"
   },
   {
    "duration": 500,
    "start_time": "2022-07-23T16:36:10.227Z"
   },
   {
    "duration": 12,
    "start_time": "2022-07-23T16:36:32.993Z"
   },
   {
    "duration": 389,
    "start_time": "2022-07-23T16:36:33.457Z"
   },
   {
    "duration": 327,
    "start_time": "2022-07-23T16:36:39.606Z"
   },
   {
    "duration": 590,
    "start_time": "2022-07-23T16:36:55.773Z"
   },
   {
    "duration": 428,
    "start_time": "2022-07-23T16:37:55.860Z"
   },
   {
    "duration": 4,
    "start_time": "2022-07-23T16:41:04.772Z"
   },
   {
    "duration": 418,
    "start_time": "2022-07-23T16:41:04.964Z"
   },
   {
    "duration": 6,
    "start_time": "2022-07-23T16:41:33.454Z"
   },
   {
    "duration": 339,
    "start_time": "2022-07-23T16:41:44.804Z"
   },
   {
    "duration": 5,
    "start_time": "2022-07-23T16:41:46.561Z"
   },
   {
    "duration": 5,
    "start_time": "2022-07-23T16:41:49.004Z"
   },
   {
    "duration": 4,
    "start_time": "2022-07-23T16:41:50.049Z"
   },
   {
    "duration": 5,
    "start_time": "2022-07-23T16:41:59.290Z"
   },
   {
    "duration": 452,
    "start_time": "2022-07-23T16:41:59.684Z"
   },
   {
    "duration": 7,
    "start_time": "2022-07-23T16:42:18.001Z"
   },
   {
    "duration": 672,
    "start_time": "2022-07-23T16:42:18.974Z"
   },
   {
    "duration": 582,
    "start_time": "2022-07-23T16:42:23.076Z"
   },
   {
    "duration": 25,
    "start_time": "2022-07-23T16:42:54.148Z"
   },
   {
    "duration": 678,
    "start_time": "2022-07-23T16:43:07.347Z"
   },
   {
    "duration": 465,
    "start_time": "2022-07-23T16:43:09.749Z"
   },
   {
    "duration": 12,
    "start_time": "2022-07-23T16:43:20.244Z"
   },
   {
    "duration": 347,
    "start_time": "2022-07-23T16:43:25.984Z"
   },
   {
    "duration": 522,
    "start_time": "2022-07-23T16:43:27.305Z"
   },
   {
    "duration": 7,
    "start_time": "2022-07-23T16:45:58.691Z"
   },
   {
    "duration": 270,
    "start_time": "2022-07-23T16:45:59.471Z"
   },
   {
    "duration": 451,
    "start_time": "2022-07-23T16:46:05.252Z"
   },
   {
    "duration": 129,
    "start_time": "2022-07-23T16:46:18.105Z"
   },
   {
    "duration": 253,
    "start_time": "2022-07-23T16:46:18.591Z"
   },
   {
    "duration": 444,
    "start_time": "2022-07-23T16:46:19.848Z"
   },
   {
    "duration": 363,
    "start_time": "2022-07-23T16:46:32.881Z"
   },
   {
    "duration": 464,
    "start_time": "2022-07-23T16:46:33.459Z"
   },
   {
    "duration": 7,
    "start_time": "2022-07-23T16:46:43.370Z"
   },
   {
    "duration": 441,
    "start_time": "2022-07-23T16:46:43.607Z"
   },
   {
    "duration": 505,
    "start_time": "2022-07-23T16:46:44.192Z"
   },
   {
    "duration": 397,
    "start_time": "2022-07-23T16:46:47.153Z"
   },
   {
    "duration": 565,
    "start_time": "2022-07-23T16:46:47.624Z"
   },
   {
    "duration": 396,
    "start_time": "2022-07-23T16:46:50.437Z"
   },
   {
    "duration": 475,
    "start_time": "2022-07-23T16:46:53.075Z"
   },
   {
    "duration": 617,
    "start_time": "2022-07-23T16:46:56.966Z"
   },
   {
    "duration": 443,
    "start_time": "2022-07-23T16:46:59.166Z"
   },
   {
    "duration": 7,
    "start_time": "2022-07-23T16:47:05.371Z"
   },
   {
    "duration": 307,
    "start_time": "2022-07-23T16:47:09.938Z"
   },
   {
    "duration": 6,
    "start_time": "2022-07-23T16:47:16.950Z"
   },
   {
    "duration": 438,
    "start_time": "2022-07-23T16:47:26.885Z"
   },
   {
    "duration": 5,
    "start_time": "2022-07-23T16:47:28.542Z"
   },
   {
    "duration": 7,
    "start_time": "2022-07-23T16:49:26.481Z"
   },
   {
    "duration": 330,
    "start_time": "2022-07-23T16:49:26.898Z"
   },
   {
    "duration": 12,
    "start_time": "2022-07-23T16:49:55.443Z"
   },
   {
    "duration": 630,
    "start_time": "2022-07-23T16:49:55.803Z"
   },
   {
    "duration": 9,
    "start_time": "2022-07-23T16:49:57.500Z"
   },
   {
    "duration": 10,
    "start_time": "2022-07-23T16:50:17.480Z"
   },
   {
    "duration": 542,
    "start_time": "2022-07-23T16:50:18.583Z"
   },
   {
    "duration": 6,
    "start_time": "2022-07-23T16:50:20.097Z"
   },
   {
    "duration": 8,
    "start_time": "2022-07-23T16:50:30.036Z"
   },
   {
    "duration": 382,
    "start_time": "2022-07-23T16:50:30.542Z"
   },
   {
    "duration": 4,
    "start_time": "2022-07-23T16:50:34.359Z"
   },
   {
    "duration": 7,
    "start_time": "2022-07-23T16:50:44.451Z"
   },
   {
    "duration": 394,
    "start_time": "2022-07-23T16:50:45.044Z"
   },
   {
    "duration": 6,
    "start_time": "2022-07-23T16:50:46.305Z"
   },
   {
    "duration": 597,
    "start_time": "2022-07-23T16:50:49.339Z"
   },
   {
    "duration": 1718,
    "start_time": "2022-07-23T16:51:12.674Z"
   },
   {
    "duration": 30,
    "start_time": "2022-07-23T16:51:14.394Z"
   },
   {
    "duration": 89,
    "start_time": "2022-07-23T16:51:14.425Z"
   },
   {
    "duration": 21,
    "start_time": "2022-07-23T16:51:14.517Z"
   },
   {
    "duration": 34,
    "start_time": "2022-07-23T16:51:14.539Z"
   },
   {
    "duration": 5,
    "start_time": "2022-07-23T16:51:14.575Z"
   },
   {
    "duration": 5,
    "start_time": "2022-07-23T16:51:14.582Z"
   },
   {
    "duration": 8,
    "start_time": "2022-07-23T16:51:14.589Z"
   },
   {
    "duration": 6,
    "start_time": "2022-07-23T16:51:14.598Z"
   },
   {
    "duration": 4,
    "start_time": "2022-07-23T16:51:14.627Z"
   },
   {
    "duration": 7,
    "start_time": "2022-07-23T16:51:14.632Z"
   },
   {
    "duration": 184,
    "start_time": "2022-07-23T16:51:14.641Z"
   },
   {
    "duration": 139,
    "start_time": "2022-07-23T16:51:14.828Z"
   },
   {
    "duration": 644,
    "start_time": "2022-07-23T16:51:14.969Z"
   },
   {
    "duration": 738,
    "start_time": "2022-07-23T16:51:15.615Z"
   },
   {
    "duration": 635,
    "start_time": "2022-07-23T16:51:16.355Z"
   },
   {
    "duration": 4,
    "start_time": "2022-07-23T16:51:16.992Z"
   },
   {
    "duration": 10,
    "start_time": "2022-07-23T16:51:16.997Z"
   },
   {
    "duration": 4,
    "start_time": "2022-07-23T16:51:17.008Z"
   },
   {
    "duration": 3,
    "start_time": "2022-07-23T16:51:17.024Z"
   },
   {
    "duration": 10,
    "start_time": "2022-07-23T16:51:17.028Z"
   },
   {
    "duration": 8,
    "start_time": "2022-07-23T16:51:17.039Z"
   },
   {
    "duration": 20,
    "start_time": "2022-07-23T16:51:17.048Z"
   },
   {
    "duration": 6,
    "start_time": "2022-07-23T16:51:17.070Z"
   },
   {
    "duration": 9,
    "start_time": "2022-07-23T16:51:17.077Z"
   },
   {
    "duration": 16,
    "start_time": "2022-07-23T16:51:17.088Z"
   },
   {
    "duration": 6,
    "start_time": "2022-07-23T16:51:17.124Z"
   },
   {
    "duration": 31,
    "start_time": "2022-07-23T16:51:17.135Z"
   },
   {
    "duration": 9,
    "start_time": "2022-07-23T16:51:17.168Z"
   },
   {
    "duration": 15,
    "start_time": "2022-07-23T16:51:17.179Z"
   },
   {
    "duration": 14,
    "start_time": "2022-07-23T16:51:17.196Z"
   },
   {
    "duration": 13,
    "start_time": "2022-07-23T16:51:17.212Z"
   },
   {
    "duration": 11,
    "start_time": "2022-07-23T16:51:17.227Z"
   },
   {
    "duration": 485,
    "start_time": "2022-07-23T16:51:17.242Z"
   },
   {
    "duration": 6,
    "start_time": "2022-07-23T16:51:17.729Z"
   },
   {
    "duration": 7,
    "start_time": "2022-07-23T16:51:17.737Z"
   },
   {
    "duration": 8,
    "start_time": "2022-07-23T16:51:17.746Z"
   },
   {
    "duration": 622,
    "start_time": "2022-07-23T16:51:17.755Z"
   },
   {
    "duration": 12,
    "start_time": "2022-07-23T16:51:18.380Z"
   },
   {
    "duration": 646,
    "start_time": "2022-07-23T16:51:18.393Z"
   },
   {
    "duration": 518,
    "start_time": "2022-07-23T16:51:19.041Z"
   },
   {
    "duration": 8,
    "start_time": "2022-07-23T16:51:19.561Z"
   },
   {
    "duration": 461,
    "start_time": "2022-07-23T16:51:19.570Z"
   },
   {
    "duration": 5,
    "start_time": "2022-07-23T16:51:20.032Z"
   },
   {
    "duration": 465,
    "start_time": "2022-07-23T16:51:20.039Z"
   },
   {
    "duration": 6,
    "start_time": "2022-07-23T16:51:20.506Z"
   },
   {
    "duration": 144,
    "start_time": "2022-07-23T16:51:20.514Z"
   },
   {
    "duration": 0,
    "start_time": "2022-07-23T16:51:20.659Z"
   },
   {
    "duration": 0,
    "start_time": "2022-07-23T16:51:20.660Z"
   },
   {
    "duration": 0,
    "start_time": "2022-07-23T16:51:20.662Z"
   },
   {
    "duration": 0,
    "start_time": "2022-07-23T16:51:20.663Z"
   },
   {
    "duration": 7,
    "start_time": "2022-07-23T16:52:13.690Z"
   },
   {
    "duration": 398,
    "start_time": "2022-07-23T16:52:14.726Z"
   },
   {
    "duration": 10,
    "start_time": "2022-07-23T16:52:16.676Z"
   },
   {
    "duration": 445,
    "start_time": "2022-07-23T16:52:18.509Z"
   },
   {
    "duration": 14,
    "start_time": "2022-07-23T16:53:41.025Z"
   },
   {
    "duration": 333,
    "start_time": "2022-07-23T16:53:41.698Z"
   },
   {
    "duration": 5,
    "start_time": "2022-07-23T16:53:42.660Z"
   },
   {
    "duration": 5,
    "start_time": "2022-07-23T16:53:43.948Z"
   },
   {
    "duration": 3,
    "start_time": "2022-07-23T16:53:44.208Z"
   },
   {
    "duration": 158,
    "start_time": "2022-07-23T16:53:47.036Z"
   },
   {
    "duration": 717,
    "start_time": "2022-07-23T16:53:47.618Z"
   },
   {
    "duration": 436,
    "start_time": "2022-07-23T16:53:48.967Z"
   },
   {
    "duration": 7,
    "start_time": "2022-07-23T16:53:54.760Z"
   },
   {
    "duration": 355,
    "start_time": "2022-07-23T16:53:55.078Z"
   },
   {
    "duration": 4,
    "start_time": "2022-07-23T16:53:56.061Z"
   },
   {
    "duration": 432,
    "start_time": "2022-07-23T16:53:58.818Z"
   },
   {
    "duration": 376,
    "start_time": "2022-07-23T16:56:19.048Z"
   },
   {
    "duration": 7,
    "start_time": "2022-07-23T16:56:23.188Z"
   },
   {
    "duration": 368,
    "start_time": "2022-07-23T16:56:23.565Z"
   },
   {
    "duration": 5,
    "start_time": "2022-07-23T16:56:26.744Z"
   },
   {
    "duration": 6,
    "start_time": "2022-07-23T16:56:27.701Z"
   },
   {
    "duration": 4,
    "start_time": "2022-07-23T16:56:28.545Z"
   },
   {
    "duration": 435,
    "start_time": "2022-07-23T16:56:32.841Z"
   },
   {
    "duration": 9,
    "start_time": "2022-07-23T16:56:36.853Z"
   },
   {
    "duration": 631,
    "start_time": "2022-07-23T16:56:37.605Z"
   },
   {
    "duration": 562,
    "start_time": "2022-07-23T16:56:39.242Z"
   },
   {
    "duration": 8,
    "start_time": "2022-07-23T16:56:46.468Z"
   },
   {
    "duration": 416,
    "start_time": "2022-07-23T16:56:47.422Z"
   },
   {
    "duration": 5,
    "start_time": "2022-07-23T16:56:48.713Z"
   },
   {
    "duration": 10,
    "start_time": "2022-07-23T16:57:04.346Z"
   },
   {
    "duration": 326,
    "start_time": "2022-07-23T16:57:05.015Z"
   },
   {
    "duration": 5,
    "start_time": "2022-07-23T16:57:06.052Z"
   },
   {
    "duration": 429,
    "start_time": "2022-07-23T16:57:07.987Z"
   },
   {
    "duration": 8,
    "start_time": "2022-07-23T16:57:19.996Z"
   },
   {
    "duration": 388,
    "start_time": "2022-07-23T16:57:20.450Z"
   },
   {
    "duration": 4,
    "start_time": "2022-07-23T16:57:20.941Z"
   },
   {
    "duration": 482,
    "start_time": "2022-07-23T16:57:22.941Z"
   },
   {
    "duration": 375,
    "start_time": "2022-07-23T16:57:29.651Z"
   },
   {
    "duration": 5,
    "start_time": "2022-07-23T16:57:30.577Z"
   },
   {
    "duration": 431,
    "start_time": "2022-07-23T16:57:31.251Z"
   },
   {
    "duration": 6,
    "start_time": "2022-07-23T16:58:25.071Z"
   },
   {
    "duration": 327,
    "start_time": "2022-07-23T16:58:25.912Z"
   },
   {
    "duration": 5,
    "start_time": "2022-07-23T16:58:28.246Z"
   },
   {
    "duration": 596,
    "start_time": "2022-07-23T16:58:29.766Z"
   },
   {
    "duration": 6,
    "start_time": "2022-07-23T16:58:54.263Z"
   },
   {
    "duration": 292,
    "start_time": "2022-07-23T16:58:54.654Z"
   },
   {
    "duration": 5,
    "start_time": "2022-07-23T16:58:55.545Z"
   },
   {
    "duration": 540,
    "start_time": "2022-07-23T16:58:57.042Z"
   },
   {
    "duration": 7,
    "start_time": "2022-07-23T16:59:14.059Z"
   },
   {
    "duration": 343,
    "start_time": "2022-07-23T16:59:14.603Z"
   },
   {
    "duration": 6,
    "start_time": "2022-07-23T16:59:15.558Z"
   },
   {
    "duration": 431,
    "start_time": "2022-07-23T16:59:16.554Z"
   },
   {
    "duration": 365,
    "start_time": "2022-07-23T16:59:48.170Z"
   },
   {
    "duration": 5,
    "start_time": "2022-07-23T16:59:48.601Z"
   },
   {
    "duration": 459,
    "start_time": "2022-07-23T16:59:49.751Z"
   },
   {
    "duration": 1804,
    "start_time": "2022-07-23T17:00:23.044Z"
   },
   {
    "duration": 29,
    "start_time": "2022-07-23T17:00:24.850Z"
   },
   {
    "duration": 91,
    "start_time": "2022-07-23T17:00:24.881Z"
   },
   {
    "duration": 12,
    "start_time": "2022-07-23T17:00:24.973Z"
   },
   {
    "duration": 37,
    "start_time": "2022-07-23T17:00:24.988Z"
   },
   {
    "duration": 5,
    "start_time": "2022-07-23T17:00:25.026Z"
   },
   {
    "duration": 7,
    "start_time": "2022-07-23T17:00:25.032Z"
   },
   {
    "duration": 13,
    "start_time": "2022-07-23T17:00:25.041Z"
   },
   {
    "duration": 8,
    "start_time": "2022-07-23T17:00:25.056Z"
   },
   {
    "duration": 5,
    "start_time": "2022-07-23T17:00:25.066Z"
   },
   {
    "duration": 5,
    "start_time": "2022-07-23T17:00:25.073Z"
   },
   {
    "duration": 180,
    "start_time": "2022-07-23T17:00:25.080Z"
   },
   {
    "duration": 139,
    "start_time": "2022-07-23T17:00:25.262Z"
   },
   {
    "duration": 652,
    "start_time": "2022-07-23T17:00:25.405Z"
   },
   {
    "duration": 771,
    "start_time": "2022-07-23T17:00:26.058Z"
   },
   {
    "duration": 727,
    "start_time": "2022-07-23T17:00:26.831Z"
   },
   {
    "duration": 4,
    "start_time": "2022-07-23T17:00:27.559Z"
   },
   {
    "duration": 9,
    "start_time": "2022-07-23T17:00:27.565Z"
   },
   {
    "duration": 7,
    "start_time": "2022-07-23T17:00:27.576Z"
   },
   {
    "duration": 6,
    "start_time": "2022-07-23T17:00:27.584Z"
   },
   {
    "duration": 10,
    "start_time": "2022-07-23T17:00:27.591Z"
   },
   {
    "duration": 23,
    "start_time": "2022-07-23T17:00:27.603Z"
   },
   {
    "duration": 14,
    "start_time": "2022-07-23T17:00:27.628Z"
   },
   {
    "duration": 6,
    "start_time": "2022-07-23T17:00:27.643Z"
   },
   {
    "duration": 9,
    "start_time": "2022-07-23T17:00:27.651Z"
   },
   {
    "duration": 13,
    "start_time": "2022-07-23T17:00:27.661Z"
   },
   {
    "duration": 7,
    "start_time": "2022-07-23T17:00:27.675Z"
   },
   {
    "duration": 21,
    "start_time": "2022-07-23T17:00:27.683Z"
   },
   {
    "duration": 19,
    "start_time": "2022-07-23T17:00:27.705Z"
   },
   {
    "duration": 5,
    "start_time": "2022-07-23T17:00:27.725Z"
   },
   {
    "duration": 7,
    "start_time": "2022-07-23T17:00:27.732Z"
   },
   {
    "duration": 8,
    "start_time": "2022-07-23T17:00:27.740Z"
   },
   {
    "duration": 9,
    "start_time": "2022-07-23T17:00:27.750Z"
   },
   {
    "duration": 384,
    "start_time": "2022-07-23T17:00:27.760Z"
   },
   {
    "duration": 78,
    "start_time": "2022-07-23T17:00:28.146Z"
   },
   {
    "duration": 5,
    "start_time": "2022-07-23T17:00:28.226Z"
   },
   {
    "duration": 4,
    "start_time": "2022-07-23T17:00:28.233Z"
   },
   {
    "duration": 606,
    "start_time": "2022-07-23T17:00:28.239Z"
   },
   {
    "duration": 9,
    "start_time": "2022-07-23T17:00:28.846Z"
   },
   {
    "duration": 685,
    "start_time": "2022-07-23T17:00:28.856Z"
   },
   {
    "duration": 523,
    "start_time": "2022-07-23T17:00:29.545Z"
   },
   {
    "duration": 7,
    "start_time": "2022-07-23T17:00:30.070Z"
   },
   {
    "duration": 451,
    "start_time": "2022-07-23T17:00:30.078Z"
   },
   {
    "duration": 5,
    "start_time": "2022-07-23T17:00:30.531Z"
   },
   {
    "duration": 513,
    "start_time": "2022-07-23T17:00:30.538Z"
   },
   {
    "duration": 5,
    "start_time": "2022-07-23T17:00:31.053Z"
   },
   {
    "duration": 159,
    "start_time": "2022-07-23T17:00:31.060Z"
   },
   {
    "duration": 0,
    "start_time": "2022-07-23T17:00:31.221Z"
   },
   {
    "duration": 0,
    "start_time": "2022-07-23T17:00:31.224Z"
   },
   {
    "duration": 0,
    "start_time": "2022-07-23T17:00:31.224Z"
   },
   {
    "duration": 0,
    "start_time": "2022-07-23T17:00:31.226Z"
   },
   {
    "duration": 11,
    "start_time": "2022-07-23T17:03:46.603Z"
   },
   {
    "duration": 89,
    "start_time": "2022-07-23T17:04:04.552Z"
   },
   {
    "duration": 10,
    "start_time": "2022-07-23T17:05:20.471Z"
   },
   {
    "duration": 838,
    "start_time": "2022-07-23T17:05:21.098Z"
   },
   {
    "duration": 439,
    "start_time": "2022-07-23T17:05:36.770Z"
   },
   {
    "duration": 133,
    "start_time": "2022-07-23T17:07:00.624Z"
   },
   {
    "duration": 985,
    "start_time": "2022-07-23T17:07:01.239Z"
   },
   {
    "duration": 504,
    "start_time": "2022-07-23T17:07:04.379Z"
   },
   {
    "duration": 444,
    "start_time": "2022-07-23T17:07:10.517Z"
   },
   {
    "duration": 10,
    "start_time": "2022-07-23T17:07:56.865Z"
   },
   {
    "duration": 17,
    "start_time": "2022-07-23T17:07:57.444Z"
   },
   {
    "duration": 10,
    "start_time": "2022-07-23T17:08:22.999Z"
   },
   {
    "duration": 983,
    "start_time": "2022-07-23T17:08:23.363Z"
   },
   {
    "duration": 430,
    "start_time": "2022-07-23T17:08:25.083Z"
   },
   {
    "duration": 985,
    "start_time": "2022-07-23T17:08:28.945Z"
   },
   {
    "duration": 638,
    "start_time": "2022-07-23T17:08:29.932Z"
   },
   {
    "duration": 5933,
    "start_time": "2022-07-23T17:09:01.108Z"
   },
   {
    "duration": 446,
    "start_time": "2022-07-23T17:09:10.378Z"
   },
   {
    "duration": 1828,
    "start_time": "2022-07-23T17:09:56.324Z"
   },
   {
    "duration": 29,
    "start_time": "2022-07-23T17:09:58.154Z"
   },
   {
    "duration": 87,
    "start_time": "2022-07-23T17:09:58.184Z"
   },
   {
    "duration": 11,
    "start_time": "2022-07-23T17:09:58.273Z"
   },
   {
    "duration": 38,
    "start_time": "2022-07-23T17:09:58.287Z"
   },
   {
    "duration": 4,
    "start_time": "2022-07-23T17:09:58.327Z"
   },
   {
    "duration": 7,
    "start_time": "2022-07-23T17:09:58.333Z"
   },
   {
    "duration": 9,
    "start_time": "2022-07-23T17:09:58.342Z"
   },
   {
    "duration": 4,
    "start_time": "2022-07-23T17:09:58.352Z"
   },
   {
    "duration": 6,
    "start_time": "2022-07-23T17:09:58.358Z"
   },
   {
    "duration": 6,
    "start_time": "2022-07-23T17:09:58.365Z"
   },
   {
    "duration": 182,
    "start_time": "2022-07-23T17:09:58.372Z"
   },
   {
    "duration": 140,
    "start_time": "2022-07-23T17:09:58.556Z"
   },
   {
    "duration": 643,
    "start_time": "2022-07-23T17:09:58.698Z"
   },
   {
    "duration": 735,
    "start_time": "2022-07-23T17:09:59.343Z"
   },
   {
    "duration": 631,
    "start_time": "2022-07-23T17:10:00.080Z"
   },
   {
    "duration": 4,
    "start_time": "2022-07-23T17:10:00.712Z"
   },
   {
    "duration": 14,
    "start_time": "2022-07-23T17:10:00.724Z"
   },
   {
    "duration": 13,
    "start_time": "2022-07-23T17:10:00.739Z"
   },
   {
    "duration": 27,
    "start_time": "2022-07-23T17:10:00.754Z"
   },
   {
    "duration": 21,
    "start_time": "2022-07-23T17:10:00.782Z"
   },
   {
    "duration": 26,
    "start_time": "2022-07-23T17:10:00.804Z"
   },
   {
    "duration": 46,
    "start_time": "2022-07-23T17:10:00.831Z"
   },
   {
    "duration": 15,
    "start_time": "2022-07-23T17:10:00.879Z"
   },
   {
    "duration": 27,
    "start_time": "2022-07-23T17:10:00.896Z"
   },
   {
    "duration": 22,
    "start_time": "2022-07-23T17:10:00.924Z"
   },
   {
    "duration": 29,
    "start_time": "2022-07-23T17:10:00.947Z"
   },
   {
    "duration": 34,
    "start_time": "2022-07-23T17:10:00.977Z"
   },
   {
    "duration": 18,
    "start_time": "2022-07-23T17:10:01.013Z"
   },
   {
    "duration": 39,
    "start_time": "2022-07-23T17:10:01.033Z"
   },
   {
    "duration": 36,
    "start_time": "2022-07-23T17:10:01.074Z"
   },
   {
    "duration": 25,
    "start_time": "2022-07-23T17:10:01.112Z"
   },
   {
    "duration": 26,
    "start_time": "2022-07-23T17:10:01.138Z"
   },
   {
    "duration": 2361,
    "start_time": "2022-07-23T17:10:01.166Z"
   },
   {
    "duration": 4,
    "start_time": "2022-07-23T17:10:03.529Z"
   },
   {
    "duration": 7,
    "start_time": "2022-07-23T17:10:03.535Z"
   },
   {
    "duration": 7,
    "start_time": "2022-07-23T17:10:03.543Z"
   },
   {
    "duration": 598,
    "start_time": "2022-07-23T17:10:03.551Z"
   },
   {
    "duration": 8,
    "start_time": "2022-07-23T17:10:04.151Z"
   },
   {
    "duration": 3777,
    "start_time": "2022-07-23T17:10:04.160Z"
   },
   {
    "duration": 515,
    "start_time": "2022-07-23T17:10:07.941Z"
   },
   {
    "duration": 7,
    "start_time": "2022-07-23T17:10:08.458Z"
   },
   {
    "duration": 2164,
    "start_time": "2022-07-23T17:10:08.467Z"
   },
   {
    "duration": 7,
    "start_time": "2022-07-23T17:10:10.633Z"
   },
   {
    "duration": 474,
    "start_time": "2022-07-23T17:10:10.643Z"
   },
   {
    "duration": 9,
    "start_time": "2022-07-23T17:10:11.124Z"
   },
   {
    "duration": 5389,
    "start_time": "2022-07-23T17:10:11.135Z"
   },
   {
    "duration": 468,
    "start_time": "2022-07-23T17:10:16.526Z"
   },
   {
    "duration": 53980,
    "start_time": "2022-07-23T17:11:04.863Z"
   },
   {
    "duration": 617,
    "start_time": "2022-07-23T17:11:58.845Z"
   },
   {
    "duration": 5343,
    "start_time": "2022-07-23T17:12:25.001Z"
   },
   {
    "duration": 499,
    "start_time": "2022-07-23T17:12:30.346Z"
   },
   {
    "duration": 1771,
    "start_time": "2022-07-23T17:12:42.499Z"
   },
   {
    "duration": 31,
    "start_time": "2022-07-23T17:12:44.272Z"
   },
   {
    "duration": 91,
    "start_time": "2022-07-23T17:12:44.304Z"
   },
   {
    "duration": 12,
    "start_time": "2022-07-23T17:12:44.397Z"
   },
   {
    "duration": 45,
    "start_time": "2022-07-23T17:12:44.410Z"
   },
   {
    "duration": 4,
    "start_time": "2022-07-23T17:12:44.457Z"
   },
   {
    "duration": 10,
    "start_time": "2022-07-23T17:12:44.462Z"
   },
   {
    "duration": 6,
    "start_time": "2022-07-23T17:12:44.474Z"
   },
   {
    "duration": 4,
    "start_time": "2022-07-23T17:12:44.482Z"
   },
   {
    "duration": 6,
    "start_time": "2022-07-23T17:12:44.489Z"
   },
   {
    "duration": 6,
    "start_time": "2022-07-23T17:12:44.497Z"
   },
   {
    "duration": 202,
    "start_time": "2022-07-23T17:12:44.505Z"
   },
   {
    "duration": 139,
    "start_time": "2022-07-23T17:12:44.709Z"
   },
   {
    "duration": 655,
    "start_time": "2022-07-23T17:12:44.850Z"
   },
   {
    "duration": 724,
    "start_time": "2022-07-23T17:12:45.507Z"
   },
   {
    "duration": 653,
    "start_time": "2022-07-23T17:12:46.233Z"
   },
   {
    "duration": 3,
    "start_time": "2022-07-23T17:12:46.888Z"
   },
   {
    "duration": 9,
    "start_time": "2022-07-23T17:12:46.893Z"
   },
   {
    "duration": 5,
    "start_time": "2022-07-23T17:12:46.903Z"
   },
   {
    "duration": 16,
    "start_time": "2022-07-23T17:12:46.909Z"
   },
   {
    "duration": 11,
    "start_time": "2022-07-23T17:12:46.927Z"
   },
   {
    "duration": 7,
    "start_time": "2022-07-23T17:12:46.940Z"
   },
   {
    "duration": 20,
    "start_time": "2022-07-23T17:12:46.948Z"
   },
   {
    "duration": 7,
    "start_time": "2022-07-23T17:12:46.970Z"
   },
   {
    "duration": 10,
    "start_time": "2022-07-23T17:12:46.979Z"
   },
   {
    "duration": 12,
    "start_time": "2022-07-23T17:12:46.991Z"
   },
   {
    "duration": 19,
    "start_time": "2022-07-23T17:12:47.005Z"
   },
   {
    "duration": 16,
    "start_time": "2022-07-23T17:12:47.027Z"
   },
   {
    "duration": 5,
    "start_time": "2022-07-23T17:12:47.044Z"
   },
   {
    "duration": 6,
    "start_time": "2022-07-23T17:12:47.051Z"
   },
   {
    "duration": 7,
    "start_time": "2022-07-23T17:12:47.059Z"
   },
   {
    "duration": 6,
    "start_time": "2022-07-23T17:12:47.067Z"
   },
   {
    "duration": 9,
    "start_time": "2022-07-23T17:12:47.074Z"
   },
   {
    "duration": 2439,
    "start_time": "2022-07-23T17:12:47.084Z"
   },
   {
    "duration": 6,
    "start_time": "2022-07-23T17:12:49.525Z"
   },
   {
    "duration": 6,
    "start_time": "2022-07-23T17:12:49.533Z"
   },
   {
    "duration": 5,
    "start_time": "2022-07-23T17:12:49.540Z"
   },
   {
    "duration": 603,
    "start_time": "2022-07-23T17:12:49.546Z"
   },
   {
    "duration": 8,
    "start_time": "2022-07-23T17:12:50.151Z"
   },
   {
    "duration": 3771,
    "start_time": "2022-07-23T17:12:50.160Z"
   },
   {
    "duration": 491,
    "start_time": "2022-07-23T17:12:53.933Z"
   },
   {
    "duration": 9,
    "start_time": "2022-07-23T17:12:54.427Z"
   },
   {
    "duration": 2190,
    "start_time": "2022-07-23T17:12:54.437Z"
   },
   {
    "duration": 5,
    "start_time": "2022-07-23T17:12:56.629Z"
   },
   {
    "duration": 473,
    "start_time": "2022-07-23T17:12:56.636Z"
   },
   {
    "duration": 15,
    "start_time": "2022-07-23T17:12:57.111Z"
   },
   {
    "duration": 5497,
    "start_time": "2022-07-23T17:12:57.128Z"
   },
   {
    "duration": 452,
    "start_time": "2022-07-23T17:13:02.626Z"
   },
   {
    "duration": 1767,
    "start_time": "2022-07-23T17:13:39.074Z"
   },
   {
    "duration": 31,
    "start_time": "2022-07-23T17:13:40.843Z"
   },
   {
    "duration": 91,
    "start_time": "2022-07-23T17:13:40.875Z"
   },
   {
    "duration": 16,
    "start_time": "2022-07-23T17:13:40.968Z"
   },
   {
    "duration": 38,
    "start_time": "2022-07-23T17:13:40.987Z"
   },
   {
    "duration": 5,
    "start_time": "2022-07-23T17:13:41.028Z"
   },
   {
    "duration": 15,
    "start_time": "2022-07-23T17:13:41.035Z"
   },
   {
    "duration": 8,
    "start_time": "2022-07-23T17:13:41.052Z"
   },
   {
    "duration": 6,
    "start_time": "2022-07-23T17:13:41.062Z"
   },
   {
    "duration": 5,
    "start_time": "2022-07-23T17:13:41.070Z"
   },
   {
    "duration": 9,
    "start_time": "2022-07-23T17:13:41.077Z"
   },
   {
    "duration": 178,
    "start_time": "2022-07-23T17:13:41.087Z"
   },
   {
    "duration": 144,
    "start_time": "2022-07-23T17:13:41.266Z"
   },
   {
    "duration": 671,
    "start_time": "2022-07-23T17:13:41.413Z"
   },
   {
    "duration": 746,
    "start_time": "2022-07-23T17:13:42.086Z"
   },
   {
    "duration": 642,
    "start_time": "2022-07-23T17:13:42.834Z"
   },
   {
    "duration": 4,
    "start_time": "2022-07-23T17:13:43.477Z"
   },
   {
    "duration": 14,
    "start_time": "2022-07-23T17:13:43.482Z"
   },
   {
    "duration": 7,
    "start_time": "2022-07-23T17:13:43.497Z"
   },
   {
    "duration": 10,
    "start_time": "2022-07-23T17:13:43.505Z"
   },
   {
    "duration": 9,
    "start_time": "2022-07-23T17:13:43.516Z"
   },
   {
    "duration": 8,
    "start_time": "2022-07-23T17:13:43.527Z"
   },
   {
    "duration": 15,
    "start_time": "2022-07-23T17:13:43.536Z"
   },
   {
    "duration": 14,
    "start_time": "2022-07-23T17:13:43.553Z"
   },
   {
    "duration": 9,
    "start_time": "2022-07-23T17:13:43.569Z"
   },
   {
    "duration": 12,
    "start_time": "2022-07-23T17:13:43.580Z"
   },
   {
    "duration": 8,
    "start_time": "2022-07-23T17:13:43.594Z"
   },
   {
    "duration": 31,
    "start_time": "2022-07-23T17:13:43.604Z"
   },
   {
    "duration": 3,
    "start_time": "2022-07-23T17:13:43.637Z"
   },
   {
    "duration": 7,
    "start_time": "2022-07-23T17:13:43.642Z"
   },
   {
    "duration": 9,
    "start_time": "2022-07-23T17:13:43.651Z"
   },
   {
    "duration": 6,
    "start_time": "2022-07-23T17:13:43.662Z"
   },
   {
    "duration": 7,
    "start_time": "2022-07-23T17:13:43.669Z"
   },
   {
    "duration": 2256,
    "start_time": "2022-07-23T17:13:43.678Z"
   },
   {
    "duration": 5,
    "start_time": "2022-07-23T17:13:45.935Z"
   },
   {
    "duration": 8,
    "start_time": "2022-07-23T17:13:45.941Z"
   },
   {
    "duration": 5,
    "start_time": "2022-07-23T17:13:45.951Z"
   },
   {
    "duration": 658,
    "start_time": "2022-07-23T17:13:45.957Z"
   },
   {
    "duration": 12,
    "start_time": "2022-07-23T17:13:46.617Z"
   },
   {
    "duration": 4007,
    "start_time": "2022-07-23T17:13:46.631Z"
   },
   {
    "duration": 506,
    "start_time": "2022-07-23T17:13:50.642Z"
   },
   {
    "duration": 6,
    "start_time": "2022-07-23T17:13:51.150Z"
   },
   {
    "duration": 2378,
    "start_time": "2022-07-23T17:13:51.157Z"
   },
   {
    "duration": 6,
    "start_time": "2022-07-23T17:13:53.536Z"
   },
   {
    "duration": 508,
    "start_time": "2022-07-23T17:13:53.544Z"
   },
   {
    "duration": 11,
    "start_time": "2022-07-23T17:13:54.054Z"
   },
   {
    "duration": 4475,
    "start_time": "2022-07-23T17:13:54.066Z"
   },
   {
    "duration": 496,
    "start_time": "2022-07-23T17:13:58.543Z"
   },
   {
    "duration": 3,
    "start_time": "2022-07-23T17:17:18.942Z"
   },
   {
    "duration": 132,
    "start_time": "2022-07-23T17:17:36.996Z"
   },
   {
    "duration": 2,
    "start_time": "2022-07-23T17:17:41.152Z"
   },
   {
    "duration": 25,
    "start_time": "2022-07-23T17:18:03.819Z"
   },
   {
    "duration": 3,
    "start_time": "2022-07-23T17:19:00.389Z"
   },
   {
    "duration": 52,
    "start_time": "2022-07-23T17:19:45.164Z"
   },
   {
    "duration": 51,
    "start_time": "2022-07-23T17:20:06.445Z"
   },
   {
    "duration": 1853,
    "start_time": "2022-07-23T17:20:17.494Z"
   },
   {
    "duration": 29,
    "start_time": "2022-07-23T17:20:19.349Z"
   },
   {
    "duration": 93,
    "start_time": "2022-07-23T17:20:19.380Z"
   },
   {
    "duration": 12,
    "start_time": "2022-07-23T17:20:19.476Z"
   },
   {
    "duration": 37,
    "start_time": "2022-07-23T17:20:19.489Z"
   },
   {
    "duration": 5,
    "start_time": "2022-07-23T17:20:19.528Z"
   },
   {
    "duration": 5,
    "start_time": "2022-07-23T17:20:19.535Z"
   },
   {
    "duration": 6,
    "start_time": "2022-07-23T17:20:19.542Z"
   },
   {
    "duration": 6,
    "start_time": "2022-07-23T17:20:19.551Z"
   },
   {
    "duration": 9,
    "start_time": "2022-07-23T17:20:19.559Z"
   },
   {
    "duration": 7,
    "start_time": "2022-07-23T17:20:19.570Z"
   },
   {
    "duration": 191,
    "start_time": "2022-07-23T17:20:19.579Z"
   },
   {
    "duration": 145,
    "start_time": "2022-07-23T17:20:19.772Z"
   },
   {
    "duration": 665,
    "start_time": "2022-07-23T17:20:19.923Z"
   },
   {
    "duration": 747,
    "start_time": "2022-07-23T17:20:20.589Z"
   },
   {
    "duration": 625,
    "start_time": "2022-07-23T17:20:21.338Z"
   },
   {
    "duration": 4,
    "start_time": "2022-07-23T17:20:21.965Z"
   },
   {
    "duration": 8,
    "start_time": "2022-07-23T17:20:21.971Z"
   },
   {
    "duration": 8,
    "start_time": "2022-07-23T17:20:21.980Z"
   },
   {
    "duration": 5,
    "start_time": "2022-07-23T17:20:21.990Z"
   },
   {
    "duration": 10,
    "start_time": "2022-07-23T17:20:21.996Z"
   },
   {
    "duration": 8,
    "start_time": "2022-07-23T17:20:22.035Z"
   },
   {
    "duration": 17,
    "start_time": "2022-07-23T17:20:22.045Z"
   },
   {
    "duration": 7,
    "start_time": "2022-07-23T17:20:22.063Z"
   },
   {
    "duration": 9,
    "start_time": "2022-07-23T17:20:22.071Z"
   },
   {
    "duration": 13,
    "start_time": "2022-07-23T17:20:22.082Z"
   },
   {
    "duration": 7,
    "start_time": "2022-07-23T17:20:22.096Z"
   },
   {
    "duration": 30,
    "start_time": "2022-07-23T17:20:22.106Z"
   },
   {
    "duration": 3,
    "start_time": "2022-07-23T17:20:22.137Z"
   },
   {
    "duration": 10,
    "start_time": "2022-07-23T17:20:22.142Z"
   },
   {
    "duration": 15,
    "start_time": "2022-07-23T17:20:22.154Z"
   },
   {
    "duration": 9,
    "start_time": "2022-07-23T17:20:22.170Z"
   },
   {
    "duration": 7,
    "start_time": "2022-07-23T17:20:22.180Z"
   },
   {
    "duration": 2244,
    "start_time": "2022-07-23T17:20:22.188Z"
   },
   {
    "duration": 6,
    "start_time": "2022-07-23T17:20:24.434Z"
   },
   {
    "duration": 6,
    "start_time": "2022-07-23T17:20:24.442Z"
   },
   {
    "duration": 3,
    "start_time": "2022-07-23T17:20:24.450Z"
   },
   {
    "duration": 70,
    "start_time": "2022-07-23T17:20:24.455Z"
   },
   {
    "duration": 0,
    "start_time": "2022-07-23T17:20:24.528Z"
   },
   {
    "duration": 0,
    "start_time": "2022-07-23T17:20:24.530Z"
   },
   {
    "duration": 0,
    "start_time": "2022-07-23T17:20:24.531Z"
   },
   {
    "duration": 0,
    "start_time": "2022-07-23T17:20:24.533Z"
   },
   {
    "duration": 0,
    "start_time": "2022-07-23T17:20:24.534Z"
   },
   {
    "duration": 0,
    "start_time": "2022-07-23T17:20:24.535Z"
   },
   {
    "duration": 0,
    "start_time": "2022-07-23T17:20:24.536Z"
   },
   {
    "duration": 0,
    "start_time": "2022-07-23T17:20:24.537Z"
   },
   {
    "duration": 0,
    "start_time": "2022-07-23T17:20:24.538Z"
   },
   {
    "duration": 0,
    "start_time": "2022-07-23T17:20:24.539Z"
   },
   {
    "duration": 0,
    "start_time": "2022-07-23T17:20:24.540Z"
   },
   {
    "duration": 48,
    "start_time": "2022-07-23T17:22:04.568Z"
   },
   {
    "duration": 51,
    "start_time": "2022-07-23T17:22:29.902Z"
   },
   {
    "duration": 129,
    "start_time": "2022-07-23T17:23:11.802Z"
   },
   {
    "duration": 5,
    "start_time": "2022-07-23T17:23:14.793Z"
   },
   {
    "duration": 594,
    "start_time": "2022-07-23T17:23:15.243Z"
   },
   {
    "duration": 4,
    "start_time": "2022-07-23T17:23:48.538Z"
   },
   {
    "duration": 411,
    "start_time": "2022-07-23T17:23:51.677Z"
   },
   {
    "duration": 5,
    "start_time": "2022-07-23T17:24:26.609Z"
   },
   {
    "duration": 522,
    "start_time": "2022-07-23T17:24:26.887Z"
   },
   {
    "duration": 104,
    "start_time": "2022-07-23T17:24:59.994Z"
   },
   {
    "duration": 1763,
    "start_time": "2022-07-23T17:25:24.286Z"
   },
   {
    "duration": 28,
    "start_time": "2022-07-23T17:25:26.052Z"
   },
   {
    "duration": 95,
    "start_time": "2022-07-23T17:25:26.082Z"
   },
   {
    "duration": 12,
    "start_time": "2022-07-23T17:25:26.179Z"
   },
   {
    "duration": 38,
    "start_time": "2022-07-23T17:25:26.193Z"
   },
   {
    "duration": 4,
    "start_time": "2022-07-23T17:25:26.233Z"
   },
   {
    "duration": 10,
    "start_time": "2022-07-23T17:25:26.239Z"
   },
   {
    "duration": 7,
    "start_time": "2022-07-23T17:25:26.250Z"
   },
   {
    "duration": 9,
    "start_time": "2022-07-23T17:25:26.258Z"
   },
   {
    "duration": 15,
    "start_time": "2022-07-23T17:25:26.269Z"
   },
   {
    "duration": 26,
    "start_time": "2022-07-23T17:25:26.286Z"
   },
   {
    "duration": 199,
    "start_time": "2022-07-23T17:25:26.314Z"
   },
   {
    "duration": 154,
    "start_time": "2022-07-23T17:25:26.514Z"
   },
   {
    "duration": 738,
    "start_time": "2022-07-23T17:25:26.670Z"
   },
   {
    "duration": 730,
    "start_time": "2022-07-23T17:25:27.410Z"
   },
   {
    "duration": 645,
    "start_time": "2022-07-23T17:25:28.141Z"
   },
   {
    "duration": 4,
    "start_time": "2022-07-23T17:25:28.788Z"
   },
   {
    "duration": 9,
    "start_time": "2022-07-23T17:25:28.793Z"
   },
   {
    "duration": 5,
    "start_time": "2022-07-23T17:25:28.804Z"
   },
   {
    "duration": 14,
    "start_time": "2022-07-23T17:25:28.810Z"
   },
   {
    "duration": 7,
    "start_time": "2022-07-23T17:25:28.825Z"
   },
   {
    "duration": 6,
    "start_time": "2022-07-23T17:25:28.834Z"
   },
   {
    "duration": 18,
    "start_time": "2022-07-23T17:25:28.841Z"
   },
   {
    "duration": 8,
    "start_time": "2022-07-23T17:25:28.861Z"
   },
   {
    "duration": 11,
    "start_time": "2022-07-23T17:25:28.871Z"
   },
   {
    "duration": 14,
    "start_time": "2022-07-23T17:25:28.883Z"
   },
   {
    "duration": 7,
    "start_time": "2022-07-23T17:25:28.898Z"
   },
   {
    "duration": 15,
    "start_time": "2022-07-23T17:25:28.924Z"
   },
   {
    "duration": 5,
    "start_time": "2022-07-23T17:25:28.940Z"
   },
   {
    "duration": 6,
    "start_time": "2022-07-23T17:25:28.946Z"
   },
   {
    "duration": 7,
    "start_time": "2022-07-23T17:25:28.953Z"
   },
   {
    "duration": 19,
    "start_time": "2022-07-23T17:25:28.961Z"
   },
   {
    "duration": 7,
    "start_time": "2022-07-23T17:25:28.982Z"
   },
   {
    "duration": 2152,
    "start_time": "2022-07-23T17:25:28.991Z"
   },
   {
    "duration": 81,
    "start_time": "2022-07-23T17:25:31.146Z"
   },
   {
    "duration": 18,
    "start_time": "2022-07-23T17:25:31.229Z"
   },
   {
    "duration": 15,
    "start_time": "2022-07-23T17:25:31.248Z"
   },
   {
    "duration": 586,
    "start_time": "2022-07-23T17:25:31.265Z"
   },
   {
    "duration": 7,
    "start_time": "2022-07-23T17:25:31.853Z"
   },
   {
    "duration": 3773,
    "start_time": "2022-07-23T17:25:31.862Z"
   },
   {
    "duration": 463,
    "start_time": "2022-07-23T17:25:35.637Z"
   },
   {
    "duration": 6,
    "start_time": "2022-07-23T17:25:36.101Z"
   },
   {
    "duration": 2326,
    "start_time": "2022-07-23T17:25:36.108Z"
   },
   {
    "duration": 6,
    "start_time": "2022-07-23T17:25:38.436Z"
   },
   {
    "duration": 523,
    "start_time": "2022-07-23T17:25:38.443Z"
   },
   {
    "duration": 9,
    "start_time": "2022-07-23T17:25:38.968Z"
   },
   {
    "duration": 4754,
    "start_time": "2022-07-23T17:25:38.979Z"
   },
   {
    "duration": 505,
    "start_time": "2022-07-23T17:25:43.735Z"
   },
   {
    "duration": 4,
    "start_time": "2022-07-23T17:27:57.448Z"
   },
   {
    "duration": 1754,
    "start_time": "2022-07-23T17:28:05.623Z"
   },
   {
    "duration": 30,
    "start_time": "2022-07-23T17:28:07.380Z"
   },
   {
    "duration": 110,
    "start_time": "2022-07-23T17:28:07.412Z"
   },
   {
    "duration": 12,
    "start_time": "2022-07-23T17:28:07.524Z"
   },
   {
    "duration": 30,
    "start_time": "2022-07-23T17:28:07.538Z"
   },
   {
    "duration": 4,
    "start_time": "2022-07-23T17:28:07.570Z"
   },
   {
    "duration": 6,
    "start_time": "2022-07-23T17:28:07.576Z"
   },
   {
    "duration": 7,
    "start_time": "2022-07-23T17:28:07.584Z"
   },
   {
    "duration": 32,
    "start_time": "2022-07-23T17:28:07.592Z"
   },
   {
    "duration": 3,
    "start_time": "2022-07-23T17:28:07.627Z"
   },
   {
    "duration": 8,
    "start_time": "2022-07-23T17:28:07.631Z"
   },
   {
    "duration": 188,
    "start_time": "2022-07-23T17:28:07.640Z"
   },
   {
    "duration": 141,
    "start_time": "2022-07-23T17:28:07.829Z"
   },
   {
    "duration": 673,
    "start_time": "2022-07-23T17:28:07.971Z"
   },
   {
    "duration": 760,
    "start_time": "2022-07-23T17:28:08.646Z"
   },
   {
    "duration": 656,
    "start_time": "2022-07-23T17:28:09.407Z"
   },
   {
    "duration": 4,
    "start_time": "2022-07-23T17:28:10.065Z"
   },
   {
    "duration": 16,
    "start_time": "2022-07-23T17:28:10.071Z"
   },
   {
    "duration": 10,
    "start_time": "2022-07-23T17:28:10.088Z"
   },
   {
    "duration": 8,
    "start_time": "2022-07-23T17:28:10.100Z"
   },
   {
    "duration": 11,
    "start_time": "2022-07-23T17:28:10.109Z"
   },
   {
    "duration": 8,
    "start_time": "2022-07-23T17:28:10.122Z"
   },
   {
    "duration": 27,
    "start_time": "2022-07-23T17:28:10.131Z"
   },
   {
    "duration": 8,
    "start_time": "2022-07-23T17:28:10.160Z"
   },
   {
    "duration": 12,
    "start_time": "2022-07-23T17:28:10.170Z"
   },
   {
    "duration": 14,
    "start_time": "2022-07-23T17:28:10.184Z"
   },
   {
    "duration": 6,
    "start_time": "2022-07-23T17:28:10.199Z"
   },
   {
    "duration": 21,
    "start_time": "2022-07-23T17:28:10.208Z"
   },
   {
    "duration": 7,
    "start_time": "2022-07-23T17:28:10.230Z"
   },
   {
    "duration": 8,
    "start_time": "2022-07-23T17:28:10.239Z"
   },
   {
    "duration": 9,
    "start_time": "2022-07-23T17:28:10.248Z"
   },
   {
    "duration": 7,
    "start_time": "2022-07-23T17:28:10.259Z"
   },
   {
    "duration": 11,
    "start_time": "2022-07-23T17:28:10.268Z"
   },
   {
    "duration": 2359,
    "start_time": "2022-07-23T17:28:10.281Z"
   },
   {
    "duration": 5,
    "start_time": "2022-07-23T17:28:12.641Z"
   },
   {
    "duration": 79,
    "start_time": "2022-07-23T17:28:12.648Z"
   },
   {
    "duration": 7,
    "start_time": "2022-07-23T17:28:12.729Z"
   },
   {
    "duration": 562,
    "start_time": "2022-07-23T17:28:12.737Z"
   },
   {
    "duration": 8,
    "start_time": "2022-07-23T17:28:13.301Z"
   },
   {
    "duration": 3720,
    "start_time": "2022-07-23T17:28:13.310Z"
   },
   {
    "duration": 592,
    "start_time": "2022-07-23T17:28:17.032Z"
   },
   {
    "duration": 6,
    "start_time": "2022-07-23T17:28:17.625Z"
   },
   {
    "duration": 2312,
    "start_time": "2022-07-23T17:28:17.633Z"
   },
   {
    "duration": 6,
    "start_time": "2022-07-23T17:28:20.024Z"
   },
   {
    "duration": 468,
    "start_time": "2022-07-23T17:28:20.031Z"
   },
   {
    "duration": 9,
    "start_time": "2022-07-23T17:28:20.500Z"
   },
   {
    "duration": 4233,
    "start_time": "2022-07-23T17:28:20.510Z"
   },
   {
    "duration": 528,
    "start_time": "2022-07-23T17:28:24.745Z"
   },
   {
    "duration": 1782,
    "start_time": "2022-07-23T17:31:19.470Z"
   },
   {
    "duration": 29,
    "start_time": "2022-07-23T17:31:21.254Z"
   },
   {
    "duration": 92,
    "start_time": "2022-07-23T17:31:21.285Z"
   },
   {
    "duration": 12,
    "start_time": "2022-07-23T17:31:21.379Z"
   },
   {
    "duration": 38,
    "start_time": "2022-07-23T17:31:21.393Z"
   },
   {
    "duration": 6,
    "start_time": "2022-07-23T17:31:21.432Z"
   },
   {
    "duration": 7,
    "start_time": "2022-07-23T17:31:21.440Z"
   },
   {
    "duration": 7,
    "start_time": "2022-07-23T17:31:21.449Z"
   },
   {
    "duration": 8,
    "start_time": "2022-07-23T17:31:21.458Z"
   },
   {
    "duration": 10,
    "start_time": "2022-07-23T17:31:21.469Z"
   },
   {
    "duration": 17,
    "start_time": "2022-07-23T17:31:21.480Z"
   },
   {
    "duration": 194,
    "start_time": "2022-07-23T17:31:21.498Z"
   },
   {
    "duration": 142,
    "start_time": "2022-07-23T17:31:21.694Z"
   },
   {
    "duration": 700,
    "start_time": "2022-07-23T17:31:21.838Z"
   },
   {
    "duration": 794,
    "start_time": "2022-07-23T17:31:22.539Z"
   },
   {
    "duration": 660,
    "start_time": "2022-07-23T17:31:23.335Z"
   },
   {
    "duration": 4,
    "start_time": "2022-07-23T17:31:23.996Z"
   },
   {
    "duration": 9,
    "start_time": "2022-07-23T17:31:24.002Z"
   },
   {
    "duration": 3,
    "start_time": "2022-07-23T17:31:24.024Z"
   },
   {
    "duration": 5,
    "start_time": "2022-07-23T17:31:24.029Z"
   },
   {
    "duration": 9,
    "start_time": "2022-07-23T17:31:24.036Z"
   },
   {
    "duration": 6,
    "start_time": "2022-07-23T17:31:24.047Z"
   },
   {
    "duration": 17,
    "start_time": "2022-07-23T17:31:24.055Z"
   },
   {
    "duration": 7,
    "start_time": "2022-07-23T17:31:24.073Z"
   },
   {
    "duration": 11,
    "start_time": "2022-07-23T17:31:24.081Z"
   },
   {
    "duration": 36,
    "start_time": "2022-07-23T17:31:24.094Z"
   },
   {
    "duration": 6,
    "start_time": "2022-07-23T17:31:24.131Z"
   },
   {
    "duration": 22,
    "start_time": "2022-07-23T17:31:24.141Z"
   },
   {
    "duration": 5,
    "start_time": "2022-07-23T17:31:24.165Z"
   },
   {
    "duration": 6,
    "start_time": "2022-07-23T17:31:24.172Z"
   },
   {
    "duration": 7,
    "start_time": "2022-07-23T17:31:24.179Z"
   },
   {
    "duration": 8,
    "start_time": "2022-07-23T17:31:24.188Z"
   },
   {
    "duration": 27,
    "start_time": "2022-07-23T17:31:24.197Z"
   },
   {
    "duration": 2301,
    "start_time": "2022-07-23T17:31:24.225Z"
   },
   {
    "duration": 7,
    "start_time": "2022-07-23T17:31:26.528Z"
   },
   {
    "duration": 12,
    "start_time": "2022-07-23T17:31:26.537Z"
   },
   {
    "duration": 6,
    "start_time": "2022-07-23T17:31:26.550Z"
   },
   {
    "duration": 634,
    "start_time": "2022-07-23T17:31:26.558Z"
   },
   {
    "duration": 10,
    "start_time": "2022-07-23T17:31:27.194Z"
   },
   {
    "duration": 4234,
    "start_time": "2022-07-23T17:31:27.205Z"
   },
   {
    "duration": 507,
    "start_time": "2022-07-23T17:31:31.441Z"
   },
   {
    "duration": 6,
    "start_time": "2022-07-23T17:31:31.949Z"
   },
   {
    "duration": 2280,
    "start_time": "2022-07-23T17:31:31.957Z"
   },
   {
    "duration": 5,
    "start_time": "2022-07-23T17:31:34.239Z"
   },
   {
    "duration": 574,
    "start_time": "2022-07-23T17:31:34.246Z"
   },
   {
    "duration": 14,
    "start_time": "2022-07-23T17:31:34.824Z"
   },
   {
    "duration": 4605,
    "start_time": "2022-07-23T17:31:34.839Z"
   },
   {
    "duration": 499,
    "start_time": "2022-07-23T17:31:39.446Z"
   },
   {
    "duration": 2951,
    "start_time": "2022-07-23T17:32:14.690Z"
   },
   {
    "duration": 585,
    "start_time": "2022-07-23T17:32:20.540Z"
   },
   {
    "duration": 4819,
    "start_time": "2022-07-23T17:32:27.705Z"
   },
   {
    "duration": 1711,
    "start_time": "2022-07-23T17:32:44.454Z"
   },
   {
    "duration": 33,
    "start_time": "2022-07-23T17:32:46.167Z"
   },
   {
    "duration": 90,
    "start_time": "2022-07-23T17:32:46.202Z"
   },
   {
    "duration": 15,
    "start_time": "2022-07-23T17:32:46.294Z"
   },
   {
    "duration": 44,
    "start_time": "2022-07-23T17:32:46.311Z"
   },
   {
    "duration": 5,
    "start_time": "2022-07-23T17:32:46.357Z"
   },
   {
    "duration": 9,
    "start_time": "2022-07-23T17:32:46.363Z"
   },
   {
    "duration": 13,
    "start_time": "2022-07-23T17:32:46.374Z"
   },
   {
    "duration": 9,
    "start_time": "2022-07-23T17:32:46.389Z"
   },
   {
    "duration": 29,
    "start_time": "2022-07-23T17:32:46.400Z"
   },
   {
    "duration": 9,
    "start_time": "2022-07-23T17:32:46.431Z"
   },
   {
    "duration": 173,
    "start_time": "2022-07-23T17:32:46.441Z"
   },
   {
    "duration": 140,
    "start_time": "2022-07-23T17:32:46.623Z"
   },
   {
    "duration": 714,
    "start_time": "2022-07-23T17:32:46.767Z"
   },
   {
    "duration": 735,
    "start_time": "2022-07-23T17:32:47.483Z"
   },
   {
    "duration": 617,
    "start_time": "2022-07-23T17:32:48.223Z"
   },
   {
    "duration": 4,
    "start_time": "2022-07-23T17:32:48.842Z"
   },
   {
    "duration": 8,
    "start_time": "2022-07-23T17:32:48.848Z"
   },
   {
    "duration": 6,
    "start_time": "2022-07-23T17:32:48.858Z"
   },
   {
    "duration": 7,
    "start_time": "2022-07-23T17:32:48.865Z"
   },
   {
    "duration": 12,
    "start_time": "2022-07-23T17:32:48.873Z"
   },
   {
    "duration": 9,
    "start_time": "2022-07-23T17:32:48.886Z"
   },
   {
    "duration": 33,
    "start_time": "2022-07-23T17:32:48.897Z"
   },
   {
    "duration": 23,
    "start_time": "2022-07-23T17:32:48.932Z"
   },
   {
    "duration": 12,
    "start_time": "2022-07-23T17:32:48.957Z"
   },
   {
    "duration": 15,
    "start_time": "2022-07-23T17:32:48.971Z"
   },
   {
    "duration": 8,
    "start_time": "2022-07-23T17:32:48.987Z"
   },
   {
    "duration": 20,
    "start_time": "2022-07-23T17:32:48.997Z"
   },
   {
    "duration": 8,
    "start_time": "2022-07-23T17:32:49.018Z"
   },
   {
    "duration": 6,
    "start_time": "2022-07-23T17:32:49.028Z"
   },
   {
    "duration": 6,
    "start_time": "2022-07-23T17:32:49.036Z"
   },
   {
    "duration": 5,
    "start_time": "2022-07-23T17:32:49.044Z"
   },
   {
    "duration": 7,
    "start_time": "2022-07-23T17:32:49.050Z"
   },
   {
    "duration": 2173,
    "start_time": "2022-07-23T17:32:49.058Z"
   },
   {
    "duration": 4,
    "start_time": "2022-07-23T17:32:51.233Z"
   },
   {
    "duration": 9,
    "start_time": "2022-07-23T17:32:51.239Z"
   },
   {
    "duration": 6,
    "start_time": "2022-07-23T17:32:51.249Z"
   },
   {
    "duration": 619,
    "start_time": "2022-07-23T17:32:51.257Z"
   },
   {
    "duration": 7,
    "start_time": "2022-07-23T17:32:51.878Z"
   },
   {
    "duration": 3948,
    "start_time": "2022-07-23T17:32:51.887Z"
   },
   {
    "duration": 492,
    "start_time": "2022-07-23T17:32:55.839Z"
   },
   {
    "duration": 6,
    "start_time": "2022-07-23T17:32:56.333Z"
   },
   {
    "duration": 2388,
    "start_time": "2022-07-23T17:32:56.340Z"
   },
   {
    "duration": 5,
    "start_time": "2022-07-23T17:32:58.730Z"
   },
   {
    "duration": 462,
    "start_time": "2022-07-23T17:32:58.737Z"
   },
   {
    "duration": 12,
    "start_time": "2022-07-23T17:32:59.201Z"
   },
   {
    "duration": 3318,
    "start_time": "2022-07-23T17:32:59.224Z"
   },
   {
    "duration": 521,
    "start_time": "2022-07-23T17:33:02.544Z"
   },
   {
    "duration": 1744,
    "start_time": "2022-07-23T17:33:26.989Z"
   },
   {
    "duration": 29,
    "start_time": "2022-07-23T17:33:28.735Z"
   },
   {
    "duration": 86,
    "start_time": "2022-07-23T17:33:28.766Z"
   },
   {
    "duration": 20,
    "start_time": "2022-07-23T17:33:28.854Z"
   },
   {
    "duration": 24,
    "start_time": "2022-07-23T17:33:28.876Z"
   },
   {
    "duration": 5,
    "start_time": "2022-07-23T17:33:28.902Z"
   },
   {
    "duration": 18,
    "start_time": "2022-07-23T17:33:28.908Z"
   },
   {
    "duration": 18,
    "start_time": "2022-07-23T17:33:28.927Z"
   },
   {
    "duration": 9,
    "start_time": "2022-07-23T17:33:28.946Z"
   },
   {
    "duration": 10,
    "start_time": "2022-07-23T17:33:28.958Z"
   },
   {
    "duration": 17,
    "start_time": "2022-07-23T17:33:28.970Z"
   },
   {
    "duration": 180,
    "start_time": "2022-07-23T17:33:28.989Z"
   },
   {
    "duration": 136,
    "start_time": "2022-07-23T17:33:29.171Z"
   },
   {
    "duration": 640,
    "start_time": "2022-07-23T17:33:29.308Z"
   },
   {
    "duration": 755,
    "start_time": "2022-07-23T17:33:29.950Z"
   },
   {
    "duration": 626,
    "start_time": "2022-07-23T17:33:30.707Z"
   },
   {
    "duration": 4,
    "start_time": "2022-07-23T17:33:31.335Z"
   },
   {
    "duration": 28,
    "start_time": "2022-07-23T17:33:31.341Z"
   },
   {
    "duration": 23,
    "start_time": "2022-07-23T17:33:31.371Z"
   },
   {
    "duration": 21,
    "start_time": "2022-07-23T17:33:31.395Z"
   },
   {
    "duration": 32,
    "start_time": "2022-07-23T17:33:31.417Z"
   },
   {
    "duration": 15,
    "start_time": "2022-07-23T17:33:31.450Z"
   },
   {
    "duration": 24,
    "start_time": "2022-07-23T17:33:31.466Z"
   },
   {
    "duration": 7,
    "start_time": "2022-07-23T17:33:31.492Z"
   },
   {
    "duration": 29,
    "start_time": "2022-07-23T17:33:31.501Z"
   },
   {
    "duration": 20,
    "start_time": "2022-07-23T17:33:31.532Z"
   },
   {
    "duration": 15,
    "start_time": "2022-07-23T17:33:31.554Z"
   },
   {
    "duration": 35,
    "start_time": "2022-07-23T17:33:31.573Z"
   },
   {
    "duration": 14,
    "start_time": "2022-07-23T17:33:31.610Z"
   },
   {
    "duration": 28,
    "start_time": "2022-07-23T17:33:31.626Z"
   },
   {
    "duration": 16,
    "start_time": "2022-07-23T17:33:31.656Z"
   },
   {
    "duration": 8,
    "start_time": "2022-07-23T17:33:31.674Z"
   },
   {
    "duration": 31,
    "start_time": "2022-07-23T17:33:31.684Z"
   },
   {
    "duration": 2330,
    "start_time": "2022-07-23T17:33:31.716Z"
   },
   {
    "duration": 80,
    "start_time": "2022-07-23T17:33:34.047Z"
   },
   {
    "duration": 7,
    "start_time": "2022-07-23T17:33:34.129Z"
   },
   {
    "duration": 8,
    "start_time": "2022-07-23T17:33:34.138Z"
   },
   {
    "duration": 649,
    "start_time": "2022-07-23T17:33:34.147Z"
   },
   {
    "duration": 8,
    "start_time": "2022-07-23T17:33:34.798Z"
   },
   {
    "duration": 3726,
    "start_time": "2022-07-23T17:33:34.808Z"
   },
   {
    "duration": 515,
    "start_time": "2022-07-23T17:33:38.536Z"
   },
   {
    "duration": 7,
    "start_time": "2022-07-23T17:33:39.054Z"
   },
   {
    "duration": 2270,
    "start_time": "2022-07-23T17:33:39.063Z"
   },
   {
    "duration": 5,
    "start_time": "2022-07-23T17:33:41.335Z"
   },
   {
    "duration": 497,
    "start_time": "2022-07-23T17:33:41.342Z"
   },
   {
    "duration": 10,
    "start_time": "2022-07-23T17:33:41.841Z"
   },
   {
    "duration": 2783,
    "start_time": "2022-07-23T17:33:41.853Z"
   },
   {
    "duration": 476,
    "start_time": "2022-07-23T17:33:44.638Z"
   },
   {
    "duration": 150,
    "start_time": "2022-07-23T17:34:48.936Z"
   },
   {
    "duration": 2401,
    "start_time": "2022-07-23T17:34:49.844Z"
   },
   {
    "duration": 423,
    "start_time": "2022-07-23T17:34:58.361Z"
   },
   {
    "duration": 11,
    "start_time": "2022-07-23T17:35:24.514Z"
   },
   {
    "duration": 3443,
    "start_time": "2022-07-23T17:35:24.889Z"
   },
   {
    "duration": 11,
    "start_time": "2022-07-23T17:35:46.042Z"
   },
   {
    "duration": 3071,
    "start_time": "2022-07-23T17:35:46.260Z"
   },
   {
    "duration": 430,
    "start_time": "2022-07-23T17:35:53.142Z"
   },
   {
    "duration": 11,
    "start_time": "2022-07-23T17:36:14.940Z"
   },
   {
    "duration": 3793,
    "start_time": "2022-07-23T17:36:15.134Z"
   },
   {
    "duration": 11,
    "start_time": "2022-07-23T17:37:28.934Z"
   },
   {
    "duration": 2695,
    "start_time": "2022-07-23T17:37:29.148Z"
   },
   {
    "duration": 455,
    "start_time": "2022-07-23T17:37:33.637Z"
   },
   {
    "duration": 3475,
    "start_time": "2022-07-23T17:44:48.859Z"
   },
   {
    "duration": 123,
    "start_time": "2022-07-23T17:45:04.715Z"
   },
   {
    "duration": 643,
    "start_time": "2022-07-23T17:45:07.042Z"
   },
   {
    "duration": 6391,
    "start_time": "2022-07-23T17:45:51.056Z"
   },
   {
    "duration": 7818,
    "start_time": "2022-07-23T17:46:15.256Z"
   },
   {
    "duration": 6364,
    "start_time": "2022-07-23T17:46:39.010Z"
   },
   {
    "duration": 3132,
    "start_time": "2022-07-23T17:47:18.617Z"
   },
   {
    "duration": 461,
    "start_time": "2022-07-23T17:47:26.218Z"
   },
   {
    "duration": 10,
    "start_time": "2022-07-23T17:47:29.513Z"
   },
   {
    "duration": 3039,
    "start_time": "2022-07-23T17:47:30.505Z"
   },
   {
    "duration": 2840,
    "start_time": "2022-07-23T17:47:37.987Z"
   },
   {
    "duration": 460,
    "start_time": "2022-07-23T17:47:43.270Z"
   },
   {
    "duration": 11,
    "start_time": "2022-07-23T17:47:47.306Z"
   },
   {
    "duration": 2791,
    "start_time": "2022-07-23T17:47:47.745Z"
   },
   {
    "duration": 850,
    "start_time": "2022-07-23T17:47:53.983Z"
   },
   {
    "duration": 3,
    "start_time": "2022-07-23T18:05:09.573Z"
   },
   {
    "duration": 6,
    "start_time": "2022-07-23T18:05:19.214Z"
   },
   {
    "duration": 6,
    "start_time": "2022-07-23T18:05:33.653Z"
   },
   {
    "duration": 5,
    "start_time": "2022-07-23T18:05:56.796Z"
   },
   {
    "duration": 4,
    "start_time": "2022-07-23T18:05:59.054Z"
   },
   {
    "duration": 14,
    "start_time": "2022-07-23T18:06:16.254Z"
   },
   {
    "duration": 12,
    "start_time": "2022-07-23T18:06:21.606Z"
   },
   {
    "duration": 11,
    "start_time": "2022-07-23T18:06:40.458Z"
   },
   {
    "duration": 5,
    "start_time": "2022-07-23T18:06:44.086Z"
   },
   {
    "duration": 4,
    "start_time": "2022-07-23T18:06:44.404Z"
   },
   {
    "duration": 49,
    "start_time": "2022-07-23T18:07:02.585Z"
   },
   {
    "duration": 139,
    "start_time": "2022-07-23T18:07:05.686Z"
   },
   {
    "duration": 5,
    "start_time": "2022-07-23T18:07:10.486Z"
   },
   {
    "duration": 14,
    "start_time": "2022-07-23T18:07:31.676Z"
   },
   {
    "duration": 5,
    "start_time": "2022-07-23T18:07:32.001Z"
   },
   {
    "duration": 14,
    "start_time": "2022-07-23T18:08:48.984Z"
   },
   {
    "duration": 5,
    "start_time": "2022-07-23T18:08:56.985Z"
   },
   {
    "duration": 4,
    "start_time": "2022-07-23T18:09:02.149Z"
   },
   {
    "duration": 3,
    "start_time": "2022-07-23T18:09:09.145Z"
   },
   {
    "duration": 37,
    "start_time": "2022-07-23T18:09:15.243Z"
   },
   {
    "duration": 4,
    "start_time": "2022-07-23T18:09:25.045Z"
   },
   {
    "duration": 32,
    "start_time": "2022-07-23T18:09:25.906Z"
   },
   {
    "duration": 3,
    "start_time": "2022-07-23T18:09:43.472Z"
   },
   {
    "duration": 5,
    "start_time": "2022-07-23T18:09:43.853Z"
   },
   {
    "duration": 5,
    "start_time": "2022-07-23T18:09:44.263Z"
   },
   {
    "duration": 4,
    "start_time": "2022-07-23T18:09:44.752Z"
   },
   {
    "duration": 7,
    "start_time": "2022-07-23T18:09:46.001Z"
   },
   {
    "duration": 45,
    "start_time": "2022-07-23T18:09:47.159Z"
   },
   {
    "duration": 7,
    "start_time": "2022-07-23T18:09:57.766Z"
   },
   {
    "duration": 2734,
    "start_time": "2022-07-23T18:09:58.112Z"
   },
   {
    "duration": 5,
    "start_time": "2022-07-23T18:10:02.453Z"
   },
   {
    "duration": 6,
    "start_time": "2022-07-23T18:10:03.698Z"
   },
   {
    "duration": 4,
    "start_time": "2022-07-23T18:10:03.924Z"
   },
   {
    "duration": 10,
    "start_time": "2022-07-23T18:10:11.481Z"
   },
   {
    "duration": 4995,
    "start_time": "2022-07-23T18:10:12.554Z"
   },
   {
    "duration": 556,
    "start_time": "2022-07-23T18:10:17.553Z"
   },
   {
    "duration": 7,
    "start_time": "2022-07-23T18:10:25.871Z"
   },
   {
    "duration": 3613,
    "start_time": "2022-07-23T18:10:26.638Z"
   },
   {
    "duration": 6,
    "start_time": "2022-07-23T18:10:30.253Z"
   },
   {
    "duration": 471,
    "start_time": "2022-07-23T18:10:35.120Z"
   },
   {
    "duration": 10,
    "start_time": "2022-07-23T18:10:47.575Z"
   },
   {
    "duration": 3782,
    "start_time": "2022-07-23T18:10:48.861Z"
   },
   {
    "duration": 462,
    "start_time": "2022-07-23T18:10:53.851Z"
   },
   {
    "duration": 1781,
    "start_time": "2022-07-23T18:11:10.568Z"
   },
   {
    "duration": 28,
    "start_time": "2022-07-23T18:11:12.351Z"
   },
   {
    "duration": 98,
    "start_time": "2022-07-23T18:11:12.381Z"
   },
   {
    "duration": 13,
    "start_time": "2022-07-23T18:11:12.481Z"
   },
   {
    "duration": 37,
    "start_time": "2022-07-23T18:11:12.496Z"
   },
   {
    "duration": 6,
    "start_time": "2022-07-23T18:11:12.539Z"
   },
   {
    "duration": 5,
    "start_time": "2022-07-23T18:11:12.547Z"
   },
   {
    "duration": 8,
    "start_time": "2022-07-23T18:11:12.553Z"
   },
   {
    "duration": 6,
    "start_time": "2022-07-23T18:11:12.562Z"
   },
   {
    "duration": 4,
    "start_time": "2022-07-23T18:11:12.571Z"
   },
   {
    "duration": 207,
    "start_time": "2022-07-23T18:11:12.577Z"
   },
   {
    "duration": 168,
    "start_time": "2022-07-23T18:11:12.786Z"
   },
   {
    "duration": 709,
    "start_time": "2022-07-23T18:11:12.957Z"
   },
   {
    "duration": 816,
    "start_time": "2022-07-23T18:11:13.668Z"
   },
   {
    "duration": 685,
    "start_time": "2022-07-23T18:11:14.486Z"
   },
   {
    "duration": 3,
    "start_time": "2022-07-23T18:11:15.173Z"
   },
   {
    "duration": 14,
    "start_time": "2022-07-23T18:11:15.178Z"
   },
   {
    "duration": 7,
    "start_time": "2022-07-23T18:11:15.193Z"
   },
   {
    "duration": 6,
    "start_time": "2022-07-23T18:11:15.202Z"
   },
   {
    "duration": 27,
    "start_time": "2022-07-23T18:11:15.210Z"
   },
   {
    "duration": 9,
    "start_time": "2022-07-23T18:11:15.239Z"
   },
   {
    "duration": 17,
    "start_time": "2022-07-23T18:11:15.250Z"
   },
   {
    "duration": 348,
    "start_time": "2022-07-23T18:11:15.269Z"
   },
   {
    "duration": 0,
    "start_time": "2022-07-23T18:11:15.619Z"
   },
   {
    "duration": 0,
    "start_time": "2022-07-23T18:11:15.620Z"
   },
   {
    "duration": 0,
    "start_time": "2022-07-23T18:11:15.622Z"
   },
   {
    "duration": 0,
    "start_time": "2022-07-23T18:11:15.623Z"
   },
   {
    "duration": 0,
    "start_time": "2022-07-23T18:11:15.624Z"
   },
   {
    "duration": 0,
    "start_time": "2022-07-23T18:11:15.625Z"
   },
   {
    "duration": 0,
    "start_time": "2022-07-23T18:11:15.626Z"
   },
   {
    "duration": 0,
    "start_time": "2022-07-23T18:11:15.627Z"
   },
   {
    "duration": 0,
    "start_time": "2022-07-23T18:11:15.628Z"
   },
   {
    "duration": 0,
    "start_time": "2022-07-23T18:11:15.629Z"
   },
   {
    "duration": 0,
    "start_time": "2022-07-23T18:11:15.632Z"
   },
   {
    "duration": 0,
    "start_time": "2022-07-23T18:11:15.633Z"
   },
   {
    "duration": 0,
    "start_time": "2022-07-23T18:11:15.634Z"
   },
   {
    "duration": 0,
    "start_time": "2022-07-23T18:11:15.636Z"
   },
   {
    "duration": 1,
    "start_time": "2022-07-23T18:11:15.637Z"
   },
   {
    "duration": 1,
    "start_time": "2022-07-23T18:11:15.638Z"
   },
   {
    "duration": 0,
    "start_time": "2022-07-23T18:11:15.640Z"
   },
   {
    "duration": 0,
    "start_time": "2022-07-23T18:11:15.641Z"
   },
   {
    "duration": 0,
    "start_time": "2022-07-23T18:11:15.643Z"
   },
   {
    "duration": 0,
    "start_time": "2022-07-23T18:11:15.644Z"
   },
   {
    "duration": 0,
    "start_time": "2022-07-23T18:11:15.646Z"
   },
   {
    "duration": 0,
    "start_time": "2022-07-23T18:11:15.647Z"
   },
   {
    "duration": 0,
    "start_time": "2022-07-23T18:11:15.649Z"
   },
   {
    "duration": 0,
    "start_time": "2022-07-23T18:11:15.650Z"
   },
   {
    "duration": 0,
    "start_time": "2022-07-23T18:11:15.652Z"
   },
   {
    "duration": 0,
    "start_time": "2022-07-23T18:11:15.653Z"
   },
   {
    "duration": 4,
    "start_time": "2022-07-23T18:13:20.019Z"
   },
   {
    "duration": 3,
    "start_time": "2022-07-23T18:13:21.883Z"
   },
   {
    "duration": 5,
    "start_time": "2022-07-23T18:13:22.312Z"
   },
   {
    "duration": 3,
    "start_time": "2022-07-23T18:13:22.885Z"
   },
   {
    "duration": 26,
    "start_time": "2022-07-23T18:13:23.025Z"
   },
   {
    "duration": 4,
    "start_time": "2022-07-23T18:13:23.458Z"
   },
   {
    "duration": 31,
    "start_time": "2022-07-23T18:13:24.147Z"
   },
   {
    "duration": 3,
    "start_time": "2022-07-23T18:13:24.509Z"
   },
   {
    "duration": 4,
    "start_time": "2022-07-23T18:13:25.050Z"
   },
   {
    "duration": 5,
    "start_time": "2022-07-23T18:13:25.416Z"
   },
   {
    "duration": 4,
    "start_time": "2022-07-23T18:13:25.921Z"
   },
   {
    "duration": 7,
    "start_time": "2022-07-23T18:13:27.062Z"
   },
   {
    "duration": 26,
    "start_time": "2022-07-23T18:13:27.942Z"
   },
   {
    "duration": 6,
    "start_time": "2022-07-23T18:13:38.032Z"
   },
   {
    "duration": 2336,
    "start_time": "2022-07-23T18:13:38.588Z"
   },
   {
    "duration": 7,
    "start_time": "2022-07-23T18:13:40.926Z"
   },
   {
    "duration": 5,
    "start_time": "2022-07-23T18:13:41.694Z"
   },
   {
    "duration": 4,
    "start_time": "2022-07-23T18:13:43.037Z"
   },
   {
    "duration": 602,
    "start_time": "2022-07-23T18:13:45.111Z"
   },
   {
    "duration": 9,
    "start_time": "2022-07-23T18:13:50.470Z"
   },
   {
    "duration": 3999,
    "start_time": "2022-07-23T18:13:50.849Z"
   },
   {
    "duration": 527,
    "start_time": "2022-07-23T18:13:54.850Z"
   },
   {
    "duration": 6,
    "start_time": "2022-07-23T18:13:55.378Z"
   },
   {
    "duration": 7,
    "start_time": "2022-07-23T18:13:58.059Z"
   },
   {
    "duration": 2271,
    "start_time": "2022-07-23T18:13:58.458Z"
   },
   {
    "duration": 5,
    "start_time": "2022-07-23T18:14:00.731Z"
   },
   {
    "duration": 507,
    "start_time": "2022-07-23T18:14:00.738Z"
   },
   {
    "duration": 7,
    "start_time": "2022-07-23T18:14:23.969Z"
   },
   {
    "duration": 2227,
    "start_time": "2022-07-23T18:14:24.301Z"
   },
   {
    "duration": 5,
    "start_time": "2022-07-23T18:14:26.530Z"
   },
   {
    "duration": 8,
    "start_time": "2022-07-23T18:14:42.490Z"
   },
   {
    "duration": 2383,
    "start_time": "2022-07-23T18:14:43.054Z"
   },
   {
    "duration": 5,
    "start_time": "2022-07-23T18:14:45.781Z"
   },
   {
    "duration": 454,
    "start_time": "2022-07-23T18:14:50.946Z"
   },
   {
    "duration": 144,
    "start_time": "2022-07-23T18:14:55.606Z"
   },
   {
    "duration": 13,
    "start_time": "2022-07-23T18:15:01.722Z"
   },
   {
    "duration": 3749,
    "start_time": "2022-07-23T18:15:02.083Z"
   },
   {
    "duration": 505,
    "start_time": "2022-07-23T18:15:05.834Z"
   },
   {
    "duration": 2878,
    "start_time": "2022-07-23T18:15:26.746Z"
   },
   {
    "duration": 465,
    "start_time": "2022-07-23T18:15:33.166Z"
   },
   {
    "duration": 11,
    "start_time": "2022-07-23T18:15:47.126Z"
   },
   {
    "duration": 2314,
    "start_time": "2022-07-23T18:15:47.518Z"
   },
   {
    "duration": 515,
    "start_time": "2022-07-23T18:15:52.353Z"
   },
   {
    "duration": 12,
    "start_time": "2022-07-23T18:17:36.511Z"
   },
   {
    "duration": 12767,
    "start_time": "2022-07-23T18:17:37.363Z"
   },
   {
    "duration": 623,
    "start_time": "2022-07-23T18:17:57.915Z"
   },
   {
    "duration": 3923,
    "start_time": "2022-07-23T18:18:13.207Z"
   },
   {
    "duration": 638,
    "start_time": "2022-07-23T18:18:17.132Z"
   },
   {
    "duration": 11,
    "start_time": "2022-07-23T18:18:18.124Z"
   },
   {
    "duration": 3890,
    "start_time": "2022-07-23T18:18:18.453Z"
   },
   {
    "duration": 525,
    "start_time": "2022-07-23T18:18:22.345Z"
   },
   {
    "duration": 1904,
    "start_time": "2022-07-23T18:32:57.515Z"
   },
   {
    "duration": 35,
    "start_time": "2022-07-23T18:32:59.421Z"
   },
   {
    "duration": 110,
    "start_time": "2022-07-23T18:32:59.459Z"
   },
   {
    "duration": 14,
    "start_time": "2022-07-23T18:32:59.571Z"
   },
   {
    "duration": 48,
    "start_time": "2022-07-23T18:32:59.587Z"
   },
   {
    "duration": 8,
    "start_time": "2022-07-23T18:32:59.637Z"
   },
   {
    "duration": 4,
    "start_time": "2022-07-23T18:32:59.648Z"
   },
   {
    "duration": 6,
    "start_time": "2022-07-23T18:32:59.654Z"
   },
   {
    "duration": 6,
    "start_time": "2022-07-23T18:32:59.662Z"
   },
   {
    "duration": 5,
    "start_time": "2022-07-23T18:32:59.671Z"
   },
   {
    "duration": 200,
    "start_time": "2022-07-23T18:32:59.678Z"
   },
   {
    "duration": 174,
    "start_time": "2022-07-23T18:32:59.881Z"
   },
   {
    "duration": 720,
    "start_time": "2022-07-23T18:33:00.058Z"
   },
   {
    "duration": 895,
    "start_time": "2022-07-23T18:33:00.780Z"
   },
   {
    "duration": 779,
    "start_time": "2022-07-23T18:33:01.677Z"
   },
   {
    "duration": 5,
    "start_time": "2022-07-23T18:33:02.459Z"
   },
   {
    "duration": 17,
    "start_time": "2022-07-23T18:33:02.467Z"
   },
   {
    "duration": 7,
    "start_time": "2022-07-23T18:33:02.487Z"
   },
   {
    "duration": 9,
    "start_time": "2022-07-23T18:33:02.497Z"
   },
   {
    "duration": 23,
    "start_time": "2022-07-23T18:33:02.509Z"
   },
   {
    "duration": 26,
    "start_time": "2022-07-23T18:33:02.543Z"
   },
   {
    "duration": 14,
    "start_time": "2022-07-23T18:33:02.572Z"
   },
   {
    "duration": 10,
    "start_time": "2022-07-23T18:33:02.588Z"
   },
   {
    "duration": 9,
    "start_time": "2022-07-23T18:33:02.600Z"
   },
   {
    "duration": 37,
    "start_time": "2022-07-23T18:33:02.612Z"
   },
   {
    "duration": 10,
    "start_time": "2022-07-23T18:33:02.651Z"
   },
   {
    "duration": 37,
    "start_time": "2022-07-23T18:33:02.663Z"
   },
   {
    "duration": 4,
    "start_time": "2022-07-23T18:33:02.703Z"
   },
   {
    "duration": 45,
    "start_time": "2022-07-23T18:33:02.708Z"
   },
   {
    "duration": 12,
    "start_time": "2022-07-23T18:33:02.755Z"
   },
   {
    "duration": 9,
    "start_time": "2022-07-23T18:33:02.769Z"
   },
   {
    "duration": 10,
    "start_time": "2022-07-23T18:33:02.780Z"
   },
   {
    "duration": 3838,
    "start_time": "2022-07-23T18:33:02.792Z"
   },
   {
    "duration": 9,
    "start_time": "2022-07-23T18:33:06.632Z"
   },
   {
    "duration": 664,
    "start_time": "2022-07-23T18:33:06.645Z"
   },
   {
    "duration": 26,
    "start_time": "2022-07-23T18:33:07.311Z"
   },
   {
    "duration": 3487,
    "start_time": "2022-07-23T18:33:07.345Z"
   },
   {
    "duration": 494,
    "start_time": "2022-07-23T18:33:10.837Z"
   },
   {
    "duration": 10,
    "start_time": "2022-07-23T18:33:11.334Z"
   },
   {
    "duration": 3604,
    "start_time": "2022-07-23T18:33:11.346Z"
   },
   {
    "duration": 540,
    "start_time": "2022-07-23T18:33:14.952Z"
   },
   {
    "duration": 14,
    "start_time": "2022-07-23T18:33:15.494Z"
   },
   {
    "duration": 5831,
    "start_time": "2022-07-23T18:33:15.510Z"
   },
   {
    "duration": 525,
    "start_time": "2022-07-23T18:33:21.343Z"
   },
   {
    "duration": 1767,
    "start_time": "2022-07-23T18:35:29.087Z"
   },
   {
    "duration": 29,
    "start_time": "2022-07-23T18:35:30.857Z"
   },
   {
    "duration": 106,
    "start_time": "2022-07-23T18:35:30.888Z"
   },
   {
    "duration": 14,
    "start_time": "2022-07-23T18:35:30.996Z"
   },
   {
    "duration": 36,
    "start_time": "2022-07-23T18:35:31.011Z"
   },
   {
    "duration": 8,
    "start_time": "2022-07-23T18:35:31.049Z"
   },
   {
    "duration": 11,
    "start_time": "2022-07-23T18:35:31.059Z"
   },
   {
    "duration": 32,
    "start_time": "2022-07-23T18:35:31.073Z"
   },
   {
    "duration": 9,
    "start_time": "2022-07-23T18:35:31.107Z"
   },
   {
    "duration": 19,
    "start_time": "2022-07-23T18:35:31.120Z"
   },
   {
    "duration": 231,
    "start_time": "2022-07-23T18:35:31.142Z"
   },
   {
    "duration": 157,
    "start_time": "2022-07-23T18:35:31.376Z"
   },
   {
    "duration": 807,
    "start_time": "2022-07-23T18:35:31.534Z"
   },
   {
    "duration": 804,
    "start_time": "2022-07-23T18:35:32.344Z"
   },
   {
    "duration": 656,
    "start_time": "2022-07-23T18:35:33.149Z"
   },
   {
    "duration": 4,
    "start_time": "2022-07-23T18:35:33.806Z"
   },
   {
    "duration": 16,
    "start_time": "2022-07-23T18:35:33.812Z"
   },
   {
    "duration": 10,
    "start_time": "2022-07-23T18:35:33.830Z"
   },
   {
    "duration": 7,
    "start_time": "2022-07-23T18:35:33.841Z"
   },
   {
    "duration": 13,
    "start_time": "2022-07-23T18:35:33.849Z"
   },
   {
    "duration": 16,
    "start_time": "2022-07-23T18:35:33.863Z"
   },
   {
    "duration": 6,
    "start_time": "2022-07-23T18:35:33.880Z"
   },
   {
    "duration": 8,
    "start_time": "2022-07-23T18:35:33.888Z"
   },
   {
    "duration": 25,
    "start_time": "2022-07-23T18:35:33.899Z"
   },
   {
    "duration": 28,
    "start_time": "2022-07-23T18:35:33.926Z"
   },
   {
    "duration": 12,
    "start_time": "2022-07-23T18:35:33.956Z"
   },
   {
    "duration": 37,
    "start_time": "2022-07-23T18:35:33.970Z"
   },
   {
    "duration": 3,
    "start_time": "2022-07-23T18:35:34.026Z"
   },
   {
    "duration": 12,
    "start_time": "2022-07-23T18:35:34.031Z"
   },
   {
    "duration": 8,
    "start_time": "2022-07-23T18:35:34.046Z"
   },
   {
    "duration": 7,
    "start_time": "2022-07-23T18:35:34.056Z"
   },
   {
    "duration": 12,
    "start_time": "2022-07-23T18:35:34.064Z"
   },
   {
    "duration": 2669,
    "start_time": "2022-07-23T18:35:34.078Z"
   },
   {
    "duration": 6,
    "start_time": "2022-07-23T18:35:36.823Z"
   },
   {
    "duration": 759,
    "start_time": "2022-07-23T18:35:36.830Z"
   },
   {
    "duration": 8,
    "start_time": "2022-07-23T18:35:37.591Z"
   },
   {
    "duration": 2626,
    "start_time": "2022-07-23T18:35:37.600Z"
   },
   {
    "duration": 477,
    "start_time": "2022-07-23T18:35:40.229Z"
   },
   {
    "duration": 18,
    "start_time": "2022-07-23T18:35:40.708Z"
   },
   {
    "duration": 2612,
    "start_time": "2022-07-23T18:35:40.728Z"
   },
   {
    "duration": 525,
    "start_time": "2022-07-23T18:35:43.342Z"
   },
   {
    "duration": 13,
    "start_time": "2022-07-23T18:35:43.868Z"
   },
   {
    "duration": 2959,
    "start_time": "2022-07-23T18:35:43.882Z"
   },
   {
    "duration": 594,
    "start_time": "2022-07-23T18:35:46.842Z"
   },
   {
    "duration": 1971,
    "start_time": "2022-07-23T18:38:36.483Z"
   },
   {
    "duration": 31,
    "start_time": "2022-07-23T18:38:38.456Z"
   },
   {
    "duration": 119,
    "start_time": "2022-07-23T18:38:38.489Z"
   },
   {
    "duration": 15,
    "start_time": "2022-07-23T18:38:38.611Z"
   },
   {
    "duration": 40,
    "start_time": "2022-07-23T18:38:38.628Z"
   },
   {
    "duration": 6,
    "start_time": "2022-07-23T18:38:38.670Z"
   },
   {
    "duration": 8,
    "start_time": "2022-07-23T18:38:38.678Z"
   },
   {
    "duration": 7,
    "start_time": "2022-07-23T18:38:38.688Z"
   },
   {
    "duration": 9,
    "start_time": "2022-07-23T18:38:38.697Z"
   },
   {
    "duration": 16,
    "start_time": "2022-07-23T18:38:38.709Z"
   },
   {
    "duration": 214,
    "start_time": "2022-07-23T18:38:38.727Z"
   },
   {
    "duration": 151,
    "start_time": "2022-07-23T18:38:38.943Z"
   },
   {
    "duration": 677,
    "start_time": "2022-07-23T18:38:39.097Z"
   },
   {
    "duration": 782,
    "start_time": "2022-07-23T18:38:39.776Z"
   },
   {
    "duration": 668,
    "start_time": "2022-07-23T18:38:40.561Z"
   },
   {
    "duration": 5,
    "start_time": "2022-07-23T18:38:41.231Z"
   },
   {
    "duration": 11,
    "start_time": "2022-07-23T18:38:41.238Z"
   },
   {
    "duration": 6,
    "start_time": "2022-07-23T18:38:41.250Z"
   },
   {
    "duration": 7,
    "start_time": "2022-07-23T18:38:41.258Z"
   },
   {
    "duration": 11,
    "start_time": "2022-07-23T18:38:41.267Z"
   },
   {
    "duration": 16,
    "start_time": "2022-07-23T18:38:41.279Z"
   },
   {
    "duration": 4,
    "start_time": "2022-07-23T18:38:41.325Z"
   },
   {
    "duration": 14,
    "start_time": "2022-07-23T18:38:41.330Z"
   },
   {
    "duration": 7,
    "start_time": "2022-07-23T18:38:41.346Z"
   },
   {
    "duration": 32,
    "start_time": "2022-07-23T18:38:41.355Z"
   },
   {
    "duration": 9,
    "start_time": "2022-07-23T18:38:41.389Z"
   },
   {
    "duration": 48,
    "start_time": "2022-07-23T18:38:41.400Z"
   },
   {
    "duration": 3,
    "start_time": "2022-07-23T18:38:41.452Z"
   },
   {
    "duration": 17,
    "start_time": "2022-07-23T18:38:41.457Z"
   },
   {
    "duration": 8,
    "start_time": "2022-07-23T18:38:41.476Z"
   },
   {
    "duration": 6,
    "start_time": "2022-07-23T18:38:41.485Z"
   },
   {
    "duration": 13,
    "start_time": "2022-07-23T18:38:41.493Z"
   },
   {
    "duration": 2420,
    "start_time": "2022-07-23T18:38:41.508Z"
   },
   {
    "duration": 6,
    "start_time": "2022-07-23T18:38:43.930Z"
   },
   {
    "duration": 651,
    "start_time": "2022-07-23T18:38:43.937Z"
   },
   {
    "duration": 10,
    "start_time": "2022-07-23T18:38:44.591Z"
   },
   {
    "duration": 1930,
    "start_time": "2022-07-23T18:38:44.604Z"
   },
   {
    "duration": 508,
    "start_time": "2022-07-23T18:38:46.536Z"
   },
   {
    "duration": 7,
    "start_time": "2022-07-23T18:38:47.047Z"
   },
   {
    "duration": 2678,
    "start_time": "2022-07-23T18:38:47.056Z"
   },
   {
    "duration": 522,
    "start_time": "2022-07-23T18:38:49.736Z"
   },
   {
    "duration": 11,
    "start_time": "2022-07-23T18:38:50.261Z"
   },
   {
    "duration": 2754,
    "start_time": "2022-07-23T18:38:50.274Z"
   },
   {
    "duration": 501,
    "start_time": "2022-07-23T18:38:53.029Z"
   },
   {
    "duration": 1736,
    "start_time": "2022-07-23T18:53:18.889Z"
   },
   {
    "duration": 29,
    "start_time": "2022-07-23T18:53:20.628Z"
   },
   {
    "duration": 89,
    "start_time": "2022-07-23T18:53:20.658Z"
   },
   {
    "duration": 11,
    "start_time": "2022-07-23T18:53:20.749Z"
   },
   {
    "duration": 27,
    "start_time": "2022-07-23T18:53:20.761Z"
   },
   {
    "duration": 4,
    "start_time": "2022-07-23T18:53:20.790Z"
   },
   {
    "duration": 27,
    "start_time": "2022-07-23T18:53:20.796Z"
   },
   {
    "duration": 6,
    "start_time": "2022-07-23T18:53:20.825Z"
   },
   {
    "duration": 6,
    "start_time": "2022-07-23T18:53:20.833Z"
   },
   {
    "duration": 12,
    "start_time": "2022-07-23T18:53:20.841Z"
   },
   {
    "duration": 160,
    "start_time": "2022-07-23T18:53:20.855Z"
   },
   {
    "duration": 139,
    "start_time": "2022-07-23T18:53:21.017Z"
   },
   {
    "duration": 635,
    "start_time": "2022-07-23T18:53:21.158Z"
   },
   {
    "duration": 748,
    "start_time": "2022-07-23T18:53:21.794Z"
   },
   {
    "duration": 628,
    "start_time": "2022-07-23T18:53:22.543Z"
   },
   {
    "duration": 4,
    "start_time": "2022-07-23T18:53:23.173Z"
   },
   {
    "duration": 9,
    "start_time": "2022-07-23T18:53:23.178Z"
   },
   {
    "duration": 7,
    "start_time": "2022-07-23T18:53:23.188Z"
   },
   {
    "duration": 6,
    "start_time": "2022-07-23T18:53:23.196Z"
   },
   {
    "duration": 24,
    "start_time": "2022-07-23T18:53:23.203Z"
   },
   {
    "duration": 12,
    "start_time": "2022-07-23T18:53:23.229Z"
   },
   {
    "duration": 6,
    "start_time": "2022-07-23T18:53:23.242Z"
   },
   {
    "duration": 10,
    "start_time": "2022-07-23T18:53:23.250Z"
   },
   {
    "duration": 11,
    "start_time": "2022-07-23T18:53:23.261Z"
   },
   {
    "duration": 30,
    "start_time": "2022-07-23T18:53:23.274Z"
   },
   {
    "duration": 17,
    "start_time": "2022-07-23T18:53:23.306Z"
   },
   {
    "duration": 30,
    "start_time": "2022-07-23T18:53:23.325Z"
   },
   {
    "duration": 3,
    "start_time": "2022-07-23T18:53:23.358Z"
   },
   {
    "duration": 8,
    "start_time": "2022-07-23T18:53:23.362Z"
   },
   {
    "duration": 8,
    "start_time": "2022-07-23T18:53:23.372Z"
   },
   {
    "duration": 6,
    "start_time": "2022-07-23T18:53:23.382Z"
   },
   {
    "duration": 8,
    "start_time": "2022-07-23T18:53:23.390Z"
   },
   {
    "duration": 2039,
    "start_time": "2022-07-23T18:53:23.399Z"
   },
   {
    "duration": 5,
    "start_time": "2022-07-23T18:53:25.439Z"
   },
   {
    "duration": 651,
    "start_time": "2022-07-23T18:53:25.446Z"
   },
   {
    "duration": 8,
    "start_time": "2022-07-23T18:53:26.099Z"
   },
   {
    "duration": 1819,
    "start_time": "2022-07-23T18:53:26.109Z"
   },
   {
    "duration": 469,
    "start_time": "2022-07-23T18:53:27.930Z"
   },
   {
    "duration": 7,
    "start_time": "2022-07-23T18:53:28.401Z"
   },
   {
    "duration": 2234,
    "start_time": "2022-07-23T18:53:28.410Z"
   },
   {
    "duration": 517,
    "start_time": "2022-07-23T18:53:30.646Z"
   },
   {
    "duration": 12,
    "start_time": "2022-07-23T18:53:31.165Z"
   },
   {
    "duration": 2161,
    "start_time": "2022-07-23T18:53:31.178Z"
   },
   {
    "duration": 507,
    "start_time": "2022-07-23T18:53:33.341Z"
   },
   {
    "duration": 1830,
    "start_time": "2022-07-23T18:55:16.519Z"
   },
   {
    "duration": 28,
    "start_time": "2022-07-23T18:55:18.351Z"
   },
   {
    "duration": 86,
    "start_time": "2022-07-23T18:55:18.381Z"
   },
   {
    "duration": 12,
    "start_time": "2022-07-23T18:55:18.469Z"
   },
   {
    "duration": 41,
    "start_time": "2022-07-23T18:55:18.483Z"
   },
   {
    "duration": 5,
    "start_time": "2022-07-23T18:55:18.525Z"
   },
   {
    "duration": 8,
    "start_time": "2022-07-23T18:55:18.531Z"
   },
   {
    "duration": 7,
    "start_time": "2022-07-23T18:55:18.540Z"
   },
   {
    "duration": 5,
    "start_time": "2022-07-23T18:55:18.549Z"
   },
   {
    "duration": 9,
    "start_time": "2022-07-23T18:55:18.556Z"
   },
   {
    "duration": 180,
    "start_time": "2022-07-23T18:55:18.567Z"
   },
   {
    "duration": 151,
    "start_time": "2022-07-23T18:55:18.749Z"
   },
   {
    "duration": 651,
    "start_time": "2022-07-23T18:55:18.902Z"
   },
   {
    "duration": 762,
    "start_time": "2022-07-23T18:55:19.555Z"
   },
   {
    "duration": 640,
    "start_time": "2022-07-23T18:55:20.319Z"
   },
   {
    "duration": 4,
    "start_time": "2022-07-23T18:55:20.961Z"
   },
   {
    "duration": 9,
    "start_time": "2022-07-23T18:55:20.967Z"
   },
   {
    "duration": 10,
    "start_time": "2022-07-23T18:55:20.977Z"
   },
   {
    "duration": 4,
    "start_time": "2022-07-23T18:55:20.989Z"
   },
   {
    "duration": 12,
    "start_time": "2022-07-23T18:55:20.995Z"
   },
   {
    "duration": 26,
    "start_time": "2022-07-23T18:55:21.009Z"
   },
   {
    "duration": 5,
    "start_time": "2022-07-23T18:55:21.037Z"
   },
   {
    "duration": 9,
    "start_time": "2022-07-23T18:55:21.043Z"
   },
   {
    "duration": 6,
    "start_time": "2022-07-23T18:55:21.053Z"
   },
   {
    "duration": 29,
    "start_time": "2022-07-23T18:55:21.060Z"
   },
   {
    "duration": 5,
    "start_time": "2022-07-23T18:55:21.092Z"
   },
   {
    "duration": 60,
    "start_time": "2022-07-23T18:55:21.098Z"
   },
   {
    "duration": 5,
    "start_time": "2022-07-23T18:55:21.162Z"
   },
   {
    "duration": 6,
    "start_time": "2022-07-23T18:55:21.169Z"
   },
   {
    "duration": 6,
    "start_time": "2022-07-23T18:55:21.177Z"
   },
   {
    "duration": 9,
    "start_time": "2022-07-23T18:55:21.185Z"
   },
   {
    "duration": 12,
    "start_time": "2022-07-23T18:55:21.195Z"
   },
   {
    "duration": 1927,
    "start_time": "2022-07-23T18:55:21.208Z"
   },
   {
    "duration": 5,
    "start_time": "2022-07-23T18:55:23.136Z"
   },
   {
    "duration": 644,
    "start_time": "2022-07-23T18:55:23.143Z"
   },
   {
    "duration": 8,
    "start_time": "2022-07-23T18:55:23.788Z"
   },
   {
    "duration": 1826,
    "start_time": "2022-07-23T18:55:23.798Z"
   },
   {
    "duration": 461,
    "start_time": "2022-07-23T18:55:25.626Z"
   },
   {
    "duration": 6,
    "start_time": "2022-07-23T18:55:26.088Z"
   },
   {
    "duration": 2438,
    "start_time": "2022-07-23T18:55:26.096Z"
   },
   {
    "duration": 504,
    "start_time": "2022-07-23T18:55:28.536Z"
   },
   {
    "duration": 11,
    "start_time": "2022-07-23T18:55:29.042Z"
   },
   {
    "duration": 2483,
    "start_time": "2022-07-23T18:55:29.054Z"
   },
   {
    "duration": 491,
    "start_time": "2022-07-23T18:55:31.539Z"
   },
   {
    "duration": 1861,
    "start_time": "2022-07-23T19:02:13.879Z"
   },
   {
    "duration": 29,
    "start_time": "2022-07-23T19:02:15.742Z"
   },
   {
    "duration": 93,
    "start_time": "2022-07-23T19:02:15.773Z"
   },
   {
    "duration": 11,
    "start_time": "2022-07-23T19:02:15.868Z"
   },
   {
    "duration": 28,
    "start_time": "2022-07-23T19:02:15.881Z"
   },
   {
    "duration": 17,
    "start_time": "2022-07-23T19:02:15.910Z"
   },
   {
    "duration": 6,
    "start_time": "2022-07-23T19:02:15.928Z"
   },
   {
    "duration": 5,
    "start_time": "2022-07-23T19:02:15.936Z"
   },
   {
    "duration": 9,
    "start_time": "2022-07-23T19:02:15.943Z"
   },
   {
    "duration": 13,
    "start_time": "2022-07-23T19:02:15.955Z"
   },
   {
    "duration": 188,
    "start_time": "2022-07-23T19:02:15.970Z"
   },
   {
    "duration": 158,
    "start_time": "2022-07-23T19:02:16.160Z"
   },
   {
    "duration": 664,
    "start_time": "2022-07-23T19:02:16.324Z"
   },
   {
    "duration": 852,
    "start_time": "2022-07-23T19:02:16.989Z"
   },
   {
    "duration": 684,
    "start_time": "2022-07-23T19:02:17.843Z"
   },
   {
    "duration": 5,
    "start_time": "2022-07-23T19:02:18.529Z"
   },
   {
    "duration": 14,
    "start_time": "2022-07-23T19:02:18.536Z"
   },
   {
    "duration": 9,
    "start_time": "2022-07-23T19:02:18.552Z"
   },
   {
    "duration": 8,
    "start_time": "2022-07-23T19:02:18.562Z"
   },
   {
    "duration": 13,
    "start_time": "2022-07-23T19:02:18.573Z"
   },
   {
    "duration": 17,
    "start_time": "2022-07-23T19:02:18.588Z"
   },
   {
    "duration": 19,
    "start_time": "2022-07-23T19:02:18.607Z"
   },
   {
    "duration": 10,
    "start_time": "2022-07-23T19:02:18.627Z"
   },
   {
    "duration": 8,
    "start_time": "2022-07-23T19:02:18.638Z"
   },
   {
    "duration": 32,
    "start_time": "2022-07-23T19:02:18.647Z"
   },
   {
    "duration": 5,
    "start_time": "2022-07-23T19:02:18.681Z"
   },
   {
    "duration": 42,
    "start_time": "2022-07-23T19:02:18.688Z"
   },
   {
    "duration": 3,
    "start_time": "2022-07-23T19:02:18.733Z"
   },
   {
    "duration": 9,
    "start_time": "2022-07-23T19:02:18.737Z"
   },
   {
    "duration": 7,
    "start_time": "2022-07-23T19:02:18.748Z"
   },
   {
    "duration": 8,
    "start_time": "2022-07-23T19:02:18.757Z"
   },
   {
    "duration": 9,
    "start_time": "2022-07-23T19:02:18.766Z"
   },
   {
    "duration": 2262,
    "start_time": "2022-07-23T19:02:18.776Z"
   },
   {
    "duration": 5,
    "start_time": "2022-07-23T19:02:21.039Z"
   },
   {
    "duration": 641,
    "start_time": "2022-07-23T19:02:21.046Z"
   },
   {
    "duration": 10,
    "start_time": "2022-07-23T19:02:21.689Z"
   },
   {
    "duration": 1926,
    "start_time": "2022-07-23T19:02:21.701Z"
   },
   {
    "duration": 498,
    "start_time": "2022-07-23T19:02:23.629Z"
   },
   {
    "duration": 6,
    "start_time": "2022-07-23T19:02:24.128Z"
   },
   {
    "duration": 2607,
    "start_time": "2022-07-23T19:02:24.136Z"
   },
   {
    "duration": 597,
    "start_time": "2022-07-23T19:02:26.745Z"
   },
   {
    "duration": 15,
    "start_time": "2022-07-23T19:02:27.344Z"
   },
   {
    "duration": 2380,
    "start_time": "2022-07-23T19:02:27.361Z"
   },
   {
    "duration": 540,
    "start_time": "2022-07-23T19:02:29.743Z"
   },
   {
    "duration": 1926,
    "start_time": "2022-07-24T03:04:52.976Z"
   },
   {
    "duration": 69,
    "start_time": "2022-07-24T03:04:54.904Z"
   },
   {
    "duration": 85,
    "start_time": "2022-07-24T03:04:54.974Z"
   },
   {
    "duration": 16,
    "start_time": "2022-07-24T03:04:55.061Z"
   },
   {
    "duration": 32,
    "start_time": "2022-07-24T03:04:55.079Z"
   },
   {
    "duration": 5,
    "start_time": "2022-07-24T03:04:55.113Z"
   },
   {
    "duration": 12,
    "start_time": "2022-07-24T03:04:55.119Z"
   },
   {
    "duration": 7,
    "start_time": "2022-07-24T03:04:55.133Z"
   },
   {
    "duration": 15,
    "start_time": "2022-07-24T03:04:55.141Z"
   },
   {
    "duration": 11,
    "start_time": "2022-07-24T03:04:55.159Z"
   },
   {
    "duration": 178,
    "start_time": "2022-07-24T03:04:55.172Z"
   },
   {
    "duration": 142,
    "start_time": "2022-07-24T03:04:55.352Z"
   },
   {
    "duration": 621,
    "start_time": "2022-07-24T03:04:55.495Z"
   },
   {
    "duration": 717,
    "start_time": "2022-07-24T03:04:56.118Z"
   },
   {
    "duration": 642,
    "start_time": "2022-07-24T03:04:56.836Z"
   },
   {
    "duration": 4,
    "start_time": "2022-07-24T03:04:57.480Z"
   },
   {
    "duration": 9,
    "start_time": "2022-07-24T03:04:57.485Z"
   },
   {
    "duration": 14,
    "start_time": "2022-07-24T03:04:57.496Z"
   },
   {
    "duration": 10,
    "start_time": "2022-07-24T03:04:57.512Z"
   },
   {
    "duration": 16,
    "start_time": "2022-07-24T03:04:57.523Z"
   },
   {
    "duration": 19,
    "start_time": "2022-07-24T03:04:57.541Z"
   },
   {
    "duration": 15,
    "start_time": "2022-07-24T03:04:57.562Z"
   },
   {
    "duration": 14,
    "start_time": "2022-07-24T03:04:57.579Z"
   },
   {
    "duration": 9,
    "start_time": "2022-07-24T03:04:57.594Z"
   },
   {
    "duration": 26,
    "start_time": "2022-07-24T03:04:57.605Z"
   },
   {
    "duration": 5,
    "start_time": "2022-07-24T03:04:57.633Z"
   },
   {
    "duration": 30,
    "start_time": "2022-07-24T03:04:57.640Z"
   },
   {
    "duration": 2,
    "start_time": "2022-07-24T03:04:57.674Z"
   },
   {
    "duration": 7,
    "start_time": "2022-07-24T03:04:57.678Z"
   },
   {
    "duration": 24,
    "start_time": "2022-07-24T03:04:57.687Z"
   },
   {
    "duration": 4,
    "start_time": "2022-07-24T03:04:57.712Z"
   },
   {
    "duration": 14,
    "start_time": "2022-07-24T03:04:57.717Z"
   },
   {
    "duration": 1778,
    "start_time": "2022-07-24T03:04:57.732Z"
   },
   {
    "duration": 4,
    "start_time": "2022-07-24T03:04:59.512Z"
   },
   {
    "duration": 571,
    "start_time": "2022-07-24T03:04:59.518Z"
   },
   {
    "duration": 8,
    "start_time": "2022-07-24T03:05:00.091Z"
   },
   {
    "duration": 1610,
    "start_time": "2022-07-24T03:05:00.110Z"
   },
   {
    "duration": 490,
    "start_time": "2022-07-24T03:05:01.722Z"
   },
   {
    "duration": 7,
    "start_time": "2022-07-24T03:05:02.215Z"
   },
   {
    "duration": 2187,
    "start_time": "2022-07-24T03:05:02.223Z"
   },
   {
    "duration": 491,
    "start_time": "2022-07-24T03:05:04.412Z"
   },
   {
    "duration": 13,
    "start_time": "2022-07-24T03:05:04.905Z"
   },
   {
    "duration": 2694,
    "start_time": "2022-07-24T03:05:04.920Z"
   },
   {
    "duration": 470,
    "start_time": "2022-07-24T03:05:07.616Z"
   },
   {
    "duration": 132,
    "start_time": "2022-07-24T03:10:13.601Z"
   },
   {
    "duration": 6,
    "start_time": "2022-07-24T03:10:16.120Z"
   },
   {
    "duration": 3411,
    "start_time": "2022-07-24T03:10:18.414Z"
   },
   {
    "duration": 4,
    "start_time": "2022-07-24T03:10:23.982Z"
   },
   {
    "duration": 459,
    "start_time": "2022-07-24T03:10:25.814Z"
   },
   {
    "duration": 453,
    "start_time": "2022-07-24T03:10:36.856Z"
   },
   {
    "duration": 445,
    "start_time": "2022-07-24T03:10:45.672Z"
   },
   {
    "duration": 4,
    "start_time": "2022-07-24T03:10:51.100Z"
   },
   {
    "duration": 554,
    "start_time": "2022-07-24T03:10:58.435Z"
   },
   {
    "duration": 3339,
    "start_time": "2022-07-24T03:11:04.973Z"
   },
   {
    "duration": 4,
    "start_time": "2022-07-24T03:11:15.871Z"
   },
   {
    "duration": 472,
    "start_time": "2022-07-24T03:11:16.910Z"
   },
   {
    "duration": 2657,
    "start_time": "2022-07-24T03:12:11.370Z"
   },
   {
    "duration": 462,
    "start_time": "2022-07-24T03:12:17.379Z"
   },
   {
    "duration": 3059,
    "start_time": "2022-07-24T03:17:45.555Z"
   },
   {
    "duration": 415,
    "start_time": "2022-07-24T03:17:52.364Z"
   },
   {
    "duration": 3022,
    "start_time": "2022-07-24T03:18:08.301Z"
   },
   {
    "duration": 569,
    "start_time": "2022-07-24T03:18:13.386Z"
   },
   {
    "duration": 2912,
    "start_time": "2022-07-24T03:18:22.910Z"
   },
   {
    "duration": 469,
    "start_time": "2022-07-24T03:18:27.840Z"
   },
   {
    "duration": 6,
    "start_time": "2022-07-24T03:19:41.151Z"
   },
   {
    "duration": 3014,
    "start_time": "2022-07-24T03:19:44.013Z"
   },
   {
    "duration": 463,
    "start_time": "2022-07-24T03:19:49.146Z"
   },
   {
    "duration": 139,
    "start_time": "2022-07-24T03:21:34.773Z"
   },
   {
    "duration": 18,
    "start_time": "2022-07-24T03:21:44.796Z"
   },
   {
    "duration": 7,
    "start_time": "2022-07-24T03:22:15.771Z"
   },
   {
    "duration": 2955,
    "start_time": "2022-07-24T03:22:19.666Z"
   },
   {
    "duration": 469,
    "start_time": "2022-07-24T03:22:23.836Z"
   },
   {
    "duration": 134,
    "start_time": "2022-07-24T03:22:51.704Z"
   },
   {
    "duration": 2739,
    "start_time": "2022-07-24T03:22:53.677Z"
   },
   {
    "duration": 450,
    "start_time": "2022-07-24T03:22:58.846Z"
   },
   {
    "duration": 2068,
    "start_time": "2022-07-24T08:58:40.604Z"
   },
   {
    "duration": 70,
    "start_time": "2022-07-24T08:58:42.674Z"
   },
   {
    "duration": 84,
    "start_time": "2022-07-24T08:58:42.746Z"
   },
   {
    "duration": 17,
    "start_time": "2022-07-24T08:58:42.833Z"
   },
   {
    "duration": 27,
    "start_time": "2022-07-24T08:58:42.853Z"
   },
   {
    "duration": 5,
    "start_time": "2022-07-24T08:58:42.882Z"
   },
   {
    "duration": 4,
    "start_time": "2022-07-24T08:58:42.923Z"
   },
   {
    "duration": 4,
    "start_time": "2022-07-24T08:58:44.023Z"
   },
   {
    "duration": 4,
    "start_time": "2022-07-24T08:58:46.414Z"
   },
   {
    "duration": 4,
    "start_time": "2022-07-24T08:58:46.836Z"
   },
   {
    "duration": 187,
    "start_time": "2022-07-24T08:58:47.388Z"
   },
   {
    "duration": 7,
    "start_time": "2022-07-24T09:00:02.775Z"
   },
   {
    "duration": 5,
    "start_time": "2022-07-24T09:00:25.913Z"
   },
   {
    "duration": 7,
    "start_time": "2022-07-24T09:00:33.232Z"
   },
   {
    "duration": 84,
    "start_time": "2022-07-24T09:02:08.861Z"
   },
   {
    "duration": 136,
    "start_time": "2022-07-24T09:02:12.117Z"
   },
   {
    "duration": 7,
    "start_time": "2022-07-24T09:02:15.656Z"
   },
   {
    "duration": 10,
    "start_time": "2022-07-24T09:03:12.711Z"
   },
   {
    "duration": 8,
    "start_time": "2022-07-24T09:03:28.447Z"
   },
   {
    "duration": 11,
    "start_time": "2022-07-24T09:04:35.314Z"
   },
   {
    "duration": 13,
    "start_time": "2022-07-24T09:05:23.131Z"
   },
   {
    "duration": 10,
    "start_time": "2022-07-24T09:05:40.908Z"
   },
   {
    "duration": 13,
    "start_time": "2022-07-24T09:05:49.767Z"
   },
   {
    "duration": 12,
    "start_time": "2022-07-24T09:05:51.993Z"
   },
   {
    "duration": 1428,
    "start_time": "2022-07-24T09:06:12.951Z"
   },
   {
    "duration": 1269,
    "start_time": "2022-07-24T09:06:38.931Z"
   },
   {
    "duration": 13,
    "start_time": "2022-07-24T09:06:47.826Z"
   },
   {
    "duration": 21,
    "start_time": "2022-07-24T09:08:25.461Z"
   },
   {
    "duration": 4,
    "start_time": "2022-07-24T09:09:59.300Z"
   },
   {
    "duration": 34,
    "start_time": "2022-07-24T09:10:04.541Z"
   },
   {
    "duration": 15,
    "start_time": "2022-07-24T09:10:11.085Z"
   },
   {
    "duration": 11,
    "start_time": "2022-07-24T09:10:23.348Z"
   },
   {
    "duration": 8,
    "start_time": "2022-07-24T09:11:33.740Z"
   },
   {
    "duration": 14,
    "start_time": "2022-07-24T09:12:02.909Z"
   },
   {
    "duration": 43,
    "start_time": "2022-07-24T09:12:23.762Z"
   },
   {
    "duration": 48,
    "start_time": "2022-07-24T09:13:16.301Z"
   },
   {
    "duration": 7,
    "start_time": "2022-07-24T09:13:39.792Z"
   },
   {
    "duration": 26,
    "start_time": "2022-07-24T09:13:55.850Z"
   },
   {
    "duration": 7,
    "start_time": "2022-07-24T09:14:20.275Z"
   },
   {
    "duration": 140,
    "start_time": "2022-07-24T09:14:28.368Z"
   },
   {
    "duration": 7,
    "start_time": "2022-07-24T09:15:42.876Z"
   },
   {
    "duration": 162,
    "start_time": "2022-07-24T09:15:48.344Z"
   },
   {
    "duration": 714,
    "start_time": "2022-07-24T09:15:48.625Z"
   },
   {
    "duration": 811,
    "start_time": "2022-07-24T09:15:49.341Z"
   },
   {
    "duration": 730,
    "start_time": "2022-07-24T09:15:50.155Z"
   },
   {
    "duration": 5,
    "start_time": "2022-07-24T09:15:50.888Z"
   },
   {
    "duration": 1832,
    "start_time": "2022-07-24T09:17:17.500Z"
   },
   {
    "duration": 30,
    "start_time": "2022-07-24T09:17:19.334Z"
   },
   {
    "duration": 87,
    "start_time": "2022-07-24T09:17:19.366Z"
   },
   {
    "duration": 13,
    "start_time": "2022-07-24T09:17:19.455Z"
   },
   {
    "duration": 50,
    "start_time": "2022-07-24T09:17:19.470Z"
   },
   {
    "duration": 5,
    "start_time": "2022-07-24T09:17:19.522Z"
   },
   {
    "duration": 9,
    "start_time": "2022-07-24T09:17:19.528Z"
   },
   {
    "duration": 8,
    "start_time": "2022-07-24T09:17:19.539Z"
   },
   {
    "duration": 3,
    "start_time": "2022-07-24T09:17:21.707Z"
   },
   {
    "duration": 3,
    "start_time": "2022-07-24T09:17:22.114Z"
   },
   {
    "duration": 173,
    "start_time": "2022-07-24T09:17:22.488Z"
   },
   {
    "duration": 9,
    "start_time": "2022-07-24T09:17:22.942Z"
   },
   {
    "duration": 10,
    "start_time": "2022-07-24T09:17:23.499Z"
   },
   {
    "duration": 123,
    "start_time": "2022-07-24T09:17:23.922Z"
   },
   {
    "duration": 131,
    "start_time": "2022-07-24T09:17:24.339Z"
   },
   {
    "duration": 680,
    "start_time": "2022-07-24T09:17:24.813Z"
   },
   {
    "duration": 747,
    "start_time": "2022-07-24T09:17:25.495Z"
   },
   {
    "duration": 705,
    "start_time": "2022-07-24T09:17:26.323Z"
   },
   {
    "duration": 3,
    "start_time": "2022-07-24T09:17:27.031Z"
   },
   {
    "duration": 7,
    "start_time": "2022-07-24T09:17:30.328Z"
   },
   {
    "duration": 4,
    "start_time": "2022-07-24T09:17:30.752Z"
   },
   {
    "duration": 3,
    "start_time": "2022-07-24T09:17:31.134Z"
   },
   {
    "duration": 10,
    "start_time": "2022-07-24T09:17:31.639Z"
   },
   {
    "duration": 18,
    "start_time": "2022-07-24T09:17:32.031Z"
   },
   {
    "duration": 5,
    "start_time": "2022-07-24T09:17:32.624Z"
   },
   {
    "duration": 7,
    "start_time": "2022-07-24T09:17:33.120Z"
   },
   {
    "duration": 4,
    "start_time": "2022-07-24T09:17:33.475Z"
   },
   {
    "duration": 32,
    "start_time": "2022-07-24T09:17:33.901Z"
   },
   {
    "duration": 4,
    "start_time": "2022-07-24T09:17:34.305Z"
   },
   {
    "duration": 27,
    "start_time": "2022-07-24T09:17:34.793Z"
   },
   {
    "duration": 3,
    "start_time": "2022-07-24T09:17:35.141Z"
   },
   {
    "duration": 5,
    "start_time": "2022-07-24T09:17:35.751Z"
   },
   {
    "duration": 5,
    "start_time": "2022-07-24T09:17:36.094Z"
   },
   {
    "duration": 5,
    "start_time": "2022-07-24T09:17:36.462Z"
   },
   {
    "duration": 8,
    "start_time": "2022-07-24T09:18:11.250Z"
   },
   {
    "duration": 155,
    "start_time": "2022-07-24T09:18:13.626Z"
   },
   {
    "duration": 8,
    "start_time": "2022-07-24T09:18:33.830Z"
   },
   {
    "duration": 2187,
    "start_time": "2022-07-24T09:18:34.939Z"
   },
   {
    "duration": 3896,
    "start_time": "2022-07-24T09:19:27.524Z"
   },
   {
    "duration": 4258,
    "start_time": "2022-07-24T09:19:56.355Z"
   },
   {
    "duration": 4469,
    "start_time": "2022-07-24T09:20:50.245Z"
   },
   {
    "duration": 8,
    "start_time": "2022-07-24T09:21:12.484Z"
   },
   {
    "duration": 4956,
    "start_time": "2022-07-24T09:21:13.966Z"
   },
   {
    "duration": 9,
    "start_time": "2022-07-24T09:21:29.558Z"
   },
   {
    "duration": 5214,
    "start_time": "2022-07-24T09:21:30.197Z"
   },
   {
    "duration": 10,
    "start_time": "2022-07-24T09:22:00.778Z"
   },
   {
    "duration": 4957,
    "start_time": "2022-07-24T09:22:01.449Z"
   },
   {
    "duration": 5020,
    "start_time": "2022-07-24T09:22:18.599Z"
   },
   {
    "duration": 5178,
    "start_time": "2022-07-24T09:22:28.840Z"
   },
   {
    "duration": 7,
    "start_time": "2022-07-24T09:22:52.581Z"
   },
   {
    "duration": 4110,
    "start_time": "2022-07-24T09:22:53.595Z"
   },
   {
    "duration": 1424,
    "start_time": "2022-07-24T09:23:10.892Z"
   },
   {
    "duration": 2607,
    "start_time": "2022-07-24T09:23:26.507Z"
   },
   {
    "duration": 2865,
    "start_time": "2022-07-24T09:24:16.347Z"
   },
   {
    "duration": 6,
    "start_time": "2022-07-24T09:24:23.226Z"
   },
   {
    "duration": 562,
    "start_time": "2022-07-24T09:24:23.565Z"
   },
   {
    "duration": 5,
    "start_time": "2022-07-24T09:24:43.435Z"
   },
   {
    "duration": 7,
    "start_time": "2022-07-24T09:25:13.335Z"
   },
   {
    "duration": 2354,
    "start_time": "2022-07-24T09:25:15.958Z"
   },
   {
    "duration": 453,
    "start_time": "2022-07-24T09:25:20.223Z"
   },
   {
    "duration": 2995,
    "start_time": "2022-07-24T09:25:50.516Z"
   },
   {
    "duration": 7,
    "start_time": "2022-07-24T09:25:54.212Z"
   },
   {
    "duration": 3101,
    "start_time": "2022-07-24T09:25:54.814Z"
   },
   {
    "duration": 486,
    "start_time": "2022-07-24T09:25:59.650Z"
   },
   {
    "duration": 7,
    "start_time": "2022-07-24T09:30:34.637Z"
   },
   {
    "duration": 3289,
    "start_time": "2022-07-24T09:30:35.734Z"
   },
   {
    "duration": 586,
    "start_time": "2022-07-24T09:30:41.480Z"
   },
   {
    "duration": 6,
    "start_time": "2022-07-24T09:31:08.649Z"
   },
   {
    "duration": 4472,
    "start_time": "2022-07-24T09:31:09.344Z"
   },
   {
    "duration": 528,
    "start_time": "2022-07-24T09:31:13.818Z"
   },
   {
    "duration": 6,
    "start_time": "2022-07-24T09:31:29.367Z"
   },
   {
    "duration": 8266,
    "start_time": "2022-07-24T09:31:29.938Z"
   },
   {
    "duration": 8,
    "start_time": "2022-07-24T09:32:55.120Z"
   },
   {
    "duration": 8577,
    "start_time": "2022-07-24T09:32:57.645Z"
   },
   {
    "duration": 490,
    "start_time": "2022-07-24T09:33:10.198Z"
   },
   {
    "duration": 8,
    "start_time": "2022-07-24T09:33:28.801Z"
   },
   {
    "duration": 18607,
    "start_time": "2022-07-24T09:33:29.203Z"
   },
   {
    "duration": 672,
    "start_time": "2022-07-24T09:33:47.812Z"
   },
   {
    "duration": 10,
    "start_time": "2022-07-24T09:36:12.956Z"
   },
   {
    "duration": 4934,
    "start_time": "2022-07-24T09:36:13.278Z"
   },
   {
    "duration": 536,
    "start_time": "2022-07-24T09:36:18.215Z"
   },
   {
    "duration": 11,
    "start_time": "2022-07-24T09:36:31.195Z"
   },
   {
    "duration": 5462,
    "start_time": "2022-07-24T09:36:31.566Z"
   },
   {
    "duration": 512,
    "start_time": "2022-07-24T09:36:37.103Z"
   },
   {
    "duration": 9,
    "start_time": "2022-07-24T09:36:45.947Z"
   },
   {
    "duration": 5771,
    "start_time": "2022-07-24T09:36:46.253Z"
   },
   {
    "duration": 611,
    "start_time": "2022-07-24T09:36:52.026Z"
   },
   {
    "duration": 8,
    "start_time": "2022-07-24T09:39:58.709Z"
   },
   {
    "duration": 4128,
    "start_time": "2022-07-24T09:39:59.088Z"
   },
   {
    "duration": 715,
    "start_time": "2022-07-24T09:40:03.219Z"
   },
   {
    "duration": 10,
    "start_time": "2022-07-24T09:40:16.517Z"
   },
   {
    "duration": 3148,
    "start_time": "2022-07-24T09:40:16.766Z"
   },
   {
    "duration": 603,
    "start_time": "2022-07-24T09:40:19.917Z"
   },
   {
    "duration": 10,
    "start_time": "2022-07-24T09:40:50.849Z"
   },
   {
    "duration": 2520,
    "start_time": "2022-07-24T09:40:51.201Z"
   },
   {
    "duration": 719,
    "start_time": "2022-07-24T09:40:56.263Z"
   },
   {
    "duration": 11,
    "start_time": "2022-07-24T09:41:08.298Z"
   },
   {
    "duration": 3885,
    "start_time": "2022-07-24T09:41:08.622Z"
   },
   {
    "duration": 776,
    "start_time": "2022-07-24T09:41:12.510Z"
   },
   {
    "duration": 10,
    "start_time": "2022-07-24T09:41:40.995Z"
   },
   {
    "duration": 3216,
    "start_time": "2022-07-24T09:41:42.201Z"
   },
   {
    "duration": 1023,
    "start_time": "2022-07-24T09:41:45.420Z"
   },
   {
    "duration": 11,
    "start_time": "2022-07-24T09:41:51.129Z"
   },
   {
    "duration": 3422,
    "start_time": "2022-07-24T09:41:51.593Z"
   },
   {
    "duration": 575,
    "start_time": "2022-07-24T09:41:55.017Z"
   },
   {
    "duration": 7,
    "start_time": "2022-07-24T09:42:51.383Z"
   },
   {
    "duration": 21,
    "start_time": "2022-07-24T09:42:53.022Z"
   },
   {
    "duration": 9,
    "start_time": "2022-07-24T09:43:05.193Z"
   },
   {
    "duration": 20,
    "start_time": "2022-07-24T09:43:05.585Z"
   },
   {
    "duration": 7,
    "start_time": "2022-07-24T09:43:13.314Z"
   },
   {
    "duration": 1727,
    "start_time": "2022-07-24T09:43:13.888Z"
   },
   {
    "duration": 474,
    "start_time": "2022-07-24T09:43:17.462Z"
   },
   {
    "duration": 9,
    "start_time": "2022-07-24T09:44:43.646Z"
   },
   {
    "duration": 2311,
    "start_time": "2022-07-24T09:44:45.393Z"
   },
   {
    "duration": 778,
    "start_time": "2022-07-24T09:44:47.707Z"
   },
   {
    "duration": 8,
    "start_time": "2022-07-24T09:45:02.010Z"
   },
   {
    "duration": 1502,
    "start_time": "2022-07-24T09:45:02.805Z"
   },
   {
    "duration": 541,
    "start_time": "2022-07-24T09:45:04.309Z"
   },
   {
    "duration": 2087,
    "start_time": "2022-07-24T09:49:10.383Z"
   },
   {
    "duration": 31,
    "start_time": "2022-07-24T09:49:12.472Z"
   },
   {
    "duration": 101,
    "start_time": "2022-07-24T09:49:12.505Z"
   },
   {
    "duration": 12,
    "start_time": "2022-07-24T09:49:12.609Z"
   },
   {
    "duration": 29,
    "start_time": "2022-07-24T09:49:12.623Z"
   },
   {
    "duration": 6,
    "start_time": "2022-07-24T09:49:12.655Z"
   },
   {
    "duration": 8,
    "start_time": "2022-07-24T09:49:12.663Z"
   },
   {
    "duration": 31,
    "start_time": "2022-07-24T09:49:12.673Z"
   },
   {
    "duration": 4,
    "start_time": "2022-07-24T09:49:12.706Z"
   },
   {
    "duration": 4,
    "start_time": "2022-07-24T09:49:12.714Z"
   },
   {
    "duration": 203,
    "start_time": "2022-07-24T09:49:12.720Z"
   },
   {
    "duration": 12,
    "start_time": "2022-07-24T09:49:12.924Z"
   },
   {
    "duration": 9,
    "start_time": "2022-07-24T09:49:12.939Z"
   },
   {
    "duration": 158,
    "start_time": "2022-07-24T09:49:12.950Z"
   },
   {
    "duration": 148,
    "start_time": "2022-07-24T09:49:13.110Z"
   },
   {
    "duration": 710,
    "start_time": "2022-07-24T09:49:13.260Z"
   },
   {
    "duration": 810,
    "start_time": "2022-07-24T09:49:13.972Z"
   },
   {
    "duration": 718,
    "start_time": "2022-07-24T09:49:14.784Z"
   },
   {
    "duration": 4,
    "start_time": "2022-07-24T09:49:15.505Z"
   },
   {
    "duration": 9,
    "start_time": "2022-07-24T09:49:15.512Z"
   },
   {
    "duration": 4,
    "start_time": "2022-07-24T09:49:15.523Z"
   },
   {
    "duration": 9,
    "start_time": "2022-07-24T09:49:15.529Z"
   },
   {
    "duration": 12,
    "start_time": "2022-07-24T09:49:15.541Z"
   },
   {
    "duration": 51,
    "start_time": "2022-07-24T09:49:15.555Z"
   },
   {
    "duration": 7,
    "start_time": "2022-07-24T09:49:15.608Z"
   },
   {
    "duration": 12,
    "start_time": "2022-07-24T09:49:15.618Z"
   },
   {
    "duration": 5,
    "start_time": "2022-07-24T09:49:15.633Z"
   },
   {
    "duration": 26,
    "start_time": "2022-07-24T09:49:15.642Z"
   },
   {
    "duration": 34,
    "start_time": "2022-07-24T09:49:15.670Z"
   },
   {
    "duration": 35,
    "start_time": "2022-07-24T09:49:15.706Z"
   },
   {
    "duration": 3,
    "start_time": "2022-07-24T09:49:15.743Z"
   },
   {
    "duration": 10,
    "start_time": "2022-07-24T09:49:15.748Z"
   },
   {
    "duration": 9,
    "start_time": "2022-07-24T09:49:15.759Z"
   },
   {
    "duration": 6,
    "start_time": "2022-07-24T09:49:15.770Z"
   },
   {
    "duration": 30,
    "start_time": "2022-07-24T09:49:15.778Z"
   },
   {
    "duration": 11,
    "start_time": "2022-07-24T09:49:15.810Z"
   },
   {
    "duration": 2597,
    "start_time": "2022-07-24T09:49:15.824Z"
   },
   {
    "duration": 560,
    "start_time": "2022-07-24T09:49:18.423Z"
   },
   {
    "duration": 185,
    "start_time": "2022-07-24T09:49:18.985Z"
   },
   {
    "duration": 2538,
    "start_time": "2022-07-24T09:49:19.171Z"
   },
   {
    "duration": 538,
    "start_time": "2022-07-24T09:49:21.711Z"
   },
   {
    "duration": 8,
    "start_time": "2022-07-24T09:49:22.251Z"
   },
   {
    "duration": 1751,
    "start_time": "2022-07-24T09:49:22.261Z"
   },
   {
    "duration": 531,
    "start_time": "2022-07-24T09:49:24.014Z"
   },
   {
    "duration": 12,
    "start_time": "2022-07-24T09:49:24.547Z"
   },
   {
    "duration": 164,
    "start_time": "2022-07-24T09:49:24.562Z"
   },
   {
    "duration": 0,
    "start_time": "2022-07-24T09:49:24.728Z"
   },
   {
    "duration": 7,
    "start_time": "2022-07-24T09:51:25.358Z"
   },
   {
    "duration": 1073,
    "start_time": "2022-07-24T09:51:26.141Z"
   },
   {
    "duration": 490,
    "start_time": "2022-07-24T09:51:28.049Z"
   },
   {
    "duration": 11,
    "start_time": "2022-07-24T09:52:14.958Z"
   },
   {
    "duration": 1372,
    "start_time": "2022-07-24T09:52:15.250Z"
   },
   {
    "duration": 613,
    "start_time": "2022-07-24T09:52:17.494Z"
   },
   {
    "duration": 8,
    "start_time": "2022-07-24T09:52:40.388Z"
   },
   {
    "duration": 3317,
    "start_time": "2022-07-24T09:52:49.397Z"
   },
   {
    "duration": 521,
    "start_time": "2022-07-24T09:52:54.186Z"
   },
   {
    "duration": 9,
    "start_time": "2022-07-24T09:53:22.103Z"
   },
   {
    "duration": 3453,
    "start_time": "2022-07-24T09:53:22.660Z"
   },
   {
    "duration": 494,
    "start_time": "2022-07-24T09:53:27.174Z"
   },
   {
    "duration": 8,
    "start_time": "2022-07-24T09:53:32.438Z"
   },
   {
    "duration": 2465,
    "start_time": "2022-07-24T09:53:35.057Z"
   },
   {
    "duration": 588,
    "start_time": "2022-07-24T09:53:37.525Z"
   },
   {
    "duration": 3285,
    "start_time": "2022-07-24T09:53:58.130Z"
   },
   {
    "duration": 677,
    "start_time": "2022-07-24T09:54:01.417Z"
   },
   {
    "duration": 8,
    "start_time": "2022-07-24T09:54:46.737Z"
   },
   {
    "duration": 2971,
    "start_time": "2022-07-24T09:54:48.754Z"
   },
   {
    "duration": 518,
    "start_time": "2022-07-24T09:54:53.217Z"
   },
   {
    "duration": 9,
    "start_time": "2022-07-24T09:55:13.973Z"
   },
   {
    "duration": 4171,
    "start_time": "2022-07-24T09:55:14.643Z"
   },
   {
    "duration": 658,
    "start_time": "2022-07-24T09:55:20.362Z"
   },
   {
    "duration": 3130,
    "start_time": "2022-07-24T09:55:25.878Z"
   },
   {
    "duration": 8,
    "start_time": "2022-07-24T09:55:29.010Z"
   },
   {
    "duration": 3573,
    "start_time": "2022-07-24T09:55:29.258Z"
   },
   {
    "duration": 591,
    "start_time": "2022-07-24T09:55:32.833Z"
   },
   {
    "duration": 8,
    "start_time": "2022-07-24T09:55:56.489Z"
   },
   {
    "duration": 2070,
    "start_time": "2022-07-24T09:55:56.847Z"
   },
   {
    "duration": 726,
    "start_time": "2022-07-24T09:55:58.919Z"
   },
   {
    "duration": 9,
    "start_time": "2022-07-24T09:56:12.186Z"
   },
   {
    "duration": 2319,
    "start_time": "2022-07-24T09:56:12.488Z"
   },
   {
    "duration": 545,
    "start_time": "2022-07-24T09:56:14.809Z"
   },
   {
    "duration": 6,
    "start_time": "2022-07-24T09:56:24.458Z"
   },
   {
    "duration": 2372,
    "start_time": "2022-07-24T09:56:24.756Z"
   },
   {
    "duration": 562,
    "start_time": "2022-07-24T09:56:27.130Z"
   },
   {
    "duration": 7,
    "start_time": "2022-07-24T09:56:36.945Z"
   },
   {
    "duration": 1971,
    "start_time": "2022-07-24T09:56:37.250Z"
   },
   {
    "duration": 672,
    "start_time": "2022-07-24T09:56:39.223Z"
   },
   {
    "duration": 7,
    "start_time": "2022-07-24T09:58:35.678Z"
   },
   {
    "duration": 7,
    "start_time": "2022-07-24T09:59:17.493Z"
   },
   {
    "duration": 2084,
    "start_time": "2022-07-24T09:59:17.840Z"
   },
   {
    "duration": 557,
    "start_time": "2022-07-24T09:59:19.926Z"
   },
   {
    "duration": 8,
    "start_time": "2022-07-24T09:59:40.440Z"
   },
   {
    "duration": 2335,
    "start_time": "2022-07-24T09:59:40.689Z"
   },
   {
    "duration": 435,
    "start_time": "2022-07-24T09:59:44.638Z"
   },
   {
    "duration": 7,
    "start_time": "2022-07-24T09:59:59.667Z"
   },
   {
    "duration": 2262,
    "start_time": "2022-07-24T09:59:59.942Z"
   },
   {
    "duration": 476,
    "start_time": "2022-07-24T10:00:02.206Z"
   },
   {
    "duration": 1297,
    "start_time": "2022-07-24T10:07:23.226Z"
   },
   {
    "duration": 688,
    "start_time": "2022-07-24T10:07:35.854Z"
   },
   {
    "duration": 7,
    "start_time": "2022-07-24T10:07:46.620Z"
   },
   {
    "duration": 1415,
    "start_time": "2022-07-24T10:07:51.003Z"
   },
   {
    "duration": 494,
    "start_time": "2022-07-24T10:07:54.741Z"
   },
   {
    "duration": 13,
    "start_time": "2022-07-24T10:09:02.566Z"
   },
   {
    "duration": 1294,
    "start_time": "2022-07-24T10:09:05.326Z"
   },
   {
    "duration": 484,
    "start_time": "2022-07-24T10:09:07.649Z"
   },
   {
    "duration": 9,
    "start_time": "2022-07-24T10:09:21.011Z"
   },
   {
    "duration": 1156,
    "start_time": "2022-07-24T10:09:21.473Z"
   },
   {
    "duration": 507,
    "start_time": "2022-07-24T10:09:22.705Z"
   },
   {
    "duration": 10,
    "start_time": "2022-07-24T10:09:29.079Z"
   },
   {
    "duration": 1361,
    "start_time": "2022-07-24T10:09:29.357Z"
   },
   {
    "duration": 774,
    "start_time": "2022-07-24T10:09:30.721Z"
   },
   {
    "duration": 9,
    "start_time": "2022-07-24T10:09:58.073Z"
   },
   {
    "duration": 14,
    "start_time": "2022-07-24T10:09:58.668Z"
   },
   {
    "duration": 1704,
    "start_time": "2022-07-24T10:10:53.815Z"
   },
   {
    "duration": 450,
    "start_time": "2022-07-24T10:10:56.921Z"
   },
   {
    "duration": 7,
    "start_time": "2022-07-24T10:11:08.406Z"
   },
   {
    "duration": 1575,
    "start_time": "2022-07-24T10:11:08.653Z"
   },
   {
    "duration": 514,
    "start_time": "2022-07-24T10:11:10.230Z"
   },
   {
    "duration": 7,
    "start_time": "2022-07-24T10:11:20.051Z"
   },
   {
    "duration": 2053,
    "start_time": "2022-07-24T10:11:20.354Z"
   },
   {
    "duration": 645,
    "start_time": "2022-07-24T10:11:22.409Z"
   },
   {
    "duration": 1947,
    "start_time": "2022-07-24T10:11:48.498Z"
   },
   {
    "duration": 30,
    "start_time": "2022-07-24T10:11:50.447Z"
   },
   {
    "duration": 97,
    "start_time": "2022-07-24T10:11:50.479Z"
   },
   {
    "duration": 26,
    "start_time": "2022-07-24T10:11:50.578Z"
   },
   {
    "duration": 27,
    "start_time": "2022-07-24T10:11:50.606Z"
   },
   {
    "duration": 6,
    "start_time": "2022-07-24T10:11:50.635Z"
   },
   {
    "duration": 7,
    "start_time": "2022-07-24T10:11:50.642Z"
   },
   {
    "duration": 10,
    "start_time": "2022-07-24T10:11:50.650Z"
   },
   {
    "duration": 7,
    "start_time": "2022-07-24T10:11:50.662Z"
   },
   {
    "duration": 31,
    "start_time": "2022-07-24T10:11:50.673Z"
   },
   {
    "duration": 199,
    "start_time": "2022-07-24T10:11:50.706Z"
   },
   {
    "duration": 10,
    "start_time": "2022-07-24T10:11:50.907Z"
   },
   {
    "duration": 11,
    "start_time": "2022-07-24T10:11:50.919Z"
   },
   {
    "duration": 157,
    "start_time": "2022-07-24T10:11:50.932Z"
   },
   {
    "duration": 167,
    "start_time": "2022-07-24T10:11:51.090Z"
   },
   {
    "duration": 690,
    "start_time": "2022-07-24T10:11:51.260Z"
   },
   {
    "duration": 819,
    "start_time": "2022-07-24T10:11:51.951Z"
   },
   {
    "duration": 708,
    "start_time": "2022-07-24T10:11:52.772Z"
   },
   {
    "duration": 4,
    "start_time": "2022-07-24T10:11:53.482Z"
   },
   {
    "duration": 18,
    "start_time": "2022-07-24T10:11:53.487Z"
   },
   {
    "duration": 7,
    "start_time": "2022-07-24T10:11:53.507Z"
   },
   {
    "duration": 10,
    "start_time": "2022-07-24T10:11:53.516Z"
   },
   {
    "duration": 11,
    "start_time": "2022-07-24T10:11:53.528Z"
   },
   {
    "duration": 17,
    "start_time": "2022-07-24T10:11:53.541Z"
   },
   {
    "duration": 4,
    "start_time": "2022-07-24T10:11:53.559Z"
   },
   {
    "duration": 10,
    "start_time": "2022-07-24T10:11:53.564Z"
   },
   {
    "duration": 6,
    "start_time": "2022-07-24T10:11:53.576Z"
   },
   {
    "duration": 32,
    "start_time": "2022-07-24T10:11:53.608Z"
   },
   {
    "duration": 6,
    "start_time": "2022-07-24T10:11:53.641Z"
   },
   {
    "duration": 27,
    "start_time": "2022-07-24T10:11:53.648Z"
   },
   {
    "duration": 6,
    "start_time": "2022-07-24T10:11:53.676Z"
   },
   {
    "duration": 5,
    "start_time": "2022-07-24T10:11:53.704Z"
   },
   {
    "duration": 8,
    "start_time": "2022-07-24T10:11:53.710Z"
   },
   {
    "duration": 8,
    "start_time": "2022-07-24T10:11:53.720Z"
   },
   {
    "duration": 6,
    "start_time": "2022-07-24T10:11:53.729Z"
   },
   {
    "duration": 10,
    "start_time": "2022-07-24T10:11:53.736Z"
   },
   {
    "duration": 2074,
    "start_time": "2022-07-24T10:11:53.748Z"
   },
   {
    "duration": 539,
    "start_time": "2022-07-24T10:11:55.824Z"
   },
   {
    "duration": 184,
    "start_time": "2022-07-24T10:11:56.365Z"
   },
   {
    "duration": 2355,
    "start_time": "2022-07-24T10:11:56.552Z"
   },
   {
    "duration": 525,
    "start_time": "2022-07-24T10:11:58.909Z"
   },
   {
    "duration": 7,
    "start_time": "2022-07-24T10:11:59.436Z"
   },
   {
    "duration": 1563,
    "start_time": "2022-07-24T10:11:59.445Z"
   },
   {
    "duration": 517,
    "start_time": "2022-07-24T10:12:01.010Z"
   },
   {
    "duration": 7,
    "start_time": "2022-07-24T10:12:01.529Z"
   },
   {
    "duration": 2084,
    "start_time": "2022-07-24T10:12:01.538Z"
   },
   {
    "duration": 572,
    "start_time": "2022-07-24T10:12:03.624Z"
   },
   {
    "duration": 13,
    "start_time": "2022-07-24T10:12:04.198Z"
   },
   {
    "duration": 2294,
    "start_time": "2022-07-24T10:12:04.213Z"
   },
   {
    "duration": 696,
    "start_time": "2022-07-24T10:12:06.509Z"
   },
   {
    "duration": 142,
    "start_time": "2022-07-24T10:12:07.206Z"
   },
   {
    "duration": 1,
    "start_time": "2022-07-24T10:12:07.349Z"
   },
   {
    "duration": 0,
    "start_time": "2022-07-24T10:12:07.351Z"
   },
   {
    "duration": 0,
    "start_time": "2022-07-24T10:12:07.351Z"
   },
   {
    "duration": 0,
    "start_time": "2022-07-24T10:12:07.352Z"
   },
   {
    "duration": 0,
    "start_time": "2022-07-24T10:12:07.353Z"
   },
   {
    "duration": 0,
    "start_time": "2022-07-24T10:12:07.354Z"
   },
   {
    "duration": 2,
    "start_time": "2022-07-24T10:14:03.224Z"
   },
   {
    "duration": 7,
    "start_time": "2022-07-24T10:14:03.986Z"
   },
   {
    "duration": 1320,
    "start_time": "2022-07-24T10:14:04.791Z"
   },
   {
    "duration": 576,
    "start_time": "2022-07-24T10:14:06.114Z"
   },
   {
    "duration": 12,
    "start_time": "2022-07-24T10:14:06.694Z"
   },
   {
    "duration": 1893,
    "start_time": "2022-07-24T10:14:10.311Z"
   },
   {
    "duration": 498,
    "start_time": "2022-07-24T10:14:12.206Z"
   },
   {
    "duration": 8,
    "start_time": "2022-07-24T10:16:56.087Z"
   },
   {
    "duration": 1898,
    "start_time": "2022-07-24T10:16:56.508Z"
   },
   {
    "duration": 496,
    "start_time": "2022-07-24T10:16:58.408Z"
   },
   {
    "duration": 11,
    "start_time": "2022-07-24T10:17:05.351Z"
   },
   {
    "duration": 2463,
    "start_time": "2022-07-24T10:17:05.751Z"
   },
   {
    "duration": 7,
    "start_time": "2022-07-24T10:17:25.536Z"
   },
   {
    "duration": 1827,
    "start_time": "2022-07-24T10:17:26.200Z"
   },
   {
    "duration": 638,
    "start_time": "2022-07-24T10:17:28.103Z"
   },
   {
    "duration": 8,
    "start_time": "2022-07-24T10:17:48.360Z"
   },
   {
    "duration": 1435,
    "start_time": "2022-07-24T10:17:48.776Z"
   },
   {
    "duration": 507,
    "start_time": "2022-07-24T10:17:50.214Z"
   },
   {
    "duration": 7,
    "start_time": "2022-07-24T10:17:52.550Z"
   },
   {
    "duration": 1922,
    "start_time": "2022-07-24T10:17:52.990Z"
   },
   {
    "duration": 526,
    "start_time": "2022-07-24T10:17:54.914Z"
   },
   {
    "duration": 10,
    "start_time": "2022-07-24T10:22:00.612Z"
   },
   {
    "duration": 2111,
    "start_time": "2022-07-24T10:22:01.494Z"
   },
   {
    "duration": 475,
    "start_time": "2022-07-24T10:22:14.824Z"
   },
   {
    "duration": 6,
    "start_time": "2022-07-24T10:23:59.761Z"
   },
   {
    "duration": 2142,
    "start_time": "2022-07-24T10:24:00.162Z"
   },
   {
    "duration": 598,
    "start_time": "2022-07-24T10:24:03.406Z"
   },
   {
    "duration": 8,
    "start_time": "2022-07-24T10:25:42.819Z"
   },
   {
    "duration": 1699,
    "start_time": "2022-07-24T10:25:43.110Z"
   },
   {
    "duration": 478,
    "start_time": "2022-07-24T10:25:44.811Z"
   },
   {
    "duration": 7,
    "start_time": "2022-07-24T10:26:26.181Z"
   },
   {
    "duration": 1673,
    "start_time": "2022-07-24T10:26:26.547Z"
   },
   {
    "duration": 503,
    "start_time": "2022-07-24T10:26:28.222Z"
   },
   {
    "duration": 8,
    "start_time": "2022-07-24T10:26:51.506Z"
   },
   {
    "duration": 1640,
    "start_time": "2022-07-24T10:26:51.781Z"
   },
   {
    "duration": 632,
    "start_time": "2022-07-24T10:26:53.423Z"
   },
   {
    "duration": 2257,
    "start_time": "2022-07-24T12:41:46.462Z"
   },
   {
    "duration": 28,
    "start_time": "2022-07-24T12:41:48.721Z"
   },
   {
    "duration": 94,
    "start_time": "2022-07-24T12:41:48.751Z"
   },
   {
    "duration": 12,
    "start_time": "2022-07-24T12:41:48.847Z"
   },
   {
    "duration": 47,
    "start_time": "2022-07-24T12:41:48.861Z"
   },
   {
    "duration": 4,
    "start_time": "2022-07-24T12:41:48.910Z"
   },
   {
    "duration": 8,
    "start_time": "2022-07-24T12:41:48.916Z"
   },
   {
    "duration": 8,
    "start_time": "2022-07-24T12:41:48.925Z"
   },
   {
    "duration": 6,
    "start_time": "2022-07-24T12:41:48.934Z"
   },
   {
    "duration": 5,
    "start_time": "2022-07-24T12:41:48.943Z"
   },
   {
    "duration": 201,
    "start_time": "2022-07-24T12:41:48.949Z"
   },
   {
    "duration": 10,
    "start_time": "2022-07-24T12:41:49.152Z"
   },
   {
    "duration": 7,
    "start_time": "2022-07-24T12:41:49.163Z"
   },
   {
    "duration": 153,
    "start_time": "2022-07-24T12:41:49.172Z"
   },
   {
    "duration": 149,
    "start_time": "2022-07-24T12:41:49.326Z"
   },
   {
    "duration": 681,
    "start_time": "2022-07-24T12:41:49.477Z"
   },
   {
    "duration": 810,
    "start_time": "2022-07-24T12:41:50.161Z"
   },
   {
    "duration": 678,
    "start_time": "2022-07-24T12:41:50.972Z"
   },
   {
    "duration": 4,
    "start_time": "2022-07-24T12:41:51.652Z"
   },
   {
    "duration": 11,
    "start_time": "2022-07-24T12:41:51.657Z"
   },
   {
    "duration": 7,
    "start_time": "2022-07-24T12:41:51.670Z"
   },
   {
    "duration": 5,
    "start_time": "2022-07-24T12:41:51.679Z"
   },
   {
    "duration": 23,
    "start_time": "2022-07-24T12:41:51.685Z"
   },
   {
    "duration": 15,
    "start_time": "2022-07-24T12:41:51.710Z"
   },
   {
    "duration": 7,
    "start_time": "2022-07-24T12:41:51.727Z"
   },
   {
    "duration": 9,
    "start_time": "2022-07-24T12:41:51.736Z"
   },
   {
    "duration": 6,
    "start_time": "2022-07-24T12:41:51.746Z"
   },
   {
    "duration": 24,
    "start_time": "2022-07-24T12:41:51.756Z"
   },
   {
    "duration": 25,
    "start_time": "2022-07-24T12:41:51.781Z"
   },
   {
    "duration": 28,
    "start_time": "2022-07-24T12:41:51.808Z"
   },
   {
    "duration": 4,
    "start_time": "2022-07-24T12:41:51.838Z"
   },
   {
    "duration": 6,
    "start_time": "2022-07-24T12:41:51.844Z"
   },
   {
    "duration": 6,
    "start_time": "2022-07-24T12:41:51.852Z"
   },
   {
    "duration": 65,
    "start_time": "2022-07-24T12:41:51.860Z"
   },
   {
    "duration": 5,
    "start_time": "2022-07-24T12:41:51.926Z"
   },
   {
    "duration": 49,
    "start_time": "2022-07-24T12:41:51.933Z"
   },
   {
    "duration": 2220,
    "start_time": "2022-07-24T12:41:51.984Z"
   },
   {
    "duration": 479,
    "start_time": "2022-07-24T12:41:54.206Z"
   },
   {
    "duration": 150,
    "start_time": "2022-07-24T12:41:54.687Z"
   },
   {
    "duration": 2187,
    "start_time": "2022-07-24T12:41:54.838Z"
   },
   {
    "duration": 560,
    "start_time": "2022-07-24T12:41:57.026Z"
   },
   {
    "duration": 7,
    "start_time": "2022-07-24T12:41:57.587Z"
   },
   {
    "duration": 1332,
    "start_time": "2022-07-24T12:41:57.595Z"
   },
   {
    "duration": 536,
    "start_time": "2022-07-24T12:41:58.929Z"
   },
   {
    "duration": 8,
    "start_time": "2022-07-24T12:41:59.466Z"
   },
   {
    "duration": 1950,
    "start_time": "2022-07-24T12:41:59.475Z"
   },
   {
    "duration": 553,
    "start_time": "2022-07-24T12:42:01.427Z"
   },
   {
    "duration": 7,
    "start_time": "2022-07-24T12:42:01.982Z"
   },
   {
    "duration": 2331,
    "start_time": "2022-07-24T12:42:01.991Z"
   },
   {
    "duration": 662,
    "start_time": "2022-07-24T12:42:04.324Z"
   },
   {
    "duration": 2,
    "start_time": "2022-07-24T12:42:04.988Z"
   },
   {
    "duration": 36,
    "start_time": "2022-07-24T12:42:04.991Z"
   },
   {
    "duration": 1291,
    "start_time": "2022-07-24T12:42:05.029Z"
   },
   {
    "duration": 585,
    "start_time": "2022-07-24T12:42:06.322Z"
   },
   {
    "duration": 6,
    "start_time": "2022-07-24T12:42:06.909Z"
   },
   {
    "duration": 1599,
    "start_time": "2022-07-24T12:42:06.916Z"
   },
   {
    "duration": 526,
    "start_time": "2022-07-24T12:42:08.517Z"
   },
   {
    "duration": 7,
    "start_time": "2022-07-24T12:42:09.044Z"
   },
   {
    "duration": 1471,
    "start_time": "2022-07-24T12:42:09.053Z"
   },
   {
    "duration": 524,
    "start_time": "2022-07-24T12:42:10.526Z"
   },
   {
    "duration": 6,
    "start_time": "2022-07-24T12:42:11.052Z"
   },
   {
    "duration": 1948,
    "start_time": "2022-07-24T12:42:11.059Z"
   },
   {
    "duration": 640,
    "start_time": "2022-07-24T12:42:13.009Z"
   },
   {
    "duration": 6,
    "start_time": "2022-07-24T12:42:13.651Z"
   },
   {
    "duration": 1759,
    "start_time": "2022-07-24T12:42:13.659Z"
   },
   {
    "duration": 494,
    "start_time": "2022-07-24T12:42:15.420Z"
   },
   {
    "duration": 9,
    "start_time": "2022-07-24T12:42:15.916Z"
   },
   {
    "duration": 1882,
    "start_time": "2022-07-24T12:42:15.929Z"
   },
   {
    "duration": 503,
    "start_time": "2022-07-24T12:42:17.813Z"
   },
   {
    "duration": 9,
    "start_time": "2022-07-24T12:42:18.318Z"
   },
   {
    "duration": 1787,
    "start_time": "2022-07-24T12:42:18.328Z"
   },
   {
    "duration": 523,
    "start_time": "2022-07-24T12:42:20.117Z"
   },
   {
    "duration": 142,
    "start_time": "2022-07-24T12:42:20.642Z"
   },
   {
    "duration": 7,
    "start_time": "2022-07-24T12:44:22.738Z"
   },
   {
    "duration": 1767,
    "start_time": "2022-07-24T12:44:23.250Z"
   },
   {
    "duration": 568,
    "start_time": "2022-07-24T12:44:25.208Z"
   },
   {
    "duration": 8,
    "start_time": "2022-07-24T12:44:39.976Z"
   },
   {
    "duration": 1655,
    "start_time": "2022-07-24T12:44:40.367Z"
   },
   {
    "duration": 449,
    "start_time": "2022-07-24T12:44:47.292Z"
   },
   {
    "duration": 8,
    "start_time": "2022-07-24T13:54:08.339Z"
   },
   {
    "duration": 1838,
    "start_time": "2022-07-24T13:54:08.986Z"
   },
   {
    "duration": 470,
    "start_time": "2022-07-24T13:54:12.311Z"
   },
   {
    "duration": 7,
    "start_time": "2022-07-24T13:54:40.736Z"
   },
   {
    "duration": 1888,
    "start_time": "2022-07-24T13:54:41.317Z"
   },
   {
    "duration": 626,
    "start_time": "2022-07-24T13:54:43.207Z"
   },
   {
    "duration": 8,
    "start_time": "2022-07-24T13:54:53.420Z"
   },
   {
    "duration": 1928,
    "start_time": "2022-07-24T13:54:53.780Z"
   },
   {
    "duration": 497,
    "start_time": "2022-07-24T13:54:55.710Z"
   },
   {
    "duration": 8,
    "start_time": "2022-07-24T13:55:07.617Z"
   },
   {
    "duration": 1922,
    "start_time": "2022-07-24T13:55:07.893Z"
   },
   {
    "duration": 565,
    "start_time": "2022-07-24T13:55:09.817Z"
   },
   {
    "duration": 8,
    "start_time": "2022-07-24T13:55:51.340Z"
   },
   {
    "duration": 1744,
    "start_time": "2022-07-24T13:55:51.674Z"
   },
   {
    "duration": 538,
    "start_time": "2022-07-24T13:55:53.420Z"
   },
   {
    "duration": 8,
    "start_time": "2022-07-24T13:56:00.281Z"
   },
   {
    "duration": 1851,
    "start_time": "2022-07-24T13:56:00.572Z"
   },
   {
    "duration": 636,
    "start_time": "2022-07-24T13:56:02.425Z"
   },
   {
    "duration": 9,
    "start_time": "2022-07-24T13:56:44.514Z"
   },
   {
    "duration": 2126,
    "start_time": "2022-07-24T13:56:44.789Z"
   },
   {
    "duration": 471,
    "start_time": "2022-07-24T13:56:51.779Z"
   },
   {
    "duration": 8,
    "start_time": "2022-07-24T13:57:08.468Z"
   },
   {
    "duration": 2061,
    "start_time": "2022-07-24T13:57:08.767Z"
   },
   {
    "duration": 499,
    "start_time": "2022-07-24T13:57:10.905Z"
   },
   {
    "duration": 10,
    "start_time": "2022-07-24T13:57:31.975Z"
   },
   {
    "duration": 2108,
    "start_time": "2022-07-24T13:57:32.310Z"
   },
   {
    "duration": 518,
    "start_time": "2022-07-24T13:57:34.421Z"
   },
   {
    "duration": 140,
    "start_time": "2022-07-24T13:57:42.015Z"
   },
   {
    "duration": 1944,
    "start_time": "2022-07-24T13:57:42.364Z"
   },
   {
    "duration": 480,
    "start_time": "2022-07-24T13:57:44.311Z"
   },
   {
    "duration": 9,
    "start_time": "2022-07-24T13:57:50.893Z"
   },
   {
    "duration": 2014,
    "start_time": "2022-07-24T13:57:51.114Z"
   },
   {
    "duration": 495,
    "start_time": "2022-07-24T13:57:53.205Z"
   },
   {
    "duration": 8,
    "start_time": "2022-07-24T13:57:58.668Z"
   },
   {
    "duration": 2008,
    "start_time": "2022-07-24T13:57:58.902Z"
   },
   {
    "duration": 505,
    "start_time": "2022-07-24T13:58:00.912Z"
   },
   {
    "duration": 89,
    "start_time": "2022-07-24T14:10:51.130Z"
   },
   {
    "duration": 1814,
    "start_time": "2022-07-24T14:10:51.605Z"
   },
   {
    "duration": 20,
    "start_time": "2022-07-24T14:11:01.768Z"
   },
   {
    "duration": 20,
    "start_time": "2022-07-24T14:11:09.247Z"
   },
   {
    "duration": 17,
    "start_time": "2022-07-24T14:11:13.878Z"
   },
   {
    "duration": 7,
    "start_time": "2022-07-24T14:11:38.996Z"
   },
   {
    "duration": 2057,
    "start_time": "2022-07-24T14:11:39.647Z"
   },
   {
    "duration": 601,
    "start_time": "2022-07-24T14:11:41.706Z"
   },
   {
    "duration": 8,
    "start_time": "2022-07-24T14:11:51.844Z"
   },
   {
    "duration": 1789,
    "start_time": "2022-07-24T14:11:52.216Z"
   },
   {
    "duration": 494,
    "start_time": "2022-07-24T14:11:54.007Z"
   },
   {
    "duration": 7,
    "start_time": "2022-07-24T14:12:33.169Z"
   },
   {
    "duration": 2231,
    "start_time": "2022-07-24T14:12:33.593Z"
   },
   {
    "duration": 545,
    "start_time": "2022-07-24T14:12:35.826Z"
   },
   {
    "duration": 7,
    "start_time": "2022-07-24T14:16:25.166Z"
   },
   {
    "duration": 2234,
    "start_time": "2022-07-24T14:16:26.270Z"
   },
   {
    "duration": 474,
    "start_time": "2022-07-24T14:16:32.042Z"
   },
   {
    "duration": 7,
    "start_time": "2022-07-24T14:17:19.203Z"
   },
   {
    "duration": 1824,
    "start_time": "2022-07-24T14:17:19.492Z"
   },
   {
    "duration": 688,
    "start_time": "2022-07-24T14:17:21.318Z"
   },
   {
    "duration": 7,
    "start_time": "2022-07-24T14:17:27.080Z"
   },
   {
    "duration": 2125,
    "start_time": "2022-07-24T14:17:27.403Z"
   },
   {
    "duration": 489,
    "start_time": "2022-07-24T14:17:29.604Z"
   },
   {
    "duration": 10,
    "start_time": "2022-07-24T14:19:49.444Z"
   },
   {
    "duration": 2466,
    "start_time": "2022-07-24T14:19:49.944Z"
   },
   {
    "duration": 492,
    "start_time": "2022-07-24T14:19:52.412Z"
   },
   {
    "duration": 430,
    "start_time": "2022-07-24T14:20:21.678Z"
   },
   {
    "duration": 149,
    "start_time": "2022-07-24T14:20:44.225Z"
   },
   {
    "duration": 2321,
    "start_time": "2022-07-24T14:20:44.589Z"
   },
   {
    "duration": 463,
    "start_time": "2022-07-24T14:20:46.912Z"
   },
   {
    "duration": 8,
    "start_time": "2022-07-24T14:21:24.171Z"
   },
   {
    "duration": 2405,
    "start_time": "2022-07-24T14:21:24.512Z"
   },
   {
    "duration": 521,
    "start_time": "2022-07-24T14:21:26.920Z"
   },
   {
    "duration": 9,
    "start_time": "2022-07-24T14:22:18.984Z"
   },
   {
    "duration": 2639,
    "start_time": "2022-07-24T14:22:19.765Z"
   },
   {
    "duration": 479,
    "start_time": "2022-07-24T14:22:22.406Z"
   },
   {
    "duration": 6,
    "start_time": "2022-07-24T14:24:43.057Z"
   },
   {
    "duration": 12,
    "start_time": "2022-07-24T14:26:00.157Z"
   },
   {
    "duration": 12,
    "start_time": "2022-07-24T14:26:31.009Z"
   },
   {
    "duration": 11,
    "start_time": "2022-07-24T14:26:38.246Z"
   },
   {
    "duration": 11,
    "start_time": "2022-07-24T14:27:34.050Z"
   },
   {
    "duration": 4,
    "start_time": "2022-07-24T14:27:39.525Z"
   },
   {
    "duration": 3,
    "start_time": "2022-07-24T14:29:09.928Z"
   },
   {
    "duration": 193,
    "start_time": "2022-07-24T14:32:16.436Z"
   },
   {
    "duration": 6,
    "start_time": "2022-07-24T14:32:29.351Z"
   },
   {
    "duration": 11,
    "start_time": "2022-07-24T14:32:58.212Z"
   },
   {
    "duration": 19,
    "start_time": "2022-07-24T14:33:07.375Z"
   },
   {
    "duration": 6,
    "start_time": "2022-07-24T14:33:27.420Z"
   },
   {
    "duration": 6,
    "start_time": "2022-07-24T14:33:54.275Z"
   },
   {
    "duration": 3,
    "start_time": "2022-07-24T14:33:57.346Z"
   },
   {
    "duration": 3,
    "start_time": "2022-07-24T14:34:28.756Z"
   },
   {
    "duration": 7,
    "start_time": "2022-07-24T14:34:32.084Z"
   },
   {
    "duration": 12,
    "start_time": "2022-07-24T14:34:45.030Z"
   },
   {
    "duration": 7,
    "start_time": "2022-07-24T14:34:45.270Z"
   },
   {
    "duration": 3,
    "start_time": "2022-07-24T14:34:51.098Z"
   },
   {
    "duration": 8,
    "start_time": "2022-07-24T14:34:51.388Z"
   },
   {
    "duration": 18,
    "start_time": "2022-07-24T14:35:05.810Z"
   },
   {
    "duration": 10,
    "start_time": "2022-07-24T14:36:06.272Z"
   },
   {
    "duration": 3,
    "start_time": "2022-07-24T14:36:15.920Z"
   },
   {
    "duration": 5,
    "start_time": "2022-07-24T14:36:19.236Z"
   },
   {
    "duration": 4,
    "start_time": "2022-07-24T14:36:38.111Z"
   },
   {
    "duration": 12,
    "start_time": "2022-07-24T14:36:47.479Z"
   },
   {
    "duration": 12,
    "start_time": "2022-07-24T14:37:59.529Z"
   },
   {
    "duration": 13,
    "start_time": "2022-07-24T14:38:08.545Z"
   },
   {
    "duration": 2380,
    "start_time": "2022-07-24T14:38:16.920Z"
   },
   {
    "duration": 30,
    "start_time": "2022-07-24T14:38:19.303Z"
   },
   {
    "duration": 99,
    "start_time": "2022-07-24T14:38:19.334Z"
   },
   {
    "duration": 18,
    "start_time": "2022-07-24T14:38:19.436Z"
   },
   {
    "duration": 48,
    "start_time": "2022-07-24T14:38:19.456Z"
   },
   {
    "duration": 5,
    "start_time": "2022-07-24T14:38:19.506Z"
   },
   {
    "duration": 18,
    "start_time": "2022-07-24T14:38:19.514Z"
   },
   {
    "duration": 12,
    "start_time": "2022-07-24T14:38:19.534Z"
   },
   {
    "duration": 11,
    "start_time": "2022-07-24T14:38:19.548Z"
   },
   {
    "duration": 7,
    "start_time": "2022-07-24T14:38:19.563Z"
   },
   {
    "duration": 225,
    "start_time": "2022-07-24T14:38:19.572Z"
   },
   {
    "duration": 14,
    "start_time": "2022-07-24T14:38:19.798Z"
   },
   {
    "duration": 12,
    "start_time": "2022-07-24T14:38:19.814Z"
   },
   {
    "duration": 149,
    "start_time": "2022-07-24T14:38:19.828Z"
   },
   {
    "duration": 164,
    "start_time": "2022-07-24T14:38:19.979Z"
   },
   {
    "duration": 767,
    "start_time": "2022-07-24T14:38:20.145Z"
   },
   {
    "duration": 880,
    "start_time": "2022-07-24T14:38:20.914Z"
   },
   {
    "duration": 785,
    "start_time": "2022-07-24T14:38:21.795Z"
   },
   {
    "duration": 4,
    "start_time": "2022-07-24T14:38:22.582Z"
   },
   {
    "duration": 7,
    "start_time": "2022-07-24T14:38:22.605Z"
   },
   {
    "duration": 7,
    "start_time": "2022-07-24T14:38:22.614Z"
   },
   {
    "duration": 6,
    "start_time": "2022-07-24T14:38:22.622Z"
   },
   {
    "duration": 13,
    "start_time": "2022-07-24T14:38:22.629Z"
   },
   {
    "duration": 19,
    "start_time": "2022-07-24T14:38:22.645Z"
   },
   {
    "duration": 5,
    "start_time": "2022-07-24T14:38:22.666Z"
   },
   {
    "duration": 9,
    "start_time": "2022-07-24T14:38:22.672Z"
   },
   {
    "duration": 4,
    "start_time": "2022-07-24T14:38:22.705Z"
   },
   {
    "duration": 32,
    "start_time": "2022-07-24T14:38:22.716Z"
   },
   {
    "duration": 7,
    "start_time": "2022-07-24T14:38:22.750Z"
   },
   {
    "duration": 54,
    "start_time": "2022-07-24T14:38:22.759Z"
   },
   {
    "duration": 3,
    "start_time": "2022-07-24T14:38:22.815Z"
   },
   {
    "duration": 9,
    "start_time": "2022-07-24T14:38:22.821Z"
   },
   {
    "duration": 9,
    "start_time": "2022-07-24T14:38:22.832Z"
   },
   {
    "duration": 6,
    "start_time": "2022-07-24T14:38:22.843Z"
   },
   {
    "duration": 6,
    "start_time": "2022-07-24T14:38:22.850Z"
   },
   {
    "duration": 9,
    "start_time": "2022-07-24T14:38:22.858Z"
   },
   {
    "duration": 2457,
    "start_time": "2022-07-24T14:38:22.869Z"
   },
   {
    "duration": 549,
    "start_time": "2022-07-24T14:38:25.403Z"
   },
   {
    "duration": 156,
    "start_time": "2022-07-24T14:38:25.953Z"
   },
   {
    "duration": 2613,
    "start_time": "2022-07-24T14:38:26.111Z"
   },
   {
    "duration": 597,
    "start_time": "2022-07-24T14:38:28.726Z"
   },
   {
    "duration": 7,
    "start_time": "2022-07-24T14:38:29.326Z"
   },
   {
    "duration": 1772,
    "start_time": "2022-07-24T14:38:29.335Z"
   },
   {
    "duration": 553,
    "start_time": "2022-07-24T14:38:31.109Z"
   },
   {
    "duration": 13,
    "start_time": "2022-07-24T14:38:31.665Z"
   },
   {
    "duration": 2148,
    "start_time": "2022-07-24T14:38:31.679Z"
   },
   {
    "duration": 529,
    "start_time": "2022-07-24T14:38:33.905Z"
   },
   {
    "duration": 9,
    "start_time": "2022-07-24T14:38:34.436Z"
   },
   {
    "duration": 3076,
    "start_time": "2022-07-24T14:38:34.446Z"
   },
   {
    "duration": 678,
    "start_time": "2022-07-24T14:38:37.524Z"
   },
   {
    "duration": 2,
    "start_time": "2022-07-24T14:38:38.204Z"
   },
   {
    "duration": 11,
    "start_time": "2022-07-24T14:38:38.208Z"
   },
   {
    "duration": 1384,
    "start_time": "2022-07-24T14:38:38.220Z"
   },
   {
    "duration": 537,
    "start_time": "2022-07-24T14:38:39.606Z"
   },
   {
    "duration": 8,
    "start_time": "2022-07-24T14:38:40.145Z"
   },
   {
    "duration": 1967,
    "start_time": "2022-07-24T14:38:40.156Z"
   },
   {
    "duration": 609,
    "start_time": "2022-07-24T14:38:42.125Z"
   },
   {
    "duration": 8,
    "start_time": "2022-07-24T14:38:42.737Z"
   },
   {
    "duration": 1567,
    "start_time": "2022-07-24T14:38:42.747Z"
   },
   {
    "duration": 537,
    "start_time": "2022-07-24T14:38:44.316Z"
   },
   {
    "duration": 10,
    "start_time": "2022-07-24T14:38:44.855Z"
   },
   {
    "duration": 2242,
    "start_time": "2022-07-24T14:38:44.866Z"
   },
   {
    "duration": 657,
    "start_time": "2022-07-24T14:38:47.110Z"
   },
   {
    "duration": 8,
    "start_time": "2022-07-24T14:38:47.769Z"
   },
   {
    "duration": 1931,
    "start_time": "2022-07-24T14:38:47.779Z"
   },
   {
    "duration": 507,
    "start_time": "2022-07-24T14:38:49.713Z"
   },
   {
    "duration": 9,
    "start_time": "2022-07-24T14:38:50.222Z"
   },
   {
    "duration": 1993,
    "start_time": "2022-07-24T14:38:50.233Z"
   },
   {
    "duration": 561,
    "start_time": "2022-07-24T14:38:52.228Z"
   },
   {
    "duration": 17,
    "start_time": "2022-07-24T14:38:52.790Z"
   },
   {
    "duration": 2109,
    "start_time": "2022-07-24T14:38:52.808Z"
   },
   {
    "duration": 604,
    "start_time": "2022-07-24T14:38:54.919Z"
   },
   {
    "duration": 153,
    "start_time": "2022-07-24T14:38:55.525Z"
   },
   {
    "duration": 2043,
    "start_time": "2022-07-24T14:38:55.680Z"
   },
   {
    "duration": 534,
    "start_time": "2022-07-24T14:38:57.725Z"
   },
   {
    "duration": 9,
    "start_time": "2022-07-24T14:38:58.262Z"
   },
   {
    "duration": 2154,
    "start_time": "2022-07-24T14:38:58.273Z"
   },
   {
    "duration": 569,
    "start_time": "2022-07-24T14:39:00.428Z"
   },
   {
    "duration": 9,
    "start_time": "2022-07-24T14:39:01.003Z"
   },
   {
    "duration": 2190,
    "start_time": "2022-07-24T14:39:01.014Z"
   },
   {
    "duration": 470,
    "start_time": "2022-07-24T14:39:03.206Z"
   },
   {
    "duration": 7,
    "start_time": "2022-07-24T14:39:03.682Z"
   },
   {
    "duration": 2123,
    "start_time": "2022-07-24T14:39:03.691Z"
   },
   {
    "duration": 657,
    "start_time": "2022-07-24T14:39:05.816Z"
   },
   {
    "duration": 9,
    "start_time": "2022-07-24T14:39:06.475Z"
   },
   {
    "duration": 2628,
    "start_time": "2022-07-24T14:39:06.486Z"
   },
   {
    "duration": 536,
    "start_time": "2022-07-24T14:39:09.116Z"
   },
   {
    "duration": 6,
    "start_time": "2022-07-24T14:39:09.654Z"
   },
   {
    "duration": 2342,
    "start_time": "2022-07-24T14:39:09.662Z"
   },
   {
    "duration": 500,
    "start_time": "2022-07-24T14:39:12.006Z"
   },
   {
    "duration": 8,
    "start_time": "2022-07-24T14:39:12.508Z"
   },
   {
    "duration": 2993,
    "start_time": "2022-07-24T14:39:12.518Z"
   },
   {
    "duration": 530,
    "start_time": "2022-07-24T14:39:15.513Z"
   },
   {
    "duration": 4,
    "start_time": "2022-07-24T14:39:16.046Z"
   },
   {
    "duration": 8,
    "start_time": "2022-07-24T14:39:16.052Z"
   },
   {
    "duration": 7,
    "start_time": "2022-07-24T14:39:16.062Z"
   },
   {
    "duration": 8,
    "start_time": "2022-07-24T14:39:16.071Z"
   },
   {
    "duration": 23,
    "start_time": "2022-07-24T14:39:16.081Z"
   },
   {
    "duration": 7,
    "start_time": "2022-07-24T14:39:16.106Z"
   },
   {
    "duration": 7,
    "start_time": "2022-07-24T14:39:16.115Z"
   },
   {
    "duration": 25,
    "start_time": "2022-07-24T14:39:16.124Z"
   },
   {
    "duration": 31,
    "start_time": "2022-07-24T14:39:16.152Z"
   },
   {
    "duration": 1873,
    "start_time": "2022-07-24T14:43:52.600Z"
   },
   {
    "duration": 29,
    "start_time": "2022-07-24T14:43:54.475Z"
   },
   {
    "duration": 90,
    "start_time": "2022-07-24T14:43:54.505Z"
   },
   {
    "duration": 11,
    "start_time": "2022-07-24T14:43:54.603Z"
   },
   {
    "duration": 28,
    "start_time": "2022-07-24T14:43:54.616Z"
   },
   {
    "duration": 5,
    "start_time": "2022-07-24T14:43:54.645Z"
   },
   {
    "duration": 6,
    "start_time": "2022-07-24T14:43:54.652Z"
   },
   {
    "duration": 5,
    "start_time": "2022-07-24T14:43:54.660Z"
   },
   {
    "duration": 7,
    "start_time": "2022-07-24T14:43:54.666Z"
   },
   {
    "duration": 30,
    "start_time": "2022-07-24T14:43:54.675Z"
   },
   {
    "duration": 198,
    "start_time": "2022-07-24T14:43:54.707Z"
   },
   {
    "duration": 11,
    "start_time": "2022-07-24T14:43:54.907Z"
   },
   {
    "duration": 8,
    "start_time": "2022-07-24T14:43:54.919Z"
   },
   {
    "duration": 158,
    "start_time": "2022-07-24T14:43:54.929Z"
   },
   {
    "duration": 169,
    "start_time": "2022-07-24T14:43:55.089Z"
   },
   {
    "duration": 740,
    "start_time": "2022-07-24T14:43:55.260Z"
   },
   {
    "duration": 876,
    "start_time": "2022-07-24T14:43:56.002Z"
   },
   {
    "duration": 642,
    "start_time": "2022-07-24T14:43:56.880Z"
   },
   {
    "duration": 5,
    "start_time": "2022-07-24T14:43:57.524Z"
   },
   {
    "duration": 12,
    "start_time": "2022-07-24T14:43:57.530Z"
   },
   {
    "duration": 6,
    "start_time": "2022-07-24T14:43:57.544Z"
   },
   {
    "duration": 6,
    "start_time": "2022-07-24T14:43:57.552Z"
   },
   {
    "duration": 12,
    "start_time": "2022-07-24T14:43:57.560Z"
   },
   {
    "duration": 32,
    "start_time": "2022-07-24T14:43:57.574Z"
   },
   {
    "duration": 6,
    "start_time": "2022-07-24T14:43:57.608Z"
   },
   {
    "duration": 9,
    "start_time": "2022-07-24T14:43:57.617Z"
   },
   {
    "duration": 5,
    "start_time": "2022-07-24T14:43:57.627Z"
   },
   {
    "duration": 32,
    "start_time": "2022-07-24T14:43:57.639Z"
   },
   {
    "duration": 4,
    "start_time": "2022-07-24T14:43:57.673Z"
   },
   {
    "duration": 51,
    "start_time": "2022-07-24T14:43:57.678Z"
   },
   {
    "duration": 5,
    "start_time": "2022-07-24T14:43:57.730Z"
   },
   {
    "duration": 5,
    "start_time": "2022-07-24T14:43:57.737Z"
   },
   {
    "duration": 7,
    "start_time": "2022-07-24T14:43:57.744Z"
   },
   {
    "duration": 17,
    "start_time": "2022-07-24T14:43:57.753Z"
   },
   {
    "duration": 6,
    "start_time": "2022-07-24T14:43:57.772Z"
   },
   {
    "duration": 45,
    "start_time": "2022-07-24T14:43:57.781Z"
   },
   {
    "duration": 2294,
    "start_time": "2022-07-24T14:43:57.828Z"
   },
   {
    "duration": 546,
    "start_time": "2022-07-24T14:44:00.124Z"
   },
   {
    "duration": 155,
    "start_time": "2022-07-24T14:44:00.672Z"
   },
   {
    "duration": 2584,
    "start_time": "2022-07-24T14:44:00.829Z"
   },
   {
    "duration": 574,
    "start_time": "2022-07-24T14:44:03.415Z"
   },
   {
    "duration": 12,
    "start_time": "2022-07-24T14:44:03.992Z"
   },
   {
    "duration": 1516,
    "start_time": "2022-07-24T14:44:04.006Z"
   },
   {
    "duration": 593,
    "start_time": "2022-07-24T14:44:05.524Z"
   },
   {
    "duration": 8,
    "start_time": "2022-07-24T14:44:06.119Z"
   },
   {
    "duration": 2387,
    "start_time": "2022-07-24T14:44:06.129Z"
   },
   {
    "duration": 605,
    "start_time": "2022-07-24T14:44:08.518Z"
   },
   {
    "duration": 11,
    "start_time": "2022-07-24T14:44:09.125Z"
   },
   {
    "duration": 2566,
    "start_time": "2022-07-24T14:44:09.138Z"
   },
   {
    "duration": 661,
    "start_time": "2022-07-24T14:44:11.706Z"
   },
   {
    "duration": 2,
    "start_time": "2022-07-24T14:44:12.369Z"
   },
   {
    "duration": 7,
    "start_time": "2022-07-24T14:44:12.373Z"
   },
   {
    "duration": 1528,
    "start_time": "2022-07-24T14:44:12.382Z"
   },
   {
    "duration": 558,
    "start_time": "2022-07-24T14:44:13.913Z"
   },
   {
    "duration": 7,
    "start_time": "2022-07-24T14:44:14.474Z"
   },
   {
    "duration": 1931,
    "start_time": "2022-07-24T14:44:14.483Z"
   },
   {
    "duration": 601,
    "start_time": "2022-07-24T14:44:16.416Z"
   },
   {
    "duration": 8,
    "start_time": "2022-07-24T14:44:17.018Z"
   },
   {
    "duration": 1786,
    "start_time": "2022-07-24T14:44:17.028Z"
   },
   {
    "duration": 504,
    "start_time": "2022-07-24T14:44:18.817Z"
   },
   {
    "duration": 8,
    "start_time": "2022-07-24T14:44:19.324Z"
   },
   {
    "duration": 2172,
    "start_time": "2022-07-24T14:44:19.333Z"
   },
   {
    "duration": 630,
    "start_time": "2022-07-24T14:44:21.507Z"
   },
   {
    "duration": 9,
    "start_time": "2022-07-24T14:44:22.139Z"
   },
   {
    "duration": 2356,
    "start_time": "2022-07-24T14:44:22.150Z"
   },
   {
    "duration": 530,
    "start_time": "2022-07-24T14:44:24.509Z"
   },
   {
    "duration": 11,
    "start_time": "2022-07-24T14:44:25.041Z"
   },
   {
    "duration": 2567,
    "start_time": "2022-07-24T14:44:25.053Z"
   },
   {
    "duration": 552,
    "start_time": "2022-07-24T14:44:27.622Z"
   },
   {
    "duration": 7,
    "start_time": "2022-07-24T14:44:28.176Z"
   },
   {
    "duration": 2528,
    "start_time": "2022-07-24T14:44:28.185Z"
   },
   {
    "duration": 589,
    "start_time": "2022-07-24T14:44:30.715Z"
   },
   {
    "duration": 168,
    "start_time": "2022-07-24T14:44:31.306Z"
   },
   {
    "duration": 2528,
    "start_time": "2022-07-24T14:44:31.476Z"
   },
   {
    "duration": 570,
    "start_time": "2022-07-24T14:44:34.006Z"
   },
   {
    "duration": 8,
    "start_time": "2022-07-24T14:44:34.577Z"
   },
   {
    "duration": 2731,
    "start_time": "2022-07-24T14:44:34.586Z"
   },
   {
    "duration": 724,
    "start_time": "2022-07-24T14:44:37.319Z"
   },
   {
    "duration": 10,
    "start_time": "2022-07-24T14:44:38.045Z"
   },
   {
    "duration": 2549,
    "start_time": "2022-07-24T14:44:38.057Z"
   },
   {
    "duration": 490,
    "start_time": "2022-07-24T14:44:40.608Z"
   },
   {
    "duration": 11,
    "start_time": "2022-07-24T14:44:41.111Z"
   },
   {
    "duration": 2690,
    "start_time": "2022-07-24T14:44:41.124Z"
   },
   {
    "duration": 737,
    "start_time": "2022-07-24T14:44:43.817Z"
   },
   {
    "duration": 9,
    "start_time": "2022-07-24T14:44:44.556Z"
   },
   {
    "duration": 3057,
    "start_time": "2022-07-24T14:44:44.567Z"
   },
   {
    "duration": 571,
    "start_time": "2022-07-24T14:44:47.626Z"
   },
   {
    "duration": 13,
    "start_time": "2022-07-24T14:44:48.198Z"
   },
   {
    "duration": 2893,
    "start_time": "2022-07-24T14:44:48.212Z"
   },
   {
    "duration": 477,
    "start_time": "2022-07-24T14:44:51.108Z"
   },
   {
    "duration": 8,
    "start_time": "2022-07-24T14:44:51.587Z"
   },
   {
    "duration": 3518,
    "start_time": "2022-07-24T14:44:51.596Z"
   },
   {
    "duration": 545,
    "start_time": "2022-07-24T14:44:55.119Z"
   },
   {
    "duration": 4,
    "start_time": "2022-07-24T14:44:55.666Z"
   },
   {
    "duration": 7,
    "start_time": "2022-07-24T14:44:55.671Z"
   },
   {
    "duration": 10,
    "start_time": "2022-07-24T14:44:55.679Z"
   },
   {
    "duration": 25,
    "start_time": "2022-07-24T14:44:55.691Z"
   },
   {
    "duration": 12,
    "start_time": "2022-07-24T14:44:55.718Z"
   },
   {
    "duration": 7,
    "start_time": "2022-07-24T14:44:55.732Z"
   },
   {
    "duration": 6,
    "start_time": "2022-07-24T14:44:55.740Z"
   },
   {
    "duration": 20,
    "start_time": "2022-07-24T14:44:55.748Z"
   },
   {
    "duration": 21,
    "start_time": "2022-07-24T14:44:55.769Z"
   },
   {
    "duration": 9,
    "start_time": "2022-07-24T14:48:11.843Z"
   },
   {
    "duration": 3259,
    "start_time": "2022-07-24T14:48:12.246Z"
   },
   {
    "duration": 741,
    "start_time": "2022-07-24T14:48:15.508Z"
   },
   {
    "duration": 2078,
    "start_time": "2022-07-24T14:51:26.671Z"
   },
   {
    "duration": 30,
    "start_time": "2022-07-24T14:51:28.752Z"
   },
   {
    "duration": 113,
    "start_time": "2022-07-24T14:51:28.784Z"
   },
   {
    "duration": 13,
    "start_time": "2022-07-24T14:51:28.899Z"
   },
   {
    "duration": 34,
    "start_time": "2022-07-24T14:51:28.914Z"
   },
   {
    "duration": 8,
    "start_time": "2022-07-24T14:51:28.950Z"
   },
   {
    "duration": 12,
    "start_time": "2022-07-24T14:51:28.960Z"
   },
   {
    "duration": 6,
    "start_time": "2022-07-24T14:51:28.974Z"
   },
   {
    "duration": 5,
    "start_time": "2022-07-24T14:51:28.982Z"
   },
   {
    "duration": 5,
    "start_time": "2022-07-24T14:51:29.005Z"
   },
   {
    "duration": 231,
    "start_time": "2022-07-24T14:51:29.012Z"
   },
   {
    "duration": 14,
    "start_time": "2022-07-24T14:51:29.245Z"
   },
   {
    "duration": 10,
    "start_time": "2022-07-24T14:51:29.261Z"
   },
   {
    "duration": 197,
    "start_time": "2022-07-24T14:51:29.273Z"
   },
   {
    "duration": 160,
    "start_time": "2022-07-24T14:51:29.472Z"
   },
   {
    "duration": 779,
    "start_time": "2022-07-24T14:51:29.633Z"
   },
   {
    "duration": 883,
    "start_time": "2022-07-24T14:51:30.414Z"
   },
   {
    "duration": 728,
    "start_time": "2022-07-24T14:51:31.304Z"
   },
   {
    "duration": 4,
    "start_time": "2022-07-24T14:51:32.034Z"
   },
   {
    "duration": 10,
    "start_time": "2022-07-24T14:51:32.040Z"
   },
   {
    "duration": 6,
    "start_time": "2022-07-24T14:51:32.052Z"
   },
   {
    "duration": 6,
    "start_time": "2022-07-24T14:51:32.060Z"
   },
   {
    "duration": 14,
    "start_time": "2022-07-24T14:51:32.068Z"
   },
   {
    "duration": 34,
    "start_time": "2022-07-24T14:51:32.084Z"
   },
   {
    "duration": 12,
    "start_time": "2022-07-24T14:51:32.120Z"
   },
   {
    "duration": 25,
    "start_time": "2022-07-24T14:51:32.133Z"
   },
   {
    "duration": 12,
    "start_time": "2022-07-24T14:51:32.160Z"
   },
   {
    "duration": 22,
    "start_time": "2022-07-24T14:51:32.178Z"
   },
   {
    "duration": 9,
    "start_time": "2022-07-24T14:51:32.204Z"
   },
   {
    "duration": 29,
    "start_time": "2022-07-24T14:51:32.215Z"
   },
   {
    "duration": 3,
    "start_time": "2022-07-24T14:51:32.247Z"
   },
   {
    "duration": 13,
    "start_time": "2022-07-24T14:51:32.253Z"
   },
   {
    "duration": 12,
    "start_time": "2022-07-24T14:51:32.268Z"
   },
   {
    "duration": 24,
    "start_time": "2022-07-24T14:51:32.283Z"
   },
   {
    "duration": 9,
    "start_time": "2022-07-24T14:51:32.309Z"
   },
   {
    "duration": 8,
    "start_time": "2022-07-24T14:51:32.320Z"
   },
   {
    "duration": 2180,
    "start_time": "2022-07-24T14:51:32.330Z"
   },
   {
    "duration": 527,
    "start_time": "2022-07-24T14:51:34.511Z"
   },
   {
    "duration": 167,
    "start_time": "2022-07-24T14:51:35.041Z"
   },
   {
    "duration": 2698,
    "start_time": "2022-07-24T14:51:35.210Z"
   },
   {
    "duration": 563,
    "start_time": "2022-07-24T14:51:37.910Z"
   },
   {
    "duration": 8,
    "start_time": "2022-07-24T14:51:38.475Z"
   },
   {
    "duration": 1628,
    "start_time": "2022-07-24T14:51:38.485Z"
   },
   {
    "duration": 592,
    "start_time": "2022-07-24T14:51:40.116Z"
   },
   {
    "duration": 9,
    "start_time": "2022-07-24T14:51:40.710Z"
   },
   {
    "duration": 2397,
    "start_time": "2022-07-24T14:51:40.721Z"
   },
   {
    "duration": 551,
    "start_time": "2022-07-24T14:51:43.120Z"
   },
   {
    "duration": 7,
    "start_time": "2022-07-24T14:51:43.673Z"
   },
   {
    "duration": 2523,
    "start_time": "2022-07-24T14:51:43.681Z"
   },
   {
    "duration": 759,
    "start_time": "2022-07-24T14:51:46.206Z"
   },
   {
    "duration": 2,
    "start_time": "2022-07-24T14:51:46.967Z"
   },
   {
    "duration": 54,
    "start_time": "2022-07-24T14:51:46.971Z"
   },
   {
    "duration": 1486,
    "start_time": "2022-07-24T14:51:47.027Z"
   },
   {
    "duration": 654,
    "start_time": "2022-07-24T14:51:48.515Z"
   },
   {
    "duration": 7,
    "start_time": "2022-07-24T14:51:49.171Z"
   },
   {
    "duration": 2228,
    "start_time": "2022-07-24T14:51:49.180Z"
   },
   {
    "duration": 584,
    "start_time": "2022-07-24T14:51:51.410Z"
   },
   {
    "duration": 11,
    "start_time": "2022-07-24T14:51:51.996Z"
   },
   {
    "duration": 1695,
    "start_time": "2022-07-24T14:51:52.009Z"
   },
   {
    "duration": 531,
    "start_time": "2022-07-24T14:51:53.708Z"
   },
   {
    "duration": 8,
    "start_time": "2022-07-24T14:51:54.241Z"
   },
   {
    "duration": 2067,
    "start_time": "2022-07-24T14:51:54.251Z"
   },
   {
    "duration": 789,
    "start_time": "2022-07-24T14:51:56.320Z"
   },
   {
    "duration": 7,
    "start_time": "2022-07-24T14:51:57.111Z"
   },
   {
    "duration": 2487,
    "start_time": "2022-07-24T14:51:57.121Z"
   },
   {
    "duration": 517,
    "start_time": "2022-07-24T14:51:59.611Z"
   },
   {
    "duration": 16,
    "start_time": "2022-07-24T14:52:00.132Z"
   },
   {
    "duration": 2462,
    "start_time": "2022-07-24T14:52:00.151Z"
   },
   {
    "duration": 512,
    "start_time": "2022-07-24T14:52:02.615Z"
   },
   {
    "duration": 8,
    "start_time": "2022-07-24T14:52:03.129Z"
   },
   {
    "duration": 2488,
    "start_time": "2022-07-24T14:52:03.139Z"
   },
   {
    "duration": 559,
    "start_time": "2022-07-24T14:52:05.629Z"
   },
   {
    "duration": 163,
    "start_time": "2022-07-24T14:52:06.190Z"
   },
   {
    "duration": 2355,
    "start_time": "2022-07-24T14:52:06.355Z"
   },
   {
    "duration": 545,
    "start_time": "2022-07-24T14:52:08.712Z"
   },
   {
    "duration": 10,
    "start_time": "2022-07-24T14:52:09.259Z"
   },
   {
    "duration": 2655,
    "start_time": "2022-07-24T14:52:09.271Z"
   },
   {
    "duration": 560,
    "start_time": "2022-07-24T14:52:11.928Z"
   },
   {
    "duration": 7,
    "start_time": "2022-07-24T14:52:12.490Z"
   },
   {
    "duration": 2621,
    "start_time": "2022-07-24T14:52:12.498Z"
   },
   {
    "duration": 543,
    "start_time": "2022-07-24T14:52:15.121Z"
   },
   {
    "duration": 8,
    "start_time": "2022-07-24T14:52:15.669Z"
   },
   {
    "duration": 2646,
    "start_time": "2022-07-24T14:52:15.679Z"
   },
   {
    "duration": 752,
    "start_time": "2022-07-24T14:52:18.327Z"
   },
   {
    "duration": 7,
    "start_time": "2022-07-24T14:52:19.081Z"
   },
   {
    "duration": 3325,
    "start_time": "2022-07-24T14:52:19.089Z"
   },
   {
    "duration": 561,
    "start_time": "2022-07-24T14:52:22.417Z"
   },
   {
    "duration": 9,
    "start_time": "2022-07-24T14:52:22.980Z"
   },
   {
    "duration": 3131,
    "start_time": "2022-07-24T14:52:22.991Z"
   },
   {
    "duration": 668,
    "start_time": "2022-07-24T14:52:26.124Z"
   },
   {
    "duration": 15,
    "start_time": "2022-07-24T14:52:26.794Z"
   },
   {
    "duration": 3106,
    "start_time": "2022-07-24T14:52:26.811Z"
   },
   {
    "duration": 647,
    "start_time": "2022-07-24T14:52:29.918Z"
   },
   {
    "duration": 5,
    "start_time": "2022-07-24T14:52:30.568Z"
   },
   {
    "duration": 31,
    "start_time": "2022-07-24T14:52:30.575Z"
   },
   {
    "duration": 17,
    "start_time": "2022-07-24T14:52:30.608Z"
   },
   {
    "duration": 17,
    "start_time": "2022-07-24T14:52:30.628Z"
   },
   {
    "duration": 27,
    "start_time": "2022-07-24T14:52:30.647Z"
   },
   {
    "duration": 15,
    "start_time": "2022-07-24T14:52:30.676Z"
   },
   {
    "duration": 11,
    "start_time": "2022-07-24T14:52:30.692Z"
   },
   {
    "duration": 25,
    "start_time": "2022-07-24T14:52:30.705Z"
   },
   {
    "duration": 24,
    "start_time": "2022-07-24T14:52:30.732Z"
   },
   {
    "duration": 1923,
    "start_time": "2022-07-24T15:14:28.544Z"
   },
   {
    "duration": 69,
    "start_time": "2022-07-24T15:14:30.469Z"
   },
   {
    "duration": 90,
    "start_time": "2022-07-24T15:14:30.540Z"
   },
   {
    "duration": 12,
    "start_time": "2022-07-24T15:14:30.632Z"
   },
   {
    "duration": 95,
    "start_time": "2022-07-24T15:14:30.646Z"
   },
   {
    "duration": 22,
    "start_time": "2022-07-24T15:14:30.744Z"
   },
   {
    "duration": 15,
    "start_time": "2022-07-24T15:14:30.769Z"
   },
   {
    "duration": 15,
    "start_time": "2022-07-24T15:14:30.786Z"
   },
   {
    "duration": 27,
    "start_time": "2022-07-24T15:14:30.803Z"
   },
   {
    "duration": 53,
    "start_time": "2022-07-24T15:14:30.833Z"
   },
   {
    "duration": 187,
    "start_time": "2022-07-24T15:14:30.888Z"
   },
   {
    "duration": 11,
    "start_time": "2022-07-24T15:14:31.077Z"
   },
   {
    "duration": 34,
    "start_time": "2022-07-24T15:14:31.090Z"
   },
   {
    "duration": 154,
    "start_time": "2022-07-24T15:14:31.126Z"
   },
   {
    "duration": 146,
    "start_time": "2022-07-24T15:14:31.282Z"
   },
   {
    "duration": 685,
    "start_time": "2022-07-24T15:14:31.430Z"
   },
   {
    "duration": 805,
    "start_time": "2022-07-24T15:14:32.123Z"
   },
   {
    "duration": 636,
    "start_time": "2022-07-24T15:14:32.930Z"
   },
   {
    "duration": 4,
    "start_time": "2022-07-24T15:14:33.568Z"
   },
   {
    "duration": 13,
    "start_time": "2022-07-24T15:14:33.573Z"
   },
   {
    "duration": 10,
    "start_time": "2022-07-24T15:14:33.588Z"
   },
   {
    "duration": 6,
    "start_time": "2022-07-24T15:14:33.600Z"
   },
   {
    "duration": 19,
    "start_time": "2022-07-24T15:14:33.608Z"
   },
   {
    "duration": 29,
    "start_time": "2022-07-24T15:14:33.629Z"
   },
   {
    "duration": 9,
    "start_time": "2022-07-24T15:14:33.660Z"
   },
   {
    "duration": 11,
    "start_time": "2022-07-24T15:14:33.671Z"
   },
   {
    "duration": 9,
    "start_time": "2022-07-24T15:14:33.684Z"
   },
   {
    "duration": 25,
    "start_time": "2022-07-24T15:14:33.697Z"
   },
   {
    "duration": 73,
    "start_time": "2022-07-24T15:14:33.725Z"
   },
   {
    "duration": 75,
    "start_time": "2022-07-24T15:14:33.800Z"
   },
   {
    "duration": 8,
    "start_time": "2022-07-24T15:14:33.877Z"
   },
   {
    "duration": 12,
    "start_time": "2022-07-24T15:14:33.887Z"
   },
   {
    "duration": 17,
    "start_time": "2022-07-24T15:14:33.901Z"
   },
   {
    "duration": 16,
    "start_time": "2022-07-24T15:14:33.920Z"
   },
   {
    "duration": 14,
    "start_time": "2022-07-24T15:14:33.937Z"
   },
   {
    "duration": 8,
    "start_time": "2022-07-24T15:14:33.953Z"
   },
   {
    "duration": 2276,
    "start_time": "2022-07-24T15:14:33.963Z"
   },
   {
    "duration": 485,
    "start_time": "2022-07-24T15:14:36.241Z"
   },
   {
    "duration": 145,
    "start_time": "2022-07-24T15:14:36.728Z"
   },
   {
    "duration": 2878,
    "start_time": "2022-07-24T15:14:36.874Z"
   },
   {
    "duration": 533,
    "start_time": "2022-07-24T15:14:39.756Z"
   },
   {
    "duration": 7,
    "start_time": "2022-07-24T15:14:40.291Z"
   },
   {
    "duration": 1749,
    "start_time": "2022-07-24T15:14:40.299Z"
   },
   {
    "duration": 541,
    "start_time": "2022-07-24T15:14:42.050Z"
   },
   {
    "duration": 6,
    "start_time": "2022-07-24T15:14:42.593Z"
   },
   {
    "duration": 2525,
    "start_time": "2022-07-24T15:14:42.601Z"
   },
   {
    "duration": 532,
    "start_time": "2022-07-24T15:14:45.128Z"
   },
   {
    "duration": 8,
    "start_time": "2022-07-24T15:14:45.662Z"
   },
   {
    "duration": 2770,
    "start_time": "2022-07-24T15:14:45.671Z"
   },
   {
    "duration": 669,
    "start_time": "2022-07-24T15:14:48.446Z"
   },
   {
    "duration": 3,
    "start_time": "2022-07-24T15:14:49.117Z"
   },
   {
    "duration": 16,
    "start_time": "2022-07-24T15:14:49.124Z"
   },
   {
    "duration": 1704,
    "start_time": "2022-07-24T15:14:49.142Z"
   },
   {
    "duration": 517,
    "start_time": "2022-07-24T15:14:50.848Z"
   },
   {
    "duration": 7,
    "start_time": "2022-07-24T15:14:51.367Z"
   },
   {
    "duration": 2054,
    "start_time": "2022-07-24T15:14:51.376Z"
   },
   {
    "duration": 498,
    "start_time": "2022-07-24T15:14:53.432Z"
   },
   {
    "duration": 9,
    "start_time": "2022-07-24T15:14:53.933Z"
   },
   {
    "duration": 1901,
    "start_time": "2022-07-24T15:14:53.944Z"
   },
   {
    "duration": 540,
    "start_time": "2022-07-24T15:14:55.846Z"
   },
   {
    "duration": 9,
    "start_time": "2022-07-24T15:14:56.388Z"
   },
   {
    "duration": 2424,
    "start_time": "2022-07-24T15:14:56.400Z"
   },
   {
    "duration": 647,
    "start_time": "2022-07-24T15:14:58.826Z"
   },
   {
    "duration": 7,
    "start_time": "2022-07-24T15:14:59.475Z"
   },
   {
    "duration": 2456,
    "start_time": "2022-07-24T15:14:59.483Z"
   },
   {
    "duration": 571,
    "start_time": "2022-07-24T15:15:01.943Z"
   },
   {
    "duration": 12,
    "start_time": "2022-07-24T15:15:02.515Z"
   },
   {
    "duration": 2614,
    "start_time": "2022-07-24T15:15:02.528Z"
   },
   {
    "duration": 540,
    "start_time": "2022-07-24T15:15:05.144Z"
   },
   {
    "duration": 7,
    "start_time": "2022-07-24T15:15:05.686Z"
   },
   {
    "duration": 2552,
    "start_time": "2022-07-24T15:15:05.694Z"
   },
   {
    "duration": 535,
    "start_time": "2022-07-24T15:15:08.248Z"
   },
   {
    "duration": 158,
    "start_time": "2022-07-24T15:15:08.785Z"
   },
   {
    "duration": 2677,
    "start_time": "2022-07-24T15:15:08.949Z"
   },
   {
    "duration": 553,
    "start_time": "2022-07-24T15:15:11.629Z"
   },
   {
    "duration": 7,
    "start_time": "2022-07-24T15:15:12.184Z"
   },
   {
    "duration": 2840,
    "start_time": "2022-07-24T15:15:12.192Z"
   },
   {
    "duration": 520,
    "start_time": "2022-07-24T15:15:15.034Z"
   },
   {
    "duration": 8,
    "start_time": "2022-07-24T15:15:15.556Z"
   },
   {
    "duration": 2869,
    "start_time": "2022-07-24T15:15:15.566Z"
   },
   {
    "duration": 527,
    "start_time": "2022-07-24T15:15:18.437Z"
   },
   {
    "duration": 8,
    "start_time": "2022-07-24T15:15:18.969Z"
   },
   {
    "duration": 2968,
    "start_time": "2022-07-24T15:15:18.979Z"
   },
   {
    "duration": 687,
    "start_time": "2022-07-24T15:15:21.949Z"
   },
   {
    "duration": 12,
    "start_time": "2022-07-24T15:15:22.638Z"
   },
   {
    "duration": 3384,
    "start_time": "2022-07-24T15:15:22.652Z"
   },
   {
    "duration": 543,
    "start_time": "2022-07-24T15:15:26.038Z"
   },
   {
    "duration": 7,
    "start_time": "2022-07-24T15:15:26.583Z"
   },
   {
    "duration": 3347,
    "start_time": "2022-07-24T15:15:26.592Z"
   },
   {
    "duration": 538,
    "start_time": "2022-07-24T15:15:29.941Z"
   },
   {
    "duration": 8,
    "start_time": "2022-07-24T15:15:30.481Z"
   },
   {
    "duration": 4043,
    "start_time": "2022-07-24T15:15:30.491Z"
   },
   {
    "duration": 542,
    "start_time": "2022-07-24T15:15:34.536Z"
   },
   {
    "duration": 3,
    "start_time": "2022-07-24T15:15:35.080Z"
   },
   {
    "duration": 18,
    "start_time": "2022-07-24T15:15:35.085Z"
   },
   {
    "duration": 10,
    "start_time": "2022-07-24T15:15:35.105Z"
   },
   {
    "duration": 8,
    "start_time": "2022-07-24T15:15:35.117Z"
   },
   {
    "duration": 19,
    "start_time": "2022-07-24T15:15:35.128Z"
   },
   {
    "duration": 12,
    "start_time": "2022-07-24T15:15:35.150Z"
   },
   {
    "duration": 18,
    "start_time": "2022-07-24T15:15:35.164Z"
   },
   {
    "duration": 18,
    "start_time": "2022-07-24T15:15:35.183Z"
   },
   {
    "duration": 20,
    "start_time": "2022-07-24T15:15:35.203Z"
   }
  ],
  "kernelspec": {
   "display_name": "Python 3 (ipykernel)",
   "language": "python",
   "name": "python3"
  },
  "language_info": {
   "codemirror_mode": {
    "name": "ipython",
    "version": 3
   },
   "file_extension": ".py",
   "mimetype": "text/x-python",
   "name": "python",
   "nbconvert_exporter": "python",
   "pygments_lexer": "ipython3",
   "version": "3.10.4"
  },
  "toc": {
   "base_numbering": 1,
   "nav_menu": {},
   "number_sections": false,
   "sideBar": true,
   "skip_h1_title": false,
   "title_cell": "Table of Contents",
   "title_sidebar": "Contents",
   "toc_cell": false,
   "toc_position": {},
   "toc_section_display": true,
   "toc_window_display": false
  },
  "varInspector": {
   "cols": {
    "lenName": 16,
    "lenType": 16,
    "lenVar": 40
   },
   "kernels_config": {
    "python": {
     "delete_cmd_postfix": "",
     "delete_cmd_prefix": "del ",
     "library": "var_list.py",
     "varRefreshCmd": "print(var_dic_list())"
    },
    "r": {
     "delete_cmd_postfix": ") ",
     "delete_cmd_prefix": "rm(",
     "library": "var_list.r",
     "varRefreshCmd": "cat(var_dic_list()) "
    }
   },
   "types_to_exclude": [
    "module",
    "function",
    "builtin_function_or_method",
    "instance",
    "_Feature"
   ],
   "window_display": false
  }
 },
 "nbformat": 4,
 "nbformat_minor": 5
}
