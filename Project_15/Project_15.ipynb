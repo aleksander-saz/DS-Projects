{
 "cells": [
  {
   "cell_type": "markdown",
   "metadata": {},
   "source": [
    "# Prediction of the quantity of taxi orders in time"
   ]
  },
  {
   "cell_type": "markdown",
   "metadata": {},
   "source": [
    "# Content\n",
    "\n",
    "1. [Project Description](#section_1)\n",
    "2. [Data import and overview](#section_2)\n",
    "3. [Data Analysis](#section_3)\n",
    "4. [Models training](#section_4)\n",
    "5. [Models testing](#section_5)"
   ]
  },
  {
   "cell_type": "markdown",
   "metadata": {},
   "source": [
    "<a name = 'section_1'></a>\n",
    "#  Project Description"
   ]
  },
  {
   "cell_type": "markdown",
   "metadata": {},
   "source": [
    "Taxi company wants to understand what time is the highest and lowest drivers load for the optimization of the cost and increase of the drivers in a peak drivers load time. Based on the provided historical data from the company (taxi orders in airports) it's required  to predict the quantity of the orders in next hour.\n",
    "\n",
    "Main tasks are:\n",
    "\n",
    "1. Load the data and perform resampling to 1 hour.\n",
    "2. Perform the data Analysis.\n",
    "3. Train the models with different hypreparameters. The test samplpe shall be equal to 10% of all data.\n",
    "4. Test the best model and draw a conclusion.\n",
    "5. RMSE score on the best model shall not exceed 48."
   ]
  },
  {
   "cell_type": "markdown",
   "metadata": {},
   "source": [
    "<a name = 'section_2'></a>\n",
    "# Data import and overview"
   ]
  },
  {
   "cell_type": "markdown",
   "metadata": {},
   "source": [
    "Имортируем необходимые библиотеки"
   ]
  },
  {
   "cell_type": "code",
   "execution_count": 1,
   "metadata": {},
   "outputs": [],
   "source": [
    "import pandas as pd\n",
    "import numpy as np\n",
    "from statsmodels.tsa.seasonal import seasonal_decompose\n",
    "import matplotlib.pyplot as plt\n",
    "from sklearn.model_selection import train_test_split\n",
    "from sklearn.metrics import mean_squared_error\n",
    "from sklearn.linear_model import LogisticRegression\n",
    "from sklearn.ensemble import RandomForestRegressor\n",
    "from sklearn.model_selection import RandomizedSearchCV\n",
    "from sklearn.model_selection import TimeSeriesSplit\n",
    "\n",
    "import warnings \n",
    "warnings.filterwarnings(\"ignore\")"
   ]
  },
  {
   "cell_type": "markdown",
   "metadata": {},
   "source": [
    "**Импортируем данные, ознакомимся с ними и проводеме ресэмплинг с периодом в 1 час**"
   ]
  },
  {
   "cell_type": "code",
   "execution_count": 2,
   "metadata": {},
   "outputs": [],
   "source": [
    "data = pd.read_csv('taxi.csv',index_col = [0], parse_dates = [0])"
   ]
  },
  {
   "cell_type": "code",
   "execution_count": 3,
   "metadata": {},
   "outputs": [],
   "source": [
    "data = data.sort_index()"
   ]
  },
  {
   "cell_type": "code",
   "execution_count": 4,
   "metadata": {},
   "outputs": [
    {
     "data": {
      "text/html": [
       "<div>\n",
       "<style scoped>\n",
       "    .dataframe tbody tr th:only-of-type {\n",
       "        vertical-align: middle;\n",
       "    }\n",
       "\n",
       "    .dataframe tbody tr th {\n",
       "        vertical-align: top;\n",
       "    }\n",
       "\n",
       "    .dataframe thead th {\n",
       "        text-align: right;\n",
       "    }\n",
       "</style>\n",
       "<table border=\"1\" class=\"dataframe\">\n",
       "  <thead>\n",
       "    <tr style=\"text-align: right;\">\n",
       "      <th></th>\n",
       "      <th>num_orders</th>\n",
       "    </tr>\n",
       "    <tr>\n",
       "      <th>datetime</th>\n",
       "      <th></th>\n",
       "    </tr>\n",
       "  </thead>\n",
       "  <tbody>\n",
       "    <tr>\n",
       "      <th>2018-03-01 00:00:00</th>\n",
       "      <td>9</td>\n",
       "    </tr>\n",
       "    <tr>\n",
       "      <th>2018-03-01 00:10:00</th>\n",
       "      <td>14</td>\n",
       "    </tr>\n",
       "    <tr>\n",
       "      <th>2018-03-01 00:20:00</th>\n",
       "      <td>28</td>\n",
       "    </tr>\n",
       "    <tr>\n",
       "      <th>2018-03-01 00:30:00</th>\n",
       "      <td>20</td>\n",
       "    </tr>\n",
       "    <tr>\n",
       "      <th>2018-03-01 00:40:00</th>\n",
       "      <td>32</td>\n",
       "    </tr>\n",
       "  </tbody>\n",
       "</table>\n",
       "</div>"
      ],
      "text/plain": [
       "                     num_orders\n",
       "datetime                       \n",
       "2018-03-01 00:00:00           9\n",
       "2018-03-01 00:10:00          14\n",
       "2018-03-01 00:20:00          28\n",
       "2018-03-01 00:30:00          20\n",
       "2018-03-01 00:40:00          32"
      ]
     },
     "execution_count": 4,
     "metadata": {},
     "output_type": "execute_result"
    }
   ],
   "source": [
    "data.head()"
   ]
  },
  {
   "cell_type": "code",
   "execution_count": 5,
   "metadata": {},
   "outputs": [],
   "source": [
    "data = data.resample('1H').sum()"
   ]
  },
  {
   "cell_type": "code",
   "execution_count": 6,
   "metadata": {},
   "outputs": [
    {
     "data": {
      "text/html": [
       "<div>\n",
       "<style scoped>\n",
       "    .dataframe tbody tr th:only-of-type {\n",
       "        vertical-align: middle;\n",
       "    }\n",
       "\n",
       "    .dataframe tbody tr th {\n",
       "        vertical-align: top;\n",
       "    }\n",
       "\n",
       "    .dataframe thead th {\n",
       "        text-align: right;\n",
       "    }\n",
       "</style>\n",
       "<table border=\"1\" class=\"dataframe\">\n",
       "  <thead>\n",
       "    <tr style=\"text-align: right;\">\n",
       "      <th></th>\n",
       "      <th>num_orders</th>\n",
       "    </tr>\n",
       "    <tr>\n",
       "      <th>datetime</th>\n",
       "      <th></th>\n",
       "    </tr>\n",
       "  </thead>\n",
       "  <tbody>\n",
       "    <tr>\n",
       "      <th>2018-03-01 00:00:00</th>\n",
       "      <td>124</td>\n",
       "    </tr>\n",
       "    <tr>\n",
       "      <th>2018-03-01 01:00:00</th>\n",
       "      <td>85</td>\n",
       "    </tr>\n",
       "    <tr>\n",
       "      <th>2018-03-01 02:00:00</th>\n",
       "      <td>71</td>\n",
       "    </tr>\n",
       "    <tr>\n",
       "      <th>2018-03-01 03:00:00</th>\n",
       "      <td>66</td>\n",
       "    </tr>\n",
       "    <tr>\n",
       "      <th>2018-03-01 04:00:00</th>\n",
       "      <td>43</td>\n",
       "    </tr>\n",
       "  </tbody>\n",
       "</table>\n",
       "</div>"
      ],
      "text/plain": [
       "                     num_orders\n",
       "datetime                       \n",
       "2018-03-01 00:00:00         124\n",
       "2018-03-01 01:00:00          85\n",
       "2018-03-01 02:00:00          71\n",
       "2018-03-01 03:00:00          66\n",
       "2018-03-01 04:00:00          43"
      ]
     },
     "execution_count": 6,
     "metadata": {},
     "output_type": "execute_result"
    }
   ],
   "source": [
    "data.head()"
   ]
  },
  {
   "cell_type": "markdown",
   "metadata": {},
   "source": [
    "<a name = 'section_3'></a>\n",
    "# Data Analysis"
   ]
  },
  {
   "cell_type": "code",
   "execution_count": 7,
   "metadata": {
    "scrolled": true
   },
   "outputs": [
    {
     "name": "stdout",
     "output_type": "stream",
     "text": [
      "<class 'pandas.core.frame.DataFrame'>\n",
      "DatetimeIndex: 4416 entries, 2018-03-01 00:00:00 to 2018-08-31 23:00:00\n",
      "Freq: H\n",
      "Data columns (total 1 columns):\n",
      " #   Column      Non-Null Count  Dtype\n",
      "---  ------      --------------  -----\n",
      " 0   num_orders  4416 non-null   int64\n",
      "dtypes: int64(1)\n",
      "memory usage: 69.0 KB\n"
     ]
    }
   ],
   "source": [
    "data.info()"
   ]
  },
  {
   "cell_type": "code",
   "execution_count": 8,
   "metadata": {},
   "outputs": [
    {
     "data": {
      "text/html": [
       "<div>\n",
       "<style scoped>\n",
       "    .dataframe tbody tr th:only-of-type {\n",
       "        vertical-align: middle;\n",
       "    }\n",
       "\n",
       "    .dataframe tbody tr th {\n",
       "        vertical-align: top;\n",
       "    }\n",
       "\n",
       "    .dataframe thead th {\n",
       "        text-align: right;\n",
       "    }\n",
       "</style>\n",
       "<table border=\"1\" class=\"dataframe\">\n",
       "  <thead>\n",
       "    <tr style=\"text-align: right;\">\n",
       "      <th></th>\n",
       "      <th>num_orders</th>\n",
       "    </tr>\n",
       "  </thead>\n",
       "  <tbody>\n",
       "    <tr>\n",
       "      <th>count</th>\n",
       "      <td>4416.000000</td>\n",
       "    </tr>\n",
       "    <tr>\n",
       "      <th>mean</th>\n",
       "      <td>84.422781</td>\n",
       "    </tr>\n",
       "    <tr>\n",
       "      <th>std</th>\n",
       "      <td>45.023853</td>\n",
       "    </tr>\n",
       "    <tr>\n",
       "      <th>min</th>\n",
       "      <td>0.000000</td>\n",
       "    </tr>\n",
       "    <tr>\n",
       "      <th>25%</th>\n",
       "      <td>54.000000</td>\n",
       "    </tr>\n",
       "    <tr>\n",
       "      <th>50%</th>\n",
       "      <td>78.000000</td>\n",
       "    </tr>\n",
       "    <tr>\n",
       "      <th>75%</th>\n",
       "      <td>107.000000</td>\n",
       "    </tr>\n",
       "    <tr>\n",
       "      <th>max</th>\n",
       "      <td>462.000000</td>\n",
       "    </tr>\n",
       "  </tbody>\n",
       "</table>\n",
       "</div>"
      ],
      "text/plain": [
       "        num_orders\n",
       "count  4416.000000\n",
       "mean     84.422781\n",
       "std      45.023853\n",
       "min       0.000000\n",
       "25%      54.000000\n",
       "50%      78.000000\n",
       "75%     107.000000\n",
       "max     462.000000"
      ]
     },
     "execution_count": 8,
     "metadata": {},
     "output_type": "execute_result"
    }
   ],
   "source": [
    "data.describe()"
   ]
  },
  {
   "cell_type": "markdown",
   "metadata": {},
   "source": [
    "**Plotting of graphs: destribution of orders, weekly and daily flatterned**"
   ]
  },
  {
   "cell_type": "code",
   "execution_count": 9,
   "metadata": {
    "scrolled": true
   },
   "outputs": [
    {
     "data": {
      "text/plain": [
       "<AxesSubplot:xlabel='datetime'>"
      ]
     },
     "execution_count": 9,
     "metadata": {},
     "output_type": "execute_result"
    },
    {
     "data": {
      "image/png": "[encoded data removed]",
      "text/plain": [
       "<Figure size 432x288 with 1 Axes>"
      ]
     },
     "metadata": {
      "needs_background": "light"
     },
     "output_type": "display_data"
    }
   ],
   "source": [
    "temp_data = data.copy()\n",
    "temp_data['daily_rolling'] = temp_data.rolling(24).mean()\n",
    "temp_data['weekly_rolling'] = temp_data['num_orders'].rolling(172).mean()\n",
    "temp_data.plot()"
   ]
  },
  {
   "cell_type": "markdown",
   "metadata": {},
   "source": [
    "**Trend and seasonality graphs plotting**"
   ]
  },
  {
   "cell_type": "code",
   "execution_count": 10,
   "metadata": {},
   "outputs": [],
   "source": [
    "decomposed_data = seasonal_decompose(data)\n",
    "decomposed_data_szn = seasonal_decompose(data.resample('1D').sum())"
   ]
  },
  {
   "cell_type": "code",
   "execution_count": 11,
   "metadata": {},
   "outputs": [
    {
     "data": {
      "image/png": "[encoded data removed]",
      "text/plain": [
       "<Figure size 720x720 with 3 Axes>"
      ]
     },
     "metadata": {
      "needs_background": "light"
     },
     "output_type": "display_data"
    }
   ],
   "source": [
    "plt.figure(figsize =(10,10))\n",
    "plt.subplot(311)\n",
    "decomposed_data.trend.plot(ax=plt.gca())\n",
    "plt.title('trend')\n",
    "plt.ylabel('quantity of orders')\n",
    "plt.xlabel('date')\n",
    "\n",
    "plt.subplot(312)\n",
    "decomposed_data_szn.seasonal.head(30).plot(ax=plt.gca())\n",
    "plt.title('Sesonality in March')\n",
    "plt.ylabel('quantity of orders')\n",
    "plt.xlabel('day')\n",
    "\n",
    "plt.subplot(313)\n",
    "decomposed_data.seasonal.head(168).plot(ax=plt.gca())\n",
    "plt.title('Sesonality on first week of March')\n",
    "plt.ylabel('quantity of orders')\n",
    "plt.xlabel('day')\n",
    "\n",
    "plt.tight_layout()"
   ]
  },
  {
   "cell_type": "markdown",
   "metadata": {},
   "source": [
    "**Conclsuion:**\n",
    "\n",
    "- Based on the analysis we see that deamnd on the taxi has slow groth  from March to end of August. \n",
    "- On the seasonal March graph we see increase of demand in the middle of the week and on weekends.\n",
    "- On the season graph of first week of march we see that the highest demand is in the second half of the day and the lowest demand is the night."
   ]
  },
  {
   "cell_type": "markdown",
   "metadata": {},
   "source": [
    "<a name = 'section_4'></a>\n",
    "# Models training"
   ]
  },
  {
   "cell_type": "markdown",
   "metadata": {},
   "source": [
    "**Features extracting**"
   ]
  },
  {
   "cell_type": "code",
   "execution_count": 12,
   "metadata": {},
   "outputs": [],
   "source": [
    "data['year'] = data.index.year"
   ]
  },
  {
   "cell_type": "code",
   "execution_count": 13,
   "metadata": {},
   "outputs": [],
   "source": [
    "data['month'] = data.index.month"
   ]
  },
  {
   "cell_type": "code",
   "execution_count": 14,
   "metadata": {},
   "outputs": [],
   "source": [
    "data['day'] = data.index.day"
   ]
  },
  {
   "cell_type": "code",
   "execution_count": 15,
   "metadata": {},
   "outputs": [],
   "source": [
    "data['dayofweek'] = data.index.dayofweek"
   ]
  },
  {
   "cell_type": "code",
   "execution_count": 16,
   "metadata": {},
   "outputs": [],
   "source": [
    "data['hour'] = data.index.hour"
   ]
  },
  {
   "cell_type": "code",
   "execution_count": 17,
   "metadata": {},
   "outputs": [],
   "source": [
    "# function for adding the required qunatity of columns using shift method\n",
    "def rol_lag(df,lag_num,rol_qty):\n",
    "    df['rolling_mean'] = df['num_orders'].shift().rolling(rol_qty+1).mean()\n",
    "    lag = 1\n",
    "    for i in range(lag_num):\n",
    "        df['lag'+str(lag)] = df['num_orders'].shift(i)\n",
    "        lag+=1\n",
    "    return(df)"
   ]
  },
  {
   "cell_type": "code",
   "execution_count": 18,
   "metadata": {},
   "outputs": [
    {
     "data": {
      "text/html": [
       "<div>\n",
       "<style scoped>\n",
       "    .dataframe tbody tr th:only-of-type {\n",
       "        vertical-align: middle;\n",
       "    }\n",
       "\n",
       "    .dataframe tbody tr th {\n",
       "        vertical-align: top;\n",
       "    }\n",
       "\n",
       "    .dataframe thead th {\n",
       "        text-align: right;\n",
       "    }\n",
       "</style>\n",
       "<table border=\"1\" class=\"dataframe\">\n",
       "  <thead>\n",
       "    <tr style=\"text-align: right;\">\n",
       "      <th></th>\n",
       "      <th>num_orders</th>\n",
       "      <th>year</th>\n",
       "      <th>month</th>\n",
       "      <th>day</th>\n",
       "      <th>dayofweek</th>\n",
       "      <th>hour</th>\n",
       "      <th>rolling_mean</th>\n",
       "      <th>lag1</th>\n",
       "      <th>lag2</th>\n",
       "      <th>lag3</th>\n",
       "    </tr>\n",
       "    <tr>\n",
       "      <th>datetime</th>\n",
       "      <th></th>\n",
       "      <th></th>\n",
       "      <th></th>\n",
       "      <th></th>\n",
       "      <th></th>\n",
       "      <th></th>\n",
       "      <th></th>\n",
       "      <th></th>\n",
       "      <th></th>\n",
       "      <th></th>\n",
       "    </tr>\n",
       "  </thead>\n",
       "  <tbody>\n",
       "    <tr>\n",
       "      <th>2018-03-01 06:00:00</th>\n",
       "      <td>12</td>\n",
       "      <td>2018</td>\n",
       "      <td>3</td>\n",
       "      <td>1</td>\n",
       "      <td>3</td>\n",
       "      <td>6</td>\n",
       "      <td>65.833333</td>\n",
       "      <td>12</td>\n",
       "      <td>6.0</td>\n",
       "      <td>43.0</td>\n",
       "    </tr>\n",
       "    <tr>\n",
       "      <th>2018-03-01 07:00:00</th>\n",
       "      <td>15</td>\n",
       "      <td>2018</td>\n",
       "      <td>3</td>\n",
       "      <td>1</td>\n",
       "      <td>3</td>\n",
       "      <td>7</td>\n",
       "      <td>47.166667</td>\n",
       "      <td>15</td>\n",
       "      <td>12.0</td>\n",
       "      <td>6.0</td>\n",
       "    </tr>\n",
       "    <tr>\n",
       "      <th>2018-03-01 08:00:00</th>\n",
       "      <td>34</td>\n",
       "      <td>2018</td>\n",
       "      <td>3</td>\n",
       "      <td>1</td>\n",
       "      <td>3</td>\n",
       "      <td>8</td>\n",
       "      <td>35.500000</td>\n",
       "      <td>34</td>\n",
       "      <td>15.0</td>\n",
       "      <td>12.0</td>\n",
       "    </tr>\n",
       "    <tr>\n",
       "      <th>2018-03-01 09:00:00</th>\n",
       "      <td>69</td>\n",
       "      <td>2018</td>\n",
       "      <td>3</td>\n",
       "      <td>1</td>\n",
       "      <td>3</td>\n",
       "      <td>9</td>\n",
       "      <td>29.333333</td>\n",
       "      <td>69</td>\n",
       "      <td>34.0</td>\n",
       "      <td>15.0</td>\n",
       "    </tr>\n",
       "    <tr>\n",
       "      <th>2018-03-01 10:00:00</th>\n",
       "      <td>64</td>\n",
       "      <td>2018</td>\n",
       "      <td>3</td>\n",
       "      <td>1</td>\n",
       "      <td>3</td>\n",
       "      <td>10</td>\n",
       "      <td>29.833333</td>\n",
       "      <td>64</td>\n",
       "      <td>69.0</td>\n",
       "      <td>34.0</td>\n",
       "    </tr>\n",
       "    <tr>\n",
       "      <th>2018-03-01 11:00:00</th>\n",
       "      <td>96</td>\n",
       "      <td>2018</td>\n",
       "      <td>3</td>\n",
       "      <td>1</td>\n",
       "      <td>3</td>\n",
       "      <td>11</td>\n",
       "      <td>33.333333</td>\n",
       "      <td>96</td>\n",
       "      <td>64.0</td>\n",
       "      <td>69.0</td>\n",
       "    </tr>\n",
       "    <tr>\n",
       "      <th>2018-03-01 12:00:00</th>\n",
       "      <td>30</td>\n",
       "      <td>2018</td>\n",
       "      <td>3</td>\n",
       "      <td>1</td>\n",
       "      <td>3</td>\n",
       "      <td>12</td>\n",
       "      <td>48.333333</td>\n",
       "      <td>30</td>\n",
       "      <td>96.0</td>\n",
       "      <td>64.0</td>\n",
       "    </tr>\n",
       "    <tr>\n",
       "      <th>2018-03-01 13:00:00</th>\n",
       "      <td>32</td>\n",
       "      <td>2018</td>\n",
       "      <td>3</td>\n",
       "      <td>1</td>\n",
       "      <td>3</td>\n",
       "      <td>13</td>\n",
       "      <td>51.333333</td>\n",
       "      <td>32</td>\n",
       "      <td>30.0</td>\n",
       "      <td>96.0</td>\n",
       "    </tr>\n",
       "    <tr>\n",
       "      <th>2018-03-01 14:00:00</th>\n",
       "      <td>48</td>\n",
       "      <td>2018</td>\n",
       "      <td>3</td>\n",
       "      <td>1</td>\n",
       "      <td>3</td>\n",
       "      <td>14</td>\n",
       "      <td>54.166667</td>\n",
       "      <td>48</td>\n",
       "      <td>32.0</td>\n",
       "      <td>30.0</td>\n",
       "    </tr>\n",
       "    <tr>\n",
       "      <th>2018-03-01 15:00:00</th>\n",
       "      <td>66</td>\n",
       "      <td>2018</td>\n",
       "      <td>3</td>\n",
       "      <td>1</td>\n",
       "      <td>3</td>\n",
       "      <td>15</td>\n",
       "      <td>56.500000</td>\n",
       "      <td>66</td>\n",
       "      <td>48.0</td>\n",
       "      <td>32.0</td>\n",
       "    </tr>\n",
       "  </tbody>\n",
       "</table>\n",
       "</div>"
      ],
      "text/plain": [
       "                     num_orders  year  month  day  dayofweek  hour  \\\n",
       "datetime                                                             \n",
       "2018-03-01 06:00:00          12  2018      3    1          3     6   \n",
       "2018-03-01 07:00:00          15  2018      3    1          3     7   \n",
       "2018-03-01 08:00:00          34  2018      3    1          3     8   \n",
       "2018-03-01 09:00:00          69  2018      3    1          3     9   \n",
       "2018-03-01 10:00:00          64  2018      3    1          3    10   \n",
       "2018-03-01 11:00:00          96  2018      3    1          3    11   \n",
       "2018-03-01 12:00:00          30  2018      3    1          3    12   \n",
       "2018-03-01 13:00:00          32  2018      3    1          3    13   \n",
       "2018-03-01 14:00:00          48  2018      3    1          3    14   \n",
       "2018-03-01 15:00:00          66  2018      3    1          3    15   \n",
       "\n",
       "                     rolling_mean  lag1  lag2  lag3  \n",
       "datetime                                             \n",
       "2018-03-01 06:00:00     65.833333    12   6.0  43.0  \n",
       "2018-03-01 07:00:00     47.166667    15  12.0   6.0  \n",
       "2018-03-01 08:00:00     35.500000    34  15.0  12.0  \n",
       "2018-03-01 09:00:00     29.333333    69  34.0  15.0  \n",
       "2018-03-01 10:00:00     29.833333    64  69.0  34.0  \n",
       "2018-03-01 11:00:00     33.333333    96  64.0  69.0  \n",
       "2018-03-01 12:00:00     48.333333    30  96.0  64.0  \n",
       "2018-03-01 13:00:00     51.333333    32  30.0  96.0  \n",
       "2018-03-01 14:00:00     54.166667    48  32.0  30.0  \n",
       "2018-03-01 15:00:00     56.500000    66  48.0  32.0  "
      ]
     },
     "execution_count": 18,
     "metadata": {},
     "output_type": "execute_result"
    }
   ],
   "source": [
    "data_set = rol_lag(data,3,5)\n",
    "data_set = data_set.dropna()\n",
    "data_set.head(10)"
   ]
  },
  {
   "cell_type": "code",
   "execution_count": 19,
   "metadata": {},
   "outputs": [],
   "source": [
    "train, test = train_test_split(data_set, shuffle = False, test_size = 0.1)"
   ]
  },
  {
   "cell_type": "code",
   "execution_count": 20,
   "metadata": {},
   "outputs": [],
   "source": [
    "train, valid = train_test_split(train, shuffle = False, test_size = 0.2)"
   ]
  },
  {
   "cell_type": "code",
   "execution_count": 21,
   "metadata": {},
   "outputs": [],
   "source": [
    "train_target = train['num_orders']\n",
    "train_features = train.drop('num_orders', axis = 1)"
   ]
  },
  {
   "cell_type": "code",
   "execution_count": 22,
   "metadata": {},
   "outputs": [],
   "source": [
    "valid_target = valid['num_orders']\n",
    "valid_features = valid.drop('num_orders', axis = 1)"
   ]
  },
  {
   "cell_type": "code",
   "execution_count": 23,
   "metadata": {},
   "outputs": [],
   "source": [
    "test_target = test['num_orders']\n",
    "test_features = test.drop('num_orders', axis = 1)"
   ]
  },
  {
   "cell_type": "markdown",
   "metadata": {},
   "source": [
    "**Logistic regression training**"
   ]
  },
  {
   "cell_type": "code",
   "execution_count": 24,
   "metadata": {},
   "outputs": [],
   "source": [
    "LR_model = LogisticRegression(random_state=0)"
   ]
  },
  {
   "cell_type": "code",
   "execution_count": 25,
   "metadata": {},
   "outputs": [
    {
     "data": {
      "text/html": [
       "<style>#sk-container-id-1 {color: black;background-color: white;}#sk-container-id-1 pre{padding: 0;}#sk-container-id-1 div.sk-toggleable {background-color: white;}#sk-container-id-1 label.sk-toggleable__label {cursor: pointer;display: block;width: 100%;margin-bottom: 0;padding: 0.3em;box-sizing: border-box;text-align: center;}#sk-container-id-1 label.sk-toggleable__label-arrow:before {content: \"▸\";float: left;margin-right: 0.25em;color: #696969;}#sk-container-id-1 label.sk-toggleable__label-arrow:hover:before {color: black;}#sk-container-id-1 div.sk-estimator:hover label.sk-toggleable__label-arrow:before {color: black;}#sk-container-id-1 div.sk-toggleable__content {max-height: 0;max-width: 0;overflow: hidden;text-align: left;background-color: #f0f8ff;}#sk-container-id-1 div.sk-toggleable__content pre {margin: 0.2em;color: black;border-radius: 0.25em;background-color: #f0f8ff;}#sk-container-id-1 input.sk-toggleable__control:checked~div.sk-toggleable__content {max-height: 200px;max-width: 100%;overflow: auto;}#sk-container-id-1 input.sk-toggleable__control:checked~label.sk-toggleable__label-arrow:before {content: \"▾\";}#sk-container-id-1 div.sk-estimator input.sk-toggleable__control:checked~label.sk-toggleable__label {background-color: #d4ebff;}#sk-container-id-1 div.sk-label input.sk-toggleable__control:checked~label.sk-toggleable__label {background-color: #d4ebff;}#sk-container-id-1 input.sk-hidden--visually {border: 0;clip: rect(1px 1px 1px 1px);clip: rect(1px, 1px, 1px, 1px);height: 1px;margin: -1px;overflow: hidden;padding: 0;position: absolute;width: 1px;}#sk-container-id-1 div.sk-estimator {font-family: monospace;background-color: #f0f8ff;border: 1px dotted black;border-radius: 0.25em;box-sizing: border-box;margin-bottom: 0.5em;}#sk-container-id-1 div.sk-estimator:hover {background-color: #d4ebff;}#sk-container-id-1 div.sk-parallel-item::after {content: \"\";width: 100%;border-bottom: 1px solid gray;flex-grow: 1;}#sk-container-id-1 div.sk-label:hover label.sk-toggleable__label {background-color: #d4ebff;}#sk-container-id-1 div.sk-serial::before {content: \"\";position: absolute;border-left: 1px solid gray;box-sizing: border-box;top: 0;bottom: 0;left: 50%;z-index: 0;}#sk-container-id-1 div.sk-serial {display: flex;flex-direction: column;align-items: center;background-color: white;padding-right: 0.2em;padding-left: 0.2em;position: relative;}#sk-container-id-1 div.sk-item {position: relative;z-index: 1;}#sk-container-id-1 div.sk-parallel {display: flex;align-items: stretch;justify-content: center;background-color: white;position: relative;}#sk-container-id-1 div.sk-item::before, #sk-container-id-1 div.sk-parallel-item::before {content: \"\";position: absolute;border-left: 1px solid gray;box-sizing: border-box;top: 0;bottom: 0;left: 50%;z-index: -1;}#sk-container-id-1 div.sk-parallel-item {display: flex;flex-direction: column;z-index: 1;position: relative;background-color: white;}#sk-container-id-1 div.sk-parallel-item:first-child::after {align-self: flex-end;width: 50%;}#sk-container-id-1 div.sk-parallel-item:last-child::after {align-self: flex-start;width: 50%;}#sk-container-id-1 div.sk-parallel-item:only-child::after {width: 0;}#sk-container-id-1 div.sk-dashed-wrapped {border: 1px dashed gray;margin: 0 0.4em 0.5em 0.4em;box-sizing: border-box;padding-bottom: 0.4em;background-color: white;}#sk-container-id-1 div.sk-label label {font-family: monospace;font-weight: bold;display: inline-block;line-height: 1.2em;}#sk-container-id-1 div.sk-label-container {text-align: center;}#sk-container-id-1 div.sk-container {/* jupyter's `normalize.less` sets `[hidden] { display: none; }` but bootstrap.min.css set `[hidden] { display: none !important; }` so we also need the `!important` here to be able to override the default hidden behavior on the sphinx rendered scikit-learn.org. See: https://github.com/scikit-learn/scikit-learn/issues/21755 */display: inline-block !important;position: relative;}#sk-container-id-1 div.sk-text-repr-fallback {display: none;}</style><div id=\"sk-container-id-1\" class=\"sk-top-container\"><div class=\"sk-text-repr-fallback\"><pre>LogisticRegression(random_state=0)</pre><b>In a Jupyter environment, please rerun this cell to show the HTML representation or trust the notebook. <br />On GitHub, the HTML representation is unable to render, please try loading this page with nbviewer.org.</b></div><div class=\"sk-container\" hidden><div class=\"sk-item\"><div class=\"sk-estimator sk-toggleable\"><input class=\"sk-toggleable__control sk-hidden--visually\" id=\"sk-estimator-id-1\" type=\"checkbox\" checked><label for=\"sk-estimator-id-1\" class=\"sk-toggleable__label sk-toggleable__label-arrow\">LogisticRegression</label><div class=\"sk-toggleable__content\"><pre>LogisticRegression(random_state=0)</pre></div></div></div></div></div>"
      ],
      "text/plain": [
       "LogisticRegression(random_state=0)"
      ]
     },
     "execution_count": 25,
     "metadata": {},
     "output_type": "execute_result"
    }
   ],
   "source": [
    "LR_model.fit(train_features,train_target)"
   ]
  },
  {
   "cell_type": "code",
   "execution_count": 26,
   "metadata": {},
   "outputs": [],
   "source": [
    "LR_predictions = LR_model.predict(valid_features)"
   ]
  },
  {
   "cell_type": "code",
   "execution_count": 27,
   "metadata": {},
   "outputs": [],
   "source": [
    "RMSE_LR = mean_squared_error(valid_target,LR_predictions,squared= False)"
   ]
  },
  {
   "cell_type": "code",
   "execution_count": 28,
   "metadata": {},
   "outputs": [
    {
     "data": {
      "text/plain": [
       "32.28852920756703"
      ]
     },
     "execution_count": 28,
     "metadata": {},
     "output_type": "execute_result"
    }
   ],
   "source": [
    "RMSE_LR"
   ]
  },
  {
   "cell_type": "markdown",
   "metadata": {},
   "source": [
    "**Random forest training**"
   ]
  },
  {
   "cell_type": "code",
   "execution_count": 29,
   "metadata": {},
   "outputs": [],
   "source": [
    "n_estimators = [int(x) for x in np.linspace(start = 10, stop = 100, num = 10)]\n",
    "max_features = ['auto', 'sqrt']\n",
    "max_depth = [int(x) for x in np.linspace(10, 30, num = 10)]\n",
    "min_samples_split = [2, 5, 10]\n",
    "min_samples_leaf = [1, 2, 4]\n",
    "bootstrap = [True, False]"
   ]
  },
  {
   "cell_type": "code",
   "execution_count": 30,
   "metadata": {},
   "outputs": [],
   "source": [
    "random_grid = {'n_estimators': n_estimators,\n",
    "               'max_features': max_features,\n",
    "               'max_depth': max_depth,\n",
    "               'min_samples_split': min_samples_split,\n",
    "               'min_samples_leaf': min_samples_leaf,\n",
    "               'bootstrap': bootstrap}"
   ]
  },
  {
   "cell_type": "code",
   "execution_count": 31,
   "metadata": {},
   "outputs": [],
   "source": [
    "RF = RandomForestRegressor()"
   ]
  },
  {
   "cell_type": "code",
   "execution_count": 32,
   "metadata": {},
   "outputs": [],
   "source": [
    "tscv = TimeSeriesSplit(max_train_size = 5, test_size=1)"
   ]
  },
  {
   "cell_type": "code",
   "execution_count": 33,
   "metadata": {},
   "outputs": [],
   "source": [
    "RF_model = RandomizedSearchCV(estimator = RF, param_distributions = random_grid, random_state=42, cv=tscv)"
   ]
  },
  {
   "cell_type": "code",
   "execution_count": 34,
   "metadata": {},
   "outputs": [
    {
     "data": {
      "text/html": [
       "<style>#sk-container-id-2 {color: black;background-color: white;}#sk-container-id-2 pre{padding: 0;}#sk-container-id-2 div.sk-toggleable {background-color: white;}#sk-container-id-2 label.sk-toggleable__label {cursor: pointer;display: block;width: 100%;margin-bottom: 0;padding: 0.3em;box-sizing: border-box;text-align: center;}#sk-container-id-2 label.sk-toggleable__label-arrow:before {content: \"▸\";float: left;margin-right: 0.25em;color: #696969;}#sk-container-id-2 label.sk-toggleable__label-arrow:hover:before {color: black;}#sk-container-id-2 div.sk-estimator:hover label.sk-toggleable__label-arrow:before {color: black;}#sk-container-id-2 div.sk-toggleable__content {max-height: 0;max-width: 0;overflow: hidden;text-align: left;background-color: #f0f8ff;}#sk-container-id-2 div.sk-toggleable__content pre {margin: 0.2em;color: black;border-radius: 0.25em;background-color: #f0f8ff;}#sk-container-id-2 input.sk-toggleable__control:checked~div.sk-toggleable__content {max-height: 200px;max-width: 100%;overflow: auto;}#sk-container-id-2 input.sk-toggleable__control:checked~label.sk-toggleable__label-arrow:before {content: \"▾\";}#sk-container-id-2 div.sk-estimator input.sk-toggleable__control:checked~label.sk-toggleable__label {background-color: #d4ebff;}#sk-container-id-2 div.sk-label input.sk-toggleable__control:checked~label.sk-toggleable__label {background-color: #d4ebff;}#sk-container-id-2 input.sk-hidden--visually {border: 0;clip: rect(1px 1px 1px 1px);clip: rect(1px, 1px, 1px, 1px);height: 1px;margin: -1px;overflow: hidden;padding: 0;position: absolute;width: 1px;}#sk-container-id-2 div.sk-estimator {font-family: monospace;background-color: #f0f8ff;border: 1px dotted black;border-radius: 0.25em;box-sizing: border-box;margin-bottom: 0.5em;}#sk-container-id-2 div.sk-estimator:hover {background-color: #d4ebff;}#sk-container-id-2 div.sk-parallel-item::after {content: \"\";width: 100%;border-bottom: 1px solid gray;flex-grow: 1;}#sk-container-id-2 div.sk-label:hover label.sk-toggleable__label {background-color: #d4ebff;}#sk-container-id-2 div.sk-serial::before {content: \"\";position: absolute;border-left: 1px solid gray;box-sizing: border-box;top: 0;bottom: 0;left: 50%;z-index: 0;}#sk-container-id-2 div.sk-serial {display: flex;flex-direction: column;align-items: center;background-color: white;padding-right: 0.2em;padding-left: 0.2em;position: relative;}#sk-container-id-2 div.sk-item {position: relative;z-index: 1;}#sk-container-id-2 div.sk-parallel {display: flex;align-items: stretch;justify-content: center;background-color: white;position: relative;}#sk-container-id-2 div.sk-item::before, #sk-container-id-2 div.sk-parallel-item::before {content: \"\";position: absolute;border-left: 1px solid gray;box-sizing: border-box;top: 0;bottom: 0;left: 50%;z-index: -1;}#sk-container-id-2 div.sk-parallel-item {display: flex;flex-direction: column;z-index: 1;position: relative;background-color: white;}#sk-container-id-2 div.sk-parallel-item:first-child::after {align-self: flex-end;width: 50%;}#sk-container-id-2 div.sk-parallel-item:last-child::after {align-self: flex-start;width: 50%;}#sk-container-id-2 div.sk-parallel-item:only-child::after {width: 0;}#sk-container-id-2 div.sk-dashed-wrapped {border: 1px dashed gray;margin: 0 0.4em 0.5em 0.4em;box-sizing: border-box;padding-bottom: 0.4em;background-color: white;}#sk-container-id-2 div.sk-label label {font-family: monospace;font-weight: bold;display: inline-block;line-height: 1.2em;}#sk-container-id-2 div.sk-label-container {text-align: center;}#sk-container-id-2 div.sk-container {/* jupyter's `normalize.less` sets `[hidden] { display: none; }` but bootstrap.min.css set `[hidden] { display: none !important; }` so we also need the `!important` here to be able to override the default hidden behavior on the sphinx rendered scikit-learn.org. See: https://github.com/scikit-learn/scikit-learn/issues/21755 */display: inline-block !important;position: relative;}#sk-container-id-2 div.sk-text-repr-fallback {display: none;}</style><div id=\"sk-container-id-2\" class=\"sk-top-container\"><div class=\"sk-text-repr-fallback\"><pre>RandomizedSearchCV(cv=TimeSeriesSplit(gap=0, max_train_size=5, n_splits=5, test_size=1),\n",
       "                   estimator=RandomForestRegressor(),\n",
       "                   param_distributions={&#x27;bootstrap&#x27;: [True, False],\n",
       "                                        &#x27;max_depth&#x27;: [10, 12, 14, 16, 18, 21,\n",
       "                                                      23, 25, 27, 30],\n",
       "                                        &#x27;max_features&#x27;: [&#x27;auto&#x27;, &#x27;sqrt&#x27;],\n",
       "                                        &#x27;min_samples_leaf&#x27;: [1, 2, 4],\n",
       "                                        &#x27;min_samples_split&#x27;: [2, 5, 10],\n",
       "                                        &#x27;n_estimators&#x27;: [10, 20, 30, 40, 50, 60,\n",
       "                                                         70, 80, 90, 100]},\n",
       "                   random_state=42)</pre><b>In a Jupyter environment, please rerun this cell to show the HTML representation or trust the notebook. <br />On GitHub, the HTML representation is unable to render, please try loading this page with nbviewer.org.</b></div><div class=\"sk-container\" hidden><div class=\"sk-item sk-dashed-wrapped\"><div class=\"sk-label-container\"><div class=\"sk-label sk-toggleable\"><input class=\"sk-toggleable__control sk-hidden--visually\" id=\"sk-estimator-id-2\" type=\"checkbox\" ><label for=\"sk-estimator-id-2\" class=\"sk-toggleable__label sk-toggleable__label-arrow\">RandomizedSearchCV</label><div class=\"sk-toggleable__content\"><pre>RandomizedSearchCV(cv=TimeSeriesSplit(gap=0, max_train_size=5, n_splits=5, test_size=1),\n",
       "                   estimator=RandomForestRegressor(),\n",
       "                   param_distributions={&#x27;bootstrap&#x27;: [True, False],\n",
       "                                        &#x27;max_depth&#x27;: [10, 12, 14, 16, 18, 21,\n",
       "                                                      23, 25, 27, 30],\n",
       "                                        &#x27;max_features&#x27;: [&#x27;auto&#x27;, &#x27;sqrt&#x27;],\n",
       "                                        &#x27;min_samples_leaf&#x27;: [1, 2, 4],\n",
       "                                        &#x27;min_samples_split&#x27;: [2, 5, 10],\n",
       "                                        &#x27;n_estimators&#x27;: [10, 20, 30, 40, 50, 60,\n",
       "                                                         70, 80, 90, 100]},\n",
       "                   random_state=42)</pre></div></div></div><div class=\"sk-parallel\"><div class=\"sk-parallel-item\"><div class=\"sk-item\"><div class=\"sk-label-container\"><div class=\"sk-label sk-toggleable\"><input class=\"sk-toggleable__control sk-hidden--visually\" id=\"sk-estimator-id-3\" type=\"checkbox\" ><label for=\"sk-estimator-id-3\" class=\"sk-toggleable__label sk-toggleable__label-arrow\">estimator: RandomForestRegressor</label><div class=\"sk-toggleable__content\"><pre>RandomForestRegressor()</pre></div></div></div><div class=\"sk-serial\"><div class=\"sk-item\"><div class=\"sk-estimator sk-toggleable\"><input class=\"sk-toggleable__control sk-hidden--visually\" id=\"sk-estimator-id-4\" type=\"checkbox\" ><label for=\"sk-estimator-id-4\" class=\"sk-toggleable__label sk-toggleable__label-arrow\">RandomForestRegressor</label><div class=\"sk-toggleable__content\"><pre>RandomForestRegressor()</pre></div></div></div></div></div></div></div></div></div></div>"
      ],
      "text/plain": [
       "RandomizedSearchCV(cv=TimeSeriesSplit(gap=0, max_train_size=5, n_splits=5, test_size=1),\n",
       "                   estimator=RandomForestRegressor(),\n",
       "                   param_distributions={'bootstrap': [True, False],\n",
       "                                        'max_depth': [10, 12, 14, 16, 18, 21,\n",
       "                                                      23, 25, 27, 30],\n",
       "                                        'max_features': ['auto', 'sqrt'],\n",
       "                                        'min_samples_leaf': [1, 2, 4],\n",
       "                                        'min_samples_split': [2, 5, 10],\n",
       "                                        'n_estimators': [10, 20, 30, 40, 50, 60,\n",
       "                                                         70, 80, 90, 100]},\n",
       "                   random_state=42)"
      ]
     },
     "execution_count": 34,
     "metadata": {},
     "output_type": "execute_result"
    }
   ],
   "source": [
    "RF_model.fit(train_features,train_target)"
   ]
  },
  {
   "cell_type": "code",
   "execution_count": 35,
   "metadata": {},
   "outputs": [],
   "source": [
    "RF_predictions = RF_model.predict(valid_features)"
   ]
  },
  {
   "cell_type": "code",
   "execution_count": 36,
   "metadata": {},
   "outputs": [],
   "source": [
    "RMSE_RF = mean_squared_error(valid_target,RF_predictions,squared= False)"
   ]
  },
  {
   "cell_type": "code",
   "execution_count": 37,
   "metadata": {},
   "outputs": [
    {
     "data": {
      "text/plain": [
       "13.172828459572049"
      ]
     },
     "execution_count": 37,
     "metadata": {},
     "output_type": "execute_result"
    }
   ],
   "source": [
    "RMSE_RF"
   ]
  },
  {
   "cell_type": "markdown",
   "metadata": {},
   "source": [
    "<a name = 'section_5'></a>\n",
    "# Models testing"
   ]
  },
  {
   "cell_type": "markdown",
   "metadata": {},
   "source": [
    "**selection of best model:**"
   ]
  },
  {
   "cell_type": "code",
   "execution_count": 38,
   "metadata": {},
   "outputs": [],
   "source": [
    "list = [LR_model,RF_model]"
   ]
  },
  {
   "cell_type": "code",
   "execution_count": 39,
   "metadata": {},
   "outputs": [],
   "source": [
    "result_df = pd.DataFrame(list,columns = ['model'])"
   ]
  },
  {
   "cell_type": "code",
   "execution_count": 40,
   "metadata": {},
   "outputs": [],
   "source": [
    "prediction = []\n",
    "test_rmse =[]\n",
    "for i in range(len(list)):\n",
    "    prediction.append(result_df['model'][i].predict(test_features))\n",
    "    test_rmse.append(mean_squared_error(test_target,result_df['model'][i].predict(test_features),squared = False))\n",
    "    \n",
    "result_df['prediction'] = prediction\n",
    "result_df['RMSE'] = test_rmse"
   ]
  },
  {
   "cell_type": "code",
   "execution_count": 41,
   "metadata": {},
   "outputs": [
    {
     "data": {
      "text/html": [
       "<div>\n",
       "<style scoped>\n",
       "    .dataframe tbody tr th:only-of-type {\n",
       "        vertical-align: middle;\n",
       "    }\n",
       "\n",
       "    .dataframe tbody tr th {\n",
       "        vertical-align: top;\n",
       "    }\n",
       "\n",
       "    .dataframe thead th {\n",
       "        text-align: right;\n",
       "    }\n",
       "</style>\n",
       "<table border=\"1\" class=\"dataframe\">\n",
       "  <thead>\n",
       "    <tr style=\"text-align: right;\">\n",
       "      <th></th>\n",
       "      <th>model</th>\n",
       "      <th>prediction</th>\n",
       "      <th>RMSE</th>\n",
       "    </tr>\n",
       "  </thead>\n",
       "  <tbody>\n",
       "    <tr>\n",
       "      <th>1</th>\n",
       "      <td>RandomizedSearchCV(cv=TimeSeriesSplit(gap=0, m...</td>\n",
       "      <td>[157.66814285714284, 145.987, 148.755492063492...</td>\n",
       "      <td>29.591714</td>\n",
       "    </tr>\n",
       "    <tr>\n",
       "      <th>0</th>\n",
       "      <td>LogisticRegression(random_state=0)</td>\n",
       "      <td>[129, 118, 129, 110, 146, 76, 115, 110, 129, 1...</td>\n",
       "      <td>58.060274</td>\n",
       "    </tr>\n",
       "  </tbody>\n",
       "</table>\n",
       "</div>"
      ],
      "text/plain": [
       "                                               model  \\\n",
       "1  RandomizedSearchCV(cv=TimeSeriesSplit(gap=0, m...   \n",
       "0                 LogisticRegression(random_state=0)   \n",
       "\n",
       "                                          prediction       RMSE  \n",
       "1  [157.66814285714284, 145.987, 148.755492063492...  29.591714  \n",
       "0  [129, 118, 129, 110, 146, 76, 115, 110, 129, 1...  58.060274  "
      ]
     },
     "execution_count": 41,
     "metadata": {},
     "output_type": "execute_result"
    }
   ],
   "source": [
    "result_df.sort_values(by = 'RMSE')"
   ]
  },
  {
   "cell_type": "code",
   "execution_count": 42,
   "metadata": {},
   "outputs": [],
   "source": [
    "best_result = result_df['RMSE'].min()"
   ]
  },
  {
   "cell_type": "code",
   "execution_count": 43,
   "metadata": {},
   "outputs": [],
   "source": [
    "best_model = result_df[result_df['RMSE'] == best_result]"
   ]
  },
  {
   "cell_type": "code",
   "execution_count": 44,
   "metadata": {},
   "outputs": [
    {
     "data": {
      "text/html": [
       "<div>\n",
       "<style scoped>\n",
       "    .dataframe tbody tr th:only-of-type {\n",
       "        vertical-align: middle;\n",
       "    }\n",
       "\n",
       "    .dataframe tbody tr th {\n",
       "        vertical-align: top;\n",
       "    }\n",
       "\n",
       "    .dataframe thead th {\n",
       "        text-align: right;\n",
       "    }\n",
       "</style>\n",
       "<table border=\"1\" class=\"dataframe\">\n",
       "  <thead>\n",
       "    <tr style=\"text-align: right;\">\n",
       "      <th></th>\n",
       "      <th>model</th>\n",
       "      <th>prediction</th>\n",
       "      <th>RMSE</th>\n",
       "    </tr>\n",
       "  </thead>\n",
       "  <tbody>\n",
       "    <tr>\n",
       "      <th>1</th>\n",
       "      <td>RandomizedSearchCV(cv=TimeSeriesSplit(gap=0, m...</td>\n",
       "      <td>[157.66814285714284, 145.987, 148.755492063492...</td>\n",
       "      <td>29.591714</td>\n",
       "    </tr>\n",
       "  </tbody>\n",
       "</table>\n",
       "</div>"
      ],
      "text/plain": [
       "                                               model  \\\n",
       "1  RandomizedSearchCV(cv=TimeSeriesSplit(gap=0, m...   \n",
       "\n",
       "                                          prediction       RMSE  \n",
       "1  [157.66814285714284, 145.987, 148.755492063492...  29.591714  "
      ]
     },
     "execution_count": 44,
     "metadata": {},
     "output_type": "execute_result"
    }
   ],
   "source": [
    "best_model"
   ]
  },
  {
   "cell_type": "markdown",
   "metadata": {},
   "source": [
    "**Conclusion** \n",
    "\n",
    "1) Best RMSE score has random forest model with hyperparameters tuning;\n",
    "\n",
    "2) required score RMSE < 48 sccessfully achieved"
   ]
  }
 ],
 "metadata": {
  "ExecuteTimeLog": [
   {
    "duration": 422,
    "start_time": "2022-11-05T07:04:05.167Z"
   },
   {
    "duration": 89,
    "start_time": "2022-11-05T07:04:38.307Z"
   },
   {
    "duration": 51,
    "start_time": "2022-11-05T07:04:46.066Z"
   },
   {
    "duration": 51,
    "start_time": "2022-11-05T07:04:52.266Z"
   },
   {
    "duration": 50,
    "start_time": "2022-11-05T07:04:56.477Z"
   },
   {
    "duration": 17,
    "start_time": "2022-11-05T07:06:12.771Z"
   },
   {
    "duration": 301,
    "start_time": "2022-11-05T07:08:20.486Z"
   },
   {
    "duration": 15,
    "start_time": "2022-11-05T07:09:15.268Z"
   },
   {
    "duration": 73,
    "start_time": "2022-11-05T07:09:19.676Z"
   },
   {
    "duration": 7,
    "start_time": "2022-11-05T07:09:19.956Z"
   },
   {
    "duration": 10,
    "start_time": "2022-11-05T07:09:39.687Z"
   },
   {
    "duration": 51,
    "start_time": "2022-11-05T07:10:13.431Z"
   },
   {
    "duration": 9,
    "start_time": "2022-11-05T07:10:14.245Z"
   },
   {
    "duration": 3,
    "start_time": "2022-11-05T07:10:55.427Z"
   },
   {
    "duration": 9,
    "start_time": "2022-11-05T07:11:04.546Z"
   },
   {
    "duration": 14,
    "start_time": "2022-11-05T07:11:43.387Z"
   },
   {
    "duration": 11,
    "start_time": "2022-11-05T07:11:46.587Z"
   },
   {
    "duration": 7,
    "start_time": "2022-11-05T07:11:51.355Z"
   },
   {
    "duration": 689,
    "start_time": "2022-11-05T07:12:23.696Z"
   },
   {
    "duration": 245,
    "start_time": "2022-11-05T07:13:16.967Z"
   },
   {
    "duration": 550,
    "start_time": "2022-11-05T07:13:31.506Z"
   },
   {
    "duration": 696,
    "start_time": "2022-11-05T07:15:38.314Z"
   },
   {
    "duration": 18,
    "start_time": "2022-11-05T07:16:20.506Z"
   },
   {
    "duration": 568,
    "start_time": "2022-11-05T07:16:58.046Z"
   },
   {
    "duration": 464,
    "start_time": "2022-11-05T07:17:03.348Z"
   },
   {
    "duration": 278,
    "start_time": "2022-11-05T07:17:48.740Z"
   },
   {
    "duration": 255,
    "start_time": "2022-11-05T07:17:56.824Z"
   },
   {
    "duration": 264,
    "start_time": "2022-11-05T07:18:02.568Z"
   },
   {
    "duration": 48,
    "start_time": "2022-11-05T07:21:02.966Z"
   },
   {
    "duration": 14,
    "start_time": "2022-11-05T07:21:17.406Z"
   },
   {
    "duration": 13,
    "start_time": "2022-11-05T07:21:21.148Z"
   },
   {
    "duration": 3,
    "start_time": "2022-11-05T07:21:46.106Z"
   },
   {
    "duration": 123,
    "start_time": "2022-11-05T07:21:49.115Z"
   },
   {
    "duration": 690,
    "start_time": "2022-11-05T07:22:03.127Z"
   },
   {
    "duration": 16,
    "start_time": "2022-11-05T07:22:39.207Z"
   },
   {
    "duration": 11,
    "start_time": "2022-11-05T07:22:45.726Z"
   },
   {
    "duration": 1298,
    "start_time": "2022-11-05T07:23:30.548Z"
   },
   {
    "duration": 130,
    "start_time": "2022-11-05T07:23:31.854Z"
   },
   {
    "duration": 4,
    "start_time": "2022-11-05T07:23:31.986Z"
   },
   {
    "duration": 31,
    "start_time": "2022-11-05T07:23:31.992Z"
   },
   {
    "duration": 16,
    "start_time": "2022-11-05T07:23:32.025Z"
   },
   {
    "duration": 13,
    "start_time": "2022-11-05T07:23:32.044Z"
   },
   {
    "duration": 281,
    "start_time": "2022-11-05T07:23:32.417Z"
   },
   {
    "duration": 10,
    "start_time": "2022-11-05T07:23:33.008Z"
   },
   {
    "duration": 543,
    "start_time": "2022-11-05T07:23:33.806Z"
   },
   {
    "duration": 330,
    "start_time": "2022-11-05T07:23:53.987Z"
   },
   {
    "duration": 730,
    "start_time": "2022-11-05T07:24:15.888Z"
   },
   {
    "duration": 15,
    "start_time": "2022-11-05T07:24:48.847Z"
   },
   {
    "duration": 16,
    "start_time": "2022-11-05T07:24:58.182Z"
   },
   {
    "duration": 574,
    "start_time": "2022-11-05T07:25:37.612Z"
   },
   {
    "duration": 682,
    "start_time": "2022-11-05T07:25:42.947Z"
   },
   {
    "duration": 137,
    "start_time": "2022-11-05T07:25:55.397Z"
   },
   {
    "duration": 270,
    "start_time": "2022-11-05T07:26:08.287Z"
   },
   {
    "duration": 722,
    "start_time": "2022-11-05T07:26:23.247Z"
   },
   {
    "duration": 487,
    "start_time": "2022-11-05T07:26:28.964Z"
   },
   {
    "duration": 602,
    "start_time": "2022-11-05T07:26:33.507Z"
   },
   {
    "duration": 243,
    "start_time": "2022-11-05T07:29:59.450Z"
   },
   {
    "duration": 278,
    "start_time": "2022-11-05T07:30:04.667Z"
   },
   {
    "duration": 1234,
    "start_time": "2022-11-05T07:30:55.109Z"
   },
   {
    "duration": 417,
    "start_time": "2022-11-05T07:31:48.929Z"
   },
   {
    "duration": 11,
    "start_time": "2022-11-05T07:43:54.069Z"
   },
   {
    "duration": 5,
    "start_time": "2022-11-05T07:43:58.111Z"
   },
   {
    "duration": 5,
    "start_time": "2022-11-05T07:44:11.449Z"
   },
   {
    "duration": 6,
    "start_time": "2022-11-05T07:44:21.879Z"
   },
   {
    "duration": 4,
    "start_time": "2022-11-05T07:44:45.470Z"
   },
   {
    "duration": 4,
    "start_time": "2022-11-05T07:48:42.046Z"
   },
   {
    "duration": 5,
    "start_time": "2022-11-05T07:57:34.109Z"
   },
   {
    "duration": 13,
    "start_time": "2022-11-05T07:57:34.858Z"
   },
   {
    "duration": 11,
    "start_time": "2022-11-05T07:57:42.229Z"
   },
   {
    "duration": 11,
    "start_time": "2022-11-05T07:57:57.550Z"
   },
   {
    "duration": 23,
    "start_time": "2022-11-05T07:58:01.133Z"
   },
   {
    "duration": 21,
    "start_time": "2022-11-05T07:58:40.790Z"
   },
   {
    "duration": 268,
    "start_time": "2022-11-05T07:59:40.531Z"
   },
   {
    "duration": 5,
    "start_time": "2022-11-05T08:00:14.889Z"
   },
   {
    "duration": 3,
    "start_time": "2022-11-05T08:01:20.291Z"
   },
   {
    "duration": 4,
    "start_time": "2022-11-05T08:01:34.930Z"
   },
   {
    "duration": 3,
    "start_time": "2022-11-05T08:06:40.401Z"
   },
   {
    "duration": 4,
    "start_time": "2022-11-05T08:08:08.950Z"
   },
   {
    "duration": 4,
    "start_time": "2022-11-05T08:08:09.258Z"
   },
   {
    "duration": 6,
    "start_time": "2022-11-05T08:09:14.670Z"
   },
   {
    "duration": 5,
    "start_time": "2022-11-05T08:09:45.371Z"
   },
   {
    "duration": 6,
    "start_time": "2022-11-05T08:09:46.340Z"
   },
   {
    "duration": 126,
    "start_time": "2022-11-05T08:13:00.570Z"
   },
   {
    "duration": 2,
    "start_time": "2022-11-05T08:14:00.223Z"
   },
   {
    "duration": 52,
    "start_time": "2022-11-05T08:14:17.763Z"
   },
   {
    "duration": 22864,
    "start_time": "2022-11-05T08:14:37.586Z"
   },
   {
    "duration": 3,
    "start_time": "2022-11-05T08:15:14.314Z"
   },
   {
    "duration": 23807,
    "start_time": "2022-11-05T08:15:14.931Z"
   },
   {
    "duration": 10,
    "start_time": "2022-11-05T08:16:03.631Z"
   },
   {
    "duration": 4,
    "start_time": "2022-11-05T08:16:19.761Z"
   },
   {
    "duration": 4,
    "start_time": "2022-11-05T08:16:26.792Z"
   },
   {
    "duration": 3,
    "start_time": "2022-11-05T08:17:59.211Z"
   },
   {
    "duration": 23837,
    "start_time": "2022-11-05T08:18:03.500Z"
   },
   {
    "duration": 3,
    "start_time": "2022-11-05T08:22:32.752Z"
   },
   {
    "duration": 12,
    "start_time": "2022-11-05T08:23:21.461Z"
   },
   {
    "duration": 4,
    "start_time": "2022-11-05T08:23:58.871Z"
   },
   {
    "duration": 19,
    "start_time": "2022-11-05T08:24:40.312Z"
   },
   {
    "duration": 3,
    "start_time": "2022-11-05T08:24:57.668Z"
   },
   {
    "duration": 70,
    "start_time": "2022-11-05T08:26:42.821Z"
   },
   {
    "duration": 14,
    "start_time": "2022-11-05T08:26:47.192Z"
   },
   {
    "duration": 12,
    "start_time": "2022-11-05T08:27:56.471Z"
   },
   {
    "duration": 1347,
    "start_time": "2022-11-05T08:28:10.972Z"
   },
   {
    "duration": 8,
    "start_time": "2022-11-05T08:28:39.071Z"
   },
   {
    "duration": 11,
    "start_time": "2022-11-05T08:29:39.691Z"
   },
   {
    "duration": 18,
    "start_time": "2022-11-05T08:30:03.880Z"
   },
   {
    "duration": 78,
    "start_time": "2022-11-05T08:32:36.540Z"
   },
   {
    "duration": 87,
    "start_time": "2022-11-05T08:32:47.451Z"
   },
   {
    "duration": 11,
    "start_time": "2022-11-05T08:32:59.131Z"
   },
   {
    "duration": 10,
    "start_time": "2022-11-05T08:33:48.331Z"
   },
   {
    "duration": 10,
    "start_time": "2022-11-05T08:33:52.410Z"
   },
   {
    "duration": 68,
    "start_time": "2022-11-05T08:36:20.831Z"
   },
   {
    "duration": 13,
    "start_time": "2022-11-05T08:43:21.690Z"
   },
   {
    "duration": 6,
    "start_time": "2022-11-05T08:43:35.070Z"
   },
   {
    "duration": 5,
    "start_time": "2022-11-05T08:43:38.698Z"
   },
   {
    "duration": 3,
    "start_time": "2022-11-05T08:43:39.669Z"
   },
   {
    "duration": 3,
    "start_time": "2022-11-05T08:43:40.472Z"
   },
   {
    "duration": 10,
    "start_time": "2022-11-05T08:43:41.311Z"
   },
   {
    "duration": 5,
    "start_time": "2022-11-05T08:43:47.811Z"
   },
   {
    "duration": 252562,
    "start_time": "2022-11-05T08:43:49.619Z"
   },
   {
    "duration": 5,
    "start_time": "2022-11-05T08:48:33.170Z"
   },
   {
    "duration": 4,
    "start_time": "2022-11-05T08:48:33.437Z"
   },
   {
    "duration": 3,
    "start_time": "2022-11-05T08:48:33.690Z"
   },
   {
    "duration": 3,
    "start_time": "2022-11-05T08:48:33.970Z"
   },
   {
    "duration": 17148,
    "start_time": "2022-11-05T08:48:34.680Z"
   },
   {
    "duration": 18,
    "start_time": "2022-11-05T08:50:23.870Z"
   },
   {
    "duration": 11,
    "start_time": "2022-11-05T08:50:25.089Z"
   },
   {
    "duration": 3,
    "start_time": "2022-11-05T08:50:42.873Z"
   },
   {
    "duration": 3,
    "start_time": "2022-11-05T08:50:43.156Z"
   },
   {
    "duration": 17081,
    "start_time": "2022-11-05T08:50:43.424Z"
   },
   {
    "duration": 32,
    "start_time": "2022-11-05T08:51:00.507Z"
   },
   {
    "duration": 4,
    "start_time": "2022-11-05T08:51:00.541Z"
   },
   {
    "duration": 7,
    "start_time": "2022-11-05T08:51:12.671Z"
   },
   {
    "duration": 3,
    "start_time": "2022-11-05T08:51:21.969Z"
   },
   {
    "duration": 4,
    "start_time": "2022-11-05T08:51:22.289Z"
   },
   {
    "duration": 231,
    "start_time": "2022-11-05T08:51:22.709Z"
   },
   {
    "duration": 17,
    "start_time": "2022-11-05T08:51:23.609Z"
   },
   {
    "duration": 1413,
    "start_time": "2022-11-05T08:51:45.869Z"
   },
   {
    "duration": 57,
    "start_time": "2022-11-05T08:51:47.284Z"
   },
   {
    "duration": 3,
    "start_time": "2022-11-05T08:51:47.343Z"
   },
   {
    "duration": 23,
    "start_time": "2022-11-05T08:51:47.347Z"
   },
   {
    "duration": 21,
    "start_time": "2022-11-05T08:51:47.374Z"
   },
   {
    "duration": 22,
    "start_time": "2022-11-05T08:51:47.397Z"
   },
   {
    "duration": 44,
    "start_time": "2022-11-05T08:51:47.420Z"
   },
   {
    "duration": 54,
    "start_time": "2022-11-05T08:51:47.466Z"
   },
   {
    "duration": 341,
    "start_time": "2022-11-05T08:51:47.522Z"
   },
   {
    "duration": 12,
    "start_time": "2022-11-05T08:51:47.865Z"
   },
   {
    "duration": 756,
    "start_time": "2022-11-05T08:51:47.878Z"
   },
   {
    "duration": 5,
    "start_time": "2022-11-05T08:51:48.636Z"
   },
   {
    "duration": 7,
    "start_time": "2022-11-05T08:51:48.643Z"
   },
   {
    "duration": 5,
    "start_time": "2022-11-05T08:51:48.654Z"
   },
   {
    "duration": 7,
    "start_time": "2022-11-05T08:51:48.661Z"
   },
   {
    "duration": 7,
    "start_time": "2022-11-05T08:51:48.669Z"
   },
   {
    "duration": 136,
    "start_time": "2022-11-05T08:51:48.678Z"
   },
   {
    "duration": 41,
    "start_time": "2022-11-05T08:51:48.816Z"
   },
   {
    "duration": 5,
    "start_time": "2022-11-05T08:51:48.859Z"
   },
   {
    "duration": 14,
    "start_time": "2022-11-05T08:51:48.866Z"
   },
   {
    "duration": 9,
    "start_time": "2022-11-05T08:51:48.882Z"
   },
   {
    "duration": 7,
    "start_time": "2022-11-05T08:51:48.893Z"
   },
   {
    "duration": 8,
    "start_time": "2022-11-05T08:51:48.902Z"
   },
   {
    "duration": 6,
    "start_time": "2022-11-05T08:51:48.912Z"
   },
   {
    "duration": 24410,
    "start_time": "2022-11-05T08:51:48.933Z"
   },
   {
    "duration": 10,
    "start_time": "2022-11-05T08:52:13.434Z"
   },
   {
    "duration": 100,
    "start_time": "2022-11-05T08:52:13.534Z"
   },
   {
    "duration": 33,
    "start_time": "2022-11-05T08:52:13.636Z"
   },
   {
    "duration": 38,
    "start_time": "2022-11-05T08:52:13.671Z"
   },
   {
    "duration": 37,
    "start_time": "2022-11-05T08:52:13.711Z"
   },
   {
    "duration": 35,
    "start_time": "2022-11-05T08:52:13.750Z"
   },
   {
    "duration": 45,
    "start_time": "2022-11-05T08:52:13.787Z"
   },
   {
    "duration": 16754,
    "start_time": "2022-11-05T08:52:13.834Z"
   },
   {
    "duration": 22,
    "start_time": "2022-11-05T08:52:30.589Z"
   },
   {
    "duration": 4,
    "start_time": "2022-11-05T08:52:30.613Z"
   },
   {
    "duration": 13,
    "start_time": "2022-11-05T08:52:30.632Z"
   },
   {
    "duration": 11,
    "start_time": "2022-11-05T08:52:30.647Z"
   },
   {
    "duration": 8,
    "start_time": "2022-11-05T08:52:30.660Z"
   },
   {
    "duration": 266,
    "start_time": "2022-11-05T08:52:30.670Z"
   },
   {
    "duration": 14,
    "start_time": "2022-11-05T08:52:30.937Z"
   },
   {
    "duration": 144,
    "start_time": "2022-11-05T08:57:28.329Z"
   },
   {
    "duration": 4,
    "start_time": "2022-11-05T08:57:41.828Z"
   },
   {
    "duration": 3,
    "start_time": "2022-11-05T08:58:02.869Z"
   },
   {
    "duration": 4,
    "start_time": "2022-11-05T08:58:34.069Z"
   },
   {
    "duration": 14,
    "start_time": "2022-11-05T08:58:36.070Z"
   },
   {
    "duration": 1442,
    "start_time": "2022-11-05T09:07:31.145Z"
   },
   {
    "duration": 51,
    "start_time": "2022-11-05T09:07:32.589Z"
   },
   {
    "duration": 3,
    "start_time": "2022-11-05T09:07:32.642Z"
   },
   {
    "duration": 14,
    "start_time": "2022-11-05T09:07:32.646Z"
   },
   {
    "duration": 13,
    "start_time": "2022-11-05T09:07:32.663Z"
   },
   {
    "duration": 9,
    "start_time": "2022-11-05T09:07:32.678Z"
   },
   {
    "duration": 15,
    "start_time": "2022-11-05T09:07:32.689Z"
   },
   {
    "duration": 45,
    "start_time": "2022-11-05T09:07:32.706Z"
   },
   {
    "duration": 342,
    "start_time": "2022-11-05T09:07:32.753Z"
   },
   {
    "duration": 8,
    "start_time": "2022-11-05T09:07:33.097Z"
   },
   {
    "duration": 679,
    "start_time": "2022-11-05T09:07:33.107Z"
   },
   {
    "duration": 4,
    "start_time": "2022-11-05T09:07:33.788Z"
   },
   {
    "duration": 21,
    "start_time": "2022-11-05T09:07:33.795Z"
   },
   {
    "duration": 15,
    "start_time": "2022-11-05T09:07:33.819Z"
   },
   {
    "duration": 7,
    "start_time": "2022-11-05T09:07:33.836Z"
   },
   {
    "duration": 19,
    "start_time": "2022-11-05T09:07:33.846Z"
   },
   {
    "duration": 88,
    "start_time": "2022-11-05T09:07:33.867Z"
   },
   {
    "duration": 39,
    "start_time": "2022-11-05T09:07:33.957Z"
   },
   {
    "duration": 5,
    "start_time": "2022-11-05T09:07:33.998Z"
   },
   {
    "duration": 19,
    "start_time": "2022-11-05T09:07:34.006Z"
   },
   {
    "duration": 11,
    "start_time": "2022-11-05T09:07:34.027Z"
   },
   {
    "duration": 11,
    "start_time": "2022-11-05T09:07:34.040Z"
   },
   {
    "duration": 26,
    "start_time": "2022-11-05T09:07:34.053Z"
   },
   {
    "duration": 16,
    "start_time": "2022-11-05T09:07:34.081Z"
   },
   {
    "duration": 4557,
    "start_time": "2022-11-05T18:26:17.637Z"
   },
   {
    "duration": 135,
    "start_time": "2022-11-05T18:26:22.195Z"
   },
   {
    "duration": 3,
    "start_time": "2022-11-05T18:26:22.331Z"
   },
   {
    "duration": 11,
    "start_time": "2022-11-05T18:26:22.335Z"
   },
   {
    "duration": 8,
    "start_time": "2022-11-05T18:26:22.348Z"
   },
   {
    "duration": 6,
    "start_time": "2022-11-05T18:26:22.357Z"
   },
   {
    "duration": 10,
    "start_time": "2022-11-05T18:26:22.364Z"
   },
   {
    "duration": 11,
    "start_time": "2022-11-05T18:26:22.376Z"
   },
   {
    "duration": 270,
    "start_time": "2022-11-05T18:26:22.388Z"
   },
   {
    "duration": 7,
    "start_time": "2022-11-05T18:26:22.659Z"
   },
   {
    "duration": 539,
    "start_time": "2022-11-05T18:26:22.668Z"
   },
   {
    "duration": 3,
    "start_time": "2022-11-05T18:26:23.209Z"
   },
   {
    "duration": 5,
    "start_time": "2022-11-05T18:26:23.214Z"
   },
   {
    "duration": 4,
    "start_time": "2022-11-05T18:26:23.222Z"
   },
   {
    "duration": 12,
    "start_time": "2022-11-05T18:26:23.227Z"
   },
   {
    "duration": 15,
    "start_time": "2022-11-05T18:26:23.240Z"
   },
   {
    "duration": 73,
    "start_time": "2022-11-05T18:26:23.257Z"
   },
   {
    "duration": 24,
    "start_time": "2022-11-05T18:26:23.332Z"
   },
   {
    "duration": 3,
    "start_time": "2022-11-05T18:26:23.358Z"
   },
   {
    "duration": 5,
    "start_time": "2022-11-05T18:26:23.363Z"
   },
   {
    "duration": 6,
    "start_time": "2022-11-05T18:26:23.369Z"
   },
   {
    "duration": 4,
    "start_time": "2022-11-05T18:26:23.390Z"
   },
   {
    "duration": 5,
    "start_time": "2022-11-05T18:26:23.396Z"
   },
   {
    "duration": 6,
    "start_time": "2022-11-05T18:26:23.402Z"
   },
   {
    "duration": 22392,
    "start_time": "2022-11-05T18:26:23.410Z"
   },
   {
    "duration": 89,
    "start_time": "2022-11-05T18:26:45.804Z"
   },
   {
    "duration": 99,
    "start_time": "2022-11-05T18:26:45.895Z"
   },
   {
    "duration": 4,
    "start_time": "2022-11-05T18:26:45.996Z"
   },
   {
    "duration": 6,
    "start_time": "2022-11-05T18:26:46.091Z"
   },
   {
    "duration": 5,
    "start_time": "2022-11-05T18:26:46.099Z"
   },
   {
    "duration": 3,
    "start_time": "2022-11-05T18:26:46.105Z"
   },
   {
    "duration": 3,
    "start_time": "2022-11-05T18:26:46.110Z"
   },
   {
    "duration": 15715,
    "start_time": "2022-11-05T18:26:46.114Z"
   },
   {
    "duration": 18,
    "start_time": "2022-11-05T18:27:01.831Z"
   },
   {
    "duration": 3,
    "start_time": "2022-11-05T18:27:01.851Z"
   },
   {
    "duration": 9,
    "start_time": "2022-11-05T18:27:01.856Z"
   },
   {
    "duration": 5,
    "start_time": "2022-11-05T18:27:01.867Z"
   },
   {
    "duration": 23,
    "start_time": "2022-11-05T18:27:01.873Z"
   },
   {
    "duration": 200,
    "start_time": "2022-11-05T18:27:01.897Z"
   },
   {
    "duration": 11,
    "start_time": "2022-11-05T18:27:02.099Z"
   },
   {
    "duration": 8,
    "start_time": "2022-11-05T18:27:02.113Z"
   },
   {
    "duration": 9,
    "start_time": "2022-11-05T18:27:02.123Z"
   },
   {
    "duration": 12,
    "start_time": "2022-11-05T18:27:02.133Z"
   },
   {
    "duration": 108,
    "start_time": "2022-11-05T18:33:23.202Z"
   },
   {
    "duration": 15,
    "start_time": "2022-11-05T18:33:25.807Z"
   },
   {
    "duration": 1778,
    "start_time": "2022-11-06T08:21:41.080Z"
   },
   {
    "duration": 133,
    "start_time": "2022-11-06T08:21:42.860Z"
   },
   {
    "duration": 3,
    "start_time": "2022-11-06T08:21:42.995Z"
   },
   {
    "duration": 11,
    "start_time": "2022-11-06T08:21:43.000Z"
   },
   {
    "duration": 9,
    "start_time": "2022-11-06T08:21:43.012Z"
   },
   {
    "duration": 5,
    "start_time": "2022-11-06T08:21:43.023Z"
   },
   {
    "duration": 10,
    "start_time": "2022-11-06T08:21:43.029Z"
   },
   {
    "duration": 12,
    "start_time": "2022-11-06T08:21:43.041Z"
   },
   {
    "duration": 286,
    "start_time": "2022-11-06T08:21:43.056Z"
   },
   {
    "duration": 7,
    "start_time": "2022-11-06T08:21:43.344Z"
   },
   {
    "duration": 703,
    "start_time": "2022-11-06T08:21:43.353Z"
   },
   {
    "duration": 4,
    "start_time": "2022-11-06T08:21:44.058Z"
   },
   {
    "duration": 7,
    "start_time": "2022-11-06T08:21:44.063Z"
   },
   {
    "duration": 5,
    "start_time": "2022-11-06T08:21:44.071Z"
   },
   {
    "duration": 5,
    "start_time": "2022-11-06T08:21:44.078Z"
   },
   {
    "duration": 5,
    "start_time": "2022-11-06T08:21:44.084Z"
   },
   {
    "duration": 4,
    "start_time": "2022-11-06T08:21:44.090Z"
   },
   {
    "duration": 20,
    "start_time": "2022-11-06T08:21:44.095Z"
   },
   {
    "duration": 4,
    "start_time": "2022-11-06T08:21:44.116Z"
   },
   {
    "duration": 6,
    "start_time": "2022-11-06T08:21:44.121Z"
   },
   {
    "duration": 5,
    "start_time": "2022-11-06T08:21:44.128Z"
   },
   {
    "duration": 6,
    "start_time": "2022-11-06T08:21:44.134Z"
   },
   {
    "duration": 6,
    "start_time": "2022-11-06T08:21:44.141Z"
   },
   {
    "duration": 5,
    "start_time": "2022-11-06T08:21:44.148Z"
   },
   {
    "duration": 20942,
    "start_time": "2022-11-06T08:21:44.154Z"
   },
   {
    "duration": 6,
    "start_time": "2022-11-06T08:22:05.098Z"
   },
   {
    "duration": 5,
    "start_time": "2022-11-06T08:22:05.192Z"
   },
   {
    "duration": 89,
    "start_time": "2022-11-06T08:22:05.204Z"
   },
   {
    "duration": 5,
    "start_time": "2022-11-06T08:22:05.295Z"
   },
   {
    "duration": 6,
    "start_time": "2022-11-06T08:22:05.302Z"
   },
   {
    "duration": 4,
    "start_time": "2022-11-06T08:22:05.310Z"
   },
   {
    "duration": 3,
    "start_time": "2022-11-06T08:22:05.316Z"
   },
   {
    "duration": 10114,
    "start_time": "2022-11-06T08:22:05.322Z"
   },
   {
    "duration": 16,
    "start_time": "2022-11-06T08:22:15.438Z"
   },
   {
    "duration": 3,
    "start_time": "2022-11-06T08:22:15.456Z"
   },
   {
    "duration": 26,
    "start_time": "2022-11-06T08:22:15.460Z"
   },
   {
    "duration": 17,
    "start_time": "2022-11-06T08:22:15.488Z"
   },
   {
    "duration": 16,
    "start_time": "2022-11-06T08:22:15.507Z"
   },
   {
    "duration": 174,
    "start_time": "2022-11-06T08:22:15.524Z"
   },
   {
    "duration": 12,
    "start_time": "2022-11-06T08:22:15.700Z"
   },
   {
    "duration": 28,
    "start_time": "2022-11-06T08:22:15.714Z"
   },
   {
    "duration": 28,
    "start_time": "2022-11-06T08:22:15.744Z"
   },
   {
    "duration": 23,
    "start_time": "2022-11-06T08:22:15.773Z"
   },
   {
    "duration": 113,
    "start_time": "2022-11-06T08:39:07.843Z"
   },
   {
    "duration": 4,
    "start_time": "2022-11-06T08:42:30.026Z"
   },
   {
    "duration": 1340,
    "start_time": "2022-11-06T08:42:37.435Z"
   },
   {
    "duration": 47,
    "start_time": "2022-11-06T08:42:38.777Z"
   },
   {
    "duration": 3,
    "start_time": "2022-11-06T08:42:38.825Z"
   },
   {
    "duration": 13,
    "start_time": "2022-11-06T08:42:38.829Z"
   },
   {
    "duration": 8,
    "start_time": "2022-11-06T08:42:38.844Z"
   },
   {
    "duration": 6,
    "start_time": "2022-11-06T08:42:38.854Z"
   },
   {
    "duration": 11,
    "start_time": "2022-11-06T08:42:38.862Z"
   },
   {
    "duration": 24,
    "start_time": "2022-11-06T08:42:38.875Z"
   },
   {
    "duration": 309,
    "start_time": "2022-11-06T08:42:38.901Z"
   },
   {
    "duration": 8,
    "start_time": "2022-11-06T08:42:39.211Z"
   },
   {
    "duration": 684,
    "start_time": "2022-11-06T08:42:39.220Z"
   },
   {
    "duration": 5,
    "start_time": "2022-11-06T08:42:39.906Z"
   },
   {
    "duration": 5,
    "start_time": "2022-11-06T08:42:39.912Z"
   },
   {
    "duration": 5,
    "start_time": "2022-11-06T08:42:39.920Z"
   },
   {
    "duration": 4,
    "start_time": "2022-11-06T08:42:39.927Z"
   },
   {
    "duration": 4,
    "start_time": "2022-11-06T08:42:39.933Z"
   },
   {
    "duration": 92,
    "start_time": "2022-11-06T08:42:39.938Z"
   },
   {
    "duration": 124,
    "start_time": "2022-11-06T08:42:40.032Z"
   },
   {
    "duration": 1,
    "start_time": "2022-11-06T08:42:40.158Z"
   },
   {
    "duration": 0,
    "start_time": "2022-11-06T08:42:40.159Z"
   },
   {
    "duration": 0,
    "start_time": "2022-11-06T08:42:40.161Z"
   },
   {
    "duration": 0,
    "start_time": "2022-11-06T08:42:40.162Z"
   },
   {
    "duration": 0,
    "start_time": "2022-11-06T08:42:40.163Z"
   },
   {
    "duration": 0,
    "start_time": "2022-11-06T08:42:40.164Z"
   },
   {
    "duration": 0,
    "start_time": "2022-11-06T08:42:40.165Z"
   },
   {
    "duration": 0,
    "start_time": "2022-11-06T08:42:40.166Z"
   },
   {
    "duration": 0,
    "start_time": "2022-11-06T08:42:40.167Z"
   },
   {
    "duration": 0,
    "start_time": "2022-11-06T08:42:40.168Z"
   },
   {
    "duration": 0,
    "start_time": "2022-11-06T08:42:40.169Z"
   },
   {
    "duration": 0,
    "start_time": "2022-11-06T08:42:40.171Z"
   },
   {
    "duration": 0,
    "start_time": "2022-11-06T08:42:40.191Z"
   },
   {
    "duration": 0,
    "start_time": "2022-11-06T08:42:40.192Z"
   },
   {
    "duration": 0,
    "start_time": "2022-11-06T08:42:40.193Z"
   },
   {
    "duration": 0,
    "start_time": "2022-11-06T08:42:40.194Z"
   },
   {
    "duration": 0,
    "start_time": "2022-11-06T08:42:40.196Z"
   },
   {
    "duration": 0,
    "start_time": "2022-11-06T08:42:40.197Z"
   },
   {
    "duration": 0,
    "start_time": "2022-11-06T08:42:40.198Z"
   },
   {
    "duration": 0,
    "start_time": "2022-11-06T08:42:40.199Z"
   },
   {
    "duration": 0,
    "start_time": "2022-11-06T08:42:40.200Z"
   },
   {
    "duration": 0,
    "start_time": "2022-11-06T08:42:40.201Z"
   },
   {
    "duration": 0,
    "start_time": "2022-11-06T08:42:40.202Z"
   },
   {
    "duration": 0,
    "start_time": "2022-11-06T08:42:40.203Z"
   },
   {
    "duration": 0,
    "start_time": "2022-11-06T08:42:40.205Z"
   },
   {
    "duration": 0,
    "start_time": "2022-11-06T08:42:40.206Z"
   },
   {
    "duration": 16,
    "start_time": "2022-11-06T08:43:33.519Z"
   },
   {
    "duration": 4,
    "start_time": "2022-11-06T08:43:43.374Z"
   },
   {
    "duration": 5,
    "start_time": "2022-11-06T08:43:43.754Z"
   },
   {
    "duration": 3,
    "start_time": "2022-11-06T08:43:44.174Z"
   },
   {
    "duration": 4,
    "start_time": "2022-11-06T08:43:44.554Z"
   },
   {
    "duration": 4,
    "start_time": "2022-11-06T08:43:45.137Z"
   },
   {
    "duration": 3,
    "start_time": "2022-11-06T08:43:46.594Z"
   },
   {
    "duration": 21407,
    "start_time": "2022-11-06T08:43:47.194Z"
   },
   {
    "duration": 89,
    "start_time": "2022-11-06T08:44:08.607Z"
   },
   {
    "duration": 6,
    "start_time": "2022-11-06T08:44:08.702Z"
   },
   {
    "duration": 4,
    "start_time": "2022-11-06T08:44:08.793Z"
   },
   {
    "duration": 5,
    "start_time": "2022-11-06T08:44:08.799Z"
   },
   {
    "duration": 5,
    "start_time": "2022-11-06T08:44:08.806Z"
   },
   {
    "duration": 5,
    "start_time": "2022-11-06T08:44:08.892Z"
   },
   {
    "duration": 11,
    "start_time": "2022-11-06T08:44:08.899Z"
   },
   {
    "duration": 0,
    "start_time": "2022-11-06T08:44:08.912Z"
   },
   {
    "duration": 3,
    "start_time": "2022-11-06T08:45:44.993Z"
   },
   {
    "duration": 9,
    "start_time": "2022-11-06T08:45:47.654Z"
   },
   {
    "duration": 68,
    "start_time": "2022-11-06T08:45:53.940Z"
   },
   {
    "duration": 3,
    "start_time": "2022-11-06T08:45:56.201Z"
   },
   {
    "duration": 429,
    "start_time": "2022-11-06T08:46:00.842Z"
   },
   {
    "duration": 0,
    "start_time": "2022-11-06T08:46:01.273Z"
   },
   {
    "duration": 4,
    "start_time": "2022-11-06T08:46:40.542Z"
   },
   {
    "duration": 4,
    "start_time": "2022-11-06T08:46:40.972Z"
   },
   {
    "duration": 11407,
    "start_time": "2022-11-06T08:46:43.813Z"
   },
   {
    "duration": 21,
    "start_time": "2022-11-06T08:46:55.222Z"
   },
   {
    "duration": 3,
    "start_time": "2022-11-06T08:46:55.245Z"
   },
   {
    "duration": 7,
    "start_time": "2022-11-06T08:46:55.250Z"
   },
   {
    "duration": 3,
    "start_time": "2022-11-06T08:47:03.138Z"
   },
   {
    "duration": 5,
    "start_time": "2022-11-06T08:47:03.541Z"
   },
   {
    "duration": 148,
    "start_time": "2022-11-06T08:47:04.046Z"
   },
   {
    "duration": 13,
    "start_time": "2022-11-06T08:47:04.274Z"
   },
   {
    "duration": 4,
    "start_time": "2022-11-06T08:47:04.743Z"
   },
   {
    "duration": 3,
    "start_time": "2022-11-06T08:47:05.244Z"
   },
   {
    "duration": 10,
    "start_time": "2022-11-06T08:47:05.594Z"
   },
   {
    "duration": 11,
    "start_time": "2022-11-06T08:58:32.758Z"
   },
   {
    "duration": 1400,
    "start_time": "2022-11-06T08:59:06.477Z"
   },
   {
    "duration": 47,
    "start_time": "2022-11-06T08:59:07.879Z"
   },
   {
    "duration": 3,
    "start_time": "2022-11-06T08:59:07.928Z"
   },
   {
    "duration": 11,
    "start_time": "2022-11-06T08:59:07.934Z"
   },
   {
    "duration": 8,
    "start_time": "2022-11-06T08:59:07.947Z"
   },
   {
    "duration": 6,
    "start_time": "2022-11-06T08:59:08.177Z"
   },
   {
    "duration": 11,
    "start_time": "2022-11-06T08:59:09.844Z"
   },
   {
    "duration": 16,
    "start_time": "2022-11-06T08:59:10.096Z"
   },
   {
    "duration": 285,
    "start_time": "2022-11-06T08:59:11.140Z"
   },
   {
    "duration": 13,
    "start_time": "2022-11-06T08:59:14.044Z"
   },
   {
    "duration": 631,
    "start_time": "2022-11-06T08:59:15.377Z"
   },
   {
    "duration": 147,
    "start_time": "2022-11-06T08:59:26.397Z"
   },
   {
    "duration": 19,
    "start_time": "2022-11-06T08:59:58.756Z"
   },
   {
    "duration": 1412,
    "start_time": "2022-11-06T09:00:32.572Z"
   },
   {
    "duration": 50,
    "start_time": "2022-11-06T09:00:33.986Z"
   },
   {
    "duration": 4,
    "start_time": "2022-11-06T09:00:34.038Z"
   },
   {
    "duration": 11,
    "start_time": "2022-11-06T09:00:34.044Z"
   },
   {
    "duration": 11,
    "start_time": "2022-11-06T09:00:34.057Z"
   },
   {
    "duration": 7,
    "start_time": "2022-11-06T09:00:34.113Z"
   },
   {
    "duration": 11,
    "start_time": "2022-11-06T09:00:35.453Z"
   },
   {
    "duration": 13,
    "start_time": "2022-11-06T09:00:35.512Z"
   },
   {
    "duration": 280,
    "start_time": "2022-11-06T09:00:35.838Z"
   },
   {
    "duration": 113,
    "start_time": "2022-11-06T09:00:37.235Z"
   },
   {
    "duration": 14,
    "start_time": "2022-11-06T09:00:53.446Z"
   },
   {
    "duration": 598,
    "start_time": "2022-11-06T09:00:54.414Z"
   },
   {
    "duration": 4,
    "start_time": "2022-11-06T09:01:11.052Z"
   },
   {
    "duration": 3,
    "start_time": "2022-11-06T09:01:11.263Z"
   },
   {
    "duration": 5,
    "start_time": "2022-11-06T09:01:11.412Z"
   },
   {
    "duration": 5,
    "start_time": "2022-11-06T09:01:11.623Z"
   },
   {
    "duration": 5,
    "start_time": "2022-11-06T09:01:11.752Z"
   },
   {
    "duration": 4,
    "start_time": "2022-11-06T09:01:11.944Z"
   },
   {
    "duration": 28,
    "start_time": "2022-11-06T09:01:13.293Z"
   },
   {
    "duration": 5,
    "start_time": "2022-11-06T09:01:14.473Z"
   },
   {
    "duration": 6,
    "start_time": "2022-11-06T09:01:14.893Z"
   },
   {
    "duration": 5,
    "start_time": "2022-11-06T09:01:15.162Z"
   },
   {
    "duration": 6,
    "start_time": "2022-11-06T09:01:15.400Z"
   },
   {
    "duration": 5,
    "start_time": "2022-11-06T09:01:15.752Z"
   },
   {
    "duration": 3,
    "start_time": "2022-11-06T09:01:17.613Z"
   },
   {
    "duration": 21405,
    "start_time": "2022-11-06T09:01:17.792Z"
   },
   {
    "duration": 94,
    "start_time": "2022-11-06T09:01:39.199Z"
   },
   {
    "duration": 3,
    "start_time": "2022-11-06T09:01:39.295Z"
   },
   {
    "duration": 95,
    "start_time": "2022-11-06T09:01:39.300Z"
   },
   {
    "duration": 5,
    "start_time": "2022-11-06T09:01:39.397Z"
   },
   {
    "duration": 88,
    "start_time": "2022-11-06T09:01:39.404Z"
   },
   {
    "duration": 4,
    "start_time": "2022-11-06T09:01:39.494Z"
   },
   {
    "duration": 3,
    "start_time": "2022-11-06T09:03:34.012Z"
   },
   {
    "duration": 3,
    "start_time": "2022-11-06T09:03:35.814Z"
   },
   {
    "duration": 2690,
    "start_time": "2022-11-06T09:03:38.636Z"
   },
   {
    "duration": 13,
    "start_time": "2022-11-06T09:03:41.327Z"
   },
   {
    "duration": 10,
    "start_time": "2022-11-06T09:03:41.342Z"
   },
   {
    "duration": 9,
    "start_time": "2022-11-06T09:03:41.354Z"
   },
   {
    "duration": 3,
    "start_time": "2022-11-06T09:03:51.172Z"
   },
   {
    "duration": 3,
    "start_time": "2022-11-06T09:03:51.353Z"
   },
   {
    "duration": 58,
    "start_time": "2022-11-06T09:03:51.645Z"
   },
   {
    "duration": 30,
    "start_time": "2022-11-06T09:03:51.942Z"
   },
   {
    "duration": 3,
    "start_time": "2022-11-06T09:03:52.247Z"
   },
   {
    "duration": 4,
    "start_time": "2022-11-06T09:03:52.812Z"
   },
   {
    "duration": 13,
    "start_time": "2022-11-06T09:03:53.092Z"
   },
   {
    "duration": 75,
    "start_time": "2022-11-06T09:06:04.432Z"
   },
   {
    "duration": 71,
    "start_time": "2022-11-06T09:06:14.445Z"
   },
   {
    "duration": 1373,
    "start_time": "2022-11-06T09:06:31.196Z"
   },
   {
    "duration": 46,
    "start_time": "2022-11-06T09:06:32.571Z"
   },
   {
    "duration": 3,
    "start_time": "2022-11-06T09:06:32.618Z"
   },
   {
    "duration": 12,
    "start_time": "2022-11-06T09:06:32.623Z"
   },
   {
    "duration": 9,
    "start_time": "2022-11-06T09:06:32.637Z"
   },
   {
    "duration": 7,
    "start_time": "2022-11-06T09:06:32.648Z"
   },
   {
    "duration": 11,
    "start_time": "2022-11-06T09:06:32.656Z"
   },
   {
    "duration": 11,
    "start_time": "2022-11-06T09:06:32.691Z"
   },
   {
    "duration": 297,
    "start_time": "2022-11-06T09:06:32.704Z"
   },
   {
    "duration": 14,
    "start_time": "2022-11-06T09:06:33.003Z"
   },
   {
    "duration": 617,
    "start_time": "2022-11-06T09:06:33.019Z"
   },
   {
    "duration": 4,
    "start_time": "2022-11-06T09:06:33.638Z"
   },
   {
    "duration": 6,
    "start_time": "2022-11-06T09:06:33.644Z"
   },
   {
    "duration": 5,
    "start_time": "2022-11-06T09:06:33.653Z"
   },
   {
    "duration": 5,
    "start_time": "2022-11-06T09:06:33.659Z"
   },
   {
    "duration": 5,
    "start_time": "2022-11-06T09:06:33.665Z"
   },
   {
    "duration": 99,
    "start_time": "2022-11-06T09:06:33.672Z"
   },
   {
    "duration": 33,
    "start_time": "2022-11-06T09:06:33.773Z"
   },
   {
    "duration": 5,
    "start_time": "2022-11-06T09:06:33.807Z"
   },
   {
    "duration": 7,
    "start_time": "2022-11-06T09:06:33.813Z"
   },
   {
    "duration": 10,
    "start_time": "2022-11-06T09:06:33.821Z"
   },
   {
    "duration": 6,
    "start_time": "2022-11-06T09:06:33.833Z"
   },
   {
    "duration": 7,
    "start_time": "2022-11-06T09:06:33.840Z"
   },
   {
    "duration": 8,
    "start_time": "2022-11-06T09:06:33.849Z"
   },
   {
    "duration": 20632,
    "start_time": "2022-11-06T09:06:33.860Z"
   },
   {
    "duration": 7,
    "start_time": "2022-11-06T09:06:54.494Z"
   },
   {
    "duration": 88,
    "start_time": "2022-11-06T09:06:54.504Z"
   },
   {
    "duration": 6,
    "start_time": "2022-11-06T09:06:54.594Z"
   },
   {
    "duration": 6,
    "start_time": "2022-11-06T09:06:54.691Z"
   },
   {
    "duration": 6,
    "start_time": "2022-11-06T09:06:54.699Z"
   },
   {
    "duration": 11,
    "start_time": "2022-11-06T09:06:54.706Z"
   },
   {
    "duration": 12,
    "start_time": "2022-11-06T09:06:54.718Z"
   },
   {
    "duration": 7,
    "start_time": "2022-11-06T09:06:54.732Z"
   },
   {
    "duration": 2583,
    "start_time": "2022-11-06T09:06:54.741Z"
   },
   {
    "duration": 14,
    "start_time": "2022-11-06T09:06:57.326Z"
   },
   {
    "duration": 3,
    "start_time": "2022-11-06T09:06:57.342Z"
   },
   {
    "duration": 6,
    "start_time": "2022-11-06T09:06:57.347Z"
   },
   {
    "duration": 4,
    "start_time": "2022-11-06T09:06:57.354Z"
   },
   {
    "duration": 5,
    "start_time": "2022-11-06T09:06:57.359Z"
   },
   {
    "duration": 202,
    "start_time": "2022-11-06T09:06:57.391Z"
   },
   {
    "duration": 13,
    "start_time": "2022-11-06T09:06:57.598Z"
   },
   {
    "duration": 4,
    "start_time": "2022-11-06T09:06:57.613Z"
   },
   {
    "duration": 4,
    "start_time": "2022-11-06T09:06:57.619Z"
   },
   {
    "duration": 12,
    "start_time": "2022-11-06T09:06:57.625Z"
   }
  ],
  "kernelspec": {
   "display_name": "Python 3 (ipykernel)",
   "language": "python",
   "name": "python3"
  },
  "language_info": {
   "codemirror_mode": {
    "name": "ipython",
    "version": 3
   },
   "file_extension": ".py",
   "mimetype": "text/x-python",
   "name": "python",
   "nbconvert_exporter": "python",
   "pygments_lexer": "ipython3",
   "version": "3.10.4"
  },
  "toc": {
   "base_numbering": 1,
   "nav_menu": {},
   "number_sections": true,
   "sideBar": true,
   "skip_h1_title": true,
   "title_cell": "Содержание",
   "title_sidebar": "Contents",
   "toc_cell": true,
   "toc_position": {},
   "toc_section_display": true,
   "toc_window_display": false
  }
 },
 "nbformat": 4,
 "nbformat_minor": 2
}
