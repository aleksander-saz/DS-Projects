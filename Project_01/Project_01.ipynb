{
 "cells": [
  {
   "cell_type": "markdown",
   "metadata": {
    "id": "E0vqbgi9ay0H"
   },
   "source": [
    "# Project_01 - Yandex_Music"
   ]
  },
  {
   "cell_type": "markdown",
   "metadata": {
    "id": "VUC88oWjTJw2"
   },
   "source": [
    "Based on the data from Yandex.Music it's required to compare the behavior of the users in two cities.\n",
    "\n",
    "**Survey target** — to test three hypotheses:\n",
    "1. Users activity is depend on the day of the week. Users activity in Moscow and Saint-Petersburg is different. \n",
    "\n",
    "\n",
    "2. On monday morning in Moscow several types of music genres is popular, but in saint-Petersburg is other genres. On friday evening is the same differences in users behavior. \n",
    "\n",
    "\n",
    "3. Users in Moscow and Saint-Petersburg prefer different music genres. Most popular genre in Moscow - pop, in Saint-Petersburg - rap."
   ]
  },
  {
   "cell_type": "markdown",
   "metadata": {
    "id": "Ml1hmfXC_Zcs"
   },
   "source": [
    "## Data overview\n",
    "\n"
   ]
  },
  {
   "cell_type": "code",
   "execution_count": 1,
   "metadata": {
    "id": "AXN7PHPN_Zcs"
   },
   "outputs": [],
   "source": [
    "# Pandas library import\n",
    "import pandas as pd"
   ]
  },
  {
   "cell_type": "code",
   "execution_count": 2,
   "metadata": {
    "id": "fFVu7vqh_Zct"
   },
   "outputs": [],
   "source": [
    "# import of data\n",
    "df = pd.read_csv('yandex_music_project.csv',index_col=[0] )"
   ]
  },
  {
   "cell_type": "code",
   "execution_count": 3,
   "metadata": {
    "id": "oWTVX3gW_Zct"
   },
   "outputs": [
    {
     "data": {
      "text/html": [
       "<div>\n",
       "<style scoped>\n",
       "    .dataframe tbody tr th:only-of-type {\n",
       "        vertical-align: middle;\n",
       "    }\n",
       "\n",
       "    .dataframe tbody tr th {\n",
       "        vertical-align: top;\n",
       "    }\n",
       "\n",
       "    .dataframe thead th {\n",
       "        text-align: right;\n",
       "    }\n",
       "</style>\n",
       "<table border=\"1\" class=\"dataframe\">\n",
       "  <thead>\n",
       "    <tr style=\"text-align: right;\">\n",
       "      <th></th>\n",
       "      <th>userID</th>\n",
       "      <th>Track</th>\n",
       "      <th>artist</th>\n",
       "      <th>genre</th>\n",
       "      <th>City</th>\n",
       "      <th>time</th>\n",
       "      <th>Day</th>\n",
       "    </tr>\n",
       "  </thead>\n",
       "  <tbody>\n",
       "    <tr>\n",
       "      <th>0</th>\n",
       "      <td>FFB692EC</td>\n",
       "      <td>Kamigata To Boots</td>\n",
       "      <td>The Mass Missile</td>\n",
       "      <td>rock</td>\n",
       "      <td>Saint-Petersburg</td>\n",
       "      <td>20:28:33</td>\n",
       "      <td>Wednesday</td>\n",
       "    </tr>\n",
       "    <tr>\n",
       "      <th>1</th>\n",
       "      <td>55204538</td>\n",
       "      <td>Delayed Because of Accident</td>\n",
       "      <td>Andreas Rönnberg</td>\n",
       "      <td>rock</td>\n",
       "      <td>Moscow</td>\n",
       "      <td>14:07:09</td>\n",
       "      <td>Friday</td>\n",
       "    </tr>\n",
       "    <tr>\n",
       "      <th>2</th>\n",
       "      <td>20EC38</td>\n",
       "      <td>Funiculì funiculà</td>\n",
       "      <td>Mario Lanza</td>\n",
       "      <td>pop</td>\n",
       "      <td>Saint-Petersburg</td>\n",
       "      <td>20:58:07</td>\n",
       "      <td>Wednesday</td>\n",
       "    </tr>\n",
       "    <tr>\n",
       "      <th>3</th>\n",
       "      <td>A3DD03C9</td>\n",
       "      <td>Dragons in the Sunset</td>\n",
       "      <td>Fire + Ice</td>\n",
       "      <td>folk</td>\n",
       "      <td>Saint-Petersburg</td>\n",
       "      <td>08:37:09</td>\n",
       "      <td>Monday</td>\n",
       "    </tr>\n",
       "    <tr>\n",
       "      <th>4</th>\n",
       "      <td>E2DC1FAE</td>\n",
       "      <td>Soul People</td>\n",
       "      <td>Space Echo</td>\n",
       "      <td>dance</td>\n",
       "      <td>Moscow</td>\n",
       "      <td>08:34:34</td>\n",
       "      <td>Monday</td>\n",
       "    </tr>\n",
       "    <tr>\n",
       "      <th>5</th>\n",
       "      <td>842029A1</td>\n",
       "      <td>Преданная</td>\n",
       "      <td>IMPERVTOR</td>\n",
       "      <td>rusrap</td>\n",
       "      <td>Saint-Petersburg</td>\n",
       "      <td>13:09:41</td>\n",
       "      <td>Friday</td>\n",
       "    </tr>\n",
       "    <tr>\n",
       "      <th>6</th>\n",
       "      <td>4CB90AA5</td>\n",
       "      <td>True</td>\n",
       "      <td>Roman Messer</td>\n",
       "      <td>dance</td>\n",
       "      <td>Moscow</td>\n",
       "      <td>13:00:07</td>\n",
       "      <td>Wednesday</td>\n",
       "    </tr>\n",
       "    <tr>\n",
       "      <th>7</th>\n",
       "      <td>F03E1C1F</td>\n",
       "      <td>Feeling This Way</td>\n",
       "      <td>Polina Griffith</td>\n",
       "      <td>dance</td>\n",
       "      <td>Moscow</td>\n",
       "      <td>20:47:49</td>\n",
       "      <td>Wednesday</td>\n",
       "    </tr>\n",
       "    <tr>\n",
       "      <th>8</th>\n",
       "      <td>8FA1D3BE</td>\n",
       "      <td>И вновь продолжается бой</td>\n",
       "      <td>NaN</td>\n",
       "      <td>ruspop</td>\n",
       "      <td>Moscow</td>\n",
       "      <td>09:17:40</td>\n",
       "      <td>Friday</td>\n",
       "    </tr>\n",
       "    <tr>\n",
       "      <th>9</th>\n",
       "      <td>E772D5C0</td>\n",
       "      <td>Pessimist</td>\n",
       "      <td>NaN</td>\n",
       "      <td>dance</td>\n",
       "      <td>Saint-Petersburg</td>\n",
       "      <td>21:20:49</td>\n",
       "      <td>Wednesday</td>\n",
       "    </tr>\n",
       "  </tbody>\n",
       "</table>\n",
       "</div>"
      ],
      "text/plain": [
       "     userID                        Track            artist   genre  \\\n",
       "0  FFB692EC            Kamigata To Boots  The Mass Missile    rock   \n",
       "1  55204538  Delayed Because of Accident  Andreas Rönnberg    rock   \n",
       "2    20EC38            Funiculì funiculà       Mario Lanza     pop   \n",
       "3  A3DD03C9        Dragons in the Sunset        Fire + Ice    folk   \n",
       "4  E2DC1FAE                  Soul People        Space Echo   dance   \n",
       "5  842029A1                    Преданная         IMPERVTOR  rusrap   \n",
       "6  4CB90AA5                         True      Roman Messer   dance   \n",
       "7  F03E1C1F             Feeling This Way   Polina Griffith   dance   \n",
       "8  8FA1D3BE     И вновь продолжается бой               NaN  ruspop   \n",
       "9  E772D5C0                    Pessimist               NaN   dance   \n",
       "\n",
       "             City        time        Day  \n",
       "0  Saint-Petersburg  20:28:33  Wednesday  \n",
       "1            Moscow  14:07:09     Friday  \n",
       "2  Saint-Petersburg  20:58:07  Wednesday  \n",
       "3  Saint-Petersburg  08:37:09     Monday  \n",
       "4            Moscow  08:34:34     Monday  \n",
       "5  Saint-Petersburg  13:09:41     Friday  \n",
       "6            Moscow  13:00:07  Wednesday  \n",
       "7            Moscow  20:47:49  Wednesday  \n",
       "8            Moscow  09:17:40     Friday  \n",
       "9  Saint-Petersburg  21:20:49  Wednesday  "
      ]
     },
     "execution_count": 3,
     "metadata": {},
     "output_type": "execute_result"
    }
   ],
   "source": [
    "# print o first 10 rows of df\n",
    "df.head(10)"
   ]
  },
  {
   "cell_type": "code",
   "execution_count": 4,
   "metadata": {
    "id": "DSf2kIb-_Zct"
   },
   "outputs": [
    {
     "name": "stdout",
     "output_type": "stream",
     "text": [
      "<class 'pandas.core.frame.DataFrame'>\n",
      "Int64Index: 65079 entries, 0 to 65078\n",
      "Data columns (total 7 columns):\n",
      " #   Column    Non-Null Count  Dtype \n",
      "---  ------    --------------  ----- \n",
      " 0     userID  65079 non-null  object\n",
      " 1   Track     63848 non-null  object\n",
      " 2   artist    57876 non-null  object\n",
      " 3   genre     63881 non-null  object\n",
      " 4     City    65079 non-null  object\n",
      " 5   time      65079 non-null  object\n",
      " 6   Day       65079 non-null  object\n",
      "dtypes: object(7)\n",
      "memory usage: 4.0+ MB\n"
     ]
    }
   ],
   "source": [
    "# print of overall information of df\n",
    "df.info()"
   ]
  },
  {
   "attachments": {},
   "cell_type": "markdown",
   "metadata": {
    "id": "MCB6-dXG_Zct"
   },
   "source": [
    "**Conclusions**\n",
    "\n",
    "In every row of df is information on the music track. Some columns describe the track itself: name, compositor, genre. Other columns provide the information on the user: city, day and time of the listening.\n",
    "\n",
    "Preliminary we can assume that it's enough data to check the hypotheses, hoverer df has nulls in data and has some column names in \"bad\" style."
   ]
  },
  {
   "cell_type": "markdown",
   "metadata": {
    "id": "SjYF6Ub9_Zct"
   },
   "source": [
    "## Data Preparation"
   ]
  },
  {
   "cell_type": "markdown",
   "metadata": {
    "id": "dIaKXr29_Zct"
   },
   "source": [
    "### Column names style"
   ]
  },
  {
   "cell_type": "code",
   "execution_count": 5,
   "metadata": {
    "id": "oKOTdF_Q_Zct"
   },
   "outputs": [
    {
     "data": {
      "text/plain": [
       "Index(['  userID', 'Track', 'artist', 'genre', '  City  ', 'time', 'Day'], dtype='object')"
      ]
     },
     "execution_count": 5,
     "metadata": {},
     "output_type": "execute_result"
    }
   ],
   "source": [
    "# print of df columns names\n",
    "df.columns"
   ]
  },
  {
   "cell_type": "code",
   "execution_count": 6,
   "metadata": {
    "id": "ISlFqs5y_Zct"
   },
   "outputs": [],
   "source": [
    "# rename of the bad columns names\n",
    "df = df.rename(columns={'  userID':'user_id','Track':'track','  City  ':'city','Day':'day'})"
   ]
  },
  {
   "cell_type": "code",
   "execution_count": 7,
   "metadata": {
    "id": "d4NOAmTW_Zct"
   },
   "outputs": [
    {
     "data": {
      "text/plain": [
       "Index(['user_id', 'track', 'artist', 'genre', 'city', 'time', 'day'], dtype='object')"
      ]
     },
     "execution_count": 7,
     "metadata": {},
     "output_type": "execute_result"
    }
   ],
   "source": [
    "# chechk of the results\n",
    "df.columns"
   ]
  },
  {
   "cell_type": "markdown",
   "metadata": {
    "id": "5ISfbcfY_Zct"
   },
   "source": [
    "### Nulls processing"
   ]
  },
  {
   "cell_type": "code",
   "execution_count": 8,
   "metadata": {
    "id": "RskX29qr_Zct"
   },
   "outputs": [
    {
     "data": {
      "text/plain": [
       "user_id       0\n",
       "track      1231\n",
       "artist     7203\n",
       "genre      1198\n",
       "city          0\n",
       "time          0\n",
       "day           0\n",
       "dtype: int64"
      ]
     },
     "execution_count": 8,
     "metadata": {},
     "output_type": "execute_result"
    }
   ],
   "source": [
    "# Calculation of nulls\n",
    "df.isna().sum()"
   ]
  },
  {
   "cell_type": "code",
   "execution_count": 9,
   "metadata": {
    "id": "KplB5qWs_Zct"
   },
   "outputs": [],
   "source": [
    "# selection of the columns with nulls and replace the nulls with 'unknown'\n",
    "\n",
    "columns_to_replace = ['track','artist','genre']\n",
    "\n",
    "for i in columns_to_replace:\n",
    "    df[i] = df[i].fillna('unknown')  "
   ]
  },
  {
   "cell_type": "code",
   "execution_count": 10,
   "metadata": {
    "id": "Tq4nYRX4_Zct"
   },
   "outputs": [
    {
     "data": {
      "text/plain": [
       "user_id    0\n",
       "track      0\n",
       "artist     0\n",
       "genre      0\n",
       "city       0\n",
       "time       0\n",
       "day        0\n",
       "dtype: int64"
      ]
     },
     "execution_count": 10,
     "metadata": {},
     "output_type": "execute_result"
    }
   ],
   "source": [
    "# Chechk of the result\n",
    "df.isna().sum()"
   ]
  },
  {
   "cell_type": "markdown",
   "metadata": {
    "id": "BWKRtBJ3_Zct"
   },
   "source": [
    "### Duplicates processing"
   ]
  },
  {
   "cell_type": "code",
   "execution_count": 11,
   "metadata": {
    "id": "36eES_S0_Zct"
   },
   "outputs": [
    {
     "data": {
      "text/plain": [
       "3826"
      ]
     },
     "execution_count": 11,
     "metadata": {},
     "output_type": "execute_result"
    }
   ],
   "source": [
    "# calculation of obvious duplicates\n",
    "df.duplicated().sum()"
   ]
  },
  {
   "cell_type": "code",
   "execution_count": 12,
   "metadata": {
    "id": "exFHq6tt_Zct"
   },
   "outputs": [],
   "source": [
    "# deletion of obvious duplicates (with index resetting)\n",
    "df = df.drop_duplicates().reset_index(drop=True)"
   ]
  },
  {
   "cell_type": "code",
   "execution_count": 13,
   "metadata": {
    "id": "-8PuNWQ0_Zct"
   },
   "outputs": [
    {
     "data": {
      "text/plain": [
       "0"
      ]
     },
     "execution_count": 13,
     "metadata": {},
     "output_type": "execute_result"
    }
   ],
   "source": [
    "# check of the results\n",
    "df.duplicated().sum()"
   ]
  },
  {
   "cell_type": "code",
   "execution_count": 14,
   "metadata": {
    "id": "JIUcqzZN_Zct",
    "scrolled": false
   },
   "outputs": [
    {
     "data": {
      "text/plain": [
       "array(['acid', 'acoustic', 'action', 'adult', 'africa', 'afrikaans',\n",
       "       'alternative', 'alternativepunk', 'ambient', 'americana',\n",
       "       'animated', 'anime', 'arabesk', 'arabic', 'arena',\n",
       "       'argentinetango', 'art', 'audiobook', 'author', 'avantgarde',\n",
       "       'axé', 'baile', 'balkan', 'beats', 'bigroom', 'black', 'bluegrass',\n",
       "       'blues', 'bollywood', 'bossa', 'brazilian', 'breakbeat', 'breaks',\n",
       "       'broadway', 'cantautori', 'cantopop', 'canzone', 'caribbean',\n",
       "       'caucasian', 'celtic', 'chamber', 'chanson', 'children', 'chill',\n",
       "       'chinese', 'choral', 'christian', 'christmas', 'classical',\n",
       "       'classicmetal', 'club', 'colombian', 'comedy', 'conjazz',\n",
       "       'contemporary', 'country', 'cuban', 'dance', 'dancehall',\n",
       "       'dancepop', 'dark', 'death', 'deep', 'deutschrock', 'deutschspr',\n",
       "       'dirty', 'disco', 'dnb', 'documentary', 'downbeat', 'downtempo',\n",
       "       'drum', 'dub', 'dubstep', 'eastern', 'easy', 'electronic',\n",
       "       'electropop', 'emo', 'entehno', 'epicmetal', 'estrada', 'ethnic',\n",
       "       'eurofolk', 'european', 'experimental', 'extrememetal', 'fado',\n",
       "       'fairytail', 'film', 'fitness', 'flamenco', 'folk', 'folklore',\n",
       "       'folkmetal', 'folkrock', 'folktronica', 'forró', 'frankreich',\n",
       "       'französisch', 'french', 'funk', 'future', 'gangsta', 'garage',\n",
       "       'german', 'ghazal', 'gitarre', 'glitch', 'gospel', 'gothic',\n",
       "       'grime', 'grunge', 'gypsy', 'handsup', \"hard'n'heavy\", 'hardcore',\n",
       "       'hardstyle', 'hardtechno', 'hip', 'hip-hop', 'hiphop',\n",
       "       'historisch', 'holiday', 'hop', 'horror', 'house', 'hymn', 'idm',\n",
       "       'independent', 'indian', 'indie', 'indipop', 'industrial',\n",
       "       'inspirational', 'instrumental', 'international', 'irish', 'jam',\n",
       "       'japanese', 'jazz', 'jewish', 'jpop', 'jungle', 'k-pop',\n",
       "       'karadeniz', 'karaoke', 'kayokyoku', 'korean', 'laiko', 'latin',\n",
       "       'latino', 'leftfield', 'local', 'lounge', 'loungeelectronic',\n",
       "       'lovers', 'malaysian', 'mandopop', 'marschmusik', 'meditative',\n",
       "       'mediterranean', 'melodic', 'metal', 'metalcore', 'mexican',\n",
       "       'middle', 'minimal', 'miscellaneous', 'modern', 'mood', 'mpb',\n",
       "       'muslim', 'native', 'neoklassik', 'neue', 'new', 'newage',\n",
       "       'newwave', 'nu', 'nujazz', 'numetal', 'oceania', 'old', 'opera',\n",
       "       'orchestral', 'other', 'piano', 'podcasts', 'pop', 'popdance',\n",
       "       'popelectronic', 'popeurodance', 'poprussian', 'post',\n",
       "       'posthardcore', 'postrock', 'power', 'progmetal', 'progressive',\n",
       "       'psychedelic', 'punjabi', 'punk', 'quebecois', 'ragga', 'ram',\n",
       "       'rancheras', 'rap', 'rave', 'reggae', 'reggaeton', 'regional',\n",
       "       'relax', 'religious', 'retro', 'rhythm', 'rnb', 'rnr', 'rock',\n",
       "       'rockabilly', 'rockalternative', 'rockindie', 'rockother',\n",
       "       'romance', 'roots', 'ruspop', 'rusrap', 'rusrock', 'russian',\n",
       "       'salsa', 'samba', 'scenic', 'schlager', 'self', 'sertanejo',\n",
       "       'shanson', 'shoegazing', 'showtunes', 'singer', 'ska', 'skarock',\n",
       "       'slow', 'smooth', 'soft', 'soul', 'soulful', 'sound', 'soundtrack',\n",
       "       'southern', 'specialty', 'speech', 'spiritual', 'sport',\n",
       "       'stonerrock', 'surf', 'swing', 'synthpop', 'synthrock',\n",
       "       'sängerportrait', 'tango', 'tanzorchester', 'taraftar', 'tatar',\n",
       "       'tech', 'techno', 'teen', 'thrash', 'top', 'traditional',\n",
       "       'tradjazz', 'trance', 'tribal', 'trip', 'triphop', 'tropical',\n",
       "       'türk', 'türkçe', 'ukrrock', 'unknown', 'urban', 'uzbek',\n",
       "       'variété', 'vi', 'videogame', 'vocal', 'western', 'world',\n",
       "       'worldbeat', 'ïîï', 'электроника'], dtype=object)"
      ]
     },
     "execution_count": 14,
     "metadata": {},
     "output_type": "execute_result"
    }
   ],
   "source": [
    "# chech of unique genres\n",
    "df['genre'].sort_values().unique()"
   ]
  },
  {
   "cell_type": "code",
   "execution_count": 15,
   "metadata": {
    "id": "ErNDkmns_Zct"
   },
   "outputs": [],
   "source": [
    "# function for replacing of duplicated genres\n",
    "def replace_wrong_genres (wrong_genres, correct_genre):\n",
    "    hip_hop_list = wrong_genres\n",
    "    for i in hip_hop_list:\n",
    "        df['genre'] = df['genre'].replace(i, correct_genre)\n",
    "    return df"
   ]
  },
  {
   "cell_type": "code",
   "execution_count": 16,
   "metadata": {
    "id": "YN5i2hpmSo09"
   },
   "outputs": [],
   "source": [
    "# deletion of implicit duplicates\n",
    "wrong_genres_list = ['hip', 'hop', 'hip-hop']\n",
    "df = replace_wrong_genres (wrong_genres_list, 'hiphop')"
   ]
  },
  {
   "cell_type": "code",
   "execution_count": 17,
   "metadata": {
    "id": "wvixALnFG15m",
    "scrolled": false
   },
   "outputs": [
    {
     "data": {
      "text/plain": [
       "array(['acid', 'acoustic', 'action', 'adult', 'africa', 'afrikaans',\n",
       "       'alternative', 'alternativepunk', 'ambient', 'americana',\n",
       "       'animated', 'anime', 'arabesk', 'arabic', 'arena',\n",
       "       'argentinetango', 'art', 'audiobook', 'author', 'avantgarde',\n",
       "       'axé', 'baile', 'balkan', 'beats', 'bigroom', 'black', 'bluegrass',\n",
       "       'blues', 'bollywood', 'bossa', 'brazilian', 'breakbeat', 'breaks',\n",
       "       'broadway', 'cantautori', 'cantopop', 'canzone', 'caribbean',\n",
       "       'caucasian', 'celtic', 'chamber', 'chanson', 'children', 'chill',\n",
       "       'chinese', 'choral', 'christian', 'christmas', 'classical',\n",
       "       'classicmetal', 'club', 'colombian', 'comedy', 'conjazz',\n",
       "       'contemporary', 'country', 'cuban', 'dance', 'dancehall',\n",
       "       'dancepop', 'dark', 'death', 'deep', 'deutschrock', 'deutschspr',\n",
       "       'dirty', 'disco', 'dnb', 'documentary', 'downbeat', 'downtempo',\n",
       "       'drum', 'dub', 'dubstep', 'eastern', 'easy', 'electronic',\n",
       "       'electropop', 'emo', 'entehno', 'epicmetal', 'estrada', 'ethnic',\n",
       "       'eurofolk', 'european', 'experimental', 'extrememetal', 'fado',\n",
       "       'fairytail', 'film', 'fitness', 'flamenco', 'folk', 'folklore',\n",
       "       'folkmetal', 'folkrock', 'folktronica', 'forró', 'frankreich',\n",
       "       'französisch', 'french', 'funk', 'future', 'gangsta', 'garage',\n",
       "       'german', 'ghazal', 'gitarre', 'glitch', 'gospel', 'gothic',\n",
       "       'grime', 'grunge', 'gypsy', 'handsup', \"hard'n'heavy\", 'hardcore',\n",
       "       'hardstyle', 'hardtechno', 'hiphop', 'historisch', 'holiday',\n",
       "       'horror', 'house', 'hymn', 'idm', 'independent', 'indian', 'indie',\n",
       "       'indipop', 'industrial', 'inspirational', 'instrumental',\n",
       "       'international', 'irish', 'jam', 'japanese', 'jazz', 'jewish',\n",
       "       'jpop', 'jungle', 'k-pop', 'karadeniz', 'karaoke', 'kayokyoku',\n",
       "       'korean', 'laiko', 'latin', 'latino', 'leftfield', 'local',\n",
       "       'lounge', 'loungeelectronic', 'lovers', 'malaysian', 'mandopop',\n",
       "       'marschmusik', 'meditative', 'mediterranean', 'melodic', 'metal',\n",
       "       'metalcore', 'mexican', 'middle', 'minimal', 'miscellaneous',\n",
       "       'modern', 'mood', 'mpb', 'muslim', 'native', 'neoklassik', 'neue',\n",
       "       'new', 'newage', 'newwave', 'nu', 'nujazz', 'numetal', 'oceania',\n",
       "       'old', 'opera', 'orchestral', 'other', 'piano', 'podcasts', 'pop',\n",
       "       'popdance', 'popelectronic', 'popeurodance', 'poprussian', 'post',\n",
       "       'posthardcore', 'postrock', 'power', 'progmetal', 'progressive',\n",
       "       'psychedelic', 'punjabi', 'punk', 'quebecois', 'ragga', 'ram',\n",
       "       'rancheras', 'rap', 'rave', 'reggae', 'reggaeton', 'regional',\n",
       "       'relax', 'religious', 'retro', 'rhythm', 'rnb', 'rnr', 'rock',\n",
       "       'rockabilly', 'rockalternative', 'rockindie', 'rockother',\n",
       "       'romance', 'roots', 'ruspop', 'rusrap', 'rusrock', 'russian',\n",
       "       'salsa', 'samba', 'scenic', 'schlager', 'self', 'sertanejo',\n",
       "       'shanson', 'shoegazing', 'showtunes', 'singer', 'ska', 'skarock',\n",
       "       'slow', 'smooth', 'soft', 'soul', 'soulful', 'sound', 'soundtrack',\n",
       "       'southern', 'specialty', 'speech', 'spiritual', 'sport',\n",
       "       'stonerrock', 'surf', 'swing', 'synthpop', 'synthrock',\n",
       "       'sängerportrait', 'tango', 'tanzorchester', 'taraftar', 'tatar',\n",
       "       'tech', 'techno', 'teen', 'thrash', 'top', 'traditional',\n",
       "       'tradjazz', 'trance', 'tribal', 'trip', 'triphop', 'tropical',\n",
       "       'türk', 'türkçe', 'ukrrock', 'unknown', 'urban', 'uzbek',\n",
       "       'variété', 'vi', 'videogame', 'vocal', 'western', 'world',\n",
       "       'worldbeat', 'ïîï', 'электроника'], dtype=object)"
      ]
     },
     "execution_count": 17,
     "metadata": {},
     "output_type": "execute_result"
    }
   ],
   "source": [
    "# chechk of the result\n",
    "df_genre = df['genre']\n",
    "df_genre = df_genre.sort_values()\n",
    "df_genre.unique()"
   ]
  },
  {
   "attachments": {},
   "cell_type": "markdown",
   "metadata": {
    "id": "jz6a9-7HQUDd"
   },
   "source": [
    "**Conclusions**\n",
    "\n",
    "Data preparation has revealed 3 issues in data:\n",
    "- bad columns names style;\n",
    "- nulls in data;\n",
    "- duplicated data - obvious and implicit\n",
    "\n",
    "The columns names were corrected and duplicated deleted.\n",
    "The missing genres were replaced on \"unknown\".\n",
    "\n",
    "After the completion of the data preparation we can start the hypothesis testing."
   ]
  },
  {
   "cell_type": "markdown",
   "metadata": {
    "id": "WttZHXH0SqKk"
   },
   "source": [
    "## Hypothesis testing"
   ]
  },
  {
   "cell_type": "markdown",
   "metadata": {
    "id": "Im936VVi_Zcu"
   },
   "source": [
    "### Compare the behavior of the users in two cities"
   ]
  },
  {
   "cell_type": "markdown",
   "metadata": {
    "id": "nwt_MuaL_Zcu"
   },
   "source": [
    "Users activity is depend on the day of the week. Users activity in Moscow and Saint-Petersburg is different."
   ]
  },
  {
   "cell_type": "code",
   "execution_count": 18,
   "metadata": {
    "id": "0_Qs96oh_Zcu"
   },
   "outputs": [
    {
     "data": {
      "text/plain": [
       "city\n",
       "Moscow              42741\n",
       "Saint-Petersburg    18512\n",
       "Name: track, dtype: int64"
      ]
     },
     "execution_count": 18,
     "metadata": {},
     "output_type": "execute_result"
    }
   ],
   "source": [
    "# calculation of playback in every city\n",
    "df.groupby('city')['track'].count()"
   ]
  },
  {
   "cell_type": "code",
   "execution_count": 19,
   "metadata": {
    "id": "uZMKjiJz_Zcu"
   },
   "outputs": [
    {
     "data": {
      "text/plain": [
       "day\n",
       "Friday       21840\n",
       "Monday       21354\n",
       "Wednesday    18059\n",
       "Name: track, dtype: int64"
      ]
     },
     "execution_count": 19,
     "metadata": {},
     "output_type": "execute_result"
    }
   ],
   "source": [
    "# calculation of playback in every day\n",
    "df.groupby('day')['track'].count()"
   ]
  },
  {
   "cell_type": "code",
   "execution_count": 20,
   "metadata": {
    "id": "Nz3GdQB1_Zcu"
   },
   "outputs": [],
   "source": [
    "# creation of function number_tracks()\n",
    "\n",
    "def number_tracks (city,day):\n",
    "    track_list=df[df['day']==day]\n",
    "    track_list=track_list[track_list['city']==city]\n",
    "    track_list_count = track_list['user_id'].count()\n",
    "    return track_list_count"
   ]
  },
  {
   "cell_type": "code",
   "execution_count": 21,
   "metadata": {
    "id": "rJcRATNQ_Zcu"
   },
   "outputs": [
    {
     "data": {
      "text/plain": [
       "15740"
      ]
     },
     "execution_count": 21,
     "metadata": {},
     "output_type": "execute_result"
    }
   ],
   "source": [
    "# quantity of playback in Moscow on Monday\n",
    "\n",
    "moscow_monday = number_tracks('Moscow','Monday')\n",
    "moscow_monday"
   ]
  },
  {
   "cell_type": "code",
   "execution_count": 22,
   "metadata": {
    "id": "hq_ncZ5T_Zcu"
   },
   "outputs": [
    {
     "data": {
      "text/plain": [
       "5614"
      ]
     },
     "execution_count": 22,
     "metadata": {},
     "output_type": "execute_result"
    }
   ],
   "source": [
    "# quantity of playback in Saint-Petersburg on Monday\n",
    "\n",
    "spb_monday = number_tracks('Saint-Petersburg','Monday')\n",
    "spb_monday\n"
   ]
  },
  {
   "cell_type": "code",
   "execution_count": 23,
   "metadata": {
    "id": "_NTy2VPU_Zcu"
   },
   "outputs": [
    {
     "data": {
      "text/plain": [
       "11056"
      ]
     },
     "execution_count": 23,
     "metadata": {},
     "output_type": "execute_result"
    }
   ],
   "source": [
    "# quantity of playback in Moscow on Wednesday\n",
    "moscow_wendsday = number_tracks('Moscow','Wednesday')\n",
    "moscow_wendsday"
   ]
  },
  {
   "cell_type": "code",
   "execution_count": 24,
   "metadata": {
    "id": "j2y3TAwo_Zcu"
   },
   "outputs": [
    {
     "data": {
      "text/plain": [
       "7003"
      ]
     },
     "execution_count": 24,
     "metadata": {},
     "output_type": "execute_result"
    }
   ],
   "source": [
    "# quantity of playback in Saint-Petersburg on Wednesday\n",
    "spb_wendsday = number_tracks('Saint-Petersburg','Wednesday')\n",
    "spb_wendsday"
   ]
  },
  {
   "cell_type": "code",
   "execution_count": 25,
   "metadata": {
    "id": "vYDw5u_K_Zcu"
   },
   "outputs": [
    {
     "data": {
      "text/plain": [
       "15945"
      ]
     },
     "execution_count": 25,
     "metadata": {},
     "output_type": "execute_result"
    }
   ],
   "source": [
    "# quantity of playback in Moscow on Friday\n",
    "moscow_friday = number_tracks('Moscow','Friday')\n",
    "moscow_friday"
   ]
  },
  {
   "cell_type": "code",
   "execution_count": 26,
   "metadata": {
    "id": "8_yzFtW3_Zcu"
   },
   "outputs": [
    {
     "data": {
      "text/plain": [
       "5895"
      ]
     },
     "execution_count": 26,
     "metadata": {},
     "output_type": "execute_result"
    }
   ],
   "source": [
    "# quantity of playback in Saint-Petersburg on Friday\n",
    "spb_friday = number_tracks('Saint-Petersburg','Friday')\n",
    "spb_friday"
   ]
  },
  {
   "cell_type": "code",
   "execution_count": 27,
   "metadata": {
    "id": "APAcLpOr_Zcu"
   },
   "outputs": [
    {
     "data": {
      "text/html": [
       "<div>\n",
       "<style scoped>\n",
       "    .dataframe tbody tr th:only-of-type {\n",
       "        vertical-align: middle;\n",
       "    }\n",
       "\n",
       "    .dataframe tbody tr th {\n",
       "        vertical-align: top;\n",
       "    }\n",
       "\n",
       "    .dataframe thead th {\n",
       "        text-align: right;\n",
       "    }\n",
       "</style>\n",
       "<table border=\"1\" class=\"dataframe\">\n",
       "  <thead>\n",
       "    <tr style=\"text-align: right;\">\n",
       "      <th></th>\n",
       "      <th>city</th>\n",
       "      <th>monday</th>\n",
       "      <th>wednesday</th>\n",
       "      <th>friday</th>\n",
       "    </tr>\n",
       "  </thead>\n",
       "  <tbody>\n",
       "    <tr>\n",
       "      <th>0</th>\n",
       "      <td>Moscow</td>\n",
       "      <td>15740</td>\n",
       "      <td>11056</td>\n",
       "      <td>15945</td>\n",
       "    </tr>\n",
       "    <tr>\n",
       "      <th>1</th>\n",
       "      <td>Saint-Petersburg</td>\n",
       "      <td>5614</td>\n",
       "      <td>7003</td>\n",
       "      <td>5895</td>\n",
       "    </tr>\n",
       "  </tbody>\n",
       "</table>\n",
       "</div>"
      ],
      "text/plain": [
       "               city  monday  wednesday  friday\n",
       "0            Moscow   15740      11056   15945\n",
       "1  Saint-Petersburg    5614       7003    5895"
      ]
     },
     "execution_count": 27,
     "metadata": {},
     "output_type": "execute_result"
    }
   ],
   "source": [
    "# print of results\n",
    "pd.DataFrame(data=[\n",
    "    ['Moscow', moscow_monday, moscow_wendsday, moscow_friday],\n",
    "    ['Saint-Petersburg', spb_monday, spb_wendsday, spb_friday]], \n",
    "    columns=['city', 'monday', 'wednesday', 'friday'])"
   ]
  },
  {
   "attachments": {},
   "cell_type": "markdown",
   "metadata": {
    "id": "-EgPIHYu_Zcu"
   },
   "source": [
    "**Conclusion on Hypothesis one**\n",
    "\n",
    "The data shows the differences in users behavior:\n",
    "- The highest quantity of playbacks in Moscow is on Monday and Friday, but of the Wednesday it's lower.\n",
    "- In the Saint-Petersburg is opposite situation - the highest quantity is on Wednesday. On Monday and Friday the quantity of playbacks is lower than on Wednesday and almost the same.\n",
    "\n",
    "**Hypothesis is correct.**"
   ]
  },
  {
   "attachments": {},
   "cell_type": "markdown",
   "metadata": {
    "id": "atZAxtq4_Zcu"
   },
   "source": [
    "### Music in the beginning and end of the week"
   ]
  },
  {
   "cell_type": "markdown",
   "metadata": {
    "id": "eXrQqXFH_Zcu"
   },
   "source": [
    "On monday morning in Moscow several types of music genres is popular, but in Saint-Petersburg is other genres. On friday evening is the same differences in users behavior. \n"
   ]
  },
  {
   "cell_type": "code",
   "execution_count": 28,
   "metadata": {
    "id": "qeaFfM_P_Zcu"
   },
   "outputs": [],
   "source": [
    "# getting the moscow_general from df, where 'city' column equal to 'Moscow'\n",
    "moscow_general = df[df['city']=='Moscow']"
   ]
  },
  {
   "cell_type": "code",
   "execution_count": 29,
   "metadata": {
    "id": "ORaVRKto_Zcu"
   },
   "outputs": [],
   "source": [
    "# getting the moscow_general from df, where 'city' column equal to 'Saint-Petersburg'\n",
    "spb_general = df[df['city']=='Saint-Petersburg']"
   ]
  },
  {
   "cell_type": "code",
   "execution_count": 30,
   "metadata": {
    "id": "laJT9BYl_Zcu"
   },
   "outputs": [],
   "source": [
    "# genre_weekday() function\n",
    "def genre_weekday (table, day, time1, time2):\n",
    "    genre_df = table[table['day']==day]\n",
    "    genre_df = genre_df[genre_df['time']>=time1]\n",
    "    genre_df = genre_df[genre_df['time']<=time2]\n",
    "    genre_df_count = genre_df.groupby('genre')['track'].count()\n",
    "    genre_df_sorted = genre_df_count.sort_values(ascending = False)\n",
    "    return genre_df_sorted.head(10)"
   ]
  },
  {
   "cell_type": "code",
   "execution_count": 31,
   "metadata": {
    "id": "yz7itPUQ_Zcu"
   },
   "outputs": [
    {
     "data": {
      "text/plain": [
       "genre\n",
       "pop            781\n",
       "dance          549\n",
       "electronic     480\n",
       "rock           474\n",
       "hiphop         286\n",
       "ruspop         186\n",
       "world          181\n",
       "rusrap         175\n",
       "alternative    164\n",
       "unknown        161\n",
       "Name: track, dtype: int64"
      ]
     },
     "execution_count": 31,
     "metadata": {},
     "output_type": "execute_result"
    }
   ],
   "source": [
    "# selection of the top genres in Moscow on Monday morning\n",
    "genre_weekday(moscow_general, 'Monday', '07:00', '11:00')"
   ]
  },
  {
   "cell_type": "code",
   "execution_count": 32,
   "metadata": {
    "id": "kwUcHPdy_Zcu"
   },
   "outputs": [
    {
     "data": {
      "text/plain": [
       "genre\n",
       "pop            218\n",
       "dance          182\n",
       "rock           162\n",
       "electronic     147\n",
       "hiphop          80\n",
       "ruspop          64\n",
       "alternative     58\n",
       "rusrap          55\n",
       "jazz            44\n",
       "classical       40\n",
       "Name: track, dtype: int64"
      ]
     },
     "execution_count": 32,
     "metadata": {},
     "output_type": "execute_result"
    }
   ],
   "source": [
    "# selection of the top genres in Saint-Petersburg on Monday morning\n",
    "genre_weekday(spb_general, 'Monday', '07:00', '11:00')"
   ]
  },
  {
   "cell_type": "code",
   "execution_count": 33,
   "metadata": {
    "id": "EzXVRE1o_Zcu"
   },
   "outputs": [
    {
     "data": {
      "text/plain": [
       "genre\n",
       "pop            713\n",
       "rock           517\n",
       "dance          495\n",
       "electronic     482\n",
       "hiphop         273\n",
       "world          208\n",
       "ruspop         170\n",
       "alternative    163\n",
       "classical      163\n",
       "rusrap         142\n",
       "Name: track, dtype: int64"
      ]
     },
     "execution_count": 33,
     "metadata": {},
     "output_type": "execute_result"
    }
   ],
   "source": [
    "# selection of the top genres in Moscow on Friday evening\n",
    "genre_weekday(moscow_general, 'Friday', '17:00', '23:00')"
   ]
  },
  {
   "cell_type": "code",
   "execution_count": 34,
   "metadata": {
    "id": "JZaEKu5v_Zcu"
   },
   "outputs": [
    {
     "data": {
      "text/plain": [
       "genre\n",
       "pop            256\n",
       "electronic     216\n",
       "rock           216\n",
       "dance          210\n",
       "hiphop          97\n",
       "alternative     63\n",
       "jazz            61\n",
       "classical       60\n",
       "rusrap          59\n",
       "world           54\n",
       "Name: track, dtype: int64"
      ]
     },
     "execution_count": 34,
     "metadata": {},
     "output_type": "execute_result"
    }
   ],
   "source": [
    "# selection of the top genres in Saint-Petersburg on Friday evening\n",
    "genre_weekday(spb_general, 'Friday', '17:00', '23:00')"
   ]
  },
  {
   "attachments": {},
   "cell_type": "markdown",
   "metadata": {
    "id": "wrCe4MNX_Zcu"
   },
   "source": [
    "**Hypothesis 2 conclusions**\n",
    "\n",
    "Comparing top 10 genres of Monday morning we can conclude the following:\n",
    "1. In Moscow and Saint-Petersburg users are listening the similar music. The only difference is that in Moscow top 10 Monday morning rating was included genre \"world\", but in Saint-Petersburg \"jazz\" and \"classic\".\n",
    "\n",
    "2. In Moscow the were too many playbacks of tracks w/o genres that value \"unknown\" were placed on the 10th position of most popular genres. That means that data with nulls value has the sufficient portion in the data and puts in the danger the certainty of the survey.\n",
    "\n",
    "On the Friday evening the result of analysis is similar.Some of the genres goes up, another goes dwn, bot overall top 10 genres stay the same.\n",
    "\n",
    "The second hypothesis was confirmed only partially:\n",
    "* Users are listening the similar music in the beginning and the end of the week.\n",
    "* Difference in genres priority in Moscow and Saint-Petersburg is slightly different. In Moscow users prefer russian pop music, in Saint-Petersburg jazz\n",
    "\n",
    "However the nulls in data is not allowed us to confirm the result on 100%. The quantity of null genres in Moscow is so high that the rating of top 10 genres could be different if that data were not lost."
   ]
  },
  {
   "cell_type": "markdown",
   "metadata": {
    "id": "JolODAqr_Zcu"
   },
   "source": [
    "### Genres preferences in Moscow and Saint-Petersburg\n",
    "\n",
    "Users in Moscow and Saint-Petersburg prefer different music genres. Most popular genre in Moscow - pop, in Saint-Petersburg - rap."
   ]
  },
  {
   "cell_type": "code",
   "execution_count": 35,
   "metadata": {
    "id": "r19lIPke_Zcu"
   },
   "outputs": [],
   "source": [
    "# Moscow_general df group by row 'genre'\n",
    "moscow_genres = moscow_general.groupby('genre')['user_id'].count()\n",
    "moscow_genres = moscow_genres.sort_values(ascending = False)"
   ]
  },
  {
   "cell_type": "code",
   "execution_count": 36,
   "metadata": {
    "id": "WhCSooF8_Zcv"
   },
   "outputs": [
    {
     "data": {
      "text/plain": [
       "genre\n",
       "pop            5892\n",
       "dance          4435\n",
       "rock           3965\n",
       "electronic     3786\n",
       "hiphop         2096\n",
       "classical      1616\n",
       "world          1432\n",
       "alternative    1379\n",
       "ruspop         1372\n",
       "rusrap         1161\n",
       "Name: user_id, dtype: int64"
      ]
     },
     "execution_count": 36,
     "metadata": {},
     "output_type": "execute_result"
    }
   ],
   "source": [
    "# print of first 10 rows\n",
    "moscow_genres.head(10)"
   ]
  },
  {
   "cell_type": "code",
   "execution_count": 37,
   "metadata": {
    "id": "gluLIpE7_Zcv"
   },
   "outputs": [],
   "source": [
    "# Saint-Peterpurg_general df group by row 'genre'\n",
    "spb_genres = spb_general.groupby('genre')['user_id'].count()\n",
    "spb_genres = spb_genres.sort_values(ascending = False)"
   ]
  },
  {
   "cell_type": "code",
   "execution_count": 38,
   "metadata": {
    "id": "uaGJHjVU_Zcv"
   },
   "outputs": [
    {
     "data": {
      "text/plain": [
       "genre\n",
       "pop            2431\n",
       "dance          1932\n",
       "rock           1879\n",
       "electronic     1736\n",
       "hiphop          960\n",
       "alternative     649\n",
       "classical       646\n",
       "rusrap          564\n",
       "ruspop          538\n",
       "world           515\n",
       "Name: user_id, dtype: int64"
      ]
     },
     "execution_count": 38,
     "metadata": {},
     "output_type": "execute_result"
    }
   ],
   "source": [
    "# print of first 10 rows\n",
    "spb_genres.head(10)"
   ]
  },
  {
   "cell_type": "markdown",
   "metadata": {
    "id": "RY51YJYu_Zcv"
   },
   "source": [
    "**Third Hypothesis conclusions**"
   ]
  },
  {
   "attachments": {},
   "cell_type": "markdown",
   "metadata": {
    "id": "nVhnJEm__Zcv"
   },
   "source": [
    "Hypothesis is correct only partially:\n",
    "* Pop Music - the most popular genre in Moscow, as it was originally stated in hypothesis. Moreover the top 10 genres includes also russian pop music.\n",
    "* Against the expectations rap is not the most popular genre in Saint-Petersburg, but it has similar popularity in both cities."
   ]
  },
  {
   "cell_type": "markdown",
   "metadata": {
    "id": "ykKQ0N65_Zcv"
   },
   "source": [
    "## Survey Conclusions"
   ]
  },
  {
   "attachments": {},
   "cell_type": "markdown",
   "metadata": {
    "id": "tjUwbHb3_Zcv"
   },
   "source": [
    "1. Day of the week has difference affect on the users activity in Moscow and Saint-Petersburg.\n",
    "\n",
    "**First hypothesis is correct.**\n",
    "\n",
    "2. Music preferences has a slightly changes during the day of the week in Moscow or Saint-Petersburg. A small differences is appeared only in the beginning of the week, on mondays:\n",
    "* in Moscow users prefer \"world\" genre\n",
    "* in Saint-Petersburg - jazz or classic\n",
    "\n",
    "**Therefore second hypothesis was correct only partially. The result of hypothesis testing could be different if the data has full information on all genres (less nulls).**\n",
    "\n",
    "3. Users preferences in Moscow and Saint-Petersburg have more common rather than different. Against the expectations the genre preferences in both cities are very similar.\n",
    "\n",
    "**Third hypothesis is not correct. The difference in music preferences in the both cities is minor and could not be spotted on the most part of users.**"
   ]
  }
 ],
 "metadata": {
  "ExecuteTimeLog": [
   {
    "duration": 547,
    "start_time": "2021-07-21T10:32:11.697Z"
   },
   {
    "duration": 97,
    "start_time": "2021-07-21T10:33:17.529Z"
   },
   {
    "duration": 3763,
    "start_time": "2021-07-21T10:33:26.168Z"
   },
   {
    "duration": 265,
    "start_time": "2021-07-21T10:34:01.877Z"
   },
   {
    "duration": 92,
    "start_time": "2021-07-21T10:34:12.035Z"
   },
   {
    "duration": 1894,
    "start_time": "2021-07-21T10:35:54.145Z"
   },
   {
    "duration": 2037,
    "start_time": "2021-07-21T10:36:24.536Z"
   },
   {
    "duration": 2054,
    "start_time": "2021-07-21T10:36:31.573Z"
   },
   {
    "duration": 2088,
    "start_time": "2021-07-21T10:37:08.589Z"
   },
   {
    "duration": 129,
    "start_time": "2021-07-21T10:37:28.140Z"
   },
   {
    "duration": 16,
    "start_time": "2021-07-21T10:38:30.101Z"
   },
   {
    "duration": 63,
    "start_time": "2021-07-21T10:38:49.616Z"
   },
   {
    "duration": 63,
    "start_time": "2021-07-21T10:38:55.200Z"
   },
   {
    "duration": 281,
    "start_time": "2021-07-21T10:39:51.782Z"
   },
   {
    "duration": 3,
    "start_time": "2021-07-21T10:40:01.205Z"
   },
   {
    "duration": 20,
    "start_time": "2021-07-21T10:42:01.029Z"
   },
   {
    "duration": 3,
    "start_time": "2021-07-21T10:42:58.550Z"
   },
   {
    "duration": 50,
    "start_time": "2021-07-21T10:49:53.519Z"
   },
   {
    "duration": 28,
    "start_time": "2021-07-21T10:50:18.950Z"
   },
   {
    "duration": 4,
    "start_time": "2021-07-21T10:50:21.144Z"
   },
   {
    "duration": 17,
    "start_time": "2021-07-21T10:50:34.367Z"
   },
   {
    "duration": 3,
    "start_time": "2021-07-21T10:50:36.524Z"
   },
   {
    "duration": 51,
    "start_time": "2021-07-21T10:50:40.741Z"
   },
   {
    "duration": 60,
    "start_time": "2021-07-21T11:00:01.589Z"
   },
   {
    "duration": 51,
    "start_time": "2021-07-21T11:00:04.170Z"
   },
   {
    "duration": 52,
    "start_time": "2021-07-21T11:00:32.747Z"
   },
   {
    "duration": 2,
    "start_time": "2021-07-21T11:01:06.299Z"
   },
   {
    "duration": 161,
    "start_time": "2021-07-21T11:01:06.328Z"
   },
   {
    "duration": 10,
    "start_time": "2021-07-21T11:01:06.491Z"
   },
   {
    "duration": 62,
    "start_time": "2021-07-21T11:01:06.503Z"
   },
   {
    "duration": 4,
    "start_time": "2021-07-21T11:01:06.568Z"
   },
   {
    "duration": 22,
    "start_time": "2021-07-21T11:01:06.573Z"
   },
   {
    "duration": 9,
    "start_time": "2021-07-21T11:01:06.597Z"
   },
   {
    "duration": 73,
    "start_time": "2021-07-21T11:01:06.607Z"
   },
   {
    "duration": 2,
    "start_time": "2021-07-21T11:01:06.684Z"
   },
   {
    "duration": 65,
    "start_time": "2021-07-21T11:01:06.689Z"
   },
   {
    "duration": 4,
    "start_time": "2021-07-21T11:01:06.756Z"
   },
   {
    "duration": 7,
    "start_time": "2021-07-21T11:01:06.762Z"
   },
   {
    "duration": 5,
    "start_time": "2021-07-21T11:01:06.771Z"
   },
   {
    "duration": 6,
    "start_time": "2021-07-21T11:01:06.777Z"
   },
   {
    "duration": 7,
    "start_time": "2021-07-21T11:01:06.784Z"
   },
   {
    "duration": 6,
    "start_time": "2021-07-21T11:01:06.792Z"
   },
   {
    "duration": 11,
    "start_time": "2021-07-21T11:01:06.799Z"
   },
   {
    "duration": 7,
    "start_time": "2021-07-21T11:01:06.812Z"
   },
   {
    "duration": 4,
    "start_time": "2021-07-21T11:01:06.821Z"
   },
   {
    "duration": 6,
    "start_time": "2021-07-21T11:01:06.827Z"
   },
   {
    "duration": 11,
    "start_time": "2021-07-21T11:01:06.834Z"
   },
   {
    "duration": 5,
    "start_time": "2021-07-21T11:01:06.847Z"
   },
   {
    "duration": 6,
    "start_time": "2021-07-21T11:01:06.853Z"
   },
   {
    "duration": 7,
    "start_time": "2021-07-21T11:01:06.862Z"
   },
   {
    "duration": 7,
    "start_time": "2021-07-21T11:01:06.871Z"
   },
   {
    "duration": 10,
    "start_time": "2021-07-21T11:01:06.879Z"
   },
   {
    "duration": 4,
    "start_time": "2021-07-21T11:01:06.891Z"
   },
   {
    "duration": 4,
    "start_time": "2021-07-21T11:01:06.897Z"
   },
   {
    "duration": 5,
    "start_time": "2021-07-21T11:01:06.902Z"
   },
   {
    "duration": 6,
    "start_time": "2021-07-21T11:01:06.908Z"
   },
   {
    "duration": 7,
    "start_time": "2021-07-21T11:01:06.915Z"
   },
   {
    "duration": 6,
    "start_time": "2021-07-21T11:01:06.923Z"
   },
   {
    "duration": 11,
    "start_time": "2021-07-21T11:01:06.930Z"
   },
   {
    "duration": 5,
    "start_time": "2021-07-21T11:01:06.942Z"
   },
   {
    "duration": 5,
    "start_time": "2021-07-21T11:01:06.948Z"
   },
   {
    "duration": 5,
    "start_time": "2021-07-21T11:01:06.954Z"
   },
   {
    "duration": 6,
    "start_time": "2021-07-21T11:01:06.960Z"
   },
   {
    "duration": 5,
    "start_time": "2021-07-21T11:01:06.968Z"
   },
   {
    "duration": 92,
    "start_time": "2021-07-21T11:08:28.288Z"
   },
   {
    "duration": 29,
    "start_time": "2021-07-21T11:08:59.647Z"
   },
   {
    "duration": 51,
    "start_time": "2021-07-21T11:09:03.609Z"
   },
   {
    "duration": 103,
    "start_time": "2021-07-21T11:09:36.221Z"
   },
   {
    "duration": 51,
    "start_time": "2021-07-21T11:09:42.431Z"
   },
   {
    "duration": 335,
    "start_time": "2021-07-21T11:10:42.151Z"
   },
   {
    "duration": 50,
    "start_time": "2021-07-21T11:11:06.084Z"
   },
   {
    "duration": 318,
    "start_time": "2021-07-21T11:11:59.985Z"
   },
   {
    "duration": 59,
    "start_time": "2021-07-21T11:12:08.303Z"
   },
   {
    "duration": 47,
    "start_time": "2021-07-21T11:12:16.474Z"
   },
   {
    "duration": 9,
    "start_time": "2021-07-21T11:13:13.247Z"
   },
   {
    "duration": 8,
    "start_time": "2021-07-21T11:16:41.945Z"
   },
   {
    "duration": 3,
    "start_time": "2021-07-21T11:21:35.439Z"
   },
   {
    "duration": 291,
    "start_time": "2021-07-21T11:21:39.197Z"
   },
   {
    "duration": 10,
    "start_time": "2021-07-21T11:21:57.699Z"
   },
   {
    "duration": 9,
    "start_time": "2021-07-21T11:22:11.647Z"
   },
   {
    "duration": 4,
    "start_time": "2021-07-21T11:24:40.998Z"
   },
   {
    "duration": 55,
    "start_time": "2021-07-21T11:24:52.862Z"
   },
   {
    "duration": 59,
    "start_time": "2021-07-21T11:25:42.738Z"
   },
   {
    "duration": 270,
    "start_time": "2021-07-21T12:00:08.255Z"
   },
   {
    "duration": 4,
    "start_time": "2021-07-21T12:00:31.096Z"
   },
   {
    "duration": 551,
    "start_time": "2021-07-21T12:00:34.185Z"
   },
   {
    "duration": 86,
    "start_time": "2021-07-21T12:01:00.541Z"
   },
   {
    "duration": 3,
    "start_time": "2021-07-21T12:01:11.774Z"
   },
   {
    "duration": 564,
    "start_time": "2021-07-21T12:01:17.365Z"
   },
   {
    "duration": 3,
    "start_time": "2021-07-21T12:01:48.577Z"
   },
   {
    "duration": 511,
    "start_time": "2021-07-21T12:01:51.158Z"
   },
   {
    "duration": 104,
    "start_time": "2021-07-21T12:02:12.749Z"
   },
   {
    "duration": 83,
    "start_time": "2021-07-21T12:02:47.590Z"
   },
   {
    "duration": 4,
    "start_time": "2021-07-21T12:02:57.144Z"
   },
   {
    "duration": 611,
    "start_time": "2021-07-21T12:03:00.135Z"
   },
   {
    "duration": 4,
    "start_time": "2021-07-21T12:03:36.898Z"
   },
   {
    "duration": 553,
    "start_time": "2021-07-21T12:03:39.748Z"
   },
   {
    "duration": 3,
    "start_time": "2021-07-21T12:06:34.840Z"
   },
   {
    "duration": 532,
    "start_time": "2021-07-21T12:06:38.352Z"
   },
   {
    "duration": 4,
    "start_time": "2021-07-21T12:08:35.128Z"
   },
   {
    "duration": 14,
    "start_time": "2021-07-21T12:08:36.661Z"
   },
   {
    "duration": 3,
    "start_time": "2021-07-21T12:09:23.021Z"
   },
   {
    "duration": 13,
    "start_time": "2021-07-21T12:09:24.712Z"
   },
   {
    "duration": 3,
    "start_time": "2021-07-21T12:09:29.105Z"
   },
   {
    "duration": 3,
    "start_time": "2021-07-21T12:09:30.450Z"
   },
   {
    "duration": 14,
    "start_time": "2021-07-21T12:09:31.889Z"
   },
   {
    "duration": 3,
    "start_time": "2021-07-21T12:09:57.680Z"
   },
   {
    "duration": 15,
    "start_time": "2021-07-21T12:09:59.236Z"
   },
   {
    "duration": 3,
    "start_time": "2021-07-21T12:11:04.677Z"
   },
   {
    "duration": 45,
    "start_time": "2021-07-21T12:11:06.011Z"
   },
   {
    "duration": 47,
    "start_time": "2021-07-21T12:11:32.965Z"
   },
   {
    "duration": 4,
    "start_time": "2021-07-21T12:11:37.322Z"
   },
   {
    "duration": 47,
    "start_time": "2021-07-21T12:11:38.715Z"
   },
   {
    "duration": 32,
    "start_time": "2021-07-21T12:12:01.029Z"
   },
   {
    "duration": 14,
    "start_time": "2021-07-21T12:12:03.418Z"
   },
   {
    "duration": 13,
    "start_time": "2021-07-21T12:12:08.586Z"
   },
   {
    "duration": 46,
    "start_time": "2021-07-21T12:12:10.233Z"
   },
   {
    "duration": 31,
    "start_time": "2021-07-21T12:12:12.312Z"
   },
   {
    "duration": 37,
    "start_time": "2021-07-21T12:12:33.376Z"
   },
   {
    "duration": 31,
    "start_time": "2021-07-21T12:12:35.698Z"
   },
   {
    "duration": 4,
    "start_time": "2021-07-21T12:13:52.562Z"
   },
   {
    "duration": 23,
    "start_time": "2021-07-21T12:13:54.023Z"
   },
   {
    "duration": 24,
    "start_time": "2021-07-21T12:13:58.174Z"
   },
   {
    "duration": 23,
    "start_time": "2021-07-21T12:13:59.806Z"
   },
   {
    "duration": 22,
    "start_time": "2021-07-21T12:14:01.033Z"
   },
   {
    "duration": 23,
    "start_time": "2021-07-21T12:14:02.266Z"
   },
   {
    "duration": 20,
    "start_time": "2021-07-21T12:14:03.261Z"
   },
   {
    "duration": 8,
    "start_time": "2021-07-21T12:24:11.956Z"
   },
   {
    "duration": 8,
    "start_time": "2021-07-21T12:25:30.528Z"
   },
   {
    "duration": 4,
    "start_time": "2021-07-21T12:46:55.498Z"
   },
   {
    "duration": 252,
    "start_time": "2021-07-21T12:46:59.076Z"
   },
   {
    "duration": 14,
    "start_time": "2021-07-21T12:47:11.710Z"
   },
   {
    "duration": 90,
    "start_time": "2021-07-21T12:47:13.022Z"
   },
   {
    "duration": 3,
    "start_time": "2021-07-21T12:47:15.537Z"
   },
   {
    "duration": 538,
    "start_time": "2021-07-21T12:47:17.335Z"
   },
   {
    "duration": 4,
    "start_time": "2021-07-21T12:48:59.573Z"
   },
   {
    "duration": 725,
    "start_time": "2021-07-21T12:49:01.690Z"
   },
   {
    "duration": 3,
    "start_time": "2021-07-21T12:49:23.016Z"
   },
   {
    "duration": 31,
    "start_time": "2021-07-21T12:49:24.427Z"
   },
   {
    "duration": 4,
    "start_time": "2021-07-21T12:49:53.336Z"
   },
   {
    "duration": 606,
    "start_time": "2021-07-21T12:49:54.952Z"
   },
   {
    "duration": 4,
    "start_time": "2021-07-21T12:50:11.608Z"
   },
   {
    "duration": 4,
    "start_time": "2021-07-21T12:50:12.757Z"
   },
   {
    "duration": 24,
    "start_time": "2021-07-21T12:50:14.093Z"
   },
   {
    "duration": 303,
    "start_time": "2021-07-21T12:50:25.133Z"
   },
   {
    "duration": 92,
    "start_time": "2021-07-21T12:50:33.582Z"
   },
   {
    "duration": 15,
    "start_time": "2021-07-21T12:50:46.206Z"
   },
   {
    "duration": 16,
    "start_time": "2021-07-21T12:50:50.499Z"
   },
   {
    "duration": 24,
    "start_time": "2021-07-21T12:50:52.830Z"
   },
   {
    "duration": 15,
    "start_time": "2021-07-21T12:50:54.178Z"
   },
   {
    "duration": 50,
    "start_time": "2021-07-21T12:54:13.091Z"
   },
   {
    "duration": 7,
    "start_time": "2021-07-21T12:54:14.441Z"
   },
   {
    "duration": 14,
    "start_time": "2021-07-21T12:54:55.268Z"
   },
   {
    "duration": 5,
    "start_time": "2021-07-21T12:54:56.051Z"
   },
   {
    "duration": 10,
    "start_time": "2021-07-21T12:55:21.208Z"
   },
   {
    "duration": 5,
    "start_time": "2021-07-21T12:55:23.441Z"
   },
   {
    "duration": 105,
    "start_time": "2021-07-21T12:56:04.768Z"
   },
   {
    "duration": 97,
    "start_time": "2021-07-21T12:56:30.724Z"
   },
   {
    "duration": 91,
    "start_time": "2021-07-21T12:56:41.264Z"
   },
   {
    "duration": 93,
    "start_time": "2021-07-21T12:56:50.523Z"
   },
   {
    "duration": 7,
    "start_time": "2021-07-21T12:57:03.797Z"
   },
   {
    "duration": 5,
    "start_time": "2021-07-21T12:57:05.016Z"
   },
   {
    "duration": 282,
    "start_time": "2021-07-21T12:58:20.985Z"
   },
   {
    "duration": 12,
    "start_time": "2021-07-21T12:58:30.312Z"
   },
   {
    "duration": 5,
    "start_time": "2021-07-21T12:58:32.556Z"
   },
   {
    "duration": 9,
    "start_time": "2021-07-21T12:58:57.479Z"
   },
   {
    "duration": 5,
    "start_time": "2021-07-21T12:58:59.639Z"
   },
   {
    "duration": 543,
    "start_time": "2021-07-22T07:31:00.647Z"
   },
   {
    "duration": 134,
    "start_time": "2021-07-22T07:31:01.192Z"
   },
   {
    "duration": 16,
    "start_time": "2021-07-22T07:31:01.328Z"
   },
   {
    "duration": 26,
    "start_time": "2021-07-22T07:31:01.346Z"
   },
   {
    "duration": 13,
    "start_time": "2021-07-22T07:31:01.373Z"
   },
   {
    "duration": 31,
    "start_time": "2021-07-22T07:31:01.388Z"
   },
   {
    "duration": 3,
    "start_time": "2021-07-22T07:31:01.421Z"
   },
   {
    "duration": 27,
    "start_time": "2021-07-22T07:31:01.426Z"
   },
   {
    "duration": 30,
    "start_time": "2021-07-22T07:31:01.455Z"
   },
   {
    "duration": 20,
    "start_time": "2021-07-22T07:31:01.486Z"
   },
   {
    "duration": 58,
    "start_time": "2021-07-22T07:31:01.508Z"
   },
   {
    "duration": 73,
    "start_time": "2021-07-22T07:31:01.568Z"
   },
   {
    "duration": 58,
    "start_time": "2021-07-22T07:31:01.643Z"
   },
   {
    "duration": 9,
    "start_time": "2021-07-22T07:31:01.703Z"
   },
   {
    "duration": 8,
    "start_time": "2021-07-22T07:31:01.714Z"
   },
   {
    "duration": 23,
    "start_time": "2021-07-22T07:31:01.724Z"
   },
   {
    "duration": 28,
    "start_time": "2021-07-22T07:31:01.748Z"
   },
   {
    "duration": 38,
    "start_time": "2021-07-22T07:31:01.778Z"
   },
   {
    "duration": 31,
    "start_time": "2021-07-22T07:31:01.817Z"
   },
   {
    "duration": 4,
    "start_time": "2021-07-22T07:31:01.849Z"
   },
   {
    "duration": 30,
    "start_time": "2021-07-22T07:31:01.855Z"
   },
   {
    "duration": 14,
    "start_time": "2021-07-22T07:31:01.887Z"
   },
   {
    "duration": 16,
    "start_time": "2021-07-22T07:31:01.904Z"
   },
   {
    "duration": 12,
    "start_time": "2021-07-22T07:31:01.922Z"
   },
   {
    "duration": 16,
    "start_time": "2021-07-22T07:31:01.936Z"
   },
   {
    "duration": 47,
    "start_time": "2021-07-22T07:31:01.954Z"
   },
   {
    "duration": 8,
    "start_time": "2021-07-22T07:31:02.003Z"
   },
   {
    "duration": 12,
    "start_time": "2021-07-22T07:31:02.014Z"
   },
   {
    "duration": 11,
    "start_time": "2021-07-22T07:31:02.027Z"
   },
   {
    "duration": 5,
    "start_time": "2021-07-22T07:31:02.040Z"
   },
   {
    "duration": 55,
    "start_time": "2021-07-22T07:31:02.047Z"
   },
   {
    "duration": 12,
    "start_time": "2021-07-22T07:31:02.104Z"
   },
   {
    "duration": 16,
    "start_time": "2021-07-22T07:31:02.117Z"
   },
   {
    "duration": 12,
    "start_time": "2021-07-22T07:31:02.134Z"
   },
   {
    "duration": 38,
    "start_time": "2021-07-22T07:31:02.147Z"
   },
   {
    "duration": 4,
    "start_time": "2021-07-22T07:31:02.186Z"
   },
   {
    "duration": 12,
    "start_time": "2021-07-22T07:31:02.192Z"
   },
   {
    "duration": 4,
    "start_time": "2021-07-22T07:31:02.205Z"
   },
   {
    "duration": 212,
    "start_time": "2021-07-22T08:29:34.113Z"
   },
   {
    "duration": 557,
    "start_time": "2021-07-22T08:29:42.988Z"
   },
   {
    "duration": 137,
    "start_time": "2021-07-22T08:29:45.483Z"
   },
   {
    "duration": 3,
    "start_time": "2021-07-22T08:30:05.344Z"
   },
   {
    "duration": 143,
    "start_time": "2021-07-22T08:30:05.349Z"
   },
   {
    "duration": 18,
    "start_time": "2021-07-22T08:30:09.112Z"
   },
   {
    "duration": 24,
    "start_time": "2021-07-22T08:30:17.059Z"
   },
   {
    "duration": 24,
    "start_time": "2021-07-22T08:31:08.042Z"
   },
   {
    "duration": 2,
    "start_time": "2021-07-22T08:31:15.998Z"
   },
   {
    "duration": 142,
    "start_time": "2021-07-22T08:31:16.002Z"
   },
   {
    "duration": 11,
    "start_time": "2021-07-22T08:31:16.146Z"
   },
   {
    "duration": 35,
    "start_time": "2021-07-22T08:31:16.159Z"
   },
   {
    "duration": 3,
    "start_time": "2021-07-22T08:31:31.789Z"
   },
   {
    "duration": 133,
    "start_time": "2021-07-22T08:31:31.794Z"
   },
   {
    "duration": 9,
    "start_time": "2021-07-22T08:31:31.929Z"
   },
   {
    "duration": 45,
    "start_time": "2021-07-22T08:31:31.940Z"
   },
   {
    "duration": 3,
    "start_time": "2021-07-22T08:31:31.987Z"
   },
   {
    "duration": 19,
    "start_time": "2021-07-22T08:31:31.992Z"
   },
   {
    "duration": 3,
    "start_time": "2021-07-22T08:31:32.013Z"
   },
   {
    "duration": 27,
    "start_time": "2021-07-22T08:31:32.017Z"
   },
   {
    "duration": 38,
    "start_time": "2021-07-22T08:31:32.047Z"
   },
   {
    "duration": 22,
    "start_time": "2021-07-22T08:31:32.087Z"
   },
   {
    "duration": 54,
    "start_time": "2021-07-22T08:31:32.110Z"
   },
   {
    "duration": 74,
    "start_time": "2021-07-22T08:31:32.165Z"
   },
   {
    "duration": 57,
    "start_time": "2021-07-22T08:31:32.241Z"
   },
   {
    "duration": 9,
    "start_time": "2021-07-22T08:31:32.299Z"
   },
   {
    "duration": 3,
    "start_time": "2021-07-22T08:31:32.309Z"
   },
   {
    "duration": 13,
    "start_time": "2021-07-22T08:31:32.314Z"
   },
   {
    "duration": 10,
    "start_time": "2021-07-22T08:31:32.329Z"
   },
   {
    "duration": 54,
    "start_time": "2021-07-22T08:31:32.341Z"
   },
   {
    "duration": 31,
    "start_time": "2021-07-22T08:31:32.397Z"
   },
   {
    "duration": 4,
    "start_time": "2021-07-22T08:31:32.430Z"
   },
   {
    "duration": 21,
    "start_time": "2021-07-22T08:31:32.436Z"
   },
   {
    "duration": 35,
    "start_time": "2021-07-22T08:31:32.459Z"
   },
   {
    "duration": 16,
    "start_time": "2021-07-22T08:31:32.496Z"
   },
   {
    "duration": 14,
    "start_time": "2021-07-22T08:31:32.516Z"
   },
   {
    "duration": 16,
    "start_time": "2021-07-22T08:31:32.532Z"
   },
   {
    "duration": 15,
    "start_time": "2021-07-22T08:31:32.585Z"
   },
   {
    "duration": 9,
    "start_time": "2021-07-22T08:31:32.602Z"
   },
   {
    "duration": 12,
    "start_time": "2021-07-22T08:31:32.613Z"
   },
   {
    "duration": 11,
    "start_time": "2021-07-22T08:31:32.626Z"
   },
   {
    "duration": 6,
    "start_time": "2021-07-22T08:31:32.638Z"
   },
   {
    "duration": 49,
    "start_time": "2021-07-22T08:31:32.646Z"
   },
   {
    "duration": 13,
    "start_time": "2021-07-22T08:31:32.697Z"
   },
   {
    "duration": 18,
    "start_time": "2021-07-22T08:31:32.712Z"
   },
   {
    "duration": 12,
    "start_time": "2021-07-22T08:31:32.732Z"
   },
   {
    "duration": 45,
    "start_time": "2021-07-22T08:31:32.746Z"
   },
   {
    "duration": 4,
    "start_time": "2021-07-22T08:31:32.793Z"
   },
   {
    "duration": 8,
    "start_time": "2021-07-22T08:31:32.799Z"
   },
   {
    "duration": 5,
    "start_time": "2021-07-22T08:31:32.809Z"
   },
   {
    "duration": 559,
    "start_time": "2021-07-22T08:32:12.187Z"
   },
   {
    "duration": 134,
    "start_time": "2021-07-22T08:32:12.747Z"
   },
   {
    "duration": 15,
    "start_time": "2021-07-22T08:32:12.883Z"
   },
   {
    "duration": 33,
    "start_time": "2021-07-22T08:32:12.900Z"
   },
   {
    "duration": 16,
    "start_time": "2021-07-22T08:32:12.935Z"
   },
   {
    "duration": 30,
    "start_time": "2021-07-22T08:32:12.952Z"
   },
   {
    "duration": 14,
    "start_time": "2021-07-22T08:32:12.984Z"
   },
   {
    "duration": 30,
    "start_time": "2021-07-22T08:32:13.000Z"
   },
   {
    "duration": 18,
    "start_time": "2021-07-22T08:32:13.032Z"
   },
   {
    "duration": 19,
    "start_time": "2021-07-22T08:32:13.051Z"
   },
   {
    "duration": 53,
    "start_time": "2021-07-22T08:32:13.071Z"
   },
   {
    "duration": 72,
    "start_time": "2021-07-22T08:32:13.125Z"
   },
   {
    "duration": 48,
    "start_time": "2021-07-22T08:32:13.199Z"
   },
   {
    "duration": 9,
    "start_time": "2021-07-22T08:32:13.249Z"
   },
   {
    "duration": 2,
    "start_time": "2021-07-22T08:32:13.259Z"
   },
   {
    "duration": 28,
    "start_time": "2021-07-22T08:32:13.263Z"
   },
   {
    "duration": 11,
    "start_time": "2021-07-22T08:32:13.293Z"
   },
   {
    "duration": 30,
    "start_time": "2021-07-22T08:32:13.305Z"
   },
   {
    "duration": 27,
    "start_time": "2021-07-22T08:32:13.336Z"
   },
   {
    "duration": 4,
    "start_time": "2021-07-22T08:32:13.385Z"
   },
   {
    "duration": 20,
    "start_time": "2021-07-22T08:32:13.390Z"
   },
   {
    "duration": 12,
    "start_time": "2021-07-22T08:32:13.412Z"
   },
   {
    "duration": 12,
    "start_time": "2021-07-22T08:32:13.427Z"
   },
   {
    "duration": 11,
    "start_time": "2021-07-22T08:32:13.441Z"
   },
   {
    "duration": 42,
    "start_time": "2021-07-22T08:32:13.454Z"
   },
   {
    "duration": 13,
    "start_time": "2021-07-22T08:32:13.497Z"
   },
   {
    "duration": 7,
    "start_time": "2021-07-22T08:32:13.512Z"
   },
   {
    "duration": 10,
    "start_time": "2021-07-22T08:32:13.521Z"
   },
   {
    "duration": 7,
    "start_time": "2021-07-22T08:32:13.533Z"
   },
   {
    "duration": 4,
    "start_time": "2021-07-22T08:32:13.542Z"
   },
   {
    "duration": 54,
    "start_time": "2021-07-22T08:32:13.547Z"
   },
   {
    "duration": 11,
    "start_time": "2021-07-22T08:32:13.603Z"
   },
   {
    "duration": 14,
    "start_time": "2021-07-22T08:32:13.616Z"
   },
   {
    "duration": 11,
    "start_time": "2021-07-22T08:32:13.632Z"
   },
   {
    "duration": 8,
    "start_time": "2021-07-22T08:32:13.644Z"
   },
   {
    "duration": 4,
    "start_time": "2021-07-22T08:32:13.654Z"
   },
   {
    "duration": 5,
    "start_time": "2021-07-22T08:32:13.685Z"
   },
   {
    "duration": 4,
    "start_time": "2021-07-22T08:32:13.692Z"
   },
   {
    "duration": 69,
    "start_time": "2021-07-22T08:34:23.872Z"
   },
   {
    "duration": 251,
    "start_time": "2021-07-22T08:34:27.622Z"
   },
   {
    "duration": 60,
    "start_time": "2021-07-22T08:34:41.765Z"
   },
   {
    "duration": 220,
    "start_time": "2021-07-22T08:34:45.569Z"
   },
   {
    "duration": 60,
    "start_time": "2021-07-22T08:34:56.680Z"
   },
   {
    "duration": 52,
    "start_time": "2021-07-22T08:35:00.140Z"
   },
   {
    "duration": 186,
    "start_time": "2021-07-22T08:35:30.212Z"
   },
   {
    "duration": 60,
    "start_time": "2021-07-22T08:35:41.430Z"
   },
   {
    "duration": 52,
    "start_time": "2021-07-22T08:35:59.584Z"
   },
   {
    "duration": 180,
    "start_time": "2021-07-22T08:37:28.852Z"
   },
   {
    "duration": 42,
    "start_time": "2021-07-22T08:38:48.594Z"
   },
   {
    "duration": 52,
    "start_time": "2021-07-22T08:38:58.977Z"
   },
   {
    "duration": 288,
    "start_time": "2021-07-22T08:39:14.847Z"
   },
   {
    "duration": 45,
    "start_time": "2021-07-22T08:39:26.028Z"
   },
   {
    "duration": 44,
    "start_time": "2021-07-22T08:39:37.062Z"
   },
   {
    "duration": 48,
    "start_time": "2021-07-22T08:39:55.364Z"
   },
   {
    "duration": 1364,
    "start_time": "2021-07-22T08:40:19.774Z"
   },
   {
    "duration": 46,
    "start_time": "2021-07-22T08:40:25.562Z"
   },
   {
    "duration": 50,
    "start_time": "2021-07-22T08:40:34.316Z"
   },
   {
    "duration": 3,
    "start_time": "2021-07-22T08:41:48.681Z"
   },
   {
    "duration": 11,
    "start_time": "2021-07-22T08:42:09.480Z"
   },
   {
    "duration": 10,
    "start_time": "2021-07-22T08:42:13.376Z"
   },
   {
    "duration": 81,
    "start_time": "2021-07-22T08:45:36.940Z"
   },
   {
    "duration": 56,
    "start_time": "2021-07-22T08:45:55.366Z"
   },
   {
    "duration": 73,
    "start_time": "2021-07-22T08:46:11.627Z"
   },
   {
    "duration": 191,
    "start_time": "2021-07-22T08:47:11.829Z"
   },
   {
    "duration": 211,
    "start_time": "2021-07-22T08:47:38.472Z"
   },
   {
    "duration": 179,
    "start_time": "2021-07-22T08:49:13.347Z"
   },
   {
    "duration": 259,
    "start_time": "2021-07-22T08:49:24.433Z"
   },
   {
    "duration": 227,
    "start_time": "2021-07-22T08:49:48.108Z"
   },
   {
    "duration": 37,
    "start_time": "2021-07-22T08:50:28.973Z"
   },
   {
    "duration": 37,
    "start_time": "2021-07-22T08:50:31.991Z"
   },
   {
    "duration": 38,
    "start_time": "2021-07-22T08:50:43.919Z"
   },
   {
    "duration": 41,
    "start_time": "2021-07-22T08:51:13.595Z"
   },
   {
    "duration": 25,
    "start_time": "2021-07-22T08:52:49.283Z"
   },
   {
    "duration": 4,
    "start_time": "2021-07-22T08:52:59.170Z"
   },
   {
    "duration": 4,
    "start_time": "2021-07-22T08:53:06.146Z"
   },
   {
    "duration": 21,
    "start_time": "2021-07-22T08:56:15.147Z"
   },
   {
    "duration": 49,
    "start_time": "2021-07-22T08:56:23.443Z"
   },
   {
    "duration": 47,
    "start_time": "2021-07-22T08:57:00.254Z"
   },
   {
    "duration": 47,
    "start_time": "2021-07-22T08:57:10.182Z"
   },
   {
    "duration": 548,
    "start_time": "2021-07-22T08:57:22.835Z"
   },
   {
    "duration": 129,
    "start_time": "2021-07-22T08:57:23.384Z"
   },
   {
    "duration": 18,
    "start_time": "2021-07-22T08:57:23.515Z"
   },
   {
    "duration": 26,
    "start_time": "2021-07-22T08:57:23.535Z"
   },
   {
    "duration": 23,
    "start_time": "2021-07-22T08:57:23.563Z"
   },
   {
    "duration": 22,
    "start_time": "2021-07-22T08:57:23.588Z"
   },
   {
    "duration": 10,
    "start_time": "2021-07-22T08:57:23.612Z"
   },
   {
    "duration": 26,
    "start_time": "2021-07-22T08:57:23.624Z"
   },
   {
    "duration": 37,
    "start_time": "2021-07-22T08:57:23.654Z"
   },
   {
    "duration": 24,
    "start_time": "2021-07-22T08:57:23.694Z"
   },
   {
    "duration": 75,
    "start_time": "2021-07-22T08:57:23.720Z"
   },
   {
    "duration": 68,
    "start_time": "2021-07-22T08:57:23.798Z"
   },
   {
    "duration": 63,
    "start_time": "2021-07-22T08:57:23.868Z"
   },
   {
    "duration": 58,
    "start_time": "2021-07-22T08:57:23.934Z"
   },
   {
    "duration": 2,
    "start_time": "2021-07-22T08:57:23.994Z"
   },
   {
    "duration": 12,
    "start_time": "2021-07-22T08:57:23.998Z"
   },
   {
    "duration": 41,
    "start_time": "2021-07-22T08:57:24.012Z"
   },
   {
    "duration": 56,
    "start_time": "2021-07-22T08:57:24.055Z"
   },
   {
    "duration": 32,
    "start_time": "2021-07-22T08:57:24.112Z"
   },
   {
    "duration": 3,
    "start_time": "2021-07-22T08:57:24.146Z"
   },
   {
    "duration": 39,
    "start_time": "2021-07-22T08:57:24.151Z"
   },
   {
    "duration": 15,
    "start_time": "2021-07-22T08:57:24.192Z"
   },
   {
    "duration": 14,
    "start_time": "2021-07-22T08:57:24.209Z"
   },
   {
    "duration": 13,
    "start_time": "2021-07-22T08:57:24.224Z"
   },
   {
    "duration": 46,
    "start_time": "2021-07-22T08:57:24.238Z"
   },
   {
    "duration": 16,
    "start_time": "2021-07-22T08:57:24.286Z"
   },
   {
    "duration": 9,
    "start_time": "2021-07-22T08:57:24.306Z"
   },
   {
    "duration": 19,
    "start_time": "2021-07-22T08:57:24.317Z"
   },
   {
    "duration": 11,
    "start_time": "2021-07-22T08:57:24.338Z"
   },
   {
    "duration": 4,
    "start_time": "2021-07-22T08:57:24.351Z"
   },
   {
    "duration": 22,
    "start_time": "2021-07-22T08:57:24.385Z"
   },
   {
    "duration": 13,
    "start_time": "2021-07-22T08:57:24.409Z"
   },
   {
    "duration": 17,
    "start_time": "2021-07-22T08:57:24.424Z"
   },
   {
    "duration": 46,
    "start_time": "2021-07-22T08:57:24.443Z"
   },
   {
    "duration": 12,
    "start_time": "2021-07-22T08:57:24.492Z"
   },
   {
    "duration": 5,
    "start_time": "2021-07-22T08:57:24.505Z"
   },
   {
    "duration": 9,
    "start_time": "2021-07-22T08:57:24.511Z"
   },
   {
    "duration": 5,
    "start_time": "2021-07-22T08:57:24.521Z"
   },
   {
    "duration": 524,
    "start_time": "2021-07-22T08:58:27.337Z"
   },
   {
    "duration": 128,
    "start_time": "2021-07-22T08:58:27.863Z"
   },
   {
    "duration": 15,
    "start_time": "2021-07-22T08:58:27.995Z"
   },
   {
    "duration": 25,
    "start_time": "2021-07-22T08:58:28.012Z"
   },
   {
    "duration": 4,
    "start_time": "2021-07-22T08:58:28.039Z"
   },
   {
    "duration": 46,
    "start_time": "2021-07-22T08:58:28.044Z"
   },
   {
    "duration": 3,
    "start_time": "2021-07-22T08:58:28.092Z"
   },
   {
    "duration": 23,
    "start_time": "2021-07-22T08:58:28.097Z"
   },
   {
    "duration": 16,
    "start_time": "2021-07-22T08:58:28.122Z"
   },
   {
    "duration": 23,
    "start_time": "2021-07-22T08:58:28.139Z"
   },
   {
    "duration": 57,
    "start_time": "2021-07-22T08:58:28.184Z"
   },
   {
    "duration": 82,
    "start_time": "2021-07-22T08:58:28.243Z"
   },
   {
    "duration": 90,
    "start_time": "2021-07-22T08:58:28.327Z"
   },
   {
    "duration": 57,
    "start_time": "2021-07-22T08:58:28.420Z"
   },
   {
    "duration": 3,
    "start_time": "2021-07-22T08:58:28.479Z"
   },
   {
    "duration": 11,
    "start_time": "2021-07-22T08:58:28.483Z"
   },
   {
    "duration": 38,
    "start_time": "2021-07-22T08:58:28.496Z"
   },
   {
    "duration": 30,
    "start_time": "2021-07-22T08:58:28.535Z"
   },
   {
    "duration": 44,
    "start_time": "2021-07-22T08:58:28.567Z"
   },
   {
    "duration": 3,
    "start_time": "2021-07-22T08:58:28.613Z"
   },
   {
    "duration": 21,
    "start_time": "2021-07-22T08:58:28.617Z"
   },
   {
    "duration": 14,
    "start_time": "2021-07-22T08:58:28.641Z"
   },
   {
    "duration": 34,
    "start_time": "2021-07-22T08:58:28.657Z"
   },
   {
    "duration": 12,
    "start_time": "2021-07-22T08:58:28.693Z"
   },
   {
    "duration": 15,
    "start_time": "2021-07-22T08:58:28.707Z"
   },
   {
    "duration": 13,
    "start_time": "2021-07-22T08:58:28.724Z"
   },
   {
    "duration": 8,
    "start_time": "2021-07-22T08:58:28.738Z"
   },
   {
    "duration": 47,
    "start_time": "2021-07-22T08:58:28.748Z"
   },
   {
    "duration": 8,
    "start_time": "2021-07-22T08:58:28.797Z"
   },
   {
    "duration": 3,
    "start_time": "2021-07-22T08:58:28.807Z"
   },
   {
    "duration": 25,
    "start_time": "2021-07-22T08:58:28.812Z"
   },
   {
    "duration": 12,
    "start_time": "2021-07-22T08:58:28.839Z"
   },
   {
    "duration": 40,
    "start_time": "2021-07-22T08:58:28.852Z"
   },
   {
    "duration": 12,
    "start_time": "2021-07-22T08:58:28.894Z"
   },
   {
    "duration": 8,
    "start_time": "2021-07-22T08:58:28.907Z"
   },
   {
    "duration": 4,
    "start_time": "2021-07-22T08:58:28.916Z"
   },
   {
    "duration": 8,
    "start_time": "2021-07-22T08:58:28.922Z"
   },
   {
    "duration": 4,
    "start_time": "2021-07-22T08:58:28.931Z"
   },
   {
    "duration": 569,
    "start_time": "2021-07-22T09:00:33.279Z"
   },
   {
    "duration": 137,
    "start_time": "2021-07-22T09:00:33.850Z"
   },
   {
    "duration": 17,
    "start_time": "2021-07-22T09:00:33.989Z"
   },
   {
    "duration": 24,
    "start_time": "2021-07-22T09:00:34.008Z"
   },
   {
    "duration": 4,
    "start_time": "2021-07-22T09:00:34.034Z"
   },
   {
    "duration": 45,
    "start_time": "2021-07-22T09:00:34.040Z"
   },
   {
    "duration": 4,
    "start_time": "2021-07-22T09:00:34.086Z"
   },
   {
    "duration": 23,
    "start_time": "2021-07-22T09:00:34.093Z"
   },
   {
    "duration": 16,
    "start_time": "2021-07-22T09:00:34.118Z"
   },
   {
    "duration": 21,
    "start_time": "2021-07-22T09:00:34.135Z"
   },
   {
    "duration": 56,
    "start_time": "2021-07-22T09:00:34.185Z"
   },
   {
    "duration": 81,
    "start_time": "2021-07-22T09:00:34.243Z"
   },
   {
    "duration": 59,
    "start_time": "2021-07-22T09:00:34.325Z"
   },
   {
    "duration": 40,
    "start_time": "2021-07-22T09:00:34.386Z"
   },
   {
    "duration": 3,
    "start_time": "2021-07-22T09:00:34.428Z"
   },
   {
    "duration": 11,
    "start_time": "2021-07-22T09:00:34.432Z"
   },
   {
    "duration": 59,
    "start_time": "2021-07-22T09:00:34.444Z"
   },
   {
    "duration": 70,
    "start_time": "2021-07-22T09:00:34.505Z"
   },
   {
    "duration": 1386,
    "start_time": "2021-07-22T09:00:33.191Z"
   },
   {
    "duration": 1379,
    "start_time": "2021-07-22T09:00:33.199Z"
   },
   {
    "duration": 1377,
    "start_time": "2021-07-22T09:00:33.202Z"
   },
   {
    "duration": 1371,
    "start_time": "2021-07-22T09:00:33.209Z"
   },
   {
    "duration": 1367,
    "start_time": "2021-07-22T09:00:33.213Z"
   },
   {
    "duration": 1358,
    "start_time": "2021-07-22T09:00:33.223Z"
   },
   {
    "duration": 1347,
    "start_time": "2021-07-22T09:00:33.235Z"
   },
   {
    "duration": 1346,
    "start_time": "2021-07-22T09:00:33.238Z"
   },
   {
    "duration": 1344,
    "start_time": "2021-07-22T09:00:33.241Z"
   },
   {
    "duration": 1341,
    "start_time": "2021-07-22T09:00:33.244Z"
   },
   {
    "duration": 1337,
    "start_time": "2021-07-22T09:00:33.249Z"
   },
   {
    "duration": 1336,
    "start_time": "2021-07-22T09:00:33.251Z"
   },
   {
    "duration": 1335,
    "start_time": "2021-07-22T09:00:33.253Z"
   },
   {
    "duration": 1334,
    "start_time": "2021-07-22T09:00:33.255Z"
   },
   {
    "duration": 1332,
    "start_time": "2021-07-22T09:00:33.258Z"
   },
   {
    "duration": 1331,
    "start_time": "2021-07-22T09:00:33.260Z"
   },
   {
    "duration": 1329,
    "start_time": "2021-07-22T09:00:33.263Z"
   },
   {
    "duration": 1327,
    "start_time": "2021-07-22T09:00:33.266Z"
   },
   {
    "duration": 1326,
    "start_time": "2021-07-22T09:00:33.268Z"
   },
   {
    "duration": 1325,
    "start_time": "2021-07-22T09:00:33.270Z"
   },
   {
    "duration": 542,
    "start_time": "2021-07-22T09:02:07.496Z"
   },
   {
    "duration": 126,
    "start_time": "2021-07-22T09:02:08.040Z"
   },
   {
    "duration": 20,
    "start_time": "2021-07-22T09:02:08.170Z"
   },
   {
    "duration": 25,
    "start_time": "2021-07-22T09:02:08.192Z"
   },
   {
    "duration": 5,
    "start_time": "2021-07-22T09:02:08.219Z"
   },
   {
    "duration": 26,
    "start_time": "2021-07-22T09:02:08.226Z"
   },
   {
    "duration": 8,
    "start_time": "2021-07-22T09:02:08.254Z"
   },
   {
    "duration": 54,
    "start_time": "2021-07-22T09:02:08.264Z"
   },
   {
    "duration": 19,
    "start_time": "2021-07-22T09:02:08.320Z"
   },
   {
    "duration": 44,
    "start_time": "2021-07-22T09:02:08.341Z"
   },
   {
    "duration": 57,
    "start_time": "2021-07-22T09:02:08.387Z"
   },
   {
    "duration": 81,
    "start_time": "2021-07-22T09:02:08.446Z"
   },
   {
    "duration": 56,
    "start_time": "2021-07-22T09:02:08.529Z"
   },
   {
    "duration": 40,
    "start_time": "2021-07-22T09:02:08.587Z"
   },
   {
    "duration": 3,
    "start_time": "2021-07-22T09:02:08.629Z"
   },
   {
    "duration": 13,
    "start_time": "2021-07-22T09:02:08.634Z"
   },
   {
    "duration": 64,
    "start_time": "2021-07-22T09:02:08.649Z"
   },
   {
    "duration": 55,
    "start_time": "2021-07-22T09:02:08.715Z"
   },
   {
    "duration": 1390,
    "start_time": "2021-07-22T09:02:07.383Z"
   },
   {
    "duration": 1387,
    "start_time": "2021-07-22T09:02:07.387Z"
   },
   {
    "duration": 1386,
    "start_time": "2021-07-22T09:02:07.390Z"
   },
   {
    "duration": 1378,
    "start_time": "2021-07-22T09:02:07.399Z"
   },
   {
    "duration": 1373,
    "start_time": "2021-07-22T09:02:07.405Z"
   },
   {
    "duration": 1373,
    "start_time": "2021-07-22T09:02:07.407Z"
   },
   {
    "duration": 1371,
    "start_time": "2021-07-22T09:02:07.410Z"
   },
   {
    "duration": 1371,
    "start_time": "2021-07-22T09:02:07.412Z"
   },
   {
    "duration": 1368,
    "start_time": "2021-07-22T09:02:07.416Z"
   },
   {
    "duration": 1367,
    "start_time": "2021-07-22T09:02:07.419Z"
   },
   {
    "duration": 1365,
    "start_time": "2021-07-22T09:02:07.422Z"
   },
   {
    "duration": 1360,
    "start_time": "2021-07-22T09:02:07.429Z"
   },
   {
    "duration": 1358,
    "start_time": "2021-07-22T09:02:07.432Z"
   },
   {
    "duration": 1357,
    "start_time": "2021-07-22T09:02:07.434Z"
   },
   {
    "duration": 1356,
    "start_time": "2021-07-22T09:02:07.437Z"
   },
   {
    "duration": 1354,
    "start_time": "2021-07-22T09:02:07.440Z"
   },
   {
    "duration": 1353,
    "start_time": "2021-07-22T09:02:07.443Z"
   },
   {
    "duration": 1352,
    "start_time": "2021-07-22T09:02:07.445Z"
   },
   {
    "duration": 1350,
    "start_time": "2021-07-22T09:02:07.448Z"
   },
   {
    "duration": 1349,
    "start_time": "2021-07-22T09:02:07.451Z"
   },
   {
    "duration": 13,
    "start_time": "2021-07-22T09:04:23.082Z"
   },
   {
    "duration": 245,
    "start_time": "2021-07-22T09:04:52.144Z"
   },
   {
    "duration": 4,
    "start_time": "2021-07-22T09:05:05.615Z"
   },
   {
    "duration": 17,
    "start_time": "2021-07-22T09:05:07.764Z"
   },
   {
    "duration": 547,
    "start_time": "2021-07-22T09:05:16.188Z"
   },
   {
    "duration": 129,
    "start_time": "2021-07-22T09:05:16.736Z"
   },
   {
    "duration": 19,
    "start_time": "2021-07-22T09:05:16.867Z"
   },
   {
    "duration": 21,
    "start_time": "2021-07-22T09:05:16.888Z"
   },
   {
    "duration": 3,
    "start_time": "2021-07-22T09:05:16.911Z"
   },
   {
    "duration": 19,
    "start_time": "2021-07-22T09:05:16.916Z"
   },
   {
    "duration": 3,
    "start_time": "2021-07-22T09:05:16.937Z"
   },
   {
    "duration": 50,
    "start_time": "2021-07-22T09:05:16.943Z"
   },
   {
    "duration": 17,
    "start_time": "2021-07-22T09:05:16.996Z"
   },
   {
    "duration": 20,
    "start_time": "2021-07-22T09:05:17.014Z"
   },
   {
    "duration": 75,
    "start_time": "2021-07-22T09:05:17.036Z"
   },
   {
    "duration": 74,
    "start_time": "2021-07-22T09:05:17.112Z"
   },
   {
    "duration": 52,
    "start_time": "2021-07-22T09:05:17.188Z"
   },
   {
    "duration": 52,
    "start_time": "2021-07-22T09:05:17.242Z"
   },
   {
    "duration": 2,
    "start_time": "2021-07-22T09:05:17.296Z"
   },
   {
    "duration": 12,
    "start_time": "2021-07-22T09:05:17.300Z"
   },
   {
    "duration": 40,
    "start_time": "2021-07-22T09:05:17.314Z"
   },
   {
    "duration": 38,
    "start_time": "2021-07-22T09:05:17.355Z"
   },
   {
    "duration": 241,
    "start_time": "2021-07-22T09:05:17.395Z"
   },
   {
    "duration": 1367,
    "start_time": "2021-07-22T09:05:16.271Z"
   },
   {
    "duration": 1362,
    "start_time": "2021-07-22T09:05:16.277Z"
   },
   {
    "duration": 1360,
    "start_time": "2021-07-22T09:05:16.280Z"
   },
   {
    "duration": 1359,
    "start_time": "2021-07-22T09:05:16.282Z"
   },
   {
    "duration": 1357,
    "start_time": "2021-07-22T09:05:16.285Z"
   },
   {
    "duration": 1354,
    "start_time": "2021-07-22T09:05:16.289Z"
   },
   {
    "duration": 1353,
    "start_time": "2021-07-22T09:05:16.291Z"
   },
   {
    "duration": 1352,
    "start_time": "2021-07-22T09:05:16.293Z"
   },
   {
    "duration": 1350,
    "start_time": "2021-07-22T09:05:16.296Z"
   },
   {
    "duration": 1349,
    "start_time": "2021-07-22T09:05:16.298Z"
   },
   {
    "duration": 1348,
    "start_time": "2021-07-22T09:05:16.300Z"
   },
   {
    "duration": 1345,
    "start_time": "2021-07-22T09:05:16.304Z"
   },
   {
    "duration": 1343,
    "start_time": "2021-07-22T09:05:16.307Z"
   },
   {
    "duration": 1342,
    "start_time": "2021-07-22T09:05:16.309Z"
   },
   {
    "duration": 1341,
    "start_time": "2021-07-22T09:05:16.311Z"
   },
   {
    "duration": 1339,
    "start_time": "2021-07-22T09:05:16.314Z"
   },
   {
    "duration": 1337,
    "start_time": "2021-07-22T09:05:16.317Z"
   },
   {
    "duration": 1335,
    "start_time": "2021-07-22T09:05:16.320Z"
   },
   {
    "duration": 1334,
    "start_time": "2021-07-22T09:05:16.322Z"
   },
   {
    "duration": 32,
    "start_time": "2021-07-22T09:07:16.097Z"
   },
   {
    "duration": 11,
    "start_time": "2021-07-22T09:07:42.726Z"
   },
   {
    "duration": 535,
    "start_time": "2021-07-22T09:07:52.402Z"
   },
   {
    "duration": 128,
    "start_time": "2021-07-22T09:07:52.939Z"
   },
   {
    "duration": 20,
    "start_time": "2021-07-22T09:07:53.072Z"
   },
   {
    "duration": 28,
    "start_time": "2021-07-22T09:07:53.094Z"
   },
   {
    "duration": 4,
    "start_time": "2021-07-22T09:07:53.124Z"
   },
   {
    "duration": 22,
    "start_time": "2021-07-22T09:07:53.129Z"
   },
   {
    "duration": 4,
    "start_time": "2021-07-22T09:07:53.153Z"
   },
   {
    "duration": 45,
    "start_time": "2021-07-22T09:07:53.158Z"
   },
   {
    "duration": 17,
    "start_time": "2021-07-22T09:07:53.205Z"
   },
   {
    "duration": 23,
    "start_time": "2021-07-22T09:07:53.224Z"
   },
   {
    "duration": 92,
    "start_time": "2021-07-22T09:07:53.249Z"
   },
   {
    "duration": 77,
    "start_time": "2021-07-22T09:07:53.343Z"
   },
   {
    "duration": 47,
    "start_time": "2021-07-22T09:07:53.422Z"
   },
   {
    "duration": 48,
    "start_time": "2021-07-22T09:07:53.470Z"
   },
   {
    "duration": 8,
    "start_time": "2021-07-22T09:07:53.520Z"
   },
   {
    "duration": 12,
    "start_time": "2021-07-22T09:07:53.530Z"
   },
   {
    "duration": 48,
    "start_time": "2021-07-22T09:07:53.544Z"
   },
   {
    "duration": 10,
    "start_time": "2021-07-22T09:07:53.593Z"
   },
   {
    "duration": 10,
    "start_time": "2021-07-22T09:07:53.605Z"
   },
   {
    "duration": 6,
    "start_time": "2021-07-22T09:07:53.617Z"
   },
   {
    "duration": 25,
    "start_time": "2021-07-22T09:07:53.624Z"
   },
   {
    "duration": 12,
    "start_time": "2021-07-22T09:07:53.652Z"
   },
   {
    "duration": 15,
    "start_time": "2021-07-22T09:07:53.685Z"
   },
   {
    "duration": 17,
    "start_time": "2021-07-22T09:07:53.702Z"
   },
   {
    "duration": 15,
    "start_time": "2021-07-22T09:07:53.721Z"
   },
   {
    "duration": 12,
    "start_time": "2021-07-22T09:07:53.738Z"
   },
   {
    "duration": 9,
    "start_time": "2021-07-22T09:07:53.751Z"
   },
   {
    "duration": 26,
    "start_time": "2021-07-22T09:07:53.761Z"
   },
   {
    "duration": 9,
    "start_time": "2021-07-22T09:07:53.788Z"
   },
   {
    "duration": 3,
    "start_time": "2021-07-22T09:07:53.799Z"
   },
   {
    "duration": 30,
    "start_time": "2021-07-22T09:07:53.803Z"
   },
   {
    "duration": 14,
    "start_time": "2021-07-22T09:07:53.834Z"
   },
   {
    "duration": 16,
    "start_time": "2021-07-22T09:07:53.850Z"
   },
   {
    "duration": 24,
    "start_time": "2021-07-22T09:07:53.868Z"
   },
   {
    "duration": 9,
    "start_time": "2021-07-22T09:07:53.894Z"
   },
   {
    "duration": 11,
    "start_time": "2021-07-22T09:07:53.905Z"
   },
   {
    "duration": 24,
    "start_time": "2021-07-22T09:07:53.918Z"
   },
   {
    "duration": 13,
    "start_time": "2021-07-22T09:07:53.944Z"
   },
   {
    "duration": 528,
    "start_time": "2021-07-22T09:11:14.128Z"
   },
   {
    "duration": 127,
    "start_time": "2021-07-22T09:11:14.658Z"
   },
   {
    "duration": 16,
    "start_time": "2021-07-22T09:11:14.787Z"
   },
   {
    "duration": 24,
    "start_time": "2021-07-22T09:11:14.805Z"
   },
   {
    "duration": 6,
    "start_time": "2021-07-22T09:11:14.831Z"
   },
   {
    "duration": 25,
    "start_time": "2021-07-22T09:11:14.838Z"
   },
   {
    "duration": 5,
    "start_time": "2021-07-22T09:11:14.864Z"
   },
   {
    "duration": 22,
    "start_time": "2021-07-22T09:11:14.886Z"
   },
   {
    "duration": 17,
    "start_time": "2021-07-22T09:11:14.910Z"
   },
   {
    "duration": 23,
    "start_time": "2021-07-22T09:11:14.929Z"
   },
   {
    "duration": 83,
    "start_time": "2021-07-22T09:11:14.954Z"
   },
   {
    "duration": 85,
    "start_time": "2021-07-22T09:11:15.039Z"
   },
   {
    "duration": 60,
    "start_time": "2021-07-22T09:11:15.126Z"
   },
   {
    "duration": 42,
    "start_time": "2021-07-22T09:11:15.187Z"
   },
   {
    "duration": 3,
    "start_time": "2021-07-22T09:11:15.230Z"
   },
   {
    "duration": 13,
    "start_time": "2021-07-22T09:11:15.234Z"
   },
   {
    "duration": 59,
    "start_time": "2021-07-22T09:11:15.248Z"
   },
   {
    "duration": 12,
    "start_time": "2021-07-22T09:11:15.309Z"
   },
   {
    "duration": 10,
    "start_time": "2021-07-22T09:11:15.322Z"
   },
   {
    "duration": 3,
    "start_time": "2021-07-22T09:11:15.334Z"
   },
   {
    "duration": 19,
    "start_time": "2021-07-22T09:11:15.339Z"
   },
   {
    "duration": 32,
    "start_time": "2021-07-22T09:11:15.360Z"
   },
   {
    "duration": 13,
    "start_time": "2021-07-22T09:11:15.395Z"
   },
   {
    "duration": 12,
    "start_time": "2021-07-22T09:11:15.410Z"
   },
   {
    "duration": 15,
    "start_time": "2021-07-22T09:11:15.423Z"
   },
   {
    "duration": 46,
    "start_time": "2021-07-22T09:11:15.439Z"
   },
   {
    "duration": 8,
    "start_time": "2021-07-22T09:11:15.486Z"
   },
   {
    "duration": 13,
    "start_time": "2021-07-22T09:11:15.495Z"
   },
   {
    "duration": 8,
    "start_time": "2021-07-22T09:11:15.509Z"
   },
   {
    "duration": 4,
    "start_time": "2021-07-22T09:11:15.518Z"
   },
   {
    "duration": 22,
    "start_time": "2021-07-22T09:11:15.523Z"
   },
   {
    "duration": 11,
    "start_time": "2021-07-22T09:11:15.546Z"
   },
   {
    "duration": 15,
    "start_time": "2021-07-22T09:11:15.585Z"
   },
   {
    "duration": 11,
    "start_time": "2021-07-22T09:11:15.602Z"
   },
   {
    "duration": 8,
    "start_time": "2021-07-22T09:11:15.614Z"
   },
   {
    "duration": 4,
    "start_time": "2021-07-22T09:11:15.623Z"
   },
   {
    "duration": 8,
    "start_time": "2021-07-22T09:11:15.628Z"
   },
   {
    "duration": 5,
    "start_time": "2021-07-22T09:11:15.637Z"
   },
   {
    "duration": 557,
    "start_time": "2021-07-22T09:13:47.894Z"
   },
   {
    "duration": 126,
    "start_time": "2021-07-22T09:13:48.453Z"
   },
   {
    "duration": 17,
    "start_time": "2021-07-22T09:13:48.581Z"
   },
   {
    "duration": 22,
    "start_time": "2021-07-22T09:13:48.599Z"
   },
   {
    "duration": 3,
    "start_time": "2021-07-22T09:13:48.623Z"
   },
   {
    "duration": 21,
    "start_time": "2021-07-22T09:13:48.627Z"
   },
   {
    "duration": 4,
    "start_time": "2021-07-22T09:13:48.650Z"
   },
   {
    "duration": 44,
    "start_time": "2021-07-22T09:13:48.656Z"
   },
   {
    "duration": 16,
    "start_time": "2021-07-22T09:13:48.702Z"
   },
   {
    "duration": 24,
    "start_time": "2021-07-22T09:13:48.720Z"
   },
   {
    "duration": 79,
    "start_time": "2021-07-22T09:13:48.745Z"
   },
   {
    "duration": 75,
    "start_time": "2021-07-22T09:13:48.825Z"
   },
   {
    "duration": 47,
    "start_time": "2021-07-22T09:13:48.902Z"
   },
   {
    "duration": 55,
    "start_time": "2021-07-22T09:13:48.951Z"
   },
   {
    "duration": 3,
    "start_time": "2021-07-22T09:13:49.007Z"
   },
   {
    "duration": 10,
    "start_time": "2021-07-22T09:13:49.012Z"
   },
   {
    "duration": 41,
    "start_time": "2021-07-22T09:13:49.023Z"
   },
   {
    "duration": 11,
    "start_time": "2021-07-22T09:13:49.085Z"
   },
   {
    "duration": 11,
    "start_time": "2021-07-22T09:13:49.097Z"
   },
   {
    "duration": 4,
    "start_time": "2021-07-22T09:13:49.109Z"
   },
   {
    "duration": 18,
    "start_time": "2021-07-22T09:13:49.114Z"
   },
   {
    "duration": 13,
    "start_time": "2021-07-22T09:13:49.134Z"
   },
   {
    "duration": 44,
    "start_time": "2021-07-22T09:13:49.150Z"
   },
   {
    "duration": 12,
    "start_time": "2021-07-22T09:13:49.196Z"
   },
   {
    "duration": 15,
    "start_time": "2021-07-22T09:13:49.210Z"
   },
   {
    "duration": 13,
    "start_time": "2021-07-22T09:13:49.226Z"
   },
   {
    "duration": 8,
    "start_time": "2021-07-22T09:13:49.240Z"
   },
   {
    "duration": 39,
    "start_time": "2021-07-22T09:13:49.250Z"
   },
   {
    "duration": 9,
    "start_time": "2021-07-22T09:13:49.290Z"
   },
   {
    "duration": 4,
    "start_time": "2021-07-22T09:13:49.301Z"
   },
   {
    "duration": 23,
    "start_time": "2021-07-22T09:13:49.306Z"
   },
   {
    "duration": 11,
    "start_time": "2021-07-22T09:13:49.330Z"
   },
   {
    "duration": 44,
    "start_time": "2021-07-22T09:13:49.342Z"
   },
   {
    "duration": 12,
    "start_time": "2021-07-22T09:13:49.387Z"
   },
   {
    "duration": 8,
    "start_time": "2021-07-22T09:13:49.401Z"
   },
   {
    "duration": 4,
    "start_time": "2021-07-22T09:13:49.410Z"
   },
   {
    "duration": 6,
    "start_time": "2021-07-22T09:13:49.416Z"
   },
   {
    "duration": 4,
    "start_time": "2021-07-22T09:13:49.423Z"
   },
   {
    "duration": 83,
    "start_time": "2021-07-22T09:14:33.104Z"
   },
   {
    "duration": 40,
    "start_time": "2021-07-22T09:19:01.011Z"
   },
   {
    "duration": 547,
    "start_time": "2021-07-22T09:20:17.322Z"
   },
   {
    "duration": 144,
    "start_time": "2021-07-22T09:20:17.871Z"
   },
   {
    "duration": 15,
    "start_time": "2021-07-22T09:20:18.017Z"
   },
   {
    "duration": 23,
    "start_time": "2021-07-22T09:20:18.035Z"
   },
   {
    "duration": 25,
    "start_time": "2021-07-22T09:20:18.060Z"
   },
   {
    "duration": 21,
    "start_time": "2021-07-22T09:20:18.086Z"
   },
   {
    "duration": 5,
    "start_time": "2021-07-22T09:20:18.109Z"
   },
   {
    "duration": 24,
    "start_time": "2021-07-22T09:20:18.117Z"
   },
   {
    "duration": 41,
    "start_time": "2021-07-22T09:20:18.144Z"
   },
   {
    "duration": 22,
    "start_time": "2021-07-22T09:20:18.187Z"
   },
   {
    "duration": 56,
    "start_time": "2021-07-22T09:20:18.211Z"
   },
   {
    "duration": 80,
    "start_time": "2021-07-22T09:20:18.268Z"
   },
   {
    "duration": 60,
    "start_time": "2021-07-22T09:20:18.349Z"
   },
   {
    "duration": 37,
    "start_time": "2021-07-22T09:20:18.411Z"
   },
   {
    "duration": 2,
    "start_time": "2021-07-22T09:20:18.450Z"
   },
   {
    "duration": 13,
    "start_time": "2021-07-22T09:20:18.453Z"
   },
   {
    "duration": 52,
    "start_time": "2021-07-22T09:20:18.468Z"
   },
   {
    "duration": 11,
    "start_time": "2021-07-22T09:20:18.522Z"
   },
   {
    "duration": 11,
    "start_time": "2021-07-22T09:20:18.534Z"
   },
   {
    "duration": 4,
    "start_time": "2021-07-22T09:20:18.546Z"
   },
   {
    "duration": 42,
    "start_time": "2021-07-22T09:20:18.551Z"
   },
   {
    "duration": 13,
    "start_time": "2021-07-22T09:20:18.594Z"
   },
   {
    "duration": 13,
    "start_time": "2021-07-22T09:20:18.610Z"
   },
   {
    "duration": 11,
    "start_time": "2021-07-22T09:20:18.625Z"
   },
   {
    "duration": 15,
    "start_time": "2021-07-22T09:20:18.637Z"
   },
   {
    "duration": 14,
    "start_time": "2021-07-22T09:20:18.685Z"
   },
   {
    "duration": 8,
    "start_time": "2021-07-22T09:20:18.700Z"
   },
   {
    "duration": 11,
    "start_time": "2021-07-22T09:20:18.709Z"
   },
   {
    "duration": 9,
    "start_time": "2021-07-22T09:20:18.721Z"
   },
   {
    "duration": 3,
    "start_time": "2021-07-22T09:20:18.732Z"
   },
   {
    "duration": 20,
    "start_time": "2021-07-22T09:20:18.737Z"
   },
   {
    "duration": 36,
    "start_time": "2021-07-22T09:20:18.759Z"
   },
   {
    "duration": 15,
    "start_time": "2021-07-22T09:20:18.797Z"
   },
   {
    "duration": 11,
    "start_time": "2021-07-22T09:20:18.814Z"
   },
   {
    "duration": 8,
    "start_time": "2021-07-22T09:20:18.826Z"
   },
   {
    "duration": 4,
    "start_time": "2021-07-22T09:20:18.835Z"
   },
   {
    "duration": 11,
    "start_time": "2021-07-22T09:20:18.840Z"
   },
   {
    "duration": 34,
    "start_time": "2021-07-22T09:20:18.852Z"
   },
   {
    "duration": 534,
    "start_time": "2021-07-22T09:21:29.311Z"
   },
   {
    "duration": 135,
    "start_time": "2021-07-22T09:21:29.847Z"
   },
   {
    "duration": 16,
    "start_time": "2021-07-22T09:21:29.984Z"
   },
   {
    "duration": 28,
    "start_time": "2021-07-22T09:21:30.002Z"
   },
   {
    "duration": 7,
    "start_time": "2021-07-22T09:21:30.032Z"
   },
   {
    "duration": 23,
    "start_time": "2021-07-22T09:21:30.040Z"
   },
   {
    "duration": 5,
    "start_time": "2021-07-22T09:21:30.084Z"
   },
   {
    "duration": 27,
    "start_time": "2021-07-22T09:21:30.092Z"
   },
   {
    "duration": 18,
    "start_time": "2021-07-22T09:21:30.121Z"
   },
   {
    "duration": 21,
    "start_time": "2021-07-22T09:21:30.141Z"
   },
   {
    "duration": 57,
    "start_time": "2021-07-22T09:21:30.185Z"
   },
   {
    "duration": 81,
    "start_time": "2021-07-22T09:21:30.243Z"
   },
   {
    "duration": 49,
    "start_time": "2021-07-22T09:21:30.326Z"
   },
   {
    "duration": 41,
    "start_time": "2021-07-22T09:21:30.376Z"
   },
   {
    "duration": 14,
    "start_time": "2021-07-22T09:21:30.418Z"
   },
   {
    "duration": 33,
    "start_time": "2021-07-22T09:21:30.433Z"
   },
   {
    "duration": 53,
    "start_time": "2021-07-22T09:21:30.467Z"
   },
   {
    "duration": 28,
    "start_time": "2021-07-22T09:21:30.522Z"
   },
   {
    "duration": 26,
    "start_time": "2021-07-22T09:21:30.552Z"
   },
   {
    "duration": 13,
    "start_time": "2021-07-22T09:21:30.580Z"
   },
   {
    "duration": 36,
    "start_time": "2021-07-22T09:21:30.595Z"
   },
   {
    "duration": 17,
    "start_time": "2021-07-22T09:21:30.632Z"
   },
   {
    "duration": 30,
    "start_time": "2021-07-22T09:21:30.652Z"
   },
   {
    "duration": 19,
    "start_time": "2021-07-22T09:21:30.684Z"
   },
   {
    "duration": 37,
    "start_time": "2021-07-22T09:21:30.705Z"
   },
   {
    "duration": 28,
    "start_time": "2021-07-22T09:21:30.743Z"
   },
   {
    "duration": 15,
    "start_time": "2021-07-22T09:21:30.773Z"
   },
   {
    "duration": 23,
    "start_time": "2021-07-22T09:21:30.789Z"
   },
   {
    "duration": 25,
    "start_time": "2021-07-22T09:21:30.813Z"
   },
   {
    "duration": 10,
    "start_time": "2021-07-22T09:21:30.840Z"
   },
   {
    "duration": 30,
    "start_time": "2021-07-22T09:21:30.852Z"
   },
   {
    "duration": 16,
    "start_time": "2021-07-22T09:21:30.884Z"
   },
   {
    "duration": 30,
    "start_time": "2021-07-22T09:21:30.901Z"
   },
   {
    "duration": 18,
    "start_time": "2021-07-22T09:21:30.932Z"
   },
   {
    "duration": 18,
    "start_time": "2021-07-22T09:21:30.951Z"
   },
   {
    "duration": 18,
    "start_time": "2021-07-22T09:21:30.970Z"
   },
   {
    "duration": 27,
    "start_time": "2021-07-22T09:21:30.989Z"
   },
   {
    "duration": 9,
    "start_time": "2021-07-22T09:21:31.018Z"
   },
   {
    "duration": 569,
    "start_time": "2021-07-22T09:22:39.859Z"
   },
   {
    "duration": 127,
    "start_time": "2021-07-22T09:22:40.430Z"
   },
   {
    "duration": 16,
    "start_time": "2021-07-22T09:22:40.559Z"
   },
   {
    "duration": 23,
    "start_time": "2021-07-22T09:22:40.585Z"
   },
   {
    "duration": 3,
    "start_time": "2021-07-22T09:22:40.610Z"
   },
   {
    "duration": 20,
    "start_time": "2021-07-22T09:22:40.615Z"
   },
   {
    "duration": 6,
    "start_time": "2021-07-22T09:22:40.636Z"
   },
   {
    "duration": 45,
    "start_time": "2021-07-22T09:22:40.645Z"
   },
   {
    "duration": 15,
    "start_time": "2021-07-22T09:22:40.692Z"
   },
   {
    "duration": 20,
    "start_time": "2021-07-22T09:22:40.709Z"
   },
   {
    "duration": 73,
    "start_time": "2021-07-22T09:22:40.731Z"
   },
   {
    "duration": 63,
    "start_time": "2021-07-22T09:22:40.805Z"
   },
   {
    "duration": 53,
    "start_time": "2021-07-22T09:22:40.869Z"
   },
   {
    "duration": 37,
    "start_time": "2021-07-22T09:22:40.924Z"
   },
   {
    "duration": 2,
    "start_time": "2021-07-22T09:22:40.963Z"
   },
   {
    "duration": 23,
    "start_time": "2021-07-22T09:22:40.967Z"
   },
   {
    "duration": 40,
    "start_time": "2021-07-22T09:22:40.991Z"
   },
   {
    "duration": 11,
    "start_time": "2021-07-22T09:22:41.032Z"
   },
   {
    "duration": 10,
    "start_time": "2021-07-22T09:22:41.044Z"
   },
   {
    "duration": 4,
    "start_time": "2021-07-22T09:22:41.084Z"
   },
   {
    "duration": 25,
    "start_time": "2021-07-22T09:22:41.090Z"
   },
   {
    "duration": 12,
    "start_time": "2021-07-22T09:22:41.116Z"
   },
   {
    "duration": 13,
    "start_time": "2021-07-22T09:22:41.131Z"
   },
   {
    "duration": 12,
    "start_time": "2021-07-22T09:22:41.145Z"
   },
   {
    "duration": 39,
    "start_time": "2021-07-22T09:22:41.158Z"
   },
   {
    "duration": 13,
    "start_time": "2021-07-22T09:22:41.199Z"
   },
   {
    "duration": 7,
    "start_time": "2021-07-22T09:22:41.213Z"
   },
   {
    "duration": 13,
    "start_time": "2021-07-22T09:22:41.222Z"
   },
   {
    "duration": 7,
    "start_time": "2021-07-22T09:22:41.237Z"
   },
   {
    "duration": 7,
    "start_time": "2021-07-22T09:22:41.246Z"
   },
   {
    "duration": 48,
    "start_time": "2021-07-22T09:22:41.255Z"
   },
   {
    "duration": 12,
    "start_time": "2021-07-22T09:22:41.304Z"
   },
   {
    "duration": 15,
    "start_time": "2021-07-22T09:22:41.317Z"
   },
   {
    "duration": 11,
    "start_time": "2021-07-22T09:22:41.333Z"
   },
   {
    "duration": 7,
    "start_time": "2021-07-22T09:22:41.345Z"
   },
   {
    "duration": 3,
    "start_time": "2021-07-22T09:22:41.354Z"
   },
   {
    "duration": 6,
    "start_time": "2021-07-22T09:22:41.385Z"
   },
   {
    "duration": 12,
    "start_time": "2021-07-22T09:22:41.392Z"
   },
   {
    "duration": 390,
    "start_time": "2021-07-22T11:48:37.095Z"
   },
   {
    "duration": 810,
    "start_time": "2021-07-22T11:48:47.251Z"
   },
   {
    "duration": 174,
    "start_time": "2021-07-22T11:48:48.063Z"
   },
   {
    "duration": 25,
    "start_time": "2021-07-22T11:48:48.240Z"
   },
   {
    "duration": 32,
    "start_time": "2021-07-22T11:48:48.282Z"
   },
   {
    "duration": 6,
    "start_time": "2021-07-22T11:48:48.317Z"
   },
   {
    "duration": 27,
    "start_time": "2021-07-22T11:48:48.325Z"
   },
   {
    "duration": 32,
    "start_time": "2021-07-22T11:48:48.354Z"
   },
   {
    "duration": 34,
    "start_time": "2021-07-22T11:48:48.390Z"
   },
   {
    "duration": 21,
    "start_time": "2021-07-22T11:48:48.427Z"
   },
   {
    "duration": 58,
    "start_time": "2021-07-22T11:48:48.450Z"
   },
   {
    "duration": 93,
    "start_time": "2021-07-22T11:48:48.511Z"
   },
   {
    "duration": 109,
    "start_time": "2021-07-22T11:48:48.607Z"
   },
   {
    "duration": 84,
    "start_time": "2021-07-22T11:48:48.719Z"
   },
   {
    "duration": 63,
    "start_time": "2021-07-22T11:48:48.805Z"
   },
   {
    "duration": 4,
    "start_time": "2021-07-22T11:48:48.883Z"
   },
   {
    "duration": 28,
    "start_time": "2021-07-22T11:48:48.889Z"
   },
   {
    "duration": 71,
    "start_time": "2021-07-22T11:48:48.920Z"
   },
   {
    "duration": 26,
    "start_time": "2021-07-22T11:48:48.993Z"
   },
   {
    "duration": 15,
    "start_time": "2021-07-22T11:48:49.022Z"
   },
   {
    "duration": 5,
    "start_time": "2021-07-22T11:48:49.039Z"
   },
   {
    "duration": 50,
    "start_time": "2021-07-22T11:48:49.047Z"
   },
   {
    "duration": 19,
    "start_time": "2021-07-22T11:48:49.099Z"
   },
   {
    "duration": 19,
    "start_time": "2021-07-22T11:48:49.122Z"
   },
   {
    "duration": 47,
    "start_time": "2021-07-22T11:48:49.144Z"
   },
   {
    "duration": 20,
    "start_time": "2021-07-22T11:48:49.193Z"
   },
   {
    "duration": 20,
    "start_time": "2021-07-22T11:48:49.216Z"
   },
   {
    "duration": 44,
    "start_time": "2021-07-22T11:48:49.238Z"
   },
   {
    "duration": 15,
    "start_time": "2021-07-22T11:48:49.285Z"
   },
   {
    "duration": 13,
    "start_time": "2021-07-22T11:48:49.303Z"
   },
   {
    "duration": 7,
    "start_time": "2021-07-22T11:48:49.318Z"
   },
   {
    "duration": 66,
    "start_time": "2021-07-22T11:48:49.327Z"
   },
   {
    "duration": 16,
    "start_time": "2021-07-22T11:48:49.395Z"
   },
   {
    "duration": 21,
    "start_time": "2021-07-22T11:48:49.413Z"
   },
   {
    "duration": 55,
    "start_time": "2021-07-22T11:48:49.437Z"
   },
   {
    "duration": 15,
    "start_time": "2021-07-22T11:48:49.495Z"
   },
   {
    "duration": 7,
    "start_time": "2021-07-22T11:48:49.512Z"
   },
   {
    "duration": 11,
    "start_time": "2021-07-22T11:48:49.521Z"
   },
   {
    "duration": 6,
    "start_time": "2021-07-22T11:48:49.534Z"
   },
   {
    "duration": 549,
    "start_time": "2021-07-22T11:48:49.542Z"
   },
   {
    "duration": 368,
    "start_time": "2021-07-22T11:49:02.090Z"
   },
   {
    "duration": 66,
    "start_time": "2021-07-22T11:49:13.338Z"
   },
   {
    "duration": 571,
    "start_time": "2021-07-22T11:51:22.181Z"
   },
   {
    "duration": 3,
    "start_time": "2021-07-22T13:47:19.408Z"
   },
   {
    "duration": 563,
    "start_time": "2021-07-22T13:47:21.144Z"
   },
   {
    "duration": 553,
    "start_time": "2021-07-22T13:47:38.077Z"
   },
   {
    "duration": 127,
    "start_time": "2021-07-22T13:47:38.632Z"
   },
   {
    "duration": 16,
    "start_time": "2021-07-22T13:47:38.761Z"
   },
   {
    "duration": 23,
    "start_time": "2021-07-22T13:47:38.778Z"
   },
   {
    "duration": 4,
    "start_time": "2021-07-22T13:47:38.802Z"
   },
   {
    "duration": 37,
    "start_time": "2021-07-22T13:47:38.807Z"
   },
   {
    "duration": 4,
    "start_time": "2021-07-22T13:47:38.846Z"
   },
   {
    "duration": 27,
    "start_time": "2021-07-22T13:47:38.852Z"
   },
   {
    "duration": 21,
    "start_time": "2021-07-22T13:47:38.881Z"
   },
   {
    "duration": 26,
    "start_time": "2021-07-22T13:47:38.903Z"
   },
   {
    "duration": 52,
    "start_time": "2021-07-22T13:47:38.941Z"
   },
   {
    "duration": 73,
    "start_time": "2021-07-22T13:47:38.995Z"
   },
   {
    "duration": 45,
    "start_time": "2021-07-22T13:47:39.070Z"
   },
   {
    "duration": 50,
    "start_time": "2021-07-22T13:47:39.117Z"
   },
   {
    "duration": 4,
    "start_time": "2021-07-22T13:47:39.169Z"
   },
   {
    "duration": 27,
    "start_time": "2021-07-22T13:47:39.175Z"
   },
   {
    "duration": 81,
    "start_time": "2021-07-22T13:47:39.204Z"
   },
   {
    "duration": 16,
    "start_time": "2021-07-22T13:47:39.287Z"
   },
   {
    "duration": 15,
    "start_time": "2021-07-22T13:47:39.305Z"
   },
   {
    "duration": 21,
    "start_time": "2021-07-22T13:47:39.322Z"
   },
   {
    "duration": 30,
    "start_time": "2021-07-22T13:47:39.345Z"
   },
   {
    "duration": 20,
    "start_time": "2021-07-22T13:47:39.377Z"
   },
   {
    "duration": 40,
    "start_time": "2021-07-22T13:47:39.401Z"
   },
   {
    "duration": 21,
    "start_time": "2021-07-22T13:47:39.443Z"
   },
   {
    "duration": 22,
    "start_time": "2021-07-22T13:47:39.466Z"
   },
   {
    "duration": 19,
    "start_time": "2021-07-22T13:47:39.490Z"
   },
   {
    "duration": 35,
    "start_time": "2021-07-22T13:47:39.511Z"
   },
   {
    "duration": 11,
    "start_time": "2021-07-22T13:47:39.548Z"
   },
   {
    "duration": 10,
    "start_time": "2021-07-22T13:47:39.560Z"
   },
   {
    "duration": 3,
    "start_time": "2021-07-22T13:47:39.572Z"
   },
   {
    "duration": 22,
    "start_time": "2021-07-22T13:47:39.577Z"
   },
   {
    "duration": 11,
    "start_time": "2021-07-22T13:47:39.600Z"
   },
   {
    "duration": 40,
    "start_time": "2021-07-22T13:47:39.613Z"
   },
   {
    "duration": 11,
    "start_time": "2021-07-22T13:47:39.655Z"
   },
   {
    "duration": 8,
    "start_time": "2021-07-22T13:47:39.667Z"
   },
   {
    "duration": 4,
    "start_time": "2021-07-22T13:47:39.677Z"
   },
   {
    "duration": 7,
    "start_time": "2021-07-22T13:47:39.683Z"
   },
   {
    "duration": 4,
    "start_time": "2021-07-22T13:47:39.692Z"
   },
   {
    "duration": 10,
    "start_time": "2021-07-22T13:48:35.225Z"
   },
   {
    "duration": 546,
    "start_time": "2021-07-22T13:48:45.969Z"
   },
   {
    "duration": 127,
    "start_time": "2021-07-22T13:48:46.520Z"
   },
   {
    "duration": 16,
    "start_time": "2021-07-22T13:48:46.649Z"
   },
   {
    "duration": 26,
    "start_time": "2021-07-22T13:48:46.667Z"
   },
   {
    "duration": 3,
    "start_time": "2021-07-22T13:48:46.695Z"
   },
   {
    "duration": 44,
    "start_time": "2021-07-22T13:48:46.700Z"
   },
   {
    "duration": 4,
    "start_time": "2021-07-22T13:48:46.746Z"
   },
   {
    "duration": 23,
    "start_time": "2021-07-22T13:48:46.754Z"
   },
   {
    "duration": 20,
    "start_time": "2021-07-22T13:48:46.779Z"
   },
   {
    "duration": 41,
    "start_time": "2021-07-22T13:48:46.801Z"
   },
   {
    "duration": 55,
    "start_time": "2021-07-22T13:48:46.843Z"
   },
   {
    "duration": 80,
    "start_time": "2021-07-22T13:48:46.900Z"
   },
   {
    "duration": 45,
    "start_time": "2021-07-22T13:48:46.982Z"
   },
   {
    "duration": 53,
    "start_time": "2021-07-22T13:48:47.029Z"
   },
   {
    "duration": 9,
    "start_time": "2021-07-22T13:48:47.083Z"
   },
   {
    "duration": 25,
    "start_time": "2021-07-22T13:48:47.093Z"
   },
   {
    "duration": 38,
    "start_time": "2021-07-22T13:48:47.119Z"
   },
   {
    "duration": 11,
    "start_time": "2021-07-22T13:48:47.159Z"
   },
   {
    "duration": 10,
    "start_time": "2021-07-22T13:48:47.171Z"
   },
   {
    "duration": 3,
    "start_time": "2021-07-22T13:48:47.182Z"
   },
   {
    "duration": 20,
    "start_time": "2021-07-22T13:48:47.187Z"
   },
   {
    "duration": 39,
    "start_time": "2021-07-22T13:48:47.208Z"
   },
   {
    "duration": 14,
    "start_time": "2021-07-22T13:48:47.249Z"
   },
   {
    "duration": 14,
    "start_time": "2021-07-22T13:48:47.264Z"
   },
   {
    "duration": 19,
    "start_time": "2021-07-22T13:48:47.280Z"
   },
   {
    "duration": 41,
    "start_time": "2021-07-22T13:48:47.302Z"
   },
   {
    "duration": 7,
    "start_time": "2021-07-22T13:48:47.345Z"
   },
   {
    "duration": 11,
    "start_time": "2021-07-22T13:48:47.354Z"
   },
   {
    "duration": 9,
    "start_time": "2021-07-22T13:48:47.366Z"
   },
   {
    "duration": 6,
    "start_time": "2021-07-22T13:48:47.376Z"
   },
   {
    "duration": 21,
    "start_time": "2021-07-22T13:48:47.384Z"
   },
   {
    "duration": 38,
    "start_time": "2021-07-22T13:48:47.406Z"
   },
   {
    "duration": 19,
    "start_time": "2021-07-22T13:48:47.445Z"
   },
   {
    "duration": 11,
    "start_time": "2021-07-22T13:48:47.466Z"
   },
   {
    "duration": 9,
    "start_time": "2021-07-22T13:48:47.478Z"
   },
   {
    "duration": 4,
    "start_time": "2021-07-22T13:48:47.489Z"
   },
   {
    "duration": 8,
    "start_time": "2021-07-22T13:48:47.495Z"
   },
   {
    "duration": 37,
    "start_time": "2021-07-22T13:48:47.505Z"
   },
   {
    "duration": 89,
    "start_time": "2021-07-22T13:53:36.183Z"
   },
   {
    "duration": 540,
    "start_time": "2021-07-22T13:54:08.066Z"
   },
   {
    "duration": 130,
    "start_time": "2021-07-22T13:54:08.607Z"
   },
   {
    "duration": 15,
    "start_time": "2021-07-22T13:54:08.741Z"
   },
   {
    "duration": 22,
    "start_time": "2021-07-22T13:54:08.758Z"
   },
   {
    "duration": 4,
    "start_time": "2021-07-22T13:54:08.781Z"
   },
   {
    "duration": 20,
    "start_time": "2021-07-22T13:54:08.786Z"
   },
   {
    "duration": 3,
    "start_time": "2021-07-22T13:54:08.807Z"
   },
   {
    "duration": 44,
    "start_time": "2021-07-22T13:54:08.812Z"
   },
   {
    "duration": 17,
    "start_time": "2021-07-22T13:54:08.858Z"
   },
   {
    "duration": 21,
    "start_time": "2021-07-22T13:54:08.877Z"
   },
   {
    "duration": 84,
    "start_time": "2021-07-22T13:54:08.899Z"
   },
   {
    "duration": 66,
    "start_time": "2021-07-22T13:54:08.984Z"
   },
   {
    "duration": 47,
    "start_time": "2021-07-22T13:54:09.052Z"
   },
   {
    "duration": 51,
    "start_time": "2021-07-22T13:54:09.100Z"
   },
   {
    "duration": 3,
    "start_time": "2021-07-22T13:54:09.153Z"
   },
   {
    "duration": 16,
    "start_time": "2021-07-22T13:54:09.157Z"
   },
   {
    "duration": 37,
    "start_time": "2021-07-22T13:54:09.175Z"
   },
   {
    "duration": 27,
    "start_time": "2021-07-22T13:54:09.214Z"
   },
   {
    "duration": 9,
    "start_time": "2021-07-22T13:54:09.243Z"
   },
   {
    "duration": 3,
    "start_time": "2021-07-22T13:54:09.254Z"
   },
   {
    "duration": 20,
    "start_time": "2021-07-22T13:54:09.259Z"
   },
   {
    "duration": 13,
    "start_time": "2021-07-22T13:54:09.281Z"
   },
   {
    "duration": 13,
    "start_time": "2021-07-22T13:54:09.297Z"
   },
   {
    "duration": 39,
    "start_time": "2021-07-22T13:54:09.311Z"
   },
   {
    "duration": 15,
    "start_time": "2021-07-22T13:54:09.351Z"
   },
   {
    "duration": 13,
    "start_time": "2021-07-22T13:54:09.367Z"
   },
   {
    "duration": 7,
    "start_time": "2021-07-22T13:54:09.382Z"
   },
   {
    "duration": 15,
    "start_time": "2021-07-22T13:54:09.390Z"
   },
   {
    "duration": 35,
    "start_time": "2021-07-22T13:54:09.406Z"
   },
   {
    "duration": 4,
    "start_time": "2021-07-22T13:54:09.442Z"
   },
   {
    "duration": 25,
    "start_time": "2021-07-22T13:54:09.447Z"
   },
   {
    "duration": 11,
    "start_time": "2021-07-22T13:54:09.474Z"
   },
   {
    "duration": 16,
    "start_time": "2021-07-22T13:54:09.486Z"
   },
   {
    "duration": 11,
    "start_time": "2021-07-22T13:54:09.503Z"
   },
   {
    "duration": 8,
    "start_time": "2021-07-22T13:54:09.540Z"
   },
   {
    "duration": 5,
    "start_time": "2021-07-22T13:54:09.550Z"
   },
   {
    "duration": 14,
    "start_time": "2021-07-22T13:54:09.557Z"
   },
   {
    "duration": 4,
    "start_time": "2021-07-22T13:54:09.572Z"
   },
   {
    "duration": 87,
    "start_time": "2021-07-22T13:56:23.383Z"
   },
   {
    "duration": 567,
    "start_time": "2021-07-22T13:57:08.488Z"
   },
   {
    "duration": 131,
    "start_time": "2021-07-22T13:57:09.056Z"
   },
   {
    "duration": 15,
    "start_time": "2021-07-22T13:57:09.189Z"
   },
   {
    "duration": 24,
    "start_time": "2021-07-22T13:57:09.206Z"
   },
   {
    "duration": 12,
    "start_time": "2021-07-22T13:57:09.231Z"
   },
   {
    "duration": 22,
    "start_time": "2021-07-22T13:57:09.245Z"
   },
   {
    "duration": 6,
    "start_time": "2021-07-22T13:57:09.269Z"
   },
   {
    "duration": 26,
    "start_time": "2021-07-22T13:57:09.277Z"
   },
   {
    "duration": 16,
    "start_time": "2021-07-22T13:57:09.305Z"
   },
   {
    "duration": 38,
    "start_time": "2021-07-22T13:57:09.323Z"
   },
   {
    "duration": 54,
    "start_time": "2021-07-22T13:57:09.362Z"
   },
   {
    "duration": 82,
    "start_time": "2021-07-22T13:57:09.418Z"
   },
   {
    "duration": 57,
    "start_time": "2021-07-22T13:57:09.502Z"
   },
   {
    "duration": 38,
    "start_time": "2021-07-22T13:57:09.561Z"
   },
   {
    "duration": 2,
    "start_time": "2021-07-22T13:57:09.601Z"
   },
   {
    "duration": 18,
    "start_time": "2021-07-22T13:57:09.605Z"
   },
   {
    "duration": 53,
    "start_time": "2021-07-22T13:57:09.625Z"
   },
   {
    "duration": 12,
    "start_time": "2021-07-22T13:57:09.680Z"
   },
   {
    "duration": 12,
    "start_time": "2021-07-22T13:57:09.694Z"
   },
   {
    "duration": 4,
    "start_time": "2021-07-22T13:57:09.707Z"
   },
   {
    "duration": 17,
    "start_time": "2021-07-22T13:57:09.741Z"
   },
   {
    "duration": 15,
    "start_time": "2021-07-22T13:57:09.760Z"
   },
   {
    "duration": 16,
    "start_time": "2021-07-22T13:57:09.779Z"
   },
   {
    "duration": 15,
    "start_time": "2021-07-22T13:57:09.797Z"
   },
   {
    "duration": 20,
    "start_time": "2021-07-22T13:57:09.841Z"
   },
   {
    "duration": 33,
    "start_time": "2021-07-22T13:57:09.864Z"
   },
   {
    "duration": 42,
    "start_time": "2021-07-22T13:57:09.901Z"
   },
   {
    "duration": 23,
    "start_time": "2021-07-22T13:57:09.947Z"
   },
   {
    "duration": 13,
    "start_time": "2021-07-22T13:57:09.974Z"
   },
   {
    "duration": 3,
    "start_time": "2021-07-22T13:57:09.989Z"
   },
   {
    "duration": 51,
    "start_time": "2021-07-22T13:57:09.994Z"
   },
   {
    "duration": 12,
    "start_time": "2021-07-22T13:57:10.047Z"
   },
   {
    "duration": 18,
    "start_time": "2021-07-22T13:57:10.061Z"
   },
   {
    "duration": 13,
    "start_time": "2021-07-22T13:57:10.081Z"
   },
   {
    "duration": 10,
    "start_time": "2021-07-22T13:57:10.096Z"
   },
   {
    "duration": 36,
    "start_time": "2021-07-22T13:57:10.108Z"
   },
   {
    "duration": 8,
    "start_time": "2021-07-22T13:57:10.146Z"
   },
   {
    "duration": 5,
    "start_time": "2021-07-22T13:57:10.156Z"
   }
  ],
  "colab": {
   "collapsed_sections": [
    "E0vqbgi9ay0H",
    "VUC88oWjTJw2"
   ],
   "name": "yandex_music_project_2021.2.ipynb",
   "provenance": []
  },
  "kernelspec": {
   "display_name": "Python 3 (ipykernel)",
   "language": "python",
   "name": "python3"
  },
  "language_info": {
   "codemirror_mode": {
    "name": "ipython",
    "version": 3
   },
   "file_extension": ".py",
   "mimetype": "text/x-python",
   "name": "python",
   "nbconvert_exporter": "python",
   "pygments_lexer": "ipython3",
   "version": "3.10.4"
  },
  "toc": {
   "base_numbering": 1,
   "nav_menu": {},
   "number_sections": true,
   "sideBar": true,
   "skip_h1_title": true,
   "title_cell": "Table of Contents",
   "title_sidebar": "Contents",
   "toc_cell": false,
   "toc_position": {},
   "toc_section_display": true,
   "toc_window_display": true
  }
 },
 "nbformat": 4,
 "nbformat_minor": 1
}
