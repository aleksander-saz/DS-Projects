{
 "cells": [
  {
   "cell_type": "markdown",
   "metadata": {
    "toc": true
   },
   "source": [
    "# Content\n",
    "\n",
    "1. [Project Description](#section_1)\n",
    "2. [Data import](#section_2)\n",
    "3. [Multiplication of matrix](#section_3)\n",
    "4. [Transformation algorithm](#section_4)\n",
    "5. [Algorithm testing](#section_5)\n",
    "6. [Conclusion](#section_6)"
   ]
  },
  {
   "cell_type": "markdown",
   "metadata": {},
   "source": [
    "<a name=\"section_1\"></a>\n",
    "# Project Description"
   ]
  },
  {
   "cell_type": "markdown",
   "metadata": {},
   "source": [
    "Insurance company would like to develop a method of protection of client's personal data. It's required to have an option to get the original information (unprotected personal data) after the completion of such protection. The quality of the model prediction shall be the same on the original and protected data. The protection of the personal data shall be done using the matrix operations.\n",
    "\n",
    "Main tasks of the project are:\n",
    "- to import and overview data, select features and target;\n",
    "- to develop algorithm of data protection;\n",
    "- validate the algorithm and apply it on the provided data;"
   ]
  },
  {
   "cell_type": "markdown",
   "metadata": {},
   "source": [
    "<a name=\"section_2\"></a>\n",
    "# Data import"
   ]
  },
  {
   "cell_type": "code",
   "execution_count": 1,
   "metadata": {},
   "outputs": [],
   "source": [
    "import pandas as pd\n",
    "import numpy as np\n",
    "from sklearn.metrics import r2_score\n",
    "from sklearn.linear_model import LinearRegression"
   ]
  },
  {
   "cell_type": "code",
   "execution_count": 2,
   "metadata": {},
   "outputs": [],
   "source": [
    "dataset = pd.read_csv('insurance.csv')"
   ]
  },
  {
   "cell_type": "code",
   "execution_count": 3,
   "metadata": {},
   "outputs": [
    {
     "data": {
      "text/html": [
       "<div>\n",
       "<style scoped>\n",
       "    .dataframe tbody tr th:only-of-type {\n",
       "        vertical-align: middle;\n",
       "    }\n",
       "\n",
       "    .dataframe tbody tr th {\n",
       "        vertical-align: top;\n",
       "    }\n",
       "\n",
       "    .dataframe thead th {\n",
       "        text-align: right;\n",
       "    }\n",
       "</style>\n",
       "<table border=\"1\" class=\"dataframe\">\n",
       "  <thead>\n",
       "    <tr style=\"text-align: right;\">\n",
       "      <th></th>\n",
       "      <th>Пол</th>\n",
       "      <th>Возраст</th>\n",
       "      <th>Зарплата</th>\n",
       "      <th>Члены семьи</th>\n",
       "      <th>Страховые выплаты</th>\n",
       "    </tr>\n",
       "  </thead>\n",
       "  <tbody>\n",
       "    <tr>\n",
       "      <th>0</th>\n",
       "      <td>1</td>\n",
       "      <td>41.0</td>\n",
       "      <td>49600.0</td>\n",
       "      <td>1</td>\n",
       "      <td>0</td>\n",
       "    </tr>\n",
       "    <tr>\n",
       "      <th>1</th>\n",
       "      <td>0</td>\n",
       "      <td>46.0</td>\n",
       "      <td>38000.0</td>\n",
       "      <td>1</td>\n",
       "      <td>1</td>\n",
       "    </tr>\n",
       "    <tr>\n",
       "      <th>2</th>\n",
       "      <td>0</td>\n",
       "      <td>29.0</td>\n",
       "      <td>21000.0</td>\n",
       "      <td>0</td>\n",
       "      <td>0</td>\n",
       "    </tr>\n",
       "    <tr>\n",
       "      <th>3</th>\n",
       "      <td>0</td>\n",
       "      <td>21.0</td>\n",
       "      <td>41700.0</td>\n",
       "      <td>2</td>\n",
       "      <td>0</td>\n",
       "    </tr>\n",
       "    <tr>\n",
       "      <th>4</th>\n",
       "      <td>1</td>\n",
       "      <td>28.0</td>\n",
       "      <td>26100.0</td>\n",
       "      <td>0</td>\n",
       "      <td>0</td>\n",
       "    </tr>\n",
       "  </tbody>\n",
       "</table>\n",
       "</div>"
      ],
      "text/plain": [
       "   Пол  Возраст  Зарплата  Члены семьи  Страховые выплаты\n",
       "0    1     41.0   49600.0            1                  0\n",
       "1    0     46.0   38000.0            1                  1\n",
       "2    0     29.0   21000.0            0                  0\n",
       "3    0     21.0   41700.0            2                  0\n",
       "4    1     28.0   26100.0            0                  0"
      ]
     },
     "execution_count": 3,
     "metadata": {},
     "output_type": "execute_result"
    }
   ],
   "source": [
    "# display furst 5 rows\n",
    "dataset.head()"
   ]
  },
  {
   "cell_type": "code",
   "execution_count": 4,
   "metadata": {},
   "outputs": [
    {
     "data": {
      "text/html": [
       "<div>\n",
       "<style scoped>\n",
       "    .dataframe tbody tr th:only-of-type {\n",
       "        vertical-align: middle;\n",
       "    }\n",
       "\n",
       "    .dataframe tbody tr th {\n",
       "        vertical-align: top;\n",
       "    }\n",
       "\n",
       "    .dataframe thead th {\n",
       "        text-align: right;\n",
       "    }\n",
       "</style>\n",
       "<table border=\"1\" class=\"dataframe\">\n",
       "  <thead>\n",
       "    <tr style=\"text-align: right;\">\n",
       "      <th></th>\n",
       "      <th>Пол</th>\n",
       "      <th>Возраст</th>\n",
       "      <th>Зарплата</th>\n",
       "      <th>Члены семьи</th>\n",
       "      <th>Страховые выплаты</th>\n",
       "    </tr>\n",
       "  </thead>\n",
       "  <tbody>\n",
       "    <tr>\n",
       "      <th>count</th>\n",
       "      <td>5000.000000</td>\n",
       "      <td>5000.000000</td>\n",
       "      <td>5000.000000</td>\n",
       "      <td>5000.000000</td>\n",
       "      <td>5000.000000</td>\n",
       "    </tr>\n",
       "    <tr>\n",
       "      <th>mean</th>\n",
       "      <td>0.499000</td>\n",
       "      <td>30.952800</td>\n",
       "      <td>39916.360000</td>\n",
       "      <td>1.194200</td>\n",
       "      <td>0.148000</td>\n",
       "    </tr>\n",
       "    <tr>\n",
       "      <th>std</th>\n",
       "      <td>0.500049</td>\n",
       "      <td>8.440807</td>\n",
       "      <td>9900.083569</td>\n",
       "      <td>1.091387</td>\n",
       "      <td>0.463183</td>\n",
       "    </tr>\n",
       "    <tr>\n",
       "      <th>min</th>\n",
       "      <td>0.000000</td>\n",
       "      <td>18.000000</td>\n",
       "      <td>5300.000000</td>\n",
       "      <td>0.000000</td>\n",
       "      <td>0.000000</td>\n",
       "    </tr>\n",
       "    <tr>\n",
       "      <th>25%</th>\n",
       "      <td>0.000000</td>\n",
       "      <td>24.000000</td>\n",
       "      <td>33300.000000</td>\n",
       "      <td>0.000000</td>\n",
       "      <td>0.000000</td>\n",
       "    </tr>\n",
       "    <tr>\n",
       "      <th>50%</th>\n",
       "      <td>0.000000</td>\n",
       "      <td>30.000000</td>\n",
       "      <td>40200.000000</td>\n",
       "      <td>1.000000</td>\n",
       "      <td>0.000000</td>\n",
       "    </tr>\n",
       "    <tr>\n",
       "      <th>75%</th>\n",
       "      <td>1.000000</td>\n",
       "      <td>37.000000</td>\n",
       "      <td>46600.000000</td>\n",
       "      <td>2.000000</td>\n",
       "      <td>0.000000</td>\n",
       "    </tr>\n",
       "    <tr>\n",
       "      <th>max</th>\n",
       "      <td>1.000000</td>\n",
       "      <td>65.000000</td>\n",
       "      <td>79000.000000</td>\n",
       "      <td>6.000000</td>\n",
       "      <td>5.000000</td>\n",
       "    </tr>\n",
       "  </tbody>\n",
       "</table>\n",
       "</div>"
      ],
      "text/plain": [
       "               Пол      Возраст      Зарплата  Члены семьи  Страховые выплаты\n",
       "count  5000.000000  5000.000000   5000.000000  5000.000000        5000.000000\n",
       "mean      0.499000    30.952800  39916.360000     1.194200           0.148000\n",
       "std       0.500049     8.440807   9900.083569     1.091387           0.463183\n",
       "min       0.000000    18.000000   5300.000000     0.000000           0.000000\n",
       "25%       0.000000    24.000000  33300.000000     0.000000           0.000000\n",
       "50%       0.000000    30.000000  40200.000000     1.000000           0.000000\n",
       "75%       1.000000    37.000000  46600.000000     2.000000           0.000000\n",
       "max       1.000000    65.000000  79000.000000     6.000000           5.000000"
      ]
     },
     "execution_count": 4,
     "metadata": {},
     "output_type": "execute_result"
    }
   ],
   "source": [
    "# display the data destribution\n",
    "dataset.describe()"
   ]
  },
  {
   "cell_type": "code",
   "execution_count": 5,
   "metadata": {},
   "outputs": [
    {
     "name": "stdout",
     "output_type": "stream",
     "text": [
      "<class 'pandas.core.frame.DataFrame'>\n",
      "RangeIndex: 5000 entries, 0 to 4999\n",
      "Data columns (total 5 columns):\n",
      " #   Column             Non-Null Count  Dtype  \n",
      "---  ------             --------------  -----  \n",
      " 0   Пол                5000 non-null   int64  \n",
      " 1   Возраст            5000 non-null   float64\n",
      " 2   Зарплата           5000 non-null   float64\n",
      " 3   Члены семьи        5000 non-null   int64  \n",
      " 4   Страховые выплаты  5000 non-null   int64  \n",
      "dtypes: float64(2), int64(3)\n",
      "memory usage: 195.4 KB\n"
     ]
    }
   ],
   "source": [
    "# display dataset info\n",
    "dataset.info()"
   ]
  },
  {
   "cell_type": "code",
   "execution_count": 6,
   "metadata": {},
   "outputs": [],
   "source": [
    "# Selection of target\n",
    "target = dataset['Страховые выплаты']"
   ]
  },
  {
   "cell_type": "code",
   "execution_count": 7,
   "metadata": {},
   "outputs": [],
   "source": [
    "# selcetion of features\n",
    "features = dataset.drop(columns = 'Страховые выплаты')"
   ]
  },
  {
   "cell_type": "markdown",
   "metadata": {},
   "source": [
    "**Conclusion:**\n",
    "- Dataset imported and has 5000 rows and 5 columns: sex, age, salary, quantity of persons in family and insurance payment. \n",
    "- Datast splited on taarget and features. Target is column 'Страховые выплаты'.\n",
    "- After import, overview and selection of target and features it's possible to move on the next step."
   ]
  },
  {
   "cell_type": "markdown",
   "metadata": {},
   "source": [
    "<a name = \"section_3\"> </a>\n",
    "# Multiplication of matrix"
   ]
  },
  {
   "cell_type": "markdown",
   "metadata": {},
   "source": [
    "Notations:\n",
    "\n",
    "- $X$ — Features matrix (zero column has  only zeros)\n",
    "\n",
    "- $y$ — target vector\n",
    "\n",
    "- $P$ — matrix, used for multiplication\n",
    "\n",
    "- $w$ — vector of weights of linear regression  (zer0 element is equal to shift)"
   ]
  },
  {
   "cell_type": "markdown",
   "metadata": {},
   "source": [
    "\n",
    "Proof:\n",
    "$$\n",
    "a = Xw = XEw = XPP^{-1}w = (XP)P^{-1}w = (XP)w'\n",
    "$$\n",
    "$$\n",
    "w = (X^T X)^{-1} X^T y\n",
    "$$\n",
    "$$\n",
    "w' = ((XP)^T XP)^{-1} (XP)^T y\n",
    "$$\n",
    "$$\n",
    "w' = (P^T (X^T X) P)^{-1} (XP)^T y\n",
    "$$\n",
    "$$\n",
    "w' = (P^T (X^T X) P)^{-1} P^T X^T y\n",
    "$$\n",
    "$$\n",
    "w' = P^{-1} (X^T X)^{-1} (P^T)^{-1} P^T X^T y\n",
    "$$\n",
    "$$\n",
    "w' = P^{-1} (X^T X)^{-1} E X^T y\n",
    "$$\n",
    "$$\n",
    "w' = P^{-1}w\n",
    "$$\n"
   ]
  },
  {
   "cell_type": "markdown",
   "metadata": {},
   "source": [
    " "
   ]
  },
  {
   "cell_type": "markdown",
   "metadata": {},
   "source": [
    " "
   ]
  },
  {
   "cell_type": "markdown",
   "metadata": {},
   "source": [
    "**Question**\n",
    "\n",
    "Features to be multiplied on шnverse matrix. Will affect on the linear regression quality?\n",
    "\n",
    "a. Quality to be changed. Provide the example of such matrix.\n",
    "\n",
    "b. Quality will remain the same. Specify how does the features of linear regression in multiplied matrix and original are related."
   ]
  },
  {
   "cell_type": "markdown",
   "metadata": {},
   "source": [
    "**Answer on the question on example below:**"
   ]
  },
  {
   "cell_type": "code",
   "execution_count": 8,
   "metadata": {},
   "outputs": [
    {
     "name": "stdout",
     "output_type": "stream",
     "text": [
      "[[8 6 9 1]\n",
      " [4 1 9 2]\n",
      " [3 0 0 0]\n",
      " [3 6 9 9]]\n"
     ]
    }
   ],
   "source": [
    "# matrix generation\n",
    "matrix_generated = np.random.randint(10, size=(4, 4))\n",
    "  \n",
    "print(matrix_generated)"
   ]
  },
  {
   "cell_type": "code",
   "execution_count": 9,
   "metadata": {},
   "outputs": [
    {
     "data": {
      "text/plain": [
       "array([[ 2.77555756e-17,  2.77555756e-17,  3.33333333e-01,\n",
       "         3.46944695e-18],\n",
       "       [ 1.75000000e-01, -2.00000000e-01, -2.25000000e-01,\n",
       "         2.50000000e-02],\n",
       "       [ 8.33333333e-03,  1.33333333e-01, -1.69444444e-01,\n",
       "        -3.05555556e-02],\n",
       "       [-1.25000000e-01,  0.00000000e+00,  2.08333333e-01,\n",
       "         1.25000000e-01]])"
      ]
     },
     "execution_count": 9,
     "metadata": {},
     "output_type": "execute_result"
    }
   ],
   "source": [
    "# check does the generation matrix is invertable\n",
    "matrix_generated_inv = np.linalg.inv(matrix_generated)\n",
    "matrix_generated_inv    "
   ]
  },
  {
   "cell_type": "code",
   "execution_count": 10,
   "metadata": {},
   "outputs": [
    {
     "data": {
      "text/html": [
       "<div>\n",
       "<style scoped>\n",
       "    .dataframe tbody tr th:only-of-type {\n",
       "        vertical-align: middle;\n",
       "    }\n",
       "\n",
       "    .dataframe tbody tr th {\n",
       "        vertical-align: top;\n",
       "    }\n",
       "\n",
       "    .dataframe thead th {\n",
       "        text-align: right;\n",
       "    }\n",
       "</style>\n",
       "<table border=\"1\" class=\"dataframe\">\n",
       "  <thead>\n",
       "    <tr style=\"text-align: right;\">\n",
       "      <th></th>\n",
       "      <th>Пол</th>\n",
       "      <th>Возраст</th>\n",
       "      <th>Зарплата</th>\n",
       "      <th>Члены семьи</th>\n",
       "    </tr>\n",
       "  </thead>\n",
       "  <tbody>\n",
       "    <tr>\n",
       "      <th>0</th>\n",
       "      <td>1</td>\n",
       "      <td>41.0</td>\n",
       "      <td>49600.0</td>\n",
       "      <td>1</td>\n",
       "    </tr>\n",
       "    <tr>\n",
       "      <th>1</th>\n",
       "      <td>0</td>\n",
       "      <td>46.0</td>\n",
       "      <td>38000.0</td>\n",
       "      <td>1</td>\n",
       "    </tr>\n",
       "    <tr>\n",
       "      <th>2</th>\n",
       "      <td>0</td>\n",
       "      <td>29.0</td>\n",
       "      <td>21000.0</td>\n",
       "      <td>0</td>\n",
       "    </tr>\n",
       "    <tr>\n",
       "      <th>3</th>\n",
       "      <td>0</td>\n",
       "      <td>21.0</td>\n",
       "      <td>41700.0</td>\n",
       "      <td>2</td>\n",
       "    </tr>\n",
       "    <tr>\n",
       "      <th>4</th>\n",
       "      <td>1</td>\n",
       "      <td>28.0</td>\n",
       "      <td>26100.0</td>\n",
       "      <td>0</td>\n",
       "    </tr>\n",
       "    <tr>\n",
       "      <th>5</th>\n",
       "      <td>1</td>\n",
       "      <td>43.0</td>\n",
       "      <td>41000.0</td>\n",
       "      <td>2</td>\n",
       "    </tr>\n",
       "  </tbody>\n",
       "</table>\n",
       "</div>"
      ],
      "text/plain": [
       "   Пол  Возраст  Зарплата  Члены семьи\n",
       "0    1     41.0   49600.0            1\n",
       "1    0     46.0   38000.0            1\n",
       "2    0     29.0   21000.0            0\n",
       "3    0     21.0   41700.0            2\n",
       "4    1     28.0   26100.0            0\n",
       "5    1     43.0   41000.0            2"
      ]
     },
     "execution_count": 10,
     "metadata": {},
     "output_type": "execute_result"
    }
   ],
   "source": [
    "# Selection 5 rows of datset\n",
    "example_df = features.loc[:5,:]\n",
    "example_df"
   ]
  },
  {
   "cell_type": "code",
   "execution_count": 11,
   "metadata": {},
   "outputs": [
    {
     "data": {
      "text/plain": [
       "0    0\n",
       "1    1\n",
       "2    0\n",
       "3    0\n",
       "4    0\n",
       "5    1\n",
       "Name: Страховые выплаты, dtype: int64"
      ]
     },
     "execution_count": 11,
     "metadata": {},
     "output_type": "execute_result"
    }
   ],
   "source": [
    "# selection of 5 targets for these features\n",
    "example_target = target[:6]\n",
    "example_target"
   ]
  },
  {
   "cell_type": "code",
   "execution_count": 12,
   "metadata": {},
   "outputs": [
    {
     "name": "stdout",
     "output_type": "stream",
     "text": [
      "0.9406607877645261\n"
     ]
    }
   ],
   "source": [
    "# linear regression trainig and disply the score\n",
    "model = LinearRegression()\n",
    "model.fit(example_df, example_target)\n",
    "print(model.score(example_df, example_target))"
   ]
  },
  {
   "cell_type": "markdown",
   "metadata": {},
   "source": [
    "**Score of Linear regression on the sample data is 0.94**"
   ]
  },
  {
   "cell_type": "code",
   "execution_count": 13,
   "metadata": {},
   "outputs": [],
   "source": [
    "# multiply the features on generated matrix\n",
    "example_df_multiplied = example_df @ matrix_generated"
   ]
  },
  {
   "cell_type": "code",
   "execution_count": 14,
   "metadata": {},
   "outputs": [
    {
     "data": {
      "text/html": [
       "<div>\n",
       "<style scoped>\n",
       "    .dataframe tbody tr th:only-of-type {\n",
       "        vertical-align: middle;\n",
       "    }\n",
       "\n",
       "    .dataframe tbody tr th {\n",
       "        vertical-align: top;\n",
       "    }\n",
       "\n",
       "    .dataframe thead th {\n",
       "        text-align: right;\n",
       "    }\n",
       "</style>\n",
       "<table border=\"1\" class=\"dataframe\">\n",
       "  <thead>\n",
       "    <tr style=\"text-align: right;\">\n",
       "      <th></th>\n",
       "      <th>0</th>\n",
       "      <th>1</th>\n",
       "      <th>2</th>\n",
       "      <th>3</th>\n",
       "    </tr>\n",
       "  </thead>\n",
       "  <tbody>\n",
       "    <tr>\n",
       "      <th>0</th>\n",
       "      <td>148975.0</td>\n",
       "      <td>53.0</td>\n",
       "      <td>387.0</td>\n",
       "      <td>92.0</td>\n",
       "    </tr>\n",
       "    <tr>\n",
       "      <th>1</th>\n",
       "      <td>114187.0</td>\n",
       "      <td>52.0</td>\n",
       "      <td>423.0</td>\n",
       "      <td>101.0</td>\n",
       "    </tr>\n",
       "    <tr>\n",
       "      <th>2</th>\n",
       "      <td>63116.0</td>\n",
       "      <td>29.0</td>\n",
       "      <td>261.0</td>\n",
       "      <td>58.0</td>\n",
       "    </tr>\n",
       "    <tr>\n",
       "      <th>3</th>\n",
       "      <td>125190.0</td>\n",
       "      <td>33.0</td>\n",
       "      <td>207.0</td>\n",
       "      <td>60.0</td>\n",
       "    </tr>\n",
       "    <tr>\n",
       "      <th>4</th>\n",
       "      <td>78420.0</td>\n",
       "      <td>34.0</td>\n",
       "      <td>261.0</td>\n",
       "      <td>57.0</td>\n",
       "    </tr>\n",
       "    <tr>\n",
       "      <th>5</th>\n",
       "      <td>123186.0</td>\n",
       "      <td>61.0</td>\n",
       "      <td>414.0</td>\n",
       "      <td>105.0</td>\n",
       "    </tr>\n",
       "  </tbody>\n",
       "</table>\n",
       "</div>"
      ],
      "text/plain": [
       "          0     1      2      3\n",
       "0  148975.0  53.0  387.0   92.0\n",
       "1  114187.0  52.0  423.0  101.0\n",
       "2   63116.0  29.0  261.0   58.0\n",
       "3  125190.0  33.0  207.0   60.0\n",
       "4   78420.0  34.0  261.0   57.0\n",
       "5  123186.0  61.0  414.0  105.0"
      ]
     },
     "execution_count": 14,
     "metadata": {},
     "output_type": "execute_result"
    }
   ],
   "source": [
    "example_df_multiplied"
   ]
  },
  {
   "cell_type": "code",
   "execution_count": 15,
   "metadata": {},
   "outputs": [
    {
     "name": "stdout",
     "output_type": "stream",
     "text": [
      "0.940660787764526\n"
     ]
    }
   ],
   "source": [
    "# training of model on trasnformed data\n",
    "model_inv = LinearRegression()\n",
    "model_inv.fit(example_df_multiplied, example_target)\n",
    "print(model_inv.score(example_df_multiplied, example_target))"
   ]
  },
  {
   "cell_type": "markdown",
   "metadata": {},
   "source": [
    "**Score of Linear regression on the transformed data is 0.94**"
   ]
  },
  {
   "cell_type": "code",
   "execution_count": 16,
   "metadata": {},
   "outputs": [
    {
     "data": {
      "text/html": [
       "<div>\n",
       "<style scoped>\n",
       "    .dataframe tbody tr th:only-of-type {\n",
       "        vertical-align: middle;\n",
       "    }\n",
       "\n",
       "    .dataframe tbody tr th {\n",
       "        vertical-align: top;\n",
       "    }\n",
       "\n",
       "    .dataframe thead th {\n",
       "        text-align: right;\n",
       "    }\n",
       "</style>\n",
       "<table border=\"1\" class=\"dataframe\">\n",
       "  <thead>\n",
       "    <tr style=\"text-align: right;\">\n",
       "      <th></th>\n",
       "      <th>0</th>\n",
       "      <th>1</th>\n",
       "      <th>2</th>\n",
       "      <th>3</th>\n",
       "    </tr>\n",
       "  </thead>\n",
       "  <tbody>\n",
       "    <tr>\n",
       "      <th>0</th>\n",
       "      <td>1.0</td>\n",
       "      <td>41.0</td>\n",
       "      <td>49600.0</td>\n",
       "      <td>1.0</td>\n",
       "    </tr>\n",
       "    <tr>\n",
       "      <th>1</th>\n",
       "      <td>0.0</td>\n",
       "      <td>46.0</td>\n",
       "      <td>38000.0</td>\n",
       "      <td>1.0</td>\n",
       "    </tr>\n",
       "    <tr>\n",
       "      <th>2</th>\n",
       "      <td>0.0</td>\n",
       "      <td>29.0</td>\n",
       "      <td>21000.0</td>\n",
       "      <td>0.0</td>\n",
       "    </tr>\n",
       "    <tr>\n",
       "      <th>3</th>\n",
       "      <td>0.0</td>\n",
       "      <td>21.0</td>\n",
       "      <td>41700.0</td>\n",
       "      <td>2.0</td>\n",
       "    </tr>\n",
       "    <tr>\n",
       "      <th>4</th>\n",
       "      <td>1.0</td>\n",
       "      <td>28.0</td>\n",
       "      <td>26100.0</td>\n",
       "      <td>0.0</td>\n",
       "    </tr>\n",
       "    <tr>\n",
       "      <th>5</th>\n",
       "      <td>1.0</td>\n",
       "      <td>43.0</td>\n",
       "      <td>41000.0</td>\n",
       "      <td>2.0</td>\n",
       "    </tr>\n",
       "  </tbody>\n",
       "</table>\n",
       "</div>"
      ],
      "text/plain": [
       "     0     1        2    3\n",
       "0  1.0  41.0  49600.0  1.0\n",
       "1  0.0  46.0  38000.0  1.0\n",
       "2  0.0  29.0  21000.0  0.0\n",
       "3  0.0  21.0  41700.0  2.0\n",
       "4  1.0  28.0  26100.0  0.0\n",
       "5  1.0  43.0  41000.0  2.0"
      ]
     },
     "execution_count": 16,
     "metadata": {},
     "output_type": "execute_result"
    }
   ],
   "source": [
    "# check to possibility to get original data after transformation\n",
    "round(example_df_multiplied@matrix_generated_inv,0)\n"
   ]
  },
  {
   "cell_type": "markdown",
   "metadata": {},
   "source": [
    "**Answer:** Quality will remain the same.\n",
    "\n",
    "**Validation:**  Features of original and transformed matrixes are differnt only in the multiplication on the generated matrix.\n",
    "\n",
    "example of matrixes multiplication:\n",
    "\n",
    "    a b \n",
    "    c d\n",
    "    \n",
    "    и\n",
    "    \n",
    "    1 2\n",
    "    3 4\n",
    "        \n",
    "    Transformed matrix:\n",
    "    \n",
    "    a1+b3 a2+b4\n",
    "    c1+d3 c2+d4\n",
    "    "
   ]
  },
  {
   "cell_type": "markdown",
   "metadata": {},
   "source": [
    "<a name='section_4'></a>\n",
    "# Transformation algorithm"
   ]
  },
  {
   "cell_type": "markdown",
   "metadata": {},
   "source": [
    "**Algorithm**\n",
    "\n",
    "1) Generation of rendom matrix with length equal to features width.\n",
    "\n",
    "2) Test of generated matrix to be invertable. If matrix invertable - matrix is accepted, if not, the new matrix to be generated until the we will not get the invertable matrix.\n",
    "\n",
    "3) Features to be multiplied on generated matrix."
   ]
  },
  {
   "cell_type": "markdown",
   "metadata": {},
   "source": [
    "**Validation**\n",
    "\n",
    "After the multiplication of features on invertable matrix there is always an option to get the original data, multiplied the transformed feature on inverted generated matrix.\n",
    "\n",
    "The data in dataset to be protected, due to the fact that without generated matrix there will be no way get the original data. The reversed transformation is possible due to the fact that if generated matrix will be multiplied on inverted matrix we will get the unity matrix - E."
   ]
  },
  {
   "cell_type": "markdown",
   "metadata": {},
   "source": [
    "<a name=\"section_5\"></a>\n",
    "# Algorithm testing"
   ]
  },
  {
   "cell_type": "code",
   "execution_count": 17,
   "metadata": {},
   "outputs": [],
   "source": [
    "temp = 0\n",
    "while temp == 0:\n",
    "    try: \n",
    "        matrix_generated = np.random.randint(10, size=(4, 4))\n",
    "        matrix_generated_inv = np.linalg.inv(matrix_generated) \n",
    "        temp = matrix_generated_inv[0,0]\n",
    "    except:\n",
    "        pass"
   ]
  },
  {
   "cell_type": "markdown",
   "metadata": {},
   "source": [
    "**Prediction on transformed features**"
   ]
  },
  {
   "cell_type": "code",
   "execution_count": 18,
   "metadata": {},
   "outputs": [
    {
     "name": "stdout",
     "output_type": "stream",
     "text": [
      "0.42494550286668176\n"
     ]
    }
   ],
   "source": [
    "model_inv  = LinearRegression()\n",
    "model_inv.fit(features@matrix_generated, target)\n",
    "print(model_inv.score(features@matrix_generated, target))"
   ]
  },
  {
   "cell_type": "markdown",
   "metadata": {},
   "source": [
    "**Prediction  on original data**"
   ]
  },
  {
   "cell_type": "code",
   "execution_count": 19,
   "metadata": {},
   "outputs": [
    {
     "name": "stdout",
     "output_type": "stream",
     "text": [
      "0.42494550286668\n"
     ]
    }
   ],
   "source": [
    "model = LinearRegression()\n",
    "model.fit(features, target)\n",
    "print(model.score(features, target))"
   ]
  },
  {
   "cell_type": "code",
   "execution_count": 20,
   "metadata": {},
   "outputs": [
    {
     "name": "stdout",
     "output_type": "stream",
     "text": [
      "Models scores are equal!\n"
     ]
    }
   ],
   "source": [
    "if round(model_inv.score(features@matrix_generated, target),3) == round(model.score(features, target),3):\n",
    "    print('Models scores are equal!')\n",
    "else:\n",
    "    print('Models scores are different!')"
   ]
  },
  {
   "cell_type": "markdown",
   "metadata": {},
   "source": [
    "<a name = 'section_6'></a>\n",
    "# Conclusion"
   ]
  },
  {
   "cell_type": "markdown",
   "metadata": {},
   "source": [
    "- Data successfully imported, features and target selected. Target columns is'Страховые выплаты'.\n",
    "- The data protection algorithm developed - multiplication of features on ivertable matrix allow to protect the data.\n",
    "- The algorithm has positive result during testing - the quality of model are remain the same on the oroginal ans transformed data."
   ]
  }
 ],
 "metadata": {
  "ExecuteTimeLog": [
   {
    "duration": 409,
    "start_time": "2022-04-26T20:59:47.894Z"
   },
   {
    "duration": 68,
    "start_time": "2022-04-26T21:00:20.524Z"
   },
   {
    "duration": 20,
    "start_time": "2022-04-26T21:00:42.341Z"
   },
   {
    "duration": 16,
    "start_time": "2022-04-26T21:00:51.757Z"
   },
   {
    "duration": 32,
    "start_time": "2022-04-26T21:01:01.852Z"
   },
   {
    "duration": 14,
    "start_time": "2022-04-26T21:03:51.549Z"
   },
   {
    "duration": 7,
    "start_time": "2022-04-26T21:07:28.791Z"
   },
   {
    "duration": 3,
    "start_time": "2022-04-26T21:07:37.651Z"
   },
   {
    "duration": 4,
    "start_time": "2022-04-26T21:08:10.671Z"
   },
   {
    "duration": 12,
    "start_time": "2022-04-26T21:08:14.331Z"
   },
   {
    "duration": 7,
    "start_time": "2022-04-26T21:13:58.866Z"
   },
   {
    "duration": 4,
    "start_time": "2022-04-26T21:14:03.375Z"
   },
   {
    "duration": 125,
    "start_time": "2022-04-26T21:14:06.155Z"
   },
   {
    "duration": 5,
    "start_time": "2022-04-26T21:14:28.390Z"
   },
   {
    "duration": 8,
    "start_time": "2022-04-26T21:14:32.743Z"
   },
   {
    "duration": 10,
    "start_time": "2022-04-26T21:14:44.352Z"
   },
   {
    "duration": 7,
    "start_time": "2022-04-26T21:14:55.074Z"
   },
   {
    "duration": 134,
    "start_time": "2022-04-26T21:15:04.380Z"
   },
   {
    "duration": 118,
    "start_time": "2022-04-26T21:15:07.490Z"
   },
   {
    "duration": 5,
    "start_time": "2022-04-26T21:15:20.081Z"
   },
   {
    "duration": 4,
    "start_time": "2022-04-26T21:15:21.902Z"
   },
   {
    "duration": 4,
    "start_time": "2022-04-26T21:17:13.874Z"
   },
   {
    "duration": 16,
    "start_time": "2022-04-26T21:17:20.366Z"
   },
   {
    "duration": 8,
    "start_time": "2022-04-26T21:17:44.287Z"
   },
   {
    "duration": 10,
    "start_time": "2022-04-26T21:17:50.065Z"
   },
   {
    "duration": 377,
    "start_time": "2022-05-07T15:23:20.432Z"
   },
   {
    "duration": 18,
    "start_time": "2022-05-07T15:23:20.811Z"
   },
   {
    "duration": 15,
    "start_time": "2022-05-07T15:23:20.830Z"
   },
   {
    "duration": 30,
    "start_time": "2022-05-07T15:23:20.848Z"
   },
   {
    "duration": 10,
    "start_time": "2022-05-07T15:23:20.880Z"
   },
   {
    "duration": 4,
    "start_time": "2022-05-07T15:23:20.892Z"
   },
   {
    "duration": 10,
    "start_time": "2022-05-07T15:23:20.898Z"
   },
   {
    "duration": 10,
    "start_time": "2022-05-07T15:23:20.909Z"
   },
   {
    "duration": 53,
    "start_time": "2022-05-07T15:23:20.921Z"
   },
   {
    "duration": 4,
    "start_time": "2022-05-07T15:23:20.977Z"
   },
   {
    "duration": 92,
    "start_time": "2022-05-07T15:23:20.983Z"
   },
   {
    "duration": 15,
    "start_time": "2022-05-07T15:23:21.077Z"
   },
   {
    "duration": 4,
    "start_time": "2022-05-07T15:49:38.588Z"
   },
   {
    "duration": 186,
    "start_time": "2022-05-07T15:50:09.543Z"
   },
   {
    "duration": 716,
    "start_time": "2022-05-07T15:50:25.975Z"
   },
   {
    "duration": 12,
    "start_time": "2022-05-07T15:50:30.955Z"
   },
   {
    "duration": 6,
    "start_time": "2022-05-07T15:50:38.759Z"
   },
   {
    "duration": 4,
    "start_time": "2022-05-07T16:38:25.607Z"
   },
   {
    "duration": 10,
    "start_time": "2022-05-07T16:38:26.562Z"
   },
   {
    "duration": 5,
    "start_time": "2022-05-07T16:38:27.886Z"
   },
   {
    "duration": 4,
    "start_time": "2022-05-07T16:39:17.684Z"
   },
   {
    "duration": 8,
    "start_time": "2022-05-07T16:39:18.304Z"
   },
   {
    "duration": 5,
    "start_time": "2022-05-07T16:39:19.266Z"
   },
   {
    "duration": 6,
    "start_time": "2022-05-07T16:41:22.524Z"
   },
   {
    "duration": 41,
    "start_time": "2022-05-07T16:41:30.910Z"
   },
   {
    "duration": 3,
    "start_time": "2022-05-07T16:41:36.702Z"
   },
   {
    "duration": 4,
    "start_time": "2022-05-07T16:41:37.514Z"
   },
   {
    "duration": 4,
    "start_time": "2022-05-07T16:41:58.605Z"
   },
   {
    "duration": 4,
    "start_time": "2022-05-07T16:42:01.710Z"
   },
   {
    "duration": 4,
    "start_time": "2022-05-07T16:42:13.347Z"
   },
   {
    "duration": 8,
    "start_time": "2022-05-07T16:42:14.218Z"
   },
   {
    "duration": 5,
    "start_time": "2022-05-07T16:42:15.045Z"
   },
   {
    "duration": 2,
    "start_time": "2022-05-07T16:42:37.119Z"
   },
   {
    "duration": 4,
    "start_time": "2022-05-07T16:42:37.385Z"
   },
   {
    "duration": 4,
    "start_time": "2022-05-07T16:42:39.349Z"
   },
   {
    "duration": 8,
    "start_time": "2022-05-07T16:42:40.129Z"
   },
   {
    "duration": 5,
    "start_time": "2022-05-07T16:42:40.746Z"
   },
   {
    "duration": 4,
    "start_time": "2022-05-07T16:43:06.969Z"
   },
   {
    "duration": 8,
    "start_time": "2022-05-07T16:43:11.708Z"
   },
   {
    "duration": 81,
    "start_time": "2022-05-07T16:43:46.319Z"
   },
   {
    "duration": 6,
    "start_time": "2022-05-07T16:43:53.072Z"
   },
   {
    "duration": 5,
    "start_time": "2022-05-07T16:44:03.169Z"
   },
   {
    "duration": 98,
    "start_time": "2022-05-07T16:44:08.133Z"
   },
   {
    "duration": 6,
    "start_time": "2022-05-07T16:44:10.990Z"
   },
   {
    "duration": 8,
    "start_time": "2022-05-07T16:45:24.733Z"
   },
   {
    "duration": 4,
    "start_time": "2022-05-07T16:45:28.497Z"
   },
   {
    "duration": 8,
    "start_time": "2022-05-07T16:45:28.825Z"
   },
   {
    "duration": 598,
    "start_time": "2022-05-07T16:50:18.759Z"
   },
   {
    "duration": 76,
    "start_time": "2022-05-07T16:50:32.177Z"
   },
   {
    "duration": 72,
    "start_time": "2022-05-07T16:50:43.678Z"
   },
   {
    "duration": 649,
    "start_time": "2022-05-07T16:50:47.338Z"
   },
   {
    "duration": 613,
    "start_time": "2022-05-07T16:50:53.689Z"
   },
   {
    "duration": 9,
    "start_time": "2022-05-07T16:51:00.727Z"
   },
   {
    "duration": 3,
    "start_time": "2022-05-07T16:51:15.877Z"
   },
   {
    "duration": 8,
    "start_time": "2022-05-07T16:51:24.915Z"
   },
   {
    "duration": 4,
    "start_time": "2022-05-07T16:52:29.827Z"
   },
   {
    "duration": 9,
    "start_time": "2022-05-07T16:52:37.915Z"
   },
   {
    "duration": 4,
    "start_time": "2022-05-07T16:52:50.370Z"
   },
   {
    "duration": 9,
    "start_time": "2022-05-07T16:54:54.458Z"
   },
   {
    "duration": 5,
    "start_time": "2022-05-07T16:55:05.942Z"
   },
   {
    "duration": 9,
    "start_time": "2022-05-07T16:55:08.953Z"
   },
   {
    "duration": 4,
    "start_time": "2022-05-07T16:55:14.247Z"
   },
   {
    "duration": 8,
    "start_time": "2022-05-07T16:56:20.981Z"
   },
   {
    "duration": 6,
    "start_time": "2022-05-07T16:56:24.731Z"
   },
   {
    "duration": 337,
    "start_time": "2022-05-07T16:56:25.000Z"
   },
   {
    "duration": 4,
    "start_time": "2022-05-07T16:56:48.469Z"
   },
   {
    "duration": 10,
    "start_time": "2022-05-07T16:56:56.035Z"
   },
   {
    "duration": 8,
    "start_time": "2022-05-07T16:57:03.413Z"
   },
   {
    "duration": 13,
    "start_time": "2022-05-07T16:59:13.684Z"
   },
   {
    "duration": 3,
    "start_time": "2022-05-07T17:00:07.748Z"
   },
   {
    "duration": 8,
    "start_time": "2022-05-07T17:00:08.566Z"
   },
   {
    "duration": 4,
    "start_time": "2022-05-07T17:00:10.535Z"
   },
   {
    "duration": 375,
    "start_time": "2022-05-07T17:00:15.605Z"
   },
   {
    "duration": 4,
    "start_time": "2022-05-07T17:00:32.234Z"
   },
   {
    "duration": 4,
    "start_time": "2022-05-07T17:00:33.057Z"
   },
   {
    "duration": 3,
    "start_time": "2022-05-07T17:00:34.612Z"
   },
   {
    "duration": 9,
    "start_time": "2022-05-07T17:00:39.262Z"
   },
   {
    "duration": 3,
    "start_time": "2022-05-07T17:00:44.388Z"
   },
   {
    "duration": 4,
    "start_time": "2022-05-07T17:00:45.581Z"
   },
   {
    "duration": 3,
    "start_time": "2022-05-07T17:01:01.480Z"
   },
   {
    "duration": 9,
    "start_time": "2022-05-07T17:01:01.764Z"
   },
   {
    "duration": 5,
    "start_time": "2022-05-07T17:01:02.077Z"
   },
   {
    "duration": 5,
    "start_time": "2022-05-07T17:01:02.665Z"
   },
   {
    "duration": 9,
    "start_time": "2022-05-07T17:01:02.996Z"
   },
   {
    "duration": 3,
    "start_time": "2022-05-07T17:04:53.600Z"
   },
   {
    "duration": 12,
    "start_time": "2022-05-07T17:04:54.076Z"
   },
   {
    "duration": 5,
    "start_time": "2022-05-07T17:04:55.102Z"
   },
   {
    "duration": 5,
    "start_time": "2022-05-07T17:04:55.754Z"
   },
   {
    "duration": 8,
    "start_time": "2022-05-07T17:04:56.283Z"
   },
   {
    "duration": 4,
    "start_time": "2022-05-07T17:06:15.039Z"
   },
   {
    "duration": 11,
    "start_time": "2022-05-07T17:06:42.988Z"
   },
   {
    "duration": 6,
    "start_time": "2022-05-07T17:14:54.862Z"
   },
   {
    "duration": 4,
    "start_time": "2022-05-07T17:17:00.775Z"
   },
   {
    "duration": 6,
    "start_time": "2022-05-07T17:17:09.853Z"
   },
   {
    "duration": 6,
    "start_time": "2022-05-07T17:18:21.231Z"
   },
   {
    "duration": 1119,
    "start_time": "2022-05-07T17:19:33.767Z"
   },
   {
    "duration": 14,
    "start_time": "2022-05-07T17:19:34.889Z"
   },
   {
    "duration": 20,
    "start_time": "2022-05-07T17:19:34.906Z"
   },
   {
    "duration": 24,
    "start_time": "2022-05-07T17:19:34.928Z"
   },
   {
    "duration": 32,
    "start_time": "2022-05-07T17:19:34.953Z"
   },
   {
    "duration": 3,
    "start_time": "2022-05-07T17:19:34.988Z"
   },
   {
    "duration": 20,
    "start_time": "2022-05-07T17:19:34.994Z"
   },
   {
    "duration": 11,
    "start_time": "2022-05-07T17:19:35.016Z"
   },
   {
    "duration": 14,
    "start_time": "2022-05-07T17:19:35.029Z"
   },
   {
    "duration": 9,
    "start_time": "2022-05-07T17:19:35.045Z"
   },
   {
    "duration": 7,
    "start_time": "2022-05-07T17:19:35.075Z"
   },
   {
    "duration": 100,
    "start_time": "2022-05-07T17:19:35.084Z"
   },
   {
    "duration": 11,
    "start_time": "2022-05-07T17:19:35.186Z"
   },
   {
    "duration": 7,
    "start_time": "2022-05-07T17:19:35.199Z"
   },
   {
    "duration": 10,
    "start_time": "2022-05-07T17:19:35.274Z"
   },
   {
    "duration": 98,
    "start_time": "2022-05-07T17:19:35.287Z"
   },
   {
    "duration": 4,
    "start_time": "2022-05-07T17:22:30.276Z"
   },
   {
    "duration": 8,
    "start_time": "2022-05-07T17:22:30.521Z"
   },
   {
    "duration": 5,
    "start_time": "2022-05-07T17:23:41.535Z"
   },
   {
    "duration": 7,
    "start_time": "2022-05-07T17:24:09.837Z"
   },
   {
    "duration": 9,
    "start_time": "2022-05-07T17:24:12.897Z"
   },
   {
    "duration": 9,
    "start_time": "2022-05-07T17:25:01.381Z"
   },
   {
    "duration": 87,
    "start_time": "2022-05-07T17:27:22.221Z"
   },
   {
    "duration": 95,
    "start_time": "2022-05-07T17:27:28.267Z"
   },
   {
    "duration": 10,
    "start_time": "2022-05-07T17:28:01.835Z"
   },
   {
    "duration": 5,
    "start_time": "2022-05-07T17:28:05.432Z"
   },
   {
    "duration": 1115,
    "start_time": "2022-05-07T17:28:34.146Z"
   },
   {
    "duration": 18,
    "start_time": "2022-05-07T17:28:35.263Z"
   },
   {
    "duration": 16,
    "start_time": "2022-05-07T17:28:35.282Z"
   },
   {
    "duration": 23,
    "start_time": "2022-05-07T17:28:35.300Z"
   },
   {
    "duration": 12,
    "start_time": "2022-05-07T17:28:35.325Z"
   },
   {
    "duration": 5,
    "start_time": "2022-05-07T17:28:35.338Z"
   },
   {
    "duration": 6,
    "start_time": "2022-05-07T17:28:35.344Z"
   },
   {
    "duration": 3,
    "start_time": "2022-05-07T17:28:35.374Z"
   },
   {
    "duration": 17,
    "start_time": "2022-05-07T17:28:35.379Z"
   },
   {
    "duration": 6,
    "start_time": "2022-05-07T17:28:35.398Z"
   },
   {
    "duration": 66,
    "start_time": "2022-05-07T17:28:35.407Z"
   },
   {
    "duration": 97,
    "start_time": "2022-05-07T17:28:35.476Z"
   },
   {
    "duration": 9,
    "start_time": "2022-05-07T17:28:35.575Z"
   },
   {
    "duration": 11,
    "start_time": "2022-05-07T17:28:35.585Z"
   },
   {
    "duration": 77,
    "start_time": "2022-05-07T17:28:35.599Z"
   },
   {
    "duration": 108,
    "start_time": "2022-05-07T17:28:35.678Z"
   },
   {
    "duration": 189,
    "start_time": "2022-05-07T17:28:35.875Z"
   },
   {
    "duration": 0,
    "start_time": "2022-05-07T17:28:36.073Z"
   },
   {
    "duration": 5,
    "start_time": "2022-05-07T17:29:21.315Z"
   },
   {
    "duration": 100,
    "start_time": "2022-05-07T17:29:22.775Z"
   },
   {
    "duration": 5,
    "start_time": "2022-05-07T17:29:30.942Z"
   },
   {
    "duration": 9,
    "start_time": "2022-05-07T17:29:31.898Z"
   },
   {
    "duration": 12,
    "start_time": "2022-05-07T17:29:34.597Z"
   },
   {
    "duration": 4,
    "start_time": "2022-05-07T17:29:47.109Z"
   },
   {
    "duration": 9,
    "start_time": "2022-05-07T17:29:48.318Z"
   },
   {
    "duration": 12,
    "start_time": "2022-05-07T17:29:49.553Z"
   },
   {
    "duration": 5,
    "start_time": "2022-05-07T17:30:24.934Z"
   },
   {
    "duration": 9,
    "start_time": "2022-05-07T17:30:26.623Z"
   },
   {
    "duration": 13,
    "start_time": "2022-05-07T17:30:27.615Z"
   },
   {
    "duration": 5,
    "start_time": "2022-05-07T17:31:04.422Z"
   },
   {
    "duration": 10,
    "start_time": "2022-05-07T17:31:05.596Z"
   },
   {
    "duration": 13,
    "start_time": "2022-05-07T17:31:06.569Z"
   },
   {
    "duration": 9,
    "start_time": "2022-05-07T17:31:23.988Z"
   },
   {
    "duration": 6,
    "start_time": "2022-05-07T17:31:32.455Z"
   },
   {
    "duration": 14,
    "start_time": "2022-05-07T17:31:58.754Z"
   },
   {
    "duration": 7,
    "start_time": "2022-05-07T17:33:21.572Z"
   },
   {
    "duration": 4,
    "start_time": "2022-05-07T17:33:42.284Z"
   },
   {
    "duration": 5,
    "start_time": "2022-05-07T17:33:49.803Z"
   },
   {
    "duration": 17,
    "start_time": "2022-05-07T17:33:52.380Z"
   },
   {
    "duration": 5,
    "start_time": "2022-05-07T17:35:05.436Z"
   },
   {
    "duration": 7,
    "start_time": "2022-05-07T17:35:05.651Z"
   },
   {
    "duration": 10,
    "start_time": "2022-05-07T17:35:08.158Z"
   },
   {
    "duration": 5,
    "start_time": "2022-05-07T17:35:15.329Z"
   },
   {
    "duration": 4,
    "start_time": "2022-05-07T17:35:48.400Z"
   },
   {
    "duration": 25,
    "start_time": "2022-05-07T17:35:49.371Z"
   },
   {
    "duration": 3,
    "start_time": "2022-05-07T17:35:56.407Z"
   },
   {
    "duration": 18,
    "start_time": "2022-05-07T17:35:57.746Z"
   },
   {
    "duration": 13,
    "start_time": "2022-05-07T17:36:29.564Z"
   },
   {
    "duration": 7,
    "start_time": "2022-05-07T17:36:36.647Z"
   },
   {
    "duration": 4,
    "start_time": "2022-05-07T17:36:49.885Z"
   },
   {
    "duration": 14,
    "start_time": "2022-05-07T17:36:52.143Z"
   },
   {
    "duration": 4,
    "start_time": "2022-05-07T17:37:08.785Z"
   },
   {
    "duration": 7,
    "start_time": "2022-05-07T17:37:09.491Z"
   },
   {
    "duration": 15,
    "start_time": "2022-05-07T17:37:11.084Z"
   },
   {
    "duration": 18,
    "start_time": "2022-05-07T17:37:28.720Z"
   },
   {
    "duration": 6,
    "start_time": "2022-05-07T17:37:37.429Z"
   },
   {
    "duration": 7,
    "start_time": "2022-05-07T17:37:39.445Z"
   },
   {
    "duration": 7,
    "start_time": "2022-05-07T17:37:43.417Z"
   },
   {
    "duration": 4,
    "start_time": "2022-05-07T17:38:18.842Z"
   },
   {
    "duration": 4,
    "start_time": "2022-05-07T17:38:36.925Z"
   },
   {
    "duration": 12,
    "start_time": "2022-05-07T17:38:37.941Z"
   },
   {
    "duration": 6,
    "start_time": "2022-05-07T17:38:42.158Z"
   },
   {
    "duration": 4,
    "start_time": "2022-05-07T17:38:47.779Z"
   },
   {
    "duration": 9,
    "start_time": "2022-05-07T17:38:48.189Z"
   },
   {
    "duration": 6,
    "start_time": "2022-05-07T17:38:49.403Z"
   },
   {
    "duration": 4,
    "start_time": "2022-05-07T17:38:57.097Z"
   },
   {
    "duration": 6,
    "start_time": "2022-05-07T17:38:58.312Z"
   },
   {
    "duration": 8,
    "start_time": "2022-05-07T17:39:48.343Z"
   },
   {
    "duration": 6,
    "start_time": "2022-05-07T17:39:52.454Z"
   },
   {
    "duration": 7,
    "start_time": "2022-05-07T17:39:58.958Z"
   },
   {
    "duration": 4,
    "start_time": "2022-05-07T17:40:08.597Z"
   },
   {
    "duration": 10,
    "start_time": "2022-05-07T17:40:10.113Z"
   },
   {
    "duration": 4,
    "start_time": "2022-05-07T17:40:18.067Z"
   },
   {
    "duration": 8,
    "start_time": "2022-05-07T17:40:18.822Z"
   },
   {
    "duration": 4,
    "start_time": "2022-05-07T17:40:20.091Z"
   },
   {
    "duration": 6,
    "start_time": "2022-05-07T17:40:20.835Z"
   },
   {
    "duration": 6,
    "start_time": "2022-05-07T17:40:49.825Z"
   },
   {
    "duration": 6,
    "start_time": "2022-05-07T17:41:02.490Z"
   },
   {
    "duration": 1109,
    "start_time": "2022-05-07T17:41:41.953Z"
   },
   {
    "duration": 12,
    "start_time": "2022-05-07T17:41:43.065Z"
   },
   {
    "duration": 15,
    "start_time": "2022-05-07T17:41:43.079Z"
   },
   {
    "duration": 24,
    "start_time": "2022-05-07T17:41:43.096Z"
   },
   {
    "duration": 11,
    "start_time": "2022-05-07T17:41:43.121Z"
   },
   {
    "duration": 4,
    "start_time": "2022-05-07T17:41:43.134Z"
   },
   {
    "duration": 34,
    "start_time": "2022-05-07T17:41:43.140Z"
   },
   {
    "duration": 9,
    "start_time": "2022-05-07T17:41:43.176Z"
   },
   {
    "duration": 13,
    "start_time": "2022-05-07T17:41:43.187Z"
   },
   {
    "duration": 6,
    "start_time": "2022-05-07T17:41:43.203Z"
   },
   {
    "duration": 62,
    "start_time": "2022-05-07T17:41:43.212Z"
   },
   {
    "duration": 14,
    "start_time": "2022-05-07T17:41:43.276Z"
   },
   {
    "duration": 11,
    "start_time": "2022-05-07T17:41:43.372Z"
   },
   {
    "duration": 8,
    "start_time": "2022-05-07T17:41:43.385Z"
   },
   {
    "duration": 93,
    "start_time": "2022-05-07T17:41:43.395Z"
   },
   {
    "duration": 183,
    "start_time": "2022-05-07T17:41:43.490Z"
   },
   {
    "duration": 102,
    "start_time": "2022-05-07T17:41:43.676Z"
   },
   {
    "duration": 10,
    "start_time": "2022-05-07T17:41:43.779Z"
   },
   {
    "duration": 87,
    "start_time": "2022-05-07T17:41:43.791Z"
   },
   {
    "duration": 1084,
    "start_time": "2022-05-07T17:45:18.309Z"
   },
   {
    "duration": 12,
    "start_time": "2022-05-07T17:45:19.395Z"
   },
   {
    "duration": 17,
    "start_time": "2022-05-07T17:45:19.409Z"
   },
   {
    "duration": 23,
    "start_time": "2022-05-07T17:45:19.429Z"
   },
   {
    "duration": 29,
    "start_time": "2022-05-07T17:45:19.454Z"
   },
   {
    "duration": 3,
    "start_time": "2022-05-07T17:45:19.485Z"
   },
   {
    "duration": 6,
    "start_time": "2022-05-07T17:45:19.490Z"
   },
   {
    "duration": 5,
    "start_time": "2022-05-07T17:45:19.498Z"
   },
   {
    "duration": 10,
    "start_time": "2022-05-07T17:45:19.505Z"
   },
   {
    "duration": 6,
    "start_time": "2022-05-07T17:45:19.518Z"
   },
   {
    "duration": 51,
    "start_time": "2022-05-07T17:45:19.526Z"
   },
   {
    "duration": 94,
    "start_time": "2022-05-07T17:45:19.580Z"
   },
   {
    "duration": 11,
    "start_time": "2022-05-07T17:45:19.676Z"
   },
   {
    "duration": 9,
    "start_time": "2022-05-07T17:45:19.688Z"
   },
   {
    "duration": 74,
    "start_time": "2022-05-07T17:45:19.700Z"
   },
   {
    "duration": 106,
    "start_time": "2022-05-07T17:45:19.777Z"
   },
   {
    "duration": 90,
    "start_time": "2022-05-07T17:45:19.885Z"
   },
   {
    "duration": 15,
    "start_time": "2022-05-07T17:45:19.977Z"
   },
   {
    "duration": 174,
    "start_time": "2022-05-07T17:45:19.998Z"
   },
   {
    "duration": 74,
    "start_time": "2022-05-08T10:01:06.333Z"
   },
   {
    "duration": 1597,
    "start_time": "2022-05-08T10:01:20.542Z"
   },
   {
    "duration": 31,
    "start_time": "2022-05-08T10:01:22.142Z"
   },
   {
    "duration": 25,
    "start_time": "2022-05-08T10:01:22.175Z"
   },
   {
    "duration": 45,
    "start_time": "2022-05-08T10:01:22.204Z"
   },
   {
    "duration": 14,
    "start_time": "2022-05-08T10:01:22.251Z"
   },
   {
    "duration": 23,
    "start_time": "2022-05-08T10:01:22.267Z"
   },
   {
    "duration": 30,
    "start_time": "2022-05-08T10:01:22.293Z"
   },
   {
    "duration": 20,
    "start_time": "2022-05-08T10:01:22.326Z"
   },
   {
    "duration": 30,
    "start_time": "2022-05-08T10:01:22.348Z"
   },
   {
    "duration": 25,
    "start_time": "2022-05-08T10:01:22.382Z"
   },
   {
    "duration": 11,
    "start_time": "2022-05-08T10:01:22.411Z"
   },
   {
    "duration": 8,
    "start_time": "2022-05-08T10:01:22.492Z"
   },
   {
    "duration": 99,
    "start_time": "2022-05-08T10:01:22.503Z"
   },
   {
    "duration": 14,
    "start_time": "2022-05-08T10:01:22.609Z"
   },
   {
    "duration": 11,
    "start_time": "2022-05-08T10:01:22.626Z"
   },
   {
    "duration": 12,
    "start_time": "2022-05-08T10:01:22.639Z"
   },
   {
    "duration": 10,
    "start_time": "2022-05-08T10:01:22.694Z"
   },
   {
    "duration": 112,
    "start_time": "2022-05-08T10:01:22.707Z"
   },
   {
    "duration": 117,
    "start_time": "2022-05-08T10:01:22.894Z"
   },
   {
    "duration": 29,
    "start_time": "2022-05-08T10:01:23.014Z"
   },
   {
    "duration": 57,
    "start_time": "2022-05-08T10:01:23.046Z"
   },
   {
    "duration": 437,
    "start_time": "2022-05-08T10:02:29.886Z"
   },
   {
    "duration": 8,
    "start_time": "2022-05-08T10:02:39.544Z"
   },
   {
    "duration": 6,
    "start_time": "2022-05-08T10:02:43.337Z"
   },
   {
    "duration": 3,
    "start_time": "2022-05-08T10:03:58.443Z"
   },
   {
    "duration": 10,
    "start_time": "2022-05-08T10:03:58.832Z"
   },
   {
    "duration": 5,
    "start_time": "2022-05-08T10:04:07.121Z"
   },
   {
    "duration": 6,
    "start_time": "2022-05-08T10:04:08.416Z"
   },
   {
    "duration": 6,
    "start_time": "2022-05-08T10:04:14.007Z"
   },
   {
    "duration": 20,
    "start_time": "2022-05-08T10:04:15.307Z"
   },
   {
    "duration": 5,
    "start_time": "2022-05-08T14:41:51.898Z"
   },
   {
    "duration": 13,
    "start_time": "2022-05-08T14:41:52.235Z"
   },
   {
    "duration": 4,
    "start_time": "2022-05-08T14:41:52.755Z"
   },
   {
    "duration": 6,
    "start_time": "2022-05-08T14:41:53.236Z"
   },
   {
    "duration": 5,
    "start_time": "2022-05-08T14:41:54.295Z"
   },
   {
    "duration": 13,
    "start_time": "2022-05-08T14:41:54.924Z"
   },
   {
    "duration": 14,
    "start_time": "2022-05-08T14:41:55.567Z"
   },
   {
    "duration": 3,
    "start_time": "2022-05-08T14:54:23.713Z"
   },
   {
    "duration": 11,
    "start_time": "2022-05-08T14:54:24.471Z"
   },
   {
    "duration": 6,
    "start_time": "2022-05-08T14:54:38.448Z"
   },
   {
    "duration": 6,
    "start_time": "2022-05-08T14:54:39.301Z"
   },
   {
    "duration": 736,
    "start_time": "2022-05-08T14:54:42.975Z"
   },
   {
    "duration": 7,
    "start_time": "2022-05-08T14:54:47.428Z"
   },
   {
    "duration": 20,
    "start_time": "2022-05-08T14:54:51.422Z"
   },
   {
    "duration": 49,
    "start_time": "2022-05-08T14:57:31.968Z"
   },
   {
    "duration": 1516,
    "start_time": "2022-05-08T14:58:59.210Z"
   },
   {
    "duration": 5,
    "start_time": "2022-05-08T14:59:04.904Z"
   },
   {
    "duration": 34,
    "start_time": "2022-05-08T14:59:41.022Z"
   },
   {
    "duration": 3,
    "start_time": "2022-05-08T14:59:57.900Z"
   },
   {
    "duration": 20,
    "start_time": "2022-05-08T15:00:04.809Z"
   },
   {
    "duration": 27,
    "start_time": "2022-05-08T15:01:24.677Z"
   },
   {
    "duration": 5,
    "start_time": "2022-05-08T15:01:33.711Z"
   },
   {
    "duration": 5,
    "start_time": "2022-05-08T15:01:34.304Z"
   },
   {
    "duration": 17,
    "start_time": "2022-05-08T15:01:34.740Z"
   },
   {
    "duration": 22,
    "start_time": "2022-05-08T15:01:35.234Z"
   },
   {
    "duration": 16,
    "start_time": "2022-05-08T15:01:35.788Z"
   },
   {
    "duration": 8,
    "start_time": "2022-05-08T15:01:36.160Z"
   },
   {
    "duration": 8,
    "start_time": "2022-05-08T15:01:36.724Z"
   },
   {
    "duration": 13,
    "start_time": "2022-05-08T15:01:37.185Z"
   },
   {
    "duration": 21,
    "start_time": "2022-05-08T15:01:37.831Z"
   },
   {
    "duration": 11,
    "start_time": "2022-05-08T15:03:22.456Z"
   },
   {
    "duration": 13,
    "start_time": "2022-05-08T15:03:28.549Z"
   },
   {
    "duration": 20,
    "start_time": "2022-05-08T15:03:47.236Z"
   },
   {
    "duration": 15,
    "start_time": "2022-05-08T15:04:10.304Z"
   },
   {
    "duration": 7,
    "start_time": "2022-05-08T15:04:11.738Z"
   },
   {
    "duration": 26,
    "start_time": "2022-05-08T15:04:19.624Z"
   },
   {
    "duration": 13,
    "start_time": "2022-05-08T15:04:33.523Z"
   },
   {
    "duration": 13,
    "start_time": "2022-05-08T15:04:33.540Z"
   },
   {
    "duration": 12,
    "start_time": "2022-05-08T15:04:33.949Z"
   },
   {
    "duration": 10,
    "start_time": "2022-05-08T15:04:36.356Z"
   },
   {
    "duration": 6,
    "start_time": "2022-05-08T15:04:36.761Z"
   },
   {
    "duration": 6,
    "start_time": "2022-05-08T15:04:37.935Z"
   },
   {
    "duration": 14,
    "start_time": "2022-05-08T15:04:38.445Z"
   },
   {
    "duration": 11,
    "start_time": "2022-05-08T15:04:40.178Z"
   },
   {
    "duration": 4,
    "start_time": "2022-05-08T15:07:02.097Z"
   },
   {
    "duration": 7,
    "start_time": "2022-05-08T15:07:11.972Z"
   },
   {
    "duration": 181,
    "start_time": "2022-05-08T15:07:41.190Z"
   },
   {
    "duration": 6,
    "start_time": "2022-05-08T15:07:57.985Z"
   },
   {
    "duration": 193,
    "start_time": "2022-05-08T15:08:00.040Z"
   },
   {
    "duration": 6,
    "start_time": "2022-05-08T15:08:07.676Z"
   },
   {
    "duration": 210,
    "start_time": "2022-05-08T15:08:08.024Z"
   },
   {
    "duration": 6,
    "start_time": "2022-05-08T15:09:37.060Z"
   },
   {
    "duration": 189,
    "start_time": "2022-05-08T15:09:38.373Z"
   },
   {
    "duration": 8,
    "start_time": "2022-05-08T15:09:49.895Z"
   },
   {
    "duration": 6,
    "start_time": "2022-05-08T15:10:27.355Z"
   },
   {
    "duration": 7,
    "start_time": "2022-05-08T15:11:36.505Z"
   },
   {
    "duration": 8,
    "start_time": "2022-05-08T15:11:46.730Z"
   },
   {
    "duration": 6,
    "start_time": "2022-05-08T15:13:22.812Z"
   },
   {
    "duration": 204,
    "start_time": "2022-05-08T15:13:23.132Z"
   },
   {
    "duration": 7,
    "start_time": "2022-05-08T15:13:44.640Z"
   },
   {
    "duration": 4,
    "start_time": "2022-05-08T15:13:44.965Z"
   },
   {
    "duration": 7,
    "start_time": "2022-05-08T15:13:48.375Z"
   },
   {
    "duration": 6,
    "start_time": "2022-05-08T15:13:55.590Z"
   },
   {
    "duration": 5,
    "start_time": "2022-05-08T15:14:10.354Z"
   },
   {
    "duration": 11,
    "start_time": "2022-05-08T15:14:30.001Z"
   },
   {
    "duration": 7,
    "start_time": "2022-05-08T15:14:33.341Z"
   },
   {
    "duration": 6,
    "start_time": "2022-05-08T15:14:39.227Z"
   },
   {
    "duration": 6,
    "start_time": "2022-05-08T15:14:43.162Z"
   },
   {
    "duration": 6,
    "start_time": "2022-05-08T15:14:52.421Z"
   },
   {
    "duration": 3,
    "start_time": "2022-05-08T15:17:07.536Z"
   },
   {
    "duration": 6,
    "start_time": "2022-05-08T15:17:07.968Z"
   },
   {
    "duration": 5,
    "start_time": "2022-05-08T15:17:14.774Z"
   },
   {
    "duration": 7,
    "start_time": "2022-05-08T15:17:35.909Z"
   },
   {
    "duration": 4,
    "start_time": "2022-05-08T15:17:37.465Z"
   },
   {
    "duration": 28,
    "start_time": "2022-05-08T15:17:38.511Z"
   },
   {
    "duration": 12,
    "start_time": "2022-05-08T15:17:39.258Z"
   },
   {
    "duration": 5,
    "start_time": "2022-05-08T15:17:45.562Z"
   },
   {
    "duration": 6,
    "start_time": "2022-05-08T15:17:55.406Z"
   },
   {
    "duration": 4,
    "start_time": "2022-05-08T15:17:55.692Z"
   },
   {
    "duration": 6,
    "start_time": "2022-05-08T15:17:56.290Z"
   },
   {
    "duration": 7,
    "start_time": "2022-05-08T15:17:57.110Z"
   },
   {
    "duration": 6,
    "start_time": "2022-05-08T15:18:00.367Z"
   },
   {
    "duration": 5,
    "start_time": "2022-05-08T15:18:03.023Z"
   },
   {
    "duration": 6,
    "start_time": "2022-05-08T15:18:04.272Z"
   },
   {
    "duration": 7,
    "start_time": "2022-05-08T15:18:04.602Z"
   },
   {
    "duration": 230,
    "start_time": "2022-05-08T15:24:19.161Z"
   },
   {
    "duration": 6,
    "start_time": "2022-05-08T15:33:32.441Z"
   },
   {
    "duration": 4,
    "start_time": "2022-05-08T15:33:47.086Z"
   },
   {
    "duration": 4,
    "start_time": "2022-05-08T15:33:58.707Z"
   },
   {
    "duration": 6,
    "start_time": "2022-05-08T15:34:12.749Z"
   },
   {
    "duration": 4,
    "start_time": "2022-05-08T15:34:26.543Z"
   },
   {
    "duration": 10,
    "start_time": "2022-05-08T15:34:34.453Z"
   },
   {
    "duration": 7,
    "start_time": "2022-05-08T15:34:42.892Z"
   },
   {
    "duration": 11,
    "start_time": "2022-05-08T15:35:02.954Z"
   },
   {
    "duration": 2623,
    "start_time": "2022-05-08T15:35:11.043Z"
   },
   {
    "duration": 18,
    "start_time": "2022-05-08T15:35:19.905Z"
   },
   {
    "duration": 14,
    "start_time": "2022-05-08T15:35:54.123Z"
   },
   {
    "duration": 18,
    "start_time": "2022-05-08T15:36:02.174Z"
   },
   {
    "duration": 17,
    "start_time": "2022-05-08T15:36:34.790Z"
   },
   {
    "duration": 24,
    "start_time": "2022-05-08T15:36:41.413Z"
   },
   {
    "duration": 6,
    "start_time": "2022-05-08T15:36:56.020Z"
   },
   {
    "duration": 7,
    "start_time": "2022-05-08T15:36:56.735Z"
   },
   {
    "duration": 8,
    "start_time": "2022-05-08T15:36:57.277Z"
   },
   {
    "duration": 15,
    "start_time": "2022-05-08T15:36:57.888Z"
   },
   {
    "duration": 14,
    "start_time": "2022-05-08T15:36:59.555Z"
   },
   {
    "duration": 193,
    "start_time": "2022-05-08T15:37:35.910Z"
   },
   {
    "duration": 21,
    "start_time": "2022-05-08T15:37:40.243Z"
   },
   {
    "duration": 13,
    "start_time": "2022-05-08T15:40:44.014Z"
   },
   {
    "duration": 7,
    "start_time": "2022-05-08T15:40:59.621Z"
   },
   {
    "duration": 5,
    "start_time": "2022-05-08T15:43:08.138Z"
   },
   {
    "duration": 9,
    "start_time": "2022-05-08T15:43:09.023Z"
   },
   {
    "duration": 13,
    "start_time": "2022-05-08T15:44:05.069Z"
   },
   {
    "duration": 15,
    "start_time": "2022-05-08T15:44:05.976Z"
   },
   {
    "duration": 21,
    "start_time": "2022-05-08T15:44:20.987Z"
   },
   {
    "duration": 18,
    "start_time": "2022-05-08T15:44:27.393Z"
   },
   {
    "duration": 8,
    "start_time": "2022-05-08T15:44:29.923Z"
   },
   {
    "duration": 8,
    "start_time": "2022-05-08T15:44:34.303Z"
   },
   {
    "duration": 30,
    "start_time": "2022-05-08T15:44:34.874Z"
   },
   {
    "duration": 8,
    "start_time": "2022-05-08T15:44:39.132Z"
   },
   {
    "duration": 14,
    "start_time": "2022-05-08T15:44:39.527Z"
   },
   {
    "duration": 4,
    "start_time": "2022-05-08T15:44:55.608Z"
   },
   {
    "duration": 16,
    "start_time": "2022-05-08T15:45:00.554Z"
   },
   {
    "duration": 1701,
    "start_time": "2022-05-08T15:45:25.924Z"
   },
   {
    "duration": 32,
    "start_time": "2022-05-08T15:45:27.627Z"
   },
   {
    "duration": 22,
    "start_time": "2022-05-08T15:45:27.661Z"
   },
   {
    "duration": 35,
    "start_time": "2022-05-08T15:45:27.686Z"
   },
   {
    "duration": 16,
    "start_time": "2022-05-08T15:45:27.723Z"
   },
   {
    "duration": 5,
    "start_time": "2022-05-08T15:45:27.742Z"
   },
   {
    "duration": 9,
    "start_time": "2022-05-08T15:45:27.749Z"
   },
   {
    "duration": 5,
    "start_time": "2022-05-08T15:45:30.596Z"
   },
   {
    "duration": 8,
    "start_time": "2022-05-08T15:45:31.030Z"
   },
   {
    "duration": 16,
    "start_time": "2022-05-08T15:45:31.342Z"
   },
   {
    "duration": 8,
    "start_time": "2022-05-08T15:45:31.620Z"
   },
   {
    "duration": 10,
    "start_time": "2022-05-08T15:45:31.924Z"
   },
   {
    "duration": 5,
    "start_time": "2022-05-08T15:45:32.312Z"
   },
   {
    "duration": 12,
    "start_time": "2022-05-08T15:45:33.373Z"
   },
   {
    "duration": 272,
    "start_time": "2022-05-08T15:45:35.905Z"
   },
   {
    "duration": 29,
    "start_time": "2022-05-08T15:46:21.644Z"
   },
   {
    "duration": 25,
    "start_time": "2022-05-08T15:47:20.908Z"
   },
   {
    "duration": 11,
    "start_time": "2022-05-08T15:48:05.561Z"
   },
   {
    "duration": 19,
    "start_time": "2022-05-08T15:50:15.783Z"
   },
   {
    "duration": 16,
    "start_time": "2022-05-08T15:50:17.373Z"
   },
   {
    "duration": 161,
    "start_time": "2022-05-08T17:45:42.917Z"
   },
   {
    "duration": 787,
    "start_time": "2022-05-08T18:29:19.492Z"
   },
   {
    "duration": 13,
    "start_time": "2022-05-08T18:29:26.448Z"
   },
   {
    "duration": 1731,
    "start_time": "2022-05-08T18:29:32.698Z"
   },
   {
    "duration": 5,
    "start_time": "2022-05-08T18:29:38.520Z"
   },
   {
    "duration": 684,
    "start_time": "2022-05-08T18:29:39.416Z"
   },
   {
    "duration": 66,
    "start_time": "2022-05-08T18:30:35.051Z"
   },
   {
    "duration": 140,
    "start_time": "2022-05-08T18:30:59.581Z"
   },
   {
    "duration": 14,
    "start_time": "2022-05-08T18:31:04.475Z"
   },
   {
    "duration": 14,
    "start_time": "2022-05-08T18:31:05.448Z"
   },
   {
    "duration": 13,
    "start_time": "2022-05-08T18:31:09.987Z"
   },
   {
    "duration": 13,
    "start_time": "2022-05-08T18:31:10.755Z"
   },
   {
    "duration": 1853,
    "start_time": "2022-05-08T18:39:49.302Z"
   },
   {
    "duration": 21,
    "start_time": "2022-05-08T18:39:51.158Z"
   },
   {
    "duration": 42,
    "start_time": "2022-05-08T18:39:51.189Z"
   },
   {
    "duration": 41,
    "start_time": "2022-05-08T18:39:51.235Z"
   },
   {
    "duration": 24,
    "start_time": "2022-05-08T18:39:51.279Z"
   },
   {
    "duration": 3,
    "start_time": "2022-05-08T18:39:51.417Z"
   },
   {
    "duration": 6,
    "start_time": "2022-05-08T18:39:51.643Z"
   },
   {
    "duration": 7,
    "start_time": "2022-05-08T18:40:29.654Z"
   },
   {
    "duration": 11,
    "start_time": "2022-05-08T18:40:30.773Z"
   },
   {
    "duration": 12,
    "start_time": "2022-05-08T18:40:33.523Z"
   },
   {
    "duration": 868,
    "start_time": "2022-05-08T18:40:39.257Z"
   },
   {
    "duration": 1633,
    "start_time": "2022-05-08T20:17:03.861Z"
   },
   {
    "duration": 15,
    "start_time": "2022-05-08T20:17:05.497Z"
   },
   {
    "duration": 24,
    "start_time": "2022-05-08T20:17:05.514Z"
   },
   {
    "duration": 59,
    "start_time": "2022-05-08T20:17:05.542Z"
   },
   {
    "duration": 25,
    "start_time": "2022-05-08T20:17:05.604Z"
   },
   {
    "duration": 6,
    "start_time": "2022-05-08T20:17:05.695Z"
   },
   {
    "duration": 7,
    "start_time": "2022-05-08T20:17:06.325Z"
   },
   {
    "duration": 5,
    "start_time": "2022-05-08T20:17:20.193Z"
   },
   {
    "duration": 7,
    "start_time": "2022-05-08T20:17:20.961Z"
   },
   {
    "duration": 13,
    "start_time": "2022-05-08T20:17:21.714Z"
   },
   {
    "duration": 731,
    "start_time": "2022-05-08T20:17:22.415Z"
   },
   {
    "duration": 7,
    "start_time": "2022-05-08T20:17:26.008Z"
   },
   {
    "duration": 12,
    "start_time": "2022-05-08T20:17:36.360Z"
   },
   {
    "duration": 4,
    "start_time": "2022-05-08T20:17:38.379Z"
   },
   {
    "duration": 19,
    "start_time": "2022-05-08T20:17:39.696Z"
   },
   {
    "duration": 108,
    "start_time": "2022-05-08T20:17:40.694Z"
   },
   {
    "duration": 70,
    "start_time": "2022-05-08T20:18:07.615Z"
   },
   {
    "duration": 70,
    "start_time": "2022-05-08T20:18:21.131Z"
   },
   {
    "duration": 10,
    "start_time": "2022-05-08T20:21:05.300Z"
   },
   {
    "duration": 15,
    "start_time": "2022-05-08T20:21:05.623Z"
   },
   {
    "duration": 16,
    "start_time": "2022-05-08T20:21:06.560Z"
   },
   {
    "duration": 146,
    "start_time": "2022-05-08T20:43:06.082Z"
   },
   {
    "duration": 400,
    "start_time": "2022-05-08T20:43:11.884Z"
   },
   {
    "duration": 21,
    "start_time": "2022-05-08T20:43:33.514Z"
   },
   {
    "duration": 15,
    "start_time": "2022-05-08T20:43:47.384Z"
   },
   {
    "duration": 11,
    "start_time": "2022-05-08T20:44:16.097Z"
   },
   {
    "duration": 5,
    "start_time": "2022-05-08T20:44:27.935Z"
   },
   {
    "duration": 5,
    "start_time": "2022-05-08T20:44:34.397Z"
   },
   {
    "duration": 5,
    "start_time": "2022-05-08T20:44:36.022Z"
   },
   {
    "duration": 5,
    "start_time": "2022-05-08T20:44:44.587Z"
   },
   {
    "duration": 5,
    "start_time": "2022-05-08T20:44:46.823Z"
   },
   {
    "duration": 13,
    "start_time": "2022-05-08T20:44:49.826Z"
   },
   {
    "duration": 14,
    "start_time": "2022-05-08T20:44:52.229Z"
   },
   {
    "duration": 16,
    "start_time": "2022-05-08T20:45:38.007Z"
   },
   {
    "duration": 15,
    "start_time": "2022-05-08T20:47:17.210Z"
   },
   {
    "duration": 43,
    "start_time": "2022-05-08T20:47:24.163Z"
   },
   {
    "duration": 16,
    "start_time": "2022-05-08T20:48:06.408Z"
   },
   {
    "duration": 18,
    "start_time": "2022-05-08T20:48:14.601Z"
   },
   {
    "duration": 16,
    "start_time": "2022-05-08T20:48:41.129Z"
   },
   {
    "duration": 149,
    "start_time": "2022-05-08T20:49:02.755Z"
   },
   {
    "duration": 16,
    "start_time": "2022-05-08T20:49:10.821Z"
   },
   {
    "duration": 16,
    "start_time": "2022-05-08T20:49:19.673Z"
   },
   {
    "duration": 7,
    "start_time": "2022-05-08T21:01:01.528Z"
   },
   {
    "duration": 14,
    "start_time": "2022-05-08T21:01:05.366Z"
   },
   {
    "duration": 12,
    "start_time": "2022-05-08T21:01:06.395Z"
   },
   {
    "duration": 16,
    "start_time": "2022-05-08T21:01:09.827Z"
   },
   {
    "duration": 13,
    "start_time": "2022-05-08T21:01:46.746Z"
   },
   {
    "duration": 49,
    "start_time": "2022-05-08T21:02:07.517Z"
   },
   {
    "duration": 16,
    "start_time": "2022-05-08T21:02:23.355Z"
   },
   {
    "duration": 3,
    "start_time": "2022-05-08T21:02:47.393Z"
   },
   {
    "duration": 6,
    "start_time": "2022-05-08T21:03:06.637Z"
   },
   {
    "duration": 6,
    "start_time": "2022-05-08T21:05:54.017Z"
   },
   {
    "duration": 7,
    "start_time": "2022-05-08T21:06:11.444Z"
   },
   {
    "duration": 17,
    "start_time": "2022-05-08T21:06:52.917Z"
   },
   {
    "duration": 7,
    "start_time": "2022-05-08T21:07:28.509Z"
   },
   {
    "duration": 16,
    "start_time": "2022-05-08T21:07:48.999Z"
   },
   {
    "duration": 5,
    "start_time": "2022-05-08T21:08:09.638Z"
   },
   {
    "duration": 11,
    "start_time": "2022-05-08T21:08:35.164Z"
   },
   {
    "duration": 17,
    "start_time": "2022-05-08T21:09:22.622Z"
   },
   {
    "duration": 15,
    "start_time": "2022-05-08T21:09:41.563Z"
   },
   {
    "duration": 115,
    "start_time": "2022-05-08T21:09:50.691Z"
   },
   {
    "duration": 1604,
    "start_time": "2022-05-08T21:13:46.460Z"
   },
   {
    "duration": 15,
    "start_time": "2022-05-08T21:13:48.067Z"
   },
   {
    "duration": 23,
    "start_time": "2022-05-08T21:13:48.085Z"
   },
   {
    "duration": 35,
    "start_time": "2022-05-08T21:13:48.112Z"
   },
   {
    "duration": 45,
    "start_time": "2022-05-08T21:13:48.150Z"
   },
   {
    "duration": 8,
    "start_time": "2022-05-08T21:13:48.198Z"
   },
   {
    "duration": 9,
    "start_time": "2022-05-08T21:13:48.208Z"
   },
   {
    "duration": 9,
    "start_time": "2022-05-08T21:13:48.219Z"
   },
   {
    "duration": 58,
    "start_time": "2022-05-08T21:13:48.230Z"
   },
   {
    "duration": 90,
    "start_time": "2022-05-08T21:13:48.293Z"
   },
   {
    "duration": 10,
    "start_time": "2022-05-08T21:13:48.386Z"
   },
   {
    "duration": 15,
    "start_time": "2022-05-08T21:13:48.398Z"
   },
   {
    "duration": 8,
    "start_time": "2022-05-08T21:13:48.415Z"
   },
   {
    "duration": 15,
    "start_time": "2022-05-08T21:13:48.425Z"
   },
   {
    "duration": 50,
    "start_time": "2022-05-08T21:13:48.442Z"
   },
   {
    "duration": 157,
    "start_time": "2022-05-08T21:13:48.494Z"
   },
   {
    "duration": 0,
    "start_time": "2022-05-08T21:13:48.653Z"
   },
   {
    "duration": 0,
    "start_time": "2022-05-08T21:13:48.655Z"
   },
   {
    "duration": 0,
    "start_time": "2022-05-08T21:13:48.656Z"
   },
   {
    "duration": 0,
    "start_time": "2022-05-08T21:13:48.658Z"
   },
   {
    "duration": 16,
    "start_time": "2022-05-08T21:14:28.425Z"
   },
   {
    "duration": 1641,
    "start_time": "2022-05-08T21:14:52.949Z"
   },
   {
    "duration": 15,
    "start_time": "2022-05-08T21:14:54.593Z"
   },
   {
    "duration": 23,
    "start_time": "2022-05-08T21:14:54.610Z"
   },
   {
    "duration": 53,
    "start_time": "2022-05-08T21:14:54.636Z"
   },
   {
    "duration": 16,
    "start_time": "2022-05-08T21:14:54.691Z"
   },
   {
    "duration": 6,
    "start_time": "2022-05-08T21:14:54.709Z"
   },
   {
    "duration": 6,
    "start_time": "2022-05-08T21:14:54.719Z"
   },
   {
    "duration": 6,
    "start_time": "2022-05-08T21:14:54.728Z"
   },
   {
    "duration": 57,
    "start_time": "2022-05-08T21:14:54.737Z"
   },
   {
    "duration": 94,
    "start_time": "2022-05-08T21:14:54.800Z"
   },
   {
    "duration": 11,
    "start_time": "2022-05-08T21:14:54.898Z"
   },
   {
    "duration": 77,
    "start_time": "2022-05-08T21:14:54.912Z"
   },
   {
    "duration": 10,
    "start_time": "2022-05-08T21:14:54.991Z"
   },
   {
    "duration": 20,
    "start_time": "2022-05-08T21:14:55.004Z"
   },
   {
    "duration": 13,
    "start_time": "2022-05-08T21:14:55.026Z"
   },
   {
    "duration": 41,
    "start_time": "2022-05-08T21:14:55.042Z"
   },
   {
    "duration": 5,
    "start_time": "2022-05-08T21:14:55.086Z"
   },
   {
    "duration": 99,
    "start_time": "2022-05-08T21:14:55.094Z"
   },
   {
    "duration": 185,
    "start_time": "2022-05-08T21:14:55.196Z"
   },
   {
    "duration": 113,
    "start_time": "2022-05-08T21:14:55.386Z"
   },
   {
    "duration": 1482,
    "start_time": "2022-05-08T21:26:36.428Z"
   },
   {
    "duration": 20,
    "start_time": "2022-05-08T21:26:37.913Z"
   },
   {
    "duration": 23,
    "start_time": "2022-05-08T21:26:37.935Z"
   },
   {
    "duration": 45,
    "start_time": "2022-05-08T21:26:37.961Z"
   },
   {
    "duration": 14,
    "start_time": "2022-05-08T21:26:38.008Z"
   },
   {
    "duration": 3,
    "start_time": "2022-05-08T21:26:38.025Z"
   },
   {
    "duration": 9,
    "start_time": "2022-05-08T21:26:38.030Z"
   },
   {
    "duration": 6,
    "start_time": "2022-05-08T21:26:38.042Z"
   },
   {
    "duration": 36,
    "start_time": "2022-05-08T21:26:38.050Z"
   },
   {
    "duration": 94,
    "start_time": "2022-05-08T21:26:38.090Z"
   },
   {
    "duration": 17,
    "start_time": "2022-05-08T21:26:38.187Z"
   },
   {
    "duration": 13,
    "start_time": "2022-05-08T21:26:38.282Z"
   },
   {
    "duration": 5,
    "start_time": "2022-05-08T21:26:38.297Z"
   },
   {
    "duration": 17,
    "start_time": "2022-05-08T21:26:38.304Z"
   },
   {
    "duration": 17,
    "start_time": "2022-05-08T21:26:38.323Z"
   },
   {
    "duration": 51,
    "start_time": "2022-05-08T21:26:38.342Z"
   },
   {
    "duration": 7,
    "start_time": "2022-05-08T21:26:38.395Z"
   },
   {
    "duration": 178,
    "start_time": "2022-05-08T21:26:38.404Z"
   },
   {
    "duration": 99,
    "start_time": "2022-05-08T21:26:38.588Z"
   },
   {
    "duration": 110,
    "start_time": "2022-05-08T21:26:38.781Z"
   },
   {
    "duration": 123,
    "start_time": "2022-05-09T07:12:26.900Z"
   }
  ],
  "kernelspec": {
   "display_name": "Python 3 (ipykernel)",
   "language": "python",
   "name": "python3"
  },
  "language_info": {
   "codemirror_mode": {
    "name": "ipython",
    "version": 3
   },
   "file_extension": ".py",
   "mimetype": "text/x-python",
   "name": "python",
   "nbconvert_exporter": "python",
   "pygments_lexer": "ipython3",
   "version": "3.10.4"
  },
  "toc": {
   "base_numbering": 1,
   "nav_menu": {},
   "number_sections": true,
   "sideBar": true,
   "skip_h1_title": true,
   "title_cell": "Содержание",
   "title_sidebar": "Contents",
   "toc_cell": true,
   "toc_position": {},
   "toc_section_display": true,
   "toc_window_display": true
  }
 },
 "nbformat": 4,
 "nbformat_minor": 2
}
